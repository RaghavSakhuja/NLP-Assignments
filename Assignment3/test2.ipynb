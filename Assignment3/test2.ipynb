{
 "cells": [
  {
   "cell_type": "code",
   "execution_count": 1,
   "metadata": {},
   "outputs": [
    {
     "name": "stderr",
     "output_type": "stream",
     "text": [
      "d:\\nlp\\torchenv\\lib\\site-packages\\tqdm\\auto.py:21: TqdmWarning: IProgress not found. Please update jupyter and ipywidgets. See https://ipywidgets.readthedocs.io/en/stable/user_install.html\n",
      "  from .autonotebook import tqdm as notebook_tqdm\n",
      "d:\\nlp\\torchenv\\lib\\site-packages\\huggingface_hub\\file_download.py:149: UserWarning: `huggingface_hub` cache-system uses symlinks by default to efficiently store duplicated files but your machine does not support them in C:\\Users\\gupta\\.cache\\huggingface\\hub\\models--sentence-transformers--paraphrase-MiniLM-L6-v2. Caching files will still work but in a degraded version that might require more space on your disk. This warning can be disabled by setting the `HF_HUB_DISABLE_SYMLINKS_WARNING` environment variable. For more details, see https://huggingface.co/docs/huggingface_hub/how-to-cache#limitations.\n",
      "To support symlinks on Windows, you either need to activate Developer Mode or to run Python as an administrator. In order to see activate developer mode, see this article: https://docs.microsoft.com/en-us/windows/apps/get-started/enable-your-device-for-development\n",
      "  warnings.warn(message)\n"
     ]
    },
    {
     "ename": "TypeError",
     "evalue": "Sequential.forward() got an unexpected keyword argument 'sentences'",
     "output_type": "error",
     "traceback": [
      "\u001b[1;31m---------------------------------------------------------------------------\u001b[0m",
      "\u001b[1;31mTypeError\u001b[0m                                 Traceback (most recent call last)",
      "Cell \u001b[1;32mIn[1], line 31\u001b[0m\n\u001b[0;32m     29\u001b[0m         sentences, labels \u001b[38;5;241m=\u001b[39m batch\n\u001b[0;32m     30\u001b[0m         sentence_embeddings \u001b[38;5;241m=\u001b[39m model\u001b[38;5;241m.\u001b[39mencode(sentences)\n\u001b[1;32m---> 31\u001b[0m         output \u001b[38;5;241m=\u001b[39m \u001b[43mmodel\u001b[49m\u001b[38;5;241;43m.\u001b[39;49m\u001b[43mforward\u001b[49m\u001b[43m(\u001b[49m\u001b[43msentences\u001b[49m\u001b[38;5;241;43m=\u001b[39;49m\u001b[43msentences\u001b[49m\u001b[43m,\u001b[49m\u001b[43m \u001b[49m\u001b[43mfeatures\u001b[49m\u001b[38;5;241;43m=\u001b[39;49m\u001b[43msentence_embeddings\u001b[49m\u001b[43m,\u001b[49m\u001b[43m \u001b[49m\u001b[43mlabels\u001b[49m\u001b[38;5;241;43m=\u001b[39;49m\u001b[43mlabels\u001b[49m\u001b[43m)\u001b[49m\n\u001b[0;32m     32\u001b[0m         validation_loss \u001b[38;5;241m+\u001b[39m\u001b[38;5;241m=\u001b[39m output\u001b[38;5;241m.\u001b[39mloss\u001b[38;5;241m.\u001b[39mitem()\n\u001b[0;32m     34\u001b[0m \u001b[38;5;66;03m# Average validation loss\u001b[39;00m\n",
      "\u001b[1;31mTypeError\u001b[0m: Sequential.forward() got an unexpected keyword argument 'sentences'"
     ]
    }
   ],
   "source": [
    "import torch\n",
    "from torch.utils.data import DataLoader\n",
    "from sentence_transformers import SentenceTransformer, SentencesDataset, losses\n",
    "\n",
    "# Dummy validation dataset\n",
    "validation_sentences = [\n",
    "    \"This is a sample sentence.\",\n",
    "    \"Another sample sentence for validation.\"\n",
    "]\n",
    "validation_labels = [0, 1]  # Example labels for the sentences\n",
    "\n",
    "# Create a DataLoader for the validation set\n",
    "validation_dataset = SentencesDataset(validation_sentences, validation_labels)\n",
    "validation_dataloader = DataLoader(validation_dataset, shuffle=False, batch_size=2)  # Batch size of 2 for simplicity\n",
    "\n",
    "# Load SentenceTransformer model\n",
    "model = SentenceTransformer('paraphrase-MiniLM-L6-v2')  # Example model\n",
    "\n",
    "# Define loss function (e.g., softmax loss)\n",
    "loss_function = losses.SoftmaxLoss(model=model, sentence_embedding_dimension=model.get_sentence_embedding_dimension(), num_labels=2)\n",
    "\n",
    "# Put the model in evaluation mode\n",
    "model.eval()\n",
    "\n",
    "# Calculate validation loss\n",
    "validation_loss = 0.0\n",
    "with torch.no_grad():\n",
    "    for batch in validation_dataloader:\n",
    "        sentences, labels = batch\n",
    "        sentence_embeddings = model.encode(sentences)\n",
    "        output = model.forward(sentences=sentences, features=sentence_embeddings, labels=labels)\n",
    "        validation_loss += output.loss.item()\n",
    "\n",
    "# Average validation loss\n",
    "average_validation_loss = validation_loss / len(validation_dataloader)\n",
    "print(\"Validation Loss:\", average_validation_loss)\n"
   ]
  }
 ],
 "metadata": {
  "kernelspec": {
   "display_name": "Python 3",
   "language": "python",
   "name": "python3"
  },
  "language_info": {
   "codemirror_mode": {
    "name": "ipython",
    "version": 3
   },
   "file_extension": ".py",
   "mimetype": "text/x-python",
   "name": "python",
   "nbconvert_exporter": "python",
   "pygments_lexer": "ipython3",
   "version": "3.10.13"
  }
 },
 "nbformat": 4,
 "nbformat_minor": 2
}
