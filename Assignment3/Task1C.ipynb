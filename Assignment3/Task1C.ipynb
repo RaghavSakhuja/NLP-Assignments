{
 "cells": [
  {
   "cell_type": "code",
   "execution_count": 1,
   "metadata": {},
   "outputs": [
    {
     "name": "stderr",
     "output_type": "stream",
     "text": [
      "d:\\nlp\\torchenv\\lib\\site-packages\\tqdm\\auto.py:21: TqdmWarning: IProgress not found. Please update jupyter and ipywidgets. See https://ipywidgets.readthedocs.io/en/stable/user_install.html\n",
      "  from .autonotebook import tqdm as notebook_tqdm\n"
     ]
    }
   ],
   "source": [
    "import os\n",
    "import csv\n",
    "import math\n",
    "import scipy\n",
    "import torch\n",
    "import logging\n",
    "import pandas as pd\n",
    "from tqdm import tqdm\n",
    "from datetime import datetime\n",
    "from scipy.stats import pearsonr\n",
    "from matplotlib import pyplot as plt\n",
    "from torch.utils.data import DataLoader, Dataset\n",
    "from sentence_transformers.evaluation import EmbeddingSimilarityEvaluator\n",
    "from transformers import AutoTokenizer, AutoModelForSequenceClassification, AutoModel\n",
    "from sentence_transformers import SentenceTransformer, LoggingHandler, losses, util, InputExample\n"
   ]
  },
  {
   "cell_type": "code",
   "execution_count": 2,
   "metadata": {},
   "outputs": [
    {
     "name": "stdout",
     "output_type": "stream",
     "text": [
      "Using GPU: NVIDIA GeForce RTX 3050 Ti Laptop GPU\n"
     ]
    }
   ],
   "source": [
    "\n",
    "device=\"\"\n",
    "if torch.cuda.is_available():\n",
    "    device = torch.device(\"cuda\")\n",
    "    logging.info(f'Using GPU: {torch.cuda.get_device_name()}')\n",
    "    print(f'Using GPU: {torch.cuda.get_device_name()}')\n",
    "else:\n",
    "    device = torch.device(\"cpu\")\n",
    "    logging.info('Using CPU')\n",
    "    print('Using CPU')\n"
   ]
  },
  {
   "cell_type": "code",
   "execution_count": 3,
   "metadata": {},
   "outputs": [],
   "source": [
    "\n",
    "PATH=\"data/Task1/\"\n"
   ]
  },
  {
   "cell_type": "code",
   "execution_count": 4,
   "metadata": {},
   "outputs": [
    {
     "data": {
      "text/plain": [
       "<torch._C.Generator at 0x167fdf1d070>"
      ]
     },
     "execution_count": 4,
     "metadata": {},
     "output_type": "execute_result"
    }
   ],
   "source": [
    "torch.manual_seed(80085)"
   ]
  },
  {
   "cell_type": "code",
   "execution_count": 5,
   "metadata": {},
   "outputs": [
    {
     "name": "stdout",
     "output_type": "stream",
     "text": [
      "{'input_ids': [101, 1996, 4937, 2003, 2006, 1996, 13523, 1012, 102, 1996, 4937, 2003, 2006, 1996, 10135, 1012, 102, 0, 0, 0, 0, 0, 0, 0, 0, 0, 0, 0, 0, 0, 0, 0, 0, 0, 0, 0, 0, 0, 0, 0, 0, 0, 0, 0, 0, 0, 0, 0, 0, 0, 0, 0, 0, 0, 0, 0, 0, 0, 0, 0, 0, 0, 0, 0, 0, 0, 0, 0, 0, 0, 0, 0, 0, 0, 0, 0, 0, 0, 0, 0, 0, 0, 0, 0, 0, 0, 0, 0, 0, 0, 0, 0, 0, 0, 0, 0, 0, 0, 0, 0, 0, 0, 0, 0, 0, 0, 0, 0, 0, 0, 0, 0, 0, 0, 0, 0, 0, 0, 0, 0, 0, 0, 0, 0, 0, 0, 0, 0], 'token_type_ids': [0, 0, 0, 0, 0, 0, 0, 0, 0, 1, 1, 1, 1, 1, 1, 1, 1, 0, 0, 0, 0, 0, 0, 0, 0, 0, 0, 0, 0, 0, 0, 0, 0, 0, 0, 0, 0, 0, 0, 0, 0, 0, 0, 0, 0, 0, 0, 0, 0, 0, 0, 0, 0, 0, 0, 0, 0, 0, 0, 0, 0, 0, 0, 0, 0, 0, 0, 0, 0, 0, 0, 0, 0, 0, 0, 0, 0, 0, 0, 0, 0, 0, 0, 0, 0, 0, 0, 0, 0, 0, 0, 0, 0, 0, 0, 0, 0, 0, 0, 0, 0, 0, 0, 0, 0, 0, 0, 0, 0, 0, 0, 0, 0, 0, 0, 0, 0, 0, 0, 0, 0, 0, 0, 0, 0, 0, 0, 0], 'attention_mask': [1, 1, 1, 1, 1, 1, 1, 1, 1, 1, 1, 1, 1, 1, 1, 1, 1, 0, 0, 0, 0, 0, 0, 0, 0, 0, 0, 0, 0, 0, 0, 0, 0, 0, 0, 0, 0, 0, 0, 0, 0, 0, 0, 0, 0, 0, 0, 0, 0, 0, 0, 0, 0, 0, 0, 0, 0, 0, 0, 0, 0, 0, 0, 0, 0, 0, 0, 0, 0, 0, 0, 0, 0, 0, 0, 0, 0, 0, 0, 0, 0, 0, 0, 0, 0, 0, 0, 0, 0, 0, 0, 0, 0, 0, 0, 0, 0, 0, 0, 0, 0, 0, 0, 0, 0, 0, 0, 0, 0, 0, 0, 0, 0, 0, 0, 0, 0, 0, 0, 0, 0, 0, 0, 0, 0, 0, 0, 0]}\n"
     ]
    }
   ],
   "source": [
    "model_name = \"sentence-transformers/all-MiniLM-L6-v2\"\n",
    "train_batch_size = 8\n",
    "max_seq_length = 128\n",
    "num_epochs = 4\n",
    "\n",
    "tokenizer = AutoTokenizer.from_pretrained(model_name)\n",
    "model = SentenceTransformer(model_name)\n",
    "model.to(device)\n",
    "\n",
    "text1=\"The cat is on the mat.\"\n",
    "text2=\"The cat is on the carpet.\"\n",
    "print(tokenizer(text1, text2, truncation=True, padding='max_length', max_length=128))"
   ]
  },
  {
   "cell_type": "code",
   "execution_count": 6,
   "metadata": {},
   "outputs": [],
   "source": [
    "\n",
    "class TSDataset(Dataset):\n",
    "    def __init__(self, file_path):\n",
    "        data = []\n",
    "        with open(file_path, encoding=\"utf8\") as f:\n",
    "            reader = csv.DictReader(f, delimiter=\"\\t\")\n",
    "            for row in reader:\n",
    "                data.append({\"sentence1\": row[\"sentence1\"], \"sentence2\": row[\"sentence2\"], \"score\": float(row[\"score\"])/5})\n",
    "                # data.append(InputExample(texts=[row[\"sentence1\"], row[\"sentence2\"]], label=float(row[\"score\"])/5))\n",
    "\n",
    "        self.samples = data\n",
    "\n",
    "    def __len__(self):\n",
    "        return len(self.samples)\n",
    "\n",
    "    def __getitem__(self, idx):\n",
    "        sample = self.samples[idx]\n",
    "        return sample\n"
   ]
  },
  {
   "cell_type": "code",
   "execution_count": 7,
   "metadata": {},
   "outputs": [
    {
     "name": "stdout",
     "output_type": "stream",
     "text": [
      "3\n",
      "8\n",
      "8\n",
      "8\n"
     ]
    }
   ],
   "source": [
    "train_dataset = TSDataset(f\"{PATH}train.csv\")\n",
    "train_dataloader = DataLoader(train_dataset, shuffle=True, batch_size=train_batch_size)\n",
    "for x in train_dataloader:\n",
    "    print(len(x))\n",
    "    print(len(x[\"sentence1\"]))\n",
    "    print(len(x[\"sentence2\"]))\n",
    "    print(len(x[\"score\"]))\n",
    "    InputExample(texts=[x[\"sentence1\"], x[\"sentence2\"]], label=x[\"score\"])\n",
    "    break\n"
   ]
  },
  {
   "cell_type": "code",
   "execution_count": 8,
   "metadata": {},
   "outputs": [],
   "source": [
    "dev_dataset = TSDataset(f\"{PATH}dev.csv\")\n",
    "val_dataloader = DataLoader(dev_dataset, shuffle=True, batch_size=train_batch_size)"
   ]
  },
  {
   "cell_type": "code",
   "execution_count": 9,
   "metadata": {},
   "outputs": [],
   "source": [
    "model_save_path = (\n",
    "    \"output/training-\" + model_name \n",
    ")\n",
    "loss_fn = losses.CosineSimilarityLoss(model=model)\n",
    "optimizer = torch.optim.Adam(model.parameters(), lr=0.0025)\n"
   ]
  },
  {
   "cell_type": "code",
   "execution_count": 10,
   "metadata": {},
   "outputs": [
    {
     "data": {
      "text/plain": [
       "'output/training-sentence-transformers/all-MiniLM-L6-v2'"
      ]
     },
     "execution_count": 10,
     "metadata": {},
     "output_type": "execute_result"
    }
   ],
   "source": [
    "model_save_path"
   ]
  },
  {
   "cell_type": "code",
   "execution_count": 11,
   "metadata": {},
   "outputs": [],
   "source": [
    "cos_score_transformation=torch.nn.Identity()\n",
    "loss_fct=torch.nn.MSELoss()"
   ]
  },
  {
   "cell_type": "code",
   "execution_count": 12,
   "metadata": {},
   "outputs": [
    {
     "name": "stderr",
     "output_type": "stream",
     "text": [
      "Epoch 1/6:   0%|          | 0/714 [00:00<?, ?batch/s]"
     ]
    },
    {
     "name": "stderr",
     "output_type": "stream",
     "text": [
      "Epoch 1/6: 100%|██████████| 714/714 [01:08<00:00, 10.36batch/s]\n",
      "Epoch 1/6: 100%|██████████| 184/184 [00:04<00:00, 40.31batch/s]\n"
     ]
    },
    {
     "name": "stdout",
     "output_type": "stream",
     "text": [
      "Epoch 1/6, Train Loss: 0.14352668248148276, Val Loss: 0.37222953796710656\n"
     ]
    },
    {
     "name": "stderr",
     "output_type": "stream",
     "text": [
      "Epoch 2/6: 100%|██████████| 714/714 [00:52<00:00, 13.59batch/s]\n",
      "Epoch 2/6: 100%|██████████| 184/184 [00:04<00:00, 37.80batch/s]\n"
     ]
    },
    {
     "name": "stdout",
     "output_type": "stream",
     "text": [
      "Epoch 2/6, Train Loss: 0.08937236397587159, Val Loss: 0.37225319307459437\n"
     ]
    },
    {
     "name": "stderr",
     "output_type": "stream",
     "text": [
      "Epoch 3/6: 100%|██████████| 714/714 [00:53<00:00, 13.32batch/s]\n",
      "Epoch 3/6: 100%|██████████| 184/184 [00:04<00:00, 40.31batch/s]\n"
     ]
    },
    {
     "name": "stdout",
     "output_type": "stream",
     "text": [
      "Epoch 3/6, Train Loss: 0.08809389914216406, Val Loss: 0.37280079228398594\n"
     ]
    },
    {
     "name": "stderr",
     "output_type": "stream",
     "text": [
      "Epoch 4/6: 100%|██████████| 714/714 [00:54<00:00, 12.99batch/s]\n",
      "Epoch 4/6: 100%|██████████| 184/184 [00:04<00:00, 37.53batch/s]\n"
     ]
    },
    {
     "name": "stdout",
     "output_type": "stream",
     "text": [
      "Epoch 4/6, Train Loss: 0.08876041369773552, Val Loss: 0.3721577966504771\n"
     ]
    },
    {
     "name": "stderr",
     "output_type": "stream",
     "text": [
      "Epoch 5/6: 100%|██████████| 714/714 [00:54<00:00, 13.00batch/s]\n",
      "Epoch 5/6: 100%|██████████| 184/184 [00:05<00:00, 36.00batch/s]\n"
     ]
    },
    {
     "name": "stdout",
     "output_type": "stream",
     "text": [
      "Epoch 5/6, Train Loss: 0.0874291716667847, Val Loss: 0.37215237594816997\n"
     ]
    },
    {
     "name": "stderr",
     "output_type": "stream",
     "text": [
      "Epoch 6/6: 100%|██████████| 714/714 [00:56<00:00, 12.63batch/s]\n",
      "Epoch 6/6: 100%|██████████| 184/184 [00:04<00:00, 37.74batch/s]\n"
     ]
    },
    {
     "name": "stdout",
     "output_type": "stream",
     "text": [
      "Epoch 6/6, Train Loss: 0.08826777924253952, Val Loss: 0.37245200647284155\n"
     ]
    }
   ],
   "source": [
    "epochs = 6\n",
    "train_losses = []\n",
    "val_losses = []\n",
    "\n",
    "for epoch in range(epochs):\n",
    "    # Train\n",
    "    model.train()\n",
    "    epoch_train_losses = []\n",
    "    with tqdm(train_dataloader, desc=f'Epoch {epoch + 1}/{epochs}', unit='batch') as tqdm_loader:\n",
    "        for batch in tqdm_loader:\n",
    "            text1=batch[\"sentence1\"]\n",
    "            text2=batch[\"sentence2\"]\n",
    "            labels=batch[\"score\"].to(device)\n",
    "            labels=labels.float()\n",
    "            # encode_sentence_set_1 = model.encode(text1)\n",
    "            # encode_sentence_set_2 = model.encode(text2)\n",
    "            encoded_text1 = tokenizer(text1, padding=True, truncation=True, return_tensors='pt')\n",
    "            encoded_text2 = tokenizer(text2, padding=True, truncation=True, return_tensors='pt')\n",
    "            encoded_text1 = {k: v.to(device) for k, v in encoded_text1.items()}\n",
    "            encoded_text2 = {k: v.to(device) for k, v in encoded_text2.items()}\n",
    "\n",
    "            sentence_features = [\n",
    "                {\"input_ids\": encoded_text1[\"input_ids\"], \"attention_mask\": encoded_text1[\"attention_mask\"]},\n",
    "                {\"input_ids\": encoded_text2[\"input_ids\"], \"attention_mask\": encoded_text2[\"attention_mask\"]}\n",
    "            ]\n",
    "            sentence_features_float = [{k: v.float() for k, v in sf.items()} for sf in sentence_features]\n",
    "            labels_float = labels.float()\n",
    "            \n",
    "            optimizer.zero_grad()\n",
    "            embeddings=[model(sentence_feature)[\"sentence_embedding\"] for sentence_feature in sentence_features]\n",
    "            output = cos_score_transformation(torch.cosine_similarity(embeddings[0], embeddings[1]))\n",
    "            \n",
    "\n",
    "            loss=loss_fct(output, labels)\n",
    "            # loss = loss_fn(sentence_features, labels)\n",
    "            loss = loss.float()\n",
    "\n",
    "\n",
    "            \n",
    "\n",
    "            loss.backward()\n",
    "            optimizer.step()\n",
    "            epoch_train_losses.append(loss.item())\n",
    "    train_loss = sum(epoch_train_losses) / len(epoch_train_losses)\n",
    "    train_losses.append(train_loss)\n",
    "\n",
    "    # Evaluate\n",
    "    model.eval()\n",
    "    epoch_val_losses = []\n",
    "    with tqdm(val_dataloader, desc=f'Epoch {epoch + 1}/{epochs}', unit='batch') as tqdm_loader:\n",
    "        for batch in tqdm_loader:\n",
    "            with torch.no_grad():\n",
    "                text1=batch[\"sentence1\"]\n",
    "                text2=batch[\"sentence2\"]\n",
    "                labels=batch[\"score\"].to(device)\n",
    "                labels=labels.float()\n",
    "                # encode_sentence_set_1 = model.encode(text1)\n",
    "                # encode_sentence_set_2 = model.encode(text2)\n",
    "                encoded_text1 = tokenizer(text1, padding=True, truncation=True, return_tensors='pt')\n",
    "                encoded_text2 = tokenizer(text2, padding=True, truncation=True, return_tensors='pt')\n",
    "                encoded_text1 = {k: v.to(device) for k, v in encoded_text1.items()}\n",
    "                encoded_text2 = {k: v.to(device) for k, v in encoded_text2.items()}\n",
    "\n",
    "                sentence_features = [\n",
    "                    {\"input_ids\": encoded_text1[\"input_ids\"], \"attention_mask\": encoded_text1[\"attention_mask\"]},\n",
    "                    {\"input_ids\": encoded_text2[\"input_ids\"], \"attention_mask\": encoded_text2[\"attention_mask\"]}\n",
    "                ]\n",
    "                sentence_features_float = [{k: v.float() for k, v in sf.items()} for sf in sentence_features]\n",
    "                labels_float = labels.float()\n",
    "\n",
    "                embeddings=[model(sentence_feature)[\"sentence_embedding\"] for sentence_feature in sentence_features]\n",
    "                output = cos_score_transformation(torch.cosine_similarity(embeddings[0], embeddings[1]))\n",
    "                \n",
    "                loss=loss_fct(output, labels)\n",
    "                # loss = loss_fn(sentence_features, labels)\n",
    "                loss = loss.float()\n",
    "\n",
    "                epoch_val_losses.append(loss.item())\n",
    "    \n",
    "    val_loss = sum(epoch_val_losses) / len(epoch_val_losses)\n",
    "    val_losses.append(val_loss)\n",
    "\n",
    "    print(f\"Epoch {epoch + 1}/{epochs}, Train Loss: {train_loss}, Val Loss: {val_loss}\")\n",
    "\n",
    "    torch.save(model.state_dict(), model_save_path + f\"-{epoch + 1}.pth\")\n",
    "\n",
    "        \n"
   ]
  },
  {
   "cell_type": "code",
   "execution_count": 13,
   "metadata": {},
   "outputs": [],
   "source": [
    "torch.save(model.state_dict(), model_save_path + \"-final.pth\")"
   ]
  },
  {
   "cell_type": "code",
   "execution_count": 14,
   "metadata": {},
   "outputs": [
    {
     "data": {
      "text/plain": [
       "([0.14352668248148276,\n",
       "  0.08937236397587159,\n",
       "  0.08809389914216406,\n",
       "  0.08876041369773552,\n",
       "  0.0874291716667847,\n",
       "  0.08826777924253952],\n",
       " [0.37222953796710656,\n",
       "  0.37225319307459437,\n",
       "  0.37280079228398594,\n",
       "  0.3721577966504771,\n",
       "  0.37215237594816997,\n",
       "  0.37245200647284155])"
      ]
     },
     "execution_count": 14,
     "metadata": {},
     "output_type": "execute_result"
    }
   ],
   "source": [
    "train_losses, val_losses"
   ]
  },
  {
   "cell_type": "code",
   "execution_count": 15,
   "metadata": {},
   "outputs": [
    {
     "data": {
      "image/png": "[encoded data removed]",
      "text/plain": [
       "<Figure size 640x480 with 1 Axes>"
      ]
     },
     "metadata": {},
     "output_type": "display_data"
    }
   ],
   "source": [
    "\n",
    "\n",
    "plt.plot(train_losses, label='Train Loss')\n",
    "plt.plot(val_losses, label='Val Loss')\n",
    "plt.xlabel('Epoch')\n",
    "plt.ylabel('Loss')\n",
    "plt.title('Training and Validation Loss 1C')\n",
    "plt.legend()\n",
    "plt.show()"
   ]
  }
 ],
 "metadata": {
  "kernelspec": {
   "display_name": "Python 3",
   "language": "python",
   "name": "python3"
  },
  "language_info": {
   "codemirror_mode": {
    "name": "ipython",
    "version": 3
   },
   "file_extension": ".py",
   "mimetype": "text/x-python",
   "name": "python",
   "nbconvert_exporter": "python",
   "pygments_lexer": "ipython3",
   "version": "3.10.13"
  }
 },
 "nbformat": 4,
 "nbformat_minor": 2
}
