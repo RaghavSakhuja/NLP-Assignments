{
 "cells": [
  {
   "cell_type": "code",
   "execution_count": 3,
   "metadata": {},
   "outputs": [],
   "source": [
    "import pandas as pd\n",
    "import numpy as np"
   ]
  },
  {
   "cell_type": "code",
   "execution_count": 4,
   "metadata": {},
   "outputs": [
    {
     "name": "stdout",
     "output_type": "stream",
     "text": [
      "              i     stand      here      feel     empty         a     class  \\\n",
      "i      0.000759  0.000325  0.000108  0.110436  0.000108  0.000217  0.000108   \n",
      "stand  0.000184  0.000184  0.000368  0.000184  0.000184  0.000184  0.000184   \n",
      "here   0.002012  0.000183  0.000183  0.000183  0.000183  0.000366  0.000183   \n",
      "feel   0.002830  0.000142  0.000142  0.000142  0.000425  0.008774  0.000142   \n",
      "empty  0.000368  0.000184  0.000184  0.000184  0.000184  0.000368  0.000184   \n",
      "\n",
      "           post     count      link  ...  sandblog   achieve  spritzer  \\\n",
      "i      0.000217  0.000108  0.000217  ...  0.000108  0.000108  0.000108   \n",
      "stand  0.000184  0.000184  0.000184  ...  0.000184  0.000184  0.000184   \n",
      "here   0.000183  0.000183  0.000183  ...  0.000183  0.000183  0.000183   \n",
      "feel   0.000142  0.000142  0.000142  ...  0.000142  0.000142  0.000142   \n",
      "empty  0.000184  0.000184  0.000184  ...  0.000184  0.000184  0.000184   \n",
      "\n",
      "       nagalene  connecting    google  stellarium     theyd     peter  \\\n",
      "i      0.000108    0.000108  0.000108    0.000108  0.000108  0.000108   \n",
      "stand  0.000184    0.000184  0.000184    0.000184  0.000184  0.000184   \n",
      "here   0.000183    0.000183  0.000183    0.000183  0.000183  0.000183   \n",
      "feel   0.000142    0.000142  0.000142    0.000142  0.000142  0.000142   \n",
      "empty  0.000184    0.000184  0.000184    0.000184  0.000184  0.000184   \n",
      "\n",
      "         robbed  \n",
      "i      0.000108  \n",
      "stand  0.000184  \n",
      "here   0.000183  \n",
      "feel   0.000142  \n",
      "empty  0.000184  \n",
      "\n",
      "[5 rows x 5429 columns]\n"
     ]
    }
   ],
   "source": [
    "df_target= pd.read_csv(\"Laplace_Smoothing.csv\",index_col=0)\n",
    "print(df_target.head())"
   ]
  },
  {
   "cell_type": "code",
   "execution_count": 5,
   "metadata": {},
   "outputs": [],
   "source": [
    "emotions=['sadness','joy','love','anger','fear','surprise']"
   ]
  },
  {
   "cell_type": "code",
   "execution_count": 6,
   "metadata": {},
   "outputs": [
    {
     "name": "stdout",
     "output_type": "stream",
     "text": [
      "1 csv done\n",
      "2 csv done\n",
      "3 csv done\n",
      "4 csv done\n",
      "5 csv done\n",
      "6 csv done\n",
      "7 csv done\n",
      "8 csv done\n",
      "9 csv done\n",
      "10 csv done\n",
      "sadness done\n",
      "1 csv done\n",
      "2 csv done\n",
      "3 csv done\n",
      "4 csv done\n",
      "5 csv done\n",
      "6 csv done\n",
      "7 csv done\n",
      "8 csv done\n",
      "9 csv done\n",
      "10 csv done\n",
      "joy done\n",
      "1 csv done\n",
      "2 csv done\n",
      "3 csv done\n",
      "4 csv done\n",
      "5 csv done\n",
      "6 csv done\n",
      "7 csv done\n",
      "8 csv done\n",
      "9 csv done\n",
      "10 csv done\n",
      "love done\n",
      "1 csv done\n",
      "2 csv done\n",
      "3 csv done\n",
      "4 csv done\n",
      "5 csv done\n",
      "6 csv done\n",
      "7 csv done\n",
      "8 csv done\n",
      "9 csv done\n",
      "10 csv done\n",
      "anger done\n",
      "1 csv done\n",
      "2 csv done\n",
      "3 csv done\n",
      "4 csv done\n",
      "5 csv done\n",
      "6 csv done\n",
      "7 csv done\n",
      "8 csv done\n",
      "9 csv done\n",
      "10 csv done\n",
      "fear done\n",
      "1 csv done\n",
      "2 csv done\n",
      "3 csv done\n",
      "4 csv done\n",
      "5 csv done\n",
      "6 csv done\n",
      "7 csv done\n",
      "8 csv done\n",
      "9 csv done\n",
      "10 csv done\n",
      "surprise done\n"
     ]
    }
   ],
   "source": [
    "for emotion in emotions:\n",
    "    for i in range(1,11):\n",
    "        df = pd.read_csv(f\"emotion_scores_bigrams_{i}.csv\")\n",
    "        bigrams = df['bigram']\n",
    "        values = df[emotion]\n",
    "        for j in range(len(bigrams)):\n",
    "            word_1,word_2 = bigrams[j].split()\n",
    "            df_target.at[word_1,word_2] = values[j]\n",
    "        print(f\"{i} csv done\")\n",
    "    df_target.to_csv(f\"{emotion}_scores.csv\")\n",
    "    print(f\"{emotion} done\")        "
   ]
  }
 ],
 "metadata": {
  "kernelspec": {
   "display_name": "Python 3",
   "language": "python",
   "name": "python3"
  },
  "language_info": {
   "codemirror_mode": {
    "name": "ipython",
    "version": 3
   },
   "file_extension": ".py",
   "mimetype": "text/x-python",
   "name": "python",
   "nbconvert_exporter": "python",
   "pygments_lexer": "ipython3",
   "version": "3.11.0"
  }
 },
 "nbformat": 4,
 "nbformat_minor": 2
}
