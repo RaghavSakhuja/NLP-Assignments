{
 "cells": [
  {
   "cell_type": "markdown",
   "metadata": {},
   "source": [
    "**Imports**"
   ]
  },
  {
   "cell_type": "code",
   "execution_count": 7,
   "metadata": {},
   "outputs": [],
   "source": [
    "import pickle\n",
    "from sklearn.svm import SVC\n",
    "from sklearn.feature_extraction.text import TfidfVectorizer\n",
    "from sklearn.preprocessing import LabelEncoder\n",
    "from sklearn.metrics import f1_score\n",
    "from sklearn.metrics import accuracy_score"
   ]
  },
  {
   "cell_type": "markdown",
   "metadata": {},
   "source": [
    "# Extrinsic Evaluation"
   ]
  },
  {
   "cell_type": "markdown",
   "metadata": {},
   "source": [
    "**Shivesh Gulati 2021286**"
   ]
  },
  {
   "cell_type": "markdown",
   "metadata": {},
   "source": [
    "**Smoothing Technique**"
   ]
  },
  {
   "cell_type": "code",
   "execution_count": 8,
   "metadata": {},
   "outputs": [],
   "source": [
    "smoothing_techniques=['No','Laplace','KneserNey']\n",
    "emotions=['anger','joy','love','fear','surprise','sadness']"
   ]
  },
  {
   "cell_type": "markdown",
   "metadata": {},
   "source": [
    "**Loading the saved models**"
   ]
  },
  {
   "cell_type": "code",
   "execution_count": 9,
   "metadata": {},
   "outputs": [],
   "source": [
    "model,encoder,vectorizer = pickle.load(open(\"model.pk1\",\"rb\"))"
   ]
  },
  {
   "cell_type": "markdown",
   "metadata": {},
   "source": [
    "**Encoding the emotions**"
   ]
  },
  {
   "cell_type": "code",
   "execution_count": 10,
   "metadata": {},
   "outputs": [
    {
     "name": "stdout",
     "output_type": "stream",
     "text": [
      "[('anger', 0), ('joy', 2), ('love', 3), ('fear', 1), ('surprise', 5), ('sadness', 4)]\n"
     ]
    }
   ],
   "source": [
    "emotions_encoded = encoder.transform(emotions)\n",
    "mapping =[]\n",
    "for i in range(len(emotions)):\n",
    "    mapping.append((emotions[i],emotions_encoded[i]))\n",
    "print(mapping)"
   ]
  },
  {
   "cell_type": "markdown",
   "metadata": {},
   "source": [
    "**Loading the text files**"
   ]
  },
  {
   "cell_type": "code",
   "execution_count": 11,
   "metadata": {},
   "outputs": [],
   "source": [
    "def create_test(smoothing_technique):\n",
    "    x_test=[]\n",
    "    y_test=[]\n",
    "    for emotion in mapping:\n",
    "        f = open(f\"Test/Generated_{emotion[0]}_{smoothing_technique}.txt\")\n",
    "        for line in f:\n",
    "            line = line[:-1]\n",
    "            x_test.append(line)\n",
    "            y_test.append(emotion[1])\n",
    "    x_test = vectorizer.transform(x_test)\n",
    "    return [x_test,y_test]"
   ]
  },
  {
   "cell_type": "markdown",
   "metadata": {},
   "source": [
    "**Training the model**"
   ]
  },
  {
   "cell_type": "code",
   "execution_count": 12,
   "metadata": {},
   "outputs": [
    {
     "name": "stdout",
     "output_type": "stream",
     "text": [
      "Metrics for the model trained :-\n",
      "\n",
      "Metrics for No Smoothing\n",
      "Accuracy Score =  0.71\n"
     ]
    },
    {
     "name": "stdout",
     "output_type": "stream",
     "text": [
      "Macro F1 Score =  0.7041616422609698\n",
      "\n",
      "Metrics for Laplace Smoothing\n",
      "Accuracy Score =  0.6433333333333333\n",
      "Macro F1 Score =  0.6390134455708226\n",
      "\n",
      "Metrics for KneserNey Smoothing\n",
      "Accuracy Score =  0.7066666666666667\n",
      "Macro F1 Score =  0.6935874046192158\n"
     ]
    }
   ],
   "source": [
    "print(\"Metrics for the model trained :-\")\n",
    "for smoothing_technique in smoothing_techniques:\n",
    "    x_test,y_test = create_test(smoothing_technique)\n",
    "    y_test_pred = model.predict(x_test)\n",
    "    print(f\"\\nMetrics for {smoothing_technique} Smoothing\")\n",
    "    print(\"Accuracy Score = \",accuracy_score(y_test,y_test_pred))\n",
    "    print(\"Macro F1 Score = \",f1_score(y_test,y_test_pred,average='macro'))"
   ]
  }
 ],
 "metadata": {
  "kernelspec": {
   "display_name": "Python 3",
   "language": "python",
   "name": "python3"
  },
  "language_info": {
   "codemirror_mode": {
    "name": "ipython",
    "version": 3
   },
   "file_extension": ".py",
   "mimetype": "text/x-python",
   "name": "python",
   "nbconvert_exporter": "python",
   "pygments_lexer": "ipython3",
   "version": "3.10.1"
  }
 },
 "nbformat": 4,
 "nbformat_minor": 2
}
