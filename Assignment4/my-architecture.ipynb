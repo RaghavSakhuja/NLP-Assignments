{
 "cells": [
  {
   "cell_type": "code",
   "execution_count": 4,
   "id": "d9eef09e",
   "metadata": {
    "execution": {
     "iopub.execute_input": "2024-04-16T07:14:07.925333Z",
     "iopub.status.busy": "2024-04-16T07:14:07.924950Z",
     "iopub.status.idle": "2024-04-16T07:14:21.539858Z",
     "shell.execute_reply": "2024-04-16T07:14:21.538639Z"
    },
    "papermill": {
     "duration": 13.62755,
     "end_time": "2024-04-16T07:14:21.542435",
     "exception": false,
     "start_time": "2024-04-16T07:14:07.914885",
     "status": "completed"
    },
    "tags": []
   },
   "outputs": [],
   "source": [
    "# ! pip install sentence-transformers"
   ]
  },
  {
   "cell_type": "code",
   "execution_count": 5,
   "id": "152271b9",
   "metadata": {
    "execution": {
     "iopub.execute_input": "2024-04-16T07:14:21.562417Z",
     "iopub.status.busy": "2024-04-16T07:14:21.562084Z",
     "iopub.status.idle": "2024-04-16T07:14:40.508403Z",
     "shell.execute_reply": "2024-04-16T07:14:40.507449Z"
    },
    "papermill": {
     "duration": 18.958755,
     "end_time": "2024-04-16T07:14:40.510748",
     "exception": false,
     "start_time": "2024-04-16T07:14:21.551993",
     "status": "completed"
    },
    "tags": []
   },
   "outputs": [
    {
     "name": "stdout",
     "output_type": "stream",
     "text": [
      "WARNING:tensorflow:From c:\\Users\\acer\\AppData\\Local\\Programs\\Python\\Python311\\Lib\\site-packages\\keras\\src\\losses.py:2976: The name tf.losses.sparse_softmax_cross_entropy is deprecated. Please use tf.compat.v1.losses.sparse_softmax_cross_entropy instead.\n",
      "\n"
     ]
    }
   ],
   "source": [
    "import torch\n",
    "from torch import nn\n",
    "from datasets import load_dataset\n",
    "from transformers import (\n",
    "    RobertaTokenizer,\n",
    "    RobertaForSequenceClassification,\n",
    "    TrainingArguments,\n",
    "    Trainer,\n",
    "    AutoConfig,\n",
    ")\n",
    "# from sklearnex import patch_sklearn\n",
    "# patch_sklearn()\n",
    "# from transformers import T5Tokenizer, T5ForConditionalGeneration, Trainer, TrainingArguments\n",
    "from torch.utils.data import Dataset, DataLoader\n",
    "\n",
    "import gc\n",
    "import json\n",
    "import pickle\n",
    "import numpy as np    \n",
    "import pandas as pd\n",
    "# from tqdm.notebook import tqdm\n",
    "from tqdm import tqdm\n",
    "from sklearn.metrics import accuracy_score, f1_score, classification_report\n",
    "import os\n",
    "for dirname, _, filenames in os.walk('/kaggle/input'):\n",
    "    for filename in filenames:\n",
    "        print(os.path.join(dirname, filename))"
   ]
  },
  {
   "cell_type": "code",
   "execution_count": 6,
   "id": "b9f514b7",
   "metadata": {
    "execution": {
     "iopub.execute_input": "2024-04-16T07:14:40.530803Z",
     "iopub.status.busy": "2024-04-16T07:14:40.530208Z",
     "iopub.status.idle": "2024-04-16T07:14:40.590226Z",
     "shell.execute_reply": "2024-04-16T07:14:40.589498Z"
    },
    "papermill": {
     "duration": 0.072165,
     "end_time": "2024-04-16T07:14:40.592219",
     "exception": false,
     "start_time": "2024-04-16T07:14:40.520054",
     "status": "completed"
    },
    "tags": []
   },
   "outputs": [],
   "source": [
    "# PATH=\"/kaggle/input/\"\n",
    "# OUTPATH='/kaggle/working/'\n",
    "# PATH=\"D:\\\\ghd\\\\NLP-Assignments\\\\Assignment4\\\\data\\\\\"\n",
    "PATH=\"data/\"\n",
    "OUTPATH='output/'\n",
    "BATCH_SIZE=256\n",
    "MAX_LENGTH=256\n",
    "MAX_UTTERANCES=10\n",
    "ROBERTA_LABELS=100\n",
    "EPOCHS=1\n",
    "EOS='</s>'\n",
    "SEP='[SEP]'\n",
    "# SOS='o'\n",
    "\n",
    "torch.manual_seed(0)\n",
    "\n",
    "device = torch.device(\"cuda\" if torch.cuda.is_available() else \"cpu\")\n",
    "model_id = \"roberta-base\""
   ]
  },
  {
   "cell_type": "code",
   "execution_count": 7,
   "id": "54cee3e5",
   "metadata": {},
   "outputs": [],
   "source": [
    "\n",
    "\n",
    "with open(PATH+\"train_file.json\") as f:\n",
    "    data = json.load(f)\n",
    "    count=0\n",
    "    trigcount=0\n",
    "    trigs=0\n",
    "    for row in data:\n",
    "        speakers=row['speakers']\n",
    "        emotions=row['emotions']\n",
    "        utterances=row['utterances']\n",
    "        \n",
    "        # print(speakers,emotions,utterances)\n",
    "        # trim in front\n",
    "        while len(utterances)>MAX_UTTERANCES:\n",
    "            utterances.pop(0)\n",
    "            speakers.pop(0)\n",
    "            emotions.pop(0)\n",
    "        \n",
    "        # print(speakers,emotions,utterances)\n",
    "        # pad\n",
    "        while len(utterances)<MAX_UTTERANCES:\n",
    "            utterances.insert(0,EOS)\n",
    "            speakers.insert(0,EOS)\n",
    "            emotions.insert(0,EOS)\n",
    "        \n",
    "        # print(speakers[1],emotions[1],utterances[1])\n",
    "        text=[]\n",
    "        t=\"\"\n",
    "        for i in range(10):\n",
    "            if(utterances[i]==EOS):\n",
    "                text.append(utterances[i])\n",
    "                t=EOS\n",
    "                continue\n",
    "            if(t==EOS):\n",
    "                t=\"\"\n",
    "            text.append(t+SEP+\" \"+f\"{speakers[i]}:{utterances[i]}:{emotions[i]} \")\n",
    "            t+=f\"{speakers[i]}:{utterances[i]}:{emotions[i]} \"\n",
    "        \n",
    "\n",
    "\n"
   ]
  },
  {
   "cell_type": "code",
   "execution_count": 8,
   "id": "b32b2cc8",
   "metadata": {
    "execution": {
     "iopub.execute_input": "2024-04-16T07:14:40.611859Z",
     "iopub.status.busy": "2024-04-16T07:14:40.611551Z",
     "iopub.status.idle": "2024-04-16T07:14:40.881884Z",
     "shell.execute_reply": "2024-04-16T07:14:40.880915Z"
    },
    "papermill": {
     "duration": 0.292904,
     "end_time": "2024-04-16T07:14:40.894359",
     "exception": false,
     "start_time": "2024-04-16T07:14:40.601455",
     "status": "completed"
    },
    "tags": []
   },
   "outputs": [],
   "source": [
    "\n",
    "def get_train(data):\n",
    "    x=[]\n",
    "    y=[]\n",
    "    for row in data:\n",
    "        speakers=row['speakers']\n",
    "        emotions=row['emotions']\n",
    "        utterances=row['utterances']\n",
    "        triggers=row['triggers']\n",
    "        # print(speakers,emotions,utterances)\n",
    "        # trim in front\n",
    "        while len(utterances)>MAX_UTTERANCES:\n",
    "            utterances.pop(0)\n",
    "            speakers.pop(0)\n",
    "            emotions.pop(0)\n",
    "            triggers.pop(0)\n",
    "        \n",
    "        # print(speakers,emotions,utterances)\n",
    "        # pad\n",
    "        while len(utterances)<MAX_UTTERANCES:\n",
    "            utterances.insert(0,EOS)\n",
    "            speakers.insert(0,EOS)\n",
    "            emotions.insert(0,EOS)\n",
    "            triggers.insert(0,0)\n",
    "        # print(speakers[1],emotions[1],utterances[1])\n",
    "        text=[]\n",
    "        t=\"\"\n",
    "        for i in range(10):\n",
    "            if(utterances[i]==EOS):\n",
    "                text.append(utterances[i])\n",
    "                t=EOS\n",
    "                continue\n",
    "            if(t==EOS):\n",
    "                t=\"\"\n",
    "            text.append(t+SEP+\" \"+f\"{speakers[i]}:{utterances[i]}:{emotions[i]} \")\n",
    "            t+=f\"{speakers[i]}:{utterances[i]}:{emotions[i]} \"\n",
    "        x.append(text)\n",
    "        trigs=[]\n",
    "        for i in triggers:\n",
    "            if(i is None):\n",
    "                trigs.append(0)\n",
    "            else:\n",
    "                trigs.append(int(i))\n",
    "        y.append(trigs)\n",
    "    \n",
    "    return x,y\n",
    "\n",
    "def get_eval(data):\n",
    "    x=[]\n",
    "    y=[]\n",
    "    max_len=max([len(i[\"triggers\"]) for i in data])\n",
    "    # left pad triggers\n",
    "\n",
    "    for row in data:\n",
    "        speakers=row['speakers']\n",
    "        emotions=row['emotions']\n",
    "        utterances=row['utterances']\n",
    "        triggers=row['triggers']\n",
    "        # trim in front\n",
    "        while len(triggers)>max_len:\n",
    "            triggers.pop(0)\n",
    "        # left pad triggers\n",
    "        while len(triggers)<max_len:\n",
    "            triggers.insert(0,0)\n",
    "\n",
    "\n",
    "        # print(speakers,emotions,utterances)\n",
    "        # trim in front\n",
    "        while len(utterances)>MAX_UTTERANCES:\n",
    "            utterances.pop(0)\n",
    "            speakers.pop(0)\n",
    "            emotions.pop(0)\n",
    "        \n",
    "        # print(speakers,emotions,utterances)\n",
    "        # pad\n",
    "        while len(utterances)<MAX_UTTERANCES:\n",
    "            utterances.insert(0,EOS)\n",
    "            speakers.insert(0,EOS)\n",
    "            emotions.insert(0,EOS)\n",
    "        # print(speakers[1],emotions[1],utterances[1])\n",
    "        text=[]\n",
    "        t=\"\"\n",
    "        for i in range(10):\n",
    "            if(utterances[i]==EOS):\n",
    "                text.append(utterances[i])\n",
    "                t=EOS\n",
    "                continue\n",
    "            if(t==EOS):\n",
    "                t=\"\"\n",
    "            text.append(t+SEP+\" \"+f\"{speakers[i]}:{utterances[i]}:{emotions[i]} \")\n",
    "            t+=f\"{speakers[i]}:{utterances[i]}:{emotions[i]} \"\n",
    "        x.append(text)\n",
    "        trigs=[]\n",
    "        for i in triggers:\n",
    "            if(i is None):\n",
    "                trigs.append(0)\n",
    "            else:\n",
    "                trigs.append(int(i))\n",
    "        y.append(trigs)\n",
    "    \n",
    "    return x,y\n",
    "\n",
    "\n",
    "def load_data(PATH):\n",
    "    with open(PATH) as f:\n",
    "        data = json.load(f)\n",
    "        return data\n",
    "    \n",
    "label_encoding = {\n",
    "    \"S\":0,\n",
    "    \"surprise\":1,\n",
    "    \"fear\":2,\n",
    "    \"neutral\":3,\n",
    "    \"sadness\":4,\n",
    "    \"disgust\":5,\n",
    "    \"anger\":6,\n",
    "    \"joy\":7\n",
    "}\n",
    "data = load_data(PATH+\"train_file.json\")\n",
    "data_val = load_data(PATH+\"val_file.json\")\n",
    "x_train,y_train = get_train(data)\n",
    "x_val,y_val = get_eval(data_val)"
   ]
  },
  {
   "cell_type": "code",
   "execution_count": 9,
   "id": "e3c090f8",
   "metadata": {
    "execution": {
     "iopub.execute_input": "2024-04-16T07:14:40.918139Z",
     "iopub.status.busy": "2024-04-16T07:14:40.917832Z",
     "iopub.status.idle": "2024-04-16T07:14:40.924952Z",
     "shell.execute_reply": "2024-04-16T07:14:40.924080Z"
    },
    "papermill": {
     "duration": 0.021067,
     "end_time": "2024-04-16T07:14:40.926900",
     "exception": false,
     "start_time": "2024-04-16T07:14:40.905833",
     "status": "completed"
    },
    "tags": []
   },
   "outputs": [
    {
     "name": "stdout",
     "output_type": "stream",
     "text": [
      "169\n"
     ]
    }
   ],
   "source": [
    "max_len=0\n",
    "for i in x_train:\n",
    "    for j in i:\n",
    "        max_len=max(max_len,len(j.split()))\n",
    "\n",
    "print(max_len)\n"
   ]
  },
  {
   "cell_type": "code",
   "execution_count": 10,
   "id": "1aa9f04a",
   "metadata": {},
   "outputs": [
    {
     "data": {
      "text/plain": [
       "([\"[SEP] Joey:Y'know what you should do, you should get her one of those um, barium enemas.:neutral \",\n",
       "  \"Joey:Y'know what you should do, you should get her one of those um, barium enemas.:neutral [SEP] Joey:Those are dead serious.:neutral \",\n",
       "  \"Joey:Y'know what you should do, you should get her one of those um, barium enemas.:neutral Joey:Those are dead serious.:neutral [SEP] Chandler:All right. Look, I'm gonna go in here, and you don't buy me anything ever.:anger \",\n",
       "  \"Joey:Y'know what you should do, you should get her one of those um, barium enemas.:neutral Joey:Those are dead serious.:neutral Chandler:All right. Look, I'm gonna go in here, and you don't buy me anything ever.:anger [SEP] Joey:No, no, you can't, you can't, okay, you can't, you can't buy her pearls, you just can't, you can't, you can't.:fear \",\n",
       "  \"Joey:Y'know what you should do, you should get her one of those um, barium enemas.:neutral Joey:Those are dead serious.:neutral Chandler:All right. Look, I'm gonna go in here, and you don't buy me anything ever.:anger Joey:No, no, you can't, you can't, okay, you can't, you can't buy her pearls, you just can't, you can't, you can't.:fear [SEP] Chandler:Why not?!:surprise \",\n",
       "  \"Joey:Y'know what you should do, you should get her one of those um, barium enemas.:neutral Joey:Those are dead serious.:neutral Chandler:All right. Look, I'm gonna go in here, and you don't buy me anything ever.:anger Joey:No, no, you can't, you can't, okay, you can't, you can't buy her pearls, you just can't, you can't, you can't.:fear Chandler:Why not?!:surprise [SEP] Joey:Oh God. Uh, okay, here's the thing, this is the thing, okay, the thing is...:neutral \",\n",
       "  \"Joey:Y'know what you should do, you should get her one of those um, barium enemas.:neutral Joey:Those are dead serious.:neutral Chandler:All right. Look, I'm gonna go in here, and you don't buy me anything ever.:anger Joey:No, no, you can't, you can't, okay, you can't, you can't buy her pearls, you just can't, you can't, you can't.:fear Chandler:Why not?!:surprise Joey:Oh God. Uh, okay, here's the thing, this is the thing, okay, the thing is...:neutral [SEP] Chandler:What is the thing?:sadness \",\n",
       "  \"Joey:Y'know what you should do, you should get her one of those um, barium enemas.:neutral Joey:Those are dead serious.:neutral Chandler:All right. Look, I'm gonna go in here, and you don't buy me anything ever.:anger Joey:No, no, you can't, you can't, okay, you can't, you can't buy her pearls, you just can't, you can't, you can't.:fear Chandler:Why not?!:surprise Joey:Oh God. Uh, okay, here's the thing, this is the thing, okay, the thing is...:neutral Chandler:What is the thing?:sadness [SEP] Joey:Okay. I went down to the \\x91Mattress King' showroom and, and I saw Janice, kissing her ex-husband.:sadness \",\n",
       "  \"Joey:Y'know what you should do, you should get her one of those um, barium enemas.:neutral Joey:Those are dead serious.:neutral Chandler:All right. Look, I'm gonna go in here, and you don't buy me anything ever.:anger Joey:No, no, you can't, you can't, okay, you can't, you can't buy her pearls, you just can't, you can't, you can't.:fear Chandler:Why not?!:surprise Joey:Oh God. Uh, okay, here's the thing, this is the thing, okay, the thing is...:neutral Chandler:What is the thing?:sadness Joey:Okay. I went down to the \\x91Mattress King' showroom and, and I saw Janice, kissing her ex-husband.:sadness [SEP] Chandler:What?:surprise \",\n",
       "  \"Joey:Y'know what you should do, you should get her one of those um, barium enemas.:neutral Joey:Those are dead serious.:neutral Chandler:All right. Look, I'm gonna go in here, and you don't buy me anything ever.:anger Joey:No, no, you can't, you can't, okay, you can't, you can't buy her pearls, you just can't, you can't, you can't.:fear Chandler:Why not?!:surprise Joey:Oh God. Uh, okay, here's the thing, this is the thing, okay, the thing is...:neutral Chandler:What is the thing?:sadness Joey:Okay. I went down to the \\x91Mattress King' showroom and, and I saw Janice, kissing her ex-husband.:sadness Chandler:What?:surprise [SEP] Joey:They were in his office.:neutral \"],\n",
       " [0, 0, 0, 0, 0, 0, 0, 0, 0, 0, 0, 0, 0, 0, 0, 0, 0, 0, 0, 0, 0, 1, 0])"
      ]
     },
     "execution_count": 10,
     "metadata": {},
     "output_type": "execute_result"
    }
   ],
   "source": [
    "x_val[0],y_val[0]"
   ]
  },
  {
   "cell_type": "code",
   "execution_count": 11,
   "id": "84e1ae0e",
   "metadata": {
    "execution": {
     "iopub.execute_input": "2024-04-16T07:14:40.952180Z",
     "iopub.status.busy": "2024-04-16T07:14:40.951410Z",
     "iopub.status.idle": "2024-04-16T07:14:41.148294Z",
     "shell.execute_reply": "2024-04-16T07:14:41.147403Z"
    },
    "papermill": {
     "duration": 0.211152,
     "end_time": "2024-04-16T07:14:41.150361",
     "exception": false,
     "start_time": "2024-04-16T07:14:40.939209",
     "status": "completed"
    },
    "tags": []
   },
   "outputs": [
    {
     "data": {
      "text/plain": [
       "(6740, 10)"
      ]
     },
     "execution_count": 11,
     "metadata": {},
     "output_type": "execute_result"
    }
   ],
   "source": [
    "np.array(x_train).shape"
   ]
  },
  {
   "cell_type": "code",
   "execution_count": 12,
   "id": "0e968306",
   "metadata": {
    "execution": {
     "iopub.execute_input": "2024-04-16T07:14:41.175544Z",
     "iopub.status.busy": "2024-04-16T07:14:41.174840Z",
     "iopub.status.idle": "2024-04-16T07:14:41.180980Z",
     "shell.execute_reply": "2024-04-16T07:14:41.180105Z"
    },
    "papermill": {
     "duration": 0.020997,
     "end_time": "2024-04-16T07:14:41.183208",
     "exception": false,
     "start_time": "2024-04-16T07:14:41.162211",
     "status": "completed"
    },
    "tags": []
   },
   "outputs": [
    {
     "data": {
      "text/plain": [
       "(6740, 6740, 843, 843)"
      ]
     },
     "execution_count": 12,
     "metadata": {},
     "output_type": "execute_result"
    }
   ],
   "source": [
    "len(x_train),len(y_train),len(x_val),len(y_val)"
   ]
  },
  {
   "cell_type": "code",
   "execution_count": 13,
   "id": "bf12e97b",
   "metadata": {
    "execution": {
     "iopub.execute_input": "2024-04-16T07:14:41.242434Z",
     "iopub.status.busy": "2024-04-16T07:14:41.241801Z",
     "iopub.status.idle": "2024-04-16T07:14:51.045095Z",
     "shell.execute_reply": "2024-04-16T07:14:51.044365Z"
    },
    "papermill": {
     "duration": 9.818453,
     "end_time": "2024-04-16T07:14:51.047224",
     "exception": false,
     "start_time": "2024-04-16T07:14:41.228771",
     "status": "completed"
    },
    "tags": []
   },
   "outputs": [],
   "source": [
    "tokenizer = RobertaTokenizer.from_pretrained(model_id)"
   ]
  },
  {
   "cell_type": "code",
   "execution_count": 14,
   "id": "99035ead",
   "metadata": {
    "execution": {
     "iopub.execute_input": "2024-04-16T07:14:51.074535Z",
     "iopub.status.busy": "2024-04-16T07:14:51.074230Z",
     "iopub.status.idle": "2024-04-16T07:14:51.078084Z",
     "shell.execute_reply": "2024-04-16T07:14:51.077225Z"
    },
    "papermill": {
     "duration": 0.019649,
     "end_time": "2024-04-16T07:14:51.080058",
     "exception": false,
     "start_time": "2024-04-16T07:14:51.060409",
     "status": "completed"
    },
    "tags": []
   },
   "outputs": [],
   "source": [
    "# class"
   ]
  },
  {
   "cell_type": "code",
   "execution_count": 15,
   "id": "cdc864be",
   "metadata": {
    "execution": {
     "iopub.execute_input": "2024-04-16T07:14:51.107030Z",
     "iopub.status.busy": "2024-04-16T07:14:51.106423Z",
     "iopub.status.idle": "2024-04-16T07:14:51.112454Z",
     "shell.execute_reply": "2024-04-16T07:14:51.111629Z"
    },
    "papermill": {
     "duration": 0.021695,
     "end_time": "2024-04-16T07:14:51.114506",
     "exception": false,
     "start_time": "2024-04-16T07:14:51.092811",
     "status": "completed"
    },
    "tags": []
   },
   "outputs": [
    {
     "data": {
      "text/plain": [
       "([0, 0, 0, 0, 0, 1, 1, 0, 0, 0], [0, 0, 0, 0, 0, 0, 0, 0, 0, 1])"
      ]
     },
     "execution_count": 15,
     "metadata": {},
     "output_type": "execute_result"
    }
   ],
   "source": [
    "# len(x_train)\n",
    "# len(x_train[0])\n",
    "# x_train = np.array(x_train)\n",
    "# x_train\n",
    "y_train[0],y_train[4]"
   ]
  },
  {
   "cell_type": "code",
   "execution_count": 16,
   "id": "e8d62f6e",
   "metadata": {
    "execution": {
     "iopub.execute_input": "2024-04-16T07:14:51.141396Z",
     "iopub.status.busy": "2024-04-16T07:14:51.140873Z",
     "iopub.status.idle": "2024-04-16T07:14:51.147471Z",
     "shell.execute_reply": "2024-04-16T07:14:51.146639Z"
    },
    "papermill": {
     "duration": 0.022027,
     "end_time": "2024-04-16T07:14:51.149403",
     "exception": false,
     "start_time": "2024-04-16T07:14:51.127376",
     "status": "completed"
    },
    "tags": []
   },
   "outputs": [],
   "source": [
    "class Dataset(Dataset):\n",
    "    def __init__(self, data, tokenizer,labels):\n",
    "        self.data=data\n",
    "        self.tokenizer = tokenizer\n",
    "        self.labels = labels\n",
    "        \n",
    "    def __len__(self):\n",
    "        return len(self.data)\n",
    "    \n",
    "    def __getitem__(self,idx):\n",
    "#         print(self.data[idx])\n",
    "#         dat = \"\".join(self.data[idx])\n",
    "        x_tokenized = self.tokenizer(self.data[idx],max_length=MAX_LENGTH,truncation=True,return_tensors=\"pt\",padding=\"max_length\")\n",
    "        input_ids = x_tokenized[\"input_ids\"].squeeze(0)\n",
    "        attention_mask = x_tokenized[\"attention_mask\"].squeeze(0)\n",
    "        return input_ids,attention_mask,torch.tensor(self.labels[idx]).squeeze(0)"
   ]
  },
  {
   "cell_type": "code",
   "execution_count": 17,
   "id": "525b26bb",
   "metadata": {
    "execution": {
     "iopub.execute_input": "2024-04-16T07:14:51.176377Z",
     "iopub.status.busy": "2024-04-16T07:14:51.176088Z",
     "iopub.status.idle": "2024-04-16T07:14:51.180076Z",
     "shell.execute_reply": "2024-04-16T07:14:51.179297Z"
    },
    "papermill": {
     "duration": 0.019947,
     "end_time": "2024-04-16T07:14:51.182032",
     "exception": false,
     "start_time": "2024-04-16T07:14:51.162085",
     "status": "completed"
    },
    "tags": []
   },
   "outputs": [],
   "source": [
    "train_dataset = Dataset(x_train,tokenizer,y_train)\n",
    "val_dataset = Dataset(x_val,tokenizer,y_val)"
   ]
  },
  {
   "cell_type": "code",
   "execution_count": 18,
   "id": "c2850b43",
   "metadata": {
    "execution": {
     "iopub.execute_input": "2024-04-16T07:14:51.208957Z",
     "iopub.status.busy": "2024-04-16T07:14:51.208468Z",
     "iopub.status.idle": "2024-04-16T07:14:51.235485Z",
     "shell.execute_reply": "2024-04-16T07:14:51.234468Z"
    },
    "papermill": {
     "duration": 0.042645,
     "end_time": "2024-04-16T07:14:51.237543",
     "exception": false,
     "start_time": "2024-04-16T07:14:51.194898",
     "status": "completed"
    },
    "tags": []
   },
   "outputs": [
    {
     "data": {
      "text/plain": [
       "(tensor([[    0,     2,     2,  ...,     1,     1,     1],\n",
       "         [    0,     2,     2,  ...,     1,     1,     1],\n",
       "         [    0,     2,     2,  ...,     1,     1,     1],\n",
       "         ...,\n",
       "         [    0, 17297,  3540,  ...,     1,     1,     1],\n",
       "         [    0, 17297,  3540,  ...,     1,     1,     1],\n",
       "         [    0, 17297,  3540,  ...,     1,     1,     1]]),\n",
       " tensor([[1, 1, 1,  ..., 0, 0, 0],\n",
       "         [1, 1, 1,  ..., 0, 0, 0],\n",
       "         [1, 1, 1,  ..., 0, 0, 0],\n",
       "         ...,\n",
       "         [1, 1, 1,  ..., 0, 0, 0],\n",
       "         [1, 1, 1,  ..., 0, 0, 0],\n",
       "         [1, 1, 1,  ..., 0, 0, 0]]),\n",
       " tensor([0, 0, 0, 0, 0, 1, 1, 0, 0, 0]))"
      ]
     },
     "execution_count": 18,
     "metadata": {},
     "output_type": "execute_result"
    }
   ],
   "source": [
    "train_dataset[0]"
   ]
  },
  {
   "cell_type": "code",
   "execution_count": 19,
   "id": "cc820199",
   "metadata": {
    "execution": {
     "iopub.execute_input": "2024-04-16T07:14:51.265418Z",
     "iopub.status.busy": "2024-04-16T07:14:51.265146Z",
     "iopub.status.idle": "2024-04-16T07:14:51.269838Z",
     "shell.execute_reply": "2024-04-16T07:14:51.269063Z"
    },
    "papermill": {
     "duration": 0.020869,
     "end_time": "2024-04-16T07:14:51.271759",
     "exception": false,
     "start_time": "2024-04-16T07:14:51.250890",
     "status": "completed"
    },
    "tags": []
   },
   "outputs": [],
   "source": [
    "from torch.utils.data import DataLoader\n",
    "train_dataloader=DataLoader(train_dataset,batch_size=BATCH_SIZE,shuffle=False)\n",
    "val_dataloader=DataLoader(val_dataset,batch_size=BATCH_SIZE,shuffle=False)"
   ]
  },
  {
   "cell_type": "markdown",
   "id": "53d291be",
   "metadata": {
    "papermill": {
     "duration": 0.013326,
     "end_time": "2024-04-16T07:14:51.299910",
     "exception": false,
     "start_time": "2024-04-16T07:14:51.286584",
     "status": "completed"
    },
    "tags": []
   },
   "source": [
    "Roberta output should be of size BATCH_SIZExlabels, we need linear layer to output BATCH_SIZExlabels as emotions in one way or another after we will do softmax. Now manage this. "
   ]
  },
  {
   "cell_type": "code",
   "execution_count": 20,
   "id": "c54094b3",
   "metadata": {
    "execution": {
     "iopub.execute_input": "2024-04-16T07:14:51.327922Z",
     "iopub.status.busy": "2024-04-16T07:14:51.327106Z",
     "iopub.status.idle": "2024-04-16T07:14:51.331922Z",
     "shell.execute_reply": "2024-04-16T07:14:51.331053Z"
    },
    "papermill": {
     "duration": 0.020642,
     "end_time": "2024-04-16T07:14:51.333786",
     "exception": false,
     "start_time": "2024-04-16T07:14:51.313144",
     "status": "completed"
    },
    "tags": []
   },
   "outputs": [],
   "source": [
    "# class my_model(nn.Module):\n",
    "#     def __init__(self):\n",
    "#         super(my_model,self).__init__()\n",
    "# #         self.lstm_model = torch.nn.\n",
    "# #         self.roberta_model = roberta_model\n",
    "# #         self.num_labels = num_labels\n",
    "#         self.LSTM = nn.LSTM(input_size=128,hidden_size=2, batch_first=True)\n",
    "#         self.linear = nn.Linear(2,8)\n",
    "#         self.softmax = nn.Softmax()\n",
    "#     def forward(self,input_ids):\n",
    "# #         self.lstm = torch.nn\n",
    "#         lstm_output,_    =self.LSTM(input_ids)\n",
    "# #         print(lstm_output)\n",
    "# #         linear_output = self.linear(lstm_output)\n",
    "#         linear_outputs = []\n",
    "#         for i in range(lstm_output.size(1)):\n",
    "#             linear_output = self.linear(lstm_output[:,i,:])\n",
    "#             softmax_output = self.softmax(linear_output)\n",
    "#             softmax_outputs.append(softmax_output.unsqueeze(1))\n",
    "        \n",
    "        \n",
    "        \n",
    "#         # Concatenate the list of linear outputs along the time step dimension\n",
    "# #         linear_outputs_tensor = torch.cat(linear_outputs, dim=1)\n",
    "#         return torch.tensor(softmax_outputs,device=device)"
   ]
  },
  {
   "cell_type": "code",
   "execution_count": 21,
   "id": "32bc8fc1",
   "metadata": {
    "execution": {
     "iopub.execute_input": "2024-04-16T07:14:51.361312Z",
     "iopub.status.busy": "2024-04-16T07:14:51.360557Z",
     "iopub.status.idle": "2024-04-16T07:14:51.369417Z",
     "shell.execute_reply": "2024-04-16T07:14:51.368480Z"
    },
    "papermill": {
     "duration": 0.024472,
     "end_time": "2024-04-16T07:14:51.371218",
     "exception": false,
     "start_time": "2024-04-16T07:14:51.346746",
     "status": "completed"
    },
    "tags": []
   },
   "outputs": [],
   "source": [
    "class MyModel(nn.Module):\n",
    "    def __init__(self, input_size=MAX_LENGTH, hidden_size=MAX_UTTERANCES, num_linear_layers=MAX_UTTERANCES, linear_size=2):\n",
    "        super(MyModel, self).__init__()\n",
    "        \n",
    "  \n",
    "        self.lstm = nn.LSTM(input_size, hidden_size, batch_first=True)\n",
    "        \n",
    "    \n",
    "        self.linear_layers = nn.ModuleList([nn.Linear(hidden_size, linear_size) for _ in range(num_linear_layers)])\n",
    "\n",
    "        self.softmax_layers = nn.ModuleList([nn.Softmax(dim=1) for _ in range(num_linear_layers)])\n",
    "    def forward(self, x):\n",
    " \n",
    "        lstm_out, _ = self.lstm(x)\n",
    "#         print(\"Output shape of lstm = \",lstm_out.shape)\n",
    "\n",
    "        softmax_outputs = []\n",
    "        for i in range(len(self.linear_layers)):\n",
    "            linear_output = self.linear_layers[i](lstm_out[:, -1, :])\n",
    "\n",
    "            softmax_output = self.softmax_layers[i](linear_output)\n",
    "            softmax_outputs.append(softmax_output.float())\n",
    "           \n",
    "        stacked_tensor = torch.stack(softmax_outputs, dim=1)\n",
    "        \n",
    "        return stacked_tensor.clone().detach().requires_grad_(True)\n"
   ]
  },
  {
   "cell_type": "code",
   "execution_count": 22,
   "id": "3a2b476a",
   "metadata": {
    "execution": {
     "iopub.execute_input": "2024-04-16T07:14:51.398156Z",
     "iopub.status.busy": "2024-04-16T07:14:51.397891Z",
     "iopub.status.idle": "2024-04-16T07:14:51.706025Z",
     "shell.execute_reply": "2024-04-16T07:14:51.704616Z"
    },
    "papermill": {
     "duration": 0.32396,
     "end_time": "2024-04-16T07:14:51.708297",
     "exception": false,
     "start_time": "2024-04-16T07:14:51.384337",
     "status": "completed"
    },
    "tags": []
   },
   "outputs": [
    {
     "data": {
      "text/plain": [
       "MyModel(\n",
       "  (lstm): LSTM(256, 10, batch_first=True)\n",
       "  (linear_layers): ModuleList(\n",
       "    (0-9): 10 x Linear(in_features=10, out_features=2, bias=True)\n",
       "  )\n",
       "  (softmax_layers): ModuleList(\n",
       "    (0-9): 10 x Softmax(dim=1)\n",
       "  )\n",
       ")"
      ]
     },
     "execution_count": 22,
     "metadata": {},
     "output_type": "execute_result"
    }
   ],
   "source": [
    "model = MyModel()\n",
    "model.to(device)\n"
   ]
  },
  {
   "cell_type": "code",
   "execution_count": 23,
   "id": "ded9d3c7",
   "metadata": {
    "execution": {
     "iopub.execute_input": "2024-04-16T07:14:51.736628Z",
     "iopub.status.busy": "2024-04-16T07:14:51.736329Z",
     "iopub.status.idle": "2024-04-16T07:14:51.740760Z",
     "shell.execute_reply": "2024-04-16T07:14:51.739905Z"
    },
    "papermill": {
     "duration": 0.020586,
     "end_time": "2024-04-16T07:14:51.742597",
     "exception": false,
     "start_time": "2024-04-16T07:14:51.722011",
     "status": "completed"
    },
    "tags": []
   },
   "outputs": [],
   "source": [
    "import torch.nn as nn\n",
    "\n",
    "criterion = nn.functional.cross_entropy\n",
    "\n",
    "def metrics(y_true, y_pred):\n",
    "    acc=accuracy_score(y_true, y_pred)\n",
    "    f1_macro=f1_score(y_true, y_pred, average='macro')  \n",
    "    f1_scores=f1_score(y_true, y_pred, average=\"weighted\")\n",
    "    return acc, f1_macro, f1_scores\n"
   ]
  },
  {
   "cell_type": "code",
   "execution_count": 29,
   "id": "f92d87cb",
   "metadata": {
    "execution": {
     "iopub.execute_input": "2024-04-16T07:14:51.771161Z",
     "iopub.status.busy": "2024-04-16T07:14:51.770884Z",
     "iopub.status.idle": "2024-04-16T07:14:51.785105Z",
     "shell.execute_reply": "2024-04-16T07:14:51.784213Z"
    },
    "papermill": {
     "duration": 0.030149,
     "end_time": "2024-04-16T07:14:51.787024",
     "exception": false,
     "start_time": "2024-04-16T07:14:51.756875",
     "status": "completed"
    },
    "tags": []
   },
   "outputs": [],
   "source": [
    "def train_epoch(model, optimizer,epoch):\n",
    "    model.train()\n",
    "    losses = 0\n",
    "    for batch in tqdm(train_dataloader, desc=f\"Epoch:{epoch}\",total=len(train_dataloader), leave=False):\n",
    "\n",
    "        input_ids = batch[0].to(device)\n",
    "        attention_mask = batch[1].to(device)\n",
    "        labels = batch[2].to(device)\n",
    "\n",
    "        batch_size = input_ids.size(0)\n",
    "        utt_size = input_ids.size(1)\n",
    "\n",
    "        outputs  = model(input_ids.float())\n",
    "\n",
    "        outputs=outputs.view(batch_size*utt_size,-1)\n",
    "        labels=labels.view(batch_size*utt_size)\n",
    "        \n",
    "        # print(outputs.shape,labels.shape)\n",
    "        print(outputs)\n",
    "        loss = criterion(outputs, labels)\n",
    "\n",
    "        loss = loss.to(device)\n",
    "#         print(\"Loss = \",loss.item)\n",
    "        losses+=loss.item()\n",
    "\n",
    "        optimizer.zero_grad()\n",
    "        loss.backward()\n",
    "        optimizer.step()\n",
    "        \n",
    "        for name, param in model.named_parameters():\n",
    "            if param.grad is not None:\n",
    "                print(f'Gradient - {name}: {param.grad.norm()}')\n",
    "\n",
    "        del input_ids\n",
    "        del attention_mask\n",
    "        del labels\n",
    "        del outputs\n",
    "\n",
    "        gc.collect()\n",
    "        torch.cuda.empty_cache()\n",
    "        # break\n",
    "#     print(\"BATCH FINISHED\")\n",
    "    x = losses /len(train_dataloader)\n",
    "    tqdm.write(f\"Epoch:{epoch}, Avg Train Loss: {x}\")\n",
    "    gc.collect()\n",
    "    torch.cuda.empty_cache()\n",
    "    return x\n",
    "\n",
    "\n",
    "\n",
    "\n",
    "def evaluate(model,val_dataloader,name,metric):\n",
    "\n",
    "    with torch.no_grad():\n",
    "        model.eval()\n",
    "        losses = 0\n",
    "\n",
    "        preds = []\n",
    "        actuals = []\n",
    "        for batch in tqdm(val_dataloader, desc=name,total=len(val_dataloader), leave=False):\n",
    "\n",
    "                input_ids = batch[0].to(device)\n",
    "                attention_mask = batch[1].to(device)\n",
    "                labels = batch[2].to(device)\n",
    "\n",
    "                batch_size = input_ids.size(0)\n",
    "                utt_size = labels.size(1)\n",
    "\n",
    "                outputs  = model(input_ids.float())\n",
    "\n",
    "                size_diff = labels.size(1) - outputs.size(1)\n",
    "\n",
    "                paddings=torch.zeros(batch_size,size_diff,2).to(device)\n",
    "\n",
    "\n",
    "                # print(outputs.shape,paddings.shape)\n",
    "                predicted = torch.cat((outputs,paddings),dim=1)\n",
    "\n",
    "                predicted=predicted.view(batch_size*utt_size,-1)\n",
    "                labels=labels.view(batch_size*utt_size)\n",
    "                \n",
    "                # print(outputs.shape,labels.shape)\n",
    "                loss = criterion(predicted, labels)\n",
    "\n",
    "                loss = loss.to(device)\n",
    "        #         print(\"Loss = \",loss.item)\n",
    "                losses+=loss.item()\n",
    "    \n",
    "                _, pred = torch.max(predicted, 1)\n",
    "\n",
    "                # Flatten the predictions and targets\n",
    "                predicted_flat = pred.view(-1)\n",
    "                targets_flat = labels.view(-1)\n",
    "\n",
    "                preds.extend(predicted_flat.cpu().numpy())\n",
    "                actuals.extend(targets_flat.cpu().numpy())\n",
    "\n",
    "                del input_ids\n",
    "                del attention_mask\n",
    "                del labels\n",
    "                del predicted\n",
    "                # del predicted_labels\n",
    "                gc.collect()\n",
    "                torch.cuda.empty_cache()\n",
    "            # break\n",
    "        # print(losses,len(val_dataloader))\n",
    "        x = losses / len(val_dataloader)\n",
    "        tqdm.write(f\"Avg {name} Loss: {x}\")\n",
    "        gc.collect()\n",
    "        torch.cuda.empty_cache()\n",
    "        acc,macro,f1 = metric(actuals,preds)\n",
    "        tqdm.write(f\"Avg {name} Accuracy: {acc}, F1 Macro: {macro}, F1 Scores: {f1}\")\n",
    "        return x,preds"
   ]
  },
  {
   "cell_type": "code",
   "execution_count": 30,
   "id": "379c58c4",
   "metadata": {
    "execution": {
     "iopub.execute_input": "2024-04-16T07:14:51.815214Z",
     "iopub.status.busy": "2024-04-16T07:14:51.814933Z",
     "iopub.status.idle": "2024-04-16T07:14:51.819494Z",
     "shell.execute_reply": "2024-04-16T07:14:51.818517Z"
    },
    "papermill": {
     "duration": 0.020682,
     "end_time": "2024-04-16T07:14:51.821292",
     "exception": false,
     "start_time": "2024-04-16T07:14:51.800610",
     "status": "completed"
    },
    "tags": []
   },
   "outputs": [],
   "source": [
    "optim = torch.optim.AdamW(model.parameters(),lr=10)"
   ]
  },
  {
   "cell_type": "code",
   "execution_count": 31,
   "metadata": {},
   "outputs": [
    {
     "name": "stdout",
     "output_type": "stream",
     "text": [
      "Parameter - lstm.weight_ih_l0: torch.Size([40, 256]), grad = True\n",
      "Parameter - lstm.weight_hh_l0: torch.Size([40, 10]), grad = True\n",
      "Parameter - lstm.bias_ih_l0: torch.Size([40]), grad = True\n",
      "Parameter - lstm.bias_hh_l0: torch.Size([40]), grad = True\n",
      "Parameter - linear_layers.0.weight: torch.Size([2, 10]), grad = True\n",
      "Parameter - linear_layers.0.bias: torch.Size([2]), grad = True\n",
      "Parameter - linear_layers.1.weight: torch.Size([2, 10]), grad = True\n",
      "Parameter - linear_layers.1.bias: torch.Size([2]), grad = True\n",
      "Parameter - linear_layers.2.weight: torch.Size([2, 10]), grad = True\n",
      "Parameter - linear_layers.2.bias: torch.Size([2]), grad = True\n",
      "Parameter - linear_layers.3.weight: torch.Size([2, 10]), grad = True\n",
      "Parameter - linear_layers.3.bias: torch.Size([2]), grad = True\n",
      "Parameter - linear_layers.4.weight: torch.Size([2, 10]), grad = True\n",
      "Parameter - linear_layers.4.bias: torch.Size([2]), grad = True\n",
      "Parameter - linear_layers.5.weight: torch.Size([2, 10]), grad = True\n",
      "Parameter - linear_layers.5.bias: torch.Size([2]), grad = True\n",
      "Parameter - linear_layers.6.weight: torch.Size([2, 10]), grad = True\n",
      "Parameter - linear_layers.6.bias: torch.Size([2]), grad = True\n",
      "Parameter - linear_layers.7.weight: torch.Size([2, 10]), grad = True\n",
      "Parameter - linear_layers.7.bias: torch.Size([2]), grad = True\n",
      "Parameter - linear_layers.8.weight: torch.Size([2, 10]), grad = True\n",
      "Parameter - linear_layers.8.bias: torch.Size([2]), grad = True\n",
      "Parameter - linear_layers.9.weight: torch.Size([2, 10]), grad = True\n",
      "Parameter - linear_layers.9.bias: torch.Size([2]), grad = True\n"
     ]
    }
   ],
   "source": [
    "for name, param in model.named_parameters():\n",
    "    print(f'Parameter - {name}: {param.shape}, grad = {param.requires_grad}')"
   ]
  },
  {
   "cell_type": "code",
   "execution_count": 32,
   "id": "a2cb6555",
   "metadata": {
    "execution": {
     "iopub.execute_input": "2024-04-16T07:14:51.849134Z",
     "iopub.status.busy": "2024-04-16T07:14:51.848830Z",
     "iopub.status.idle": "2024-04-16T07:40:04.458987Z",
     "shell.execute_reply": "2024-04-16T07:40:04.458008Z"
    },
    "papermill": {
     "duration": 1512.626326,
     "end_time": "2024-04-16T07:40:04.460927",
     "exception": false,
     "start_time": "2024-04-16T07:14:51.834601",
     "status": "completed"
    },
    "tags": []
   },
   "outputs": [
    {
     "name": "stderr",
     "output_type": "stream",
     "text": [
      "Epoch:1:   0%|          | 0/27 [00:00<?, ?it/s]"
     ]
    },
    {
     "name": "stdout",
     "output_type": "stream",
     "text": [
      "tensor([[0.3952, 0.6048],\n",
      "        [0.5759, 0.4241],\n",
      "        [0.6257, 0.3743],\n",
      "        ...,\n",
      "        [0.3173, 0.6827],\n",
      "        [0.7355, 0.2645],\n",
      "        [0.5712, 0.4288]], device='cuda:0', grad_fn=<ViewBackward0>)\n"
     ]
    },
    {
     "name": "stderr",
     "output_type": "stream",
     "text": [
      "Epoch:1:   4%|▎         | 1/27 [00:01<00:29,  1.12s/it]"
     ]
    },
    {
     "name": "stdout",
     "output_type": "stream",
     "text": [
      "tensor([[0.3671, 0.6329],\n",
      "        [0.5233, 0.4767],\n",
      "        [0.4960, 0.5040],\n",
      "        ...,\n",
      "        [0.4822, 0.5178],\n",
      "        [0.5836, 0.4164],\n",
      "        [0.6419, 0.3581]], device='cuda:0', grad_fn=<ViewBackward0>)\n"
     ]
    },
    {
     "name": "stderr",
     "output_type": "stream",
     "text": [
      "Epoch:1:   7%|▋         | 2/27 [00:01<00:24,  1.03it/s]"
     ]
    },
    {
     "name": "stdout",
     "output_type": "stream",
     "text": [
      "tensor([[0.6209, 0.3791],\n",
      "        [0.4539, 0.5461],\n",
      "        [0.5439, 0.4561],\n",
      "        ...,\n",
      "        [0.4481, 0.5519],\n",
      "        [0.6921, 0.3079],\n",
      "        [0.5744, 0.4256]], device='cuda:0', grad_fn=<ViewBackward0>)\n"
     ]
    },
    {
     "name": "stderr",
     "output_type": "stream",
     "text": [
      "Epoch:1:  11%|█         | 3/27 [00:02<00:22,  1.08it/s]"
     ]
    },
    {
     "name": "stdout",
     "output_type": "stream",
     "text": [
      "tensor([[0.5859, 0.4141],\n",
      "        [0.4671, 0.5329],\n",
      "        [0.6469, 0.3531],\n",
      "        ...,\n",
      "        [0.3695, 0.6305],\n",
      "        [0.6404, 0.3596],\n",
      "        [0.4753, 0.5247]], device='cuda:0', grad_fn=<ViewBackward0>)\n"
     ]
    },
    {
     "name": "stderr",
     "output_type": "stream",
     "text": [
      "Epoch:1:  15%|█▍        | 4/27 [00:03<00:20,  1.12it/s]"
     ]
    },
    {
     "name": "stdout",
     "output_type": "stream",
     "text": [
      "tensor([[0.3612, 0.6388],\n",
      "        [0.6786, 0.3214],\n",
      "        [0.6260, 0.3740],\n",
      "        ...,\n",
      "        [0.4936, 0.5064],\n",
      "        [0.6797, 0.3203],\n",
      "        [0.4736, 0.5264]], device='cuda:0', grad_fn=<ViewBackward0>)\n"
     ]
    },
    {
     "name": "stderr",
     "output_type": "stream",
     "text": [
      "Epoch:1:  19%|█▊        | 5/27 [00:04<00:19,  1.11it/s]"
     ]
    },
    {
     "name": "stdout",
     "output_type": "stream",
     "text": [
      "tensor([[0.2963, 0.7037],\n",
      "        [0.5632, 0.4368],\n",
      "        [0.5479, 0.4521],\n",
      "        ...,\n",
      "        [0.2949, 0.7051],\n",
      "        [0.6173, 0.3827],\n",
      "        [0.4892, 0.5108]], device='cuda:0', grad_fn=<ViewBackward0>)\n"
     ]
    },
    {
     "name": "stderr",
     "output_type": "stream",
     "text": [
      "Epoch:1:  22%|██▏       | 6/27 [00:05<00:18,  1.12it/s]"
     ]
    },
    {
     "name": "stdout",
     "output_type": "stream",
     "text": [
      "tensor([[0.3655, 0.6345],\n",
      "        [0.5155, 0.4845],\n",
      "        [0.6113, 0.3887],\n",
      "        ...,\n",
      "        [0.5216, 0.4784],\n",
      "        [0.7749, 0.2251],\n",
      "        [0.5869, 0.4131]], device='cuda:0', grad_fn=<ViewBackward0>)\n"
     ]
    },
    {
     "name": "stderr",
     "output_type": "stream",
     "text": [
      "Epoch:1:  26%|██▌       | 7/27 [00:06<00:18,  1.11it/s]"
     ]
    },
    {
     "name": "stdout",
     "output_type": "stream",
     "text": [
      "tensor([[0.2622, 0.7378],\n",
      "        [0.4570, 0.5430],\n",
      "        [0.4555, 0.5445],\n",
      "        ...,\n",
      "        [0.3589, 0.6411],\n",
      "        [0.7133, 0.2867],\n",
      "        [0.4565, 0.5435]], device='cuda:0', grad_fn=<ViewBackward0>)\n"
     ]
    },
    {
     "name": "stderr",
     "output_type": "stream",
     "text": [
      "Epoch:1:  30%|██▉       | 8/27 [00:07<00:17,  1.11it/s]"
     ]
    },
    {
     "ename": "",
     "evalue": "",
     "output_type": "error",
     "traceback": [
      "\u001b[1;31mThe Kernel crashed while executing code in the current cell or a previous cell. \n",
      "\u001b[1;31mPlease review the code in the cell(s) to identify a possible cause of the failure. \n",
      "\u001b[1;31mClick <a href='https://aka.ms/vscodeJupyterKernelCrash'>here</a> for more info. \n",
      "\u001b[1;31mView Jupyter <a href='command:jupyter.viewOutput'>log</a> for further details."
     ]
    }
   ],
   "source": [
    "for i in range(1,EPOCHS+1):\n",
    "    train_epoch(model,optim,i)\n",
    "    evaluate(model,val_dataloader,\"Validation\",metrics)"
   ]
  },
  {
   "cell_type": "code",
   "execution_count": null,
   "id": "eed0b83d",
   "metadata": {
    "execution": {
     "iopub.execute_input": "2024-04-16T07:40:05.319407Z",
     "iopub.status.busy": "2024-04-16T07:40:05.319015Z",
     "iopub.status.idle": "2024-04-16T07:40:05.323331Z",
     "shell.execute_reply": "2024-04-16T07:40:05.322403Z"
    },
    "papermill": {
     "duration": 0.410999,
     "end_time": "2024-04-16T07:40:05.325123",
     "exception": false,
     "start_time": "2024-04-16T07:40:04.914124",
     "status": "completed"
    },
    "tags": []
   },
   "outputs": [],
   "source": [
    "# gc.collect()\n",
    "# torch.cuda.empty_cache()\n",
    "# for epoch in range(1, EPOCHS+1):\n",
    "#     train_loss = train_epoch(model, optimizer,epoch)\n",
    "#     val_loss,all_labels = evaluate(model,val_dataloader=val_dataloader,name='Val')\n",
    "#     if(epoch%2==0):\n",
    "#         torch.save(model, f\"{OUTPATH}modelM1_epoch{epoch}.pth\")\n",
    "#     print((f\"Epoch: {epoch}, Train loss: {train_loss:.3f}, Val loss: {val_loss:.3f}\"))"
   ]
  },
  {
   "cell_type": "code",
   "execution_count": null,
   "id": "ea02cc0a",
   "metadata": {
    "execution": {
     "iopub.execute_input": "2024-04-16T07:40:06.132394Z",
     "iopub.status.busy": "2024-04-16T07:40:06.131533Z",
     "iopub.status.idle": "2024-04-16T07:40:06.489683Z",
     "shell.execute_reply": "2024-04-16T07:40:06.488632Z"
    },
    "papermill": {
     "duration": 0.767465,
     "end_time": "2024-04-16T07:40:06.492005",
     "exception": false,
     "start_time": "2024-04-16T07:40:05.724540",
     "status": "completed"
    },
    "tags": []
   },
   "outputs": [],
   "source": [
    "torch.save(model, f\"{OUTPATH}modelM3.pth\")\n",
    "torch.save(tokenizer, f\"{OUTPATH}tokenizerM3.pth\")"
   ]
  },
  {
   "cell_type": "code",
   "execution_count": null,
   "id": "fdab647e",
   "metadata": {
    "execution": {
     "iopub.execute_input": "2024-04-16T07:40:07.297067Z",
     "iopub.status.busy": "2024-04-16T07:40:07.296720Z",
     "iopub.status.idle": "2024-04-16T07:40:08.216083Z",
     "shell.execute_reply": "2024-04-16T07:40:08.214817Z"
    },
    "papermill": {
     "duration": 1.324971,
     "end_time": "2024-04-16T07:40:08.217842",
     "exception": true,
     "start_time": "2024-04-16T07:40:06.892871",
     "status": "failed"
    },
    "tags": []
   },
   "outputs": [
    {
     "name": "stderr",
     "output_type": "stream",
     "text": [
      "                                                   \r"
     ]
    },
    {
     "name": "stdout",
     "output_type": "stream",
     "text": [
      "Avg Test Loss: 0.6939282864332199\n",
      "Avg Test Accuracy: 0.7346433544793439, F1 Macro: 0.4238919486812682, F1 Scores: 0.7986921870648321\n"
     ]
    }
   ],
   "source": [
    "# load model\n",
    "loaded_model = torch.load(f\"{OUTPATH}modelM3.pth\")\n",
    "loaded_tokenizer = torch.load(f\"{OUTPATH}tokenizerM3.pth\")\n",
    "\n",
    "# test\n",
    "x_test, y_test = get_eval(load_data(PATH+\"val_file.json\"))\n",
    "test_dataset = Dataset(x_test,loaded_tokenizer,y_test)\n",
    "test_dataloader=DataLoader(test_dataset,batch_size=BATCH_SIZE,shuffle=False)\n",
    "loss,preds=evaluate(loaded_model,test_dataloader,\"Test\",metrics)\n"
   ]
  },
  {
   "cell_type": "code",
   "execution_count": null,
   "id": "3ccb82bf",
   "metadata": {
    "execution": {
     "iopub.status.busy": "2024-04-16T06:34:45.507649Z",
     "iopub.status.idle": "2024-04-16T06:34:45.508356Z",
     "shell.execute_reply": "2024-04-16T06:34:45.508120Z",
     "shell.execute_reply.started": "2024-04-16T06:34:45.508100Z"
    },
    "papermill": {
     "duration": null,
     "end_time": null,
     "exception": null,
     "start_time": null,
     "status": "pending"
    },
    "tags": []
   },
   "outputs": [],
   "source": [
    "y_test_list = np.array(y_test).flatten()\n",
    "\n",
    "preds=np.array(preds).flatten()"
   ]
  },
  {
   "cell_type": "code",
   "execution_count": null,
   "metadata": {},
   "outputs": [
    {
     "data": {
      "text/plain": [
       "({0: 18282, 1: 1107}, {1: 4042, 0: 15347})"
      ]
     },
     "execution_count": 28,
     "metadata": {},
     "output_type": "execute_result"
    }
   ],
   "source": [
    "dic1={}\n",
    "dic2={}\n",
    "for i in range(len(y_test_list)):\n",
    "    if y_test_list[i] in dic1:\n",
    "        dic1[y_test_list[i]]+=1\n",
    "    else:\n",
    "        dic1[y_test_list[i]]=1\n",
    "    if preds[i] in dic2:\n",
    "        dic2[preds[i]]+=1\n",
    "    else:\n",
    "        dic2[preds[i]]=1\n",
    "\n",
    "dic1,dic2"
   ]
  },
  {
   "cell_type": "code",
   "execution_count": null,
   "id": "f3e02e95",
   "metadata": {
    "execution": {
     "iopub.status.busy": "2024-04-16T06:34:45.511521Z",
     "iopub.status.idle": "2024-04-16T06:34:45.511966Z",
     "shell.execute_reply": "2024-04-16T06:34:45.511753Z",
     "shell.execute_reply.started": "2024-04-16T06:34:45.511733Z"
    },
    "papermill": {
     "duration": null,
     "end_time": null,
     "exception": null,
     "start_time": null,
     "status": "pending"
    },
    "tags": []
   },
   "outputs": [
    {
     "name": "stdout",
     "output_type": "stream",
     "text": [
      "              precision    recall  f1-score   support\n",
      "\n",
      "           0       0.93      0.78      0.85     18282\n",
      "           1       0.00      0.00      0.00      1107\n",
      "\n",
      "    accuracy                           0.73     19389\n",
      "   macro avg       0.46      0.39      0.42     19389\n",
      "weighted avg       0.88      0.73      0.80     19389\n",
      "\n",
      "F1 score for label 0: 0.8470070474887745\n",
      "F1 score for label 1: 0.0007768498737618957\n"
     ]
    }
   ],
   "source": [
    "print(classification_report(y_test_list, preds))\n",
    "f1_scores = f1_score(y_test_list,preds, average=None)\n",
    "\n",
    "# Print F1 score for each label\n",
    "for label, f1 in enumerate(f1_scores):\n",
    "    print(f\"F1 score for label {label}: {f1}\")"
   ]
  }
 ],
 "metadata": {
  "kaggle": {
   "accelerator": "gpu",
   "dataSources": [
    {
     "datasetId": 4784361,
     "sourceId": 8101413,
     "sourceType": "datasetVersion"
    }
   ],
   "dockerImageVersionId": 30683,
   "isGpuEnabled": true,
   "isInternetEnabled": true,
   "language": "python",
   "sourceType": "notebook"
  },
  "kernelspec": {
   "display_name": "Python 3",
   "language": "python",
   "name": "python3"
  },
  "language_info": {
   "codemirror_mode": {
    "name": "ipython",
    "version": 3
   },
   "file_extension": ".py",
   "mimetype": "text/x-python",
   "name": "python",
   "nbconvert_exporter": "python",
   "pygments_lexer": "ipython3",
   "version": "3.11.0"
  },
  "papermill": {
   "default_parameters": {},
   "duration": 1567.053425,
   "end_time": "2024-04-16T07:40:12.127159",
   "environment_variables": {},
   "exception": true,
   "input_path": "__notebook__.ipynb",
   "output_path": "__notebook__.ipynb",
   "parameters": {},
   "start_time": "2024-04-16T07:14:05.073734",
   "version": "2.5.0"
  },
  "widgets": {
   "application/vnd.jupyter.widget-state+json": {
    "state": {
     "046587d17a434f438dcad8db6f54169b": {
      "model_module": "@jupyter-widgets/controls",
      "model_module_version": "1.5.0",
      "model_name": "HTMLModel",
      "state": {
       "_dom_classes": [],
       "_model_module": "@jupyter-widgets/controls",
       "_model_module_version": "1.5.0",
       "_model_name": "HTMLModel",
       "_view_count": null,
       "_view_module": "@jupyter-widgets/controls",
       "_view_module_version": "1.5.0",
       "_view_name": "HTMLView",
       "description": "",
       "description_tooltip": null,
       "layout": "IPY_MODEL_a15932acd0f84790af33b57e55748d37",
       "placeholder": "​",
       "style": "IPY_MODEL_16015fe6e1fd4fd89baa6531bab1367a",
       "value": "vocab.json: 100%"
      }
     },
     "0aabf492a42e434696d2c05db0f4cd40": {
      "model_module": "@jupyter-widgets/controls",
      "model_module_version": "1.5.0",
      "model_name": "HBoxModel",
      "state": {
       "_dom_classes": [],
       "_model_module": "@jupyter-widgets/controls",
       "_model_module_version": "1.5.0",
       "_model_name": "HBoxModel",
       "_view_count": null,
       "_view_module": "@jupyter-widgets/controls",
       "_view_module_version": "1.5.0",
       "_view_name": "HBoxView",
       "box_style": "",
       "children": [
        "IPY_MODEL_046587d17a434f438dcad8db6f54169b",
        "IPY_MODEL_2fef804d90404cdc8dede0e6fa1acab8",
        "IPY_MODEL_82e74788687542d59a6ef9a1493bed48"
       ],
       "layout": "IPY_MODEL_fb476a4d32a14781a4cf041dcbf0644a"
      }
     },
     "0aba67b7d11e4333a1c10a8858835ec5": {
      "model_module": "@jupyter-widgets/controls",
      "model_module_version": "1.5.0",
      "model_name": "ProgressStyleModel",
      "state": {
       "_model_module": "@jupyter-widgets/controls",
       "_model_module_version": "1.5.0",
       "_model_name": "ProgressStyleModel",
       "_view_count": null,
       "_view_module": "@jupyter-widgets/base",
       "_view_module_version": "1.2.0",
       "_view_name": "StyleView",
       "bar_color": null,
       "description_width": ""
      }
     },
     "10ce9a5720564c0a9b32bc9103c9abfb": {
      "model_module": "@jupyter-widgets/base",
      "model_module_version": "1.2.0",
      "model_name": "LayoutModel",
      "state": {
       "_model_module": "@jupyter-widgets/base",
       "_model_module_version": "1.2.0",
       "_model_name": "LayoutModel",
       "_view_count": null,
       "_view_module": "@jupyter-widgets/base",
       "_view_module_version": "1.2.0",
       "_view_name": "LayoutView",
       "align_content": null,
       "align_items": null,
       "align_self": null,
       "border": null,
       "bottom": null,
       "display": null,
       "flex": null,
       "flex_flow": null,
       "grid_area": null,
       "grid_auto_columns": null,
       "grid_auto_flow": null,
       "grid_auto_rows": null,
       "grid_column": null,
       "grid_gap": null,
       "grid_row": null,
       "grid_template_areas": null,
       "grid_template_columns": null,
       "grid_template_rows": null,
       "height": null,
       "justify_content": null,
       "justify_items": null,
       "left": null,
       "margin": null,
       "max_height": null,
       "max_width": null,
       "min_height": null,
       "min_width": null,
       "object_fit": null,
       "object_position": null,
       "order": null,
       "overflow": null,
       "overflow_x": null,
       "overflow_y": null,
       "padding": null,
       "right": null,
       "top": null,
       "visibility": null,
       "width": null
      }
     },
     "118e52f501724c008e11fcbe00eb362c": {
      "model_module": "@jupyter-widgets/base",
      "model_module_version": "1.2.0",
      "model_name": "LayoutModel",
      "state": {
       "_model_module": "@jupyter-widgets/base",
       "_model_module_version": "1.2.0",
       "_model_name": "LayoutModel",
       "_view_count": null,
       "_view_module": "@jupyter-widgets/base",
       "_view_module_version": "1.2.0",
       "_view_name": "LayoutView",
       "align_content": null,
       "align_items": null,
       "align_self": null,
       "border": null,
       "bottom": null,
       "display": null,
       "flex": null,
       "flex_flow": null,
       "grid_area": null,
       "grid_auto_columns": null,
       "grid_auto_flow": null,
       "grid_auto_rows": null,
       "grid_column": null,
       "grid_gap": null,
       "grid_row": null,
       "grid_template_areas": null,
       "grid_template_columns": null,
       "grid_template_rows": null,
       "height": null,
       "justify_content": null,
       "justify_items": null,
       "left": null,
       "margin": null,
       "max_height": null,
       "max_width": null,
       "min_height": null,
       "min_width": null,
       "object_fit": null,
       "object_position": null,
       "order": null,
       "overflow": null,
       "overflow_x": null,
       "overflow_y": null,
       "padding": null,
       "right": null,
       "top": null,
       "visibility": null,
       "width": null
      }
     },
     "16015fe6e1fd4fd89baa6531bab1367a": {
      "model_module": "@jupyter-widgets/controls",
      "model_module_version": "1.5.0",
      "model_name": "DescriptionStyleModel",
      "state": {
       "_model_module": "@jupyter-widgets/controls",
       "_model_module_version": "1.5.0",
       "_model_name": "DescriptionStyleModel",
       "_view_count": null,
       "_view_module": "@jupyter-widgets/base",
       "_view_module_version": "1.2.0",
       "_view_name": "StyleView",
       "description_width": ""
      }
     },
     "1bb6556e09bf4fefae031e748ec5bbce": {
      "model_module": "@jupyter-widgets/controls",
      "model_module_version": "1.5.0",
      "model_name": "HBoxModel",
      "state": {
       "_dom_classes": [],
       "_model_module": "@jupyter-widgets/controls",
       "_model_module_version": "1.5.0",
       "_model_name": "HBoxModel",
       "_view_count": null,
       "_view_module": "@jupyter-widgets/controls",
       "_view_module_version": "1.5.0",
       "_view_name": "HBoxView",
       "box_style": "",
       "children": [
        "IPY_MODEL_e82c273949c54cd2948880aa7919c1a9",
        "IPY_MODEL_875dd1a1f2d64c58b2807225a7108896",
        "IPY_MODEL_d40d8d0c923a48f4b8353bdd2a30715b"
       ],
       "layout": "IPY_MODEL_202ec4ed95e94abc99bc50a6440c979b"
      }
     },
     "202ec4ed95e94abc99bc50a6440c979b": {
      "model_module": "@jupyter-widgets/base",
      "model_module_version": "1.2.0",
      "model_name": "LayoutModel",
      "state": {
       "_model_module": "@jupyter-widgets/base",
       "_model_module_version": "1.2.0",
       "_model_name": "LayoutModel",
       "_view_count": null,
       "_view_module": "@jupyter-widgets/base",
       "_view_module_version": "1.2.0",
       "_view_name": "LayoutView",
       "align_content": null,
       "align_items": null,
       "align_self": null,
       "border": null,
       "bottom": null,
       "display": null,
       "flex": null,
       "flex_flow": null,
       "grid_area": null,
       "grid_auto_columns": null,
       "grid_auto_flow": null,
       "grid_auto_rows": null,
       "grid_column": null,
       "grid_gap": null,
       "grid_row": null,
       "grid_template_areas": null,
       "grid_template_columns": null,
       "grid_template_rows": null,
       "height": null,
       "justify_content": null,
       "justify_items": null,
       "left": null,
       "margin": null,
       "max_height": null,
       "max_width": null,
       "min_height": null,
       "min_width": null,
       "object_fit": null,
       "object_position": null,
       "order": null,
       "overflow": null,
       "overflow_x": null,
       "overflow_y": null,
       "padding": null,
       "right": null,
       "top": null,
       "visibility": null,
       "width": null
      }
     },
     "247e6731303341e58ee7e724d2ed48b6": {
      "model_module": "@jupyter-widgets/base",
      "model_module_version": "1.2.0",
      "model_name": "LayoutModel",
      "state": {
       "_model_module": "@jupyter-widgets/base",
       "_model_module_version": "1.2.0",
       "_model_name": "LayoutModel",
       "_view_count": null,
       "_view_module": "@jupyter-widgets/base",
       "_view_module_version": "1.2.0",
       "_view_name": "LayoutView",
       "align_content": null,
       "align_items": null,
       "align_self": null,
       "border": null,
       "bottom": null,
       "display": null,
       "flex": null,
       "flex_flow": null,
       "grid_area": null,
       "grid_auto_columns": null,
       "grid_auto_flow": null,
       "grid_auto_rows": null,
       "grid_column": null,
       "grid_gap": null,
       "grid_row": null,
       "grid_template_areas": null,
       "grid_template_columns": null,
       "grid_template_rows": null,
       "height": null,
       "justify_content": null,
       "justify_items": null,
       "left": null,
       "margin": null,
       "max_height": null,
       "max_width": null,
       "min_height": null,
       "min_width": null,
       "object_fit": null,
       "object_position": null,
       "order": null,
       "overflow": null,
       "overflow_x": null,
       "overflow_y": null,
       "padding": null,
       "right": null,
       "top": null,
       "visibility": null,
       "width": null
      }
     },
     "299928a650614616a7b99d2706a2cb97": {
      "model_module": "@jupyter-widgets/controls",
      "model_module_version": "1.5.0",
      "model_name": "HTMLModel",
      "state": {
       "_dom_classes": [],
       "_model_module": "@jupyter-widgets/controls",
       "_model_module_version": "1.5.0",
       "_model_name": "HTMLModel",
       "_view_count": null,
       "_view_module": "@jupyter-widgets/controls",
       "_view_module_version": "1.5.0",
       "_view_name": "HTMLView",
       "description": "",
       "description_tooltip": null,
       "layout": "IPY_MODEL_3c538b530ac24fc394984420af914ef1",
       "placeholder": "​",
       "style": "IPY_MODEL_6bc74c78dc7846f39317049aa671ebd8",
       "value": "tokenizer_config.json: 100%"
      }
     },
     "2fef804d90404cdc8dede0e6fa1acab8": {
      "model_module": "@jupyter-widgets/controls",
      "model_module_version": "1.5.0",
      "model_name": "FloatProgressModel",
      "state": {
       "_dom_classes": [],
       "_model_module": "@jupyter-widgets/controls",
       "_model_module_version": "1.5.0",
       "_model_name": "FloatProgressModel",
       "_view_count": null,
       "_view_module": "@jupyter-widgets/controls",
       "_view_module_version": "1.5.0",
       "_view_name": "ProgressView",
       "bar_style": "success",
       "description": "",
       "description_tooltip": null,
       "layout": "IPY_MODEL_db40d93abf4042fe9701e3d85c749b12",
       "max": 898823,
       "min": 0,
       "orientation": "horizontal",
       "style": "IPY_MODEL_c7f3e4a04978459ea287f0c958e1f53a",
       "value": 898823
      }
     },
     "34124e142bf9475797f6863f6c7acb22": {
      "model_module": "@jupyter-widgets/controls",
      "model_module_version": "1.5.0",
      "model_name": "DescriptionStyleModel",
      "state": {
       "_model_module": "@jupyter-widgets/controls",
       "_model_module_version": "1.5.0",
       "_model_name": "DescriptionStyleModel",
       "_view_count": null,
       "_view_module": "@jupyter-widgets/base",
       "_view_module_version": "1.2.0",
       "_view_name": "StyleView",
       "description_width": ""
      }
     },
     "3a58e2f0550d45e0975761053a2e6096": {
      "model_module": "@jupyter-widgets/base",
      "model_module_version": "1.2.0",
      "model_name": "LayoutModel",
      "state": {
       "_model_module": "@jupyter-widgets/base",
       "_model_module_version": "1.2.0",
       "_model_name": "LayoutModel",
       "_view_count": null,
       "_view_module": "@jupyter-widgets/base",
       "_view_module_version": "1.2.0",
       "_view_name": "LayoutView",
       "align_content": null,
       "align_items": null,
       "align_self": null,
       "border": null,
       "bottom": null,
       "display": null,
       "flex": null,
       "flex_flow": null,
       "grid_area": null,
       "grid_auto_columns": null,
       "grid_auto_flow": null,
       "grid_auto_rows": null,
       "grid_column": null,
       "grid_gap": null,
       "grid_row": null,
       "grid_template_areas": null,
       "grid_template_columns": null,
       "grid_template_rows": null,
       "height": null,
       "justify_content": null,
       "justify_items": null,
       "left": null,
       "margin": null,
       "max_height": null,
       "max_width": null,
       "min_height": null,
       "min_width": null,
       "object_fit": null,
       "object_position": null,
       "order": null,
       "overflow": null,
       "overflow_x": null,
       "overflow_y": null,
       "padding": null,
       "right": null,
       "top": null,
       "visibility": null,
       "width": null
      }
     },
     "3c538b530ac24fc394984420af914ef1": {
      "model_module": "@jupyter-widgets/base",
      "model_module_version": "1.2.0",
      "model_name": "LayoutModel",
      "state": {
       "_model_module": "@jupyter-widgets/base",
       "_model_module_version": "1.2.0",
       "_model_name": "LayoutModel",
       "_view_count": null,
       "_view_module": "@jupyter-widgets/base",
       "_view_module_version": "1.2.0",
       "_view_name": "LayoutView",
       "align_content": null,
       "align_items": null,
       "align_self": null,
       "border": null,
       "bottom": null,
       "display": null,
       "flex": null,
       "flex_flow": null,
       "grid_area": null,
       "grid_auto_columns": null,
       "grid_auto_flow": null,
       "grid_auto_rows": null,
       "grid_column": null,
       "grid_gap": null,
       "grid_row": null,
       "grid_template_areas": null,
       "grid_template_columns": null,
       "grid_template_rows": null,
       "height": null,
       "justify_content": null,
       "justify_items": null,
       "left": null,
       "margin": null,
       "max_height": null,
       "max_width": null,
       "min_height": null,
       "min_width": null,
       "object_fit": null,
       "object_position": null,
       "order": null,
       "overflow": null,
       "overflow_x": null,
       "overflow_y": null,
       "padding": null,
       "right": null,
       "top": null,
       "visibility": null,
       "width": null
      }
     },
     "3cbb4987fcc74d8899587cc0936459c1": {
      "model_module": "@jupyter-widgets/controls",
      "model_module_version": "1.5.0",
      "model_name": "HBoxModel",
      "state": {
       "_dom_classes": [],
       "_model_module": "@jupyter-widgets/controls",
       "_model_module_version": "1.5.0",
       "_model_name": "HBoxModel",
       "_view_count": null,
       "_view_module": "@jupyter-widgets/controls",
       "_view_module_version": "1.5.0",
       "_view_name": "HBoxView",
       "box_style": "",
       "children": [
        "IPY_MODEL_3da4431bac5c4b88ab9d9d1a780031d2",
        "IPY_MODEL_7a1dcf209bdd42e3b65cd1439d9dfaeb",
        "IPY_MODEL_d2adb55f3b6749be84ad2ad66f04d9f4"
       ],
       "layout": "IPY_MODEL_7109fd5f04e44d5487cdaeff20d25ad9"
      }
     },
     "3da4431bac5c4b88ab9d9d1a780031d2": {
      "model_module": "@jupyter-widgets/controls",
      "model_module_version": "1.5.0",
      "model_name": "HTMLModel",
      "state": {
       "_dom_classes": [],
       "_model_module": "@jupyter-widgets/controls",
       "_model_module_version": "1.5.0",
       "_model_name": "HTMLModel",
       "_view_count": null,
       "_view_module": "@jupyter-widgets/controls",
       "_view_module_version": "1.5.0",
       "_view_name": "HTMLView",
       "description": "",
       "description_tooltip": null,
       "layout": "IPY_MODEL_aaa6b639cc114ae586767136a2186614",
       "placeholder": "​",
       "style": "IPY_MODEL_d39bd8522bd24127bea57b8714df46d2",
       "value": "tokenizer.json: 100%"
      }
     },
     "4189cbe2da144ae6b6aed847c27864dd": {
      "model_module": "@jupyter-widgets/base",
      "model_module_version": "1.2.0",
      "model_name": "LayoutModel",
      "state": {
       "_model_module": "@jupyter-widgets/base",
       "_model_module_version": "1.2.0",
       "_model_name": "LayoutModel",
       "_view_count": null,
       "_view_module": "@jupyter-widgets/base",
       "_view_module_version": "1.2.0",
       "_view_name": "LayoutView",
       "align_content": null,
       "align_items": null,
       "align_self": null,
       "border": null,
       "bottom": null,
       "display": null,
       "flex": null,
       "flex_flow": null,
       "grid_area": null,
       "grid_auto_columns": null,
       "grid_auto_flow": null,
       "grid_auto_rows": null,
       "grid_column": null,
       "grid_gap": null,
       "grid_row": null,
       "grid_template_areas": null,
       "grid_template_columns": null,
       "grid_template_rows": null,
       "height": null,
       "justify_content": null,
       "justify_items": null,
       "left": null,
       "margin": null,
       "max_height": null,
       "max_width": null,
       "min_height": null,
       "min_width": null,
       "object_fit": null,
       "object_position": null,
       "order": null,
       "overflow": null,
       "overflow_x": null,
       "overflow_y": null,
       "padding": null,
       "right": null,
       "top": null,
       "visibility": null,
       "width": null
      }
     },
     "44464de37c3f4523a2080d6003b06cbd": {
      "model_module": "@jupyter-widgets/controls",
      "model_module_version": "1.5.0",
      "model_name": "HTMLModel",
      "state": {
       "_dom_classes": [],
       "_model_module": "@jupyter-widgets/controls",
       "_model_module_version": "1.5.0",
       "_model_name": "HTMLModel",
       "_view_count": null,
       "_view_module": "@jupyter-widgets/controls",
       "_view_module_version": "1.5.0",
       "_view_name": "HTMLView",
       "description": "",
       "description_tooltip": null,
       "layout": "IPY_MODEL_7003a2817d074e16ab6a3299242bb906",
       "placeholder": "​",
       "style": "IPY_MODEL_cd435ba6c4ad43e4ad4116c843539f3b",
       "value": " 499M/499M [00:05&lt;00:00, 86.9MB/s]"
      }
     },
     "44aaa574747b49a08bebc113f687c55c": {
      "model_module": "@jupyter-widgets/controls",
      "model_module_version": "1.5.0",
      "model_name": "FloatProgressModel",
      "state": {
       "_dom_classes": [],
       "_model_module": "@jupyter-widgets/controls",
       "_model_module_version": "1.5.0",
       "_model_name": "FloatProgressModel",
       "_view_count": null,
       "_view_module": "@jupyter-widgets/controls",
       "_view_module_version": "1.5.0",
       "_view_name": "ProgressView",
       "bar_style": "success",
       "description": "",
       "description_tooltip": null,
       "layout": "IPY_MODEL_3a58e2f0550d45e0975761053a2e6096",
       "max": 25,
       "min": 0,
       "orientation": "horizontal",
       "style": "IPY_MODEL_8e681752fe3844df8349d541efe6cb6b",
       "value": 25
      }
     },
     "52e7095276c54cb0a0c20752397c5694": {
      "model_module": "@jupyter-widgets/base",
      "model_module_version": "1.2.0",
      "model_name": "LayoutModel",
      "state": {
       "_model_module": "@jupyter-widgets/base",
       "_model_module_version": "1.2.0",
       "_model_name": "LayoutModel",
       "_view_count": null,
       "_view_module": "@jupyter-widgets/base",
       "_view_module_version": "1.2.0",
       "_view_name": "LayoutView",
       "align_content": null,
       "align_items": null,
       "align_self": null,
       "border": null,
       "bottom": null,
       "display": null,
       "flex": null,
       "flex_flow": null,
       "grid_area": null,
       "grid_auto_columns": null,
       "grid_auto_flow": null,
       "grid_auto_rows": null,
       "grid_column": null,
       "grid_gap": null,
       "grid_row": null,
       "grid_template_areas": null,
       "grid_template_columns": null,
       "grid_template_rows": null,
       "height": null,
       "justify_content": null,
       "justify_items": null,
       "left": null,
       "margin": null,
       "max_height": null,
       "max_width": null,
       "min_height": null,
       "min_width": null,
       "object_fit": null,
       "object_position": null,
       "order": null,
       "overflow": null,
       "overflow_x": null,
       "overflow_y": null,
       "padding": null,
       "right": null,
       "top": null,
       "visibility": null,
       "width": null
      }
     },
     "55a4f05f69a74ada83ddc9f24d088a9f": {
      "model_module": "@jupyter-widgets/base",
      "model_module_version": "1.2.0",
      "model_name": "LayoutModel",
      "state": {
       "_model_module": "@jupyter-widgets/base",
       "_model_module_version": "1.2.0",
       "_model_name": "LayoutModel",
       "_view_count": null,
       "_view_module": "@jupyter-widgets/base",
       "_view_module_version": "1.2.0",
       "_view_name": "LayoutView",
       "align_content": null,
       "align_items": null,
       "align_self": null,
       "border": null,
       "bottom": null,
       "display": null,
       "flex": null,
       "flex_flow": null,
       "grid_area": null,
       "grid_auto_columns": null,
       "grid_auto_flow": null,
       "grid_auto_rows": null,
       "grid_column": null,
       "grid_gap": null,
       "grid_row": null,
       "grid_template_areas": null,
       "grid_template_columns": null,
       "grid_template_rows": null,
       "height": null,
       "justify_content": null,
       "justify_items": null,
       "left": null,
       "margin": null,
       "max_height": null,
       "max_width": null,
       "min_height": null,
       "min_width": null,
       "object_fit": null,
       "object_position": null,
       "order": null,
       "overflow": null,
       "overflow_x": null,
       "overflow_y": null,
       "padding": null,
       "right": null,
       "top": null,
       "visibility": null,
       "width": null
      }
     },
     "573657e634894eb5a5421467877693d7": {
      "model_module": "@jupyter-widgets/base",
      "model_module_version": "1.2.0",
      "model_name": "LayoutModel",
      "state": {
       "_model_module": "@jupyter-widgets/base",
       "_model_module_version": "1.2.0",
       "_model_name": "LayoutModel",
       "_view_count": null,
       "_view_module": "@jupyter-widgets/base",
       "_view_module_version": "1.2.0",
       "_view_name": "LayoutView",
       "align_content": null,
       "align_items": null,
       "align_self": null,
       "border": null,
       "bottom": null,
       "display": null,
       "flex": null,
       "flex_flow": null,
       "grid_area": null,
       "grid_auto_columns": null,
       "grid_auto_flow": null,
       "grid_auto_rows": null,
       "grid_column": null,
       "grid_gap": null,
       "grid_row": null,
       "grid_template_areas": null,
       "grid_template_columns": null,
       "grid_template_rows": null,
       "height": null,
       "justify_content": null,
       "justify_items": null,
       "left": null,
       "margin": null,
       "max_height": null,
       "max_width": null,
       "min_height": null,
       "min_width": null,
       "object_fit": null,
       "object_position": null,
       "order": null,
       "overflow": null,
       "overflow_x": null,
       "overflow_y": null,
       "padding": null,
       "right": null,
       "top": null,
       "visibility": null,
       "width": null
      }
     },
     "61a08a02ee374f30a174bd66fdb97d93": {
      "model_module": "@jupyter-widgets/controls",
      "model_module_version": "1.5.0",
      "model_name": "HTMLModel",
      "state": {
       "_dom_classes": [],
       "_model_module": "@jupyter-widgets/controls",
       "_model_module_version": "1.5.0",
       "_model_name": "HTMLModel",
       "_view_count": null,
       "_view_module": "@jupyter-widgets/controls",
       "_view_module_version": "1.5.0",
       "_view_name": "HTMLView",
       "description": "",
       "description_tooltip": null,
       "layout": "IPY_MODEL_4189cbe2da144ae6b6aed847c27864dd",
       "placeholder": "​",
       "style": "IPY_MODEL_c1254202a6fc4a1b8e2b92fdd0334037",
       "value": " 481/481 [00:00&lt;00:00, 38.6kB/s]"
      }
     },
     "672cedc8f2444dc3a7ccfe4736f550dd": {
      "model_module": "@jupyter-widgets/controls",
      "model_module_version": "1.5.0",
      "model_name": "HTMLModel",
      "state": {
       "_dom_classes": [],
       "_model_module": "@jupyter-widgets/controls",
       "_model_module_version": "1.5.0",
       "_model_name": "HTMLModel",
       "_view_count": null,
       "_view_module": "@jupyter-widgets/controls",
       "_view_module_version": "1.5.0",
       "_view_name": "HTMLView",
       "description": "",
       "description_tooltip": null,
       "layout": "IPY_MODEL_c37ae072e4de4402861f452060dd351e",
       "placeholder": "​",
       "style": "IPY_MODEL_f09f8fd8f05241c2a8b92643ace58057",
       "value": "model.safetensors: 100%"
      }
     },
     "6bc74c78dc7846f39317049aa671ebd8": {
      "model_module": "@jupyter-widgets/controls",
      "model_module_version": "1.5.0",
      "model_name": "DescriptionStyleModel",
      "state": {
       "_model_module": "@jupyter-widgets/controls",
       "_model_module_version": "1.5.0",
       "_model_name": "DescriptionStyleModel",
       "_view_count": null,
       "_view_module": "@jupyter-widgets/base",
       "_view_module_version": "1.2.0",
       "_view_name": "StyleView",
       "description_width": ""
      }
     },
     "7003a2817d074e16ab6a3299242bb906": {
      "model_module": "@jupyter-widgets/base",
      "model_module_version": "1.2.0",
      "model_name": "LayoutModel",
      "state": {
       "_model_module": "@jupyter-widgets/base",
       "_model_module_version": "1.2.0",
       "_model_name": "LayoutModel",
       "_view_count": null,
       "_view_module": "@jupyter-widgets/base",
       "_view_module_version": "1.2.0",
       "_view_name": "LayoutView",
       "align_content": null,
       "align_items": null,
       "align_self": null,
       "border": null,
       "bottom": null,
       "display": null,
       "flex": null,
       "flex_flow": null,
       "grid_area": null,
       "grid_auto_columns": null,
       "grid_auto_flow": null,
       "grid_auto_rows": null,
       "grid_column": null,
       "grid_gap": null,
       "grid_row": null,
       "grid_template_areas": null,
       "grid_template_columns": null,
       "grid_template_rows": null,
       "height": null,
       "justify_content": null,
       "justify_items": null,
       "left": null,
       "margin": null,
       "max_height": null,
       "max_width": null,
       "min_height": null,
       "min_width": null,
       "object_fit": null,
       "object_position": null,
       "order": null,
       "overflow": null,
       "overflow_x": null,
       "overflow_y": null,
       "padding": null,
       "right": null,
       "top": null,
       "visibility": null,
       "width": null
      }
     },
     "7109fd5f04e44d5487cdaeff20d25ad9": {
      "model_module": "@jupyter-widgets/base",
      "model_module_version": "1.2.0",
      "model_name": "LayoutModel",
      "state": {
       "_model_module": "@jupyter-widgets/base",
       "_model_module_version": "1.2.0",
       "_model_name": "LayoutModel",
       "_view_count": null,
       "_view_module": "@jupyter-widgets/base",
       "_view_module_version": "1.2.0",
       "_view_name": "LayoutView",
       "align_content": null,
       "align_items": null,
       "align_self": null,
       "border": null,
       "bottom": null,
       "display": null,
       "flex": null,
       "flex_flow": null,
       "grid_area": null,
       "grid_auto_columns": null,
       "grid_auto_flow": null,
       "grid_auto_rows": null,
       "grid_column": null,
       "grid_gap": null,
       "grid_row": null,
       "grid_template_areas": null,
       "grid_template_columns": null,
       "grid_template_rows": null,
       "height": null,
       "justify_content": null,
       "justify_items": null,
       "left": null,
       "margin": null,
       "max_height": null,
       "max_width": null,
       "min_height": null,
       "min_width": null,
       "object_fit": null,
       "object_position": null,
       "order": null,
       "overflow": null,
       "overflow_x": null,
       "overflow_y": null,
       "padding": null,
       "right": null,
       "top": null,
       "visibility": null,
       "width": null
      }
     },
     "7a1dcf209bdd42e3b65cd1439d9dfaeb": {
      "model_module": "@jupyter-widgets/controls",
      "model_module_version": "1.5.0",
      "model_name": "FloatProgressModel",
      "state": {
       "_dom_classes": [],
       "_model_module": "@jupyter-widgets/controls",
       "_model_module_version": "1.5.0",
       "_model_name": "FloatProgressModel",
       "_view_count": null,
       "_view_module": "@jupyter-widgets/controls",
       "_view_module_version": "1.5.0",
       "_view_name": "ProgressView",
       "bar_style": "success",
       "description": "",
       "description_tooltip": null,
       "layout": "IPY_MODEL_52e7095276c54cb0a0c20752397c5694",
       "max": 1355863,
       "min": 0,
       "orientation": "horizontal",
       "style": "IPY_MODEL_83d00f00f66e49a081288d0eb6541061",
       "value": 1355863
      }
     },
     "7d2afc35e09f452494946ce967c0bc6b": {
      "model_module": "@jupyter-widgets/controls",
      "model_module_version": "1.5.0",
      "model_name": "HBoxModel",
      "state": {
       "_dom_classes": [],
       "_model_module": "@jupyter-widgets/controls",
       "_model_module_version": "1.5.0",
       "_model_name": "HBoxModel",
       "_view_count": null,
       "_view_module": "@jupyter-widgets/controls",
       "_view_module_version": "1.5.0",
       "_view_name": "HBoxView",
       "box_style": "",
       "children": [
        "IPY_MODEL_672cedc8f2444dc3a7ccfe4736f550dd",
        "IPY_MODEL_bfb27f328a624f679ca2099a1453e50b",
        "IPY_MODEL_44464de37c3f4523a2080d6003b06cbd"
       ],
       "layout": "IPY_MODEL_10ce9a5720564c0a9b32bc9103c9abfb"
      }
     },
     "7e89aa4a09a44ef18acd98153c55932f": {
      "model_module": "@jupyter-widgets/controls",
      "model_module_version": "1.5.0",
      "model_name": "DescriptionStyleModel",
      "state": {
       "_model_module": "@jupyter-widgets/controls",
       "_model_module_version": "1.5.0",
       "_model_name": "DescriptionStyleModel",
       "_view_count": null,
       "_view_module": "@jupyter-widgets/base",
       "_view_module_version": "1.2.0",
       "_view_name": "StyleView",
       "description_width": ""
      }
     },
     "82e74788687542d59a6ef9a1493bed48": {
      "model_module": "@jupyter-widgets/controls",
      "model_module_version": "1.5.0",
      "model_name": "HTMLModel",
      "state": {
       "_dom_classes": [],
       "_model_module": "@jupyter-widgets/controls",
       "_model_module_version": "1.5.0",
       "_model_name": "HTMLModel",
       "_view_count": null,
       "_view_module": "@jupyter-widgets/controls",
       "_view_module_version": "1.5.0",
       "_view_name": "HTMLView",
       "description": "",
       "description_tooltip": null,
       "layout": "IPY_MODEL_118e52f501724c008e11fcbe00eb362c",
       "placeholder": "​",
       "style": "IPY_MODEL_d7b0bae7eaef41a3a7f951aab7da25f0",
       "value": " 899k/899k [00:00&lt;00:00, 18.2MB/s]"
      }
     },
     "83d00f00f66e49a081288d0eb6541061": {
      "model_module": "@jupyter-widgets/controls",
      "model_module_version": "1.5.0",
      "model_name": "ProgressStyleModel",
      "state": {
       "_model_module": "@jupyter-widgets/controls",
       "_model_module_version": "1.5.0",
       "_model_name": "ProgressStyleModel",
       "_view_count": null,
       "_view_module": "@jupyter-widgets/base",
       "_view_module_version": "1.2.0",
       "_view_name": "StyleView",
       "bar_color": null,
       "description_width": ""
      }
     },
     "8402066d6bbf49a090c451014c7163e6": {
      "model_module": "@jupyter-widgets/controls",
      "model_module_version": "1.5.0",
      "model_name": "HBoxModel",
      "state": {
       "_dom_classes": [],
       "_model_module": "@jupyter-widgets/controls",
       "_model_module_version": "1.5.0",
       "_model_name": "HBoxModel",
       "_view_count": null,
       "_view_module": "@jupyter-widgets/controls",
       "_view_module_version": "1.5.0",
       "_view_name": "HBoxView",
       "box_style": "",
       "children": [
        "IPY_MODEL_299928a650614616a7b99d2706a2cb97",
        "IPY_MODEL_44aaa574747b49a08bebc113f687c55c",
        "IPY_MODEL_9301ed97681f4da6ac21d52e5dcb4e52"
       ],
       "layout": "IPY_MODEL_9f2946f4145149249c164d6dad7c6b02"
      }
     },
     "870654c96a164000bbf929a407516bf8": {
      "model_module": "@jupyter-widgets/controls",
      "model_module_version": "1.5.0",
      "model_name": "DescriptionStyleModel",
      "state": {
       "_model_module": "@jupyter-widgets/controls",
       "_model_module_version": "1.5.0",
       "_model_name": "DescriptionStyleModel",
       "_view_count": null,
       "_view_module": "@jupyter-widgets/base",
       "_view_module_version": "1.2.0",
       "_view_name": "StyleView",
       "description_width": ""
      }
     },
     "875dd1a1f2d64c58b2807225a7108896": {
      "model_module": "@jupyter-widgets/controls",
      "model_module_version": "1.5.0",
      "model_name": "FloatProgressModel",
      "state": {
       "_dom_classes": [],
       "_model_module": "@jupyter-widgets/controls",
       "_model_module_version": "1.5.0",
       "_model_name": "FloatProgressModel",
       "_view_count": null,
       "_view_module": "@jupyter-widgets/controls",
       "_view_module_version": "1.5.0",
       "_view_name": "ProgressView",
       "bar_style": "success",
       "description": "",
       "description_tooltip": null,
       "layout": "IPY_MODEL_b4941febec5c41289c6445748c8c4fc6",
       "max": 456318,
       "min": 0,
       "orientation": "horizontal",
       "style": "IPY_MODEL_0aba67b7d11e4333a1c10a8858835ec5",
       "value": 456318
      }
     },
     "87ffa0cf262e44c28ea244df7f6495df": {
      "model_module": "@jupyter-widgets/controls",
      "model_module_version": "1.5.0",
      "model_name": "DescriptionStyleModel",
      "state": {
       "_model_module": "@jupyter-widgets/controls",
       "_model_module_version": "1.5.0",
       "_model_name": "DescriptionStyleModel",
       "_view_count": null,
       "_view_module": "@jupyter-widgets/base",
       "_view_module_version": "1.2.0",
       "_view_name": "StyleView",
       "description_width": ""
      }
     },
     "8e681752fe3844df8349d541efe6cb6b": {
      "model_module": "@jupyter-widgets/controls",
      "model_module_version": "1.5.0",
      "model_name": "ProgressStyleModel",
      "state": {
       "_model_module": "@jupyter-widgets/controls",
       "_model_module_version": "1.5.0",
       "_model_name": "ProgressStyleModel",
       "_view_count": null,
       "_view_module": "@jupyter-widgets/base",
       "_view_module_version": "1.2.0",
       "_view_name": "StyleView",
       "bar_color": null,
       "description_width": ""
      }
     },
     "9301ed97681f4da6ac21d52e5dcb4e52": {
      "model_module": "@jupyter-widgets/controls",
      "model_module_version": "1.5.0",
      "model_name": "HTMLModel",
      "state": {
       "_dom_classes": [],
       "_model_module": "@jupyter-widgets/controls",
       "_model_module_version": "1.5.0",
       "_model_name": "HTMLModel",
       "_view_count": null,
       "_view_module": "@jupyter-widgets/controls",
       "_view_module_version": "1.5.0",
       "_view_name": "HTMLView",
       "description": "",
       "description_tooltip": null,
       "layout": "IPY_MODEL_c9b69541a9a3412599b3f6d89dd2fe04",
       "placeholder": "​",
       "style": "IPY_MODEL_c97f5845bde74cccbb09231b8bfccd9b",
       "value": " 25.0/25.0 [00:00&lt;00:00, 2.01kB/s]"
      }
     },
     "980e272f72ee41a39da1670509eb37bd": {
      "model_module": "@jupyter-widgets/controls",
      "model_module_version": "1.5.0",
      "model_name": "ProgressStyleModel",
      "state": {
       "_model_module": "@jupyter-widgets/controls",
       "_model_module_version": "1.5.0",
       "_model_name": "ProgressStyleModel",
       "_view_count": null,
       "_view_module": "@jupyter-widgets/base",
       "_view_module_version": "1.2.0",
       "_view_name": "StyleView",
       "bar_color": null,
       "description_width": ""
      }
     },
     "9977eea6a5cc4b2eb597b368367eed3e": {
      "model_module": "@jupyter-widgets/base",
      "model_module_version": "1.2.0",
      "model_name": "LayoutModel",
      "state": {
       "_model_module": "@jupyter-widgets/base",
       "_model_module_version": "1.2.0",
       "_model_name": "LayoutModel",
       "_view_count": null,
       "_view_module": "@jupyter-widgets/base",
       "_view_module_version": "1.2.0",
       "_view_name": "LayoutView",
       "align_content": null,
       "align_items": null,
       "align_self": null,
       "border": null,
       "bottom": null,
       "display": null,
       "flex": null,
       "flex_flow": null,
       "grid_area": null,
       "grid_auto_columns": null,
       "grid_auto_flow": null,
       "grid_auto_rows": null,
       "grid_column": null,
       "grid_gap": null,
       "grid_row": null,
       "grid_template_areas": null,
       "grid_template_columns": null,
       "grid_template_rows": null,
       "height": null,
       "justify_content": null,
       "justify_items": null,
       "left": null,
       "margin": null,
       "max_height": null,
       "max_width": null,
       "min_height": null,
       "min_width": null,
       "object_fit": null,
       "object_position": null,
       "order": null,
       "overflow": null,
       "overflow_x": null,
       "overflow_y": null,
       "padding": null,
       "right": null,
       "top": null,
       "visibility": null,
       "width": null
      }
     },
     "9c232973e78b497e851383de675a35ce": {
      "model_module": "@jupyter-widgets/controls",
      "model_module_version": "1.5.0",
      "model_name": "HTMLModel",
      "state": {
       "_dom_classes": [],
       "_model_module": "@jupyter-widgets/controls",
       "_model_module_version": "1.5.0",
       "_model_name": "HTMLModel",
       "_view_count": null,
       "_view_module": "@jupyter-widgets/controls",
       "_view_module_version": "1.5.0",
       "_view_name": "HTMLView",
       "description": "",
       "description_tooltip": null,
       "layout": "IPY_MODEL_9977eea6a5cc4b2eb597b368367eed3e",
       "placeholder": "​",
       "style": "IPY_MODEL_870654c96a164000bbf929a407516bf8",
       "value": "config.json: 100%"
      }
     },
     "9f2946f4145149249c164d6dad7c6b02": {
      "model_module": "@jupyter-widgets/base",
      "model_module_version": "1.2.0",
      "model_name": "LayoutModel",
      "state": {
       "_model_module": "@jupyter-widgets/base",
       "_model_module_version": "1.2.0",
       "_model_name": "LayoutModel",
       "_view_count": null,
       "_view_module": "@jupyter-widgets/base",
       "_view_module_version": "1.2.0",
       "_view_name": "LayoutView",
       "align_content": null,
       "align_items": null,
       "align_self": null,
       "border": null,
       "bottom": null,
       "display": null,
       "flex": null,
       "flex_flow": null,
       "grid_area": null,
       "grid_auto_columns": null,
       "grid_auto_flow": null,
       "grid_auto_rows": null,
       "grid_column": null,
       "grid_gap": null,
       "grid_row": null,
       "grid_template_areas": null,
       "grid_template_columns": null,
       "grid_template_rows": null,
       "height": null,
       "justify_content": null,
       "justify_items": null,
       "left": null,
       "margin": null,
       "max_height": null,
       "max_width": null,
       "min_height": null,
       "min_width": null,
       "object_fit": null,
       "object_position": null,
       "order": null,
       "overflow": null,
       "overflow_x": null,
       "overflow_y": null,
       "padding": null,
       "right": null,
       "top": null,
       "visibility": null,
       "width": null
      }
     },
     "a15932acd0f84790af33b57e55748d37": {
      "model_module": "@jupyter-widgets/base",
      "model_module_version": "1.2.0",
      "model_name": "LayoutModel",
      "state": {
       "_model_module": "@jupyter-widgets/base",
       "_model_module_version": "1.2.0",
       "_model_name": "LayoutModel",
       "_view_count": null,
       "_view_module": "@jupyter-widgets/base",
       "_view_module_version": "1.2.0",
       "_view_name": "LayoutView",
       "align_content": null,
       "align_items": null,
       "align_self": null,
       "border": null,
       "bottom": null,
       "display": null,
       "flex": null,
       "flex_flow": null,
       "grid_area": null,
       "grid_auto_columns": null,
       "grid_auto_flow": null,
       "grid_auto_rows": null,
       "grid_column": null,
       "grid_gap": null,
       "grid_row": null,
       "grid_template_areas": null,
       "grid_template_columns": null,
       "grid_template_rows": null,
       "height": null,
       "justify_content": null,
       "justify_items": null,
       "left": null,
       "margin": null,
       "max_height": null,
       "max_width": null,
       "min_height": null,
       "min_width": null,
       "object_fit": null,
       "object_position": null,
       "order": null,
       "overflow": null,
       "overflow_x": null,
       "overflow_y": null,
       "padding": null,
       "right": null,
       "top": null,
       "visibility": null,
       "width": null
      }
     },
     "aaa6b639cc114ae586767136a2186614": {
      "model_module": "@jupyter-widgets/base",
      "model_module_version": "1.2.0",
      "model_name": "LayoutModel",
      "state": {
       "_model_module": "@jupyter-widgets/base",
       "_model_module_version": "1.2.0",
       "_model_name": "LayoutModel",
       "_view_count": null,
       "_view_module": "@jupyter-widgets/base",
       "_view_module_version": "1.2.0",
       "_view_name": "LayoutView",
       "align_content": null,
       "align_items": null,
       "align_self": null,
       "border": null,
       "bottom": null,
       "display": null,
       "flex": null,
       "flex_flow": null,
       "grid_area": null,
       "grid_auto_columns": null,
       "grid_auto_flow": null,
       "grid_auto_rows": null,
       "grid_column": null,
       "grid_gap": null,
       "grid_row": null,
       "grid_template_areas": null,
       "grid_template_columns": null,
       "grid_template_rows": null,
       "height": null,
       "justify_content": null,
       "justify_items": null,
       "left": null,
       "margin": null,
       "max_height": null,
       "max_width": null,
       "min_height": null,
       "min_width": null,
       "object_fit": null,
       "object_position": null,
       "order": null,
       "overflow": null,
       "overflow_x": null,
       "overflow_y": null,
       "padding": null,
       "right": null,
       "top": null,
       "visibility": null,
       "width": null
      }
     },
     "b4941febec5c41289c6445748c8c4fc6": {
      "model_module": "@jupyter-widgets/base",
      "model_module_version": "1.2.0",
      "model_name": "LayoutModel",
      "state": {
       "_model_module": "@jupyter-widgets/base",
       "_model_module_version": "1.2.0",
       "_model_name": "LayoutModel",
       "_view_count": null,
       "_view_module": "@jupyter-widgets/base",
       "_view_module_version": "1.2.0",
       "_view_name": "LayoutView",
       "align_content": null,
       "align_items": null,
       "align_self": null,
       "border": null,
       "bottom": null,
       "display": null,
       "flex": null,
       "flex_flow": null,
       "grid_area": null,
       "grid_auto_columns": null,
       "grid_auto_flow": null,
       "grid_auto_rows": null,
       "grid_column": null,
       "grid_gap": null,
       "grid_row": null,
       "grid_template_areas": null,
       "grid_template_columns": null,
       "grid_template_rows": null,
       "height": null,
       "justify_content": null,
       "justify_items": null,
       "left": null,
       "margin": null,
       "max_height": null,
       "max_width": null,
       "min_height": null,
       "min_width": null,
       "object_fit": null,
       "object_position": null,
       "order": null,
       "overflow": null,
       "overflow_x": null,
       "overflow_y": null,
       "padding": null,
       "right": null,
       "top": null,
       "visibility": null,
       "width": null
      }
     },
     "bfb27f328a624f679ca2099a1453e50b": {
      "model_module": "@jupyter-widgets/controls",
      "model_module_version": "1.5.0",
      "model_name": "FloatProgressModel",
      "state": {
       "_dom_classes": [],
       "_model_module": "@jupyter-widgets/controls",
       "_model_module_version": "1.5.0",
       "_model_name": "FloatProgressModel",
       "_view_count": null,
       "_view_module": "@jupyter-widgets/controls",
       "_view_module_version": "1.5.0",
       "_view_name": "ProgressView",
       "bar_style": "success",
       "description": "",
       "description_tooltip": null,
       "layout": "IPY_MODEL_55a4f05f69a74ada83ddc9f24d088a9f",
       "max": 498818054,
       "min": 0,
       "orientation": "horizontal",
       "style": "IPY_MODEL_f732f41318c24b40b27b1f1c002dfccf",
       "value": 498818054
      }
     },
     "c1254202a6fc4a1b8e2b92fdd0334037": {
      "model_module": "@jupyter-widgets/controls",
      "model_module_version": "1.5.0",
      "model_name": "DescriptionStyleModel",
      "state": {
       "_model_module": "@jupyter-widgets/controls",
       "_model_module_version": "1.5.0",
       "_model_name": "DescriptionStyleModel",
       "_view_count": null,
       "_view_module": "@jupyter-widgets/base",
       "_view_module_version": "1.2.0",
       "_view_name": "StyleView",
       "description_width": ""
      }
     },
     "c37ae072e4de4402861f452060dd351e": {
      "model_module": "@jupyter-widgets/base",
      "model_module_version": "1.2.0",
      "model_name": "LayoutModel",
      "state": {
       "_model_module": "@jupyter-widgets/base",
       "_model_module_version": "1.2.0",
       "_model_name": "LayoutModel",
       "_view_count": null,
       "_view_module": "@jupyter-widgets/base",
       "_view_module_version": "1.2.0",
       "_view_name": "LayoutView",
       "align_content": null,
       "align_items": null,
       "align_self": null,
       "border": null,
       "bottom": null,
       "display": null,
       "flex": null,
       "flex_flow": null,
       "grid_area": null,
       "grid_auto_columns": null,
       "grid_auto_flow": null,
       "grid_auto_rows": null,
       "grid_column": null,
       "grid_gap": null,
       "grid_row": null,
       "grid_template_areas": null,
       "grid_template_columns": null,
       "grid_template_rows": null,
       "height": null,
       "justify_content": null,
       "justify_items": null,
       "left": null,
       "margin": null,
       "max_height": null,
       "max_width": null,
       "min_height": null,
       "min_width": null,
       "object_fit": null,
       "object_position": null,
       "order": null,
       "overflow": null,
       "overflow_x": null,
       "overflow_y": null,
       "padding": null,
       "right": null,
       "top": null,
       "visibility": null,
       "width": null
      }
     },
     "c7f3e4a04978459ea287f0c958e1f53a": {
      "model_module": "@jupyter-widgets/controls",
      "model_module_version": "1.5.0",
      "model_name": "ProgressStyleModel",
      "state": {
       "_model_module": "@jupyter-widgets/controls",
       "_model_module_version": "1.5.0",
       "_model_name": "ProgressStyleModel",
       "_view_count": null,
       "_view_module": "@jupyter-widgets/base",
       "_view_module_version": "1.2.0",
       "_view_name": "StyleView",
       "bar_color": null,
       "description_width": ""
      }
     },
     "c8d583c3ef83420a935d00a7035cf89b": {
      "model_module": "@jupyter-widgets/base",
      "model_module_version": "1.2.0",
      "model_name": "LayoutModel",
      "state": {
       "_model_module": "@jupyter-widgets/base",
       "_model_module_version": "1.2.0",
       "_model_name": "LayoutModel",
       "_view_count": null,
       "_view_module": "@jupyter-widgets/base",
       "_view_module_version": "1.2.0",
       "_view_name": "LayoutView",
       "align_content": null,
       "align_items": null,
       "align_self": null,
       "border": null,
       "bottom": null,
       "display": null,
       "flex": null,
       "flex_flow": null,
       "grid_area": null,
       "grid_auto_columns": null,
       "grid_auto_flow": null,
       "grid_auto_rows": null,
       "grid_column": null,
       "grid_gap": null,
       "grid_row": null,
       "grid_template_areas": null,
       "grid_template_columns": null,
       "grid_template_rows": null,
       "height": null,
       "justify_content": null,
       "justify_items": null,
       "left": null,
       "margin": null,
       "max_height": null,
       "max_width": null,
       "min_height": null,
       "min_width": null,
       "object_fit": null,
       "object_position": null,
       "order": null,
       "overflow": null,
       "overflow_x": null,
       "overflow_y": null,
       "padding": null,
       "right": null,
       "top": null,
       "visibility": null,
       "width": null
      }
     },
     "c97f5845bde74cccbb09231b8bfccd9b": {
      "model_module": "@jupyter-widgets/controls",
      "model_module_version": "1.5.0",
      "model_name": "DescriptionStyleModel",
      "state": {
       "_model_module": "@jupyter-widgets/controls",
       "_model_module_version": "1.5.0",
       "_model_name": "DescriptionStyleModel",
       "_view_count": null,
       "_view_module": "@jupyter-widgets/base",
       "_view_module_version": "1.2.0",
       "_view_name": "StyleView",
       "description_width": ""
      }
     },
     "c9b69541a9a3412599b3f6d89dd2fe04": {
      "model_module": "@jupyter-widgets/base",
      "model_module_version": "1.2.0",
      "model_name": "LayoutModel",
      "state": {
       "_model_module": "@jupyter-widgets/base",
       "_model_module_version": "1.2.0",
       "_model_name": "LayoutModel",
       "_view_count": null,
       "_view_module": "@jupyter-widgets/base",
       "_view_module_version": "1.2.0",
       "_view_name": "LayoutView",
       "align_content": null,
       "align_items": null,
       "align_self": null,
       "border": null,
       "bottom": null,
       "display": null,
       "flex": null,
       "flex_flow": null,
       "grid_area": null,
       "grid_auto_columns": null,
       "grid_auto_flow": null,
       "grid_auto_rows": null,
       "grid_column": null,
       "grid_gap": null,
       "grid_row": null,
       "grid_template_areas": null,
       "grid_template_columns": null,
       "grid_template_rows": null,
       "height": null,
       "justify_content": null,
       "justify_items": null,
       "left": null,
       "margin": null,
       "max_height": null,
       "max_width": null,
       "min_height": null,
       "min_width": null,
       "object_fit": null,
       "object_position": null,
       "order": null,
       "overflow": null,
       "overflow_x": null,
       "overflow_y": null,
       "padding": null,
       "right": null,
       "top": null,
       "visibility": null,
       "width": null
      }
     },
     "cd435ba6c4ad43e4ad4116c843539f3b": {
      "model_module": "@jupyter-widgets/controls",
      "model_module_version": "1.5.0",
      "model_name": "DescriptionStyleModel",
      "state": {
       "_model_module": "@jupyter-widgets/controls",
       "_model_module_version": "1.5.0",
       "_model_name": "DescriptionStyleModel",
       "_view_count": null,
       "_view_module": "@jupyter-widgets/base",
       "_view_module_version": "1.2.0",
       "_view_name": "StyleView",
       "description_width": ""
      }
     },
     "d2adb55f3b6749be84ad2ad66f04d9f4": {
      "model_module": "@jupyter-widgets/controls",
      "model_module_version": "1.5.0",
      "model_name": "HTMLModel",
      "state": {
       "_dom_classes": [],
       "_model_module": "@jupyter-widgets/controls",
       "_model_module_version": "1.5.0",
       "_model_name": "HTMLModel",
       "_view_count": null,
       "_view_module": "@jupyter-widgets/controls",
       "_view_module_version": "1.5.0",
       "_view_name": "HTMLView",
       "description": "",
       "description_tooltip": null,
       "layout": "IPY_MODEL_fa36afdef22648a38d0fb2343185a8ca",
       "placeholder": "​",
       "style": "IPY_MODEL_7e89aa4a09a44ef18acd98153c55932f",
       "value": " 1.36M/1.36M [00:00&lt;00:00, 4.19MB/s]"
      }
     },
     "d3871c50f65e4c8193fb49fcc7fa2d01": {
      "model_module": "@jupyter-widgets/base",
      "model_module_version": "1.2.0",
      "model_name": "LayoutModel",
      "state": {
       "_model_module": "@jupyter-widgets/base",
       "_model_module_version": "1.2.0",
       "_model_name": "LayoutModel",
       "_view_count": null,
       "_view_module": "@jupyter-widgets/base",
       "_view_module_version": "1.2.0",
       "_view_name": "LayoutView",
       "align_content": null,
       "align_items": null,
       "align_self": null,
       "border": null,
       "bottom": null,
       "display": null,
       "flex": null,
       "flex_flow": null,
       "grid_area": null,
       "grid_auto_columns": null,
       "grid_auto_flow": null,
       "grid_auto_rows": null,
       "grid_column": null,
       "grid_gap": null,
       "grid_row": null,
       "grid_template_areas": null,
       "grid_template_columns": null,
       "grid_template_rows": null,
       "height": null,
       "justify_content": null,
       "justify_items": null,
       "left": null,
       "margin": null,
       "max_height": null,
       "max_width": null,
       "min_height": null,
       "min_width": null,
       "object_fit": null,
       "object_position": null,
       "order": null,
       "overflow": null,
       "overflow_x": null,
       "overflow_y": null,
       "padding": null,
       "right": null,
       "top": null,
       "visibility": null,
       "width": null
      }
     },
     "d39bd8522bd24127bea57b8714df46d2": {
      "model_module": "@jupyter-widgets/controls",
      "model_module_version": "1.5.0",
      "model_name": "DescriptionStyleModel",
      "state": {
       "_model_module": "@jupyter-widgets/controls",
       "_model_module_version": "1.5.0",
       "_model_name": "DescriptionStyleModel",
       "_view_count": null,
       "_view_module": "@jupyter-widgets/base",
       "_view_module_version": "1.2.0",
       "_view_name": "StyleView",
       "description_width": ""
      }
     },
     "d40d8d0c923a48f4b8353bdd2a30715b": {
      "model_module": "@jupyter-widgets/controls",
      "model_module_version": "1.5.0",
      "model_name": "HTMLModel",
      "state": {
       "_dom_classes": [],
       "_model_module": "@jupyter-widgets/controls",
       "_model_module_version": "1.5.0",
       "_model_name": "HTMLModel",
       "_view_count": null,
       "_view_module": "@jupyter-widgets/controls",
       "_view_module_version": "1.5.0",
       "_view_name": "HTMLView",
       "description": "",
       "description_tooltip": null,
       "layout": "IPY_MODEL_d3871c50f65e4c8193fb49fcc7fa2d01",
       "placeholder": "​",
       "style": "IPY_MODEL_34124e142bf9475797f6863f6c7acb22",
       "value": " 456k/456k [00:00&lt;00:00, 3.16MB/s]"
      }
     },
     "d7b0bae7eaef41a3a7f951aab7da25f0": {
      "model_module": "@jupyter-widgets/controls",
      "model_module_version": "1.5.0",
      "model_name": "DescriptionStyleModel",
      "state": {
       "_model_module": "@jupyter-widgets/controls",
       "_model_module_version": "1.5.0",
       "_model_name": "DescriptionStyleModel",
       "_view_count": null,
       "_view_module": "@jupyter-widgets/base",
       "_view_module_version": "1.2.0",
       "_view_name": "StyleView",
       "description_width": ""
      }
     },
     "db40d93abf4042fe9701e3d85c749b12": {
      "model_module": "@jupyter-widgets/base",
      "model_module_version": "1.2.0",
      "model_name": "LayoutModel",
      "state": {
       "_model_module": "@jupyter-widgets/base",
       "_model_module_version": "1.2.0",
       "_model_name": "LayoutModel",
       "_view_count": null,
       "_view_module": "@jupyter-widgets/base",
       "_view_module_version": "1.2.0",
       "_view_name": "LayoutView",
       "align_content": null,
       "align_items": null,
       "align_self": null,
       "border": null,
       "bottom": null,
       "display": null,
       "flex": null,
       "flex_flow": null,
       "grid_area": null,
       "grid_auto_columns": null,
       "grid_auto_flow": null,
       "grid_auto_rows": null,
       "grid_column": null,
       "grid_gap": null,
       "grid_row": null,
       "grid_template_areas": null,
       "grid_template_columns": null,
       "grid_template_rows": null,
       "height": null,
       "justify_content": null,
       "justify_items": null,
       "left": null,
       "margin": null,
       "max_height": null,
       "max_width": null,
       "min_height": null,
       "min_width": null,
       "object_fit": null,
       "object_position": null,
       "order": null,
       "overflow": null,
       "overflow_x": null,
       "overflow_y": null,
       "padding": null,
       "right": null,
       "top": null,
       "visibility": null,
       "width": null
      }
     },
     "e82c273949c54cd2948880aa7919c1a9": {
      "model_module": "@jupyter-widgets/controls",
      "model_module_version": "1.5.0",
      "model_name": "HTMLModel",
      "state": {
       "_dom_classes": [],
       "_model_module": "@jupyter-widgets/controls",
       "_model_module_version": "1.5.0",
       "_model_name": "HTMLModel",
       "_view_count": null,
       "_view_module": "@jupyter-widgets/controls",
       "_view_module_version": "1.5.0",
       "_view_name": "HTMLView",
       "description": "",
       "description_tooltip": null,
       "layout": "IPY_MODEL_247e6731303341e58ee7e724d2ed48b6",
       "placeholder": "​",
       "style": "IPY_MODEL_87ffa0cf262e44c28ea244df7f6495df",
       "value": "merges.txt: 100%"
      }
     },
     "e947dd7ac7a9464cb9e659e5aa918709": {
      "model_module": "@jupyter-widgets/controls",
      "model_module_version": "1.5.0",
      "model_name": "HBoxModel",
      "state": {
       "_dom_classes": [],
       "_model_module": "@jupyter-widgets/controls",
       "_model_module_version": "1.5.0",
       "_model_name": "HBoxModel",
       "_view_count": null,
       "_view_module": "@jupyter-widgets/controls",
       "_view_module_version": "1.5.0",
       "_view_name": "HBoxView",
       "box_style": "",
       "children": [
        "IPY_MODEL_9c232973e78b497e851383de675a35ce",
        "IPY_MODEL_fc78762de6254fb982dd69880af289c2",
        "IPY_MODEL_61a08a02ee374f30a174bd66fdb97d93"
       ],
       "layout": "IPY_MODEL_c8d583c3ef83420a935d00a7035cf89b"
      }
     },
     "f09f8fd8f05241c2a8b92643ace58057": {
      "model_module": "@jupyter-widgets/controls",
      "model_module_version": "1.5.0",
      "model_name": "DescriptionStyleModel",
      "state": {
       "_model_module": "@jupyter-widgets/controls",
       "_model_module_version": "1.5.0",
       "_model_name": "DescriptionStyleModel",
       "_view_count": null,
       "_view_module": "@jupyter-widgets/base",
       "_view_module_version": "1.2.0",
       "_view_name": "StyleView",
       "description_width": ""
      }
     },
     "f732f41318c24b40b27b1f1c002dfccf": {
      "model_module": "@jupyter-widgets/controls",
      "model_module_version": "1.5.0",
      "model_name": "ProgressStyleModel",
      "state": {
       "_model_module": "@jupyter-widgets/controls",
       "_model_module_version": "1.5.0",
       "_model_name": "ProgressStyleModel",
       "_view_count": null,
       "_view_module": "@jupyter-widgets/base",
       "_view_module_version": "1.2.0",
       "_view_name": "StyleView",
       "bar_color": null,
       "description_width": ""
      }
     },
     "fa36afdef22648a38d0fb2343185a8ca": {
      "model_module": "@jupyter-widgets/base",
      "model_module_version": "1.2.0",
      "model_name": "LayoutModel",
      "state": {
       "_model_module": "@jupyter-widgets/base",
       "_model_module_version": "1.2.0",
       "_model_name": "LayoutModel",
       "_view_count": null,
       "_view_module": "@jupyter-widgets/base",
       "_view_module_version": "1.2.0",
       "_view_name": "LayoutView",
       "align_content": null,
       "align_items": null,
       "align_self": null,
       "border": null,
       "bottom": null,
       "display": null,
       "flex": null,
       "flex_flow": null,
       "grid_area": null,
       "grid_auto_columns": null,
       "grid_auto_flow": null,
       "grid_auto_rows": null,
       "grid_column": null,
       "grid_gap": null,
       "grid_row": null,
       "grid_template_areas": null,
       "grid_template_columns": null,
       "grid_template_rows": null,
       "height": null,
       "justify_content": null,
       "justify_items": null,
       "left": null,
       "margin": null,
       "max_height": null,
       "max_width": null,
       "min_height": null,
       "min_width": null,
       "object_fit": null,
       "object_position": null,
       "order": null,
       "overflow": null,
       "overflow_x": null,
       "overflow_y": null,
       "padding": null,
       "right": null,
       "top": null,
       "visibility": null,
       "width": null
      }
     },
     "fb476a4d32a14781a4cf041dcbf0644a": {
      "model_module": "@jupyter-widgets/base",
      "model_module_version": "1.2.0",
      "model_name": "LayoutModel",
      "state": {
       "_model_module": "@jupyter-widgets/base",
       "_model_module_version": "1.2.0",
       "_model_name": "LayoutModel",
       "_view_count": null,
       "_view_module": "@jupyter-widgets/base",
       "_view_module_version": "1.2.0",
       "_view_name": "LayoutView",
       "align_content": null,
       "align_items": null,
       "align_self": null,
       "border": null,
       "bottom": null,
       "display": null,
       "flex": null,
       "flex_flow": null,
       "grid_area": null,
       "grid_auto_columns": null,
       "grid_auto_flow": null,
       "grid_auto_rows": null,
       "grid_column": null,
       "grid_gap": null,
       "grid_row": null,
       "grid_template_areas": null,
       "grid_template_columns": null,
       "grid_template_rows": null,
       "height": null,
       "justify_content": null,
       "justify_items": null,
       "left": null,
       "margin": null,
       "max_height": null,
       "max_width": null,
       "min_height": null,
       "min_width": null,
       "object_fit": null,
       "object_position": null,
       "order": null,
       "overflow": null,
       "overflow_x": null,
       "overflow_y": null,
       "padding": null,
       "right": null,
       "top": null,
       "visibility": null,
       "width": null
      }
     },
     "fc78762de6254fb982dd69880af289c2": {
      "model_module": "@jupyter-widgets/controls",
      "model_module_version": "1.5.0",
      "model_name": "FloatProgressModel",
      "state": {
       "_dom_classes": [],
       "_model_module": "@jupyter-widgets/controls",
       "_model_module_version": "1.5.0",
       "_model_name": "FloatProgressModel",
       "_view_count": null,
       "_view_module": "@jupyter-widgets/controls",
       "_view_module_version": "1.5.0",
       "_view_name": "ProgressView",
       "bar_style": "success",
       "description": "",
       "description_tooltip": null,
       "layout": "IPY_MODEL_573657e634894eb5a5421467877693d7",
       "max": 481,
       "min": 0,
       "orientation": "horizontal",
       "style": "IPY_MODEL_980e272f72ee41a39da1670509eb37bd",
       "value": 481
      }
     }
    },
    "version_major": 2,
    "version_minor": 0
   }
  }
 },
 "nbformat": 4,
 "nbformat_minor": 5
}
