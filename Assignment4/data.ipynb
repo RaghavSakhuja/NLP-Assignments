{
 "cells": [
  {
   "cell_type": "code",
   "execution_count": 9,
   "metadata": {},
   "outputs": [],
   "source": [
    "import pandas as pd\n",
    "import json\n",
    "import numpy as np\n"
   ]
  },
  {
   "cell_type": "code",
   "execution_count": null,
   "metadata": {},
   "outputs": [],
   "source": [
    "\n",
    "\n",
    "# read json\n",
    "with open('train_file.json') as f:\n",
    "    data = json.load(f)\n",
    "    # to pandas\n",
    "    df = pd.DataFrame(data)\n"
   ]
  },
  {
   "cell_type": "code",
   "execution_count": 12,
   "metadata": {},
   "outputs": [
    {
     "data": {
      "text/html": [
       "<div>\n",
       "<style scoped>\n",
       "    .dataframe tbody tr th:only-of-type {\n",
       "        vertical-align: middle;\n",
       "    }\n",
       "\n",
       "    .dataframe tbody tr th {\n",
       "        vertical-align: top;\n",
       "    }\n",
       "\n",
       "    .dataframe thead th {\n",
       "        text-align: right;\n",
       "    }\n",
       "</style>\n",
       "<table border=\"1\" class=\"dataframe\">\n",
       "  <thead>\n",
       "    <tr style=\"text-align: right;\">\n",
       "      <th></th>\n",
       "      <th>episode</th>\n",
       "      <th>speakers</th>\n",
       "      <th>emotions</th>\n",
       "      <th>utterances</th>\n",
       "      <th>triggers</th>\n",
       "    </tr>\n",
       "  </thead>\n",
       "  <tbody>\n",
       "    <tr>\n",
       "      <th>0</th>\n",
       "      <td>utterance_3492</td>\n",
       "      <td>[Phoebe, Eric, Phoebe, Eric, Phoebe]</td>\n",
       "      <td>[surprise, fear, surprise, sadness, disgust]</td>\n",
       "      <td>[You-youyou had sex with Ursula?!, Uh, a litt...</td>\n",
       "      <td>[1.0, 1.0, 0.0, 0.0, 0.0]</td>\n",
       "    </tr>\n",
       "    <tr>\n",
       "      <th>1</th>\n",
       "      <td>utterance_3952</td>\n",
       "      <td>[Monica, Monica, Phoebe, Joey, Joey, Joey, Rac...</td>\n",
       "      <td>[disgust, disgust, anger, sadness, surprise, a...</td>\n",
       "      <td>[Dad, please don't pick your teeth out here!, ...</td>\n",
       "      <td>[0.0, 0.0, 0.0, 0.0, 0.0, 0.0, 0.0, 0.0, 0.0, ...</td>\n",
       "    </tr>\n",
       "    <tr>\n",
       "      <th>2</th>\n",
       "      <td>utterance_3198</td>\n",
       "      <td>[Older Scientist, Ross, Ross, Joey, Ross, Ross...</td>\n",
       "      <td>[neutral, neutral, neutral, neutral, neutral, ...</td>\n",
       "      <td>[Dr. Geller, there's a seat over here., Thank ...</td>\n",
       "      <td>[0.0, 0.0, 0.0, 0.0, 1.0, 1.0, 1.0]</td>\n",
       "    </tr>\n",
       "    <tr>\n",
       "      <th>3</th>\n",
       "      <td>utterance_2834</td>\n",
       "      <td>[Monica, Monica, Monica]</td>\n",
       "      <td>[neutral, surprise, neutral]</td>\n",
       "      <td>[So, how'd the lasagne go over?, Really?!, Good.]</td>\n",
       "      <td>[0.0, 0.0, 1.0]</td>\n",
       "    </tr>\n",
       "    <tr>\n",
       "      <th>4</th>\n",
       "      <td>utterance_453</td>\n",
       "      <td>[Kate, The Director, Kate]</td>\n",
       "      <td>[joy, sadness, sadness]</td>\n",
       "      <td>[Become a drama critic!, I am hurt!  A plague ...</td>\n",
       "      <td>[0.0, 0.0, 1.0]</td>\n",
       "    </tr>\n",
       "  </tbody>\n",
       "</table>\n",
       "</div>"
      ],
      "text/plain": [
       "          episode                                           speakers  \\\n",
       "0  utterance_3492               [Phoebe, Eric, Phoebe, Eric, Phoebe]   \n",
       "1  utterance_3952  [Monica, Monica, Phoebe, Joey, Joey, Joey, Rac...   \n",
       "2  utterance_3198  [Older Scientist, Ross, Ross, Joey, Ross, Ross...   \n",
       "3  utterance_2834                           [Monica, Monica, Monica]   \n",
       "4   utterance_453                         [Kate, The Director, Kate]   \n",
       "\n",
       "                                            emotions  \\\n",
       "0       [surprise, fear, surprise, sadness, disgust]   \n",
       "1  [disgust, disgust, anger, sadness, surprise, a...   \n",
       "2  [neutral, neutral, neutral, neutral, neutral, ...   \n",
       "3                       [neutral, surprise, neutral]   \n",
       "4                            [joy, sadness, sadness]   \n",
       "\n",
       "                                          utterances  \\\n",
       "0  [You-you\n",
       "you had sex with Ursula?!, Uh, a litt...   \n",
       "1  [Dad, please don't pick your teeth out here!, ...   \n",
       "2  [Dr. Geller, there's a seat over here., Thank ...   \n",
       "3  [So, how'd the lasagne go over?, Really?!, Good.]   \n",
       "4  [Become a drama critic!, I am hurt!  A plague ...   \n",
       "\n",
       "                                            triggers  \n",
       "0                          [1.0, 1.0, 0.0, 0.0, 0.0]  \n",
       "1  [0.0, 0.0, 0.0, 0.0, 0.0, 0.0, 0.0, 0.0, 0.0, ...  \n",
       "2                [0.0, 0.0, 0.0, 0.0, 1.0, 1.0, 1.0]  \n",
       "3                                    [0.0, 0.0, 1.0]  \n",
       "4                                    [0.0, 0.0, 1.0]  "
      ]
     },
     "execution_count": 12,
     "metadata": {},
     "output_type": "execute_result"
    }
   ],
   "source": [
    "df.head()"
   ]
  },
  {
   "cell_type": "code",
   "execution_count": 17,
   "metadata": {},
   "outputs": [
    {
     "name": "stdout",
     "output_type": "stream",
     "text": [
      "<CLS> Phoebe:No. <SEP> Phoebe:No! <SEP> \n",
      "episode          utterance_915\n",
      "speakers      [Phoebe, Phoebe]\n",
      "emotions      [neutral, anger]\n",
      "utterances          [No., No!]\n",
      "triggers            [0.0, 0.0]\n",
      "Name: 968, dtype: object\n",
      "<CLS> Phoebe:No. <SEP> Phoebe:No! <SEP> \n",
      "episode          utterance_915\n",
      "speakers      [Phoebe, Phoebe]\n",
      "emotions      [neutral, anger]\n",
      "utterances          [No., No!]\n",
      "triggers            [0.0, 0.0]\n",
      "Name: 3984, dtype: object\n"
     ]
    }
   ],
   "source": [
    "sentence_len = []\n",
    "text=[]\n",
    "EOS='<EOS>'\n",
    "SEP='<SEP>'\n",
    "SOS='<CLS>'\n",
    "\n",
    "for i in range(len(df)):\n",
    "    uterances=df.iloc[i]['utterances']\n",
    "    speaker=df.iloc[i]['speakers']\n",
    "    length=0\n",
    "    sentence=SOS+' '\n",
    "    for (speaker,uterance) in zip(speaker,uterances):\n",
    "        sentence+=speaker+':'+uterance+' '+SEP+' '\n",
    "\n",
    "        length+=len(uterance.split())\n",
    "    if(length==2):\n",
    "        print(sentence)\n",
    "        print(df.iloc[i])\n",
    "    sentence_len.append(length)\n",
    "    text.append(sentence+EOS)\n",
    "    # print(length)\n",
    "    # break"
   ]
  },
  {
   "cell_type": "code",
   "execution_count": 18,
   "metadata": {},
   "outputs": [
    {
     "name": "stdout",
     "output_type": "stream",
     "text": [
      "6740 4179\n"
     ]
    },
    {
     "data": {
      "text/html": [
       "<div>\n",
       "<style scoped>\n",
       "    .dataframe tbody tr th:only-of-type {\n",
       "        vertical-align: middle;\n",
       "    }\n",
       "\n",
       "    .dataframe tbody tr th {\n",
       "        vertical-align: top;\n",
       "    }\n",
       "\n",
       "    .dataframe thead th {\n",
       "        text-align: right;\n",
       "    }\n",
       "</style>\n",
       "<table border=\"1\" class=\"dataframe\">\n",
       "  <thead>\n",
       "    <tr style=\"text-align: right;\">\n",
       "      <th></th>\n",
       "      <th>text</th>\n",
       "    </tr>\n",
       "  </thead>\n",
       "  <tbody>\n",
       "    <tr>\n",
       "      <th>0</th>\n",
       "      <td>&lt;CLS&gt; Phoebe:You-youyou had sex with Ursula?!...</td>\n",
       "    </tr>\n",
       "    <tr>\n",
       "      <th>1</th>\n",
       "      <td>&lt;CLS&gt; Monica:Dad, please don't pick your teeth...</td>\n",
       "    </tr>\n",
       "    <tr>\n",
       "      <th>2</th>\n",
       "      <td>&lt;CLS&gt; Older Scientist:Dr. Geller, there's a se...</td>\n",
       "    </tr>\n",
       "    <tr>\n",
       "      <th>3</th>\n",
       "      <td>&lt;CLS&gt; Monica:So, how'd the lasagne go over? &lt;S...</td>\n",
       "    </tr>\n",
       "    <tr>\n",
       "      <th>4</th>\n",
       "      <td>&lt;CLS&gt; Kate:Become a drama critic! &lt;SEP&gt; The Di...</td>\n",
       "    </tr>\n",
       "  </tbody>\n",
       "</table>\n",
       "</div>"
      ],
      "text/plain": [
       "                                                text\n",
       "0  <CLS> Phoebe:You-you\n",
       "you had sex with Ursula?!...\n",
       "1  <CLS> Monica:Dad, please don't pick your teeth...\n",
       "2  <CLS> Older Scientist:Dr. Geller, there's a se...\n",
       "3  <CLS> Monica:So, how'd the lasagne go over? <S...\n",
       "4  <CLS> Kate:Become a drama critic! <SEP> The Di..."
      ]
     },
     "execution_count": 18,
     "metadata": {},
     "output_type": "execute_result"
    }
   ],
   "source": [
    "text_df=pd.DataFrame(text,columns=['text'])\n",
    "print(len(text),len(set(text)))\n",
    "text_df.head()"
   ]
  },
  {
   "cell_type": "code",
   "execution_count": 10,
   "metadata": {},
   "outputs": [
    {
     "data": {
      "text/plain": [
       "(70.6313056379822, 42.452554760740924, 263, 2)"
      ]
     },
     "execution_count": 10,
     "metadata": {},
     "output_type": "execute_result"
    }
   ],
   "source": [
    "sentence_len=np.array(sentence_len)\n",
    "sentence_len.mean(),sentence_len.std(),sentence_len.max(),sentence_len.min()"
   ]
  }
 ],
 "metadata": {
  "kernelspec": {
   "display_name": "Python 3",
   "language": "python",
   "name": "python3"
  },
  "language_info": {
   "codemirror_mode": {
    "name": "ipython",
    "version": 3
   },
   "file_extension": ".py",
   "mimetype": "text/x-python",
   "name": "python",
   "nbconvert_exporter": "python",
   "pygments_lexer": "ipython3",
   "version": "3.11.0"
  }
 },
 "nbformat": 4,
 "nbformat_minor": 2
}
