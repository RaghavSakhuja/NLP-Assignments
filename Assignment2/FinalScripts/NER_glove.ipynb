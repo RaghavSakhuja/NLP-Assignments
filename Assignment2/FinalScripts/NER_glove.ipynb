{
 "cells": [
  {
   "cell_type": "code",
   "execution_count": 1,
   "id": "103820a5",
   "metadata": {
    "execution": {
     "iopub.execute_input": "2024-03-10T12:41:45.602481Z",
     "iopub.status.busy": "2024-03-10T12:41:45.601788Z",
     "iopub.status.idle": "2024-03-10T12:42:00.299524Z",
     "shell.execute_reply": "2024-03-10T12:42:00.297912Z"
    },
    "papermill": {
     "duration": 14.716588,
     "end_time": "2024-03-10T12:42:00.302003",
     "exception": false,
     "start_time": "2024-03-10T12:41:45.585415",
     "status": "completed"
    },
    "tags": []
   },
   "outputs": [
    {
     "name": "stdout",
     "output_type": "stream",
     "text": [
      "Collecting keras==2.15.0\r\n",
      "  Downloading keras-2.15.0-py3-none-any.whl.metadata (2.4 kB)\r\n",
      "Downloading keras-2.15.0-py3-none-any.whl (1.7 MB)\r\n",
      "\u001b[2K   \u001b[90m━━━━━━━━━━━━━━━━━━━━━━━━━━━━━━━━━━━━━━━━\u001b[0m \u001b[32m1.7/1.7 MB\u001b[0m \u001b[31m17.6 MB/s\u001b[0m eta \u001b[36m0:00:00\u001b[0m\r\n",
      "\u001b[?25hInstalling collected packages: keras\r\n",
      "  Attempting uninstall: keras\r\n",
      "    Found existing installation: keras 3.0.5\r\n",
      "    Uninstalling keras-3.0.5:\r\n",
      "      Successfully uninstalled keras-3.0.5\r\n",
      "\u001b[31mERROR: pip's dependency resolver does not currently take into account all the packages that are installed. This behaviour is the source of the following dependency conflicts.\r\n",
      "tensorflow-decision-forests 1.8.1 requires wurlitzer, which is not installed.\u001b[0m\u001b[31m\r\n",
      "\u001b[0mSuccessfully installed keras-2.15.0\r\n"
     ]
    }
   ],
   "source": [
    "!pip install keras==2.15.0"
   ]
  },
  {
   "cell_type": "markdown",
   "id": "833c97db",
   "metadata": {
    "papermill": {
     "duration": 0.015389,
     "end_time": "2024-03-10T12:42:00.332086",
     "exception": false,
     "start_time": "2024-03-10T12:42:00.316697",
     "status": "completed"
    },
    "tags": []
   },
   "source": [
    "# Run"
   ]
  },
  {
   "cell_type": "code",
   "execution_count": 2,
   "id": "864a4fef",
   "metadata": {
    "execution": {
     "iopub.execute_input": "2024-03-10T12:42:00.363605Z",
     "iopub.status.busy": "2024-03-10T12:42:00.363229Z",
     "iopub.status.idle": "2024-03-10T12:42:29.134034Z",
     "shell.execute_reply": "2024-03-10T12:42:29.133231Z"
    },
    "papermill": {
     "duration": 28.7892,
     "end_time": "2024-03-10T12:42:29.136259",
     "exception": false,
     "start_time": "2024-03-10T12:42:00.347059",
     "status": "completed"
    },
    "tags": []
   },
   "outputs": [
    {
     "name": "stderr",
     "output_type": "stream",
     "text": [
      "2024-03-10 12:42:02.483005: E external/local_xla/xla/stream_executor/cuda/cuda_dnn.cc:9261] Unable to register cuDNN factory: Attempting to register factory for plugin cuDNN when one has already been registered\n",
      "2024-03-10 12:42:02.483132: E external/local_xla/xla/stream_executor/cuda/cuda_fft.cc:607] Unable to register cuFFT factory: Attempting to register factory for plugin cuFFT when one has already been registered\n",
      "2024-03-10 12:42:02.645032: E external/local_xla/xla/stream_executor/cuda/cuda_blas.cc:1515] Unable to register cuBLAS factory: Attempting to register factory for plugin cuBLAS when one has already been registered\n"
     ]
    }
   ],
   "source": [
    "import pickle\n",
    "import numpy as np\n",
    "import tensorflow as tf\n",
    "import json\n",
    "import matplotlib.pyplot as plt\n",
    "\n",
    "import fasttext\n",
    "import fasttext.util\n",
    "from keras.models import Model\n",
    "from keras.layers import Dropout,Input\n",
    "# from tensorflow_addons.layers import CRF\n",
    "from keras.layers import Dense\n",
    "from keras.layers import Embedding\n",
    "from keras.models import Sequential\n",
    "from keras.callbacks import Callback\n",
    "from keras.preprocessing.text import *\n",
    "from keras.utils import to_categorical\n",
    "from gensim.models import KeyedVectors\n",
    "from keras.layers import GRU, SimpleRNN, LSTM, Bidirectional\n",
    "from keras.layers import TimeDistributed\n",
    "from keras.metrics import F1Score, Precision, Recall\n",
    "from keras.preprocessing.sequence import pad_sequences\n",
    "from sklearn.metrics import f1_score\n",
    "from tensorflow.keras.optimizers import AdamW\n",
    "# from tensorflow_addons.losses import SigmoidFocalCrossEntropy\n",
    "from sklearn.model_selection import GridSearchCV\n",
    "# from kerastuner.tuners import RandomSearch\n",
    "# from kerastuner.engine.hyperparameters import HyperParameters\n",
    "from tensorflow.keras.optimizers import AdamW, Adam, RMSprop, SGD"
   ]
  },
  {
   "cell_type": "code",
   "execution_count": 3,
   "id": "6cf3a7c4",
   "metadata": {
    "execution": {
     "iopub.execute_input": "2024-03-10T12:42:29.167927Z",
     "iopub.status.busy": "2024-03-10T12:42:29.167216Z",
     "iopub.status.idle": "2024-03-10T12:42:29.187663Z",
     "shell.execute_reply": "2024-03-10T12:42:29.185899Z"
    },
    "papermill": {
     "duration": 0.038516,
     "end_time": "2024-03-10T12:42:29.189739",
     "exception": false,
     "start_time": "2024-03-10T12:42:29.151223",
     "status": "completed"
    },
    "tags": []
   },
   "outputs": [
    {
     "name": "stdout",
     "output_type": "stream",
     "text": [
      "/kaggle/input/nernlp3/WordEmbeddings/glove.840B.300d.pkl\n",
      "/kaggle/input/nernlp3/WordEmbeddings/Word2vec.bin\n",
      "/kaggle/input/nernlp3/WordEmbeddings/cc.en.300.bin\n",
      "/kaggle/input/nernlp3/Data/check.py\n",
      "/kaggle/input/nernlp3/Data/NER_TRAIN_JUDGEMENT.json\n",
      "/kaggle/input/nernlp3/Data/Laptop_Review_Val.json\n",
      "/kaggle/input/nernlp3/Data/bio.ipynb\n",
      "/kaggle/input/nernlp3/Data/Laptop_Review_Train.json\n",
      "/kaggle/input/nernlp3/Data/bio1.py\n",
      "/kaggle/input/nernlp3/Data/NER_TEST_JUDGEMENT.json\n",
      "/kaggle/input/nernlp3/Data/Laptop_Review_Test.json\n",
      "/kaggle/input/nernlp3/Data/processed/NER_test.json\n",
      "/kaggle/input/nernlp3/Data/processed/ATE_test.json\n",
      "/kaggle/input/nernlp3/Data/processed/NER_train.json\n",
      "/kaggle/input/nernlp3/Data/processed/ATE_train.json\n",
      "/kaggle/input/nernlp3/Data/processed/NER_val.json\n",
      "/kaggle/input/nernlp3/Data/processed/ATE_val.json\n"
     ]
    }
   ],
   "source": [
    "# This Python 3 environment comes with many helpful analytics libraries installed\n",
    "# It is defined by the kaggle/python Docker image: https://github.com/kaggle/docker-python\n",
    "# For example, here's several helpful packages to load\n",
    "\n",
    "# Input data files are available in the read-only \"../input/\" directory\n",
    "# For example, running this (by clicking run or pressing Shift+Enter) will list all files under the input directory\n",
    "\n",
    "import os\n",
    "for dirname, _, filenames in os.walk('/kaggle/input'):\n",
    "    for filename in filenames:\n",
    "        print(os.path.join(dirname, filename))\n",
    "\n",
    "Embedding_name=\"glove\"\n",
    "Dataset=\"NER\"     \n",
    "PATH='/kaggle/input/nernlp3/'\n",
    "OUTPATH='/kaggle/working/'\n",
    "\n",
    "# You can write up to 20GB to the current directory (/kaggle/working/) that gets preserved as output when you create a version using \"Save & Run All\" \n",
    "# You can also write temporary files to /kaggle/temp/, but they won't be saved outside of the current session"
   ]
  },
  {
   "cell_type": "code",
   "execution_count": 4,
   "id": "d39524ae",
   "metadata": {
    "execution": {
     "iopub.execute_input": "2024-03-10T12:42:29.223332Z",
     "iopub.status.busy": "2024-03-10T12:42:29.222908Z",
     "iopub.status.idle": "2024-03-10T12:42:30.466901Z",
     "shell.execute_reply": "2024-03-10T12:42:30.465903Z"
    },
    "papermill": {
     "duration": 1.264298,
     "end_time": "2024-03-10T12:42:30.469189",
     "exception": false,
     "start_time": "2024-03-10T12:42:29.204891",
     "status": "completed"
    },
    "tags": []
   },
   "outputs": [
    {
     "name": "stderr",
     "output_type": "stream",
     "text": [
      "/opt/conda/lib/python3.10/pty.py:89: RuntimeWarning: os.fork() was called. os.fork() is incompatible with multithreaded code, and JAX is multithreaded, so this will likely lead to a deadlock.\n",
      "  pid, fd = os.forkpty()\n"
     ]
    }
   ],
   "source": [
    "! mkdir Saved_Models\n",
    "! mkdir Saved_Models/ATE\n",
    "! mkdir Saved_Models/NER\n",
    "! mkdir Graphs"
   ]
  },
  {
   "cell_type": "code",
   "execution_count": 5,
   "id": "1fe8b576",
   "metadata": {
    "execution": {
     "iopub.execute_input": "2024-03-10T12:42:30.502713Z",
     "iopub.status.busy": "2024-03-10T12:42:30.501565Z",
     "iopub.status.idle": "2024-03-10T12:42:30.535680Z",
     "shell.execute_reply": "2024-03-10T12:42:30.534516Z"
    },
    "papermill": {
     "duration": 0.053474,
     "end_time": "2024-03-10T12:42:30.538022",
     "exception": false,
     "start_time": "2024-03-10T12:42:30.484548",
     "status": "completed"
    },
    "tags": []
   },
   "outputs": [],
   "source": [
    "def checking(a):\n",
    "    print(\"Hello World\",a)\n",
    "\n",
    "def new_checking(a):\n",
    "    print(\"Hello World\",a)\n",
    "\n",
    "def create_train_test_val(file):\n",
    "    lst_out_text=[]\n",
    "    lst_out_labels=[]\n",
    "    for i in file.values():\n",
    "        sentence = i['text']\n",
    "        sentence = sentence.lower()\n",
    "        labels = i['labels']\n",
    "        lst_out_text.append(sentence)\n",
    "        lst_out_labels.append(labels)\n",
    "    return lst_out_text,lst_out_labels    \n",
    "\n",
    "def TokenCreator(sentences,val,tokenizer=None):\n",
    "    \n",
    "    temp_wordlist = None\n",
    "    tokenizer2=None\n",
    "    if(tokenizer == None):\n",
    "        if val==1:\n",
    "            tokenizer2 = Tokenizer(oov_token=\"#UK\",filters='')\n",
    "        else:\n",
    "            tokenizer2=Tokenizer()\n",
    "        tokenizer2.fit_on_texts(sentences)\n",
    "        \n",
    "        temp_wordlist = tokenizer2.texts_to_sequences(sentences)\n",
    "        return (temp_wordlist,tokenizer2)\n",
    "    \n",
    "    else:\n",
    "        temp_wordlist = tokenizer.texts_to_sequences(sentences)\n",
    "        return temp_wordlist\n",
    "    \n",
    "def find_vocab(dataset):\n",
    "    lst=[]\n",
    "    lst.append(\"#UK\")\n",
    "    for i in dataset:\n",
    "        for j in i:\n",
    "            lst.append(j)\n",
    "    st = set(lst)\n",
    "    return st\n",
    "\n",
    "'''\n",
    "--------------------------------------GRAPHS--------------------------------------\n",
    "'''\n",
    "\n",
    "def draw_loss_graph(model,model_name,f1_scores_train,f1_scores_val):\n",
    "    train_loss = model.history['loss']\n",
    "    val_loss = model.history['val_loss']\n",
    "    x = [i+1 for i in range(len(train_loss))]\n",
    "    train_y = train_loss\n",
    "    val_y = val_loss\n",
    "    \n",
    "    fig, axes = plt.subplots(1,2,figsize = (16,5))\n",
    "    # plt.subplots(axes = (2,1))\n",
    "    axes[0].plot(x,train_y, color = 'blue')  \n",
    "    \n",
    "    axes[0].plot(x,val_y, color = 'red') \n",
    "    axes[0].set_title('Loss over Epochs')\n",
    "    axes[0].set_xlabel('Epoch')\n",
    "    axes[0].set_ylabel('Loss')\n",
    "\n",
    "    axes[1].plot(x,f1_scores_train, color = 'blue')\n",
    "    axes[1].plot(x,f1_scores_val, color = 'red')\n",
    "    axes[1].set_title('F1 Score vs Epoch')\n",
    "    axes[1].set_xlabel('Epochs')\n",
    "    axes[1].set_ylabel('F1 Score')\n",
    "\n",
    "    axes[0].legend(['Train','Val'])\n",
    "    axes[1].legend(['Train','Val'])\n",
    "    \n",
    "    plt.suptitle(model_name)\n",
    "\n",
    "    \n",
    "    plt.show()\n",
    "    \n",
    "'''\n",
    "--------------------------------------MODELS--------------------------------------\n",
    "'''\n",
    "\n",
    "def save_model(model,model_name, embedding, dataset):\n",
    "    with open(f'{OUTPATH}Saved_Models/{dataset}/{model_name}_{embedding}.pkl', 'wb') as file:\n",
    "        pickle.dump(model, file)\n",
    "\n",
    "def load_model(model_name, embedding, dataset):\n",
    "    with open(f'{OUTPATH}Saved_Models/{dataset}/{model_name}_{embedding}.pkl', 'rb') as file:\n",
    "        loaded_model = pickle.load(file)\n",
    "    \n",
    "    return loaded_model\n",
    "\n",
    "'''\n",
    "--------------------------------------CALLBACKS--------------------------------------\n",
    "'''\n",
    "\n",
    "class F1ScoreCallback(Callback):\n",
    "\n",
    "    def __init__(self, val_data, data):\n",
    "        super(F1ScoreCallback, self).__init__()\n",
    "        self.val_data = val_data\n",
    "        self.data=data\n",
    "        self.val_f1_scores = [] \n",
    "        self.train_f1_scores = []\n",
    "\n",
    "    \n",
    "\n",
    "    def on_epoch_end(self, epoch, logs=None):\n",
    "        x_val, y_val = self.val_data\n",
    "        x_data, y_data = self.data\n",
    "        y_pred_val = self.model.predict(x_val)\n",
    "        y_pred_train = self.model.predict(x_data)\n",
    "\n",
    "        def scikitf1(pred,real):\n",
    "\n",
    "            true_labels_flat = [label for sublist in real for label in sublist]\n",
    "            predicted_labels_flat = [label for sublist in pred for label in sublist]\n",
    "            # Compute F1 score\n",
    "            f1 = f1_score(true_labels_flat, predicted_labels_flat, average='macro')\n",
    "            return f1\n",
    "        def get_pred(Y_padded_output):\n",
    "                # print(Y_padded_output.shape)\n",
    "                final_output=[]\n",
    "                for i in range(Y_padded_output.shape[0]):\n",
    "                    output=[]\n",
    "                    for j in range(Y_padded_output.shape[1]):\n",
    "                        max_value=-1\n",
    "                        maxIndex=-1\n",
    "                        for k in range(Y_padded_output.shape[2]):\n",
    "                            if Y_padded_output[i][j][k]>max_value:\n",
    "                                maxIndex=k\n",
    "                                max_value=max(max_value,Y_padded_output[i][j][k])\n",
    "                        output.append(maxIndex)\n",
    "                    final_output.append(output)\n",
    "                return final_output\n",
    "\n",
    "        def get_real(Y_padded_test):\n",
    "            # print(Y_padded_test.shape)\n",
    "            final_Y=[]\n",
    "            for i in range(Y_padded_test.shape[0]):\n",
    "                output=[]\n",
    "                for j in range(Y_padded_test.shape[1]):\n",
    "                    max_value=-1\n",
    "                    maxIndex=-1\n",
    "                    for k in range(Y_padded_test.shape[2]):\n",
    "                        if Y_padded_test[i][j][k]>max_value:\n",
    "                            maxIndex=k\n",
    "                            max_value=max(max_value,Y_padded_test[i][j][k])\n",
    "                    output.append(maxIndex)\n",
    "                final_Y.append(output)\n",
    "            return final_Y\n",
    "        \n",
    "        # print(\"here\")\n",
    "        pred_train=get_pred(y_pred_train)\n",
    "        # print(pred_train)\n",
    "        real_train=get_real(y_data)\n",
    "        # print(real_train)\n",
    "\n",
    "        pred_val=get_pred(y_pred_val)\n",
    "        real_val=get_real(y_val)\n",
    "\n",
    "        f1_train = scikitf1(pred_train,real_train)\n",
    "        f1_val = scikitf1(pred_val,real_val)\n",
    "\n",
    "        self.val_f1_scores.append(f1_val)\n",
    "        self.train_f1_scores.append(f1_train)\n",
    "        print(f'Val F1 Score: {f1_val} - Train F1 Score: {f1_train}')\n",
    "\n",
    "\n",
    "\n",
    "#---------Prediction Functions----------------------------------------------\n",
    "def get_pred(Y_padded_output):\n",
    "    final_output=[]\n",
    "    for i in range(Y_padded_output.shape[0]):\n",
    "        output=[]\n",
    "        for j in range(Y_padded_output.shape[1]):\n",
    "            max_value=-1\n",
    "            maxIndex=-1\n",
    "            for k in range(Y_padded_output.shape[2]):\n",
    "                if Y_padded_output[i][j][k]>max_value:\n",
    "                    maxIndex=k\n",
    "                    max_value=max(max_value,Y_padded_output[i][j][k])\n",
    "            output.append(maxIndex)\n",
    "        final_output.append(output)\n",
    "    return final_output\n",
    "\n",
    "def get_real(Y_padded_test):\n",
    "    final_Y=[]\n",
    "    for i in range(Y_padded_test.shape[0]):\n",
    "        output=[]\n",
    "        for j in range(Y_padded_test.shape[1]):\n",
    "            max_value=-1\n",
    "            maxIndex=-1\n",
    "            for k in range(Y_padded_test.shape[2]):\n",
    "                if Y_padded_test[i][j][k]>max_value:\n",
    "                    maxIndex=k\n",
    "                    max_value=max(max_value,Y_padded_test[i][j][k])\n",
    "            output.append(maxIndex)\n",
    "        final_Y.append(output)\n",
    "    return final_Y\n",
    "\n",
    "def my_f1(y_true, y_pred):\n",
    "    \n",
    "    # predictions = get_pred(y_pred)\n",
    "    # real = get_real(y_true)\n",
    "\n",
    "    predictions = y_pred\n",
    "    real = y_true\n",
    "\n",
    "    size=len(predictions)\n",
    "\n",
    "    unique_labels= set()\n",
    "\n",
    "    for labels in real:\n",
    "        unique_labels.update(labels)\n",
    "\n",
    "    for labels in predictions:\n",
    "        unique_labels.update(labels)\n",
    "\n",
    "    labels_f1=[]\n",
    "\n",
    "    for labels in unique_labels:\n",
    "        tp=0\n",
    "        fp=0\n",
    "        fn=0\n",
    "\n",
    "        for i in range(size):\n",
    "            l=[]\n",
    "                    \n",
    "            tp+=sum((p==labels and r==labels) for p,r in zip(predictions[i],real[i]))\n",
    "            fp+=sum((p==labels and r!=labels) for p,r in zip(predictions[i],real[i]))\n",
    "            fn+=sum((p!=labels and r==labels) for p,r in zip(predictions[i],real[i]))\n",
    "\n",
    "        \n",
    "        precision = tp/(tp+fp) if tp+fp>0 else 0\n",
    "        recall = tp/(tp+fn) if tp+fn>0 else 0\n",
    "\n",
    "        f1=2*((precision*recall)/(precision+recall)) if precision+recall>0 else 0\n",
    "\n",
    "        labels_f1.append(f1)\n",
    "        print(f1,unique_labels)\n",
    "    macro_f1 = sum(labels_f1)/len(unique_labels)\n",
    "    return macro_f1\n",
    "\n",
    "def scikitf1(pred,real):\n",
    "\n",
    "    true_labels_flat = [label for sublist in real for label in sublist]\n",
    "    predicted_labels_flat = [label for sublist in pred for label in sublist]\n",
    "    # Compute F1 score\n",
    "    f1 = f1_score(true_labels_flat, predicted_labels_flat, average='macro')\n",
    "    return f1"
   ]
  },
  {
   "cell_type": "code",
   "execution_count": null,
   "id": "8527a9f2",
   "metadata": {
    "papermill": {
     "duration": 0.015038,
     "end_time": "2024-03-10T12:42:30.568621",
     "exception": false,
     "start_time": "2024-03-10T12:42:30.553583",
     "status": "completed"
    },
    "tags": []
   },
   "outputs": [],
   "source": []
  },
  {
   "cell_type": "code",
   "execution_count": null,
   "id": "c6c92432",
   "metadata": {
    "execution": {
     "iopub.execute_input": "2024-03-10T11:35:48.164770Z",
     "iopub.status.busy": "2024-03-10T11:35:48.163348Z",
     "iopub.status.idle": "2024-03-10T11:35:48.175610Z",
     "shell.execute_reply": "2024-03-10T11:35:48.174822Z",
     "shell.execute_reply.started": "2024-03-10T11:35:48.164729Z"
    },
    "papermill": {
     "duration": 0.015079,
     "end_time": "2024-03-10T12:42:30.598875",
     "exception": false,
     "start_time": "2024-03-10T12:42:30.583796",
     "status": "completed"
    },
    "tags": []
   },
   "outputs": [],
   "source": []
  },
  {
   "cell_type": "code",
   "execution_count": 6,
   "id": "dea0af0c",
   "metadata": {
    "execution": {
     "iopub.execute_input": "2024-03-10T12:42:30.630641Z",
     "iopub.status.busy": "2024-03-10T12:42:30.630268Z",
     "iopub.status.idle": "2024-03-10T12:42:30.635191Z",
     "shell.execute_reply": "2024-03-10T12:42:30.634170Z"
    },
    "papermill": {
     "duration": 0.022957,
     "end_time": "2024-03-10T12:42:30.636804",
     "exception": false,
     "start_time": "2024-03-10T12:42:30.613847",
     "status": "completed"
    },
    "tags": []
   },
   "outputs": [],
   "source": [
    "seed_value = 18\n",
    "np.random.seed(seed_value)\n",
    "tf.random.set_seed(seed_value)"
   ]
  },
  {
   "cell_type": "code",
   "execution_count": 7,
   "id": "243243ba",
   "metadata": {
    "execution": {
     "iopub.execute_input": "2024-03-10T12:42:30.669052Z",
     "iopub.status.busy": "2024-03-10T12:42:30.668522Z",
     "iopub.status.idle": "2024-03-10T12:43:14.699899Z",
     "shell.execute_reply": "2024-03-10T12:43:14.698643Z"
    },
    "papermill": {
     "duration": 44.049539,
     "end_time": "2024-03-10T12:43:14.701966",
     "exception": false,
     "start_time": "2024-03-10T12:42:30.652427",
     "status": "completed"
    },
    "tags": []
   },
   "outputs": [],
   "source": [
    "if Embedding_name==\"word2vec\":\n",
    "    emb = KeyedVectors.load_word2vec_format(f'{PATH}WordEmbeddings/Word2vec.bin',binary=True)\n",
    "\n",
    "if Embedding_name==\"glove\":\n",
    "    with open(f'{PATH}WordEmbeddings/glove.840B.300d.pkl', 'rb') as fp:\n",
    "        emb = pickle.load(fp)\n",
    "if Embedding_name==\"fasttext\":\n",
    "    emb = fasttext.load_model(f'{PATH}WordEmbeddings/cc.en.300.bin')"
   ]
  },
  {
   "cell_type": "markdown",
   "id": "9c21fa44",
   "metadata": {
    "papermill": {
     "duration": 0.01404,
     "end_time": "2024-03-10T12:43:14.730623",
     "exception": false,
     "start_time": "2024-03-10T12:43:14.716583",
     "status": "completed"
    },
    "tags": []
   },
   "source": [
    "# Data Extraction and Preprocessing"
   ]
  },
  {
   "cell_type": "markdown",
   "id": "e83ef5e0",
   "metadata": {
    "papermill": {
     "duration": 0.014442,
     "end_time": "2024-03-10T12:43:14.759500",
     "exception": false,
     "start_time": "2024-03-10T12:43:14.745058",
     "status": "completed"
    },
    "tags": []
   },
   "source": [
    "Reading ATE json files"
   ]
  },
  {
   "cell_type": "code",
   "execution_count": 8,
   "id": "e64e2b92",
   "metadata": {
    "execution": {
     "iopub.execute_input": "2024-03-10T12:43:14.791418Z",
     "iopub.status.busy": "2024-03-10T12:43:14.791029Z",
     "iopub.status.idle": "2024-03-10T12:43:14.918259Z",
     "shell.execute_reply": "2024-03-10T12:43:14.916698Z"
    },
    "papermill": {
     "duration": 0.146069,
     "end_time": "2024-03-10T12:43:14.920823",
     "exception": false,
     "start_time": "2024-03-10T12:43:14.774754",
     "status": "completed"
    },
    "tags": []
   },
   "outputs": [],
   "source": [
    "\n",
    "train = None\n",
    "test = None\n",
    "val = None\n",
    "with open(f\"{PATH}Data/processed/{Dataset}_train.json\") as f1:\n",
    "    train = json.load(f1)\n",
    "\n",
    "with open(f\"{PATH}Data/processed/{Dataset}_test.json\") as f2:\n",
    "    test = json.load(f2)\n",
    "\n",
    "with open(f\"{PATH}Data/processed/{Dataset}_val.json\") as f3:\n",
    "    val = json.load(f3)\n",
    "\n"
   ]
  },
  {
   "cell_type": "markdown",
   "id": "c60c382d",
   "metadata": {
    "papermill": {
     "duration": 0.014925,
     "end_time": "2024-03-10T12:43:14.951376",
     "exception": false,
     "start_time": "2024-03-10T12:43:14.936451",
     "status": "completed"
    },
    "tags": []
   },
   "source": [
    "processing into lists"
   ]
  },
  {
   "cell_type": "code",
   "execution_count": 9,
   "id": "c4c39b6f",
   "metadata": {
    "execution": {
     "iopub.execute_input": "2024-03-10T12:43:14.983868Z",
     "iopub.status.busy": "2024-03-10T12:43:14.983534Z",
     "iopub.status.idle": "2024-03-10T12:43:14.995870Z",
     "shell.execute_reply": "2024-03-10T12:43:14.994607Z"
    },
    "papermill": {
     "duration": 0.031973,
     "end_time": "2024-03-10T12:43:14.998654",
     "exception": false,
     "start_time": "2024-03-10T12:43:14.966681",
     "status": "completed"
    },
    "tags": []
   },
   "outputs": [],
   "source": [
    "X_train,Y_train = create_train_test_val(train)\n",
    "X_test,Y_test = create_train_test_val(test)\n",
    "X_val,Y_val = create_train_test_val(val)"
   ]
  },
  {
   "cell_type": "markdown",
   "id": "3c91beef",
   "metadata": {
    "papermill": {
     "duration": 0.014883,
     "end_time": "2024-03-10T12:43:15.028972",
     "exception": false,
     "start_time": "2024-03-10T12:43:15.014089",
     "status": "completed"
    },
    "tags": []
   },
   "source": [
    "Tokenizing the ATE Dataset"
   ]
  },
  {
   "cell_type": "code",
   "execution_count": 10,
   "id": "00487eb1",
   "metadata": {
    "execution": {
     "iopub.execute_input": "2024-03-10T12:43:15.061055Z",
     "iopub.status.busy": "2024-03-10T12:43:15.060714Z",
     "iopub.status.idle": "2024-03-10T12:43:15.738744Z",
     "shell.execute_reply": "2024-03-10T12:43:15.737614Z"
    },
    "papermill": {
     "duration": 0.697265,
     "end_time": "2024-03-10T12:43:15.741403",
     "exception": false,
     "start_time": "2024-03-10T12:43:15.044138",
     "status": "completed"
    },
    "tags": []
   },
   "outputs": [],
   "source": [
    "X_train_tokenized, toke = TokenCreator(X_train,1)\n",
    "X_test_tokenized = TokenCreator(X_test,0,tokenizer = toke)\n",
    "X_val_tokenized = TokenCreator(X_val,0,tokenizer = toke)\n",
    "\n",
    "Y_train_tokenized,toke2 = TokenCreator(Y_train,0)\n",
    "Y_test_tokenized = TokenCreator(Y_test,0,tokenizer = toke2)\n",
    "Y_val_tokenized = TokenCreator(Y_val,0,tokenizer = toke2)"
   ]
  },
  {
   "cell_type": "markdown",
   "id": "c3e608ec",
   "metadata": {
    "papermill": {
     "duration": 0.016231,
     "end_time": "2024-03-10T12:43:15.773364",
     "exception": false,
     "start_time": "2024-03-10T12:43:15.757133",
     "status": "completed"
    },
    "tags": []
   },
   "source": [
    "Vocabulary of ATE"
   ]
  },
  {
   "cell_type": "code",
   "execution_count": 11,
   "id": "1fc69b79",
   "metadata": {
    "execution": {
     "iopub.execute_input": "2024-03-10T12:43:15.861147Z",
     "iopub.status.busy": "2024-03-10T12:43:15.860772Z",
     "iopub.status.idle": "2024-03-10T12:43:15.897154Z",
     "shell.execute_reply": "2024-03-10T12:43:15.896180Z"
    },
    "papermill": {
     "duration": 0.055419,
     "end_time": "2024-03-10T12:43:15.899457",
     "exception": false,
     "start_time": "2024-03-10T12:43:15.844038",
     "status": "completed"
    },
    "tags": []
   },
   "outputs": [
    {
     "data": {
      "text/plain": [
       "30220"
      ]
     },
     "execution_count": 11,
     "metadata": {},
     "output_type": "execute_result"
    }
   ],
   "source": [
    "st1 = find_vocab(X_train_tokenized)\n",
    "vocab_size  = len(st1) + 1 \n",
    "vocab_size"
   ]
  },
  {
   "cell_type": "code",
   "execution_count": 12,
   "id": "46c659ce",
   "metadata": {
    "execution": {
     "iopub.execute_input": "2024-03-10T12:43:15.931869Z",
     "iopub.status.busy": "2024-03-10T12:43:15.931492Z",
     "iopub.status.idle": "2024-03-10T12:43:15.941651Z",
     "shell.execute_reply": "2024-03-10T12:43:15.940594Z"
    },
    "papermill": {
     "duration": 0.028841,
     "end_time": "2024-03-10T12:43:15.943524",
     "exception": false,
     "start_time": "2024-03-10T12:43:15.914683",
     "status": "completed"
    },
    "tags": []
   },
   "outputs": [
    {
     "data": {
      "text/plain": [
       "70"
      ]
     },
     "execution_count": 12,
     "metadata": {},
     "output_type": "execute_result"
    }
   ],
   "source": [
    "max_len=0\n",
    "\n",
    "for i in X_train_tokenized:\n",
    "    max_len = max(max_len,len(i))\n",
    "\n",
    "max_len"
   ]
  },
  {
   "cell_type": "markdown",
   "id": "1fae5519",
   "metadata": {
    "papermill": {
     "duration": 0.016016,
     "end_time": "2024-03-10T12:43:15.975195",
     "exception": false,
     "start_time": "2024-03-10T12:43:15.959179",
     "status": "completed"
    },
    "tags": []
   },
   "source": [
    "Padding ATE"
   ]
  },
  {
   "cell_type": "code",
   "execution_count": 13,
   "id": "2cb7a06a",
   "metadata": {
    "execution": {
     "iopub.execute_input": "2024-03-10T12:43:16.009122Z",
     "iopub.status.busy": "2024-03-10T12:43:16.008751Z",
     "iopub.status.idle": "2024-03-10T12:43:16.088542Z",
     "shell.execute_reply": "2024-03-10T12:43:16.086944Z"
    },
    "papermill": {
     "duration": 0.100124,
     "end_time": "2024-03-10T12:43:16.091086",
     "exception": false,
     "start_time": "2024-03-10T12:43:15.990962",
     "status": "completed"
    },
    "tags": []
   },
   "outputs": [],
   "source": [
    "X_padded_train = pad_sequences(X_train_tokenized, maxlen=max_len, padding=\"pre\", truncating=\"post\")\n",
    "Y_padded_train = pad_sequences(Y_train_tokenized, maxlen=max_len, padding=\"pre\", truncating=\"post\")\n",
    "\n",
    "X_padded_test = pad_sequences(X_test_tokenized, maxlen=max_len, padding=\"pre\", truncating=\"post\")\n",
    "Y_padded_test = pad_sequences(Y_test_tokenized, maxlen=max_len, padding=\"pre\", truncating=\"post\")\n",
    "\n",
    "X_padded_val = pad_sequences(X_val_tokenized, maxlen=max_len, padding=\"pre\", truncating=\"post\")\n",
    "Y_padded_val = pad_sequences(Y_val_tokenized, maxlen=max_len, padding=\"pre\", truncating=\"post\")       "
   ]
  },
  {
   "cell_type": "markdown",
   "id": "1110781b",
   "metadata": {
    "papermill": {
     "duration": 0.017251,
     "end_time": "2024-03-10T12:43:16.123658",
     "exception": false,
     "start_time": "2024-03-10T12:43:16.106407",
     "status": "completed"
    },
    "tags": []
   },
   "source": [
    "One hot encoding the ATE labels"
   ]
  },
  {
   "cell_type": "code",
   "execution_count": 14,
   "id": "dceb18df",
   "metadata": {
    "execution": {
     "iopub.execute_input": "2024-03-10T12:43:16.156059Z",
     "iopub.status.busy": "2024-03-10T12:43:16.155729Z",
     "iopub.status.idle": "2024-03-10T12:43:16.189947Z",
     "shell.execute_reply": "2024-03-10T12:43:16.188695Z"
    },
    "papermill": {
     "duration": 0.053257,
     "end_time": "2024-03-10T12:43:16.192227",
     "exception": false,
     "start_time": "2024-03-10T12:43:16.138970",
     "status": "completed"
    },
    "tags": []
   },
   "outputs": [],
   "source": [
    "Y_padded_train = to_categorical(Y_padded_train)\n",
    "Y_padded_test = to_categorical(Y_padded_test)\n",
    "Y_padded_val = to_categorical(Y_padded_val)"
   ]
  },
  {
   "cell_type": "markdown",
   "id": "14f93fb4",
   "metadata": {
    "papermill": {
     "duration": 0.01558,
     "end_time": "2024-03-10T12:43:16.223776",
     "exception": false,
     "start_time": "2024-03-10T12:43:16.208196",
     "status": "completed"
    },
    "tags": []
   },
   "source": [
    "Assigning **ATE Word2Vec** mapping"
   ]
  },
  {
   "cell_type": "code",
   "execution_count": 15,
   "id": "186a5bf0",
   "metadata": {
    "execution": {
     "iopub.execute_input": "2024-03-10T12:43:16.257172Z",
     "iopub.status.busy": "2024-03-10T12:43:16.256801Z",
     "iopub.status.idle": "2024-03-10T12:43:16.287573Z",
     "shell.execute_reply": "2024-03-10T12:43:16.285835Z"
    },
    "papermill": {
     "duration": 0.050722,
     "end_time": "2024-03-10T12:43:16.290349",
     "exception": false,
     "start_time": "2024-03-10T12:43:16.239627",
     "status": "completed"
    },
    "tags": []
   },
   "outputs": [
    {
     "data": {
      "text/plain": [
       "{'#UK': 1,\n",
       " 'the': 2,\n",
       " 'of': 3,\n",
       " 'in': 4,\n",
       " 'to': 5,\n",
       " 'and': 6,\n",
       " 'that': 7,\n",
       " 'a': 8,\n",
       " 'was': 9,\n",
       " 'is': 10,\n",
       " 'by': 11,\n",
       " 'on': 12,\n",
       " 'as': 13,\n",
       " 'for': 14,\n",
       " 'be': 15,\n",
       " 'it': 16,\n",
       " 'court': 17,\n",
       " 'not': 18,\n",
       " 'has': 19,\n",
       " 'under': 20,\n",
       " 'this': 21,\n",
       " 'section': 22,\n",
       " 'which': 23,\n",
       " 'with': 24,\n",
       " 'or': 25,\n",
       " 'at': 26,\n",
       " 'he': 27,\n",
       " 'case': 28,\n",
       " 'no.': 29,\n",
       " 'from': 30,\n",
       " 'been': 31,\n",
       " 'his': 32,\n",
       " 'an': 33,\n",
       " 'had': 34,\n",
       " 'are': 35,\n",
       " 'were': 36,\n",
       " 'v.': 37,\n",
       " 'state': 38,\n",
       " 'also': 39,\n",
       " 'have': 40,\n",
       " 'act': 41,\n",
       " 'order': 42,\n",
       " 'any': 43,\n",
       " 'no': 44,\n",
       " 'high': 45,\n",
       " 'accused': 46,\n",
       " 'learned': 47,\n",
       " 'said': 48,\n",
       " 'there': 49,\n",
       " 'dated': 50,\n",
       " 'supreme': 51,\n",
       " 'made': 52,\n",
       " 'would': 53,\n",
       " 'before': 54,\n",
       " 'singh': 55,\n",
       " 'held': 56,\n",
       " 'who': 57,\n",
       " 'such': 58,\n",
       " 'against': 59,\n",
       " 'other': 60,\n",
       " 'but': 61,\n",
       " 'their': 62,\n",
       " 'one': 63,\n",
       " 'if': 64,\n",
       " 'respondent': 65,\n",
       " 'filed': 66,\n",
       " 'appeal': 67,\n",
       " 'appellant': 68,\n",
       " 'evidence': 69,\n",
       " '&': 70,\n",
       " 'all': 71,\n",
       " 'only': 72,\n",
       " 'decision': 73,\n",
       " 'after': 74,\n",
       " 'we': 75,\n",
       " 'they': 76,\n",
       " 'petitioner': 77,\n",
       " 'government': 78,\n",
       " 'may': 79,\n",
       " 'judgment': 80,\n",
       " 'act,': 81,\n",
       " 'its': 82,\n",
       " 'when': 83,\n",
       " 'counsel': 84,\n",
       " 'view': 85,\n",
       " 'same': 86,\n",
       " 'application': 87,\n",
       " 'india': 88,\n",
       " 'out': 89,\n",
       " 'can': 90,\n",
       " 'further': 91,\n",
       " 'petition': 92,\n",
       " 'whether': 93,\n",
       " 'two': 94,\n",
       " 'bench': 95,\n",
       " 'stated': 96,\n",
       " 'provisions': 97,\n",
       " 'question': 98,\n",
       " 'her': 99,\n",
       " 'law': 100,\n",
       " 'cannot': 101,\n",
       " 'vs.': 102,\n",
       " 'therefore,': 103,\n",
       " 'civil': 104,\n",
       " 'first': 105,\n",
       " 'article': 106,\n",
       " 'police': 107,\n",
       " 'should': 108,\n",
       " 'mr.': 109,\n",
       " '1': 110,\n",
       " 'suit': 111,\n",
       " 'could': 112,\n",
       " 'upon': 113,\n",
       " 'will': 114,\n",
       " 'these': 115,\n",
       " 'taken': 116,\n",
       " 'so': 117,\n",
       " 'passed': 118,\n",
       " 'writ': 119,\n",
       " 'rule': 120,\n",
       " 'about': 121,\n",
       " 'where': 122,\n",
       " 'referred': 123,\n",
       " 'judge': 124,\n",
       " 'being': 125,\n",
       " 'him': 126,\n",
       " 'given': 127,\n",
       " 'even': 128,\n",
       " 'i': 129,\n",
       " 'kumar': 130,\n",
       " 'into': 131,\n",
       " 'right': 132,\n",
       " 'p.': 133,\n",
       " 'present': 134,\n",
       " 'per': 135,\n",
       " 'ltd.': 136,\n",
       " 'rs.': 137,\n",
       " 'act.': 138,\n",
       " '2': 139,\n",
       " ':': 140,\n",
       " 'air': 141,\n",
       " 'time': 142,\n",
       " 'criminal': 143,\n",
       " \"hon'ble\": 144,\n",
       " 'constitution': 145,\n",
       " 'j.': 146,\n",
       " 'delhi': 147,\n",
       " 'defendant': 148,\n",
       " 'issued': 149,\n",
       " 'matter': 150,\n",
       " 'shall': 151,\n",
       " 'must': 152,\n",
       " 'did': 153,\n",
       " 'plaintiff': 154,\n",
       " 'respect': 155,\n",
       " 'she': 156,\n",
       " 'statement': 157,\n",
       " 'submitted': 158,\n",
       " 'company': 159,\n",
       " '3': 160,\n",
       " 'case,': 161,\n",
       " 'special': 162,\n",
       " 'property': 163,\n",
       " 's.': 164,\n",
       " 'then': 165,\n",
       " 'shri': 166,\n",
       " 'power': 167,\n",
       " 'between': 168,\n",
       " 'does': 169,\n",
       " 'while': 170,\n",
       " 'notice': 171,\n",
       " 'tribunal': 172,\n",
       " 'within': 173,\n",
       " 'above': 174,\n",
       " 'date': 175,\n",
       " 'trial': 176,\n",
       " 'person': 177,\n",
       " 'public': 178,\n",
       " 'facts': 179,\n",
       " 'offence': 180,\n",
       " 'sc': 181,\n",
       " 'scc': 182,\n",
       " 'court,': 183,\n",
       " 'having': 184,\n",
       " 'however,': 185,\n",
       " 'deceased': 186,\n",
       " 'tax': 187,\n",
       " 'division': 188,\n",
       " 'house': 189,\n",
       " 'land': 190,\n",
       " 'them': 191,\n",
       " 'petitioners': 192,\n",
       " 'district': 193,\n",
       " 'new': 194,\n",
       " '(1)': 195,\n",
       " 'code': 196,\n",
       " 'apex': 197,\n",
       " 'relied': 198,\n",
       " 'general': 199,\n",
       " 'persons': 200,\n",
       " 'down': 201,\n",
       " 'officer': 202,\n",
       " 'observed': 203,\n",
       " 'found': 204,\n",
       " 'justice': 205,\n",
       " 'court.': 206,\n",
       " 'union': 207,\n",
       " 'both': 208,\n",
       " '4': 209,\n",
       " 'examined': 210,\n",
       " 'central': 211,\n",
       " 'without': 212,\n",
       " 'what': 213,\n",
       " 'some': 214,\n",
       " 'reference': 215,\n",
       " 'though': 216,\n",
       " 'came': 217,\n",
       " 'sections': 218,\n",
       " 'indian': 219,\n",
       " 'cases': 220,\n",
       " 'another': 221,\n",
       " 'jurisdiction': 222,\n",
       " 'page': 223,\n",
       " 'basis': 224,\n",
       " 'claim': 225,\n",
       " 'amount': 226,\n",
       " 'report': 227,\n",
       " 'effect': 228,\n",
       " 'up': 229,\n",
       " 'part': 230,\n",
       " 'possession': 231,\n",
       " 'witness': 232,\n",
       " 'following': 233,\n",
       " '5': 234,\n",
       " '-': 235,\n",
       " 'assessee': 236,\n",
       " 'since': 237,\n",
       " 'year': 238,\n",
       " 'prosecution': 239,\n",
       " 'fact': 240,\n",
       " 'authority': 241,\n",
       " 'bank': 242,\n",
       " 'considered': 243,\n",
       " 'complainant': 244,\n",
       " 'during': 245,\n",
       " 'behalf': 246,\n",
       " 'three': 247,\n",
       " '(2)': 248,\n",
       " 'service': 249,\n",
       " 'years': 250,\n",
       " 'income': 251,\n",
       " 'ram': 252,\n",
       " 'regard': 253,\n",
       " '6': 254,\n",
       " 'c.': 255,\n",
       " 'rules': 256,\n",
       " 'placed': 257,\n",
       " 'sale': 258,\n",
       " 'co.': 259,\n",
       " 'reported': 260,\n",
       " 'proceedings': 261,\n",
       " 'place': 262,\n",
       " 'aforesaid': 263,\n",
       " 'record': 264,\n",
       " 'because': 265,\n",
       " 'appellants': 266,\n",
       " 'do': 267,\n",
       " 'complaint': 268,\n",
       " 'registered': 269,\n",
       " 'necessary': 270,\n",
       " 'additional': 271,\n",
       " 'make': 272,\n",
       " 'well': 273,\n",
       " 'according': 274,\n",
       " 'respondents': 275,\n",
       " 'ground': 276,\n",
       " 'chief': 277,\n",
       " 'period': 278,\n",
       " 'through': 279,\n",
       " 'procedure': 280,\n",
       " 'those': 281,\n",
       " 'business': 282,\n",
       " 'more': 283,\n",
       " 'clause': 284,\n",
       " 'relevant': 285,\n",
       " '(supra)': 286,\n",
       " 'interest': 287,\n",
       " 'legal': 288,\n",
       " 'mentioned': 289,\n",
       " 'our': 290,\n",
       " 'favour': 291,\n",
       " 'take': 292,\n",
       " 'second': 293,\n",
       " 'read': 294,\n",
       " 'over': 295,\n",
       " 'far': 296,\n",
       " 'than': 297,\n",
       " 'others': 298,\n",
       " 'decided': 299,\n",
       " 'point': 300,\n",
       " 'witnesses': 301,\n",
       " 'set': 302,\n",
       " 'deposed': 303,\n",
       " 'singh,': 304,\n",
       " 'pw': 305,\n",
       " 'judicial': 306,\n",
       " 'ors.': 307,\n",
       " 'certain': 308,\n",
       " 'consideration': 309,\n",
       " 'now': 310,\n",
       " 'circumstances': 311,\n",
       " 'assessment': 312,\n",
       " 'issue': 313,\n",
       " 'laid': 314,\n",
       " 'terms': 315,\n",
       " 'letter': 316,\n",
       " 'p.w.': 317,\n",
       " 'support': 318,\n",
       " 'board': 319,\n",
       " 'received': 320,\n",
       " 'nos.': 321,\n",
       " 'account': 322,\n",
       " 'provision': 323,\n",
       " 'punjab': 324,\n",
       " 'earlier': 325,\n",
       " 'insurance': 326,\n",
       " 'ex.': 327,\n",
       " 'goods': 328,\n",
       " 'contention': 329,\n",
       " 'corporation': 330,\n",
       " 'notification': 331,\n",
       " 'commission': 332,\n",
       " '7': 333,\n",
       " 'bombay': 334,\n",
       " '8': 335,\n",
       " 'india,': 336,\n",
       " 'sessions': 337,\n",
       " 'took': 338,\n",
       " 'party': 339,\n",
       " 'r.': 340,\n",
       " 'vide': 341,\n",
       " 'purpose': 342,\n",
       " 'pradesh': 343,\n",
       " 'used': 344,\n",
       " 'already': 345,\n",
       " 'alleged': 346,\n",
       " 'recorded': 347,\n",
       " 'name': 348,\n",
       " 'compensation': 349,\n",
       " 'contended': 350,\n",
       " 'dr.': 351,\n",
       " '\"the': 352,\n",
       " 'parties': 353,\n",
       " 'clear': 354,\n",
       " 'commissioner': 355,\n",
       " 'show': 356,\n",
       " 'entitled': 357,\n",
       " 'us': 358,\n",
       " 'directed': 359,\n",
       " 'action': 360,\n",
       " 'courts': 361,\n",
       " 'different': 362,\n",
       " 'reliance': 363,\n",
       " 'no.1': 364,\n",
       " 'office': 365,\n",
       " 'admitted': 366,\n",
       " 'case.': 367,\n",
       " 'decisions': 368,\n",
       " 'agreement': 369,\n",
       " 'thus': 370,\n",
       " 'come': 371,\n",
       " 'due': 372,\n",
       " 'income-tax': 373,\n",
       " 'magistrate': 374,\n",
       " 'regarding': 375,\n",
       " 'transport': 376,\n",
       " 'w.': 377,\n",
       " 'granted': 378,\n",
       " 'decree': 379,\n",
       " '10': 380,\n",
       " 'sri': 381,\n",
       " 'k.': 382,\n",
       " 'my': 383,\n",
       " 'ipc': 384,\n",
       " 'motor': 385,\n",
       " 'file': 386,\n",
       " 'required': 387,\n",
       " 'vehicle': 388,\n",
       " 'orders': 389,\n",
       " 'charge': 390,\n",
       " 'paid': 391,\n",
       " 'very': 392,\n",
       " 'and,': 393,\n",
       " ',': 394,\n",
       " 'lal': 395,\n",
       " 'payment': 396,\n",
       " 'subject': 397,\n",
       " 'medical': 398,\n",
       " 'exercise': 399,\n",
       " 'allowed': 400,\n",
       " 'original': 401,\n",
       " 'impugned': 402,\n",
       " 'opinion': 403,\n",
       " 'pay': 404,\n",
       " 'investigation': 405,\n",
       " 'rights': 406,\n",
       " '.': 407,\n",
       " 'powers': 408,\n",
       " 'smt.': 409,\n",
       " 'contract': 410,\n",
       " 'appellate': 411,\n",
       " 'observations': 412,\n",
       " 'meaning': 413,\n",
       " 'a.': 414,\n",
       " 'appears': 415,\n",
       " 'owner': 416,\n",
       " '9': 417,\n",
       " 'way': 418,\n",
       " 'nature': 419,\n",
       " '14': 420,\n",
       " 'grant': 421,\n",
       " 'j.,': 422,\n",
       " 'reasonable': 423,\n",
       " 'brought': 424,\n",
       " '2.': 425,\n",
       " 'itself': 426,\n",
       " 'list': 427,\n",
       " 'duty': 428,\n",
       " 'death': 429,\n",
       " 'concerned': 430,\n",
       " 'taking': 431,\n",
       " 'available': 432,\n",
       " 'nor': 433,\n",
       " 'third': 434,\n",
       " '12': 435,\n",
       " 'copy': 436,\n",
       " 'legislature': 437,\n",
       " 'therefore': 438,\n",
       " 'either': 439,\n",
       " 'single': 440,\n",
       " 'cr.p.c.': 441,\n",
       " 'raised': 442,\n",
       " 'again': 443,\n",
       " 'full': 444,\n",
       " 'find': 445,\n",
       " 'judge,': 446,\n",
       " 'prasad': 447,\n",
       " 'consider': 448,\n",
       " 'words': 449,\n",
       " 'along': 450,\n",
       " 'sh.': 451,\n",
       " 'provided': 452,\n",
       " 'claimed': 453,\n",
       " 'him.': 454,\n",
       " 'itr': 455,\n",
       " 'documents': 456,\n",
       " 'material': 457,\n",
       " 'area': 458,\n",
       " 'fir': 459,\n",
       " 'examination': 460,\n",
       " 'station': 461,\n",
       " 'each': 462,\n",
       " 'village': 463,\n",
       " 'clearly': 464,\n",
       " 'similar': 465,\n",
       " 'holding': 466,\n",
       " 'transfer': 467,\n",
       " 'pointed': 468,\n",
       " 'document': 469,\n",
       " 'offences': 470,\n",
       " 'penal': 471,\n",
       " 'm.': 472,\n",
       " 'post': 473,\n",
       " 'india.': 474,\n",
       " 'n.': 475,\n",
       " 'election': 476,\n",
       " 'including': 477,\n",
       " '@': 478,\n",
       " 'liable': 479,\n",
       " 'sub-section': 480,\n",
       " 'written': 481,\n",
       " 'leave': 482,\n",
       " 'based': 483,\n",
       " 'information': 484,\n",
       " 'appeals': 485,\n",
       " 'own': 486,\n",
       " 'sent': 487,\n",
       " 'hold': 488,\n",
       " 'number': 489,\n",
       " 'reason': 490,\n",
       " 'industrial': 491,\n",
       " 'open': 492,\n",
       " 'sought': 493,\n",
       " 'course': 494,\n",
       " 'revenue': 495,\n",
       " 'force': 496,\n",
       " 'position': 497,\n",
       " 'liability': 498,\n",
       " 'back': 499,\n",
       " 'established': 500,\n",
       " 'para': 501,\n",
       " 'madras': 502,\n",
       " 'parliament': 503,\n",
       " 'cit': 504,\n",
       " 'true': 505,\n",
       " 'affidavit': 506,\n",
       " 'statutory': 507,\n",
       " 'considering': 508,\n",
       " 'entry': 509,\n",
       " '1st': 510,\n",
       " 'common': 511,\n",
       " 'award': 512,\n",
       " 'constitution.': 513,\n",
       " 'dismissed': 514,\n",
       " 'dispute': 515,\n",
       " 'son': 516,\n",
       " 'articles': 517,\n",
       " 'applicable': 518,\n",
       " 'give': 519,\n",
       " 'petitions': 520,\n",
       " 'advocate': 521,\n",
       " 'went': 522,\n",
       " 'services': 523,\n",
       " 'proved': 524,\n",
       " 'cause': 525,\n",
       " 'produced': 526,\n",
       " '1,': 527,\n",
       " 'defendants': 528,\n",
       " 'principles': 529,\n",
       " 'kerala': 530,\n",
       " 'various': 531,\n",
       " 'reasons': 532,\n",
       " 'punishable': 533,\n",
       " 'merely': 534,\n",
       " 'that,': 535,\n",
       " 'wife': 536,\n",
       " 'result': 537,\n",
       " 'working': 538,\n",
       " 'b.': 539,\n",
       " 'rajasthan': 540,\n",
       " 'm/s': 541,\n",
       " 'body': 542,\n",
       " 'contained': 543,\n",
       " 'prior': 544,\n",
       " 'scheme': 545,\n",
       " 'appearing': 546,\n",
       " '15': 547,\n",
       " 'vehicles': 548,\n",
       " 'father': 549,\n",
       " '11': 550,\n",
       " 'loss': 551,\n",
       " 'making': 552,\n",
       " 'ld.': 553,\n",
       " 'limited': 554,\n",
       " '(3)': 555,\n",
       " 'put': 556,\n",
       " '(b)': 557,\n",
       " 'conclusion': 558,\n",
       " 'concerned,': 559,\n",
       " 'member': 560,\n",
       " 'use': 561,\n",
       " 'amendment': 562,\n",
       " 'officer,': 563,\n",
       " 'wherein': 564,\n",
       " 'registration': 565,\n",
       " 'himself': 566,\n",
       " 'bearing': 567,\n",
       " 'haryana': 568,\n",
       " 'relating': 569,\n",
       " 'sufficient': 570,\n",
       " 'argued': 571,\n",
       " 'law.': 572,\n",
       " 'recovery': 573,\n",
       " 'accepted': 574,\n",
       " 'control': 575,\n",
       " 'trade': 576,\n",
       " 'premises': 577,\n",
       " 'left': 578,\n",
       " 'crime': 579,\n",
       " 'senior': 580,\n",
       " 'thus,': 581,\n",
       " 'injuries': 582,\n",
       " 'family': 583,\n",
       " 'committed': 584,\n",
       " 'principle': 585,\n",
       " 'done': 586,\n",
       " 'nothing': 587,\n",
       " 'form': 588,\n",
       " 'department': 589,\n",
       " '4.': 590,\n",
       " 'rent': 591,\n",
       " 'ltd.,': 592,\n",
       " '1.': 593,\n",
       " '34': 594,\n",
       " 'head': 595,\n",
       " 'noted': 596,\n",
       " '(air': 597,\n",
       " 'construction': 598,\n",
       " 'preferred': 599,\n",
       " 'certificate': 600,\n",
       " 'committee': 601,\n",
       " 'finding': 602,\n",
       " 'like': 603,\n",
       " 'private': 604,\n",
       " 'entered': 605,\n",
       " 'chand': 606,\n",
       " 'provides': 607,\n",
       " 'got': 608,\n",
       " 'sum': 609,\n",
       " 'particular': 610,\n",
       " 'proceeding': 611,\n",
       " 'argument': 612,\n",
       " 'last': 613,\n",
       " 'lord': 614,\n",
       " 'national': 615,\n",
       " 'settled': 616,\n",
       " 'valid': 617,\n",
       " 'assistant': 618,\n",
       " 'cheque': 619,\n",
       " 'members': 620,\n",
       " 'treated': 621,\n",
       " 'word': 622,\n",
       " 'light': 623,\n",
       " '226': 624,\n",
       " '(a)': 625,\n",
       " '\"': 626,\n",
       " 'towards': 627,\n",
       " 'statute': 628,\n",
       " 'obtained': 629,\n",
       " 'applicant': 630,\n",
       " 'magistrate,': 631,\n",
       " 'age': 632,\n",
       " 'm/s.': 633,\n",
       " 'council': 634,\n",
       " 'heard': 635,\n",
       " 'value': 636,\n",
       " 'connection': 637,\n",
       " 'appointed': 638,\n",
       " 'inspector': 639,\n",
       " 'denied': 640,\n",
       " 'outside': 641,\n",
       " 'drawn': 642,\n",
       " 'stage': 643,\n",
       " 'note': 644,\n",
       " 'follows:': 645,\n",
       " 'calcutta': 646,\n",
       " 'brother': 647,\n",
       " 'every': 648,\n",
       " 'see': 649,\n",
       " 'intention': 650,\n",
       " 'defence': 651,\n",
       " 'karnataka': 652,\n",
       " 'thereafter': 653,\n",
       " 'stand': 654,\n",
       " 'u/s': 655,\n",
       " 'near': 656,\n",
       " 'accident': 657,\n",
       " 'deed': 658,\n",
       " 'prove': 659,\n",
       " 'deputy': 660,\n",
       " 'followed': 661,\n",
       " '13': 662,\n",
       " 'context': 663,\n",
       " 'i.e.': 664,\n",
       " 'guilty': 665,\n",
       " 'called': 666,\n",
       " 'proviso': 667,\n",
       " 'lordships': 668,\n",
       " 'revision': 669,\n",
       " 'doubt': 670,\n",
       " 'sentence': 671,\n",
       " 'states': 672,\n",
       " 'mind': 673,\n",
       " 'appointment': 674,\n",
       " 'judges': 675,\n",
       " 'policy': 676,\n",
       " 'accused.': 677,\n",
       " 'road': 678,\n",
       " 'hearing': 679,\n",
       " 'tamil': 680,\n",
       " 'dealing': 681,\n",
       " 'go': 682,\n",
       " 'scope': 683,\n",
       " 'bail': 684,\n",
       " 'conditions': 685,\n",
       " 'proper': 686,\n",
       " '20': 687,\n",
       " 'west': 688,\n",
       " 'seeking': 689,\n",
       " '(c)': 690,\n",
       " 'filing': 691,\n",
       " 'them.': 692,\n",
       " 'relief': 693,\n",
       " 'legislative': 694,\n",
       " 'sales': 695,\n",
       " 'accordance': 696,\n",
       " 'so,': 697,\n",
       " 'etc.': 698,\n",
       " 'till': 699,\n",
       " 'need': 700,\n",
       " 'andhra': 701,\n",
       " 'aside': 702,\n",
       " 'code.': 703,\n",
       " 'competent': 704,\n",
       " 'fundamental': 705,\n",
       " 'day': 706,\n",
       " 'specific': 707,\n",
       " '16': 708,\n",
       " 'prepared': 709,\n",
       " 'under:': 710,\n",
       " 'authorities': 711,\n",
       " 'madhya': 712,\n",
       " 'executed': 713,\n",
       " 'hospital': 714,\n",
       " 'refer': 715,\n",
       " 'purposes': 716,\n",
       " 'decide': 717,\n",
       " 'raj': 718,\n",
       " 'matters': 719,\n",
       " 'seen': 720,\n",
       " 'sharma': 721,\n",
       " 'gujarat': 722,\n",
       " 'rules,': 723,\n",
       " 'ipc.': 724,\n",
       " 'excise': 725,\n",
       " '3.': 726,\n",
       " 'reached': 727,\n",
       " 'contrary': 728,\n",
       " 'rendered': 729,\n",
       " 'schedule': 730,\n",
       " 'firm': 731,\n",
       " 'devi': 732,\n",
       " 'limitation': 733,\n",
       " 'conviction': 734,\n",
       " 'covered': 735,\n",
       " 'validity': 736,\n",
       " 'acquisition': 737,\n",
       " 'chandra': 738,\n",
       " 'paragraph': 739,\n",
       " 'days': 740,\n",
       " 'work': 741,\n",
       " 'bihar': 742,\n",
       " 'thereafter,': 743,\n",
       " 'failed': 744,\n",
       " 'get': 745,\n",
       " 'appropriate': 746,\n",
       " 'review': 747,\n",
       " 'direction': 748,\n",
       " 'subsequent': 749,\n",
       " 'director': 750,\n",
       " 'namely': 751,\n",
       " 'how': 752,\n",
       " 'hand,': 753,\n",
       " 'delhi.': 754,\n",
       " 'is,': 755,\n",
       " 'purchase': 756,\n",
       " 'delay': 757,\n",
       " 'except': 758,\n",
       " 'entire': 759,\n",
       " 'say': 760,\n",
       " 'framed': 761,\n",
       " '2,': 762,\n",
       " 'absence': 763,\n",
       " 'art.': 764,\n",
       " 'applications': 765,\n",
       " 'unless': 766,\n",
       " 'husband': 767,\n",
       " 'hand': 768,\n",
       " 'pending': 769,\n",
       " '(4)': 770,\n",
       " 'supply': 771,\n",
       " '25': 772,\n",
       " 'gave': 773,\n",
       " 'claimant': 774,\n",
       " 'fixed': 775,\n",
       " 'cr.': 776,\n",
       " 'p.m.': 777,\n",
       " '(i)': 778,\n",
       " 'plaintiffs': 779,\n",
       " 'rate': 780,\n",
       " 'above,': 781,\n",
       " 'order,': 782,\n",
       " 'away': 783,\n",
       " 'personal': 784,\n",
       " 'declaration': 785,\n",
       " 'employees': 786,\n",
       " 'request': 787,\n",
       " 'presence': 788,\n",
       " 'coming': 789,\n",
       " '302': 790,\n",
       " 'prescribed': 791,\n",
       " 'driver': 792,\n",
       " 'permit': 793,\n",
       " 'condition': 794,\n",
       " 'still': 795,\n",
       " '(supra),': 796,\n",
       " 'opinion,': 797,\n",
       " 'submission': 798,\n",
       " 'interim': 799,\n",
       " 'april': 800,\n",
       " 'challenged': 801,\n",
       " 'nadu': 802,\n",
       " 'total': 803,\n",
       " 'convicted': 804,\n",
       " 'cbi': 805,\n",
       " 'amended': 806,\n",
       " 'expression': 807,\n",
       " 'conduct': 808,\n",
       " 'giving': 809,\n",
       " 'term': 810,\n",
       " 'no.2': 811,\n",
       " 'president': 812,\n",
       " 'enquiry': 813,\n",
       " 'beyond': 814,\n",
       " 'namely,': 815,\n",
       " '17': 816,\n",
       " 'shows': 817,\n",
       " 'lease': 818,\n",
       " 'whom': 819,\n",
       " '2008': 820,\n",
       " 'interpretation': 821,\n",
       " 'caused': 822,\n",
       " 'next': 823,\n",
       " 'benefit': 824,\n",
       " 'extent': 825,\n",
       " 'neither': 826,\n",
       " 'whole': 827,\n",
       " 'applied': 828,\n",
       " 'shown': 829,\n",
       " 'pvt.': 830,\n",
       " 'once': 831,\n",
       " '18': 832,\n",
       " 'cited': 833,\n",
       " 'december': 834,\n",
       " '2007': 835,\n",
       " 'g.': 836,\n",
       " 'investigating': 837,\n",
       " 'am': 838,\n",
       " 'officers': 839,\n",
       " '3,': 840,\n",
       " 'urged': 841,\n",
       " 'rao': 842,\n",
       " 'main': 843,\n",
       " 'bar': 844,\n",
       " 'means': 845,\n",
       " '2nd': 846,\n",
       " 'declared': 847,\n",
       " 'bengal': 848,\n",
       " 'provide': 849,\n",
       " 'allegations': 850,\n",
       " 'viz.,': 851,\n",
       " '19': 852,\n",
       " 'execution': 853,\n",
       " 'regards': 854,\n",
       " 'constituted': 855,\n",
       " ':-': 856,\n",
       " 'mills': 857,\n",
       " 'v': 858,\n",
       " 'it.': 859,\n",
       " '(hereinafter': 860,\n",
       " 'circumstances,': 861,\n",
       " '(ii)': 862,\n",
       " 'awarded': 863,\n",
       " 'patna': 864,\n",
       " 'secretary': 865,\n",
       " 'nath': 866,\n",
       " 'anr.': 867,\n",
       " 'instant': 868,\n",
       " 'development': 869,\n",
       " 'manner': 870,\n",
       " 'him,': 871,\n",
       " 'o.': 872,\n",
       " 'several': 873,\n",
       " 'charges': 874,\n",
       " 'railway': 875,\n",
       " 'asked': 876,\n",
       " 'properties': 877,\n",
       " 'hospital,': 878,\n",
       " 'become': 879,\n",
       " 'carried': 880,\n",
       " 'licence': 881,\n",
       " 'five': 882,\n",
       " 'pleaded': 883,\n",
       " 'kumar,': 884,\n",
       " 'finance': 885,\n",
       " 'gone': 886,\n",
       " 'minimum': 887,\n",
       " 'important': 888,\n",
       " 'murder': 889,\n",
       " 'municipal': 890,\n",
       " 'life': 891,\n",
       " 'definition': 892,\n",
       " 'issues': 893,\n",
       " 'bus': 894,\n",
       " 'side': 895,\n",
       " 'receipt': 896,\n",
       " 'university': 897,\n",
       " 'whose': 898,\n",
       " 'four': 899,\n",
       " 'separate': 900,\n",
       " 'apply': 901,\n",
       " '2009': 902,\n",
       " 'price': 903,\n",
       " 'appeared': 904,\n",
       " 'object': 905,\n",
       " 'conferred': 906,\n",
       " '22': 907,\n",
       " 'told': 908,\n",
       " 'going': 909,\n",
       " 'labour': 910,\n",
       " 'mere': 911,\n",
       " 'collector': 912,\n",
       " 'society': 913,\n",
       " 'judgments': 914,\n",
       " 'expressed': 915,\n",
       " 'evidence,': 916,\n",
       " 'informed': 917,\n",
       " 'appear': 918,\n",
       " 'dead': 919,\n",
       " '21': 920,\n",
       " 'specified': 921,\n",
       " 'here': 922,\n",
       " 'english': 923,\n",
       " '50': 924,\n",
       " 'enacted': 925,\n",
       " 'law,': 926,\n",
       " 'attention': 927,\n",
       " 'mysore': 928,\n",
       " 'august': 929,\n",
       " 'therein': 930,\n",
       " 'mean': 931,\n",
       " 'just': 932,\n",
       " 'july,': 933,\n",
       " 'gupta': 934,\n",
       " 'march,': 935,\n",
       " 'u.p.': 936,\n",
       " 'final': 937,\n",
       " 'opportunity': 938,\n",
       " 'never': 939,\n",
       " '27': 940,\n",
       " 'it,': 941,\n",
       " 'july': 942,\n",
       " 'inter': 943,\n",
       " 'foreign': 944,\n",
       " 'false': 945,\n",
       " 'administrative': 946,\n",
       " 'rejected': 947,\n",
       " 'college': 948,\n",
       " 'appellant.': 949,\n",
       " 'direct': 950,\n",
       " 'statements': 951,\n",
       " 'delivered': 952,\n",
       " 'was,': 953,\n",
       " 'april,': 954,\n",
       " 'i.e.,': 955,\n",
       " 'allahabad': 956,\n",
       " 'lj': 957,\n",
       " 'chapter': 958,\n",
       " 'september': 959,\n",
       " 'disputes': 960,\n",
       " 'tenant': 961,\n",
       " 'correct': 962,\n",
       " 'fresh': 963,\n",
       " 'cross': 964,\n",
       " 'old': 965,\n",
       " 'code,': 966,\n",
       " 'accused,': 967,\n",
       " 'lodged': 968,\n",
       " 'much': 969,\n",
       " 'december,': 970,\n",
       " 'arbitration': 971,\n",
       " 'know': 972,\n",
       " '1999': 973,\n",
       " 'why': 974,\n",
       " 'november': 975,\n",
       " 'jain': 976,\n",
       " 'incident': 977,\n",
       " 'i.p.c.': 978,\n",
       " 'situated': 979,\n",
       " 'arising': 980,\n",
       " 'industries': 981,\n",
       " 'plea': 982,\n",
       " 'constitutional': 983,\n",
       " 'minister': 984,\n",
       " 'intended': 985,\n",
       " 'conducted': 986,\n",
       " 'hence,': 987,\n",
       " 'imprisonment': 988,\n",
       " '2010': 989,\n",
       " 'may,': 990,\n",
       " 'sold': 991,\n",
       " 'management': 992,\n",
       " 'maharashtra': 993,\n",
       " 'six': 994,\n",
       " 's.c.r.': 995,\n",
       " 'agreed': 996,\n",
       " 'building': 997,\n",
       " 'injury': 998,\n",
       " 'joint': 999,\n",
       " 'carrying': 1000,\n",
       " ...}"
      ]
     },
     "execution_count": 15,
     "metadata": {},
     "output_type": "execute_result"
    }
   ],
   "source": [
    "weights = np.zeros((vocab_size, 300))\n",
    "mapping = toke.word_index \n",
    "mapping"
   ]
  },
  {
   "cell_type": "markdown",
   "id": "a1f6cb53",
   "metadata": {
    "papermill": {
     "duration": 0.016913,
     "end_time": "2024-03-10T12:43:16.324016",
     "exception": false,
     "start_time": "2024-03-10T12:43:16.307103",
     "status": "completed"
    },
    "tags": []
   },
   "source": [
    "Fetching weights from pre trained Word2Vec model (ATE)"
   ]
  },
  {
   "cell_type": "code",
   "execution_count": 16,
   "id": "b17759bf",
   "metadata": {
    "execution": {
     "iopub.execute_input": "2024-03-10T12:43:16.358197Z",
     "iopub.status.busy": "2024-03-10T12:43:16.357851Z",
     "iopub.status.idle": "2024-03-10T12:44:17.210890Z",
     "shell.execute_reply": "2024-03-10T12:44:17.209460Z"
    },
    "papermill": {
     "duration": 60.872712,
     "end_time": "2024-03-10T12:44:17.213271",
     "exception": false,
     "start_time": "2024-03-10T12:43:16.340559",
     "status": "completed"
    },
    "tags": []
   },
   "outputs": [],
   "source": [
    "for word, index in mapping.items():\n",
    "    if word in emb:\n",
    "        weights[index:] = emb[word]"
   ]
  },
  {
   "cell_type": "code",
   "execution_count": 17,
   "id": "e640ddd0",
   "metadata": {
    "execution": {
     "iopub.execute_input": "2024-03-10T12:44:17.246538Z",
     "iopub.status.busy": "2024-03-10T12:44:17.246174Z",
     "iopub.status.idle": "2024-03-10T12:44:17.251843Z",
     "shell.execute_reply": "2024-03-10T12:44:17.250551Z"
    },
    "papermill": {
     "duration": 0.024242,
     "end_time": "2024-03-10T12:44:17.253572",
     "exception": false,
     "start_time": "2024-03-10T12:44:17.229330",
     "status": "completed"
    },
    "tags": []
   },
   "outputs": [],
   "source": [
    "X_train= X_padded_train\n",
    "Y_train = Y_padded_train\n",
    "X_test = X_padded_test\n",
    "Y_test = Y_padded_test\n",
    "X_val = X_padded_val\n",
    "Y_val = Y_padded_val\n",
    "weights = weights\n",
    "word_token = toke\n",
    "tag_token = toke2"
   ]
  },
  {
   "cell_type": "code",
   "execution_count": 18,
   "id": "5a81bc30",
   "metadata": {
    "execution": {
     "iopub.execute_input": "2024-03-10T12:44:17.287981Z",
     "iopub.status.busy": "2024-03-10T12:44:17.287633Z",
     "iopub.status.idle": "2024-03-10T12:44:17.291675Z",
     "shell.execute_reply": "2024-03-10T12:44:17.290794Z"
    },
    "papermill": {
     "duration": 0.023414,
     "end_time": "2024-03-10T12:44:17.293302",
     "exception": false,
     "start_time": "2024-03-10T12:44:17.269888",
     "status": "completed"
    },
    "tags": []
   },
   "outputs": [],
   "source": [
    "Y_shape= Y_padded_train.shape[2]"
   ]
  },
  {
   "cell_type": "markdown",
   "id": "57a08729",
   "metadata": {
    "papermill": {
     "duration": 0.016775,
     "end_time": "2024-03-10T12:44:17.326426",
     "exception": false,
     "start_time": "2024-03-10T12:44:17.309651",
     "status": "completed"
    },
    "tags": []
   },
   "source": [
    "# Models"
   ]
  },
  {
   "cell_type": "markdown",
   "id": "05d8a445",
   "metadata": {
    "papermill": {
     "duration": 0.016269,
     "end_time": "2024-03-10T12:44:17.361017",
     "exception": false,
     "start_time": "2024-03-10T12:44:17.344748",
     "status": "completed"
    },
    "tags": []
   },
   "source": [
    "## RNN"
   ]
  },
  {
   "cell_type": "code",
   "execution_count": 19,
   "id": "a41b10d1",
   "metadata": {
    "execution": {
     "iopub.execute_input": "2024-03-10T12:44:17.395706Z",
     "iopub.status.busy": "2024-03-10T12:44:17.394655Z",
     "iopub.status.idle": "2024-03-10T12:44:17.399346Z",
     "shell.execute_reply": "2024-03-10T12:44:17.398556Z"
    },
    "papermill": {
     "duration": 0.02397,
     "end_time": "2024-03-10T12:44:17.401431",
     "exception": false,
     "start_time": "2024-03-10T12:44:17.377461",
     "status": "completed"
    },
    "tags": []
   },
   "outputs": [],
   "source": [
    "model_name=\"RNN\""
   ]
  },
  {
   "cell_type": "markdown",
   "id": "b34ff148",
   "metadata": {
    "papermill": {
     "duration": 0.015898,
     "end_time": "2024-03-10T12:44:17.433839",
     "exception": false,
     "start_time": "2024-03-10T12:44:17.417941",
     "status": "completed"
    },
    "tags": []
   },
   "source": [
    "### Training"
   ]
  },
  {
   "cell_type": "code",
   "execution_count": 20,
   "id": "69dc348d",
   "metadata": {
    "execution": {
     "iopub.execute_input": "2024-03-10T12:44:17.469874Z",
     "iopub.status.busy": "2024-03-10T12:44:17.468676Z",
     "iopub.status.idle": "2024-03-10T12:44:17.715643Z",
     "shell.execute_reply": "2024-03-10T12:44:17.714329Z"
    },
    "papermill": {
     "duration": 0.267359,
     "end_time": "2024-03-10T12:44:17.718057",
     "exception": false,
     "start_time": "2024-03-10T12:44:17.450698",
     "status": "completed"
    },
    "tags": []
   },
   "outputs": [],
   "source": [
    "rnn_model = Sequential()\n",
    "rnn_model.add(Embedding(input_dim = vocab_size,output_dim = 300,input_length  = max_len,weights = [weights],trainable = False))\n",
    "rnn_model.add(SimpleRNN(32, return_sequences=True))\n",
    "rnn_model.add(TimeDistributed(Dense(Y_shape, activation='softmax')))"
   ]
  },
  {
   "cell_type": "markdown",
   "id": "44521b6e",
   "metadata": {
    "papermill": {
     "duration": 0.016361,
     "end_time": "2024-03-10T12:44:17.751287",
     "exception": false,
     "start_time": "2024-03-10T12:44:17.734926",
     "status": "completed"
    },
    "tags": []
   },
   "source": [
    "Compiling the rnn Word2Vec Model"
   ]
  },
  {
   "cell_type": "code",
   "execution_count": 21,
   "id": "3d17712c",
   "metadata": {
    "execution": {
     "iopub.execute_input": "2024-03-10T12:44:17.786676Z",
     "iopub.status.busy": "2024-03-10T12:44:17.786300Z",
     "iopub.status.idle": "2024-03-10T12:44:18.115004Z",
     "shell.execute_reply": "2024-03-10T12:44:18.113742Z"
    },
    "papermill": {
     "duration": 0.349527,
     "end_time": "2024-03-10T12:44:18.117587",
     "exception": false,
     "start_time": "2024-03-10T12:44:17.768060",
     "status": "completed"
    },
    "tags": []
   },
   "outputs": [],
   "source": [
    "rnn_model.compile(loss='categorical_crossentropy',optimizer='adam',metrics=['acc',Precision(),Recall()])"
   ]
  },
  {
   "cell_type": "code",
   "execution_count": 22,
   "id": "65cc6999",
   "metadata": {
    "execution": {
     "iopub.execute_input": "2024-03-10T12:44:18.151025Z",
     "iopub.status.busy": "2024-03-10T12:44:18.150692Z",
     "iopub.status.idle": "2024-03-10T12:44:18.155009Z",
     "shell.execute_reply": "2024-03-10T12:44:18.154188Z"
    },
    "papermill": {
     "duration": 0.02321,
     "end_time": "2024-03-10T12:44:18.156943",
     "exception": false,
     "start_time": "2024-03-10T12:44:18.133733",
     "status": "completed"
    },
    "tags": []
   },
   "outputs": [],
   "source": [
    "rnn_f1_callback = F1ScoreCallback(val_data=(X_val, Y_val),data=(X_train, Y_train))\n"
   ]
  },
  {
   "cell_type": "code",
   "execution_count": 23,
   "id": "50871e8f",
   "metadata": {
    "execution": {
     "iopub.execute_input": "2024-03-10T12:44:18.191107Z",
     "iopub.status.busy": "2024-03-10T12:44:18.190726Z",
     "iopub.status.idle": "2024-03-10T12:44:18.210550Z",
     "shell.execute_reply": "2024-03-10T12:44:18.209641Z"
    },
    "papermill": {
     "duration": 0.039569,
     "end_time": "2024-03-10T12:44:18.212509",
     "exception": false,
     "start_time": "2024-03-10T12:44:18.172940",
     "status": "completed"
    },
    "tags": []
   },
   "outputs": [
    {
     "name": "stdout",
     "output_type": "stream",
     "text": [
      "Model: \"sequential\"\n",
      "_________________________________________________________________\n",
      " Layer (type)                Output Shape              Param #   \n",
      "=================================================================\n",
      " embedding (Embedding)       (None, 70, 300)           9066000   \n",
      "                                                                 \n",
      " simple_rnn (SimpleRNN)      (None, 70, 32)            10656     \n",
      "                                                                 \n",
      " time_distributed (TimeDist  (None, 70, 28)            924       \n",
      " ributed)                                                        \n",
      "                                                                 \n",
      "=================================================================\n",
      "Total params: 9077580 (34.63 MB)\n",
      "Trainable params: 11580 (45.23 KB)\n",
      "Non-trainable params: 9066000 (34.58 MB)\n",
      "_________________________________________________________________\n"
     ]
    }
   ],
   "source": [
    "rnn_model.summary()"
   ]
  },
  {
   "cell_type": "markdown",
   "id": "65318b17",
   "metadata": {
    "papermill": {
     "duration": 0.017606,
     "end_time": "2024-03-10T12:44:18.247302",
     "exception": false,
     "start_time": "2024-03-10T12:44:18.229696",
     "status": "completed"
    },
    "tags": []
   },
   "source": [
    "Fitting the rnn model"
   ]
  },
  {
   "cell_type": "code",
   "execution_count": 24,
   "id": "27dbb3da",
   "metadata": {
    "execution": {
     "iopub.execute_input": "2024-03-10T12:44:18.285368Z",
     "iopub.status.busy": "2024-03-10T12:44:18.284957Z",
     "iopub.status.idle": "2024-03-10T12:52:02.553318Z",
     "shell.execute_reply": "2024-03-10T12:52:02.552122Z"
    },
    "papermill": {
     "duration": 464.376591,
     "end_time": "2024-03-10T12:52:02.641709",
     "exception": false,
     "start_time": "2024-03-10T12:44:18.265118",
     "status": "completed"
    },
    "tags": []
   },
   "outputs": [
    {
     "name": "stdout",
     "output_type": "stream",
     "text": [
      "Epoch 1/20\n",
      "45/45 [==============================] - 0s 7ms/step\n",
      "251/251 [==============================] - 2s 6ms/step\n",
      "Val F1 Score: 0.07060639564936824 - Train F1 Score: 0.07070381290287168\n",
      "63/63 [==============================] - 24s 374ms/step - loss: 1.5255 - acc: 0.7072 - precision: 0.9432 - recall: 0.4032 - val_loss: 0.7448 - val_acc: 0.8891 - val_precision: 0.9490 - val_recall: 0.8032\n",
      "Epoch 2/20\n",
      "45/45 [==============================] - 0s 6ms/step\n",
      "251/251 [==============================] - 1s 6ms/step\n",
      "Val F1 Score: 0.0862358049435382 - Train F1 Score: 0.0822801281475797\n",
      "63/63 [==============================] - 23s 365ms/step - loss: 0.5800 - acc: 0.9121 - precision: 0.9456 - recall: 0.8451 - val_loss: 0.5213 - val_acc: 0.9102 - val_precision: 0.9576 - val_recall: 0.8364\n",
      "Epoch 3/20\n",
      "45/45 [==============================] - 0s 7ms/step\n",
      "251/251 [==============================] - 2s 6ms/step\n",
      "Val F1 Score: 0.10701120027900436 - Train F1 Score: 0.10017969248113678\n",
      "63/63 [==============================] - 23s 371ms/step - loss: 0.4641 - acc: 0.9192 - precision: 0.9530 - recall: 0.8625 - val_loss: 0.4423 - val_acc: 0.9202 - val_precision: 0.9630 - val_recall: 0.8617\n",
      "Epoch 4/20\n",
      "45/45 [==============================] - 0s 6ms/step\n",
      "251/251 [==============================] - 2s 6ms/step\n",
      "Val F1 Score: 0.1316755116673223 - Train F1 Score: 0.1261923130899903\n",
      "63/63 [==============================] - 23s 362ms/step - loss: 0.4137 - acc: 0.9244 - precision: 0.9579 - recall: 0.8732 - val_loss: 0.3998 - val_acc: 0.9261 - val_precision: 0.9666 - val_recall: 0.8654\n",
      "Epoch 5/20\n",
      "45/45 [==============================] - 0s 7ms/step\n",
      "251/251 [==============================] - 2s 6ms/step\n",
      "Val F1 Score: 0.1459963838326384 - Train F1 Score: 0.1399905111112395\n",
      "63/63 [==============================] - 23s 364ms/step - loss: 0.3815 - acc: 0.9276 - precision: 0.9603 - recall: 0.8766 - val_loss: 0.3704 - val_acc: 0.9291 - val_precision: 0.9666 - val_recall: 0.8719\n",
      "Epoch 6/20\n",
      "45/45 [==============================] - 0s 6ms/step\n",
      "251/251 [==============================] - 2s 6ms/step\n",
      "Val F1 Score: 0.16511380763574493 - Train F1 Score: 0.15882232211953679\n",
      "63/63 [==============================] - 23s 366ms/step - loss: 0.3574 - acc: 0.9302 - precision: 0.9624 - recall: 0.8802 - val_loss: 0.3491 - val_acc: 0.9317 - val_precision: 0.9680 - val_recall: 0.8900\n",
      "Epoch 7/20\n",
      "45/45 [==============================] - 0s 6ms/step\n",
      "251/251 [==============================] - 1s 6ms/step\n",
      "Val F1 Score: 0.19137149794973793 - Train F1 Score: 0.18962804612484035\n",
      "63/63 [==============================] - 23s 364ms/step - loss: 0.3375 - acc: 0.9326 - precision: 0.9643 - recall: 0.8968 - val_loss: 0.3380 - val_acc: 0.9321 - val_precision: 0.9719 - val_recall: 0.8878\n",
      "Epoch 8/20\n",
      "45/45 [==============================] - 0s 5ms/step\n",
      "251/251 [==============================] - 1s 6ms/step\n",
      "Val F1 Score: 0.20466234702491107 - Train F1 Score: 0.20355588753901768\n",
      "63/63 [==============================] - 23s 366ms/step - loss: 0.3210 - acc: 0.9347 - precision: 0.9651 - recall: 0.9001 - val_loss: 0.3213 - val_acc: 0.9339 - val_precision: 0.9706 - val_recall: 0.8934\n",
      "Epoch 9/20\n",
      "45/45 [==============================] - 0s 6ms/step\n",
      "251/251 [==============================] - 2s 6ms/step\n",
      "Val F1 Score: 0.22903486475251889 - Train F1 Score: 0.23155629629115904\n",
      "63/63 [==============================] - 24s 385ms/step - loss: 0.3073 - acc: 0.9369 - precision: 0.9655 - recall: 0.9030 - val_loss: 0.3108 - val_acc: 0.9358 - val_precision: 0.9721 - val_recall: 0.8948\n",
      "Epoch 10/20\n",
      "45/45 [==============================] - 0s 6ms/step\n",
      "251/251 [==============================] - 2s 6ms/step\n",
      "Val F1 Score: 0.24792852213803615 - Train F1 Score: 0.2500279955311987\n",
      "63/63 [==============================] - 24s 392ms/step - loss: 0.2958 - acc: 0.9387 - precision: 0.9662 - recall: 0.9053 - val_loss: 0.3053 - val_acc: 0.9360 - val_precision: 0.9724 - val_recall: 0.8944\n",
      "Epoch 11/20\n",
      "45/45 [==============================] - 0s 6ms/step\n",
      "251/251 [==============================] - 2s 6ms/step\n",
      "Val F1 Score: 0.2600125138215376 - Train F1 Score: 0.26158175551491814\n",
      "63/63 [==============================] - 24s 382ms/step - loss: 0.2855 - acc: 0.9402 - precision: 0.9664 - recall: 0.9078 - val_loss: 0.2955 - val_acc: 0.9372 - val_precision: 0.9724 - val_recall: 0.8967\n",
      "Epoch 12/20\n",
      "45/45 [==============================] - 0s 6ms/step\n",
      "251/251 [==============================] - 2s 6ms/step\n",
      "Val F1 Score: 0.27288937131694585 - Train F1 Score: 0.2744099016145987\n",
      "63/63 [==============================] - 23s 373ms/step - loss: 0.2768 - acc: 0.9414 - precision: 0.9669 - recall: 0.9098 - val_loss: 0.2887 - val_acc: 0.9383 - val_precision: 0.9726 - val_recall: 0.8985\n",
      "Epoch 13/20\n",
      "45/45 [==============================] - 0s 6ms/step\n",
      "251/251 [==============================] - 1s 6ms/step\n",
      "Val F1 Score: 0.2835944519239966 - Train F1 Score: 0.2823590201877573\n",
      "63/63 [==============================] - 23s 370ms/step - loss: 0.2685 - acc: 0.9427 - precision: 0.9674 - recall: 0.9120 - val_loss: 0.2793 - val_acc: 0.9397 - val_precision: 0.9714 - val_recall: 0.9015\n",
      "Epoch 14/20\n",
      "45/45 [==============================] - 0s 6ms/step\n",
      "251/251 [==============================] - 1s 6ms/step\n",
      "Val F1 Score: 0.29462390244649456 - Train F1 Score: 0.296081422953329\n",
      "63/63 [==============================] - 24s 385ms/step - loss: 0.2619 - acc: 0.9436 - precision: 0.9673 - recall: 0.9136 - val_loss: 0.2770 - val_acc: 0.9397 - val_precision: 0.9720 - val_recall: 0.9005\n",
      "Epoch 15/20\n",
      "45/45 [==============================] - 0s 5ms/step\n",
      "251/251 [==============================] - 1s 6ms/step\n",
      "Val F1 Score: 0.299753898835189 - Train F1 Score: 0.3022817932740106\n",
      "63/63 [==============================] - 24s 383ms/step - loss: 0.2550 - acc: 0.9446 - precision: 0.9680 - recall: 0.9149 - val_loss: 0.2671 - val_acc: 0.9416 - val_precision: 0.9717 - val_recall: 0.9034\n",
      "Epoch 16/20\n",
      "45/45 [==============================] - 0s 6ms/step\n",
      "251/251 [==============================] - 2s 6ms/step\n",
      "Val F1 Score: 0.3052370393648754 - Train F1 Score: 0.306955225745729\n",
      "63/63 [==============================] - 23s 367ms/step - loss: 0.2490 - acc: 0.9454 - precision: 0.9680 - recall: 0.9162 - val_loss: 0.2603 - val_acc: 0.9425 - val_precision: 0.9717 - val_recall: 0.9053\n",
      "Epoch 17/20\n",
      "45/45 [==============================] - 0s 6ms/step\n",
      "251/251 [==============================] - 1s 6ms/step\n",
      "Val F1 Score: 0.3144080182975883 - Train F1 Score: 0.31604750607836773\n",
      "63/63 [==============================] - 24s 381ms/step - loss: 0.2432 - acc: 0.9464 - precision: 0.9684 - recall: 0.9172 - val_loss: 0.2532 - val_acc: 0.9440 - val_precision: 0.9719 - val_recall: 0.9071\n",
      "Epoch 18/20\n",
      "45/45 [==============================] - 0s 5ms/step\n",
      "251/251 [==============================] - 1s 6ms/step\n",
      "Val F1 Score: 0.32081978535762434 - Train F1 Score: 0.32474350404732527\n",
      "63/63 [==============================] - 22s 360ms/step - loss: 0.2379 - acc: 0.9471 - precision: 0.9686 - recall: 0.9183 - val_loss: 0.2472 - val_acc: 0.9451 - val_precision: 0.9724 - val_recall: 0.9088\n",
      "Epoch 19/20\n",
      "45/45 [==============================] - 0s 6ms/step\n",
      "251/251 [==============================] - 2s 6ms/step\n",
      "Val F1 Score: 0.328571307449014 - Train F1 Score: 0.3334584651274563\n",
      "63/63 [==============================] - 23s 376ms/step - loss: 0.2331 - acc: 0.9479 - precision: 0.9691 - recall: 0.9192 - val_loss: 0.2450 - val_acc: 0.9450 - val_precision: 0.9726 - val_recall: 0.9088\n",
      "Epoch 20/20\n",
      "45/45 [==============================] - 0s 6ms/step\n",
      "251/251 [==============================] - 1s 6ms/step\n",
      "Val F1 Score: 0.32948056365886563 - Train F1 Score: 0.3348500122940456\n",
      "63/63 [==============================] - 23s 368ms/step - loss: 0.2285 - acc: 0.9485 - precision: 0.9692 - recall: 0.9202 - val_loss: 0.2360 - val_acc: 0.9471 - val_precision: 0.9719 - val_recall: 0.9127\n"
     ]
    }
   ],
   "source": [
    "rnn_training = rnn_model.fit(X_train, Y_train, batch_size=128, epochs=20, validation_data=(X_val, Y_val), callbacks=[rnn_f1_callback])"
   ]
  },
  {
   "cell_type": "markdown",
   "id": "6ac14735",
   "metadata": {
    "papermill": {
     "duration": 0.090756,
     "end_time": "2024-03-10T12:52:02.822484",
     "exception": false,
     "start_time": "2024-03-10T12:52:02.731728",
     "status": "completed"
    },
    "tags": []
   },
   "source": [
    "Plotting the graph"
   ]
  },
  {
   "cell_type": "code",
   "execution_count": 25,
   "id": "8bf16064",
   "metadata": {
    "execution": {
     "iopub.execute_input": "2024-03-10T12:52:03.008540Z",
     "iopub.status.busy": "2024-03-10T12:52:03.007952Z",
     "iopub.status.idle": "2024-03-10T12:52:03.943357Z",
     "shell.execute_reply": "2024-03-10T12:52:03.941762Z"
    },
    "papermill": {
     "duration": 1.032335,
     "end_time": "2024-03-10T12:52:03.946289",
     "exception": false,
     "start_time": "2024-03-10T12:52:02.913954",
     "status": "completed"
    },
    "tags": []
   },
   "outputs": [
    {
     "data": {
      "image/png": "[encoded data removed]",
      "text/plain": [
       "<Figure size 1600x500 with 2 Axes>"
      ]
     },
     "metadata": {},
     "output_type": "display_data"
    }
   ],
   "source": [
    "draw_loss_graph(rnn_training,model_name, rnn_f1_callback.train_f1_scores, rnn_f1_callback.val_f1_scores)\n",
    "save_model(rnn_model,model_name,Embedding_name,Dataset)"
   ]
  },
  {
   "cell_type": "markdown",
   "id": "248ef8e1",
   "metadata": {
    "papermill": {
     "duration": 0.093552,
     "end_time": "2024-03-10T12:52:04.134533",
     "exception": false,
     "start_time": "2024-03-10T12:52:04.040981",
     "status": "completed"
    },
    "tags": []
   },
   "source": [
    "### Testing"
   ]
  },
  {
   "cell_type": "code",
   "execution_count": 26,
   "id": "4663b122",
   "metadata": {
    "execution": {
     "iopub.execute_input": "2024-03-10T12:52:04.325436Z",
     "iopub.status.busy": "2024-03-10T12:52:04.324457Z",
     "iopub.status.idle": "2024-03-10T12:52:05.048807Z",
     "shell.execute_reply": "2024-03-10T12:52:05.047705Z"
    },
    "papermill": {
     "duration": 0.822558,
     "end_time": "2024-03-10T12:52:05.051221",
     "exception": false,
     "start_time": "2024-03-10T12:52:04.228663",
     "status": "completed"
    },
    "tags": []
   },
   "outputs": [],
   "source": [
    "loaded_model = load_model(model_name,Embedding_name,Dataset)"
   ]
  },
  {
   "cell_type": "markdown",
   "id": "d81be8bd",
   "metadata": {
    "papermill": {
     "duration": 0.092861,
     "end_time": "2024-03-10T12:52:05.236092",
     "exception": false,
     "start_time": "2024-03-10T12:52:05.143231",
     "status": "completed"
    },
    "tags": []
   },
   "source": [
    "Testing accuracy"
   ]
  },
  {
   "cell_type": "code",
   "execution_count": 27,
   "id": "86a03a9e",
   "metadata": {
    "execution": {
     "iopub.execute_input": "2024-03-10T12:52:05.423121Z",
     "iopub.status.busy": "2024-03-10T12:52:05.422534Z",
     "iopub.status.idle": "2024-03-10T12:52:06.197375Z",
     "shell.execute_reply": "2024-03-10T12:52:06.196123Z"
    },
    "papermill": {
     "duration": 0.871967,
     "end_time": "2024-03-10T12:52:06.200052",
     "exception": false,
     "start_time": "2024-03-10T12:52:05.328085",
     "status": "completed"
    },
    "tags": []
   },
   "outputs": [
    {
     "name": "stdout",
     "output_type": "stream",
     "text": [
      "30/30 [==============================] - 1s 7ms/step - loss: 0.2618 - acc: 0.9414 - precision: 0.9671 - recall: 0.9040\n",
      "0.9414120316505432\n"
     ]
    }
   ],
   "source": [
    "accuracy = loaded_model.evaluate(X_test, Y_test, verbose = 1)\n",
    "print(accuracy[1])"
   ]
  },
  {
   "cell_type": "markdown",
   "id": "17f4314c",
   "metadata": {
    "papermill": {
     "duration": 0.090823,
     "end_time": "2024-03-10T12:52:06.381554",
     "exception": false,
     "start_time": "2024-03-10T12:52:06.290731",
     "status": "completed"
    },
    "tags": []
   },
   "source": [
    "Testing F1 Score"
   ]
  },
  {
   "cell_type": "code",
   "execution_count": 28,
   "id": "db7d4851",
   "metadata": {
    "execution": {
     "iopub.execute_input": "2024-03-10T12:52:06.567260Z",
     "iopub.status.busy": "2024-03-10T12:52:06.566844Z",
     "iopub.status.idle": "2024-03-10T12:52:08.851219Z",
     "shell.execute_reply": "2024-03-10T12:52:08.849770Z"
    },
    "papermill": {
     "duration": 2.380322,
     "end_time": "2024-03-10T12:52:08.853793",
     "exception": false,
     "start_time": "2024-03-10T12:52:06.473471",
     "status": "completed"
    },
    "tags": []
   },
   "outputs": [
    {
     "name": "stdout",
     "output_type": "stream",
     "text": [
      "30/30 [==============================] - 0s 6ms/step\n",
      "Test F1 Score: 0.3313271816796507\n"
     ]
    }
   ],
   "source": [
    "Y_pred = loaded_model.predict(X_test)\n",
    "real = get_real(Y_test)\n",
    "pred = get_pred(Y_pred)\n",
    "\n",
    "true_labels_flat = [label for sublist in real for label in sublist]\n",
    "predicted_labels_flat = [label for sublist in pred for label in sublist]\n",
    "\n",
    "# Compute F1 score\n",
    "f1 = f1_score(true_labels_flat, predicted_labels_flat, average='macro')\n",
    "\n",
    "print(\"Test F1 Score:\", f1)"
   ]
  },
  {
   "cell_type": "markdown",
   "id": "c7bebf5b",
   "metadata": {
    "papermill": {
     "duration": 0.092281,
     "end_time": "2024-03-10T12:52:09.037910",
     "exception": false,
     "start_time": "2024-03-10T12:52:08.945629",
     "status": "completed"
    },
    "tags": []
   },
   "source": [
    "## GRU"
   ]
  },
  {
   "cell_type": "code",
   "execution_count": 29,
   "id": "83745f44",
   "metadata": {
    "execution": {
     "iopub.execute_input": "2024-03-10T12:52:09.225272Z",
     "iopub.status.busy": "2024-03-10T12:52:09.224924Z",
     "iopub.status.idle": "2024-03-10T12:52:09.229061Z",
     "shell.execute_reply": "2024-03-10T12:52:09.228286Z"
    },
    "papermill": {
     "duration": 0.099459,
     "end_time": "2024-03-10T12:52:09.230585",
     "exception": false,
     "start_time": "2024-03-10T12:52:09.131126",
     "status": "completed"
    },
    "tags": []
   },
   "outputs": [],
   "source": [
    "model_name=\"GRU\""
   ]
  },
  {
   "cell_type": "markdown",
   "id": "547b8a0f",
   "metadata": {
    "papermill": {
     "duration": 0.092606,
     "end_time": "2024-03-10T12:52:09.415818",
     "exception": false,
     "start_time": "2024-03-10T12:52:09.323212",
     "status": "completed"
    },
    "tags": []
   },
   "source": [
    "### Training"
   ]
  },
  {
   "cell_type": "code",
   "execution_count": 30,
   "id": "5b4074f8",
   "metadata": {
    "execution": {
     "iopub.execute_input": "2024-03-10T12:52:09.602080Z",
     "iopub.status.busy": "2024-03-10T12:52:09.601414Z",
     "iopub.status.idle": "2024-03-10T12:52:09.919192Z",
     "shell.execute_reply": "2024-03-10T12:52:09.918071Z"
    },
    "papermill": {
     "duration": 0.414087,
     "end_time": "2024-03-10T12:52:09.921808",
     "exception": false,
     "start_time": "2024-03-10T12:52:09.507721",
     "status": "completed"
    },
    "tags": []
   },
   "outputs": [],
   "source": [
    "gru_model = Sequential()\n",
    "gru_model.add(Embedding(input_dim = vocab_size,output_dim = 300,input_length  = max_len,weights = [weights],trainable = False))\n",
    "gru_model.add(GRU(64, return_sequences=True))\n",
    "gru_model.add(TimeDistributed(Dense(Y_train.shape[2], activation='softmax')))"
   ]
  },
  {
   "cell_type": "markdown",
   "id": "8485c768",
   "metadata": {
    "papermill": {
     "duration": 0.092495,
     "end_time": "2024-03-10T12:52:10.108257",
     "exception": false,
     "start_time": "2024-03-10T12:52:10.015762",
     "status": "completed"
    },
    "tags": []
   },
   "source": [
    "compiling "
   ]
  },
  {
   "cell_type": "code",
   "execution_count": 31,
   "id": "a8f96555",
   "metadata": {
    "execution": {
     "iopub.execute_input": "2024-03-10T12:52:10.295019Z",
     "iopub.status.busy": "2024-03-10T12:52:10.294372Z",
     "iopub.status.idle": "2024-03-10T12:52:10.311248Z",
     "shell.execute_reply": "2024-03-10T12:52:10.310482Z"
    },
    "papermill": {
     "duration": 0.112863,
     "end_time": "2024-03-10T12:52:10.313280",
     "exception": false,
     "start_time": "2024-03-10T12:52:10.200417",
     "status": "completed"
    },
    "tags": []
   },
   "outputs": [],
   "source": [
    "gru_model.compile(loss='categorical_crossentropy',optimizer='adam',metrics=['acc',Precision(),Recall()])"
   ]
  },
  {
   "cell_type": "code",
   "execution_count": 32,
   "id": "6ed843a3",
   "metadata": {
    "execution": {
     "iopub.execute_input": "2024-03-10T12:52:10.499848Z",
     "iopub.status.busy": "2024-03-10T12:52:10.499280Z",
     "iopub.status.idle": "2024-03-10T12:52:10.504374Z",
     "shell.execute_reply": "2024-03-10T12:52:10.503039Z"
    },
    "papermill": {
     "duration": 0.10151,
     "end_time": "2024-03-10T12:52:10.506888",
     "exception": false,
     "start_time": "2024-03-10T12:52:10.405378",
     "status": "completed"
    },
    "tags": []
   },
   "outputs": [],
   "source": [
    "gru_f1_callback = F1ScoreCallback(val_data=(X_val, Y_val),data=(X_train, Y_train))"
   ]
  },
  {
   "cell_type": "code",
   "execution_count": 33,
   "id": "8e516970",
   "metadata": {
    "execution": {
     "iopub.execute_input": "2024-03-10T12:52:10.752259Z",
     "iopub.status.busy": "2024-03-10T12:52:10.751878Z",
     "iopub.status.idle": "2024-03-10T12:52:10.772269Z",
     "shell.execute_reply": "2024-03-10T12:52:10.771083Z"
    },
    "papermill": {
     "duration": 0.115901,
     "end_time": "2024-03-10T12:52:10.773924",
     "exception": false,
     "start_time": "2024-03-10T12:52:10.658023",
     "status": "completed"
    },
    "tags": []
   },
   "outputs": [
    {
     "name": "stdout",
     "output_type": "stream",
     "text": [
      "Model: \"sequential_1\"\n",
      "_________________________________________________________________\n",
      " Layer (type)                Output Shape              Param #   \n",
      "=================================================================\n",
      " embedding_1 (Embedding)     (None, 70, 300)           9066000   \n",
      "                                                                 \n",
      " gru (GRU)                   (None, 70, 64)            70272     \n",
      "                                                                 \n",
      " time_distributed_1 (TimeDi  (None, 70, 28)            1820      \n",
      " stributed)                                                      \n",
      "                                                                 \n",
      "=================================================================\n",
      "Total params: 9138092 (34.86 MB)\n",
      "Trainable params: 72092 (281.61 KB)\n",
      "Non-trainable params: 9066000 (34.58 MB)\n",
      "_________________________________________________________________\n"
     ]
    }
   ],
   "source": [
    "gru_model.summary()"
   ]
  },
  {
   "cell_type": "markdown",
   "id": "18305186",
   "metadata": {
    "papermill": {
     "duration": 0.094738,
     "end_time": "2024-03-10T12:52:10.961107",
     "exception": false,
     "start_time": "2024-03-10T12:52:10.866369",
     "status": "completed"
    },
    "tags": []
   },
   "source": [
    "Fitting GRU"
   ]
  },
  {
   "cell_type": "code",
   "execution_count": 34,
   "id": "756722a9",
   "metadata": {
    "execution": {
     "iopub.execute_input": "2024-03-10T12:52:11.154024Z",
     "iopub.status.busy": "2024-03-10T12:52:11.153700Z",
     "iopub.status.idle": "2024-03-10T13:01:34.825862Z",
     "shell.execute_reply": "2024-03-10T13:01:34.824447Z"
    },
    "papermill": {
     "duration": 563.772325,
     "end_time": "2024-03-10T13:01:34.829035",
     "exception": false,
     "start_time": "2024-03-10T12:52:11.056710",
     "status": "completed"
    },
    "tags": []
   },
   "outputs": [
    {
     "name": "stdout",
     "output_type": "stream",
     "text": [
      "Epoch 1/20\n",
      "45/45 [==============================] - 1s 11ms/step\n",
      "251/251 [==============================] - 3s 11ms/step\n",
      "Val F1 Score: 0.08728571004057205 - Train F1 Score: 0.08427513766888653\n",
      "63/63 [==============================] - 32s 483ms/step - loss: 1.6276 - acc: 0.8796 - precision_1: 0.9138 - recall_1: 0.4447 - val_loss: 0.5285 - val_acc: 0.9133 - val_precision_1: 0.9538 - val_recall_1: 0.8292\n",
      "Epoch 2/20\n",
      "45/45 [==============================] - 1s 11ms/step\n",
      "251/251 [==============================] - 3s 11ms/step\n",
      "Val F1 Score: 0.11888004047612775 - Train F1 Score: 0.11652026048736604\n",
      "63/63 [==============================] - 27s 437ms/step - loss: 0.4414 - acc: 0.9222 - precision_1: 0.9514 - recall_1: 0.8577 - val_loss: 0.3925 - val_acc: 0.9264 - val_precision_1: 0.9579 - val_recall_1: 0.8629\n",
      "Epoch 3/20\n",
      "45/45 [==============================] - 1s 11ms/step\n",
      "251/251 [==============================] - 3s 11ms/step\n",
      "Val F1 Score: 0.18758677271201604 - Train F1 Score: 0.18580714315409833\n",
      "63/63 [==============================] - 27s 436ms/step - loss: 0.3631 - acc: 0.9305 - precision_1: 0.9578 - recall_1: 0.8839 - val_loss: 0.3348 - val_acc: 0.9338 - val_precision_1: 0.9616 - val_recall_1: 0.8865\n",
      "Epoch 4/20\n",
      "45/45 [==============================] - 0s 10ms/step\n",
      "251/251 [==============================] - 3s 10ms/step\n",
      "Val F1 Score: 0.24026505917412072 - Train F1 Score: 0.23928600970162003\n",
      "63/63 [==============================] - 27s 427ms/step - loss: 0.3187 - acc: 0.9361 - precision_1: 0.9607 - recall_1: 0.8904 - val_loss: 0.2972 - val_acc: 0.9382 - val_precision_1: 0.9641 - val_recall_1: 0.8919\n",
      "Epoch 5/20\n",
      "45/45 [==============================] - 1s 11ms/step\n",
      "251/251 [==============================] - 3s 11ms/step\n",
      "Val F1 Score: 0.2772179514656083 - Train F1 Score: 0.277533621894887\n",
      "63/63 [==============================] - 29s 472ms/step - loss: 0.2860 - acc: 0.9402 - precision_1: 0.9636 - recall_1: 0.9087 - val_loss: 0.2695 - val_acc: 0.9421 - val_precision_1: 0.9658 - val_recall_1: 0.9104\n",
      "Epoch 6/20\n",
      "45/45 [==============================] - 1s 12ms/step\n",
      "251/251 [==============================] - 3s 11ms/step\n",
      "Val F1 Score: 0.30500228709279703 - Train F1 Score: 0.3070030689026661\n",
      "63/63 [==============================] - 27s 437ms/step - loss: 0.2620 - acc: 0.9438 - precision_1: 0.9653 - recall_1: 0.9139 - val_loss: 0.2492 - val_acc: 0.9451 - val_precision_1: 0.9678 - val_recall_1: 0.9140\n",
      "Epoch 7/20\n",
      "45/45 [==============================] - 1s 11ms/step\n",
      "251/251 [==============================] - 3s 11ms/step\n",
      "Val F1 Score: 0.3338372027578741 - Train F1 Score: 0.3328297376035119\n",
      "63/63 [==============================] - 30s 483ms/step - loss: 0.2437 - acc: 0.9464 - precision_1: 0.9667 - recall_1: 0.9175 - val_loss: 0.2353 - val_acc: 0.9479 - val_precision_1: 0.9699 - val_recall_1: 0.9167\n",
      "Epoch 8/20\n",
      "45/45 [==============================] - 0s 11ms/step\n",
      "251/251 [==============================] - 3s 11ms/step\n",
      "Val F1 Score: 0.35282904100641804 - Train F1 Score: 0.3539604539409228\n",
      "63/63 [==============================] - 28s 443ms/step - loss: 0.2296 - acc: 0.9485 - precision_1: 0.9674 - recall_1: 0.9205 - val_loss: 0.2236 - val_acc: 0.9496 - val_precision_1: 0.9702 - val_recall_1: 0.9195\n",
      "Epoch 9/20\n",
      "45/45 [==============================] - 1s 11ms/step\n",
      "251/251 [==============================] - 3s 11ms/step\n",
      "Val F1 Score: 0.366263841451494 - Train F1 Score: 0.3697432057168628\n",
      "63/63 [==============================] - 28s 443ms/step - loss: 0.2181 - acc: 0.9504 - precision_1: 0.9686 - recall_1: 0.9227 - val_loss: 0.2143 - val_acc: 0.9510 - val_precision_1: 0.9701 - val_recall_1: 0.9218\n",
      "Epoch 10/20\n",
      "45/45 [==============================] - 1s 14ms/step\n",
      "251/251 [==============================] - 3s 11ms/step\n",
      "Val F1 Score: 0.3809630223260207 - Train F1 Score: 0.3877853454209474\n",
      "63/63 [==============================] - 28s 453ms/step - loss: 0.2080 - acc: 0.9519 - precision_1: 0.9691 - recall_1: 0.9252 - val_loss: 0.2077 - val_acc: 0.9522 - val_precision_1: 0.9709 - val_recall_1: 0.9225\n",
      "Epoch 11/20\n",
      "45/45 [==============================] - 1s 12ms/step\n",
      "251/251 [==============================] - 3s 12ms/step\n",
      "Val F1 Score: 0.39322246853634646 - Train F1 Score: 0.40243170495678454\n",
      "63/63 [==============================] - 30s 479ms/step - loss: 0.1995 - acc: 0.9532 - precision_1: 0.9699 - recall_1: 0.9283 - val_loss: 0.2012 - val_acc: 0.9531 - val_precision_1: 0.9718 - val_recall_1: 0.9381\n",
      "Epoch 12/20\n",
      "45/45 [==============================] - 1s 11ms/step\n",
      "251/251 [==============================] - 3s 11ms/step\n",
      "Val F1 Score: 0.4013687996395148 - Train F1 Score: 0.41463852683870145\n",
      "63/63 [==============================] - 27s 438ms/step - loss: 0.1920 - acc: 0.9544 - precision_1: 0.9708 - recall_1: 0.9428 - val_loss: 0.1956 - val_acc: 0.9540 - val_precision_1: 0.9724 - val_recall_1: 0.9399\n",
      "Epoch 13/20\n",
      "45/45 [==============================] - 1s 11ms/step\n",
      "251/251 [==============================] - 3s 11ms/step\n",
      "Val F1 Score: 0.40881655933299105 - Train F1 Score: 0.42848706676307247\n",
      "63/63 [==============================] - 28s 446ms/step - loss: 0.1852 - acc: 0.9556 - precision_1: 0.9714 - recall_1: 0.9444 - val_loss: 0.1907 - val_acc: 0.9548 - val_precision_1: 0.9723 - val_recall_1: 0.9416\n",
      "Epoch 14/20\n",
      "45/45 [==============================] - 1s 11ms/step\n",
      "251/251 [==============================] - 3s 12ms/step\n",
      "Val F1 Score: 0.41983193708737626 - Train F1 Score: 0.4472912704413853\n",
      "63/63 [==============================] - 27s 438ms/step - loss: 0.1796 - acc: 0.9568 - precision_1: 0.9719 - recall_1: 0.9458 - val_loss: 0.1879 - val_acc: 0.9549 - val_precision_1: 0.9731 - val_recall_1: 0.9409\n",
      "Epoch 15/20\n",
      "45/45 [==============================] - 1s 11ms/step\n",
      "251/251 [==============================] - 3s 11ms/step\n",
      "Val F1 Score: 0.42436427831432005 - Train F1 Score: 0.4598321516934467\n",
      "63/63 [==============================] - 27s 442ms/step - loss: 0.1741 - acc: 0.9577 - precision_1: 0.9723 - recall_1: 0.9472 - val_loss: 0.1847 - val_acc: 0.9553 - val_precision_1: 0.9727 - val_recall_1: 0.9421\n",
      "Epoch 16/20\n",
      "45/45 [==============================] - 1s 11ms/step\n",
      "251/251 [==============================] - 3s 11ms/step\n",
      "Val F1 Score: 0.42904756482686607 - Train F1 Score: 0.46679164906646425\n",
      "63/63 [==============================] - 27s 433ms/step - loss: 0.1694 - acc: 0.9587 - precision_1: 0.9729 - recall_1: 0.9485 - val_loss: 0.1807 - val_acc: 0.9558 - val_precision_1: 0.9724 - val_recall_1: 0.9438\n",
      "Epoch 17/20\n",
      "45/45 [==============================] - 1s 11ms/step\n",
      "251/251 [==============================] - 3s 11ms/step\n",
      "Val F1 Score: 0.43866982298439333 - Train F1 Score: 0.4794795959616911\n",
      "63/63 [==============================] - 28s 443ms/step - loss: 0.1650 - acc: 0.9595 - precision_1: 0.9732 - recall_1: 0.9496 - val_loss: 0.1780 - val_acc: 0.9560 - val_precision_1: 0.9722 - val_recall_1: 0.9447\n",
      "Epoch 18/20\n",
      "45/45 [==============================] - 1s 13ms/step\n",
      "251/251 [==============================] - 3s 13ms/step\n",
      "Val F1 Score: 0.44596624326876927 - Train F1 Score: 0.48746914632542737\n",
      "63/63 [==============================] - 28s 448ms/step - loss: 0.1612 - acc: 0.9604 - precision_1: 0.9736 - recall_1: 0.9508 - val_loss: 0.1762 - val_acc: 0.9567 - val_precision_1: 0.9719 - val_recall_1: 0.9455\n",
      "Epoch 19/20\n",
      "45/45 [==============================] - 1s 11ms/step\n",
      "251/251 [==============================] - 3s 12ms/step\n",
      "Val F1 Score: 0.44842231022263934 - Train F1 Score: 0.49497977058188986\n",
      "63/63 [==============================] - 28s 447ms/step - loss: 0.1576 - acc: 0.9612 - precision_1: 0.9741 - recall_1: 0.9517 - val_loss: 0.1740 - val_acc: 0.9566 - val_precision_1: 0.9715 - val_recall_1: 0.9464\n",
      "Epoch 20/20\n",
      "45/45 [==============================] - 1s 11ms/step\n",
      "251/251 [==============================] - 3s 12ms/step\n",
      "Val F1 Score: 0.45225355421931557 - Train F1 Score: 0.5015415494015303\n",
      "63/63 [==============================] - 28s 452ms/step - loss: 0.1544 - acc: 0.9619 - precision_1: 0.9744 - recall_1: 0.9528 - val_loss: 0.1724 - val_acc: 0.9574 - val_precision_1: 0.9707 - val_recall_1: 0.9478\n"
     ]
    }
   ],
   "source": [
    "gru_training = gru_model.fit(X_train, Y_train, batch_size=128, epochs=20, validation_data=(X_val, Y_val), callbacks=[gru_f1_callback])"
   ]
  },
  {
   "cell_type": "markdown",
   "id": "67a41df8",
   "metadata": {
    "papermill": {
     "duration": 0.251732,
     "end_time": "2024-03-10T13:01:35.345223",
     "exception": false,
     "start_time": "2024-03-10T13:01:35.093491",
     "status": "completed"
    },
    "tags": []
   },
   "source": [
    "Plotting Graph"
   ]
  },
  {
   "cell_type": "code",
   "execution_count": 35,
   "id": "5c0a5949",
   "metadata": {
    "execution": {
     "iopub.execute_input": "2024-03-10T13:01:35.953164Z",
     "iopub.status.busy": "2024-03-10T13:01:35.951991Z",
     "iopub.status.idle": "2024-03-10T13:01:36.510487Z",
     "shell.execute_reply": "2024-03-10T13:01:36.508761Z"
    },
    "papermill": {
     "duration": 0.913706,
     "end_time": "2024-03-10T13:01:36.513164",
     "exception": false,
     "start_time": "2024-03-10T13:01:35.599458",
     "status": "completed"
    },
    "tags": []
   },
   "outputs": [
    {
     "data": {
      "image/png": "[encoded data removed]",
      "text/plain": [
       "<Figure size 1600x500 with 2 Axes>"
      ]
     },
     "metadata": {},
     "output_type": "display_data"
    }
   ],
   "source": [
    "draw_loss_graph(gru_training,model_name, gru_f1_callback.train_f1_scores, gru_f1_callback.val_f1_scores)\n",
    "save_model(gru_model,model_name,Embedding_name,Dataset)"
   ]
  },
  {
   "cell_type": "markdown",
   "id": "6eef6649",
   "metadata": {
    "papermill": {
     "duration": 0.245312,
     "end_time": "2024-03-10T13:01:37.003029",
     "exception": false,
     "start_time": "2024-03-10T13:01:36.757717",
     "status": "completed"
    },
    "tags": []
   },
   "source": [
    "### Testing"
   ]
  },
  {
   "cell_type": "code",
   "execution_count": 36,
   "id": "948627fc",
   "metadata": {
    "execution": {
     "iopub.execute_input": "2024-03-10T13:01:37.485967Z",
     "iopub.status.busy": "2024-03-10T13:01:37.485628Z",
     "iopub.status.idle": "2024-03-10T13:01:38.366590Z",
     "shell.execute_reply": "2024-03-10T13:01:38.365416Z"
    },
    "papermill": {
     "duration": 1.125834,
     "end_time": "2024-03-10T13:01:38.369585",
     "exception": false,
     "start_time": "2024-03-10T13:01:37.243751",
     "status": "completed"
    },
    "tags": []
   },
   "outputs": [],
   "source": [
    "loaded_model = load_model(model_name,Embedding_name,Dataset)"
   ]
  },
  {
   "cell_type": "markdown",
   "id": "2df78740",
   "metadata": {
    "papermill": {
     "duration": 0.241387,
     "end_time": "2024-03-10T13:01:38.849876",
     "exception": false,
     "start_time": "2024-03-10T13:01:38.608489",
     "status": "completed"
    },
    "tags": []
   },
   "source": [
    "Testing Accuracy"
   ]
  },
  {
   "cell_type": "code",
   "execution_count": 37,
   "id": "84398d18",
   "metadata": {
    "execution": {
     "iopub.execute_input": "2024-03-10T13:01:39.399075Z",
     "iopub.status.busy": "2024-03-10T13:01:39.398713Z",
     "iopub.status.idle": "2024-03-10T13:01:40.568725Z",
     "shell.execute_reply": "2024-03-10T13:01:40.567434Z"
    },
    "papermill": {
     "duration": 1.417172,
     "end_time": "2024-03-10T13:01:40.571045",
     "exception": false,
     "start_time": "2024-03-10T13:01:39.153873",
     "status": "completed"
    },
    "tags": []
   },
   "outputs": [
    {
     "name": "stdout",
     "output_type": "stream",
     "text": [
      "30/30 [==============================] - 1s 12ms/step - loss: 0.1979 - acc: 0.9517 - precision_1: 0.9648 - recall_1: 0.9413\n",
      "0.9516634345054626\n"
     ]
    }
   ],
   "source": [
    "accuracy = loaded_model.evaluate(X_test, Y_test, verbose = 1)\n",
    "print(accuracy[1])"
   ]
  },
  {
   "cell_type": "markdown",
   "id": "98dc37a9",
   "metadata": {
    "papermill": {
     "duration": 0.243969,
     "end_time": "2024-03-10T13:01:41.058193",
     "exception": false,
     "start_time": "2024-03-10T13:01:40.814224",
     "status": "completed"
    },
    "tags": []
   },
   "source": [
    "Testing F1 Score"
   ]
  },
  {
   "cell_type": "code",
   "execution_count": 38,
   "id": "6441b615",
   "metadata": {
    "execution": {
     "iopub.execute_input": "2024-03-10T13:01:41.560398Z",
     "iopub.status.busy": "2024-03-10T13:01:41.560059Z",
     "iopub.status.idle": "2024-03-10T13:01:44.285446Z",
     "shell.execute_reply": "2024-03-10T13:01:44.284075Z"
    },
    "papermill": {
     "duration": 2.980177,
     "end_time": "2024-03-10T13:01:44.288338",
     "exception": false,
     "start_time": "2024-03-10T13:01:41.308161",
     "status": "completed"
    },
    "tags": []
   },
   "outputs": [
    {
     "name": "stdout",
     "output_type": "stream",
     "text": [
      "30/30 [==============================] - 1s 11ms/step\n",
      "Test F1 Score: 0.4498587538659445\n"
     ]
    }
   ],
   "source": [
    "Y_pred = loaded_model.predict(X_test)\n",
    "real = get_real(Y_test)\n",
    "pred = get_pred(Y_pred)\n",
    "\n",
    "true_labels_flat = [label for sublist in real for label in sublist]\n",
    "predicted_labels_flat = [label for sublist in pred for label in sublist]\n",
    "\n",
    "# Compute F1 score\n",
    "f1 = f1_score(true_labels_flat, predicted_labels_flat, average='macro')\n",
    "\n",
    "print(\"Test F1 Score:\", f1)"
   ]
  },
  {
   "cell_type": "markdown",
   "id": "be7de94e",
   "metadata": {
    "papermill": {
     "duration": 0.245935,
     "end_time": "2024-03-10T13:01:44.780758",
     "exception": false,
     "start_time": "2024-03-10T13:01:44.534823",
     "status": "completed"
    },
    "tags": []
   },
   "source": [
    "## LSTM"
   ]
  },
  {
   "cell_type": "code",
   "execution_count": 39,
   "id": "6f9b3deb",
   "metadata": {
    "execution": {
     "iopub.execute_input": "2024-03-10T13:01:45.336600Z",
     "iopub.status.busy": "2024-03-10T13:01:45.336172Z",
     "iopub.status.idle": "2024-03-10T13:01:45.341962Z",
     "shell.execute_reply": "2024-03-10T13:01:45.340791Z"
    },
    "papermill": {
     "duration": 0.252631,
     "end_time": "2024-03-10T13:01:45.343789",
     "exception": false,
     "start_time": "2024-03-10T13:01:45.091158",
     "status": "completed"
    },
    "tags": []
   },
   "outputs": [],
   "source": [
    "model_name=\"LSTM\""
   ]
  },
  {
   "cell_type": "markdown",
   "id": "40976d28",
   "metadata": {
    "papermill": {
     "duration": 0.247803,
     "end_time": "2024-03-10T13:01:45.835532",
     "exception": false,
     "start_time": "2024-03-10T13:01:45.587729",
     "status": "completed"
    },
    "tags": []
   },
   "source": [
    "### Training"
   ]
  },
  {
   "cell_type": "code",
   "execution_count": 40,
   "id": "89d40d88",
   "metadata": {
    "execution": {
     "iopub.execute_input": "2024-03-10T13:01:46.322660Z",
     "iopub.status.busy": "2024-03-10T13:01:46.322277Z",
     "iopub.status.idle": "2024-03-10T13:01:46.647994Z",
     "shell.execute_reply": "2024-03-10T13:01:46.646753Z"
    },
    "papermill": {
     "duration": 0.571304,
     "end_time": "2024-03-10T13:01:46.650264",
     "exception": false,
     "start_time": "2024-03-10T13:01:46.078960",
     "status": "completed"
    },
    "tags": []
   },
   "outputs": [],
   "source": [
    "lstm_model = Sequential()\n",
    "lstm_model.add(Embedding(input_dim = vocab_size,output_dim = 300,input_length  = max_len,weights = [weights],trainable = False))\n",
    "lstm_model.add(LSTM(128, return_sequences=True))\n",
    "lstm_model.add(TimeDistributed(Dense(Y_train.shape[2], activation='softmax')))# Lstm"
   ]
  },
  {
   "cell_type": "markdown",
   "id": "885d22fa",
   "metadata": {
    "papermill": {
     "duration": 0.303699,
     "end_time": "2024-03-10T13:01:47.199644",
     "exception": false,
     "start_time": "2024-03-10T13:01:46.895945",
     "status": "completed"
    },
    "tags": []
   },
   "source": [
    "Compiling LSTM"
   ]
  },
  {
   "cell_type": "code",
   "execution_count": 41,
   "id": "248a79c7",
   "metadata": {
    "execution": {
     "iopub.execute_input": "2024-03-10T13:01:47.687213Z",
     "iopub.status.busy": "2024-03-10T13:01:47.686768Z",
     "iopub.status.idle": "2024-03-10T13:01:47.714108Z",
     "shell.execute_reply": "2024-03-10T13:01:47.712669Z"
    },
    "papermill": {
     "duration": 0.274447,
     "end_time": "2024-03-10T13:01:47.716736",
     "exception": false,
     "start_time": "2024-03-10T13:01:47.442289",
     "status": "completed"
    },
    "tags": []
   },
   "outputs": [],
   "source": [
    "lstm_model.compile(loss='categorical_crossentropy',optimizer='adam',metrics=['acc',Precision(),Recall()])"
   ]
  },
  {
   "cell_type": "code",
   "execution_count": 42,
   "id": "3eae8e9e",
   "metadata": {
    "execution": {
     "iopub.execute_input": "2024-03-10T13:01:48.210214Z",
     "iopub.status.busy": "2024-03-10T13:01:48.209786Z",
     "iopub.status.idle": "2024-03-10T13:01:48.215059Z",
     "shell.execute_reply": "2024-03-10T13:01:48.213595Z"
    },
    "papermill": {
     "duration": 0.252647,
     "end_time": "2024-03-10T13:01:48.217485",
     "exception": false,
     "start_time": "2024-03-10T13:01:47.964838",
     "status": "completed"
    },
    "tags": []
   },
   "outputs": [],
   "source": [
    "LSTM_f1_callback=F1ScoreCallback(val_data=(X_val, Y_val),data=(X_train, Y_train))"
   ]
  },
  {
   "cell_type": "code",
   "execution_count": 43,
   "id": "74707aac",
   "metadata": {
    "execution": {
     "iopub.execute_input": "2024-03-10T13:01:48.709113Z",
     "iopub.status.busy": "2024-03-10T13:01:48.708350Z",
     "iopub.status.idle": "2024-03-10T13:01:48.731696Z",
     "shell.execute_reply": "2024-03-10T13:01:48.729103Z"
    },
    "papermill": {
     "duration": 0.27393,
     "end_time": "2024-03-10T13:01:48.735116",
     "exception": false,
     "start_time": "2024-03-10T13:01:48.461186",
     "status": "completed"
    },
    "tags": []
   },
   "outputs": [
    {
     "name": "stdout",
     "output_type": "stream",
     "text": [
      "Model: \"sequential_2\"\n",
      "_________________________________________________________________\n",
      " Layer (type)                Output Shape              Param #   \n",
      "=================================================================\n",
      " embedding_2 (Embedding)     (None, 70, 300)           9066000   \n",
      "                                                                 \n",
      " lstm (LSTM)                 (None, 70, 128)           219648    \n",
      "                                                                 \n",
      " time_distributed_2 (TimeDi  (None, 70, 28)            3612      \n",
      " stributed)                                                      \n",
      "                                                                 \n",
      "=================================================================\n",
      "Total params: 9289260 (35.44 MB)\n",
      "Trainable params: 223260 (872.11 KB)\n",
      "Non-trainable params: 9066000 (34.58 MB)\n",
      "_________________________________________________________________\n"
     ]
    }
   ],
   "source": [
    "lstm_model.summary()"
   ]
  },
  {
   "cell_type": "markdown",
   "id": "0f67eeed",
   "metadata": {
    "papermill": {
     "duration": 0.246022,
     "end_time": "2024-03-10T13:01:49.231117",
     "exception": false,
     "start_time": "2024-03-10T13:01:48.985095",
     "status": "completed"
    },
    "tags": []
   },
   "source": [
    "Fitting LSTM"
   ]
  },
  {
   "cell_type": "code",
   "execution_count": 44,
   "id": "ea387b48",
   "metadata": {
    "execution": {
     "iopub.execute_input": "2024-03-10T13:01:49.786959Z",
     "iopub.status.busy": "2024-03-10T13:01:49.786587Z",
     "iopub.status.idle": "2024-03-10T13:14:42.272184Z",
     "shell.execute_reply": "2024-03-10T13:14:42.271026Z"
    },
    "papermill": {
     "duration": 773.231212,
     "end_time": "2024-03-10T13:14:42.770347",
     "exception": false,
     "start_time": "2024-03-10T13:01:49.539135",
     "status": "completed"
    },
    "tags": []
   },
   "outputs": [
    {
     "name": "stdout",
     "output_type": "stream",
     "text": [
      "Epoch 1/20\n",
      "45/45 [==============================] - 2s 29ms/step\n",
      "251/251 [==============================] - 7s 29ms/step\n",
      "Val F1 Score: 0.0791508444110033 - Train F1 Score: 0.07800014873594689\n",
      "63/63 [==============================] - 40s 619ms/step - loss: 1.3245 - acc: 0.8678 - precision_2: 0.9038 - recall_2: 0.5743 - val_loss: 0.5521 - val_acc: 0.9156 - val_precision_2: 0.9431 - val_recall_2: 0.8200\n",
      "Epoch 2/20\n",
      "45/45 [==============================] - 1s 24ms/step\n",
      "251/251 [==============================] - 6s 24ms/step\n",
      "Val F1 Score: 0.11791743301480119 - Train F1 Score: 0.11643128557299463\n",
      "63/63 [==============================] - 36s 573ms/step - loss: 0.4794 - acc: 0.9215 - precision_2: 0.9460 - recall_2: 0.8470 - val_loss: 0.4286 - val_acc: 0.9245 - val_precision_2: 0.9585 - val_recall_2: 0.8586\n",
      "Epoch 3/20\n",
      "45/45 [==============================] - 1s 30ms/step\n",
      "251/251 [==============================] - 7s 28ms/step\n",
      "Val F1 Score: 0.18228793942721713 - Train F1 Score: 0.18491762053209013\n",
      "63/63 [==============================] - 36s 581ms/step - loss: 0.3919 - acc: 0.9302 - precision_2: 0.9572 - recall_2: 0.8702 - val_loss: 0.3574 - val_acc: 0.9343 - val_precision_2: 0.9652 - val_recall_2: 0.8704\n",
      "Epoch 4/20\n",
      "45/45 [==============================] - 1s 28ms/step\n",
      "251/251 [==============================] - 7s 28ms/step\n",
      "Val F1 Score: 0.26736651368592296 - Train F1 Score: 0.26878966718407676\n",
      "63/63 [==============================] - 36s 584ms/step - loss: 0.3336 - acc: 0.9380 - precision_2: 0.9614 - recall_2: 0.8872 - val_loss: 0.3083 - val_acc: 0.9418 - val_precision_2: 0.9670 - val_recall_2: 0.8930\n",
      "Epoch 5/20\n",
      "45/45 [==============================] - 1s 28ms/step\n",
      "251/251 [==============================] - 7s 28ms/step\n",
      "Val F1 Score: 0.30941855662839807 - Train F1 Score: 0.31296004560718826\n",
      "63/63 [==============================] - 37s 592ms/step - loss: 0.2929 - acc: 0.9433 - precision_2: 0.9636 - recall_2: 0.8992 - val_loss: 0.2771 - val_acc: 0.9452 - val_precision_2: 0.9668 - val_recall_2: 0.8991\n",
      "Epoch 6/20\n",
      "45/45 [==============================] - 2s 37ms/step\n",
      "251/251 [==============================] - 8s 31ms/step\n",
      "Val F1 Score: 0.3319705921277329 - Train F1 Score: 0.33954691735681314\n",
      "63/63 [==============================] - 39s 632ms/step - loss: 0.2659 - acc: 0.9464 - precision_2: 0.9649 - recall_2: 0.9040 - val_loss: 0.2542 - val_acc: 0.9475 - val_precision_2: 0.9675 - val_recall_2: 0.9031\n",
      "Epoch 7/20\n",
      "45/45 [==============================] - 1s 28ms/step\n",
      "251/251 [==============================] - 7s 30ms/step\n",
      "Val F1 Score: 0.3515914684743015 - Train F1 Score: 0.36059740329559187\n",
      "63/63 [==============================] - 42s 678ms/step - loss: 0.2454 - acc: 0.9490 - precision_2: 0.9666 - recall_2: 0.9117 - val_loss: 0.2382 - val_acc: 0.9492 - val_precision_2: 0.9677 - val_recall_2: 0.9211\n",
      "Epoch 8/20\n",
      "45/45 [==============================] - 1s 28ms/step\n",
      "251/251 [==============================] - 7s 29ms/step\n",
      "Val F1 Score: 0.3761882318303063 - Train F1 Score: 0.3875594498754945\n",
      "63/63 [==============================] - 42s 681ms/step - loss: 0.2286 - acc: 0.9513 - precision_2: 0.9679 - recall_2: 0.9245 - val_loss: 0.2263 - val_acc: 0.9516 - val_precision_2: 0.9698 - val_recall_2: 0.9218\n",
      "Epoch 9/20\n",
      "45/45 [==============================] - 1s 26ms/step\n",
      "251/251 [==============================] - 7s 28ms/step\n",
      "Val F1 Score: 0.3862700509386647 - Train F1 Score: 0.400952192053993\n",
      "63/63 [==============================] - 41s 660ms/step - loss: 0.2155 - acc: 0.9533 - precision_2: 0.9690 - recall_2: 0.9268 - val_loss: 0.2152 - val_acc: 0.9527 - val_precision_2: 0.9687 - val_recall_2: 0.9254\n",
      "Epoch 10/20\n",
      "45/45 [==============================] - 1s 29ms/step\n",
      "251/251 [==============================] - 7s 28ms/step\n",
      "Val F1 Score: 0.4011274992866133 - Train F1 Score: 0.4216157508133171\n",
      "63/63 [==============================] - 41s 657ms/step - loss: 0.2043 - acc: 0.9551 - precision_2: 0.9700 - recall_2: 0.9296 - val_loss: 0.2096 - val_acc: 0.9528 - val_precision_2: 0.9694 - val_recall_2: 0.9254\n",
      "Epoch 11/20\n",
      "45/45 [==============================] - 1s 28ms/step\n",
      "251/251 [==============================] - 7s 29ms/step\n",
      "Val F1 Score: 0.41488652809167903 - Train F1 Score: 0.4377744192023095\n",
      "63/63 [==============================] - 39s 623ms/step - loss: 0.1948 - acc: 0.9567 - precision_2: 0.9708 - recall_2: 0.9313 - val_loss: 0.2018 - val_acc: 0.9539 - val_precision_2: 0.9679 - val_recall_2: 0.9288\n",
      "Epoch 12/20\n",
      "45/45 [==============================] - 1s 28ms/step\n",
      "251/251 [==============================] - 7s 28ms/step\n",
      "Val F1 Score: 0.4303883721935328 - Train F1 Score: 0.4575548058953186\n",
      "63/63 [==============================] - 37s 589ms/step - loss: 0.1864 - acc: 0.9580 - precision_2: 0.9714 - recall_2: 0.9335 - val_loss: 0.1956 - val_acc: 0.9551 - val_precision_2: 0.9693 - val_recall_2: 0.9299\n",
      "Epoch 13/20\n",
      "45/45 [==============================] - 1s 28ms/step\n",
      "251/251 [==============================] - 7s 28ms/step\n",
      "Val F1 Score: 0.4403789023473345 - Train F1 Score: 0.47612434961370026\n",
      "63/63 [==============================] - 40s 649ms/step - loss: 0.1792 - acc: 0.9592 - precision_2: 0.9718 - recall_2: 0.9349 - val_loss: 0.1922 - val_acc: 0.9550 - val_precision_2: 0.9693 - val_recall_2: 0.9302\n",
      "Epoch 14/20\n",
      "45/45 [==============================] - 1s 28ms/step\n",
      "251/251 [==============================] - 7s 29ms/step\n",
      "Val F1 Score: 0.45288415405315463 - Train F1 Score: 0.49558788238746393\n",
      "63/63 [==============================] - 38s 611ms/step - loss: 0.1724 - acc: 0.9606 - precision_2: 0.9725 - recall_2: 0.9366 - val_loss: 0.1874 - val_acc: 0.9561 - val_precision_2: 0.9704 - val_recall_2: 0.9310\n",
      "Epoch 15/20\n",
      "45/45 [==============================] - 1s 28ms/step\n",
      "251/251 [==============================] - 7s 29ms/step\n",
      "Val F1 Score: 0.4532871665752234 - Train F1 Score: 0.5104796868860527\n",
      "63/63 [==============================] - 38s 603ms/step - loss: 0.1653 - acc: 0.9616 - precision_2: 0.9732 - recall_2: 0.9382 - val_loss: 0.1856 - val_acc: 0.9556 - val_precision_2: 0.9678 - val_recall_2: 0.9324\n",
      "Epoch 16/20\n",
      "45/45 [==============================] - 1s 27ms/step\n",
      "251/251 [==============================] - 7s 29ms/step\n",
      "Val F1 Score: 0.47020336686801123 - Train F1 Score: 0.5395338931564456\n",
      "63/63 [==============================] - 37s 595ms/step - loss: 0.1590 - acc: 0.9628 - precision_2: 0.9738 - recall_2: 0.9397 - val_loss: 0.1832 - val_acc: 0.9557 - val_precision_2: 0.9687 - val_recall_2: 0.9323\n",
      "Epoch 17/20\n",
      "45/45 [==============================] - 1s 23ms/step\n",
      "251/251 [==============================] - 7s 28ms/step\n",
      "Val F1 Score: 0.4746183630639594 - Train F1 Score: 0.55251871342698\n",
      "63/63 [==============================] - 36s 579ms/step - loss: 0.1537 - acc: 0.9636 - precision_2: 0.9744 - recall_2: 0.9444 - val_loss: 0.1791 - val_acc: 0.9565 - val_precision_2: 0.9685 - val_recall_2: 0.9483\n",
      "Epoch 18/20\n",
      "45/45 [==============================] - 1s 29ms/step\n",
      "251/251 [==============================] - 7s 29ms/step\n",
      "Val F1 Score: 0.4813984583278074 - Train F1 Score: 0.5561769425178852\n",
      "63/63 [==============================] - 39s 635ms/step - loss: 0.1484 - acc: 0.9646 - precision_2: 0.9751 - recall_2: 0.9562 - val_loss: 0.1795 - val_acc: 0.9558 - val_precision_2: 0.9668 - val_recall_2: 0.9482\n",
      "Epoch 19/20\n",
      "45/45 [==============================] - 1s 28ms/step\n",
      "251/251 [==============================] - 7s 29ms/step\n",
      "Val F1 Score: 0.49200915826105035 - Train F1 Score: 0.5828442216561485\n",
      "63/63 [==============================] - 39s 620ms/step - loss: 0.1437 - acc: 0.9655 - precision_2: 0.9757 - recall_2: 0.9573 - val_loss: 0.1770 - val_acc: 0.9563 - val_precision_2: 0.9670 - val_recall_2: 0.9485\n",
      "Epoch 20/20\n",
      "45/45 [==============================] - 1s 28ms/step\n",
      "251/251 [==============================] - 7s 30ms/step\n",
      "Val F1 Score: 0.49959246266320456 - Train F1 Score: 0.5924868167993562\n",
      "63/63 [==============================] - 39s 620ms/step - loss: 0.1394 - acc: 0.9664 - precision_2: 0.9762 - recall_2: 0.9585 - val_loss: 0.1764 - val_acc: 0.9565 - val_precision_2: 0.9669 - val_recall_2: 0.9489\n"
     ]
    }
   ],
   "source": [
    "lstm_training = lstm_model.fit(X_train, Y_train, batch_size=128, epochs=20, validation_data=(X_val, Y_val), callbacks=[LSTM_f1_callback])"
   ]
  },
  {
   "cell_type": "markdown",
   "id": "8bb049bb",
   "metadata": {
    "papermill": {
     "duration": 0.495456,
     "end_time": "2024-03-10T13:14:43.829550",
     "exception": false,
     "start_time": "2024-03-10T13:14:43.334094",
     "status": "completed"
    },
    "tags": []
   },
   "source": [
    "Plotting Graph"
   ]
  },
  {
   "cell_type": "code",
   "execution_count": 45,
   "id": "716cc239",
   "metadata": {
    "execution": {
     "iopub.execute_input": "2024-03-10T13:14:44.872740Z",
     "iopub.status.busy": "2024-03-10T13:14:44.871328Z",
     "iopub.status.idle": "2024-03-10T13:14:46.412995Z",
     "shell.execute_reply": "2024-03-10T13:14:46.411645Z"
    },
    "papermill": {
     "duration": 2.097863,
     "end_time": "2024-03-10T13:14:46.415600",
     "exception": false,
     "start_time": "2024-03-10T13:14:44.317737",
     "status": "completed"
    },
    "tags": []
   },
   "outputs": [
    {
     "data": {
      "image/png": "[encoded data removed]",
      "text/plain": [
       "<Figure size 1600x500 with 2 Axes>"
      ]
     },
     "metadata": {},
     "output_type": "display_data"
    }
   ],
   "source": [
    "draw_loss_graph(lstm_training, \"LSTM Model\", LSTM_f1_callback.train_f1_scores, LSTM_f1_callback.val_f1_scores)\n",
    "save_model(lstm_model, model_name, Embedding_name, Dataset)\n",
    "loaded_model = load_model(model_name,Embedding_name,Dataset)"
   ]
  },
  {
   "cell_type": "markdown",
   "id": "26900cb3",
   "metadata": {
    "papermill": {
     "duration": 0.562775,
     "end_time": "2024-03-10T13:14:47.468339",
     "exception": false,
     "start_time": "2024-03-10T13:14:46.905564",
     "status": "completed"
    },
    "tags": []
   },
   "source": [
    "### Testing"
   ]
  },
  {
   "cell_type": "code",
   "execution_count": 46,
   "id": "666e94a3",
   "metadata": {
    "execution": {
     "iopub.execute_input": "2024-03-10T13:14:48.460278Z",
     "iopub.status.busy": "2024-03-10T13:14:48.459867Z",
     "iopub.status.idle": "2024-03-10T13:14:49.475639Z",
     "shell.execute_reply": "2024-03-10T13:14:49.474520Z"
    },
    "papermill": {
     "duration": 1.516331,
     "end_time": "2024-03-10T13:14:49.478081",
     "exception": false,
     "start_time": "2024-03-10T13:14:47.961750",
     "status": "completed"
    },
    "tags": []
   },
   "outputs": [],
   "source": [
    "loaded_model = load_model(model_name,Embedding_name,Dataset)"
   ]
  },
  {
   "cell_type": "markdown",
   "id": "837df661",
   "metadata": {
    "papermill": {
     "duration": 0.483994,
     "end_time": "2024-03-10T13:14:50.528713",
     "exception": false,
     "start_time": "2024-03-10T13:14:50.044719",
     "status": "completed"
    },
    "tags": []
   },
   "source": [
    "Testing accuracy"
   ]
  },
  {
   "cell_type": "code",
   "execution_count": 47,
   "id": "c659ad61",
   "metadata": {
    "execution": {
     "iopub.execute_input": "2024-03-10T13:14:51.587678Z",
     "iopub.status.busy": "2024-03-10T13:14:51.587053Z",
     "iopub.status.idle": "2024-03-10T13:14:53.414384Z",
     "shell.execute_reply": "2024-03-10T13:14:53.412873Z"
    },
    "papermill": {
     "duration": 2.397535,
     "end_time": "2024-03-10T13:14:53.416821",
     "exception": false,
     "start_time": "2024-03-10T13:14:51.019286",
     "status": "completed"
    },
    "tags": []
   },
   "outputs": [
    {
     "name": "stdout",
     "output_type": "stream",
     "text": [
      "30/30 [==============================] - 2s 30ms/step - loss: 0.2115 - acc: 0.9490 - precision_2: 0.9591 - recall_2: 0.9414\n",
      "0.948983907699585\n"
     ]
    }
   ],
   "source": [
    "accuracy = loaded_model.evaluate(X_test, Y_test, verbose = 1)\n",
    "print(accuracy[1])"
   ]
  },
  {
   "cell_type": "markdown",
   "id": "2166b898",
   "metadata": {
    "papermill": {
     "duration": 0.489817,
     "end_time": "2024-03-10T13:14:54.404875",
     "exception": false,
     "start_time": "2024-03-10T13:14:53.915058",
     "status": "completed"
    },
    "tags": []
   },
   "source": [
    "Testing F1 Score"
   ]
  },
  {
   "cell_type": "code",
   "execution_count": 48,
   "id": "98c2825b",
   "metadata": {
    "execution": {
     "iopub.execute_input": "2024-03-10T13:14:55.437163Z",
     "iopub.status.busy": "2024-03-10T13:14:55.435474Z",
     "iopub.status.idle": "2024-03-10T13:14:59.017970Z",
     "shell.execute_reply": "2024-03-10T13:14:59.016618Z"
    },
    "papermill": {
     "duration": 4.128986,
     "end_time": "2024-03-10T13:14:59.019968",
     "exception": false,
     "start_time": "2024-03-10T13:14:54.890982",
     "status": "completed"
    },
    "tags": []
   },
   "outputs": [
    {
     "name": "stdout",
     "output_type": "stream",
     "text": [
      "30/30 [==============================] - 1s 28ms/step\n",
      "Test F1 Score: 0.5036824105909223\n"
     ]
    }
   ],
   "source": [
    "Y_pred = loaded_model.predict(X_test)\n",
    "real = get_real(Y_test)\n",
    "pred = get_pred(Y_pred)\n",
    "\n",
    "true_labels_flat = [label for sublist in real for label in sublist]\n",
    "predicted_labels_flat = [label for sublist in pred for label in sublist]\n",
    "\n",
    "# Compute F1 score\n",
    "f1 = f1_score(true_labels_flat, predicted_labels_flat, average='macro')\n",
    "\n",
    "print(\"Test F1 Score:\", f1)"
   ]
  },
  {
   "cell_type": "markdown",
   "id": "4c28c4d7",
   "metadata": {
    "papermill": {
     "duration": 0.557398,
     "end_time": "2024-03-10T13:15:00.068996",
     "exception": false,
     "start_time": "2024-03-10T13:14:59.511598",
     "status": "completed"
    },
    "tags": []
   },
   "source": [
    "# BiLSTM"
   ]
  },
  {
   "cell_type": "code",
   "execution_count": 49,
   "id": "66a91fbd",
   "metadata": {
    "execution": {
     "iopub.execute_input": "2024-03-10T13:15:01.054658Z",
     "iopub.status.busy": "2024-03-10T13:15:01.054283Z",
     "iopub.status.idle": "2024-03-10T13:15:01.059904Z",
     "shell.execute_reply": "2024-03-10T13:15:01.058329Z"
    },
    "papermill": {
     "duration": 0.501279,
     "end_time": "2024-03-10T13:15:01.062331",
     "exception": false,
     "start_time": "2024-03-10T13:15:00.561052",
     "status": "completed"
    },
    "tags": []
   },
   "outputs": [],
   "source": [
    "model_name=\"BiLSTM\""
   ]
  }
 ],
 "metadata": {
  "kaggle": {
   "accelerator": "none",
   "dataSources": [
    {
     "datasetId": 4563561,
     "sourceId": 7795189,
     "sourceType": "datasetVersion"
    }
   ],
   "dockerImageVersionId": 30664,
   "isGpuEnabled": false,
   "isInternetEnabled": true,
   "language": "python",
   "sourceType": "notebook"
  },
  "kernelspec": {
   "display_name": "Python 3",
   "language": "python",
   "name": "python3"
  },
  "language_info": {
   "codemirror_mode": {
    "name": "ipython",
    "version": 3
   },
   "file_extension": ".py",
   "mimetype": "text/x-python",
   "name": "python",
   "nbconvert_exporter": "python",
   "pygments_lexer": "ipython3",
   "version": "3.10.13"
  },
  "papermill": {
   "default_parameters": {},
   "duration": 2002.301994,
   "end_time": "2024-03-10T13:15:05.344987",
   "environment_variables": {},
   "exception": null,
   "input_path": "__notebook__.ipynb",
   "output_path": "__notebook__.ipynb",
   "parameters": {},
   "start_time": "2024-03-10T12:41:43.042993",
   "version": "2.5.0"
  }
 },
 "nbformat": 4,
 "nbformat_minor": 5
}
