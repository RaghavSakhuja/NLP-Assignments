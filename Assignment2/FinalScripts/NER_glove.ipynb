{
 "cells": [
  {
   "cell_type": "code",
   "execution_count": 1,
   "id": "2692cf6a",
   "metadata": {
    "execution": {
     "iopub.execute_input": "2024-03-11T16:54:11.106976Z",
     "iopub.status.busy": "2024-03-11T16:54:11.106584Z",
     "iopub.status.idle": "2024-03-11T16:54:30.111076Z",
     "shell.execute_reply": "2024-03-11T16:54:30.109707Z"
    },
    "papermill": {
     "duration": 19.034385,
     "end_time": "2024-03-11T16:54:30.114123",
     "exception": false,
     "start_time": "2024-03-11T16:54:11.079738",
     "status": "completed"
    },
    "tags": []
   },
   "outputs": [
    {
     "name": "stdout",
     "output_type": "stream",
     "text": [
      "Collecting keras==2.15.0\r\n",
      "  Downloading keras-2.15.0-py3-none-any.whl.metadata (2.4 kB)\r\n",
      "Downloading keras-2.15.0-py3-none-any.whl (1.7 MB)\r\n",
      "\u001b[2K   \u001b[90m━━━━━━━━━━━━━━━━━━━━━━━━━━━━━━━━━━━━━━━━\u001b[0m \u001b[32m1.7/1.7 MB\u001b[0m \u001b[31m29.0 MB/s\u001b[0m eta \u001b[36m0:00:00\u001b[0m\r\n",
      "\u001b[?25hInstalling collected packages: keras\r\n",
      "  Attempting uninstall: keras\r\n",
      "    Found existing installation: keras 3.0.5\r\n",
      "    Uninstalling keras-3.0.5:\r\n",
      "      Successfully uninstalled keras-3.0.5\r\n",
      "\u001b[31mERROR: pip's dependency resolver does not currently take into account all the packages that are installed. This behaviour is the source of the following dependency conflicts.\r\n",
      "tensorflow-decision-forests 1.8.1 requires wurlitzer, which is not installed.\u001b[0m\u001b[31m\r\n",
      "\u001b[0mSuccessfully installed keras-2.15.0\r\n"
     ]
    }
   ],
   "source": [
    "!pip install keras==2.15.0"
   ]
  },
  {
   "cell_type": "markdown",
   "id": "7e3679a9",
   "metadata": {
    "papermill": {
     "duration": 0.02579,
     "end_time": "2024-03-11T16:54:30.164321",
     "exception": false,
     "start_time": "2024-03-11T16:54:30.138531",
     "status": "completed"
    },
    "tags": []
   },
   "source": [
    "# Run"
   ]
  },
  {
   "cell_type": "code",
   "execution_count": 2,
   "id": "98561577",
   "metadata": {
    "execution": {
     "iopub.execute_input": "2024-03-11T16:54:30.216746Z",
     "iopub.status.busy": "2024-03-11T16:54:30.215943Z",
     "iopub.status.idle": "2024-03-11T16:55:12.961264Z",
     "shell.execute_reply": "2024-03-11T16:55:12.959975Z"
    },
    "papermill": {
     "duration": 42.775967,
     "end_time": "2024-03-11T16:55:12.964260",
     "exception": false,
     "start_time": "2024-03-11T16:54:30.188293",
     "status": "completed"
    },
    "tags": []
   },
   "outputs": [
    {
     "name": "stderr",
     "output_type": "stream",
     "text": [
      "2024-03-11 16:54:32.337061: E external/local_xla/xla/stream_executor/cuda/cuda_dnn.cc:9261] Unable to register cuDNN factory: Attempting to register factory for plugin cuDNN when one has already been registered\n",
      "2024-03-11 16:54:32.337221: E external/local_xla/xla/stream_executor/cuda/cuda_fft.cc:607] Unable to register cuFFT factory: Attempting to register factory for plugin cuFFT when one has already been registered\n",
      "2024-03-11 16:54:32.488456: E external/local_xla/xla/stream_executor/cuda/cuda_blas.cc:1515] Unable to register cuBLAS factory: Attempting to register factory for plugin cuBLAS when one has already been registered\n"
     ]
    }
   ],
   "source": [
    "import pickle\n",
    "import numpy as np\n",
    "import tensorflow as tf\n",
    "import json\n",
    "import matplotlib.pyplot as plt\n",
    "\n",
    "import fasttext\n",
    "import fasttext.util\n",
    "from keras.models import Model\n",
    "from keras.layers import Dropout,Input\n",
    "# from tensorflow_addons.layers import CRF\n",
    "from keras.layers import Dense\n",
    "from keras.layers import Embedding\n",
    "from keras.models import Sequential\n",
    "from keras.callbacks import Callback\n",
    "from keras.preprocessing.text import *\n",
    "from keras.utils import to_categorical\n",
    "from gensim.models import KeyedVectors\n",
    "from keras.layers import GRU, SimpleRNN, LSTM, Bidirectional\n",
    "from keras.layers import TimeDistributed\n",
    "from keras.metrics import F1Score, Precision, Recall\n",
    "from keras.preprocessing.sequence import pad_sequences\n",
    "from sklearn.metrics import f1_score\n",
    "# from tensorflow.keras.optimizers import AdamW\n",
    "# from tensorflow_addons.losses import SigmoidFocalCrossEntropy\n",
    "from sklearn.model_selection import GridSearchCV\n",
    "# from kerastuner.tuners import RandomSearch\n",
    "# from kerastuner.engine.hyperparameters import HyperParameters\n",
    "# from tensorflow.keras.optimizers import AdamW, Adam, RMSprop, SGD"
   ]
  },
  {
   "cell_type": "code",
   "execution_count": 3,
   "id": "dd0d7d00",
   "metadata": {
    "execution": {
     "iopub.execute_input": "2024-03-11T16:55:13.016000Z",
     "iopub.status.busy": "2024-03-11T16:55:13.014819Z",
     "iopub.status.idle": "2024-03-11T16:55:13.043420Z",
     "shell.execute_reply": "2024-03-11T16:55:13.042486Z"
    },
    "papermill": {
     "duration": 0.057495,
     "end_time": "2024-03-11T16:55:13.046045",
     "exception": false,
     "start_time": "2024-03-11T16:55:12.988550",
     "status": "completed"
    },
    "tags": []
   },
   "outputs": [
    {
     "name": "stdout",
     "output_type": "stream",
     "text": [
      "/kaggle/input/nernlp3/BiLSTM_word2vec.pkl\n",
      "/kaggle/input/nernlp3/BiLSTM_fasttext.pkl\n",
      "/kaggle/input/nernlp3/Assignment2/WordEmbeddings/glove.840B.300d.pkl\n",
      "/kaggle/input/nernlp3/Assignment2/WordEmbeddings/Word2vec.bin\n",
      "/kaggle/input/nernlp3/Assignment2/WordEmbeddings/cc.en.300.bin\n",
      "/kaggle/input/nernlp3/Assignment2/Data/check.py\n",
      "/kaggle/input/nernlp3/Assignment2/Data/NER_TRAIN_JUDGEMENT.json\n",
      "/kaggle/input/nernlp3/Assignment2/Data/Laptop_Review_Val.json\n",
      "/kaggle/input/nernlp3/Assignment2/Data/bio.ipynb\n",
      "/kaggle/input/nernlp3/Assignment2/Data/Laptop_Review_Train.json\n",
      "/kaggle/input/nernlp3/Assignment2/Data/bio1.py\n",
      "/kaggle/input/nernlp3/Assignment2/Data/NER_TEST_JUDGEMENT.json\n",
      "/kaggle/input/nernlp3/Assignment2/Data/Laptop_Review_Test.json\n",
      "/kaggle/input/nernlp3/Assignment2/Data/processed/NER_test.json\n",
      "/kaggle/input/nernlp3/Assignment2/Data/processed/ATE_test.json\n",
      "/kaggle/input/nernlp3/Assignment2/Data/processed/NER_train.json\n",
      "/kaggle/input/nernlp3/Assignment2/Data/processed/ATE_train.json\n",
      "/kaggle/input/nernlp3/Assignment2/Data/processed/NER_val.json\n",
      "/kaggle/input/nernlp3/Assignment2/Data/processed/ATE_val.json\n",
      "/kaggle/input/picklemodel/BiLSTM_fasttext_ATE.pkl\n",
      "/kaggle/input/picklemodel/BiLSTM_fasttext (1).pkl\n",
      "/kaggle/input/picklemodel/BiLSTM_word2vec.pkl\n",
      "/kaggle/input/picklemodel/RNN_glove.pkl\n"
     ]
    }
   ],
   "source": [
    "# This Python 3 environment comes with many helpful analytics libraries installed\n",
    "# It is defined by the kaggle/python Docker image: https://github.com/kaggle/docker-python\n",
    "# For example, here's several helpful packages to load\n",
    "\n",
    "# Input data files are available in the read-only \"../input/\" directory\n",
    "# For example, running this (by clicking run or pressing Shift+Enter) will list all files under the input directory\n",
    "\n",
    "import os\n",
    "for dirname, _, filenames in os.walk('/kaggle/input'):\n",
    "    for filename in filenames:\n",
    "        print(os.path.join(dirname, filename))\n",
    "\n",
    "Embedding_name=\"glove\"\n",
    "Dataset=\"NER\"     \n",
    "PATH='/kaggle/input/nernlp3/Assignment2/'\n",
    "OUTPATH='/kaggle/working/'\n",
    "\n",
    "# You can write up to 20GB to the current directory (/kaggle/working/) that gets preserved as output when you create a version using \"Save & Run All\" \n",
    "# You can also write temporary files to /kaggle/temp/, but they won't be saved outside of the current session"
   ]
  },
  {
   "cell_type": "code",
   "execution_count": 4,
   "id": "1c7bee14",
   "metadata": {
    "execution": {
     "iopub.execute_input": "2024-03-11T16:55:13.097428Z",
     "iopub.status.busy": "2024-03-11T16:55:13.096618Z",
     "iopub.status.idle": "2024-03-11T16:55:17.561991Z",
     "shell.execute_reply": "2024-03-11T16:55:17.560536Z"
    },
    "papermill": {
     "duration": 4.494528,
     "end_time": "2024-03-11T16:55:17.564771",
     "exception": false,
     "start_time": "2024-03-11T16:55:13.070243",
     "status": "completed"
    },
    "tags": []
   },
   "outputs": [
    {
     "name": "stderr",
     "output_type": "stream",
     "text": [
      "/opt/conda/lib/python3.10/pty.py:89: RuntimeWarning: os.fork() was called. os.fork() is incompatible with multithreaded code, and JAX is multithreaded, so this will likely lead to a deadlock.\n",
      "  pid, fd = os.forkpty()\n"
     ]
    }
   ],
   "source": [
    "! mkdir Saved_Models\n",
    "! mkdir Saved_Models/ATE\n",
    "! mkdir Saved_Models/NER\n",
    "! mkdir Graphs"
   ]
  },
  {
   "cell_type": "code",
   "execution_count": 5,
   "id": "2e63fb83",
   "metadata": {
    "execution": {
     "iopub.execute_input": "2024-03-11T16:55:17.617076Z",
     "iopub.status.busy": "2024-03-11T16:55:17.616566Z",
     "iopub.status.idle": "2024-03-11T16:55:17.669867Z",
     "shell.execute_reply": "2024-03-11T16:55:17.668624Z"
    },
    "papermill": {
     "duration": 0.083236,
     "end_time": "2024-03-11T16:55:17.672834",
     "exception": false,
     "start_time": "2024-03-11T16:55:17.589598",
     "status": "completed"
    },
    "tags": []
   },
   "outputs": [],
   "source": [
    "def checking(a):\n",
    "    print(\"Hello World\",a)\n",
    "\n",
    "def new_checking(a):\n",
    "    print(\"Hello World\",a)\n",
    "\n",
    "def create_train_test_val(file):\n",
    "    lst_out_text=[]\n",
    "    lst_out_labels=[]\n",
    "    for i in file.values():\n",
    "        sentence = i['text']\n",
    "        sentence = sentence.lower()\n",
    "        labels = i['labels']\n",
    "        lst_out_text.append(sentence)\n",
    "        lst_out_labels.append(labels)\n",
    "    return lst_out_text,lst_out_labels    \n",
    "\n",
    "def TokenCreator(sentences,val,tokenizer=None):\n",
    "    \n",
    "    temp_wordlist = None\n",
    "    tokenizer2=None\n",
    "    if(tokenizer == None):\n",
    "        if val==1:\n",
    "            tokenizer2 = Tokenizer(oov_token=\"#UK\",filters='')\n",
    "        else:\n",
    "            tokenizer2=Tokenizer()\n",
    "        tokenizer2.fit_on_texts(sentences)\n",
    "        \n",
    "        temp_wordlist = tokenizer2.texts_to_sequences(sentences)\n",
    "        return (temp_wordlist,tokenizer2)\n",
    "    \n",
    "    else:\n",
    "        temp_wordlist = tokenizer.texts_to_sequences(sentences)\n",
    "        return temp_wordlist\n",
    "    \n",
    "def find_vocab(dataset):\n",
    "    lst=[]\n",
    "    lst.append(\"#UK\")\n",
    "    for i in dataset:\n",
    "        for j in i:\n",
    "            lst.append(j)\n",
    "    st = set(lst)\n",
    "    return st\n",
    "\n",
    "'''\n",
    "--------------------------------------GRAPHS--------------------------------------\n",
    "'''\n",
    "\n",
    "def draw_loss_graph(model,model_name,f1_scores_train,f1_scores_val):\n",
    "    train_loss = model.history['loss']\n",
    "    val_loss = model.history['val_loss']\n",
    "    x = [i+1 for i in range(len(train_loss))]\n",
    "    train_y = train_loss\n",
    "    val_y = val_loss\n",
    "    \n",
    "    fig, axes = plt.subplots(1,2,figsize = (16,5))\n",
    "    # plt.subplots(axes = (2,1))\n",
    "    axes[0].plot(x,train_y, color = 'blue')  \n",
    "    \n",
    "    axes[0].plot(x,val_y, color = 'red') \n",
    "    axes[0].set_title('Loss over Epochs')\n",
    "    axes[0].set_xlabel('Epoch')\n",
    "    axes[0].set_ylabel('Loss')\n",
    "\n",
    "    axes[1].plot(x,f1_scores_train, color = 'blue')\n",
    "    axes[1].plot(x,f1_scores_val, color = 'red')\n",
    "    axes[1].set_title('F1 Score vs Epoch')\n",
    "    axes[1].set_xlabel('Epochs')\n",
    "    axes[1].set_ylabel('F1 Score')\n",
    "\n",
    "    axes[0].legend(['Train','Val'])\n",
    "    axes[1].legend(['Train','Val'])\n",
    "    \n",
    "    plt.suptitle(model_name)\n",
    "\n",
    "    \n",
    "    plt.show()\n",
    "    \n",
    "'''\n",
    "--------------------------------------MODELS--------------------------------------\n",
    "'''\n",
    "\n",
    "def save_model(model,model_name, embedding, dataset):\n",
    "    model.save_weights(f'{OUTPATH}Saved_Models/{dataset}/{model_name}_{embedding}.h5')\n",
    "    with open(f'{OUTPATH}Saved_Models/{dataset}/{model_name}_{embedding}.pkl', 'wb') as file:\n",
    "        pickle.dump(model.get_weights(), file)\n",
    "\n",
    "def load_model(model_name, embedding, dataset):\n",
    "    with open(f'{OUTPATH}Saved_Models/{dataset}/{model_name}_{embedding}.pkl', 'rb') as file:\n",
    "        loaded_model = pickle.load(file)\n",
    "    \n",
    "    return loaded_model\n",
    "\n",
    "'''\n",
    "--------------------------------------CALLBACKS--------------------------------------\n",
    "'''\n",
    "\n",
    "class F1ScoreCallback(Callback):\n",
    "\n",
    "    def __init__(self, val_data, data):\n",
    "        super(F1ScoreCallback, self).__init__()\n",
    "        self.val_data = val_data\n",
    "        self.data=data\n",
    "        self.val_f1_scores = [] \n",
    "        self.train_f1_scores = []\n",
    "\n",
    "    \n",
    "\n",
    "    def on_epoch_end(self, epoch, logs=None):\n",
    "        x_val, y_val = self.val_data\n",
    "        x_data, y_data = self.data\n",
    "        y_pred_val = self.model.predict(x_val)\n",
    "        y_pred_train = self.model.predict(x_data)\n",
    "\n",
    "        def scikitf1(pred,real):\n",
    "\n",
    "            true_labels_flat = [label for sublist in real for label in sublist]\n",
    "            predicted_labels_flat = [label for sublist in pred for label in sublist]\n",
    "            # Compute F1 score\n",
    "            f1 = f1_score(true_labels_flat, predicted_labels_flat, average='macro')\n",
    "            return f1\n",
    "        def get_pred(Y_padded_output):\n",
    "                # print(Y_padded_output.shape)\n",
    "                final_output=[]\n",
    "                for i in range(Y_padded_output.shape[0]):\n",
    "                    output=[]\n",
    "                    for j in range(Y_padded_output.shape[1]):\n",
    "                        max_value=-1\n",
    "                        maxIndex=-1\n",
    "                        for k in range(Y_padded_output.shape[2]):\n",
    "                            if Y_padded_output[i][j][k]>max_value:\n",
    "                                maxIndex=k\n",
    "                                max_value=max(max_value,Y_padded_output[i][j][k])\n",
    "                        output.append(maxIndex)\n",
    "                    final_output.append(output)\n",
    "                return final_output\n",
    "\n",
    "        def get_real(Y_padded_test):\n",
    "            # print(Y_padded_test.shape)\n",
    "            final_Y=[]\n",
    "            for i in range(Y_padded_test.shape[0]):\n",
    "                output=[]\n",
    "                for j in range(Y_padded_test.shape[1]):\n",
    "                    max_value=-1\n",
    "                    maxIndex=-1\n",
    "                    for k in range(Y_padded_test.shape[2]):\n",
    "                        if Y_padded_test[i][j][k]>max_value:\n",
    "                            maxIndex=k\n",
    "                            max_value=max(max_value,Y_padded_test[i][j][k])\n",
    "                    output.append(maxIndex)\n",
    "                final_Y.append(output)\n",
    "            return final_Y\n",
    "        \n",
    "        # print(\"here\")\n",
    "        pred_train=get_pred(y_pred_train)\n",
    "        # print(pred_train)\n",
    "        real_train=get_real(y_data)\n",
    "        # print(real_train)\n",
    "\n",
    "        pred_val=get_pred(y_pred_val)\n",
    "        real_val=get_real(y_val)\n",
    "\n",
    "        f1_train = scikitf1(pred_train,real_train)\n",
    "        f1_val = scikitf1(pred_val,real_val)\n",
    "\n",
    "        self.val_f1_scores.append(f1_val)\n",
    "        self.train_f1_scores.append(f1_train)\n",
    "        print(f'Val F1 Score: {f1_val} - Train F1 Score: {f1_train}')\n",
    "\n",
    "\n",
    "\n",
    "#---------Prediction Functions----------------------------------------------\n",
    "def get_pred(Y_padded_output):\n",
    "    final_output=[]\n",
    "    for i in range(Y_padded_output.shape[0]):\n",
    "        output=[]\n",
    "        for j in range(Y_padded_output.shape[1]):\n",
    "            max_value=-1\n",
    "            maxIndex=-1\n",
    "            for k in range(Y_padded_output.shape[2]):\n",
    "                if Y_padded_output[i][j][k]>max_value:\n",
    "                    maxIndex=k\n",
    "                    max_value=max(max_value,Y_padded_output[i][j][k])\n",
    "            output.append(maxIndex)\n",
    "        final_output.append(output)\n",
    "    return final_output\n",
    "\n",
    "def get_real(Y_padded_test):\n",
    "    final_Y=[]\n",
    "    for i in range(Y_padded_test.shape[0]):\n",
    "        output=[]\n",
    "        for j in range(Y_padded_test.shape[1]):\n",
    "            max_value=-1\n",
    "            maxIndex=-1\n",
    "            for k in range(Y_padded_test.shape[2]):\n",
    "                if Y_padded_test[i][j][k]>max_value:\n",
    "                    maxIndex=k\n",
    "                    max_value=max(max_value,Y_padded_test[i][j][k])\n",
    "            output.append(maxIndex)\n",
    "        final_Y.append(output)\n",
    "    return final_Y\n",
    "\n",
    "def my_f1(y_true, y_pred):\n",
    "    \n",
    "    # predictions = get_pred(y_pred)\n",
    "    # real = get_real(y_true)\n",
    "\n",
    "    predictions = y_pred\n",
    "    real = y_true\n",
    "\n",
    "    size=len(predictions)\n",
    "\n",
    "    unique_labels= set()\n",
    "\n",
    "    for labels in real:\n",
    "        unique_labels.update(labels)\n",
    "\n",
    "    for labels in predictions:\n",
    "        unique_labels.update(labels)\n",
    "\n",
    "    labels_f1=[]\n",
    "\n",
    "    for labels in unique_labels:\n",
    "        tp=0\n",
    "        fp=0\n",
    "        fn=0\n",
    "\n",
    "        for i in range(size):\n",
    "            l=[]\n",
    "                    \n",
    "            tp+=sum((p==labels and r==labels) for p,r in zip(predictions[i],real[i]))\n",
    "            fp+=sum((p==labels and r!=labels) for p,r in zip(predictions[i],real[i]))\n",
    "            fn+=sum((p!=labels and r==labels) for p,r in zip(predictions[i],real[i]))\n",
    "\n",
    "        \n",
    "        precision = tp/(tp+fp) if tp+fp>0 else 0\n",
    "        recall = tp/(tp+fn) if tp+fn>0 else 0\n",
    "\n",
    "        f1=2*((precision*recall)/(precision+recall)) if precision+recall>0 else 0\n",
    "\n",
    "        labels_f1.append(f1)\n",
    "        print(f1,unique_labels)\n",
    "    macro_f1 = sum(labels_f1)/len(unique_labels)\n",
    "    return macro_f1\n",
    "\n",
    "def scikitf1(pred,real):\n",
    "\n",
    "    true_labels_flat = [label for sublist in real for label in sublist]\n",
    "    predicted_labels_flat = [label for sublist in pred for label in sublist]\n",
    "    # Compute F1 score\n",
    "    f1 = f1_score(true_labels_flat, predicted_labels_flat, average='macro')\n",
    "    return f1"
   ]
  },
  {
   "cell_type": "code",
   "execution_count": null,
   "id": "7d39465f",
   "metadata": {
    "papermill": {
     "duration": 0.023933,
     "end_time": "2024-03-11T16:55:17.722200",
     "exception": false,
     "start_time": "2024-03-11T16:55:17.698267",
     "status": "completed"
    },
    "tags": []
   },
   "outputs": [],
   "source": []
  },
  {
   "cell_type": "code",
   "execution_count": null,
   "id": "1dab50a2",
   "metadata": {
    "papermill": {
     "duration": 0.024408,
     "end_time": "2024-03-11T16:55:17.771723",
     "exception": false,
     "start_time": "2024-03-11T16:55:17.747315",
     "status": "completed"
    },
    "tags": []
   },
   "outputs": [],
   "source": []
  },
  {
   "cell_type": "code",
   "execution_count": 6,
   "id": "6c124d75",
   "metadata": {
    "execution": {
     "iopub.execute_input": "2024-03-11T16:55:17.822470Z",
     "iopub.status.busy": "2024-03-11T16:55:17.821969Z",
     "iopub.status.idle": "2024-03-11T16:55:17.828317Z",
     "shell.execute_reply": "2024-03-11T16:55:17.827131Z"
    },
    "papermill": {
     "duration": 0.034706,
     "end_time": "2024-03-11T16:55:17.830970",
     "exception": false,
     "start_time": "2024-03-11T16:55:17.796264",
     "status": "completed"
    },
    "tags": []
   },
   "outputs": [],
   "source": [
    "seed_value = 40\n",
    "np.random.seed(seed_value)\n",
    "tf.random.set_seed(seed_value)"
   ]
  },
  {
   "cell_type": "code",
   "execution_count": 7,
   "id": "8b1aa0e4",
   "metadata": {
    "execution": {
     "iopub.execute_input": "2024-03-11T16:55:17.883998Z",
     "iopub.status.busy": "2024-03-11T16:55:17.883572Z",
     "iopub.status.idle": "2024-03-11T16:56:21.784977Z",
     "shell.execute_reply": "2024-03-11T16:56:21.783583Z"
    },
    "papermill": {
     "duration": 63.932312,
     "end_time": "2024-03-11T16:56:21.788247",
     "exception": false,
     "start_time": "2024-03-11T16:55:17.855935",
     "status": "completed"
    },
    "tags": []
   },
   "outputs": [],
   "source": [
    "if Embedding_name==\"word2vec\":\n",
    "    emb = KeyedVectors.load_word2vec_format(f'{PATH}WordEmbeddings/Word2vec.bin',binary=True)\n",
    "\n",
    "if Embedding_name==\"glove\":\n",
    "    with open(f'{PATH}WordEmbeddings/glove.840B.300d.pkl', 'rb') as fp:\n",
    "        emb = pickle.load(fp)\n",
    "if Embedding_name==\"fasttext\":\n",
    "    emb = fasttext.load_model(f'{PATH}WordEmbeddings/cc.en.300.bin')"
   ]
  },
  {
   "cell_type": "markdown",
   "id": "9adec980",
   "metadata": {
    "papermill": {
     "duration": 0.02463,
     "end_time": "2024-03-11T16:56:21.837974",
     "exception": false,
     "start_time": "2024-03-11T16:56:21.813344",
     "status": "completed"
    },
    "tags": []
   },
   "source": [
    "# Data Extraction and Preprocessing"
   ]
  },
  {
   "cell_type": "markdown",
   "id": "e80fcff0",
   "metadata": {
    "papermill": {
     "duration": 0.024393,
     "end_time": "2024-03-11T16:56:21.887153",
     "exception": false,
     "start_time": "2024-03-11T16:56:21.862760",
     "status": "completed"
    },
    "tags": []
   },
   "source": [
    "Reading ATE json files"
   ]
  },
  {
   "cell_type": "code",
   "execution_count": 8,
   "id": "34d60f8f",
   "metadata": {
    "execution": {
     "iopub.execute_input": "2024-03-11T16:56:21.939332Z",
     "iopub.status.busy": "2024-03-11T16:56:21.938837Z",
     "iopub.status.idle": "2024-03-11T16:56:22.137337Z",
     "shell.execute_reply": "2024-03-11T16:56:22.135996Z"
    },
    "papermill": {
     "duration": 0.227344,
     "end_time": "2024-03-11T16:56:22.140316",
     "exception": false,
     "start_time": "2024-03-11T16:56:21.912972",
     "status": "completed"
    },
    "tags": []
   },
   "outputs": [],
   "source": [
    "\n",
    "train = None\n",
    "test = None\n",
    "val = None\n",
    "with open(f\"{PATH}Data/processed/{Dataset}_train.json\") as f1:\n",
    "    train = json.load(f1)\n",
    "\n",
    "with open(f\"{PATH}Data/processed/{Dataset}_test.json\") as f2:\n",
    "    test = json.load(f2)\n",
    "\n",
    "with open(f\"{PATH}Data/processed/{Dataset}_val.json\") as f3:\n",
    "    val = json.load(f3)\n",
    "\n"
   ]
  },
  {
   "cell_type": "markdown",
   "id": "5a11522c",
   "metadata": {
    "papermill": {
     "duration": 0.025499,
     "end_time": "2024-03-11T16:56:22.191826",
     "exception": false,
     "start_time": "2024-03-11T16:56:22.166327",
     "status": "completed"
    },
    "tags": []
   },
   "source": [
    "processing into lists"
   ]
  },
  {
   "cell_type": "code",
   "execution_count": 9,
   "id": "0706ac98",
   "metadata": {
    "execution": {
     "iopub.execute_input": "2024-03-11T16:56:22.245382Z",
     "iopub.status.busy": "2024-03-11T16:56:22.244822Z",
     "iopub.status.idle": "2024-03-11T16:56:22.266617Z",
     "shell.execute_reply": "2024-03-11T16:56:22.264845Z"
    },
    "papermill": {
     "duration": 0.05276,
     "end_time": "2024-03-11T16:56:22.269331",
     "exception": false,
     "start_time": "2024-03-11T16:56:22.216571",
     "status": "completed"
    },
    "tags": []
   },
   "outputs": [],
   "source": [
    "X_train,Y_train = create_train_test_val(train)\n",
    "X_test,Y_test = create_train_test_val(test)\n",
    "X_val,Y_val = create_train_test_val(val)"
   ]
  },
  {
   "cell_type": "markdown",
   "id": "3940fcd6",
   "metadata": {
    "papermill": {
     "duration": 0.025202,
     "end_time": "2024-03-11T16:56:22.319386",
     "exception": false,
     "start_time": "2024-03-11T16:56:22.294184",
     "status": "completed"
    },
    "tags": []
   },
   "source": [
    "Tokenizing the ATE Dataset"
   ]
  },
  {
   "cell_type": "code",
   "execution_count": 10,
   "id": "6fa0e382",
   "metadata": {
    "execution": {
     "iopub.execute_input": "2024-03-11T16:56:22.371154Z",
     "iopub.status.busy": "2024-03-11T16:56:22.370183Z",
     "iopub.status.idle": "2024-03-11T16:56:23.462819Z",
     "shell.execute_reply": "2024-03-11T16:56:23.461514Z"
    },
    "papermill": {
     "duration": 1.121486,
     "end_time": "2024-03-11T16:56:23.465803",
     "exception": false,
     "start_time": "2024-03-11T16:56:22.344317",
     "status": "completed"
    },
    "tags": []
   },
   "outputs": [],
   "source": [
    "X_train_tokenized, toke = TokenCreator(X_train,1)\n",
    "X_test_tokenized = TokenCreator(X_test,0,tokenizer = toke)\n",
    "X_val_tokenized = TokenCreator(X_val,0,tokenizer = toke)\n",
    "\n",
    "Y_train_tokenized,toke2 = TokenCreator(Y_train,0)\n",
    "Y_test_tokenized = TokenCreator(Y_test,0,tokenizer = toke2)\n",
    "Y_val_tokenized = TokenCreator(Y_val,0,tokenizer = toke2)"
   ]
  },
  {
   "cell_type": "markdown",
   "id": "4d754183",
   "metadata": {
    "papermill": {
     "duration": 0.025748,
     "end_time": "2024-03-11T16:56:23.516948",
     "exception": false,
     "start_time": "2024-03-11T16:56:23.491200",
     "status": "completed"
    },
    "tags": []
   },
   "source": [
    "Vocabulary of ATE"
   ]
  },
  {
   "cell_type": "code",
   "execution_count": 11,
   "id": "ce6ebea9",
   "metadata": {
    "execution": {
     "iopub.execute_input": "2024-03-11T16:56:23.646247Z",
     "iopub.status.busy": "2024-03-11T16:56:23.645819Z",
     "iopub.status.idle": "2024-03-11T16:56:23.692185Z",
     "shell.execute_reply": "2024-03-11T16:56:23.690929Z"
    },
    "papermill": {
     "duration": 0.076732,
     "end_time": "2024-03-11T16:56:23.695692",
     "exception": false,
     "start_time": "2024-03-11T16:56:23.618960",
     "status": "completed"
    },
    "tags": []
   },
   "outputs": [
    {
     "data": {
      "text/plain": [
       "30220"
      ]
     },
     "execution_count": 11,
     "metadata": {},
     "output_type": "execute_result"
    }
   ],
   "source": [
    "st1 = find_vocab(X_train_tokenized)\n",
    "vocab_size  = len(st1) + 1 \n",
    "vocab_size"
   ]
  },
  {
   "cell_type": "code",
   "execution_count": 12,
   "id": "9d03a981",
   "metadata": {
    "execution": {
     "iopub.execute_input": "2024-03-11T16:56:23.749342Z",
     "iopub.status.busy": "2024-03-11T16:56:23.748878Z",
     "iopub.status.idle": "2024-03-11T16:56:23.761508Z",
     "shell.execute_reply": "2024-03-11T16:56:23.760455Z"
    },
    "papermill": {
     "duration": 0.043816,
     "end_time": "2024-03-11T16:56:23.764379",
     "exception": false,
     "start_time": "2024-03-11T16:56:23.720563",
     "status": "completed"
    },
    "tags": []
   },
   "outputs": [
    {
     "data": {
      "text/plain": [
       "70"
      ]
     },
     "execution_count": 12,
     "metadata": {},
     "output_type": "execute_result"
    }
   ],
   "source": [
    "max_len=0\n",
    "\n",
    "for i in X_train_tokenized:\n",
    "    max_len = max(max_len,len(i))\n",
    "\n",
    "max_len"
   ]
  },
  {
   "cell_type": "markdown",
   "id": "1197fe80",
   "metadata": {
    "papermill": {
     "duration": 0.025585,
     "end_time": "2024-03-11T16:56:23.815350",
     "exception": false,
     "start_time": "2024-03-11T16:56:23.789765",
     "status": "completed"
    },
    "tags": []
   },
   "source": [
    "Padding ATE"
   ]
  },
  {
   "cell_type": "code",
   "execution_count": 13,
   "id": "fd021b29",
   "metadata": {
    "execution": {
     "iopub.execute_input": "2024-03-11T16:56:23.870507Z",
     "iopub.status.busy": "2024-03-11T16:56:23.869737Z",
     "iopub.status.idle": "2024-03-11T16:56:24.025976Z",
     "shell.execute_reply": "2024-03-11T16:56:24.024674Z"
    },
    "papermill": {
     "duration": 0.187773,
     "end_time": "2024-03-11T16:56:24.029025",
     "exception": false,
     "start_time": "2024-03-11T16:56:23.841252",
     "status": "completed"
    },
    "tags": []
   },
   "outputs": [],
   "source": [
    "X_padded_train = pad_sequences(X_train_tokenized, maxlen=max_len, padding=\"pre\", truncating=\"post\")\n",
    "Y_padded_train = pad_sequences(Y_train_tokenized, maxlen=max_len, padding=\"pre\", truncating=\"post\")\n",
    "\n",
    "X_padded_test = pad_sequences(X_test_tokenized, maxlen=max_len, padding=\"pre\", truncating=\"post\")\n",
    "Y_padded_test = pad_sequences(Y_test_tokenized, maxlen=max_len, padding=\"pre\", truncating=\"post\")\n",
    "\n",
    "X_padded_val = pad_sequences(X_val_tokenized, maxlen=max_len, padding=\"pre\", truncating=\"post\")\n",
    "Y_padded_val = pad_sequences(Y_val_tokenized, maxlen=max_len, padding=\"pre\", truncating=\"post\")       "
   ]
  },
  {
   "cell_type": "markdown",
   "id": "522fd9e0",
   "metadata": {
    "papermill": {
     "duration": 0.026161,
     "end_time": "2024-03-11T16:56:24.080720",
     "exception": false,
     "start_time": "2024-03-11T16:56:24.054559",
     "status": "completed"
    },
    "tags": []
   },
   "source": [
    "One hot encoding the ATE labels"
   ]
  },
  {
   "cell_type": "code",
   "execution_count": 14,
   "id": "182e35d5",
   "metadata": {
    "execution": {
     "iopub.execute_input": "2024-03-11T16:56:24.134850Z",
     "iopub.status.busy": "2024-03-11T16:56:24.134352Z",
     "iopub.status.idle": "2024-03-11T16:56:24.218273Z",
     "shell.execute_reply": "2024-03-11T16:56:24.216977Z"
    },
    "papermill": {
     "duration": 0.114097,
     "end_time": "2024-03-11T16:56:24.221089",
     "exception": false,
     "start_time": "2024-03-11T16:56:24.106992",
     "status": "completed"
    },
    "tags": []
   },
   "outputs": [],
   "source": [
    "Y_padded_train = to_categorical(Y_padded_train)\n",
    "Y_padded_test = to_categorical(Y_padded_test)\n",
    "Y_padded_val = to_categorical(Y_padded_val)"
   ]
  },
  {
   "cell_type": "markdown",
   "id": "b4ed19d7",
   "metadata": {
    "papermill": {
     "duration": 0.025028,
     "end_time": "2024-03-11T16:56:24.271982",
     "exception": false,
     "start_time": "2024-03-11T16:56:24.246954",
     "status": "completed"
    },
    "tags": []
   },
   "source": [
    "Assigning **ATE Word2Vec** mapping"
   ]
  },
  {
   "cell_type": "code",
   "execution_count": 15,
   "id": "f4aef77d",
   "metadata": {
    "execution": {
     "iopub.execute_input": "2024-03-11T16:56:24.324558Z",
     "iopub.status.busy": "2024-03-11T16:56:24.324094Z",
     "iopub.status.idle": "2024-03-11T16:56:24.369954Z",
     "shell.execute_reply": "2024-03-11T16:56:24.368464Z"
    },
    "papermill": {
     "duration": 0.076177,
     "end_time": "2024-03-11T16:56:24.373513",
     "exception": false,
     "start_time": "2024-03-11T16:56:24.297336",
     "status": "completed"
    },
    "tags": []
   },
   "outputs": [
    {
     "data": {
      "text/plain": [
       "{'#UK': 1,\n",
       " 'the': 2,\n",
       " 'of': 3,\n",
       " 'in': 4,\n",
       " 'to': 5,\n",
       " 'and': 6,\n",
       " 'that': 7,\n",
       " 'a': 8,\n",
       " 'was': 9,\n",
       " 'is': 10,\n",
       " 'by': 11,\n",
       " 'on': 12,\n",
       " 'as': 13,\n",
       " 'for': 14,\n",
       " 'be': 15,\n",
       " 'it': 16,\n",
       " 'court': 17,\n",
       " 'not': 18,\n",
       " 'has': 19,\n",
       " 'under': 20,\n",
       " 'this': 21,\n",
       " 'section': 22,\n",
       " 'which': 23,\n",
       " 'with': 24,\n",
       " 'or': 25,\n",
       " 'at': 26,\n",
       " 'he': 27,\n",
       " 'case': 28,\n",
       " 'no.': 29,\n",
       " 'from': 30,\n",
       " 'been': 31,\n",
       " 'his': 32,\n",
       " 'an': 33,\n",
       " 'had': 34,\n",
       " 'are': 35,\n",
       " 'were': 36,\n",
       " 'v.': 37,\n",
       " 'state': 38,\n",
       " 'also': 39,\n",
       " 'have': 40,\n",
       " 'act': 41,\n",
       " 'order': 42,\n",
       " 'any': 43,\n",
       " 'no': 44,\n",
       " 'high': 45,\n",
       " 'accused': 46,\n",
       " 'learned': 47,\n",
       " 'said': 48,\n",
       " 'there': 49,\n",
       " 'dated': 50,\n",
       " 'supreme': 51,\n",
       " 'made': 52,\n",
       " 'would': 53,\n",
       " 'before': 54,\n",
       " 'singh': 55,\n",
       " 'held': 56,\n",
       " 'who': 57,\n",
       " 'such': 58,\n",
       " 'against': 59,\n",
       " 'other': 60,\n",
       " 'but': 61,\n",
       " 'their': 62,\n",
       " 'one': 63,\n",
       " 'if': 64,\n",
       " 'respondent': 65,\n",
       " 'filed': 66,\n",
       " 'appeal': 67,\n",
       " 'appellant': 68,\n",
       " 'evidence': 69,\n",
       " '&': 70,\n",
       " 'all': 71,\n",
       " 'only': 72,\n",
       " 'decision': 73,\n",
       " 'after': 74,\n",
       " 'we': 75,\n",
       " 'they': 76,\n",
       " 'petitioner': 77,\n",
       " 'government': 78,\n",
       " 'may': 79,\n",
       " 'judgment': 80,\n",
       " 'act,': 81,\n",
       " 'its': 82,\n",
       " 'when': 83,\n",
       " 'counsel': 84,\n",
       " 'view': 85,\n",
       " 'same': 86,\n",
       " 'application': 87,\n",
       " 'india': 88,\n",
       " 'out': 89,\n",
       " 'can': 90,\n",
       " 'further': 91,\n",
       " 'petition': 92,\n",
       " 'whether': 93,\n",
       " 'two': 94,\n",
       " 'bench': 95,\n",
       " 'stated': 96,\n",
       " 'provisions': 97,\n",
       " 'question': 98,\n",
       " 'her': 99,\n",
       " 'law': 100,\n",
       " 'cannot': 101,\n",
       " 'vs.': 102,\n",
       " 'therefore,': 103,\n",
       " 'civil': 104,\n",
       " 'first': 105,\n",
       " 'article': 106,\n",
       " 'police': 107,\n",
       " 'should': 108,\n",
       " 'mr.': 109,\n",
       " '1': 110,\n",
       " 'suit': 111,\n",
       " 'could': 112,\n",
       " 'upon': 113,\n",
       " 'will': 114,\n",
       " 'these': 115,\n",
       " 'taken': 116,\n",
       " 'so': 117,\n",
       " 'passed': 118,\n",
       " 'writ': 119,\n",
       " 'rule': 120,\n",
       " 'about': 121,\n",
       " 'where': 122,\n",
       " 'referred': 123,\n",
       " 'judge': 124,\n",
       " 'being': 125,\n",
       " 'him': 126,\n",
       " 'given': 127,\n",
       " 'even': 128,\n",
       " 'i': 129,\n",
       " 'kumar': 130,\n",
       " 'into': 131,\n",
       " 'right': 132,\n",
       " 'p.': 133,\n",
       " 'present': 134,\n",
       " 'per': 135,\n",
       " 'ltd.': 136,\n",
       " 'rs.': 137,\n",
       " 'act.': 138,\n",
       " '2': 139,\n",
       " ':': 140,\n",
       " 'air': 141,\n",
       " 'time': 142,\n",
       " 'criminal': 143,\n",
       " \"hon'ble\": 144,\n",
       " 'constitution': 145,\n",
       " 'j.': 146,\n",
       " 'delhi': 147,\n",
       " 'defendant': 148,\n",
       " 'issued': 149,\n",
       " 'matter': 150,\n",
       " 'shall': 151,\n",
       " 'must': 152,\n",
       " 'did': 153,\n",
       " 'plaintiff': 154,\n",
       " 'respect': 155,\n",
       " 'she': 156,\n",
       " 'statement': 157,\n",
       " 'submitted': 158,\n",
       " 'company': 159,\n",
       " '3': 160,\n",
       " 'case,': 161,\n",
       " 'special': 162,\n",
       " 'property': 163,\n",
       " 's.': 164,\n",
       " 'then': 165,\n",
       " 'shri': 166,\n",
       " 'power': 167,\n",
       " 'between': 168,\n",
       " 'does': 169,\n",
       " 'while': 170,\n",
       " 'notice': 171,\n",
       " 'tribunal': 172,\n",
       " 'within': 173,\n",
       " 'above': 174,\n",
       " 'date': 175,\n",
       " 'trial': 176,\n",
       " 'person': 177,\n",
       " 'public': 178,\n",
       " 'facts': 179,\n",
       " 'offence': 180,\n",
       " 'sc': 181,\n",
       " 'scc': 182,\n",
       " 'court,': 183,\n",
       " 'having': 184,\n",
       " 'however,': 185,\n",
       " 'deceased': 186,\n",
       " 'tax': 187,\n",
       " 'division': 188,\n",
       " 'house': 189,\n",
       " 'land': 190,\n",
       " 'them': 191,\n",
       " 'petitioners': 192,\n",
       " 'district': 193,\n",
       " 'new': 194,\n",
       " '(1)': 195,\n",
       " 'code': 196,\n",
       " 'apex': 197,\n",
       " 'relied': 198,\n",
       " 'general': 199,\n",
       " 'persons': 200,\n",
       " 'down': 201,\n",
       " 'officer': 202,\n",
       " 'observed': 203,\n",
       " 'found': 204,\n",
       " 'justice': 205,\n",
       " 'court.': 206,\n",
       " 'union': 207,\n",
       " 'both': 208,\n",
       " '4': 209,\n",
       " 'examined': 210,\n",
       " 'central': 211,\n",
       " 'without': 212,\n",
       " 'what': 213,\n",
       " 'some': 214,\n",
       " 'reference': 215,\n",
       " 'though': 216,\n",
       " 'came': 217,\n",
       " 'sections': 218,\n",
       " 'indian': 219,\n",
       " 'cases': 220,\n",
       " 'another': 221,\n",
       " 'jurisdiction': 222,\n",
       " 'page': 223,\n",
       " 'basis': 224,\n",
       " 'claim': 225,\n",
       " 'amount': 226,\n",
       " 'report': 227,\n",
       " 'effect': 228,\n",
       " 'up': 229,\n",
       " 'part': 230,\n",
       " 'possession': 231,\n",
       " 'witness': 232,\n",
       " 'following': 233,\n",
       " '5': 234,\n",
       " '-': 235,\n",
       " 'assessee': 236,\n",
       " 'since': 237,\n",
       " 'year': 238,\n",
       " 'prosecution': 239,\n",
       " 'fact': 240,\n",
       " 'authority': 241,\n",
       " 'bank': 242,\n",
       " 'considered': 243,\n",
       " 'complainant': 244,\n",
       " 'during': 245,\n",
       " 'behalf': 246,\n",
       " 'three': 247,\n",
       " '(2)': 248,\n",
       " 'service': 249,\n",
       " 'years': 250,\n",
       " 'income': 251,\n",
       " 'ram': 252,\n",
       " 'regard': 253,\n",
       " '6': 254,\n",
       " 'c.': 255,\n",
       " 'rules': 256,\n",
       " 'placed': 257,\n",
       " 'sale': 258,\n",
       " 'co.': 259,\n",
       " 'reported': 260,\n",
       " 'proceedings': 261,\n",
       " 'place': 262,\n",
       " 'aforesaid': 263,\n",
       " 'record': 264,\n",
       " 'because': 265,\n",
       " 'appellants': 266,\n",
       " 'do': 267,\n",
       " 'complaint': 268,\n",
       " 'registered': 269,\n",
       " 'necessary': 270,\n",
       " 'additional': 271,\n",
       " 'make': 272,\n",
       " 'well': 273,\n",
       " 'according': 274,\n",
       " 'respondents': 275,\n",
       " 'ground': 276,\n",
       " 'chief': 277,\n",
       " 'period': 278,\n",
       " 'through': 279,\n",
       " 'procedure': 280,\n",
       " 'those': 281,\n",
       " 'business': 282,\n",
       " 'more': 283,\n",
       " 'clause': 284,\n",
       " 'relevant': 285,\n",
       " '(supra)': 286,\n",
       " 'interest': 287,\n",
       " 'legal': 288,\n",
       " 'mentioned': 289,\n",
       " 'our': 290,\n",
       " 'favour': 291,\n",
       " 'take': 292,\n",
       " 'second': 293,\n",
       " 'read': 294,\n",
       " 'over': 295,\n",
       " 'far': 296,\n",
       " 'than': 297,\n",
       " 'others': 298,\n",
       " 'decided': 299,\n",
       " 'point': 300,\n",
       " 'witnesses': 301,\n",
       " 'set': 302,\n",
       " 'deposed': 303,\n",
       " 'singh,': 304,\n",
       " 'pw': 305,\n",
       " 'judicial': 306,\n",
       " 'ors.': 307,\n",
       " 'certain': 308,\n",
       " 'consideration': 309,\n",
       " 'now': 310,\n",
       " 'circumstances': 311,\n",
       " 'assessment': 312,\n",
       " 'issue': 313,\n",
       " 'laid': 314,\n",
       " 'terms': 315,\n",
       " 'letter': 316,\n",
       " 'p.w.': 317,\n",
       " 'support': 318,\n",
       " 'board': 319,\n",
       " 'received': 320,\n",
       " 'nos.': 321,\n",
       " 'account': 322,\n",
       " 'provision': 323,\n",
       " 'punjab': 324,\n",
       " 'earlier': 325,\n",
       " 'insurance': 326,\n",
       " 'ex.': 327,\n",
       " 'goods': 328,\n",
       " 'contention': 329,\n",
       " 'corporation': 330,\n",
       " 'notification': 331,\n",
       " 'commission': 332,\n",
       " '7': 333,\n",
       " 'bombay': 334,\n",
       " '8': 335,\n",
       " 'india,': 336,\n",
       " 'sessions': 337,\n",
       " 'took': 338,\n",
       " 'party': 339,\n",
       " 'r.': 340,\n",
       " 'vide': 341,\n",
       " 'purpose': 342,\n",
       " 'pradesh': 343,\n",
       " 'used': 344,\n",
       " 'already': 345,\n",
       " 'alleged': 346,\n",
       " 'recorded': 347,\n",
       " 'name': 348,\n",
       " 'compensation': 349,\n",
       " 'contended': 350,\n",
       " 'dr.': 351,\n",
       " '\"the': 352,\n",
       " 'parties': 353,\n",
       " 'clear': 354,\n",
       " 'commissioner': 355,\n",
       " 'show': 356,\n",
       " 'entitled': 357,\n",
       " 'us': 358,\n",
       " 'directed': 359,\n",
       " 'action': 360,\n",
       " 'courts': 361,\n",
       " 'different': 362,\n",
       " 'reliance': 363,\n",
       " 'no.1': 364,\n",
       " 'office': 365,\n",
       " 'admitted': 366,\n",
       " 'case.': 367,\n",
       " 'decisions': 368,\n",
       " 'agreement': 369,\n",
       " 'thus': 370,\n",
       " 'come': 371,\n",
       " 'due': 372,\n",
       " 'income-tax': 373,\n",
       " 'magistrate': 374,\n",
       " 'regarding': 375,\n",
       " 'transport': 376,\n",
       " 'w.': 377,\n",
       " 'granted': 378,\n",
       " 'decree': 379,\n",
       " '10': 380,\n",
       " 'sri': 381,\n",
       " 'k.': 382,\n",
       " 'my': 383,\n",
       " 'ipc': 384,\n",
       " 'motor': 385,\n",
       " 'file': 386,\n",
       " 'required': 387,\n",
       " 'vehicle': 388,\n",
       " 'orders': 389,\n",
       " 'charge': 390,\n",
       " 'paid': 391,\n",
       " 'very': 392,\n",
       " 'and,': 393,\n",
       " ',': 394,\n",
       " 'lal': 395,\n",
       " 'payment': 396,\n",
       " 'subject': 397,\n",
       " 'medical': 398,\n",
       " 'exercise': 399,\n",
       " 'allowed': 400,\n",
       " 'original': 401,\n",
       " 'impugned': 402,\n",
       " 'opinion': 403,\n",
       " 'pay': 404,\n",
       " 'investigation': 405,\n",
       " 'rights': 406,\n",
       " '.': 407,\n",
       " 'powers': 408,\n",
       " 'smt.': 409,\n",
       " 'contract': 410,\n",
       " 'appellate': 411,\n",
       " 'observations': 412,\n",
       " 'meaning': 413,\n",
       " 'a.': 414,\n",
       " 'appears': 415,\n",
       " 'owner': 416,\n",
       " '9': 417,\n",
       " 'way': 418,\n",
       " 'nature': 419,\n",
       " '14': 420,\n",
       " 'grant': 421,\n",
       " 'j.,': 422,\n",
       " 'reasonable': 423,\n",
       " 'brought': 424,\n",
       " '2.': 425,\n",
       " 'itself': 426,\n",
       " 'list': 427,\n",
       " 'duty': 428,\n",
       " 'death': 429,\n",
       " 'concerned': 430,\n",
       " 'taking': 431,\n",
       " 'available': 432,\n",
       " 'nor': 433,\n",
       " 'third': 434,\n",
       " '12': 435,\n",
       " 'copy': 436,\n",
       " 'legislature': 437,\n",
       " 'therefore': 438,\n",
       " 'either': 439,\n",
       " 'single': 440,\n",
       " 'cr.p.c.': 441,\n",
       " 'raised': 442,\n",
       " 'again': 443,\n",
       " 'full': 444,\n",
       " 'find': 445,\n",
       " 'judge,': 446,\n",
       " 'prasad': 447,\n",
       " 'consider': 448,\n",
       " 'words': 449,\n",
       " 'along': 450,\n",
       " 'sh.': 451,\n",
       " 'provided': 452,\n",
       " 'claimed': 453,\n",
       " 'him.': 454,\n",
       " 'itr': 455,\n",
       " 'documents': 456,\n",
       " 'material': 457,\n",
       " 'area': 458,\n",
       " 'fir': 459,\n",
       " 'examination': 460,\n",
       " 'station': 461,\n",
       " 'each': 462,\n",
       " 'village': 463,\n",
       " 'clearly': 464,\n",
       " 'similar': 465,\n",
       " 'holding': 466,\n",
       " 'transfer': 467,\n",
       " 'pointed': 468,\n",
       " 'document': 469,\n",
       " 'offences': 470,\n",
       " 'penal': 471,\n",
       " 'm.': 472,\n",
       " 'post': 473,\n",
       " 'india.': 474,\n",
       " 'n.': 475,\n",
       " 'election': 476,\n",
       " 'including': 477,\n",
       " '@': 478,\n",
       " 'liable': 479,\n",
       " 'sub-section': 480,\n",
       " 'written': 481,\n",
       " 'leave': 482,\n",
       " 'based': 483,\n",
       " 'information': 484,\n",
       " 'appeals': 485,\n",
       " 'own': 486,\n",
       " 'sent': 487,\n",
       " 'hold': 488,\n",
       " 'number': 489,\n",
       " 'reason': 490,\n",
       " 'industrial': 491,\n",
       " 'open': 492,\n",
       " 'sought': 493,\n",
       " 'course': 494,\n",
       " 'revenue': 495,\n",
       " 'force': 496,\n",
       " 'position': 497,\n",
       " 'liability': 498,\n",
       " 'back': 499,\n",
       " 'established': 500,\n",
       " 'para': 501,\n",
       " 'madras': 502,\n",
       " 'parliament': 503,\n",
       " 'cit': 504,\n",
       " 'true': 505,\n",
       " 'affidavit': 506,\n",
       " 'statutory': 507,\n",
       " 'considering': 508,\n",
       " 'entry': 509,\n",
       " '1st': 510,\n",
       " 'common': 511,\n",
       " 'award': 512,\n",
       " 'constitution.': 513,\n",
       " 'dismissed': 514,\n",
       " 'dispute': 515,\n",
       " 'son': 516,\n",
       " 'articles': 517,\n",
       " 'applicable': 518,\n",
       " 'give': 519,\n",
       " 'petitions': 520,\n",
       " 'advocate': 521,\n",
       " 'went': 522,\n",
       " 'services': 523,\n",
       " 'proved': 524,\n",
       " 'cause': 525,\n",
       " 'produced': 526,\n",
       " '1,': 527,\n",
       " 'defendants': 528,\n",
       " 'principles': 529,\n",
       " 'kerala': 530,\n",
       " 'various': 531,\n",
       " 'reasons': 532,\n",
       " 'punishable': 533,\n",
       " 'merely': 534,\n",
       " 'that,': 535,\n",
       " 'wife': 536,\n",
       " 'result': 537,\n",
       " 'working': 538,\n",
       " 'b.': 539,\n",
       " 'rajasthan': 540,\n",
       " 'm/s': 541,\n",
       " 'body': 542,\n",
       " 'contained': 543,\n",
       " 'prior': 544,\n",
       " 'scheme': 545,\n",
       " 'appearing': 546,\n",
       " '15': 547,\n",
       " 'vehicles': 548,\n",
       " 'father': 549,\n",
       " '11': 550,\n",
       " 'loss': 551,\n",
       " 'making': 552,\n",
       " 'ld.': 553,\n",
       " 'limited': 554,\n",
       " '(3)': 555,\n",
       " 'put': 556,\n",
       " '(b)': 557,\n",
       " 'conclusion': 558,\n",
       " 'concerned,': 559,\n",
       " 'member': 560,\n",
       " 'use': 561,\n",
       " 'amendment': 562,\n",
       " 'officer,': 563,\n",
       " 'wherein': 564,\n",
       " 'registration': 565,\n",
       " 'himself': 566,\n",
       " 'bearing': 567,\n",
       " 'haryana': 568,\n",
       " 'relating': 569,\n",
       " 'sufficient': 570,\n",
       " 'argued': 571,\n",
       " 'law.': 572,\n",
       " 'recovery': 573,\n",
       " 'accepted': 574,\n",
       " 'control': 575,\n",
       " 'trade': 576,\n",
       " 'premises': 577,\n",
       " 'left': 578,\n",
       " 'crime': 579,\n",
       " 'senior': 580,\n",
       " 'thus,': 581,\n",
       " 'injuries': 582,\n",
       " 'family': 583,\n",
       " 'committed': 584,\n",
       " 'principle': 585,\n",
       " 'done': 586,\n",
       " 'nothing': 587,\n",
       " 'form': 588,\n",
       " 'department': 589,\n",
       " '4.': 590,\n",
       " 'rent': 591,\n",
       " 'ltd.,': 592,\n",
       " '1.': 593,\n",
       " '34': 594,\n",
       " 'head': 595,\n",
       " 'noted': 596,\n",
       " '(air': 597,\n",
       " 'construction': 598,\n",
       " 'preferred': 599,\n",
       " 'certificate': 600,\n",
       " 'committee': 601,\n",
       " 'finding': 602,\n",
       " 'like': 603,\n",
       " 'private': 604,\n",
       " 'entered': 605,\n",
       " 'chand': 606,\n",
       " 'provides': 607,\n",
       " 'got': 608,\n",
       " 'sum': 609,\n",
       " 'particular': 610,\n",
       " 'proceeding': 611,\n",
       " 'argument': 612,\n",
       " 'last': 613,\n",
       " 'lord': 614,\n",
       " 'national': 615,\n",
       " 'settled': 616,\n",
       " 'valid': 617,\n",
       " 'assistant': 618,\n",
       " 'cheque': 619,\n",
       " 'members': 620,\n",
       " 'treated': 621,\n",
       " 'word': 622,\n",
       " 'light': 623,\n",
       " '226': 624,\n",
       " '(a)': 625,\n",
       " '\"': 626,\n",
       " 'towards': 627,\n",
       " 'statute': 628,\n",
       " 'obtained': 629,\n",
       " 'applicant': 630,\n",
       " 'magistrate,': 631,\n",
       " 'age': 632,\n",
       " 'm/s.': 633,\n",
       " 'council': 634,\n",
       " 'heard': 635,\n",
       " 'value': 636,\n",
       " 'connection': 637,\n",
       " 'appointed': 638,\n",
       " 'inspector': 639,\n",
       " 'denied': 640,\n",
       " 'outside': 641,\n",
       " 'drawn': 642,\n",
       " 'stage': 643,\n",
       " 'note': 644,\n",
       " 'follows:': 645,\n",
       " 'calcutta': 646,\n",
       " 'brother': 647,\n",
       " 'every': 648,\n",
       " 'see': 649,\n",
       " 'intention': 650,\n",
       " 'defence': 651,\n",
       " 'karnataka': 652,\n",
       " 'thereafter': 653,\n",
       " 'stand': 654,\n",
       " 'u/s': 655,\n",
       " 'near': 656,\n",
       " 'accident': 657,\n",
       " 'deed': 658,\n",
       " 'prove': 659,\n",
       " 'deputy': 660,\n",
       " 'followed': 661,\n",
       " '13': 662,\n",
       " 'context': 663,\n",
       " 'i.e.': 664,\n",
       " 'guilty': 665,\n",
       " 'called': 666,\n",
       " 'proviso': 667,\n",
       " 'lordships': 668,\n",
       " 'revision': 669,\n",
       " 'doubt': 670,\n",
       " 'sentence': 671,\n",
       " 'states': 672,\n",
       " 'mind': 673,\n",
       " 'appointment': 674,\n",
       " 'judges': 675,\n",
       " 'policy': 676,\n",
       " 'accused.': 677,\n",
       " 'road': 678,\n",
       " 'hearing': 679,\n",
       " 'tamil': 680,\n",
       " 'dealing': 681,\n",
       " 'go': 682,\n",
       " 'scope': 683,\n",
       " 'bail': 684,\n",
       " 'conditions': 685,\n",
       " 'proper': 686,\n",
       " '20': 687,\n",
       " 'west': 688,\n",
       " 'seeking': 689,\n",
       " '(c)': 690,\n",
       " 'filing': 691,\n",
       " 'them.': 692,\n",
       " 'relief': 693,\n",
       " 'legislative': 694,\n",
       " 'sales': 695,\n",
       " 'accordance': 696,\n",
       " 'so,': 697,\n",
       " 'etc.': 698,\n",
       " 'till': 699,\n",
       " 'need': 700,\n",
       " 'andhra': 701,\n",
       " 'aside': 702,\n",
       " 'code.': 703,\n",
       " 'competent': 704,\n",
       " 'fundamental': 705,\n",
       " 'day': 706,\n",
       " 'specific': 707,\n",
       " '16': 708,\n",
       " 'prepared': 709,\n",
       " 'under:': 710,\n",
       " 'authorities': 711,\n",
       " 'madhya': 712,\n",
       " 'executed': 713,\n",
       " 'hospital': 714,\n",
       " 'refer': 715,\n",
       " 'purposes': 716,\n",
       " 'decide': 717,\n",
       " 'raj': 718,\n",
       " 'matters': 719,\n",
       " 'seen': 720,\n",
       " 'sharma': 721,\n",
       " 'gujarat': 722,\n",
       " 'rules,': 723,\n",
       " 'ipc.': 724,\n",
       " 'excise': 725,\n",
       " '3.': 726,\n",
       " 'reached': 727,\n",
       " 'contrary': 728,\n",
       " 'rendered': 729,\n",
       " 'schedule': 730,\n",
       " 'firm': 731,\n",
       " 'devi': 732,\n",
       " 'limitation': 733,\n",
       " 'conviction': 734,\n",
       " 'covered': 735,\n",
       " 'validity': 736,\n",
       " 'acquisition': 737,\n",
       " 'chandra': 738,\n",
       " 'paragraph': 739,\n",
       " 'days': 740,\n",
       " 'work': 741,\n",
       " 'bihar': 742,\n",
       " 'thereafter,': 743,\n",
       " 'failed': 744,\n",
       " 'get': 745,\n",
       " 'appropriate': 746,\n",
       " 'review': 747,\n",
       " 'direction': 748,\n",
       " 'subsequent': 749,\n",
       " 'director': 750,\n",
       " 'namely': 751,\n",
       " 'how': 752,\n",
       " 'hand,': 753,\n",
       " 'delhi.': 754,\n",
       " 'is,': 755,\n",
       " 'purchase': 756,\n",
       " 'delay': 757,\n",
       " 'except': 758,\n",
       " 'entire': 759,\n",
       " 'say': 760,\n",
       " 'framed': 761,\n",
       " '2,': 762,\n",
       " 'absence': 763,\n",
       " 'art.': 764,\n",
       " 'applications': 765,\n",
       " 'unless': 766,\n",
       " 'husband': 767,\n",
       " 'hand': 768,\n",
       " 'pending': 769,\n",
       " '(4)': 770,\n",
       " 'supply': 771,\n",
       " '25': 772,\n",
       " 'gave': 773,\n",
       " 'claimant': 774,\n",
       " 'fixed': 775,\n",
       " 'cr.': 776,\n",
       " 'p.m.': 777,\n",
       " '(i)': 778,\n",
       " 'plaintiffs': 779,\n",
       " 'rate': 780,\n",
       " 'above,': 781,\n",
       " 'order,': 782,\n",
       " 'away': 783,\n",
       " 'personal': 784,\n",
       " 'declaration': 785,\n",
       " 'employees': 786,\n",
       " 'request': 787,\n",
       " 'presence': 788,\n",
       " 'coming': 789,\n",
       " '302': 790,\n",
       " 'prescribed': 791,\n",
       " 'driver': 792,\n",
       " 'permit': 793,\n",
       " 'condition': 794,\n",
       " 'still': 795,\n",
       " '(supra),': 796,\n",
       " 'opinion,': 797,\n",
       " 'submission': 798,\n",
       " 'interim': 799,\n",
       " 'april': 800,\n",
       " 'challenged': 801,\n",
       " 'nadu': 802,\n",
       " 'total': 803,\n",
       " 'convicted': 804,\n",
       " 'cbi': 805,\n",
       " 'amended': 806,\n",
       " 'expression': 807,\n",
       " 'conduct': 808,\n",
       " 'giving': 809,\n",
       " 'term': 810,\n",
       " 'no.2': 811,\n",
       " 'president': 812,\n",
       " 'enquiry': 813,\n",
       " 'beyond': 814,\n",
       " 'namely,': 815,\n",
       " '17': 816,\n",
       " 'shows': 817,\n",
       " 'lease': 818,\n",
       " 'whom': 819,\n",
       " '2008': 820,\n",
       " 'interpretation': 821,\n",
       " 'caused': 822,\n",
       " 'next': 823,\n",
       " 'benefit': 824,\n",
       " 'extent': 825,\n",
       " 'neither': 826,\n",
       " 'whole': 827,\n",
       " 'applied': 828,\n",
       " 'shown': 829,\n",
       " 'pvt.': 830,\n",
       " 'once': 831,\n",
       " '18': 832,\n",
       " 'cited': 833,\n",
       " 'december': 834,\n",
       " '2007': 835,\n",
       " 'g.': 836,\n",
       " 'investigating': 837,\n",
       " 'am': 838,\n",
       " 'officers': 839,\n",
       " '3,': 840,\n",
       " 'urged': 841,\n",
       " 'rao': 842,\n",
       " 'main': 843,\n",
       " 'bar': 844,\n",
       " 'means': 845,\n",
       " '2nd': 846,\n",
       " 'declared': 847,\n",
       " 'bengal': 848,\n",
       " 'provide': 849,\n",
       " 'allegations': 850,\n",
       " 'viz.,': 851,\n",
       " '19': 852,\n",
       " 'execution': 853,\n",
       " 'regards': 854,\n",
       " 'constituted': 855,\n",
       " ':-': 856,\n",
       " 'mills': 857,\n",
       " 'v': 858,\n",
       " 'it.': 859,\n",
       " '(hereinafter': 860,\n",
       " 'circumstances,': 861,\n",
       " '(ii)': 862,\n",
       " 'awarded': 863,\n",
       " 'patna': 864,\n",
       " 'secretary': 865,\n",
       " 'nath': 866,\n",
       " 'anr.': 867,\n",
       " 'instant': 868,\n",
       " 'development': 869,\n",
       " 'manner': 870,\n",
       " 'him,': 871,\n",
       " 'o.': 872,\n",
       " 'several': 873,\n",
       " 'charges': 874,\n",
       " 'railway': 875,\n",
       " 'asked': 876,\n",
       " 'properties': 877,\n",
       " 'hospital,': 878,\n",
       " 'become': 879,\n",
       " 'carried': 880,\n",
       " 'licence': 881,\n",
       " 'five': 882,\n",
       " 'pleaded': 883,\n",
       " 'kumar,': 884,\n",
       " 'finance': 885,\n",
       " 'gone': 886,\n",
       " 'minimum': 887,\n",
       " 'important': 888,\n",
       " 'murder': 889,\n",
       " 'municipal': 890,\n",
       " 'life': 891,\n",
       " 'definition': 892,\n",
       " 'issues': 893,\n",
       " 'bus': 894,\n",
       " 'side': 895,\n",
       " 'receipt': 896,\n",
       " 'university': 897,\n",
       " 'whose': 898,\n",
       " 'four': 899,\n",
       " 'separate': 900,\n",
       " 'apply': 901,\n",
       " '2009': 902,\n",
       " 'price': 903,\n",
       " 'appeared': 904,\n",
       " 'object': 905,\n",
       " 'conferred': 906,\n",
       " '22': 907,\n",
       " 'told': 908,\n",
       " 'going': 909,\n",
       " 'labour': 910,\n",
       " 'mere': 911,\n",
       " 'collector': 912,\n",
       " 'society': 913,\n",
       " 'judgments': 914,\n",
       " 'expressed': 915,\n",
       " 'evidence,': 916,\n",
       " 'informed': 917,\n",
       " 'appear': 918,\n",
       " 'dead': 919,\n",
       " '21': 920,\n",
       " 'specified': 921,\n",
       " 'here': 922,\n",
       " 'english': 923,\n",
       " '50': 924,\n",
       " 'enacted': 925,\n",
       " 'law,': 926,\n",
       " 'attention': 927,\n",
       " 'mysore': 928,\n",
       " 'august': 929,\n",
       " 'therein': 930,\n",
       " 'mean': 931,\n",
       " 'just': 932,\n",
       " 'july,': 933,\n",
       " 'gupta': 934,\n",
       " 'march,': 935,\n",
       " 'u.p.': 936,\n",
       " 'final': 937,\n",
       " 'opportunity': 938,\n",
       " 'never': 939,\n",
       " '27': 940,\n",
       " 'it,': 941,\n",
       " 'july': 942,\n",
       " 'inter': 943,\n",
       " 'foreign': 944,\n",
       " 'false': 945,\n",
       " 'administrative': 946,\n",
       " 'rejected': 947,\n",
       " 'college': 948,\n",
       " 'appellant.': 949,\n",
       " 'direct': 950,\n",
       " 'statements': 951,\n",
       " 'delivered': 952,\n",
       " 'was,': 953,\n",
       " 'april,': 954,\n",
       " 'i.e.,': 955,\n",
       " 'allahabad': 956,\n",
       " 'lj': 957,\n",
       " 'chapter': 958,\n",
       " 'september': 959,\n",
       " 'disputes': 960,\n",
       " 'tenant': 961,\n",
       " 'correct': 962,\n",
       " 'fresh': 963,\n",
       " 'cross': 964,\n",
       " 'old': 965,\n",
       " 'code,': 966,\n",
       " 'accused,': 967,\n",
       " 'lodged': 968,\n",
       " 'much': 969,\n",
       " 'december,': 970,\n",
       " 'arbitration': 971,\n",
       " 'know': 972,\n",
       " '1999': 973,\n",
       " 'why': 974,\n",
       " 'november': 975,\n",
       " 'jain': 976,\n",
       " 'incident': 977,\n",
       " 'i.p.c.': 978,\n",
       " 'situated': 979,\n",
       " 'arising': 980,\n",
       " 'industries': 981,\n",
       " 'plea': 982,\n",
       " 'constitutional': 983,\n",
       " 'minister': 984,\n",
       " 'intended': 985,\n",
       " 'conducted': 986,\n",
       " 'hence,': 987,\n",
       " 'imprisonment': 988,\n",
       " '2010': 989,\n",
       " 'may,': 990,\n",
       " 'sold': 991,\n",
       " 'management': 992,\n",
       " 'maharashtra': 993,\n",
       " 'six': 994,\n",
       " 's.c.r.': 995,\n",
       " 'agreed': 996,\n",
       " 'building': 997,\n",
       " 'injury': 998,\n",
       " 'joint': 999,\n",
       " 'carrying': 1000,\n",
       " ...}"
      ]
     },
     "execution_count": 15,
     "metadata": {},
     "output_type": "execute_result"
    }
   ],
   "source": [
    "weights = np.zeros((vocab_size, 300))\n",
    "mapping = toke.word_index \n",
    "mapping"
   ]
  },
  {
   "cell_type": "markdown",
   "id": "08d993bb",
   "metadata": {
    "papermill": {
     "duration": 0.027017,
     "end_time": "2024-03-11T16:56:24.427607",
     "exception": false,
     "start_time": "2024-03-11T16:56:24.400590",
     "status": "completed"
    },
    "tags": []
   },
   "source": [
    "Fetching weights from pre trained Word2Vec model (ATE)"
   ]
  },
  {
   "cell_type": "code",
   "execution_count": 16,
   "id": "00e8b7d5",
   "metadata": {
    "execution": {
     "iopub.execute_input": "2024-03-11T16:56:24.481667Z",
     "iopub.status.busy": "2024-03-11T16:56:24.481242Z",
     "iopub.status.idle": "2024-03-11T16:58:37.540400Z",
     "shell.execute_reply": "2024-03-11T16:58:37.539043Z"
    },
    "papermill": {
     "duration": 133.09009,
     "end_time": "2024-03-11T16:58:37.543770",
     "exception": false,
     "start_time": "2024-03-11T16:56:24.453680",
     "status": "completed"
    },
    "tags": []
   },
   "outputs": [],
   "source": [
    "for word, index in mapping.items():\n",
    "    if word in emb:\n",
    "        weights[index:] = emb[word]"
   ]
  },
  {
   "cell_type": "code",
   "execution_count": 17,
   "id": "86004d5d",
   "metadata": {
    "execution": {
     "iopub.execute_input": "2024-03-11T16:58:37.598387Z",
     "iopub.status.busy": "2024-03-11T16:58:37.597523Z",
     "iopub.status.idle": "2024-03-11T16:58:37.605015Z",
     "shell.execute_reply": "2024-03-11T16:58:37.604021Z"
    },
    "papermill": {
     "duration": 0.037821,
     "end_time": "2024-03-11T16:58:37.607665",
     "exception": false,
     "start_time": "2024-03-11T16:58:37.569844",
     "status": "completed"
    },
    "tags": []
   },
   "outputs": [],
   "source": [
    "X_train= X_padded_train\n",
    "Y_train = Y_padded_train\n",
    "X_test = X_padded_test\n",
    "Y_test = Y_padded_test\n",
    "X_val = X_padded_val\n",
    "Y_val = Y_padded_val\n",
    "weights = weights\n",
    "word_token = toke\n",
    "tag_token = toke2"
   ]
  },
  {
   "cell_type": "code",
   "execution_count": 18,
   "id": "18185e3b",
   "metadata": {
    "execution": {
     "iopub.execute_input": "2024-03-11T16:58:37.661722Z",
     "iopub.status.busy": "2024-03-11T16:58:37.660845Z",
     "iopub.status.idle": "2024-03-11T16:58:37.666300Z",
     "shell.execute_reply": "2024-03-11T16:58:37.665376Z"
    },
    "papermill": {
     "duration": 0.035306,
     "end_time": "2024-03-11T16:58:37.668850",
     "exception": false,
     "start_time": "2024-03-11T16:58:37.633544",
     "status": "completed"
    },
    "tags": []
   },
   "outputs": [],
   "source": [
    "Y_shape= Y_padded_train.shape[2]"
   ]
  },
  {
   "cell_type": "markdown",
   "id": "21fd56b0",
   "metadata": {
    "papermill": {
     "duration": 0.025511,
     "end_time": "2024-03-11T16:58:37.720363",
     "exception": false,
     "start_time": "2024-03-11T16:58:37.694852",
     "status": "completed"
    },
    "tags": []
   },
   "source": [
    "# Models"
   ]
  },
  {
   "cell_type": "markdown",
   "id": "5c8d58aa",
   "metadata": {
    "papermill": {
     "duration": 0.026074,
     "end_time": "2024-03-11T16:58:37.772725",
     "exception": false,
     "start_time": "2024-03-11T16:58:37.746651",
     "status": "completed"
    },
    "tags": []
   },
   "source": [
    "## RNN"
   ]
  },
  {
   "cell_type": "code",
   "execution_count": 19,
   "id": "ab8acb07",
   "metadata": {
    "execution": {
     "iopub.execute_input": "2024-03-11T16:58:37.827170Z",
     "iopub.status.busy": "2024-03-11T16:58:37.826696Z",
     "iopub.status.idle": "2024-03-11T16:58:37.831874Z",
     "shell.execute_reply": "2024-03-11T16:58:37.830608Z"
    },
    "papermill": {
     "duration": 0.034968,
     "end_time": "2024-03-11T16:58:37.834251",
     "exception": false,
     "start_time": "2024-03-11T16:58:37.799283",
     "status": "completed"
    },
    "tags": []
   },
   "outputs": [],
   "source": [
    "model_name=\"RNN\""
   ]
  },
  {
   "cell_type": "markdown",
   "id": "e763e1a5",
   "metadata": {
    "papermill": {
     "duration": 0.025499,
     "end_time": "2024-03-11T16:58:37.885786",
     "exception": false,
     "start_time": "2024-03-11T16:58:37.860287",
     "status": "completed"
    },
    "tags": []
   },
   "source": [
    "### Training"
   ]
  },
  {
   "cell_type": "code",
   "execution_count": 20,
   "id": "38678ac6",
   "metadata": {
    "execution": {
     "iopub.execute_input": "2024-03-11T16:58:37.940374Z",
     "iopub.status.busy": "2024-03-11T16:58:37.939531Z",
     "iopub.status.idle": "2024-03-11T16:58:37.949030Z",
     "shell.execute_reply": "2024-03-11T16:58:37.948139Z"
    },
    "papermill": {
     "duration": 0.039419,
     "end_time": "2024-03-11T16:58:37.951615",
     "exception": false,
     "start_time": "2024-03-11T16:58:37.912196",
     "status": "completed"
    },
    "tags": []
   },
   "outputs": [],
   "source": [
    "def rnn(vocab_size,max_len,weights,Y_shape):\n",
    "    rnn_model = Sequential()\n",
    "    rnn_model.add(Embedding(input_dim = vocab_size,output_dim = 300,input_length  = max_len,weights = [weights],trainable = False))\n",
    "    rnn_model.add(SimpleRNN(32, return_sequences=True))\n",
    "    rnn_model.add(TimeDistributed(Dense(Y_shape, activation='softmax')))\n",
    "    rnn_model.compile(loss='categorical_crossentropy',optimizer='adam',metrics=['acc',Precision(),Recall()])\n",
    "    return rnn_model"
   ]
  },
  {
   "cell_type": "code",
   "execution_count": 21,
   "id": "7719edd1",
   "metadata": {
    "execution": {
     "iopub.execute_input": "2024-03-11T16:58:38.005541Z",
     "iopub.status.busy": "2024-03-11T16:58:38.004693Z",
     "iopub.status.idle": "2024-03-11T16:58:38.864751Z",
     "shell.execute_reply": "2024-03-11T16:58:38.863481Z"
    },
    "papermill": {
     "duration": 0.890205,
     "end_time": "2024-03-11T16:58:38.867665",
     "exception": false,
     "start_time": "2024-03-11T16:58:37.977460",
     "status": "completed"
    },
    "tags": []
   },
   "outputs": [],
   "source": [
    "rnn_model=rnn(vocab_size,max_len,weights,Y_shape)"
   ]
  },
  {
   "cell_type": "markdown",
   "id": "c69f8061",
   "metadata": {
    "papermill": {
     "duration": 0.025569,
     "end_time": "2024-03-11T16:58:38.919244",
     "exception": false,
     "start_time": "2024-03-11T16:58:38.893675",
     "status": "completed"
    },
    "tags": []
   },
   "source": [
    "Compiling the rnn Word2Vec Model"
   ]
  },
  {
   "cell_type": "code",
   "execution_count": null,
   "id": "999689d6",
   "metadata": {
    "papermill": {
     "duration": 0.025695,
     "end_time": "2024-03-11T16:58:38.971136",
     "exception": false,
     "start_time": "2024-03-11T16:58:38.945441",
     "status": "completed"
    },
    "tags": []
   },
   "outputs": [],
   "source": []
  },
  {
   "cell_type": "code",
   "execution_count": 22,
   "id": "f502316f",
   "metadata": {
    "execution": {
     "iopub.execute_input": "2024-03-11T16:58:39.025255Z",
     "iopub.status.busy": "2024-03-11T16:58:39.024782Z",
     "iopub.status.idle": "2024-03-11T16:58:39.030366Z",
     "shell.execute_reply": "2024-03-11T16:58:39.029270Z"
    },
    "papermill": {
     "duration": 0.035359,
     "end_time": "2024-03-11T16:58:39.032542",
     "exception": false,
     "start_time": "2024-03-11T16:58:38.997183",
     "status": "completed"
    },
    "tags": []
   },
   "outputs": [],
   "source": [
    "rnn_f1_callback = F1ScoreCallback(val_data=(X_val, Y_val),data=(X_train, Y_train))\n"
   ]
  },
  {
   "cell_type": "code",
   "execution_count": 23,
   "id": "549d42df",
   "metadata": {
    "execution": {
     "iopub.execute_input": "2024-03-11T16:58:39.089003Z",
     "iopub.status.busy": "2024-03-11T16:58:39.087926Z",
     "iopub.status.idle": "2024-03-11T16:58:39.112269Z",
     "shell.execute_reply": "2024-03-11T16:58:39.111147Z"
    },
    "papermill": {
     "duration": 0.055636,
     "end_time": "2024-03-11T16:58:39.114624",
     "exception": false,
     "start_time": "2024-03-11T16:58:39.058988",
     "status": "completed"
    },
    "tags": []
   },
   "outputs": [
    {
     "name": "stdout",
     "output_type": "stream",
     "text": [
      "Model: \"sequential\"\n",
      "_________________________________________________________________\n",
      " Layer (type)                Output Shape              Param #   \n",
      "=================================================================\n",
      " embedding (Embedding)       (None, 70, 300)           9066000   \n",
      "                                                                 \n",
      " simple_rnn (SimpleRNN)      (None, 70, 32)            10656     \n",
      "                                                                 \n",
      " time_distributed (TimeDist  (None, 70, 28)            924       \n",
      " ributed)                                                        \n",
      "                                                                 \n",
      "=================================================================\n",
      "Total params: 9077580 (34.63 MB)\n",
      "Trainable params: 11580 (45.23 KB)\n",
      "Non-trainable params: 9066000 (34.58 MB)\n",
      "_________________________________________________________________\n"
     ]
    }
   ],
   "source": [
    "rnn_model.summary()"
   ]
  },
  {
   "cell_type": "markdown",
   "id": "3f270cfe",
   "metadata": {
    "papermill": {
     "duration": 0.027129,
     "end_time": "2024-03-11T16:58:39.169537",
     "exception": false,
     "start_time": "2024-03-11T16:58:39.142408",
     "status": "completed"
    },
    "tags": []
   },
   "source": [
    "Fitting the rnn model"
   ]
  },
  {
   "cell_type": "code",
   "execution_count": 24,
   "id": "3447becc",
   "metadata": {
    "execution": {
     "iopub.execute_input": "2024-03-11T16:58:39.226213Z",
     "iopub.status.busy": "2024-03-11T16:58:39.225704Z",
     "iopub.status.idle": "2024-03-11T17:15:26.793041Z",
     "shell.execute_reply": "2024-03-11T17:15:26.791397Z"
    },
    "papermill": {
     "duration": 1007.793308,
     "end_time": "2024-03-11T17:15:26.990339",
     "exception": false,
     "start_time": "2024-03-11T16:58:39.197031",
     "status": "completed"
    },
    "tags": []
   },
   "outputs": [
    {
     "name": "stdout",
     "output_type": "stream",
     "text": [
      "Epoch 1/20\n",
      "45/45 [==============================] - 1s 8ms/step\n",
      "251/251 [==============================] - 2s 9ms/step\n",
      "Val F1 Score: 0.06772518694057746 - Train F1 Score: 0.06930970238631691\n",
      "63/63 [==============================] - 51s 799ms/step - loss: 1.7262 - acc: 0.7691 - precision: 0.9460 - recall: 0.2953 - val_loss: 0.8021 - val_acc: 0.8761 - val_precision: 0.9528 - val_recall: 0.7836\n",
      "Epoch 2/20\n",
      "45/45 [==============================] - 0s 9ms/step\n",
      "251/251 [==============================] - 2s 10ms/step\n",
      "Val F1 Score: 0.078547203942132 - Train F1 Score: 0.07990241535990808\n",
      "63/63 [==============================] - 50s 803ms/step - loss: 0.6093 - acc: 0.9043 - precision: 0.9473 - recall: 0.8318 - val_loss: 0.5466 - val_acc: 0.9035 - val_precision: 0.9501 - val_recall: 0.8333\n",
      "Epoch 3/20\n",
      "45/45 [==============================] - 0s 9ms/step\n",
      "251/251 [==============================] - 2s 9ms/step\n",
      "Val F1 Score: 0.09137903827650783 - Train F1 Score: 0.0907278935647712\n",
      "63/63 [==============================] - 50s 799ms/step - loss: 0.4795 - acc: 0.9157 - precision: 0.9488 - recall: 0.8598 - val_loss: 0.4656 - val_acc: 0.9129 - val_precision: 0.9566 - val_recall: 0.8530\n",
      "Epoch 4/20\n",
      "45/45 [==============================] - 0s 9ms/step\n",
      "251/251 [==============================] - 2s 9ms/step\n",
      "Val F1 Score: 0.10475852296119748 - Train F1 Score: 0.1073147588904205\n",
      "63/63 [==============================] - 51s 818ms/step - loss: 0.4256 - acc: 0.9203 - precision: 0.9549 - recall: 0.8734 - val_loss: 0.4178 - val_acc: 0.9179 - val_precision: 0.9615 - val_recall: 0.8611\n",
      "Epoch 5/20\n",
      "45/45 [==============================] - 0s 9ms/step\n",
      "251/251 [==============================] - 2s 9ms/step\n",
      "Val F1 Score: 0.13476449558315592 - Train F1 Score: 0.1390471184445826\n",
      "63/63 [==============================] - 50s 808ms/step - loss: 0.3910 - acc: 0.9240 - precision: 0.9582 - recall: 0.8754 - val_loss: 0.3847 - val_acc: 0.9231 - val_precision: 0.9632 - val_recall: 0.8673\n",
      "Epoch 6/20\n",
      "45/45 [==============================] - 0s 8ms/step\n",
      "251/251 [==============================] - 2s 9ms/step\n",
      "Val F1 Score: 0.16931892329375037 - Train F1 Score: 0.17388742820080427\n",
      "63/63 [==============================] - 49s 791ms/step - loss: 0.3658 - acc: 0.9274 - precision: 0.9603 - recall: 0.8768 - val_loss: 0.3608 - val_acc: 0.9268 - val_precision: 0.9641 - val_recall: 0.8712\n",
      "Epoch 7/20\n",
      "45/45 [==============================] - 0s 9ms/step\n",
      "251/251 [==============================] - 2s 8ms/step\n",
      "Val F1 Score: 0.1952595482765471 - Train F1 Score: 0.19836649957140753\n",
      "63/63 [==============================] - 49s 792ms/step - loss: 0.3459 - acc: 0.9300 - precision: 0.9620 - recall: 0.8907 - val_loss: 0.3427 - val_acc: 0.9297 - val_precision: 0.9677 - val_recall: 0.8868\n",
      "Epoch 8/20\n",
      "45/45 [==============================] - 0s 9ms/step\n",
      "251/251 [==============================] - 2s 9ms/step\n",
      "Val F1 Score: 0.21326594210915045 - Train F1 Score: 0.21674744114971875\n",
      "63/63 [==============================] - 49s 796ms/step - loss: 0.3295 - acc: 0.9324 - precision: 0.9634 - recall: 0.8961 - val_loss: 0.3268 - val_acc: 0.9320 - val_precision: 0.9673 - val_recall: 0.8901\n",
      "Epoch 9/20\n",
      "45/45 [==============================] - 0s 9ms/step\n",
      "251/251 [==============================] - 3s 10ms/step\n",
      "Val F1 Score: 0.22959567515237111 - Train F1 Score: 0.23131434901225156\n",
      "63/63 [==============================] - 53s 856ms/step - loss: 0.3152 - acc: 0.9345 - precision: 0.9640 - recall: 0.8982 - val_loss: 0.3139 - val_acc: 0.9335 - val_precision: 0.9669 - val_recall: 0.8930\n",
      "Epoch 10/20\n",
      "45/45 [==============================] - 0s 9ms/step\n",
      "251/251 [==============================] - 2s 10ms/step\n",
      "Val F1 Score: 0.24549991580931735 - Train F1 Score: 0.24804975271037907\n",
      "63/63 [==============================] - 54s 864ms/step - loss: 0.3027 - acc: 0.9361 - precision: 0.9645 - recall: 0.9009 - val_loss: 0.3018 - val_acc: 0.9361 - val_precision: 0.9685 - val_recall: 0.8957\n",
      "Epoch 11/20\n",
      "45/45 [==============================] - 0s 9ms/step\n",
      "251/251 [==============================] - 2s 9ms/step\n",
      "Val F1 Score: 0.25201283762615645 - Train F1 Score: 0.25757130716800114\n",
      "63/63 [==============================] - 49s 790ms/step - loss: 0.2914 - acc: 0.9378 - precision: 0.9651 - recall: 0.9034 - val_loss: 0.2917 - val_acc: 0.9368 - val_precision: 0.9668 - val_recall: 0.8994\n",
      "Epoch 12/20\n",
      "45/45 [==============================] - 0s 9ms/step\n",
      "251/251 [==============================] - 2s 9ms/step\n",
      "Val F1 Score: 0.26725143416029146 - Train F1 Score: 0.2725034058829125\n",
      "63/63 [==============================] - 49s 796ms/step - loss: 0.2813 - acc: 0.9393 - precision: 0.9657 - recall: 0.9058 - val_loss: 0.2819 - val_acc: 0.9388 - val_precision: 0.9679 - val_recall: 0.9016\n",
      "Epoch 13/20\n",
      "45/45 [==============================] - 0s 8ms/step\n",
      "251/251 [==============================] - 2s 8ms/step\n",
      "Val F1 Score: 0.28694245565284426 - Train F1 Score: 0.2877844027683446\n",
      "63/63 [==============================] - 49s 796ms/step - loss: 0.2724 - acc: 0.9408 - precision: 0.9660 - recall: 0.9081 - val_loss: 0.2743 - val_acc: 0.9405 - val_precision: 0.9687 - val_recall: 0.9028\n",
      "Epoch 14/20\n",
      "45/45 [==============================] - 0s 9ms/step\n",
      "251/251 [==============================] - 2s 9ms/step\n",
      "Val F1 Score: 0.2974594693446952 - Train F1 Score: 0.2995262127958441\n",
      "63/63 [==============================] - 51s 820ms/step - loss: 0.2635 - acc: 0.9423 - precision: 0.9666 - recall: 0.9105 - val_loss: 0.2647 - val_acc: 0.9417 - val_precision: 0.9689 - val_recall: 0.9057\n",
      "Epoch 15/20\n",
      "45/45 [==============================] - 0s 9ms/step\n",
      "251/251 [==============================] - 2s 9ms/step\n",
      "Val F1 Score: 0.30913463857263085 - Train F1 Score: 0.3114729432980058\n",
      "63/63 [==============================] - 51s 814ms/step - loss: 0.2557 - acc: 0.9436 - precision: 0.9669 - recall: 0.9124 - val_loss: 0.2572 - val_acc: 0.9432 - val_precision: 0.9696 - val_recall: 0.9078\n",
      "Epoch 16/20\n",
      "45/45 [==============================] - 0s 9ms/step\n",
      "251/251 [==============================] - 2s 9ms/step\n",
      "Val F1 Score: 0.31461754634072886 - Train F1 Score: 0.3173453755489503\n",
      "63/63 [==============================] - 51s 822ms/step - loss: 0.2487 - acc: 0.9448 - precision: 0.9672 - recall: 0.9142 - val_loss: 0.2494 - val_acc: 0.9439 - val_precision: 0.9683 - val_recall: 0.9113\n",
      "Epoch 17/20\n",
      "45/45 [==============================] - 0s 9ms/step\n",
      "251/251 [==============================] - 2s 9ms/step\n",
      "Val F1 Score: 0.3207310096853311 - Train F1 Score: 0.3274889712431852\n",
      "63/63 [==============================] - 50s 799ms/step - loss: 0.2424 - acc: 0.9458 - precision: 0.9675 - recall: 0.9157 - val_loss: 0.2440 - val_acc: 0.9446 - val_precision: 0.9683 - val_recall: 0.9126\n",
      "Epoch 18/20\n",
      "45/45 [==============================] - 0s 9ms/step\n",
      "251/251 [==============================] - 2s 9ms/step\n",
      "Val F1 Score: 0.3288345350980916 - Train F1 Score: 0.3385899877999666\n",
      "63/63 [==============================] - 50s 801ms/step - loss: 0.2367 - acc: 0.9466 - precision: 0.9678 - recall: 0.9168 - val_loss: 0.2402 - val_acc: 0.9454 - val_precision: 0.9703 - val_recall: 0.9118\n",
      "Epoch 19/20\n",
      "45/45 [==============================] - 0s 8ms/step\n",
      "251/251 [==============================] - 2s 9ms/step\n",
      "Val F1 Score: 0.33918613771920947 - Train F1 Score: 0.3465282329892782\n",
      "63/63 [==============================] - 51s 816ms/step - loss: 0.2315 - acc: 0.9474 - precision: 0.9683 - recall: 0.9262 - val_loss: 0.2365 - val_acc: 0.9461 - val_precision: 0.9696 - val_recall: 0.9276\n",
      "Epoch 20/20\n",
      "45/45 [==============================] - 0s 9ms/step\n",
      "251/251 [==============================] - 2s 9ms/step\n",
      "Val F1 Score: 0.3481839216986108 - Train F1 Score: 0.35298917466096924\n",
      "63/63 [==============================] - 51s 823ms/step - loss: 0.2273 - acc: 0.9479 - precision: 0.9687 - recall: 0.9332 - val_loss: 0.2302 - val_acc: 0.9472 - val_precision: 0.9700 - val_recall: 0.9298\n"
     ]
    }
   ],
   "source": [
    "rnn_training = rnn_model.fit(X_train, Y_train, batch_size=128, epochs=20, validation_data=(X_val, Y_val), callbacks=[rnn_f1_callback])"
   ]
  },
  {
   "cell_type": "markdown",
   "id": "f0fd2b0a",
   "metadata": {
    "papermill": {
     "duration": 0.212545,
     "end_time": "2024-03-11T17:15:27.403176",
     "exception": false,
     "start_time": "2024-03-11T17:15:27.190631",
     "status": "completed"
    },
    "tags": []
   },
   "source": [
    "Plotting the graph"
   ]
  },
  {
   "cell_type": "code",
   "execution_count": 25,
   "id": "237279ee",
   "metadata": {
    "execution": {
     "iopub.execute_input": "2024-03-11T17:15:27.799715Z",
     "iopub.status.busy": "2024-03-11T17:15:27.798959Z",
     "iopub.status.idle": "2024-03-11T17:15:28.700006Z",
     "shell.execute_reply": "2024-03-11T17:15:28.698746Z"
    },
    "papermill": {
     "duration": 1.099306,
     "end_time": "2024-03-11T17:15:28.703115",
     "exception": false,
     "start_time": "2024-03-11T17:15:27.603809",
     "status": "completed"
    },
    "tags": []
   },
   "outputs": [
    {
     "data": {
      "image/png": "[encoded data removed]",
      "text/plain": [
       "<Figure size 1600x500 with 2 Axes>"
      ]
     },
     "metadata": {},
     "output_type": "display_data"
    }
   ],
   "source": [
    "draw_loss_graph(rnn_training,model_name, rnn_f1_callback.train_f1_scores, rnn_f1_callback.val_f1_scores)\n",
    "save_model(rnn_model,model_name,Embedding_name,Dataset)"
   ]
  },
  {
   "cell_type": "markdown",
   "id": "d02eebad",
   "metadata": {
    "papermill": {
     "duration": 0.196192,
     "end_time": "2024-03-11T17:15:29.177785",
     "exception": false,
     "start_time": "2024-03-11T17:15:28.981593",
     "status": "completed"
    },
    "tags": []
   },
   "source": [
    "### Testing"
   ]
  },
  {
   "cell_type": "code",
   "execution_count": 26,
   "id": "78c4548d",
   "metadata": {
    "execution": {
     "iopub.execute_input": "2024-03-11T17:15:29.574866Z",
     "iopub.status.busy": "2024-03-11T17:15:29.574419Z",
     "iopub.status.idle": "2024-03-11T17:15:29.950460Z",
     "shell.execute_reply": "2024-03-11T17:15:29.949156Z"
    },
    "papermill": {
     "duration": 0.576711,
     "end_time": "2024-03-11T17:15:29.953281",
     "exception": false,
     "start_time": "2024-03-11T17:15:29.376570",
     "status": "completed"
    },
    "tags": []
   },
   "outputs": [],
   "source": [
    "loaded_model = rnn(vocab_size,max_len,weights,Y_shape)\n",
    "params=load_model(model_name,Embedding_name,Dataset)\n",
    "loaded_model.set_weights(params)"
   ]
  },
  {
   "cell_type": "markdown",
   "id": "ff9d762c",
   "metadata": {
    "papermill": {
     "duration": 0.198162,
     "end_time": "2024-03-11T17:15:30.354678",
     "exception": false,
     "start_time": "2024-03-11T17:15:30.156516",
     "status": "completed"
    },
    "tags": []
   },
   "source": [
    "Testing accuracy"
   ]
  },
  {
   "cell_type": "code",
   "execution_count": 27,
   "id": "d09b19d0",
   "metadata": {
    "execution": {
     "iopub.execute_input": "2024-03-11T17:15:30.749394Z",
     "iopub.status.busy": "2024-03-11T17:15:30.748820Z",
     "iopub.status.idle": "2024-03-11T17:15:32.083434Z",
     "shell.execute_reply": "2024-03-11T17:15:32.082156Z"
    },
    "papermill": {
     "duration": 1.535456,
     "end_time": "2024-03-11T17:15:32.086604",
     "exception": false,
     "start_time": "2024-03-11T17:15:30.551148",
     "status": "completed"
    },
    "tags": []
   },
   "outputs": [
    {
     "name": "stdout",
     "output_type": "stream",
     "text": [
      "30/30 [==============================] - 1s 10ms/step - loss: 0.2553 - acc: 0.9416 - precision_1: 0.9647 - recall_1: 0.9218\n",
      "0.9415926337242126\n"
     ]
    }
   ],
   "source": [
    "accuracy = loaded_model.evaluate(X_test, Y_test, verbose = 1)\n",
    "print(accuracy[1])"
   ]
  },
  {
   "cell_type": "markdown",
   "id": "dfdda068",
   "metadata": {
    "papermill": {
     "duration": 0.205461,
     "end_time": "2024-03-11T17:15:32.494811",
     "exception": false,
     "start_time": "2024-03-11T17:15:32.289350",
     "status": "completed"
    },
    "tags": []
   },
   "source": [
    "Testing F1 Score"
   ]
  },
  {
   "cell_type": "code",
   "execution_count": 28,
   "id": "1c7dc22d",
   "metadata": {
    "execution": {
     "iopub.execute_input": "2024-03-11T17:15:32.897363Z",
     "iopub.status.busy": "2024-03-11T17:15:32.896806Z",
     "iopub.status.idle": "2024-03-11T17:15:37.908005Z",
     "shell.execute_reply": "2024-03-11T17:15:37.906676Z"
    },
    "papermill": {
     "duration": 5.215612,
     "end_time": "2024-03-11T17:15:37.910914",
     "exception": false,
     "start_time": "2024-03-11T17:15:32.695302",
     "status": "completed"
    },
    "tags": []
   },
   "outputs": [
    {
     "name": "stdout",
     "output_type": "stream",
     "text": [
      "30/30 [==============================] - 0s 9ms/step\n",
      "Test F1 Score: 0.34407264519555586\n"
     ]
    }
   ],
   "source": [
    "Y_pred = loaded_model.predict(X_test)\n",
    "real = get_real(Y_test)\n",
    "pred = get_pred(Y_pred)\n",
    "\n",
    "true_labels_flat = [label for sublist in real for label in sublist]\n",
    "predicted_labels_flat = [label for sublist in pred for label in sublist]\n",
    "\n",
    "# Compute F1 score\n",
    "f1 = f1_score(true_labels_flat, predicted_labels_flat, average='macro')\n",
    "\n",
    "print(\"Test F1 Score:\", f1)"
   ]
  },
  {
   "cell_type": "markdown",
   "id": "245b1b8a",
   "metadata": {
    "papermill": {
     "duration": 0.204294,
     "end_time": "2024-03-11T17:15:38.321582",
     "exception": false,
     "start_time": "2024-03-11T17:15:38.117288",
     "status": "completed"
    },
    "tags": []
   },
   "source": [
    "## GRU"
   ]
  },
  {
   "cell_type": "code",
   "execution_count": 29,
   "id": "641cb80e",
   "metadata": {
    "execution": {
     "iopub.execute_input": "2024-03-11T17:15:38.715759Z",
     "iopub.status.busy": "2024-03-11T17:15:38.715323Z",
     "iopub.status.idle": "2024-03-11T17:15:38.719784Z",
     "shell.execute_reply": "2024-03-11T17:15:38.718896Z"
    },
    "papermill": {
     "duration": 0.205373,
     "end_time": "2024-03-11T17:15:38.722089",
     "exception": false,
     "start_time": "2024-03-11T17:15:38.516716",
     "status": "completed"
    },
    "tags": []
   },
   "outputs": [],
   "source": [
    "model_name=\"GRU\""
   ]
  },
  {
   "cell_type": "markdown",
   "id": "2b10d21e",
   "metadata": {
    "papermill": {
     "duration": 0.209737,
     "end_time": "2024-03-11T17:15:39.130418",
     "exception": false,
     "start_time": "2024-03-11T17:15:38.920681",
     "status": "completed"
    },
    "tags": []
   },
   "source": [
    "### Training"
   ]
  },
  {
   "cell_type": "code",
   "execution_count": 30,
   "id": "ca3b7281",
   "metadata": {
    "execution": {
     "iopub.execute_input": "2024-03-11T17:15:39.531335Z",
     "iopub.status.busy": "2024-03-11T17:15:39.530488Z",
     "iopub.status.idle": "2024-03-11T17:15:39.538227Z",
     "shell.execute_reply": "2024-03-11T17:15:39.537205Z"
    },
    "papermill": {
     "duration": 0.210977,
     "end_time": "2024-03-11T17:15:39.541074",
     "exception": false,
     "start_time": "2024-03-11T17:15:39.330097",
     "status": "completed"
    },
    "tags": []
   },
   "outputs": [],
   "source": [
    "def gru(vocab_size,max_len,weights,Y_train_shape):\n",
    "    gru_model = Sequential()\n",
    "    gru_model.add(Embedding(input_dim = vocab_size,output_dim = 300,input_length  = max_len,weights = [weights],trainable = False))\n",
    "    gru_model.add(GRU(64, return_sequences=True))\n",
    "    gru_model.add(TimeDistributed(Dense(Y_train_shape, activation='softmax')))\n",
    "    gru_model.compile(loss='categorical_crossentropy',optimizer='adam',metrics=['acc',Precision(),Recall()])\n",
    "    return gru_model"
   ]
  },
  {
   "cell_type": "markdown",
   "id": "d8466690",
   "metadata": {
    "papermill": {
     "duration": 0.204355,
     "end_time": "2024-03-11T17:15:39.943550",
     "exception": false,
     "start_time": "2024-03-11T17:15:39.739195",
     "status": "completed"
    },
    "tags": []
   },
   "source": [
    "compiling "
   ]
  },
  {
   "cell_type": "code",
   "execution_count": 31,
   "id": "f5c87f9c",
   "metadata": {
    "execution": {
     "iopub.execute_input": "2024-03-11T17:15:40.373484Z",
     "iopub.status.busy": "2024-03-11T17:15:40.372983Z",
     "iopub.status.idle": "2024-03-11T17:15:40.968144Z",
     "shell.execute_reply": "2024-03-11T17:15:40.966510Z"
    },
    "papermill": {
     "duration": 0.822706,
     "end_time": "2024-03-11T17:15:40.971861",
     "exception": false,
     "start_time": "2024-03-11T17:15:40.149155",
     "status": "completed"
    },
    "tags": []
   },
   "outputs": [],
   "source": [
    "gru_model=gru(vocab_size,max_len,weights,Y_shape)"
   ]
  },
  {
   "cell_type": "code",
   "execution_count": null,
   "id": "377ad3dc",
   "metadata": {
    "execution": {
     "iopub.execute_input": "2024-03-11T16:45:04.930253Z",
     "iopub.status.busy": "2024-03-11T16:45:04.929684Z",
     "iopub.status.idle": "2024-03-11T16:45:04.947151Z",
     "shell.execute_reply": "2024-03-11T16:45:04.944967Z",
     "shell.execute_reply.started": "2024-03-11T16:45:04.930217Z"
    },
    "papermill": {
     "duration": 0.194105,
     "end_time": "2024-03-11T17:15:41.442982",
     "exception": false,
     "start_time": "2024-03-11T17:15:41.248877",
     "status": "completed"
    },
    "tags": []
   },
   "outputs": [],
   "source": []
  },
  {
   "cell_type": "code",
   "execution_count": 32,
   "id": "b3f1e49e",
   "metadata": {
    "execution": {
     "iopub.execute_input": "2024-03-11T17:15:41.841344Z",
     "iopub.status.busy": "2024-03-11T17:15:41.840893Z",
     "iopub.status.idle": "2024-03-11T17:15:41.846749Z",
     "shell.execute_reply": "2024-03-11T17:15:41.845289Z"
    },
    "papermill": {
     "duration": 0.20879,
     "end_time": "2024-03-11T17:15:41.849561",
     "exception": false,
     "start_time": "2024-03-11T17:15:41.640771",
     "status": "completed"
    },
    "tags": []
   },
   "outputs": [],
   "source": [
    "gru_f1_callback = F1ScoreCallback(val_data=(X_val, Y_val),data=(X_train, Y_train))"
   ]
  },
  {
   "cell_type": "code",
   "execution_count": 33,
   "id": "d675a602",
   "metadata": {
    "execution": {
     "iopub.execute_input": "2024-03-11T17:15:42.250851Z",
     "iopub.status.busy": "2024-03-11T17:15:42.250262Z",
     "iopub.status.idle": "2024-03-11T17:15:42.276944Z",
     "shell.execute_reply": "2024-03-11T17:15:42.276015Z"
    },
    "papermill": {
     "duration": 0.229009,
     "end_time": "2024-03-11T17:15:42.279423",
     "exception": false,
     "start_time": "2024-03-11T17:15:42.050414",
     "status": "completed"
    },
    "tags": []
   },
   "outputs": [
    {
     "name": "stdout",
     "output_type": "stream",
     "text": [
      "Model: \"sequential_2\"\n",
      "_________________________________________________________________\n",
      " Layer (type)                Output Shape              Param #   \n",
      "=================================================================\n",
      " embedding_2 (Embedding)     (None, 70, 300)           9066000   \n",
      "                                                                 \n",
      " gru (GRU)                   (None, 70, 64)            70272     \n",
      "                                                                 \n",
      " time_distributed_2 (TimeDi  (None, 70, 28)            1820      \n",
      " stributed)                                                      \n",
      "                                                                 \n",
      "=================================================================\n",
      "Total params: 9138092 (34.86 MB)\n",
      "Trainable params: 72092 (281.61 KB)\n",
      "Non-trainable params: 9066000 (34.58 MB)\n",
      "_________________________________________________________________\n"
     ]
    }
   ],
   "source": [
    "gru_model.summary()"
   ]
  },
  {
   "cell_type": "markdown",
   "id": "12a10fbd",
   "metadata": {
    "papermill": {
     "duration": 0.19725,
     "end_time": "2024-03-11T17:15:42.670861",
     "exception": false,
     "start_time": "2024-03-11T17:15:42.473611",
     "status": "completed"
    },
    "tags": []
   },
   "source": [
    "Fitting GRU"
   ]
  },
  {
   "cell_type": "code",
   "execution_count": 34,
   "id": "eba85482",
   "metadata": {
    "execution": {
     "iopub.execute_input": "2024-03-11T17:15:43.067000Z",
     "iopub.status.busy": "2024-03-11T17:15:43.066536Z",
     "iopub.status.idle": "2024-03-11T17:35:07.674337Z",
     "shell.execute_reply": "2024-03-11T17:35:07.673204Z"
    },
    "papermill": {
     "duration": 1164.81152,
     "end_time": "2024-03-11T17:35:07.677313",
     "exception": false,
     "start_time": "2024-03-11T17:15:42.865793",
     "status": "completed"
    },
    "tags": []
   },
   "outputs": [
    {
     "name": "stdout",
     "output_type": "stream",
     "text": [
      "Epoch 1/20\n",
      "45/45 [==============================] - 1s 18ms/step\n",
      "251/251 [==============================] - 5s 20ms/step\n",
      "Val F1 Score: 0.0835379530158361 - Train F1 Score: 0.08422877717749974\n",
      "63/63 [==============================] - 63s 964ms/step - loss: 1.6271 - acc: 0.8942 - precision_2: 0.9082 - recall_2: 0.4304 - val_loss: 0.5202 - val_acc: 0.9117 - val_precision_2: 0.9541 - val_recall_2: 0.8192\n",
      "Epoch 2/20\n",
      "45/45 [==============================] - 1s 18ms/step\n",
      "251/251 [==============================] - 5s 19ms/step\n",
      "Val F1 Score: 0.1364293600168782 - Train F1 Score: 0.13334238602959245\n",
      "63/63 [==============================] - 58s 926ms/step - loss: 0.4271 - acc: 0.9236 - precision_2: 0.9516 - recall_2: 0.8613 - val_loss: 0.3841 - val_acc: 0.9272 - val_precision_2: 0.9635 - val_recall_2: 0.8736\n",
      "Epoch 3/20\n",
      "45/45 [==============================] - 1s 17ms/step\n",
      "251/251 [==============================] - 4s 18ms/step\n",
      "Val F1 Score: 0.2224912842413474 - Train F1 Score: 0.21763538036589608\n",
      "63/63 [==============================] - 57s 911ms/step - loss: 0.3501 - acc: 0.9326 - precision_2: 0.9595 - recall_2: 0.8850 - val_loss: 0.3256 - val_acc: 0.9355 - val_precision_2: 0.9661 - val_recall_2: 0.8845\n",
      "Epoch 4/20\n",
      "45/45 [==============================] - 1s 18ms/step\n",
      "251/251 [==============================] - 4s 17ms/step\n",
      "Val F1 Score: 0.2581697363791807 - Train F1 Score: 0.25699205048124696\n",
      "63/63 [==============================] - 56s 902ms/step - loss: 0.3054 - acc: 0.9382 - precision_2: 0.9619 - recall_2: 0.8964 - val_loss: 0.2886 - val_acc: 0.9398 - val_precision_2: 0.9679 - val_recall_2: 0.9044\n",
      "Epoch 5/20\n",
      "45/45 [==============================] - 1s 17ms/step\n",
      "251/251 [==============================] - 4s 18ms/step\n",
      "Val F1 Score: 0.2908642189025702 - Train F1 Score: 0.2939063556757093\n",
      "63/63 [==============================] - 58s 930ms/step - loss: 0.2754 - acc: 0.9419 - precision_2: 0.9642 - recall_2: 0.9113 - val_loss: 0.2636 - val_acc: 0.9432 - val_precision_2: 0.9692 - val_recall_2: 0.9085\n",
      "Epoch 6/20\n",
      "45/45 [==============================] - 1s 19ms/step\n",
      "251/251 [==============================] - 5s 21ms/step\n",
      "Val F1 Score: 0.31931235189149204 - Train F1 Score: 0.31869923979807063\n",
      "63/63 [==============================] - 60s 959ms/step - loss: 0.2539 - acc: 0.9448 - precision_2: 0.9657 - recall_2: 0.9148 - val_loss: 0.2455 - val_acc: 0.9456 - val_precision_2: 0.9699 - val_recall_2: 0.9123\n",
      "Epoch 7/20\n",
      "45/45 [==============================] - 1s 19ms/step\n",
      "251/251 [==============================] - 5s 21ms/step\n",
      "Val F1 Score: 0.34085594236360134 - Train F1 Score: 0.3415036316478371\n",
      "63/63 [==============================] - 59s 942ms/step - loss: 0.2374 - acc: 0.9469 - precision_2: 0.9668 - recall_2: 0.9180 - val_loss: 0.2321 - val_acc: 0.9476 - val_precision_2: 0.9706 - val_recall_2: 0.9150\n",
      "Epoch 8/20\n",
      "45/45 [==============================] - 1s 18ms/step\n",
      "251/251 [==============================] - 4s 17ms/step\n",
      "Val F1 Score: 0.36332284546781757 - Train F1 Score: 0.365548971220291\n",
      "63/63 [==============================] - 57s 916ms/step - loss: 0.2244 - acc: 0.9489 - precision_2: 0.9677 - recall_2: 0.9208 - val_loss: 0.2215 - val_acc: 0.9498 - val_precision_2: 0.9718 - val_recall_2: 0.9166\n",
      "Epoch 9/20\n",
      "45/45 [==============================] - 1s 16ms/step\n",
      "251/251 [==============================] - 4s 17ms/step\n",
      "Val F1 Score: 0.3716384788704798 - Train F1 Score: 0.37900826583620584\n",
      "63/63 [==============================] - 55s 888ms/step - loss: 0.2129 - acc: 0.9509 - precision_2: 0.9686 - recall_2: 0.9231 - val_loss: 0.2119 - val_acc: 0.9504 - val_precision_2: 0.9709 - val_recall_2: 0.9198\n",
      "Epoch 10/20\n",
      "45/45 [==============================] - 1s 18ms/step\n",
      "251/251 [==============================] - 4s 17ms/step\n",
      "Val F1 Score: 0.380651133346627 - Train F1 Score: 0.3920666042331546\n",
      "63/63 [==============================] - 57s 924ms/step - loss: 0.2032 - acc: 0.9526 - precision_2: 0.9695 - recall_2: 0.9267 - val_loss: 0.2033 - val_acc: 0.9518 - val_precision_2: 0.9712 - val_recall_2: 0.9373\n",
      "Epoch 11/20\n",
      "45/45 [==============================] - 1s 21ms/step\n",
      "251/251 [==============================] - 5s 19ms/step\n",
      "Val F1 Score: 0.39592041577526565 - Train F1 Score: 0.41333503677595207\n",
      "63/63 [==============================] - 58s 929ms/step - loss: 0.1946 - acc: 0.9541 - precision_2: 0.9706 - recall_2: 0.9413 - val_loss: 0.1970 - val_acc: 0.9529 - val_precision_2: 0.9712 - val_recall_2: 0.9389\n",
      "Epoch 12/20\n",
      "45/45 [==============================] - 1s 22ms/step\n",
      "251/251 [==============================] - 5s 20ms/step\n",
      "Val F1 Score: 0.40927917205980247 - Train F1 Score: 0.4292002454408429\n",
      "63/63 [==============================] - 59s 954ms/step - loss: 0.1874 - acc: 0.9555 - precision_2: 0.9711 - recall_2: 0.9432 - val_loss: 0.1917 - val_acc: 0.9538 - val_precision_2: 0.9722 - val_recall_2: 0.9405\n",
      "Epoch 13/20\n",
      "45/45 [==============================] - 1s 18ms/step\n",
      "251/251 [==============================] - 5s 18ms/step\n",
      "Val F1 Score: 0.4178968952731153 - Train F1 Score: 0.43754182591395174\n",
      "63/63 [==============================] - 56s 907ms/step - loss: 0.1812 - acc: 0.9566 - precision_2: 0.9718 - recall_2: 0.9451 - val_loss: 0.1870 - val_acc: 0.9546 - val_precision_2: 0.9713 - val_recall_2: 0.9420\n",
      "Epoch 14/20\n",
      "45/45 [==============================] - 1s 18ms/step\n",
      "251/251 [==============================] - 5s 18ms/step\n",
      "Val F1 Score: 0.4300628452946937 - Train F1 Score: 0.45133873573079336\n",
      "63/63 [==============================] - 57s 915ms/step - loss: 0.1754 - acc: 0.9576 - precision_2: 0.9722 - recall_2: 0.9467 - val_loss: 0.1833 - val_acc: 0.9553 - val_precision_2: 0.9724 - val_recall_2: 0.9429\n",
      "Epoch 15/20\n",
      "45/45 [==============================] - 1s 17ms/step\n",
      "251/251 [==============================] - 5s 18ms/step\n",
      "Val F1 Score: 0.4325005020526055 - Train F1 Score: 0.4633259225889058\n",
      "63/63 [==============================] - 57s 922ms/step - loss: 0.1705 - acc: 0.9586 - precision_2: 0.9728 - recall_2: 0.9481 - val_loss: 0.1804 - val_acc: 0.9557 - val_precision_2: 0.9714 - val_recall_2: 0.9446\n",
      "Epoch 16/20\n",
      "45/45 [==============================] - 1s 19ms/step\n",
      "251/251 [==============================] - 5s 19ms/step\n",
      "Val F1 Score: 0.44195825121800486 - Train F1 Score: 0.478135012123023\n",
      "63/63 [==============================] - 58s 926ms/step - loss: 0.1660 - acc: 0.9594 - precision_2: 0.9731 - recall_2: 0.9496 - val_loss: 0.1776 - val_acc: 0.9562 - val_precision_2: 0.9712 - val_recall_2: 0.9460\n",
      "Epoch 17/20\n",
      "45/45 [==============================] - 1s 19ms/step\n",
      "251/251 [==============================] - 5s 19ms/step\n",
      "Val F1 Score: 0.44720938720313236 - Train F1 Score: 0.49185227375212515\n",
      "63/63 [==============================] - 59s 942ms/step - loss: 0.1620 - acc: 0.9604 - precision_2: 0.9735 - recall_2: 0.9506 - val_loss: 0.1754 - val_acc: 0.9564 - val_precision_2: 0.9715 - val_recall_2: 0.9463\n",
      "Epoch 18/20\n",
      "45/45 [==============================] - 1s 17ms/step\n",
      "251/251 [==============================] - 4s 18ms/step\n",
      "Val F1 Score: 0.45708815412115306 - Train F1 Score: 0.5049802453633817\n",
      "63/63 [==============================] - 58s 926ms/step - loss: 0.1583 - acc: 0.9612 - precision_2: 0.9739 - recall_2: 0.9516 - val_loss: 0.1738 - val_acc: 0.9570 - val_precision_2: 0.9712 - val_recall_2: 0.9475\n",
      "Epoch 19/20\n",
      "45/45 [==============================] - 1s 16ms/step\n",
      "251/251 [==============================] - 4s 17ms/step\n",
      "Val F1 Score: 0.4667803409696573 - Train F1 Score: 0.5207733368662245\n",
      "63/63 [==============================] - 56s 896ms/step - loss: 0.1548 - acc: 0.9620 - precision_2: 0.9741 - recall_2: 0.9528 - val_loss: 0.1732 - val_acc: 0.9572 - val_precision_2: 0.9721 - val_recall_2: 0.9467\n",
      "Epoch 20/20\n",
      "45/45 [==============================] - 1s 17ms/step\n",
      "251/251 [==============================] - 4s 17ms/step\n",
      "Val F1 Score: 0.47425899873815747 - Train F1 Score: 0.5305689836706299\n",
      "63/63 [==============================] - 56s 900ms/step - loss: 0.1519 - acc: 0.9626 - precision_2: 0.9745 - recall_2: 0.9536 - val_loss: 0.1711 - val_acc: 0.9576 - val_precision_2: 0.9713 - val_recall_2: 0.9479\n"
     ]
    }
   ],
   "source": [
    "gru_training = gru_model.fit(X_train, Y_train, batch_size=128, epochs=20, validation_data=(X_val, Y_val), callbacks=[gru_f1_callback])"
   ]
  },
  {
   "cell_type": "markdown",
   "id": "101ad1e8",
   "metadata": {
    "papermill": {
     "duration": 0.509623,
     "end_time": "2024-03-11T17:35:08.786963",
     "exception": false,
     "start_time": "2024-03-11T17:35:08.277340",
     "status": "completed"
    },
    "tags": []
   },
   "source": [
    "Plotting Graph"
   ]
  },
  {
   "cell_type": "code",
   "execution_count": 35,
   "id": "d06a6832",
   "metadata": {
    "execution": {
     "iopub.execute_input": "2024-03-11T17:35:09.798774Z",
     "iopub.status.busy": "2024-03-11T17:35:09.798124Z",
     "iopub.status.idle": "2024-03-11T17:35:10.603738Z",
     "shell.execute_reply": "2024-03-11T17:35:10.602496Z"
    },
    "papermill": {
     "duration": 1.315301,
     "end_time": "2024-03-11T17:35:10.606823",
     "exception": false,
     "start_time": "2024-03-11T17:35:09.291522",
     "status": "completed"
    },
    "tags": []
   },
   "outputs": [
    {
     "data": {
      "image/png": "[encoded data removed]",
      "text/plain": [
       "<Figure size 1600x500 with 2 Axes>"
      ]
     },
     "metadata": {},
     "output_type": "display_data"
    }
   ],
   "source": [
    "draw_loss_graph(gru_training,model_name, gru_f1_callback.train_f1_scores, gru_f1_callback.val_f1_scores)\n",
    "save_model(gru_model,model_name,Embedding_name,Dataset)"
   ]
  },
  {
   "cell_type": "markdown",
   "id": "e7047227",
   "metadata": {
    "papermill": {
     "duration": 0.582527,
     "end_time": "2024-03-11T17:35:11.701567",
     "exception": false,
     "start_time": "2024-03-11T17:35:11.119040",
     "status": "completed"
    },
    "tags": []
   },
   "source": [
    "### Testing"
   ]
  },
  {
   "cell_type": "code",
   "execution_count": 36,
   "id": "367fcd88",
   "metadata": {
    "execution": {
     "iopub.execute_input": "2024-03-11T17:35:12.711833Z",
     "iopub.status.busy": "2024-03-11T17:35:12.710574Z",
     "iopub.status.idle": "2024-03-11T17:35:13.685928Z",
     "shell.execute_reply": "2024-03-11T17:35:13.684469Z"
    },
    "papermill": {
     "duration": 1.480092,
     "end_time": "2024-03-11T17:35:13.688659",
     "exception": false,
     "start_time": "2024-03-11T17:35:12.208567",
     "status": "completed"
    },
    "tags": []
   },
   "outputs": [],
   "source": [
    "params = load_model(model_name,Embedding_name,Dataset)\n",
    "loaded_model=gru(vocab_size,max_len,weights,Y_shape)\n",
    "loaded_model.set_weights(params)"
   ]
  },
  {
   "cell_type": "markdown",
   "id": "52972bc5",
   "metadata": {
    "papermill": {
     "duration": 0.505781,
     "end_time": "2024-03-11T17:35:14.700558",
     "exception": false,
     "start_time": "2024-03-11T17:35:14.194777",
     "status": "completed"
    },
    "tags": []
   },
   "source": [
    "Testing Accuracy"
   ]
  },
  {
   "cell_type": "code",
   "execution_count": 37,
   "id": "cb7a6f14",
   "metadata": {
    "execution": {
     "iopub.execute_input": "2024-03-11T17:35:15.796016Z",
     "iopub.status.busy": "2024-03-11T17:35:15.795559Z",
     "iopub.status.idle": "2024-03-11T17:35:17.458476Z",
     "shell.execute_reply": "2024-03-11T17:35:17.456765Z"
    },
    "papermill": {
     "duration": 2.253013,
     "end_time": "2024-03-11T17:35:17.461431",
     "exception": false,
     "start_time": "2024-03-11T17:35:15.208418",
     "status": "completed"
    },
    "tags": []
   },
   "outputs": [
    {
     "name": "stdout",
     "output_type": "stream",
     "text": [
      "30/30 [==============================] - 2s 19ms/step - loss: 0.1976 - acc: 0.9515 - precision_3: 0.9663 - recall_3: 0.9416\n",
      "0.9515429735183716\n"
     ]
    }
   ],
   "source": [
    "accuracy = loaded_model.evaluate(X_test, Y_test, verbose = 1)\n",
    "print(accuracy[1])"
   ]
  },
  {
   "cell_type": "markdown",
   "id": "31ef35bc",
   "metadata": {
    "papermill": {
     "duration": 0.515183,
     "end_time": "2024-03-11T17:35:18.489873",
     "exception": false,
     "start_time": "2024-03-11T17:35:17.974690",
     "status": "completed"
    },
    "tags": []
   },
   "source": [
    "Testing F1 Score"
   ]
  },
  {
   "cell_type": "code",
   "execution_count": 38,
   "id": "d742d36a",
   "metadata": {
    "execution": {
     "iopub.execute_input": "2024-03-11T17:35:19.510156Z",
     "iopub.status.busy": "2024-03-11T17:35:19.509663Z",
     "iopub.status.idle": "2024-03-11T17:35:24.991072Z",
     "shell.execute_reply": "2024-03-11T17:35:24.989639Z"
    },
    "papermill": {
     "duration": 5.997683,
     "end_time": "2024-03-11T17:35:24.994489",
     "exception": false,
     "start_time": "2024-03-11T17:35:18.996806",
     "status": "completed"
    },
    "tags": []
   },
   "outputs": [
    {
     "name": "stdout",
     "output_type": "stream",
     "text": [
      "30/30 [==============================] - 1s 17ms/step\n",
      "Test F1 Score: 0.45864538136044863\n"
     ]
    }
   ],
   "source": [
    "Y_pred = loaded_model.predict(X_test)\n",
    "real = get_real(Y_test)\n",
    "pred = get_pred(Y_pred)\n",
    "\n",
    "true_labels_flat = [label for sublist in real for label in sublist]\n",
    "predicted_labels_flat = [label for sublist in pred for label in sublist]\n",
    "\n",
    "# Compute F1 score\n",
    "f1 = f1_score(true_labels_flat, predicted_labels_flat, average='macro')\n",
    "\n",
    "print(\"Test F1 Score:\", f1)"
   ]
  },
  {
   "cell_type": "markdown",
   "id": "d13482f6",
   "metadata": {
    "papermill": {
     "duration": 0.604639,
     "end_time": "2024-03-11T17:35:26.121869",
     "exception": false,
     "start_time": "2024-03-11T17:35:25.517230",
     "status": "completed"
    },
    "tags": []
   },
   "source": [
    "## LSTM"
   ]
  },
  {
   "cell_type": "code",
   "execution_count": 39,
   "id": "ae4bd9c0",
   "metadata": {
    "execution": {
     "iopub.execute_input": "2024-03-11T17:35:27.207432Z",
     "iopub.status.busy": "2024-03-11T17:35:27.206755Z",
     "iopub.status.idle": "2024-03-11T17:35:27.216700Z",
     "shell.execute_reply": "2024-03-11T17:35:27.213272Z"
    },
    "papermill": {
     "duration": 0.574446,
     "end_time": "2024-03-11T17:35:27.220575",
     "exception": false,
     "start_time": "2024-03-11T17:35:26.646129",
     "status": "completed"
    },
    "tags": []
   },
   "outputs": [],
   "source": [
    "model_name=\"LSTM\""
   ]
  },
  {
   "cell_type": "markdown",
   "id": "1c0a877a",
   "metadata": {
    "papermill": {
     "duration": 0.515276,
     "end_time": "2024-03-11T17:35:28.282618",
     "exception": false,
     "start_time": "2024-03-11T17:35:27.767342",
     "status": "completed"
    },
    "tags": []
   },
   "source": [
    "### Training"
   ]
  },
  {
   "cell_type": "code",
   "execution_count": 40,
   "id": "a87aac2e",
   "metadata": {
    "execution": {
     "iopub.execute_input": "2024-03-11T17:35:29.412487Z",
     "iopub.status.busy": "2024-03-11T17:35:29.411895Z",
     "iopub.status.idle": "2024-03-11T17:35:29.420592Z",
     "shell.execute_reply": "2024-03-11T17:35:29.419267Z"
    },
    "papermill": {
     "duration": 0.534534,
     "end_time": "2024-03-11T17:35:29.422926",
     "exception": false,
     "start_time": "2024-03-11T17:35:28.888392",
     "status": "completed"
    },
    "tags": []
   },
   "outputs": [],
   "source": [
    "def lstm(vocab_size,max_len,weights,Y_shape):\n",
    "    lstm_model = Sequential()\n",
    "    lstm_model.add(Embedding(input_dim = vocab_size,output_dim = 300,input_length  = max_len,weights = [weights],trainable = False))\n",
    "    lstm_model.add(LSTM(128, return_sequences=True))\n",
    "    lstm_model.add(TimeDistributed(Dense(Y_train.shape[2], activation='softmax')))# Lstm\n",
    "    lstm_model.compile(loss='categorical_crossentropy',optimizer='adam',metrics=['acc',Precision(),Recall()])    \n",
    "    return lstm_model"
   ]
  },
  {
   "cell_type": "markdown",
   "id": "57ae8e2d",
   "metadata": {
    "papermill": {
     "duration": 0.510809,
     "end_time": "2024-03-11T17:35:30.447656",
     "exception": false,
     "start_time": "2024-03-11T17:35:29.936847",
     "status": "completed"
    },
    "tags": []
   },
   "source": [
    "Compiling LSTM"
   ]
  },
  {
   "cell_type": "code",
   "execution_count": 41,
   "id": "e520952d",
   "metadata": {
    "execution": {
     "iopub.execute_input": "2024-03-11T17:35:31.484269Z",
     "iopub.status.busy": "2024-03-11T17:35:31.483355Z",
     "iopub.status.idle": "2024-03-11T17:35:32.053017Z",
     "shell.execute_reply": "2024-03-11T17:35:32.051692Z"
    },
    "papermill": {
     "duration": 1.090159,
     "end_time": "2024-03-11T17:35:32.056638",
     "exception": false,
     "start_time": "2024-03-11T17:35:30.966479",
     "status": "completed"
    },
    "tags": []
   },
   "outputs": [],
   "source": [
    "lstm_model=lstm(vocab_size,max_len,weights,Y_shape)"
   ]
  },
  {
   "cell_type": "code",
   "execution_count": null,
   "id": "ab153186",
   "metadata": {
    "papermill": {
     "duration": 0.533266,
     "end_time": "2024-03-11T17:35:33.217577",
     "exception": false,
     "start_time": "2024-03-11T17:35:32.684311",
     "status": "completed"
    },
    "tags": []
   },
   "outputs": [],
   "source": []
  },
  {
   "cell_type": "code",
   "execution_count": 42,
   "id": "3dc05a4f",
   "metadata": {
    "execution": {
     "iopub.execute_input": "2024-03-11T17:35:34.248781Z",
     "iopub.status.busy": "2024-03-11T17:35:34.248354Z",
     "iopub.status.idle": "2024-03-11T17:35:34.254476Z",
     "shell.execute_reply": "2024-03-11T17:35:34.253088Z"
    },
    "papermill": {
     "duration": 0.526164,
     "end_time": "2024-03-11T17:35:34.257189",
     "exception": false,
     "start_time": "2024-03-11T17:35:33.731025",
     "status": "completed"
    },
    "tags": []
   },
   "outputs": [],
   "source": [
    "LSTM_f1_callback=F1ScoreCallback(val_data=(X_val, Y_val),data=(X_train, Y_train))"
   ]
  },
  {
   "cell_type": "code",
   "execution_count": 43,
   "id": "3c4b8a5a",
   "metadata": {
    "execution": {
     "iopub.execute_input": "2024-03-11T17:35:35.383225Z",
     "iopub.status.busy": "2024-03-11T17:35:35.382760Z",
     "iopub.status.idle": "2024-03-11T17:35:35.408550Z",
     "shell.execute_reply": "2024-03-11T17:35:35.406913Z"
    },
    "papermill": {
     "duration": 0.638531,
     "end_time": "2024-03-11T17:35:35.415246",
     "exception": false,
     "start_time": "2024-03-11T17:35:34.776715",
     "status": "completed"
    },
    "tags": []
   },
   "outputs": [
    {
     "name": "stdout",
     "output_type": "stream",
     "text": [
      "Model: \"sequential_4\"\n",
      "_________________________________________________________________\n",
      " Layer (type)                Output Shape              Param #   \n",
      "=================================================================\n",
      " embedding_4 (Embedding)     (None, 70, 300)           9066000   \n",
      "                                                                 \n",
      " lstm (LSTM)                 (None, 70, 128)           219648    \n",
      "                                                                 \n",
      " time_distributed_4 (TimeDi  (None, 70, 28)            3612      \n",
      " stributed)                                                      \n",
      "                                                                 \n",
      "=================================================================\n",
      "Total params: 9289260 (35.44 MB)\n",
      "Trainable params: 223260 (872.11 KB)\n",
      "Non-trainable params: 9066000 (34.58 MB)\n",
      "_________________________________________________________________\n"
     ]
    }
   ],
   "source": [
    "lstm_model.summary()"
   ]
  },
  {
   "cell_type": "markdown",
   "id": "29f7b3a2",
   "metadata": {
    "papermill": {
     "duration": 0.517556,
     "end_time": "2024-03-11T17:35:36.447373",
     "exception": false,
     "start_time": "2024-03-11T17:35:35.929817",
     "status": "completed"
    },
    "tags": []
   },
   "source": [
    "Fitting LSTM"
   ]
  },
  {
   "cell_type": "code",
   "execution_count": 44,
   "id": "9dbf56fd",
   "metadata": {
    "execution": {
     "iopub.execute_input": "2024-03-11T17:35:37.510277Z",
     "iopub.status.busy": "2024-03-11T17:35:37.509799Z",
     "iopub.status.idle": "2024-03-11T18:00:02.020355Z",
     "shell.execute_reply": "2024-03-11T18:00:02.018791Z"
    },
    "papermill": {
     "duration": 1465.058032,
     "end_time": "2024-03-11T18:00:02.023441",
     "exception": false,
     "start_time": "2024-03-11T17:35:36.965409",
     "status": "completed"
    },
    "tags": []
   },
   "outputs": [
    {
     "name": "stdout",
     "output_type": "stream",
     "text": [
      "Epoch 1/20\n",
      "45/45 [==============================] - 3s 46ms/step\n",
      "251/251 [==============================] - 11s 45ms/step\n",
      "Val F1 Score: 0.08321210271175092 - Train F1 Score: 0.08231495380738599\n",
      "63/63 [==============================] - 77s 1s/step - loss: 1.2821 - acc: 0.8065 - precision_4: 0.9035 - recall_4: 0.5871 - val_loss: 0.5503 - val_acc: 0.9164 - val_precision_4: 0.9449 - val_recall_4: 0.8205\n",
      "Epoch 2/20\n",
      "45/45 [==============================] - 2s 44ms/step\n",
      "251/251 [==============================] - 10s 41ms/step\n",
      "Val F1 Score: 0.12924430570678874 - Train F1 Score: 0.1259768040185483\n",
      "63/63 [==============================] - 80s 1s/step - loss: 0.4754 - acc: 0.9223 - precision_4: 0.9485 - recall_4: 0.8461 - val_loss: 0.4230 - val_acc: 0.9272 - val_precision_4: 0.9604 - val_recall_4: 0.8598\n",
      "Epoch 3/20\n",
      "45/45 [==============================] - 2s 38ms/step\n",
      "251/251 [==============================] - 10s 39ms/step\n",
      "Val F1 Score: 0.19494831454432537 - Train F1 Score: 0.19627544889811907\n",
      "63/63 [==============================] - 69s 1s/step - loss: 0.3867 - acc: 0.9317 - precision_4: 0.9574 - recall_4: 0.8727 - val_loss: 0.3541 - val_acc: 0.9356 - val_precision_4: 0.9668 - val_recall_4: 0.8697\n",
      "Epoch 4/20\n",
      "45/45 [==============================] - 2s 40ms/step\n",
      "251/251 [==============================] - 10s 41ms/step\n",
      "Val F1 Score: 0.2590582204622393 - Train F1 Score: 0.26331699809944303\n",
      "63/63 [==============================] - 70s 1s/step - loss: 0.3293 - acc: 0.9387 - precision_4: 0.9615 - recall_4: 0.8878 - val_loss: 0.3059 - val_acc: 0.9410 - val_precision_4: 0.9663 - val_recall_4: 0.8933\n",
      "Epoch 5/20\n",
      "45/45 [==============================] - 2s 45ms/step\n",
      "251/251 [==============================] - 11s 42ms/step\n",
      "Val F1 Score: 0.3064034127481916 - Train F1 Score: 0.3074188935135484\n",
      "63/63 [==============================] - 71s 1s/step - loss: 0.2912 - acc: 0.9435 - precision_4: 0.9639 - recall_4: 0.9000 - val_loss: 0.2761 - val_acc: 0.9452 - val_precision_4: 0.9686 - val_recall_4: 0.8978\n",
      "Epoch 6/20\n",
      "45/45 [==============================] - 2s 40ms/step\n",
      "251/251 [==============================] - 12s 49ms/step\n",
      "Val F1 Score: 0.3369482375103505 - Train F1 Score: 0.3368644547499686\n",
      "63/63 [==============================] - 80s 1s/step - loss: 0.2652 - acc: 0.9466 - precision_4: 0.9655 - recall_4: 0.9039 - val_loss: 0.2562 - val_acc: 0.9476 - val_precision_4: 0.9697 - val_recall_4: 0.9006\n",
      "Epoch 7/20\n",
      "45/45 [==============================] - 2s 38ms/step\n",
      "251/251 [==============================] - 10s 39ms/step\n",
      "Val F1 Score: 0.36297999434491585 - Train F1 Score: 0.3644648277313814\n",
      "63/63 [==============================] - 69s 1s/step - loss: 0.2453 - acc: 0.9492 - precision_4: 0.9669 - recall_4: 0.9110 - val_loss: 0.2399 - val_acc: 0.9499 - val_precision_4: 0.9713 - val_recall_4: 0.9168\n",
      "Epoch 8/20\n",
      "45/45 [==============================] - 2s 37ms/step\n",
      "251/251 [==============================] - 10s 40ms/step\n",
      "Val F1 Score: 0.38538792300139985 - Train F1 Score: 0.3945029348438015\n",
      "63/63 [==============================] - 70s 1s/step - loss: 0.2292 - acc: 0.9516 - precision_4: 0.9683 - recall_4: 0.9246 - val_loss: 0.2308 - val_acc: 0.9509 - val_precision_4: 0.9724 - val_recall_4: 0.9161\n",
      "Epoch 9/20\n",
      "45/45 [==============================] - 2s 40ms/step\n",
      "251/251 [==============================] - 10s 40ms/step\n",
      "Val F1 Score: 0.3938885839101891 - Train F1 Score: 0.4074076873174674\n",
      "63/63 [==============================] - 71s 1s/step - loss: 0.2161 - acc: 0.9535 - precision_4: 0.9692 - recall_4: 0.9273 - val_loss: 0.2168 - val_acc: 0.9524 - val_precision_4: 0.9713 - val_recall_4: 0.9213\n",
      "Epoch 10/20\n",
      "45/45 [==============================] - 2s 41ms/step\n",
      "251/251 [==============================] - 10s 42ms/step\n",
      "Val F1 Score: 0.40584599704595725 - Train F1 Score: 0.41986542273180577\n",
      "63/63 [==============================] - 72s 1s/step - loss: 0.2046 - acc: 0.9552 - precision_4: 0.9702 - recall_4: 0.9295 - val_loss: 0.2082 - val_acc: 0.9541 - val_precision_4: 0.9705 - val_recall_4: 0.9248\n",
      "Epoch 11/20\n",
      "45/45 [==============================] - 2s 40ms/step\n",
      "251/251 [==============================] - 10s 39ms/step\n",
      "Val F1 Score: 0.42384480231624144 - Train F1 Score: 0.44809606638041943\n",
      "63/63 [==============================] - 69s 1s/step - loss: 0.1955 - acc: 0.9567 - precision_4: 0.9707 - recall_4: 0.9314 - val_loss: 0.2014 - val_acc: 0.9545 - val_precision_4: 0.9708 - val_recall_4: 0.9260\n",
      "Epoch 12/20\n",
      "45/45 [==============================] - 2s 39ms/step\n",
      "251/251 [==============================] - 10s 40ms/step\n",
      "Val F1 Score: 0.4291712336659636 - Train F1 Score: 0.45624535310065334\n",
      "63/63 [==============================] - 70s 1s/step - loss: 0.1873 - acc: 0.9581 - precision_4: 0.9715 - recall_4: 0.9333 - val_loss: 0.1947 - val_acc: 0.9555 - val_precision_4: 0.9696 - val_recall_4: 0.9303\n",
      "Epoch 13/20\n",
      "45/45 [==============================] - 2s 47ms/step\n",
      "251/251 [==============================] - 11s 43ms/step\n",
      "Val F1 Score: 0.4401742063945736 - Train F1 Score: 0.46742143714376727\n",
      "63/63 [==============================] - 72s 1s/step - loss: 0.1806 - acc: 0.9590 - precision_4: 0.9718 - recall_4: 0.9347 - val_loss: 0.1912 - val_acc: 0.9559 - val_precision_4: 0.9695 - val_recall_4: 0.9307\n",
      "Epoch 14/20\n",
      "45/45 [==============================] - 2s 41ms/step\n",
      "251/251 [==============================] - 11s 42ms/step\n",
      "Val F1 Score: 0.4471274455615388 - Train F1 Score: 0.4764934039164747\n",
      "63/63 [==============================] - 71s 1s/step - loss: 0.1731 - acc: 0.9603 - precision_4: 0.9726 - recall_4: 0.9365 - val_loss: 0.1863 - val_acc: 0.9562 - val_precision_4: 0.9683 - val_recall_4: 0.9322\n",
      "Epoch 15/20\n",
      "45/45 [==============================] - 2s 38ms/step\n",
      "251/251 [==============================] - 10s 39ms/step\n",
      "Val F1 Score: 0.4679347570177449 - Train F1 Score: 0.5054641955548358\n",
      "63/63 [==============================] - 70s 1s/step - loss: 0.1667 - acc: 0.9614 - precision_4: 0.9730 - recall_4: 0.9378 - val_loss: 0.1835 - val_acc: 0.9571 - val_precision_4: 0.9698 - val_recall_4: 0.9323\n",
      "Epoch 16/20\n",
      "45/45 [==============================] - 2s 40ms/step\n",
      "251/251 [==============================] - 10s 39ms/step\n",
      "Val F1 Score: 0.4774558801667617 - Train F1 Score: 0.5296417633884404\n",
      "63/63 [==============================] - 69s 1s/step - loss: 0.1605 - acc: 0.9626 - precision_4: 0.9737 - recall_4: 0.9395 - val_loss: 0.1811 - val_acc: 0.9571 - val_precision_4: 0.9702 - val_recall_4: 0.9323\n",
      "Epoch 17/20\n",
      "45/45 [==============================] - 2s 39ms/step\n",
      "251/251 [==============================] - 10s 40ms/step\n",
      "Val F1 Score: 0.48419872141494263 - Train F1 Score: 0.5397224499427268\n",
      "63/63 [==============================] - 69s 1s/step - loss: 0.1551 - acc: 0.9634 - precision_4: 0.9742 - recall_4: 0.9434 - val_loss: 0.1783 - val_acc: 0.9571 - val_precision_4: 0.9693 - val_recall_4: 0.9474\n",
      "Epoch 18/20\n",
      "45/45 [==============================] - 2s 45ms/step\n",
      "251/251 [==============================] - 10s 39ms/step\n",
      "Val F1 Score: 0.4763841957847979 - Train F1 Score: 0.5440253417180317\n",
      "63/63 [==============================] - 70s 1s/step - loss: 0.1498 - acc: 0.9644 - precision_4: 0.9750 - recall_4: 0.9559 - val_loss: 0.1789 - val_acc: 0.9562 - val_precision_4: 0.9679 - val_recall_4: 0.9479\n",
      "Epoch 19/20\n",
      "45/45 [==============================] - 2s 39ms/step\n",
      "251/251 [==============================] - 10s 38ms/step\n",
      "Val F1 Score: 0.48611551354601357 - Train F1 Score: 0.5650006274615044\n",
      "63/63 [==============================] - 69s 1s/step - loss: 0.1451 - acc: 0.9653 - precision_4: 0.9756 - recall_4: 0.9571 - val_loss: 0.1742 - val_acc: 0.9568 - val_precision_4: 0.9676 - val_recall_4: 0.9487\n",
      "Epoch 20/20\n",
      "45/45 [==============================] - 2s 39ms/step\n",
      "251/251 [==============================] - 10s 38ms/step\n",
      "Val F1 Score: 0.4986272590248172 - Train F1 Score: 0.5802609814170531\n",
      "63/63 [==============================] - 69s 1s/step - loss: 0.1406 - acc: 0.9660 - precision_4: 0.9759 - recall_4: 0.9582 - val_loss: 0.1722 - val_acc: 0.9579 - val_precision_4: 0.9682 - val_recall_4: 0.9499\n"
     ]
    }
   ],
   "source": [
    "lstm_training = lstm_model.fit(X_train, Y_train, batch_size=128, epochs=20, validation_data=(X_val, Y_val), callbacks=[LSTM_f1_callback])"
   ]
  },
  {
   "cell_type": "markdown",
   "id": "1a02617f",
   "metadata": {
    "papermill": {
     "duration": 1.032676,
     "end_time": "2024-03-11T18:00:03.997931",
     "exception": false,
     "start_time": "2024-03-11T18:00:02.965255",
     "status": "completed"
    },
    "tags": []
   },
   "source": [
    "Plotting Graph"
   ]
  },
  {
   "cell_type": "code",
   "execution_count": 45,
   "id": "9ceca84f",
   "metadata": {
    "execution": {
     "iopub.execute_input": "2024-03-11T18:00:05.875125Z",
     "iopub.status.busy": "2024-03-11T18:00:05.874156Z",
     "iopub.status.idle": "2024-03-11T18:00:06.767384Z",
     "shell.execute_reply": "2024-03-11T18:00:06.766123Z"
    },
    "papermill": {
     "duration": 1.833996,
     "end_time": "2024-03-11T18:00:06.770425",
     "exception": false,
     "start_time": "2024-03-11T18:00:04.936429",
     "status": "completed"
    },
    "tags": []
   },
   "outputs": [
    {
     "data": {
      "image/png": "[encoded data removed]",
      "text/plain": [
       "<Figure size 1600x500 with 2 Axes>"
      ]
     },
     "metadata": {},
     "output_type": "display_data"
    }
   ],
   "source": [
    "draw_loss_graph(lstm_training, \"LSTM Model\", LSTM_f1_callback.train_f1_scores, LSTM_f1_callback.val_f1_scores)\n",
    "save_model(lstm_model, model_name, Embedding_name, Dataset)\n",
    "# loaded_model = load_model(model_name,Embedding_name,Dataset)"
   ]
  },
  {
   "cell_type": "markdown",
   "id": "edac9ccc",
   "metadata": {
    "papermill": {
     "duration": 1.031048,
     "end_time": "2024-03-11T18:00:08.773409",
     "exception": false,
     "start_time": "2024-03-11T18:00:07.742361",
     "status": "completed"
    },
    "tags": []
   },
   "source": [
    "### Testing"
   ]
  },
  {
   "cell_type": "code",
   "execution_count": 46,
   "id": "f702deea",
   "metadata": {
    "execution": {
     "iopub.execute_input": "2024-03-11T18:00:10.656936Z",
     "iopub.status.busy": "2024-03-11T18:00:10.655839Z",
     "iopub.status.idle": "2024-03-11T18:00:11.300673Z",
     "shell.execute_reply": "2024-03-11T18:00:11.299675Z"
    },
    "papermill": {
     "duration": 1.589485,
     "end_time": "2024-03-11T18:00:11.303350",
     "exception": false,
     "start_time": "2024-03-11T18:00:09.713865",
     "status": "completed"
    },
    "tags": []
   },
   "outputs": [],
   "source": [
    "params = load_model(model_name,Embedding_name,Dataset)\n",
    "loaded_model=lstm(vocab_size,max_len,weights,Y_shape)\n",
    "loaded_model.set_weights(params)"
   ]
  },
  {
   "cell_type": "markdown",
   "id": "4beae34e",
   "metadata": {
    "papermill": {
     "duration": 0.936779,
     "end_time": "2024-03-11T18:00:13.264246",
     "exception": false,
     "start_time": "2024-03-11T18:00:12.327467",
     "status": "completed"
    },
    "tags": []
   },
   "source": [
    "Testing accuracy"
   ]
  },
  {
   "cell_type": "code",
   "execution_count": 47,
   "id": "40b649ee",
   "metadata": {
    "execution": {
     "iopub.execute_input": "2024-03-11T18:00:15.236397Z",
     "iopub.status.busy": "2024-03-11T18:00:15.235630Z",
     "iopub.status.idle": "2024-03-11T18:00:19.561797Z",
     "shell.execute_reply": "2024-03-11T18:00:19.560387Z"
    },
    "papermill": {
     "duration": 5.268508,
     "end_time": "2024-03-11T18:00:19.564710",
     "exception": false,
     "start_time": "2024-03-11T18:00:14.296202",
     "status": "completed"
    },
    "tags": []
   },
   "outputs": [
    {
     "name": "stdout",
     "output_type": "stream",
     "text": [
      "30/30 [==============================] - 3s 41ms/step - loss: 0.2016 - acc: 0.9507 - precision_5: 0.9620 - recall_5: 0.9425\n",
      "0.9506849050521851\n"
     ]
    }
   ],
   "source": [
    "accuracy = loaded_model.evaluate(X_test, Y_test, verbose = 1)\n",
    "print(accuracy[1])"
   ]
  },
  {
   "cell_type": "markdown",
   "id": "cf67ed83",
   "metadata": {
    "papermill": {
     "duration": 1.028975,
     "end_time": "2024-03-11T18:00:21.541802",
     "exception": false,
     "start_time": "2024-03-11T18:00:20.512827",
     "status": "completed"
    },
    "tags": []
   },
   "source": [
    "Testing F1 Score"
   ]
  },
  {
   "cell_type": "code",
   "execution_count": 48,
   "id": "f490233d",
   "metadata": {
    "execution": {
     "iopub.execute_input": "2024-03-11T18:00:23.412975Z",
     "iopub.status.busy": "2024-03-11T18:00:23.412442Z",
     "iopub.status.idle": "2024-03-11T18:00:30.017236Z",
     "shell.execute_reply": "2024-03-11T18:00:30.015477Z"
    },
    "papermill": {
     "duration": 7.544561,
     "end_time": "2024-03-11T18:00:30.020674",
     "exception": false,
     "start_time": "2024-03-11T18:00:22.476113",
     "status": "completed"
    },
    "tags": []
   },
   "outputs": [
    {
     "name": "stdout",
     "output_type": "stream",
     "text": [
      "30/30 [==============================] - 2s 46ms/step\n",
      "Test F1 Score: 0.48372834594521563\n"
     ]
    }
   ],
   "source": [
    "Y_pred = loaded_model.predict(X_test)\n",
    "real = get_real(Y_test)\n",
    "pred = get_pred(Y_pred)\n",
    "\n",
    "true_labels_flat = [label for sublist in real for label in sublist]\n",
    "predicted_labels_flat = [label for sublist in pred for label in sublist]\n",
    "\n",
    "# Compute F1 score\n",
    "f1 = f1_score(true_labels_flat, predicted_labels_flat, average='macro')\n",
    "\n",
    "print(\"Test F1 Score:\", f1)"
   ]
  }
 ],
 "metadata": {
  "kaggle": {
   "accelerator": "none",
   "dataSources": [
    {
     "datasetId": 4563561,
     "sourceId": 7809954,
     "sourceType": "datasetVersion"
    },
    {
     "datasetId": 4574147,
     "sourceId": 7817231,
     "sourceType": "datasetVersion"
    }
   ],
   "dockerImageVersionId": 30664,
   "isGpuEnabled": false,
   "isInternetEnabled": true,
   "language": "python",
   "sourceType": "notebook"
  },
  "kernelspec": {
   "display_name": "Python 3",
   "language": "python",
   "name": "python3"
  },
  "language_info": {
   "codemirror_mode": {
    "name": "ipython",
    "version": 3
   },
   "file_extension": ".py",
   "mimetype": "text/x-python",
   "name": "python",
   "nbconvert_exporter": "python",
   "pygments_lexer": "ipython3",
   "version": "3.10.13"
  },
  "papermill": {
   "default_parameters": {},
   "duration": 3986.354123,
   "end_time": "2024-03-11T18:00:34.311433",
   "environment_variables": {},
   "exception": null,
   "input_path": "__notebook__.ipynb",
   "output_path": "__notebook__.ipynb",
   "parameters": {},
   "start_time": "2024-03-11T16:54:07.957310",
   "version": "2.5.0"
  }
 },
 "nbformat": 4,
 "nbformat_minor": 5
}
