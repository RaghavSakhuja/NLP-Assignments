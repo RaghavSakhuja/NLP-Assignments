{
 "cells": [
  {
   "cell_type": "code",
   "execution_count": 1,
   "metadata": {
    "_cell_guid": "b1076dfc-b9ad-4769-8c92-a6c4dae69d19",
    "_uuid": "8f2839f25d086af736a60e9eeb907d3b93b6e0e5",
    "execution": {
     "iopub.execute_input": "2024-03-09T19:04:23.594271Z",
     "iopub.status.busy": "2024-03-09T19:04:23.593209Z",
     "iopub.status.idle": "2024-03-09T19:04:23.59806Z",
     "shell.execute_reply": "2024-03-09T19:04:23.597287Z",
     "shell.execute_reply.started": "2024-03-09T19:04:23.593834Z"
    }
   },
   "outputs": [],
   "source": [
    "# This Python 3 environment comes with many helpful analytics libraries installed\n",
    "# It is defined by the kaggle/python docker image: https://github.com/kaggle/docker-python\n",
    "# For example, here's several helpful packages to load in \n",
    "Embedding_name=\"fasttext\"\n",
    "Dataset=\"NER\"\n"
   ]
  },
  {
   "cell_type": "code",
   "execution_count": 2,
   "metadata": {
    "_cell_guid": "b1076dfc-b9ad-4769-8c92-a6c4dae69d19",
    "_uuid": "8f2839f25d086af736a60e9eeb907d3b93b6e0e5",
    "execution": {
     "iopub.execute_input": "2024-03-09T19:04:23.600348Z",
     "iopub.status.busy": "2024-03-09T19:04:23.599778Z",
     "iopub.status.idle": "2024-03-09T19:04:33.13061Z",
     "shell.execute_reply": "2024-03-09T19:04:33.129194Z",
     "shell.execute_reply.started": "2024-03-09T19:04:23.600288Z"
    }
   },
   "outputs": [
    {
     "name": "stderr",
     "output_type": "stream",
     "text": [
      "Using TensorFlow backend.\n"
     ]
    },
    {
     "name": "stdout",
     "output_type": "stream",
     "text": [
      "Collecting git+https://www.github.com/keras-team/keras-contrib.git\r\n",
      "  Cloning https://www.github.com/keras-team/keras-contrib.git to /tmp/pip-req-build-t0rap8ms\r\n",
      "  Running command git clone -q https://www.github.com/keras-team/keras-contrib.git /tmp/pip-req-build-t0rap8ms\r\n",
      "Requirement already satisfied: keras in /opt/conda/lib/python3.6/site-packages (from keras-contrib==2.0.8) (2.3.1)\r\n",
      "Requirement already satisfied: six>=1.9.0 in /opt/conda/lib/python3.6/site-packages (from keras->keras-contrib==2.0.8) (1.13.0)\r\n",
      "Requirement already satisfied: numpy>=1.9.1 in /opt/conda/lib/python3.6/site-packages (from keras->keras-contrib==2.0.8) (1.17.4)\r\n",
      "Requirement already satisfied: pyyaml in /opt/conda/lib/python3.6/site-packages (from keras->keras-contrib==2.0.8) (5.1.2)\r\n",
      "Requirement already satisfied: h5py in /opt/conda/lib/python3.6/site-packages (from keras->keras-contrib==2.0.8) (2.9.0)\r\n",
      "Requirement already satisfied: keras-applications>=1.0.6 in /opt/conda/lib/python3.6/site-packages (from keras->keras-contrib==2.0.8) (1.0.8)\r\n",
      "Requirement already satisfied: keras-preprocessing>=1.0.5 in /opt/conda/lib/python3.6/site-packages (from keras->keras-contrib==2.0.8) (1.1.0)\r\n",
      "Requirement already satisfied: scipy>=0.14 in /opt/conda/lib/python3.6/site-packages (from keras->keras-contrib==2.0.8) (1.3.3)\r\n",
      "Building wheels for collected packages: keras-contrib\r\n",
      "  Building wheel for keras-contrib (setup.py) ... \u001b[?25l-\b \b\\\b \b|\b \bdone\r\n",
      "\u001b[?25h  Created wheel for keras-contrib: filename=keras_contrib-2.0.8-cp36-none-any.whl size=101065 sha256=9bfcc057053fec531cd6d3d63086811b4ccb3310db649016793ff0da77b23395\r\n",
      "  Stored in directory: /tmp/pip-ephem-wheel-cache-34v7hsnt/wheels/11/27/c8/4ed56de7b55f4f61244e2dc6ef3cdbaff2692527a2ce6502ba\r\n",
      "Successfully built keras-contrib\r\n",
      "Installing collected packages: keras-contrib\r\n",
      "Successfully installed keras-contrib-2.0.8\r\n",
      "Requirement already satisfied: fasttext in /opt/conda/lib/python3.6/site-packages (0.9.1)\r\n",
      "Requirement already satisfied: pybind11>=2.2 in /opt/conda/lib/python3.6/site-packages (from fasttext) (2.4.3)\r\n",
      "Requirement already satisfied: numpy in /opt/conda/lib/python3.6/site-packages (from fasttext) (1.17.4)\r\n",
      "Requirement already satisfied: setuptools>=0.7.0 in /opt/conda/lib/python3.6/site-packages (from fasttext) (42.0.1.post20191125)\r\n",
      "/kaggle/input/nernlp3/WordEmbeddings/glove.840B.300d.pkl\n",
      "/kaggle/input/nernlp3/WordEmbeddings/Word2vec.bin\n",
      "/kaggle/input/nernlp3/WordEmbeddings/cc.en.300.bin\n",
      "/kaggle/input/nernlp3/Data/check.py\n",
      "/kaggle/input/nernlp3/Data/NER_TRAIN_JUDGEMENT.json\n",
      "/kaggle/input/nernlp3/Data/Laptop_Review_Val.json\n",
      "/kaggle/input/nernlp3/Data/bio.ipynb\n",
      "/kaggle/input/nernlp3/Data/Laptop_Review_Train.json\n",
      "/kaggle/input/nernlp3/Data/bio1.py\n",
      "/kaggle/input/nernlp3/Data/NER_TEST_JUDGEMENT.json\n",
      "/kaggle/input/nernlp3/Data/Laptop_Review_Test.json\n",
      "/kaggle/input/nernlp3/Data/processed/NER_test.json\n",
      "/kaggle/input/nernlp3/Data/processed/ATE_test.json\n",
      "/kaggle/input/nernlp3/Data/processed/NER_train.json\n",
      "/kaggle/input/nernlp3/Data/processed/ATE_train.json\n",
      "/kaggle/input/nernlp3/Data/processed/NER_val.json\n",
      "/kaggle/input/nernlp3/Data/processed/ATE_val.json\n"
     ]
    }
   ],
   "source": [
    "import numpy as np\n",
    "import json\n",
    "import pickle\n",
    "\n",
    "from keras.preprocessing.sequence import pad_sequences\n",
    "from keras.utils import to_categorical\n",
    "from sklearn.model_selection import train_test_split\n",
    "\n",
    "!pip install git+https://www.github.com/keras-team/keras-contrib.git\n",
    "\n",
    "from keras.models import Model, Input\n",
    "from keras.layers import LSTM, Embedding, Dense, TimeDistributed, Dropout, Bidirectional\n",
    "import keras as k\n",
    "from keras_contrib.layers import CRF\n",
    "from keras.callbacks import ModelCheckpoint,Callback\n",
    "import matplotlib.pyplot as plt\n",
    "\n",
    "!pip install fasttext\n",
    "\n",
    "import fasttext\n",
    "import fasttext.util\n",
    "\n",
    "from sklearn.metrics import f1_score\n",
    "\n",
    "from gensim.models import KeyedVectors\n",
    "# Input data files are available in the \"../input/\" directory.\n",
    "# For example, running this (by clicking run or pressing Shift+Enter) will list all files under the input directory\n",
    "\n",
    "import os\n",
    "for dirname, _, filenames in os.walk('/kaggle/input'):\n",
    "    for filename in filenames:\n",
    "        print(os.path.join(dirname, filename))\n",
    "\n",
    "        \n",
    "        "
   ]
  },
  {
   "cell_type": "code",
   "execution_count": 3,
   "metadata": {
    "_cell_guid": "b1076dfc-b9ad-4769-8c92-a6c4dae69d19",
    "_uuid": "8f2839f25d086af736a60e9eeb907d3b93b6e0e5",
    "execution": {
     "iopub.execute_input": "2024-03-09T19:04:33.134632Z",
     "iopub.status.busy": "2024-03-09T19:04:33.134295Z",
     "iopub.status.idle": "2024-03-09T19:04:33.140653Z",
     "shell.execute_reply": "2024-03-09T19:04:33.139107Z",
     "shell.execute_reply.started": "2024-03-09T19:04:33.134578Z"
    }
   },
   "outputs": [],
   "source": [
    "PATH = \"/kaggle/input/nernlp3/\"\n",
    "OUTPATH = \"/kaggle/working/\"\n",
    "# Any results you write to the current directory are saved as output."
   ]
  },
  {
   "cell_type": "code",
   "execution_count": 4,
   "metadata": {
    "_cell_guid": "79c7e3d0-c299-4dcb-8224-4455121ee9b0",
    "_uuid": "d629ff2d2480ee46fbb7e2d37f6b5fab8052498a",
    "execution": {
     "iopub.execute_input": "2024-03-09T19:04:33.144812Z",
     "iopub.status.busy": "2024-03-09T19:04:33.144301Z",
     "iopub.status.idle": "2024-03-09T19:04:38.104676Z",
     "shell.execute_reply": "2024-03-09T19:04:38.103151Z",
     "shell.execute_reply.started": "2024-03-09T19:04:33.144722Z"
    }
   },
   "outputs": [],
   "source": [
    "! mkdir Saved_Models\n",
    "! mkdir Saved_Models/ATE\n",
    "! mkdir Saved_Models/NER\n",
    "! mkdir Graphs"
   ]
  },
  {
   "cell_type": "code",
   "execution_count": 5,
   "metadata": {
    "execution": {
     "iopub.execute_input": "2024-03-09T19:04:38.107246Z",
     "iopub.status.busy": "2024-03-09T19:04:38.106897Z",
     "iopub.status.idle": "2024-03-09T19:04:38.134078Z",
     "shell.execute_reply": "2024-03-09T19:04:38.132695Z",
     "shell.execute_reply.started": "2024-03-09T19:04:38.107186Z"
    }
   },
   "outputs": [],
   "source": [
    "def checking(a):\n",
    "    print(\"Hello World\",a)\n",
    "\n",
    "def new_checking(a):\n",
    "    print(\"Hello World\",a)\n",
    "\n",
    "def create_train_test_val(file):\n",
    "    lst_out_text=[]\n",
    "    lst_out_labels=[]\n",
    "    for i in file.values():\n",
    "        sentence = i['text']\n",
    "        sentence = sentence.lower()\n",
    "        labels = i['labels']\n",
    "        lst_out_text.append(sentence)\n",
    "        lst_out_labels.append(labels)\n",
    "    return lst_out_text,lst_out_labels    \n",
    "\n",
    "def TokenCreator(sentences,val,tokenizer=None):\n",
    "    \n",
    "    temp_wordlist = None\n",
    "    tokenizer2=None\n",
    "    if(tokenizer == None):\n",
    "        if val==1:\n",
    "            tokenizer2 = Tokenizer(oov_token=\"#UK\",filters='')\n",
    "        else:\n",
    "            tokenizer2=Tokenizer()\n",
    "        tokenizer2.fit_on_texts(sentences)\n",
    "        \n",
    "        temp_wordlist = tokenizer2.texts_to_sequences(sentences)\n",
    "        return (temp_wordlist,tokenizer2)\n",
    "    \n",
    "    else:\n",
    "        temp_wordlist = tokenizer.texts_to_sequences(sentences)\n",
    "        return temp_wordlist\n",
    "    \n",
    "def find_vocab(dataset):\n",
    "    lst=[]\n",
    "    lst.append(\"#UK\")\n",
    "    for i in dataset:\n",
    "        for j in i:\n",
    "            lst.append(j)\n",
    "    st = set(lst)\n",
    "    return st\n",
    "\n",
    "'''\n",
    "--------------------------------------GRAPHS--------------------------------------\n",
    "'''\n",
    "\n",
    "def draw_loss_graph(model,model_name,f1_scores_train,f1_scores_val):\n",
    "    train_loss = model.history['loss']\n",
    "    val_loss = model.history['val_loss']\n",
    "    x = [i+1 for i in range(len(train_loss))]\n",
    "    train_y = train_loss\n",
    "    val_y = val_loss\n",
    "    \n",
    "    fig, axes = plt.subplots(1,2,figsize = (16,5))\n",
    "    # plt.subplots(axes = (2,1))\n",
    "    axes[0].plot(x,train_y, color = 'blue')  \n",
    "    \n",
    "    axes[0].plot(x,val_y, color = 'red') \n",
    "    axes[0].set_title('Loss over Epochs')\n",
    "    axes[0].set_xlabel('Epoch')\n",
    "    axes[0].set_ylabel('Loss')\n",
    "\n",
    "    axes[1].plot(x,f1_scores_train, color = 'blue')\n",
    "    axes[1].plot(x,f1_scores_val, color = 'red')\n",
    "    axes[1].set_title('F1 Score vs Epoch')\n",
    "    axes[1].set_xlabel('Epochs')\n",
    "    axes[1].set_ylabel('F1 Score')\n",
    "\n",
    "    axes[0].legend(['Train','Val'])\n",
    "    axes[1].legend(['Train','Val'])\n",
    "    \n",
    "    plt.suptitle(model_name)\n",
    "\n",
    "    plt.savefig(f'{OUTPATH}Graphs/{model_name}.png')    \n",
    "    plt.show()\n",
    "    "
   ]
  },
  {
   "cell_type": "code",
   "execution_count": 6,
   "metadata": {
    "execution": {
     "iopub.execute_input": "2024-03-09T19:16:44.662477Z",
     "iopub.status.busy": "2024-03-09T19:16:44.662104Z",
     "iopub.status.idle": "2024-03-09T19:16:44.671305Z",
     "shell.execute_reply": "2024-03-09T19:16:44.669868Z",
     "shell.execute_reply.started": "2024-03-09T19:16:44.662419Z"
    }
   },
   "outputs": [],
   "source": [
    "'''\n",
    "--------------------------------------MODELS--------------------------------------\n",
    "'''\n",
    "\n",
    "def save_model(model,model_name, embedding, dataset):\n",
    "    with open(f'{OUTPATH}Saved_Models/{dataset}/{model_name}_{embedding}.pkl', 'wb') as file:\n",
    "        pickle.dump(model, file)\n",
    "\n",
    "def load_model(model_name, embedding, dataset):\n",
    "    with open(f'{OUTPATH}Saved_Models/{dataset}/{model_name}_{embedding}.pkl', 'rb') as file:\n",
    "        loaded_model = pickle.load(file)\n",
    "    \n",
    "    return loaded_model\n"
   ]
  },
  {
   "cell_type": "code",
   "execution_count": 7,
   "metadata": {
    "execution": {
     "iopub.execute_input": "2024-03-09T19:04:38.154444Z",
     "iopub.status.busy": "2024-03-09T19:04:38.154178Z",
     "iopub.status.idle": "2024-03-09T19:04:38.208693Z",
     "shell.execute_reply": "2024-03-09T19:04:38.20745Z",
     "shell.execute_reply.started": "2024-03-09T19:04:38.154405Z"
    }
   },
   "outputs": [],
   "source": [
    "'''\n",
    "--------------------------------------CALLBACKS--------------------------------------\n",
    "'''\n",
    "\n",
    "class F1ScoreCallback(Callback):\n",
    "\n",
    "    def __init__(self, val_data, data):\n",
    "        super(F1ScoreCallback, self).__init__()\n",
    "        self.val_data = val_data\n",
    "        self.data=data\n",
    "        self.val_f1_scores = [] \n",
    "        self.train_f1_scores = []\n",
    "\n",
    "    \n",
    "\n",
    "    def on_epoch_end(self, epoch, logs=None):\n",
    "        x_val, y_val = self.val_data\n",
    "        x_data, y_data = self.data\n",
    "        y_pred_val = self.model.predict(x_val)\n",
    "        y_pred_train = self.model.predict(x_data)\n",
    "\n",
    "        def scikitf1(pred,real):\n",
    "\n",
    "            true_labels_flat = [label for sublist in real for label in sublist]\n",
    "            predicted_labels_flat = [label for sublist in pred for label in sublist]\n",
    "            # Compute F1 score\n",
    "            f1 = f1_score(true_labels_flat, predicted_labels_flat, average='macro')\n",
    "            return f1\n",
    "        def get_pred(Y_padded_output):\n",
    "                # print(Y_padded_output.shape)\n",
    "                final_output=[]\n",
    "                for i in range(Y_padded_output.shape[0]):\n",
    "                    output=[]\n",
    "                    for j in range(Y_padded_output.shape[1]):\n",
    "                        max_value=-1\n",
    "                        maxIndex=-1\n",
    "                        for k in range(Y_padded_output.shape[2]):\n",
    "                            if Y_padded_output[i][j][k]>max_value:\n",
    "                                maxIndex=k\n",
    "                                max_value=max(max_value,Y_padded_output[i][j][k])\n",
    "                        output.append(maxIndex)\n",
    "                    final_output.append(output)\n",
    "                return final_output\n",
    "\n",
    "        def get_real(Y_padded_test):\n",
    "            # print(Y_padded_test.shape)\n",
    "            final_Y=[]\n",
    "            for i in range(Y_padded_test.shape[0]):\n",
    "                output=[]\n",
    "                for j in range(Y_padded_test.shape[1]):\n",
    "                    max_value=-1\n",
    "                    maxIndex=-1\n",
    "                    for k in range(Y_padded_test.shape[2]):\n",
    "                        if Y_padded_test[i][j][k]>max_value:\n",
    "                            maxIndex=k\n",
    "                            max_value=max(max_value,Y_padded_test[i][j][k])\n",
    "                    output.append(maxIndex)\n",
    "                final_Y.append(output)\n",
    "            return final_Y\n",
    "        \n",
    "        # print(\"here\")\n",
    "        pred_train=get_pred(y_pred_train)\n",
    "        # print(pred_train)\n",
    "        real_train=get_real(y_data)\n",
    "        # print(real_train)\n",
    "\n",
    "        pred_val=get_pred(y_pred_val)\n",
    "        real_val=get_real(y_val)\n",
    "\n",
    "        f1_train = scikitf1(pred_train,real_train)\n",
    "        f1_val = scikitf1(pred_val,real_val)\n",
    "\n",
    "        self.val_f1_scores.append(f1_val)\n",
    "        self.train_f1_scores.append(f1_train)\n",
    "        print(f'Val F1 Score: {f1_val} - Train F1 Score: {f1_train}')\n",
    "\n",
    "\n",
    "\n",
    "#---------Prediction Functions----------------------------------------------\n",
    "def get_pred(Y_padded_output):\n",
    "    final_output=[]\n",
    "    for i in range(Y_padded_output.shape[0]):\n",
    "        output=[]\n",
    "        for j in range(Y_padded_output.shape[1]):\n",
    "            max_value=-1\n",
    "            maxIndex=-1\n",
    "            for k in range(Y_padded_output.shape[2]):\n",
    "                if Y_padded_output[i][j][k]>max_value:\n",
    "                    maxIndex=k\n",
    "                    max_value=max(max_value,Y_padded_output[i][j][k])\n",
    "            output.append(maxIndex)\n",
    "        final_output.append(output)\n",
    "    return final_output\n",
    "\n",
    "def get_real(Y_padded_test):\n",
    "    final_Y=[]\n",
    "    for i in range(Y_padded_test.shape[0]):\n",
    "        output=[]\n",
    "        for j in range(Y_padded_test.shape[1]):\n",
    "            max_value=-1\n",
    "            maxIndex=-1\n",
    "            for k in range(Y_padded_test.shape[2]):\n",
    "                if Y_padded_test[i][j][k]>max_value:\n",
    "                    maxIndex=k\n",
    "                    max_value=max(max_value,Y_padded_test[i][j][k])\n",
    "            output.append(maxIndex)\n",
    "        final_Y.append(output)\n",
    "    return final_Y\n",
    "\n",
    "def my_f1(y_true, y_pred):\n",
    "    \n",
    "    # predictions = get_pred(y_pred)\n",
    "    # real = get_real(y_true)\n",
    "\n",
    "    predictions = y_pred\n",
    "    real = y_true\n",
    "\n",
    "    size=len(predictions)\n",
    "\n",
    "    unique_labels= set()\n",
    "\n",
    "    for labels in real:\n",
    "        unique_labels.update(labels)\n",
    "\n",
    "    for labels in predictions:\n",
    "        unique_labels.update(labels)\n",
    "\n",
    "    labels_f1=[]\n",
    "\n",
    "    for labels in unique_labels:\n",
    "        tp=0\n",
    "        fp=0\n",
    "        fn=0\n",
    "\n",
    "        for i in range(size):\n",
    "                    \n",
    "            tp+=sum((p==labels and r==labels) for p,r in zip(predictions[i],real[i]))\n",
    "            fp+=sum((p==labels and r!=labels) for p,r in zip(predictions[i],real[i]))\n",
    "            fn+=sum((p!=labels and r==labels) for p,r in zip(predictions[i],real[i]))\n",
    "\n",
    "        \n",
    "        precision = tp/(tp+fp) if tp+fp>0 else 0\n",
    "        recall = tp/(tp+fn) if tp+fn>0 else 0\n",
    "\n",
    "        f1=2*((precision*recall)/(precision+recall)) if precision+recall>0 else 0\n",
    "\n",
    "        labels_f1.append(f1)\n",
    "        print(f1,unique_labels)\n",
    "    macro_f1 = sum(labels_f1)/len(unique_labels)\n",
    "    return macro_f1\n",
    "\n",
    "def scikitf1(pred,real):\n",
    "\n",
    "    true_labels_flat = [label for sublist in real for label in sublist]\n",
    "    predicted_labels_flat = [label for sublist in pred for label in sublist]\n",
    "    # Compute F1 score\n",
    "    f1 = f1_score(true_labels_flat, predicted_labels_flat, average='macro')\n",
    "    return f1"
   ]
  },
  {
   "cell_type": "code",
   "execution_count": null,
   "metadata": {
    "execution": {
     "iopub.execute_input": "2024-03-09T19:04:38.210725Z",
     "iopub.status.busy": "2024-03-09T19:04:38.210387Z",
     "iopub.status.idle": "2024-03-09T19:04:38.22672Z",
     "shell.execute_reply": "2024-03-09T19:04:38.225331Z",
     "shell.execute_reply.started": "2024-03-09T19:04:38.210654Z"
    }
   },
   "outputs": [],
   "source": []
  },
  {
   "cell_type": "code",
   "execution_count": 8,
   "metadata": {
    "execution": {
     "iopub.execute_input": "2024-03-09T19:04:38.229059Z",
     "iopub.status.busy": "2024-03-09T19:04:38.228634Z",
     "iopub.status.idle": "2024-03-09T19:04:38.237903Z",
     "shell.execute_reply": "2024-03-09T19:04:38.236561Z",
     "shell.execute_reply.started": "2024-03-09T19:04:38.228966Z"
    }
   },
   "outputs": [],
   "source": [
    "seed_value = 18\n",
    "np.random.seed(seed_value)\n"
   ]
  },
  {
   "cell_type": "code",
   "execution_count": 9,
   "metadata": {
    "execution": {
     "iopub.execute_input": "2024-03-09T19:04:38.240598Z",
     "iopub.status.busy": "2024-03-09T19:04:38.240201Z",
     "iopub.status.idle": "2024-03-09T19:06:53.932679Z",
     "shell.execute_reply": "2024-03-09T19:06:53.931366Z",
     "shell.execute_reply.started": "2024-03-09T19:04:38.240536Z"
    }
   },
   "outputs": [
    {
     "name": "stderr",
     "output_type": "stream",
     "text": [
      "\n"
     ]
    }
   ],
   "source": [
    "if Embedding_name==\"word2vec\":\n",
    "    emb = KeyedVectors.load_word2vec_format(f'{PATH}WordEmbeddings/Word2vec.bin',binary=True)\n",
    "\n",
    "if Embedding_name==\"glove\":\n",
    "    with open(f'{PATH}WordEmbeddings/glove.840B.300d.pkl', 'rb') as fp:\n",
    "        emb = pickle.load(fp)\n",
    "\n",
    "if Embedding_name==\"fasttext\":\n",
    "    emb = fasttext.load_model(f'{PATH}WordEmbeddings/cc.en.300.bin')"
   ]
  },
  {
   "cell_type": "markdown",
   "metadata": {},
   "source": [
    "# Preproc"
   ]
  },
  {
   "cell_type": "code",
   "execution_count": 10,
   "metadata": {
    "execution": {
     "iopub.execute_input": "2024-03-09T19:06:53.934766Z",
     "iopub.status.busy": "2024-03-09T19:06:53.934411Z",
     "iopub.status.idle": "2024-03-09T19:06:53.977789Z",
     "shell.execute_reply": "2024-03-09T19:06:53.976743Z",
     "shell.execute_reply.started": "2024-03-09T19:06:53.934704Z"
    }
   },
   "outputs": [],
   "source": [
    "\n",
    "\n",
    "\n",
    "train = None\n",
    "test = None\n",
    "val = None\n",
    "with open(f\"{PATH}Data/processed/{Dataset}_train.json\") as f1:\n",
    "    train = json.load(f1)\n",
    "\n",
    "with open(f\"{PATH}Data/processed/{Dataset}_test.json\") as f2:\n",
    "    test = json.load(f2)\n",
    "\n",
    "with open(f\"{PATH}Data/processed/{Dataset}_val.json\") as f3:\n",
    "    val = json.load(f3)\n",
    "\n"
   ]
  },
  {
   "cell_type": "code",
   "execution_count": 11,
   "metadata": {
    "execution": {
     "iopub.execute_input": "2024-03-09T19:06:53.981706Z",
     "iopub.status.busy": "2024-03-09T19:06:53.981302Z",
     "iopub.status.idle": "2024-03-09T19:06:53.989985Z",
     "shell.execute_reply": "2024-03-09T19:06:53.988408Z",
     "shell.execute_reply.started": "2024-03-09T19:06:53.981634Z"
    }
   },
   "outputs": [],
   "source": [
    "X_train,Y_train = create_train_test_val(train)\n",
    "X_test,Y_test = create_train_test_val(test)\n",
    "X_val,Y_val = create_train_test_val(val)"
   ]
  },
  {
   "cell_type": "code",
   "execution_count": 12,
   "metadata": {
    "execution": {
     "iopub.execute_input": "2024-03-09T19:06:53.992404Z",
     "iopub.status.busy": "2024-03-09T19:06:53.991888Z",
     "iopub.status.idle": "2024-03-09T19:06:54.624054Z",
     "shell.execute_reply": "2024-03-09T19:06:54.622878Z",
     "shell.execute_reply.started": "2024-03-09T19:06:53.992351Z"
    }
   },
   "outputs": [],
   "source": [
    "from keras.preprocessing.text import *\n",
    "\n",
    "X_train_tokenized, toke = TokenCreator(X_train,1)\n",
    "X_test_tokenized = TokenCreator(X_test,0,tokenizer = toke)\n",
    "X_val_tokenized = TokenCreator(X_val,0,tokenizer = toke)\n",
    "\n",
    "Y_train_tokenized,toke2 = TokenCreator(Y_train,0)\n",
    "Y_test_tokenized = TokenCreator(Y_test,0,tokenizer = toke2)\n",
    "Y_val_tokenized = TokenCreator(Y_val,0,tokenizer = toke2)\n",
    "\n",
    "st1 = find_vocab(X_train_tokenized)\n",
    "vocab_size  = len(st1) + 1 \n",
    "\n",
    "max_len=0\n",
    "\n",
    "for i in X_train_tokenized:\n",
    "    max_len = max(max_len,len(i))\n",
    "\n",
    "X_padded_train = pad_sequences(X_train_tokenized, maxlen=max_len, padding=\"pre\", truncating=\"post\")\n",
    "Y_padded_train = pad_sequences(Y_train_tokenized, maxlen=max_len, padding=\"pre\", truncating=\"post\")\n",
    "\n",
    "X_padded_test = pad_sequences(X_test_tokenized, maxlen=max_len, padding=\"pre\", truncating=\"post\")\n",
    "Y_padded_test = pad_sequences(Y_test_tokenized, maxlen=max_len, padding=\"pre\", truncating=\"post\")\n",
    "\n",
    "X_padded_val = pad_sequences(X_val_tokenized, maxlen=max_len, padding=\"pre\", truncating=\"post\")\n",
    "Y_padded_val = pad_sequences(Y_val_tokenized, maxlen=max_len, padding=\"pre\", truncating=\"post\")  \n",
    "\n",
    "Y_padded_train = to_categorical(Y_padded_train)\n",
    "Y_padded_test = to_categorical(Y_padded_test)\n",
    "Y_padded_val = to_categorical(Y_padded_val)\n",
    "\n",
    "weights = np.zeros((vocab_size, 300))\n",
    "mapping = toke.word_index \n",
    "\n",
    "for word, index in mapping.items():\n",
    "    if word in emb:\n",
    "        weights[index:] = emb[word]"
   ]
  },
  {
   "cell_type": "code",
   "execution_count": 13,
   "metadata": {
    "execution": {
     "iopub.execute_input": "2024-03-09T19:06:54.626172Z",
     "iopub.status.busy": "2024-03-09T19:06:54.625807Z",
     "iopub.status.idle": "2024-03-09T19:06:54.633225Z",
     "shell.execute_reply": "2024-03-09T19:06:54.632059Z",
     "shell.execute_reply.started": "2024-03-09T19:06:54.626108Z"
    }
   },
   "outputs": [],
   "source": [
    "X_train= X_padded_train\n",
    "Y_train = Y_padded_train\n",
    "X_test = X_padded_test\n",
    "Y_test = Y_padded_test\n",
    "X_val = X_padded_val\n",
    "Y_val = Y_padded_val\n",
    "weights = weights\n",
    "word_token = toke\n",
    "tag_token = toke2\n",
    "Y_shape= Y_padded_train.shape[2]"
   ]
  },
  {
   "cell_type": "markdown",
   "metadata": {},
   "source": [
    "# Bilstm+crf"
   ]
  },
  {
   "cell_type": "code",
   "execution_count": 14,
   "metadata": {
    "execution": {
     "iopub.execute_input": "2024-03-09T19:06:54.635694Z",
     "iopub.status.busy": "2024-03-09T19:06:54.63528Z",
     "iopub.status.idle": "2024-03-09T19:06:54.648982Z",
     "shell.execute_reply": "2024-03-09T19:06:54.647441Z",
     "shell.execute_reply.started": "2024-03-09T19:06:54.635612Z"
    }
   },
   "outputs": [],
   "source": [
    "def BiLSTM(weights,vocab_size,max_len,Y_shape):\n",
    "    input = Input(shape=(max_len,))\n",
    "    model = Embedding(vocab_size, 300, weights=[weights], input_length=max_len, trainable=False)(input)\n",
    "    model = Bidirectional(LSTM(units=256, return_sequences=True, recurrent_dropout=0.5,dropout = 0.2,kernel_initializer=k.initializers.he_normal()))(model)\n",
    "    model = TimeDistributed(Dense(Y_shape, activation=\"relu\"))(model)  # softmax output layer\n",
    "    crf = CRF(Y_shape)  # CRF layer\n",
    "    out = crf(model)  # output\n",
    "    model = Model(input, out)\n",
    "    adam = k.optimizers.Adam(lr=0.01, beta_1=0.9, beta_2=0.999)\n",
    "    model.compile(optimizer=adam, loss=crf.loss_function, metrics=[crf.accuracy, 'accuracy'])\n",
    "    return model"
   ]
  },
  {
   "cell_type": "code",
   "execution_count": 15,
   "metadata": {
    "execution": {
     "iopub.execute_input": "2024-03-09T19:09:16.841456Z",
     "iopub.status.busy": "2024-03-09T19:09:16.840979Z",
     "iopub.status.idle": "2024-03-09T19:09:18.300228Z",
     "shell.execute_reply": "2024-03-09T19:09:18.298734Z",
     "shell.execute_reply.started": "2024-03-09T19:09:16.841394Z"
    }
   },
   "outputs": [
    {
     "name": "stderr",
     "output_type": "stream",
     "text": [
      "/opt/conda/lib/python3.6/site-packages/keras_contrib/layers/crf.py:346: UserWarning: CRF.loss_function is deprecated and it might be removed in the future. Please use losses.crf_loss instead.\n",
      "  warnings.warn('CRF.loss_function is deprecated '\n",
      "/opt/conda/lib/python3.6/site-packages/keras_contrib/layers/crf.py:353: UserWarning: CRF.accuracy is deprecated and it might be removed in the future. Please use metrics.crf_accuracy\n",
      "  warnings.warn('CRF.accuracy is deprecated and it '\n"
     ]
    },
    {
     "name": "stdout",
     "output_type": "stream",
     "text": [
      "Model: \"model_1\"\n",
      "_________________________________________________________________\n",
      "Layer (type)                 Output Shape              Param #   \n",
      "=================================================================\n",
      "input_2 (InputLayer)         (None, 70)                0         \n",
      "_________________________________________________________________\n",
      "embedding_1 (Embedding)      (None, 70, 300)           9066000   \n",
      "_________________________________________________________________\n",
      "bidirectional_1 (Bidirection (None, 70, 512)           1140736   \n",
      "_________________________________________________________________\n",
      "time_distributed_1 (TimeDist (None, 70, 28)            14364     \n",
      "_________________________________________________________________\n",
      "crf_1 (CRF)                  (None, 70, 28)            1652      \n",
      "=================================================================\n",
      "Total params: 10,222,752\n",
      "Trainable params: 1,156,752\n",
      "Non-trainable params: 9,066,000\n",
      "_________________________________________________________________\n"
     ]
    }
   ],
   "source": [
    "model_name=\"BiLSTM\"\n",
    "\n",
    "n_words=vocab_size\n",
    "n_tags=Y_train.shape[2]\n",
    "input = Input(shape=(max_len,))\n",
    "word_embedding_size = 300\n",
    "\n",
    "model = BiLSTM(weights,n_words,max_len,n_tags)\n",
    "model.summary()\n"
   ]
  },
  {
   "cell_type": "code",
   "execution_count": 16,
   "metadata": {
    "execution": {
     "iopub.execute_input": "2024-03-09T19:09:22.160922Z",
     "iopub.status.busy": "2024-03-09T19:09:22.160515Z",
     "iopub.status.idle": "2024-03-09T19:14:06.773084Z",
     "shell.execute_reply": "2024-03-09T19:14:06.77177Z",
     "shell.execute_reply.started": "2024-03-09T19:09:22.160875Z"
    }
   },
   "outputs": [
    {
     "name": "stdout",
     "output_type": "stream",
     "text": [
      "Train on 8019 samples, validate on 1416 samples\n",
      "Epoch 1/20\n",
      "8019/8019 [==============================] - 62s 8ms/step - loss: 0.8340 - crf_viterbi_accuracy: 0.8213 - accuracy: 0.5235 - val_loss: 0.3412 - val_crf_viterbi_accuracy: 0.9225 - val_accuracy: 0.9229\n"
     ]
    },
    {
     "name": "stderr",
     "output_type": "stream",
     "text": [
      "/opt/conda/lib/python3.6/site-packages/sklearn/metrics/classification.py:1437: UndefinedMetricWarning: F-score is ill-defined and being set to 0.0 in labels with no predicted samples.\n",
      "  'precision', 'predicted', average, warn_for)\n"
     ]
    },
    {
     "name": "stdout",
     "output_type": "stream",
     "text": [
      "Val F1 Score: 0.08892711279563795 - Train F1 Score: 0.08852777897422184\n",
      "Epoch 2/20\n",
      "8019/8019 [==============================] - 59s 7ms/step - loss: 0.2909 - crf_viterbi_accuracy: 0.9276 - accuracy: 0.5235 - val_loss: 0.2430 - val_crf_viterbi_accuracy: 0.9304 - val_accuracy: 0.9311\n",
      "Val F1 Score: 0.09650112188673067 - Train F1 Score: 0.09719596381080785\n",
      "Epoch 3/20\n",
      "8019/8019 [==============================] - 60s 7ms/step - loss: 0.2198 - crf_viterbi_accuracy: 0.9354 - accuracy: 0.5235 - val_loss: 0.1786 - val_crf_viterbi_accuracy: 0.9440 - val_accuracy: 0.9447\n",
      "Val F1 Score: 0.2757331057139484 - Train F1 Score: 0.2816800939554029\n",
      "Epoch 4/20\n",
      "8019/8019 [==============================] - 59s 7ms/step - loss: 0.1595 - crf_viterbi_accuracy: 0.9470 - accuracy: 0.5235 - val_loss: 0.1324 - val_crf_viterbi_accuracy: 0.9523 - val_accuracy: 0.9529\n",
      "Val F1 Score: 0.3770729318326426 - Train F1 Score: 0.38644997035358347\n",
      "Epoch 5/20\n",
      "8019/8019 [==============================] - 60s 8ms/step - loss: 0.1262 - crf_viterbi_accuracy: 0.9534 - accuracy: 0.5235 - val_loss: 0.1115 - val_crf_viterbi_accuracy: 0.9566 - val_accuracy: 0.9572\n",
      "Val F1 Score: 0.4429973544864297 - Train F1 Score: 0.4564973199920613\n",
      "Epoch 6/20\n",
      "8019/8019 [==============================] - 59s 7ms/step - loss: 0.1068 - crf_viterbi_accuracy: 0.9572 - accuracy: 0.5235 - val_loss: 0.0977 - val_crf_viterbi_accuracy: 0.9586 - val_accuracy: 0.9592\n",
      "Val F1 Score: 0.4730946270029235 - Train F1 Score: 0.4808060058027311\n",
      "Epoch 7/20\n",
      "8019/8019 [==============================] - 59s 7ms/step - loss: 0.0938 - crf_viterbi_accuracy: 0.9586 - accuracy: 0.5235 - val_loss: 0.0879 - val_crf_viterbi_accuracy: 0.9603 - val_accuracy: 0.9608\n",
      "Val F1 Score: 0.4820640448539085 - Train F1 Score: 0.5077588704805491\n",
      "Epoch 8/20\n",
      "8019/8019 [==============================] - 59s 7ms/step - loss: 0.0818 - crf_viterbi_accuracy: 0.9612 - accuracy: 0.5235 - val_loss: 0.0782 - val_crf_viterbi_accuracy: 0.9610 - val_accuracy: 0.9615\n",
      "Val F1 Score: 0.5262297356835892 - Train F1 Score: 0.5576796996191189\n",
      "Epoch 9/20\n",
      "8019/8019 [==============================] - 61s 8ms/step - loss: 0.0705 - crf_viterbi_accuracy: 0.9627 - accuracy: 0.5235 - val_loss: 0.0702 - val_crf_viterbi_accuracy: 0.9609 - val_accuracy: 0.9615\n",
      "Val F1 Score: 0.5511509273667007 - Train F1 Score: 0.5883054607992276\n",
      "Epoch 10/20\n",
      "8019/8019 [==============================] - 59s 7ms/step - loss: 0.0609 - crf_viterbi_accuracy: 0.9651 - accuracy: 0.5235 - val_loss: 0.0640 - val_crf_viterbi_accuracy: 0.9621 - val_accuracy: 0.9626\n",
      "Val F1 Score: 0.5723688045968486 - Train F1 Score: 0.6230608367340869\n",
      "Epoch 11/20\n",
      "8019/8019 [==============================] - 59s 7ms/step - loss: 0.0516 - crf_viterbi_accuracy: 0.9667 - accuracy: 0.5235 - val_loss: 0.0563 - val_crf_viterbi_accuracy: 0.9628 - val_accuracy: 0.9632\n",
      "Val F1 Score: 0.574526351034017 - Train F1 Score: 0.6497993812882807\n",
      "Epoch 12/20\n",
      "8019/8019 [==============================] - 61s 8ms/step - loss: 0.0445 - crf_viterbi_accuracy: 0.9670 - accuracy: 0.5235 - val_loss: 0.0511 - val_crf_viterbi_accuracy: 0.9633 - val_accuracy: 0.9639\n",
      "Val F1 Score: 0.57002171829611 - Train F1 Score: 0.667694403052122\n",
      "Epoch 13/20\n",
      "8019/8019 [==============================] - 59s 7ms/step - loss: 0.0365 - crf_viterbi_accuracy: 0.9690 - accuracy: 0.5235 - val_loss: 0.0458 - val_crf_viterbi_accuracy: 0.9633 - val_accuracy: 0.9640\n",
      "Val F1 Score: 0.6027459470425045 - Train F1 Score: 0.6878939871686166\n",
      "Epoch 14/20\n",
      "8019/8019 [==============================] - 60s 7ms/step - loss: 0.0298 - crf_viterbi_accuracy: 0.9693 - accuracy: 0.5235 - val_loss: 0.0407 - val_crf_viterbi_accuracy: 0.9644 - val_accuracy: 0.9648\n",
      "Val F1 Score: 0.5973996297781324 - Train F1 Score: 0.6994051590257832\n",
      "Epoch 15/20\n",
      "8019/8019 [==============================] - 59s 7ms/step - loss: 0.0238 - crf_viterbi_accuracy: 0.9704 - accuracy: 0.5235 - val_loss: 0.0379 - val_crf_viterbi_accuracy: 0.9629 - val_accuracy: 0.9630\n",
      "Val F1 Score: 0.5963664730642797 - Train F1 Score: 0.6987124097321838\n",
      "Epoch 16/20\n",
      "8019/8019 [==============================] - 60s 8ms/step - loss: 0.0166 - crf_viterbi_accuracy: 0.9717 - accuracy: 0.5235 - val_loss: 0.0335 - val_crf_viterbi_accuracy: 0.9631 - val_accuracy: 0.9636\n",
      "Val F1 Score: 0.6002133694215098 - Train F1 Score: 0.7250761856118466\n",
      "Epoch 17/20\n",
      "8019/8019 [==============================] - 60s 8ms/step - loss: 0.0097 - crf_viterbi_accuracy: 0.9728 - accuracy: 0.5235 - val_loss: 0.0283 - val_crf_viterbi_accuracy: 0.9646 - val_accuracy: 0.9651\n",
      "Val F1 Score: 0.5989296002689813 - Train F1 Score: 0.7536984173195532\n",
      "Epoch 18/20\n",
      "8019/8019 [==============================] - 59s 7ms/step - loss: 0.0042 - crf_viterbi_accuracy: 0.9734 - accuracy: 0.5235 - val_loss: 0.0234 - val_crf_viterbi_accuracy: 0.9651 - val_accuracy: 0.9658\n",
      "Val F1 Score: 0.6091859717222079 - Train F1 Score: 0.7618251646792842\n",
      "Epoch 19/20\n",
      "8019/8019 [==============================] - 61s 8ms/step - loss: -0.0019 - crf_viterbi_accuracy: 0.9742 - accuracy: 0.5235 - val_loss: 0.0215 - val_crf_viterbi_accuracy: 0.9626 - val_accuracy: 0.9627\n",
      "Val F1 Score: 0.6135463826204599 - Train F1 Score: 0.7696190765048002\n",
      "Epoch 20/20\n",
      "8019/8019 [==============================] - 57s 7ms/step - loss: -0.0078 - crf_viterbi_accuracy: 0.9750 - accuracy: 0.5235 - val_loss: 0.0165 - val_crf_viterbi_accuracy: 0.9659 - val_accuracy: 0.9662\n",
      "Val F1 Score: 0.6219164553358286 - Train F1 Score: 0.7912512308201283\n"
     ]
    }
   ],
   "source": [
    "BiLSTM_f1_callback = F1ScoreCallback(val_data=(X_val, Y_val),data=(X_train, Y_train))\n",
    "callbacks_list = [BiLSTM_f1_callback]\n",
    "# Fit the best model\n",
    "history = model.fit(X_train, Y_train, batch_size=256, epochs=20, validation_data=(X_val,Y_val), verbose=1, callbacks=callbacks_list)\n",
    "\n"
   ]
  },
  {
   "cell_type": "code",
   "execution_count": 17,
   "metadata": {
    "execution": {
     "iopub.execute_input": "2024-03-09T19:15:42.09798Z",
     "iopub.status.busy": "2024-03-09T19:15:42.097318Z",
     "iopub.status.idle": "2024-03-09T19:15:42.865453Z",
     "shell.execute_reply": "2024-03-09T19:15:42.863348Z",
     "shell.execute_reply.started": "2024-03-09T19:15:42.097899Z"
    }
   },
   "outputs": [
    {
     "data": {
      "image/png": "[encoded data removed]",
      "text/plain": [
       "<Figure size 1152x360 with 2 Axes>"
      ]
     },
     "metadata": {
      "needs_background": "light"
     },
     "output_type": "display_data"
    }
   ],
   "source": [
    "draw_loss_graph(history,model_name, BiLSTM_f1_callback.train_f1_scores, BiLSTM_f1_callback.val_f1_scores)"
   ]
  },
  {
   "cell_type": "code",
   "execution_count": 18,
   "metadata": {
    "execution": {
     "iopub.execute_input": "2024-03-09T19:17:19.343955Z",
     "iopub.status.busy": "2024-03-09T19:17:19.343521Z",
     "iopub.status.idle": "2024-03-09T19:17:19.372386Z",
     "shell.execute_reply": "2024-03-09T19:17:19.371064Z",
     "shell.execute_reply.started": "2024-03-09T19:17:19.343894Z"
    }
   },
   "outputs": [],
   "source": [
    "save_model(model.get_weights(),model_name,Embedding_name,Dataset)"
   ]
  },
  {
   "cell_type": "code",
   "execution_count": 19,
   "metadata": {
    "execution": {
     "iopub.execute_input": "2024-03-09T19:17:21.812551Z",
     "iopub.status.busy": "2024-03-09T19:17:21.809379Z",
     "iopub.status.idle": "2024-03-09T19:17:24.962492Z",
     "shell.execute_reply": "2024-03-09T19:17:24.960943Z",
     "shell.execute_reply.started": "2024-03-09T19:17:21.812336Z"
    }
   },
   "outputs": [
    {
     "name": "stderr",
     "output_type": "stream",
     "text": [
      "/opt/conda/lib/python3.6/site-packages/keras_contrib/layers/crf.py:346: UserWarning: CRF.loss_function is deprecated and it might be removed in the future. Please use losses.crf_loss instead.\n",
      "  warnings.warn('CRF.loss_function is deprecated '\n",
      "/opt/conda/lib/python3.6/site-packages/keras_contrib/layers/crf.py:353: UserWarning: CRF.accuracy is deprecated and it might be removed in the future. Please use metrics.crf_accuracy\n",
      "  warnings.warn('CRF.accuracy is deprecated and it '\n"
     ]
    }
   ],
   "source": [
    "loaded_params=load_model(model_name,Embedding_name,Dataset)\n",
    "loaded_model=BiLSTM(weights,n_words,max_len,n_tags)\n",
    "loaded_model.set_weights(loaded_params)"
   ]
  },
  {
   "cell_type": "markdown",
   "metadata": {},
   "source": [
    "# Testing"
   ]
  },
  {
   "cell_type": "code",
   "execution_count": 20,
   "metadata": {
    "execution": {
     "iopub.execute_input": "2024-03-09T19:17:33.21614Z",
     "iopub.status.busy": "2024-03-09T19:17:33.215287Z",
     "iopub.status.idle": "2024-03-09T19:17:38.863318Z",
     "shell.execute_reply": "2024-03-09T19:17:38.862173Z",
     "shell.execute_reply.started": "2024-03-09T19:17:33.216052Z"
    }
   },
   "outputs": [
    {
     "name": "stdout",
     "output_type": "stream",
     "text": [
      "949/949 [==============================] - 4s 4ms/step\n",
      "Accuracy: 0.9616793394088745\n",
      "Test F1 Score: 0.6432647566619955\n"
     ]
    }
   ],
   "source": [
    "accuracy = loaded_model.evaluate(X_test, Y_test, verbose = 1)\n",
    "print(\"Accuracy:\", accuracy[1])\n",
    "\n",
    "Y_pred = loaded_model.predict(X_test)\n",
    "real = get_real(Y_test)\n",
    "pred = get_pred(Y_pred)\n",
    "\n",
    "true_labels_flat = [label for sublist in real for label in sublist]\n",
    "predicted_labels_flat = [label for sublist in pred for label in sublist]\n",
    "\n",
    "# Compute F1 score\n",
    "f1 = f1_score(true_labels_flat, predicted_labels_flat, average='macro')\n",
    "\n",
    "print(\"Test F1 Score:\", f1)"
   ]
  }
 ],
 "metadata": {
  "kaggle": {
   "accelerator": "none",
   "dataSources": [
    {
     "datasetId": 4563561,
     "sourceId": 7795189,
     "sourceType": "datasetVersion"
    }
   ],
   "dockerImageVersionId": 29844,
   "isGpuEnabled": false,
   "isInternetEnabled": true,
   "language": "python",
   "sourceType": "notebook"
  },
  "kernelspec": {
   "display_name": "Python 3",
   "language": "python",
   "name": "python3"
  },
  "language_info": {
   "codemirror_mode": {
    "name": "ipython",
    "version": 3
   },
   "file_extension": ".py",
   "mimetype": "text/x-python",
   "name": "python",
   "nbconvert_exporter": "python",
   "pygments_lexer": "ipython3",
   "version": "3.6.6"
  }
 },
 "nbformat": 4,
 "nbformat_minor": 4
}
