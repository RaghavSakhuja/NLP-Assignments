{
 "cells": [
  {
   "cell_type": "code",
   "execution_count": 1,
   "id": "66223dcb",
   "metadata": {
    "execution": {
     "iopub.execute_input": "2024-03-11T16:53:37.932739Z",
     "iopub.status.busy": "2024-03-11T16:53:37.932232Z",
     "iopub.status.idle": "2024-03-11T16:53:58.245127Z",
     "shell.execute_reply": "2024-03-11T16:53:58.243711Z"
    },
    "papermill": {
     "duration": 20.343307,
     "end_time": "2024-03-11T16:53:58.248313",
     "exception": false,
     "start_time": "2024-03-11T16:53:37.905006",
     "status": "completed"
    },
    "tags": []
   },
   "outputs": [
    {
     "name": "stdout",
     "output_type": "stream",
     "text": [
      "Collecting keras==2.15.0\r\n",
      "  Downloading keras-2.15.0-py3-none-any.whl.metadata (2.4 kB)\r\n",
      "Downloading keras-2.15.0-py3-none-any.whl (1.7 MB)\r\n",
      "\u001b[2K   \u001b[90m━━━━━━━━━━━━━━━━━━━━━━━━━━━━━━━━━━━━━━━━\u001b[0m \u001b[32m1.7/1.7 MB\u001b[0m \u001b[31m16.4 MB/s\u001b[0m eta \u001b[36m0:00:00\u001b[0m\r\n",
      "\u001b[?25hInstalling collected packages: keras\r\n",
      "  Attempting uninstall: keras\r\n",
      "    Found existing installation: keras 3.0.5\r\n",
      "    Uninstalling keras-3.0.5:\r\n",
      "      Successfully uninstalled keras-3.0.5\r\n",
      "\u001b[31mERROR: pip's dependency resolver does not currently take into account all the packages that are installed. This behaviour is the source of the following dependency conflicts.\r\n",
      "tensorflow-decision-forests 1.8.1 requires wurlitzer, which is not installed.\u001b[0m\u001b[31m\r\n",
      "\u001b[0mSuccessfully installed keras-2.15.0\r\n"
     ]
    }
   ],
   "source": [
    "!pip install keras==2.15.0"
   ]
  },
  {
   "cell_type": "markdown",
   "id": "4a531dc0",
   "metadata": {
    "papermill": {
     "duration": 0.025588,
     "end_time": "2024-03-11T16:53:58.298221",
     "exception": false,
     "start_time": "2024-03-11T16:53:58.272633",
     "status": "completed"
    },
    "tags": []
   },
   "source": [
    "# Run"
   ]
  },
  {
   "cell_type": "code",
   "execution_count": 2,
   "id": "93309817",
   "metadata": {
    "execution": {
     "iopub.execute_input": "2024-03-11T16:53:58.349666Z",
     "iopub.status.busy": "2024-03-11T16:53:58.349192Z",
     "iopub.status.idle": "2024-03-11T16:54:42.694646Z",
     "shell.execute_reply": "2024-03-11T16:54:42.693222Z"
    },
    "papermill": {
     "duration": 44.375579,
     "end_time": "2024-03-11T16:54:42.697911",
     "exception": false,
     "start_time": "2024-03-11T16:53:58.322332",
     "status": "completed"
    },
    "tags": []
   },
   "outputs": [
    {
     "name": "stderr",
     "output_type": "stream",
     "text": [
      "2024-03-11 16:54:00.886413: E external/local_xla/xla/stream_executor/cuda/cuda_dnn.cc:9261] Unable to register cuDNN factory: Attempting to register factory for plugin cuDNN when one has already been registered\n",
      "2024-03-11 16:54:00.886567: E external/local_xla/xla/stream_executor/cuda/cuda_fft.cc:607] Unable to register cuFFT factory: Attempting to register factory for plugin cuFFT when one has already been registered\n",
      "2024-03-11 16:54:01.089253: E external/local_xla/xla/stream_executor/cuda/cuda_blas.cc:1515] Unable to register cuBLAS factory: Attempting to register factory for plugin cuBLAS when one has already been registered\n"
     ]
    }
   ],
   "source": [
    "import pickle\n",
    "import numpy as np\n",
    "import tensorflow as tf\n",
    "import json\n",
    "import matplotlib.pyplot as plt\n",
    "\n",
    "import fasttext\n",
    "import fasttext.util\n",
    "from keras.models import Model\n",
    "from keras.layers import Dropout,Input\n",
    "# from tensorflow_addons.layers import CRF\n",
    "from keras.layers import Dense\n",
    "from keras.layers import Embedding\n",
    "from keras.models import Sequential\n",
    "from keras.callbacks import Callback\n",
    "from keras.preprocessing.text import *\n",
    "from keras.utils import to_categorical\n",
    "from gensim.models import KeyedVectors\n",
    "from keras.layers import GRU, SimpleRNN, LSTM, Bidirectional\n",
    "from keras.layers import TimeDistributed\n",
    "from keras.metrics import F1Score, Precision, Recall\n",
    "from keras.preprocessing.sequence import pad_sequences\n",
    "from sklearn.metrics import f1_score\n",
    "# from tensorflow.keras.optimizers import AdamW\n",
    "# from tensorflow_addons.losses import SigmoidFocalCrossEntropy\n",
    "from sklearn.model_selection import GridSearchCV\n",
    "# from kerastuner.tuners import RandomSearch\n",
    "# from kerastuner.engine.hyperparameters import HyperParameters\n",
    "# from tensorflow.keras.optimizers import AdamW, Adam, RMSprop, SGD"
   ]
  },
  {
   "cell_type": "code",
   "execution_count": 3,
   "id": "58fb5ccf",
   "metadata": {
    "execution": {
     "iopub.execute_input": "2024-03-11T16:54:42.750951Z",
     "iopub.status.busy": "2024-03-11T16:54:42.749698Z",
     "iopub.status.idle": "2024-03-11T16:54:42.789620Z",
     "shell.execute_reply": "2024-03-11T16:54:42.787960Z"
    },
    "papermill": {
     "duration": 0.069595,
     "end_time": "2024-03-11T16:54:42.792461",
     "exception": false,
     "start_time": "2024-03-11T16:54:42.722866",
     "status": "completed"
    },
    "tags": []
   },
   "outputs": [
    {
     "name": "stdout",
     "output_type": "stream",
     "text": [
      "/kaggle/input/nernlp3/BiLSTM_word2vec.pkl\n",
      "/kaggle/input/nernlp3/BiLSTM_fasttext.pkl\n",
      "/kaggle/input/nernlp3/Assignment2/WordEmbeddings/glove.840B.300d.pkl\n",
      "/kaggle/input/nernlp3/Assignment2/WordEmbeddings/Word2vec.bin\n",
      "/kaggle/input/nernlp3/Assignment2/WordEmbeddings/cc.en.300.bin\n",
      "/kaggle/input/nernlp3/Assignment2/Data/check.py\n",
      "/kaggle/input/nernlp3/Assignment2/Data/NER_TRAIN_JUDGEMENT.json\n",
      "/kaggle/input/nernlp3/Assignment2/Data/Laptop_Review_Val.json\n",
      "/kaggle/input/nernlp3/Assignment2/Data/bio.ipynb\n",
      "/kaggle/input/nernlp3/Assignment2/Data/Laptop_Review_Train.json\n",
      "/kaggle/input/nernlp3/Assignment2/Data/bio1.py\n",
      "/kaggle/input/nernlp3/Assignment2/Data/NER_TEST_JUDGEMENT.json\n",
      "/kaggle/input/nernlp3/Assignment2/Data/Laptop_Review_Test.json\n",
      "/kaggle/input/nernlp3/Assignment2/Data/processed/NER_test.json\n",
      "/kaggle/input/nernlp3/Assignment2/Data/processed/ATE_test.json\n",
      "/kaggle/input/nernlp3/Assignment2/Data/processed/NER_train.json\n",
      "/kaggle/input/nernlp3/Assignment2/Data/processed/ATE_train.json\n",
      "/kaggle/input/nernlp3/Assignment2/Data/processed/NER_val.json\n",
      "/kaggle/input/nernlp3/Assignment2/Data/processed/ATE_val.json\n",
      "/kaggle/input/picklemodel/BiLSTM_fasttext_ATE.pkl\n",
      "/kaggle/input/picklemodel/BiLSTM_fasttext (1).pkl\n",
      "/kaggle/input/picklemodel/BiLSTM_word2vec.pkl\n",
      "/kaggle/input/picklemodel/RNN_glove.pkl\n"
     ]
    }
   ],
   "source": [
    "# This Python 3 environment comes with many helpful analytics libraries installed\n",
    "# It is defined by the kaggle/python Docker image: https://github.com/kaggle/docker-python\n",
    "# For example, here's several helpful packages to load\n",
    "\n",
    "# Input data files are available in the read-only \"../input/\" directory\n",
    "# For example, running this (by clicking run or pressing Shift+Enter) will list all files under the input directory\n",
    "\n",
    "import os\n",
    "for dirname, _, filenames in os.walk('/kaggle/input'):\n",
    "    for filename in filenames:\n",
    "        print(os.path.join(dirname, filename))\n",
    "\n",
    "Embedding_name=\"fasttext\"\n",
    "Dataset=\"ATE\"     \n",
    "PATH='/kaggle/input/nernlp3/Assignment2/'\n",
    "OUTPATH='/kaggle/working/'\n",
    "\n",
    "# You can write up to 20GB to the current directory (/kaggle/working/) that gets preserved as output when you create a version using \"Save & Run All\" \n",
    "# You can also write temporary files to /kaggle/temp/, but they won't be saved outside of the current session"
   ]
  },
  {
   "cell_type": "code",
   "execution_count": 4,
   "id": "fe714de9",
   "metadata": {
    "execution": {
     "iopub.execute_input": "2024-03-11T16:54:42.846862Z",
     "iopub.status.busy": "2024-03-11T16:54:42.845635Z",
     "iopub.status.idle": "2024-03-11T16:54:47.307718Z",
     "shell.execute_reply": "2024-03-11T16:54:47.305880Z"
    },
    "papermill": {
     "duration": 4.493708,
     "end_time": "2024-03-11T16:54:47.311361",
     "exception": false,
     "start_time": "2024-03-11T16:54:42.817653",
     "status": "completed"
    },
    "tags": []
   },
   "outputs": [
    {
     "name": "stderr",
     "output_type": "stream",
     "text": [
      "/opt/conda/lib/python3.10/pty.py:89: RuntimeWarning: os.fork() was called. os.fork() is incompatible with multithreaded code, and JAX is multithreaded, so this will likely lead to a deadlock.\n",
      "  pid, fd = os.forkpty()\n"
     ]
    }
   ],
   "source": [
    "! mkdir Saved_Models\n",
    "! mkdir Saved_Models/ATE\n",
    "! mkdir Saved_Models/NER\n",
    "! mkdir Graphs"
   ]
  },
  {
   "cell_type": "code",
   "execution_count": 5,
   "id": "a682ff28",
   "metadata": {
    "execution": {
     "iopub.execute_input": "2024-03-11T16:54:47.365862Z",
     "iopub.status.busy": "2024-03-11T16:54:47.365416Z",
     "iopub.status.idle": "2024-03-11T16:54:47.419747Z",
     "shell.execute_reply": "2024-03-11T16:54:47.418345Z"
    },
    "papermill": {
     "duration": 0.084669,
     "end_time": "2024-03-11T16:54:47.422875",
     "exception": false,
     "start_time": "2024-03-11T16:54:47.338206",
     "status": "completed"
    },
    "tags": []
   },
   "outputs": [],
   "source": [
    "def checking(a):\n",
    "    print(\"Hello World\",a)\n",
    "\n",
    "def new_checking(a):\n",
    "    print(\"Hello World\",a)\n",
    "\n",
    "def create_train_test_val(file):\n",
    "    lst_out_text=[]\n",
    "    lst_out_labels=[]\n",
    "    for i in file.values():\n",
    "        sentence = i['text']\n",
    "        sentence = sentence.lower()\n",
    "        labels = i['labels']\n",
    "        lst_out_text.append(sentence)\n",
    "        lst_out_labels.append(labels)\n",
    "    return lst_out_text,lst_out_labels    \n",
    "\n",
    "def TokenCreator(sentences,val,tokenizer=None):\n",
    "    \n",
    "    temp_wordlist = None\n",
    "    tokenizer2=None\n",
    "    if(tokenizer == None):\n",
    "        if val==1:\n",
    "            tokenizer2 = Tokenizer(oov_token=\"#UK\",filters='')\n",
    "        else:\n",
    "            tokenizer2=Tokenizer()\n",
    "        tokenizer2.fit_on_texts(sentences)\n",
    "        \n",
    "        temp_wordlist = tokenizer2.texts_to_sequences(sentences)\n",
    "        return (temp_wordlist,tokenizer2)\n",
    "    \n",
    "    else:\n",
    "        temp_wordlist = tokenizer.texts_to_sequences(sentences)\n",
    "        return temp_wordlist\n",
    "    \n",
    "def find_vocab(dataset):\n",
    "    lst=[]\n",
    "    lst.append(\"#UK\")\n",
    "    for i in dataset:\n",
    "        for j in i:\n",
    "            lst.append(j)\n",
    "    st = set(lst)\n",
    "    return st\n",
    "\n",
    "'''\n",
    "--------------------------------------GRAPHS--------------------------------------\n",
    "'''\n",
    "\n",
    "def draw_loss_graph(model,model_name,f1_scores_train,f1_scores_val):\n",
    "    train_loss = model.history['loss']\n",
    "    val_loss = model.history['val_loss']\n",
    "    x = [i+1 for i in range(len(train_loss))]\n",
    "    train_y = train_loss\n",
    "    val_y = val_loss\n",
    "    \n",
    "    fig, axes = plt.subplots(1,2,figsize = (16,5))\n",
    "    # plt.subplots(axes = (2,1))\n",
    "    axes[0].plot(x,train_y, color = 'blue')  \n",
    "    \n",
    "    axes[0].plot(x,val_y, color = 'red') \n",
    "    axes[0].set_title('Loss over Epochs')\n",
    "    axes[0].set_xlabel('Epoch')\n",
    "    axes[0].set_ylabel('Loss')\n",
    "\n",
    "    axes[1].plot(x,f1_scores_train, color = 'blue')\n",
    "    axes[1].plot(x,f1_scores_val, color = 'red')\n",
    "    axes[1].set_title('F1 Score vs Epoch')\n",
    "    axes[1].set_xlabel('Epochs')\n",
    "    axes[1].set_ylabel('F1 Score')\n",
    "\n",
    "    axes[0].legend(['Train','Val'])\n",
    "    axes[1].legend(['Train','Val'])\n",
    "    \n",
    "    plt.suptitle(model_name)\n",
    "\n",
    "    \n",
    "    plt.show()\n",
    "    \n",
    "'''\n",
    "--------------------------------------MODELS--------------------------------------\n",
    "'''\n",
    "\n",
    "def save_model(model,model_name, embedding, dataset):\n",
    "    model.save_weights(f'{OUTPATH}Saved_Models/{dataset}/{model_name}_{embedding}.h5')\n",
    "    with open(f'{OUTPATH}Saved_Models/{dataset}/{model_name}_{embedding}.pkl', 'wb') as file:\n",
    "        pickle.dump(model.get_weights(), file)\n",
    "\n",
    "def load_model(model_name, embedding, dataset):\n",
    "    with open(f'{OUTPATH}Saved_Models/{dataset}/{model_name}_{embedding}.pkl', 'rb') as file:\n",
    "        loaded_model = pickle.load(file)\n",
    "    \n",
    "    return loaded_model\n",
    "\n",
    "'''\n",
    "--------------------------------------CALLBACKS--------------------------------------\n",
    "'''\n",
    "\n",
    "class F1ScoreCallback(Callback):\n",
    "\n",
    "    def __init__(self, val_data, data):\n",
    "        super(F1ScoreCallback, self).__init__()\n",
    "        self.val_data = val_data\n",
    "        self.data=data\n",
    "        self.val_f1_scores = [] \n",
    "        self.train_f1_scores = []\n",
    "\n",
    "    \n",
    "\n",
    "    def on_epoch_end(self, epoch, logs=None):\n",
    "        x_val, y_val = self.val_data\n",
    "        x_data, y_data = self.data\n",
    "        y_pred_val = self.model.predict(x_val)\n",
    "        y_pred_train = self.model.predict(x_data)\n",
    "\n",
    "        def scikitf1(pred,real):\n",
    "\n",
    "            true_labels_flat = [label for sublist in real for label in sublist]\n",
    "            predicted_labels_flat = [label for sublist in pred for label in sublist]\n",
    "            # Compute F1 score\n",
    "            f1 = f1_score(true_labels_flat, predicted_labels_flat, average='macro')\n",
    "            return f1\n",
    "        def get_pred(Y_padded_output):\n",
    "                # print(Y_padded_output.shape)\n",
    "                final_output=[]\n",
    "                for i in range(Y_padded_output.shape[0]):\n",
    "                    output=[]\n",
    "                    for j in range(Y_padded_output.shape[1]):\n",
    "                        max_value=-1\n",
    "                        maxIndex=-1\n",
    "                        for k in range(Y_padded_output.shape[2]):\n",
    "                            if Y_padded_output[i][j][k]>max_value:\n",
    "                                maxIndex=k\n",
    "                                max_value=max(max_value,Y_padded_output[i][j][k])\n",
    "                        output.append(maxIndex)\n",
    "                    final_output.append(output)\n",
    "                return final_output\n",
    "\n",
    "        def get_real(Y_padded_test):\n",
    "            # print(Y_padded_test.shape)\n",
    "            final_Y=[]\n",
    "            for i in range(Y_padded_test.shape[0]):\n",
    "                output=[]\n",
    "                for j in range(Y_padded_test.shape[1]):\n",
    "                    max_value=-1\n",
    "                    maxIndex=-1\n",
    "                    for k in range(Y_padded_test.shape[2]):\n",
    "                        if Y_padded_test[i][j][k]>max_value:\n",
    "                            maxIndex=k\n",
    "                            max_value=max(max_value,Y_padded_test[i][j][k])\n",
    "                    output.append(maxIndex)\n",
    "                final_Y.append(output)\n",
    "            return final_Y\n",
    "        \n",
    "        # print(\"here\")\n",
    "        pred_train=get_pred(y_pred_train)\n",
    "        # print(pred_train)\n",
    "        real_train=get_real(y_data)\n",
    "        # print(real_train)\n",
    "\n",
    "        pred_val=get_pred(y_pred_val)\n",
    "        real_val=get_real(y_val)\n",
    "\n",
    "        f1_train = scikitf1(pred_train,real_train)\n",
    "        f1_val = scikitf1(pred_val,real_val)\n",
    "\n",
    "        self.val_f1_scores.append(f1_val)\n",
    "        self.train_f1_scores.append(f1_train)\n",
    "        print(f'Val F1 Score: {f1_val} - Train F1 Score: {f1_train}')\n",
    "\n",
    "\n",
    "\n",
    "#---------Prediction Functions----------------------------------------------\n",
    "def get_pred(Y_padded_output):\n",
    "    final_output=[]\n",
    "    for i in range(Y_padded_output.shape[0]):\n",
    "        output=[]\n",
    "        for j in range(Y_padded_output.shape[1]):\n",
    "            max_value=-1\n",
    "            maxIndex=-1\n",
    "            for k in range(Y_padded_output.shape[2]):\n",
    "                if Y_padded_output[i][j][k]>max_value:\n",
    "                    maxIndex=k\n",
    "                    max_value=max(max_value,Y_padded_output[i][j][k])\n",
    "            output.append(maxIndex)\n",
    "        final_output.append(output)\n",
    "    return final_output\n",
    "\n",
    "def get_real(Y_padded_test):\n",
    "    final_Y=[]\n",
    "    for i in range(Y_padded_test.shape[0]):\n",
    "        output=[]\n",
    "        for j in range(Y_padded_test.shape[1]):\n",
    "            max_value=-1\n",
    "            maxIndex=-1\n",
    "            for k in range(Y_padded_test.shape[2]):\n",
    "                if Y_padded_test[i][j][k]>max_value:\n",
    "                    maxIndex=k\n",
    "                    max_value=max(max_value,Y_padded_test[i][j][k])\n",
    "            output.append(maxIndex)\n",
    "        final_Y.append(output)\n",
    "    return final_Y\n",
    "\n",
    "def my_f1(y_true, y_pred):\n",
    "    \n",
    "    # predictions = get_pred(y_pred)\n",
    "    # real = get_real(y_true)\n",
    "\n",
    "    predictions = y_pred\n",
    "    real = y_true\n",
    "\n",
    "    size=len(predictions)\n",
    "\n",
    "    unique_labels= set()\n",
    "\n",
    "    for labels in real:\n",
    "        unique_labels.update(labels)\n",
    "\n",
    "    for labels in predictions:\n",
    "        unique_labels.update(labels)\n",
    "\n",
    "    labels_f1=[]\n",
    "\n",
    "    for labels in unique_labels:\n",
    "        tp=0\n",
    "        fp=0\n",
    "        fn=0\n",
    "\n",
    "        for i in range(size):\n",
    "            l=[]\n",
    "                    \n",
    "            tp+=sum((p==labels and r==labels) for p,r in zip(predictions[i],real[i]))\n",
    "            fp+=sum((p==labels and r!=labels) for p,r in zip(predictions[i],real[i]))\n",
    "            fn+=sum((p!=labels and r==labels) for p,r in zip(predictions[i],real[i]))\n",
    "\n",
    "        \n",
    "        precision = tp/(tp+fp) if tp+fp>0 else 0\n",
    "        recall = tp/(tp+fn) if tp+fn>0 else 0\n",
    "\n",
    "        f1=2*((precision*recall)/(precision+recall)) if precision+recall>0 else 0\n",
    "\n",
    "        labels_f1.append(f1)\n",
    "        print(f1,unique_labels)\n",
    "    macro_f1 = sum(labels_f1)/len(unique_labels)\n",
    "    return macro_f1\n",
    "\n",
    "def scikitf1(pred,real):\n",
    "\n",
    "    true_labels_flat = [label for sublist in real for label in sublist]\n",
    "    predicted_labels_flat = [label for sublist in pred for label in sublist]\n",
    "    # Compute F1 score\n",
    "    f1 = f1_score(true_labels_flat, predicted_labels_flat, average='macro')\n",
    "    return f1"
   ]
  },
  {
   "cell_type": "code",
   "execution_count": null,
   "id": "96775c33",
   "metadata": {
    "papermill": {
     "duration": 0.02411,
     "end_time": "2024-03-11T16:54:47.471579",
     "exception": false,
     "start_time": "2024-03-11T16:54:47.447469",
     "status": "completed"
    },
    "tags": []
   },
   "outputs": [],
   "source": []
  },
  {
   "cell_type": "code",
   "execution_count": null,
   "id": "3850802f",
   "metadata": {
    "papermill": {
     "duration": 0.025023,
     "end_time": "2024-03-11T16:54:47.521340",
     "exception": false,
     "start_time": "2024-03-11T16:54:47.496317",
     "status": "completed"
    },
    "tags": []
   },
   "outputs": [],
   "source": []
  },
  {
   "cell_type": "code",
   "execution_count": 6,
   "id": "937a9f54",
   "metadata": {
    "execution": {
     "iopub.execute_input": "2024-03-11T16:54:47.577153Z",
     "iopub.status.busy": "2024-03-11T16:54:47.576731Z",
     "iopub.status.idle": "2024-03-11T16:54:47.582881Z",
     "shell.execute_reply": "2024-03-11T16:54:47.581560Z"
    },
    "papermill": {
     "duration": 0.03696,
     "end_time": "2024-03-11T16:54:47.585440",
     "exception": false,
     "start_time": "2024-03-11T16:54:47.548480",
     "status": "completed"
    },
    "tags": []
   },
   "outputs": [],
   "source": [
    "seed_value = 40\n",
    "np.random.seed(seed_value)\n",
    "tf.random.set_seed(seed_value)"
   ]
  },
  {
   "cell_type": "code",
   "execution_count": 7,
   "id": "91fab08a",
   "metadata": {
    "execution": {
     "iopub.execute_input": "2024-03-11T16:54:47.638757Z",
     "iopub.status.busy": "2024-03-11T16:54:47.638327Z",
     "iopub.status.idle": "2024-03-11T16:56:06.792928Z",
     "shell.execute_reply": "2024-03-11T16:56:06.791632Z"
    },
    "papermill": {
     "duration": 79.208343,
     "end_time": "2024-03-11T16:56:06.819584",
     "exception": false,
     "start_time": "2024-03-11T16:54:47.611241",
     "status": "completed"
    },
    "tags": []
   },
   "outputs": [
    {
     "name": "stderr",
     "output_type": "stream",
     "text": [
      "Warning : `load_model` does not return WordVectorModel or SupervisedModel any more, but a `FastText` object which is very similar.\n"
     ]
    }
   ],
   "source": [
    "if Embedding_name==\"word2vec\":\n",
    "    emb = KeyedVectors.load_word2vec_format(f'{PATH}WordEmbeddings/Word2vec.bin',binary=True)\n",
    "\n",
    "if Embedding_name==\"glove\":\n",
    "    with open(f'{PATH}WordEmbeddings/glove.840B.300d.pkl', 'rb') as fp:\n",
    "        emb = pickle.load(fp)\n",
    "if Embedding_name==\"fasttext\":\n",
    "    emb = fasttext.load_model(f'{PATH}WordEmbeddings/cc.en.300.bin')"
   ]
  },
  {
   "cell_type": "markdown",
   "id": "c9ed7d01",
   "metadata": {
    "papermill": {
     "duration": 0.025938,
     "end_time": "2024-03-11T16:56:06.869693",
     "exception": false,
     "start_time": "2024-03-11T16:56:06.843755",
     "status": "completed"
    },
    "tags": []
   },
   "source": [
    "# Data Extraction and Preprocessing"
   ]
  },
  {
   "cell_type": "markdown",
   "id": "142da804",
   "metadata": {
    "papermill": {
     "duration": 0.024135,
     "end_time": "2024-03-11T16:56:06.918300",
     "exception": false,
     "start_time": "2024-03-11T16:56:06.894165",
     "status": "completed"
    },
    "tags": []
   },
   "source": [
    "Reading ATE json files"
   ]
  },
  {
   "cell_type": "code",
   "execution_count": 8,
   "id": "c83ff3ff",
   "metadata": {
    "execution": {
     "iopub.execute_input": "2024-03-11T16:56:06.971211Z",
     "iopub.status.busy": "2024-03-11T16:56:06.970788Z",
     "iopub.status.idle": "2024-03-11T16:56:07.017245Z",
     "shell.execute_reply": "2024-03-11T16:56:07.015814Z"
    },
    "papermill": {
     "duration": 0.076001,
     "end_time": "2024-03-11T16:56:07.020283",
     "exception": false,
     "start_time": "2024-03-11T16:56:06.944282",
     "status": "completed"
    },
    "tags": []
   },
   "outputs": [],
   "source": [
    "\n",
    "train = None\n",
    "test = None\n",
    "val = None\n",
    "with open(f\"{PATH}Data/processed/{Dataset}_train.json\") as f1:\n",
    "    train = json.load(f1)\n",
    "\n",
    "with open(f\"{PATH}Data/processed/{Dataset}_test.json\") as f2:\n",
    "    test = json.load(f2)\n",
    "\n",
    "with open(f\"{PATH}Data/processed/{Dataset}_val.json\") as f3:\n",
    "    val = json.load(f3)\n",
    "\n"
   ]
  },
  {
   "cell_type": "markdown",
   "id": "757d9c9a",
   "metadata": {
    "papermill": {
     "duration": 0.023949,
     "end_time": "2024-03-11T16:56:07.069783",
     "exception": false,
     "start_time": "2024-03-11T16:56:07.045834",
     "status": "completed"
    },
    "tags": []
   },
   "source": [
    "processing into lists"
   ]
  },
  {
   "cell_type": "code",
   "execution_count": 9,
   "id": "ea3577ad",
   "metadata": {
    "execution": {
     "iopub.execute_input": "2024-03-11T16:56:07.122025Z",
     "iopub.status.busy": "2024-03-11T16:56:07.121605Z",
     "iopub.status.idle": "2024-03-11T16:56:07.128427Z",
     "shell.execute_reply": "2024-03-11T16:56:07.127139Z"
    },
    "papermill": {
     "duration": 0.036366,
     "end_time": "2024-03-11T16:56:07.130757",
     "exception": false,
     "start_time": "2024-03-11T16:56:07.094391",
     "status": "completed"
    },
    "tags": []
   },
   "outputs": [],
   "source": [
    "X_train,Y_train = create_train_test_val(train)\n",
    "X_test,Y_test = create_train_test_val(test)\n",
    "X_val,Y_val = create_train_test_val(val)"
   ]
  },
  {
   "cell_type": "markdown",
   "id": "79280ca5",
   "metadata": {
    "papermill": {
     "duration": 0.024089,
     "end_time": "2024-03-11T16:56:07.180836",
     "exception": false,
     "start_time": "2024-03-11T16:56:07.156747",
     "status": "completed"
    },
    "tags": []
   },
   "source": [
    "Tokenizing the ATE Dataset"
   ]
  },
  {
   "cell_type": "code",
   "execution_count": 10,
   "id": "64389114",
   "metadata": {
    "execution": {
     "iopub.execute_input": "2024-03-11T16:56:07.232681Z",
     "iopub.status.busy": "2024-03-11T16:56:07.232290Z",
     "iopub.status.idle": "2024-03-11T16:56:07.317810Z",
     "shell.execute_reply": "2024-03-11T16:56:07.316469Z"
    },
    "papermill": {
     "duration": 0.114801,
     "end_time": "2024-03-11T16:56:07.320724",
     "exception": false,
     "start_time": "2024-03-11T16:56:07.205923",
     "status": "completed"
    },
    "tags": []
   },
   "outputs": [],
   "source": [
    "X_train_tokenized, toke = TokenCreator(X_train,1)\n",
    "X_test_tokenized = TokenCreator(X_test,0,tokenizer = toke)\n",
    "X_val_tokenized = TokenCreator(X_val,0,tokenizer = toke)\n",
    "\n",
    "Y_train_tokenized,toke2 = TokenCreator(Y_train,0)\n",
    "Y_test_tokenized = TokenCreator(Y_test,0,tokenizer = toke2)\n",
    "Y_val_tokenized = TokenCreator(Y_val,0,tokenizer = toke2)"
   ]
  },
  {
   "cell_type": "markdown",
   "id": "ed481a99",
   "metadata": {
    "papermill": {
     "duration": 0.090887,
     "end_time": "2024-03-11T16:56:07.437101",
     "exception": false,
     "start_time": "2024-03-11T16:56:07.346214",
     "status": "completed"
    },
    "tags": []
   },
   "source": [
    "Vocabulary of ATE"
   ]
  },
  {
   "cell_type": "code",
   "execution_count": 11,
   "id": "684a69c1",
   "metadata": {
    "execution": {
     "iopub.execute_input": "2024-03-11T16:56:07.489574Z",
     "iopub.status.busy": "2024-03-11T16:56:07.489166Z",
     "iopub.status.idle": "2024-03-11T16:56:07.501767Z",
     "shell.execute_reply": "2024-03-11T16:56:07.500402Z"
    },
    "papermill": {
     "duration": 0.042298,
     "end_time": "2024-03-11T16:56:07.504346",
     "exception": false,
     "start_time": "2024-03-11T16:56:07.462048",
     "status": "completed"
    },
    "tags": []
   },
   "outputs": [
    {
     "data": {
      "text/plain": [
       "2406"
      ]
     },
     "execution_count": 11,
     "metadata": {},
     "output_type": "execute_result"
    }
   ],
   "source": [
    "st1 = find_vocab(X_train_tokenized)\n",
    "vocab_size  = len(st1) + 1 \n",
    "vocab_size"
   ]
  },
  {
   "cell_type": "code",
   "execution_count": 12,
   "id": "7dc717f3",
   "metadata": {
    "execution": {
     "iopub.execute_input": "2024-03-11T16:56:07.557958Z",
     "iopub.status.busy": "2024-03-11T16:56:07.557084Z",
     "iopub.status.idle": "2024-03-11T16:56:07.567252Z",
     "shell.execute_reply": "2024-03-11T16:56:07.566068Z"
    },
    "papermill": {
     "duration": 0.039331,
     "end_time": "2024-03-11T16:56:07.570008",
     "exception": false,
     "start_time": "2024-03-11T16:56:07.530677",
     "status": "completed"
    },
    "tags": []
   },
   "outputs": [
    {
     "data": {
      "text/plain": [
       "78"
      ]
     },
     "execution_count": 12,
     "metadata": {},
     "output_type": "execute_result"
    }
   ],
   "source": [
    "max_len=0\n",
    "\n",
    "for i in X_train_tokenized:\n",
    "    max_len = max(max_len,len(i))\n",
    "\n",
    "max_len"
   ]
  },
  {
   "cell_type": "markdown",
   "id": "4555e56e",
   "metadata": {
    "papermill": {
     "duration": 0.026229,
     "end_time": "2024-03-11T16:56:07.621904",
     "exception": false,
     "start_time": "2024-03-11T16:56:07.595675",
     "status": "completed"
    },
    "tags": []
   },
   "source": [
    "Padding ATE"
   ]
  },
  {
   "cell_type": "code",
   "execution_count": 13,
   "id": "3bf43b37",
   "metadata": {
    "execution": {
     "iopub.execute_input": "2024-03-11T16:56:07.674498Z",
     "iopub.status.busy": "2024-03-11T16:56:07.674106Z",
     "iopub.status.idle": "2024-03-11T16:56:07.704004Z",
     "shell.execute_reply": "2024-03-11T16:56:07.702681Z"
    },
    "papermill": {
     "duration": 0.059979,
     "end_time": "2024-03-11T16:56:07.706844",
     "exception": false,
     "start_time": "2024-03-11T16:56:07.646865",
     "status": "completed"
    },
    "tags": []
   },
   "outputs": [],
   "source": [
    "X_padded_train = pad_sequences(X_train_tokenized, maxlen=max_len, padding=\"pre\", truncating=\"post\")\n",
    "Y_padded_train = pad_sequences(Y_train_tokenized, maxlen=max_len, padding=\"pre\", truncating=\"post\")\n",
    "\n",
    "X_padded_test = pad_sequences(X_test_tokenized, maxlen=max_len, padding=\"pre\", truncating=\"post\")\n",
    "Y_padded_test = pad_sequences(Y_test_tokenized, maxlen=max_len, padding=\"pre\", truncating=\"post\")\n",
    "\n",
    "X_padded_val = pad_sequences(X_val_tokenized, maxlen=max_len, padding=\"pre\", truncating=\"post\")\n",
    "Y_padded_val = pad_sequences(Y_val_tokenized, maxlen=max_len, padding=\"pre\", truncating=\"post\")       "
   ]
  },
  {
   "cell_type": "markdown",
   "id": "6cab1bdb",
   "metadata": {
    "papermill": {
     "duration": 0.024649,
     "end_time": "2024-03-11T16:56:07.757011",
     "exception": false,
     "start_time": "2024-03-11T16:56:07.732362",
     "status": "completed"
    },
    "tags": []
   },
   "source": [
    "One hot encoding the ATE labels"
   ]
  },
  {
   "cell_type": "code",
   "execution_count": 14,
   "id": "471efbaa",
   "metadata": {
    "execution": {
     "iopub.execute_input": "2024-03-11T16:56:07.809248Z",
     "iopub.status.busy": "2024-03-11T16:56:07.808865Z",
     "iopub.status.idle": "2024-03-11T16:56:07.817029Z",
     "shell.execute_reply": "2024-03-11T16:56:07.816061Z"
    },
    "papermill": {
     "duration": 0.037447,
     "end_time": "2024-03-11T16:56:07.819764",
     "exception": false,
     "start_time": "2024-03-11T16:56:07.782317",
     "status": "completed"
    },
    "tags": []
   },
   "outputs": [],
   "source": [
    "Y_padded_train = to_categorical(Y_padded_train)\n",
    "Y_padded_test = to_categorical(Y_padded_test)\n",
    "Y_padded_val = to_categorical(Y_padded_val)"
   ]
  },
  {
   "cell_type": "markdown",
   "id": "a1bba19d",
   "metadata": {
    "papermill": {
     "duration": 0.024809,
     "end_time": "2024-03-11T16:56:07.870028",
     "exception": false,
     "start_time": "2024-03-11T16:56:07.845219",
     "status": "completed"
    },
    "tags": []
   },
   "source": [
    "Assigning **ATE Word2Vec** mapping"
   ]
  },
  {
   "cell_type": "code",
   "execution_count": 15,
   "id": "9384315e",
   "metadata": {
    "execution": {
     "iopub.execute_input": "2024-03-11T16:56:07.922513Z",
     "iopub.status.busy": "2024-03-11T16:56:07.922129Z",
     "iopub.status.idle": "2024-03-11T16:56:07.969126Z",
     "shell.execute_reply": "2024-03-11T16:56:07.967884Z"
    },
    "papermill": {
     "duration": 0.076288,
     "end_time": "2024-03-11T16:56:07.971978",
     "exception": false,
     "start_time": "2024-03-11T16:56:07.895690",
     "status": "completed"
    },
    "tags": []
   },
   "outputs": [
    {
     "data": {
      "text/plain": [
       "{'#UK': 1,\n",
       " 'the': 2,\n",
       " '.': 3,\n",
       " ',': 4,\n",
       " 'and': 5,\n",
       " 'it': 6,\n",
       " 'to': 7,\n",
       " 'i': 8,\n",
       " 'is': 9,\n",
       " 'a': 10,\n",
       " 'of': 11,\n",
       " 'for': 12,\n",
       " 'with': 13,\n",
       " 'that': 14,\n",
       " 'my': 15,\n",
       " 'you': 16,\n",
       " 'this': 17,\n",
       " 'was': 18,\n",
       " 'in': 19,\n",
       " 'not': 20,\n",
       " 'on': 21,\n",
       " 'very': 22,\n",
       " 'but': 23,\n",
       " 'computer': 24,\n",
       " 'use': 25,\n",
       " 'have': 26,\n",
       " 'great': 27,\n",
       " 'they': 28,\n",
       " 'laptop': 29,\n",
       " \"n't\": 30,\n",
       " 'so': 31,\n",
       " 'has': 32,\n",
       " 'are': 33,\n",
       " 'battery': 34,\n",
       " 'had': 35,\n",
       " 'screen': 36,\n",
       " ')': 37,\n",
       " 'be': 38,\n",
       " 'as': 39,\n",
       " 'all': 40,\n",
       " '!': 41,\n",
       " '(': 42,\n",
       " \"'s\": 43,\n",
       " 'also': 44,\n",
       " 'me': 45,\n",
       " 'just': 46,\n",
       " 'easy': 47,\n",
       " 'when': 48,\n",
       " 'at': 49,\n",
       " 'or': 50,\n",
       " 'only': 51,\n",
       " 'which': 52,\n",
       " 'up': 53,\n",
       " 'life': 54,\n",
       " 'can': 55,\n",
       " 'windows': 56,\n",
       " 'than': 57,\n",
       " 'out': 58,\n",
       " 'if': 59,\n",
       " 'do': 60,\n",
       " 'after': 61,\n",
       " 'more': 62,\n",
       " 'keyboard': 63,\n",
       " 'would': 64,\n",
       " 'drive': 65,\n",
       " 'hard': 66,\n",
       " 'price': 67,\n",
       " 'from': 68,\n",
       " 'well': 69,\n",
       " 'because': 70,\n",
       " 'good': 71,\n",
       " 'one': 72,\n",
       " 'an': 73,\n",
       " 'like': 74,\n",
       " 'mac': 75,\n",
       " 'about': 76,\n",
       " 'quality': 77,\n",
       " 'its': 78,\n",
       " 'love': 79,\n",
       " 'get': 80,\n",
       " 'no': 81,\n",
       " 'software': 82,\n",
       " 'time': 83,\n",
       " 'even': 84,\n",
       " 'macbook': 85,\n",
       " 'will': 86,\n",
       " 'system': 87,\n",
       " 'apple': 88,\n",
       " 'other': 89,\n",
       " 'there': 90,\n",
       " 'does': 91,\n",
       " 'thing': 92,\n",
       " 'problem': 93,\n",
       " 'new': 94,\n",
       " 'much': 95,\n",
       " 'features': 96,\n",
       " 'any': 97,\n",
       " 'then': 98,\n",
       " 'programs': 99,\n",
       " 'power': 100,\n",
       " 'now': 101,\n",
       " 'service': 102,\n",
       " 'work': 103,\n",
       " 'buy': 104,\n",
       " 'works': 105,\n",
       " 'problems': 106,\n",
       " 'fast': 107,\n",
       " 'did': 108,\n",
       " 'toshiba': 109,\n",
       " '7': 110,\n",
       " 'could': 111,\n",
       " 'size': 112,\n",
       " 'what': 113,\n",
       " 'am': 114,\n",
       " 'too': 115,\n",
       " 'working': 116,\n",
       " 'back': 117,\n",
       " 'your': 118,\n",
       " ':': 119,\n",
       " 'speed': 120,\n",
       " 'machine': 121,\n",
       " 'best': 122,\n",
       " 'pro': 123,\n",
       " 'we': 124,\n",
       " 'were': 125,\n",
       " 'again': 126,\n",
       " 'pc': 127,\n",
       " 'performance': 128,\n",
       " 'little': 129,\n",
       " 'product': 130,\n",
       " 'many': 131,\n",
       " '-': 132,\n",
       " 'really': 133,\n",
       " 'by': 134,\n",
       " 'need': 135,\n",
       " 'first': 136,\n",
       " 'having': 137,\n",
       " \"''\": 138,\n",
       " 'some': 139,\n",
       " 'still': 140,\n",
       " 'months': 141,\n",
       " 'memory': 142,\n",
       " 'long': 143,\n",
       " 'been': 144,\n",
       " 'their': 145,\n",
       " 'bought': 146,\n",
       " 'better': 147,\n",
       " 'everything': 148,\n",
       " 'used': 149,\n",
       " 'warranty': 150,\n",
       " 'since': 151,\n",
       " 'worth': 152,\n",
       " 'graphics': 153,\n",
       " 'how': 154,\n",
       " 'design': 155,\n",
       " 'applications': 156,\n",
       " 'mouse': 157,\n",
       " 'comes': 158,\n",
       " 'run': 159,\n",
       " 'who': 160,\n",
       " 'every': 161,\n",
       " 'nice': 162,\n",
       " 'internet': 163,\n",
       " 'laptops': 164,\n",
       " 'never': 165,\n",
       " 'replaced': 166,\n",
       " '3': 167,\n",
       " 'support': 168,\n",
       " 'games': 169,\n",
       " 'bad': 170,\n",
       " 'same': 171,\n",
       " 'right': 172,\n",
       " '``': 173,\n",
       " 'runs': 174,\n",
       " 'looking': 175,\n",
       " 'enough': 176,\n",
       " 'using': 177,\n",
       " 'way': 178,\n",
       " 'running': 179,\n",
       " 'able': 180,\n",
       " 'program': 181,\n",
       " 'always': 182,\n",
       " 'lot': 183,\n",
       " 'dell': 184,\n",
       " 'another': 185,\n",
       " \"'ve\": 186,\n",
       " 'pad': 187,\n",
       " 'netbook': 188,\n",
       " 'got': 189,\n",
       " 'operating': 190,\n",
       " 'hp': 191,\n",
       " 'money': 192,\n",
       " 'most': 193,\n",
       " 'went': 194,\n",
       " 'such': 195,\n",
       " '$': 196,\n",
       " 'card': 197,\n",
       " 'them': 198,\n",
       " 'come': 199,\n",
       " 'large': 200,\n",
       " 'make': 201,\n",
       " 'gaming': 202,\n",
       " 'take': 203,\n",
       " 'hours': 204,\n",
       " 'look': 205,\n",
       " 'web': 206,\n",
       " 'over': 207,\n",
       " 'less': 208,\n",
       " 'ca': 209,\n",
       " 'around': 210,\n",
       " 'though': 211,\n",
       " 'excellent': 212,\n",
       " 'display': 213,\n",
       " 'made': 214,\n",
       " '?': 215,\n",
       " 'awesome': 216,\n",
       " 'while': 217,\n",
       " 'issue': 218,\n",
       " \"'m\": 219,\n",
       " 'makes': 220,\n",
       " 'next': 221,\n",
       " 'keep': 222,\n",
       " 'slow': 223,\n",
       " 'amazing': 224,\n",
       " 'month': 225,\n",
       " 'ever': 226,\n",
       " 'purchase': 227,\n",
       " 'perfect': 228,\n",
       " 'vista': 229,\n",
       " 'customer': 230,\n",
       " 'want': 231,\n",
       " 'carry': 232,\n",
       " 'feel': 233,\n",
       " 'bit': 234,\n",
       " 'small': 235,\n",
       " 'os': 236,\n",
       " 'easily': 237,\n",
       " 'should': 238,\n",
       " 'video': 239,\n",
       " 'overall': 240,\n",
       " 'two': 241,\n",
       " 'cheap': 242,\n",
       " 'off': 243,\n",
       " 'light': 244,\n",
       " 'find': 245,\n",
       " 'open': 246,\n",
       " 'called': 247,\n",
       " 'fix': 248,\n",
       " 'stopped': 249,\n",
       " 'go': 250,\n",
       " 'things': 251,\n",
       " '5': 252,\n",
       " 'key': 253,\n",
       " 'pay': 254,\n",
       " ';': 255,\n",
       " 'desktop': 256,\n",
       " 'cost': 257,\n",
       " 'fixed': 258,\n",
       " 'processor': 259,\n",
       " 'wonderful': 260,\n",
       " 'once': 261,\n",
       " 'sound': 262,\n",
       " 'pretty': 263,\n",
       " 'space': 264,\n",
       " '2': 265,\n",
       " 'down': 266,\n",
       " 'high': 267,\n",
       " 'day': 268,\n",
       " 'external': 269,\n",
       " 'fan': 270,\n",
       " 'started': 271,\n",
       " 'quickly': 272,\n",
       " 'ease': 273,\n",
       " '--': 274,\n",
       " 'word': 275,\n",
       " 'office': 276,\n",
       " 'without': 277,\n",
       " 'old': 278,\n",
       " 'computers': 279,\n",
       " 'came': 280,\n",
       " 'due': 281,\n",
       " 'lightweight': 282,\n",
       " 'cd': 283,\n",
       " 'see': 284,\n",
       " 'short': 285,\n",
       " 'say': 286,\n",
       " 'week': 287,\n",
       " 'repair': 288,\n",
       " 'ram': 289,\n",
       " 'charge': 290,\n",
       " 'boot': 291,\n",
       " 'completely': 292,\n",
       " 'warrenty': 293,\n",
       " 'took': 294,\n",
       " 'shipping': 295,\n",
       " 'microsoft': 296,\n",
       " 'doing': 297,\n",
       " 'set': 298,\n",
       " 'free': 299,\n",
       " 'virus': 300,\n",
       " 'keys': 301,\n",
       " 'supply': 302,\n",
       " 'feature': 303,\n",
       " 'send': 304,\n",
       " 'through': 305,\n",
       " 'know': 306,\n",
       " 'notebook': 307,\n",
       " 'being': 308,\n",
       " 'recommend': 309,\n",
       " 'trackpad': 310,\n",
       " 'compared': 311,\n",
       " 'think': 312,\n",
       " 'full': 313,\n",
       " 'anyone': 314,\n",
       " 'dvd': 315,\n",
       " 'faster': 316,\n",
       " 'change': 317,\n",
       " 'plus': 318,\n",
       " 'last': 319,\n",
       " 'something': 320,\n",
       " 'home': 321,\n",
       " 'company': 322,\n",
       " 'where': 323,\n",
       " 'before': 324,\n",
       " 'value': 325,\n",
       " 'built': 326,\n",
       " 'may': 327,\n",
       " 'however': 328,\n",
       " \"'re\": 329,\n",
       " 'usb': 330,\n",
       " 'brand': 331,\n",
       " 'past': 332,\n",
       " 'motherboard': 333,\n",
       " 'charger': 334,\n",
       " 'hardware': 335,\n",
       " 'simple': 336,\n",
       " 'within': 337,\n",
       " 'touch': 338,\n",
       " 'yet': 339,\n",
       " 'acer': 340,\n",
       " 'yes': 341,\n",
       " 'few': 342,\n",
       " 'webcam': 343,\n",
       " 'play': 344,\n",
       " \"'d\": 345,\n",
       " 'issues': 346,\n",
       " 'clear': 347,\n",
       " 'year': 348,\n",
       " 'thought': 349,\n",
       " 'far': 350,\n",
       " 'user': 351,\n",
       " 'itself': 352,\n",
       " '1': 353,\n",
       " 'although': 354,\n",
       " 'these': 355,\n",
       " 'easier': 356,\n",
       " 'extra': 357,\n",
       " 'port': 358,\n",
       " 'getting': 359,\n",
       " 'etc': 360,\n",
       " 'must': 361,\n",
       " 'speakers': 362,\n",
       " 'looks': 363,\n",
       " 'iphoto': 364,\n",
       " 'worked': 365,\n",
       " 'found': 366,\n",
       " 'big': 367,\n",
       " 'learn': 368,\n",
       " 'seems': 369,\n",
       " 'center': 370,\n",
       " 'lots': 371,\n",
       " 'frustrating': 372,\n",
       " 'help': 373,\n",
       " 'fact': 374,\n",
       " 'upgraded': 375,\n",
       " 'pcs': 376,\n",
       " 'connect': 377,\n",
       " 'board': 378,\n",
       " 'making': 379,\n",
       " 'products': 380,\n",
       " 'needs': 381,\n",
       " 'cool': 382,\n",
       " 'until': 383,\n",
       " 'course': 384,\n",
       " 'resolution': 385,\n",
       " 'itunes': 386,\n",
       " '13': 387,\n",
       " 'longer': 388,\n",
       " 'type': 389,\n",
       " 'store': 390,\n",
       " 'sent': 391,\n",
       " 'quick': 392,\n",
       " 'second': 393,\n",
       " 'processing': 394,\n",
       " 'poor': 395,\n",
       " 'expected': 396,\n",
       " 'years': 397,\n",
       " 'simply': 398,\n",
       " 'starter': 399,\n",
       " 'buttons': 400,\n",
       " 'build': 401,\n",
       " 'call': 402,\n",
       " 'others': 403,\n",
       " 'wireless': 404,\n",
       " 'plenty': 405,\n",
       " 'he': 406,\n",
       " 'actually': 407,\n",
       " 'failed': 408,\n",
       " 'someone': 409,\n",
       " 'cord': 410,\n",
       " 'extremely': 411,\n",
       " 'absolutely': 412,\n",
       " 'start': 413,\n",
       " 'dark': 414,\n",
       " 'multi-touch': 415,\n",
       " 'installed': 416,\n",
       " 'crashed': 417,\n",
       " 'added': 418,\n",
       " 'hd': 419,\n",
       " 'monitor': 420,\n",
       " 'several': 421,\n",
       " 'loud': 422,\n",
       " 'times': 423,\n",
       " '4': 424,\n",
       " 'wanted': 425,\n",
       " 'constantly': 426,\n",
       " 'systems': 427,\n",
       " 'touchpad': 428,\n",
       " 'editing': 429,\n",
       " 'phone': 430,\n",
       " 'hour': 431,\n",
       " 'browsing': 432,\n",
       " 'playing': 433,\n",
       " 'replace': 434,\n",
       " 'believe': 435,\n",
       " 'xp': 436,\n",
       " 'wo': 437,\n",
       " 'online': 438,\n",
       " 'garageband': 439,\n",
       " 'bright': 440,\n",
       " 'navigate': 441,\n",
       " 'ilife': 442,\n",
       " 'sleek': 443,\n",
       " 'least': 444,\n",
       " 'premium': 445,\n",
       " 'box': 446,\n",
       " 'away': 447,\n",
       " 'anything': 448,\n",
       " 'worry': 449,\n",
       " 'sure': 450,\n",
       " 'book': 451,\n",
       " 'experience': 452,\n",
       " 'told': 453,\n",
       " 'portable': 454,\n",
       " 'needed': 455,\n",
       " 'going': 456,\n",
       " 'sony': 457,\n",
       " 'macbooks': 458,\n",
       " 'done': 459,\n",
       " 'useful': 460,\n",
       " 'horrible': 461,\n",
       " '/': 462,\n",
       " 'weight': 463,\n",
       " 'movies': 464,\n",
       " 'led': 465,\n",
       " 'tried': 466,\n",
       " 'business': 467,\n",
       " 'background': 468,\n",
       " 'camera': 469,\n",
       " 'fine': 470,\n",
       " 'huge': 471,\n",
       " 'weeks': 472,\n",
       " 'deal': 473,\n",
       " 'superior': 474,\n",
       " 'upgrade': 475,\n",
       " 'media': 476,\n",
       " 'macs': 477,\n",
       " 'convenient': 478,\n",
       " 'real': 479,\n",
       " 'already': 480,\n",
       " 'worse': 481,\n",
       " 'specs': 482,\n",
       " 'disk': 483,\n",
       " 'front': 484,\n",
       " 'coming': 485,\n",
       " 'connection': 486,\n",
       " 'highly': 487,\n",
       " 'offers': 488,\n",
       " 'finally': 489,\n",
       " 'seemed': 490,\n",
       " 'disc': 491,\n",
       " 'enjoy': 492,\n",
       " 'extended': 493,\n",
       " 'knew': 494,\n",
       " 'trouble': 495,\n",
       " 'order': 496,\n",
       " 'documents': 497,\n",
       " 'crashing': 498,\n",
       " 'designed': 499,\n",
       " 'oh': 500,\n",
       " 'expensive': 501,\n",
       " 'top': 502,\n",
       " \"'ll\": 503,\n",
       " 'charged': 504,\n",
       " 'sales': 505,\n",
       " 'average': 506,\n",
       " 'maybe': 507,\n",
       " 'gets': 508,\n",
       " 'wish': 509,\n",
       " 'might': 510,\n",
       " 'backlit': 511,\n",
       " 'volume': 512,\n",
       " 'install': 513,\n",
       " 'impressed': 514,\n",
       " 'including': 515,\n",
       " 'built-in': 516,\n",
       " 'hooked': 517,\n",
       " 'drop': 518,\n",
       " 'guess': 519,\n",
       " 'tax': 520,\n",
       " 'buying': 521,\n",
       " 'iwork': 522,\n",
       " 'our': 523,\n",
       " 'especially': 524,\n",
       " 'replacement': 525,\n",
       " 'shows': 526,\n",
       " 'x': 527,\n",
       " 'older': 528,\n",
       " 'ports': 529,\n",
       " 'intel': 530,\n",
       " 'version': 531,\n",
       " 'email': 532,\n",
       " 'hot': 533,\n",
       " 'cheaper': 534,\n",
       " 'takes': 535,\n",
       " 'load': 536,\n",
       " 'storage': 537,\n",
       " 'tech': 538,\n",
       " 'users': 539,\n",
       " 'fairly': 540,\n",
       " 'reason': 541,\n",
       " 'end': 542,\n",
       " 'operation': 543,\n",
       " 'sharp': 544,\n",
       " 'nearly': 545,\n",
       " 'flawlessly': 546,\n",
       " 'higher': 547,\n",
       " 'music': 548,\n",
       " 'included': 549,\n",
       " 'expense': 550,\n",
       " 'osx': 551,\n",
       " 'functions': 552,\n",
       " 'tv': 553,\n",
       " 'interface': 554,\n",
       " 'pleased': 555,\n",
       " 'professional': 556,\n",
       " 'care': 557,\n",
       " 'apps': 558,\n",
       " 'watching': 559,\n",
       " 'else': 560,\n",
       " 'beautiful': 561,\n",
       " 'inch': 562,\n",
       " 'inside': 563,\n",
       " 'trial': 564,\n",
       " 'own': 565,\n",
       " 'noticed': 566,\n",
       " 'left': 567,\n",
       " 'model': 568,\n",
       " 'case': 569,\n",
       " 'happy': 570,\n",
       " 'into': 571,\n",
       " 'definitely': 572,\n",
       " 'matter': 573,\n",
       " 'different': 574,\n",
       " 'button': 575,\n",
       " 'opened': 576,\n",
       " 'sized': 577,\n",
       " 'typing': 578,\n",
       " 'days': 579,\n",
       " 'froze': 580,\n",
       " 'adding': 581,\n",
       " 'loose': 582,\n",
       " 'number': 583,\n",
       " 'photos': 584,\n",
       " 'solid': 585,\n",
       " 'edges': 586,\n",
       " 'geek': 587,\n",
       " 'college': 588,\n",
       " 'both': 589,\n",
       " 'pictures': 590,\n",
       " 'half': 591,\n",
       " 'network': 592,\n",
       " 'nothing': 593,\n",
       " 'services': 594,\n",
       " 'said': 595,\n",
       " 'darker': 596,\n",
       " 'standard': 597,\n",
       " 'pages': 598,\n",
       " '...': 599,\n",
       " 'strong': 600,\n",
       " 'purchased': 601,\n",
       " 'save': 602,\n",
       " 'almost': 603,\n",
       " 'apparently': 604,\n",
       " 'videos': 605,\n",
       " 'difference': 606,\n",
       " 'fit': 607,\n",
       " 'night': 608,\n",
       " 'usually': 609,\n",
       " 'entire': 610,\n",
       " 'stay': 611,\n",
       " 'properly': 612,\n",
       " 'plugged': 613,\n",
       " 'iphone': 614,\n",
       " 'talk': 615,\n",
       " 'crashes': 616,\n",
       " 'paying': 617,\n",
       " 'newer': 618,\n",
       " 'country': 619,\n",
       " 'certain': 620,\n",
       " 'drivers': 621,\n",
       " 'files': 622,\n",
       " 'slick': 623,\n",
       " 'died': 624,\n",
       " 'trying': 625,\n",
       " 'allows': 626,\n",
       " 'refused': 627,\n",
       " 'ipod': 628,\n",
       " 'mother': 629,\n",
       " 'yeah': 630,\n",
       " 'bar': 631,\n",
       " 'recovery': 632,\n",
       " 'available': 633,\n",
       " 'useless': 634,\n",
       " 'protection': 635,\n",
       " 'paid': 636,\n",
       " 'none': 637,\n",
       " 'reliable': 638,\n",
       " 'people': 639,\n",
       " 'chose': 640,\n",
       " 'spend': 641,\n",
       " 'mention': 642,\n",
       " 'slowly': 643,\n",
       " 'hold': 644,\n",
       " 'minutes': 645,\n",
       " 'stars': 646,\n",
       " '+': 647,\n",
       " 'drawback': 648,\n",
       " 'break': 649,\n",
       " 'responsive': 650,\n",
       " 'amount': 651,\n",
       " 'terrific': 652,\n",
       " 'mic': 653,\n",
       " 'thru': 654,\n",
       " 'cam': 655,\n",
       " 'mostly': 656,\n",
       " 'imovie': 657,\n",
       " 'colors': 658,\n",
       " 'crisp': 659,\n",
       " 'leopard': 660,\n",
       " 'above': 661,\n",
       " 'core': 662,\n",
       " 'becomes': 663,\n",
       " 'body': 664,\n",
       " 'low': 665,\n",
       " 'im': 666,\n",
       " 'whole': 667,\n",
       " '175': 668,\n",
       " 'side': 669,\n",
       " 'cooling': 670,\n",
       " 'viruses': 671,\n",
       " '8': 672,\n",
       " 'keeps': 673,\n",
       " 'friendly': 674,\n",
       " 'caused': 675,\n",
       " 'remove': 676,\n",
       " 'smooth': 677,\n",
       " 'quite': 678,\n",
       " 'soon': 679,\n",
       " 'machines': 680,\n",
       " 'components': 681,\n",
       " 'lasting': 682,\n",
       " 'smoothly': 683,\n",
       " 'loaded': 684,\n",
       " 'via': 685,\n",
       " 'pack': 686,\n",
       " 'liked': 687,\n",
       " 'ahead': 688,\n",
       " 'hated': 689,\n",
       " 'quiet': 690,\n",
       " 'thats': 691,\n",
       " 'three': 692,\n",
       " 'necessary': 693,\n",
       " 'hook': 694,\n",
       " 'satellite': 695,\n",
       " 'boots': 696,\n",
       " 'die': 697,\n",
       " 'received': 698,\n",
       " 'priced': 699,\n",
       " 'burn': 700,\n",
       " 'probably': 701,\n",
       " 'why': 702,\n",
       " 'lose': 703,\n",
       " '%': 704,\n",
       " 'unlike': 705,\n",
       " '17': 706,\n",
       " 'offer': 707,\n",
       " 'updates': 708,\n",
       " 'versions': 709,\n",
       " 'special': 710,\n",
       " 'broke': 711,\n",
       " 'black': 712,\n",
       " 'seen': 713,\n",
       " 'world': 714,\n",
       " 'awful': 715,\n",
       " 'comfortable': 716,\n",
       " 'yourself': 717,\n",
       " 'doesnt': 718,\n",
       " 'during': 719,\n",
       " 'line': 720,\n",
       " 'clean': 721,\n",
       " 'discover': 722,\n",
       " 'looked': 723,\n",
       " 'rma': 724,\n",
       " 'contacted': 725,\n",
       " 'ups': 726,\n",
       " 'durable': 727,\n",
       " 'broken': 728,\n",
       " 'gb': 729,\n",
       " 'reasonable': 730,\n",
       " 'noise': 731,\n",
       " 'constant': 732,\n",
       " 'ghz': 733,\n",
       " '500gb': 734,\n",
       " 'instead': 735,\n",
       " 'access': 736,\n",
       " 'rest': 737,\n",
       " 'wheel': 738,\n",
       " 'school': 739,\n",
       " 'programming': 740,\n",
       " 'worst': 741,\n",
       " 'blue': 742,\n",
       " 'larger': 743,\n",
       " 'gives': 744,\n",
       " 'relatively': 745,\n",
       " 'tutorials': 746,\n",
       " 'disappointing': 747,\n",
       " 'plug': 748,\n",
       " 'capabilities': 749,\n",
       " 'point': 750,\n",
       " 'seem': 751,\n",
       " 'downfall': 752,\n",
       " 'purchasing': 753,\n",
       " 'except': 754,\n",
       " 'plastic': 755,\n",
       " 'returned': 756,\n",
       " 'speaker': 757,\n",
       " 'student': 758,\n",
       " 'portability': 759,\n",
       " 'five': 760,\n",
       " 'person': 761,\n",
       " 'stuff': 762,\n",
       " 'turns': 763,\n",
       " 'often': 764,\n",
       " 'device': 765,\n",
       " 'fun': 766,\n",
       " 'plan': 767,\n",
       " 'previous': 768,\n",
       " 'operate': 769,\n",
       " 'unable': 770,\n",
       " 'track': 771,\n",
       " 'squad': 772,\n",
       " 'known': 773,\n",
       " 'either': 774,\n",
       " 'ask': 775,\n",
       " 'give': 776,\n",
       " 'expired': 777,\n",
       " 'fits': 778,\n",
       " 'budget': 779,\n",
       " 'besides': 780,\n",
       " 'slightly': 781,\n",
       " 'computing': 782,\n",
       " 'room': 783,\n",
       " 'bios': 784,\n",
       " 'benefits': 785,\n",
       " 'spoke': 786,\n",
       " 'she': 787,\n",
       " 'fantastic': 788,\n",
       " 'decent': 789,\n",
       " 'shipped': 790,\n",
       " 'general': 791,\n",
       " 'claim': 792,\n",
       " 'twice': 793,\n",
       " 'handle': 794,\n",
       " 'numbers': 795,\n",
       " 'sensitive': 796,\n",
       " 'cords': 797,\n",
       " 'taking': 798,\n",
       " 'gui': 799,\n",
       " 'bundled': 800,\n",
       " 'gorgeous': 801,\n",
       " 'turned': 802,\n",
       " 'freaking': 803,\n",
       " 'turn': 804,\n",
       " 'steady': 805,\n",
       " 'unnecessary': 806,\n",
       " 'unless': 807,\n",
       " 'suite': 808,\n",
       " 'satisfied': 809,\n",
       " 'barely': 810,\n",
       " 'connected': 811,\n",
       " 'pure': 812,\n",
       " 'snap': 813,\n",
       " '30': 814,\n",
       " 'helps': 815,\n",
       " 'occasionally': 816,\n",
       " 'hundred': 817,\n",
       " 'dollars': 818,\n",
       " 'preloaded': 819,\n",
       " 'along': 820,\n",
       " 'realized': 821,\n",
       " 'kinda': 822,\n",
       " 'speaking': 823,\n",
       " 'browser': 824,\n",
       " 'under': 825,\n",
       " 'ago': 826,\n",
       " 'forced': 827,\n",
       " 'website': 828,\n",
       " 'force': 829,\n",
       " 'four': 830,\n",
       " 'advantage': 831,\n",
       " 'increase': 832,\n",
       " 'heated': 833,\n",
       " 'opening': 834,\n",
       " 'poorly': 835,\n",
       " 'intuitive': 836,\n",
       " 'download': 837,\n",
       " 'glass': 838,\n",
       " 'continued': 839,\n",
       " 'simpler': 840,\n",
       " 'forward': 841,\n",
       " 'genius': 842,\n",
       " '10': 843,\n",
       " 'movie': 844,\n",
       " 'bluetooth': 845,\n",
       " 'customers': 846,\n",
       " 'white': 847,\n",
       " 'updated': 848,\n",
       " 'color': 849,\n",
       " 'comparison': 850,\n",
       " 'factor': 851,\n",
       " 'familiar': 852,\n",
       " 'couple': 853,\n",
       " 'complaints': 854,\n",
       " 'construction': 855,\n",
       " 'security': 856,\n",
       " 'stuck': 857,\n",
       " 'didnt': 858,\n",
       " 'dont': 859,\n",
       " 'safari': 860,\n",
       " 'delivery': 861,\n",
       " 'anytime': 862,\n",
       " 'mind': 863,\n",
       " 'ordered': 864,\n",
       " 'saved': 865,\n",
       " 'crystal': 866,\n",
       " 'owning': 867,\n",
       " 'become': 868,\n",
       " 'incredibly': 869,\n",
       " 'powerbook': 870,\n",
       " 'easiest': 871,\n",
       " 'surface': 872,\n",
       " 'snow': 873,\n",
       " 'learning': 874,\n",
       " 'picked': 875,\n",
       " 'check': 876,\n",
       " 'missing': 877,\n",
       " 'dual': 878,\n",
       " 'charging': 879,\n",
       " 'stand': 880,\n",
       " 'appleworks': 881,\n",
       " 'paint': 882,\n",
       " 'early': 883,\n",
       " 'edition': 884,\n",
       " 'report': 885,\n",
       " 'cheaply': 886,\n",
       " 'holds': 887,\n",
       " 'antivirus': 888,\n",
       " 'glad': 889,\n",
       " 'nicely': 890,\n",
       " 'part': 891,\n",
       " 'latest': 892,\n",
       " 'waited': 893,\n",
       " 'chat': 894,\n",
       " 'us': 895,\n",
       " 'wasted': 896,\n",
       " 'provides': 897,\n",
       " 'those': 898,\n",
       " 'unreliable': 899,\n",
       " 'meets': 900,\n",
       " 'spec': 901,\n",
       " 'burner': 902,\n",
       " 'discovered': 903,\n",
       " 'ran': 904,\n",
       " 'between': 905,\n",
       " '1/2': 906,\n",
       " 'edge': 907,\n",
       " 'phones': 908,\n",
       " 'terrible': 909,\n",
       " 'hate': 910,\n",
       " 'opinion': 911,\n",
       " 'gave': 912,\n",
       " 'daughter': 913,\n",
       " 'listen': 914,\n",
       " 'major': 915,\n",
       " 'heavy': 916,\n",
       " 'bulky': 917,\n",
       " 'electronic': 918,\n",
       " \"'\": 919,\n",
       " 'linux': 920,\n",
       " 'based': 921,\n",
       " 'sense': 922,\n",
       " 'rather': 923,\n",
       " 'processors': 924,\n",
       " 'hdmi': 925,\n",
       " 'firewire': 926,\n",
       " 'image': 927,\n",
       " 'kind': 928,\n",
       " 'clicking': 929,\n",
       " 'unsteady': 930,\n",
       " 'bugs': 931,\n",
       " 'junk': 932,\n",
       " 'facebook': 933,\n",
       " 'file': 934,\n",
       " 'particular': 935,\n",
       " 'truly': 936,\n",
       " 'bucks': 937,\n",
       " 'beyond': 938,\n",
       " 'duty': 939,\n",
       " 'crash': 940,\n",
       " 'decides': 941,\n",
       " 'mode': 942,\n",
       " 'dropping': 943,\n",
       " 'stock': 944,\n",
       " 'given': 945,\n",
       " 'graphic': 946,\n",
       " 'decreased': 947,\n",
       " 'thrilled': 948,\n",
       " 'technical': 949,\n",
       " 'skype': 950,\n",
       " 'hdd': 951,\n",
       " 'main': 952,\n",
       " 'understand': 953,\n",
       " 'consider': 954,\n",
       " 'ms': 955,\n",
       " 'amazed': 956,\n",
       " 'fully': 957,\n",
       " 'letters': 958,\n",
       " 'complete': 959,\n",
       " 'ergonomic': 960,\n",
       " 'sometimes': 961,\n",
       " 'notebooks': 962,\n",
       " 'quicker': 963,\n",
       " 'photography': 964,\n",
       " '10-11': 965,\n",
       " 'depending': 966,\n",
       " 'level': 967,\n",
       " 'appearance': 968,\n",
       " '3rd': 969,\n",
       " 'bother': 970,\n",
       " 'data': 971,\n",
       " 'taught': 972,\n",
       " 'photoshop': 973,\n",
       " 'bigger': 974,\n",
       " 'loves': 975,\n",
       " 'husband': 976,\n",
       " 'signals': 977,\n",
       " 'multiple': 978,\n",
       " 'page': 979,\n",
       " 'non': 980,\n",
       " 'frequently': 981,\n",
       " 'ideal': 982,\n",
       " 'improvements': 983,\n",
       " 'images': 984,\n",
       " 'later': 985,\n",
       " 'options': 986,\n",
       " 'girlfriend': 987,\n",
       " 'hinge': 988,\n",
       " 'lcd': 989,\n",
       " 'late': 990,\n",
       " 'issued': 991,\n",
       " 'morning': 992,\n",
       " '60': 993,\n",
       " 'hiccups': 994,\n",
       " 'occasion': 995,\n",
       " 'presentations': 996,\n",
       " 'functioning': 997,\n",
       " 'obviously': 998,\n",
       " 'hinges': 999,\n",
       " 'advertised': 1000,\n",
       " ...}"
      ]
     },
     "execution_count": 15,
     "metadata": {},
     "output_type": "execute_result"
    }
   ],
   "source": [
    "weights = np.zeros((vocab_size, 300))\n",
    "mapping = toke.word_index \n",
    "mapping"
   ]
  },
  {
   "cell_type": "markdown",
   "id": "aeb36bde",
   "metadata": {
    "papermill": {
     "duration": 0.025784,
     "end_time": "2024-03-11T16:56:08.023853",
     "exception": false,
     "start_time": "2024-03-11T16:56:07.998069",
     "status": "completed"
    },
    "tags": []
   },
   "source": [
    "Fetching weights from pre trained Word2Vec model (ATE)"
   ]
  },
  {
   "cell_type": "code",
   "execution_count": 16,
   "id": "22ca026e",
   "metadata": {
    "execution": {
     "iopub.execute_input": "2024-03-11T16:56:08.078090Z",
     "iopub.status.busy": "2024-03-11T16:56:08.077657Z",
     "iopub.status.idle": "2024-03-11T16:56:11.810559Z",
     "shell.execute_reply": "2024-03-11T16:56:11.809143Z"
    },
    "papermill": {
     "duration": 3.763483,
     "end_time": "2024-03-11T16:56:11.813581",
     "exception": false,
     "start_time": "2024-03-11T16:56:08.050098",
     "status": "completed"
    },
    "tags": []
   },
   "outputs": [],
   "source": [
    "for word, index in mapping.items():\n",
    "    if word in emb:\n",
    "        weights[index:] = emb[word]"
   ]
  },
  {
   "cell_type": "code",
   "execution_count": 17,
   "id": "18b60a65",
   "metadata": {
    "execution": {
     "iopub.execute_input": "2024-03-11T16:56:11.870863Z",
     "iopub.status.busy": "2024-03-11T16:56:11.869738Z",
     "iopub.status.idle": "2024-03-11T16:56:11.876592Z",
     "shell.execute_reply": "2024-03-11T16:56:11.875399Z"
    },
    "papermill": {
     "duration": 0.038301,
     "end_time": "2024-03-11T16:56:11.879267",
     "exception": false,
     "start_time": "2024-03-11T16:56:11.840966",
     "status": "completed"
    },
    "tags": []
   },
   "outputs": [],
   "source": [
    "X_train= X_padded_train\n",
    "Y_train = Y_padded_train\n",
    "X_test = X_padded_test\n",
    "Y_test = Y_padded_test\n",
    "X_val = X_padded_val\n",
    "Y_val = Y_padded_val\n",
    "weights = weights\n",
    "word_token = toke\n",
    "tag_token = toke2"
   ]
  },
  {
   "cell_type": "code",
   "execution_count": 18,
   "id": "fb93c32a",
   "metadata": {
    "execution": {
     "iopub.execute_input": "2024-03-11T16:56:11.934531Z",
     "iopub.status.busy": "2024-03-11T16:56:11.934117Z",
     "iopub.status.idle": "2024-03-11T16:56:11.939288Z",
     "shell.execute_reply": "2024-03-11T16:56:11.938406Z"
    },
    "papermill": {
     "duration": 0.035152,
     "end_time": "2024-03-11T16:56:11.941615",
     "exception": false,
     "start_time": "2024-03-11T16:56:11.906463",
     "status": "completed"
    },
    "tags": []
   },
   "outputs": [],
   "source": [
    "Y_shape= Y_padded_train.shape[2]"
   ]
  },
  {
   "cell_type": "markdown",
   "id": "dbaa7d68",
   "metadata": {
    "papermill": {
     "duration": 0.026787,
     "end_time": "2024-03-11T16:56:11.997023",
     "exception": false,
     "start_time": "2024-03-11T16:56:11.970236",
     "status": "completed"
    },
    "tags": []
   },
   "source": [
    "# Models"
   ]
  },
  {
   "cell_type": "markdown",
   "id": "d5eba6c3",
   "metadata": {
    "papermill": {
     "duration": 0.025955,
     "end_time": "2024-03-11T16:56:12.049484",
     "exception": false,
     "start_time": "2024-03-11T16:56:12.023529",
     "status": "completed"
    },
    "tags": []
   },
   "source": [
    "## RNN"
   ]
  },
  {
   "cell_type": "code",
   "execution_count": 19,
   "id": "89199629",
   "metadata": {
    "execution": {
     "iopub.execute_input": "2024-03-11T16:56:12.104233Z",
     "iopub.status.busy": "2024-03-11T16:56:12.103641Z",
     "iopub.status.idle": "2024-03-11T16:56:12.110362Z",
     "shell.execute_reply": "2024-03-11T16:56:12.109023Z"
    },
    "papermill": {
     "duration": 0.036792,
     "end_time": "2024-03-11T16:56:12.112934",
     "exception": false,
     "start_time": "2024-03-11T16:56:12.076142",
     "status": "completed"
    },
    "tags": []
   },
   "outputs": [],
   "source": [
    "model_name=\"RNN\""
   ]
  },
  {
   "cell_type": "markdown",
   "id": "dbdc2938",
   "metadata": {
    "papermill": {
     "duration": 0.027013,
     "end_time": "2024-03-11T16:56:12.167872",
     "exception": false,
     "start_time": "2024-03-11T16:56:12.140859",
     "status": "completed"
    },
    "tags": []
   },
   "source": [
    "### Training"
   ]
  },
  {
   "cell_type": "code",
   "execution_count": 20,
   "id": "bda134d1",
   "metadata": {
    "execution": {
     "iopub.execute_input": "2024-03-11T16:56:12.222514Z",
     "iopub.status.busy": "2024-03-11T16:56:12.222108Z",
     "iopub.status.idle": "2024-03-11T16:56:12.229421Z",
     "shell.execute_reply": "2024-03-11T16:56:12.228429Z"
    },
    "papermill": {
     "duration": 0.037579,
     "end_time": "2024-03-11T16:56:12.231906",
     "exception": false,
     "start_time": "2024-03-11T16:56:12.194327",
     "status": "completed"
    },
    "tags": []
   },
   "outputs": [],
   "source": [
    "def rnn(vocab_size,max_len,weights,Y_shape):\n",
    "    rnn_model = Sequential()\n",
    "    rnn_model.add(Embedding(input_dim = vocab_size,output_dim = 300,input_length  = max_len,weights = [weights],trainable = False))\n",
    "    rnn_model.add(SimpleRNN(32, return_sequences=True))\n",
    "    rnn_model.add(TimeDistributed(Dense(Y_shape, activation='softmax')))\n",
    "    rnn_model.compile(loss='categorical_crossentropy',optimizer='adam',metrics=['acc',Precision(),Recall()])\n",
    "    return rnn_model"
   ]
  },
  {
   "cell_type": "code",
   "execution_count": 21,
   "id": "b6f8f144",
   "metadata": {
    "execution": {
     "iopub.execute_input": "2024-03-11T16:56:12.287645Z",
     "iopub.status.busy": "2024-03-11T16:56:12.287209Z",
     "iopub.status.idle": "2024-03-11T16:56:12.614808Z",
     "shell.execute_reply": "2024-03-11T16:56:12.613098Z"
    },
    "papermill": {
     "duration": 0.359298,
     "end_time": "2024-03-11T16:56:12.617705",
     "exception": false,
     "start_time": "2024-03-11T16:56:12.258407",
     "status": "completed"
    },
    "tags": []
   },
   "outputs": [],
   "source": [
    "rnn_model=rnn(vocab_size,max_len,weights,Y_shape)"
   ]
  },
  {
   "cell_type": "markdown",
   "id": "f3e377b7",
   "metadata": {
    "papermill": {
     "duration": 0.025703,
     "end_time": "2024-03-11T16:56:12.669668",
     "exception": false,
     "start_time": "2024-03-11T16:56:12.643965",
     "status": "completed"
    },
    "tags": []
   },
   "source": [
    "Compiling the rnn Word2Vec Model"
   ]
  },
  {
   "cell_type": "code",
   "execution_count": null,
   "id": "b1ae0eb0",
   "metadata": {
    "papermill": {
     "duration": 0.026909,
     "end_time": "2024-03-11T16:56:12.722929",
     "exception": false,
     "start_time": "2024-03-11T16:56:12.696020",
     "status": "completed"
    },
    "tags": []
   },
   "outputs": [],
   "source": []
  },
  {
   "cell_type": "code",
   "execution_count": 22,
   "id": "2fe47d18",
   "metadata": {
    "execution": {
     "iopub.execute_input": "2024-03-11T16:56:12.777836Z",
     "iopub.status.busy": "2024-03-11T16:56:12.777367Z",
     "iopub.status.idle": "2024-03-11T16:56:12.782363Z",
     "shell.execute_reply": "2024-03-11T16:56:12.781247Z"
    },
    "papermill": {
     "duration": 0.035463,
     "end_time": "2024-03-11T16:56:12.784853",
     "exception": false,
     "start_time": "2024-03-11T16:56:12.749390",
     "status": "completed"
    },
    "tags": []
   },
   "outputs": [],
   "source": [
    "rnn_f1_callback = F1ScoreCallback(val_data=(X_val, Y_val),data=(X_train, Y_train))\n"
   ]
  },
  {
   "cell_type": "code",
   "execution_count": 23,
   "id": "17b0393d",
   "metadata": {
    "execution": {
     "iopub.execute_input": "2024-03-11T16:56:12.839105Z",
     "iopub.status.busy": "2024-03-11T16:56:12.838677Z",
     "iopub.status.idle": "2024-03-11T16:56:12.866980Z",
     "shell.execute_reply": "2024-03-11T16:56:12.865662Z"
    },
    "papermill": {
     "duration": 0.060118,
     "end_time": "2024-03-11T16:56:12.871170",
     "exception": false,
     "start_time": "2024-03-11T16:56:12.811052",
     "status": "completed"
    },
    "tags": []
   },
   "outputs": [
    {
     "name": "stdout",
     "output_type": "stream",
     "text": [
      "Model: \"sequential\"\n",
      "_________________________________________________________________\n",
      " Layer (type)                Output Shape              Param #   \n",
      "=================================================================\n",
      " embedding (Embedding)       (None, 78, 300)           721800    \n",
      "                                                                 \n",
      " simple_rnn (SimpleRNN)      (None, 78, 32)            10656     \n",
      "                                                                 \n",
      " time_distributed (TimeDist  (None, 78, 4)             132       \n",
      " ributed)                                                        \n",
      "                                                                 \n",
      "=================================================================\n",
      "Total params: 732588 (2.79 MB)\n",
      "Trainable params: 10788 (42.14 KB)\n",
      "Non-trainable params: 721800 (2.75 MB)\n",
      "_________________________________________________________________\n"
     ]
    }
   ],
   "source": [
    "rnn_model.summary()"
   ]
  },
  {
   "cell_type": "markdown",
   "id": "803d0700",
   "metadata": {
    "papermill": {
     "duration": 0.027265,
     "end_time": "2024-03-11T16:56:12.927011",
     "exception": false,
     "start_time": "2024-03-11T16:56:12.899746",
     "status": "completed"
    },
    "tags": []
   },
   "source": [
    "Fitting the rnn model"
   ]
  },
  {
   "cell_type": "code",
   "execution_count": 24,
   "id": "f41feb7d",
   "metadata": {
    "execution": {
     "iopub.execute_input": "2024-03-11T16:56:12.986895Z",
     "iopub.status.busy": "2024-03-11T16:56:12.986417Z",
     "iopub.status.idle": "2024-03-11T16:57:36.679539Z",
     "shell.execute_reply": "2024-03-11T16:57:36.677891Z"
    },
    "papermill": {
     "duration": 83.727023,
     "end_time": "2024-03-11T16:57:36.682790",
     "exception": false,
     "start_time": "2024-03-11T16:56:12.955767",
     "status": "completed"
    },
    "tags": []
   },
   "outputs": [
    {
     "name": "stdout",
     "output_type": "stream",
     "text": [
      "Epoch 1/20\n",
      "7/7 [==============================] - 0s 9ms/step\n",
      "29/29 [==============================] - 0s 8ms/step\n",
      "Val F1 Score: 0.4851363547177791 - Train F1 Score: 0.4833206560378117\n",
      "8/8 [==============================] - 6s 545ms/step - loss: 1.3142 - acc: 0.5178 - precision: 0.8316 - recall: 0.0277 - val_loss: 1.1054 - val_acc: 0.9519 - val_precision: 0.9206 - val_recall: 0.1215\n",
      "Epoch 2/20\n",
      "7/7 [==============================] - 0s 8ms/step\n",
      "29/29 [==============================] - 0s 8ms/step\n",
      "Val F1 Score: 0.47227835534082174 - Train F1 Score: 0.4726817039073584\n",
      "8/8 [==============================] - 4s 508ms/step - loss: 0.9775 - acc: 0.9530 - precision: 0.9090 - recall: 0.1530 - val_loss: 0.7523 - val_acc: 0.9536 - val_precision: 0.9739 - val_recall: 0.6893\n",
      "Epoch 3/20\n",
      "7/7 [==============================] - 0s 7ms/step\n",
      "29/29 [==============================] - 0s 8ms/step\n",
      "Val F1 Score: 0.44937043438862845 - Train F1 Score: 0.45139268898515594\n",
      "8/8 [==============================] - 3s 459ms/step - loss: 0.6354 - acc: 0.9446 - precision: 0.9567 - recall: 0.7761 - val_loss: 0.4883 - val_acc: 0.9243 - val_precision: 0.9347 - val_recall: 0.8246\n",
      "Epoch 4/20\n",
      "7/7 [==============================] - 0s 9ms/step\n",
      "29/29 [==============================] - 0s 8ms/step\n",
      "Val F1 Score: 0.4598909797651159 - Train F1 Score: 0.4616318219667377\n",
      "8/8 [==============================] - 3s 451ms/step - loss: 0.4356 - acc: 0.9269 - precision: 0.9332 - recall: 0.8421 - val_loss: 0.3631 - val_acc: 0.9371 - val_precision: 0.9370 - val_recall: 0.8666\n",
      "Epoch 5/20\n",
      "7/7 [==============================] - 0s 8ms/step\n",
      "29/29 [==============================] - 0s 8ms/step\n",
      "Val F1 Score: 0.46855201840635363 - Train F1 Score: 0.46908775066131114\n",
      "8/8 [==============================] - 3s 456ms/step - loss: 0.3363 - acc: 0.9429 - precision: 0.9424 - recall: 0.8827 - val_loss: 0.2963 - val_acc: 0.9482 - val_precision: 0.9475 - val_recall: 0.8957\n",
      "Epoch 6/20\n",
      "7/7 [==============================] - 0s 8ms/step\n",
      "29/29 [==============================] - 0s 8ms/step\n",
      "Val F1 Score: 0.4723059967542347 - Train F1 Score: 0.47179428130326906\n",
      "8/8 [==============================] - 3s 446ms/step - loss: 0.2818 - acc: 0.9501 - precision: 0.9491 - recall: 0.9015 - val_loss: 0.2558 - val_acc: 0.9535 - val_precision: 0.9529 - val_recall: 0.9133\n",
      "Epoch 7/20\n",
      "7/7 [==============================] - 0s 8ms/step\n",
      "29/29 [==============================] - 0s 8ms/step\n",
      "Val F1 Score: 0.47575689843461066 - Train F1 Score: 0.47467193012771774\n",
      "8/8 [==============================] - 3s 456ms/step - loss: 0.2489 - acc: 0.9534 - precision: 0.9528 - recall: 0.9142 - val_loss: 0.2296 - val_acc: 0.9583 - val_precision: 0.9578 - val_recall: 0.9190\n",
      "Epoch 8/20\n",
      "7/7 [==============================] - 0s 7ms/step\n",
      "29/29 [==============================] - 0s 7ms/step\n",
      "Val F1 Score: 0.47773642446140346 - Train F1 Score: 0.47708993359761476\n",
      "8/8 [==============================] - 3s 440ms/step - loss: 0.2266 - acc: 0.9569 - precision: 0.9560 - recall: 0.9178 - val_loss: 0.2314 - val_acc: 0.9620 - val_precision: 0.9638 - val_recall: 0.9231\n",
      "Epoch 9/20\n",
      "7/7 [==============================] - 0s 8ms/step\n",
      "29/29 [==============================] - 0s 8ms/step\n",
      "Val F1 Score: 0.4586164393914226 - Train F1 Score: 0.45995956100567176\n",
      "8/8 [==============================] - 3s 462ms/step - loss: 0.2440 - acc: 0.9465 - precision: 0.9464 - recall: 0.9127 - val_loss: 0.2626 - val_acc: 0.9358 - val_precision: 0.9371 - val_recall: 0.9093\n",
      "Epoch 10/20\n",
      "7/7 [==============================] - 0s 9ms/step\n",
      "29/29 [==============================] - 0s 8ms/step\n",
      "Val F1 Score: 0.4672002663314767 - Train F1 Score: 0.46807316681798594\n",
      "8/8 [==============================] - 3s 447ms/step - loss: 0.2491 - acc: 0.9407 - precision: 0.9410 - recall: 0.9135 - val_loss: 0.2270 - val_acc: 0.9464 - val_precision: 0.9458 - val_recall: 0.9204\n",
      "Epoch 11/20\n",
      "7/7 [==============================] - 0s 13ms/step\n",
      "29/29 [==============================] - 0s 9ms/step\n",
      "Val F1 Score: 0.47940231962700025 - Train F1 Score: 0.4754575011609264\n",
      "8/8 [==============================] - 3s 473ms/step - loss: 0.2182 - acc: 0.9498 - precision: 0.9496 - recall: 0.9234 - val_loss: 0.2035 - val_acc: 0.9557 - val_precision: 0.9559 - val_recall: 0.9279\n",
      "Epoch 12/20\n",
      "7/7 [==============================] - 0s 8ms/step\n",
      "29/29 [==============================] - 0s 8ms/step\n",
      "Val F1 Score: 0.482465975491817 - Train F1 Score: 0.4779378323761981\n",
      "8/8 [==============================] - 3s 446ms/step - loss: 0.2007 - acc: 0.9560 - precision: 0.9559 - recall: 0.9294 - val_loss: 0.1912 - val_acc: 0.9601 - val_precision: 0.9608 - val_recall: 0.9334\n",
      "Epoch 13/20\n",
      "7/7 [==============================] - 0s 9ms/step\n",
      "29/29 [==============================] - 0s 8ms/step\n",
      "Val F1 Score: 0.47795194408526026 - Train F1 Score: 0.47811828718628435\n",
      "8/8 [==============================] - 3s 452ms/step - loss: 0.1912 - acc: 0.9590 - precision: 0.9587 - recall: 0.9327 - val_loss: 0.1820 - val_acc: 0.9617 - val_precision: 0.9620 - val_recall: 0.9358\n",
      "Epoch 14/20\n",
      "7/7 [==============================] - 0s 8ms/step\n",
      "29/29 [==============================] - 0s 8ms/step\n",
      "Val F1 Score: 0.47976542200031225 - Train F1 Score: 0.47821206078549705\n",
      "8/8 [==============================] - 3s 465ms/step - loss: 0.1837 - acc: 0.9598 - precision: 0.9593 - recall: 0.9338 - val_loss: 0.1745 - val_acc: 0.9619 - val_precision: 0.9622 - val_recall: 0.9360\n",
      "Epoch 15/20\n",
      "7/7 [==============================] - 0s 9ms/step\n",
      "29/29 [==============================] - 0s 8ms/step\n",
      "Val F1 Score: 0.48166532443479526 - Train F1 Score: 0.47948181625997444\n",
      "8/8 [==============================] - 3s 464ms/step - loss: 0.1772 - acc: 0.9598 - precision: 0.9594 - recall: 0.9339 - val_loss: 0.1684 - val_acc: 0.9623 - val_precision: 0.9622 - val_recall: 0.9363\n",
      "Epoch 16/20\n",
      "7/7 [==============================] - 0s 8ms/step\n",
      "29/29 [==============================] - 0s 8ms/step\n",
      "Val F1 Score: 0.4852015767649024 - Train F1 Score: 0.4807093443555686\n",
      "8/8 [==============================] - 3s 446ms/step - loss: 0.1714 - acc: 0.9602 - precision: 0.9601 - recall: 0.9342 - val_loss: 0.1626 - val_acc: 0.9628 - val_precision: 0.9628 - val_recall: 0.9368\n",
      "Epoch 17/20\n",
      "7/7 [==============================] - 0s 8ms/step\n",
      "29/29 [==============================] - 0s 8ms/step\n",
      "Val F1 Score: 0.4870273686430173 - Train F1 Score: 0.48176588909437396\n",
      "8/8 [==============================] - 3s 439ms/step - loss: 0.1657 - acc: 0.9609 - precision: 0.9611 - recall: 0.9346 - val_loss: 0.1575 - val_acc: 0.9632 - val_precision: 0.9637 - val_recall: 0.9371\n",
      "Epoch 18/20\n",
      "7/7 [==============================] - 0s 7ms/step\n",
      "29/29 [==============================] - 0s 8ms/step\n",
      "Val F1 Score: 0.48722485849030284 - Train F1 Score: 0.4837055678217768\n",
      "8/8 [==============================] - 3s 444ms/step - loss: 0.1606 - acc: 0.9616 - precision: 0.9624 - recall: 0.9351 - val_loss: 0.1527 - val_acc: 0.9638 - val_precision: 0.9650 - val_recall: 0.9375\n",
      "Epoch 19/20\n",
      "7/7 [==============================] - 0s 8ms/step\n",
      "29/29 [==============================] - 0s 8ms/step\n",
      "Val F1 Score: 0.48754292981301395 - Train F1 Score: 0.48510084427844474\n",
      "8/8 [==============================] - 3s 453ms/step - loss: 0.1560 - acc: 0.9621 - precision: 0.9632 - recall: 0.9356 - val_loss: 0.1482 - val_acc: 0.9643 - val_precision: 0.9658 - val_recall: 0.9378\n",
      "Epoch 20/20\n",
      "7/7 [==============================] - 0s 9ms/step\n",
      "29/29 [==============================] - 0s 8ms/step\n",
      "Val F1 Score: 0.4906489150941088 - Train F1 Score: 0.4868589286485845\n",
      "8/8 [==============================] - 3s 447ms/step - loss: 0.1517 - acc: 0.9625 - precision: 0.9636 - recall: 0.9359 - val_loss: 0.1439 - val_acc: 0.9645 - val_precision: 0.9659 - val_recall: 0.9382\n"
     ]
    }
   ],
   "source": [
    "rnn_training = rnn_model.fit(X_train, Y_train, batch_size=128, epochs=20, validation_data=(X_val, Y_val), callbacks=[rnn_f1_callback])"
   ]
  },
  {
   "cell_type": "markdown",
   "id": "e2e2dc02",
   "metadata": {
    "papermill": {
     "duration": 0.053679,
     "end_time": "2024-03-11T16:57:36.791430",
     "exception": false,
     "start_time": "2024-03-11T16:57:36.737751",
     "status": "completed"
    },
    "tags": []
   },
   "source": [
    "Plotting the graph"
   ]
  },
  {
   "cell_type": "code",
   "execution_count": 25,
   "id": "37c8bcba",
   "metadata": {
    "execution": {
     "iopub.execute_input": "2024-03-11T16:57:36.903928Z",
     "iopub.status.busy": "2024-03-11T16:57:36.902871Z",
     "iopub.status.idle": "2024-03-11T16:57:37.564565Z",
     "shell.execute_reply": "2024-03-11T16:57:37.563193Z"
    },
    "papermill": {
     "duration": 0.721237,
     "end_time": "2024-03-11T16:57:37.567425",
     "exception": false,
     "start_time": "2024-03-11T16:57:36.846188",
     "status": "completed"
    },
    "tags": []
   },
   "outputs": [
    {
     "data": {
      "image/png": "[encoded data removed]",
      "text/plain": [
       "<Figure size 1600x500 with 2 Axes>"
      ]
     },
     "metadata": {},
     "output_type": "display_data"
    }
   ],
   "source": [
    "draw_loss_graph(rnn_training,model_name, rnn_f1_callback.train_f1_scores, rnn_f1_callback.val_f1_scores)\n",
    "save_model(rnn_model,model_name,Embedding_name,Dataset)"
   ]
  },
  {
   "cell_type": "markdown",
   "id": "85629d63",
   "metadata": {
    "papermill": {
     "duration": 0.055898,
     "end_time": "2024-03-11T16:57:37.679229",
     "exception": false,
     "start_time": "2024-03-11T16:57:37.623331",
     "status": "completed"
    },
    "tags": []
   },
   "source": [
    "### Testing"
   ]
  },
  {
   "cell_type": "code",
   "execution_count": 26,
   "id": "e7d72923",
   "metadata": {
    "execution": {
     "iopub.execute_input": "2024-03-11T16:57:37.793729Z",
     "iopub.status.busy": "2024-03-11T16:57:37.793353Z",
     "iopub.status.idle": "2024-03-11T16:57:37.941117Z",
     "shell.execute_reply": "2024-03-11T16:57:37.939916Z"
    },
    "papermill": {
     "duration": 0.208577,
     "end_time": "2024-03-11T16:57:37.944040",
     "exception": false,
     "start_time": "2024-03-11T16:57:37.735463",
     "status": "completed"
    },
    "tags": []
   },
   "outputs": [],
   "source": [
    "loaded_model = rnn(vocab_size,max_len,weights,Y_shape)\n",
    "params=load_model(model_name,Embedding_name,Dataset)\n",
    "loaded_model.set_weights(params)"
   ]
  },
  {
   "cell_type": "markdown",
   "id": "e84cf8a6",
   "metadata": {
    "papermill": {
     "duration": 0.058556,
     "end_time": "2024-03-11T16:57:38.059080",
     "exception": false,
     "start_time": "2024-03-11T16:57:38.000524",
     "status": "completed"
    },
    "tags": []
   },
   "source": [
    "Testing accuracy"
   ]
  },
  {
   "cell_type": "code",
   "execution_count": 27,
   "id": "970e6ee0",
   "metadata": {
    "execution": {
     "iopub.execute_input": "2024-03-11T16:57:38.174779Z",
     "iopub.status.busy": "2024-03-11T16:57:38.174171Z",
     "iopub.status.idle": "2024-03-11T16:57:38.950094Z",
     "shell.execute_reply": "2024-03-11T16:57:38.948711Z"
    },
    "papermill": {
     "duration": 0.838414,
     "end_time": "2024-03-11T16:57:38.953067",
     "exception": false,
     "start_time": "2024-03-11T16:57:38.114653",
     "status": "completed"
    },
    "tags": []
   },
   "outputs": [
    {
     "name": "stdout",
     "output_type": "stream",
     "text": [
      "11/11 [==============================] - 1s 9ms/step - loss: 0.1534 - acc: 0.9618 - precision_1: 0.9628 - recall_1: 0.9352\n",
      "0.9618120789527893\n"
     ]
    }
   ],
   "source": [
    "accuracy = loaded_model.evaluate(X_test, Y_test, verbose = 1)\n",
    "print(accuracy[1])"
   ]
  },
  {
   "cell_type": "markdown",
   "id": "6aa760f9",
   "metadata": {
    "papermill": {
     "duration": 0.05658,
     "end_time": "2024-03-11T16:57:39.065633",
     "exception": false,
     "start_time": "2024-03-11T16:57:39.009053",
     "status": "completed"
    },
    "tags": []
   },
   "source": [
    "Testing F1 Score"
   ]
  },
  {
   "cell_type": "code",
   "execution_count": 28,
   "id": "3950daf8",
   "metadata": {
    "execution": {
     "iopub.execute_input": "2024-03-11T16:57:39.182181Z",
     "iopub.status.busy": "2024-03-11T16:57:39.181752Z",
     "iopub.status.idle": "2024-03-11T16:57:40.184239Z",
     "shell.execute_reply": "2024-03-11T16:57:40.182877Z"
    },
    "papermill": {
     "duration": 1.064768,
     "end_time": "2024-03-11T16:57:40.187056",
     "exception": false,
     "start_time": "2024-03-11T16:57:39.122288",
     "status": "completed"
    },
    "tags": []
   },
   "outputs": [
    {
     "name": "stdout",
     "output_type": "stream",
     "text": [
      "11/11 [==============================] - 0s 8ms/step\n",
      "Test F1 Score: 0.48729728761153934\n"
     ]
    }
   ],
   "source": [
    "Y_pred = loaded_model.predict(X_test)\n",
    "real = get_real(Y_test)\n",
    "pred = get_pred(Y_pred)\n",
    "\n",
    "true_labels_flat = [label for sublist in real for label in sublist]\n",
    "predicted_labels_flat = [label for sublist in pred for label in sublist]\n",
    "\n",
    "# Compute F1 score\n",
    "f1 = f1_score(true_labels_flat, predicted_labels_flat, average='macro')\n",
    "\n",
    "print(\"Test F1 Score:\", f1)"
   ]
  },
  {
   "cell_type": "markdown",
   "id": "e4ffc602",
   "metadata": {
    "papermill": {
     "duration": 0.056242,
     "end_time": "2024-03-11T16:57:40.300230",
     "exception": false,
     "start_time": "2024-03-11T16:57:40.243988",
     "status": "completed"
    },
    "tags": []
   },
   "source": [
    "## GRU"
   ]
  },
  {
   "cell_type": "code",
   "execution_count": 29,
   "id": "12ce48b8",
   "metadata": {
    "execution": {
     "iopub.execute_input": "2024-03-11T16:57:40.415058Z",
     "iopub.status.busy": "2024-03-11T16:57:40.414592Z",
     "iopub.status.idle": "2024-03-11T16:57:40.419997Z",
     "shell.execute_reply": "2024-03-11T16:57:40.418783Z"
    },
    "papermill": {
     "duration": 0.066339,
     "end_time": "2024-03-11T16:57:40.422624",
     "exception": false,
     "start_time": "2024-03-11T16:57:40.356285",
     "status": "completed"
    },
    "tags": []
   },
   "outputs": [],
   "source": [
    "model_name=\"GRU\""
   ]
  },
  {
   "cell_type": "markdown",
   "id": "1e693c6a",
   "metadata": {
    "papermill": {
     "duration": 0.056246,
     "end_time": "2024-03-11T16:57:40.534828",
     "exception": false,
     "start_time": "2024-03-11T16:57:40.478582",
     "status": "completed"
    },
    "tags": []
   },
   "source": [
    "### Training"
   ]
  },
  {
   "cell_type": "code",
   "execution_count": 30,
   "id": "fb04b22a",
   "metadata": {
    "execution": {
     "iopub.execute_input": "2024-03-11T16:57:40.651880Z",
     "iopub.status.busy": "2024-03-11T16:57:40.651074Z",
     "iopub.status.idle": "2024-03-11T16:57:40.659124Z",
     "shell.execute_reply": "2024-03-11T16:57:40.657939Z"
    },
    "papermill": {
     "duration": 0.069589,
     "end_time": "2024-03-11T16:57:40.661958",
     "exception": false,
     "start_time": "2024-03-11T16:57:40.592369",
     "status": "completed"
    },
    "tags": []
   },
   "outputs": [],
   "source": [
    "def gru(vocab_size,max_len,weights,Y_train_shape):\n",
    "    gru_model = Sequential()\n",
    "    gru_model.add(Embedding(input_dim = vocab_size,output_dim = 300,input_length  = max_len,weights = [weights],trainable = False))\n",
    "    gru_model.add(GRU(64, return_sequences=True))\n",
    "    gru_model.add(TimeDistributed(Dense(Y_train_shape, activation='softmax')))\n",
    "    gru_model.compile(loss='categorical_crossentropy',optimizer='adam',metrics=['acc',Precision(),Recall()])\n",
    "    return gru_model"
   ]
  },
  {
   "cell_type": "markdown",
   "id": "96ec8a20",
   "metadata": {
    "papermill": {
     "duration": 0.056129,
     "end_time": "2024-03-11T16:57:40.775045",
     "exception": false,
     "start_time": "2024-03-11T16:57:40.718916",
     "status": "completed"
    },
    "tags": []
   },
   "source": [
    "compiling "
   ]
  },
  {
   "cell_type": "code",
   "execution_count": 31,
   "id": "f263d1a3",
   "metadata": {
    "execution": {
     "iopub.execute_input": "2024-03-11T16:57:40.891486Z",
     "iopub.status.busy": "2024-03-11T16:57:40.890282Z",
     "iopub.status.idle": "2024-03-11T16:57:41.236187Z",
     "shell.execute_reply": "2024-03-11T16:57:41.234780Z"
    },
    "papermill": {
     "duration": 0.40791,
     "end_time": "2024-03-11T16:57:41.239052",
     "exception": false,
     "start_time": "2024-03-11T16:57:40.831142",
     "status": "completed"
    },
    "tags": []
   },
   "outputs": [],
   "source": [
    "gru_model=gru(vocab_size,max_len,weights,Y_shape)"
   ]
  },
  {
   "cell_type": "code",
   "execution_count": null,
   "id": "554cf3e4",
   "metadata": {
    "execution": {
     "iopub.execute_input": "2024-03-11T16:45:04.930253Z",
     "iopub.status.busy": "2024-03-11T16:45:04.929684Z",
     "iopub.status.idle": "2024-03-11T16:45:04.947151Z",
     "shell.execute_reply": "2024-03-11T16:45:04.944967Z",
     "shell.execute_reply.started": "2024-03-11T16:45:04.930217Z"
    },
    "papermill": {
     "duration": 0.057799,
     "end_time": "2024-03-11T16:57:41.353958",
     "exception": false,
     "start_time": "2024-03-11T16:57:41.296159",
     "status": "completed"
    },
    "tags": []
   },
   "outputs": [],
   "source": []
  },
  {
   "cell_type": "code",
   "execution_count": 32,
   "id": "f4183a5d",
   "metadata": {
    "execution": {
     "iopub.execute_input": "2024-03-11T16:57:41.471029Z",
     "iopub.status.busy": "2024-03-11T16:57:41.470566Z",
     "iopub.status.idle": "2024-03-11T16:57:41.476686Z",
     "shell.execute_reply": "2024-03-11T16:57:41.475243Z"
    },
    "papermill": {
     "duration": 0.068133,
     "end_time": "2024-03-11T16:57:41.479230",
     "exception": false,
     "start_time": "2024-03-11T16:57:41.411097",
     "status": "completed"
    },
    "tags": []
   },
   "outputs": [],
   "source": [
    "gru_f1_callback = F1ScoreCallback(val_data=(X_val, Y_val),data=(X_train, Y_train))"
   ]
  },
  {
   "cell_type": "code",
   "execution_count": 33,
   "id": "bc354e0e",
   "metadata": {
    "execution": {
     "iopub.execute_input": "2024-03-11T16:57:41.597113Z",
     "iopub.status.busy": "2024-03-11T16:57:41.595956Z",
     "iopub.status.idle": "2024-03-11T16:57:41.622061Z",
     "shell.execute_reply": "2024-03-11T16:57:41.620693Z"
    },
    "papermill": {
     "duration": 0.090239,
     "end_time": "2024-03-11T16:57:41.627944",
     "exception": false,
     "start_time": "2024-03-11T16:57:41.537705",
     "status": "completed"
    },
    "tags": []
   },
   "outputs": [
    {
     "name": "stdout",
     "output_type": "stream",
     "text": [
      "Model: \"sequential_2\"\n",
      "_________________________________________________________________\n",
      " Layer (type)                Output Shape              Param #   \n",
      "=================================================================\n",
      " embedding_2 (Embedding)     (None, 78, 300)           721800    \n",
      "                                                                 \n",
      " gru (GRU)                   (None, 78, 64)            70272     \n",
      "                                                                 \n",
      " time_distributed_2 (TimeDi  (None, 78, 4)             260       \n",
      " stributed)                                                      \n",
      "                                                                 \n",
      "=================================================================\n",
      "Total params: 792332 (3.02 MB)\n",
      "Trainable params: 70532 (275.52 KB)\n",
      "Non-trainable params: 721800 (2.75 MB)\n",
      "_________________________________________________________________\n"
     ]
    }
   ],
   "source": [
    "gru_model.summary()"
   ]
  },
  {
   "cell_type": "markdown",
   "id": "4e43b536",
   "metadata": {
    "papermill": {
     "duration": 0.057877,
     "end_time": "2024-03-11T16:57:41.744073",
     "exception": false,
     "start_time": "2024-03-11T16:57:41.686196",
     "status": "completed"
    },
    "tags": []
   },
   "source": [
    "Fitting GRU"
   ]
  },
  {
   "cell_type": "code",
   "execution_count": 34,
   "id": "a2c8bef4",
   "metadata": {
    "execution": {
     "iopub.execute_input": "2024-03-11T16:57:41.864623Z",
     "iopub.status.busy": "2024-03-11T16:57:41.864221Z",
     "iopub.status.idle": "2024-03-11T17:00:06.273933Z",
     "shell.execute_reply": "2024-03-11T17:00:06.272293Z"
    },
    "papermill": {
     "duration": 144.472224,
     "end_time": "2024-03-11T17:00:06.277419",
     "exception": false,
     "start_time": "2024-03-11T16:57:41.805195",
     "status": "completed"
    },
    "tags": []
   },
   "outputs": [
    {
     "name": "stdout",
     "output_type": "stream",
     "text": [
      "Epoch 1/20\n",
      "7/7 [==============================] - 1s 16ms/step\n",
      "29/29 [==============================] - 0s 17ms/step\n",
      "Val F1 Score: 0.4823634039697543 - Train F1 Score: 0.48248674396620544\n",
      "8/8 [==============================] - 8s 720ms/step - loss: 1.3103 - acc: 0.9191 - precision_2: 0.9792 - recall_2: 0.0053 - val_loss: 1.1927 - val_acc: 0.9667 - val_precision_2: 0.9890 - val_recall_2: 0.0473\n",
      "Epoch 2/20\n",
      "7/7 [==============================] - 0s 16ms/step\n",
      "29/29 [==============================] - 1s 20ms/step\n",
      "Val F1 Score: 0.48371099589600275 - Train F1 Score: 0.4826793572559581\n",
      "8/8 [==============================] - 4s 572ms/step - loss: 1.1144 - acc: 0.9674 - precision_2: 0.9674 - recall_2: 0.0889 - val_loss: 0.9736 - val_acc: 0.9694 - val_precision_2: 0.9531 - val_recall_2: 0.1464\n",
      "Epoch 3/20\n",
      "7/7 [==============================] - 0s 16ms/step\n",
      "29/29 [==============================] - 0s 17ms/step\n",
      "Val F1 Score: 0.47738098186776967 - Train F1 Score: 0.4769547916403688\n",
      "8/8 [==============================] - 4s 557ms/step - loss: 0.8594 - acc: 0.9647 - precision_2: 0.9324 - recall_2: 0.1783 - val_loss: 0.6183 - val_acc: 0.9599 - val_precision_2: 0.9801 - val_recall_2: 0.8402\n",
      "Epoch 4/20\n",
      "7/7 [==============================] - 0s 17ms/step\n",
      "29/29 [==============================] - 1s 17ms/step\n",
      "Val F1 Score: 0.44814044921010515 - Train F1 Score: 0.4502366290228711\n",
      "8/8 [==============================] - 4s 586ms/step - loss: 0.4461 - acc: 0.9425 - precision_2: 0.9484 - recall_2: 0.8741 - val_loss: 0.3479 - val_acc: 0.9217 - val_precision_2: 0.9219 - val_recall_2: 0.8799\n",
      "Epoch 5/20\n",
      "7/7 [==============================] - 0s 16ms/step\n",
      "29/29 [==============================] - 1s 18ms/step\n",
      "Val F1 Score: 0.47746969761946123 - Train F1 Score: 0.4764119581409742\n",
      "8/8 [==============================] - 4s 583ms/step - loss: 0.2794 - acc: 0.9444 - precision_2: 0.9443 - recall_2: 0.9082 - val_loss: 0.2399 - val_acc: 0.9604 - val_precision_2: 0.9623 - val_recall_2: 0.9319\n",
      "Epoch 6/20\n",
      "7/7 [==============================] - 0s 18ms/step\n",
      "29/29 [==============================] - 1s 17ms/step\n",
      "Val F1 Score: 0.4765680830446333 - Train F1 Score: 0.4762000602341184\n",
      "8/8 [==============================] - 4s 554ms/step - loss: 0.2261 - acc: 0.9595 - precision_2: 0.9602 - recall_2: 0.9324 - val_loss: 0.1941 - val_acc: 0.9593 - val_precision_2: 0.9614 - val_recall_2: 0.9323\n",
      "Epoch 7/20\n",
      "7/7 [==============================] - 0s 17ms/step\n",
      "29/29 [==============================] - 0s 16ms/step\n",
      "Val F1 Score: 0.47720255947420015 - Train F1 Score: 0.4764680463459775\n",
      "8/8 [==============================] - 4s 554ms/step - loss: 0.1920 - acc: 0.9572 - precision_2: 0.9574 - recall_2: 0.9308 - val_loss: 0.1761 - val_acc: 0.9601 - val_precision_2: 0.9611 - val_recall_2: 0.9334\n",
      "Epoch 8/20\n",
      "7/7 [==============================] - 0s 17ms/step\n",
      "29/29 [==============================] - 1s 18ms/step\n",
      "Val F1 Score: 0.479839090488024 - Train F1 Score: 0.48001220460649535\n",
      "8/8 [==============================] - 4s 569ms/step - loss: 0.1733 - acc: 0.9601 - precision_2: 0.9610 - recall_2: 0.9410 - val_loss: 0.1581 - val_acc: 0.9644 - val_precision_2: 0.9658 - val_recall_2: 0.9510\n",
      "Epoch 9/20\n",
      "7/7 [==============================] - 0s 17ms/step\n",
      "29/29 [==============================] - 1s 17ms/step\n",
      "Val F1 Score: 0.48428324537990713 - Train F1 Score: 0.484538031658488\n",
      "8/8 [==============================] - 4s 556ms/step - loss: 0.1595 - acc: 0.9638 - precision_2: 0.9659 - recall_2: 0.9497 - val_loss: 0.1471 - val_acc: 0.9689 - val_precision_2: 0.9705 - val_recall_2: 0.9522\n",
      "Epoch 10/20\n",
      "7/7 [==============================] - 0s 20ms/step\n",
      "29/29 [==============================] - 1s 22ms/step\n",
      "Val F1 Score: 0.48578555425672015 - Train F1 Score: 0.48709557818581745\n",
      "8/8 [==============================] - 5s 689ms/step - loss: 0.1489 - acc: 0.9667 - precision_2: 0.9676 - recall_2: 0.9504 - val_loss: 0.1375 - val_acc: 0.9687 - val_precision_2: 0.9704 - val_recall_2: 0.9553\n",
      "Epoch 11/20\n",
      "7/7 [==============================] - 0s 17ms/step\n",
      "29/29 [==============================] - 0s 17ms/step\n",
      "Val F1 Score: 0.48797654984027805 - Train F1 Score: 0.4903885445842505\n",
      "8/8 [==============================] - 4s 555ms/step - loss: 0.1405 - acc: 0.9670 - precision_2: 0.9681 - recall_2: 0.9535 - val_loss: 0.1301 - val_acc: 0.9696 - val_precision_2: 0.9708 - val_recall_2: 0.9560\n",
      "Epoch 12/20\n",
      "7/7 [==============================] - 0s 18ms/step\n",
      "29/29 [==============================] - 0s 16ms/step\n",
      "Val F1 Score: 0.49143189671537724 - Train F1 Score: 0.4917781950344523\n",
      "8/8 [==============================] - 4s 562ms/step - loss: 0.1332 - acc: 0.9675 - precision_2: 0.9685 - recall_2: 0.9537 - val_loss: 0.1238 - val_acc: 0.9701 - val_precision_2: 0.9711 - val_recall_2: 0.9564\n",
      "Epoch 13/20\n",
      "7/7 [==============================] - 0s 17ms/step\n",
      "29/29 [==============================] - 1s 17ms/step\n",
      "Val F1 Score: 0.4932196303721199 - Train F1 Score: 0.49415694327768095\n",
      "8/8 [==============================] - 4s 555ms/step - loss: 0.1272 - acc: 0.9681 - precision_2: 0.9691 - recall_2: 0.9545 - val_loss: 0.1183 - val_acc: 0.9704 - val_precision_2: 0.9714 - val_recall_2: 0.9568\n",
      "Epoch 14/20\n",
      "7/7 [==============================] - 0s 17ms/step\n",
      "29/29 [==============================] - 0s 17ms/step\n",
      "Val F1 Score: 0.49635735833831546 - Train F1 Score: 0.4970161653911302\n",
      "8/8 [==============================] - 4s 558ms/step - loss: 0.1219 - acc: 0.9683 - precision_2: 0.9694 - recall_2: 0.9546 - val_loss: 0.1134 - val_acc: 0.9706 - val_precision_2: 0.9716 - val_recall_2: 0.9569\n",
      "Epoch 15/20\n",
      "7/7 [==============================] - 0s 18ms/step\n",
      "29/29 [==============================] - 1s 18ms/step\n",
      "Val F1 Score: 0.49672669500150396 - Train F1 Score: 0.4989076277863083\n",
      "8/8 [==============================] - 4s 575ms/step - loss: 0.1171 - acc: 0.9687 - precision_2: 0.9698 - recall_2: 0.9550 - val_loss: 0.1092 - val_acc: 0.9711 - val_precision_2: 0.9721 - val_recall_2: 0.9574\n",
      "Epoch 16/20\n",
      "7/7 [==============================] - 0s 18ms/step\n",
      "29/29 [==============================] - 1s 18ms/step\n",
      "Val F1 Score: 0.4996076643885422 - Train F1 Score: 0.5039633460804182\n",
      "8/8 [==============================] - 4s 565ms/step - loss: 0.1128 - acc: 0.9689 - precision_2: 0.9704 - recall_2: 0.9552 - val_loss: 0.1053 - val_acc: 0.9711 - val_precision_2: 0.9725 - val_recall_2: 0.9571\n",
      "Epoch 17/20\n",
      "7/7 [==============================] - 0s 17ms/step\n",
      "29/29 [==============================] - 0s 17ms/step\n",
      "Val F1 Score: 0.4995164548660474 - Train F1 Score: 0.5101520241017564\n",
      "8/8 [==============================] - 4s 582ms/step - loss: 0.1089 - acc: 0.9692 - precision_2: 0.9714 - recall_2: 0.9551 - val_loss: 0.1020 - val_acc: 0.9712 - val_precision_2: 0.9735 - val_recall_2: 0.9574\n",
      "Epoch 18/20\n",
      "7/7 [==============================] - 0s 17ms/step\n",
      "29/29 [==============================] - 1s 17ms/step\n",
      "Val F1 Score: 0.4998016391169092 - Train F1 Score: 0.5090035391725912\n",
      "8/8 [==============================] - 4s 574ms/step - loss: 0.1054 - acc: 0.9698 - precision_2: 0.9723 - recall_2: 0.9556 - val_loss: 0.0987 - val_acc: 0.9715 - val_precision_2: 0.9736 - val_recall_2: 0.9579\n",
      "Epoch 19/20\n",
      "7/7 [==============================] - 0s 17ms/step\n",
      "29/29 [==============================] - 0s 16ms/step\n",
      "Val F1 Score: 0.49997573492462544 - Train F1 Score: 0.5108117648946894\n",
      "8/8 [==============================] - 4s 578ms/step - loss: 0.1021 - acc: 0.9699 - precision_2: 0.9725 - recall_2: 0.9558 - val_loss: 0.0957 - val_acc: 0.9717 - val_precision_2: 0.9742 - val_recall_2: 0.9579\n",
      "Epoch 20/20\n",
      "7/7 [==============================] - 0s 16ms/step\n",
      "29/29 [==============================] - 0s 16ms/step\n",
      "Val F1 Score: 0.51393283187932 - Train F1 Score: 0.5238055117551397\n",
      "8/8 [==============================] - 4s 546ms/step - loss: 0.0991 - acc: 0.9705 - precision_2: 0.9736 - recall_2: 0.9559 - val_loss: 0.0932 - val_acc: 0.9723 - val_precision_2: 0.9756 - val_recall_2: 0.9580\n"
     ]
    }
   ],
   "source": [
    "gru_training = gru_model.fit(X_train, Y_train, batch_size=128, epochs=20, validation_data=(X_val, Y_val), callbacks=[gru_f1_callback])"
   ]
  },
  {
   "cell_type": "markdown",
   "id": "00ceffe6",
   "metadata": {
    "papermill": {
     "duration": 0.098581,
     "end_time": "2024-03-11T17:00:06.477487",
     "exception": false,
     "start_time": "2024-03-11T17:00:06.378906",
     "status": "completed"
    },
    "tags": []
   },
   "source": [
    "Plotting Graph"
   ]
  },
  {
   "cell_type": "code",
   "execution_count": 35,
   "id": "a5f8f9cc",
   "metadata": {
    "execution": {
     "iopub.execute_input": "2024-03-11T17:00:06.682502Z",
     "iopub.status.busy": "2024-03-11T17:00:06.681531Z",
     "iopub.status.idle": "2024-03-11T17:00:07.332129Z",
     "shell.execute_reply": "2024-03-11T17:00:07.330450Z"
    },
    "papermill": {
     "duration": 0.754309,
     "end_time": "2024-03-11T17:00:07.335186",
     "exception": false,
     "start_time": "2024-03-11T17:00:06.580877",
     "status": "completed"
    },
    "tags": []
   },
   "outputs": [
    {
     "data": {
      "image/png": "[encoded data removed]",
      "text/plain": [
       "<Figure size 1600x500 with 2 Axes>"
      ]
     },
     "metadata": {},
     "output_type": "display_data"
    }
   ],
   "source": [
    "draw_loss_graph(gru_training,model_name, gru_f1_callback.train_f1_scores, gru_f1_callback.val_f1_scores)\n",
    "save_model(gru_model,model_name,Embedding_name,Dataset)"
   ]
  },
  {
   "cell_type": "markdown",
   "id": "fbcb9abc",
   "metadata": {
    "papermill": {
     "duration": 0.10148,
     "end_time": "2024-03-11T17:00:07.540929",
     "exception": false,
     "start_time": "2024-03-11T17:00:07.439449",
     "status": "completed"
    },
    "tags": []
   },
   "source": [
    "### Testing"
   ]
  },
  {
   "cell_type": "code",
   "execution_count": 36,
   "id": "b7e3bb34",
   "metadata": {
    "execution": {
     "iopub.execute_input": "2024-03-11T17:00:07.749753Z",
     "iopub.status.busy": "2024-03-11T17:00:07.749337Z",
     "iopub.status.idle": "2024-03-11T17:00:08.094630Z",
     "shell.execute_reply": "2024-03-11T17:00:08.093244Z"
    },
    "papermill": {
     "duration": 0.452889,
     "end_time": "2024-03-11T17:00:08.097582",
     "exception": false,
     "start_time": "2024-03-11T17:00:07.644693",
     "status": "completed"
    },
    "tags": []
   },
   "outputs": [],
   "source": [
    "params = load_model(model_name,Embedding_name,Dataset)\n",
    "loaded_model=gru(vocab_size,max_len,weights,Y_shape)\n",
    "loaded_model.set_weights(params)"
   ]
  },
  {
   "cell_type": "markdown",
   "id": "7771ff99",
   "metadata": {
    "papermill": {
     "duration": 0.104897,
     "end_time": "2024-03-11T17:00:08.307234",
     "exception": false,
     "start_time": "2024-03-11T17:00:08.202337",
     "status": "completed"
    },
    "tags": []
   },
   "source": [
    "Testing Accuracy"
   ]
  },
  {
   "cell_type": "code",
   "execution_count": 37,
   "id": "984659d6",
   "metadata": {
    "execution": {
     "iopub.execute_input": "2024-03-11T17:00:08.516341Z",
     "iopub.status.busy": "2024-03-11T17:00:08.515925Z",
     "iopub.status.idle": "2024-03-11T17:00:09.878169Z",
     "shell.execute_reply": "2024-03-11T17:00:09.876787Z"
    },
    "papermill": {
     "duration": 1.470529,
     "end_time": "2024-03-11T17:00:09.880928",
     "exception": false,
     "start_time": "2024-03-11T17:00:08.410399",
     "status": "completed"
    },
    "tags": []
   },
   "outputs": [
    {
     "name": "stdout",
     "output_type": "stream",
     "text": [
      "11/11 [==============================] - 1s 20ms/step - loss: 0.1045 - acc: 0.9695 - precision_3: 0.9727 - recall_3: 0.9547\n",
      "0.969473123550415\n"
     ]
    }
   ],
   "source": [
    "accuracy = loaded_model.evaluate(X_test, Y_test, verbose = 1)\n",
    "print(accuracy[1])"
   ]
  },
  {
   "cell_type": "markdown",
   "id": "61848215",
   "metadata": {
    "papermill": {
     "duration": 0.104863,
     "end_time": "2024-03-11T17:00:10.087834",
     "exception": false,
     "start_time": "2024-03-11T17:00:09.982971",
     "status": "completed"
    },
    "tags": []
   },
   "source": [
    "Testing F1 Score"
   ]
  },
  {
   "cell_type": "code",
   "execution_count": 38,
   "id": "a2398eda",
   "metadata": {
    "execution": {
     "iopub.execute_input": "2024-03-11T17:00:10.300008Z",
     "iopub.status.busy": "2024-03-11T17:00:10.299585Z",
     "iopub.status.idle": "2024-03-11T17:00:11.675813Z",
     "shell.execute_reply": "2024-03-11T17:00:11.674244Z"
    },
    "papermill": {
     "duration": 1.487308,
     "end_time": "2024-03-11T17:00:11.679266",
     "exception": false,
     "start_time": "2024-03-11T17:00:10.191958",
     "status": "completed"
    },
    "tags": []
   },
   "outputs": [
    {
     "name": "stdout",
     "output_type": "stream",
     "text": [
      "11/11 [==============================] - 1s 17ms/step\n",
      "Test F1 Score: 0.522530472724726\n"
     ]
    }
   ],
   "source": [
    "Y_pred = loaded_model.predict(X_test)\n",
    "real = get_real(Y_test)\n",
    "pred = get_pred(Y_pred)\n",
    "\n",
    "true_labels_flat = [label for sublist in real for label in sublist]\n",
    "predicted_labels_flat = [label for sublist in pred for label in sublist]\n",
    "\n",
    "# Compute F1 score\n",
    "f1 = f1_score(true_labels_flat, predicted_labels_flat, average='macro')\n",
    "\n",
    "print(\"Test F1 Score:\", f1)"
   ]
  },
  {
   "cell_type": "markdown",
   "id": "dd6183b5",
   "metadata": {
    "papermill": {
     "duration": 0.105482,
     "end_time": "2024-03-11T17:00:11.890304",
     "exception": false,
     "start_time": "2024-03-11T17:00:11.784822",
     "status": "completed"
    },
    "tags": []
   },
   "source": [
    "## LSTM"
   ]
  },
  {
   "cell_type": "code",
   "execution_count": 39,
   "id": "1027f321",
   "metadata": {
    "execution": {
     "iopub.execute_input": "2024-03-11T17:00:12.104507Z",
     "iopub.status.busy": "2024-03-11T17:00:12.104107Z",
     "iopub.status.idle": "2024-03-11T17:00:12.109138Z",
     "shell.execute_reply": "2024-03-11T17:00:12.107968Z"
    },
    "papermill": {
     "duration": 0.116478,
     "end_time": "2024-03-11T17:00:12.111792",
     "exception": false,
     "start_time": "2024-03-11T17:00:11.995314",
     "status": "completed"
    },
    "tags": []
   },
   "outputs": [],
   "source": [
    "model_name=\"LSTM\""
   ]
  },
  {
   "cell_type": "markdown",
   "id": "2de99b0d",
   "metadata": {
    "papermill": {
     "duration": 0.104442,
     "end_time": "2024-03-11T17:00:12.321561",
     "exception": false,
     "start_time": "2024-03-11T17:00:12.217119",
     "status": "completed"
    },
    "tags": []
   },
   "source": [
    "### Training"
   ]
  },
  {
   "cell_type": "code",
   "execution_count": 40,
   "id": "670c67d0",
   "metadata": {
    "execution": {
     "iopub.execute_input": "2024-03-11T17:00:12.607598Z",
     "iopub.status.busy": "2024-03-11T17:00:12.607080Z",
     "iopub.status.idle": "2024-03-11T17:00:12.615105Z",
     "shell.execute_reply": "2024-03-11T17:00:12.613861Z"
    },
    "papermill": {
     "duration": 0.189383,
     "end_time": "2024-03-11T17:00:12.617352",
     "exception": false,
     "start_time": "2024-03-11T17:00:12.427969",
     "status": "completed"
    },
    "tags": []
   },
   "outputs": [],
   "source": [
    "def lstm(vocab_size,max_len,weights,Y_shape):\n",
    "    lstm_model = Sequential()\n",
    "    lstm_model.add(Embedding(input_dim = vocab_size,output_dim = 300,input_length  = max_len,weights = [weights],trainable = False))\n",
    "    lstm_model.add(LSTM(128, return_sequences=True))\n",
    "    lstm_model.add(TimeDistributed(Dense(Y_train.shape[2], activation='softmax')))# Lstm\n",
    "    lstm_model.compile(loss='categorical_crossentropy',optimizer='adam',metrics=['acc',Precision(),Recall()])    \n",
    "    return lstm_model"
   ]
  },
  {
   "cell_type": "markdown",
   "id": "05ab5346",
   "metadata": {
    "papermill": {
     "duration": 0.10369,
     "end_time": "2024-03-11T17:00:12.823364",
     "exception": false,
     "start_time": "2024-03-11T17:00:12.719674",
     "status": "completed"
    },
    "tags": []
   },
   "source": [
    "Compiling LSTM"
   ]
  },
  {
   "cell_type": "code",
   "execution_count": 41,
   "id": "7a9178ec",
   "metadata": {
    "execution": {
     "iopub.execute_input": "2024-03-11T17:00:13.036267Z",
     "iopub.status.busy": "2024-03-11T17:00:13.035795Z",
     "iopub.status.idle": "2024-03-11T17:00:13.436911Z",
     "shell.execute_reply": "2024-03-11T17:00:13.435603Z"
    },
    "papermill": {
     "duration": 0.512426,
     "end_time": "2024-03-11T17:00:13.439761",
     "exception": false,
     "start_time": "2024-03-11T17:00:12.927335",
     "status": "completed"
    },
    "tags": []
   },
   "outputs": [],
   "source": [
    "lstm_model=lstm(vocab_size,max_len,weights,Y_shape)"
   ]
  },
  {
   "cell_type": "code",
   "execution_count": null,
   "id": "131241ca",
   "metadata": {
    "papermill": {
     "duration": 0.10391,
     "end_time": "2024-03-11T17:00:13.647932",
     "exception": false,
     "start_time": "2024-03-11T17:00:13.544022",
     "status": "completed"
    },
    "tags": []
   },
   "outputs": [],
   "source": []
  },
  {
   "cell_type": "code",
   "execution_count": 42,
   "id": "08355403",
   "metadata": {
    "execution": {
     "iopub.execute_input": "2024-03-11T17:00:13.857238Z",
     "iopub.status.busy": "2024-03-11T17:00:13.856826Z",
     "iopub.status.idle": "2024-03-11T17:00:13.862830Z",
     "shell.execute_reply": "2024-03-11T17:00:13.861519Z"
    },
    "papermill": {
     "duration": 0.113788,
     "end_time": "2024-03-11T17:00:13.865361",
     "exception": false,
     "start_time": "2024-03-11T17:00:13.751573",
     "status": "completed"
    },
    "tags": []
   },
   "outputs": [],
   "source": [
    "LSTM_f1_callback=F1ScoreCallback(val_data=(X_val, Y_val),data=(X_train, Y_train))"
   ]
  },
  {
   "cell_type": "code",
   "execution_count": 43,
   "id": "ba4919c0",
   "metadata": {
    "execution": {
     "iopub.execute_input": "2024-03-11T17:00:14.107444Z",
     "iopub.status.busy": "2024-03-11T17:00:14.107019Z",
     "iopub.status.idle": "2024-03-11T17:00:14.128404Z",
     "shell.execute_reply": "2024-03-11T17:00:14.127523Z"
    },
    "papermill": {
     "duration": 0.166544,
     "end_time": "2024-03-11T17:00:14.135583",
     "exception": false,
     "start_time": "2024-03-11T17:00:13.969039",
     "status": "completed"
    },
    "tags": []
   },
   "outputs": [
    {
     "name": "stdout",
     "output_type": "stream",
     "text": [
      "Model: \"sequential_4\"\n",
      "_________________________________________________________________\n",
      " Layer (type)                Output Shape              Param #   \n",
      "=================================================================\n",
      " embedding_4 (Embedding)     (None, 78, 300)           721800    \n",
      "                                                                 \n",
      " lstm (LSTM)                 (None, 78, 128)           219648    \n",
      "                                                                 \n",
      " time_distributed_4 (TimeDi  (None, 78, 4)             516       \n",
      " stributed)                                                      \n",
      "                                                                 \n",
      "=================================================================\n",
      "Total params: 941964 (3.59 MB)\n",
      "Trainable params: 220164 (860.02 KB)\n",
      "Non-trainable params: 721800 (2.75 MB)\n",
      "_________________________________________________________________\n"
     ]
    }
   ],
   "source": [
    "lstm_model.summary()"
   ]
  },
  {
   "cell_type": "markdown",
   "id": "0619720a",
   "metadata": {
    "papermill": {
     "duration": 0.106083,
     "end_time": "2024-03-11T17:00:14.350706",
     "exception": false,
     "start_time": "2024-03-11T17:00:14.244623",
     "status": "completed"
    },
    "tags": []
   },
   "source": [
    "Fitting LSTM"
   ]
  },
  {
   "cell_type": "code",
   "execution_count": 44,
   "id": "e4385ad3",
   "metadata": {
    "execution": {
     "iopub.execute_input": "2024-03-11T17:00:14.561645Z",
     "iopub.status.busy": "2024-03-11T17:00:14.561176Z",
     "iopub.status.idle": "2024-03-11T17:02:38.927237Z",
     "shell.execute_reply": "2024-03-11T17:02:38.925723Z"
    },
    "papermill": {
     "duration": 144.475335,
     "end_time": "2024-03-11T17:02:38.930440",
     "exception": false,
     "start_time": "2024-03-11T17:00:14.455105",
     "status": "completed"
    },
    "tags": []
   },
   "outputs": [
    {
     "name": "stdout",
     "output_type": "stream",
     "text": [
      "Epoch 1/20\n",
      "7/7 [==============================] - 1s 39ms/step\n",
      "29/29 [==============================] - 1s 39ms/step\n",
      "Val F1 Score: 0.48483821939066996 - Train F1 Score: 0.48400707602971654\n",
      "8/8 [==============================] - 10s 1s/step - loss: 1.2997 - acc: 0.9242 - precision_4: 0.9386 - recall_4: 0.0206 - val_loss: 1.1169 - val_acc: 0.9723 - val_precision_4: 0.9200 - val_recall_4: 0.1595\n",
      "Epoch 2/20\n",
      "7/7 [==============================] - 0s 42ms/step\n",
      "29/29 [==============================] - 1s 40ms/step\n",
      "Val F1 Score: 0.42651532750439736 - Train F1 Score: 0.4253351600158502\n",
      "8/8 [==============================] - 6s 783ms/step - loss: 0.9409 - acc: 0.9575 - precision_4: 0.9024 - recall_4: 0.2891 - val_loss: 0.6033 - val_acc: 0.8980 - val_precision_4: 0.8747 - val_recall_4: 0.7062\n",
      "Epoch 3/20\n",
      "7/7 [==============================] - 0s 40ms/step\n",
      "29/29 [==============================] - 1s 40ms/step\n",
      "Val F1 Score: 0.46843693750445187 - Train F1 Score: 0.467983373746697\n",
      "8/8 [==============================] - 6s 825ms/step - loss: 0.5277 - acc: 0.9268 - precision_4: 0.9152 - recall_4: 0.7840 - val_loss: 0.3901 - val_acc: 0.9481 - val_precision_4: 0.9429 - val_recall_4: 0.8456\n",
      "Epoch 4/20\n",
      "7/7 [==============================] - 0s 45ms/step\n",
      "29/29 [==============================] - 1s 47ms/step\n",
      "Val F1 Score: 0.4708790143024635 - Train F1 Score: 0.4704169138734452\n",
      "8/8 [==============================] - 8s 1s/step - loss: 0.3624 - acc: 0.9492 - precision_4: 0.9450 - recall_4: 0.8628 - val_loss: 0.2928 - val_acc: 0.9514 - val_precision_4: 0.9483 - val_recall_4: 0.8743\n",
      "Epoch 5/20\n",
      "7/7 [==============================] - 0s 54ms/step\n",
      "29/29 [==============================] - 1s 40ms/step\n",
      "Val F1 Score: 0.4788471330040108 - Train F1 Score: 0.47749304438454904\n",
      "8/8 [==============================] - 7s 886ms/step - loss: 0.2759 - acc: 0.9543 - precision_4: 0.9521 - recall_4: 0.8878 - val_loss: 0.2406 - val_acc: 0.9632 - val_precision_4: 0.9624 - val_recall_4: 0.8986\n",
      "Epoch 6/20\n",
      "7/7 [==============================] - 0s 42ms/step\n",
      "29/29 [==============================] - 1s 41ms/step\n",
      "Val F1 Score: 0.47832811060018576 - Train F1 Score: 0.4771937752313232\n",
      "8/8 [==============================] - 6s 802ms/step - loss: 0.2319 - acc: 0.9582 - precision_4: 0.9572 - recall_4: 0.9043 - val_loss: 0.2102 - val_acc: 0.9628 - val_precision_4: 0.9630 - val_recall_4: 0.9109\n",
      "Epoch 7/20\n",
      "7/7 [==============================] - 0s 41ms/step\n",
      "29/29 [==============================] - 1s 40ms/step\n",
      "Val F1 Score: 0.46847579084174845 - Train F1 Score: 0.4686642283219453\n",
      "8/8 [==============================] - 6s 789ms/step - loss: 0.2149 - acc: 0.9599 - precision_4: 0.9598 - recall_4: 0.9060 - val_loss: 0.2363 - val_acc: 0.9484 - val_precision_4: 0.9470 - val_recall_4: 0.8968\n",
      "Epoch 8/20\n",
      "7/7 [==============================] - 0s 42ms/step\n",
      "29/29 [==============================] - 1s 39ms/step\n",
      "Val F1 Score: 0.4752268114132815 - Train F1 Score: 0.4742259322554384\n",
      "8/8 [==============================] - 6s 787ms/step - loss: 0.2120 - acc: 0.9578 - precision_4: 0.9575 - recall_4: 0.9149 - val_loss: 0.1998 - val_acc: 0.9574 - val_precision_4: 0.9570 - val_recall_4: 0.9182\n",
      "Epoch 9/20\n",
      "7/7 [==============================] - 0s 38ms/step\n",
      "29/29 [==============================] - 1s 39ms/step\n",
      "Val F1 Score: 0.47882866313905986 - Train F1 Score: 0.4774656823533527\n",
      "8/8 [==============================] - 6s 778ms/step - loss: 0.1981 - acc: 0.9585 - precision_4: 0.9582 - recall_4: 0.9194 - val_loss: 0.1856 - val_acc: 0.9629 - val_precision_4: 0.9628 - val_recall_4: 0.9241\n",
      "Epoch 10/20\n",
      "7/7 [==============================] - 0s 43ms/step\n",
      "29/29 [==============================] - 1s 39ms/step\n",
      "Val F1 Score: 0.48247774977150926 - Train F1 Score: 0.4809810703482073\n",
      "8/8 [==============================] - 6s 849ms/step - loss: 0.1858 - acc: 0.9603 - precision_4: 0.9598 - recall_4: 0.9213 - val_loss: 0.1755 - val_acc: 0.9690 - val_precision_4: 0.9682 - val_recall_4: 0.9298\n",
      "Epoch 11/20\n",
      "7/7 [==============================] - 0s 40ms/step\n",
      "29/29 [==============================] - 1s 40ms/step\n",
      "Val F1 Score: 0.47878502966023795 - Train F1 Score: 0.4772657439310254\n",
      "8/8 [==============================] - 6s 783ms/step - loss: 0.1737 - acc: 0.9640 - precision_4: 0.9635 - recall_4: 0.9251 - val_loss: 0.1648 - val_acc: 0.9632 - val_precision_4: 0.9632 - val_recall_4: 0.9246\n",
      "Epoch 12/20\n",
      "7/7 [==============================] - 0s 42ms/step\n",
      "29/29 [==============================] - 1s 39ms/step\n",
      "Val F1 Score: 0.48429016113507084 - Train F1 Score: 0.48315131426176916\n",
      "8/8 [==============================] - 6s 778ms/step - loss: 0.1664 - acc: 0.9638 - precision_4: 0.9632 - recall_4: 0.9249 - val_loss: 0.1696 - val_acc: 0.9717 - val_precision_4: 0.9713 - val_recall_4: 0.9317\n",
      "Epoch 13/20\n",
      "7/7 [==============================] - 0s 39ms/step\n",
      "29/29 [==============================] - 1s 48ms/step\n",
      "Val F1 Score: 0.4788408705871866 - Train F1 Score: 0.4774075253356065\n",
      "8/8 [==============================] - 7s 957ms/step - loss: 0.1696 - acc: 0.9643 - precision_4: 0.9639 - recall_4: 0.9309 - val_loss: 0.1574 - val_acc: 0.9631 - val_precision_4: 0.9633 - val_recall_4: 0.9373\n",
      "Epoch 14/20\n",
      "7/7 [==============================] - 0s 39ms/step\n",
      "29/29 [==============================] - 1s 41ms/step\n",
      "Val F1 Score: 0.48318011242355885 - Train F1 Score: 0.48165565112799935\n",
      "8/8 [==============================] - 6s 785ms/step - loss: 0.1590 - acc: 0.9640 - precision_4: 0.9641 - recall_4: 0.9378 - val_loss: 0.1502 - val_acc: 0.9700 - val_precision_4: 0.9695 - val_recall_4: 0.9439\n",
      "Epoch 15/20\n",
      "7/7 [==============================] - 0s 42ms/step\n",
      "29/29 [==============================] - 1s 40ms/step\n",
      "Val F1 Score: 0.4832033712023673 - Train F1 Score: 0.4824872178826975\n",
      "8/8 [==============================] - 6s 886ms/step - loss: 0.1524 - acc: 0.9658 - precision_4: 0.9659 - recall_4: 0.9394 - val_loss: 0.1431 - val_acc: 0.9700 - val_precision_4: 0.9695 - val_recall_4: 0.9440\n",
      "Epoch 16/20\n",
      "7/7 [==============================] - 0s 40ms/step\n",
      "29/29 [==============================] - 1s 39ms/step\n",
      "Val F1 Score: 0.48452772470742583 - Train F1 Score: 0.4858091519073085\n",
      "8/8 [==============================] - 6s 807ms/step - loss: 0.1455 - acc: 0.9673 - precision_4: 0.9671 - recall_4: 0.9413 - val_loss: 0.1360 - val_acc: 0.9696 - val_precision_4: 0.9696 - val_recall_4: 0.9437\n",
      "Epoch 17/20\n",
      "7/7 [==============================] - 0s 40ms/step\n",
      "29/29 [==============================] - 1s 41ms/step\n",
      "Val F1 Score: 0.49079436383622815 - Train F1 Score: 0.4892138635554725\n",
      "8/8 [==============================] - 6s 796ms/step - loss: 0.1386 - acc: 0.9680 - precision_4: 0.9680 - recall_4: 0.9418 - val_loss: 0.1326 - val_acc: 0.9715 - val_precision_4: 0.9714 - val_recall_4: 0.9451\n",
      "Epoch 18/20\n",
      "7/7 [==============================] - 0s 41ms/step\n",
      "29/29 [==============================] - 1s 42ms/step\n",
      "Val F1 Score: 0.48994919741245313 - Train F1 Score: 0.48856484776403253\n",
      "8/8 [==============================] - 6s 791ms/step - loss: 0.1351 - acc: 0.9687 - precision_4: 0.9687 - recall_4: 0.9424 - val_loss: 0.1272 - val_acc: 0.9703 - val_precision_4: 0.9703 - val_recall_4: 0.9442\n",
      "Epoch 19/20\n",
      "7/7 [==============================] - 0s 40ms/step\n",
      "29/29 [==============================] - 1s 39ms/step\n",
      "Val F1 Score: 0.4905853056505132 - Train F1 Score: 0.4917540866087404\n",
      "8/8 [==============================] - 6s 780ms/step - loss: 0.1309 - acc: 0.9687 - precision_4: 0.9688 - recall_4: 0.9426 - val_loss: 0.1237 - val_acc: 0.9712 - val_precision_4: 0.9711 - val_recall_4: 0.9453\n",
      "Epoch 20/20\n",
      "7/7 [==============================] - 0s 40ms/step\n",
      "29/29 [==============================] - 1s 40ms/step\n",
      "Val F1 Score: 0.49188011010318444 - Train F1 Score: 0.49546055940188954\n",
      "8/8 [==============================] - 6s 793ms/step - loss: 0.1275 - acc: 0.9691 - precision_4: 0.9694 - recall_4: 0.9427 - val_loss: 0.1210 - val_acc: 0.9707 - val_precision_4: 0.9708 - val_recall_4: 0.9444\n"
     ]
    }
   ],
   "source": [
    "lstm_training = lstm_model.fit(X_train, Y_train, batch_size=128, epochs=20, validation_data=(X_val, Y_val), callbacks=[LSTM_f1_callback])"
   ]
  },
  {
   "cell_type": "markdown",
   "id": "3d874198",
   "metadata": {
    "papermill": {
     "duration": 0.166294,
     "end_time": "2024-03-11T17:02:39.261066",
     "exception": false,
     "start_time": "2024-03-11T17:02:39.094772",
     "status": "completed"
    },
    "tags": []
   },
   "source": [
    "Plotting Graph"
   ]
  },
  {
   "cell_type": "code",
   "execution_count": 45,
   "id": "bc5a5fa4",
   "metadata": {
    "execution": {
     "iopub.execute_input": "2024-03-11T17:02:39.593491Z",
     "iopub.status.busy": "2024-03-11T17:02:39.592255Z",
     "iopub.status.idle": "2024-03-11T17:02:40.234566Z",
     "shell.execute_reply": "2024-03-11T17:02:40.233580Z"
    },
    "papermill": {
     "duration": 0.812527,
     "end_time": "2024-03-11T17:02:40.237447",
     "exception": false,
     "start_time": "2024-03-11T17:02:39.424920",
     "status": "completed"
    },
    "tags": []
   },
   "outputs": [
    {
     "data": {
      "image/png": "[encoded data removed]",
      "text/plain": [
       "<Figure size 1600x500 with 2 Axes>"
      ]
     },
     "metadata": {},
     "output_type": "display_data"
    }
   ],
   "source": [
    "draw_loss_graph(lstm_training, \"LSTM Model\", LSTM_f1_callback.train_f1_scores, LSTM_f1_callback.val_f1_scores)\n",
    "save_model(lstm_model, model_name, Embedding_name, Dataset)\n",
    "# loaded_model = load_model(model_name,Embedding_name,Dataset)"
   ]
  },
  {
   "cell_type": "markdown",
   "id": "491920ee",
   "metadata": {
    "papermill": {
     "duration": 0.163597,
     "end_time": "2024-03-11T17:02:40.566674",
     "exception": false,
     "start_time": "2024-03-11T17:02:40.403077",
     "status": "completed"
    },
    "tags": []
   },
   "source": [
    "### Testing"
   ]
  },
  {
   "cell_type": "code",
   "execution_count": 46,
   "id": "baf689be",
   "metadata": {
    "execution": {
     "iopub.execute_input": "2024-03-11T17:02:40.900156Z",
     "iopub.status.busy": "2024-03-11T17:02:40.899437Z",
     "iopub.status.idle": "2024-03-11T17:02:41.298172Z",
     "shell.execute_reply": "2024-03-11T17:02:41.296950Z"
    },
    "papermill": {
     "duration": 0.572332,
     "end_time": "2024-03-11T17:02:41.301113",
     "exception": false,
     "start_time": "2024-03-11T17:02:40.728781",
     "status": "completed"
    },
    "tags": []
   },
   "outputs": [],
   "source": [
    "params = load_model(model_name,Embedding_name,Dataset)\n",
    "loaded_model=lstm(vocab_size,max_len,weights,Y_shape)\n",
    "loaded_model.set_weights(params)"
   ]
  },
  {
   "cell_type": "markdown",
   "id": "e90ae6b4",
   "metadata": {
    "papermill": {
     "duration": 0.16689,
     "end_time": "2024-03-11T17:02:41.636533",
     "exception": false,
     "start_time": "2024-03-11T17:02:41.469643",
     "status": "completed"
    },
    "tags": []
   },
   "source": [
    "Testing accuracy"
   ]
  },
  {
   "cell_type": "code",
   "execution_count": 47,
   "id": "bb461f32",
   "metadata": {
    "execution": {
     "iopub.execute_input": "2024-03-11T17:02:41.967713Z",
     "iopub.status.busy": "2024-03-11T17:02:41.967296Z",
     "iopub.status.idle": "2024-03-11T17:02:43.735470Z",
     "shell.execute_reply": "2024-03-11T17:02:43.734262Z"
    },
    "papermill": {
     "duration": 1.936063,
     "end_time": "2024-03-11T17:02:43.738107",
     "exception": false,
     "start_time": "2024-03-11T17:02:41.802044",
     "status": "completed"
    },
    "tags": []
   },
   "outputs": [
    {
     "name": "stdout",
     "output_type": "stream",
     "text": [
      "11/11 [==============================] - 2s 38ms/step - loss: 0.1284 - acc: 0.9674 - precision_5: 0.9679 - recall_5: 0.9407\n",
      "0.9673624038696289\n"
     ]
    }
   ],
   "source": [
    "accuracy = loaded_model.evaluate(X_test, Y_test, verbose = 1)\n",
    "print(accuracy[1])"
   ]
  },
  {
   "cell_type": "markdown",
   "id": "e3ecfb67",
   "metadata": {
    "papermill": {
     "duration": 0.280152,
     "end_time": "2024-03-11T17:02:44.186854",
     "exception": false,
     "start_time": "2024-03-11T17:02:43.906702",
     "status": "completed"
    },
    "tags": []
   },
   "source": [
    "Testing F1 Score"
   ]
  },
  {
   "cell_type": "code",
   "execution_count": 48,
   "id": "065b2c06",
   "metadata": {
    "execution": {
     "iopub.execute_input": "2024-03-11T17:02:44.521183Z",
     "iopub.status.busy": "2024-03-11T17:02:44.520706Z",
     "iopub.status.idle": "2024-03-11T17:02:46.171970Z",
     "shell.execute_reply": "2024-03-11T17:02:46.170494Z"
    },
    "papermill": {
     "duration": 1.819765,
     "end_time": "2024-03-11T17:02:46.174897",
     "exception": false,
     "start_time": "2024-03-11T17:02:44.355132",
     "status": "completed"
    },
    "tags": []
   },
   "outputs": [
    {
     "name": "stdout",
     "output_type": "stream",
     "text": [
      "11/11 [==============================] - 1s 39ms/step\n",
      "Test F1 Score: 0.4976203476901322\n"
     ]
    }
   ],
   "source": [
    "Y_pred = loaded_model.predict(X_test)\n",
    "real = get_real(Y_test)\n",
    "pred = get_pred(Y_pred)\n",
    "\n",
    "true_labels_flat = [label for sublist in real for label in sublist]\n",
    "predicted_labels_flat = [label for sublist in pred for label in sublist]\n",
    "\n",
    "# Compute F1 score\n",
    "f1 = f1_score(true_labels_flat, predicted_labels_flat, average='macro')\n",
    "\n",
    "print(\"Test F1 Score:\", f1)"
   ]
  }
 ],
 "metadata": {
  "kaggle": {
   "accelerator": "none",
   "dataSources": [
    {
     "datasetId": 4563561,
     "sourceId": 7809954,
     "sourceType": "datasetVersion"
    },
    {
     "datasetId": 4574147,
     "sourceId": 7817231,
     "sourceType": "datasetVersion"
    }
   ],
   "dockerImageVersionId": 30664,
   "isGpuEnabled": false,
   "isInternetEnabled": true,
   "language": "python",
   "sourceType": "notebook"
  },
  "kernelspec": {
   "display_name": "Python 3",
   "language": "python",
   "name": "python3"
  },
  "language_info": {
   "codemirror_mode": {
    "name": "ipython",
    "version": 3
   },
   "file_extension": ".py",
   "mimetype": "text/x-python",
   "name": "python",
   "nbconvert_exporter": "python",
   "pygments_lexer": "ipython3",
   "version": "3.10.13"
  },
  "papermill": {
   "default_parameters": {},
   "duration": 554.3221,
   "end_time": "2024-03-11T17:02:48.964378",
   "environment_variables": {},
   "exception": null,
   "input_path": "__notebook__.ipynb",
   "output_path": "__notebook__.ipynb",
   "parameters": {},
   "start_time": "2024-03-11T16:53:34.642278",
   "version": "2.5.0"
  }
 },
 "nbformat": 4,
 "nbformat_minor": 5
}
