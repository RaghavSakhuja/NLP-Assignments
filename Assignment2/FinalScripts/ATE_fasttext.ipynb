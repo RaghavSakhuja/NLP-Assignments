{
 "cells": [
  {
   "cell_type": "code",
   "execution_count": 1,
   "id": "823ea6e5",
   "metadata": {
    "execution": {
     "iopub.execute_input": "2024-03-10T12:41:28.853372Z",
     "iopub.status.busy": "2024-03-10T12:41:28.852559Z",
     "iopub.status.idle": "2024-03-10T12:41:47.438156Z",
     "shell.execute_reply": "2024-03-10T12:41:47.437211Z"
    },
    "papermill": {
     "duration": 18.613648,
     "end_time": "2024-03-10T12:41:47.440947",
     "exception": false,
     "start_time": "2024-03-10T12:41:28.827299",
     "status": "completed"
    },
    "tags": []
   },
   "outputs": [
    {
     "name": "stdout",
     "output_type": "stream",
     "text": [
      "Collecting keras==2.15.0\r\n",
      "  Downloading keras-2.15.0-py3-none-any.whl.metadata (2.4 kB)\r\n",
      "Downloading keras-2.15.0-py3-none-any.whl (1.7 MB)\r\n",
      "\u001b[2K   \u001b[90m━━━━━━━━━━━━━━━━━━━━━━━━━━━━━━━━━━━━━━━━\u001b[0m \u001b[32m1.7/1.7 MB\u001b[0m \u001b[31m21.6 MB/s\u001b[0m eta \u001b[36m0:00:00\u001b[0m\r\n",
      "\u001b[?25hInstalling collected packages: keras\r\n",
      "  Attempting uninstall: keras\r\n",
      "    Found existing installation: keras 3.0.5\r\n",
      "    Uninstalling keras-3.0.5:\r\n",
      "      Successfully uninstalled keras-3.0.5\r\n",
      "\u001b[31mERROR: pip's dependency resolver does not currently take into account all the packages that are installed. This behaviour is the source of the following dependency conflicts.\r\n",
      "tensorflow-decision-forests 1.8.1 requires wurlitzer, which is not installed.\u001b[0m\u001b[31m\r\n",
      "\u001b[0mSuccessfully installed keras-2.15.0\r\n"
     ]
    }
   ],
   "source": [
    "!pip install keras==2.15.0"
   ]
  },
  {
   "cell_type": "markdown",
   "id": "41c9804f",
   "metadata": {
    "papermill": {
     "duration": 0.024866,
     "end_time": "2024-03-10T12:41:47.489736",
     "exception": false,
     "start_time": "2024-03-10T12:41:47.464870",
     "status": "completed"
    },
    "tags": []
   },
   "source": [
    "# Run"
   ]
  },
  {
   "cell_type": "code",
   "execution_count": 2,
   "id": "b4a72f32",
   "metadata": {
    "execution": {
     "iopub.execute_input": "2024-03-10T12:41:47.539599Z",
     "iopub.status.busy": "2024-03-10T12:41:47.539142Z",
     "iopub.status.idle": "2024-03-10T12:42:24.375217Z",
     "shell.execute_reply": "2024-03-10T12:42:24.373924Z"
    },
    "papermill": {
     "duration": 36.864528,
     "end_time": "2024-03-10T12:42:24.378040",
     "exception": false,
     "start_time": "2024-03-10T12:41:47.513512",
     "status": "completed"
    },
    "tags": []
   },
   "outputs": [
    {
     "name": "stderr",
     "output_type": "stream",
     "text": [
      "2024-03-10 12:41:49.488591: E external/local_xla/xla/stream_executor/cuda/cuda_dnn.cc:9261] Unable to register cuDNN factory: Attempting to register factory for plugin cuDNN when one has already been registered\n",
      "2024-03-10 12:41:49.488720: E external/local_xla/xla/stream_executor/cuda/cuda_fft.cc:607] Unable to register cuFFT factory: Attempting to register factory for plugin cuFFT when one has already been registered\n",
      "2024-03-10 12:41:49.638029: E external/local_xla/xla/stream_executor/cuda/cuda_blas.cc:1515] Unable to register cuBLAS factory: Attempting to register factory for plugin cuBLAS when one has already been registered\n"
     ]
    }
   ],
   "source": [
    "import pickle\n",
    "import numpy as np\n",
    "import tensorflow as tf\n",
    "import json\n",
    "import matplotlib.pyplot as plt\n",
    "\n",
    "import fasttext\n",
    "import fasttext.util\n",
    "from keras.models import Model\n",
    "from keras.layers import Dropout,Input\n",
    "# from tensorflow_addons.layers import CRF\n",
    "from keras.layers import Dense\n",
    "from keras.layers import Embedding\n",
    "from keras.models import Sequential\n",
    "from keras.callbacks import Callback\n",
    "from keras.preprocessing.text import *\n",
    "from keras.utils import to_categorical\n",
    "from gensim.models import KeyedVectors\n",
    "from keras.layers import GRU, SimpleRNN, LSTM, Bidirectional\n",
    "from keras.layers import TimeDistributed\n",
    "from keras.metrics import F1Score, Precision, Recall\n",
    "from keras.preprocessing.sequence import pad_sequences\n",
    "from sklearn.metrics import f1_score\n",
    "from tensorflow.keras.optimizers import AdamW\n",
    "# from tensorflow_addons.losses import SigmoidFocalCrossEntropy\n",
    "from sklearn.model_selection import GridSearchCV\n",
    "# from kerastuner.tuners import RandomSearch\n",
    "# from kerastuner.engine.hyperparameters import HyperParameters\n",
    "from tensorflow.keras.optimizers import AdamW, Adam, RMSprop, SGD"
   ]
  },
  {
   "cell_type": "code",
   "execution_count": 3,
   "id": "53d23b43",
   "metadata": {
    "execution": {
     "iopub.execute_input": "2024-03-10T12:42:24.428248Z",
     "iopub.status.busy": "2024-03-10T12:42:24.427532Z",
     "iopub.status.idle": "2024-03-10T12:42:24.451348Z",
     "shell.execute_reply": "2024-03-10T12:42:24.450448Z"
    },
    "papermill": {
     "duration": 0.051429,
     "end_time": "2024-03-10T12:42:24.453664",
     "exception": false,
     "start_time": "2024-03-10T12:42:24.402235",
     "status": "completed"
    },
    "tags": []
   },
   "outputs": [
    {
     "name": "stdout",
     "output_type": "stream",
     "text": [
      "/kaggle/input/nernlp3/WordEmbeddings/glove.840B.300d.pkl\n",
      "/kaggle/input/nernlp3/WordEmbeddings/Word2vec.bin\n",
      "/kaggle/input/nernlp3/WordEmbeddings/cc.en.300.bin\n",
      "/kaggle/input/nernlp3/Data/check.py\n",
      "/kaggle/input/nernlp3/Data/NER_TRAIN_JUDGEMENT.json\n",
      "/kaggle/input/nernlp3/Data/Laptop_Review_Val.json\n",
      "/kaggle/input/nernlp3/Data/bio.ipynb\n",
      "/kaggle/input/nernlp3/Data/Laptop_Review_Train.json\n",
      "/kaggle/input/nernlp3/Data/bio1.py\n",
      "/kaggle/input/nernlp3/Data/NER_TEST_JUDGEMENT.json\n",
      "/kaggle/input/nernlp3/Data/Laptop_Review_Test.json\n",
      "/kaggle/input/nernlp3/Data/processed/NER_test.json\n",
      "/kaggle/input/nernlp3/Data/processed/ATE_test.json\n",
      "/kaggle/input/nernlp3/Data/processed/NER_train.json\n",
      "/kaggle/input/nernlp3/Data/processed/ATE_train.json\n",
      "/kaggle/input/nernlp3/Data/processed/NER_val.json\n",
      "/kaggle/input/nernlp3/Data/processed/ATE_val.json\n"
     ]
    }
   ],
   "source": [
    "# This Python 3 environment comes with many helpful analytics libraries installed\n",
    "# It is defined by the kaggle/python Docker image: https://github.com/kaggle/docker-python\n",
    "# For example, here's several helpful packages to load\n",
    "\n",
    "# Input data files are available in the read-only \"../input/\" directory\n",
    "# For example, running this (by clicking run or pressing Shift+Enter) will list all files under the input directory\n",
    "\n",
    "import os\n",
    "for dirname, _, filenames in os.walk('/kaggle/input'):\n",
    "    for filename in filenames:\n",
    "        print(os.path.join(dirname, filename))\n",
    "\n",
    "Embedding_name=\"fasttext\"\n",
    "Dataset=\"ATE\"     \n",
    "PATH='/kaggle/input/nernlp3/'\n",
    "OUTPATH='/kaggle/working/'\n",
    "\n",
    "# You can write up to 20GB to the current directory (/kaggle/working/) that gets preserved as output when you create a version using \"Save & Run All\" \n",
    "# You can also write temporary files to /kaggle/temp/, but they won't be saved outside of the current session"
   ]
  },
  {
   "cell_type": "code",
   "execution_count": 4,
   "id": "e6e73df6",
   "metadata": {
    "execution": {
     "iopub.execute_input": "2024-03-10T12:42:24.503147Z",
     "iopub.status.busy": "2024-03-10T12:42:24.502757Z",
     "iopub.status.idle": "2024-03-10T12:42:28.914780Z",
     "shell.execute_reply": "2024-03-10T12:42:28.913280Z"
    },
    "papermill": {
     "duration": 4.439771,
     "end_time": "2024-03-10T12:42:28.917605",
     "exception": false,
     "start_time": "2024-03-10T12:42:24.477834",
     "status": "completed"
    },
    "tags": []
   },
   "outputs": [
    {
     "name": "stderr",
     "output_type": "stream",
     "text": [
      "/opt/conda/lib/python3.10/pty.py:89: RuntimeWarning: os.fork() was called. os.fork() is incompatible with multithreaded code, and JAX is multithreaded, so this will likely lead to a deadlock.\n",
      "  pid, fd = os.forkpty()\n"
     ]
    }
   ],
   "source": [
    "! mkdir Saved_Models\n",
    "! mkdir Saved_Models/ATE\n",
    "! mkdir Saved_Models/NER\n",
    "! mkdir Graphs"
   ]
  },
  {
   "cell_type": "code",
   "execution_count": 5,
   "id": "96eeeeb1",
   "metadata": {
    "execution": {
     "iopub.execute_input": "2024-03-10T12:42:28.969758Z",
     "iopub.status.busy": "2024-03-10T12:42:28.968978Z",
     "iopub.status.idle": "2024-03-10T12:42:29.017693Z",
     "shell.execute_reply": "2024-03-10T12:42:29.016855Z"
    },
    "papermill": {
     "duration": 0.077254,
     "end_time": "2024-03-10T12:42:29.020200",
     "exception": false,
     "start_time": "2024-03-10T12:42:28.942946",
     "status": "completed"
    },
    "tags": []
   },
   "outputs": [],
   "source": [
    "def checking(a):\n",
    "    print(\"Hello World\",a)\n",
    "\n",
    "def new_checking(a):\n",
    "    print(\"Hello World\",a)\n",
    "\n",
    "def create_train_test_val(file):\n",
    "    lst_out_text=[]\n",
    "    lst_out_labels=[]\n",
    "    for i in file.values():\n",
    "        sentence = i['text']\n",
    "        sentence = sentence.lower()\n",
    "        labels = i['labels']\n",
    "        lst_out_text.append(sentence)\n",
    "        lst_out_labels.append(labels)\n",
    "    return lst_out_text,lst_out_labels    \n",
    "\n",
    "def TokenCreator(sentences,val,tokenizer=None):\n",
    "    \n",
    "    temp_wordlist = None\n",
    "    tokenizer2=None\n",
    "    if(tokenizer == None):\n",
    "        if val==1:\n",
    "            tokenizer2 = Tokenizer(oov_token=\"#UK\",filters='')\n",
    "        else:\n",
    "            tokenizer2=Tokenizer()\n",
    "        tokenizer2.fit_on_texts(sentences)\n",
    "        \n",
    "        temp_wordlist = tokenizer2.texts_to_sequences(sentences)\n",
    "        return (temp_wordlist,tokenizer2)\n",
    "    \n",
    "    else:\n",
    "        temp_wordlist = tokenizer.texts_to_sequences(sentences)\n",
    "        return temp_wordlist\n",
    "    \n",
    "def find_vocab(dataset):\n",
    "    lst=[]\n",
    "    lst.append(\"#UK\")\n",
    "    for i in dataset:\n",
    "        for j in i:\n",
    "            lst.append(j)\n",
    "    st = set(lst)\n",
    "    return st\n",
    "\n",
    "'''\n",
    "--------------------------------------GRAPHS--------------------------------------\n",
    "'''\n",
    "\n",
    "def draw_loss_graph(model,model_name,f1_scores_train,f1_scores_val):\n",
    "    train_loss = model.history['loss']\n",
    "    val_loss = model.history['val_loss']\n",
    "    x = [i+1 for i in range(len(train_loss))]\n",
    "    train_y = train_loss\n",
    "    val_y = val_loss\n",
    "    \n",
    "    fig, axes = plt.subplots(1,2,figsize = (16,5))\n",
    "    # plt.subplots(axes = (2,1))\n",
    "    axes[0].plot(x,train_y, color = 'blue')  \n",
    "    \n",
    "    axes[0].plot(x,val_y, color = 'red') \n",
    "    axes[0].set_title('Loss over Epochs')\n",
    "    axes[0].set_xlabel('Epoch')\n",
    "    axes[0].set_ylabel('Loss')\n",
    "\n",
    "    axes[1].plot(x,f1_scores_train, color = 'blue')\n",
    "    axes[1].plot(x,f1_scores_val, color = 'red')\n",
    "    axes[1].set_title('F1 Score vs Epoch')\n",
    "    axes[1].set_xlabel('Epochs')\n",
    "    axes[1].set_ylabel('F1 Score')\n",
    "\n",
    "    axes[0].legend(['Train','Val'])\n",
    "    axes[1].legend(['Train','Val'])\n",
    "    \n",
    "    plt.suptitle(model_name)\n",
    "\n",
    "    \n",
    "    plt.show()\n",
    "    \n",
    "'''\n",
    "--------------------------------------MODELS--------------------------------------\n",
    "'''\n",
    "\n",
    "def save_model(model,model_name, embedding, dataset):\n",
    "    with open(f'{OUTPATH}Saved_Models/{dataset}/{model_name}_{embedding}.pkl', 'wb') as file:\n",
    "        pickle.dump(model, file)\n",
    "\n",
    "def load_model(model_name, embedding, dataset):\n",
    "    with open(f'{OUTPATH}Saved_Models/{dataset}/{model_name}_{embedding}.pkl', 'rb') as file:\n",
    "        loaded_model = pickle.load(file)\n",
    "    \n",
    "    return loaded_model\n",
    "\n",
    "'''\n",
    "--------------------------------------CALLBACKS--------------------------------------\n",
    "'''\n",
    "\n",
    "class F1ScoreCallback(Callback):\n",
    "\n",
    "    def __init__(self, val_data, data):\n",
    "        super(F1ScoreCallback, self).__init__()\n",
    "        self.val_data = val_data\n",
    "        self.data=data\n",
    "        self.val_f1_scores = [] \n",
    "        self.train_f1_scores = []\n",
    "\n",
    "    \n",
    "\n",
    "    def on_epoch_end(self, epoch, logs=None):\n",
    "        x_val, y_val = self.val_data\n",
    "        x_data, y_data = self.data\n",
    "        y_pred_val = self.model.predict(x_val)\n",
    "        y_pred_train = self.model.predict(x_data)\n",
    "\n",
    "        def scikitf1(pred,real):\n",
    "\n",
    "            true_labels_flat = [label for sublist in real for label in sublist]\n",
    "            predicted_labels_flat = [label for sublist in pred for label in sublist]\n",
    "            # Compute F1 score\n",
    "            f1 = f1_score(true_labels_flat, predicted_labels_flat, average='macro')\n",
    "            return f1\n",
    "        def get_pred(Y_padded_output):\n",
    "                # print(Y_padded_output.shape)\n",
    "                final_output=[]\n",
    "                for i in range(Y_padded_output.shape[0]):\n",
    "                    output=[]\n",
    "                    for j in range(Y_padded_output.shape[1]):\n",
    "                        max_value=-1\n",
    "                        maxIndex=-1\n",
    "                        for k in range(Y_padded_output.shape[2]):\n",
    "                            if Y_padded_output[i][j][k]>max_value:\n",
    "                                maxIndex=k\n",
    "                                max_value=max(max_value,Y_padded_output[i][j][k])\n",
    "                        output.append(maxIndex)\n",
    "                    final_output.append(output)\n",
    "                return final_output\n",
    "\n",
    "        def get_real(Y_padded_test):\n",
    "            # print(Y_padded_test.shape)\n",
    "            final_Y=[]\n",
    "            for i in range(Y_padded_test.shape[0]):\n",
    "                output=[]\n",
    "                for j in range(Y_padded_test.shape[1]):\n",
    "                    max_value=-1\n",
    "                    maxIndex=-1\n",
    "                    for k in range(Y_padded_test.shape[2]):\n",
    "                        if Y_padded_test[i][j][k]>max_value:\n",
    "                            maxIndex=k\n",
    "                            max_value=max(max_value,Y_padded_test[i][j][k])\n",
    "                    output.append(maxIndex)\n",
    "                final_Y.append(output)\n",
    "            return final_Y\n",
    "        \n",
    "        # print(\"here\")\n",
    "        pred_train=get_pred(y_pred_train)\n",
    "        # print(pred_train)\n",
    "        real_train=get_real(y_data)\n",
    "        # print(real_train)\n",
    "\n",
    "        pred_val=get_pred(y_pred_val)\n",
    "        real_val=get_real(y_val)\n",
    "\n",
    "        f1_train = scikitf1(pred_train,real_train)\n",
    "        f1_val = scikitf1(pred_val,real_val)\n",
    "\n",
    "        self.val_f1_scores.append(f1_val)\n",
    "        self.train_f1_scores.append(f1_train)\n",
    "        print(f'Val F1 Score: {f1_val} - Train F1 Score: {f1_train}')\n",
    "\n",
    "\n",
    "\n",
    "#---------Prediction Functions----------------------------------------------\n",
    "def get_pred(Y_padded_output):\n",
    "    final_output=[]\n",
    "    for i in range(Y_padded_output.shape[0]):\n",
    "        output=[]\n",
    "        for j in range(Y_padded_output.shape[1]):\n",
    "            max_value=-1\n",
    "            maxIndex=-1\n",
    "            for k in range(Y_padded_output.shape[2]):\n",
    "                if Y_padded_output[i][j][k]>max_value:\n",
    "                    maxIndex=k\n",
    "                    max_value=max(max_value,Y_padded_output[i][j][k])\n",
    "            output.append(maxIndex)\n",
    "        final_output.append(output)\n",
    "    return final_output\n",
    "\n",
    "def get_real(Y_padded_test):\n",
    "    final_Y=[]\n",
    "    for i in range(Y_padded_test.shape[0]):\n",
    "        output=[]\n",
    "        for j in range(Y_padded_test.shape[1]):\n",
    "            max_value=-1\n",
    "            maxIndex=-1\n",
    "            for k in range(Y_padded_test.shape[2]):\n",
    "                if Y_padded_test[i][j][k]>max_value:\n",
    "                    maxIndex=k\n",
    "                    max_value=max(max_value,Y_padded_test[i][j][k])\n",
    "            output.append(maxIndex)\n",
    "        final_Y.append(output)\n",
    "    return final_Y\n",
    "\n",
    "def my_f1(y_true, y_pred):\n",
    "    \n",
    "    # predictions = get_pred(y_pred)\n",
    "    # real = get_real(y_true)\n",
    "\n",
    "    predictions = y_pred\n",
    "    real = y_true\n",
    "\n",
    "    size=len(predictions)\n",
    "\n",
    "    unique_labels= set()\n",
    "\n",
    "    for labels in real:\n",
    "        unique_labels.update(labels)\n",
    "\n",
    "    for labels in predictions:\n",
    "        unique_labels.update(labels)\n",
    "\n",
    "    labels_f1=[]\n",
    "\n",
    "    for labels in unique_labels:\n",
    "        tp=0\n",
    "        fp=0\n",
    "        fn=0\n",
    "\n",
    "        for i in range(size):\n",
    "            l=[]\n",
    "                    \n",
    "            tp+=sum((p==labels and r==labels) for p,r in zip(predictions[i],real[i]))\n",
    "            fp+=sum((p==labels and r!=labels) for p,r in zip(predictions[i],real[i]))\n",
    "            fn+=sum((p!=labels and r==labels) for p,r in zip(predictions[i],real[i]))\n",
    "\n",
    "        \n",
    "        precision = tp/(tp+fp) if tp+fp>0 else 0\n",
    "        recall = tp/(tp+fn) if tp+fn>0 else 0\n",
    "\n",
    "        f1=2*((precision*recall)/(precision+recall)) if precision+recall>0 else 0\n",
    "\n",
    "        labels_f1.append(f1)\n",
    "        print(f1,unique_labels)\n",
    "    macro_f1 = sum(labels_f1)/len(unique_labels)\n",
    "    return macro_f1\n",
    "\n",
    "def scikitf1(pred,real):\n",
    "\n",
    "    true_labels_flat = [label for sublist in real for label in sublist]\n",
    "    predicted_labels_flat = [label for sublist in pred for label in sublist]\n",
    "    # Compute F1 score\n",
    "    f1 = f1_score(true_labels_flat, predicted_labels_flat, average='macro')\n",
    "    return f1"
   ]
  },
  {
   "cell_type": "code",
   "execution_count": null,
   "id": "2a8ff874",
   "metadata": {
    "papermill": {
     "duration": 0.023604,
     "end_time": "2024-03-10T12:42:29.068193",
     "exception": false,
     "start_time": "2024-03-10T12:42:29.044589",
     "status": "completed"
    },
    "tags": []
   },
   "outputs": [],
   "source": []
  },
  {
   "cell_type": "code",
   "execution_count": null,
   "id": "e637712e",
   "metadata": {
    "execution": {
     "iopub.execute_input": "2024-03-10T11:35:48.164770Z",
     "iopub.status.busy": "2024-03-10T11:35:48.163348Z",
     "iopub.status.idle": "2024-03-10T11:35:48.175610Z",
     "shell.execute_reply": "2024-03-10T11:35:48.174822Z",
     "shell.execute_reply.started": "2024-03-10T11:35:48.164729Z"
    },
    "papermill": {
     "duration": 0.024339,
     "end_time": "2024-03-10T12:42:29.117022",
     "exception": false,
     "start_time": "2024-03-10T12:42:29.092683",
     "status": "completed"
    },
    "tags": []
   },
   "outputs": [],
   "source": []
  },
  {
   "cell_type": "code",
   "execution_count": 6,
   "id": "30d2fd75",
   "metadata": {
    "execution": {
     "iopub.execute_input": "2024-03-10T12:42:29.166697Z",
     "iopub.status.busy": "2024-03-10T12:42:29.166250Z",
     "iopub.status.idle": "2024-03-10T12:42:29.171748Z",
     "shell.execute_reply": "2024-03-10T12:42:29.170688Z"
    },
    "papermill": {
     "duration": 0.033011,
     "end_time": "2024-03-10T12:42:29.173985",
     "exception": false,
     "start_time": "2024-03-10T12:42:29.140974",
     "status": "completed"
    },
    "tags": []
   },
   "outputs": [],
   "source": [
    "seed_value = 18\n",
    "np.random.seed(seed_value)\n",
    "tf.random.set_seed(seed_value)"
   ]
  },
  {
   "cell_type": "code",
   "execution_count": 7,
   "id": "92253878",
   "metadata": {
    "execution": {
     "iopub.execute_input": "2024-03-10T12:42:29.224331Z",
     "iopub.status.busy": "2024-03-10T12:42:29.223938Z",
     "iopub.status.idle": "2024-03-10T12:43:37.259529Z",
     "shell.execute_reply": "2024-03-10T12:43:37.255122Z"
    },
    "papermill": {
     "duration": 68.146275,
     "end_time": "2024-03-10T12:43:37.344931",
     "exception": false,
     "start_time": "2024-03-10T12:42:29.198656",
     "status": "completed"
    },
    "tags": []
   },
   "outputs": [
    {
     "name": "stderr",
     "output_type": "stream",
     "text": [
      "Warning : `load_model` does not return WordVectorModel or SupervisedModel any more, but a `FastText` object which is very similar.\n"
     ]
    }
   ],
   "source": [
    "if Embedding_name==\"word2vec\":\n",
    "    emb = KeyedVectors.load_word2vec_format(f'{PATH}WordEmbeddings/Word2vec.bin',binary=True)\n",
    "\n",
    "if Embedding_name==\"glove\":\n",
    "    with open(f'{PATH}WordEmbeddings/glove.840B.300d.pkl', 'rb') as fp:\n",
    "        emb = pickle.load(fp)\n",
    "if Embedding_name==\"fasttext\":\n",
    "    emb = fasttext.load_model(f'{PATH}WordEmbeddings/cc.en.300.bin')"
   ]
  },
  {
   "cell_type": "markdown",
   "id": "f3b2238e",
   "metadata": {
    "papermill": {
     "duration": 0.026201,
     "end_time": "2024-03-10T12:43:37.442136",
     "exception": false,
     "start_time": "2024-03-10T12:43:37.415935",
     "status": "completed"
    },
    "tags": []
   },
   "source": [
    "# Data Extraction and Preprocessing"
   ]
  },
  {
   "cell_type": "markdown",
   "id": "48ca60cc",
   "metadata": {
    "papermill": {
     "duration": 0.026936,
     "end_time": "2024-03-10T12:43:37.495807",
     "exception": false,
     "start_time": "2024-03-10T12:43:37.468871",
     "status": "completed"
    },
    "tags": []
   },
   "source": [
    "Reading ATE json files"
   ]
  },
  {
   "cell_type": "code",
   "execution_count": 8,
   "id": "a2979217",
   "metadata": {
    "execution": {
     "iopub.execute_input": "2024-03-10T12:43:37.553441Z",
     "iopub.status.busy": "2024-03-10T12:43:37.553036Z",
     "iopub.status.idle": "2024-03-10T12:43:37.603510Z",
     "shell.execute_reply": "2024-03-10T12:43:37.602434Z"
    },
    "papermill": {
     "duration": 0.083917,
     "end_time": "2024-03-10T12:43:37.606949",
     "exception": false,
     "start_time": "2024-03-10T12:43:37.523032",
     "status": "completed"
    },
    "tags": []
   },
   "outputs": [],
   "source": [
    "\n",
    "train = None\n",
    "test = None\n",
    "val = None\n",
    "with open(f\"{PATH}Data/processed/{Dataset}_train.json\") as f1:\n",
    "    train = json.load(f1)\n",
    "\n",
    "with open(f\"{PATH}Data/processed/{Dataset}_test.json\") as f2:\n",
    "    test = json.load(f2)\n",
    "\n",
    "with open(f\"{PATH}Data/processed/{Dataset}_val.json\") as f3:\n",
    "    val = json.load(f3)\n",
    "\n"
   ]
  },
  {
   "cell_type": "markdown",
   "id": "a8637c72",
   "metadata": {
    "papermill": {
     "duration": 0.023912,
     "end_time": "2024-03-10T12:43:37.655543",
     "exception": false,
     "start_time": "2024-03-10T12:43:37.631631",
     "status": "completed"
    },
    "tags": []
   },
   "source": [
    "processing into lists"
   ]
  },
  {
   "cell_type": "code",
   "execution_count": 9,
   "id": "b7a43116",
   "metadata": {
    "execution": {
     "iopub.execute_input": "2024-03-10T12:43:37.706794Z",
     "iopub.status.busy": "2024-03-10T12:43:37.705735Z",
     "iopub.status.idle": "2024-03-10T12:43:37.713623Z",
     "shell.execute_reply": "2024-03-10T12:43:37.712554Z"
    },
    "papermill": {
     "duration": 0.036926,
     "end_time": "2024-03-10T12:43:37.716577",
     "exception": false,
     "start_time": "2024-03-10T12:43:37.679651",
     "status": "completed"
    },
    "tags": []
   },
   "outputs": [],
   "source": [
    "X_train,Y_train = create_train_test_val(train)\n",
    "X_test,Y_test = create_train_test_val(test)\n",
    "X_val,Y_val = create_train_test_val(val)"
   ]
  },
  {
   "cell_type": "markdown",
   "id": "78b9de85",
   "metadata": {
    "papermill": {
     "duration": 0.023926,
     "end_time": "2024-03-10T12:43:37.764795",
     "exception": false,
     "start_time": "2024-03-10T12:43:37.740869",
     "status": "completed"
    },
    "tags": []
   },
   "source": [
    "Tokenizing the ATE Dataset"
   ]
  },
  {
   "cell_type": "code",
   "execution_count": 10,
   "id": "347e2011",
   "metadata": {
    "execution": {
     "iopub.execute_input": "2024-03-10T12:43:37.815510Z",
     "iopub.status.busy": "2024-03-10T12:43:37.815096Z",
     "iopub.status.idle": "2024-03-10T12:43:37.910431Z",
     "shell.execute_reply": "2024-03-10T12:43:37.909135Z"
    },
    "papermill": {
     "duration": 0.124617,
     "end_time": "2024-03-10T12:43:37.913567",
     "exception": false,
     "start_time": "2024-03-10T12:43:37.788950",
     "status": "completed"
    },
    "tags": []
   },
   "outputs": [],
   "source": [
    "X_train_tokenized, toke = TokenCreator(X_train,1)\n",
    "X_test_tokenized = TokenCreator(X_test,0,tokenizer = toke)\n",
    "X_val_tokenized = TokenCreator(X_val,0,tokenizer = toke)\n",
    "\n",
    "Y_train_tokenized,toke2 = TokenCreator(Y_train,0)\n",
    "Y_test_tokenized = TokenCreator(Y_test,0,tokenizer = toke2)\n",
    "Y_val_tokenized = TokenCreator(Y_val,0,tokenizer = toke2)"
   ]
  },
  {
   "cell_type": "markdown",
   "id": "c5b9a7b4",
   "metadata": {
    "papermill": {
     "duration": 0.088639,
     "end_time": "2024-03-10T12:43:38.027463",
     "exception": false,
     "start_time": "2024-03-10T12:43:37.938824",
     "status": "completed"
    },
    "tags": []
   },
   "source": [
    "Vocabulary of ATE"
   ]
  },
  {
   "cell_type": "code",
   "execution_count": 11,
   "id": "38adc7c8",
   "metadata": {
    "execution": {
     "iopub.execute_input": "2024-03-10T12:43:38.079393Z",
     "iopub.status.busy": "2024-03-10T12:43:38.078916Z",
     "iopub.status.idle": "2024-03-10T12:43:38.093865Z",
     "shell.execute_reply": "2024-03-10T12:43:38.092747Z"
    },
    "papermill": {
     "duration": 0.043148,
     "end_time": "2024-03-10T12:43:38.096102",
     "exception": false,
     "start_time": "2024-03-10T12:43:38.052954",
     "status": "completed"
    },
    "tags": []
   },
   "outputs": [
    {
     "data": {
      "text/plain": [
       "2406"
      ]
     },
     "execution_count": 11,
     "metadata": {},
     "output_type": "execute_result"
    }
   ],
   "source": [
    "st1 = find_vocab(X_train_tokenized)\n",
    "vocab_size  = len(st1) + 1 \n",
    "vocab_size"
   ]
  },
  {
   "cell_type": "code",
   "execution_count": 12,
   "id": "fda0fc1a",
   "metadata": {
    "execution": {
     "iopub.execute_input": "2024-03-10T12:43:38.157850Z",
     "iopub.status.busy": "2024-03-10T12:43:38.157409Z",
     "iopub.status.idle": "2024-03-10T12:43:38.165526Z",
     "shell.execute_reply": "2024-03-10T12:43:38.164406Z"
    },
    "papermill": {
     "duration": 0.042456,
     "end_time": "2024-03-10T12:43:38.168051",
     "exception": false,
     "start_time": "2024-03-10T12:43:38.125595",
     "status": "completed"
    },
    "tags": []
   },
   "outputs": [
    {
     "data": {
      "text/plain": [
       "78"
      ]
     },
     "execution_count": 12,
     "metadata": {},
     "output_type": "execute_result"
    }
   ],
   "source": [
    "max_len=0\n",
    "\n",
    "for i in X_train_tokenized:\n",
    "    max_len = max(max_len,len(i))\n",
    "\n",
    "max_len"
   ]
  },
  {
   "cell_type": "markdown",
   "id": "12e88aff",
   "metadata": {
    "papermill": {
     "duration": 0.030723,
     "end_time": "2024-03-10T12:43:38.229772",
     "exception": false,
     "start_time": "2024-03-10T12:43:38.199049",
     "status": "completed"
    },
    "tags": []
   },
   "source": [
    "Padding ATE"
   ]
  },
  {
   "cell_type": "code",
   "execution_count": 13,
   "id": "6dd24aa3",
   "metadata": {
    "execution": {
     "iopub.execute_input": "2024-03-10T12:43:38.284267Z",
     "iopub.status.busy": "2024-03-10T12:43:38.283854Z",
     "iopub.status.idle": "2024-03-10T12:43:38.325349Z",
     "shell.execute_reply": "2024-03-10T12:43:38.324149Z"
    },
    "papermill": {
     "duration": 0.071509,
     "end_time": "2024-03-10T12:43:38.328116",
     "exception": false,
     "start_time": "2024-03-10T12:43:38.256607",
     "status": "completed"
    },
    "tags": []
   },
   "outputs": [],
   "source": [
    "X_padded_train = pad_sequences(X_train_tokenized, maxlen=max_len, padding=\"pre\", truncating=\"post\")\n",
    "Y_padded_train = pad_sequences(Y_train_tokenized, maxlen=max_len, padding=\"pre\", truncating=\"post\")\n",
    "\n",
    "X_padded_test = pad_sequences(X_test_tokenized, maxlen=max_len, padding=\"pre\", truncating=\"post\")\n",
    "Y_padded_test = pad_sequences(Y_test_tokenized, maxlen=max_len, padding=\"pre\", truncating=\"post\")\n",
    "\n",
    "X_padded_val = pad_sequences(X_val_tokenized, maxlen=max_len, padding=\"pre\", truncating=\"post\")\n",
    "Y_padded_val = pad_sequences(Y_val_tokenized, maxlen=max_len, padding=\"pre\", truncating=\"post\")       "
   ]
  },
  {
   "cell_type": "markdown",
   "id": "a1a5b439",
   "metadata": {
    "papermill": {
     "duration": 0.024779,
     "end_time": "2024-03-10T12:43:38.377793",
     "exception": false,
     "start_time": "2024-03-10T12:43:38.353014",
     "status": "completed"
    },
    "tags": []
   },
   "source": [
    "One hot encoding the ATE labels"
   ]
  },
  {
   "cell_type": "code",
   "execution_count": 14,
   "id": "c66155cd",
   "metadata": {
    "execution": {
     "iopub.execute_input": "2024-03-10T12:43:38.429164Z",
     "iopub.status.busy": "2024-03-10T12:43:38.428746Z",
     "iopub.status.idle": "2024-03-10T12:43:38.446133Z",
     "shell.execute_reply": "2024-03-10T12:43:38.444948Z"
    },
    "papermill": {
     "duration": 0.046204,
     "end_time": "2024-03-10T12:43:38.448867",
     "exception": false,
     "start_time": "2024-03-10T12:43:38.402663",
     "status": "completed"
    },
    "tags": []
   },
   "outputs": [],
   "source": [
    "Y_padded_train = to_categorical(Y_padded_train)\n",
    "Y_padded_test = to_categorical(Y_padded_test)\n",
    "Y_padded_val = to_categorical(Y_padded_val)"
   ]
  },
  {
   "cell_type": "markdown",
   "id": "5eb0063d",
   "metadata": {
    "papermill": {
     "duration": 0.024709,
     "end_time": "2024-03-10T12:43:38.498707",
     "exception": false,
     "start_time": "2024-03-10T12:43:38.473998",
     "status": "completed"
    },
    "tags": []
   },
   "source": [
    "Assigning **ATE Word2Vec** mapping"
   ]
  },
  {
   "cell_type": "code",
   "execution_count": 15,
   "id": "edabb2d8",
   "metadata": {
    "execution": {
     "iopub.execute_input": "2024-03-10T12:43:38.550189Z",
     "iopub.status.busy": "2024-03-10T12:43:38.549463Z",
     "iopub.status.idle": "2024-03-10T12:43:38.604404Z",
     "shell.execute_reply": "2024-03-10T12:43:38.603206Z"
    },
    "papermill": {
     "duration": 0.083709,
     "end_time": "2024-03-10T12:43:38.607027",
     "exception": false,
     "start_time": "2024-03-10T12:43:38.523318",
     "status": "completed"
    },
    "tags": []
   },
   "outputs": [
    {
     "data": {
      "text/plain": [
       "{'#UK': 1,\n",
       " 'the': 2,\n",
       " '.': 3,\n",
       " ',': 4,\n",
       " 'and': 5,\n",
       " 'it': 6,\n",
       " 'to': 7,\n",
       " 'i': 8,\n",
       " 'is': 9,\n",
       " 'a': 10,\n",
       " 'of': 11,\n",
       " 'for': 12,\n",
       " 'with': 13,\n",
       " 'that': 14,\n",
       " 'my': 15,\n",
       " 'you': 16,\n",
       " 'this': 17,\n",
       " 'was': 18,\n",
       " 'in': 19,\n",
       " 'not': 20,\n",
       " 'on': 21,\n",
       " 'very': 22,\n",
       " 'but': 23,\n",
       " 'computer': 24,\n",
       " 'use': 25,\n",
       " 'have': 26,\n",
       " 'great': 27,\n",
       " 'they': 28,\n",
       " 'laptop': 29,\n",
       " \"n't\": 30,\n",
       " 'so': 31,\n",
       " 'has': 32,\n",
       " 'are': 33,\n",
       " 'battery': 34,\n",
       " 'had': 35,\n",
       " 'screen': 36,\n",
       " ')': 37,\n",
       " 'be': 38,\n",
       " 'as': 39,\n",
       " 'all': 40,\n",
       " '!': 41,\n",
       " '(': 42,\n",
       " \"'s\": 43,\n",
       " 'also': 44,\n",
       " 'me': 45,\n",
       " 'just': 46,\n",
       " 'easy': 47,\n",
       " 'when': 48,\n",
       " 'at': 49,\n",
       " 'or': 50,\n",
       " 'only': 51,\n",
       " 'which': 52,\n",
       " 'up': 53,\n",
       " 'life': 54,\n",
       " 'can': 55,\n",
       " 'windows': 56,\n",
       " 'than': 57,\n",
       " 'out': 58,\n",
       " 'if': 59,\n",
       " 'do': 60,\n",
       " 'after': 61,\n",
       " 'more': 62,\n",
       " 'keyboard': 63,\n",
       " 'would': 64,\n",
       " 'drive': 65,\n",
       " 'hard': 66,\n",
       " 'price': 67,\n",
       " 'from': 68,\n",
       " 'well': 69,\n",
       " 'because': 70,\n",
       " 'good': 71,\n",
       " 'one': 72,\n",
       " 'an': 73,\n",
       " 'like': 74,\n",
       " 'mac': 75,\n",
       " 'about': 76,\n",
       " 'quality': 77,\n",
       " 'its': 78,\n",
       " 'love': 79,\n",
       " 'get': 80,\n",
       " 'no': 81,\n",
       " 'software': 82,\n",
       " 'time': 83,\n",
       " 'even': 84,\n",
       " 'macbook': 85,\n",
       " 'will': 86,\n",
       " 'system': 87,\n",
       " 'apple': 88,\n",
       " 'other': 89,\n",
       " 'there': 90,\n",
       " 'does': 91,\n",
       " 'thing': 92,\n",
       " 'problem': 93,\n",
       " 'new': 94,\n",
       " 'much': 95,\n",
       " 'features': 96,\n",
       " 'any': 97,\n",
       " 'then': 98,\n",
       " 'programs': 99,\n",
       " 'power': 100,\n",
       " 'now': 101,\n",
       " 'service': 102,\n",
       " 'work': 103,\n",
       " 'buy': 104,\n",
       " 'works': 105,\n",
       " 'problems': 106,\n",
       " 'fast': 107,\n",
       " 'did': 108,\n",
       " 'toshiba': 109,\n",
       " '7': 110,\n",
       " 'could': 111,\n",
       " 'size': 112,\n",
       " 'what': 113,\n",
       " 'am': 114,\n",
       " 'too': 115,\n",
       " 'working': 116,\n",
       " 'back': 117,\n",
       " 'your': 118,\n",
       " ':': 119,\n",
       " 'speed': 120,\n",
       " 'machine': 121,\n",
       " 'best': 122,\n",
       " 'pro': 123,\n",
       " 'we': 124,\n",
       " 'were': 125,\n",
       " 'again': 126,\n",
       " 'pc': 127,\n",
       " 'performance': 128,\n",
       " 'little': 129,\n",
       " 'product': 130,\n",
       " 'many': 131,\n",
       " '-': 132,\n",
       " 'really': 133,\n",
       " 'by': 134,\n",
       " 'need': 135,\n",
       " 'first': 136,\n",
       " 'having': 137,\n",
       " \"''\": 138,\n",
       " 'some': 139,\n",
       " 'still': 140,\n",
       " 'months': 141,\n",
       " 'memory': 142,\n",
       " 'long': 143,\n",
       " 'been': 144,\n",
       " 'their': 145,\n",
       " 'bought': 146,\n",
       " 'better': 147,\n",
       " 'everything': 148,\n",
       " 'used': 149,\n",
       " 'warranty': 150,\n",
       " 'since': 151,\n",
       " 'worth': 152,\n",
       " 'graphics': 153,\n",
       " 'how': 154,\n",
       " 'design': 155,\n",
       " 'applications': 156,\n",
       " 'mouse': 157,\n",
       " 'comes': 158,\n",
       " 'run': 159,\n",
       " 'who': 160,\n",
       " 'every': 161,\n",
       " 'nice': 162,\n",
       " 'internet': 163,\n",
       " 'laptops': 164,\n",
       " 'never': 165,\n",
       " 'replaced': 166,\n",
       " '3': 167,\n",
       " 'support': 168,\n",
       " 'games': 169,\n",
       " 'bad': 170,\n",
       " 'same': 171,\n",
       " 'right': 172,\n",
       " '``': 173,\n",
       " 'runs': 174,\n",
       " 'looking': 175,\n",
       " 'enough': 176,\n",
       " 'using': 177,\n",
       " 'way': 178,\n",
       " 'running': 179,\n",
       " 'able': 180,\n",
       " 'program': 181,\n",
       " 'always': 182,\n",
       " 'lot': 183,\n",
       " 'dell': 184,\n",
       " 'another': 185,\n",
       " \"'ve\": 186,\n",
       " 'pad': 187,\n",
       " 'netbook': 188,\n",
       " 'got': 189,\n",
       " 'operating': 190,\n",
       " 'hp': 191,\n",
       " 'money': 192,\n",
       " 'most': 193,\n",
       " 'went': 194,\n",
       " 'such': 195,\n",
       " '$': 196,\n",
       " 'card': 197,\n",
       " 'them': 198,\n",
       " 'come': 199,\n",
       " 'large': 200,\n",
       " 'make': 201,\n",
       " 'gaming': 202,\n",
       " 'take': 203,\n",
       " 'hours': 204,\n",
       " 'look': 205,\n",
       " 'web': 206,\n",
       " 'over': 207,\n",
       " 'less': 208,\n",
       " 'ca': 209,\n",
       " 'around': 210,\n",
       " 'though': 211,\n",
       " 'excellent': 212,\n",
       " 'display': 213,\n",
       " 'made': 214,\n",
       " '?': 215,\n",
       " 'awesome': 216,\n",
       " 'while': 217,\n",
       " 'issue': 218,\n",
       " \"'m\": 219,\n",
       " 'makes': 220,\n",
       " 'next': 221,\n",
       " 'keep': 222,\n",
       " 'slow': 223,\n",
       " 'amazing': 224,\n",
       " 'month': 225,\n",
       " 'ever': 226,\n",
       " 'purchase': 227,\n",
       " 'perfect': 228,\n",
       " 'vista': 229,\n",
       " 'customer': 230,\n",
       " 'want': 231,\n",
       " 'carry': 232,\n",
       " 'feel': 233,\n",
       " 'bit': 234,\n",
       " 'small': 235,\n",
       " 'os': 236,\n",
       " 'easily': 237,\n",
       " 'should': 238,\n",
       " 'video': 239,\n",
       " 'overall': 240,\n",
       " 'two': 241,\n",
       " 'cheap': 242,\n",
       " 'off': 243,\n",
       " 'light': 244,\n",
       " 'find': 245,\n",
       " 'open': 246,\n",
       " 'called': 247,\n",
       " 'fix': 248,\n",
       " 'stopped': 249,\n",
       " 'go': 250,\n",
       " 'things': 251,\n",
       " '5': 252,\n",
       " 'key': 253,\n",
       " 'pay': 254,\n",
       " ';': 255,\n",
       " 'desktop': 256,\n",
       " 'cost': 257,\n",
       " 'fixed': 258,\n",
       " 'processor': 259,\n",
       " 'wonderful': 260,\n",
       " 'once': 261,\n",
       " 'sound': 262,\n",
       " 'pretty': 263,\n",
       " 'space': 264,\n",
       " '2': 265,\n",
       " 'down': 266,\n",
       " 'high': 267,\n",
       " 'day': 268,\n",
       " 'external': 269,\n",
       " 'fan': 270,\n",
       " 'started': 271,\n",
       " 'quickly': 272,\n",
       " 'ease': 273,\n",
       " '--': 274,\n",
       " 'word': 275,\n",
       " 'office': 276,\n",
       " 'without': 277,\n",
       " 'old': 278,\n",
       " 'computers': 279,\n",
       " 'came': 280,\n",
       " 'due': 281,\n",
       " 'lightweight': 282,\n",
       " 'cd': 283,\n",
       " 'see': 284,\n",
       " 'short': 285,\n",
       " 'say': 286,\n",
       " 'week': 287,\n",
       " 'repair': 288,\n",
       " 'ram': 289,\n",
       " 'charge': 290,\n",
       " 'boot': 291,\n",
       " 'completely': 292,\n",
       " 'warrenty': 293,\n",
       " 'took': 294,\n",
       " 'shipping': 295,\n",
       " 'microsoft': 296,\n",
       " 'doing': 297,\n",
       " 'set': 298,\n",
       " 'free': 299,\n",
       " 'virus': 300,\n",
       " 'keys': 301,\n",
       " 'supply': 302,\n",
       " 'feature': 303,\n",
       " 'send': 304,\n",
       " 'through': 305,\n",
       " 'know': 306,\n",
       " 'notebook': 307,\n",
       " 'being': 308,\n",
       " 'recommend': 309,\n",
       " 'trackpad': 310,\n",
       " 'compared': 311,\n",
       " 'think': 312,\n",
       " 'full': 313,\n",
       " 'anyone': 314,\n",
       " 'dvd': 315,\n",
       " 'faster': 316,\n",
       " 'change': 317,\n",
       " 'plus': 318,\n",
       " 'last': 319,\n",
       " 'something': 320,\n",
       " 'home': 321,\n",
       " 'company': 322,\n",
       " 'where': 323,\n",
       " 'before': 324,\n",
       " 'value': 325,\n",
       " 'built': 326,\n",
       " 'may': 327,\n",
       " 'however': 328,\n",
       " \"'re\": 329,\n",
       " 'usb': 330,\n",
       " 'brand': 331,\n",
       " 'past': 332,\n",
       " 'motherboard': 333,\n",
       " 'charger': 334,\n",
       " 'hardware': 335,\n",
       " 'simple': 336,\n",
       " 'within': 337,\n",
       " 'touch': 338,\n",
       " 'yet': 339,\n",
       " 'acer': 340,\n",
       " 'yes': 341,\n",
       " 'few': 342,\n",
       " 'webcam': 343,\n",
       " 'play': 344,\n",
       " \"'d\": 345,\n",
       " 'issues': 346,\n",
       " 'clear': 347,\n",
       " 'year': 348,\n",
       " 'thought': 349,\n",
       " 'far': 350,\n",
       " 'user': 351,\n",
       " 'itself': 352,\n",
       " '1': 353,\n",
       " 'although': 354,\n",
       " 'these': 355,\n",
       " 'easier': 356,\n",
       " 'extra': 357,\n",
       " 'port': 358,\n",
       " 'getting': 359,\n",
       " 'etc': 360,\n",
       " 'must': 361,\n",
       " 'speakers': 362,\n",
       " 'looks': 363,\n",
       " 'iphoto': 364,\n",
       " 'worked': 365,\n",
       " 'found': 366,\n",
       " 'big': 367,\n",
       " 'learn': 368,\n",
       " 'seems': 369,\n",
       " 'center': 370,\n",
       " 'lots': 371,\n",
       " 'frustrating': 372,\n",
       " 'help': 373,\n",
       " 'fact': 374,\n",
       " 'upgraded': 375,\n",
       " 'pcs': 376,\n",
       " 'connect': 377,\n",
       " 'board': 378,\n",
       " 'making': 379,\n",
       " 'products': 380,\n",
       " 'needs': 381,\n",
       " 'cool': 382,\n",
       " 'until': 383,\n",
       " 'course': 384,\n",
       " 'resolution': 385,\n",
       " 'itunes': 386,\n",
       " '13': 387,\n",
       " 'longer': 388,\n",
       " 'type': 389,\n",
       " 'store': 390,\n",
       " 'sent': 391,\n",
       " 'quick': 392,\n",
       " 'second': 393,\n",
       " 'processing': 394,\n",
       " 'poor': 395,\n",
       " 'expected': 396,\n",
       " 'years': 397,\n",
       " 'simply': 398,\n",
       " 'starter': 399,\n",
       " 'buttons': 400,\n",
       " 'build': 401,\n",
       " 'call': 402,\n",
       " 'others': 403,\n",
       " 'wireless': 404,\n",
       " 'plenty': 405,\n",
       " 'he': 406,\n",
       " 'actually': 407,\n",
       " 'failed': 408,\n",
       " 'someone': 409,\n",
       " 'cord': 410,\n",
       " 'extremely': 411,\n",
       " 'absolutely': 412,\n",
       " 'start': 413,\n",
       " 'dark': 414,\n",
       " 'multi-touch': 415,\n",
       " 'installed': 416,\n",
       " 'crashed': 417,\n",
       " 'added': 418,\n",
       " 'hd': 419,\n",
       " 'monitor': 420,\n",
       " 'several': 421,\n",
       " 'loud': 422,\n",
       " 'times': 423,\n",
       " '4': 424,\n",
       " 'wanted': 425,\n",
       " 'constantly': 426,\n",
       " 'systems': 427,\n",
       " 'touchpad': 428,\n",
       " 'editing': 429,\n",
       " 'phone': 430,\n",
       " 'hour': 431,\n",
       " 'browsing': 432,\n",
       " 'playing': 433,\n",
       " 'replace': 434,\n",
       " 'believe': 435,\n",
       " 'xp': 436,\n",
       " 'wo': 437,\n",
       " 'online': 438,\n",
       " 'garageband': 439,\n",
       " 'bright': 440,\n",
       " 'navigate': 441,\n",
       " 'ilife': 442,\n",
       " 'sleek': 443,\n",
       " 'least': 444,\n",
       " 'premium': 445,\n",
       " 'box': 446,\n",
       " 'away': 447,\n",
       " 'anything': 448,\n",
       " 'worry': 449,\n",
       " 'sure': 450,\n",
       " 'book': 451,\n",
       " 'experience': 452,\n",
       " 'told': 453,\n",
       " 'portable': 454,\n",
       " 'needed': 455,\n",
       " 'going': 456,\n",
       " 'sony': 457,\n",
       " 'macbooks': 458,\n",
       " 'done': 459,\n",
       " 'useful': 460,\n",
       " 'horrible': 461,\n",
       " '/': 462,\n",
       " 'weight': 463,\n",
       " 'movies': 464,\n",
       " 'led': 465,\n",
       " 'tried': 466,\n",
       " 'business': 467,\n",
       " 'background': 468,\n",
       " 'camera': 469,\n",
       " 'fine': 470,\n",
       " 'huge': 471,\n",
       " 'weeks': 472,\n",
       " 'deal': 473,\n",
       " 'superior': 474,\n",
       " 'upgrade': 475,\n",
       " 'media': 476,\n",
       " 'macs': 477,\n",
       " 'convenient': 478,\n",
       " 'real': 479,\n",
       " 'already': 480,\n",
       " 'worse': 481,\n",
       " 'specs': 482,\n",
       " 'disk': 483,\n",
       " 'front': 484,\n",
       " 'coming': 485,\n",
       " 'connection': 486,\n",
       " 'highly': 487,\n",
       " 'offers': 488,\n",
       " 'finally': 489,\n",
       " 'seemed': 490,\n",
       " 'disc': 491,\n",
       " 'enjoy': 492,\n",
       " 'extended': 493,\n",
       " 'knew': 494,\n",
       " 'trouble': 495,\n",
       " 'order': 496,\n",
       " 'documents': 497,\n",
       " 'crashing': 498,\n",
       " 'designed': 499,\n",
       " 'oh': 500,\n",
       " 'expensive': 501,\n",
       " 'top': 502,\n",
       " \"'ll\": 503,\n",
       " 'charged': 504,\n",
       " 'sales': 505,\n",
       " 'average': 506,\n",
       " 'maybe': 507,\n",
       " 'gets': 508,\n",
       " 'wish': 509,\n",
       " 'might': 510,\n",
       " 'backlit': 511,\n",
       " 'volume': 512,\n",
       " 'install': 513,\n",
       " 'impressed': 514,\n",
       " 'including': 515,\n",
       " 'built-in': 516,\n",
       " 'hooked': 517,\n",
       " 'drop': 518,\n",
       " 'guess': 519,\n",
       " 'tax': 520,\n",
       " 'buying': 521,\n",
       " 'iwork': 522,\n",
       " 'our': 523,\n",
       " 'especially': 524,\n",
       " 'replacement': 525,\n",
       " 'shows': 526,\n",
       " 'x': 527,\n",
       " 'older': 528,\n",
       " 'ports': 529,\n",
       " 'intel': 530,\n",
       " 'version': 531,\n",
       " 'email': 532,\n",
       " 'hot': 533,\n",
       " 'cheaper': 534,\n",
       " 'takes': 535,\n",
       " 'load': 536,\n",
       " 'storage': 537,\n",
       " 'tech': 538,\n",
       " 'users': 539,\n",
       " 'fairly': 540,\n",
       " 'reason': 541,\n",
       " 'end': 542,\n",
       " 'operation': 543,\n",
       " 'sharp': 544,\n",
       " 'nearly': 545,\n",
       " 'flawlessly': 546,\n",
       " 'higher': 547,\n",
       " 'music': 548,\n",
       " 'included': 549,\n",
       " 'expense': 550,\n",
       " 'osx': 551,\n",
       " 'functions': 552,\n",
       " 'tv': 553,\n",
       " 'interface': 554,\n",
       " 'pleased': 555,\n",
       " 'professional': 556,\n",
       " 'care': 557,\n",
       " 'apps': 558,\n",
       " 'watching': 559,\n",
       " 'else': 560,\n",
       " 'beautiful': 561,\n",
       " 'inch': 562,\n",
       " 'inside': 563,\n",
       " 'trial': 564,\n",
       " 'own': 565,\n",
       " 'noticed': 566,\n",
       " 'left': 567,\n",
       " 'model': 568,\n",
       " 'case': 569,\n",
       " 'happy': 570,\n",
       " 'into': 571,\n",
       " 'definitely': 572,\n",
       " 'matter': 573,\n",
       " 'different': 574,\n",
       " 'button': 575,\n",
       " 'opened': 576,\n",
       " 'sized': 577,\n",
       " 'typing': 578,\n",
       " 'days': 579,\n",
       " 'froze': 580,\n",
       " 'adding': 581,\n",
       " 'loose': 582,\n",
       " 'number': 583,\n",
       " 'photos': 584,\n",
       " 'solid': 585,\n",
       " 'edges': 586,\n",
       " 'geek': 587,\n",
       " 'college': 588,\n",
       " 'both': 589,\n",
       " 'pictures': 590,\n",
       " 'half': 591,\n",
       " 'network': 592,\n",
       " 'nothing': 593,\n",
       " 'services': 594,\n",
       " 'said': 595,\n",
       " 'darker': 596,\n",
       " 'standard': 597,\n",
       " 'pages': 598,\n",
       " '...': 599,\n",
       " 'strong': 600,\n",
       " 'purchased': 601,\n",
       " 'save': 602,\n",
       " 'almost': 603,\n",
       " 'apparently': 604,\n",
       " 'videos': 605,\n",
       " 'difference': 606,\n",
       " 'fit': 607,\n",
       " 'night': 608,\n",
       " 'usually': 609,\n",
       " 'entire': 610,\n",
       " 'stay': 611,\n",
       " 'properly': 612,\n",
       " 'plugged': 613,\n",
       " 'iphone': 614,\n",
       " 'talk': 615,\n",
       " 'crashes': 616,\n",
       " 'paying': 617,\n",
       " 'newer': 618,\n",
       " 'country': 619,\n",
       " 'certain': 620,\n",
       " 'drivers': 621,\n",
       " 'files': 622,\n",
       " 'slick': 623,\n",
       " 'died': 624,\n",
       " 'trying': 625,\n",
       " 'allows': 626,\n",
       " 'refused': 627,\n",
       " 'ipod': 628,\n",
       " 'mother': 629,\n",
       " 'yeah': 630,\n",
       " 'bar': 631,\n",
       " 'recovery': 632,\n",
       " 'available': 633,\n",
       " 'useless': 634,\n",
       " 'protection': 635,\n",
       " 'paid': 636,\n",
       " 'none': 637,\n",
       " 'reliable': 638,\n",
       " 'people': 639,\n",
       " 'chose': 640,\n",
       " 'spend': 641,\n",
       " 'mention': 642,\n",
       " 'slowly': 643,\n",
       " 'hold': 644,\n",
       " 'minutes': 645,\n",
       " 'stars': 646,\n",
       " '+': 647,\n",
       " 'drawback': 648,\n",
       " 'break': 649,\n",
       " 'responsive': 650,\n",
       " 'amount': 651,\n",
       " 'terrific': 652,\n",
       " 'mic': 653,\n",
       " 'thru': 654,\n",
       " 'cam': 655,\n",
       " 'mostly': 656,\n",
       " 'imovie': 657,\n",
       " 'colors': 658,\n",
       " 'crisp': 659,\n",
       " 'leopard': 660,\n",
       " 'above': 661,\n",
       " 'core': 662,\n",
       " 'becomes': 663,\n",
       " 'body': 664,\n",
       " 'low': 665,\n",
       " 'im': 666,\n",
       " 'whole': 667,\n",
       " '175': 668,\n",
       " 'side': 669,\n",
       " 'cooling': 670,\n",
       " 'viruses': 671,\n",
       " '8': 672,\n",
       " 'keeps': 673,\n",
       " 'friendly': 674,\n",
       " 'caused': 675,\n",
       " 'remove': 676,\n",
       " 'smooth': 677,\n",
       " 'quite': 678,\n",
       " 'soon': 679,\n",
       " 'machines': 680,\n",
       " 'components': 681,\n",
       " 'lasting': 682,\n",
       " 'smoothly': 683,\n",
       " 'loaded': 684,\n",
       " 'via': 685,\n",
       " 'pack': 686,\n",
       " 'liked': 687,\n",
       " 'ahead': 688,\n",
       " 'hated': 689,\n",
       " 'quiet': 690,\n",
       " 'thats': 691,\n",
       " 'three': 692,\n",
       " 'necessary': 693,\n",
       " 'hook': 694,\n",
       " 'satellite': 695,\n",
       " 'boots': 696,\n",
       " 'die': 697,\n",
       " 'received': 698,\n",
       " 'priced': 699,\n",
       " 'burn': 700,\n",
       " 'probably': 701,\n",
       " 'why': 702,\n",
       " 'lose': 703,\n",
       " '%': 704,\n",
       " 'unlike': 705,\n",
       " '17': 706,\n",
       " 'offer': 707,\n",
       " 'updates': 708,\n",
       " 'versions': 709,\n",
       " 'special': 710,\n",
       " 'broke': 711,\n",
       " 'black': 712,\n",
       " 'seen': 713,\n",
       " 'world': 714,\n",
       " 'awful': 715,\n",
       " 'comfortable': 716,\n",
       " 'yourself': 717,\n",
       " 'doesnt': 718,\n",
       " 'during': 719,\n",
       " 'line': 720,\n",
       " 'clean': 721,\n",
       " 'discover': 722,\n",
       " 'looked': 723,\n",
       " 'rma': 724,\n",
       " 'contacted': 725,\n",
       " 'ups': 726,\n",
       " 'durable': 727,\n",
       " 'broken': 728,\n",
       " 'gb': 729,\n",
       " 'reasonable': 730,\n",
       " 'noise': 731,\n",
       " 'constant': 732,\n",
       " 'ghz': 733,\n",
       " '500gb': 734,\n",
       " 'instead': 735,\n",
       " 'access': 736,\n",
       " 'rest': 737,\n",
       " 'wheel': 738,\n",
       " 'school': 739,\n",
       " 'programming': 740,\n",
       " 'worst': 741,\n",
       " 'blue': 742,\n",
       " 'larger': 743,\n",
       " 'gives': 744,\n",
       " 'relatively': 745,\n",
       " 'tutorials': 746,\n",
       " 'disappointing': 747,\n",
       " 'plug': 748,\n",
       " 'capabilities': 749,\n",
       " 'point': 750,\n",
       " 'seem': 751,\n",
       " 'downfall': 752,\n",
       " 'purchasing': 753,\n",
       " 'except': 754,\n",
       " 'plastic': 755,\n",
       " 'returned': 756,\n",
       " 'speaker': 757,\n",
       " 'student': 758,\n",
       " 'portability': 759,\n",
       " 'five': 760,\n",
       " 'person': 761,\n",
       " 'stuff': 762,\n",
       " 'turns': 763,\n",
       " 'often': 764,\n",
       " 'device': 765,\n",
       " 'fun': 766,\n",
       " 'plan': 767,\n",
       " 'previous': 768,\n",
       " 'operate': 769,\n",
       " 'unable': 770,\n",
       " 'track': 771,\n",
       " 'squad': 772,\n",
       " 'known': 773,\n",
       " 'either': 774,\n",
       " 'ask': 775,\n",
       " 'give': 776,\n",
       " 'expired': 777,\n",
       " 'fits': 778,\n",
       " 'budget': 779,\n",
       " 'besides': 780,\n",
       " 'slightly': 781,\n",
       " 'computing': 782,\n",
       " 'room': 783,\n",
       " 'bios': 784,\n",
       " 'benefits': 785,\n",
       " 'spoke': 786,\n",
       " 'she': 787,\n",
       " 'fantastic': 788,\n",
       " 'decent': 789,\n",
       " 'shipped': 790,\n",
       " 'general': 791,\n",
       " 'claim': 792,\n",
       " 'twice': 793,\n",
       " 'handle': 794,\n",
       " 'numbers': 795,\n",
       " 'sensitive': 796,\n",
       " 'cords': 797,\n",
       " 'taking': 798,\n",
       " 'gui': 799,\n",
       " 'bundled': 800,\n",
       " 'gorgeous': 801,\n",
       " 'turned': 802,\n",
       " 'freaking': 803,\n",
       " 'turn': 804,\n",
       " 'steady': 805,\n",
       " 'unnecessary': 806,\n",
       " 'unless': 807,\n",
       " 'suite': 808,\n",
       " 'satisfied': 809,\n",
       " 'barely': 810,\n",
       " 'connected': 811,\n",
       " 'pure': 812,\n",
       " 'snap': 813,\n",
       " '30': 814,\n",
       " 'helps': 815,\n",
       " 'occasionally': 816,\n",
       " 'hundred': 817,\n",
       " 'dollars': 818,\n",
       " 'preloaded': 819,\n",
       " 'along': 820,\n",
       " 'realized': 821,\n",
       " 'kinda': 822,\n",
       " 'speaking': 823,\n",
       " 'browser': 824,\n",
       " 'under': 825,\n",
       " 'ago': 826,\n",
       " 'forced': 827,\n",
       " 'website': 828,\n",
       " 'force': 829,\n",
       " 'four': 830,\n",
       " 'advantage': 831,\n",
       " 'increase': 832,\n",
       " 'heated': 833,\n",
       " 'opening': 834,\n",
       " 'poorly': 835,\n",
       " 'intuitive': 836,\n",
       " 'download': 837,\n",
       " 'glass': 838,\n",
       " 'continued': 839,\n",
       " 'simpler': 840,\n",
       " 'forward': 841,\n",
       " 'genius': 842,\n",
       " '10': 843,\n",
       " 'movie': 844,\n",
       " 'bluetooth': 845,\n",
       " 'customers': 846,\n",
       " 'white': 847,\n",
       " 'updated': 848,\n",
       " 'color': 849,\n",
       " 'comparison': 850,\n",
       " 'factor': 851,\n",
       " 'familiar': 852,\n",
       " 'couple': 853,\n",
       " 'complaints': 854,\n",
       " 'construction': 855,\n",
       " 'security': 856,\n",
       " 'stuck': 857,\n",
       " 'didnt': 858,\n",
       " 'dont': 859,\n",
       " 'safari': 860,\n",
       " 'delivery': 861,\n",
       " 'anytime': 862,\n",
       " 'mind': 863,\n",
       " 'ordered': 864,\n",
       " 'saved': 865,\n",
       " 'crystal': 866,\n",
       " 'owning': 867,\n",
       " 'become': 868,\n",
       " 'incredibly': 869,\n",
       " 'powerbook': 870,\n",
       " 'easiest': 871,\n",
       " 'surface': 872,\n",
       " 'snow': 873,\n",
       " 'learning': 874,\n",
       " 'picked': 875,\n",
       " 'check': 876,\n",
       " 'missing': 877,\n",
       " 'dual': 878,\n",
       " 'charging': 879,\n",
       " 'stand': 880,\n",
       " 'appleworks': 881,\n",
       " 'paint': 882,\n",
       " 'early': 883,\n",
       " 'edition': 884,\n",
       " 'report': 885,\n",
       " 'cheaply': 886,\n",
       " 'holds': 887,\n",
       " 'antivirus': 888,\n",
       " 'glad': 889,\n",
       " 'nicely': 890,\n",
       " 'part': 891,\n",
       " 'latest': 892,\n",
       " 'waited': 893,\n",
       " 'chat': 894,\n",
       " 'us': 895,\n",
       " 'wasted': 896,\n",
       " 'provides': 897,\n",
       " 'those': 898,\n",
       " 'unreliable': 899,\n",
       " 'meets': 900,\n",
       " 'spec': 901,\n",
       " 'burner': 902,\n",
       " 'discovered': 903,\n",
       " 'ran': 904,\n",
       " 'between': 905,\n",
       " '1/2': 906,\n",
       " 'edge': 907,\n",
       " 'phones': 908,\n",
       " 'terrible': 909,\n",
       " 'hate': 910,\n",
       " 'opinion': 911,\n",
       " 'gave': 912,\n",
       " 'daughter': 913,\n",
       " 'listen': 914,\n",
       " 'major': 915,\n",
       " 'heavy': 916,\n",
       " 'bulky': 917,\n",
       " 'electronic': 918,\n",
       " \"'\": 919,\n",
       " 'linux': 920,\n",
       " 'based': 921,\n",
       " 'sense': 922,\n",
       " 'rather': 923,\n",
       " 'processors': 924,\n",
       " 'hdmi': 925,\n",
       " 'firewire': 926,\n",
       " 'image': 927,\n",
       " 'kind': 928,\n",
       " 'clicking': 929,\n",
       " 'unsteady': 930,\n",
       " 'bugs': 931,\n",
       " 'junk': 932,\n",
       " 'facebook': 933,\n",
       " 'file': 934,\n",
       " 'particular': 935,\n",
       " 'truly': 936,\n",
       " 'bucks': 937,\n",
       " 'beyond': 938,\n",
       " 'duty': 939,\n",
       " 'crash': 940,\n",
       " 'decides': 941,\n",
       " 'mode': 942,\n",
       " 'dropping': 943,\n",
       " 'stock': 944,\n",
       " 'given': 945,\n",
       " 'graphic': 946,\n",
       " 'decreased': 947,\n",
       " 'thrilled': 948,\n",
       " 'technical': 949,\n",
       " 'skype': 950,\n",
       " 'hdd': 951,\n",
       " 'main': 952,\n",
       " 'understand': 953,\n",
       " 'consider': 954,\n",
       " 'ms': 955,\n",
       " 'amazed': 956,\n",
       " 'fully': 957,\n",
       " 'letters': 958,\n",
       " 'complete': 959,\n",
       " 'ergonomic': 960,\n",
       " 'sometimes': 961,\n",
       " 'notebooks': 962,\n",
       " 'quicker': 963,\n",
       " 'photography': 964,\n",
       " '10-11': 965,\n",
       " 'depending': 966,\n",
       " 'level': 967,\n",
       " 'appearance': 968,\n",
       " '3rd': 969,\n",
       " 'bother': 970,\n",
       " 'data': 971,\n",
       " 'taught': 972,\n",
       " 'photoshop': 973,\n",
       " 'bigger': 974,\n",
       " 'loves': 975,\n",
       " 'husband': 976,\n",
       " 'signals': 977,\n",
       " 'multiple': 978,\n",
       " 'page': 979,\n",
       " 'non': 980,\n",
       " 'frequently': 981,\n",
       " 'ideal': 982,\n",
       " 'improvements': 983,\n",
       " 'images': 984,\n",
       " 'later': 985,\n",
       " 'options': 986,\n",
       " 'girlfriend': 987,\n",
       " 'hinge': 988,\n",
       " 'lcd': 989,\n",
       " 'late': 990,\n",
       " 'issued': 991,\n",
       " 'morning': 992,\n",
       " '60': 993,\n",
       " 'hiccups': 994,\n",
       " 'occasion': 995,\n",
       " 'presentations': 996,\n",
       " 'functioning': 997,\n",
       " 'obviously': 998,\n",
       " 'hinges': 999,\n",
       " 'advertised': 1000,\n",
       " ...}"
      ]
     },
     "execution_count": 15,
     "metadata": {},
     "output_type": "execute_result"
    }
   ],
   "source": [
    "weights = np.zeros((vocab_size, 300))\n",
    "mapping = toke.word_index \n",
    "mapping"
   ]
  },
  {
   "cell_type": "markdown",
   "id": "6ddb37ae",
   "metadata": {
    "papermill": {
     "duration": 0.026207,
     "end_time": "2024-03-10T12:43:38.659517",
     "exception": false,
     "start_time": "2024-03-10T12:43:38.633310",
     "status": "completed"
    },
    "tags": []
   },
   "source": [
    "Fetching weights from pre trained Word2Vec model (ATE)"
   ]
  },
  {
   "cell_type": "code",
   "execution_count": 16,
   "id": "bc0f480b",
   "metadata": {
    "execution": {
     "iopub.execute_input": "2024-03-10T12:43:38.714436Z",
     "iopub.status.busy": "2024-03-10T12:43:38.713521Z",
     "iopub.status.idle": "2024-03-10T12:43:44.316626Z",
     "shell.execute_reply": "2024-03-10T12:43:44.312578Z"
    },
    "papermill": {
     "duration": 5.636236,
     "end_time": "2024-03-10T12:43:44.321897",
     "exception": false,
     "start_time": "2024-03-10T12:43:38.685661",
     "status": "completed"
    },
    "tags": []
   },
   "outputs": [],
   "source": [
    "for word, index in mapping.items():\n",
    "    if word in emb:\n",
    "        weights[index:] = emb[word]"
   ]
  },
  {
   "cell_type": "code",
   "execution_count": 17,
   "id": "a4dade1d",
   "metadata": {
    "execution": {
     "iopub.execute_input": "2024-03-10T12:43:44.390812Z",
     "iopub.status.busy": "2024-03-10T12:43:44.389103Z",
     "iopub.status.idle": "2024-03-10T12:43:44.400669Z",
     "shell.execute_reply": "2024-03-10T12:43:44.399664Z"
    },
    "papermill": {
     "duration": 0.045607,
     "end_time": "2024-03-10T12:43:44.403425",
     "exception": false,
     "start_time": "2024-03-10T12:43:44.357818",
     "status": "completed"
    },
    "tags": []
   },
   "outputs": [],
   "source": [
    "X_train= X_padded_train\n",
    "Y_train = Y_padded_train\n",
    "X_test = X_padded_test\n",
    "Y_test = Y_padded_test\n",
    "X_val = X_padded_val\n",
    "Y_val = Y_padded_val\n",
    "weights = weights\n",
    "word_token = toke\n",
    "tag_token = toke2"
   ]
  },
  {
   "cell_type": "code",
   "execution_count": 18,
   "id": "3d74540d",
   "metadata": {
    "execution": {
     "iopub.execute_input": "2024-03-10T12:43:44.458612Z",
     "iopub.status.busy": "2024-03-10T12:43:44.458176Z",
     "iopub.status.idle": "2024-03-10T12:43:44.463209Z",
     "shell.execute_reply": "2024-03-10T12:43:44.462415Z"
    },
    "papermill": {
     "duration": 0.036374,
     "end_time": "2024-03-10T12:43:44.467074",
     "exception": false,
     "start_time": "2024-03-10T12:43:44.430700",
     "status": "completed"
    },
    "tags": []
   },
   "outputs": [],
   "source": [
    "Y_shape= Y_padded_train.shape[2]"
   ]
  },
  {
   "cell_type": "markdown",
   "id": "c26a8006",
   "metadata": {
    "papermill": {
     "duration": 0.044397,
     "end_time": "2024-03-10T12:43:44.556274",
     "exception": false,
     "start_time": "2024-03-10T12:43:44.511877",
     "status": "completed"
    },
    "tags": []
   },
   "source": [
    "# Models"
   ]
  },
  {
   "cell_type": "markdown",
   "id": "7192c444",
   "metadata": {
    "papermill": {
     "duration": 0.04474,
     "end_time": "2024-03-10T12:43:44.646230",
     "exception": false,
     "start_time": "2024-03-10T12:43:44.601490",
     "status": "completed"
    },
    "tags": []
   },
   "source": [
    "## RNN"
   ]
  },
  {
   "cell_type": "code",
   "execution_count": 19,
   "id": "06aca96a",
   "metadata": {
    "execution": {
     "iopub.execute_input": "2024-03-10T12:43:44.739226Z",
     "iopub.status.busy": "2024-03-10T12:43:44.738735Z",
     "iopub.status.idle": "2024-03-10T12:43:44.743499Z",
     "shell.execute_reply": "2024-03-10T12:43:44.742578Z"
    },
    "papermill": {
     "duration": 0.054356,
     "end_time": "2024-03-10T12:43:44.746577",
     "exception": false,
     "start_time": "2024-03-10T12:43:44.692221",
     "status": "completed"
    },
    "tags": []
   },
   "outputs": [],
   "source": [
    "model_name=\"RNN\""
   ]
  },
  {
   "cell_type": "markdown",
   "id": "8a378e27",
   "metadata": {
    "papermill": {
     "duration": 0.044957,
     "end_time": "2024-03-10T12:43:44.836654",
     "exception": false,
     "start_time": "2024-03-10T12:43:44.791697",
     "status": "completed"
    },
    "tags": []
   },
   "source": [
    "### Training"
   ]
  },
  {
   "cell_type": "code",
   "execution_count": 20,
   "id": "9e750a79",
   "metadata": {
    "execution": {
     "iopub.execute_input": "2024-03-10T12:43:44.929329Z",
     "iopub.status.busy": "2024-03-10T12:43:44.928262Z",
     "iopub.status.idle": "2024-03-10T12:43:45.378616Z",
     "shell.execute_reply": "2024-03-10T12:43:45.377195Z"
    },
    "papermill": {
     "duration": 0.50097,
     "end_time": "2024-03-10T12:43:45.382714",
     "exception": false,
     "start_time": "2024-03-10T12:43:44.881744",
     "status": "completed"
    },
    "tags": []
   },
   "outputs": [],
   "source": [
    "rnn_model = Sequential()\n",
    "rnn_model.add(Embedding(input_dim = vocab_size,output_dim = 300,input_length  = max_len,weights = [weights],trainable = False))\n",
    "rnn_model.add(SimpleRNN(32, return_sequences=True))\n",
    "rnn_model.add(TimeDistributed(Dense(Y_shape, activation='softmax')))"
   ]
  },
  {
   "cell_type": "markdown",
   "id": "41d6998c",
   "metadata": {
    "papermill": {
     "duration": 0.046526,
     "end_time": "2024-03-10T12:43:45.475304",
     "exception": false,
     "start_time": "2024-03-10T12:43:45.428778",
     "status": "completed"
    },
    "tags": []
   },
   "source": [
    "Compiling the rnn Word2Vec Model"
   ]
  },
  {
   "cell_type": "code",
   "execution_count": 21,
   "id": "daf83fdb",
   "metadata": {
    "execution": {
     "iopub.execute_input": "2024-03-10T12:43:45.568640Z",
     "iopub.status.busy": "2024-03-10T12:43:45.567497Z",
     "iopub.status.idle": "2024-03-10T12:43:45.602577Z",
     "shell.execute_reply": "2024-03-10T12:43:45.601241Z"
    },
    "papermill": {
     "duration": 0.085848,
     "end_time": "2024-03-10T12:43:45.606552",
     "exception": false,
     "start_time": "2024-03-10T12:43:45.520704",
     "status": "completed"
    },
    "tags": []
   },
   "outputs": [],
   "source": [
    "rnn_model.compile(loss='categorical_crossentropy',optimizer='adam',metrics=['acc',Precision(),Recall()])"
   ]
  },
  {
   "cell_type": "code",
   "execution_count": 22,
   "id": "6b46285b",
   "metadata": {
    "execution": {
     "iopub.execute_input": "2024-03-10T12:43:45.698567Z",
     "iopub.status.busy": "2024-03-10T12:43:45.698126Z",
     "iopub.status.idle": "2024-03-10T12:43:45.702758Z",
     "shell.execute_reply": "2024-03-10T12:43:45.701844Z"
    },
    "papermill": {
     "duration": 0.054312,
     "end_time": "2024-03-10T12:43:45.705999",
     "exception": false,
     "start_time": "2024-03-10T12:43:45.651687",
     "status": "completed"
    },
    "tags": []
   },
   "outputs": [],
   "source": [
    "rnn_f1_callback = F1ScoreCallback(val_data=(X_val, Y_val),data=(X_train, Y_train))\n"
   ]
  },
  {
   "cell_type": "code",
   "execution_count": 23,
   "id": "1ab44c6c",
   "metadata": {
    "execution": {
     "iopub.execute_input": "2024-03-10T12:43:45.797015Z",
     "iopub.status.busy": "2024-03-10T12:43:45.796593Z",
     "iopub.status.idle": "2024-03-10T12:43:45.820778Z",
     "shell.execute_reply": "2024-03-10T12:43:45.819992Z"
    },
    "papermill": {
     "duration": 0.08452,
     "end_time": "2024-03-10T12:43:45.835075",
     "exception": false,
     "start_time": "2024-03-10T12:43:45.750555",
     "status": "completed"
    },
    "tags": []
   },
   "outputs": [
    {
     "name": "stdout",
     "output_type": "stream",
     "text": [
      "Model: \"sequential\"\n",
      "_________________________________________________________________\n",
      " Layer (type)                Output Shape              Param #   \n",
      "=================================================================\n",
      " embedding (Embedding)       (None, 78, 300)           721800    \n",
      "                                                                 \n",
      " simple_rnn (SimpleRNN)      (None, 78, 32)            10656     \n",
      "                                                                 \n",
      " time_distributed (TimeDist  (None, 78, 4)             132       \n",
      " ributed)                                                        \n",
      "                                                                 \n",
      "=================================================================\n",
      "Total params: 732588 (2.79 MB)\n",
      "Trainable params: 10788 (42.14 KB)\n",
      "Non-trainable params: 721800 (2.75 MB)\n",
      "_________________________________________________________________\n"
     ]
    }
   ],
   "source": [
    "rnn_model.summary()"
   ]
  },
  {
   "cell_type": "markdown",
   "id": "73547339",
   "metadata": {
    "papermill": {
     "duration": 0.046809,
     "end_time": "2024-03-10T12:43:45.928917",
     "exception": false,
     "start_time": "2024-03-10T12:43:45.882108",
     "status": "completed"
    },
    "tags": []
   },
   "source": [
    "Fitting the rnn model"
   ]
  },
  {
   "cell_type": "code",
   "execution_count": 24,
   "id": "00031fa0",
   "metadata": {
    "execution": {
     "iopub.execute_input": "2024-03-10T12:43:46.026409Z",
     "iopub.status.busy": "2024-03-10T12:43:46.025941Z",
     "iopub.status.idle": "2024-03-10T12:44:52.983897Z",
     "shell.execute_reply": "2024-03-10T12:44:52.982732Z"
    },
    "papermill": {
     "duration": 67.010196,
     "end_time": "2024-03-10T12:44:52.986852",
     "exception": false,
     "start_time": "2024-03-10T12:43:45.976656",
     "status": "completed"
    },
    "tags": []
   },
   "outputs": [
    {
     "name": "stdout",
     "output_type": "stream",
     "text": [
      "Epoch 1/20\n",
      "7/7 [==============================] - 0s 8ms/step\n",
      "29/29 [==============================] - 0s 7ms/step\n",
      "Val F1 Score: 0.4487117549978058 - Train F1 Score: 0.43734347412979696\n",
      "8/8 [==============================] - 6s 540ms/step - loss: 1.3049 - acc: 0.8385 - precision: 0.4862 - recall: 0.0067 - val_loss: 1.0656 - val_acc: 0.8666 - val_precision: 0.8050 - val_recall: 0.0189\n",
      "Epoch 2/20\n",
      "7/7 [==============================] - 0s 8ms/step\n",
      "29/29 [==============================] - 0s 8ms/step\n",
      "Val F1 Score: 0.3970569658262834 - Train F1 Score: 0.40069617613541486\n",
      "8/8 [==============================] - 4s 521ms/step - loss: 0.9144 - acc: 0.8645 - precision: 0.9322 - recall: 0.3099 - val_loss: 0.7129 - val_acc: 0.8483 - val_precision: 0.8860 - val_recall: 0.6517\n",
      "Epoch 3/20\n",
      "7/7 [==============================] - 0s 8ms/step\n",
      "29/29 [==============================] - 0s 8ms/step\n",
      "Val F1 Score: 0.3998567447703483 - Train F1 Score: 0.4052026549935027\n",
      "8/8 [==============================] - 3s 446ms/step - loss: 0.6375 - acc: 0.8440 - precision: 0.8745 - recall: 0.6869 - val_loss: 0.5415 - val_acc: 0.8518 - val_precision: 0.8667 - val_recall: 0.7366\n",
      "Epoch 4/20\n",
      "7/7 [==============================] - 0s 7ms/step\n",
      "29/29 [==============================] - 0s 7ms/step\n",
      "Val F1 Score: 0.4669437573219401 - Train F1 Score: 0.47113685373981795\n",
      "8/8 [==============================] - 3s 440ms/step - loss: 0.4871 - acc: 0.8709 - precision: 0.8910 - recall: 0.7633 - val_loss: 0.4132 - val_acc: 0.9109 - val_precision: 0.9322 - val_recall: 0.8140\n",
      "Epoch 5/20\n",
      "7/7 [==============================] - 0s 8ms/step\n",
      "29/29 [==============================] - 0s 7ms/step\n",
      "Val F1 Score: 0.4729548412487445 - Train F1 Score: 0.4766300526692509\n",
      "8/8 [==============================] - 3s 455ms/step - loss: 0.3773 - acc: 0.9308 - precision: 0.9449 - recall: 0.8478 - val_loss: 0.3333 - val_acc: 0.9447 - val_precision: 0.9514 - val_recall: 0.8799\n",
      "Epoch 6/20\n",
      "7/7 [==============================] - 0s 8ms/step\n",
      "29/29 [==============================] - 0s 8ms/step\n",
      "Val F1 Score: 0.4701329054589276 - Train F1 Score: 0.4699733013999023\n",
      "8/8 [==============================] - 3s 449ms/step - loss: 0.3104 - acc: 0.9485 - precision: 0.9510 - recall: 0.8912 - val_loss: 0.2793 - val_acc: 0.9501 - val_precision: 0.9517 - val_recall: 0.9078\n",
      "Epoch 7/20\n",
      "7/7 [==============================] - 0s 7ms/step\n",
      "29/29 [==============================] - 0s 7ms/step\n",
      "Val F1 Score: 0.47200698559402965 - Train F1 Score: 0.47123792866469283\n",
      "8/8 [==============================] - 3s 446ms/step - loss: 0.2666 - acc: 0.9502 - precision: 0.9506 - recall: 0.9099 - val_loss: 0.2460 - val_acc: 0.9528 - val_precision: 0.9525 - val_recall: 0.9126\n",
      "Epoch 8/20\n",
      "7/7 [==============================] - 0s 7ms/step\n",
      "29/29 [==============================] - 0s 7ms/step\n",
      "Val F1 Score: 0.47520574988873976 - Train F1 Score: 0.47417138398415404\n",
      "8/8 [==============================] - 3s 439ms/step - loss: 0.2391 - acc: 0.9535 - precision: 0.9532 - recall: 0.9140 - val_loss: 0.2223 - val_acc: 0.9574 - val_precision: 0.9573 - val_recall: 0.9180\n",
      "Epoch 9/20\n",
      "7/7 [==============================] - 0s 7ms/step\n",
      "29/29 [==============================] - 0s 8ms/step\n",
      "Val F1 Score: 0.47671285422320697 - Train F1 Score: 0.47512771969168494\n",
      "8/8 [==============================] - 3s 453ms/step - loss: 0.2201 - acc: 0.9571 - precision: 0.9568 - recall: 0.9178 - val_loss: 0.2055 - val_acc: 0.9596 - val_precision: 0.9592 - val_recall: 0.9201\n",
      "Epoch 10/20\n",
      "7/7 [==============================] - 0s 9ms/step\n",
      "29/29 [==============================] - 0s 7ms/step\n",
      "Val F1 Score: 0.4769928214428251 - Train F1 Score: 0.4753012999783159\n",
      "8/8 [==============================] - 3s 443ms/step - loss: 0.2047 - acc: 0.9574 - precision: 0.9574 - recall: 0.9240 - val_loss: 0.1923 - val_acc: 0.9600 - val_precision: 0.9599 - val_recall: 0.9333\n",
      "Epoch 11/20\n",
      "7/7 [==============================] - 0s 8ms/step\n",
      "29/29 [==============================] - 0s 7ms/step\n",
      "Val F1 Score: 0.47823312814471514 - Train F1 Score: 0.4779198308216329\n",
      "8/8 [==============================] - 3s 475ms/step - loss: 0.1921 - acc: 0.9585 - precision: 0.9589 - recall: 0.9321 - val_loss: 0.1812 - val_acc: 0.9617 - val_precision: 0.9627 - val_recall: 0.9350\n",
      "Epoch 12/20\n",
      "7/7 [==============================] - 0s 7ms/step\n",
      "29/29 [==============================] - 0s 8ms/step\n",
      "Val F1 Score: 0.47998242641567473 - Train F1 Score: 0.4796281384244969\n",
      "8/8 [==============================] - 3s 453ms/step - loss: 0.1816 - acc: 0.9599 - precision: 0.9605 - recall: 0.9334 - val_loss: 0.1718 - val_acc: 0.9618 - val_precision: 0.9628 - val_recall: 0.9346\n",
      "Epoch 13/20\n",
      "7/7 [==============================] - 0s 8ms/step\n",
      "29/29 [==============================] - 0s 8ms/step\n",
      "Val F1 Score: 0.4818413381326941 - Train F1 Score: 0.4813069157895628\n",
      "8/8 [==============================] - 3s 456ms/step - loss: 0.1726 - acc: 0.9602 - precision: 0.9609 - recall: 0.9336 - val_loss: 0.1635 - val_acc: 0.9624 - val_precision: 0.9640 - val_recall: 0.9354\n",
      "Epoch 14/20\n",
      "7/7 [==============================] - 0s 7ms/step\n",
      "29/29 [==============================] - 0s 7ms/step\n",
      "Val F1 Score: 0.4873849133730222 - Train F1 Score: 0.4840908676848521\n",
      "8/8 [==============================] - 3s 446ms/step - loss: 0.1648 - acc: 0.9609 - precision: 0.9620 - recall: 0.9341 - val_loss: 0.1562 - val_acc: 0.9636 - val_precision: 0.9658 - val_recall: 0.9361\n",
      "Epoch 15/20\n",
      "7/7 [==============================] - 0s 8ms/step\n",
      "29/29 [==============================] - 0s 7ms/step\n",
      "Val F1 Score: 0.4922717104678794 - Train F1 Score: 0.4859454532135112\n",
      "8/8 [==============================] - 3s 454ms/step - loss: 0.1578 - acc: 0.9623 - precision: 0.9639 - recall: 0.9353 - val_loss: 0.1495 - val_acc: 0.9638 - val_precision: 0.9656 - val_recall: 0.9362\n",
      "Epoch 16/20\n",
      "7/7 [==============================] - 0s 8ms/step\n",
      "29/29 [==============================] - 0s 8ms/step\n",
      "Val F1 Score: 0.49452397268328047 - Train F1 Score: 0.48942434484031133\n",
      "8/8 [==============================] - 3s 456ms/step - loss: 0.1517 - acc: 0.9623 - precision: 0.9636 - recall: 0.9352 - val_loss: 0.1435 - val_acc: 0.9651 - val_precision: 0.9677 - val_recall: 0.9378\n",
      "Epoch 17/20\n",
      "7/7 [==============================] - 0s 8ms/step\n",
      "29/29 [==============================] - 0s 7ms/step\n",
      "Val F1 Score: 0.5081000080307615 - Train F1 Score: 0.5047277438955737\n",
      "8/8 [==============================] - 3s 447ms/step - loss: 0.1459 - acc: 0.9633 - precision: 0.9653 - recall: 0.9360 - val_loss: 0.1380 - val_acc: 0.9661 - val_precision: 0.9721 - val_recall: 0.9386\n",
      "Epoch 18/20\n",
      "7/7 [==============================] - 0s 7ms/step\n",
      "29/29 [==============================] - 0s 7ms/step\n",
      "Val F1 Score: 0.540360545620761 - Train F1 Score: 0.5125596229498696\n",
      "8/8 [==============================] - 3s 458ms/step - loss: 0.1401 - acc: 0.9652 - precision: 0.9686 - recall: 0.9378 - val_loss: 0.2822 - val_acc: 0.9097 - val_precision: 0.9788 - val_recall: 0.8690\n",
      "Epoch 19/20\n",
      "7/7 [==============================] - 0s 8ms/step\n",
      "29/29 [==============================] - 0s 8ms/step\n",
      "Val F1 Score: 0.4839634836012342 - Train F1 Score: 0.4875328635133269\n",
      "8/8 [==============================] - 3s 460ms/step - loss: 0.1818 - acc: 0.9493 - precision: 0.9586 - recall: 0.9207 - val_loss: 0.1929 - val_acc: 0.9500 - val_precision: 0.9519 - val_recall: 0.9228\n",
      "Epoch 20/20\n",
      "7/7 [==============================] - 0s 8ms/step\n",
      "29/29 [==============================] - 0s 7ms/step\n",
      "Val F1 Score: 0.4903383115203174 - Train F1 Score: 0.49426542077230545\n",
      "8/8 [==============================] - 3s 446ms/step - loss: 0.1911 - acc: 0.9497 - precision: 0.9515 - recall: 0.9317 - val_loss: 0.1787 - val_acc: 0.9528 - val_precision: 0.9552 - val_recall: 0.9378\n"
     ]
    }
   ],
   "source": [
    "rnn_training = rnn_model.fit(X_train, Y_train, batch_size=128, epochs=20, validation_data=(X_val, Y_val), callbacks=[rnn_f1_callback])"
   ]
  },
  {
   "cell_type": "markdown",
   "id": "9b9782d3",
   "metadata": {
    "papermill": {
     "duration": 0.053175,
     "end_time": "2024-03-10T12:44:53.093653",
     "exception": false,
     "start_time": "2024-03-10T12:44:53.040478",
     "status": "completed"
    },
    "tags": []
   },
   "source": [
    "Plotting the graph"
   ]
  },
  {
   "cell_type": "code",
   "execution_count": 25,
   "id": "6c82c404",
   "metadata": {
    "execution": {
     "iopub.execute_input": "2024-03-10T12:44:53.202328Z",
     "iopub.status.busy": "2024-03-10T12:44:53.201591Z",
     "iopub.status.idle": "2024-03-10T12:44:53.952148Z",
     "shell.execute_reply": "2024-03-10T12:44:53.950921Z"
    },
    "papermill": {
     "duration": 0.808101,
     "end_time": "2024-03-10T12:44:53.954900",
     "exception": false,
     "start_time": "2024-03-10T12:44:53.146799",
     "status": "completed"
    },
    "tags": []
   },
   "outputs": [
    {
     "data": {
      "image/png": "[encoded data removed]",
      "text/plain": [
       "<Figure size 1600x500 with 2 Axes>"
      ]
     },
     "metadata": {},
     "output_type": "display_data"
    }
   ],
   "source": [
    "draw_loss_graph(rnn_training,model_name, rnn_f1_callback.train_f1_scores, rnn_f1_callback.val_f1_scores)\n",
    "save_model(rnn_model,model_name,Embedding_name,Dataset)"
   ]
  },
  {
   "cell_type": "markdown",
   "id": "c5489f9f",
   "metadata": {
    "papermill": {
     "duration": 0.052952,
     "end_time": "2024-03-10T12:44:54.062914",
     "exception": false,
     "start_time": "2024-03-10T12:44:54.009962",
     "status": "completed"
    },
    "tags": []
   },
   "source": [
    "### Testing"
   ]
  },
  {
   "cell_type": "code",
   "execution_count": 26,
   "id": "67210ea7",
   "metadata": {
    "execution": {
     "iopub.execute_input": "2024-03-10T12:44:54.172744Z",
     "iopub.status.busy": "2024-03-10T12:44:54.171532Z",
     "iopub.status.idle": "2024-03-10T12:44:54.421858Z",
     "shell.execute_reply": "2024-03-10T12:44:54.420843Z"
    },
    "papermill": {
     "duration": 0.307428,
     "end_time": "2024-03-10T12:44:54.424498",
     "exception": false,
     "start_time": "2024-03-10T12:44:54.117070",
     "status": "completed"
    },
    "tags": []
   },
   "outputs": [],
   "source": [
    "loaded_model = load_model(model_name,Embedding_name,Dataset)"
   ]
  },
  {
   "cell_type": "markdown",
   "id": "fc29eb7b",
   "metadata": {
    "papermill": {
     "duration": 0.053186,
     "end_time": "2024-03-10T12:44:54.531823",
     "exception": false,
     "start_time": "2024-03-10T12:44:54.478637",
     "status": "completed"
    },
    "tags": []
   },
   "source": [
    "Testing accuracy"
   ]
  },
  {
   "cell_type": "code",
   "execution_count": 27,
   "id": "7768a6cc",
   "metadata": {
    "execution": {
     "iopub.execute_input": "2024-03-10T12:44:54.641503Z",
     "iopub.status.busy": "2024-03-10T12:44:54.640370Z",
     "iopub.status.idle": "2024-03-10T12:44:55.385856Z",
     "shell.execute_reply": "2024-03-10T12:44:55.384772Z"
    },
    "papermill": {
     "duration": 0.802763,
     "end_time": "2024-03-10T12:44:55.388086",
     "exception": false,
     "start_time": "2024-03-10T12:44:54.585323",
     "status": "completed"
    },
    "tags": []
   },
   "outputs": [
    {
     "name": "stdout",
     "output_type": "stream",
     "text": [
      "11/11 [==============================] - 1s 8ms/step - loss: 0.1879 - acc: 0.9516 - precision: 0.9532 - recall: 0.9368\n",
      "0.9516103863716125\n"
     ]
    }
   ],
   "source": [
    "accuracy = loaded_model.evaluate(X_test, Y_test, verbose = 1)\n",
    "print(accuracy[1])"
   ]
  },
  {
   "cell_type": "markdown",
   "id": "e6935243",
   "metadata": {
    "papermill": {
     "duration": 0.053678,
     "end_time": "2024-03-10T12:44:55.496086",
     "exception": false,
     "start_time": "2024-03-10T12:44:55.442408",
     "status": "completed"
    },
    "tags": []
   },
   "source": [
    "Testing F1 Score"
   ]
  },
  {
   "cell_type": "code",
   "execution_count": 28,
   "id": "763c83d0",
   "metadata": {
    "execution": {
     "iopub.execute_input": "2024-03-10T12:44:55.607180Z",
     "iopub.status.busy": "2024-03-10T12:44:55.606373Z",
     "iopub.status.idle": "2024-03-10T12:44:56.648157Z",
     "shell.execute_reply": "2024-03-10T12:44:56.647058Z"
    },
    "papermill": {
     "duration": 1.100304,
     "end_time": "2024-03-10T12:44:56.650456",
     "exception": false,
     "start_time": "2024-03-10T12:44:55.550152",
     "status": "completed"
    },
    "tags": []
   },
   "outputs": [
    {
     "name": "stdout",
     "output_type": "stream",
     "text": [
      "11/11 [==============================] - 0s 7ms/step\n",
      "Test F1 Score: 0.49872796748770987\n"
     ]
    }
   ],
   "source": [
    "Y_pred = loaded_model.predict(X_test)\n",
    "real = get_real(Y_test)\n",
    "pred = get_pred(Y_pred)\n",
    "\n",
    "true_labels_flat = [label for sublist in real for label in sublist]\n",
    "predicted_labels_flat = [label for sublist in pred for label in sublist]\n",
    "\n",
    "# Compute F1 score\n",
    "f1 = f1_score(true_labels_flat, predicted_labels_flat, average='macro')\n",
    "\n",
    "print(\"Test F1 Score:\", f1)"
   ]
  },
  {
   "cell_type": "markdown",
   "id": "3bfc3e3a",
   "metadata": {
    "papermill": {
     "duration": 0.05985,
     "end_time": "2024-03-10T12:44:56.764721",
     "exception": false,
     "start_time": "2024-03-10T12:44:56.704871",
     "status": "completed"
    },
    "tags": []
   },
   "source": [
    "## GRU"
   ]
  },
  {
   "cell_type": "code",
   "execution_count": 29,
   "id": "f64a1832",
   "metadata": {
    "execution": {
     "iopub.execute_input": "2024-03-10T12:44:56.877559Z",
     "iopub.status.busy": "2024-03-10T12:44:56.876575Z",
     "iopub.status.idle": "2024-03-10T12:44:56.881762Z",
     "shell.execute_reply": "2024-03-10T12:44:56.880733Z"
    },
    "papermill": {
     "duration": 0.064629,
     "end_time": "2024-03-10T12:44:56.884229",
     "exception": false,
     "start_time": "2024-03-10T12:44:56.819600",
     "status": "completed"
    },
    "tags": []
   },
   "outputs": [],
   "source": [
    "model_name=\"GRU\""
   ]
  },
  {
   "cell_type": "markdown",
   "id": "3538295c",
   "metadata": {
    "papermill": {
     "duration": 0.054929,
     "end_time": "2024-03-10T12:44:56.995952",
     "exception": false,
     "start_time": "2024-03-10T12:44:56.941023",
     "status": "completed"
    },
    "tags": []
   },
   "source": [
    "### Training"
   ]
  },
  {
   "cell_type": "code",
   "execution_count": 30,
   "id": "aa9fb049",
   "metadata": {
    "execution": {
     "iopub.execute_input": "2024-03-10T12:44:57.111057Z",
     "iopub.status.busy": "2024-03-10T12:44:57.110044Z",
     "iopub.status.idle": "2024-03-10T12:44:57.449122Z",
     "shell.execute_reply": "2024-03-10T12:44:57.447938Z"
    },
    "papermill": {
     "duration": 0.400445,
     "end_time": "2024-03-10T12:44:57.451919",
     "exception": false,
     "start_time": "2024-03-10T12:44:57.051474",
     "status": "completed"
    },
    "tags": []
   },
   "outputs": [],
   "source": [
    "gru_model = Sequential()\n",
    "gru_model.add(Embedding(input_dim = vocab_size,output_dim = 300,input_length  = max_len,weights = [weights],trainable = False))\n",
    "gru_model.add(GRU(64, return_sequences=True))\n",
    "gru_model.add(TimeDistributed(Dense(Y_train.shape[2], activation='softmax')))"
   ]
  },
  {
   "cell_type": "markdown",
   "id": "1c758a92",
   "metadata": {
    "papermill": {
     "duration": 0.05406,
     "end_time": "2024-03-10T12:44:57.560358",
     "exception": false,
     "start_time": "2024-03-10T12:44:57.506298",
     "status": "completed"
    },
    "tags": []
   },
   "source": [
    "compiling "
   ]
  },
  {
   "cell_type": "code",
   "execution_count": 31,
   "id": "1bded978",
   "metadata": {
    "execution": {
     "iopub.execute_input": "2024-03-10T12:44:57.671361Z",
     "iopub.status.busy": "2024-03-10T12:44:57.670152Z",
     "iopub.status.idle": "2024-03-10T12:44:57.690075Z",
     "shell.execute_reply": "2024-03-10T12:44:57.688830Z"
    },
    "papermill": {
     "duration": 0.078091,
     "end_time": "2024-03-10T12:44:57.692676",
     "exception": false,
     "start_time": "2024-03-10T12:44:57.614585",
     "status": "completed"
    },
    "tags": []
   },
   "outputs": [],
   "source": [
    "gru_model.compile(loss='categorical_crossentropy',optimizer='adam',metrics=['acc',Precision(),Recall()])"
   ]
  },
  {
   "cell_type": "code",
   "execution_count": 32,
   "id": "b4d1c553",
   "metadata": {
    "execution": {
     "iopub.execute_input": "2024-03-10T12:44:57.804601Z",
     "iopub.status.busy": "2024-03-10T12:44:57.804175Z",
     "iopub.status.idle": "2024-03-10T12:44:57.808749Z",
     "shell.execute_reply": "2024-03-10T12:44:57.807918Z"
    },
    "papermill": {
     "duration": 0.063875,
     "end_time": "2024-03-10T12:44:57.810970",
     "exception": false,
     "start_time": "2024-03-10T12:44:57.747095",
     "status": "completed"
    },
    "tags": []
   },
   "outputs": [],
   "source": [
    "gru_f1_callback = F1ScoreCallback(val_data=(X_val, Y_val),data=(X_train, Y_train))"
   ]
  },
  {
   "cell_type": "code",
   "execution_count": 33,
   "id": "32722f82",
   "metadata": {
    "execution": {
     "iopub.execute_input": "2024-03-10T12:44:57.921937Z",
     "iopub.status.busy": "2024-03-10T12:44:57.921091Z",
     "iopub.status.idle": "2024-03-10T12:44:57.945019Z",
     "shell.execute_reply": "2024-03-10T12:44:57.943562Z"
    },
    "papermill": {
     "duration": 0.082994,
     "end_time": "2024-03-10T12:44:57.948137",
     "exception": false,
     "start_time": "2024-03-10T12:44:57.865143",
     "status": "completed"
    },
    "tags": []
   },
   "outputs": [
    {
     "name": "stdout",
     "output_type": "stream",
     "text": [
      "Model: \"sequential_1\"\n",
      "_________________________________________________________________\n",
      " Layer (type)                Output Shape              Param #   \n",
      "=================================================================\n",
      " embedding_1 (Embedding)     (None, 78, 300)           721800    \n",
      "                                                                 \n",
      " gru (GRU)                   (None, 78, 64)            70272     \n",
      "                                                                 \n",
      " time_distributed_1 (TimeDi  (None, 78, 4)             260       \n",
      " stributed)                                                      \n",
      "                                                                 \n",
      "=================================================================\n",
      "Total params: 792332 (3.02 MB)\n",
      "Trainable params: 70532 (275.52 KB)\n",
      "Non-trainable params: 721800 (2.75 MB)\n",
      "_________________________________________________________________\n"
     ]
    }
   ],
   "source": [
    "gru_model.summary()"
   ]
  },
  {
   "cell_type": "markdown",
   "id": "65d00b85",
   "metadata": {
    "papermill": {
     "duration": 0.055709,
     "end_time": "2024-03-10T12:44:58.060031",
     "exception": false,
     "start_time": "2024-03-10T12:44:58.004322",
     "status": "completed"
    },
    "tags": []
   },
   "source": [
    "Fitting GRU"
   ]
  },
  {
   "cell_type": "code",
   "execution_count": 34,
   "id": "97c311f9",
   "metadata": {
    "execution": {
     "iopub.execute_input": "2024-03-10T12:44:58.174828Z",
     "iopub.status.busy": "2024-03-10T12:44:58.174277Z",
     "iopub.status.idle": "2024-03-10T12:46:22.391369Z",
     "shell.execute_reply": "2024-03-10T12:46:22.390271Z"
    },
    "papermill": {
     "duration": 84.278359,
     "end_time": "2024-03-10T12:46:22.393956",
     "exception": false,
     "start_time": "2024-03-10T12:44:58.115597",
     "status": "completed"
    },
    "tags": []
   },
   "outputs": [
    {
     "name": "stdout",
     "output_type": "stream",
     "text": [
      "Epoch 1/20\n",
      "7/7 [==============================] - 1s 16ms/step\n",
      "29/29 [==============================] - 1s 17ms/step\n",
      "Val F1 Score: 0.48829839643210965 - Train F1 Score: 0.4846475819895179\n",
      "8/8 [==============================] - 8s 706ms/step - loss: 1.3027 - acc: 0.9415 - precision_1: 0.9668 - recall_1: 0.0062 - val_loss: 1.1818 - val_acc: 0.9718 - val_precision_1: 0.9787 - val_recall_1: 0.0593\n",
      "Epoch 2/20\n",
      "7/7 [==============================] - 0s 16ms/step\n",
      "29/29 [==============================] - 0s 16ms/step\n",
      "Val F1 Score: 0.4842839280400427 - Train F1 Score: 0.4834622818671489\n",
      "8/8 [==============================] - 4s 553ms/step - loss: 1.1021 - acc: 0.9702 - precision_1: 0.9501 - recall_1: 0.1135 - val_loss: 0.9618 - val_acc: 0.9713 - val_precision_1: 0.9347 - val_recall_1: 0.1768\n",
      "Epoch 3/20\n",
      "7/7 [==============================] - 0s 16ms/step\n",
      "29/29 [==============================] - 1s 17ms/step\n",
      "Val F1 Score: 0.4797058418173812 - Train F1 Score: 0.4781313331521659\n",
      "8/8 [==============================] - 4s 565ms/step - loss: 0.8520 - acc: 0.9666 - precision_1: 0.9163 - recall_1: 0.1993 - val_loss: 0.6174 - val_acc: 0.9638 - val_precision_1: 0.9770 - val_recall_1: 0.8394\n",
      "Epoch 4/20\n",
      "7/7 [==============================] - 0s 16ms/step\n",
      "29/29 [==============================] - 1s 18ms/step\n",
      "Val F1 Score: 0.4483130328198967 - Train F1 Score: 0.44871757850897964\n",
      "8/8 [==============================] - 4s 553ms/step - loss: 0.4443 - acc: 0.9470 - precision_1: 0.9510 - recall_1: 0.8813 - val_loss: 0.3502 - val_acc: 0.9228 - val_precision_1: 0.9213 - val_recall_1: 0.8834\n",
      "Epoch 5/20\n",
      "7/7 [==============================] - 0s 15ms/step\n",
      "29/29 [==============================] - 1s 17ms/step\n",
      "Val F1 Score: 0.47826276390369016 - Train F1 Score: 0.4767318732422225\n",
      "8/8 [==============================] - 4s 560ms/step - loss: 0.2816 - acc: 0.9447 - precision_1: 0.9436 - recall_1: 0.9056 - val_loss: 0.2399 - val_acc: 0.9616 - val_precision_1: 0.9624 - val_recall_1: 0.9340\n",
      "Epoch 6/20\n",
      "7/7 [==============================] - 0s 16ms/step\n",
      "29/29 [==============================] - 0s 16ms/step\n",
      "Val F1 Score: 0.4782483845279356 - Train F1 Score: 0.4764255001480535\n",
      "8/8 [==============================] - 4s 568ms/step - loss: 0.2288 - acc: 0.9601 - precision_1: 0.9609 - recall_1: 0.9336 - val_loss: 0.1944 - val_acc: 0.9615 - val_precision_1: 0.9625 - val_recall_1: 0.9344\n",
      "Epoch 7/20\n",
      "7/7 [==============================] - 0s 16ms/step\n",
      "29/29 [==============================] - 1s 17ms/step\n",
      "Val F1 Score: 0.4773050392681737 - Train F1 Score: 0.4762717873321886\n",
      "8/8 [==============================] - 4s 561ms/step - loss: 0.1917 - acc: 0.9578 - precision_1: 0.9585 - recall_1: 0.9312 - val_loss: 0.1763 - val_acc: 0.9603 - val_precision_1: 0.9614 - val_recall_1: 0.9333\n",
      "Epoch 8/20\n",
      "7/7 [==============================] - 0s 16ms/step\n",
      "29/29 [==============================] - 0s 16ms/step\n",
      "Val F1 Score: 0.4812512037419636 - Train F1 Score: 0.47954640265821646\n",
      "8/8 [==============================] - 4s 560ms/step - loss: 0.1731 - acc: 0.9598 - precision_1: 0.9606 - recall_1: 0.9371 - val_loss: 0.1574 - val_acc: 0.9641 - val_precision_1: 0.9659 - val_recall_1: 0.9510\n",
      "Epoch 9/20\n",
      "7/7 [==============================] - 0s 17ms/step\n",
      "29/29 [==============================] - 1s 18ms/step\n",
      "Val F1 Score: 0.48342381949301005 - Train F1 Score: 0.48151894110725907\n",
      "8/8 [==============================] - 4s 563ms/step - loss: 0.1589 - acc: 0.9632 - precision_1: 0.9646 - recall_1: 0.9496 - val_loss: 0.1465 - val_acc: 0.9655 - val_precision_1: 0.9706 - val_recall_1: 0.9524\n",
      "Epoch 10/20\n",
      "7/7 [==============================] - 0s 17ms/step\n",
      "29/29 [==============================] - 0s 16ms/step\n",
      "Val F1 Score: 0.48754586017177487 - Train F1 Score: 0.48784256711756874\n",
      "8/8 [==============================] - 4s 565ms/step - loss: 0.1484 - acc: 0.9640 - precision_1: 0.9677 - recall_1: 0.9505 - val_loss: 0.1365 - val_acc: 0.9689 - val_precision_1: 0.9697 - val_recall_1: 0.9525\n",
      "Epoch 11/20\n",
      "7/7 [==============================] - 0s 16ms/step\n",
      "29/29 [==============================] - 0s 16ms/step\n",
      "Val F1 Score: 0.4927974963328 - Train F1 Score: 0.4913034220284038\n",
      "8/8 [==============================] - 4s 561ms/step - loss: 0.1395 - acc: 0.9670 - precision_1: 0.9679 - recall_1: 0.9523 - val_loss: 0.1290 - val_acc: 0.9697 - val_precision_1: 0.9706 - val_recall_1: 0.9559\n",
      "Epoch 12/20\n",
      "7/7 [==============================] - 0s 18ms/step\n",
      "29/29 [==============================] - 0s 16ms/step\n",
      "Val F1 Score: 0.49464938854880486 - Train F1 Score: 0.49243442480162386\n",
      "8/8 [==============================] - 4s 556ms/step - loss: 0.1323 - acc: 0.9674 - precision_1: 0.9685 - recall_1: 0.9540 - val_loss: 0.1225 - val_acc: 0.9702 - val_precision_1: 0.9716 - val_recall_1: 0.9567\n",
      "Epoch 13/20\n",
      "7/7 [==============================] - 0s 16ms/step\n",
      "29/29 [==============================] - 1s 17ms/step\n",
      "Val F1 Score: 0.4947138589883167 - Train F1 Score: 0.4949702184966097\n",
      "8/8 [==============================] - 4s 553ms/step - loss: 0.1261 - acc: 0.9681 - precision_1: 0.9690 - recall_1: 0.9545 - val_loss: 0.1169 - val_acc: 0.9704 - val_precision_1: 0.9716 - val_recall_1: 0.9570\n",
      "Epoch 14/20\n",
      "7/7 [==============================] - 0s 16ms/step\n",
      "29/29 [==============================] - 1s 17ms/step\n",
      "Val F1 Score: 0.49968877731396866 - Train F1 Score: 0.497631566112836\n",
      "8/8 [==============================] - 4s 546ms/step - loss: 0.1208 - acc: 0.9684 - precision_1: 0.9695 - recall_1: 0.9548 - val_loss: 0.1121 - val_acc: 0.9710 - val_precision_1: 0.9722 - val_recall_1: 0.9571\n",
      "Epoch 15/20\n",
      "7/7 [==============================] - 0s 16ms/step\n",
      "29/29 [==============================] - 1s 18ms/step\n",
      "Val F1 Score: 0.4998861976281329 - Train F1 Score: 0.5003090353410522\n",
      "8/8 [==============================] - 4s 575ms/step - loss: 0.1160 - acc: 0.9688 - precision_1: 0.9701 - recall_1: 0.9551 - val_loss: 0.1079 - val_acc: 0.9713 - val_precision_1: 0.9725 - val_recall_1: 0.9577\n",
      "Epoch 16/20\n",
      "7/7 [==============================] - 0s 17ms/step\n",
      "29/29 [==============================] - 1s 17ms/step\n",
      "Val F1 Score: 0.5014665810318412 - Train F1 Score: 0.5034002134168305\n",
      "8/8 [==============================] - 4s 566ms/step - loss: 0.1117 - acc: 0.9691 - precision_1: 0.9706 - recall_1: 0.9553 - val_loss: 0.1039 - val_acc: 0.9714 - val_precision_1: 0.9730 - val_recall_1: 0.9578\n",
      "Epoch 17/20\n",
      "7/7 [==============================] - 0s 16ms/step\n",
      "29/29 [==============================] - 1s 17ms/step\n",
      "Val F1 Score: 0.5057123666196268 - Train F1 Score: 0.5093170009989875\n",
      "8/8 [==============================] - 4s 566ms/step - loss: 0.1078 - acc: 0.9693 - precision_1: 0.9718 - recall_1: 0.9552 - val_loss: 0.1004 - val_acc: 0.9716 - val_precision_1: 0.9745 - val_recall_1: 0.9577\n",
      "Epoch 18/20\n",
      "7/7 [==============================] - 0s 17ms/step\n",
      "29/29 [==============================] - 0s 16ms/step\n",
      "Val F1 Score: 0.5146038868779803 - Train F1 Score: 0.5176757715421819\n",
      "8/8 [==============================] - 4s 567ms/step - loss: 0.1041 - acc: 0.9700 - precision_1: 0.9731 - recall_1: 0.9555 - val_loss: 0.0970 - val_acc: 0.9721 - val_precision_1: 0.9749 - val_recall_1: 0.9579\n",
      "Epoch 19/20\n",
      "7/7 [==============================] - 0s 16ms/step\n",
      "29/29 [==============================] - 0s 17ms/step\n",
      "Val F1 Score: 0.5279944109545092 - Train F1 Score: 0.5312325105446585\n",
      "8/8 [==============================] - 4s 549ms/step - loss: 0.1007 - acc: 0.9709 - precision_1: 0.9738 - recall_1: 0.9562 - val_loss: 0.0939 - val_acc: 0.9730 - val_precision_1: 0.9761 - val_recall_1: 0.9587\n",
      "Epoch 20/20\n",
      "7/7 [==============================] - 0s 15ms/step\n",
      "29/29 [==============================] - 1s 17ms/step\n",
      "Val F1 Score: 0.5456410041463393 - Train F1 Score: 0.5498373414785415\n",
      "8/8 [==============================] - 4s 575ms/step - loss: 0.0977 - acc: 0.9715 - precision_1: 0.9751 - recall_1: 0.9563 - val_loss: 0.0911 - val_acc: 0.9737 - val_precision_1: 0.9775 - val_recall_1: 0.9592\n"
     ]
    }
   ],
   "source": [
    "gru_training = gru_model.fit(X_train, Y_train, batch_size=128, epochs=20, validation_data=(X_val, Y_val), callbacks=[gru_f1_callback])"
   ]
  },
  {
   "cell_type": "markdown",
   "id": "a48eaaaf",
   "metadata": {
    "papermill": {
     "duration": 0.096708,
     "end_time": "2024-03-10T12:46:22.587340",
     "exception": false,
     "start_time": "2024-03-10T12:46:22.490632",
     "status": "completed"
    },
    "tags": []
   },
   "source": [
    "Plotting Graph"
   ]
  },
  {
   "cell_type": "code",
   "execution_count": 35,
   "id": "de3a1e62",
   "metadata": {
    "execution": {
     "iopub.execute_input": "2024-03-10T12:46:22.782161Z",
     "iopub.status.busy": "2024-03-10T12:46:22.781445Z",
     "iopub.status.idle": "2024-03-10T12:46:23.422171Z",
     "shell.execute_reply": "2024-03-10T12:46:23.420853Z"
    },
    "papermill": {
     "duration": 0.742372,
     "end_time": "2024-03-10T12:46:23.424974",
     "exception": false,
     "start_time": "2024-03-10T12:46:22.682602",
     "status": "completed"
    },
    "tags": []
   },
   "outputs": [
    {
     "data": {
      "image/png": "[encoded data removed]",
      "text/plain": [
       "<Figure size 1600x500 with 2 Axes>"
      ]
     },
     "metadata": {},
     "output_type": "display_data"
    }
   ],
   "source": [
    "draw_loss_graph(gru_training,model_name, gru_f1_callback.train_f1_scores, gru_f1_callback.val_f1_scores)\n",
    "save_model(gru_model,model_name,Embedding_name,Dataset)"
   ]
  },
  {
   "cell_type": "markdown",
   "id": "6086b49e",
   "metadata": {
    "papermill": {
     "duration": 0.096367,
     "end_time": "2024-03-10T12:46:23.617988",
     "exception": false,
     "start_time": "2024-03-10T12:46:23.521621",
     "status": "completed"
    },
    "tags": []
   },
   "source": [
    "### Testing"
   ]
  },
  {
   "cell_type": "code",
   "execution_count": 36,
   "id": "5a6398e6",
   "metadata": {
    "execution": {
     "iopub.execute_input": "2024-03-10T12:46:23.814659Z",
     "iopub.status.busy": "2024-03-10T12:46:23.814249Z",
     "iopub.status.idle": "2024-03-10T12:46:24.248420Z",
     "shell.execute_reply": "2024-03-10T12:46:24.247177Z"
    },
    "papermill": {
     "duration": 0.537066,
     "end_time": "2024-03-10T12:46:24.251150",
     "exception": false,
     "start_time": "2024-03-10T12:46:23.714084",
     "status": "completed"
    },
    "tags": []
   },
   "outputs": [],
   "source": [
    "loaded_model = load_model(model_name,Embedding_name,Dataset)"
   ]
  },
  {
   "cell_type": "markdown",
   "id": "e8150e24",
   "metadata": {
    "papermill": {
     "duration": 0.096127,
     "end_time": "2024-03-10T12:46:24.444848",
     "exception": false,
     "start_time": "2024-03-10T12:46:24.348721",
     "status": "completed"
    },
    "tags": []
   },
   "source": [
    "Testing Accuracy"
   ]
  },
  {
   "cell_type": "code",
   "execution_count": 37,
   "id": "039cc4dd",
   "metadata": {
    "execution": {
     "iopub.execute_input": "2024-03-10T12:46:24.638656Z",
     "iopub.status.busy": "2024-03-10T12:46:24.637583Z",
     "iopub.status.idle": "2024-03-10T12:46:25.975793Z",
     "shell.execute_reply": "2024-03-10T12:46:25.974502Z"
    },
    "papermill": {
     "duration": 1.437706,
     "end_time": "2024-03-10T12:46:25.978220",
     "exception": false,
     "start_time": "2024-03-10T12:46:24.540514",
     "status": "completed"
    },
    "tags": []
   },
   "outputs": [
    {
     "name": "stdout",
     "output_type": "stream",
     "text": [
      "11/11 [==============================] - 1s 17ms/step - loss: 0.1027 - acc: 0.9699 - precision_1: 0.9734 - recall_1: 0.9554\n",
      "0.9699030518531799\n"
     ]
    }
   ],
   "source": [
    "accuracy = loaded_model.evaluate(X_test, Y_test, verbose = 1)\n",
    "print(accuracy[1])"
   ]
  },
  {
   "cell_type": "markdown",
   "id": "610960ec",
   "metadata": {
    "papermill": {
     "duration": 0.098802,
     "end_time": "2024-03-10T12:46:26.175172",
     "exception": false,
     "start_time": "2024-03-10T12:46:26.076370",
     "status": "completed"
    },
    "tags": []
   },
   "source": [
    "Testing F1 Score"
   ]
  },
  {
   "cell_type": "code",
   "execution_count": 38,
   "id": "4deb2ff9",
   "metadata": {
    "execution": {
     "iopub.execute_input": "2024-03-10T12:46:26.377348Z",
     "iopub.status.busy": "2024-03-10T12:46:26.376942Z",
     "iopub.status.idle": "2024-03-10T12:46:27.812831Z",
     "shell.execute_reply": "2024-03-10T12:46:27.811693Z"
    },
    "papermill": {
     "duration": 1.540766,
     "end_time": "2024-03-10T12:46:27.815782",
     "exception": false,
     "start_time": "2024-03-10T12:46:26.275016",
     "status": "completed"
    },
    "tags": []
   },
   "outputs": [
    {
     "name": "stdout",
     "output_type": "stream",
     "text": [
      "11/11 [==============================] - 1s 16ms/step\n",
      "Test F1 Score: 0.5304403644204023\n"
     ]
    }
   ],
   "source": [
    "Y_pred = loaded_model.predict(X_test)\n",
    "real = get_real(Y_test)\n",
    "pred = get_pred(Y_pred)\n",
    "\n",
    "true_labels_flat = [label for sublist in real for label in sublist]\n",
    "predicted_labels_flat = [label for sublist in pred for label in sublist]\n",
    "\n",
    "# Compute F1 score\n",
    "f1 = f1_score(true_labels_flat, predicted_labels_flat, average='macro')\n",
    "\n",
    "print(\"Test F1 Score:\", f1)"
   ]
  },
  {
   "cell_type": "markdown",
   "id": "c6aefd35",
   "metadata": {
    "papermill": {
     "duration": 0.101138,
     "end_time": "2024-03-10T12:46:28.017127",
     "exception": false,
     "start_time": "2024-03-10T12:46:27.915989",
     "status": "completed"
    },
    "tags": []
   },
   "source": [
    "## LSTM"
   ]
  },
  {
   "cell_type": "code",
   "execution_count": 39,
   "id": "7553c7fb",
   "metadata": {
    "execution": {
     "iopub.execute_input": "2024-03-10T12:46:28.220145Z",
     "iopub.status.busy": "2024-03-10T12:46:28.219699Z",
     "iopub.status.idle": "2024-03-10T12:46:28.224798Z",
     "shell.execute_reply": "2024-03-10T12:46:28.223713Z"
    },
    "papermill": {
     "duration": 0.10866,
     "end_time": "2024-03-10T12:46:28.227211",
     "exception": false,
     "start_time": "2024-03-10T12:46:28.118551",
     "status": "completed"
    },
    "tags": []
   },
   "outputs": [],
   "source": [
    "model_name=\"LSTM\""
   ]
  },
  {
   "cell_type": "markdown",
   "id": "78f5802b",
   "metadata": {
    "papermill": {
     "duration": 0.099799,
     "end_time": "2024-03-10T12:46:28.426666",
     "exception": false,
     "start_time": "2024-03-10T12:46:28.326867",
     "status": "completed"
    },
    "tags": []
   },
   "source": [
    "### Training"
   ]
  },
  {
   "cell_type": "code",
   "execution_count": 40,
   "id": "be0808da",
   "metadata": {
    "execution": {
     "iopub.execute_input": "2024-03-10T12:46:28.625618Z",
     "iopub.status.busy": "2024-03-10T12:46:28.625156Z",
     "iopub.status.idle": "2024-03-10T12:46:28.977297Z",
     "shell.execute_reply": "2024-03-10T12:46:28.976138Z"
    },
    "papermill": {
     "duration": 0.455049,
     "end_time": "2024-03-10T12:46:28.980233",
     "exception": false,
     "start_time": "2024-03-10T12:46:28.525184",
     "status": "completed"
    },
    "tags": []
   },
   "outputs": [],
   "source": [
    "lstm_model = Sequential()\n",
    "lstm_model.add(Embedding(input_dim = vocab_size,output_dim = 300,input_length  = max_len,weights = [weights],trainable = False))\n",
    "lstm_model.add(LSTM(128, return_sequences=True))\n",
    "lstm_model.add(TimeDistributed(Dense(Y_train.shape[2], activation='softmax')))# Lstm"
   ]
  },
  {
   "cell_type": "markdown",
   "id": "6a90b79a",
   "metadata": {
    "papermill": {
     "duration": 0.098462,
     "end_time": "2024-03-10T12:46:29.176863",
     "exception": false,
     "start_time": "2024-03-10T12:46:29.078401",
     "status": "completed"
    },
    "tags": []
   },
   "source": [
    "Compiling LSTM"
   ]
  },
  {
   "cell_type": "code",
   "execution_count": 41,
   "id": "6d74acdc",
   "metadata": {
    "execution": {
     "iopub.execute_input": "2024-03-10T12:46:29.378685Z",
     "iopub.status.busy": "2024-03-10T12:46:29.378260Z",
     "iopub.status.idle": "2024-03-10T12:46:29.398809Z",
     "shell.execute_reply": "2024-03-10T12:46:29.397732Z"
    },
    "papermill": {
     "duration": 0.124777,
     "end_time": "2024-03-10T12:46:29.401474",
     "exception": false,
     "start_time": "2024-03-10T12:46:29.276697",
     "status": "completed"
    },
    "tags": []
   },
   "outputs": [],
   "source": [
    "lstm_model.compile(loss='categorical_crossentropy',optimizer='adam',metrics=['acc',Precision(),Recall()])"
   ]
  },
  {
   "cell_type": "code",
   "execution_count": 42,
   "id": "612d2a9f",
   "metadata": {
    "execution": {
     "iopub.execute_input": "2024-03-10T12:46:29.598783Z",
     "iopub.status.busy": "2024-03-10T12:46:29.598340Z",
     "iopub.status.idle": "2024-03-10T12:46:29.603414Z",
     "shell.execute_reply": "2024-03-10T12:46:29.602288Z"
    },
    "papermill": {
     "duration": 0.106181,
     "end_time": "2024-03-10T12:46:29.605675",
     "exception": false,
     "start_time": "2024-03-10T12:46:29.499494",
     "status": "completed"
    },
    "tags": []
   },
   "outputs": [],
   "source": [
    "LSTM_f1_callback=F1ScoreCallback(val_data=(X_val, Y_val),data=(X_train, Y_train))"
   ]
  },
  {
   "cell_type": "code",
   "execution_count": 43,
   "id": "3147bb12",
   "metadata": {
    "execution": {
     "iopub.execute_input": "2024-03-10T12:46:29.804313Z",
     "iopub.status.busy": "2024-03-10T12:46:29.803897Z",
     "iopub.status.idle": "2024-03-10T12:46:29.827044Z",
     "shell.execute_reply": "2024-03-10T12:46:29.825796Z"
    },
    "papermill": {
     "duration": 0.128782,
     "end_time": "2024-03-10T12:46:29.831776",
     "exception": false,
     "start_time": "2024-03-10T12:46:29.702994",
     "status": "completed"
    },
    "tags": []
   },
   "outputs": [
    {
     "name": "stdout",
     "output_type": "stream",
     "text": [
      "Model: \"sequential_2\"\n",
      "_________________________________________________________________\n",
      " Layer (type)                Output Shape              Param #   \n",
      "=================================================================\n",
      " embedding_2 (Embedding)     (None, 78, 300)           721800    \n",
      "                                                                 \n",
      " lstm (LSTM)                 (None, 78, 128)           219648    \n",
      "                                                                 \n",
      " time_distributed_2 (TimeDi  (None, 78, 4)             516       \n",
      " stributed)                                                      \n",
      "                                                                 \n",
      "=================================================================\n",
      "Total params: 941964 (3.59 MB)\n",
      "Trainable params: 220164 (860.02 KB)\n",
      "Non-trainable params: 721800 (2.75 MB)\n",
      "_________________________________________________________________\n"
     ]
    }
   ],
   "source": [
    "lstm_model.summary()"
   ]
  },
  {
   "cell_type": "markdown",
   "id": "af32da96",
   "metadata": {
    "papermill": {
     "duration": 0.100534,
     "end_time": "2024-03-10T12:46:30.033028",
     "exception": false,
     "start_time": "2024-03-10T12:46:29.932494",
     "status": "completed"
    },
    "tags": []
   },
   "source": [
    "Fitting LSTM"
   ]
  },
  {
   "cell_type": "code",
   "execution_count": 44,
   "id": "25924eaf",
   "metadata": {
    "execution": {
     "iopub.execute_input": "2024-03-10T12:46:30.235259Z",
     "iopub.status.busy": "2024-03-10T12:46:30.234857Z",
     "iopub.status.idle": "2024-03-10T12:48:28.537291Z",
     "shell.execute_reply": "2024-03-10T12:48:28.536225Z"
    },
    "papermill": {
     "duration": 118.406988,
     "end_time": "2024-03-10T12:48:28.540029",
     "exception": false,
     "start_time": "2024-03-10T12:46:30.133041",
     "status": "completed"
    },
    "tags": []
   },
   "outputs": [
    {
     "name": "stdout",
     "output_type": "stream",
     "text": [
      "Epoch 1/20\n",
      "7/7 [==============================] - 1s 38ms/step\n",
      "29/29 [==============================] - 1s 38ms/step\n",
      "Val F1 Score: 0.4847162953932416 - Train F1 Score: 0.48416301350371205\n",
      "8/8 [==============================] - 9s 931ms/step - loss: 1.2904 - acc: 0.9411 - precision_2: 0.9352 - recall_2: 0.0290 - val_loss: 1.1078 - val_acc: 0.9723 - val_precision_2: 0.9140 - val_recall_2: 0.1636\n",
      "Epoch 2/20\n",
      "7/7 [==============================] - 0s 37ms/step\n",
      "29/29 [==============================] - 1s 38ms/step\n",
      "Val F1 Score: 0.43241098215075335 - Train F1 Score: 0.4313927622716043\n",
      "8/8 [==============================] - 6s 766ms/step - loss: 0.9402 - acc: 0.9582 - precision_2: 0.9039 - recall_2: 0.2818 - val_loss: 0.5724 - val_acc: 0.9045 - val_precision_2: 0.8827 - val_recall_2: 0.7126\n",
      "Epoch 3/20\n",
      "7/7 [==============================] - 0s 38ms/step\n",
      "29/29 [==============================] - 1s 37ms/step\n",
      "Val F1 Score: 0.46655761887225633 - Train F1 Score: 0.4662893418227575\n",
      "8/8 [==============================] - 6s 866ms/step - loss: 0.4823 - acc: 0.9336 - precision_2: 0.9239 - recall_2: 0.7945 - val_loss: 0.3496 - val_acc: 0.9458 - val_precision_2: 0.9411 - val_recall_2: 0.8556\n",
      "Epoch 4/20\n",
      "7/7 [==============================] - 0s 38ms/step\n",
      "29/29 [==============================] - 1s 38ms/step\n",
      "Val F1 Score: 0.48077483993760917 - Train F1 Score: 0.47956339109901885\n",
      "8/8 [==============================] - 6s 780ms/step - loss: 0.3287 - acc: 0.9466 - precision_2: 0.9427 - recall_2: 0.8651 - val_loss: 0.2831 - val_acc: 0.9665 - val_precision_2: 0.9654 - val_recall_2: 0.9012\n",
      "Epoch 5/20\n",
      "7/7 [==============================] - 0s 37ms/step\n",
      "29/29 [==============================] - 1s 38ms/step\n",
      "Val F1 Score: 0.4704571971936485 - Train F1 Score: 0.4693007395068782\n",
      "8/8 [==============================] - 6s 782ms/step - loss: 0.2647 - acc: 0.9565 - precision_2: 0.9551 - recall_2: 0.8916 - val_loss: 0.2414 - val_acc: 0.9508 - val_precision_2: 0.9497 - val_recall_2: 0.8982\n",
      "Epoch 6/20\n",
      "7/7 [==============================] - 0s 38ms/step\n",
      "29/29 [==============================] - 1s 39ms/step\n",
      "Val F1 Score: 0.4772820313196794 - Train F1 Score: 0.4762324967522644\n",
      "8/8 [==============================] - 6s 784ms/step - loss: 0.2308 - acc: 0.9559 - precision_2: 0.9555 - recall_2: 0.9032 - val_loss: 0.2092 - val_acc: 0.9608 - val_precision_2: 0.9621 - val_recall_2: 0.9087\n",
      "Epoch 7/20\n",
      "7/7 [==============================] - 0s 37ms/step\n",
      "29/29 [==============================] - 1s 38ms/step\n",
      "Val F1 Score: 0.47705877321510703 - Train F1 Score: 0.47633132994497174\n",
      "8/8 [==============================] - 6s 798ms/step - loss: 0.2074 - acc: 0.9602 - precision_2: 0.9606 - recall_2: 0.9079 - val_loss: 0.2136 - val_acc: 0.9611 - val_precision_2: 0.9643 - val_recall_2: 0.9063\n",
      "Epoch 8/20\n",
      "7/7 [==============================] - 0s 38ms/step\n",
      "29/29 [==============================] - 1s 39ms/step\n",
      "Val F1 Score: 0.4795976436515633 - Train F1 Score: 0.4785392772512396\n",
      "8/8 [==============================] - 6s 768ms/step - loss: 0.1991 - acc: 0.9603 - precision_2: 0.9605 - recall_2: 0.9188 - val_loss: 0.1830 - val_acc: 0.9649 - val_precision_2: 0.9658 - val_recall_2: 0.9251\n",
      "Epoch 9/20\n",
      "7/7 [==============================] - 0s 37ms/step\n",
      "29/29 [==============================] - 1s 39ms/step\n",
      "Val F1 Score: 0.4815125637587235 - Train F1 Score: 0.4803723010474655\n",
      "8/8 [==============================] - 6s 802ms/step - loss: 0.1856 - acc: 0.9628 - precision_2: 0.9630 - recall_2: 0.9235 - val_loss: 0.1746 - val_acc: 0.9677 - val_precision_2: 0.9672 - val_recall_2: 0.9283\n",
      "Epoch 10/20\n",
      "7/7 [==============================] - 0s 38ms/step\n",
      "29/29 [==============================] - 1s 38ms/step\n",
      "Val F1 Score: 0.4820833734447182 - Train F1 Score: 0.48084224811246445\n",
      "8/8 [==============================] - 6s 805ms/step - loss: 0.1750 - acc: 0.9645 - precision_2: 0.9640 - recall_2: 0.9253 - val_loss: 0.1658 - val_acc: 0.9684 - val_precision_2: 0.9675 - val_recall_2: 0.9293\n",
      "Epoch 11/20\n",
      "7/7 [==============================] - 0s 39ms/step\n",
      "29/29 [==============================] - 1s 37ms/step\n",
      "Val F1 Score: 0.48375529310754006 - Train F1 Score: 0.482634813120319\n",
      "8/8 [==============================] - 6s 784ms/step - loss: 0.1696 - acc: 0.9648 - precision_2: 0.9644 - recall_2: 0.9258 - val_loss: 0.1657 - val_acc: 0.9709 - val_precision_2: 0.9702 - val_recall_2: 0.9320\n",
      "Epoch 12/20\n",
      "7/7 [==============================] - 0s 37ms/step\n",
      "29/29 [==============================] - 1s 37ms/step\n",
      "Val F1 Score: 0.47822687082594706 - Train F1 Score: 0.4768628612543837\n",
      "8/8 [==============================] - 6s 765ms/step - loss: 0.1694 - acc: 0.9644 - precision_2: 0.9641 - recall_2: 0.9255 - val_loss: 0.1636 - val_acc: 0.9621 - val_precision_2: 0.9617 - val_recall_2: 0.9235\n",
      "Epoch 13/20\n",
      "7/7 [==============================] - 0s 38ms/step\n",
      "29/29 [==============================] - 1s 39ms/step\n",
      "Val F1 Score: 0.4812392289039028 - Train F1 Score: 0.48008984990530823\n",
      "8/8 [==============================] - 6s 775ms/step - loss: 0.1636 - acc: 0.9642 - precision_2: 0.9639 - recall_2: 0.9253 - val_loss: 0.1529 - val_acc: 0.9672 - val_precision_2: 0.9686 - val_recall_2: 0.9385\n",
      "Epoch 14/20\n",
      "7/7 [==============================] - 0s 37ms/step\n",
      "29/29 [==============================] - 1s 39ms/step\n",
      "Val F1 Score: 0.4837089216510828 - Train F1 Score: 0.48297219508502015\n",
      "8/8 [==============================] - 5s 758ms/step - loss: 0.1566 - acc: 0.9644 - precision_2: 0.9648 - recall_2: 0.9380 - val_loss: 0.1478 - val_acc: 0.9708 - val_precision_2: 0.9705 - val_recall_2: 0.9450\n",
      "Epoch 15/20\n",
      "7/7 [==============================] - 0s 42ms/step\n",
      "29/29 [==============================] - 1s 38ms/step\n",
      "Val F1 Score: 0.48234936358586283 - Train F1 Score: 0.48166144035819547\n",
      "8/8 [==============================] - 6s 827ms/step - loss: 0.1488 - acc: 0.9670 - precision_2: 0.9670 - recall_2: 0.9409 - val_loss: 0.1394 - val_acc: 0.9689 - val_precision_2: 0.9686 - val_recall_2: 0.9428\n",
      "Epoch 16/20\n",
      "7/7 [==============================] - 0s 38ms/step\n",
      "29/29 [==============================] - 1s 38ms/step\n",
      "Val F1 Score: 0.4835140327804342 - Train F1 Score: 0.48371686979006867\n",
      "8/8 [==============================] - 6s 786ms/step - loss: 0.1440 - acc: 0.9673 - precision_2: 0.9674 - recall_2: 0.9412 - val_loss: 0.1371 - val_acc: 0.9681 - val_precision_2: 0.9685 - val_recall_2: 0.9417\n",
      "Epoch 17/20\n",
      "7/7 [==============================] - 0s 44ms/step\n",
      "29/29 [==============================] - 1s 38ms/step\n",
      "Val F1 Score: 0.4912973382388537 - Train F1 Score: 0.48749936587867493\n",
      "8/8 [==============================] - 6s 837ms/step - loss: 0.1388 - acc: 0.9681 - precision_2: 0.9683 - recall_2: 0.9418 - val_loss: 0.1311 - val_acc: 0.9699 - val_precision_2: 0.9699 - val_recall_2: 0.9433\n",
      "Epoch 18/20\n",
      "7/7 [==============================] - 0s 39ms/step\n",
      "29/29 [==============================] - 1s 37ms/step\n",
      "Val F1 Score: 0.49285616496493634 - Train F1 Score: 0.49036959181316225\n",
      "8/8 [==============================] - 5s 752ms/step - loss: 0.1335 - acc: 0.9688 - precision_2: 0.9690 - recall_2: 0.9422 - val_loss: 0.1271 - val_acc: 0.9721 - val_precision_2: 0.9720 - val_recall_2: 0.9458\n",
      "Epoch 19/20\n",
      "7/7 [==============================] - 0s 40ms/step\n",
      "29/29 [==============================] - 1s 38ms/step\n",
      "Val F1 Score: 0.4920945433267942 - Train F1 Score: 0.4924969947738209\n",
      "8/8 [==============================] - 6s 800ms/step - loss: 0.1295 - acc: 0.9693 - precision_2: 0.9698 - recall_2: 0.9428 - val_loss: 0.1221 - val_acc: 0.9710 - val_precision_2: 0.9711 - val_recall_2: 0.9445\n",
      "Epoch 20/20\n",
      "7/7 [==============================] - 0s 39ms/step\n",
      "29/29 [==============================] - 1s 39ms/step\n",
      "Val F1 Score: 0.4944681116853866 - Train F1 Score: 0.500731193158136\n",
      "8/8 [==============================] - 6s 802ms/step - loss: 0.1250 - acc: 0.9693 - precision_2: 0.9697 - recall_2: 0.9428 - val_loss: 0.1200 - val_acc: 0.9723 - val_precision_2: 0.9727 - val_recall_2: 0.9459\n"
     ]
    }
   ],
   "source": [
    "lstm_training = lstm_model.fit(X_train, Y_train, batch_size=128, epochs=20, validation_data=(X_val, Y_val), callbacks=[LSTM_f1_callback])"
   ]
  },
  {
   "cell_type": "markdown",
   "id": "745582c3",
   "metadata": {
    "papermill": {
     "duration": 0.159188,
     "end_time": "2024-03-10T12:48:28.856165",
     "exception": false,
     "start_time": "2024-03-10T12:48:28.696977",
     "status": "completed"
    },
    "tags": []
   },
   "source": [
    "Plotting Graph"
   ]
  },
  {
   "cell_type": "code",
   "execution_count": 45,
   "id": "276388a3",
   "metadata": {
    "execution": {
     "iopub.execute_input": "2024-03-10T12:48:29.175123Z",
     "iopub.status.busy": "2024-03-10T12:48:29.174711Z",
     "iopub.status.idle": "2024-03-10T12:48:30.333401Z",
     "shell.execute_reply": "2024-03-10T12:48:30.332423Z"
    },
    "papermill": {
     "duration": 1.321101,
     "end_time": "2024-03-10T12:48:30.336020",
     "exception": false,
     "start_time": "2024-03-10T12:48:29.014919",
     "status": "completed"
    },
    "tags": []
   },
   "outputs": [
    {
     "data": {
      "image/png": "[encoded data removed]",
      "text/plain": [
       "<Figure size 1600x500 with 2 Axes>"
      ]
     },
     "metadata": {},
     "output_type": "display_data"
    }
   ],
   "source": [
    "draw_loss_graph(lstm_training, \"LSTM Model\", LSTM_f1_callback.train_f1_scores, LSTM_f1_callback.val_f1_scores)\n",
    "save_model(lstm_model, model_name, Embedding_name, Dataset)\n",
    "loaded_model = load_model(model_name,Embedding_name,Dataset)"
   ]
  },
  {
   "cell_type": "markdown",
   "id": "d44c0cb3",
   "metadata": {
    "papermill": {
     "duration": 0.157462,
     "end_time": "2024-03-10T12:48:30.651578",
     "exception": false,
     "start_time": "2024-03-10T12:48:30.494116",
     "status": "completed"
    },
    "tags": []
   },
   "source": [
    "### Testing"
   ]
  },
  {
   "cell_type": "code",
   "execution_count": 46,
   "id": "045b1ff8",
   "metadata": {
    "execution": {
     "iopub.execute_input": "2024-03-10T12:48:30.978954Z",
     "iopub.status.busy": "2024-03-10T12:48:30.978555Z",
     "iopub.status.idle": "2024-03-10T12:48:31.447331Z",
     "shell.execute_reply": "2024-03-10T12:48:31.445947Z"
    },
    "papermill": {
     "duration": 0.635446,
     "end_time": "2024-03-10T12:48:31.450040",
     "exception": false,
     "start_time": "2024-03-10T12:48:30.814594",
     "status": "completed"
    },
    "tags": []
   },
   "outputs": [],
   "source": [
    "loaded_model = load_model(model_name,Embedding_name,Dataset)"
   ]
  },
  {
   "cell_type": "markdown",
   "id": "241881c0",
   "metadata": {
    "papermill": {
     "duration": 0.160406,
     "end_time": "2024-03-10T12:48:31.874514",
     "exception": false,
     "start_time": "2024-03-10T12:48:31.714108",
     "status": "completed"
    },
    "tags": []
   },
   "source": [
    "Testing accuracy"
   ]
  },
  {
   "cell_type": "code",
   "execution_count": 47,
   "id": "dfe9b3a4",
   "metadata": {
    "execution": {
     "iopub.execute_input": "2024-03-10T12:48:32.195628Z",
     "iopub.status.busy": "2024-03-10T12:48:32.195172Z",
     "iopub.status.idle": "2024-03-10T12:48:33.718642Z",
     "shell.execute_reply": "2024-03-10T12:48:33.717610Z"
    },
    "papermill": {
     "duration": 1.68812,
     "end_time": "2024-03-10T12:48:33.720782",
     "exception": false,
     "start_time": "2024-03-10T12:48:32.032662",
     "status": "completed"
    },
    "tags": []
   },
   "outputs": [
    {
     "name": "stdout",
     "output_type": "stream",
     "text": [
      "11/11 [==============================] - 1s 36ms/step - loss: 0.1260 - acc: 0.9699 - precision_2: 0.9712 - recall_2: 0.9429\n",
      "0.9699421525001526\n"
     ]
    }
   ],
   "source": [
    "accuracy = loaded_model.evaluate(X_test, Y_test, verbose = 1)\n",
    "print(accuracy[1])"
   ]
  },
  {
   "cell_type": "markdown",
   "id": "36cadbe3",
   "metadata": {
    "papermill": {
     "duration": 0.159731,
     "end_time": "2024-03-10T12:48:34.040605",
     "exception": false,
     "start_time": "2024-03-10T12:48:33.880874",
     "status": "completed"
    },
    "tags": []
   },
   "source": [
    "Testing F1 Score"
   ]
  },
  {
   "cell_type": "code",
   "execution_count": 48,
   "id": "db4af1c1",
   "metadata": {
    "execution": {
     "iopub.execute_input": "2024-03-10T12:48:34.365881Z",
     "iopub.status.busy": "2024-03-10T12:48:34.365443Z",
     "iopub.status.idle": "2024-03-10T12:48:36.156307Z",
     "shell.execute_reply": "2024-03-10T12:48:36.155111Z"
    },
    "papermill": {
     "duration": 1.957223,
     "end_time": "2024-03-10T12:48:36.158861",
     "exception": false,
     "start_time": "2024-03-10T12:48:34.201638",
     "status": "completed"
    },
    "tags": []
   },
   "outputs": [
    {
     "name": "stdout",
     "output_type": "stream",
     "text": [
      "11/11 [==============================] - 1s 39ms/step\n",
      "Test F1 Score: 0.5031022062893152\n"
     ]
    }
   ],
   "source": [
    "Y_pred = loaded_model.predict(X_test)\n",
    "real = get_real(Y_test)\n",
    "pred = get_pred(Y_pred)\n",
    "\n",
    "true_labels_flat = [label for sublist in real for label in sublist]\n",
    "predicted_labels_flat = [label for sublist in pred for label in sublist]\n",
    "\n",
    "# Compute F1 score\n",
    "f1 = f1_score(true_labels_flat, predicted_labels_flat, average='macro')\n",
    "\n",
    "print(\"Test F1 Score:\", f1)"
   ]
  },
  {
   "cell_type": "markdown",
   "id": "7bce8fa5",
   "metadata": {
    "papermill": {
     "duration": 0.159859,
     "end_time": "2024-03-10T12:48:36.479349",
     "exception": false,
     "start_time": "2024-03-10T12:48:36.319490",
     "status": "completed"
    },
    "tags": []
   },
   "source": [
    "# BiLSTM"
   ]
  },
  {
   "cell_type": "code",
   "execution_count": 49,
   "id": "f1079dab",
   "metadata": {
    "execution": {
     "iopub.execute_input": "2024-03-10T12:48:36.800795Z",
     "iopub.status.busy": "2024-03-10T12:48:36.800332Z",
     "iopub.status.idle": "2024-03-10T12:48:36.805264Z",
     "shell.execute_reply": "2024-03-10T12:48:36.804230Z"
    },
    "papermill": {
     "duration": 0.16907,
     "end_time": "2024-03-10T12:48:36.807523",
     "exception": false,
     "start_time": "2024-03-10T12:48:36.638453",
     "status": "completed"
    },
    "tags": []
   },
   "outputs": [],
   "source": [
    "model_name=\"BiLSTM\""
   ]
  }
 ],
 "metadata": {
  "kaggle": {
   "accelerator": "none",
   "dataSources": [
    {
     "datasetId": 4563561,
     "sourceId": 7795189,
     "sourceType": "datasetVersion"
    }
   ],
   "dockerImageVersionId": 30664,
   "isGpuEnabled": false,
   "isInternetEnabled": true,
   "language": "python",
   "sourceType": "notebook"
  },
  "kernelspec": {
   "display_name": "Python 3",
   "language": "python",
   "name": "python3"
  },
  "language_info": {
   "codemirror_mode": {
    "name": "ipython",
    "version": 3
   },
   "file_extension": ".py",
   "mimetype": "text/x-python",
   "name": "python",
   "nbconvert_exporter": "python",
   "pygments_lexer": "ipython3",
   "version": "3.10.13"
  },
  "papermill": {
   "default_parameters": {},
   "duration": 434.450802,
   "end_time": "2024-03-10T12:48:40.293678",
   "environment_variables": {},
   "exception": null,
   "input_path": "__notebook__.ipynb",
   "output_path": "__notebook__.ipynb",
   "parameters": {},
   "start_time": "2024-03-10T12:41:25.842876",
   "version": "2.5.0"
  }
 },
 "nbformat": 4,
 "nbformat_minor": 5
}
