{
 "cells": [
  {
   "cell_type": "code",
   "execution_count": 1,
   "id": "c703800d",
   "metadata": {
    "execution": {
     "iopub.execute_input": "2024-03-11T16:54:04.934550Z",
     "iopub.status.busy": "2024-03-11T16:54:04.934077Z",
     "iopub.status.idle": "2024-03-11T16:54:24.491363Z",
     "shell.execute_reply": "2024-03-11T16:54:24.489739Z"
    },
    "papermill": {
     "duration": 19.585802,
     "end_time": "2024-03-11T16:54:24.494393",
     "exception": false,
     "start_time": "2024-03-11T16:54:04.908591",
     "status": "completed"
    },
    "tags": []
   },
   "outputs": [
    {
     "name": "stdout",
     "output_type": "stream",
     "text": [
      "Collecting keras==2.15.0\r\n",
      "  Downloading keras-2.15.0-py3-none-any.whl.metadata (2.4 kB)\r\n",
      "Downloading keras-2.15.0-py3-none-any.whl (1.7 MB)\r\n",
      "\u001b[2K   \u001b[90m━━━━━━━━━━━━━━━━━━━━━━━━━━━━━━━━━━━━━━━━\u001b[0m \u001b[32m1.7/1.7 MB\u001b[0m \u001b[31m17.1 MB/s\u001b[0m eta \u001b[36m0:00:00\u001b[0m\r\n",
      "\u001b[?25hInstalling collected packages: keras\r\n",
      "  Attempting uninstall: keras\r\n",
      "    Found existing installation: keras 3.0.5\r\n",
      "    Uninstalling keras-3.0.5:\r\n",
      "      Successfully uninstalled keras-3.0.5\r\n",
      "\u001b[31mERROR: pip's dependency resolver does not currently take into account all the packages that are installed. This behaviour is the source of the following dependency conflicts.\r\n",
      "tensorflow-decision-forests 1.8.1 requires wurlitzer, which is not installed.\u001b[0m\u001b[31m\r\n",
      "\u001b[0mSuccessfully installed keras-2.15.0\r\n"
     ]
    }
   ],
   "source": [
    "!pip install keras==2.15.0"
   ]
  },
  {
   "cell_type": "markdown",
   "id": "da15d80e",
   "metadata": {
    "papermill": {
     "duration": 0.02543,
     "end_time": "2024-03-11T16:54:24.545198",
     "exception": false,
     "start_time": "2024-03-11T16:54:24.519768",
     "status": "completed"
    },
    "tags": []
   },
   "source": [
    "# Run"
   ]
  },
  {
   "cell_type": "code",
   "execution_count": 2,
   "id": "0e6b990c",
   "metadata": {
    "execution": {
     "iopub.execute_input": "2024-03-11T16:54:24.595621Z",
     "iopub.status.busy": "2024-03-11T16:54:24.595233Z",
     "iopub.status.idle": "2024-03-11T16:55:07.169921Z",
     "shell.execute_reply": "2024-03-11T16:55:07.168680Z"
    },
    "papermill": {
     "duration": 42.603817,
     "end_time": "2024-03-11T16:55:07.172989",
     "exception": false,
     "start_time": "2024-03-11T16:54:24.569172",
     "status": "completed"
    },
    "tags": []
   },
   "outputs": [
    {
     "name": "stderr",
     "output_type": "stream",
     "text": [
      "2024-03-11 16:54:27.013458: E external/local_xla/xla/stream_executor/cuda/cuda_dnn.cc:9261] Unable to register cuDNN factory: Attempting to register factory for plugin cuDNN when one has already been registered\n",
      "2024-03-11 16:54:27.013587: E external/local_xla/xla/stream_executor/cuda/cuda_fft.cc:607] Unable to register cuFFT factory: Attempting to register factory for plugin cuFFT when one has already been registered\n",
      "2024-03-11 16:54:27.202169: E external/local_xla/xla/stream_executor/cuda/cuda_blas.cc:1515] Unable to register cuBLAS factory: Attempting to register factory for plugin cuBLAS when one has already been registered\n"
     ]
    }
   ],
   "source": [
    "import pickle\n",
    "import numpy as np\n",
    "import tensorflow as tf\n",
    "import json\n",
    "import matplotlib.pyplot as plt\n",
    "\n",
    "import fasttext\n",
    "import fasttext.util\n",
    "from keras.models import Model\n",
    "from keras.layers import Dropout,Input\n",
    "# from tensorflow_addons.layers import CRF\n",
    "from keras.layers import Dense\n",
    "from keras.layers import Embedding\n",
    "from keras.models import Sequential\n",
    "from keras.callbacks import Callback\n",
    "from keras.preprocessing.text import *\n",
    "from keras.utils import to_categorical\n",
    "from gensim.models import KeyedVectors\n",
    "from keras.layers import GRU, SimpleRNN, LSTM, Bidirectional\n",
    "from keras.layers import TimeDistributed\n",
    "from keras.metrics import F1Score, Precision, Recall\n",
    "from keras.preprocessing.sequence import pad_sequences\n",
    "from sklearn.metrics import f1_score\n",
    "# from tensorflow.keras.optimizers import AdamW\n",
    "# from tensorflow_addons.losses import SigmoidFocalCrossEntropy\n",
    "from sklearn.model_selection import GridSearchCV\n",
    "# from kerastuner.tuners import RandomSearch\n",
    "# from kerastuner.engine.hyperparameters import HyperParameters\n",
    "# from tensorflow.keras.optimizers import AdamW, Adam, RMSprop, SGD"
   ]
  },
  {
   "cell_type": "code",
   "execution_count": 3,
   "id": "0f2f4d26",
   "metadata": {
    "execution": {
     "iopub.execute_input": "2024-03-11T16:55:07.223608Z",
     "iopub.status.busy": "2024-03-11T16:55:07.222886Z",
     "iopub.status.idle": "2024-03-11T16:55:07.316561Z",
     "shell.execute_reply": "2024-03-11T16:55:07.315277Z"
    },
    "papermill": {
     "duration": 0.122252,
     "end_time": "2024-03-11T16:55:07.319415",
     "exception": false,
     "start_time": "2024-03-11T16:55:07.197163",
     "status": "completed"
    },
    "tags": []
   },
   "outputs": [
    {
     "name": "stdout",
     "output_type": "stream",
     "text": [
      "/kaggle/input/picklemodel/BiLSTM_fasttext_ATE.pkl\n",
      "/kaggle/input/picklemodel/BiLSTM_fasttext (1).pkl\n",
      "/kaggle/input/picklemodel/BiLSTM_word2vec.pkl\n",
      "/kaggle/input/picklemodel/RNN_glove.pkl\n",
      "/kaggle/input/nernlp3/BiLSTM_word2vec.pkl\n",
      "/kaggle/input/nernlp3/BiLSTM_fasttext.pkl\n",
      "/kaggle/input/nernlp3/Assignment2/WordEmbeddings/glove.840B.300d.pkl\n",
      "/kaggle/input/nernlp3/Assignment2/WordEmbeddings/Word2vec.bin\n",
      "/kaggle/input/nernlp3/Assignment2/WordEmbeddings/cc.en.300.bin\n",
      "/kaggle/input/nernlp3/Assignment2/Data/check.py\n",
      "/kaggle/input/nernlp3/Assignment2/Data/NER_TRAIN_JUDGEMENT.json\n",
      "/kaggle/input/nernlp3/Assignment2/Data/Laptop_Review_Val.json\n",
      "/kaggle/input/nernlp3/Assignment2/Data/bio.ipynb\n",
      "/kaggle/input/nernlp3/Assignment2/Data/Laptop_Review_Train.json\n",
      "/kaggle/input/nernlp3/Assignment2/Data/bio1.py\n",
      "/kaggle/input/nernlp3/Assignment2/Data/NER_TEST_JUDGEMENT.json\n",
      "/kaggle/input/nernlp3/Assignment2/Data/Laptop_Review_Test.json\n",
      "/kaggle/input/nernlp3/Assignment2/Data/processed/NER_test.json\n",
      "/kaggle/input/nernlp3/Assignment2/Data/processed/ATE_test.json\n",
      "/kaggle/input/nernlp3/Assignment2/Data/processed/NER_train.json\n",
      "/kaggle/input/nernlp3/Assignment2/Data/processed/ATE_train.json\n",
      "/kaggle/input/nernlp3/Assignment2/Data/processed/NER_val.json\n",
      "/kaggle/input/nernlp3/Assignment2/Data/processed/ATE_val.json\n"
     ]
    }
   ],
   "source": [
    "# This Python 3 environment comes with many helpful analytics libraries installed\n",
    "# It is defined by the kaggle/python Docker image: https://github.com/kaggle/docker-python\n",
    "# For example, here's several helpful packages to load\n",
    "\n",
    "# Input data files are available in the read-only \"../input/\" directory\n",
    "# For example, running this (by clicking run or pressing Shift+Enter) will list all files under the input directory\n",
    "\n",
    "import os\n",
    "for dirname, _, filenames in os.walk('/kaggle/input'):\n",
    "    for filename in filenames:\n",
    "        print(os.path.join(dirname, filename))\n",
    "\n",
    "Embedding_name=\"glove\"\n",
    "Dataset=\"ATE\"     \n",
    "PATH='/kaggle/input/nernlp3/Assignment2/'\n",
    "OUTPATH='/kaggle/working/'\n",
    "\n",
    "# You can write up to 20GB to the current directory (/kaggle/working/) that gets preserved as output when you create a version using \"Save & Run All\" \n",
    "# You can also write temporary files to /kaggle/temp/, but they won't be saved outside of the current session"
   ]
  },
  {
   "cell_type": "code",
   "execution_count": 4,
   "id": "ac2507bd",
   "metadata": {
    "execution": {
     "iopub.execute_input": "2024-03-11T16:55:07.370607Z",
     "iopub.status.busy": "2024-03-11T16:55:07.370196Z",
     "iopub.status.idle": "2024-03-11T16:55:11.780887Z",
     "shell.execute_reply": "2024-03-11T16:55:11.779149Z"
    },
    "papermill": {
     "duration": 4.440216,
     "end_time": "2024-03-11T16:55:11.783998",
     "exception": false,
     "start_time": "2024-03-11T16:55:07.343782",
     "status": "completed"
    },
    "tags": []
   },
   "outputs": [
    {
     "name": "stderr",
     "output_type": "stream",
     "text": [
      "/opt/conda/lib/python3.10/pty.py:89: RuntimeWarning: os.fork() was called. os.fork() is incompatible with multithreaded code, and JAX is multithreaded, so this will likely lead to a deadlock.\n",
      "  pid, fd = os.forkpty()\n"
     ]
    }
   ],
   "source": [
    "! mkdir Saved_Models\n",
    "! mkdir Saved_Models/ATE\n",
    "! mkdir Saved_Models/NER\n",
    "! mkdir Graphs"
   ]
  },
  {
   "cell_type": "code",
   "execution_count": 5,
   "id": "bd70c7ac",
   "metadata": {
    "execution": {
     "iopub.execute_input": "2024-03-11T16:55:11.836100Z",
     "iopub.status.busy": "2024-03-11T16:55:11.835649Z",
     "iopub.status.idle": "2024-03-11T16:55:11.887407Z",
     "shell.execute_reply": "2024-03-11T16:55:11.886203Z"
    },
    "papermill": {
     "duration": 0.081898,
     "end_time": "2024-03-11T16:55:11.890279",
     "exception": false,
     "start_time": "2024-03-11T16:55:11.808381",
     "status": "completed"
    },
    "tags": []
   },
   "outputs": [],
   "source": [
    "def checking(a):\n",
    "    print(\"Hello World\",a)\n",
    "\n",
    "def new_checking(a):\n",
    "    print(\"Hello World\",a)\n",
    "\n",
    "def create_train_test_val(file):\n",
    "    lst_out_text=[]\n",
    "    lst_out_labels=[]\n",
    "    for i in file.values():\n",
    "        sentence = i['text']\n",
    "        sentence = sentence.lower()\n",
    "        labels = i['labels']\n",
    "        lst_out_text.append(sentence)\n",
    "        lst_out_labels.append(labels)\n",
    "    return lst_out_text,lst_out_labels    \n",
    "\n",
    "def TokenCreator(sentences,val,tokenizer=None):\n",
    "    \n",
    "    temp_wordlist = None\n",
    "    tokenizer2=None\n",
    "    if(tokenizer == None):\n",
    "        if val==1:\n",
    "            tokenizer2 = Tokenizer(oov_token=\"#UK\",filters='')\n",
    "        else:\n",
    "            tokenizer2=Tokenizer()\n",
    "        tokenizer2.fit_on_texts(sentences)\n",
    "        \n",
    "        temp_wordlist = tokenizer2.texts_to_sequences(sentences)\n",
    "        return (temp_wordlist,tokenizer2)\n",
    "    \n",
    "    else:\n",
    "        temp_wordlist = tokenizer.texts_to_sequences(sentences)\n",
    "        return temp_wordlist\n",
    "    \n",
    "def find_vocab(dataset):\n",
    "    lst=[]\n",
    "    lst.append(\"#UK\")\n",
    "    for i in dataset:\n",
    "        for j in i:\n",
    "            lst.append(j)\n",
    "    st = set(lst)\n",
    "    return st\n",
    "\n",
    "'''\n",
    "--------------------------------------GRAPHS--------------------------------------\n",
    "'''\n",
    "\n",
    "def draw_loss_graph(model,model_name,f1_scores_train,f1_scores_val):\n",
    "    train_loss = model.history['loss']\n",
    "    val_loss = model.history['val_loss']\n",
    "    x = [i+1 for i in range(len(train_loss))]\n",
    "    train_y = train_loss\n",
    "    val_y = val_loss\n",
    "    \n",
    "    fig, axes = plt.subplots(1,2,figsize = (16,5))\n",
    "    # plt.subplots(axes = (2,1))\n",
    "    axes[0].plot(x,train_y, color = 'blue')  \n",
    "    \n",
    "    axes[0].plot(x,val_y, color = 'red') \n",
    "    axes[0].set_title('Loss over Epochs')\n",
    "    axes[0].set_xlabel('Epoch')\n",
    "    axes[0].set_ylabel('Loss')\n",
    "\n",
    "    axes[1].plot(x,f1_scores_train, color = 'blue')\n",
    "    axes[1].plot(x,f1_scores_val, color = 'red')\n",
    "    axes[1].set_title('F1 Score vs Epoch')\n",
    "    axes[1].set_xlabel('Epochs')\n",
    "    axes[1].set_ylabel('F1 Score')\n",
    "\n",
    "    axes[0].legend(['Train','Val'])\n",
    "    axes[1].legend(['Train','Val'])\n",
    "    \n",
    "    plt.suptitle(model_name)\n",
    "\n",
    "    \n",
    "    plt.show()\n",
    "    \n",
    "'''\n",
    "--------------------------------------MODELS--------------------------------------\n",
    "'''\n",
    "\n",
    "def save_model(model,model_name, embedding, dataset):\n",
    "    model.save_weights(f'{OUTPATH}Saved_Models/{dataset}/{model_name}_{embedding}.h5')\n",
    "    with open(f'{OUTPATH}Saved_Models/{dataset}/{model_name}_{embedding}.pkl', 'wb') as file:\n",
    "        pickle.dump(model.get_weights(), file)\n",
    "\n",
    "def load_model(model_name, embedding, dataset):\n",
    "    with open(f'{OUTPATH}Saved_Models/{dataset}/{model_name}_{embedding}.pkl', 'rb') as file:\n",
    "        loaded_model = pickle.load(file)\n",
    "    \n",
    "    return loaded_model\n",
    "\n",
    "'''\n",
    "--------------------------------------CALLBACKS--------------------------------------\n",
    "'''\n",
    "\n",
    "class F1ScoreCallback(Callback):\n",
    "\n",
    "    def __init__(self, val_data, data):\n",
    "        super(F1ScoreCallback, self).__init__()\n",
    "        self.val_data = val_data\n",
    "        self.data=data\n",
    "        self.val_f1_scores = [] \n",
    "        self.train_f1_scores = []\n",
    "\n",
    "    \n",
    "\n",
    "    def on_epoch_end(self, epoch, logs=None):\n",
    "        x_val, y_val = self.val_data\n",
    "        x_data, y_data = self.data\n",
    "        y_pred_val = self.model.predict(x_val)\n",
    "        y_pred_train = self.model.predict(x_data)\n",
    "\n",
    "        def scikitf1(pred,real):\n",
    "\n",
    "            true_labels_flat = [label for sublist in real for label in sublist]\n",
    "            predicted_labels_flat = [label for sublist in pred for label in sublist]\n",
    "            # Compute F1 score\n",
    "            f1 = f1_score(true_labels_flat, predicted_labels_flat, average='macro')\n",
    "            return f1\n",
    "        def get_pred(Y_padded_output):\n",
    "                # print(Y_padded_output.shape)\n",
    "                final_output=[]\n",
    "                for i in range(Y_padded_output.shape[0]):\n",
    "                    output=[]\n",
    "                    for j in range(Y_padded_output.shape[1]):\n",
    "                        max_value=-1\n",
    "                        maxIndex=-1\n",
    "                        for k in range(Y_padded_output.shape[2]):\n",
    "                            if Y_padded_output[i][j][k]>max_value:\n",
    "                                maxIndex=k\n",
    "                                max_value=max(max_value,Y_padded_output[i][j][k])\n",
    "                        output.append(maxIndex)\n",
    "                    final_output.append(output)\n",
    "                return final_output\n",
    "\n",
    "        def get_real(Y_padded_test):\n",
    "            # print(Y_padded_test.shape)\n",
    "            final_Y=[]\n",
    "            for i in range(Y_padded_test.shape[0]):\n",
    "                output=[]\n",
    "                for j in range(Y_padded_test.shape[1]):\n",
    "                    max_value=-1\n",
    "                    maxIndex=-1\n",
    "                    for k in range(Y_padded_test.shape[2]):\n",
    "                        if Y_padded_test[i][j][k]>max_value:\n",
    "                            maxIndex=k\n",
    "                            max_value=max(max_value,Y_padded_test[i][j][k])\n",
    "                    output.append(maxIndex)\n",
    "                final_Y.append(output)\n",
    "            return final_Y\n",
    "        \n",
    "        # print(\"here\")\n",
    "        pred_train=get_pred(y_pred_train)\n",
    "        # print(pred_train)\n",
    "        real_train=get_real(y_data)\n",
    "        # print(real_train)\n",
    "\n",
    "        pred_val=get_pred(y_pred_val)\n",
    "        real_val=get_real(y_val)\n",
    "\n",
    "        f1_train = scikitf1(pred_train,real_train)\n",
    "        f1_val = scikitf1(pred_val,real_val)\n",
    "\n",
    "        self.val_f1_scores.append(f1_val)\n",
    "        self.train_f1_scores.append(f1_train)\n",
    "        print(f'Val F1 Score: {f1_val} - Train F1 Score: {f1_train}')\n",
    "\n",
    "\n",
    "\n",
    "#---------Prediction Functions----------------------------------------------\n",
    "def get_pred(Y_padded_output):\n",
    "    final_output=[]\n",
    "    for i in range(Y_padded_output.shape[0]):\n",
    "        output=[]\n",
    "        for j in range(Y_padded_output.shape[1]):\n",
    "            max_value=-1\n",
    "            maxIndex=-1\n",
    "            for k in range(Y_padded_output.shape[2]):\n",
    "                if Y_padded_output[i][j][k]>max_value:\n",
    "                    maxIndex=k\n",
    "                    max_value=max(max_value,Y_padded_output[i][j][k])\n",
    "            output.append(maxIndex)\n",
    "        final_output.append(output)\n",
    "    return final_output\n",
    "\n",
    "def get_real(Y_padded_test):\n",
    "    final_Y=[]\n",
    "    for i in range(Y_padded_test.shape[0]):\n",
    "        output=[]\n",
    "        for j in range(Y_padded_test.shape[1]):\n",
    "            max_value=-1\n",
    "            maxIndex=-1\n",
    "            for k in range(Y_padded_test.shape[2]):\n",
    "                if Y_padded_test[i][j][k]>max_value:\n",
    "                    maxIndex=k\n",
    "                    max_value=max(max_value,Y_padded_test[i][j][k])\n",
    "            output.append(maxIndex)\n",
    "        final_Y.append(output)\n",
    "    return final_Y\n",
    "\n",
    "def my_f1(y_true, y_pred):\n",
    "    \n",
    "    # predictions = get_pred(y_pred)\n",
    "    # real = get_real(y_true)\n",
    "\n",
    "    predictions = y_pred\n",
    "    real = y_true\n",
    "\n",
    "    size=len(predictions)\n",
    "\n",
    "    unique_labels= set()\n",
    "\n",
    "    for labels in real:\n",
    "        unique_labels.update(labels)\n",
    "\n",
    "    for labels in predictions:\n",
    "        unique_labels.update(labels)\n",
    "\n",
    "    labels_f1=[]\n",
    "\n",
    "    for labels in unique_labels:\n",
    "        tp=0\n",
    "        fp=0\n",
    "        fn=0\n",
    "\n",
    "        for i in range(size):\n",
    "            l=[]\n",
    "                    \n",
    "            tp+=sum((p==labels and r==labels) for p,r in zip(predictions[i],real[i]))\n",
    "            fp+=sum((p==labels and r!=labels) for p,r in zip(predictions[i],real[i]))\n",
    "            fn+=sum((p!=labels and r==labels) for p,r in zip(predictions[i],real[i]))\n",
    "\n",
    "        \n",
    "        precision = tp/(tp+fp) if tp+fp>0 else 0\n",
    "        recall = tp/(tp+fn) if tp+fn>0 else 0\n",
    "\n",
    "        f1=2*((precision*recall)/(precision+recall)) if precision+recall>0 else 0\n",
    "\n",
    "        labels_f1.append(f1)\n",
    "        print(f1,unique_labels)\n",
    "    macro_f1 = sum(labels_f1)/len(unique_labels)\n",
    "    return macro_f1\n",
    "\n",
    "def scikitf1(pred,real):\n",
    "\n",
    "    true_labels_flat = [label for sublist in real for label in sublist]\n",
    "    predicted_labels_flat = [label for sublist in pred for label in sublist]\n",
    "    # Compute F1 score\n",
    "    f1 = f1_score(true_labels_flat, predicted_labels_flat, average='macro')\n",
    "    return f1"
   ]
  },
  {
   "cell_type": "code",
   "execution_count": null,
   "id": "1fa82949",
   "metadata": {
    "papermill": {
     "duration": 0.023913,
     "end_time": "2024-03-11T16:55:11.938837",
     "exception": false,
     "start_time": "2024-03-11T16:55:11.914924",
     "status": "completed"
    },
    "tags": []
   },
   "outputs": [],
   "source": []
  },
  {
   "cell_type": "code",
   "execution_count": null,
   "id": "e1a397b4",
   "metadata": {
    "papermill": {
     "duration": 0.025234,
     "end_time": "2024-03-11T16:55:11.989072",
     "exception": false,
     "start_time": "2024-03-11T16:55:11.963838",
     "status": "completed"
    },
    "tags": []
   },
   "outputs": [],
   "source": []
  },
  {
   "cell_type": "code",
   "execution_count": 6,
   "id": "7a839688",
   "metadata": {
    "execution": {
     "iopub.execute_input": "2024-03-11T16:55:12.041313Z",
     "iopub.status.busy": "2024-03-11T16:55:12.040617Z",
     "iopub.status.idle": "2024-03-11T16:55:12.047177Z",
     "shell.execute_reply": "2024-03-11T16:55:12.045858Z"
    },
    "papermill": {
     "duration": 0.035855,
     "end_time": "2024-03-11T16:55:12.049806",
     "exception": false,
     "start_time": "2024-03-11T16:55:12.013951",
     "status": "completed"
    },
    "tags": []
   },
   "outputs": [],
   "source": [
    "seed_value = 40\n",
    "np.random.seed(seed_value)\n",
    "tf.random.set_seed(seed_value)"
   ]
  },
  {
   "cell_type": "code",
   "execution_count": 7,
   "id": "9a1adf23",
   "metadata": {
    "execution": {
     "iopub.execute_input": "2024-03-11T16:55:12.102242Z",
     "iopub.status.busy": "2024-03-11T16:55:12.101845Z",
     "iopub.status.idle": "2024-03-11T16:56:09.862370Z",
     "shell.execute_reply": "2024-03-11T16:56:09.861035Z"
    },
    "papermill": {
     "duration": 57.791455,
     "end_time": "2024-03-11T16:56:09.865607",
     "exception": false,
     "start_time": "2024-03-11T16:55:12.074152",
     "status": "completed"
    },
    "tags": []
   },
   "outputs": [],
   "source": [
    "if Embedding_name==\"word2vec\":\n",
    "    emb = KeyedVectors.load_word2vec_format(f'{PATH}WordEmbeddings/Word2vec.bin',binary=True)\n",
    "\n",
    "if Embedding_name==\"glove\":\n",
    "    with open(f'{PATH}WordEmbeddings/glove.840B.300d.pkl', 'rb') as fp:\n",
    "        emb = pickle.load(fp)\n",
    "if Embedding_name==\"fasttext\":\n",
    "    emb = fasttext.load_model(f'{PATH}WordEmbeddings/cc.en.300.bin')"
   ]
  },
  {
   "cell_type": "markdown",
   "id": "c5992c5c",
   "metadata": {
    "papermill": {
     "duration": 0.02414,
     "end_time": "2024-03-11T16:56:09.915484",
     "exception": false,
     "start_time": "2024-03-11T16:56:09.891344",
     "status": "completed"
    },
    "tags": []
   },
   "source": [
    "# Data Extraction and Preprocessing"
   ]
  },
  {
   "cell_type": "markdown",
   "id": "acc1e80a",
   "metadata": {
    "papermill": {
     "duration": 0.024564,
     "end_time": "2024-03-11T16:56:09.964477",
     "exception": false,
     "start_time": "2024-03-11T16:56:09.939913",
     "status": "completed"
    },
    "tags": []
   },
   "source": [
    "Reading ATE json files"
   ]
  },
  {
   "cell_type": "code",
   "execution_count": 8,
   "id": "7dd634ec",
   "metadata": {
    "execution": {
     "iopub.execute_input": "2024-03-11T16:56:10.015509Z",
     "iopub.status.busy": "2024-03-11T16:56:10.015085Z",
     "iopub.status.idle": "2024-03-11T16:56:10.041528Z",
     "shell.execute_reply": "2024-03-11T16:56:10.040268Z"
    },
    "papermill": {
     "duration": 0.055931,
     "end_time": "2024-03-11T16:56:10.044695",
     "exception": false,
     "start_time": "2024-03-11T16:56:09.988764",
     "status": "completed"
    },
    "tags": []
   },
   "outputs": [],
   "source": [
    "\n",
    "train = None\n",
    "test = None\n",
    "val = None\n",
    "with open(f\"{PATH}Data/processed/{Dataset}_train.json\") as f1:\n",
    "    train = json.load(f1)\n",
    "\n",
    "with open(f\"{PATH}Data/processed/{Dataset}_test.json\") as f2:\n",
    "    test = json.load(f2)\n",
    "\n",
    "with open(f\"{PATH}Data/processed/{Dataset}_val.json\") as f3:\n",
    "    val = json.load(f3)\n",
    "\n"
   ]
  },
  {
   "cell_type": "markdown",
   "id": "096f20c1",
   "metadata": {
    "papermill": {
     "duration": 0.023994,
     "end_time": "2024-03-11T16:56:10.097717",
     "exception": false,
     "start_time": "2024-03-11T16:56:10.073723",
     "status": "completed"
    },
    "tags": []
   },
   "source": [
    "processing into lists"
   ]
  },
  {
   "cell_type": "code",
   "execution_count": 9,
   "id": "c6e6d28e",
   "metadata": {
    "execution": {
     "iopub.execute_input": "2024-03-11T16:56:10.150574Z",
     "iopub.status.busy": "2024-03-11T16:56:10.150154Z",
     "iopub.status.idle": "2024-03-11T16:56:10.157118Z",
     "shell.execute_reply": "2024-03-11T16:56:10.155744Z"
    },
    "papermill": {
     "duration": 0.037504,
     "end_time": "2024-03-11T16:56:10.159624",
     "exception": false,
     "start_time": "2024-03-11T16:56:10.122120",
     "status": "completed"
    },
    "tags": []
   },
   "outputs": [],
   "source": [
    "X_train,Y_train = create_train_test_val(train)\n",
    "X_test,Y_test = create_train_test_val(test)\n",
    "X_val,Y_val = create_train_test_val(val)"
   ]
  },
  {
   "cell_type": "markdown",
   "id": "6ad4d64d",
   "metadata": {
    "papermill": {
     "duration": 0.023965,
     "end_time": "2024-03-11T16:56:10.208212",
     "exception": false,
     "start_time": "2024-03-11T16:56:10.184247",
     "status": "completed"
    },
    "tags": []
   },
   "source": [
    "Tokenizing the ATE Dataset"
   ]
  },
  {
   "cell_type": "code",
   "execution_count": 10,
   "id": "09fcf290",
   "metadata": {
    "execution": {
     "iopub.execute_input": "2024-03-11T16:56:10.258330Z",
     "iopub.status.busy": "2024-03-11T16:56:10.257901Z",
     "iopub.status.idle": "2024-03-11T16:56:10.342155Z",
     "shell.execute_reply": "2024-03-11T16:56:10.340662Z"
    },
    "papermill": {
     "duration": 0.113336,
     "end_time": "2024-03-11T16:56:10.345640",
     "exception": false,
     "start_time": "2024-03-11T16:56:10.232304",
     "status": "completed"
    },
    "tags": []
   },
   "outputs": [],
   "source": [
    "X_train_tokenized, toke = TokenCreator(X_train,1)\n",
    "X_test_tokenized = TokenCreator(X_test,0,tokenizer = toke)\n",
    "X_val_tokenized = TokenCreator(X_val,0,tokenizer = toke)\n",
    "\n",
    "Y_train_tokenized,toke2 = TokenCreator(Y_train,0)\n",
    "Y_test_tokenized = TokenCreator(Y_test,0,tokenizer = toke2)\n",
    "Y_val_tokenized = TokenCreator(Y_val,0,tokenizer = toke2)"
   ]
  },
  {
   "cell_type": "markdown",
   "id": "21a268f0",
   "metadata": {
    "papermill": {
     "duration": 0.023807,
     "end_time": "2024-03-11T16:56:10.393922",
     "exception": false,
     "start_time": "2024-03-11T16:56:10.370115",
     "status": "completed"
    },
    "tags": []
   },
   "source": [
    "Vocabulary of ATE"
   ]
  },
  {
   "cell_type": "code",
   "execution_count": 11,
   "id": "37bd2bec",
   "metadata": {
    "execution": {
     "iopub.execute_input": "2024-03-11T16:56:10.506540Z",
     "iopub.status.busy": "2024-03-11T16:56:10.506116Z",
     "iopub.status.idle": "2024-03-11T16:56:10.518376Z",
     "shell.execute_reply": "2024-03-11T16:56:10.517207Z"
    },
    "papermill": {
     "duration": 0.040608,
     "end_time": "2024-03-11T16:56:10.520761",
     "exception": false,
     "start_time": "2024-03-11T16:56:10.480153",
     "status": "completed"
    },
    "tags": []
   },
   "outputs": [
    {
     "data": {
      "text/plain": [
       "2406"
      ]
     },
     "execution_count": 11,
     "metadata": {},
     "output_type": "execute_result"
    }
   ],
   "source": [
    "st1 = find_vocab(X_train_tokenized)\n",
    "vocab_size  = len(st1) + 1 \n",
    "vocab_size"
   ]
  },
  {
   "cell_type": "code",
   "execution_count": 12,
   "id": "0782160c",
   "metadata": {
    "execution": {
     "iopub.execute_input": "2024-03-11T16:56:10.573292Z",
     "iopub.status.busy": "2024-03-11T16:56:10.572884Z",
     "iopub.status.idle": "2024-03-11T16:56:10.580624Z",
     "shell.execute_reply": "2024-03-11T16:56:10.579500Z"
    },
    "papermill": {
     "duration": 0.03689,
     "end_time": "2024-03-11T16:56:10.583113",
     "exception": false,
     "start_time": "2024-03-11T16:56:10.546223",
     "status": "completed"
    },
    "tags": []
   },
   "outputs": [
    {
     "data": {
      "text/plain": [
       "78"
      ]
     },
     "execution_count": 12,
     "metadata": {},
     "output_type": "execute_result"
    }
   ],
   "source": [
    "max_len=0\n",
    "\n",
    "for i in X_train_tokenized:\n",
    "    max_len = max(max_len,len(i))\n",
    "\n",
    "max_len"
   ]
  },
  {
   "cell_type": "markdown",
   "id": "56da161a",
   "metadata": {
    "papermill": {
     "duration": 0.024238,
     "end_time": "2024-03-11T16:56:10.631851",
     "exception": false,
     "start_time": "2024-03-11T16:56:10.607613",
     "status": "completed"
    },
    "tags": []
   },
   "source": [
    "Padding ATE"
   ]
  },
  {
   "cell_type": "code",
   "execution_count": 13,
   "id": "479e60bb",
   "metadata": {
    "execution": {
     "iopub.execute_input": "2024-03-11T16:56:10.682681Z",
     "iopub.status.busy": "2024-03-11T16:56:10.682314Z",
     "iopub.status.idle": "2024-03-11T16:56:10.709103Z",
     "shell.execute_reply": "2024-03-11T16:56:10.707860Z"
    },
    "papermill": {
     "duration": 0.05571,
     "end_time": "2024-03-11T16:56:10.712054",
     "exception": false,
     "start_time": "2024-03-11T16:56:10.656344",
     "status": "completed"
    },
    "tags": []
   },
   "outputs": [],
   "source": [
    "X_padded_train = pad_sequences(X_train_tokenized, maxlen=max_len, padding=\"pre\", truncating=\"post\")\n",
    "Y_padded_train = pad_sequences(Y_train_tokenized, maxlen=max_len, padding=\"pre\", truncating=\"post\")\n",
    "\n",
    "X_padded_test = pad_sequences(X_test_tokenized, maxlen=max_len, padding=\"pre\", truncating=\"post\")\n",
    "Y_padded_test = pad_sequences(Y_test_tokenized, maxlen=max_len, padding=\"pre\", truncating=\"post\")\n",
    "\n",
    "X_padded_val = pad_sequences(X_val_tokenized, maxlen=max_len, padding=\"pre\", truncating=\"post\")\n",
    "Y_padded_val = pad_sequences(Y_val_tokenized, maxlen=max_len, padding=\"pre\", truncating=\"post\")       "
   ]
  },
  {
   "cell_type": "markdown",
   "id": "3a00fea2",
   "metadata": {
    "papermill": {
     "duration": 0.025647,
     "end_time": "2024-03-11T16:56:10.763412",
     "exception": false,
     "start_time": "2024-03-11T16:56:10.737765",
     "status": "completed"
    },
    "tags": []
   },
   "source": [
    "One hot encoding the ATE labels"
   ]
  },
  {
   "cell_type": "code",
   "execution_count": 14,
   "id": "b456890e",
   "metadata": {
    "execution": {
     "iopub.execute_input": "2024-03-11T16:56:10.814712Z",
     "iopub.status.busy": "2024-03-11T16:56:10.814309Z",
     "iopub.status.idle": "2024-03-11T16:56:10.824968Z",
     "shell.execute_reply": "2024-03-11T16:56:10.823899Z"
    },
    "papermill": {
     "duration": 0.039671,
     "end_time": "2024-03-11T16:56:10.827819",
     "exception": false,
     "start_time": "2024-03-11T16:56:10.788148",
     "status": "completed"
    },
    "tags": []
   },
   "outputs": [],
   "source": [
    "Y_padded_train = to_categorical(Y_padded_train)\n",
    "Y_padded_test = to_categorical(Y_padded_test)\n",
    "Y_padded_val = to_categorical(Y_padded_val)"
   ]
  },
  {
   "cell_type": "markdown",
   "id": "c399e023",
   "metadata": {
    "papermill": {
     "duration": 0.024198,
     "end_time": "2024-03-11T16:56:10.876722",
     "exception": false,
     "start_time": "2024-03-11T16:56:10.852524",
     "status": "completed"
    },
    "tags": []
   },
   "source": [
    "Assigning **ATE Word2Vec** mapping"
   ]
  },
  {
   "cell_type": "code",
   "execution_count": 15,
   "id": "2f22dc31",
   "metadata": {
    "execution": {
     "iopub.execute_input": "2024-03-11T16:56:10.929417Z",
     "iopub.status.busy": "2024-03-11T16:56:10.929038Z",
     "iopub.status.idle": "2024-03-11T16:56:10.975667Z",
     "shell.execute_reply": "2024-03-11T16:56:10.974373Z"
    },
    "papermill": {
     "duration": 0.075692,
     "end_time": "2024-03-11T16:56:10.978613",
     "exception": false,
     "start_time": "2024-03-11T16:56:10.902921",
     "status": "completed"
    },
    "tags": []
   },
   "outputs": [
    {
     "data": {
      "text/plain": [
       "{'#UK': 1,\n",
       " 'the': 2,\n",
       " '.': 3,\n",
       " ',': 4,\n",
       " 'and': 5,\n",
       " 'it': 6,\n",
       " 'to': 7,\n",
       " 'i': 8,\n",
       " 'is': 9,\n",
       " 'a': 10,\n",
       " 'of': 11,\n",
       " 'for': 12,\n",
       " 'with': 13,\n",
       " 'that': 14,\n",
       " 'my': 15,\n",
       " 'you': 16,\n",
       " 'this': 17,\n",
       " 'was': 18,\n",
       " 'in': 19,\n",
       " 'not': 20,\n",
       " 'on': 21,\n",
       " 'very': 22,\n",
       " 'but': 23,\n",
       " 'computer': 24,\n",
       " 'use': 25,\n",
       " 'have': 26,\n",
       " 'great': 27,\n",
       " 'they': 28,\n",
       " 'laptop': 29,\n",
       " \"n't\": 30,\n",
       " 'so': 31,\n",
       " 'has': 32,\n",
       " 'are': 33,\n",
       " 'battery': 34,\n",
       " 'had': 35,\n",
       " 'screen': 36,\n",
       " ')': 37,\n",
       " 'be': 38,\n",
       " 'as': 39,\n",
       " 'all': 40,\n",
       " '!': 41,\n",
       " '(': 42,\n",
       " \"'s\": 43,\n",
       " 'also': 44,\n",
       " 'me': 45,\n",
       " 'just': 46,\n",
       " 'easy': 47,\n",
       " 'when': 48,\n",
       " 'at': 49,\n",
       " 'or': 50,\n",
       " 'only': 51,\n",
       " 'which': 52,\n",
       " 'up': 53,\n",
       " 'life': 54,\n",
       " 'can': 55,\n",
       " 'windows': 56,\n",
       " 'than': 57,\n",
       " 'out': 58,\n",
       " 'if': 59,\n",
       " 'do': 60,\n",
       " 'after': 61,\n",
       " 'more': 62,\n",
       " 'keyboard': 63,\n",
       " 'would': 64,\n",
       " 'drive': 65,\n",
       " 'hard': 66,\n",
       " 'price': 67,\n",
       " 'from': 68,\n",
       " 'well': 69,\n",
       " 'because': 70,\n",
       " 'good': 71,\n",
       " 'one': 72,\n",
       " 'an': 73,\n",
       " 'like': 74,\n",
       " 'mac': 75,\n",
       " 'about': 76,\n",
       " 'quality': 77,\n",
       " 'its': 78,\n",
       " 'love': 79,\n",
       " 'get': 80,\n",
       " 'no': 81,\n",
       " 'software': 82,\n",
       " 'time': 83,\n",
       " 'even': 84,\n",
       " 'macbook': 85,\n",
       " 'will': 86,\n",
       " 'system': 87,\n",
       " 'apple': 88,\n",
       " 'other': 89,\n",
       " 'there': 90,\n",
       " 'does': 91,\n",
       " 'thing': 92,\n",
       " 'problem': 93,\n",
       " 'new': 94,\n",
       " 'much': 95,\n",
       " 'features': 96,\n",
       " 'any': 97,\n",
       " 'then': 98,\n",
       " 'programs': 99,\n",
       " 'power': 100,\n",
       " 'now': 101,\n",
       " 'service': 102,\n",
       " 'work': 103,\n",
       " 'buy': 104,\n",
       " 'works': 105,\n",
       " 'problems': 106,\n",
       " 'fast': 107,\n",
       " 'did': 108,\n",
       " 'toshiba': 109,\n",
       " '7': 110,\n",
       " 'could': 111,\n",
       " 'size': 112,\n",
       " 'what': 113,\n",
       " 'am': 114,\n",
       " 'too': 115,\n",
       " 'working': 116,\n",
       " 'back': 117,\n",
       " 'your': 118,\n",
       " ':': 119,\n",
       " 'speed': 120,\n",
       " 'machine': 121,\n",
       " 'best': 122,\n",
       " 'pro': 123,\n",
       " 'we': 124,\n",
       " 'were': 125,\n",
       " 'again': 126,\n",
       " 'pc': 127,\n",
       " 'performance': 128,\n",
       " 'little': 129,\n",
       " 'product': 130,\n",
       " 'many': 131,\n",
       " '-': 132,\n",
       " 'really': 133,\n",
       " 'by': 134,\n",
       " 'need': 135,\n",
       " 'first': 136,\n",
       " 'having': 137,\n",
       " \"''\": 138,\n",
       " 'some': 139,\n",
       " 'still': 140,\n",
       " 'months': 141,\n",
       " 'memory': 142,\n",
       " 'long': 143,\n",
       " 'been': 144,\n",
       " 'their': 145,\n",
       " 'bought': 146,\n",
       " 'better': 147,\n",
       " 'everything': 148,\n",
       " 'used': 149,\n",
       " 'warranty': 150,\n",
       " 'since': 151,\n",
       " 'worth': 152,\n",
       " 'graphics': 153,\n",
       " 'how': 154,\n",
       " 'design': 155,\n",
       " 'applications': 156,\n",
       " 'mouse': 157,\n",
       " 'comes': 158,\n",
       " 'run': 159,\n",
       " 'who': 160,\n",
       " 'every': 161,\n",
       " 'nice': 162,\n",
       " 'internet': 163,\n",
       " 'laptops': 164,\n",
       " 'never': 165,\n",
       " 'replaced': 166,\n",
       " '3': 167,\n",
       " 'support': 168,\n",
       " 'games': 169,\n",
       " 'bad': 170,\n",
       " 'same': 171,\n",
       " 'right': 172,\n",
       " '``': 173,\n",
       " 'runs': 174,\n",
       " 'looking': 175,\n",
       " 'enough': 176,\n",
       " 'using': 177,\n",
       " 'way': 178,\n",
       " 'running': 179,\n",
       " 'able': 180,\n",
       " 'program': 181,\n",
       " 'always': 182,\n",
       " 'lot': 183,\n",
       " 'dell': 184,\n",
       " 'another': 185,\n",
       " \"'ve\": 186,\n",
       " 'pad': 187,\n",
       " 'netbook': 188,\n",
       " 'got': 189,\n",
       " 'operating': 190,\n",
       " 'hp': 191,\n",
       " 'money': 192,\n",
       " 'most': 193,\n",
       " 'went': 194,\n",
       " 'such': 195,\n",
       " '$': 196,\n",
       " 'card': 197,\n",
       " 'them': 198,\n",
       " 'come': 199,\n",
       " 'large': 200,\n",
       " 'make': 201,\n",
       " 'gaming': 202,\n",
       " 'take': 203,\n",
       " 'hours': 204,\n",
       " 'look': 205,\n",
       " 'web': 206,\n",
       " 'over': 207,\n",
       " 'less': 208,\n",
       " 'ca': 209,\n",
       " 'around': 210,\n",
       " 'though': 211,\n",
       " 'excellent': 212,\n",
       " 'display': 213,\n",
       " 'made': 214,\n",
       " '?': 215,\n",
       " 'awesome': 216,\n",
       " 'while': 217,\n",
       " 'issue': 218,\n",
       " \"'m\": 219,\n",
       " 'makes': 220,\n",
       " 'next': 221,\n",
       " 'keep': 222,\n",
       " 'slow': 223,\n",
       " 'amazing': 224,\n",
       " 'month': 225,\n",
       " 'ever': 226,\n",
       " 'purchase': 227,\n",
       " 'perfect': 228,\n",
       " 'vista': 229,\n",
       " 'customer': 230,\n",
       " 'want': 231,\n",
       " 'carry': 232,\n",
       " 'feel': 233,\n",
       " 'bit': 234,\n",
       " 'small': 235,\n",
       " 'os': 236,\n",
       " 'easily': 237,\n",
       " 'should': 238,\n",
       " 'video': 239,\n",
       " 'overall': 240,\n",
       " 'two': 241,\n",
       " 'cheap': 242,\n",
       " 'off': 243,\n",
       " 'light': 244,\n",
       " 'find': 245,\n",
       " 'open': 246,\n",
       " 'called': 247,\n",
       " 'fix': 248,\n",
       " 'stopped': 249,\n",
       " 'go': 250,\n",
       " 'things': 251,\n",
       " '5': 252,\n",
       " 'key': 253,\n",
       " 'pay': 254,\n",
       " ';': 255,\n",
       " 'desktop': 256,\n",
       " 'cost': 257,\n",
       " 'fixed': 258,\n",
       " 'processor': 259,\n",
       " 'wonderful': 260,\n",
       " 'once': 261,\n",
       " 'sound': 262,\n",
       " 'pretty': 263,\n",
       " 'space': 264,\n",
       " '2': 265,\n",
       " 'down': 266,\n",
       " 'high': 267,\n",
       " 'day': 268,\n",
       " 'external': 269,\n",
       " 'fan': 270,\n",
       " 'started': 271,\n",
       " 'quickly': 272,\n",
       " 'ease': 273,\n",
       " '--': 274,\n",
       " 'word': 275,\n",
       " 'office': 276,\n",
       " 'without': 277,\n",
       " 'old': 278,\n",
       " 'computers': 279,\n",
       " 'came': 280,\n",
       " 'due': 281,\n",
       " 'lightweight': 282,\n",
       " 'cd': 283,\n",
       " 'see': 284,\n",
       " 'short': 285,\n",
       " 'say': 286,\n",
       " 'week': 287,\n",
       " 'repair': 288,\n",
       " 'ram': 289,\n",
       " 'charge': 290,\n",
       " 'boot': 291,\n",
       " 'completely': 292,\n",
       " 'warrenty': 293,\n",
       " 'took': 294,\n",
       " 'shipping': 295,\n",
       " 'microsoft': 296,\n",
       " 'doing': 297,\n",
       " 'set': 298,\n",
       " 'free': 299,\n",
       " 'virus': 300,\n",
       " 'keys': 301,\n",
       " 'supply': 302,\n",
       " 'feature': 303,\n",
       " 'send': 304,\n",
       " 'through': 305,\n",
       " 'know': 306,\n",
       " 'notebook': 307,\n",
       " 'being': 308,\n",
       " 'recommend': 309,\n",
       " 'trackpad': 310,\n",
       " 'compared': 311,\n",
       " 'think': 312,\n",
       " 'full': 313,\n",
       " 'anyone': 314,\n",
       " 'dvd': 315,\n",
       " 'faster': 316,\n",
       " 'change': 317,\n",
       " 'plus': 318,\n",
       " 'last': 319,\n",
       " 'something': 320,\n",
       " 'home': 321,\n",
       " 'company': 322,\n",
       " 'where': 323,\n",
       " 'before': 324,\n",
       " 'value': 325,\n",
       " 'built': 326,\n",
       " 'may': 327,\n",
       " 'however': 328,\n",
       " \"'re\": 329,\n",
       " 'usb': 330,\n",
       " 'brand': 331,\n",
       " 'past': 332,\n",
       " 'motherboard': 333,\n",
       " 'charger': 334,\n",
       " 'hardware': 335,\n",
       " 'simple': 336,\n",
       " 'within': 337,\n",
       " 'touch': 338,\n",
       " 'yet': 339,\n",
       " 'acer': 340,\n",
       " 'yes': 341,\n",
       " 'few': 342,\n",
       " 'webcam': 343,\n",
       " 'play': 344,\n",
       " \"'d\": 345,\n",
       " 'issues': 346,\n",
       " 'clear': 347,\n",
       " 'year': 348,\n",
       " 'thought': 349,\n",
       " 'far': 350,\n",
       " 'user': 351,\n",
       " 'itself': 352,\n",
       " '1': 353,\n",
       " 'although': 354,\n",
       " 'these': 355,\n",
       " 'easier': 356,\n",
       " 'extra': 357,\n",
       " 'port': 358,\n",
       " 'getting': 359,\n",
       " 'etc': 360,\n",
       " 'must': 361,\n",
       " 'speakers': 362,\n",
       " 'looks': 363,\n",
       " 'iphoto': 364,\n",
       " 'worked': 365,\n",
       " 'found': 366,\n",
       " 'big': 367,\n",
       " 'learn': 368,\n",
       " 'seems': 369,\n",
       " 'center': 370,\n",
       " 'lots': 371,\n",
       " 'frustrating': 372,\n",
       " 'help': 373,\n",
       " 'fact': 374,\n",
       " 'upgraded': 375,\n",
       " 'pcs': 376,\n",
       " 'connect': 377,\n",
       " 'board': 378,\n",
       " 'making': 379,\n",
       " 'products': 380,\n",
       " 'needs': 381,\n",
       " 'cool': 382,\n",
       " 'until': 383,\n",
       " 'course': 384,\n",
       " 'resolution': 385,\n",
       " 'itunes': 386,\n",
       " '13': 387,\n",
       " 'longer': 388,\n",
       " 'type': 389,\n",
       " 'store': 390,\n",
       " 'sent': 391,\n",
       " 'quick': 392,\n",
       " 'second': 393,\n",
       " 'processing': 394,\n",
       " 'poor': 395,\n",
       " 'expected': 396,\n",
       " 'years': 397,\n",
       " 'simply': 398,\n",
       " 'starter': 399,\n",
       " 'buttons': 400,\n",
       " 'build': 401,\n",
       " 'call': 402,\n",
       " 'others': 403,\n",
       " 'wireless': 404,\n",
       " 'plenty': 405,\n",
       " 'he': 406,\n",
       " 'actually': 407,\n",
       " 'failed': 408,\n",
       " 'someone': 409,\n",
       " 'cord': 410,\n",
       " 'extremely': 411,\n",
       " 'absolutely': 412,\n",
       " 'start': 413,\n",
       " 'dark': 414,\n",
       " 'multi-touch': 415,\n",
       " 'installed': 416,\n",
       " 'crashed': 417,\n",
       " 'added': 418,\n",
       " 'hd': 419,\n",
       " 'monitor': 420,\n",
       " 'several': 421,\n",
       " 'loud': 422,\n",
       " 'times': 423,\n",
       " '4': 424,\n",
       " 'wanted': 425,\n",
       " 'constantly': 426,\n",
       " 'systems': 427,\n",
       " 'touchpad': 428,\n",
       " 'editing': 429,\n",
       " 'phone': 430,\n",
       " 'hour': 431,\n",
       " 'browsing': 432,\n",
       " 'playing': 433,\n",
       " 'replace': 434,\n",
       " 'believe': 435,\n",
       " 'xp': 436,\n",
       " 'wo': 437,\n",
       " 'online': 438,\n",
       " 'garageband': 439,\n",
       " 'bright': 440,\n",
       " 'navigate': 441,\n",
       " 'ilife': 442,\n",
       " 'sleek': 443,\n",
       " 'least': 444,\n",
       " 'premium': 445,\n",
       " 'box': 446,\n",
       " 'away': 447,\n",
       " 'anything': 448,\n",
       " 'worry': 449,\n",
       " 'sure': 450,\n",
       " 'book': 451,\n",
       " 'experience': 452,\n",
       " 'told': 453,\n",
       " 'portable': 454,\n",
       " 'needed': 455,\n",
       " 'going': 456,\n",
       " 'sony': 457,\n",
       " 'macbooks': 458,\n",
       " 'done': 459,\n",
       " 'useful': 460,\n",
       " 'horrible': 461,\n",
       " '/': 462,\n",
       " 'weight': 463,\n",
       " 'movies': 464,\n",
       " 'led': 465,\n",
       " 'tried': 466,\n",
       " 'business': 467,\n",
       " 'background': 468,\n",
       " 'camera': 469,\n",
       " 'fine': 470,\n",
       " 'huge': 471,\n",
       " 'weeks': 472,\n",
       " 'deal': 473,\n",
       " 'superior': 474,\n",
       " 'upgrade': 475,\n",
       " 'media': 476,\n",
       " 'macs': 477,\n",
       " 'convenient': 478,\n",
       " 'real': 479,\n",
       " 'already': 480,\n",
       " 'worse': 481,\n",
       " 'specs': 482,\n",
       " 'disk': 483,\n",
       " 'front': 484,\n",
       " 'coming': 485,\n",
       " 'connection': 486,\n",
       " 'highly': 487,\n",
       " 'offers': 488,\n",
       " 'finally': 489,\n",
       " 'seemed': 490,\n",
       " 'disc': 491,\n",
       " 'enjoy': 492,\n",
       " 'extended': 493,\n",
       " 'knew': 494,\n",
       " 'trouble': 495,\n",
       " 'order': 496,\n",
       " 'documents': 497,\n",
       " 'crashing': 498,\n",
       " 'designed': 499,\n",
       " 'oh': 500,\n",
       " 'expensive': 501,\n",
       " 'top': 502,\n",
       " \"'ll\": 503,\n",
       " 'charged': 504,\n",
       " 'sales': 505,\n",
       " 'average': 506,\n",
       " 'maybe': 507,\n",
       " 'gets': 508,\n",
       " 'wish': 509,\n",
       " 'might': 510,\n",
       " 'backlit': 511,\n",
       " 'volume': 512,\n",
       " 'install': 513,\n",
       " 'impressed': 514,\n",
       " 'including': 515,\n",
       " 'built-in': 516,\n",
       " 'hooked': 517,\n",
       " 'drop': 518,\n",
       " 'guess': 519,\n",
       " 'tax': 520,\n",
       " 'buying': 521,\n",
       " 'iwork': 522,\n",
       " 'our': 523,\n",
       " 'especially': 524,\n",
       " 'replacement': 525,\n",
       " 'shows': 526,\n",
       " 'x': 527,\n",
       " 'older': 528,\n",
       " 'ports': 529,\n",
       " 'intel': 530,\n",
       " 'version': 531,\n",
       " 'email': 532,\n",
       " 'hot': 533,\n",
       " 'cheaper': 534,\n",
       " 'takes': 535,\n",
       " 'load': 536,\n",
       " 'storage': 537,\n",
       " 'tech': 538,\n",
       " 'users': 539,\n",
       " 'fairly': 540,\n",
       " 'reason': 541,\n",
       " 'end': 542,\n",
       " 'operation': 543,\n",
       " 'sharp': 544,\n",
       " 'nearly': 545,\n",
       " 'flawlessly': 546,\n",
       " 'higher': 547,\n",
       " 'music': 548,\n",
       " 'included': 549,\n",
       " 'expense': 550,\n",
       " 'osx': 551,\n",
       " 'functions': 552,\n",
       " 'tv': 553,\n",
       " 'interface': 554,\n",
       " 'pleased': 555,\n",
       " 'professional': 556,\n",
       " 'care': 557,\n",
       " 'apps': 558,\n",
       " 'watching': 559,\n",
       " 'else': 560,\n",
       " 'beautiful': 561,\n",
       " 'inch': 562,\n",
       " 'inside': 563,\n",
       " 'trial': 564,\n",
       " 'own': 565,\n",
       " 'noticed': 566,\n",
       " 'left': 567,\n",
       " 'model': 568,\n",
       " 'case': 569,\n",
       " 'happy': 570,\n",
       " 'into': 571,\n",
       " 'definitely': 572,\n",
       " 'matter': 573,\n",
       " 'different': 574,\n",
       " 'button': 575,\n",
       " 'opened': 576,\n",
       " 'sized': 577,\n",
       " 'typing': 578,\n",
       " 'days': 579,\n",
       " 'froze': 580,\n",
       " 'adding': 581,\n",
       " 'loose': 582,\n",
       " 'number': 583,\n",
       " 'photos': 584,\n",
       " 'solid': 585,\n",
       " 'edges': 586,\n",
       " 'geek': 587,\n",
       " 'college': 588,\n",
       " 'both': 589,\n",
       " 'pictures': 590,\n",
       " 'half': 591,\n",
       " 'network': 592,\n",
       " 'nothing': 593,\n",
       " 'services': 594,\n",
       " 'said': 595,\n",
       " 'darker': 596,\n",
       " 'standard': 597,\n",
       " 'pages': 598,\n",
       " '...': 599,\n",
       " 'strong': 600,\n",
       " 'purchased': 601,\n",
       " 'save': 602,\n",
       " 'almost': 603,\n",
       " 'apparently': 604,\n",
       " 'videos': 605,\n",
       " 'difference': 606,\n",
       " 'fit': 607,\n",
       " 'night': 608,\n",
       " 'usually': 609,\n",
       " 'entire': 610,\n",
       " 'stay': 611,\n",
       " 'properly': 612,\n",
       " 'plugged': 613,\n",
       " 'iphone': 614,\n",
       " 'talk': 615,\n",
       " 'crashes': 616,\n",
       " 'paying': 617,\n",
       " 'newer': 618,\n",
       " 'country': 619,\n",
       " 'certain': 620,\n",
       " 'drivers': 621,\n",
       " 'files': 622,\n",
       " 'slick': 623,\n",
       " 'died': 624,\n",
       " 'trying': 625,\n",
       " 'allows': 626,\n",
       " 'refused': 627,\n",
       " 'ipod': 628,\n",
       " 'mother': 629,\n",
       " 'yeah': 630,\n",
       " 'bar': 631,\n",
       " 'recovery': 632,\n",
       " 'available': 633,\n",
       " 'useless': 634,\n",
       " 'protection': 635,\n",
       " 'paid': 636,\n",
       " 'none': 637,\n",
       " 'reliable': 638,\n",
       " 'people': 639,\n",
       " 'chose': 640,\n",
       " 'spend': 641,\n",
       " 'mention': 642,\n",
       " 'slowly': 643,\n",
       " 'hold': 644,\n",
       " 'minutes': 645,\n",
       " 'stars': 646,\n",
       " '+': 647,\n",
       " 'drawback': 648,\n",
       " 'break': 649,\n",
       " 'responsive': 650,\n",
       " 'amount': 651,\n",
       " 'terrific': 652,\n",
       " 'mic': 653,\n",
       " 'thru': 654,\n",
       " 'cam': 655,\n",
       " 'mostly': 656,\n",
       " 'imovie': 657,\n",
       " 'colors': 658,\n",
       " 'crisp': 659,\n",
       " 'leopard': 660,\n",
       " 'above': 661,\n",
       " 'core': 662,\n",
       " 'becomes': 663,\n",
       " 'body': 664,\n",
       " 'low': 665,\n",
       " 'im': 666,\n",
       " 'whole': 667,\n",
       " '175': 668,\n",
       " 'side': 669,\n",
       " 'cooling': 670,\n",
       " 'viruses': 671,\n",
       " '8': 672,\n",
       " 'keeps': 673,\n",
       " 'friendly': 674,\n",
       " 'caused': 675,\n",
       " 'remove': 676,\n",
       " 'smooth': 677,\n",
       " 'quite': 678,\n",
       " 'soon': 679,\n",
       " 'machines': 680,\n",
       " 'components': 681,\n",
       " 'lasting': 682,\n",
       " 'smoothly': 683,\n",
       " 'loaded': 684,\n",
       " 'via': 685,\n",
       " 'pack': 686,\n",
       " 'liked': 687,\n",
       " 'ahead': 688,\n",
       " 'hated': 689,\n",
       " 'quiet': 690,\n",
       " 'thats': 691,\n",
       " 'three': 692,\n",
       " 'necessary': 693,\n",
       " 'hook': 694,\n",
       " 'satellite': 695,\n",
       " 'boots': 696,\n",
       " 'die': 697,\n",
       " 'received': 698,\n",
       " 'priced': 699,\n",
       " 'burn': 700,\n",
       " 'probably': 701,\n",
       " 'why': 702,\n",
       " 'lose': 703,\n",
       " '%': 704,\n",
       " 'unlike': 705,\n",
       " '17': 706,\n",
       " 'offer': 707,\n",
       " 'updates': 708,\n",
       " 'versions': 709,\n",
       " 'special': 710,\n",
       " 'broke': 711,\n",
       " 'black': 712,\n",
       " 'seen': 713,\n",
       " 'world': 714,\n",
       " 'awful': 715,\n",
       " 'comfortable': 716,\n",
       " 'yourself': 717,\n",
       " 'doesnt': 718,\n",
       " 'during': 719,\n",
       " 'line': 720,\n",
       " 'clean': 721,\n",
       " 'discover': 722,\n",
       " 'looked': 723,\n",
       " 'rma': 724,\n",
       " 'contacted': 725,\n",
       " 'ups': 726,\n",
       " 'durable': 727,\n",
       " 'broken': 728,\n",
       " 'gb': 729,\n",
       " 'reasonable': 730,\n",
       " 'noise': 731,\n",
       " 'constant': 732,\n",
       " 'ghz': 733,\n",
       " '500gb': 734,\n",
       " 'instead': 735,\n",
       " 'access': 736,\n",
       " 'rest': 737,\n",
       " 'wheel': 738,\n",
       " 'school': 739,\n",
       " 'programming': 740,\n",
       " 'worst': 741,\n",
       " 'blue': 742,\n",
       " 'larger': 743,\n",
       " 'gives': 744,\n",
       " 'relatively': 745,\n",
       " 'tutorials': 746,\n",
       " 'disappointing': 747,\n",
       " 'plug': 748,\n",
       " 'capabilities': 749,\n",
       " 'point': 750,\n",
       " 'seem': 751,\n",
       " 'downfall': 752,\n",
       " 'purchasing': 753,\n",
       " 'except': 754,\n",
       " 'plastic': 755,\n",
       " 'returned': 756,\n",
       " 'speaker': 757,\n",
       " 'student': 758,\n",
       " 'portability': 759,\n",
       " 'five': 760,\n",
       " 'person': 761,\n",
       " 'stuff': 762,\n",
       " 'turns': 763,\n",
       " 'often': 764,\n",
       " 'device': 765,\n",
       " 'fun': 766,\n",
       " 'plan': 767,\n",
       " 'previous': 768,\n",
       " 'operate': 769,\n",
       " 'unable': 770,\n",
       " 'track': 771,\n",
       " 'squad': 772,\n",
       " 'known': 773,\n",
       " 'either': 774,\n",
       " 'ask': 775,\n",
       " 'give': 776,\n",
       " 'expired': 777,\n",
       " 'fits': 778,\n",
       " 'budget': 779,\n",
       " 'besides': 780,\n",
       " 'slightly': 781,\n",
       " 'computing': 782,\n",
       " 'room': 783,\n",
       " 'bios': 784,\n",
       " 'benefits': 785,\n",
       " 'spoke': 786,\n",
       " 'she': 787,\n",
       " 'fantastic': 788,\n",
       " 'decent': 789,\n",
       " 'shipped': 790,\n",
       " 'general': 791,\n",
       " 'claim': 792,\n",
       " 'twice': 793,\n",
       " 'handle': 794,\n",
       " 'numbers': 795,\n",
       " 'sensitive': 796,\n",
       " 'cords': 797,\n",
       " 'taking': 798,\n",
       " 'gui': 799,\n",
       " 'bundled': 800,\n",
       " 'gorgeous': 801,\n",
       " 'turned': 802,\n",
       " 'freaking': 803,\n",
       " 'turn': 804,\n",
       " 'steady': 805,\n",
       " 'unnecessary': 806,\n",
       " 'unless': 807,\n",
       " 'suite': 808,\n",
       " 'satisfied': 809,\n",
       " 'barely': 810,\n",
       " 'connected': 811,\n",
       " 'pure': 812,\n",
       " 'snap': 813,\n",
       " '30': 814,\n",
       " 'helps': 815,\n",
       " 'occasionally': 816,\n",
       " 'hundred': 817,\n",
       " 'dollars': 818,\n",
       " 'preloaded': 819,\n",
       " 'along': 820,\n",
       " 'realized': 821,\n",
       " 'kinda': 822,\n",
       " 'speaking': 823,\n",
       " 'browser': 824,\n",
       " 'under': 825,\n",
       " 'ago': 826,\n",
       " 'forced': 827,\n",
       " 'website': 828,\n",
       " 'force': 829,\n",
       " 'four': 830,\n",
       " 'advantage': 831,\n",
       " 'increase': 832,\n",
       " 'heated': 833,\n",
       " 'opening': 834,\n",
       " 'poorly': 835,\n",
       " 'intuitive': 836,\n",
       " 'download': 837,\n",
       " 'glass': 838,\n",
       " 'continued': 839,\n",
       " 'simpler': 840,\n",
       " 'forward': 841,\n",
       " 'genius': 842,\n",
       " '10': 843,\n",
       " 'movie': 844,\n",
       " 'bluetooth': 845,\n",
       " 'customers': 846,\n",
       " 'white': 847,\n",
       " 'updated': 848,\n",
       " 'color': 849,\n",
       " 'comparison': 850,\n",
       " 'factor': 851,\n",
       " 'familiar': 852,\n",
       " 'couple': 853,\n",
       " 'complaints': 854,\n",
       " 'construction': 855,\n",
       " 'security': 856,\n",
       " 'stuck': 857,\n",
       " 'didnt': 858,\n",
       " 'dont': 859,\n",
       " 'safari': 860,\n",
       " 'delivery': 861,\n",
       " 'anytime': 862,\n",
       " 'mind': 863,\n",
       " 'ordered': 864,\n",
       " 'saved': 865,\n",
       " 'crystal': 866,\n",
       " 'owning': 867,\n",
       " 'become': 868,\n",
       " 'incredibly': 869,\n",
       " 'powerbook': 870,\n",
       " 'easiest': 871,\n",
       " 'surface': 872,\n",
       " 'snow': 873,\n",
       " 'learning': 874,\n",
       " 'picked': 875,\n",
       " 'check': 876,\n",
       " 'missing': 877,\n",
       " 'dual': 878,\n",
       " 'charging': 879,\n",
       " 'stand': 880,\n",
       " 'appleworks': 881,\n",
       " 'paint': 882,\n",
       " 'early': 883,\n",
       " 'edition': 884,\n",
       " 'report': 885,\n",
       " 'cheaply': 886,\n",
       " 'holds': 887,\n",
       " 'antivirus': 888,\n",
       " 'glad': 889,\n",
       " 'nicely': 890,\n",
       " 'part': 891,\n",
       " 'latest': 892,\n",
       " 'waited': 893,\n",
       " 'chat': 894,\n",
       " 'us': 895,\n",
       " 'wasted': 896,\n",
       " 'provides': 897,\n",
       " 'those': 898,\n",
       " 'unreliable': 899,\n",
       " 'meets': 900,\n",
       " 'spec': 901,\n",
       " 'burner': 902,\n",
       " 'discovered': 903,\n",
       " 'ran': 904,\n",
       " 'between': 905,\n",
       " '1/2': 906,\n",
       " 'edge': 907,\n",
       " 'phones': 908,\n",
       " 'terrible': 909,\n",
       " 'hate': 910,\n",
       " 'opinion': 911,\n",
       " 'gave': 912,\n",
       " 'daughter': 913,\n",
       " 'listen': 914,\n",
       " 'major': 915,\n",
       " 'heavy': 916,\n",
       " 'bulky': 917,\n",
       " 'electronic': 918,\n",
       " \"'\": 919,\n",
       " 'linux': 920,\n",
       " 'based': 921,\n",
       " 'sense': 922,\n",
       " 'rather': 923,\n",
       " 'processors': 924,\n",
       " 'hdmi': 925,\n",
       " 'firewire': 926,\n",
       " 'image': 927,\n",
       " 'kind': 928,\n",
       " 'clicking': 929,\n",
       " 'unsteady': 930,\n",
       " 'bugs': 931,\n",
       " 'junk': 932,\n",
       " 'facebook': 933,\n",
       " 'file': 934,\n",
       " 'particular': 935,\n",
       " 'truly': 936,\n",
       " 'bucks': 937,\n",
       " 'beyond': 938,\n",
       " 'duty': 939,\n",
       " 'crash': 940,\n",
       " 'decides': 941,\n",
       " 'mode': 942,\n",
       " 'dropping': 943,\n",
       " 'stock': 944,\n",
       " 'given': 945,\n",
       " 'graphic': 946,\n",
       " 'decreased': 947,\n",
       " 'thrilled': 948,\n",
       " 'technical': 949,\n",
       " 'skype': 950,\n",
       " 'hdd': 951,\n",
       " 'main': 952,\n",
       " 'understand': 953,\n",
       " 'consider': 954,\n",
       " 'ms': 955,\n",
       " 'amazed': 956,\n",
       " 'fully': 957,\n",
       " 'letters': 958,\n",
       " 'complete': 959,\n",
       " 'ergonomic': 960,\n",
       " 'sometimes': 961,\n",
       " 'notebooks': 962,\n",
       " 'quicker': 963,\n",
       " 'photography': 964,\n",
       " '10-11': 965,\n",
       " 'depending': 966,\n",
       " 'level': 967,\n",
       " 'appearance': 968,\n",
       " '3rd': 969,\n",
       " 'bother': 970,\n",
       " 'data': 971,\n",
       " 'taught': 972,\n",
       " 'photoshop': 973,\n",
       " 'bigger': 974,\n",
       " 'loves': 975,\n",
       " 'husband': 976,\n",
       " 'signals': 977,\n",
       " 'multiple': 978,\n",
       " 'page': 979,\n",
       " 'non': 980,\n",
       " 'frequently': 981,\n",
       " 'ideal': 982,\n",
       " 'improvements': 983,\n",
       " 'images': 984,\n",
       " 'later': 985,\n",
       " 'options': 986,\n",
       " 'girlfriend': 987,\n",
       " 'hinge': 988,\n",
       " 'lcd': 989,\n",
       " 'late': 990,\n",
       " 'issued': 991,\n",
       " 'morning': 992,\n",
       " '60': 993,\n",
       " 'hiccups': 994,\n",
       " 'occasion': 995,\n",
       " 'presentations': 996,\n",
       " 'functioning': 997,\n",
       " 'obviously': 998,\n",
       " 'hinges': 999,\n",
       " 'advertised': 1000,\n",
       " ...}"
      ]
     },
     "execution_count": 15,
     "metadata": {},
     "output_type": "execute_result"
    }
   ],
   "source": [
    "weights = np.zeros((vocab_size, 300))\n",
    "mapping = toke.word_index \n",
    "mapping"
   ]
  },
  {
   "cell_type": "markdown",
   "id": "dc4cbdbe",
   "metadata": {
    "papermill": {
     "duration": 0.026194,
     "end_time": "2024-03-11T16:56:11.031014",
     "exception": false,
     "start_time": "2024-03-11T16:56:11.004820",
     "status": "completed"
    },
    "tags": []
   },
   "source": [
    "Fetching weights from pre trained Word2Vec model (ATE)"
   ]
  },
  {
   "cell_type": "code",
   "execution_count": 16,
   "id": "61520279",
   "metadata": {
    "execution": {
     "iopub.execute_input": "2024-03-11T16:56:11.084873Z",
     "iopub.status.busy": "2024-03-11T16:56:11.084426Z",
     "iopub.status.idle": "2024-03-11T16:56:11.463460Z",
     "shell.execute_reply": "2024-03-11T16:56:11.462383Z"
    },
    "papermill": {
     "duration": 0.409547,
     "end_time": "2024-03-11T16:56:11.466376",
     "exception": false,
     "start_time": "2024-03-11T16:56:11.056829",
     "status": "completed"
    },
    "tags": []
   },
   "outputs": [],
   "source": [
    "for word, index in mapping.items():\n",
    "    if word in emb:\n",
    "        weights[index:] = emb[word]"
   ]
  },
  {
   "cell_type": "code",
   "execution_count": 17,
   "id": "842862b3",
   "metadata": {
    "execution": {
     "iopub.execute_input": "2024-03-11T16:56:11.520468Z",
     "iopub.status.busy": "2024-03-11T16:56:11.520043Z",
     "iopub.status.idle": "2024-03-11T16:56:11.526157Z",
     "shell.execute_reply": "2024-03-11T16:56:11.524930Z"
    },
    "papermill": {
     "duration": 0.036329,
     "end_time": "2024-03-11T16:56:11.528848",
     "exception": false,
     "start_time": "2024-03-11T16:56:11.492519",
     "status": "completed"
    },
    "tags": []
   },
   "outputs": [],
   "source": [
    "X_train= X_padded_train\n",
    "Y_train = Y_padded_train\n",
    "X_test = X_padded_test\n",
    "Y_test = Y_padded_test\n",
    "X_val = X_padded_val\n",
    "Y_val = Y_padded_val\n",
    "weights = weights\n",
    "word_token = toke\n",
    "tag_token = toke2"
   ]
  },
  {
   "cell_type": "code",
   "execution_count": 18,
   "id": "bfff74e1",
   "metadata": {
    "execution": {
     "iopub.execute_input": "2024-03-11T16:56:11.583234Z",
     "iopub.status.busy": "2024-03-11T16:56:11.582308Z",
     "iopub.status.idle": "2024-03-11T16:56:11.587450Z",
     "shell.execute_reply": "2024-03-11T16:56:11.586360Z"
    },
    "papermill": {
     "duration": 0.034911,
     "end_time": "2024-03-11T16:56:11.589610",
     "exception": false,
     "start_time": "2024-03-11T16:56:11.554699",
     "status": "completed"
    },
    "tags": []
   },
   "outputs": [],
   "source": [
    "Y_shape= Y_padded_train.shape[2]"
   ]
  },
  {
   "cell_type": "markdown",
   "id": "5c5ebf3f",
   "metadata": {
    "papermill": {
     "duration": 0.026211,
     "end_time": "2024-03-11T16:56:11.642152",
     "exception": false,
     "start_time": "2024-03-11T16:56:11.615941",
     "status": "completed"
    },
    "tags": []
   },
   "source": [
    "# Models"
   ]
  },
  {
   "cell_type": "markdown",
   "id": "9555a310",
   "metadata": {
    "papermill": {
     "duration": 0.027489,
     "end_time": "2024-03-11T16:56:11.696540",
     "exception": false,
     "start_time": "2024-03-11T16:56:11.669051",
     "status": "completed"
    },
    "tags": []
   },
   "source": [
    "## RNN"
   ]
  },
  {
   "cell_type": "code",
   "execution_count": 19,
   "id": "c4799bb6",
   "metadata": {
    "execution": {
     "iopub.execute_input": "2024-03-11T16:56:11.749870Z",
     "iopub.status.busy": "2024-03-11T16:56:11.749451Z",
     "iopub.status.idle": "2024-03-11T16:56:11.754546Z",
     "shell.execute_reply": "2024-03-11T16:56:11.753340Z"
    },
    "papermill": {
     "duration": 0.034442,
     "end_time": "2024-03-11T16:56:11.756872",
     "exception": false,
     "start_time": "2024-03-11T16:56:11.722430",
     "status": "completed"
    },
    "tags": []
   },
   "outputs": [],
   "source": [
    "model_name=\"RNN\""
   ]
  },
  {
   "cell_type": "markdown",
   "id": "72782bd9",
   "metadata": {
    "papermill": {
     "duration": 0.025604,
     "end_time": "2024-03-11T16:56:11.808678",
     "exception": false,
     "start_time": "2024-03-11T16:56:11.783074",
     "status": "completed"
    },
    "tags": []
   },
   "source": [
    "### Training"
   ]
  },
  {
   "cell_type": "code",
   "execution_count": 20,
   "id": "68d8fed6",
   "metadata": {
    "execution": {
     "iopub.execute_input": "2024-03-11T16:56:11.862817Z",
     "iopub.status.busy": "2024-03-11T16:56:11.861621Z",
     "iopub.status.idle": "2024-03-11T16:56:11.868841Z",
     "shell.execute_reply": "2024-03-11T16:56:11.867930Z"
    },
    "papermill": {
     "duration": 0.036776,
     "end_time": "2024-03-11T16:56:11.871071",
     "exception": false,
     "start_time": "2024-03-11T16:56:11.834295",
     "status": "completed"
    },
    "tags": []
   },
   "outputs": [],
   "source": [
    "def rnn(vocab_size,max_len,weights,Y_shape):\n",
    "    rnn_model = Sequential()\n",
    "    rnn_model.add(Embedding(input_dim = vocab_size,output_dim = 300,input_length  = max_len,weights = [weights],trainable = False))\n",
    "    rnn_model.add(SimpleRNN(32, return_sequences=True))\n",
    "    rnn_model.add(TimeDistributed(Dense(Y_shape, activation='softmax')))\n",
    "    rnn_model.compile(loss='categorical_crossentropy',optimizer='adam',metrics=['acc',Precision(),Recall()])\n",
    "    return rnn_model"
   ]
  },
  {
   "cell_type": "code",
   "execution_count": 21,
   "id": "f0227ba5",
   "metadata": {
    "execution": {
     "iopub.execute_input": "2024-03-11T16:56:11.925774Z",
     "iopub.status.busy": "2024-03-11T16:56:11.924691Z",
     "iopub.status.idle": "2024-03-11T16:56:12.184185Z",
     "shell.execute_reply": "2024-03-11T16:56:12.181597Z"
    },
    "papermill": {
     "duration": 0.290021,
     "end_time": "2024-03-11T16:56:12.187551",
     "exception": false,
     "start_time": "2024-03-11T16:56:11.897530",
     "status": "completed"
    },
    "tags": []
   },
   "outputs": [],
   "source": [
    "rnn_model=rnn(vocab_size,max_len,weights,Y_shape)"
   ]
  },
  {
   "cell_type": "markdown",
   "id": "65356501",
   "metadata": {
    "papermill": {
     "duration": 0.025805,
     "end_time": "2024-03-11T16:56:12.241298",
     "exception": false,
     "start_time": "2024-03-11T16:56:12.215493",
     "status": "completed"
    },
    "tags": []
   },
   "source": [
    "Compiling the rnn Word2Vec Model"
   ]
  },
  {
   "cell_type": "code",
   "execution_count": null,
   "id": "c94294b1",
   "metadata": {
    "papermill": {
     "duration": 0.026888,
     "end_time": "2024-03-11T16:56:12.294508",
     "exception": false,
     "start_time": "2024-03-11T16:56:12.267620",
     "status": "completed"
    },
    "tags": []
   },
   "outputs": [],
   "source": []
  },
  {
   "cell_type": "code",
   "execution_count": 22,
   "id": "680521ac",
   "metadata": {
    "execution": {
     "iopub.execute_input": "2024-03-11T16:56:12.351530Z",
     "iopub.status.busy": "2024-03-11T16:56:12.350595Z",
     "iopub.status.idle": "2024-03-11T16:56:12.356415Z",
     "shell.execute_reply": "2024-03-11T16:56:12.355304Z"
    },
    "papermill": {
     "duration": 0.038303,
     "end_time": "2024-03-11T16:56:12.358955",
     "exception": false,
     "start_time": "2024-03-11T16:56:12.320652",
     "status": "completed"
    },
    "tags": []
   },
   "outputs": [],
   "source": [
    "rnn_f1_callback = F1ScoreCallback(val_data=(X_val, Y_val),data=(X_train, Y_train))\n"
   ]
  },
  {
   "cell_type": "code",
   "execution_count": 23,
   "id": "e1c7cf73",
   "metadata": {
    "execution": {
     "iopub.execute_input": "2024-03-11T16:56:12.415475Z",
     "iopub.status.busy": "2024-03-11T16:56:12.413974Z",
     "iopub.status.idle": "2024-03-11T16:56:12.441678Z",
     "shell.execute_reply": "2024-03-11T16:56:12.440594Z"
    },
    "papermill": {
     "duration": 0.060147,
     "end_time": "2024-03-11T16:56:12.445873",
     "exception": false,
     "start_time": "2024-03-11T16:56:12.385726",
     "status": "completed"
    },
    "tags": []
   },
   "outputs": [
    {
     "name": "stdout",
     "output_type": "stream",
     "text": [
      "Model: \"sequential\"\n",
      "_________________________________________________________________\n",
      " Layer (type)                Output Shape              Param #   \n",
      "=================================================================\n",
      " embedding (Embedding)       (None, 78, 300)           721800    \n",
      "                                                                 \n",
      " simple_rnn (SimpleRNN)      (None, 78, 32)            10656     \n",
      "                                                                 \n",
      " time_distributed (TimeDist  (None, 78, 4)             132       \n",
      " ributed)                                                        \n",
      "                                                                 \n",
      "=================================================================\n",
      "Total params: 732588 (2.79 MB)\n",
      "Trainable params: 10788 (42.14 KB)\n",
      "Non-trainable params: 721800 (2.75 MB)\n",
      "_________________________________________________________________\n"
     ]
    }
   ],
   "source": [
    "rnn_model.summary()"
   ]
  },
  {
   "cell_type": "markdown",
   "id": "14142b0d",
   "metadata": {
    "papermill": {
     "duration": 0.027005,
     "end_time": "2024-03-11T16:56:12.500191",
     "exception": false,
     "start_time": "2024-03-11T16:56:12.473186",
     "status": "completed"
    },
    "tags": []
   },
   "source": [
    "Fitting the rnn model"
   ]
  },
  {
   "cell_type": "code",
   "execution_count": 24,
   "id": "47d0999e",
   "metadata": {
    "execution": {
     "iopub.execute_input": "2024-03-11T16:56:12.556549Z",
     "iopub.status.busy": "2024-03-11T16:56:12.556158Z",
     "iopub.status.idle": "2024-03-11T16:57:19.605686Z",
     "shell.execute_reply": "2024-03-11T16:57:19.604248Z"
    },
    "papermill": {
     "duration": 67.081009,
     "end_time": "2024-03-11T16:57:19.608522",
     "exception": false,
     "start_time": "2024-03-11T16:56:12.527513",
     "status": "completed"
    },
    "tags": []
   },
   "outputs": [
    {
     "name": "stdout",
     "output_type": "stream",
     "text": [
      "Epoch 1/20\n",
      "7/7 [==============================] - 0s 7ms/step\n",
      "29/29 [==============================] - 0s 8ms/step\n",
      "Val F1 Score: 0.49620585194820066 - Train F1 Score: 0.4915636662142128\n",
      "8/8 [==============================] - 6s 585ms/step - loss: 1.1986 - acc: 0.9180 - precision: 0.8313 - recall: 0.0818 - val_loss: 0.9300 - val_acc: 0.9658 - val_precision: 0.9073 - val_recall: 0.1684\n",
      "Epoch 2/20\n",
      "7/7 [==============================] - 0s 8ms/step\n",
      "29/29 [==============================] - 0s 8ms/step\n",
      "Val F1 Score: 0.4993421456951712 - Train F1 Score: 0.4848154934913545\n",
      "8/8 [==============================] - 3s 457ms/step - loss: 0.7815 - acc: 0.9707 - precision: 0.9503 - recall: 0.4398 - val_loss: 0.5799 - val_acc: 0.9672 - val_precision: 0.9748 - val_recall: 0.8083\n",
      "Epoch 3/20\n",
      "7/7 [==============================] - 0s 8ms/step\n",
      "29/29 [==============================] - 0s 8ms/step\n",
      "Val F1 Score: 0.506678431753322 - Train F1 Score: 0.4815521417385137\n",
      "8/8 [==============================] - 3s 447ms/step - loss: 0.4746 - acc: 0.9693 - precision: 0.9708 - recall: 0.8526 - val_loss: 0.3644 - val_acc: 0.9625 - val_precision: 0.9730 - val_recall: 0.8723\n",
      "Epoch 4/20\n",
      "7/7 [==============================] - 0s 7ms/step\n",
      "29/29 [==============================] - 0s 8ms/step\n",
      "Val F1 Score: 0.5095937566198577 - Train F1 Score: 0.4831135231132938\n",
      "8/8 [==============================] - 3s 452ms/step - loss: 0.3112 - acc: 0.9646 - precision: 0.9674 - recall: 0.8923 - val_loss: 0.2676 - val_acc: 0.9596 - val_precision: 0.9670 - val_recall: 0.8845\n",
      "Epoch 5/20\n",
      "7/7 [==============================] - 0s 8ms/step\n",
      "29/29 [==============================] - 0s 7ms/step\n",
      "Val F1 Score: 0.5113194693330166 - Train F1 Score: 0.49270731299874815\n",
      "8/8 [==============================] - 3s 463ms/step - loss: 0.2363 - acc: 0.9636 - precision: 0.9653 - recall: 0.9083 - val_loss: 0.2207 - val_acc: 0.9583 - val_precision: 0.9670 - val_recall: 0.8976\n",
      "Epoch 6/20\n",
      "7/7 [==============================] - 0s 7ms/step\n",
      "29/29 [==============================] - 0s 7ms/step\n",
      "Val F1 Score: 0.5408976348033017 - Train F1 Score: 0.5220657714716216\n",
      "8/8 [==============================] - 3s 449ms/step - loss: 0.1973 - acc: 0.9642 - precision: 0.9670 - recall: 0.9173 - val_loss: 0.1940 - val_acc: 0.9590 - val_precision: 0.9695 - val_recall: 0.9104\n",
      "Epoch 7/20\n",
      "7/7 [==============================] - 0s 8ms/step\n",
      "29/29 [==============================] - 0s 8ms/step\n",
      "Val F1 Score: 0.5561755906513629 - Train F1 Score: 0.545243938750434\n",
      "8/8 [==============================] - 3s 443ms/step - loss: 0.1736 - acc: 0.9673 - precision: 0.9716 - recall: 0.9238 - val_loss: 0.1763 - val_acc: 0.9632 - val_precision: 0.9737 - val_recall: 0.9158\n",
      "Epoch 8/20\n",
      "7/7 [==============================] - 0s 8ms/step\n",
      "29/29 [==============================] - 0s 8ms/step\n",
      "Val F1 Score: 0.5704118381519179 - Train F1 Score: 0.560426930162413\n",
      "8/8 [==============================] - 3s 459ms/step - loss: 0.1570 - acc: 0.9703 - precision: 0.9739 - recall: 0.9284 - val_loss: 0.1638 - val_acc: 0.9643 - val_precision: 0.9741 - val_recall: 0.9171\n",
      "Epoch 9/20\n",
      "7/7 [==============================] - 0s 11ms/step\n",
      "29/29 [==============================] - 0s 9ms/step\n",
      "Val F1 Score: 0.5828944400650868 - Train F1 Score: 0.5725899571962153\n",
      "8/8 [==============================] - 3s 479ms/step - loss: 0.1448 - acc: 0.9716 - precision: 0.9749 - recall: 0.9297 - val_loss: 0.1549 - val_acc: 0.9650 - val_precision: 0.9747 - val_recall: 0.9306\n",
      "Epoch 10/20\n",
      "7/7 [==============================] - 0s 8ms/step\n",
      "29/29 [==============================] - 0s 8ms/step\n",
      "Val F1 Score: 0.5999541224696634 - Train F1 Score: 0.5902077803666005\n",
      "8/8 [==============================] - 3s 444ms/step - loss: 0.1354 - acc: 0.9727 - precision: 0.9761 - recall: 0.9435 - val_loss: 0.1481 - val_acc: 0.9654 - val_precision: 0.9748 - val_recall: 0.9316\n",
      "Epoch 11/20\n",
      "7/7 [==============================] - 0s 7ms/step\n",
      "29/29 [==============================] - 0s 7ms/step\n",
      "Val F1 Score: 0.611088591266231 - Train F1 Score: 0.6071453880771697\n",
      "8/8 [==============================] - 3s 445ms/step - loss: 0.1279 - acc: 0.9736 - precision: 0.9773 - recall: 0.9443 - val_loss: 0.1429 - val_acc: 0.9658 - val_precision: 0.9753 - val_recall: 0.9330\n",
      "Epoch 12/20\n",
      "7/7 [==============================] - 0s 8ms/step\n",
      "29/29 [==============================] - 0s 8ms/step\n",
      "Val F1 Score: 0.6265738339654576 - Train F1 Score: 0.6221433330185515\n",
      "8/8 [==============================] - 3s 450ms/step - loss: 0.1216 - acc: 0.9748 - precision: 0.9784 - recall: 0.9452 - val_loss: 0.1387 - val_acc: 0.9658 - val_precision: 0.9761 - val_recall: 0.9338\n",
      "Epoch 13/20\n",
      "7/7 [==============================] - 0s 8ms/step\n",
      "29/29 [==============================] - 0s 7ms/step\n",
      "Val F1 Score: 0.6319071574710965 - Train F1 Score: 0.6296281059452346\n",
      "8/8 [==============================] - 3s 438ms/step - loss: 0.1162 - acc: 0.9752 - precision: 0.9793 - recall: 0.9460 - val_loss: 0.1353 - val_acc: 0.9656 - val_precision: 0.9763 - val_recall: 0.9341\n",
      "Epoch 14/20\n",
      "7/7 [==============================] - 0s 8ms/step\n",
      "29/29 [==============================] - 0s 8ms/step\n",
      "Val F1 Score: 0.6372853330226435 - Train F1 Score: 0.6353631016369402\n",
      "8/8 [==============================] - 3s 450ms/step - loss: 0.1116 - acc: 0.9757 - precision: 0.9798 - recall: 0.9464 - val_loss: 0.1323 - val_acc: 0.9651 - val_precision: 0.9762 - val_recall: 0.9346\n",
      "Epoch 15/20\n",
      "7/7 [==============================] - 0s 7ms/step\n",
      "29/29 [==============================] - 0s 8ms/step\n",
      "Val F1 Score: 0.6545863013996374 - Train F1 Score: 0.6461889119782659\n",
      "8/8 [==============================] - 3s 453ms/step - loss: 0.1075 - acc: 0.9762 - precision: 0.9803 - recall: 0.9471 - val_loss: 0.1298 - val_acc: 0.9653 - val_precision: 0.9759 - val_recall: 0.9351\n",
      "Epoch 16/20\n",
      "7/7 [==============================] - 0s 8ms/step\n",
      "29/29 [==============================] - 0s 8ms/step\n",
      "Val F1 Score: 0.6629059652527651 - Train F1 Score: 0.6578097738053609\n",
      "8/8 [==============================] - 3s 466ms/step - loss: 0.1038 - acc: 0.9768 - precision: 0.9808 - recall: 0.9475 - val_loss: 0.1277 - val_acc: 0.9652 - val_precision: 0.9764 - val_recall: 0.9358\n",
      "Epoch 17/20\n",
      "7/7 [==============================] - 0s 8ms/step\n",
      "29/29 [==============================] - 0s 8ms/step\n",
      "Val F1 Score: 0.6669146520907259 - Train F1 Score: 0.6778626891554345\n",
      "8/8 [==============================] - 3s 455ms/step - loss: 0.1005 - acc: 0.9775 - precision: 0.9821 - recall: 0.9477 - val_loss: 0.1260 - val_acc: 0.9653 - val_precision: 0.9772 - val_recall: 0.9370\n",
      "Epoch 18/20\n",
      "7/7 [==============================] - 0s 7ms/step\n",
      "29/29 [==============================] - 0s 7ms/step\n",
      "Val F1 Score: 0.6690361863084788 - Train F1 Score: 0.6781907169574071\n",
      "8/8 [==============================] - 3s 467ms/step - loss: 0.0975 - acc: 0.9779 - precision: 0.9825 - recall: 0.9481 - val_loss: 0.1245 - val_acc: 0.9654 - val_precision: 0.9757 - val_recall: 0.9368\n",
      "Epoch 19/20\n",
      "7/7 [==============================] - 0s 8ms/step\n",
      "29/29 [==============================] - 0s 7ms/step\n",
      "Val F1 Score: 0.66950744746002 - Train F1 Score: 0.6866395810683155\n",
      "8/8 [==============================] - 3s 451ms/step - loss: 0.0948 - acc: 0.9781 - precision: 0.9824 - recall: 0.9486 - val_loss: 0.1233 - val_acc: 0.9653 - val_precision: 0.9750 - val_recall: 0.9371\n",
      "Epoch 20/20\n",
      "7/7 [==============================] - 0s 7ms/step\n",
      "29/29 [==============================] - 0s 7ms/step\n",
      "Val F1 Score: 0.685212220197859 - Train F1 Score: 0.7104125322300653\n",
      "8/8 [==============================] - 3s 446ms/step - loss: 0.0922 - acc: 0.9786 - precision: 0.9829 - recall: 0.9492 - val_loss: 0.1219 - val_acc: 0.9660 - val_precision: 0.9749 - val_recall: 0.9376\n"
     ]
    }
   ],
   "source": [
    "rnn_training = rnn_model.fit(X_train, Y_train, batch_size=128, epochs=20, validation_data=(X_val, Y_val), callbacks=[rnn_f1_callback])"
   ]
  },
  {
   "cell_type": "markdown",
   "id": "6e4663eb",
   "metadata": {
    "papermill": {
     "duration": 0.053044,
     "end_time": "2024-03-11T16:57:19.718061",
     "exception": false,
     "start_time": "2024-03-11T16:57:19.665017",
     "status": "completed"
    },
    "tags": []
   },
   "source": [
    "Plotting the graph"
   ]
  },
  {
   "cell_type": "code",
   "execution_count": 25,
   "id": "216157e8",
   "metadata": {
    "execution": {
     "iopub.execute_input": "2024-03-11T16:57:19.825743Z",
     "iopub.status.busy": "2024-03-11T16:57:19.825293Z",
     "iopub.status.idle": "2024-03-11T16:57:20.482455Z",
     "shell.execute_reply": "2024-03-11T16:57:20.481184Z"
    },
    "papermill": {
     "duration": 0.714232,
     "end_time": "2024-03-11T16:57:20.485091",
     "exception": false,
     "start_time": "2024-03-11T16:57:19.770859",
     "status": "completed"
    },
    "tags": []
   },
   "outputs": [
    {
     "data": {
      "image/png": "[encoded data removed]",
      "text/plain": [
       "<Figure size 1600x500 with 2 Axes>"
      ]
     },
     "metadata": {},
     "output_type": "display_data"
    }
   ],
   "source": [
    "draw_loss_graph(rnn_training,model_name, rnn_f1_callback.train_f1_scores, rnn_f1_callback.val_f1_scores)\n",
    "save_model(rnn_model,model_name,Embedding_name,Dataset)"
   ]
  },
  {
   "cell_type": "markdown",
   "id": "b3022f4e",
   "metadata": {
    "papermill": {
     "duration": 0.053535,
     "end_time": "2024-03-11T16:57:20.592647",
     "exception": false,
     "start_time": "2024-03-11T16:57:20.539112",
     "status": "completed"
    },
    "tags": []
   },
   "source": [
    "### Testing"
   ]
  },
  {
   "cell_type": "code",
   "execution_count": 26,
   "id": "b6117099",
   "metadata": {
    "execution": {
     "iopub.execute_input": "2024-03-11T16:57:20.704918Z",
     "iopub.status.busy": "2024-03-11T16:57:20.704175Z",
     "iopub.status.idle": "2024-03-11T16:57:20.847349Z",
     "shell.execute_reply": "2024-03-11T16:57:20.846156Z"
    },
    "papermill": {
     "duration": 0.20191,
     "end_time": "2024-03-11T16:57:20.850130",
     "exception": false,
     "start_time": "2024-03-11T16:57:20.648220",
     "status": "completed"
    },
    "tags": []
   },
   "outputs": [],
   "source": [
    "loaded_model = rnn(vocab_size,max_len,weights,Y_shape)\n",
    "params=load_model(model_name,Embedding_name,Dataset)\n",
    "loaded_model.set_weights(params)"
   ]
  },
  {
   "cell_type": "markdown",
   "id": "9620f9b1",
   "metadata": {
    "papermill": {
     "duration": 0.054716,
     "end_time": "2024-03-11T16:57:20.959246",
     "exception": false,
     "start_time": "2024-03-11T16:57:20.904530",
     "status": "completed"
    },
    "tags": []
   },
   "source": [
    "Testing accuracy"
   ]
  },
  {
   "cell_type": "code",
   "execution_count": 27,
   "id": "303849a0",
   "metadata": {
    "execution": {
     "iopub.execute_input": "2024-03-11T16:57:21.070308Z",
     "iopub.status.busy": "2024-03-11T16:57:21.069577Z",
     "iopub.status.idle": "2024-03-11T16:57:21.795461Z",
     "shell.execute_reply": "2024-03-11T16:57:21.794194Z"
    },
    "papermill": {
     "duration": 0.783897,
     "end_time": "2024-03-11T16:57:21.797677",
     "exception": false,
     "start_time": "2024-03-11T16:57:21.013780",
     "status": "completed"
    },
    "tags": []
   },
   "outputs": [
    {
     "name": "stdout",
     "output_type": "stream",
     "text": [
      "11/11 [==============================] - 1s 9ms/step - loss: 0.1353 - acc: 0.9643 - precision_1: 0.9727 - recall_1: 0.9354\n",
      "0.964274525642395\n"
     ]
    }
   ],
   "source": [
    "accuracy = loaded_model.evaluate(X_test, Y_test, verbose = 1)\n",
    "print(accuracy[1])"
   ]
  },
  {
   "cell_type": "markdown",
   "id": "5296dcaa",
   "metadata": {
    "papermill": {
     "duration": 0.056437,
     "end_time": "2024-03-11T16:57:21.909584",
     "exception": false,
     "start_time": "2024-03-11T16:57:21.853147",
     "status": "completed"
    },
    "tags": []
   },
   "source": [
    "Testing F1 Score"
   ]
  },
  {
   "cell_type": "code",
   "execution_count": 28,
   "id": "98972fcf",
   "metadata": {
    "execution": {
     "iopub.execute_input": "2024-03-11T16:57:22.022930Z",
     "iopub.status.busy": "2024-03-11T16:57:22.021933Z",
     "iopub.status.idle": "2024-03-11T16:57:23.056468Z",
     "shell.execute_reply": "2024-03-11T16:57:23.055080Z"
    },
    "papermill": {
     "duration": 1.09417,
     "end_time": "2024-03-11T16:57:23.059641",
     "exception": false,
     "start_time": "2024-03-11T16:57:21.965471",
     "status": "completed"
    },
    "tags": []
   },
   "outputs": [
    {
     "name": "stdout",
     "output_type": "stream",
     "text": [
      "11/11 [==============================] - 0s 7ms/step\n",
      "Test F1 Score: 0.6561934162367418\n"
     ]
    }
   ],
   "source": [
    "Y_pred = loaded_model.predict(X_test)\n",
    "real = get_real(Y_test)\n",
    "pred = get_pred(Y_pred)\n",
    "\n",
    "true_labels_flat = [label for sublist in real for label in sublist]\n",
    "predicted_labels_flat = [label for sublist in pred for label in sublist]\n",
    "\n",
    "# Compute F1 score\n",
    "f1 = f1_score(true_labels_flat, predicted_labels_flat, average='macro')\n",
    "\n",
    "print(\"Test F1 Score:\", f1)"
   ]
  },
  {
   "cell_type": "markdown",
   "id": "feeaa465",
   "metadata": {
    "papermill": {
     "duration": 0.05491,
     "end_time": "2024-03-11T16:57:23.169603",
     "exception": false,
     "start_time": "2024-03-11T16:57:23.114693",
     "status": "completed"
    },
    "tags": []
   },
   "source": [
    "## GRU"
   ]
  },
  {
   "cell_type": "code",
   "execution_count": 29,
   "id": "d05bf860",
   "metadata": {
    "execution": {
     "iopub.execute_input": "2024-03-11T16:57:23.282438Z",
     "iopub.status.busy": "2024-03-11T16:57:23.281987Z",
     "iopub.status.idle": "2024-03-11T16:57:23.287351Z",
     "shell.execute_reply": "2024-03-11T16:57:23.286102Z"
    },
    "papermill": {
     "duration": 0.065556,
     "end_time": "2024-03-11T16:57:23.290060",
     "exception": false,
     "start_time": "2024-03-11T16:57:23.224504",
     "status": "completed"
    },
    "tags": []
   },
   "outputs": [],
   "source": [
    "model_name=\"GRU\""
   ]
  },
  {
   "cell_type": "markdown",
   "id": "48d76a12",
   "metadata": {
    "papermill": {
     "duration": 0.054582,
     "end_time": "2024-03-11T16:57:23.400000",
     "exception": false,
     "start_time": "2024-03-11T16:57:23.345418",
     "status": "completed"
    },
    "tags": []
   },
   "source": [
    "### Training"
   ]
  },
  {
   "cell_type": "code",
   "execution_count": 30,
   "id": "862f1df2",
   "metadata": {
    "execution": {
     "iopub.execute_input": "2024-03-11T16:57:23.513873Z",
     "iopub.status.busy": "2024-03-11T16:57:23.512726Z",
     "iopub.status.idle": "2024-03-11T16:57:23.520816Z",
     "shell.execute_reply": "2024-03-11T16:57:23.519437Z"
    },
    "papermill": {
     "duration": 0.068633,
     "end_time": "2024-03-11T16:57:23.523815",
     "exception": false,
     "start_time": "2024-03-11T16:57:23.455182",
     "status": "completed"
    },
    "tags": []
   },
   "outputs": [],
   "source": [
    "def gru(vocab_size,max_len,weights,Y_train_shape):\n",
    "    gru_model = Sequential()\n",
    "    gru_model.add(Embedding(input_dim = vocab_size,output_dim = 300,input_length  = max_len,weights = [weights],trainable = False))\n",
    "    gru_model.add(GRU(64, return_sequences=True))\n",
    "    gru_model.add(TimeDistributed(Dense(Y_train_shape, activation='softmax')))\n",
    "    gru_model.compile(loss='categorical_crossentropy',optimizer='adam',metrics=['acc',Precision(),Recall()])\n",
    "    return gru_model"
   ]
  },
  {
   "cell_type": "markdown",
   "id": "55ff4975",
   "metadata": {
    "papermill": {
     "duration": 0.054711,
     "end_time": "2024-03-11T16:57:23.633538",
     "exception": false,
     "start_time": "2024-03-11T16:57:23.578827",
     "status": "completed"
    },
    "tags": []
   },
   "source": [
    "compiling "
   ]
  },
  {
   "cell_type": "code",
   "execution_count": 31,
   "id": "71c7450d",
   "metadata": {
    "execution": {
     "iopub.execute_input": "2024-03-11T16:57:23.747738Z",
     "iopub.status.busy": "2024-03-11T16:57:23.747279Z",
     "iopub.status.idle": "2024-03-11T16:57:24.080360Z",
     "shell.execute_reply": "2024-03-11T16:57:24.079173Z"
    },
    "papermill": {
     "duration": 0.39325,
     "end_time": "2024-03-11T16:57:24.083080",
     "exception": false,
     "start_time": "2024-03-11T16:57:23.689830",
     "status": "completed"
    },
    "tags": []
   },
   "outputs": [],
   "source": [
    "gru_model=gru(vocab_size,max_len,weights,Y_shape)"
   ]
  },
  {
   "cell_type": "code",
   "execution_count": null,
   "id": "70879a97",
   "metadata": {
    "execution": {
     "iopub.execute_input": "2024-03-11T16:45:04.930253Z",
     "iopub.status.busy": "2024-03-11T16:45:04.929684Z",
     "iopub.status.idle": "2024-03-11T16:45:04.947151Z",
     "shell.execute_reply": "2024-03-11T16:45:04.944967Z",
     "shell.execute_reply.started": "2024-03-11T16:45:04.930217Z"
    },
    "papermill": {
     "duration": 0.055277,
     "end_time": "2024-03-11T16:57:24.194891",
     "exception": false,
     "start_time": "2024-03-11T16:57:24.139614",
     "status": "completed"
    },
    "tags": []
   },
   "outputs": [],
   "source": []
  },
  {
   "cell_type": "code",
   "execution_count": 32,
   "id": "24cdbee3",
   "metadata": {
    "execution": {
     "iopub.execute_input": "2024-03-11T16:57:24.306988Z",
     "iopub.status.busy": "2024-03-11T16:57:24.306486Z",
     "iopub.status.idle": "2024-03-11T16:57:24.312199Z",
     "shell.execute_reply": "2024-03-11T16:57:24.310864Z"
    },
    "papermill": {
     "duration": 0.064545,
     "end_time": "2024-03-11T16:57:24.314513",
     "exception": false,
     "start_time": "2024-03-11T16:57:24.249968",
     "status": "completed"
    },
    "tags": []
   },
   "outputs": [],
   "source": [
    "gru_f1_callback = F1ScoreCallback(val_data=(X_val, Y_val),data=(X_train, Y_train))"
   ]
  },
  {
   "cell_type": "code",
   "execution_count": 33,
   "id": "8e62c838",
   "metadata": {
    "execution": {
     "iopub.execute_input": "2024-03-11T16:57:24.427629Z",
     "iopub.status.busy": "2024-03-11T16:57:24.427214Z",
     "iopub.status.idle": "2024-03-11T16:57:24.452437Z",
     "shell.execute_reply": "2024-03-11T16:57:24.450886Z"
    },
    "papermill": {
     "duration": 0.084886,
     "end_time": "2024-03-11T16:57:24.454931",
     "exception": false,
     "start_time": "2024-03-11T16:57:24.370045",
     "status": "completed"
    },
    "tags": []
   },
   "outputs": [
    {
     "name": "stdout",
     "output_type": "stream",
     "text": [
      "Model: \"sequential_2\"\n",
      "_________________________________________________________________\n",
      " Layer (type)                Output Shape              Param #   \n",
      "=================================================================\n",
      " embedding_2 (Embedding)     (None, 78, 300)           721800    \n",
      "                                                                 \n",
      " gru (GRU)                   (None, 78, 64)            70272     \n",
      "                                                                 \n",
      " time_distributed_2 (TimeDi  (None, 78, 4)             260       \n",
      " stributed)                                                      \n",
      "                                                                 \n",
      "=================================================================\n",
      "Total params: 792332 (3.02 MB)\n",
      "Trainable params: 70532 (275.52 KB)\n",
      "Non-trainable params: 721800 (2.75 MB)\n",
      "_________________________________________________________________\n"
     ]
    }
   ],
   "source": [
    "gru_model.summary()"
   ]
  },
  {
   "cell_type": "markdown",
   "id": "76ae9fdd",
   "metadata": {
    "papermill": {
     "duration": 0.056162,
     "end_time": "2024-03-11T16:57:24.567830",
     "exception": false,
     "start_time": "2024-03-11T16:57:24.511668",
     "status": "completed"
    },
    "tags": []
   },
   "source": [
    "Fitting GRU"
   ]
  },
  {
   "cell_type": "code",
   "execution_count": 34,
   "id": "606d51c9",
   "metadata": {
    "execution": {
     "iopub.execute_input": "2024-03-11T16:57:24.683771Z",
     "iopub.status.busy": "2024-03-11T16:57:24.683360Z",
     "iopub.status.idle": "2024-03-11T16:58:49.502806Z",
     "shell.execute_reply": "2024-03-11T16:58:49.501175Z"
    },
    "papermill": {
     "duration": 84.881684,
     "end_time": "2024-03-11T16:58:49.505705",
     "exception": false,
     "start_time": "2024-03-11T16:57:24.624021",
     "status": "completed"
    },
    "tags": []
   },
   "outputs": [
    {
     "name": "stdout",
     "output_type": "stream",
     "text": [
      "Epoch 1/20\n",
      "7/7 [==============================] - 1s 18ms/step\n",
      "29/29 [==============================] - 0s 16ms/step\n",
      "Val F1 Score: 0.49983647154764427 - Train F1 Score: 0.4868750125482364\n",
      "8/8 [==============================] - 8s 715ms/step - loss: 1.2224 - acc: 0.9504 - precision_2: 0.9090 - recall_2: 0.1059 - val_loss: 1.0826 - val_acc: 0.9707 - val_precision_2: 0.9057 - val_recall_2: 0.1975\n",
      "Epoch 2/20\n",
      "7/7 [==============================] - 0s 16ms/step\n",
      "29/29 [==============================] - 0s 16ms/step\n",
      "Val F1 Score: 0.4970392078344315 - Train F1 Score: 0.4892524692759251\n",
      "8/8 [==============================] - 4s 558ms/step - loss: 1.0199 - acc: 0.9735 - precision_2: 0.8949 - recall_2: 0.2169 - val_loss: 0.9366 - val_acc: 0.9727 - val_precision_2: 0.9034 - val_recall_2: 0.2123\n",
      "Epoch 3/20\n",
      "7/7 [==============================] - 0s 18ms/step\n",
      "29/29 [==============================] - 0s 16ms/step\n",
      "Val F1 Score: 0.504088705583076 - Train F1 Score: 0.507125142175646\n",
      "8/8 [==============================] - 4s 556ms/step - loss: 0.8524 - acc: 0.9736 - precision_2: 0.8956 - recall_2: 0.2181 - val_loss: 0.6795 - val_acc: 0.9730 - val_precision_2: 0.9071 - val_recall_2: 0.2127\n",
      "Epoch 4/20\n",
      "7/7 [==============================] - 0s 16ms/step\n",
      "29/29 [==============================] - 1s 17ms/step\n",
      "Val F1 Score: 0.5299906099812631 - Train F1 Score: 0.526067711586091\n",
      "8/8 [==============================] - 4s 577ms/step - loss: 0.4917 - acc: 0.9730 - precision_2: 0.9704 - recall_2: 0.7874 - val_loss: 0.2210 - val_acc: 0.9544 - val_precision_2: 0.9609 - val_recall_2: 0.9111\n",
      "Epoch 5/20\n",
      "7/7 [==============================] - 0s 16ms/step\n",
      "29/29 [==============================] - 1s 17ms/step\n",
      "Val F1 Score: 0.5571369055980459 - Train F1 Score: 0.5551799181634569\n",
      "8/8 [==============================] - 4s 579ms/step - loss: 0.2250 - acc: 0.9507 - precision_2: 0.9540 - recall_2: 0.9163 - val_loss: 0.1740 - val_acc: 0.9601 - val_precision_2: 0.9657 - val_recall_2: 0.9272\n",
      "Epoch 6/20\n",
      "7/7 [==============================] - 0s 17ms/step\n",
      "29/29 [==============================] - 0s 16ms/step\n",
      "Val F1 Score: 0.5764265616822095 - Train F1 Score: 0.5798361193496299\n",
      "8/8 [==============================] - 4s 560ms/step - loss: 0.1435 - acc: 0.9669 - precision_2: 0.9718 - recall_2: 0.9368 - val_loss: 0.1243 - val_acc: 0.9748 - val_precision_2: 0.9806 - val_recall_2: 0.9445\n",
      "Epoch 7/20\n",
      "7/7 [==============================] - 0s 18ms/step\n",
      "29/29 [==============================] - 0s 16ms/step\n",
      "Val F1 Score: 0.5739075190427373 - Train F1 Score: 0.5895303306627665\n",
      "8/8 [==============================] - 4s 561ms/step - loss: 0.1200 - acc: 0.9747 - precision_2: 0.9805 - recall_2: 0.9447 - val_loss: 0.1129 - val_acc: 0.9757 - val_precision_2: 0.9820 - val_recall_2: 0.9459\n",
      "Epoch 8/20\n",
      "7/7 [==============================] - 0s 15ms/step\n",
      "29/29 [==============================] - 0s 16ms/step\n",
      "Val F1 Score: 0.5921182296187298 - Train F1 Score: 0.6100653018731707\n",
      "8/8 [==============================] - 4s 575ms/step - loss: 0.1089 - acc: 0.9758 - precision_2: 0.9817 - recall_2: 0.9494 - val_loss: 0.1024 - val_acc: 0.9769 - val_precision_2: 0.9826 - val_recall_2: 0.9600\n",
      "Epoch 9/20\n",
      "7/7 [==============================] - 0s 16ms/step\n",
      "29/29 [==============================] - 0s 16ms/step\n",
      "Val F1 Score: 0.6061277858079296 - Train F1 Score: 0.6278128687071485\n",
      "8/8 [==============================] - 4s 549ms/step - loss: 0.0997 - acc: 0.9769 - precision_2: 0.9822 - recall_2: 0.9594 - val_loss: 0.0956 - val_acc: 0.9779 - val_precision_2: 0.9829 - val_recall_2: 0.9610\n",
      "Epoch 10/20\n",
      "7/7 [==============================] - 0s 16ms/step\n",
      "29/29 [==============================] - 0s 16ms/step\n",
      "Val F1 Score: 0.6161468217800256 - Train F1 Score: 0.6466749178281574\n",
      "8/8 [==============================] - 4s 547ms/step - loss: 0.0937 - acc: 0.9776 - precision_2: 0.9829 - recall_2: 0.9608 - val_loss: 0.0910 - val_acc: 0.9782 - val_precision_2: 0.9831 - val_recall_2: 0.9619\n",
      "Epoch 11/20\n",
      "7/7 [==============================] - 0s 15ms/step\n",
      "29/29 [==============================] - 0s 16ms/step\n",
      "Val F1 Score: 0.6319996789836979 - Train F1 Score: 0.6681892533584901\n",
      "8/8 [==============================] - 4s 564ms/step - loss: 0.0893 - acc: 0.9782 - precision_2: 0.9834 - recall_2: 0.9615 - val_loss: 0.0873 - val_acc: 0.9787 - val_precision_2: 0.9834 - val_recall_2: 0.9625\n",
      "Epoch 12/20\n",
      "7/7 [==============================] - 0s 15ms/step\n",
      "29/29 [==============================] - 0s 16ms/step\n",
      "Val F1 Score: 0.6547565546998735 - Train F1 Score: 0.6951227353199971\n",
      "8/8 [==============================] - 4s 577ms/step - loss: 0.0856 - acc: 0.9789 - precision_2: 0.9840 - recall_2: 0.9620 - val_loss: 0.0842 - val_acc: 0.9792 - val_precision_2: 0.9844 - val_recall_2: 0.9631\n",
      "Epoch 13/20\n",
      "7/7 [==============================] - 0s 18ms/step\n",
      "29/29 [==============================] - 0s 16ms/step\n",
      "Val F1 Score: 0.6670043780015034 - Train F1 Score: 0.7087454969895772\n",
      "8/8 [==============================] - 4s 571ms/step - loss: 0.0823 - acc: 0.9798 - precision_2: 0.9845 - recall_2: 0.9626 - val_loss: 0.0815 - val_acc: 0.9799 - val_precision_2: 0.9844 - val_recall_2: 0.9633\n",
      "Epoch 14/20\n",
      "7/7 [==============================] - 0s 17ms/step\n",
      "29/29 [==============================] - 1s 17ms/step\n",
      "Val F1 Score: 0.6890464387135764 - Train F1 Score: 0.7297603497974078\n",
      "8/8 [==============================] - 4s 571ms/step - loss: 0.0794 - acc: 0.9807 - precision_2: 0.9849 - recall_2: 0.9633 - val_loss: 0.0790 - val_acc: 0.9807 - val_precision_2: 0.9850 - val_recall_2: 0.9639\n",
      "Epoch 15/20\n",
      "7/7 [==============================] - 0s 17ms/step\n",
      "29/29 [==============================] - 0s 16ms/step\n",
      "Val F1 Score: 0.7033453406601253 - Train F1 Score: 0.747607904429378\n",
      "8/8 [==============================] - 4s 552ms/step - loss: 0.0766 - acc: 0.9815 - precision_2: 0.9855 - recall_2: 0.9642 - val_loss: 0.0768 - val_acc: 0.9811 - val_precision_2: 0.9854 - val_recall_2: 0.9648\n",
      "Epoch 16/20\n",
      "7/7 [==============================] - 0s 15ms/step\n",
      "29/29 [==============================] - 0s 16ms/step\n",
      "Val F1 Score: 0.7304332477326678 - Train F1 Score: 0.7638530100269743\n",
      "8/8 [==============================] - 4s 559ms/step - loss: 0.0741 - acc: 0.9821 - precision_2: 0.9860 - recall_2: 0.9649 - val_loss: 0.0746 - val_acc: 0.9823 - val_precision_2: 0.9857 - val_recall_2: 0.9656\n",
      "Epoch 17/20\n",
      "7/7 [==============================] - 0s 16ms/step\n",
      "29/29 [==============================] - 0s 17ms/step\n",
      "Val F1 Score: 0.741365506940462 - Train F1 Score: 0.7758863747835957\n",
      "8/8 [==============================] - 4s 580ms/step - loss: 0.0718 - acc: 0.9825 - precision_2: 0.9864 - recall_2: 0.9659 - val_loss: 0.0727 - val_acc: 0.9825 - val_precision_2: 0.9860 - val_recall_2: 0.9662\n",
      "Epoch 18/20\n",
      "7/7 [==============================] - 0s 15ms/step\n",
      "29/29 [==============================] - 0s 15ms/step\n",
      "Val F1 Score: 0.7433760359809576 - Train F1 Score: 0.7772252464720382\n",
      "8/8 [==============================] - 4s 585ms/step - loss: 0.0696 - acc: 0.9828 - precision_2: 0.9865 - recall_2: 0.9663 - val_loss: 0.0710 - val_acc: 0.9827 - val_precision_2: 0.9860 - val_recall_2: 0.9663\n",
      "Epoch 19/20\n",
      "7/7 [==============================] - 0s 16ms/step\n",
      "29/29 [==============================] - 1s 17ms/step\n",
      "Val F1 Score: 0.7581407628258974 - Train F1 Score: 0.7837419238044543\n",
      "8/8 [==============================] - 4s 568ms/step - loss: 0.0677 - acc: 0.9831 - precision_2: 0.9866 - recall_2: 0.9666 - val_loss: 0.0695 - val_acc: 0.9832 - val_precision_2: 0.9861 - val_recall_2: 0.9665\n",
      "Epoch 20/20\n",
      "7/7 [==============================] - 0s 15ms/step\n",
      "29/29 [==============================] - 1s 17ms/step\n",
      "Val F1 Score: 0.7763106784648549 - Train F1 Score: 0.8003450685102786\n",
      "8/8 [==============================] - 4s 554ms/step - loss: 0.0657 - acc: 0.9835 - precision_2: 0.9867 - recall_2: 0.9676 - val_loss: 0.0678 - val_acc: 0.9840 - val_precision_2: 0.9865 - val_recall_2: 0.9676\n"
     ]
    }
   ],
   "source": [
    "gru_training = gru_model.fit(X_train, Y_train, batch_size=128, epochs=20, validation_data=(X_val, Y_val), callbacks=[gru_f1_callback])"
   ]
  },
  {
   "cell_type": "markdown",
   "id": "be96f4ac",
   "metadata": {
    "papermill": {
     "duration": 0.097115,
     "end_time": "2024-03-11T16:58:49.700480",
     "exception": false,
     "start_time": "2024-03-11T16:58:49.603365",
     "status": "completed"
    },
    "tags": []
   },
   "source": [
    "Plotting Graph"
   ]
  },
  {
   "cell_type": "code",
   "execution_count": 35,
   "id": "3dbd3fb6",
   "metadata": {
    "execution": {
     "iopub.execute_input": "2024-03-11T16:58:49.898115Z",
     "iopub.status.busy": "2024-03-11T16:58:49.897314Z",
     "iopub.status.idle": "2024-03-11T16:58:50.527917Z",
     "shell.execute_reply": "2024-03-11T16:58:50.526656Z"
    },
    "papermill": {
     "duration": 0.732976,
     "end_time": "2024-03-11T16:58:50.530818",
     "exception": false,
     "start_time": "2024-03-11T16:58:49.797842",
     "status": "completed"
    },
    "tags": []
   },
   "outputs": [
    {
     "data": {
      "image/png": "[encoded data removed]",
      "text/plain": [
       "<Figure size 1600x500 with 2 Axes>"
      ]
     },
     "metadata": {},
     "output_type": "display_data"
    }
   ],
   "source": [
    "draw_loss_graph(gru_training,model_name, gru_f1_callback.train_f1_scores, gru_f1_callback.val_f1_scores)\n",
    "save_model(gru_model,model_name,Embedding_name,Dataset)"
   ]
  },
  {
   "cell_type": "markdown",
   "id": "36b4da27",
   "metadata": {
    "papermill": {
     "duration": 0.098452,
     "end_time": "2024-03-11T16:58:50.728371",
     "exception": false,
     "start_time": "2024-03-11T16:58:50.629919",
     "status": "completed"
    },
    "tags": []
   },
   "source": [
    "### Testing"
   ]
  },
  {
   "cell_type": "code",
   "execution_count": 36,
   "id": "cbd5282e",
   "metadata": {
    "execution": {
     "iopub.execute_input": "2024-03-11T16:58:50.927119Z",
     "iopub.status.busy": "2024-03-11T16:58:50.926643Z",
     "iopub.status.idle": "2024-03-11T16:58:51.258412Z",
     "shell.execute_reply": "2024-03-11T16:58:51.257306Z"
    },
    "papermill": {
     "duration": 0.434402,
     "end_time": "2024-03-11T16:58:51.261217",
     "exception": false,
     "start_time": "2024-03-11T16:58:50.826815",
     "status": "completed"
    },
    "tags": []
   },
   "outputs": [],
   "source": [
    "params = load_model(model_name,Embedding_name,Dataset)\n",
    "loaded_model=gru(vocab_size,max_len,weights,Y_shape)\n",
    "loaded_model.set_weights(params)"
   ]
  },
  {
   "cell_type": "markdown",
   "id": "90c4eb8e",
   "metadata": {
    "papermill": {
     "duration": 0.100427,
     "end_time": "2024-03-11T16:58:51.461633",
     "exception": false,
     "start_time": "2024-03-11T16:58:51.361206",
     "status": "completed"
    },
    "tags": []
   },
   "source": [
    "Testing Accuracy"
   ]
  },
  {
   "cell_type": "code",
   "execution_count": 37,
   "id": "06844dfb",
   "metadata": {
    "execution": {
     "iopub.execute_input": "2024-03-11T16:58:51.662400Z",
     "iopub.status.busy": "2024-03-11T16:58:51.661332Z",
     "iopub.status.idle": "2024-03-11T16:58:52.982717Z",
     "shell.execute_reply": "2024-03-11T16:58:52.981129Z"
    },
    "papermill": {
     "duration": 1.425721,
     "end_time": "2024-03-11T16:58:52.985471",
     "exception": false,
     "start_time": "2024-03-11T16:58:51.559750",
     "status": "completed"
    },
    "tags": []
   },
   "outputs": [
    {
     "name": "stdout",
     "output_type": "stream",
     "text": [
      "11/11 [==============================] - 1s 17ms/step - loss: 0.0828 - acc: 0.9794 - precision_3: 0.9832 - recall_3: 0.9639\n",
      "0.979401171207428\n"
     ]
    }
   ],
   "source": [
    "accuracy = loaded_model.evaluate(X_test, Y_test, verbose = 1)\n",
    "print(accuracy[1])"
   ]
  },
  {
   "cell_type": "markdown",
   "id": "c748ce35",
   "metadata": {
    "papermill": {
     "duration": 0.101832,
     "end_time": "2024-03-11T16:58:53.197478",
     "exception": false,
     "start_time": "2024-03-11T16:58:53.095646",
     "status": "completed"
    },
    "tags": []
   },
   "source": [
    "Testing F1 Score"
   ]
  },
  {
   "cell_type": "code",
   "execution_count": 38,
   "id": "3531c21d",
   "metadata": {
    "execution": {
     "iopub.execute_input": "2024-03-11T16:58:53.399266Z",
     "iopub.status.busy": "2024-03-11T16:58:53.398864Z",
     "iopub.status.idle": "2024-03-11T16:58:54.744421Z",
     "shell.execute_reply": "2024-03-11T16:58:54.743265Z"
    },
    "papermill": {
     "duration": 1.451133,
     "end_time": "2024-03-11T16:58:54.746973",
     "exception": false,
     "start_time": "2024-03-11T16:58:53.295840",
     "status": "completed"
    },
    "tags": []
   },
   "outputs": [
    {
     "name": "stdout",
     "output_type": "stream",
     "text": [
      "11/11 [==============================] - 1s 15ms/step\n",
      "Test F1 Score: 0.7337861599274077\n"
     ]
    }
   ],
   "source": [
    "Y_pred = loaded_model.predict(X_test)\n",
    "real = get_real(Y_test)\n",
    "pred = get_pred(Y_pred)\n",
    "\n",
    "true_labels_flat = [label for sublist in real for label in sublist]\n",
    "predicted_labels_flat = [label for sublist in pred for label in sublist]\n",
    "\n",
    "# Compute F1 score\n",
    "f1 = f1_score(true_labels_flat, predicted_labels_flat, average='macro')\n",
    "\n",
    "print(\"Test F1 Score:\", f1)"
   ]
  },
  {
   "cell_type": "markdown",
   "id": "d2120853",
   "metadata": {
    "papermill": {
     "duration": 0.098477,
     "end_time": "2024-03-11T16:58:54.945018",
     "exception": false,
     "start_time": "2024-03-11T16:58:54.846541",
     "status": "completed"
    },
    "tags": []
   },
   "source": [
    "## LSTM"
   ]
  },
  {
   "cell_type": "code",
   "execution_count": 39,
   "id": "5e3d4ea8",
   "metadata": {
    "execution": {
     "iopub.execute_input": "2024-03-11T16:58:55.147111Z",
     "iopub.status.busy": "2024-03-11T16:58:55.145879Z",
     "iopub.status.idle": "2024-03-11T16:58:55.151186Z",
     "shell.execute_reply": "2024-03-11T16:58:55.150325Z"
    },
    "papermill": {
     "duration": 0.107496,
     "end_time": "2024-03-11T16:58:55.153356",
     "exception": false,
     "start_time": "2024-03-11T16:58:55.045860",
     "status": "completed"
    },
    "tags": []
   },
   "outputs": [],
   "source": [
    "model_name=\"LSTM\""
   ]
  },
  {
   "cell_type": "markdown",
   "id": "58af20d3",
   "metadata": {
    "papermill": {
     "duration": 0.100722,
     "end_time": "2024-03-11T16:58:55.354404",
     "exception": false,
     "start_time": "2024-03-11T16:58:55.253682",
     "status": "completed"
    },
    "tags": []
   },
   "source": [
    "### Training"
   ]
  },
  {
   "cell_type": "code",
   "execution_count": 40,
   "id": "4bf24064",
   "metadata": {
    "execution": {
     "iopub.execute_input": "2024-03-11T16:58:55.556928Z",
     "iopub.status.busy": "2024-03-11T16:58:55.555804Z",
     "iopub.status.idle": "2024-03-11T16:58:55.563566Z",
     "shell.execute_reply": "2024-03-11T16:58:55.562751Z"
    },
    "papermill": {
     "duration": 0.111394,
     "end_time": "2024-03-11T16:58:55.565982",
     "exception": false,
     "start_time": "2024-03-11T16:58:55.454588",
     "status": "completed"
    },
    "tags": []
   },
   "outputs": [],
   "source": [
    "def lstm(vocab_size,max_len,weights,Y_shape):\n",
    "    lstm_model = Sequential()\n",
    "    lstm_model.add(Embedding(input_dim = vocab_size,output_dim = 300,input_length  = max_len,weights = [weights],trainable = False))\n",
    "    lstm_model.add(LSTM(128, return_sequences=True))\n",
    "    lstm_model.add(TimeDistributed(Dense(Y_train.shape[2], activation='softmax')))# Lstm\n",
    "    lstm_model.compile(loss='categorical_crossentropy',optimizer='adam',metrics=['acc',Precision(),Recall()])    \n",
    "    return lstm_model"
   ]
  },
  {
   "cell_type": "markdown",
   "id": "6c1ade7a",
   "metadata": {
    "papermill": {
     "duration": 0.099316,
     "end_time": "2024-03-11T16:58:55.764505",
     "exception": false,
     "start_time": "2024-03-11T16:58:55.665189",
     "status": "completed"
    },
    "tags": []
   },
   "source": [
    "Compiling LSTM"
   ]
  },
  {
   "cell_type": "code",
   "execution_count": 41,
   "id": "364b3d2e",
   "metadata": {
    "execution": {
     "iopub.execute_input": "2024-03-11T16:58:55.966323Z",
     "iopub.status.busy": "2024-03-11T16:58:55.965899Z",
     "iopub.status.idle": "2024-03-11T16:58:56.337355Z",
     "shell.execute_reply": "2024-03-11T16:58:56.336199Z"
    },
    "papermill": {
     "duration": 0.476589,
     "end_time": "2024-03-11T16:58:56.340297",
     "exception": false,
     "start_time": "2024-03-11T16:58:55.863708",
     "status": "completed"
    },
    "tags": []
   },
   "outputs": [],
   "source": [
    "lstm_model=lstm(vocab_size,max_len,weights,Y_shape)"
   ]
  },
  {
   "cell_type": "code",
   "execution_count": null,
   "id": "2802ff48",
   "metadata": {
    "papermill": {
     "duration": 0.098797,
     "end_time": "2024-03-11T16:58:56.542969",
     "exception": false,
     "start_time": "2024-03-11T16:58:56.444172",
     "status": "completed"
    },
    "tags": []
   },
   "outputs": [],
   "source": []
  },
  {
   "cell_type": "code",
   "execution_count": 42,
   "id": "48743188",
   "metadata": {
    "execution": {
     "iopub.execute_input": "2024-03-11T16:58:56.744605Z",
     "iopub.status.busy": "2024-03-11T16:58:56.743838Z",
     "iopub.status.idle": "2024-03-11T16:58:56.748658Z",
     "shell.execute_reply": "2024-03-11T16:58:56.747798Z"
    },
    "papermill": {
     "duration": 0.108799,
     "end_time": "2024-03-11T16:58:56.751165",
     "exception": false,
     "start_time": "2024-03-11T16:58:56.642366",
     "status": "completed"
    },
    "tags": []
   },
   "outputs": [],
   "source": [
    "LSTM_f1_callback=F1ScoreCallback(val_data=(X_val, Y_val),data=(X_train, Y_train))"
   ]
  },
  {
   "cell_type": "code",
   "execution_count": 43,
   "id": "c1b35dea",
   "metadata": {
    "execution": {
     "iopub.execute_input": "2024-03-11T16:58:56.951192Z",
     "iopub.status.busy": "2024-03-11T16:58:56.950521Z",
     "iopub.status.idle": "2024-03-11T16:58:56.973516Z",
     "shell.execute_reply": "2024-03-11T16:58:56.972135Z"
    },
    "papermill": {
     "duration": 0.127994,
     "end_time": "2024-03-11T16:58:56.977967",
     "exception": false,
     "start_time": "2024-03-11T16:58:56.849973",
     "status": "completed"
    },
    "tags": []
   },
   "outputs": [
    {
     "name": "stdout",
     "output_type": "stream",
     "text": [
      "Model: \"sequential_4\"\n",
      "_________________________________________________________________\n",
      " Layer (type)                Output Shape              Param #   \n",
      "=================================================================\n",
      " embedding_4 (Embedding)     (None, 78, 300)           721800    \n",
      "                                                                 \n",
      " lstm (LSTM)                 (None, 78, 128)           219648    \n",
      "                                                                 \n",
      " time_distributed_4 (TimeDi  (None, 78, 4)             516       \n",
      " stributed)                                                      \n",
      "                                                                 \n",
      "=================================================================\n",
      "Total params: 941964 (3.59 MB)\n",
      "Trainable params: 220164 (860.02 KB)\n",
      "Non-trainable params: 721800 (2.75 MB)\n",
      "_________________________________________________________________\n"
     ]
    }
   ],
   "source": [
    "lstm_model.summary()"
   ]
  },
  {
   "cell_type": "markdown",
   "id": "96aa1fb1",
   "metadata": {
    "papermill": {
     "duration": 0.101296,
     "end_time": "2024-03-11T16:58:57.180288",
     "exception": false,
     "start_time": "2024-03-11T16:58:57.078992",
     "status": "completed"
    },
    "tags": []
   },
   "source": [
    "Fitting LSTM"
   ]
  },
  {
   "cell_type": "code",
   "execution_count": 44,
   "id": "87fb00fc",
   "metadata": {
    "execution": {
     "iopub.execute_input": "2024-03-11T16:58:57.385554Z",
     "iopub.status.busy": "2024-03-11T16:58:57.384450Z",
     "iopub.status.idle": "2024-03-11T17:00:55.782271Z",
     "shell.execute_reply": "2024-03-11T17:00:55.780892Z"
    },
    "papermill": {
     "duration": 118.503787,
     "end_time": "2024-03-11T17:00:55.784876",
     "exception": false,
     "start_time": "2024-03-11T16:58:57.281089",
     "status": "completed"
    },
    "tags": []
   },
   "outputs": [
    {
     "name": "stdout",
     "output_type": "stream",
     "text": [
      "Epoch 1/20\n",
      "7/7 [==============================] - 1s 40ms/step\n",
      "29/29 [==============================] - 1s 40ms/step\n",
      "Val F1 Score: 0.48560170522318175 - Train F1 Score: 0.4875647297982089\n",
      "8/8 [==============================] - 9s 914ms/step - loss: 1.2363 - acc: 0.9370 - precision_4: 0.9072 - recall_4: 0.1012 - val_loss: 1.0584 - val_acc: 0.9735 - val_precision_4: 0.9058 - val_recall_4: 0.2004\n",
      "Epoch 2/20\n",
      "7/7 [==============================] - 0s 40ms/step\n",
      "29/29 [==============================] - 1s 38ms/step\n",
      "Val F1 Score: 0.4295708539743033 - Train F1 Score: 0.4349364041896361\n",
      "8/8 [==============================] - 6s 769ms/step - loss: 0.8714 - acc: 0.9653 - precision_4: 0.9211 - recall_4: 0.3319 - val_loss: 0.5692 - val_acc: 0.9018 - val_precision_4: 0.8864 - val_recall_4: 0.7466\n",
      "Epoch 3/20\n",
      "7/7 [==============================] - 0s 38ms/step\n",
      "29/29 [==============================] - 1s 37ms/step\n",
      "Val F1 Score: 0.4740776158766927 - Train F1 Score: 0.4748260421356867\n",
      "8/8 [==============================] - 6s 764ms/step - loss: 0.4225 - acc: 0.9292 - precision_4: 0.9218 - recall_4: 0.8013 - val_loss: 0.2995 - val_acc: 0.9568 - val_precision_4: 0.9550 - val_recall_4: 0.8532\n",
      "Epoch 4/20\n",
      "7/7 [==============================] - 0s 46ms/step\n",
      "29/29 [==============================] - 1s 41ms/step\n",
      "Val F1 Score: 0.4782692108605675 - Train F1 Score: 0.4791862326348242\n",
      "8/8 [==============================] - 6s 850ms/step - loss: 0.2706 - acc: 0.9621 - precision_4: 0.9603 - recall_4: 0.8746 - val_loss: 0.2288 - val_acc: 0.9631 - val_precision_4: 0.9629 - val_recall_4: 0.8985\n",
      "Epoch 5/20\n",
      "7/7 [==============================] - 0s 39ms/step\n",
      "29/29 [==============================] - 1s 37ms/step\n",
      "Val F1 Score: 0.47781541246004067 - Train F1 Score: 0.478657462230094\n",
      "8/8 [==============================] - 6s 769ms/step - loss: 0.2086 - acc: 0.9622 - precision_4: 0.9610 - recall_4: 0.8993 - val_loss: 0.1908 - val_acc: 0.9624 - val_precision_4: 0.9615 - val_recall_4: 0.9097\n",
      "Epoch 6/20\n",
      "7/7 [==============================] - 0s 39ms/step\n",
      "29/29 [==============================] - 1s 37ms/step\n",
      "Val F1 Score: 0.483602619300985 - Train F1 Score: 0.483960296129202\n",
      "8/8 [==============================] - 6s 767ms/step - loss: 0.1766 - acc: 0.9645 - precision_4: 0.9634 - recall_4: 0.9124 - val_loss: 0.1638 - val_acc: 0.9705 - val_precision_4: 0.9693 - val_recall_4: 0.9193\n",
      "Epoch 7/20\n",
      "7/7 [==============================] - 0s 38ms/step\n",
      "29/29 [==============================] - 1s 38ms/step\n",
      "Val F1 Score: 0.4861029272521551 - Train F1 Score: 0.4850861921732218\n",
      "8/8 [==============================] - 6s 777ms/step - loss: 0.1557 - acc: 0.9709 - precision_4: 0.9702 - recall_4: 0.9267 - val_loss: 0.1482 - val_acc: 0.9717 - val_precision_4: 0.9719 - val_recall_4: 0.9323\n",
      "Epoch 8/20\n",
      "7/7 [==============================] - 0s 39ms/step\n",
      "29/29 [==============================] - 1s 41ms/step\n",
      "Val F1 Score: 0.519186079100501 - Train F1 Score: 0.5253444393361945\n",
      "8/8 [==============================] - 6s 782ms/step - loss: 0.1417 - acc: 0.9713 - precision_4: 0.9723 - recall_4: 0.9316 - val_loss: 0.1372 - val_acc: 0.9723 - val_precision_4: 0.9739 - val_recall_4: 0.9312\n",
      "Epoch 9/20\n",
      "7/7 [==============================] - 0s 39ms/step\n",
      "29/29 [==============================] - 1s 38ms/step\n",
      "Val F1 Score: 0.5338057706305188 - Train F1 Score: 0.5437725991072211\n",
      "8/8 [==============================] - 6s 806ms/step - loss: 0.1312 - acc: 0.9730 - precision_4: 0.9753 - recall_4: 0.9324 - val_loss: 0.1275 - val_acc: 0.9737 - val_precision_4: 0.9762 - val_recall_4: 0.9331\n",
      "Epoch 10/20\n",
      "7/7 [==============================] - 0s 39ms/step\n",
      "29/29 [==============================] - 1s 38ms/step\n",
      "Val F1 Score: 0.5545192508016182 - Train F1 Score: 0.5600346596344639\n",
      "8/8 [==============================] - 6s 799ms/step - loss: 0.1229 - acc: 0.9740 - precision_4: 0.9771 - recall_4: 0.9332 - val_loss: 0.1200 - val_acc: 0.9749 - val_precision_4: 0.9781 - val_recall_4: 0.9340\n",
      "Epoch 11/20\n",
      "7/7 [==============================] - 0s 42ms/step\n",
      "29/29 [==============================] - 1s 41ms/step\n",
      "Val F1 Score: 0.5758772474068921 - Train F1 Score: 0.5860779844531396\n",
      "8/8 [==============================] - 6s 776ms/step - loss: 0.1162 - acc: 0.9750 - precision_4: 0.9786 - recall_4: 0.9397 - val_loss: 0.1142 - val_acc: 0.9756 - val_precision_4: 0.9795 - val_recall_4: 0.9471\n",
      "Epoch 12/20\n",
      "7/7 [==============================] - 0s 42ms/step\n",
      "29/29 [==============================] - 1s 41ms/step\n",
      "Val F1 Score: 0.6039260375559186 - Train F1 Score: 0.6186250743414475\n",
      "8/8 [==============================] - 6s 834ms/step - loss: 0.1098 - acc: 0.9764 - precision_4: 0.9805 - recall_4: 0.9471 - val_loss: 0.1082 - val_acc: 0.9773 - val_precision_4: 0.9811 - val_recall_4: 0.9482\n",
      "Epoch 13/20\n",
      "7/7 [==============================] - 0s 40ms/step\n",
      "29/29 [==============================] - 1s 39ms/step\n",
      "Val F1 Score: 0.621727361449785 - Train F1 Score: 0.6374988228478375\n",
      "8/8 [==============================] - 6s 779ms/step - loss: 0.1048 - acc: 0.9772 - precision_4: 0.9815 - recall_4: 0.9477 - val_loss: 0.1037 - val_acc: 0.9778 - val_precision_4: 0.9814 - val_recall_4: 0.9491\n",
      "Epoch 14/20\n",
      "7/7 [==============================] - 0s 41ms/step\n",
      "29/29 [==============================] - 1s 40ms/step\n",
      "Val F1 Score: 0.6441623837293833 - Train F1 Score: 0.6626945097955109\n",
      "8/8 [==============================] - 6s 865ms/step - loss: 0.1004 - acc: 0.9779 - precision_4: 0.9819 - recall_4: 0.9483 - val_loss: 0.1000 - val_acc: 0.9789 - val_precision_4: 0.9825 - val_recall_4: 0.9502\n",
      "Epoch 15/20\n",
      "7/7 [==============================] - 0s 51ms/step\n",
      "29/29 [==============================] - 1s 41ms/step\n",
      "Val F1 Score: 0.6590307188362324 - Train F1 Score: 0.6854806137322529\n",
      "8/8 [==============================] - 6s 847ms/step - loss: 0.0962 - acc: 0.9785 - precision_4: 0.9827 - recall_4: 0.9492 - val_loss: 0.0961 - val_acc: 0.9794 - val_precision_4: 0.9834 - val_recall_4: 0.9507\n",
      "Epoch 16/20\n",
      "7/7 [==============================] - 0s 40ms/step\n",
      "29/29 [==============================] - 1s 40ms/step\n",
      "Val F1 Score: 0.6985654818859697 - Train F1 Score: 0.7173483222732497\n",
      "8/8 [==============================] - 6s 790ms/step - loss: 0.0924 - acc: 0.9797 - precision_4: 0.9835 - recall_4: 0.9502 - val_loss: 0.0931 - val_acc: 0.9806 - val_precision_4: 0.9839 - val_recall_4: 0.9509\n",
      "Epoch 17/20\n",
      "7/7 [==============================] - 0s 37ms/step\n",
      "29/29 [==============================] - 1s 38ms/step\n",
      "Val F1 Score: 0.7134895320299537 - Train F1 Score: 0.7297685905362817\n",
      "8/8 [==============================] - 6s 776ms/step - loss: 0.0889 - acc: 0.9807 - precision_4: 0.9845 - recall_4: 0.9512 - val_loss: 0.0900 - val_acc: 0.9811 - val_precision_4: 0.9841 - val_recall_4: 0.9522\n",
      "Epoch 18/20\n",
      "7/7 [==============================] - 0s 38ms/step\n",
      "29/29 [==============================] - 1s 37ms/step\n",
      "Val F1 Score: 0.7072734914807934 - Train F1 Score: 0.7336753290098786\n",
      "8/8 [==============================] - 6s 801ms/step - loss: 0.0858 - acc: 0.9807 - precision_4: 0.9839 - recall_4: 0.9516 - val_loss: 0.0873 - val_acc: 0.9811 - val_precision_4: 0.9843 - val_recall_4: 0.9529\n",
      "Epoch 19/20\n",
      "7/7 [==============================] - 0s 40ms/step\n",
      "29/29 [==============================] - 1s 38ms/step\n",
      "Val F1 Score: 0.7458055690024983 - Train F1 Score: 0.7712162279156761\n",
      "8/8 [==============================] - 6s 778ms/step - loss: 0.0828 - acc: 0.9816 - precision_4: 0.9848 - recall_4: 0.9526 - val_loss: 0.0845 - val_acc: 0.9824 - val_precision_4: 0.9857 - val_recall_4: 0.9540\n",
      "Epoch 20/20\n",
      "7/7 [==============================] - 0s 39ms/step\n",
      "29/29 [==============================] - 1s 40ms/step\n",
      "Val F1 Score: 0.7530248163947628 - Train F1 Score: 0.7780683383253788\n",
      "8/8 [==============================] - 6s 767ms/step - loss: 0.0799 - acc: 0.9826 - precision_4: 0.9856 - recall_4: 0.9537 - val_loss: 0.0826 - val_acc: 0.9827 - val_precision_4: 0.9859 - val_recall_4: 0.9546\n"
     ]
    }
   ],
   "source": [
    "lstm_training = lstm_model.fit(X_train, Y_train, batch_size=128, epochs=20, validation_data=(X_val, Y_val), callbacks=[LSTM_f1_callback])"
   ]
  },
  {
   "cell_type": "markdown",
   "id": "7f0dd2d7",
   "metadata": {
    "papermill": {
     "duration": 0.161119,
     "end_time": "2024-03-11T17:00:56.107331",
     "exception": false,
     "start_time": "2024-03-11T17:00:55.946212",
     "status": "completed"
    },
    "tags": []
   },
   "source": [
    "Plotting Graph"
   ]
  },
  {
   "cell_type": "code",
   "execution_count": 45,
   "id": "e4b572a5",
   "metadata": {
    "execution": {
     "iopub.execute_input": "2024-03-11T17:00:56.428466Z",
     "iopub.status.busy": "2024-03-11T17:00:56.428066Z",
     "iopub.status.idle": "2024-03-11T17:00:57.035975Z",
     "shell.execute_reply": "2024-03-11T17:00:57.034656Z"
    },
    "papermill": {
     "duration": 0.773529,
     "end_time": "2024-03-11T17:00:57.038701",
     "exception": false,
     "start_time": "2024-03-11T17:00:56.265172",
     "status": "completed"
    },
    "tags": []
   },
   "outputs": [
    {
     "data": {
      "image/png": "[encoded data removed]",
      "text/plain": [
       "<Figure size 1600x500 with 2 Axes>"
      ]
     },
     "metadata": {},
     "output_type": "display_data"
    }
   ],
   "source": [
    "draw_loss_graph(lstm_training, \"LSTM Model\", LSTM_f1_callback.train_f1_scores, LSTM_f1_callback.val_f1_scores)\n",
    "save_model(lstm_model, model_name, Embedding_name, Dataset)\n",
    "# loaded_model = load_model(model_name,Embedding_name,Dataset)"
   ]
  },
  {
   "cell_type": "markdown",
   "id": "e6adec98",
   "metadata": {
    "papermill": {
     "duration": 0.160109,
     "end_time": "2024-03-11T17:00:57.360249",
     "exception": false,
     "start_time": "2024-03-11T17:00:57.200140",
     "status": "completed"
    },
    "tags": []
   },
   "source": [
    "### Testing"
   ]
  },
  {
   "cell_type": "code",
   "execution_count": 46,
   "id": "322753d8",
   "metadata": {
    "execution": {
     "iopub.execute_input": "2024-03-11T17:00:57.751081Z",
     "iopub.status.busy": "2024-03-11T17:00:57.750422Z",
     "iopub.status.idle": "2024-03-11T17:00:58.138144Z",
     "shell.execute_reply": "2024-03-11T17:00:58.137056Z"
    },
    "papermill": {
     "duration": 0.553299,
     "end_time": "2024-03-11T17:00:58.141212",
     "exception": false,
     "start_time": "2024-03-11T17:00:57.587913",
     "status": "completed"
    },
    "tags": []
   },
   "outputs": [],
   "source": [
    "params = load_model(model_name,Embedding_name,Dataset)\n",
    "loaded_model=lstm(vocab_size,max_len,weights,Y_shape)\n",
    "loaded_model.set_weights(params)"
   ]
  },
  {
   "cell_type": "markdown",
   "id": "c216e6cb",
   "metadata": {
    "papermill": {
     "duration": 0.161376,
     "end_time": "2024-03-11T17:00:58.464132",
     "exception": false,
     "start_time": "2024-03-11T17:00:58.302756",
     "status": "completed"
    },
    "tags": []
   },
   "source": [
    "Testing accuracy"
   ]
  },
  {
   "cell_type": "code",
   "execution_count": 47,
   "id": "943b03d0",
   "metadata": {
    "execution": {
     "iopub.execute_input": "2024-03-11T17:00:58.785930Z",
     "iopub.status.busy": "2024-03-11T17:00:58.785483Z",
     "iopub.status.idle": "2024-03-11T17:01:00.347098Z",
     "shell.execute_reply": "2024-03-11T17:01:00.345847Z"
    },
    "papermill": {
     "duration": 1.724524,
     "end_time": "2024-03-11T17:01:00.349371",
     "exception": false,
     "start_time": "2024-03-11T17:00:58.624847",
     "status": "completed"
    },
    "tags": []
   },
   "outputs": [
    {
     "name": "stdout",
     "output_type": "stream",
     "text": [
      "11/11 [==============================] - 1s 38ms/step - loss: 0.0987 - acc: 0.9798 - precision_5: 0.9819 - recall_5: 0.9515\n",
      "0.9797529578208923\n"
     ]
    }
   ],
   "source": [
    "accuracy = loaded_model.evaluate(X_test, Y_test, verbose = 1)\n",
    "print(accuracy[1])"
   ]
  },
  {
   "cell_type": "markdown",
   "id": "8b7de0a5",
   "metadata": {
    "papermill": {
     "duration": 0.160312,
     "end_time": "2024-03-11T17:01:00.670889",
     "exception": false,
     "start_time": "2024-03-11T17:01:00.510577",
     "status": "completed"
    },
    "tags": []
   },
   "source": [
    "Testing F1 Score"
   ]
  },
  {
   "cell_type": "code",
   "execution_count": 48,
   "id": "887c6cd6",
   "metadata": {
    "execution": {
     "iopub.execute_input": "2024-03-11T17:01:00.994430Z",
     "iopub.status.busy": "2024-03-11T17:01:00.993634Z",
     "iopub.status.idle": "2024-03-11T17:01:02.620006Z",
     "shell.execute_reply": "2024-03-11T17:01:02.618779Z"
    },
    "papermill": {
     "duration": 1.790543,
     "end_time": "2024-03-11T17:01:02.622571",
     "exception": false,
     "start_time": "2024-03-11T17:01:00.832028",
     "status": "completed"
    },
    "tags": []
   },
   "outputs": [
    {
     "name": "stdout",
     "output_type": "stream",
     "text": [
      "11/11 [==============================] - 1s 36ms/step\n",
      "Test F1 Score: 0.7249169421823067\n"
     ]
    }
   ],
   "source": [
    "Y_pred = loaded_model.predict(X_test)\n",
    "real = get_real(Y_test)\n",
    "pred = get_pred(Y_pred)\n",
    "\n",
    "true_labels_flat = [label for sublist in real for label in sublist]\n",
    "predicted_labels_flat = [label for sublist in pred for label in sublist]\n",
    "\n",
    "# Compute F1 score\n",
    "f1 = f1_score(true_labels_flat, predicted_labels_flat, average='macro')\n",
    "\n",
    "print(\"Test F1 Score:\", f1)"
   ]
  }
 ],
 "metadata": {
  "kaggle": {
   "accelerator": "none",
   "dataSources": [
    {
     "datasetId": 4563561,
     "sourceId": 7809954,
     "sourceType": "datasetVersion"
    },
    {
     "datasetId": 4574147,
     "sourceId": 7817231,
     "sourceType": "datasetVersion"
    }
   ],
   "dockerImageVersionId": 30664,
   "isGpuEnabled": false,
   "isInternetEnabled": true,
   "language": "python",
   "sourceType": "notebook"
  },
  "kernelspec": {
   "display_name": "Python 3",
   "language": "python",
   "name": "python3"
  },
  "language_info": {
   "codemirror_mode": {
    "name": "ipython",
    "version": 3
   },
   "file_extension": ".py",
   "mimetype": "text/x-python",
   "name": "python",
   "nbconvert_exporter": "python",
   "pygments_lexer": "ipython3",
   "version": "3.10.13"
  },
  "papermill": {
   "default_parameters": {},
   "duration": 424.548061,
   "end_time": "2024-03-11T17:01:06.119469",
   "environment_variables": {},
   "exception": null,
   "input_path": "__notebook__.ipynb",
   "output_path": "__notebook__.ipynb",
   "parameters": {},
   "start_time": "2024-03-11T16:54:01.571408",
   "version": "2.5.0"
  }
 },
 "nbformat": 4,
 "nbformat_minor": 5
}
