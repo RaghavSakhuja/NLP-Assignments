{
 "cells": [
  {
   "cell_type": "code",
   "execution_count": 1,
   "id": "db931e77",
   "metadata": {
    "execution": {
     "iopub.execute_input": "2024-03-10T21:01:39.902483Z",
     "iopub.status.busy": "2024-03-10T21:01:39.902035Z",
     "iopub.status.idle": "2024-03-10T21:01:54.457742Z",
     "shell.execute_reply": "2024-03-10T21:01:54.456294Z"
    },
    "papermill": {
     "duration": 14.57547,
     "end_time": "2024-03-10T21:01:54.460560",
     "exception": false,
     "start_time": "2024-03-10T21:01:39.885090",
     "status": "completed"
    },
    "tags": []
   },
   "outputs": [
    {
     "name": "stdout",
     "output_type": "stream",
     "text": [
      "Collecting keras==2.15.0\r\n",
      "  Downloading keras-2.15.0-py3-none-any.whl.metadata (2.4 kB)\r\n",
      "Downloading keras-2.15.0-py3-none-any.whl (1.7 MB)\r\n",
      "\u001b[2K   \u001b[90m━━━━━━━━━━━━━━━━━━━━━━━━━━━━━━━━━━━━━━━━\u001b[0m \u001b[32m1.7/1.7 MB\u001b[0m \u001b[31m31.9 MB/s\u001b[0m eta \u001b[36m0:00:00\u001b[0m\r\n",
      "\u001b[?25hInstalling collected packages: keras\r\n",
      "  Attempting uninstall: keras\r\n",
      "    Found existing installation: keras 3.0.5\r\n",
      "    Uninstalling keras-3.0.5:\r\n",
      "      Successfully uninstalled keras-3.0.5\r\n",
      "\u001b[31mERROR: pip's dependency resolver does not currently take into account all the packages that are installed. This behaviour is the source of the following dependency conflicts.\r\n",
      "tensorflow-decision-forests 1.8.1 requires wurlitzer, which is not installed.\u001b[0m\u001b[31m\r\n",
      "\u001b[0mSuccessfully installed keras-2.15.0\r\n"
     ]
    }
   ],
   "source": [
    "!pip install keras==2.15.0"
   ]
  },
  {
   "cell_type": "markdown",
   "id": "93d9049e",
   "metadata": {
    "papermill": {
     "duration": 0.015466,
     "end_time": "2024-03-10T21:01:54.491172",
     "exception": false,
     "start_time": "2024-03-10T21:01:54.475706",
     "status": "completed"
    },
    "tags": []
   },
   "source": [
    "# Run"
   ]
  },
  {
   "cell_type": "code",
   "execution_count": 2,
   "id": "8a5cc273",
   "metadata": {
    "execution": {
     "iopub.execute_input": "2024-03-10T21:01:54.522613Z",
     "iopub.status.busy": "2024-03-10T21:01:54.522190Z",
     "iopub.status.idle": "2024-03-10T21:02:25.929350Z",
     "shell.execute_reply": "2024-03-10T21:02:25.928304Z"
    },
    "papermill": {
     "duration": 31.426442,
     "end_time": "2024-03-10T21:02:25.932049",
     "exception": false,
     "start_time": "2024-03-10T21:01:54.505607",
     "status": "completed"
    },
    "tags": []
   },
   "outputs": [
    {
     "name": "stderr",
     "output_type": "stream",
     "text": [
      "2024-03-10 21:01:56.542704: E external/local_xla/xla/stream_executor/cuda/cuda_dnn.cc:9261] Unable to register cuDNN factory: Attempting to register factory for plugin cuDNN when one has already been registered\n",
      "2024-03-10 21:01:56.542830: E external/local_xla/xla/stream_executor/cuda/cuda_fft.cc:607] Unable to register cuFFT factory: Attempting to register factory for plugin cuFFT when one has already been registered\n",
      "2024-03-10 21:01:56.700102: E external/local_xla/xla/stream_executor/cuda/cuda_blas.cc:1515] Unable to register cuBLAS factory: Attempting to register factory for plugin cuBLAS when one has already been registered\n"
     ]
    }
   ],
   "source": [
    "import pickle\n",
    "import numpy as np\n",
    "import tensorflow as tf\n",
    "import json\n",
    "import matplotlib.pyplot as plt\n",
    "\n",
    "import fasttext\n",
    "import fasttext.util\n",
    "from keras.models import Model\n",
    "from keras.layers import Dropout,Input\n",
    "# from tensorflow_addons.layers import CRF\n",
    "from keras.layers import Dense\n",
    "from keras.layers import Embedding\n",
    "from keras.models import Sequential\n",
    "from keras.callbacks import Callback\n",
    "from keras.preprocessing.text import *\n",
    "from keras.utils import to_categorical\n",
    "from gensim.models import KeyedVectors\n",
    "from keras.layers import GRU, SimpleRNN, LSTM, Bidirectional\n",
    "from keras.layers import TimeDistributed\n",
    "from keras.metrics import F1Score, Precision, Recall\n",
    "from keras.preprocessing.sequence import pad_sequences\n",
    "from sklearn.metrics import f1_score\n",
    "from tensorflow.keras.optimizers import AdamW\n",
    "# from tensorflow_addons.losses import SigmoidFocalCrossEntropy\n",
    "from sklearn.model_selection import GridSearchCV\n",
    "# from kerastuner.tuners import RandomSearch\n",
    "# from kerastuner.engine.hyperparameters import HyperParameters\n",
    "from tensorflow.keras.optimizers import AdamW, Adam, RMSprop, SGD"
   ]
  },
  {
   "cell_type": "code",
   "execution_count": 3,
   "id": "2fcd7559",
   "metadata": {
    "execution": {
     "iopub.execute_input": "2024-03-10T21:02:25.965202Z",
     "iopub.status.busy": "2024-03-10T21:02:25.964340Z",
     "iopub.status.idle": "2024-03-10T21:02:25.987874Z",
     "shell.execute_reply": "2024-03-10T21:02:25.986178Z"
    },
    "papermill": {
     "duration": 0.042679,
     "end_time": "2024-03-10T21:02:25.990037",
     "exception": false,
     "start_time": "2024-03-10T21:02:25.947358",
     "status": "completed"
    },
    "tags": []
   },
   "outputs": [
    {
     "name": "stdout",
     "output_type": "stream",
     "text": [
      "/kaggle/input/nernlp3/BiLSTM_word2vec.pkl\n",
      "/kaggle/input/nernlp3/BiLSTM_fasttext.pkl\n",
      "/kaggle/input/nernlp3/Assignment2/WordEmbeddings/glove.840B.300d.pkl\n",
      "/kaggle/input/nernlp3/Assignment2/WordEmbeddings/Word2vec.bin\n",
      "/kaggle/input/nernlp3/Assignment2/WordEmbeddings/cc.en.300.bin\n",
      "/kaggle/input/nernlp3/Assignment2/Data/check.py\n",
      "/kaggle/input/nernlp3/Assignment2/Data/NER_TRAIN_JUDGEMENT.json\n",
      "/kaggle/input/nernlp3/Assignment2/Data/Laptop_Review_Val.json\n",
      "/kaggle/input/nernlp3/Assignment2/Data/bio.ipynb\n",
      "/kaggle/input/nernlp3/Assignment2/Data/Laptop_Review_Train.json\n",
      "/kaggle/input/nernlp3/Assignment2/Data/bio1.py\n",
      "/kaggle/input/nernlp3/Assignment2/Data/NER_TEST_JUDGEMENT.json\n",
      "/kaggle/input/nernlp3/Assignment2/Data/Laptop_Review_Test.json\n",
      "/kaggle/input/nernlp3/Assignment2/Data/processed/NER_test.json\n",
      "/kaggle/input/nernlp3/Assignment2/Data/processed/ATE_test.json\n",
      "/kaggle/input/nernlp3/Assignment2/Data/processed/NER_train.json\n",
      "/kaggle/input/nernlp3/Assignment2/Data/processed/ATE_train.json\n",
      "/kaggle/input/nernlp3/Assignment2/Data/processed/NER_val.json\n",
      "/kaggle/input/nernlp3/Assignment2/Data/processed/ATE_val.json\n"
     ]
    }
   ],
   "source": [
    "# This Python 3 environment comes with many helpful analytics libraries installed\n",
    "# It is defined by the kaggle/python Docker image: https://github.com/kaggle/docker-python\n",
    "# For example, here's several helpful packages to load\n",
    "\n",
    "# Input data files are available in the read-only \"../input/\" directory\n",
    "# For example, running this (by clicking run or pressing Shift+Enter) will list all files under the input directory\n",
    "\n",
    "import os\n",
    "for dirname, _, filenames in os.walk('/kaggle/input'):\n",
    "    for filename in filenames:\n",
    "        print(os.path.join(dirname, filename))\n",
    "\n",
    "Embedding_name=\"glove\"\n",
    "Dataset=\"ATE\"     \n",
    "PATH='/kaggle/input/nernlp3/Assignment2/'\n",
    "OUTPATH='/kaggle/working/'\n",
    "\n",
    "# You can write up to 20GB to the current directory (/kaggle/working/) that gets preserved as output when you create a version using \"Save & Run All\" \n",
    "# You can also write temporary files to /kaggle/temp/, but they won't be saved outside of the current session"
   ]
  },
  {
   "cell_type": "code",
   "execution_count": 4,
   "id": "787cffcf",
   "metadata": {
    "execution": {
     "iopub.execute_input": "2024-03-10T21:02:26.022340Z",
     "iopub.status.busy": "2024-03-10T21:02:26.021448Z",
     "iopub.status.idle": "2024-03-10T21:02:27.283973Z",
     "shell.execute_reply": "2024-03-10T21:02:27.282062Z"
    },
    "papermill": {
     "duration": 1.281666,
     "end_time": "2024-03-10T21:02:27.286756",
     "exception": false,
     "start_time": "2024-03-10T21:02:26.005090",
     "status": "completed"
    },
    "tags": []
   },
   "outputs": [
    {
     "name": "stderr",
     "output_type": "stream",
     "text": [
      "/opt/conda/lib/python3.10/pty.py:89: RuntimeWarning: os.fork() was called. os.fork() is incompatible with multithreaded code, and JAX is multithreaded, so this will likely lead to a deadlock.\n",
      "  pid, fd = os.forkpty()\n"
     ]
    }
   ],
   "source": [
    "! mkdir Saved_Models\n",
    "! mkdir Saved_Models/ATE\n",
    "! mkdir Saved_Models/NER\n",
    "! mkdir Graphs"
   ]
  },
  {
   "cell_type": "code",
   "execution_count": 5,
   "id": "4a91c09c",
   "metadata": {
    "execution": {
     "iopub.execute_input": "2024-03-10T21:02:27.321096Z",
     "iopub.status.busy": "2024-03-10T21:02:27.320604Z",
     "iopub.status.idle": "2024-03-10T21:02:27.358017Z",
     "shell.execute_reply": "2024-03-10T21:02:27.356246Z"
    },
    "papermill": {
     "duration": 0.058347,
     "end_time": "2024-03-10T21:02:27.360966",
     "exception": false,
     "start_time": "2024-03-10T21:02:27.302619",
     "status": "completed"
    },
    "tags": []
   },
   "outputs": [],
   "source": [
    "def checking(a):\n",
    "    print(\"Hello World\",a)\n",
    "\n",
    "def new_checking(a):\n",
    "    print(\"Hello World\",a)\n",
    "\n",
    "def create_train_test_val(file):\n",
    "    lst_out_text=[]\n",
    "    lst_out_labels=[]\n",
    "    for i in file.values():\n",
    "        sentence = i['text']\n",
    "        sentence = sentence.lower()\n",
    "        labels = i['labels']\n",
    "        lst_out_text.append(sentence)\n",
    "        lst_out_labels.append(labels)\n",
    "    return lst_out_text,lst_out_labels    \n",
    "\n",
    "def TokenCreator(sentences,val,tokenizer=None):\n",
    "    \n",
    "    temp_wordlist = None\n",
    "    tokenizer2=None\n",
    "    if(tokenizer == None):\n",
    "        if val==1:\n",
    "            tokenizer2 = Tokenizer(oov_token=\"#UK\",filters='')\n",
    "        else:\n",
    "            tokenizer2=Tokenizer()\n",
    "        tokenizer2.fit_on_texts(sentences)\n",
    "        \n",
    "        temp_wordlist = tokenizer2.texts_to_sequences(sentences)\n",
    "        return (temp_wordlist,tokenizer2)\n",
    "    \n",
    "    else:\n",
    "        temp_wordlist = tokenizer.texts_to_sequences(sentences)\n",
    "        return temp_wordlist\n",
    "    \n",
    "def find_vocab(dataset):\n",
    "    lst=[]\n",
    "    lst.append(\"#UK\")\n",
    "    for i in dataset:\n",
    "        for j in i:\n",
    "            lst.append(j)\n",
    "    st = set(lst)\n",
    "    return st\n",
    "\n",
    "'''\n",
    "--------------------------------------GRAPHS--------------------------------------\n",
    "'''\n",
    "\n",
    "def draw_loss_graph(model,model_name,f1_scores_train,f1_scores_val):\n",
    "    train_loss = model.history['loss']\n",
    "    val_loss = model.history['val_loss']\n",
    "    x = [i+1 for i in range(len(train_loss))]\n",
    "    train_y = train_loss\n",
    "    val_y = val_loss\n",
    "    \n",
    "    fig, axes = plt.subplots(1,2,figsize = (16,5))\n",
    "    # plt.subplots(axes = (2,1))\n",
    "    axes[0].plot(x,train_y, color = 'blue')  \n",
    "    \n",
    "    axes[0].plot(x,val_y, color = 'red') \n",
    "    axes[0].set_title('Loss over Epochs')\n",
    "    axes[0].set_xlabel('Epoch')\n",
    "    axes[0].set_ylabel('Loss')\n",
    "\n",
    "    axes[1].plot(x,f1_scores_train, color = 'blue')\n",
    "    axes[1].plot(x,f1_scores_val, color = 'red')\n",
    "    axes[1].set_title('F1 Score vs Epoch')\n",
    "    axes[1].set_xlabel('Epochs')\n",
    "    axes[1].set_ylabel('F1 Score')\n",
    "\n",
    "    axes[0].legend(['Train','Val'])\n",
    "    axes[1].legend(['Train','Val'])\n",
    "    \n",
    "    plt.suptitle(model_name)\n",
    "\n",
    "    \n",
    "    plt.show()\n",
    "    \n",
    "'''\n",
    "--------------------------------------MODELS--------------------------------------\n",
    "'''\n",
    "\n",
    "def save_model(model,model_name, embedding, dataset):\n",
    "    with open(f'{OUTPATH}Saved_Models/{dataset}/{model_name}_{embedding}.pkl', 'wb') as file:\n",
    "        pickle.dump(model, file)\n",
    "\n",
    "def load_model(model_name, embedding, dataset):\n",
    "    with open(f'{OUTPATH}Saved_Models/{dataset}/{model_name}_{embedding}.pkl', 'rb') as file:\n",
    "        loaded_model = pickle.load(file)\n",
    "    \n",
    "    return loaded_model\n",
    "\n",
    "'''\n",
    "--------------------------------------CALLBACKS--------------------------------------\n",
    "'''\n",
    "\n",
    "class F1ScoreCallback(Callback):\n",
    "\n",
    "    def __init__(self, val_data, data):\n",
    "        super(F1ScoreCallback, self).__init__()\n",
    "        self.val_data = val_data\n",
    "        self.data=data\n",
    "        self.val_f1_scores = [] \n",
    "        self.train_f1_scores = []\n",
    "\n",
    "    \n",
    "\n",
    "    def on_epoch_end(self, epoch, logs=None):\n",
    "        x_val, y_val = self.val_data\n",
    "        x_data, y_data = self.data\n",
    "        y_pred_val = self.model.predict(x_val)\n",
    "        y_pred_train = self.model.predict(x_data)\n",
    "\n",
    "        def scikitf1(pred,real):\n",
    "\n",
    "            true_labels_flat = [label for sublist in real for label in sublist]\n",
    "            predicted_labels_flat = [label for sublist in pred for label in sublist]\n",
    "            # Compute F1 score\n",
    "            f1 = f1_score(true_labels_flat, predicted_labels_flat, average='macro')\n",
    "            return f1\n",
    "        def get_pred(Y_padded_output):\n",
    "                # print(Y_padded_output.shape)\n",
    "                final_output=[]\n",
    "                for i in range(Y_padded_output.shape[0]):\n",
    "                    output=[]\n",
    "                    for j in range(Y_padded_output.shape[1]):\n",
    "                        max_value=-1\n",
    "                        maxIndex=-1\n",
    "                        for k in range(Y_padded_output.shape[2]):\n",
    "                            if Y_padded_output[i][j][k]>max_value:\n",
    "                                maxIndex=k\n",
    "                                max_value=max(max_value,Y_padded_output[i][j][k])\n",
    "                        output.append(maxIndex)\n",
    "                    final_output.append(output)\n",
    "                return final_output\n",
    "\n",
    "        def get_real(Y_padded_test):\n",
    "            # print(Y_padded_test.shape)\n",
    "            final_Y=[]\n",
    "            for i in range(Y_padded_test.shape[0]):\n",
    "                output=[]\n",
    "                for j in range(Y_padded_test.shape[1]):\n",
    "                    max_value=-1\n",
    "                    maxIndex=-1\n",
    "                    for k in range(Y_padded_test.shape[2]):\n",
    "                        if Y_padded_test[i][j][k]>max_value:\n",
    "                            maxIndex=k\n",
    "                            max_value=max(max_value,Y_padded_test[i][j][k])\n",
    "                    output.append(maxIndex)\n",
    "                final_Y.append(output)\n",
    "            return final_Y\n",
    "        \n",
    "        # print(\"here\")\n",
    "        pred_train=get_pred(y_pred_train)\n",
    "        # print(pred_train)\n",
    "        real_train=get_real(y_data)\n",
    "        # print(real_train)\n",
    "\n",
    "        pred_val=get_pred(y_pred_val)\n",
    "        real_val=get_real(y_val)\n",
    "\n",
    "        f1_train = scikitf1(pred_train,real_train)\n",
    "        f1_val = scikitf1(pred_val,real_val)\n",
    "\n",
    "        self.val_f1_scores.append(f1_val)\n",
    "        self.train_f1_scores.append(f1_train)\n",
    "        print(f'Val F1 Score: {f1_val} - Train F1 Score: {f1_train}')\n",
    "\n",
    "\n",
    "\n",
    "#---------Prediction Functions----------------------------------------------\n",
    "def get_pred(Y_padded_output):\n",
    "    final_output=[]\n",
    "    for i in range(Y_padded_output.shape[0]):\n",
    "        output=[]\n",
    "        for j in range(Y_padded_output.shape[1]):\n",
    "            max_value=-1\n",
    "            maxIndex=-1\n",
    "            for k in range(Y_padded_output.shape[2]):\n",
    "                if Y_padded_output[i][j][k]>max_value:\n",
    "                    maxIndex=k\n",
    "                    max_value=max(max_value,Y_padded_output[i][j][k])\n",
    "            output.append(maxIndex)\n",
    "        final_output.append(output)\n",
    "    return final_output\n",
    "\n",
    "def get_real(Y_padded_test):\n",
    "    final_Y=[]\n",
    "    for i in range(Y_padded_test.shape[0]):\n",
    "        output=[]\n",
    "        for j in range(Y_padded_test.shape[1]):\n",
    "            max_value=-1\n",
    "            maxIndex=-1\n",
    "            for k in range(Y_padded_test.shape[2]):\n",
    "                if Y_padded_test[i][j][k]>max_value:\n",
    "                    maxIndex=k\n",
    "                    max_value=max(max_value,Y_padded_test[i][j][k])\n",
    "            output.append(maxIndex)\n",
    "        final_Y.append(output)\n",
    "    return final_Y\n",
    "\n",
    "def my_f1(y_true, y_pred):\n",
    "    \n",
    "    # predictions = get_pred(y_pred)\n",
    "    # real = get_real(y_true)\n",
    "\n",
    "    predictions = y_pred\n",
    "    real = y_true\n",
    "\n",
    "    size=len(predictions)\n",
    "\n",
    "    unique_labels= set()\n",
    "\n",
    "    for labels in real:\n",
    "        unique_labels.update(labels)\n",
    "\n",
    "    for labels in predictions:\n",
    "        unique_labels.update(labels)\n",
    "\n",
    "    labels_f1=[]\n",
    "\n",
    "    for labels in unique_labels:\n",
    "        tp=0\n",
    "        fp=0\n",
    "        fn=0\n",
    "\n",
    "        for i in range(size):\n",
    "            l=[]\n",
    "                    \n",
    "            tp+=sum((p==labels and r==labels) for p,r in zip(predictions[i],real[i]))\n",
    "            fp+=sum((p==labels and r!=labels) for p,r in zip(predictions[i],real[i]))\n",
    "            fn+=sum((p!=labels and r==labels) for p,r in zip(predictions[i],real[i]))\n",
    "\n",
    "        \n",
    "        precision = tp/(tp+fp) if tp+fp>0 else 0\n",
    "        recall = tp/(tp+fn) if tp+fn>0 else 0\n",
    "\n",
    "        f1=2*((precision*recall)/(precision+recall)) if precision+recall>0 else 0\n",
    "\n",
    "        labels_f1.append(f1)\n",
    "        print(f1,unique_labels)\n",
    "    macro_f1 = sum(labels_f1)/len(unique_labels)\n",
    "    return macro_f1\n",
    "\n",
    "def scikitf1(pred,real):\n",
    "\n",
    "    true_labels_flat = [label for sublist in real for label in sublist]\n",
    "    predicted_labels_flat = [label for sublist in pred for label in sublist]\n",
    "    # Compute F1 score\n",
    "    f1 = f1_score(true_labels_flat, predicted_labels_flat, average='macro')\n",
    "    return f1"
   ]
  },
  {
   "cell_type": "code",
   "execution_count": null,
   "id": "6ebdfd20",
   "metadata": {
    "papermill": {
     "duration": 0.01453,
     "end_time": "2024-03-10T21:02:27.390902",
     "exception": false,
     "start_time": "2024-03-10T21:02:27.376372",
     "status": "completed"
    },
    "tags": []
   },
   "outputs": [],
   "source": []
  },
  {
   "cell_type": "code",
   "execution_count": null,
   "id": "0b6f7f1d",
   "metadata": {
    "papermill": {
     "duration": 0.016217,
     "end_time": "2024-03-10T21:02:27.422171",
     "exception": false,
     "start_time": "2024-03-10T21:02:27.405954",
     "status": "completed"
    },
    "tags": []
   },
   "outputs": [],
   "source": []
  },
  {
   "cell_type": "code",
   "execution_count": 6,
   "id": "b3b7b061",
   "metadata": {
    "execution": {
     "iopub.execute_input": "2024-03-10T21:02:27.454328Z",
     "iopub.status.busy": "2024-03-10T21:02:27.453860Z",
     "iopub.status.idle": "2024-03-10T21:02:27.460221Z",
     "shell.execute_reply": "2024-03-10T21:02:27.458953Z"
    },
    "papermill": {
     "duration": 0.026018,
     "end_time": "2024-03-10T21:02:27.463192",
     "exception": false,
     "start_time": "2024-03-10T21:02:27.437174",
     "status": "completed"
    },
    "tags": []
   },
   "outputs": [],
   "source": [
    "seed_value = 40\n",
    "np.random.seed(seed_value)\n",
    "tf.random.set_seed(seed_value)"
   ]
  },
  {
   "cell_type": "code",
   "execution_count": 7,
   "id": "4567df11",
   "metadata": {
    "execution": {
     "iopub.execute_input": "2024-03-10T21:02:27.496266Z",
     "iopub.status.busy": "2024-03-10T21:02:27.495817Z",
     "iopub.status.idle": "2024-03-10T21:03:15.157091Z",
     "shell.execute_reply": "2024-03-10T21:03:15.155594Z"
    },
    "papermill": {
     "duration": 47.681285,
     "end_time": "2024-03-10T21:03:15.160171",
     "exception": false,
     "start_time": "2024-03-10T21:02:27.478886",
     "status": "completed"
    },
    "tags": []
   },
   "outputs": [],
   "source": [
    "if Embedding_name==\"word2vec\":\n",
    "    emb = KeyedVectors.load_word2vec_format(f'{PATH}WordEmbeddings/Word2vec.bin',binary=True)\n",
    "\n",
    "if Embedding_name==\"glove\":\n",
    "    with open(f'{PATH}WordEmbeddings/glove.840B.300d.pkl', 'rb') as fp:\n",
    "        emb = pickle.load(fp)\n",
    "if Embedding_name==\"fasttext\":\n",
    "    emb = fasttext.load_model(f'{PATH}WordEmbeddings/cc.en.300.bin')"
   ]
  },
  {
   "cell_type": "markdown",
   "id": "4a5e02c0",
   "metadata": {
    "papermill": {
     "duration": 0.015191,
     "end_time": "2024-03-10T21:03:15.191095",
     "exception": false,
     "start_time": "2024-03-10T21:03:15.175904",
     "status": "completed"
    },
    "tags": []
   },
   "source": [
    "# Data Extraction and Preprocessing"
   ]
  },
  {
   "cell_type": "markdown",
   "id": "dd0ccbb5",
   "metadata": {
    "papermill": {
     "duration": 0.015437,
     "end_time": "2024-03-10T21:03:15.222268",
     "exception": false,
     "start_time": "2024-03-10T21:03:15.206831",
     "status": "completed"
    },
    "tags": []
   },
   "source": [
    "Reading ATE json files"
   ]
  },
  {
   "cell_type": "code",
   "execution_count": 8,
   "id": "0735eaa6",
   "metadata": {
    "execution": {
     "iopub.execute_input": "2024-03-10T21:03:15.257447Z",
     "iopub.status.busy": "2024-03-10T21:03:15.257022Z",
     "iopub.status.idle": "2024-03-10T21:03:15.284969Z",
     "shell.execute_reply": "2024-03-10T21:03:15.283228Z"
    },
    "papermill": {
     "duration": 0.048267,
     "end_time": "2024-03-10T21:03:15.287643",
     "exception": false,
     "start_time": "2024-03-10T21:03:15.239376",
     "status": "completed"
    },
    "tags": []
   },
   "outputs": [],
   "source": [
    "\n",
    "train = None\n",
    "test = None\n",
    "val = None\n",
    "with open(f\"{PATH}Data/processed/{Dataset}_train.json\") as f1:\n",
    "    train = json.load(f1)\n",
    "\n",
    "with open(f\"{PATH}Data/processed/{Dataset}_test.json\") as f2:\n",
    "    test = json.load(f2)\n",
    "\n",
    "with open(f\"{PATH}Data/processed/{Dataset}_val.json\") as f3:\n",
    "    val = json.load(f3)\n",
    "\n"
   ]
  },
  {
   "cell_type": "markdown",
   "id": "29cea716",
   "metadata": {
    "papermill": {
     "duration": 0.016997,
     "end_time": "2024-03-10T21:03:15.319999",
     "exception": false,
     "start_time": "2024-03-10T21:03:15.303002",
     "status": "completed"
    },
    "tags": []
   },
   "source": [
    "processing into lists"
   ]
  },
  {
   "cell_type": "code",
   "execution_count": 9,
   "id": "1726705e",
   "metadata": {
    "execution": {
     "iopub.execute_input": "2024-03-10T21:03:15.359518Z",
     "iopub.status.busy": "2024-03-10T21:03:15.358391Z",
     "iopub.status.idle": "2024-03-10T21:03:15.366425Z",
     "shell.execute_reply": "2024-03-10T21:03:15.365660Z"
    },
    "papermill": {
     "duration": 0.031356,
     "end_time": "2024-03-10T21:03:15.369366",
     "exception": false,
     "start_time": "2024-03-10T21:03:15.338010",
     "status": "completed"
    },
    "tags": []
   },
   "outputs": [],
   "source": [
    "X_train,Y_train = create_train_test_val(train)\n",
    "X_test,Y_test = create_train_test_val(test)\n",
    "X_val,Y_val = create_train_test_val(val)"
   ]
  },
  {
   "cell_type": "markdown",
   "id": "5dfdaa0b",
   "metadata": {
    "papermill": {
     "duration": 0.015661,
     "end_time": "2024-03-10T21:03:15.403843",
     "exception": false,
     "start_time": "2024-03-10T21:03:15.388182",
     "status": "completed"
    },
    "tags": []
   },
   "source": [
    "Tokenizing the ATE Dataset"
   ]
  },
  {
   "cell_type": "code",
   "execution_count": 10,
   "id": "12a911f2",
   "metadata": {
    "execution": {
     "iopub.execute_input": "2024-03-10T21:03:15.438558Z",
     "iopub.status.busy": "2024-03-10T21:03:15.438154Z",
     "iopub.status.idle": "2024-03-10T21:03:15.509948Z",
     "shell.execute_reply": "2024-03-10T21:03:15.508507Z"
    },
    "papermill": {
     "duration": 0.092229,
     "end_time": "2024-03-10T21:03:15.513008",
     "exception": false,
     "start_time": "2024-03-10T21:03:15.420779",
     "status": "completed"
    },
    "tags": []
   },
   "outputs": [],
   "source": [
    "X_train_tokenized, toke = TokenCreator(X_train,1)\n",
    "X_test_tokenized = TokenCreator(X_test,0,tokenizer = toke)\n",
    "X_val_tokenized = TokenCreator(X_val,0,tokenizer = toke)\n",
    "\n",
    "Y_train_tokenized,toke2 = TokenCreator(Y_train,0)\n",
    "Y_test_tokenized = TokenCreator(Y_test,0,tokenizer = toke2)\n",
    "Y_val_tokenized = TokenCreator(Y_val,0,tokenizer = toke2)"
   ]
  },
  {
   "cell_type": "markdown",
   "id": "50314a70",
   "metadata": {
    "papermill": {
     "duration": 0.014879,
     "end_time": "2024-03-10T21:03:15.546792",
     "exception": false,
     "start_time": "2024-03-10T21:03:15.531913",
     "status": "completed"
    },
    "tags": []
   },
   "source": [
    "Vocabulary of ATE"
   ]
  },
  {
   "cell_type": "code",
   "execution_count": 11,
   "id": "7e80b4f8",
   "metadata": {
    "execution": {
     "iopub.execute_input": "2024-03-10T21:03:15.665974Z",
     "iopub.status.busy": "2024-03-10T21:03:15.665463Z",
     "iopub.status.idle": "2024-03-10T21:03:15.678252Z",
     "shell.execute_reply": "2024-03-10T21:03:15.676789Z"
    },
    "papermill": {
     "duration": 0.037496,
     "end_time": "2024-03-10T21:03:15.681092",
     "exception": false,
     "start_time": "2024-03-10T21:03:15.643596",
     "status": "completed"
    },
    "tags": []
   },
   "outputs": [
    {
     "data": {
      "text/plain": [
       "2406"
      ]
     },
     "execution_count": 11,
     "metadata": {},
     "output_type": "execute_result"
    }
   ],
   "source": [
    "st1 = find_vocab(X_train_tokenized)\n",
    "vocab_size  = len(st1) + 1 \n",
    "vocab_size"
   ]
  },
  {
   "cell_type": "code",
   "execution_count": 12,
   "id": "c0375d4e",
   "metadata": {
    "execution": {
     "iopub.execute_input": "2024-03-10T21:03:15.713288Z",
     "iopub.status.busy": "2024-03-10T21:03:15.712723Z",
     "iopub.status.idle": "2024-03-10T21:03:15.720786Z",
     "shell.execute_reply": "2024-03-10T21:03:15.719744Z"
    },
    "papermill": {
     "duration": 0.027319,
     "end_time": "2024-03-10T21:03:15.723463",
     "exception": false,
     "start_time": "2024-03-10T21:03:15.696144",
     "status": "completed"
    },
    "tags": []
   },
   "outputs": [
    {
     "data": {
      "text/plain": [
       "78"
      ]
     },
     "execution_count": 12,
     "metadata": {},
     "output_type": "execute_result"
    }
   ],
   "source": [
    "max_len=0\n",
    "\n",
    "for i in X_train_tokenized:\n",
    "    max_len = max(max_len,len(i))\n",
    "\n",
    "max_len"
   ]
  },
  {
   "cell_type": "markdown",
   "id": "961f4630",
   "metadata": {
    "papermill": {
     "duration": 0.014764,
     "end_time": "2024-03-10T21:03:15.757361",
     "exception": false,
     "start_time": "2024-03-10T21:03:15.742597",
     "status": "completed"
    },
    "tags": []
   },
   "source": [
    "Padding ATE"
   ]
  },
  {
   "cell_type": "code",
   "execution_count": 13,
   "id": "3ebfc4e8",
   "metadata": {
    "execution": {
     "iopub.execute_input": "2024-03-10T21:03:15.788706Z",
     "iopub.status.busy": "2024-03-10T21:03:15.788258Z",
     "iopub.status.idle": "2024-03-10T21:03:15.803930Z",
     "shell.execute_reply": "2024-03-10T21:03:15.802992Z"
    },
    "papermill": {
     "duration": 0.03398,
     "end_time": "2024-03-10T21:03:15.805840",
     "exception": false,
     "start_time": "2024-03-10T21:03:15.771860",
     "status": "completed"
    },
    "tags": []
   },
   "outputs": [],
   "source": [
    "X_padded_train = pad_sequences(X_train_tokenized, maxlen=max_len, padding=\"pre\", truncating=\"post\")\n",
    "Y_padded_train = pad_sequences(Y_train_tokenized, maxlen=max_len, padding=\"pre\", truncating=\"post\")\n",
    "\n",
    "X_padded_test = pad_sequences(X_test_tokenized, maxlen=max_len, padding=\"pre\", truncating=\"post\")\n",
    "Y_padded_test = pad_sequences(Y_test_tokenized, maxlen=max_len, padding=\"pre\", truncating=\"post\")\n",
    "\n",
    "X_padded_val = pad_sequences(X_val_tokenized, maxlen=max_len, padding=\"pre\", truncating=\"post\")\n",
    "Y_padded_val = pad_sequences(Y_val_tokenized, maxlen=max_len, padding=\"pre\", truncating=\"post\")       "
   ]
  },
  {
   "cell_type": "markdown",
   "id": "a6ff9cee",
   "metadata": {
    "papermill": {
     "duration": 0.014216,
     "end_time": "2024-03-10T21:03:15.835111",
     "exception": false,
     "start_time": "2024-03-10T21:03:15.820895",
     "status": "completed"
    },
    "tags": []
   },
   "source": [
    "One hot encoding the ATE labels"
   ]
  },
  {
   "cell_type": "code",
   "execution_count": 14,
   "id": "6d0b8570",
   "metadata": {
    "execution": {
     "iopub.execute_input": "2024-03-10T21:03:15.866007Z",
     "iopub.status.busy": "2024-03-10T21:03:15.865567Z",
     "iopub.status.idle": "2024-03-10T21:03:15.872070Z",
     "shell.execute_reply": "2024-03-10T21:03:15.871488Z"
    },
    "papermill": {
     "duration": 0.024139,
     "end_time": "2024-03-10T21:03:15.873642",
     "exception": false,
     "start_time": "2024-03-10T21:03:15.849503",
     "status": "completed"
    },
    "tags": []
   },
   "outputs": [],
   "source": [
    "Y_padded_train = to_categorical(Y_padded_train)\n",
    "Y_padded_test = to_categorical(Y_padded_test)\n",
    "Y_padded_val = to_categorical(Y_padded_val)"
   ]
  },
  {
   "cell_type": "markdown",
   "id": "279c0a47",
   "metadata": {
    "papermill": {
     "duration": 0.014626,
     "end_time": "2024-03-10T21:03:15.903395",
     "exception": false,
     "start_time": "2024-03-10T21:03:15.888769",
     "status": "completed"
    },
    "tags": []
   },
   "source": [
    "Assigning **ATE Word2Vec** mapping"
   ]
  },
  {
   "cell_type": "code",
   "execution_count": 15,
   "id": "659b1269",
   "metadata": {
    "execution": {
     "iopub.execute_input": "2024-03-10T21:03:15.935047Z",
     "iopub.status.busy": "2024-03-10T21:03:15.934148Z",
     "iopub.status.idle": "2024-03-10T21:03:15.962132Z",
     "shell.execute_reply": "2024-03-10T21:03:15.961233Z"
    },
    "papermill": {
     "duration": 0.045875,
     "end_time": "2024-03-10T21:03:15.964028",
     "exception": false,
     "start_time": "2024-03-10T21:03:15.918153",
     "status": "completed"
    },
    "tags": []
   },
   "outputs": [
    {
     "data": {
      "text/plain": [
       "{'#UK': 1,\n",
       " 'the': 2,\n",
       " '.': 3,\n",
       " ',': 4,\n",
       " 'and': 5,\n",
       " 'it': 6,\n",
       " 'to': 7,\n",
       " 'i': 8,\n",
       " 'is': 9,\n",
       " 'a': 10,\n",
       " 'of': 11,\n",
       " 'for': 12,\n",
       " 'with': 13,\n",
       " 'that': 14,\n",
       " 'my': 15,\n",
       " 'you': 16,\n",
       " 'this': 17,\n",
       " 'was': 18,\n",
       " 'in': 19,\n",
       " 'not': 20,\n",
       " 'on': 21,\n",
       " 'very': 22,\n",
       " 'but': 23,\n",
       " 'computer': 24,\n",
       " 'use': 25,\n",
       " 'have': 26,\n",
       " 'great': 27,\n",
       " 'they': 28,\n",
       " 'laptop': 29,\n",
       " \"n't\": 30,\n",
       " 'so': 31,\n",
       " 'has': 32,\n",
       " 'are': 33,\n",
       " 'battery': 34,\n",
       " 'had': 35,\n",
       " 'screen': 36,\n",
       " ')': 37,\n",
       " 'be': 38,\n",
       " 'as': 39,\n",
       " 'all': 40,\n",
       " '!': 41,\n",
       " '(': 42,\n",
       " \"'s\": 43,\n",
       " 'also': 44,\n",
       " 'me': 45,\n",
       " 'just': 46,\n",
       " 'easy': 47,\n",
       " 'when': 48,\n",
       " 'at': 49,\n",
       " 'or': 50,\n",
       " 'only': 51,\n",
       " 'which': 52,\n",
       " 'up': 53,\n",
       " 'life': 54,\n",
       " 'can': 55,\n",
       " 'windows': 56,\n",
       " 'than': 57,\n",
       " 'out': 58,\n",
       " 'if': 59,\n",
       " 'do': 60,\n",
       " 'after': 61,\n",
       " 'more': 62,\n",
       " 'keyboard': 63,\n",
       " 'would': 64,\n",
       " 'drive': 65,\n",
       " 'hard': 66,\n",
       " 'price': 67,\n",
       " 'from': 68,\n",
       " 'well': 69,\n",
       " 'because': 70,\n",
       " 'good': 71,\n",
       " 'one': 72,\n",
       " 'an': 73,\n",
       " 'like': 74,\n",
       " 'mac': 75,\n",
       " 'about': 76,\n",
       " 'quality': 77,\n",
       " 'its': 78,\n",
       " 'love': 79,\n",
       " 'get': 80,\n",
       " 'no': 81,\n",
       " 'software': 82,\n",
       " 'time': 83,\n",
       " 'even': 84,\n",
       " 'macbook': 85,\n",
       " 'will': 86,\n",
       " 'system': 87,\n",
       " 'apple': 88,\n",
       " 'other': 89,\n",
       " 'there': 90,\n",
       " 'does': 91,\n",
       " 'thing': 92,\n",
       " 'problem': 93,\n",
       " 'new': 94,\n",
       " 'much': 95,\n",
       " 'features': 96,\n",
       " 'any': 97,\n",
       " 'then': 98,\n",
       " 'programs': 99,\n",
       " 'power': 100,\n",
       " 'now': 101,\n",
       " 'service': 102,\n",
       " 'work': 103,\n",
       " 'buy': 104,\n",
       " 'works': 105,\n",
       " 'problems': 106,\n",
       " 'fast': 107,\n",
       " 'did': 108,\n",
       " 'toshiba': 109,\n",
       " '7': 110,\n",
       " 'could': 111,\n",
       " 'size': 112,\n",
       " 'what': 113,\n",
       " 'am': 114,\n",
       " 'too': 115,\n",
       " 'working': 116,\n",
       " 'back': 117,\n",
       " 'your': 118,\n",
       " ':': 119,\n",
       " 'speed': 120,\n",
       " 'machine': 121,\n",
       " 'best': 122,\n",
       " 'pro': 123,\n",
       " 'we': 124,\n",
       " 'were': 125,\n",
       " 'again': 126,\n",
       " 'pc': 127,\n",
       " 'performance': 128,\n",
       " 'little': 129,\n",
       " 'product': 130,\n",
       " 'many': 131,\n",
       " '-': 132,\n",
       " 'really': 133,\n",
       " 'by': 134,\n",
       " 'need': 135,\n",
       " 'first': 136,\n",
       " 'having': 137,\n",
       " \"''\": 138,\n",
       " 'some': 139,\n",
       " 'still': 140,\n",
       " 'months': 141,\n",
       " 'memory': 142,\n",
       " 'long': 143,\n",
       " 'been': 144,\n",
       " 'their': 145,\n",
       " 'bought': 146,\n",
       " 'better': 147,\n",
       " 'everything': 148,\n",
       " 'used': 149,\n",
       " 'warranty': 150,\n",
       " 'since': 151,\n",
       " 'worth': 152,\n",
       " 'graphics': 153,\n",
       " 'how': 154,\n",
       " 'design': 155,\n",
       " 'applications': 156,\n",
       " 'mouse': 157,\n",
       " 'comes': 158,\n",
       " 'run': 159,\n",
       " 'who': 160,\n",
       " 'every': 161,\n",
       " 'nice': 162,\n",
       " 'internet': 163,\n",
       " 'laptops': 164,\n",
       " 'never': 165,\n",
       " 'replaced': 166,\n",
       " '3': 167,\n",
       " 'support': 168,\n",
       " 'games': 169,\n",
       " 'bad': 170,\n",
       " 'same': 171,\n",
       " 'right': 172,\n",
       " '``': 173,\n",
       " 'runs': 174,\n",
       " 'looking': 175,\n",
       " 'enough': 176,\n",
       " 'using': 177,\n",
       " 'way': 178,\n",
       " 'running': 179,\n",
       " 'able': 180,\n",
       " 'program': 181,\n",
       " 'always': 182,\n",
       " 'lot': 183,\n",
       " 'dell': 184,\n",
       " 'another': 185,\n",
       " \"'ve\": 186,\n",
       " 'pad': 187,\n",
       " 'netbook': 188,\n",
       " 'got': 189,\n",
       " 'operating': 190,\n",
       " 'hp': 191,\n",
       " 'money': 192,\n",
       " 'most': 193,\n",
       " 'went': 194,\n",
       " 'such': 195,\n",
       " '$': 196,\n",
       " 'card': 197,\n",
       " 'them': 198,\n",
       " 'come': 199,\n",
       " 'large': 200,\n",
       " 'make': 201,\n",
       " 'gaming': 202,\n",
       " 'take': 203,\n",
       " 'hours': 204,\n",
       " 'look': 205,\n",
       " 'web': 206,\n",
       " 'over': 207,\n",
       " 'less': 208,\n",
       " 'ca': 209,\n",
       " 'around': 210,\n",
       " 'though': 211,\n",
       " 'excellent': 212,\n",
       " 'display': 213,\n",
       " 'made': 214,\n",
       " '?': 215,\n",
       " 'awesome': 216,\n",
       " 'while': 217,\n",
       " 'issue': 218,\n",
       " \"'m\": 219,\n",
       " 'makes': 220,\n",
       " 'next': 221,\n",
       " 'keep': 222,\n",
       " 'slow': 223,\n",
       " 'amazing': 224,\n",
       " 'month': 225,\n",
       " 'ever': 226,\n",
       " 'purchase': 227,\n",
       " 'perfect': 228,\n",
       " 'vista': 229,\n",
       " 'customer': 230,\n",
       " 'want': 231,\n",
       " 'carry': 232,\n",
       " 'feel': 233,\n",
       " 'bit': 234,\n",
       " 'small': 235,\n",
       " 'os': 236,\n",
       " 'easily': 237,\n",
       " 'should': 238,\n",
       " 'video': 239,\n",
       " 'overall': 240,\n",
       " 'two': 241,\n",
       " 'cheap': 242,\n",
       " 'off': 243,\n",
       " 'light': 244,\n",
       " 'find': 245,\n",
       " 'open': 246,\n",
       " 'called': 247,\n",
       " 'fix': 248,\n",
       " 'stopped': 249,\n",
       " 'go': 250,\n",
       " 'things': 251,\n",
       " '5': 252,\n",
       " 'key': 253,\n",
       " 'pay': 254,\n",
       " ';': 255,\n",
       " 'desktop': 256,\n",
       " 'cost': 257,\n",
       " 'fixed': 258,\n",
       " 'processor': 259,\n",
       " 'wonderful': 260,\n",
       " 'once': 261,\n",
       " 'sound': 262,\n",
       " 'pretty': 263,\n",
       " 'space': 264,\n",
       " '2': 265,\n",
       " 'down': 266,\n",
       " 'high': 267,\n",
       " 'day': 268,\n",
       " 'external': 269,\n",
       " 'fan': 270,\n",
       " 'started': 271,\n",
       " 'quickly': 272,\n",
       " 'ease': 273,\n",
       " '--': 274,\n",
       " 'word': 275,\n",
       " 'office': 276,\n",
       " 'without': 277,\n",
       " 'old': 278,\n",
       " 'computers': 279,\n",
       " 'came': 280,\n",
       " 'due': 281,\n",
       " 'lightweight': 282,\n",
       " 'cd': 283,\n",
       " 'see': 284,\n",
       " 'short': 285,\n",
       " 'say': 286,\n",
       " 'week': 287,\n",
       " 'repair': 288,\n",
       " 'ram': 289,\n",
       " 'charge': 290,\n",
       " 'boot': 291,\n",
       " 'completely': 292,\n",
       " 'warrenty': 293,\n",
       " 'took': 294,\n",
       " 'shipping': 295,\n",
       " 'microsoft': 296,\n",
       " 'doing': 297,\n",
       " 'set': 298,\n",
       " 'free': 299,\n",
       " 'virus': 300,\n",
       " 'keys': 301,\n",
       " 'supply': 302,\n",
       " 'feature': 303,\n",
       " 'send': 304,\n",
       " 'through': 305,\n",
       " 'know': 306,\n",
       " 'notebook': 307,\n",
       " 'being': 308,\n",
       " 'recommend': 309,\n",
       " 'trackpad': 310,\n",
       " 'compared': 311,\n",
       " 'think': 312,\n",
       " 'full': 313,\n",
       " 'anyone': 314,\n",
       " 'dvd': 315,\n",
       " 'faster': 316,\n",
       " 'change': 317,\n",
       " 'plus': 318,\n",
       " 'last': 319,\n",
       " 'something': 320,\n",
       " 'home': 321,\n",
       " 'company': 322,\n",
       " 'where': 323,\n",
       " 'before': 324,\n",
       " 'value': 325,\n",
       " 'built': 326,\n",
       " 'may': 327,\n",
       " 'however': 328,\n",
       " \"'re\": 329,\n",
       " 'usb': 330,\n",
       " 'brand': 331,\n",
       " 'past': 332,\n",
       " 'motherboard': 333,\n",
       " 'charger': 334,\n",
       " 'hardware': 335,\n",
       " 'simple': 336,\n",
       " 'within': 337,\n",
       " 'touch': 338,\n",
       " 'yet': 339,\n",
       " 'acer': 340,\n",
       " 'yes': 341,\n",
       " 'few': 342,\n",
       " 'webcam': 343,\n",
       " 'play': 344,\n",
       " \"'d\": 345,\n",
       " 'issues': 346,\n",
       " 'clear': 347,\n",
       " 'year': 348,\n",
       " 'thought': 349,\n",
       " 'far': 350,\n",
       " 'user': 351,\n",
       " 'itself': 352,\n",
       " '1': 353,\n",
       " 'although': 354,\n",
       " 'these': 355,\n",
       " 'easier': 356,\n",
       " 'extra': 357,\n",
       " 'port': 358,\n",
       " 'getting': 359,\n",
       " 'etc': 360,\n",
       " 'must': 361,\n",
       " 'speakers': 362,\n",
       " 'looks': 363,\n",
       " 'iphoto': 364,\n",
       " 'worked': 365,\n",
       " 'found': 366,\n",
       " 'big': 367,\n",
       " 'learn': 368,\n",
       " 'seems': 369,\n",
       " 'center': 370,\n",
       " 'lots': 371,\n",
       " 'frustrating': 372,\n",
       " 'help': 373,\n",
       " 'fact': 374,\n",
       " 'upgraded': 375,\n",
       " 'pcs': 376,\n",
       " 'connect': 377,\n",
       " 'board': 378,\n",
       " 'making': 379,\n",
       " 'products': 380,\n",
       " 'needs': 381,\n",
       " 'cool': 382,\n",
       " 'until': 383,\n",
       " 'course': 384,\n",
       " 'resolution': 385,\n",
       " 'itunes': 386,\n",
       " '13': 387,\n",
       " 'longer': 388,\n",
       " 'type': 389,\n",
       " 'store': 390,\n",
       " 'sent': 391,\n",
       " 'quick': 392,\n",
       " 'second': 393,\n",
       " 'processing': 394,\n",
       " 'poor': 395,\n",
       " 'expected': 396,\n",
       " 'years': 397,\n",
       " 'simply': 398,\n",
       " 'starter': 399,\n",
       " 'buttons': 400,\n",
       " 'build': 401,\n",
       " 'call': 402,\n",
       " 'others': 403,\n",
       " 'wireless': 404,\n",
       " 'plenty': 405,\n",
       " 'he': 406,\n",
       " 'actually': 407,\n",
       " 'failed': 408,\n",
       " 'someone': 409,\n",
       " 'cord': 410,\n",
       " 'extremely': 411,\n",
       " 'absolutely': 412,\n",
       " 'start': 413,\n",
       " 'dark': 414,\n",
       " 'multi-touch': 415,\n",
       " 'installed': 416,\n",
       " 'crashed': 417,\n",
       " 'added': 418,\n",
       " 'hd': 419,\n",
       " 'monitor': 420,\n",
       " 'several': 421,\n",
       " 'loud': 422,\n",
       " 'times': 423,\n",
       " '4': 424,\n",
       " 'wanted': 425,\n",
       " 'constantly': 426,\n",
       " 'systems': 427,\n",
       " 'touchpad': 428,\n",
       " 'editing': 429,\n",
       " 'phone': 430,\n",
       " 'hour': 431,\n",
       " 'browsing': 432,\n",
       " 'playing': 433,\n",
       " 'replace': 434,\n",
       " 'believe': 435,\n",
       " 'xp': 436,\n",
       " 'wo': 437,\n",
       " 'online': 438,\n",
       " 'garageband': 439,\n",
       " 'bright': 440,\n",
       " 'navigate': 441,\n",
       " 'ilife': 442,\n",
       " 'sleek': 443,\n",
       " 'least': 444,\n",
       " 'premium': 445,\n",
       " 'box': 446,\n",
       " 'away': 447,\n",
       " 'anything': 448,\n",
       " 'worry': 449,\n",
       " 'sure': 450,\n",
       " 'book': 451,\n",
       " 'experience': 452,\n",
       " 'told': 453,\n",
       " 'portable': 454,\n",
       " 'needed': 455,\n",
       " 'going': 456,\n",
       " 'sony': 457,\n",
       " 'macbooks': 458,\n",
       " 'done': 459,\n",
       " 'useful': 460,\n",
       " 'horrible': 461,\n",
       " '/': 462,\n",
       " 'weight': 463,\n",
       " 'movies': 464,\n",
       " 'led': 465,\n",
       " 'tried': 466,\n",
       " 'business': 467,\n",
       " 'background': 468,\n",
       " 'camera': 469,\n",
       " 'fine': 470,\n",
       " 'huge': 471,\n",
       " 'weeks': 472,\n",
       " 'deal': 473,\n",
       " 'superior': 474,\n",
       " 'upgrade': 475,\n",
       " 'media': 476,\n",
       " 'macs': 477,\n",
       " 'convenient': 478,\n",
       " 'real': 479,\n",
       " 'already': 480,\n",
       " 'worse': 481,\n",
       " 'specs': 482,\n",
       " 'disk': 483,\n",
       " 'front': 484,\n",
       " 'coming': 485,\n",
       " 'connection': 486,\n",
       " 'highly': 487,\n",
       " 'offers': 488,\n",
       " 'finally': 489,\n",
       " 'seemed': 490,\n",
       " 'disc': 491,\n",
       " 'enjoy': 492,\n",
       " 'extended': 493,\n",
       " 'knew': 494,\n",
       " 'trouble': 495,\n",
       " 'order': 496,\n",
       " 'documents': 497,\n",
       " 'crashing': 498,\n",
       " 'designed': 499,\n",
       " 'oh': 500,\n",
       " 'expensive': 501,\n",
       " 'top': 502,\n",
       " \"'ll\": 503,\n",
       " 'charged': 504,\n",
       " 'sales': 505,\n",
       " 'average': 506,\n",
       " 'maybe': 507,\n",
       " 'gets': 508,\n",
       " 'wish': 509,\n",
       " 'might': 510,\n",
       " 'backlit': 511,\n",
       " 'volume': 512,\n",
       " 'install': 513,\n",
       " 'impressed': 514,\n",
       " 'including': 515,\n",
       " 'built-in': 516,\n",
       " 'hooked': 517,\n",
       " 'drop': 518,\n",
       " 'guess': 519,\n",
       " 'tax': 520,\n",
       " 'buying': 521,\n",
       " 'iwork': 522,\n",
       " 'our': 523,\n",
       " 'especially': 524,\n",
       " 'replacement': 525,\n",
       " 'shows': 526,\n",
       " 'x': 527,\n",
       " 'older': 528,\n",
       " 'ports': 529,\n",
       " 'intel': 530,\n",
       " 'version': 531,\n",
       " 'email': 532,\n",
       " 'hot': 533,\n",
       " 'cheaper': 534,\n",
       " 'takes': 535,\n",
       " 'load': 536,\n",
       " 'storage': 537,\n",
       " 'tech': 538,\n",
       " 'users': 539,\n",
       " 'fairly': 540,\n",
       " 'reason': 541,\n",
       " 'end': 542,\n",
       " 'operation': 543,\n",
       " 'sharp': 544,\n",
       " 'nearly': 545,\n",
       " 'flawlessly': 546,\n",
       " 'higher': 547,\n",
       " 'music': 548,\n",
       " 'included': 549,\n",
       " 'expense': 550,\n",
       " 'osx': 551,\n",
       " 'functions': 552,\n",
       " 'tv': 553,\n",
       " 'interface': 554,\n",
       " 'pleased': 555,\n",
       " 'professional': 556,\n",
       " 'care': 557,\n",
       " 'apps': 558,\n",
       " 'watching': 559,\n",
       " 'else': 560,\n",
       " 'beautiful': 561,\n",
       " 'inch': 562,\n",
       " 'inside': 563,\n",
       " 'trial': 564,\n",
       " 'own': 565,\n",
       " 'noticed': 566,\n",
       " 'left': 567,\n",
       " 'model': 568,\n",
       " 'case': 569,\n",
       " 'happy': 570,\n",
       " 'into': 571,\n",
       " 'definitely': 572,\n",
       " 'matter': 573,\n",
       " 'different': 574,\n",
       " 'button': 575,\n",
       " 'opened': 576,\n",
       " 'sized': 577,\n",
       " 'typing': 578,\n",
       " 'days': 579,\n",
       " 'froze': 580,\n",
       " 'adding': 581,\n",
       " 'loose': 582,\n",
       " 'number': 583,\n",
       " 'photos': 584,\n",
       " 'solid': 585,\n",
       " 'edges': 586,\n",
       " 'geek': 587,\n",
       " 'college': 588,\n",
       " 'both': 589,\n",
       " 'pictures': 590,\n",
       " 'half': 591,\n",
       " 'network': 592,\n",
       " 'nothing': 593,\n",
       " 'services': 594,\n",
       " 'said': 595,\n",
       " 'darker': 596,\n",
       " 'standard': 597,\n",
       " 'pages': 598,\n",
       " '...': 599,\n",
       " 'strong': 600,\n",
       " 'purchased': 601,\n",
       " 'save': 602,\n",
       " 'almost': 603,\n",
       " 'apparently': 604,\n",
       " 'videos': 605,\n",
       " 'difference': 606,\n",
       " 'fit': 607,\n",
       " 'night': 608,\n",
       " 'usually': 609,\n",
       " 'entire': 610,\n",
       " 'stay': 611,\n",
       " 'properly': 612,\n",
       " 'plugged': 613,\n",
       " 'iphone': 614,\n",
       " 'talk': 615,\n",
       " 'crashes': 616,\n",
       " 'paying': 617,\n",
       " 'newer': 618,\n",
       " 'country': 619,\n",
       " 'certain': 620,\n",
       " 'drivers': 621,\n",
       " 'files': 622,\n",
       " 'slick': 623,\n",
       " 'died': 624,\n",
       " 'trying': 625,\n",
       " 'allows': 626,\n",
       " 'refused': 627,\n",
       " 'ipod': 628,\n",
       " 'mother': 629,\n",
       " 'yeah': 630,\n",
       " 'bar': 631,\n",
       " 'recovery': 632,\n",
       " 'available': 633,\n",
       " 'useless': 634,\n",
       " 'protection': 635,\n",
       " 'paid': 636,\n",
       " 'none': 637,\n",
       " 'reliable': 638,\n",
       " 'people': 639,\n",
       " 'chose': 640,\n",
       " 'spend': 641,\n",
       " 'mention': 642,\n",
       " 'slowly': 643,\n",
       " 'hold': 644,\n",
       " 'minutes': 645,\n",
       " 'stars': 646,\n",
       " '+': 647,\n",
       " 'drawback': 648,\n",
       " 'break': 649,\n",
       " 'responsive': 650,\n",
       " 'amount': 651,\n",
       " 'terrific': 652,\n",
       " 'mic': 653,\n",
       " 'thru': 654,\n",
       " 'cam': 655,\n",
       " 'mostly': 656,\n",
       " 'imovie': 657,\n",
       " 'colors': 658,\n",
       " 'crisp': 659,\n",
       " 'leopard': 660,\n",
       " 'above': 661,\n",
       " 'core': 662,\n",
       " 'becomes': 663,\n",
       " 'body': 664,\n",
       " 'low': 665,\n",
       " 'im': 666,\n",
       " 'whole': 667,\n",
       " '175': 668,\n",
       " 'side': 669,\n",
       " 'cooling': 670,\n",
       " 'viruses': 671,\n",
       " '8': 672,\n",
       " 'keeps': 673,\n",
       " 'friendly': 674,\n",
       " 'caused': 675,\n",
       " 'remove': 676,\n",
       " 'smooth': 677,\n",
       " 'quite': 678,\n",
       " 'soon': 679,\n",
       " 'machines': 680,\n",
       " 'components': 681,\n",
       " 'lasting': 682,\n",
       " 'smoothly': 683,\n",
       " 'loaded': 684,\n",
       " 'via': 685,\n",
       " 'pack': 686,\n",
       " 'liked': 687,\n",
       " 'ahead': 688,\n",
       " 'hated': 689,\n",
       " 'quiet': 690,\n",
       " 'thats': 691,\n",
       " 'three': 692,\n",
       " 'necessary': 693,\n",
       " 'hook': 694,\n",
       " 'satellite': 695,\n",
       " 'boots': 696,\n",
       " 'die': 697,\n",
       " 'received': 698,\n",
       " 'priced': 699,\n",
       " 'burn': 700,\n",
       " 'probably': 701,\n",
       " 'why': 702,\n",
       " 'lose': 703,\n",
       " '%': 704,\n",
       " 'unlike': 705,\n",
       " '17': 706,\n",
       " 'offer': 707,\n",
       " 'updates': 708,\n",
       " 'versions': 709,\n",
       " 'special': 710,\n",
       " 'broke': 711,\n",
       " 'black': 712,\n",
       " 'seen': 713,\n",
       " 'world': 714,\n",
       " 'awful': 715,\n",
       " 'comfortable': 716,\n",
       " 'yourself': 717,\n",
       " 'doesnt': 718,\n",
       " 'during': 719,\n",
       " 'line': 720,\n",
       " 'clean': 721,\n",
       " 'discover': 722,\n",
       " 'looked': 723,\n",
       " 'rma': 724,\n",
       " 'contacted': 725,\n",
       " 'ups': 726,\n",
       " 'durable': 727,\n",
       " 'broken': 728,\n",
       " 'gb': 729,\n",
       " 'reasonable': 730,\n",
       " 'noise': 731,\n",
       " 'constant': 732,\n",
       " 'ghz': 733,\n",
       " '500gb': 734,\n",
       " 'instead': 735,\n",
       " 'access': 736,\n",
       " 'rest': 737,\n",
       " 'wheel': 738,\n",
       " 'school': 739,\n",
       " 'programming': 740,\n",
       " 'worst': 741,\n",
       " 'blue': 742,\n",
       " 'larger': 743,\n",
       " 'gives': 744,\n",
       " 'relatively': 745,\n",
       " 'tutorials': 746,\n",
       " 'disappointing': 747,\n",
       " 'plug': 748,\n",
       " 'capabilities': 749,\n",
       " 'point': 750,\n",
       " 'seem': 751,\n",
       " 'downfall': 752,\n",
       " 'purchasing': 753,\n",
       " 'except': 754,\n",
       " 'plastic': 755,\n",
       " 'returned': 756,\n",
       " 'speaker': 757,\n",
       " 'student': 758,\n",
       " 'portability': 759,\n",
       " 'five': 760,\n",
       " 'person': 761,\n",
       " 'stuff': 762,\n",
       " 'turns': 763,\n",
       " 'often': 764,\n",
       " 'device': 765,\n",
       " 'fun': 766,\n",
       " 'plan': 767,\n",
       " 'previous': 768,\n",
       " 'operate': 769,\n",
       " 'unable': 770,\n",
       " 'track': 771,\n",
       " 'squad': 772,\n",
       " 'known': 773,\n",
       " 'either': 774,\n",
       " 'ask': 775,\n",
       " 'give': 776,\n",
       " 'expired': 777,\n",
       " 'fits': 778,\n",
       " 'budget': 779,\n",
       " 'besides': 780,\n",
       " 'slightly': 781,\n",
       " 'computing': 782,\n",
       " 'room': 783,\n",
       " 'bios': 784,\n",
       " 'benefits': 785,\n",
       " 'spoke': 786,\n",
       " 'she': 787,\n",
       " 'fantastic': 788,\n",
       " 'decent': 789,\n",
       " 'shipped': 790,\n",
       " 'general': 791,\n",
       " 'claim': 792,\n",
       " 'twice': 793,\n",
       " 'handle': 794,\n",
       " 'numbers': 795,\n",
       " 'sensitive': 796,\n",
       " 'cords': 797,\n",
       " 'taking': 798,\n",
       " 'gui': 799,\n",
       " 'bundled': 800,\n",
       " 'gorgeous': 801,\n",
       " 'turned': 802,\n",
       " 'freaking': 803,\n",
       " 'turn': 804,\n",
       " 'steady': 805,\n",
       " 'unnecessary': 806,\n",
       " 'unless': 807,\n",
       " 'suite': 808,\n",
       " 'satisfied': 809,\n",
       " 'barely': 810,\n",
       " 'connected': 811,\n",
       " 'pure': 812,\n",
       " 'snap': 813,\n",
       " '30': 814,\n",
       " 'helps': 815,\n",
       " 'occasionally': 816,\n",
       " 'hundred': 817,\n",
       " 'dollars': 818,\n",
       " 'preloaded': 819,\n",
       " 'along': 820,\n",
       " 'realized': 821,\n",
       " 'kinda': 822,\n",
       " 'speaking': 823,\n",
       " 'browser': 824,\n",
       " 'under': 825,\n",
       " 'ago': 826,\n",
       " 'forced': 827,\n",
       " 'website': 828,\n",
       " 'force': 829,\n",
       " 'four': 830,\n",
       " 'advantage': 831,\n",
       " 'increase': 832,\n",
       " 'heated': 833,\n",
       " 'opening': 834,\n",
       " 'poorly': 835,\n",
       " 'intuitive': 836,\n",
       " 'download': 837,\n",
       " 'glass': 838,\n",
       " 'continued': 839,\n",
       " 'simpler': 840,\n",
       " 'forward': 841,\n",
       " 'genius': 842,\n",
       " '10': 843,\n",
       " 'movie': 844,\n",
       " 'bluetooth': 845,\n",
       " 'customers': 846,\n",
       " 'white': 847,\n",
       " 'updated': 848,\n",
       " 'color': 849,\n",
       " 'comparison': 850,\n",
       " 'factor': 851,\n",
       " 'familiar': 852,\n",
       " 'couple': 853,\n",
       " 'complaints': 854,\n",
       " 'construction': 855,\n",
       " 'security': 856,\n",
       " 'stuck': 857,\n",
       " 'didnt': 858,\n",
       " 'dont': 859,\n",
       " 'safari': 860,\n",
       " 'delivery': 861,\n",
       " 'anytime': 862,\n",
       " 'mind': 863,\n",
       " 'ordered': 864,\n",
       " 'saved': 865,\n",
       " 'crystal': 866,\n",
       " 'owning': 867,\n",
       " 'become': 868,\n",
       " 'incredibly': 869,\n",
       " 'powerbook': 870,\n",
       " 'easiest': 871,\n",
       " 'surface': 872,\n",
       " 'snow': 873,\n",
       " 'learning': 874,\n",
       " 'picked': 875,\n",
       " 'check': 876,\n",
       " 'missing': 877,\n",
       " 'dual': 878,\n",
       " 'charging': 879,\n",
       " 'stand': 880,\n",
       " 'appleworks': 881,\n",
       " 'paint': 882,\n",
       " 'early': 883,\n",
       " 'edition': 884,\n",
       " 'report': 885,\n",
       " 'cheaply': 886,\n",
       " 'holds': 887,\n",
       " 'antivirus': 888,\n",
       " 'glad': 889,\n",
       " 'nicely': 890,\n",
       " 'part': 891,\n",
       " 'latest': 892,\n",
       " 'waited': 893,\n",
       " 'chat': 894,\n",
       " 'us': 895,\n",
       " 'wasted': 896,\n",
       " 'provides': 897,\n",
       " 'those': 898,\n",
       " 'unreliable': 899,\n",
       " 'meets': 900,\n",
       " 'spec': 901,\n",
       " 'burner': 902,\n",
       " 'discovered': 903,\n",
       " 'ran': 904,\n",
       " 'between': 905,\n",
       " '1/2': 906,\n",
       " 'edge': 907,\n",
       " 'phones': 908,\n",
       " 'terrible': 909,\n",
       " 'hate': 910,\n",
       " 'opinion': 911,\n",
       " 'gave': 912,\n",
       " 'daughter': 913,\n",
       " 'listen': 914,\n",
       " 'major': 915,\n",
       " 'heavy': 916,\n",
       " 'bulky': 917,\n",
       " 'electronic': 918,\n",
       " \"'\": 919,\n",
       " 'linux': 920,\n",
       " 'based': 921,\n",
       " 'sense': 922,\n",
       " 'rather': 923,\n",
       " 'processors': 924,\n",
       " 'hdmi': 925,\n",
       " 'firewire': 926,\n",
       " 'image': 927,\n",
       " 'kind': 928,\n",
       " 'clicking': 929,\n",
       " 'unsteady': 930,\n",
       " 'bugs': 931,\n",
       " 'junk': 932,\n",
       " 'facebook': 933,\n",
       " 'file': 934,\n",
       " 'particular': 935,\n",
       " 'truly': 936,\n",
       " 'bucks': 937,\n",
       " 'beyond': 938,\n",
       " 'duty': 939,\n",
       " 'crash': 940,\n",
       " 'decides': 941,\n",
       " 'mode': 942,\n",
       " 'dropping': 943,\n",
       " 'stock': 944,\n",
       " 'given': 945,\n",
       " 'graphic': 946,\n",
       " 'decreased': 947,\n",
       " 'thrilled': 948,\n",
       " 'technical': 949,\n",
       " 'skype': 950,\n",
       " 'hdd': 951,\n",
       " 'main': 952,\n",
       " 'understand': 953,\n",
       " 'consider': 954,\n",
       " 'ms': 955,\n",
       " 'amazed': 956,\n",
       " 'fully': 957,\n",
       " 'letters': 958,\n",
       " 'complete': 959,\n",
       " 'ergonomic': 960,\n",
       " 'sometimes': 961,\n",
       " 'notebooks': 962,\n",
       " 'quicker': 963,\n",
       " 'photography': 964,\n",
       " '10-11': 965,\n",
       " 'depending': 966,\n",
       " 'level': 967,\n",
       " 'appearance': 968,\n",
       " '3rd': 969,\n",
       " 'bother': 970,\n",
       " 'data': 971,\n",
       " 'taught': 972,\n",
       " 'photoshop': 973,\n",
       " 'bigger': 974,\n",
       " 'loves': 975,\n",
       " 'husband': 976,\n",
       " 'signals': 977,\n",
       " 'multiple': 978,\n",
       " 'page': 979,\n",
       " 'non': 980,\n",
       " 'frequently': 981,\n",
       " 'ideal': 982,\n",
       " 'improvements': 983,\n",
       " 'images': 984,\n",
       " 'later': 985,\n",
       " 'options': 986,\n",
       " 'girlfriend': 987,\n",
       " 'hinge': 988,\n",
       " 'lcd': 989,\n",
       " 'late': 990,\n",
       " 'issued': 991,\n",
       " 'morning': 992,\n",
       " '60': 993,\n",
       " 'hiccups': 994,\n",
       " 'occasion': 995,\n",
       " 'presentations': 996,\n",
       " 'functioning': 997,\n",
       " 'obviously': 998,\n",
       " 'hinges': 999,\n",
       " 'advertised': 1000,\n",
       " ...}"
      ]
     },
     "execution_count": 15,
     "metadata": {},
     "output_type": "execute_result"
    }
   ],
   "source": [
    "weights = np.zeros((vocab_size, 300))\n",
    "mapping = toke.word_index \n",
    "mapping"
   ]
  },
  {
   "cell_type": "markdown",
   "id": "42affe2f",
   "metadata": {
    "papermill": {
     "duration": 0.015231,
     "end_time": "2024-03-10T21:03:15.995198",
     "exception": false,
     "start_time": "2024-03-10T21:03:15.979967",
     "status": "completed"
    },
    "tags": []
   },
   "source": [
    "Fetching weights from pre trained Word2Vec model (ATE)"
   ]
  },
  {
   "cell_type": "code",
   "execution_count": 16,
   "id": "161bd12f",
   "metadata": {
    "execution": {
     "iopub.execute_input": "2024-03-10T21:03:16.028607Z",
     "iopub.status.busy": "2024-03-10T21:03:16.027935Z",
     "iopub.status.idle": "2024-03-10T21:03:16.245978Z",
     "shell.execute_reply": "2024-03-10T21:03:16.245120Z"
    },
    "papermill": {
     "duration": 0.23779,
     "end_time": "2024-03-10T21:03:16.248440",
     "exception": false,
     "start_time": "2024-03-10T21:03:16.010650",
     "status": "completed"
    },
    "tags": []
   },
   "outputs": [],
   "source": [
    "for word, index in mapping.items():\n",
    "    if word in emb:\n",
    "        weights[index:] = emb[word]"
   ]
  },
  {
   "cell_type": "code",
   "execution_count": 17,
   "id": "232fdb40",
   "metadata": {
    "execution": {
     "iopub.execute_input": "2024-03-10T21:03:16.282657Z",
     "iopub.status.busy": "2024-03-10T21:03:16.282039Z",
     "iopub.status.idle": "2024-03-10T21:03:16.286531Z",
     "shell.execute_reply": "2024-03-10T21:03:16.285977Z"
    },
    "papermill": {
     "duration": 0.023553,
     "end_time": "2024-03-10T21:03:16.288166",
     "exception": false,
     "start_time": "2024-03-10T21:03:16.264613",
     "status": "completed"
    },
    "tags": []
   },
   "outputs": [],
   "source": [
    "X_train= X_padded_train\n",
    "Y_train = Y_padded_train\n",
    "X_test = X_padded_test\n",
    "Y_test = Y_padded_test\n",
    "X_val = X_padded_val\n",
    "Y_val = Y_padded_val\n",
    "weights = weights\n",
    "word_token = toke\n",
    "tag_token = toke2"
   ]
  },
  {
   "cell_type": "code",
   "execution_count": 18,
   "id": "2f7850e5",
   "metadata": {
    "execution": {
     "iopub.execute_input": "2024-03-10T21:03:16.321269Z",
     "iopub.status.busy": "2024-03-10T21:03:16.320742Z",
     "iopub.status.idle": "2024-03-10T21:03:16.324478Z",
     "shell.execute_reply": "2024-03-10T21:03:16.323942Z"
    },
    "papermill": {
     "duration": 0.02169,
     "end_time": "2024-03-10T21:03:16.326056",
     "exception": false,
     "start_time": "2024-03-10T21:03:16.304366",
     "status": "completed"
    },
    "tags": []
   },
   "outputs": [],
   "source": [
    "Y_shape= Y_padded_train.shape[2]"
   ]
  },
  {
   "cell_type": "markdown",
   "id": "cd004bb3",
   "metadata": {
    "papermill": {
     "duration": 0.014804,
     "end_time": "2024-03-10T21:03:16.356008",
     "exception": false,
     "start_time": "2024-03-10T21:03:16.341204",
     "status": "completed"
    },
    "tags": []
   },
   "source": [
    "# Models"
   ]
  },
  {
   "cell_type": "markdown",
   "id": "a7ee0e8d",
   "metadata": {
    "papermill": {
     "duration": 0.014846,
     "end_time": "2024-03-10T21:03:16.386185",
     "exception": false,
     "start_time": "2024-03-10T21:03:16.371339",
     "status": "completed"
    },
    "tags": []
   },
   "source": [
    "## RNN"
   ]
  },
  {
   "cell_type": "code",
   "execution_count": 19,
   "id": "253fd984",
   "metadata": {
    "execution": {
     "iopub.execute_input": "2024-03-10T21:03:16.419146Z",
     "iopub.status.busy": "2024-03-10T21:03:16.418434Z",
     "iopub.status.idle": "2024-03-10T21:03:16.423006Z",
     "shell.execute_reply": "2024-03-10T21:03:16.422208Z"
    },
    "papermill": {
     "duration": 0.02306,
     "end_time": "2024-03-10T21:03:16.424796",
     "exception": false,
     "start_time": "2024-03-10T21:03:16.401736",
     "status": "completed"
    },
    "tags": []
   },
   "outputs": [],
   "source": [
    "model_name=\"RNN\""
   ]
  },
  {
   "cell_type": "markdown",
   "id": "027d8e68",
   "metadata": {
    "papermill": {
     "duration": 0.015917,
     "end_time": "2024-03-10T21:03:16.458060",
     "exception": false,
     "start_time": "2024-03-10T21:03:16.442143",
     "status": "completed"
    },
    "tags": []
   },
   "source": [
    "### Training"
   ]
  },
  {
   "cell_type": "code",
   "execution_count": 20,
   "id": "31c317e7",
   "metadata": {
    "execution": {
     "iopub.execute_input": "2024-03-10T21:03:16.492284Z",
     "iopub.status.busy": "2024-03-10T21:03:16.491493Z",
     "iopub.status.idle": "2024-03-10T21:03:16.690151Z",
     "shell.execute_reply": "2024-03-10T21:03:16.689181Z"
    },
    "papermill": {
     "duration": 0.218922,
     "end_time": "2024-03-10T21:03:16.692646",
     "exception": false,
     "start_time": "2024-03-10T21:03:16.473724",
     "status": "completed"
    },
    "tags": []
   },
   "outputs": [],
   "source": [
    "rnn_model = Sequential()\n",
    "rnn_model.add(Embedding(input_dim = vocab_size,output_dim = 300,input_length  = max_len,weights = [weights],trainable = False))\n",
    "rnn_model.add(SimpleRNN(32, return_sequences=True))\n",
    "rnn_model.add(TimeDistributed(Dense(Y_shape, activation='softmax')))"
   ]
  },
  {
   "cell_type": "markdown",
   "id": "302b72e9",
   "metadata": {
    "papermill": {
     "duration": 0.01472,
     "end_time": "2024-03-10T21:03:16.723239",
     "exception": false,
     "start_time": "2024-03-10T21:03:16.708519",
     "status": "completed"
    },
    "tags": []
   },
   "source": [
    "Compiling the rnn Word2Vec Model"
   ]
  },
  {
   "cell_type": "code",
   "execution_count": 21,
   "id": "c5f3b8c3",
   "metadata": {
    "execution": {
     "iopub.execute_input": "2024-03-10T21:03:16.756030Z",
     "iopub.status.busy": "2024-03-10T21:03:16.755547Z",
     "iopub.status.idle": "2024-03-10T21:03:16.783448Z",
     "shell.execute_reply": "2024-03-10T21:03:16.782487Z"
    },
    "papermill": {
     "duration": 0.047879,
     "end_time": "2024-03-10T21:03:16.786266",
     "exception": false,
     "start_time": "2024-03-10T21:03:16.738387",
     "status": "completed"
    },
    "tags": []
   },
   "outputs": [],
   "source": [
    "rnn_model.compile(loss='categorical_crossentropy',optimizer='adam',metrics=['acc',Precision(),Recall()])"
   ]
  },
  {
   "cell_type": "code",
   "execution_count": 22,
   "id": "beb0b94c",
   "metadata": {
    "execution": {
     "iopub.execute_input": "2024-03-10T21:03:16.819699Z",
     "iopub.status.busy": "2024-03-10T21:03:16.819255Z",
     "iopub.status.idle": "2024-03-10T21:03:16.824067Z",
     "shell.execute_reply": "2024-03-10T21:03:16.823327Z"
    },
    "papermill": {
     "duration": 0.023675,
     "end_time": "2024-03-10T21:03:16.826089",
     "exception": false,
     "start_time": "2024-03-10T21:03:16.802414",
     "status": "completed"
    },
    "tags": []
   },
   "outputs": [],
   "source": [
    "rnn_f1_callback = F1ScoreCallback(val_data=(X_val, Y_val),data=(X_train, Y_train))\n"
   ]
  },
  {
   "cell_type": "code",
   "execution_count": 23,
   "id": "5c357fcc",
   "metadata": {
    "execution": {
     "iopub.execute_input": "2024-03-10T21:03:16.862321Z",
     "iopub.status.busy": "2024-03-10T21:03:16.861349Z",
     "iopub.status.idle": "2024-03-10T21:03:16.880779Z",
     "shell.execute_reply": "2024-03-10T21:03:16.879746Z"
    },
    "papermill": {
     "duration": 0.040112,
     "end_time": "2024-03-10T21:03:16.883398",
     "exception": false,
     "start_time": "2024-03-10T21:03:16.843286",
     "status": "completed"
    },
    "tags": []
   },
   "outputs": [
    {
     "name": "stdout",
     "output_type": "stream",
     "text": [
      "Model: \"sequential\"\n",
      "_________________________________________________________________\n",
      " Layer (type)                Output Shape              Param #   \n",
      "=================================================================\n",
      " embedding (Embedding)       (None, 78, 300)           721800    \n",
      "                                                                 \n",
      " simple_rnn (SimpleRNN)      (None, 78, 32)            10656     \n",
      "                                                                 \n",
      " time_distributed (TimeDist  (None, 78, 4)             132       \n",
      " ributed)                                                        \n",
      "                                                                 \n",
      "=================================================================\n",
      "Total params: 732588 (2.79 MB)\n",
      "Trainable params: 10788 (42.14 KB)\n",
      "Non-trainable params: 721800 (2.75 MB)\n",
      "_________________________________________________________________\n"
     ]
    }
   ],
   "source": [
    "rnn_model.summary()"
   ]
  },
  {
   "cell_type": "markdown",
   "id": "bce153c6",
   "metadata": {
    "papermill": {
     "duration": 0.017383,
     "end_time": "2024-03-10T21:03:16.918770",
     "exception": false,
     "start_time": "2024-03-10T21:03:16.901387",
     "status": "completed"
    },
    "tags": []
   },
   "source": [
    "Fitting the rnn model"
   ]
  },
  {
   "cell_type": "code",
   "execution_count": 24,
   "id": "b448ad85",
   "metadata": {
    "execution": {
     "iopub.execute_input": "2024-03-10T21:03:16.960590Z",
     "iopub.status.busy": "2024-03-10T21:03:16.960153Z",
     "iopub.status.idle": "2024-03-10T21:03:55.198843Z",
     "shell.execute_reply": "2024-03-10T21:03:55.198044Z"
    },
    "papermill": {
     "duration": 38.264327,
     "end_time": "2024-03-10T21:03:55.200654",
     "exception": false,
     "start_time": "2024-03-10T21:03:16.936327",
     "status": "completed"
    },
    "tags": []
   },
   "outputs": [
    {
     "name": "stdout",
     "output_type": "stream",
     "text": [
      "Epoch 1/20\n",
      "7/7 [==============================] - 1s 7ms/step\n",
      "29/29 [==============================] - 0s 7ms/step\n",
      "Val F1 Score: 0.5281025054920405 - Train F1 Score: 0.5177307088506817\n",
      "8/8 [==============================] - 4s 388ms/step - loss: 1.3106 - acc: 0.8308 - precision: 0.7412 - recall: 0.0528 - val_loss: 1.0952 - val_acc: 0.9495 - val_precision: 0.8559 - val_recall: 0.1565\n",
      "Epoch 2/20\n",
      "7/7 [==============================] - 0s 7ms/step\n",
      "29/29 [==============================] - 0s 7ms/step\n",
      "Val F1 Score: 0.5164255373711021 - Train F1 Score: 0.5028291218310199\n",
      "8/8 [==============================] - 2s 258ms/step - loss: 0.8760 - acc: 0.9638 - precision: 0.9344 - recall: 0.2691 - val_loss: 0.6723 - val_acc: 0.9593 - val_precision: 0.9595 - val_recall: 0.7871\n",
      "Epoch 3/20\n",
      "7/7 [==============================] - 0s 6ms/step\n",
      "29/29 [==============================] - 0s 7ms/step\n",
      "Val F1 Score: 0.5181877604237276 - Train F1 Score: 0.5021998645951118\n",
      "8/8 [==============================] - 2s 245ms/step - loss: 0.5347 - acc: 0.9684 - precision: 0.9727 - recall: 0.8319 - val_loss: 0.4381 - val_acc: 0.9597 - val_precision: 0.9620 - val_recall: 0.8664\n",
      "Epoch 4/20\n",
      "7/7 [==============================] - 0s 8ms/step\n",
      "29/29 [==============================] - 0s 7ms/step\n",
      "Val F1 Score: 0.5226396026159063 - Train F1 Score: 0.5087473706953685\n",
      "8/8 [==============================] - 2s 246ms/step - loss: 0.3396 - acc: 0.9686 - precision: 0.9729 - recall: 0.8909 - val_loss: 0.3096 - val_acc: 0.9589 - val_precision: 0.9625 - val_recall: 0.8916\n",
      "Epoch 5/20\n",
      "7/7 [==============================] - 0s 7ms/step\n",
      "29/29 [==============================] - 0s 8ms/step\n",
      "Val F1 Score: 0.5384180671335876 - Train F1 Score: 0.518912130780821\n",
      "8/8 [==============================] - 2s 256ms/step - loss: 0.2406 - acc: 0.9681 - precision: 0.9731 - recall: 0.9104 - val_loss: 0.2516 - val_acc: 0.9586 - val_precision: 0.9631 - val_recall: 0.9024\n",
      "Epoch 6/20\n",
      "7/7 [==============================] - 0s 8ms/step\n",
      "29/29 [==============================] - 0s 7ms/step\n",
      "Val F1 Score: 0.5640204935891213 - Train F1 Score: 0.5423274613543513\n",
      "8/8 [==============================] - 2s 256ms/step - loss: 0.1948 - acc: 0.9678 - precision: 0.9744 - recall: 0.9203 - val_loss: 0.2227 - val_acc: 0.9587 - val_precision: 0.9644 - val_recall: 0.9142\n",
      "Epoch 7/20\n",
      "7/7 [==============================] - 0s 8ms/step\n",
      "29/29 [==============================] - 0s 8ms/step\n",
      "Val F1 Score: 0.5796416382859534 - Train F1 Score: 0.5660682685762423\n",
      "8/8 [==============================] - 2s 248ms/step - loss: 0.1704 - acc: 0.9685 - precision: 0.9761 - recall: 0.9236 - val_loss: 0.2052 - val_acc: 0.9597 - val_precision: 0.9650 - val_recall: 0.9155\n",
      "Epoch 8/20\n",
      "7/7 [==============================] - 0s 7ms/step\n",
      "29/29 [==============================] - 0s 7ms/step\n",
      "Val F1 Score: 0.5849673009596438 - Train F1 Score: 0.5782942516468484\n",
      "8/8 [==============================] - 2s 250ms/step - loss: 0.1546 - acc: 0.9703 - precision: 0.9772 - recall: 0.9248 - val_loss: 0.1928 - val_acc: 0.9605 - val_precision: 0.9653 - val_recall: 0.9172\n",
      "Epoch 9/20\n",
      "7/7 [==============================] - 0s 7ms/step\n",
      "29/29 [==============================] - 0s 7ms/step\n",
      "Val F1 Score: 0.5897509858102759 - Train F1 Score: 0.5836120269816317\n",
      "8/8 [==============================] - 2s 249ms/step - loss: 0.1432 - acc: 0.9712 - precision: 0.9778 - recall: 0.9264 - val_loss: 0.1837 - val_acc: 0.9610 - val_precision: 0.9654 - val_recall: 0.9313\n",
      "Epoch 10/20\n",
      "7/7 [==============================] - 0s 8ms/step\n",
      "29/29 [==============================] - 0s 8ms/step\n",
      "Val F1 Score: 0.5938464256701883 - Train F1 Score: 0.5982165669098929\n",
      "8/8 [==============================] - 2s 264ms/step - loss: 0.1347 - acc: 0.9722 - precision: 0.9785 - recall: 0.9409 - val_loss: 0.1765 - val_acc: 0.9616 - val_precision: 0.9656 - val_recall: 0.9322\n",
      "Epoch 11/20\n",
      "7/7 [==============================] - 0s 6ms/step\n",
      "29/29 [==============================] - 0s 7ms/step\n",
      "Val F1 Score: 0.6008515186124396 - Train F1 Score: 0.6125299873351032\n",
      "8/8 [==============================] - 2s 245ms/step - loss: 0.1278 - acc: 0.9731 - precision: 0.9792 - recall: 0.9420 - val_loss: 0.1705 - val_acc: 0.9624 - val_precision: 0.9659 - val_recall: 0.9329\n",
      "Epoch 12/20\n",
      "7/7 [==============================] - 0s 7ms/step\n",
      "29/29 [==============================] - 0s 7ms/step\n",
      "Val F1 Score: 0.6066116617126248 - Train F1 Score: 0.6271138136081267\n",
      "8/8 [==============================] - 2s 244ms/step - loss: 0.1220 - acc: 0.9740 - precision: 0.9798 - recall: 0.9429 - val_loss: 0.1654 - val_acc: 0.9626 - val_precision: 0.9669 - val_recall: 0.9335\n",
      "Epoch 13/20\n",
      "7/7 [==============================] - 0s 7ms/step\n",
      "29/29 [==============================] - 0s 7ms/step\n",
      "Val F1 Score: 0.6112785143613422 - Train F1 Score: 0.6354252867957519\n",
      "8/8 [==============================] - 2s 255ms/step - loss: 0.1169 - acc: 0.9746 - precision: 0.9809 - recall: 0.9436 - val_loss: 0.1607 - val_acc: 0.9630 - val_precision: 0.9677 - val_recall: 0.9340\n",
      "Epoch 14/20\n",
      "7/7 [==============================] - 0s 7ms/step\n",
      "29/29 [==============================] - 0s 8ms/step\n",
      "Val F1 Score: 0.612831026116276 - Train F1 Score: 0.6476508071977772\n",
      "8/8 [==============================] - 2s 251ms/step - loss: 0.1124 - acc: 0.9753 - precision: 0.9816 - recall: 0.9445 - val_loss: 0.1565 - val_acc: 0.9631 - val_precision: 0.9686 - val_recall: 0.9343\n",
      "Epoch 15/20\n",
      "7/7 [==============================] - 0s 6ms/step\n",
      "29/29 [==============================] - 0s 7ms/step\n",
      "Val F1 Score: 0.6199943658893347 - Train F1 Score: 0.6569312369556809\n",
      "8/8 [==============================] - 2s 251ms/step - loss: 0.1084 - acc: 0.9758 - precision: 0.9818 - recall: 0.9450 - val_loss: 0.1526 - val_acc: 0.9635 - val_precision: 0.9689 - val_recall: 0.9347\n",
      "Epoch 16/20\n",
      "7/7 [==============================] - 0s 6ms/step\n",
      "29/29 [==============================] - 0s 9ms/step\n",
      "Val F1 Score: 0.6315775849439644 - Train F1 Score: 0.6754560154060093\n",
      "8/8 [==============================] - 2s 262ms/step - loss: 0.1047 - acc: 0.9764 - precision: 0.9823 - recall: 0.9456 - val_loss: 0.1494 - val_acc: 0.9642 - val_precision: 0.9692 - val_recall: 0.9352\n",
      "Epoch 17/20\n",
      "7/7 [==============================] - 0s 7ms/step\n",
      "29/29 [==============================] - 0s 7ms/step\n",
      "Val F1 Score: 0.6427153334221094 - Train F1 Score: 0.6916952724381741\n",
      "8/8 [==============================] - 2s 243ms/step - loss: 0.1014 - acc: 0.9771 - precision: 0.9828 - recall: 0.9462 - val_loss: 0.1467 - val_acc: 0.9649 - val_precision: 0.9697 - val_recall: 0.9356\n",
      "Epoch 18/20\n",
      "7/7 [==============================] - 0s 8ms/step\n",
      "29/29 [==============================] - 0s 7ms/step\n",
      "Val F1 Score: 0.6485020712432895 - Train F1 Score: 0.6979615907408149\n",
      "8/8 [==============================] - 2s 256ms/step - loss: 0.0984 - acc: 0.9777 - precision: 0.9832 - recall: 0.9469 - val_loss: 0.1440 - val_acc: 0.9652 - val_precision: 0.9703 - val_recall: 0.9358\n",
      "Epoch 19/20\n",
      "7/7 [==============================] - 0s 8ms/step\n",
      "29/29 [==============================] - 0s 7ms/step\n",
      "Val F1 Score: 0.6544670434896472 - Train F1 Score: 0.7029273007594364\n",
      "8/8 [==============================] - 2s 248ms/step - loss: 0.0956 - acc: 0.9780 - precision: 0.9834 - recall: 0.9475 - val_loss: 0.1417 - val_acc: 0.9657 - val_precision: 0.9707 - val_recall: 0.9361\n",
      "Epoch 20/20\n",
      "7/7 [==============================] - 0s 7ms/step\n",
      "29/29 [==============================] - 0s 7ms/step\n",
      "Val F1 Score: 0.66026976264962 - Train F1 Score: 0.7226078576178916\n",
      "8/8 [==============================] - 2s 245ms/step - loss: 0.0931 - acc: 0.9786 - precision: 0.9840 - recall: 0.9500 - val_loss: 0.1393 - val_acc: 0.9660 - val_precision: 0.9722 - val_recall: 0.9490\n"
     ]
    }
   ],
   "source": [
    "rnn_training = rnn_model.fit(X_train, Y_train, batch_size=128, epochs=20, validation_data=(X_val, Y_val), callbacks=[rnn_f1_callback])"
   ]
  },
  {
   "cell_type": "markdown",
   "id": "ebd950bb",
   "metadata": {
    "papermill": {
     "duration": 0.032607,
     "end_time": "2024-03-10T21:03:55.266036",
     "exception": false,
     "start_time": "2024-03-10T21:03:55.233429",
     "status": "completed"
    },
    "tags": []
   },
   "source": [
    "Plotting the graph"
   ]
  },
  {
   "cell_type": "code",
   "execution_count": 25,
   "id": "285d8373",
   "metadata": {
    "execution": {
     "iopub.execute_input": "2024-03-10T21:03:55.332933Z",
     "iopub.status.busy": "2024-03-10T21:03:55.332455Z",
     "iopub.status.idle": "2024-03-10T21:03:55.842300Z",
     "shell.execute_reply": "2024-03-10T21:03:55.840749Z"
    },
    "papermill": {
     "duration": 0.546084,
     "end_time": "2024-03-10T21:03:55.845198",
     "exception": false,
     "start_time": "2024-03-10T21:03:55.299114",
     "status": "completed"
    },
    "tags": []
   },
   "outputs": [
    {
     "data": {
      "image/png": "[encoded data removed]",
      "text/plain": [
       "<Figure size 1600x500 with 2 Axes>"
      ]
     },
     "metadata": {},
     "output_type": "display_data"
    }
   ],
   "source": [
    "draw_loss_graph(rnn_training,model_name, rnn_f1_callback.train_f1_scores, rnn_f1_callback.val_f1_scores)\n",
    "save_model(rnn_model,model_name,Embedding_name,Dataset)"
   ]
  },
  {
   "cell_type": "markdown",
   "id": "3e84bcb6",
   "metadata": {
    "papermill": {
     "duration": 0.033374,
     "end_time": "2024-03-10T21:03:55.913270",
     "exception": false,
     "start_time": "2024-03-10T21:03:55.879896",
     "status": "completed"
    },
    "tags": []
   },
   "source": [
    "### Testing"
   ]
  },
  {
   "cell_type": "code",
   "execution_count": 26,
   "id": "62e8e34d",
   "metadata": {
    "execution": {
     "iopub.execute_input": "2024-03-10T21:03:55.982860Z",
     "iopub.status.busy": "2024-03-10T21:03:55.982446Z",
     "iopub.status.idle": "2024-03-10T21:03:56.170339Z",
     "shell.execute_reply": "2024-03-10T21:03:56.169189Z"
    },
    "papermill": {
     "duration": 0.226668,
     "end_time": "2024-03-10T21:03:56.173018",
     "exception": false,
     "start_time": "2024-03-10T21:03:55.946350",
     "status": "completed"
    },
    "tags": []
   },
   "outputs": [],
   "source": [
    "loaded_model = load_model(model_name,Embedding_name,Dataset)"
   ]
  },
  {
   "cell_type": "markdown",
   "id": "4fd0aed1",
   "metadata": {
    "papermill": {
     "duration": 0.034769,
     "end_time": "2024-03-10T21:03:56.242519",
     "exception": false,
     "start_time": "2024-03-10T21:03:56.207750",
     "status": "completed"
    },
    "tags": []
   },
   "source": [
    "Testing accuracy"
   ]
  },
  {
   "cell_type": "code",
   "execution_count": 27,
   "id": "39100dd4",
   "metadata": {
    "execution": {
     "iopub.execute_input": "2024-03-10T21:03:56.311616Z",
     "iopub.status.busy": "2024-03-10T21:03:56.311151Z",
     "iopub.status.idle": "2024-03-10T21:03:56.890530Z",
     "shell.execute_reply": "2024-03-10T21:03:56.888366Z"
    },
    "papermill": {
     "duration": 0.617048,
     "end_time": "2024-03-10T21:03:56.893572",
     "exception": false,
     "start_time": "2024-03-10T21:03:56.276524",
     "status": "completed"
    },
    "tags": []
   },
   "outputs": [
    {
     "name": "stdout",
     "output_type": "stream",
     "text": [
      "11/11 [==============================] - 1s 8ms/step - loss: 0.1453 - acc: 0.9644 - precision: 0.9712 - recall: 0.9489\n",
      "0.9644308686256409\n"
     ]
    }
   ],
   "source": [
    "accuracy = loaded_model.evaluate(X_test, Y_test, verbose = 1)\n",
    "print(accuracy[1])"
   ]
  },
  {
   "cell_type": "markdown",
   "id": "55831a74",
   "metadata": {
    "papermill": {
     "duration": 0.038523,
     "end_time": "2024-03-10T21:03:56.968927",
     "exception": false,
     "start_time": "2024-03-10T21:03:56.930404",
     "status": "completed"
    },
    "tags": []
   },
   "source": [
    "Testing F1 Score"
   ]
  },
  {
   "cell_type": "code",
   "execution_count": 28,
   "id": "ead3a60a",
   "metadata": {
    "execution": {
     "iopub.execute_input": "2024-03-10T21:03:57.046551Z",
     "iopub.status.busy": "2024-03-10T21:03:57.045916Z",
     "iopub.status.idle": "2024-03-10T21:03:57.687537Z",
     "shell.execute_reply": "2024-03-10T21:03:57.685970Z"
    },
    "papermill": {
     "duration": 0.679606,
     "end_time": "2024-03-10T21:03:57.689532",
     "exception": false,
     "start_time": "2024-03-10T21:03:57.009926",
     "status": "completed"
    },
    "tags": []
   },
   "outputs": [
    {
     "name": "stdout",
     "output_type": "stream",
     "text": [
      "11/11 [==============================] - 0s 7ms/step\n",
      "Test F1 Score: 0.6463279405282782\n"
     ]
    }
   ],
   "source": [
    "Y_pred = loaded_model.predict(X_test)\n",
    "real = get_real(Y_test)\n",
    "pred = get_pred(Y_pred)\n",
    "\n",
    "true_labels_flat = [label for sublist in real for label in sublist]\n",
    "predicted_labels_flat = [label for sublist in pred for label in sublist]\n",
    "\n",
    "# Compute F1 score\n",
    "f1 = f1_score(true_labels_flat, predicted_labels_flat, average='macro')\n",
    "\n",
    "print(\"Test F1 Score:\", f1)"
   ]
  },
  {
   "cell_type": "markdown",
   "id": "9e378374",
   "metadata": {
    "papermill": {
     "duration": 0.037267,
     "end_time": "2024-03-10T21:03:57.763600",
     "exception": false,
     "start_time": "2024-03-10T21:03:57.726333",
     "status": "completed"
    },
    "tags": []
   },
   "source": [
    "## GRU"
   ]
  },
  {
   "cell_type": "code",
   "execution_count": 29,
   "id": "540823d5",
   "metadata": {
    "execution": {
     "iopub.execute_input": "2024-03-10T21:03:57.836199Z",
     "iopub.status.busy": "2024-03-10T21:03:57.835788Z",
     "iopub.status.idle": "2024-03-10T21:03:57.839954Z",
     "shell.execute_reply": "2024-03-10T21:03:57.839046Z"
    },
    "papermill": {
     "duration": 0.043537,
     "end_time": "2024-03-10T21:03:57.842530",
     "exception": false,
     "start_time": "2024-03-10T21:03:57.798993",
     "status": "completed"
    },
    "tags": []
   },
   "outputs": [],
   "source": [
    "model_name=\"GRU\""
   ]
  },
  {
   "cell_type": "markdown",
   "id": "a3cdcb7e",
   "metadata": {
    "papermill": {
     "duration": 0.034334,
     "end_time": "2024-03-10T21:03:57.911401",
     "exception": false,
     "start_time": "2024-03-10T21:03:57.877067",
     "status": "completed"
    },
    "tags": []
   },
   "source": [
    "### Training"
   ]
  },
  {
   "cell_type": "code",
   "execution_count": 30,
   "id": "46847387",
   "metadata": {
    "execution": {
     "iopub.execute_input": "2024-03-10T21:03:57.982362Z",
     "iopub.status.busy": "2024-03-10T21:03:57.981919Z",
     "iopub.status.idle": "2024-03-10T21:03:58.232877Z",
     "shell.execute_reply": "2024-03-10T21:03:58.231673Z"
    },
    "papermill": {
     "duration": 0.289977,
     "end_time": "2024-03-10T21:03:58.235604",
     "exception": false,
     "start_time": "2024-03-10T21:03:57.945627",
     "status": "completed"
    },
    "tags": []
   },
   "outputs": [],
   "source": [
    "gru_model = Sequential()\n",
    "gru_model.add(Embedding(input_dim = vocab_size,output_dim = 300,input_length  = max_len,weights = [weights],trainable = False))\n",
    "gru_model.add(GRU(64, return_sequences=True))\n",
    "gru_model.add(TimeDistributed(Dense(Y_train.shape[2], activation='softmax')))"
   ]
  },
  {
   "cell_type": "markdown",
   "id": "adb02a6c",
   "metadata": {
    "papermill": {
     "duration": 0.034266,
     "end_time": "2024-03-10T21:03:58.305382",
     "exception": false,
     "start_time": "2024-03-10T21:03:58.271116",
     "status": "completed"
    },
    "tags": []
   },
   "source": [
    "compiling "
   ]
  },
  {
   "cell_type": "code",
   "execution_count": 31,
   "id": "cbac7763",
   "metadata": {
    "execution": {
     "iopub.execute_input": "2024-03-10T21:03:58.376244Z",
     "iopub.status.busy": "2024-03-10T21:03:58.375383Z",
     "iopub.status.idle": "2024-03-10T21:03:58.396190Z",
     "shell.execute_reply": "2024-03-10T21:03:58.394214Z"
    },
    "papermill": {
     "duration": 0.059502,
     "end_time": "2024-03-10T21:03:58.399057",
     "exception": false,
     "start_time": "2024-03-10T21:03:58.339555",
     "status": "completed"
    },
    "tags": []
   },
   "outputs": [],
   "source": [
    "gru_model.compile(loss='categorical_crossentropy',optimizer='adam',metrics=['acc',Precision(),Recall()])"
   ]
  },
  {
   "cell_type": "code",
   "execution_count": 32,
   "id": "f5b2eee3",
   "metadata": {
    "execution": {
     "iopub.execute_input": "2024-03-10T21:03:58.471530Z",
     "iopub.status.busy": "2024-03-10T21:03:58.470484Z",
     "iopub.status.idle": "2024-03-10T21:03:58.475492Z",
     "shell.execute_reply": "2024-03-10T21:03:58.474696Z"
    },
    "papermill": {
     "duration": 0.043513,
     "end_time": "2024-03-10T21:03:58.477799",
     "exception": false,
     "start_time": "2024-03-10T21:03:58.434286",
     "status": "completed"
    },
    "tags": []
   },
   "outputs": [],
   "source": [
    "gru_f1_callback = F1ScoreCallback(val_data=(X_val, Y_val),data=(X_train, Y_train))"
   ]
  },
  {
   "cell_type": "code",
   "execution_count": 33,
   "id": "acdeff14",
   "metadata": {
    "execution": {
     "iopub.execute_input": "2024-03-10T21:03:58.547238Z",
     "iopub.status.busy": "2024-03-10T21:03:58.546326Z",
     "iopub.status.idle": "2024-03-10T21:03:58.567358Z",
     "shell.execute_reply": "2024-03-10T21:03:58.566018Z"
    },
    "papermill": {
     "duration": 0.05829,
     "end_time": "2024-03-10T21:03:58.570036",
     "exception": false,
     "start_time": "2024-03-10T21:03:58.511746",
     "status": "completed"
    },
    "tags": []
   },
   "outputs": [
    {
     "name": "stdout",
     "output_type": "stream",
     "text": [
      "Model: \"sequential_1\"\n",
      "_________________________________________________________________\n",
      " Layer (type)                Output Shape              Param #   \n",
      "=================================================================\n",
      " embedding_1 (Embedding)     (None, 78, 300)           721800    \n",
      "                                                                 \n",
      " gru (GRU)                   (None, 78, 64)            70272     \n",
      "                                                                 \n",
      " time_distributed_1 (TimeDi  (None, 78, 4)             260       \n",
      " stributed)                                                      \n",
      "                                                                 \n",
      "=================================================================\n",
      "Total params: 792332 (3.02 MB)\n",
      "Trainable params: 70532 (275.52 KB)\n",
      "Non-trainable params: 721800 (2.75 MB)\n",
      "_________________________________________________________________\n"
     ]
    }
   ],
   "source": [
    "gru_model.summary()"
   ]
  },
  {
   "cell_type": "markdown",
   "id": "e71491c5",
   "metadata": {
    "papermill": {
     "duration": 0.034435,
     "end_time": "2024-03-10T21:03:58.639512",
     "exception": false,
     "start_time": "2024-03-10T21:03:58.605077",
     "status": "completed"
    },
    "tags": []
   },
   "source": [
    "Fitting GRU"
   ]
  },
  {
   "cell_type": "code",
   "execution_count": 34,
   "id": "ba947185",
   "metadata": {
    "execution": {
     "iopub.execute_input": "2024-03-10T21:03:58.711043Z",
     "iopub.status.busy": "2024-03-10T21:03:58.710628Z",
     "iopub.status.idle": "2024-03-10T21:04:51.493885Z",
     "shell.execute_reply": "2024-03-10T21:04:51.492610Z"
    },
    "papermill": {
     "duration": 52.82166,
     "end_time": "2024-03-10T21:04:51.495988",
     "exception": false,
     "start_time": "2024-03-10T21:03:58.674328",
     "status": "completed"
    },
    "tags": []
   },
   "outputs": [
    {
     "name": "stdout",
     "output_type": "stream",
     "text": [
      "Epoch 1/20\n",
      "7/7 [==============================] - 0s 12ms/step\n",
      "29/29 [==============================] - 0s 12ms/step\n",
      "Val F1 Score: 0.4982444808151031 - Train F1 Score: 0.4874776887140934\n",
      "8/8 [==============================] - 5s 432ms/step - loss: 1.2849 - acc: 0.8956 - precision_1: 0.9064 - recall_1: 0.0562 - val_loss: 1.1046 - val_acc: 0.9685 - val_precision_1: 0.9091 - val_recall_1: 0.1886\n",
      "Epoch 2/20\n",
      "7/7 [==============================] - 0s 14ms/step\n",
      "29/29 [==============================] - 0s 14ms/step\n",
      "Val F1 Score: 0.4922666670457899 - Train F1 Score: 0.4860895056725778\n",
      "8/8 [==============================] - 3s 360ms/step - loss: 1.0274 - acc: 0.9733 - precision_1: 0.8958 - recall_1: 0.2152 - val_loss: 0.9383 - val_acc: 0.9719 - val_precision_1: 0.9072 - val_recall_1: 0.2095\n",
      "Epoch 3/20\n",
      "7/7 [==============================] - 0s 14ms/step\n",
      "29/29 [==============================] - 0s 14ms/step\n",
      "Val F1 Score: 0.49660286267554543 - Train F1 Score: 0.4890875109338622\n",
      "8/8 [==============================] - 3s 364ms/step - loss: 0.8507 - acc: 0.9734 - precision_1: 0.8952 - recall_1: 0.2179 - val_loss: 0.6737 - val_acc: 0.9721 - val_precision_1: 0.9061 - val_recall_1: 0.2114\n",
      "Epoch 4/20\n",
      "7/7 [==============================] - 0s 15ms/step\n",
      "29/29 [==============================] - 0s 14ms/step\n",
      "Val F1 Score: 0.48075598754231647 - Train F1 Score: 0.47353707722262367\n",
      "8/8 [==============================] - 2s 338ms/step - loss: 0.4815 - acc: 0.9720 - precision_1: 0.9684 - recall_1: 0.7930 - val_loss: 0.2403 - val_acc: 0.9494 - val_precision_1: 0.9535 - val_recall_1: 0.9070\n",
      "Epoch 5/20\n",
      "7/7 [==============================] - 0s 15ms/step\n",
      "29/29 [==============================] - 0s 12ms/step\n",
      "Val F1 Score: 0.5175404181144619 - Train F1 Score: 0.5332023360871162\n",
      "8/8 [==============================] - 2s 337ms/step - loss: 0.2348 - acc: 0.9483 - precision_1: 0.9500 - recall_1: 0.9134 - val_loss: 0.1790 - val_acc: 0.9556 - val_precision_1: 0.9626 - val_recall_1: 0.9263\n",
      "Epoch 6/20\n",
      "7/7 [==============================] - 0s 15ms/step\n",
      "29/29 [==============================] - 0s 13ms/step\n",
      "Val F1 Score: 0.5571077540731746 - Train F1 Score: 0.5609496662060283\n",
      "8/8 [==============================] - 2s 333ms/step - loss: 0.1502 - acc: 0.9659 - precision_1: 0.9709 - recall_1: 0.9362 - val_loss: 0.1322 - val_acc: 0.9729 - val_precision_1: 0.9780 - val_recall_1: 0.9429\n",
      "Epoch 7/20\n",
      "7/7 [==============================] - 0s 15ms/step\n",
      "29/29 [==============================] - 0s 15ms/step\n",
      "Val F1 Score: 0.5399210129330687 - Train F1 Score: 0.5571123223932624\n",
      "8/8 [==============================] - 3s 370ms/step - loss: 0.1269 - acc: 0.9738 - precision_1: 0.9786 - recall_1: 0.9441 - val_loss: 0.1183 - val_acc: 0.9739 - val_precision_1: 0.9796 - val_recall_1: 0.9453\n",
      "Epoch 8/20\n",
      "7/7 [==============================] - 0s 15ms/step\n",
      "29/29 [==============================] - 0s 14ms/step\n",
      "Val F1 Score: 0.5514875779780937 - Train F1 Score: 0.5713963830478821\n",
      "8/8 [==============================] - 3s 358ms/step - loss: 0.1143 - acc: 0.9742 - precision_1: 0.9784 - recall_1: 0.9450 - val_loss: 0.1071 - val_acc: 0.9746 - val_precision_1: 0.9800 - val_recall_1: 0.9456\n",
      "Epoch 9/20\n",
      "7/7 [==============================] - 0s 15ms/step\n",
      "29/29 [==============================] - 0s 13ms/step\n",
      "Val F1 Score: 0.5910788472693977 - Train F1 Score: 0.6113897541358376\n",
      "8/8 [==============================] - 2s 328ms/step - loss: 0.1048 - acc: 0.9748 - precision_1: 0.9799 - recall_1: 0.9561 - val_loss: 0.1000 - val_acc: 0.9757 - val_precision_1: 0.9821 - val_recall_1: 0.9587\n",
      "Epoch 10/20\n",
      "7/7 [==============================] - 0s 14ms/step\n",
      "29/29 [==============================] - 0s 13ms/step\n",
      "Val F1 Score: 0.6117228675005839 - Train F1 Score: 0.6434465486053543\n",
      "8/8 [==============================] - 3s 362ms/step - loss: 0.0985 - acc: 0.9760 - precision_1: 0.9821 - recall_1: 0.9588 - val_loss: 0.0953 - val_acc: 0.9765 - val_precision_1: 0.9831 - val_recall_1: 0.9595\n",
      "Epoch 11/20\n",
      "7/7 [==============================] - 0s 14ms/step\n",
      "29/29 [==============================] - 0s 13ms/step\n",
      "Val F1 Score: 0.6224892915569593 - Train F1 Score: 0.6480575321577456\n",
      "8/8 [==============================] - 3s 364ms/step - loss: 0.0939 - acc: 0.9768 - precision_1: 0.9830 - recall_1: 0.9593 - val_loss: 0.0913 - val_acc: 0.9773 - val_precision_1: 0.9835 - val_recall_1: 0.9604\n",
      "Epoch 12/20\n",
      "7/7 [==============================] - 0s 14ms/step\n",
      "29/29 [==============================] - 0s 14ms/step\n",
      "Val F1 Score: 0.6400409359035012 - Train F1 Score: 0.6641967200640526\n",
      "8/8 [==============================] - 2s 331ms/step - loss: 0.0900 - acc: 0.9776 - precision_1: 0.9835 - recall_1: 0.9601 - val_loss: 0.0881 - val_acc: 0.9783 - val_precision_1: 0.9841 - val_recall_1: 0.9609\n",
      "Epoch 13/20\n",
      "7/7 [==============================] - 0s 14ms/step\n",
      "29/29 [==============================] - 0s 13ms/step\n",
      "Val F1 Score: 0.6439479794570905 - Train F1 Score: 0.6760114215417865\n",
      "8/8 [==============================] - 2s 332ms/step - loss: 0.0867 - acc: 0.9782 - precision_1: 0.9838 - recall_1: 0.9607 - val_loss: 0.0852 - val_acc: 0.9786 - val_precision_1: 0.9845 - val_recall_1: 0.9615\n",
      "Epoch 14/20\n",
      "7/7 [==============================] - 0s 16ms/step\n",
      "29/29 [==============================] - 0s 13ms/step\n",
      "Val F1 Score: 0.6550249651310615 - Train F1 Score: 0.6925737306568968\n",
      "8/8 [==============================] - 3s 359ms/step - loss: 0.0837 - acc: 0.9788 - precision_1: 0.9842 - recall_1: 0.9614 - val_loss: 0.0826 - val_acc: 0.9793 - val_precision_1: 0.9851 - val_recall_1: 0.9623\n",
      "Epoch 15/20\n",
      "7/7 [==============================] - 0s 14ms/step\n",
      "29/29 [==============================] - 0s 14ms/step\n",
      "Val F1 Score: 0.6796896110575319 - Train F1 Score: 0.7057692127056534\n",
      "8/8 [==============================] - 3s 365ms/step - loss: 0.0810 - acc: 0.9796 - precision_1: 0.9845 - recall_1: 0.9620 - val_loss: 0.0803 - val_acc: 0.9803 - val_precision_1: 0.9856 - val_recall_1: 0.9630\n",
      "Epoch 16/20\n",
      "7/7 [==============================] - 0s 14ms/step\n",
      "29/29 [==============================] - 0s 13ms/step\n",
      "Val F1 Score: 0.6984076387441326 - Train F1 Score: 0.7229664114050314\n",
      "8/8 [==============================] - 2s 338ms/step - loss: 0.0785 - acc: 0.9799 - precision_1: 0.9851 - recall_1: 0.9628 - val_loss: 0.0781 - val_acc: 0.9811 - val_precision_1: 0.9859 - val_recall_1: 0.9642\n",
      "Epoch 17/20\n",
      "7/7 [==============================] - 0s 13ms/step\n",
      "29/29 [==============================] - 0s 13ms/step\n",
      "Val F1 Score: 0.7041444085448851 - Train F1 Score: 0.7425567169553144\n",
      "8/8 [==============================] - 2s 329ms/step - loss: 0.0762 - acc: 0.9808 - precision_1: 0.9859 - recall_1: 0.9633 - val_loss: 0.0762 - val_acc: 0.9814 - val_precision_1: 0.9861 - val_recall_1: 0.9644\n",
      "Epoch 18/20\n",
      "7/7 [==============================] - 0s 13ms/step\n",
      "29/29 [==============================] - 0s 13ms/step\n",
      "Val F1 Score: 0.7157075288402871 - Train F1 Score: 0.7375663318060456\n",
      "8/8 [==============================] - 2s 332ms/step - loss: 0.0741 - acc: 0.9811 - precision_1: 0.9860 - recall_1: 0.9639 - val_loss: 0.0745 - val_acc: 0.9818 - val_precision_1: 0.9859 - val_recall_1: 0.9646\n",
      "Epoch 19/20\n",
      "7/7 [==============================] - 0s 14ms/step\n",
      "29/29 [==============================] - 0s 14ms/step\n",
      "Val F1 Score: 0.7164170317218161 - Train F1 Score: 0.7444003837116036\n",
      "8/8 [==============================] - 3s 352ms/step - loss: 0.0722 - acc: 0.9813 - precision_1: 0.9856 - recall_1: 0.9641 - val_loss: 0.0730 - val_acc: 0.9819 - val_precision_1: 0.9859 - val_recall_1: 0.9653\n",
      "Epoch 20/20\n",
      "7/7 [==============================] - 0s 13ms/step\n",
      "29/29 [==============================] - 0s 13ms/step\n",
      "Val F1 Score: 0.7357591442903212 - Train F1 Score: 0.7688497569155631\n",
      "8/8 [==============================] - 2s 325ms/step - loss: 0.0702 - acc: 0.9820 - precision_1: 0.9863 - recall_1: 0.9648 - val_loss: 0.0712 - val_acc: 0.9823 - val_precision_1: 0.9870 - val_recall_1: 0.9659\n"
     ]
    }
   ],
   "source": [
    "gru_training = gru_model.fit(X_train, Y_train, batch_size=128, epochs=20, validation_data=(X_val, Y_val), callbacks=[gru_f1_callback])"
   ]
  },
  {
   "cell_type": "markdown",
   "id": "217c9a18",
   "metadata": {
    "papermill": {
     "duration": 0.058932,
     "end_time": "2024-03-10T21:04:51.615462",
     "exception": false,
     "start_time": "2024-03-10T21:04:51.556530",
     "status": "completed"
    },
    "tags": []
   },
   "source": [
    "Plotting Graph"
   ]
  },
  {
   "cell_type": "code",
   "execution_count": 35,
   "id": "52775037",
   "metadata": {
    "execution": {
     "iopub.execute_input": "2024-03-10T21:04:51.736061Z",
     "iopub.status.busy": "2024-03-10T21:04:51.734966Z",
     "iopub.status.idle": "2024-03-10T21:04:52.195651Z",
     "shell.execute_reply": "2024-03-10T21:04:52.194736Z"
    },
    "papermill": {
     "duration": 0.523201,
     "end_time": "2024-03-10T21:04:52.198046",
     "exception": false,
     "start_time": "2024-03-10T21:04:51.674845",
     "status": "completed"
    },
    "tags": []
   },
   "outputs": [
    {
     "data": {
      "image/png": "[encoded data removed]",
      "text/plain": [
       "<Figure size 1600x500 with 2 Axes>"
      ]
     },
     "metadata": {},
     "output_type": "display_data"
    }
   ],
   "source": [
    "draw_loss_graph(gru_training,model_name, gru_f1_callback.train_f1_scores, gru_f1_callback.val_f1_scores)\n",
    "save_model(gru_model,model_name,Embedding_name,Dataset)"
   ]
  },
  {
   "cell_type": "markdown",
   "id": "e7a5465f",
   "metadata": {
    "papermill": {
     "duration": 0.058016,
     "end_time": "2024-03-10T21:04:52.315259",
     "exception": false,
     "start_time": "2024-03-10T21:04:52.257243",
     "status": "completed"
    },
    "tags": []
   },
   "source": [
    "### Testing"
   ]
  },
  {
   "cell_type": "code",
   "execution_count": 36,
   "id": "a77b9f34",
   "metadata": {
    "execution": {
     "iopub.execute_input": "2024-03-10T21:04:52.433739Z",
     "iopub.status.busy": "2024-03-10T21:04:52.432333Z",
     "iopub.status.idle": "2024-03-10T21:04:52.753615Z",
     "shell.execute_reply": "2024-03-10T21:04:52.751712Z"
    },
    "papermill": {
     "duration": 0.383842,
     "end_time": "2024-03-10T21:04:52.756781",
     "exception": false,
     "start_time": "2024-03-10T21:04:52.372939",
     "status": "completed"
    },
    "tags": []
   },
   "outputs": [],
   "source": [
    "loaded_model = load_model(model_name,Embedding_name,Dataset)"
   ]
  },
  {
   "cell_type": "markdown",
   "id": "002cc385",
   "metadata": {
    "papermill": {
     "duration": 0.057123,
     "end_time": "2024-03-10T21:04:52.872452",
     "exception": false,
     "start_time": "2024-03-10T21:04:52.815329",
     "status": "completed"
    },
    "tags": []
   },
   "source": [
    "Testing Accuracy"
   ]
  },
  {
   "cell_type": "code",
   "execution_count": 37,
   "id": "0fd643e1",
   "metadata": {
    "execution": {
     "iopub.execute_input": "2024-03-10T21:04:52.989417Z",
     "iopub.status.busy": "2024-03-10T21:04:52.989041Z",
     "iopub.status.idle": "2024-03-10T21:04:53.944850Z",
     "shell.execute_reply": "2024-03-10T21:04:53.943421Z"
    },
    "papermill": {
     "duration": 1.016791,
     "end_time": "2024-03-10T21:04:53.946662",
     "exception": false,
     "start_time": "2024-03-10T21:04:52.929871",
     "status": "completed"
    },
    "tags": []
   },
   "outputs": [
    {
     "name": "stdout",
     "output_type": "stream",
     "text": [
      "11/11 [==============================] - 1s 12ms/step - loss: 0.0871 - acc: 0.9789 - precision_1: 0.9831 - recall_1: 0.9626\n",
      "0.9788930416107178\n"
     ]
    }
   ],
   "source": [
    "accuracy = loaded_model.evaluate(X_test, Y_test, verbose = 1)\n",
    "print(accuracy[1])"
   ]
  },
  {
   "cell_type": "markdown",
   "id": "c3933464",
   "metadata": {
    "papermill": {
     "duration": 0.060567,
     "end_time": "2024-03-10T21:04:54.068426",
     "exception": false,
     "start_time": "2024-03-10T21:04:54.007859",
     "status": "completed"
    },
    "tags": []
   },
   "source": [
    "Testing F1 Score"
   ]
  },
  {
   "cell_type": "code",
   "execution_count": 38,
   "id": "38dc3b7f",
   "metadata": {
    "execution": {
     "iopub.execute_input": "2024-03-10T21:04:54.198788Z",
     "iopub.status.busy": "2024-03-10T21:04:54.198320Z",
     "iopub.status.idle": "2024-03-10T21:04:55.022399Z",
     "shell.execute_reply": "2024-03-10T21:04:55.021467Z"
    },
    "papermill": {
     "duration": 0.88844,
     "end_time": "2024-03-10T21:04:55.024280",
     "exception": false,
     "start_time": "2024-03-10T21:04:54.135840",
     "status": "completed"
    },
    "tags": []
   },
   "outputs": [
    {
     "name": "stdout",
     "output_type": "stream",
     "text": [
      "11/11 [==============================] - 0s 13ms/step\n",
      "Test F1 Score: 0.7181876691682676\n"
     ]
    }
   ],
   "source": [
    "Y_pred = loaded_model.predict(X_test)\n",
    "real = get_real(Y_test)\n",
    "pred = get_pred(Y_pred)\n",
    "\n",
    "true_labels_flat = [label for sublist in real for label in sublist]\n",
    "predicted_labels_flat = [label for sublist in pred for label in sublist]\n",
    "\n",
    "# Compute F1 score\n",
    "f1 = f1_score(true_labels_flat, predicted_labels_flat, average='macro')\n",
    "\n",
    "print(\"Test F1 Score:\", f1)"
   ]
  },
  {
   "cell_type": "markdown",
   "id": "70a1b2ff",
   "metadata": {
    "papermill": {
     "duration": 0.058468,
     "end_time": "2024-03-10T21:04:55.144264",
     "exception": false,
     "start_time": "2024-03-10T21:04:55.085796",
     "status": "completed"
    },
    "tags": []
   },
   "source": [
    "## LSTM"
   ]
  },
  {
   "cell_type": "code",
   "execution_count": 39,
   "id": "ccd8d9f9",
   "metadata": {
    "execution": {
     "iopub.execute_input": "2024-03-10T21:04:55.269905Z",
     "iopub.status.busy": "2024-03-10T21:04:55.269417Z",
     "iopub.status.idle": "2024-03-10T21:04:55.274147Z",
     "shell.execute_reply": "2024-03-10T21:04:55.273223Z"
    },
    "papermill": {
     "duration": 0.070505,
     "end_time": "2024-03-10T21:04:55.276650",
     "exception": false,
     "start_time": "2024-03-10T21:04:55.206145",
     "status": "completed"
    },
    "tags": []
   },
   "outputs": [],
   "source": [
    "model_name=\"LSTM\""
   ]
  },
  {
   "cell_type": "markdown",
   "id": "3a629602",
   "metadata": {
    "papermill": {
     "duration": 0.060253,
     "end_time": "2024-03-10T21:04:55.397607",
     "exception": false,
     "start_time": "2024-03-10T21:04:55.337354",
     "status": "completed"
    },
    "tags": []
   },
   "source": [
    "### Training"
   ]
  },
  {
   "cell_type": "code",
   "execution_count": 40,
   "id": "21c8bc76",
   "metadata": {
    "execution": {
     "iopub.execute_input": "2024-03-10T21:04:55.521319Z",
     "iopub.status.busy": "2024-03-10T21:04:55.520912Z",
     "iopub.status.idle": "2024-03-10T21:04:55.786249Z",
     "shell.execute_reply": "2024-03-10T21:04:55.784419Z"
    },
    "papermill": {
     "duration": 0.330393,
     "end_time": "2024-03-10T21:04:55.789051",
     "exception": false,
     "start_time": "2024-03-10T21:04:55.458658",
     "status": "completed"
    },
    "tags": []
   },
   "outputs": [],
   "source": [
    "lstm_model = Sequential()\n",
    "lstm_model.add(Embedding(input_dim = vocab_size,output_dim = 300,input_length  = max_len,weights = [weights],trainable = False))\n",
    "lstm_model.add(LSTM(128, return_sequences=True))\n",
    "lstm_model.add(TimeDistributed(Dense(Y_train.shape[2], activation='softmax')))# Lstm"
   ]
  },
  {
   "cell_type": "markdown",
   "id": "8f9656ce",
   "metadata": {
    "papermill": {
     "duration": 0.059607,
     "end_time": "2024-03-10T21:04:55.907963",
     "exception": false,
     "start_time": "2024-03-10T21:04:55.848356",
     "status": "completed"
    },
    "tags": []
   },
   "source": [
    "Compiling LSTM"
   ]
  },
  {
   "cell_type": "code",
   "execution_count": 41,
   "id": "0eb2d1d4",
   "metadata": {
    "execution": {
     "iopub.execute_input": "2024-03-10T21:04:56.032670Z",
     "iopub.status.busy": "2024-03-10T21:04:56.032223Z",
     "iopub.status.idle": "2024-03-10T21:04:56.057292Z",
     "shell.execute_reply": "2024-03-10T21:04:56.056137Z"
    },
    "papermill": {
     "duration": 0.090039,
     "end_time": "2024-03-10T21:04:56.059900",
     "exception": false,
     "start_time": "2024-03-10T21:04:55.969861",
     "status": "completed"
    },
    "tags": []
   },
   "outputs": [],
   "source": [
    "lstm_model.compile(loss='categorical_crossentropy',optimizer='adam',metrics=['acc',Precision(),Recall()])"
   ]
  },
  {
   "cell_type": "code",
   "execution_count": 42,
   "id": "a9e00c26",
   "metadata": {
    "execution": {
     "iopub.execute_input": "2024-03-10T21:04:56.182482Z",
     "iopub.status.busy": "2024-03-10T21:04:56.182010Z",
     "iopub.status.idle": "2024-03-10T21:04:56.186567Z",
     "shell.execute_reply": "2024-03-10T21:04:56.185819Z"
    },
    "papermill": {
     "duration": 0.067342,
     "end_time": "2024-03-10T21:04:56.188344",
     "exception": false,
     "start_time": "2024-03-10T21:04:56.121002",
     "status": "completed"
    },
    "tags": []
   },
   "outputs": [],
   "source": [
    "LSTM_f1_callback=F1ScoreCallback(val_data=(X_val, Y_val),data=(X_train, Y_train))"
   ]
  },
  {
   "cell_type": "code",
   "execution_count": 43,
   "id": "e050fb2f",
   "metadata": {
    "execution": {
     "iopub.execute_input": "2024-03-10T21:04:56.309710Z",
     "iopub.status.busy": "2024-03-10T21:04:56.308936Z",
     "iopub.status.idle": "2024-03-10T21:04:56.329274Z",
     "shell.execute_reply": "2024-03-10T21:04:56.327969Z"
    },
    "papermill": {
     "duration": 0.083572,
     "end_time": "2024-03-10T21:04:56.331811",
     "exception": false,
     "start_time": "2024-03-10T21:04:56.248239",
     "status": "completed"
    },
    "tags": []
   },
   "outputs": [
    {
     "name": "stdout",
     "output_type": "stream",
     "text": [
      "Model: \"sequential_2\"\n",
      "_________________________________________________________________\n",
      " Layer (type)                Output Shape              Param #   \n",
      "=================================================================\n",
      " embedding_2 (Embedding)     (None, 78, 300)           721800    \n",
      "                                                                 \n",
      " lstm (LSTM)                 (None, 78, 128)           219648    \n",
      "                                                                 \n",
      " time_distributed_2 (TimeDi  (None, 78, 4)             516       \n",
      " stributed)                                                      \n",
      "                                                                 \n",
      "=================================================================\n",
      "Total params: 941964 (3.59 MB)\n",
      "Trainable params: 220164 (860.02 KB)\n",
      "Non-trainable params: 721800 (2.75 MB)\n",
      "_________________________________________________________________\n"
     ]
    }
   ],
   "source": [
    "lstm_model.summary()"
   ]
  },
  {
   "cell_type": "markdown",
   "id": "d7d8498e",
   "metadata": {
    "papermill": {
     "duration": 0.064564,
     "end_time": "2024-03-10T21:04:56.458991",
     "exception": false,
     "start_time": "2024-03-10T21:04:56.394427",
     "status": "completed"
    },
    "tags": []
   },
   "source": [
    "Fitting LSTM"
   ]
  },
  {
   "cell_type": "code",
   "execution_count": 44,
   "id": "d8037fbc",
   "metadata": {
    "execution": {
     "iopub.execute_input": "2024-03-10T21:04:56.581642Z",
     "iopub.status.busy": "2024-03-10T21:04:56.581158Z",
     "iopub.status.idle": "2024-03-10T21:06:20.945607Z",
     "shell.execute_reply": "2024-03-10T21:06:20.944270Z"
    },
    "papermill": {
     "duration": 84.429621,
     "end_time": "2024-03-10T21:06:20.948720",
     "exception": false,
     "start_time": "2024-03-10T21:04:56.519099",
     "status": "completed"
    },
    "tags": []
   },
   "outputs": [
    {
     "name": "stdout",
     "output_type": "stream",
     "text": [
      "Epoch 1/20\n",
      "7/7 [==============================] - 1s 38ms/step\n",
      "29/29 [==============================] - 1s 37ms/step\n",
      "Val F1 Score: 0.48786842323006147 - Train F1 Score: 0.48724011186190697\n",
      "8/8 [==============================] - 7s 660ms/step - loss: 1.1913 - acc: 0.9650 - precision_2: 0.8992 - recall_2: 0.1359 - val_loss: 1.0438 - val_acc: 0.9744 - val_precision_2: 0.8998 - val_recall_2: 0.2035\n",
      "Epoch 2/20\n",
      "7/7 [==============================] - 0s 37ms/step\n",
      "29/29 [==============================] - 1s 36ms/step\n",
      "Val F1 Score: 0.4335057053950647 - Train F1 Score: 0.4386794578800302\n",
      "8/8 [==============================] - 4s 531ms/step - loss: 0.8275 - acc: 0.9609 - precision_2: 0.9189 - recall_2: 0.3828 - val_loss: 0.5322 - val_acc: 0.9062 - val_precision_2: 0.8920 - val_recall_2: 0.7506\n",
      "Epoch 3/20\n",
      "7/7 [==============================] - 0s 39ms/step\n",
      "29/29 [==============================] - 1s 37ms/step\n",
      "Val F1 Score: 0.47687816706083264 - Train F1 Score: 0.4775686265856768\n",
      "8/8 [==============================] - 4s 563ms/step - loss: 0.3915 - acc: 0.9353 - precision_2: 0.9286 - recall_2: 0.8077 - val_loss: 0.2846 - val_acc: 0.9610 - val_precision_2: 0.9590 - val_recall_2: 0.8560\n",
      "Epoch 4/20\n",
      "7/7 [==============================] - 0s 37ms/step\n",
      "29/29 [==============================] - 1s 36ms/step\n",
      "Val F1 Score: 0.4787399980570015 - Train F1 Score: 0.4795421488732496\n",
      "8/8 [==============================] - 4s 530ms/step - loss: 0.2575 - acc: 0.9637 - precision_2: 0.9617 - recall_2: 0.8771 - val_loss: 0.2166 - val_acc: 0.9639 - val_precision_2: 0.9629 - val_recall_2: 0.8988\n",
      "Epoch 5/20\n",
      "7/7 [==============================] - 0s 37ms/step\n",
      "29/29 [==============================] - 1s 38ms/step\n",
      "Val F1 Score: 0.4787495201319929 - Train F1 Score: 0.4795334526721968\n",
      "8/8 [==============================] - 4s 559ms/step - loss: 0.1993 - acc: 0.9625 - precision_2: 0.9612 - recall_2: 0.9015 - val_loss: 0.1814 - val_acc: 0.9639 - val_precision_2: 0.9629 - val_recall_2: 0.9125\n",
      "Epoch 6/20\n",
      "7/7 [==============================] - 0s 38ms/step\n",
      "29/29 [==============================] - 1s 37ms/step\n",
      "Val F1 Score: 0.48417691972483373 - Train F1 Score: 0.4857191407657098\n",
      "8/8 [==============================] - 4s 548ms/step - loss: 0.1688 - acc: 0.9667 - precision_2: 0.9655 - recall_2: 0.9148 - val_loss: 0.1562 - val_acc: 0.9713 - val_precision_2: 0.9716 - val_recall_2: 0.9196\n",
      "Epoch 7/20\n",
      "7/7 [==============================] - 0s 38ms/step\n",
      "29/29 [==============================] - 1s 36ms/step\n",
      "Val F1 Score: 0.5365274229941652 - Train F1 Score: 0.5378408463922235\n",
      "8/8 [==============================] - 4s 560ms/step - loss: 0.1492 - acc: 0.9718 - precision_2: 0.9731 - recall_2: 0.9248 - val_loss: 0.1409 - val_acc: 0.9732 - val_precision_2: 0.9760 - val_recall_2: 0.9317\n",
      "Epoch 8/20\n",
      "7/7 [==============================] - 0s 38ms/step\n",
      "29/29 [==============================] - 1s 37ms/step\n",
      "Val F1 Score: 0.5693534522216154 - Train F1 Score: 0.562709549224512\n",
      "8/8 [==============================] - 4s 541ms/step - loss: 0.1355 - acc: 0.9732 - precision_2: 0.9761 - recall_2: 0.9322 - val_loss: 0.1294 - val_acc: 0.9751 - val_precision_2: 0.9776 - val_recall_2: 0.9340\n",
      "Epoch 9/20\n",
      "7/7 [==============================] - 0s 37ms/step\n",
      "29/29 [==============================] - 1s 38ms/step\n",
      "Val F1 Score: 0.5845833008039885 - Train F1 Score: 0.5830650890677426\n",
      "8/8 [==============================] - 4s 563ms/step - loss: 0.1251 - acc: 0.9750 - precision_2: 0.9783 - recall_2: 0.9339 - val_loss: 0.1204 - val_acc: 0.9763 - val_precision_2: 0.9791 - val_recall_2: 0.9355\n",
      "Epoch 10/20\n",
      "7/7 [==============================] - 0s 42ms/step\n",
      "29/29 [==============================] - 1s 37ms/step\n",
      "Val F1 Score: 0.6097889791735567 - Train F1 Score: 0.6205736294081996\n",
      "8/8 [==============================] - 4s 610ms/step - loss: 0.1168 - acc: 0.9758 - precision_2: 0.9798 - recall_2: 0.9342 - val_loss: 0.1137 - val_acc: 0.9778 - val_precision_2: 0.9816 - val_recall_2: 0.9370\n",
      "Epoch 11/20\n",
      "7/7 [==============================] - 0s 38ms/step\n",
      "29/29 [==============================] - 1s 36ms/step\n",
      "Val F1 Score: 0.6430687669165805 - Train F1 Score: 0.6426883541153303\n",
      "8/8 [==============================] - 4s 563ms/step - loss: 0.1103 - acc: 0.9770 - precision_2: 0.9811 - recall_2: 0.9352 - val_loss: 0.1069 - val_acc: 0.9788 - val_precision_2: 0.9824 - val_recall_2: 0.9501\n",
      "Epoch 12/20\n",
      "7/7 [==============================] - 0s 35ms/step\n",
      "29/29 [==============================] - 1s 36ms/step\n",
      "Val F1 Score: 0.6658625044550428 - Train F1 Score: 0.6744974424206099\n",
      "8/8 [==============================] - 4s 526ms/step - loss: 0.1041 - acc: 0.9785 - precision_2: 0.9828 - recall_2: 0.9491 - val_loss: 0.1036 - val_acc: 0.9804 - val_precision_2: 0.9837 - val_recall_2: 0.9517\n",
      "Epoch 13/20\n",
      "7/7 [==============================] - 0s 37ms/step\n",
      "29/29 [==============================] - 1s 38ms/step\n",
      "Val F1 Score: 0.6680197555134276 - Train F1 Score: 0.6895492558757502\n",
      "8/8 [==============================] - 4s 572ms/step - loss: 0.1013 - acc: 0.9781 - precision_2: 0.9823 - recall_2: 0.9487 - val_loss: 0.0986 - val_acc: 0.9799 - val_precision_2: 0.9834 - val_recall_2: 0.9516\n",
      "Epoch 14/20\n",
      "7/7 [==============================] - 0s 38ms/step\n",
      "29/29 [==============================] - 1s 37ms/step\n",
      "Val F1 Score: 0.6861308738783086 - Train F1 Score: 0.7147622310728456\n",
      "8/8 [==============================] - 4s 552ms/step - loss: 0.0958 - acc: 0.9799 - precision_2: 0.9838 - recall_2: 0.9509 - val_loss: 0.0955 - val_acc: 0.9804 - val_precision_2: 0.9837 - val_recall_2: 0.9521\n",
      "Epoch 15/20\n",
      "7/7 [==============================] - 0s 40ms/step\n",
      "29/29 [==============================] - 1s 38ms/step\n",
      "Val F1 Score: 0.7055018107662261 - Train F1 Score: 0.7305524328226888\n",
      "8/8 [==============================] - 4s 550ms/step - loss: 0.0921 - acc: 0.9804 - precision_2: 0.9839 - recall_2: 0.9513 - val_loss: 0.0919 - val_acc: 0.9813 - val_precision_2: 0.9846 - val_recall_2: 0.9529\n",
      "Epoch 16/20\n",
      "7/7 [==============================] - 0s 40ms/step\n",
      "29/29 [==============================] - 1s 36ms/step\n",
      "Val F1 Score: 0.7494604989837956 - Train F1 Score: 0.7678492468465968\n",
      "8/8 [==============================] - 5s 660ms/step - loss: 0.0884 - acc: 0.9814 - precision_2: 0.9851 - recall_2: 0.9523 - val_loss: 0.0884 - val_acc: 0.9826 - val_precision_2: 0.9856 - val_recall_2: 0.9544\n",
      "Epoch 17/20\n",
      "7/7 [==============================] - 0s 37ms/step\n",
      "29/29 [==============================] - 1s 36ms/step\n",
      "Val F1 Score: 0.7542919921242112 - Train F1 Score: 0.7724760674369295\n",
      "8/8 [==============================] - 4s 563ms/step - loss: 0.0850 - acc: 0.9826 - precision_2: 0.9860 - recall_2: 0.9536 - val_loss: 0.0856 - val_acc: 0.9827 - val_precision_2: 0.9854 - val_recall_2: 0.9543\n",
      "Epoch 18/20\n",
      "7/7 [==============================] - 0s 36ms/step\n",
      "29/29 [==============================] - 1s 36ms/step\n",
      "Val F1 Score: 0.7541721936651661 - Train F1 Score: 0.7797456776344827\n",
      "8/8 [==============================] - 4s 529ms/step - loss: 0.0821 - acc: 0.9825 - precision_2: 0.9856 - recall_2: 0.9537 - val_loss: 0.0827 - val_acc: 0.9829 - val_precision_2: 0.9855 - val_recall_2: 0.9552\n",
      "Epoch 19/20\n",
      "7/7 [==============================] - 0s 36ms/step\n",
      "29/29 [==============================] - 1s 36ms/step\n",
      "Val F1 Score: 0.7669093919194419 - Train F1 Score: 0.7868238328281556\n",
      "8/8 [==============================] - 4s 566ms/step - loss: 0.0841 - acc: 0.9817 - precision_2: 0.9844 - recall_2: 0.9534 - val_loss: 0.0848 - val_acc: 0.9823 - val_precision_2: 0.9844 - val_recall_2: 0.9544\n",
      "Epoch 20/20\n",
      "7/7 [==============================] - 0s 37ms/step\n",
      "29/29 [==============================] - 1s 36ms/step\n",
      "Val F1 Score: 0.7796750255578704 - Train F1 Score: 0.8019914145452112\n",
      "8/8 [==============================] - 4s 537ms/step - loss: 0.0779 - acc: 0.9838 - precision_2: 0.9866 - recall_2: 0.9551 - val_loss: 0.0796 - val_acc: 0.9835 - val_precision_2: 0.9862 - val_recall_2: 0.9557\n"
     ]
    }
   ],
   "source": [
    "lstm_training = lstm_model.fit(X_train, Y_train, batch_size=128, epochs=20, validation_data=(X_val, Y_val), callbacks=[LSTM_f1_callback])"
   ]
  },
  {
   "cell_type": "markdown",
   "id": "817af014",
   "metadata": {
    "papermill": {
     "duration": 0.095287,
     "end_time": "2024-03-10T21:06:21.140374",
     "exception": false,
     "start_time": "2024-03-10T21:06:21.045087",
     "status": "completed"
    },
    "tags": []
   },
   "source": [
    "Plotting Graph"
   ]
  },
  {
   "cell_type": "code",
   "execution_count": 45,
   "id": "7868b4dc",
   "metadata": {
    "execution": {
     "iopub.execute_input": "2024-03-10T21:06:21.334046Z",
     "iopub.status.busy": "2024-03-10T21:06:21.333640Z",
     "iopub.status.idle": "2024-03-10T21:06:22.238455Z",
     "shell.execute_reply": "2024-03-10T21:06:22.237157Z"
    },
    "papermill": {
     "duration": 1.004501,
     "end_time": "2024-03-10T21:06:22.241325",
     "exception": false,
     "start_time": "2024-03-10T21:06:21.236824",
     "status": "completed"
    },
    "tags": []
   },
   "outputs": [
    {
     "data": {
      "image/png": "[encoded data removed]",
      "text/plain": [
       "<Figure size 1600x500 with 2 Axes>"
      ]
     },
     "metadata": {},
     "output_type": "display_data"
    }
   ],
   "source": [
    "draw_loss_graph(lstm_training, \"LSTM Model\", LSTM_f1_callback.train_f1_scores, LSTM_f1_callback.val_f1_scores)\n",
    "save_model(lstm_model, model_name, Embedding_name, Dataset)\n",
    "loaded_model = load_model(model_name,Embedding_name,Dataset)"
   ]
  },
  {
   "cell_type": "markdown",
   "id": "b52d89f7",
   "metadata": {
    "papermill": {
     "duration": 0.096405,
     "end_time": "2024-03-10T21:06:22.512564",
     "exception": false,
     "start_time": "2024-03-10T21:06:22.416159",
     "status": "completed"
    },
    "tags": []
   },
   "source": [
    "### Testing"
   ]
  },
  {
   "cell_type": "code",
   "execution_count": 46,
   "id": "07a49263",
   "metadata": {
    "execution": {
     "iopub.execute_input": "2024-03-10T21:06:22.711706Z",
     "iopub.status.busy": "2024-03-10T21:06:22.711308Z",
     "iopub.status.idle": "2024-03-10T21:06:23.083773Z",
     "shell.execute_reply": "2024-03-10T21:06:23.082405Z"
    },
    "papermill": {
     "duration": 0.476902,
     "end_time": "2024-03-10T21:06:23.086815",
     "exception": false,
     "start_time": "2024-03-10T21:06:22.609913",
     "status": "completed"
    },
    "tags": []
   },
   "outputs": [],
   "source": [
    "loaded_model = load_model(model_name,Embedding_name,Dataset)"
   ]
  },
  {
   "cell_type": "markdown",
   "id": "9d72336f",
   "metadata": {
    "papermill": {
     "duration": 0.09768,
     "end_time": "2024-03-10T21:06:23.282293",
     "exception": false,
     "start_time": "2024-03-10T21:06:23.184613",
     "status": "completed"
    },
    "tags": []
   },
   "source": [
    "Testing accuracy"
   ]
  },
  {
   "cell_type": "code",
   "execution_count": 47,
   "id": "835f0566",
   "metadata": {
    "execution": {
     "iopub.execute_input": "2024-03-10T21:06:23.481060Z",
     "iopub.status.busy": "2024-03-10T21:06:23.480544Z",
     "iopub.status.idle": "2024-03-10T21:06:24.737206Z",
     "shell.execute_reply": "2024-03-10T21:06:24.736177Z"
    },
    "papermill": {
     "duration": 1.358334,
     "end_time": "2024-03-10T21:06:24.739117",
     "exception": false,
     "start_time": "2024-03-10T21:06:23.380783",
     "status": "completed"
    },
    "tags": []
   },
   "outputs": [
    {
     "name": "stdout",
     "output_type": "stream",
     "text": [
      "11/11 [==============================] - 1s 35ms/step - loss: 0.0981 - acc: 0.9798 - precision_2: 0.9826 - recall_2: 0.9521\n",
      "0.979792058467865\n"
     ]
    }
   ],
   "source": [
    "accuracy = loaded_model.evaluate(X_test, Y_test, verbose = 1)\n",
    "print(accuracy[1])"
   ]
  },
  {
   "cell_type": "markdown",
   "id": "933b26cb",
   "metadata": {
    "papermill": {
     "duration": 0.095173,
     "end_time": "2024-03-10T21:06:24.930324",
     "exception": false,
     "start_time": "2024-03-10T21:06:24.835151",
     "status": "completed"
    },
    "tags": []
   },
   "source": [
    "Testing F1 Score"
   ]
  },
  {
   "cell_type": "code",
   "execution_count": 48,
   "id": "ccfa5b97",
   "metadata": {
    "execution": {
     "iopub.execute_input": "2024-03-10T21:06:25.125495Z",
     "iopub.status.busy": "2024-03-10T21:06:25.123835Z",
     "iopub.status.idle": "2024-03-10T21:06:26.208310Z",
     "shell.execute_reply": "2024-03-10T21:06:26.206719Z"
    },
    "papermill": {
     "duration": 1.183974,
     "end_time": "2024-03-10T21:06:26.210840",
     "exception": false,
     "start_time": "2024-03-10T21:06:25.026866",
     "status": "completed"
    },
    "tags": []
   },
   "outputs": [
    {
     "name": "stdout",
     "output_type": "stream",
     "text": [
      "11/11 [==============================] - 1s 33ms/step\n",
      "Test F1 Score: 0.7386006563086908\n"
     ]
    }
   ],
   "source": [
    "Y_pred = loaded_model.predict(X_test)\n",
    "real = get_real(Y_test)\n",
    "pred = get_pred(Y_pred)\n",
    "\n",
    "true_labels_flat = [label for sublist in real for label in sublist]\n",
    "predicted_labels_flat = [label for sublist in pred for label in sublist]\n",
    "\n",
    "# Compute F1 score\n",
    "f1 = f1_score(true_labels_flat, predicted_labels_flat, average='macro')\n",
    "\n",
    "print(\"Test F1 Score:\", f1)"
   ]
  },
  {
   "cell_type": "markdown",
   "id": "561080e4",
   "metadata": {
    "papermill": {
     "duration": 0.101873,
     "end_time": "2024-03-10T21:06:26.412389",
     "exception": false,
     "start_time": "2024-03-10T21:06:26.310516",
     "status": "completed"
    },
    "tags": []
   },
   "source": [
    "# BiLSTM"
   ]
  },
  {
   "cell_type": "code",
   "execution_count": 49,
   "id": "3c0dbf70",
   "metadata": {
    "execution": {
     "iopub.execute_input": "2024-03-10T21:06:26.616991Z",
     "iopub.status.busy": "2024-03-10T21:06:26.616527Z",
     "iopub.status.idle": "2024-03-10T21:06:26.620960Z",
     "shell.execute_reply": "2024-03-10T21:06:26.620130Z"
    },
    "papermill": {
     "duration": 0.108896,
     "end_time": "2024-03-10T21:06:26.623349",
     "exception": false,
     "start_time": "2024-03-10T21:06:26.514453",
     "status": "completed"
    },
    "tags": []
   },
   "outputs": [],
   "source": [
    "model_name=\"BiLSTM\""
   ]
  }
 ],
 "metadata": {
  "kaggle": {
   "accelerator": "none",
   "dataSources": [
    {
     "datasetId": 4563561,
     "sourceId": 7809954,
     "sourceType": "datasetVersion"
    }
   ],
   "dockerImageVersionId": 30664,
   "isGpuEnabled": false,
   "isInternetEnabled": true,
   "language": "python",
   "sourceType": "notebook"
  },
  "kernelspec": {
   "display_name": "Python 3",
   "language": "python",
   "name": "python3"
  },
  "language_info": {
   "codemirror_mode": {
    "name": "ipython",
    "version": 3
   },
   "file_extension": ".py",
   "mimetype": "text/x-python",
   "name": "python",
   "nbconvert_exporter": "python",
   "pygments_lexer": "ipython3",
   "version": "3.10.13"
  },
  "papermill": {
   "default_parameters": {},
   "duration": 293.153085,
   "end_time": "2024-03-10T21:06:30.516164",
   "environment_variables": {},
   "exception": null,
   "input_path": "__notebook__.ipynb",
   "output_path": "__notebook__.ipynb",
   "parameters": {},
   "start_time": "2024-03-10T21:01:37.363079",
   "version": "2.5.0"
  }
 },
 "nbformat": 4,
 "nbformat_minor": 5
}
