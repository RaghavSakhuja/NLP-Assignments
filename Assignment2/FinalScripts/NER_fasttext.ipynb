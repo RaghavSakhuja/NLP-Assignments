{
 "cells": [
  {
   "cell_type": "code",
   "execution_count": 1,
   "id": "3f16906a",
   "metadata": {
    "execution": {
     "iopub.execute_input": "2024-03-11T16:53:39.883519Z",
     "iopub.status.busy": "2024-03-11T16:53:39.882565Z",
     "iopub.status.idle": "2024-03-11T16:53:59.321893Z",
     "shell.execute_reply": "2024-03-11T16:53:59.320966Z"
    },
    "papermill": {
     "duration": 19.467138,
     "end_time": "2024-03-11T16:53:59.324733",
     "exception": false,
     "start_time": "2024-03-11T16:53:39.857595",
     "status": "completed"
    },
    "tags": []
   },
   "outputs": [
    {
     "name": "stdout",
     "output_type": "stream",
     "text": [
      "Collecting keras==2.15.0\r\n",
      "  Downloading keras-2.15.0-py3-none-any.whl.metadata (2.4 kB)\r\n",
      "Downloading keras-2.15.0-py3-none-any.whl (1.7 MB)\r\n",
      "\u001b[2K   \u001b[90m━━━━━━━━━━━━━━━━━━━━━━━━━━━━━━━━━━━━━━━━\u001b[0m \u001b[32m1.7/1.7 MB\u001b[0m \u001b[31m29.4 MB/s\u001b[0m eta \u001b[36m0:00:00\u001b[0m\r\n",
      "\u001b[?25hInstalling collected packages: keras\r\n",
      "  Attempting uninstall: keras\r\n",
      "    Found existing installation: keras 3.0.5\r\n",
      "    Uninstalling keras-3.0.5:\r\n",
      "      Successfully uninstalled keras-3.0.5\r\n",
      "\u001b[31mERROR: pip's dependency resolver does not currently take into account all the packages that are installed. This behaviour is the source of the following dependency conflicts.\r\n",
      "tensorflow-decision-forests 1.8.1 requires wurlitzer, which is not installed.\u001b[0m\u001b[31m\r\n",
      "\u001b[0mSuccessfully installed keras-2.15.0\r\n"
     ]
    }
   ],
   "source": [
    "!pip install keras==2.15.0"
   ]
  },
  {
   "cell_type": "markdown",
   "id": "fe42703a",
   "metadata": {
    "papermill": {
     "duration": 0.025,
     "end_time": "2024-03-11T16:53:59.374195",
     "exception": false,
     "start_time": "2024-03-11T16:53:59.349195",
     "status": "completed"
    },
    "tags": []
   },
   "source": [
    "# Run"
   ]
  },
  {
   "cell_type": "code",
   "execution_count": 2,
   "id": "e087aa96",
   "metadata": {
    "execution": {
     "iopub.execute_input": "2024-03-11T16:53:59.424678Z",
     "iopub.status.busy": "2024-03-11T16:53:59.424278Z",
     "iopub.status.idle": "2024-03-11T16:54:40.688194Z",
     "shell.execute_reply": "2024-03-11T16:54:40.687155Z"
    },
    "papermill": {
     "duration": 41.29268,
     "end_time": "2024-03-11T16:54:40.691039",
     "exception": false,
     "start_time": "2024-03-11T16:53:59.398359",
     "status": "completed"
    },
    "tags": []
   },
   "outputs": [
    {
     "name": "stderr",
     "output_type": "stream",
     "text": [
      "2024-03-11 16:54:01.538192: E external/local_xla/xla/stream_executor/cuda/cuda_dnn.cc:9261] Unable to register cuDNN factory: Attempting to register factory for plugin cuDNN when one has already been registered\n",
      "2024-03-11 16:54:01.538322: E external/local_xla/xla/stream_executor/cuda/cuda_fft.cc:607] Unable to register cuFFT factory: Attempting to register factory for plugin cuFFT when one has already been registered\n",
      "2024-03-11 16:54:01.679831: E external/local_xla/xla/stream_executor/cuda/cuda_blas.cc:1515] Unable to register cuBLAS factory: Attempting to register factory for plugin cuBLAS when one has already been registered\n"
     ]
    }
   ],
   "source": [
    "import pickle\n",
    "import numpy as np\n",
    "import tensorflow as tf\n",
    "import json\n",
    "import matplotlib.pyplot as plt\n",
    "\n",
    "import fasttext\n",
    "import fasttext.util\n",
    "from keras.models import Model\n",
    "from keras.layers import Dropout,Input\n",
    "# from tensorflow_addons.layers import CRF\n",
    "from keras.layers import Dense\n",
    "from keras.layers import Embedding\n",
    "from keras.models import Sequential\n",
    "from keras.callbacks import Callback\n",
    "from keras.preprocessing.text import *\n",
    "from keras.utils import to_categorical\n",
    "from gensim.models import KeyedVectors\n",
    "from keras.layers import GRU, SimpleRNN, LSTM, Bidirectional\n",
    "from keras.layers import TimeDistributed\n",
    "from keras.metrics import F1Score, Precision, Recall\n",
    "from keras.preprocessing.sequence import pad_sequences\n",
    "from sklearn.metrics import f1_score\n",
    "# from tensorflow.keras.optimizers import AdamW\n",
    "# from tensorflow_addons.losses import SigmoidFocalCrossEntropy\n",
    "from sklearn.model_selection import GridSearchCV\n",
    "# from kerastuner.tuners import RandomSearch\n",
    "# from kerastuner.engine.hyperparameters import HyperParameters\n",
    "# from tensorflow.keras.optimizers import AdamW, Adam, RMSprop, SGD"
   ]
  },
  {
   "cell_type": "code",
   "execution_count": 3,
   "id": "3a31f5b8",
   "metadata": {
    "execution": {
     "iopub.execute_input": "2024-03-11T16:54:40.741638Z",
     "iopub.status.busy": "2024-03-11T16:54:40.740875Z",
     "iopub.status.idle": "2024-03-11T16:54:40.763625Z",
     "shell.execute_reply": "2024-03-11T16:54:40.762581Z"
    },
    "papermill": {
     "duration": 0.051009,
     "end_time": "2024-03-11T16:54:40.766446",
     "exception": false,
     "start_time": "2024-03-11T16:54:40.715437",
     "status": "completed"
    },
    "tags": []
   },
   "outputs": [
    {
     "name": "stdout",
     "output_type": "stream",
     "text": [
      "/kaggle/input/picklemodel/BiLSTM_fasttext_ATE.pkl\n",
      "/kaggle/input/picklemodel/BiLSTM_fasttext (1).pkl\n",
      "/kaggle/input/picklemodel/BiLSTM_word2vec.pkl\n",
      "/kaggle/input/picklemodel/RNN_glove.pkl\n",
      "/kaggle/input/nernlp3/BiLSTM_word2vec.pkl\n",
      "/kaggle/input/nernlp3/BiLSTM_fasttext.pkl\n",
      "/kaggle/input/nernlp3/Assignment2/WordEmbeddings/glove.840B.300d.pkl\n",
      "/kaggle/input/nernlp3/Assignment2/WordEmbeddings/Word2vec.bin\n",
      "/kaggle/input/nernlp3/Assignment2/WordEmbeddings/cc.en.300.bin\n",
      "/kaggle/input/nernlp3/Assignment2/Data/check.py\n",
      "/kaggle/input/nernlp3/Assignment2/Data/NER_TRAIN_JUDGEMENT.json\n",
      "/kaggle/input/nernlp3/Assignment2/Data/Laptop_Review_Val.json\n",
      "/kaggle/input/nernlp3/Assignment2/Data/bio.ipynb\n",
      "/kaggle/input/nernlp3/Assignment2/Data/Laptop_Review_Train.json\n",
      "/kaggle/input/nernlp3/Assignment2/Data/bio1.py\n",
      "/kaggle/input/nernlp3/Assignment2/Data/NER_TEST_JUDGEMENT.json\n",
      "/kaggle/input/nernlp3/Assignment2/Data/Laptop_Review_Test.json\n",
      "/kaggle/input/nernlp3/Assignment2/Data/processed/NER_test.json\n",
      "/kaggle/input/nernlp3/Assignment2/Data/processed/ATE_test.json\n",
      "/kaggle/input/nernlp3/Assignment2/Data/processed/NER_train.json\n",
      "/kaggle/input/nernlp3/Assignment2/Data/processed/ATE_train.json\n",
      "/kaggle/input/nernlp3/Assignment2/Data/processed/NER_val.json\n",
      "/kaggle/input/nernlp3/Assignment2/Data/processed/ATE_val.json\n"
     ]
    }
   ],
   "source": [
    "# This Python 3 environment comes with many helpful analytics libraries installed\n",
    "# It is defined by the kaggle/python Docker image: https://github.com/kaggle/docker-python\n",
    "# For example, here's several helpful packages to load\n",
    "\n",
    "# Input data files are available in the read-only \"../input/\" directory\n",
    "# For example, running this (by clicking run or pressing Shift+Enter) will list all files under the input directory\n",
    "\n",
    "import os\n",
    "for dirname, _, filenames in os.walk('/kaggle/input'):\n",
    "    for filename in filenames:\n",
    "        print(os.path.join(dirname, filename))\n",
    "\n",
    "Embedding_name=\"fasttext\"\n",
    "Dataset=\"NER\"     \n",
    "PATH='/kaggle/input/nernlp3/Assignment2/'\n",
    "OUTPATH='/kaggle/working/'\n",
    "\n",
    "# You can write up to 20GB to the current directory (/kaggle/working/) that gets preserved as output when you create a version using \"Save & Run All\" \n",
    "# You can also write temporary files to /kaggle/temp/, but they won't be saved outside of the current session"
   ]
  },
  {
   "cell_type": "code",
   "execution_count": 4,
   "id": "ef47e2e4",
   "metadata": {
    "execution": {
     "iopub.execute_input": "2024-03-11T16:54:40.817763Z",
     "iopub.status.busy": "2024-03-11T16:54:40.817344Z",
     "iopub.status.idle": "2024-03-11T16:54:45.237806Z",
     "shell.execute_reply": "2024-03-11T16:54:45.236267Z"
    },
    "papermill": {
     "duration": 4.449286,
     "end_time": "2024-03-11T16:54:45.240732",
     "exception": false,
     "start_time": "2024-03-11T16:54:40.791446",
     "status": "completed"
    },
    "tags": []
   },
   "outputs": [
    {
     "name": "stderr",
     "output_type": "stream",
     "text": [
      "/opt/conda/lib/python3.10/pty.py:89: RuntimeWarning: os.fork() was called. os.fork() is incompatible with multithreaded code, and JAX is multithreaded, so this will likely lead to a deadlock.\n",
      "  pid, fd = os.forkpty()\n"
     ]
    }
   ],
   "source": [
    "! mkdir Saved_Models\n",
    "! mkdir Saved_Models/ATE\n",
    "! mkdir Saved_Models/NER\n",
    "! mkdir Graphs"
   ]
  },
  {
   "cell_type": "code",
   "execution_count": 5,
   "id": "15482b95",
   "metadata": {
    "execution": {
     "iopub.execute_input": "2024-03-11T16:54:45.292583Z",
     "iopub.status.busy": "2024-03-11T16:54:45.292155Z",
     "iopub.status.idle": "2024-03-11T16:54:45.344542Z",
     "shell.execute_reply": "2024-03-11T16:54:45.343384Z"
    },
    "papermill": {
     "duration": 0.08193,
     "end_time": "2024-03-11T16:54:45.347201",
     "exception": false,
     "start_time": "2024-03-11T16:54:45.265271",
     "status": "completed"
    },
    "tags": []
   },
   "outputs": [],
   "source": [
    "def checking(a):\n",
    "    print(\"Hello World\",a)\n",
    "\n",
    "def new_checking(a):\n",
    "    print(\"Hello World\",a)\n",
    "\n",
    "def create_train_test_val(file):\n",
    "    lst_out_text=[]\n",
    "    lst_out_labels=[]\n",
    "    for i in file.values():\n",
    "        sentence = i['text']\n",
    "        sentence = sentence.lower()\n",
    "        labels = i['labels']\n",
    "        lst_out_text.append(sentence)\n",
    "        lst_out_labels.append(labels)\n",
    "    return lst_out_text,lst_out_labels    \n",
    "\n",
    "def TokenCreator(sentences,val,tokenizer=None):\n",
    "    \n",
    "    temp_wordlist = None\n",
    "    tokenizer2=None\n",
    "    if(tokenizer == None):\n",
    "        if val==1:\n",
    "            tokenizer2 = Tokenizer(oov_token=\"#UK\",filters='')\n",
    "        else:\n",
    "            tokenizer2=Tokenizer()\n",
    "        tokenizer2.fit_on_texts(sentences)\n",
    "        \n",
    "        temp_wordlist = tokenizer2.texts_to_sequences(sentences)\n",
    "        return (temp_wordlist,tokenizer2)\n",
    "    \n",
    "    else:\n",
    "        temp_wordlist = tokenizer.texts_to_sequences(sentences)\n",
    "        return temp_wordlist\n",
    "    \n",
    "def find_vocab(dataset):\n",
    "    lst=[]\n",
    "    lst.append(\"#UK\")\n",
    "    for i in dataset:\n",
    "        for j in i:\n",
    "            lst.append(j)\n",
    "    st = set(lst)\n",
    "    return st\n",
    "\n",
    "'''\n",
    "--------------------------------------GRAPHS--------------------------------------\n",
    "'''\n",
    "\n",
    "def draw_loss_graph(model,model_name,f1_scores_train,f1_scores_val):\n",
    "    train_loss = model.history['loss']\n",
    "    val_loss = model.history['val_loss']\n",
    "    x = [i+1 for i in range(len(train_loss))]\n",
    "    train_y = train_loss\n",
    "    val_y = val_loss\n",
    "    \n",
    "    fig, axes = plt.subplots(1,2,figsize = (16,5))\n",
    "    # plt.subplots(axes = (2,1))\n",
    "    axes[0].plot(x,train_y, color = 'blue')  \n",
    "    \n",
    "    axes[0].plot(x,val_y, color = 'red') \n",
    "    axes[0].set_title('Loss over Epochs')\n",
    "    axes[0].set_xlabel('Epoch')\n",
    "    axes[0].set_ylabel('Loss')\n",
    "\n",
    "    axes[1].plot(x,f1_scores_train, color = 'blue')\n",
    "    axes[1].plot(x,f1_scores_val, color = 'red')\n",
    "    axes[1].set_title('F1 Score vs Epoch')\n",
    "    axes[1].set_xlabel('Epochs')\n",
    "    axes[1].set_ylabel('F1 Score')\n",
    "\n",
    "    axes[0].legend(['Train','Val'])\n",
    "    axes[1].legend(['Train','Val'])\n",
    "    \n",
    "    plt.suptitle(model_name)\n",
    "\n",
    "    \n",
    "    plt.show()\n",
    "    \n",
    "'''\n",
    "--------------------------------------MODELS--------------------------------------\n",
    "'''\n",
    "\n",
    "def save_model(model,model_name, embedding, dataset):\n",
    "    model.save_weights(f'{OUTPATH}Saved_Models/{dataset}/{model_name}_{embedding}.h5')\n",
    "    with open(f'{OUTPATH}Saved_Models/{dataset}/{model_name}_{embedding}.pkl', 'wb') as file:\n",
    "        pickle.dump(model.get_weights(), file)\n",
    "\n",
    "def load_model(model_name, embedding, dataset):\n",
    "    with open(f'{OUTPATH}Saved_Models/{dataset}/{model_name}_{embedding}.pkl', 'rb') as file:\n",
    "        loaded_model = pickle.load(file)\n",
    "    \n",
    "    return loaded_model\n",
    "\n",
    "'''\n",
    "--------------------------------------CALLBACKS--------------------------------------\n",
    "'''\n",
    "\n",
    "class F1ScoreCallback(Callback):\n",
    "\n",
    "    def __init__(self, val_data, data):\n",
    "        super(F1ScoreCallback, self).__init__()\n",
    "        self.val_data = val_data\n",
    "        self.data=data\n",
    "        self.val_f1_scores = [] \n",
    "        self.train_f1_scores = []\n",
    "\n",
    "    \n",
    "\n",
    "    def on_epoch_end(self, epoch, logs=None):\n",
    "        x_val, y_val = self.val_data\n",
    "        x_data, y_data = self.data\n",
    "        y_pred_val = self.model.predict(x_val)\n",
    "        y_pred_train = self.model.predict(x_data)\n",
    "\n",
    "        def scikitf1(pred,real):\n",
    "\n",
    "            true_labels_flat = [label for sublist in real for label in sublist]\n",
    "            predicted_labels_flat = [label for sublist in pred for label in sublist]\n",
    "            # Compute F1 score\n",
    "            f1 = f1_score(true_labels_flat, predicted_labels_flat, average='macro')\n",
    "            return f1\n",
    "        def get_pred(Y_padded_output):\n",
    "                # print(Y_padded_output.shape)\n",
    "                final_output=[]\n",
    "                for i in range(Y_padded_output.shape[0]):\n",
    "                    output=[]\n",
    "                    for j in range(Y_padded_output.shape[1]):\n",
    "                        max_value=-1\n",
    "                        maxIndex=-1\n",
    "                        for k in range(Y_padded_output.shape[2]):\n",
    "                            if Y_padded_output[i][j][k]>max_value:\n",
    "                                maxIndex=k\n",
    "                                max_value=max(max_value,Y_padded_output[i][j][k])\n",
    "                        output.append(maxIndex)\n",
    "                    final_output.append(output)\n",
    "                return final_output\n",
    "\n",
    "        def get_real(Y_padded_test):\n",
    "            # print(Y_padded_test.shape)\n",
    "            final_Y=[]\n",
    "            for i in range(Y_padded_test.shape[0]):\n",
    "                output=[]\n",
    "                for j in range(Y_padded_test.shape[1]):\n",
    "                    max_value=-1\n",
    "                    maxIndex=-1\n",
    "                    for k in range(Y_padded_test.shape[2]):\n",
    "                        if Y_padded_test[i][j][k]>max_value:\n",
    "                            maxIndex=k\n",
    "                            max_value=max(max_value,Y_padded_test[i][j][k])\n",
    "                    output.append(maxIndex)\n",
    "                final_Y.append(output)\n",
    "            return final_Y\n",
    "        \n",
    "        # print(\"here\")\n",
    "        pred_train=get_pred(y_pred_train)\n",
    "        # print(pred_train)\n",
    "        real_train=get_real(y_data)\n",
    "        # print(real_train)\n",
    "\n",
    "        pred_val=get_pred(y_pred_val)\n",
    "        real_val=get_real(y_val)\n",
    "\n",
    "        f1_train = scikitf1(pred_train,real_train)\n",
    "        f1_val = scikitf1(pred_val,real_val)\n",
    "\n",
    "        self.val_f1_scores.append(f1_val)\n",
    "        self.train_f1_scores.append(f1_train)\n",
    "        print(f'Val F1 Score: {f1_val} - Train F1 Score: {f1_train}')\n",
    "\n",
    "\n",
    "\n",
    "#---------Prediction Functions----------------------------------------------\n",
    "def get_pred(Y_padded_output):\n",
    "    final_output=[]\n",
    "    for i in range(Y_padded_output.shape[0]):\n",
    "        output=[]\n",
    "        for j in range(Y_padded_output.shape[1]):\n",
    "            max_value=-1\n",
    "            maxIndex=-1\n",
    "            for k in range(Y_padded_output.shape[2]):\n",
    "                if Y_padded_output[i][j][k]>max_value:\n",
    "                    maxIndex=k\n",
    "                    max_value=max(max_value,Y_padded_output[i][j][k])\n",
    "            output.append(maxIndex)\n",
    "        final_output.append(output)\n",
    "    return final_output\n",
    "\n",
    "def get_real(Y_padded_test):\n",
    "    final_Y=[]\n",
    "    for i in range(Y_padded_test.shape[0]):\n",
    "        output=[]\n",
    "        for j in range(Y_padded_test.shape[1]):\n",
    "            max_value=-1\n",
    "            maxIndex=-1\n",
    "            for k in range(Y_padded_test.shape[2]):\n",
    "                if Y_padded_test[i][j][k]>max_value:\n",
    "                    maxIndex=k\n",
    "                    max_value=max(max_value,Y_padded_test[i][j][k])\n",
    "            output.append(maxIndex)\n",
    "        final_Y.append(output)\n",
    "    return final_Y\n",
    "\n",
    "def my_f1(y_true, y_pred):\n",
    "    \n",
    "    # predictions = get_pred(y_pred)\n",
    "    # real = get_real(y_true)\n",
    "\n",
    "    predictions = y_pred\n",
    "    real = y_true\n",
    "\n",
    "    size=len(predictions)\n",
    "\n",
    "    unique_labels= set()\n",
    "\n",
    "    for labels in real:\n",
    "        unique_labels.update(labels)\n",
    "\n",
    "    for labels in predictions:\n",
    "        unique_labels.update(labels)\n",
    "\n",
    "    labels_f1=[]\n",
    "\n",
    "    for labels in unique_labels:\n",
    "        tp=0\n",
    "        fp=0\n",
    "        fn=0\n",
    "\n",
    "        for i in range(size):\n",
    "            l=[]\n",
    "                    \n",
    "            tp+=sum((p==labels and r==labels) for p,r in zip(predictions[i],real[i]))\n",
    "            fp+=sum((p==labels and r!=labels) for p,r in zip(predictions[i],real[i]))\n",
    "            fn+=sum((p!=labels and r==labels) for p,r in zip(predictions[i],real[i]))\n",
    "\n",
    "        \n",
    "        precision = tp/(tp+fp) if tp+fp>0 else 0\n",
    "        recall = tp/(tp+fn) if tp+fn>0 else 0\n",
    "\n",
    "        f1=2*((precision*recall)/(precision+recall)) if precision+recall>0 else 0\n",
    "\n",
    "        labels_f1.append(f1)\n",
    "        print(f1,unique_labels)\n",
    "    macro_f1 = sum(labels_f1)/len(unique_labels)\n",
    "    return macro_f1\n",
    "\n",
    "def scikitf1(pred,real):\n",
    "\n",
    "    true_labels_flat = [label for sublist in real for label in sublist]\n",
    "    predicted_labels_flat = [label for sublist in pred for label in sublist]\n",
    "    # Compute F1 score\n",
    "    f1 = f1_score(true_labels_flat, predicted_labels_flat, average='macro')\n",
    "    return f1"
   ]
  },
  {
   "cell_type": "code",
   "execution_count": null,
   "id": "f937cc43",
   "metadata": {
    "papermill": {
     "duration": 0.02408,
     "end_time": "2024-03-11T16:54:45.395617",
     "exception": false,
     "start_time": "2024-03-11T16:54:45.371537",
     "status": "completed"
    },
    "tags": []
   },
   "outputs": [],
   "source": []
  },
  {
   "cell_type": "code",
   "execution_count": null,
   "id": "a4c13b40",
   "metadata": {
    "papermill": {
     "duration": 0.023973,
     "end_time": "2024-03-11T16:54:45.443797",
     "exception": false,
     "start_time": "2024-03-11T16:54:45.419824",
     "status": "completed"
    },
    "tags": []
   },
   "outputs": [],
   "source": []
  },
  {
   "cell_type": "code",
   "execution_count": 6,
   "id": "6f029dd5",
   "metadata": {
    "execution": {
     "iopub.execute_input": "2024-03-11T16:54:45.495674Z",
     "iopub.status.busy": "2024-03-11T16:54:45.495250Z",
     "iopub.status.idle": "2024-03-11T16:54:45.500926Z",
     "shell.execute_reply": "2024-03-11T16:54:45.499635Z"
    },
    "papermill": {
     "duration": 0.034887,
     "end_time": "2024-03-11T16:54:45.503272",
     "exception": false,
     "start_time": "2024-03-11T16:54:45.468385",
     "status": "completed"
    },
    "tags": []
   },
   "outputs": [],
   "source": [
    "seed_value = 40\n",
    "np.random.seed(seed_value)\n",
    "tf.random.set_seed(seed_value)"
   ]
  },
  {
   "cell_type": "code",
   "execution_count": 7,
   "id": "ac5e46c4",
   "metadata": {
    "execution": {
     "iopub.execute_input": "2024-03-11T16:54:45.555136Z",
     "iopub.status.busy": "2024-03-11T16:54:45.554389Z",
     "iopub.status.idle": "2024-03-11T16:55:45.567444Z",
     "shell.execute_reply": "2024-03-11T16:55:45.566355Z"
    },
    "papermill": {
     "duration": 60.06447,
     "end_time": "2024-03-11T16:55:45.592266",
     "exception": false,
     "start_time": "2024-03-11T16:54:45.527796",
     "status": "completed"
    },
    "tags": []
   },
   "outputs": [
    {
     "name": "stderr",
     "output_type": "stream",
     "text": [
      "Warning : `load_model` does not return WordVectorModel or SupervisedModel any more, but a `FastText` object which is very similar.\n"
     ]
    }
   ],
   "source": [
    "if Embedding_name==\"word2vec\":\n",
    "    emb = KeyedVectors.load_word2vec_format(f'{PATH}WordEmbeddings/Word2vec.bin',binary=True)\n",
    "\n",
    "if Embedding_name==\"glove\":\n",
    "    with open(f'{PATH}WordEmbeddings/glove.840B.300d.pkl', 'rb') as fp:\n",
    "        emb = pickle.load(fp)\n",
    "if Embedding_name==\"fasttext\":\n",
    "    emb = fasttext.load_model(f'{PATH}WordEmbeddings/cc.en.300.bin')"
   ]
  },
  {
   "cell_type": "markdown",
   "id": "38ac3fab",
   "metadata": {
    "papermill": {
     "duration": 0.024032,
     "end_time": "2024-03-11T16:55:45.640459",
     "exception": false,
     "start_time": "2024-03-11T16:55:45.616427",
     "status": "completed"
    },
    "tags": []
   },
   "source": [
    "# Data Extraction and Preprocessing"
   ]
  },
  {
   "cell_type": "markdown",
   "id": "834b66a3",
   "metadata": {
    "papermill": {
     "duration": 0.023927,
     "end_time": "2024-03-11T16:55:45.688647",
     "exception": false,
     "start_time": "2024-03-11T16:55:45.664720",
     "status": "completed"
    },
    "tags": []
   },
   "source": [
    "Reading ATE json files"
   ]
  },
  {
   "cell_type": "code",
   "execution_count": 8,
   "id": "165bb4cc",
   "metadata": {
    "execution": {
     "iopub.execute_input": "2024-03-11T16:55:45.739726Z",
     "iopub.status.busy": "2024-03-11T16:55:45.738933Z",
     "iopub.status.idle": "2024-03-11T16:55:45.931752Z",
     "shell.execute_reply": "2024-03-11T16:55:45.930477Z"
    },
    "papermill": {
     "duration": 0.22176,
     "end_time": "2024-03-11T16:55:45.934842",
     "exception": false,
     "start_time": "2024-03-11T16:55:45.713082",
     "status": "completed"
    },
    "tags": []
   },
   "outputs": [],
   "source": [
    "\n",
    "train = None\n",
    "test = None\n",
    "val = None\n",
    "with open(f\"{PATH}Data/processed/{Dataset}_train.json\") as f1:\n",
    "    train = json.load(f1)\n",
    "\n",
    "with open(f\"{PATH}Data/processed/{Dataset}_test.json\") as f2:\n",
    "    test = json.load(f2)\n",
    "\n",
    "with open(f\"{PATH}Data/processed/{Dataset}_val.json\") as f3:\n",
    "    val = json.load(f3)\n",
    "\n"
   ]
  },
  {
   "cell_type": "markdown",
   "id": "fa285b6f",
   "metadata": {
    "papermill": {
     "duration": 0.024069,
     "end_time": "2024-03-11T16:55:45.985134",
     "exception": false,
     "start_time": "2024-03-11T16:55:45.961065",
     "status": "completed"
    },
    "tags": []
   },
   "source": [
    "processing into lists"
   ]
  },
  {
   "cell_type": "code",
   "execution_count": 9,
   "id": "1e07498d",
   "metadata": {
    "execution": {
     "iopub.execute_input": "2024-03-11T16:55:46.036070Z",
     "iopub.status.busy": "2024-03-11T16:55:46.035620Z",
     "iopub.status.idle": "2024-03-11T16:55:46.053249Z",
     "shell.execute_reply": "2024-03-11T16:55:46.052126Z"
    },
    "papermill": {
     "duration": 0.046348,
     "end_time": "2024-03-11T16:55:46.055710",
     "exception": false,
     "start_time": "2024-03-11T16:55:46.009362",
     "status": "completed"
    },
    "tags": []
   },
   "outputs": [],
   "source": [
    "X_train,Y_train = create_train_test_val(train)\n",
    "X_test,Y_test = create_train_test_val(test)\n",
    "X_val,Y_val = create_train_test_val(val)"
   ]
  },
  {
   "cell_type": "markdown",
   "id": "cbd08cd0",
   "metadata": {
    "papermill": {
     "duration": 0.023957,
     "end_time": "2024-03-11T16:55:46.104027",
     "exception": false,
     "start_time": "2024-03-11T16:55:46.080070",
     "status": "completed"
    },
    "tags": []
   },
   "source": [
    "Tokenizing the ATE Dataset"
   ]
  },
  {
   "cell_type": "code",
   "execution_count": 10,
   "id": "9ba1fff5",
   "metadata": {
    "execution": {
     "iopub.execute_input": "2024-03-11T16:55:46.154916Z",
     "iopub.status.busy": "2024-03-11T16:55:46.154447Z",
     "iopub.status.idle": "2024-03-11T16:55:47.167043Z",
     "shell.execute_reply": "2024-03-11T16:55:47.166004Z"
    },
    "papermill": {
     "duration": 1.041091,
     "end_time": "2024-03-11T16:55:47.169777",
     "exception": false,
     "start_time": "2024-03-11T16:55:46.128686",
     "status": "completed"
    },
    "tags": []
   },
   "outputs": [],
   "source": [
    "X_train_tokenized, toke = TokenCreator(X_train,1)\n",
    "X_test_tokenized = TokenCreator(X_test,0,tokenizer = toke)\n",
    "X_val_tokenized = TokenCreator(X_val,0,tokenizer = toke)\n",
    "\n",
    "Y_train_tokenized,toke2 = TokenCreator(Y_train,0)\n",
    "Y_test_tokenized = TokenCreator(Y_test,0,tokenizer = toke2)\n",
    "Y_val_tokenized = TokenCreator(Y_val,0,tokenizer = toke2)"
   ]
  },
  {
   "cell_type": "markdown",
   "id": "9cee64c0",
   "metadata": {
    "papermill": {
     "duration": 0.09121,
     "end_time": "2024-03-11T16:55:47.285642",
     "exception": false,
     "start_time": "2024-03-11T16:55:47.194432",
     "status": "completed"
    },
    "tags": []
   },
   "source": [
    "Vocabulary of ATE"
   ]
  },
  {
   "cell_type": "code",
   "execution_count": 11,
   "id": "fd2817ad",
   "metadata": {
    "execution": {
     "iopub.execute_input": "2024-03-11T16:55:47.337833Z",
     "iopub.status.busy": "2024-03-11T16:55:47.336681Z",
     "iopub.status.idle": "2024-03-11T16:55:47.378447Z",
     "shell.execute_reply": "2024-03-11T16:55:47.377158Z"
    },
    "papermill": {
     "duration": 0.071132,
     "end_time": "2024-03-11T16:55:47.381271",
     "exception": false,
     "start_time": "2024-03-11T16:55:47.310139",
     "status": "completed"
    },
    "tags": []
   },
   "outputs": [
    {
     "data": {
      "text/plain": [
       "30220"
      ]
     },
     "execution_count": 11,
     "metadata": {},
     "output_type": "execute_result"
    }
   ],
   "source": [
    "st1 = find_vocab(X_train_tokenized)\n",
    "vocab_size  = len(st1) + 1 \n",
    "vocab_size"
   ]
  },
  {
   "cell_type": "code",
   "execution_count": 12,
   "id": "797b3b46",
   "metadata": {
    "execution": {
     "iopub.execute_input": "2024-03-11T16:55:47.433480Z",
     "iopub.status.busy": "2024-03-11T16:55:47.433060Z",
     "iopub.status.idle": "2024-03-11T16:55:47.445626Z",
     "shell.execute_reply": "2024-03-11T16:55:47.444608Z"
    },
    "papermill": {
     "duration": 0.041759,
     "end_time": "2024-03-11T16:55:47.448059",
     "exception": false,
     "start_time": "2024-03-11T16:55:47.406300",
     "status": "completed"
    },
    "tags": []
   },
   "outputs": [
    {
     "data": {
      "text/plain": [
       "70"
      ]
     },
     "execution_count": 12,
     "metadata": {},
     "output_type": "execute_result"
    }
   ],
   "source": [
    "max_len=0\n",
    "\n",
    "for i in X_train_tokenized:\n",
    "    max_len = max(max_len,len(i))\n",
    "\n",
    "max_len"
   ]
  },
  {
   "cell_type": "markdown",
   "id": "d03137d9",
   "metadata": {
    "papermill": {
     "duration": 0.025039,
     "end_time": "2024-03-11T16:55:47.498004",
     "exception": false,
     "start_time": "2024-03-11T16:55:47.472965",
     "status": "completed"
    },
    "tags": []
   },
   "source": [
    "Padding ATE"
   ]
  },
  {
   "cell_type": "code",
   "execution_count": 13,
   "id": "61adf58e",
   "metadata": {
    "execution": {
     "iopub.execute_input": "2024-03-11T16:55:47.551347Z",
     "iopub.status.busy": "2024-03-11T16:55:47.550652Z",
     "iopub.status.idle": "2024-03-11T16:55:47.698884Z",
     "shell.execute_reply": "2024-03-11T16:55:47.697770Z"
    },
    "papermill": {
     "duration": 0.177698,
     "end_time": "2024-03-11T16:55:47.701694",
     "exception": false,
     "start_time": "2024-03-11T16:55:47.523996",
     "status": "completed"
    },
    "tags": []
   },
   "outputs": [],
   "source": [
    "X_padded_train = pad_sequences(X_train_tokenized, maxlen=max_len, padding=\"pre\", truncating=\"post\")\n",
    "Y_padded_train = pad_sequences(Y_train_tokenized, maxlen=max_len, padding=\"pre\", truncating=\"post\")\n",
    "\n",
    "X_padded_test = pad_sequences(X_test_tokenized, maxlen=max_len, padding=\"pre\", truncating=\"post\")\n",
    "Y_padded_test = pad_sequences(Y_test_tokenized, maxlen=max_len, padding=\"pre\", truncating=\"post\")\n",
    "\n",
    "X_padded_val = pad_sequences(X_val_tokenized, maxlen=max_len, padding=\"pre\", truncating=\"post\")\n",
    "Y_padded_val = pad_sequences(Y_val_tokenized, maxlen=max_len, padding=\"pre\", truncating=\"post\")       "
   ]
  },
  {
   "cell_type": "markdown",
   "id": "c20f5cce",
   "metadata": {
    "papermill": {
     "duration": 0.025733,
     "end_time": "2024-03-11T16:55:47.753269",
     "exception": false,
     "start_time": "2024-03-11T16:55:47.727536",
     "status": "completed"
    },
    "tags": []
   },
   "source": [
    "One hot encoding the ATE labels"
   ]
  },
  {
   "cell_type": "code",
   "execution_count": 14,
   "id": "d25ad475",
   "metadata": {
    "execution": {
     "iopub.execute_input": "2024-03-11T16:55:47.807273Z",
     "iopub.status.busy": "2024-03-11T16:55:47.806442Z",
     "iopub.status.idle": "2024-03-11T16:55:47.899650Z",
     "shell.execute_reply": "2024-03-11T16:55:47.898725Z"
    },
    "papermill": {
     "duration": 0.12299,
     "end_time": "2024-03-11T16:55:47.902285",
     "exception": false,
     "start_time": "2024-03-11T16:55:47.779295",
     "status": "completed"
    },
    "tags": []
   },
   "outputs": [],
   "source": [
    "Y_padded_train = to_categorical(Y_padded_train)\n",
    "Y_padded_test = to_categorical(Y_padded_test)\n",
    "Y_padded_val = to_categorical(Y_padded_val)"
   ]
  },
  {
   "cell_type": "markdown",
   "id": "1eaaf4a1",
   "metadata": {
    "papermill": {
     "duration": 0.026855,
     "end_time": "2024-03-11T16:55:47.954953",
     "exception": false,
     "start_time": "2024-03-11T16:55:47.928098",
     "status": "completed"
    },
    "tags": []
   },
   "source": [
    "Assigning **ATE Word2Vec** mapping"
   ]
  },
  {
   "cell_type": "code",
   "execution_count": 15,
   "id": "35d5ed06",
   "metadata": {
    "execution": {
     "iopub.execute_input": "2024-03-11T16:55:48.008215Z",
     "iopub.status.busy": "2024-03-11T16:55:48.006929Z",
     "iopub.status.idle": "2024-03-11T16:55:48.054029Z",
     "shell.execute_reply": "2024-03-11T16:55:48.052952Z"
    },
    "papermill": {
     "duration": 0.076624,
     "end_time": "2024-03-11T16:55:48.056653",
     "exception": false,
     "start_time": "2024-03-11T16:55:47.980029",
     "status": "completed"
    },
    "tags": []
   },
   "outputs": [
    {
     "data": {
      "text/plain": [
       "{'#UK': 1,\n",
       " 'the': 2,\n",
       " 'of': 3,\n",
       " 'in': 4,\n",
       " 'to': 5,\n",
       " 'and': 6,\n",
       " 'that': 7,\n",
       " 'a': 8,\n",
       " 'was': 9,\n",
       " 'is': 10,\n",
       " 'by': 11,\n",
       " 'on': 12,\n",
       " 'as': 13,\n",
       " 'for': 14,\n",
       " 'be': 15,\n",
       " 'it': 16,\n",
       " 'court': 17,\n",
       " 'not': 18,\n",
       " 'has': 19,\n",
       " 'under': 20,\n",
       " 'this': 21,\n",
       " 'section': 22,\n",
       " 'which': 23,\n",
       " 'with': 24,\n",
       " 'or': 25,\n",
       " 'at': 26,\n",
       " 'he': 27,\n",
       " 'case': 28,\n",
       " 'no.': 29,\n",
       " 'from': 30,\n",
       " 'been': 31,\n",
       " 'his': 32,\n",
       " 'an': 33,\n",
       " 'had': 34,\n",
       " 'are': 35,\n",
       " 'were': 36,\n",
       " 'v.': 37,\n",
       " 'state': 38,\n",
       " 'also': 39,\n",
       " 'have': 40,\n",
       " 'act': 41,\n",
       " 'order': 42,\n",
       " 'any': 43,\n",
       " 'no': 44,\n",
       " 'high': 45,\n",
       " 'accused': 46,\n",
       " 'learned': 47,\n",
       " 'said': 48,\n",
       " 'there': 49,\n",
       " 'dated': 50,\n",
       " 'supreme': 51,\n",
       " 'made': 52,\n",
       " 'would': 53,\n",
       " 'before': 54,\n",
       " 'singh': 55,\n",
       " 'held': 56,\n",
       " 'who': 57,\n",
       " 'such': 58,\n",
       " 'against': 59,\n",
       " 'other': 60,\n",
       " 'but': 61,\n",
       " 'their': 62,\n",
       " 'one': 63,\n",
       " 'if': 64,\n",
       " 'respondent': 65,\n",
       " 'filed': 66,\n",
       " 'appeal': 67,\n",
       " 'appellant': 68,\n",
       " 'evidence': 69,\n",
       " '&': 70,\n",
       " 'all': 71,\n",
       " 'only': 72,\n",
       " 'decision': 73,\n",
       " 'after': 74,\n",
       " 'we': 75,\n",
       " 'they': 76,\n",
       " 'petitioner': 77,\n",
       " 'government': 78,\n",
       " 'may': 79,\n",
       " 'judgment': 80,\n",
       " 'act,': 81,\n",
       " 'its': 82,\n",
       " 'when': 83,\n",
       " 'counsel': 84,\n",
       " 'view': 85,\n",
       " 'same': 86,\n",
       " 'application': 87,\n",
       " 'india': 88,\n",
       " 'out': 89,\n",
       " 'can': 90,\n",
       " 'further': 91,\n",
       " 'petition': 92,\n",
       " 'whether': 93,\n",
       " 'two': 94,\n",
       " 'bench': 95,\n",
       " 'stated': 96,\n",
       " 'provisions': 97,\n",
       " 'question': 98,\n",
       " 'her': 99,\n",
       " 'law': 100,\n",
       " 'cannot': 101,\n",
       " 'vs.': 102,\n",
       " 'therefore,': 103,\n",
       " 'civil': 104,\n",
       " 'first': 105,\n",
       " 'article': 106,\n",
       " 'police': 107,\n",
       " 'should': 108,\n",
       " 'mr.': 109,\n",
       " '1': 110,\n",
       " 'suit': 111,\n",
       " 'could': 112,\n",
       " 'upon': 113,\n",
       " 'will': 114,\n",
       " 'these': 115,\n",
       " 'taken': 116,\n",
       " 'so': 117,\n",
       " 'passed': 118,\n",
       " 'writ': 119,\n",
       " 'rule': 120,\n",
       " 'about': 121,\n",
       " 'where': 122,\n",
       " 'referred': 123,\n",
       " 'judge': 124,\n",
       " 'being': 125,\n",
       " 'him': 126,\n",
       " 'given': 127,\n",
       " 'even': 128,\n",
       " 'i': 129,\n",
       " 'kumar': 130,\n",
       " 'into': 131,\n",
       " 'right': 132,\n",
       " 'p.': 133,\n",
       " 'present': 134,\n",
       " 'per': 135,\n",
       " 'ltd.': 136,\n",
       " 'rs.': 137,\n",
       " 'act.': 138,\n",
       " '2': 139,\n",
       " ':': 140,\n",
       " 'air': 141,\n",
       " 'time': 142,\n",
       " 'criminal': 143,\n",
       " \"hon'ble\": 144,\n",
       " 'constitution': 145,\n",
       " 'j.': 146,\n",
       " 'delhi': 147,\n",
       " 'defendant': 148,\n",
       " 'issued': 149,\n",
       " 'matter': 150,\n",
       " 'shall': 151,\n",
       " 'must': 152,\n",
       " 'did': 153,\n",
       " 'plaintiff': 154,\n",
       " 'respect': 155,\n",
       " 'she': 156,\n",
       " 'statement': 157,\n",
       " 'submitted': 158,\n",
       " 'company': 159,\n",
       " '3': 160,\n",
       " 'case,': 161,\n",
       " 'special': 162,\n",
       " 'property': 163,\n",
       " 's.': 164,\n",
       " 'then': 165,\n",
       " 'shri': 166,\n",
       " 'power': 167,\n",
       " 'between': 168,\n",
       " 'does': 169,\n",
       " 'while': 170,\n",
       " 'notice': 171,\n",
       " 'tribunal': 172,\n",
       " 'within': 173,\n",
       " 'above': 174,\n",
       " 'date': 175,\n",
       " 'trial': 176,\n",
       " 'person': 177,\n",
       " 'public': 178,\n",
       " 'facts': 179,\n",
       " 'offence': 180,\n",
       " 'sc': 181,\n",
       " 'scc': 182,\n",
       " 'court,': 183,\n",
       " 'having': 184,\n",
       " 'however,': 185,\n",
       " 'deceased': 186,\n",
       " 'tax': 187,\n",
       " 'division': 188,\n",
       " 'house': 189,\n",
       " 'land': 190,\n",
       " 'them': 191,\n",
       " 'petitioners': 192,\n",
       " 'district': 193,\n",
       " 'new': 194,\n",
       " '(1)': 195,\n",
       " 'code': 196,\n",
       " 'apex': 197,\n",
       " 'relied': 198,\n",
       " 'general': 199,\n",
       " 'persons': 200,\n",
       " 'down': 201,\n",
       " 'officer': 202,\n",
       " 'observed': 203,\n",
       " 'found': 204,\n",
       " 'justice': 205,\n",
       " 'court.': 206,\n",
       " 'union': 207,\n",
       " 'both': 208,\n",
       " '4': 209,\n",
       " 'examined': 210,\n",
       " 'central': 211,\n",
       " 'without': 212,\n",
       " 'what': 213,\n",
       " 'some': 214,\n",
       " 'reference': 215,\n",
       " 'though': 216,\n",
       " 'came': 217,\n",
       " 'sections': 218,\n",
       " 'indian': 219,\n",
       " 'cases': 220,\n",
       " 'another': 221,\n",
       " 'jurisdiction': 222,\n",
       " 'page': 223,\n",
       " 'basis': 224,\n",
       " 'claim': 225,\n",
       " 'amount': 226,\n",
       " 'report': 227,\n",
       " 'effect': 228,\n",
       " 'up': 229,\n",
       " 'part': 230,\n",
       " 'possession': 231,\n",
       " 'witness': 232,\n",
       " 'following': 233,\n",
       " '5': 234,\n",
       " '-': 235,\n",
       " 'assessee': 236,\n",
       " 'since': 237,\n",
       " 'year': 238,\n",
       " 'prosecution': 239,\n",
       " 'fact': 240,\n",
       " 'authority': 241,\n",
       " 'bank': 242,\n",
       " 'considered': 243,\n",
       " 'complainant': 244,\n",
       " 'during': 245,\n",
       " 'behalf': 246,\n",
       " 'three': 247,\n",
       " '(2)': 248,\n",
       " 'service': 249,\n",
       " 'years': 250,\n",
       " 'income': 251,\n",
       " 'ram': 252,\n",
       " 'regard': 253,\n",
       " '6': 254,\n",
       " 'c.': 255,\n",
       " 'rules': 256,\n",
       " 'placed': 257,\n",
       " 'sale': 258,\n",
       " 'co.': 259,\n",
       " 'reported': 260,\n",
       " 'proceedings': 261,\n",
       " 'place': 262,\n",
       " 'aforesaid': 263,\n",
       " 'record': 264,\n",
       " 'because': 265,\n",
       " 'appellants': 266,\n",
       " 'do': 267,\n",
       " 'complaint': 268,\n",
       " 'registered': 269,\n",
       " 'necessary': 270,\n",
       " 'additional': 271,\n",
       " 'make': 272,\n",
       " 'well': 273,\n",
       " 'according': 274,\n",
       " 'respondents': 275,\n",
       " 'ground': 276,\n",
       " 'chief': 277,\n",
       " 'period': 278,\n",
       " 'through': 279,\n",
       " 'procedure': 280,\n",
       " 'those': 281,\n",
       " 'business': 282,\n",
       " 'more': 283,\n",
       " 'clause': 284,\n",
       " 'relevant': 285,\n",
       " '(supra)': 286,\n",
       " 'interest': 287,\n",
       " 'legal': 288,\n",
       " 'mentioned': 289,\n",
       " 'our': 290,\n",
       " 'favour': 291,\n",
       " 'take': 292,\n",
       " 'second': 293,\n",
       " 'read': 294,\n",
       " 'over': 295,\n",
       " 'far': 296,\n",
       " 'than': 297,\n",
       " 'others': 298,\n",
       " 'decided': 299,\n",
       " 'point': 300,\n",
       " 'witnesses': 301,\n",
       " 'set': 302,\n",
       " 'deposed': 303,\n",
       " 'singh,': 304,\n",
       " 'pw': 305,\n",
       " 'judicial': 306,\n",
       " 'ors.': 307,\n",
       " 'certain': 308,\n",
       " 'consideration': 309,\n",
       " 'now': 310,\n",
       " 'circumstances': 311,\n",
       " 'assessment': 312,\n",
       " 'issue': 313,\n",
       " 'laid': 314,\n",
       " 'terms': 315,\n",
       " 'letter': 316,\n",
       " 'p.w.': 317,\n",
       " 'support': 318,\n",
       " 'board': 319,\n",
       " 'received': 320,\n",
       " 'nos.': 321,\n",
       " 'account': 322,\n",
       " 'provision': 323,\n",
       " 'punjab': 324,\n",
       " 'earlier': 325,\n",
       " 'insurance': 326,\n",
       " 'ex.': 327,\n",
       " 'goods': 328,\n",
       " 'contention': 329,\n",
       " 'corporation': 330,\n",
       " 'notification': 331,\n",
       " 'commission': 332,\n",
       " '7': 333,\n",
       " 'bombay': 334,\n",
       " '8': 335,\n",
       " 'india,': 336,\n",
       " 'sessions': 337,\n",
       " 'took': 338,\n",
       " 'party': 339,\n",
       " 'r.': 340,\n",
       " 'vide': 341,\n",
       " 'purpose': 342,\n",
       " 'pradesh': 343,\n",
       " 'used': 344,\n",
       " 'already': 345,\n",
       " 'alleged': 346,\n",
       " 'recorded': 347,\n",
       " 'name': 348,\n",
       " 'compensation': 349,\n",
       " 'contended': 350,\n",
       " 'dr.': 351,\n",
       " '\"the': 352,\n",
       " 'parties': 353,\n",
       " 'clear': 354,\n",
       " 'commissioner': 355,\n",
       " 'show': 356,\n",
       " 'entitled': 357,\n",
       " 'us': 358,\n",
       " 'directed': 359,\n",
       " 'action': 360,\n",
       " 'courts': 361,\n",
       " 'different': 362,\n",
       " 'reliance': 363,\n",
       " 'no.1': 364,\n",
       " 'office': 365,\n",
       " 'admitted': 366,\n",
       " 'case.': 367,\n",
       " 'decisions': 368,\n",
       " 'agreement': 369,\n",
       " 'thus': 370,\n",
       " 'come': 371,\n",
       " 'due': 372,\n",
       " 'income-tax': 373,\n",
       " 'magistrate': 374,\n",
       " 'regarding': 375,\n",
       " 'transport': 376,\n",
       " 'w.': 377,\n",
       " 'granted': 378,\n",
       " 'decree': 379,\n",
       " '10': 380,\n",
       " 'sri': 381,\n",
       " 'k.': 382,\n",
       " 'my': 383,\n",
       " 'ipc': 384,\n",
       " 'motor': 385,\n",
       " 'file': 386,\n",
       " 'required': 387,\n",
       " 'vehicle': 388,\n",
       " 'orders': 389,\n",
       " 'charge': 390,\n",
       " 'paid': 391,\n",
       " 'very': 392,\n",
       " 'and,': 393,\n",
       " ',': 394,\n",
       " 'lal': 395,\n",
       " 'payment': 396,\n",
       " 'subject': 397,\n",
       " 'medical': 398,\n",
       " 'exercise': 399,\n",
       " 'allowed': 400,\n",
       " 'original': 401,\n",
       " 'impugned': 402,\n",
       " 'opinion': 403,\n",
       " 'pay': 404,\n",
       " 'investigation': 405,\n",
       " 'rights': 406,\n",
       " '.': 407,\n",
       " 'powers': 408,\n",
       " 'smt.': 409,\n",
       " 'contract': 410,\n",
       " 'appellate': 411,\n",
       " 'observations': 412,\n",
       " 'meaning': 413,\n",
       " 'a.': 414,\n",
       " 'appears': 415,\n",
       " 'owner': 416,\n",
       " '9': 417,\n",
       " 'way': 418,\n",
       " 'nature': 419,\n",
       " '14': 420,\n",
       " 'grant': 421,\n",
       " 'j.,': 422,\n",
       " 'reasonable': 423,\n",
       " 'brought': 424,\n",
       " '2.': 425,\n",
       " 'itself': 426,\n",
       " 'list': 427,\n",
       " 'duty': 428,\n",
       " 'death': 429,\n",
       " 'concerned': 430,\n",
       " 'taking': 431,\n",
       " 'available': 432,\n",
       " 'nor': 433,\n",
       " 'third': 434,\n",
       " '12': 435,\n",
       " 'copy': 436,\n",
       " 'legislature': 437,\n",
       " 'therefore': 438,\n",
       " 'either': 439,\n",
       " 'single': 440,\n",
       " 'cr.p.c.': 441,\n",
       " 'raised': 442,\n",
       " 'again': 443,\n",
       " 'full': 444,\n",
       " 'find': 445,\n",
       " 'judge,': 446,\n",
       " 'prasad': 447,\n",
       " 'consider': 448,\n",
       " 'words': 449,\n",
       " 'along': 450,\n",
       " 'sh.': 451,\n",
       " 'provided': 452,\n",
       " 'claimed': 453,\n",
       " 'him.': 454,\n",
       " 'itr': 455,\n",
       " 'documents': 456,\n",
       " 'material': 457,\n",
       " 'area': 458,\n",
       " 'fir': 459,\n",
       " 'examination': 460,\n",
       " 'station': 461,\n",
       " 'each': 462,\n",
       " 'village': 463,\n",
       " 'clearly': 464,\n",
       " 'similar': 465,\n",
       " 'holding': 466,\n",
       " 'transfer': 467,\n",
       " 'pointed': 468,\n",
       " 'document': 469,\n",
       " 'offences': 470,\n",
       " 'penal': 471,\n",
       " 'm.': 472,\n",
       " 'post': 473,\n",
       " 'india.': 474,\n",
       " 'n.': 475,\n",
       " 'election': 476,\n",
       " 'including': 477,\n",
       " '@': 478,\n",
       " 'liable': 479,\n",
       " 'sub-section': 480,\n",
       " 'written': 481,\n",
       " 'leave': 482,\n",
       " 'based': 483,\n",
       " 'information': 484,\n",
       " 'appeals': 485,\n",
       " 'own': 486,\n",
       " 'sent': 487,\n",
       " 'hold': 488,\n",
       " 'number': 489,\n",
       " 'reason': 490,\n",
       " 'industrial': 491,\n",
       " 'open': 492,\n",
       " 'sought': 493,\n",
       " 'course': 494,\n",
       " 'revenue': 495,\n",
       " 'force': 496,\n",
       " 'position': 497,\n",
       " 'liability': 498,\n",
       " 'back': 499,\n",
       " 'established': 500,\n",
       " 'para': 501,\n",
       " 'madras': 502,\n",
       " 'parliament': 503,\n",
       " 'cit': 504,\n",
       " 'true': 505,\n",
       " 'affidavit': 506,\n",
       " 'statutory': 507,\n",
       " 'considering': 508,\n",
       " 'entry': 509,\n",
       " '1st': 510,\n",
       " 'common': 511,\n",
       " 'award': 512,\n",
       " 'constitution.': 513,\n",
       " 'dismissed': 514,\n",
       " 'dispute': 515,\n",
       " 'son': 516,\n",
       " 'articles': 517,\n",
       " 'applicable': 518,\n",
       " 'give': 519,\n",
       " 'petitions': 520,\n",
       " 'advocate': 521,\n",
       " 'went': 522,\n",
       " 'services': 523,\n",
       " 'proved': 524,\n",
       " 'cause': 525,\n",
       " 'produced': 526,\n",
       " '1,': 527,\n",
       " 'defendants': 528,\n",
       " 'principles': 529,\n",
       " 'kerala': 530,\n",
       " 'various': 531,\n",
       " 'reasons': 532,\n",
       " 'punishable': 533,\n",
       " 'merely': 534,\n",
       " 'that,': 535,\n",
       " 'wife': 536,\n",
       " 'result': 537,\n",
       " 'working': 538,\n",
       " 'b.': 539,\n",
       " 'rajasthan': 540,\n",
       " 'm/s': 541,\n",
       " 'body': 542,\n",
       " 'contained': 543,\n",
       " 'prior': 544,\n",
       " 'scheme': 545,\n",
       " 'appearing': 546,\n",
       " '15': 547,\n",
       " 'vehicles': 548,\n",
       " 'father': 549,\n",
       " '11': 550,\n",
       " 'loss': 551,\n",
       " 'making': 552,\n",
       " 'ld.': 553,\n",
       " 'limited': 554,\n",
       " '(3)': 555,\n",
       " 'put': 556,\n",
       " '(b)': 557,\n",
       " 'conclusion': 558,\n",
       " 'concerned,': 559,\n",
       " 'member': 560,\n",
       " 'use': 561,\n",
       " 'amendment': 562,\n",
       " 'officer,': 563,\n",
       " 'wherein': 564,\n",
       " 'registration': 565,\n",
       " 'himself': 566,\n",
       " 'bearing': 567,\n",
       " 'haryana': 568,\n",
       " 'relating': 569,\n",
       " 'sufficient': 570,\n",
       " 'argued': 571,\n",
       " 'law.': 572,\n",
       " 'recovery': 573,\n",
       " 'accepted': 574,\n",
       " 'control': 575,\n",
       " 'trade': 576,\n",
       " 'premises': 577,\n",
       " 'left': 578,\n",
       " 'crime': 579,\n",
       " 'senior': 580,\n",
       " 'thus,': 581,\n",
       " 'injuries': 582,\n",
       " 'family': 583,\n",
       " 'committed': 584,\n",
       " 'principle': 585,\n",
       " 'done': 586,\n",
       " 'nothing': 587,\n",
       " 'form': 588,\n",
       " 'department': 589,\n",
       " '4.': 590,\n",
       " 'rent': 591,\n",
       " 'ltd.,': 592,\n",
       " '1.': 593,\n",
       " '34': 594,\n",
       " 'head': 595,\n",
       " 'noted': 596,\n",
       " '(air': 597,\n",
       " 'construction': 598,\n",
       " 'preferred': 599,\n",
       " 'certificate': 600,\n",
       " 'committee': 601,\n",
       " 'finding': 602,\n",
       " 'like': 603,\n",
       " 'private': 604,\n",
       " 'entered': 605,\n",
       " 'chand': 606,\n",
       " 'provides': 607,\n",
       " 'got': 608,\n",
       " 'sum': 609,\n",
       " 'particular': 610,\n",
       " 'proceeding': 611,\n",
       " 'argument': 612,\n",
       " 'last': 613,\n",
       " 'lord': 614,\n",
       " 'national': 615,\n",
       " 'settled': 616,\n",
       " 'valid': 617,\n",
       " 'assistant': 618,\n",
       " 'cheque': 619,\n",
       " 'members': 620,\n",
       " 'treated': 621,\n",
       " 'word': 622,\n",
       " 'light': 623,\n",
       " '226': 624,\n",
       " '(a)': 625,\n",
       " '\"': 626,\n",
       " 'towards': 627,\n",
       " 'statute': 628,\n",
       " 'obtained': 629,\n",
       " 'applicant': 630,\n",
       " 'magistrate,': 631,\n",
       " 'age': 632,\n",
       " 'm/s.': 633,\n",
       " 'council': 634,\n",
       " 'heard': 635,\n",
       " 'value': 636,\n",
       " 'connection': 637,\n",
       " 'appointed': 638,\n",
       " 'inspector': 639,\n",
       " 'denied': 640,\n",
       " 'outside': 641,\n",
       " 'drawn': 642,\n",
       " 'stage': 643,\n",
       " 'note': 644,\n",
       " 'follows:': 645,\n",
       " 'calcutta': 646,\n",
       " 'brother': 647,\n",
       " 'every': 648,\n",
       " 'see': 649,\n",
       " 'intention': 650,\n",
       " 'defence': 651,\n",
       " 'karnataka': 652,\n",
       " 'thereafter': 653,\n",
       " 'stand': 654,\n",
       " 'u/s': 655,\n",
       " 'near': 656,\n",
       " 'accident': 657,\n",
       " 'deed': 658,\n",
       " 'prove': 659,\n",
       " 'deputy': 660,\n",
       " 'followed': 661,\n",
       " '13': 662,\n",
       " 'context': 663,\n",
       " 'i.e.': 664,\n",
       " 'guilty': 665,\n",
       " 'called': 666,\n",
       " 'proviso': 667,\n",
       " 'lordships': 668,\n",
       " 'revision': 669,\n",
       " 'doubt': 670,\n",
       " 'sentence': 671,\n",
       " 'states': 672,\n",
       " 'mind': 673,\n",
       " 'appointment': 674,\n",
       " 'judges': 675,\n",
       " 'policy': 676,\n",
       " 'accused.': 677,\n",
       " 'road': 678,\n",
       " 'hearing': 679,\n",
       " 'tamil': 680,\n",
       " 'dealing': 681,\n",
       " 'go': 682,\n",
       " 'scope': 683,\n",
       " 'bail': 684,\n",
       " 'conditions': 685,\n",
       " 'proper': 686,\n",
       " '20': 687,\n",
       " 'west': 688,\n",
       " 'seeking': 689,\n",
       " '(c)': 690,\n",
       " 'filing': 691,\n",
       " 'them.': 692,\n",
       " 'relief': 693,\n",
       " 'legislative': 694,\n",
       " 'sales': 695,\n",
       " 'accordance': 696,\n",
       " 'so,': 697,\n",
       " 'etc.': 698,\n",
       " 'till': 699,\n",
       " 'need': 700,\n",
       " 'andhra': 701,\n",
       " 'aside': 702,\n",
       " 'code.': 703,\n",
       " 'competent': 704,\n",
       " 'fundamental': 705,\n",
       " 'day': 706,\n",
       " 'specific': 707,\n",
       " '16': 708,\n",
       " 'prepared': 709,\n",
       " 'under:': 710,\n",
       " 'authorities': 711,\n",
       " 'madhya': 712,\n",
       " 'executed': 713,\n",
       " 'hospital': 714,\n",
       " 'refer': 715,\n",
       " 'purposes': 716,\n",
       " 'decide': 717,\n",
       " 'raj': 718,\n",
       " 'matters': 719,\n",
       " 'seen': 720,\n",
       " 'sharma': 721,\n",
       " 'gujarat': 722,\n",
       " 'rules,': 723,\n",
       " 'ipc.': 724,\n",
       " 'excise': 725,\n",
       " '3.': 726,\n",
       " 'reached': 727,\n",
       " 'contrary': 728,\n",
       " 'rendered': 729,\n",
       " 'schedule': 730,\n",
       " 'firm': 731,\n",
       " 'devi': 732,\n",
       " 'limitation': 733,\n",
       " 'conviction': 734,\n",
       " 'covered': 735,\n",
       " 'validity': 736,\n",
       " 'acquisition': 737,\n",
       " 'chandra': 738,\n",
       " 'paragraph': 739,\n",
       " 'days': 740,\n",
       " 'work': 741,\n",
       " 'bihar': 742,\n",
       " 'thereafter,': 743,\n",
       " 'failed': 744,\n",
       " 'get': 745,\n",
       " 'appropriate': 746,\n",
       " 'review': 747,\n",
       " 'direction': 748,\n",
       " 'subsequent': 749,\n",
       " 'director': 750,\n",
       " 'namely': 751,\n",
       " 'how': 752,\n",
       " 'hand,': 753,\n",
       " 'delhi.': 754,\n",
       " 'is,': 755,\n",
       " 'purchase': 756,\n",
       " 'delay': 757,\n",
       " 'except': 758,\n",
       " 'entire': 759,\n",
       " 'say': 760,\n",
       " 'framed': 761,\n",
       " '2,': 762,\n",
       " 'absence': 763,\n",
       " 'art.': 764,\n",
       " 'applications': 765,\n",
       " 'unless': 766,\n",
       " 'husband': 767,\n",
       " 'hand': 768,\n",
       " 'pending': 769,\n",
       " '(4)': 770,\n",
       " 'supply': 771,\n",
       " '25': 772,\n",
       " 'gave': 773,\n",
       " 'claimant': 774,\n",
       " 'fixed': 775,\n",
       " 'cr.': 776,\n",
       " 'p.m.': 777,\n",
       " '(i)': 778,\n",
       " 'plaintiffs': 779,\n",
       " 'rate': 780,\n",
       " 'above,': 781,\n",
       " 'order,': 782,\n",
       " 'away': 783,\n",
       " 'personal': 784,\n",
       " 'declaration': 785,\n",
       " 'employees': 786,\n",
       " 'request': 787,\n",
       " 'presence': 788,\n",
       " 'coming': 789,\n",
       " '302': 790,\n",
       " 'prescribed': 791,\n",
       " 'driver': 792,\n",
       " 'permit': 793,\n",
       " 'condition': 794,\n",
       " 'still': 795,\n",
       " '(supra),': 796,\n",
       " 'opinion,': 797,\n",
       " 'submission': 798,\n",
       " 'interim': 799,\n",
       " 'april': 800,\n",
       " 'challenged': 801,\n",
       " 'nadu': 802,\n",
       " 'total': 803,\n",
       " 'convicted': 804,\n",
       " 'cbi': 805,\n",
       " 'amended': 806,\n",
       " 'expression': 807,\n",
       " 'conduct': 808,\n",
       " 'giving': 809,\n",
       " 'term': 810,\n",
       " 'no.2': 811,\n",
       " 'president': 812,\n",
       " 'enquiry': 813,\n",
       " 'beyond': 814,\n",
       " 'namely,': 815,\n",
       " '17': 816,\n",
       " 'shows': 817,\n",
       " 'lease': 818,\n",
       " 'whom': 819,\n",
       " '2008': 820,\n",
       " 'interpretation': 821,\n",
       " 'caused': 822,\n",
       " 'next': 823,\n",
       " 'benefit': 824,\n",
       " 'extent': 825,\n",
       " 'neither': 826,\n",
       " 'whole': 827,\n",
       " 'applied': 828,\n",
       " 'shown': 829,\n",
       " 'pvt.': 830,\n",
       " 'once': 831,\n",
       " '18': 832,\n",
       " 'cited': 833,\n",
       " 'december': 834,\n",
       " '2007': 835,\n",
       " 'g.': 836,\n",
       " 'investigating': 837,\n",
       " 'am': 838,\n",
       " 'officers': 839,\n",
       " '3,': 840,\n",
       " 'urged': 841,\n",
       " 'rao': 842,\n",
       " 'main': 843,\n",
       " 'bar': 844,\n",
       " 'means': 845,\n",
       " '2nd': 846,\n",
       " 'declared': 847,\n",
       " 'bengal': 848,\n",
       " 'provide': 849,\n",
       " 'allegations': 850,\n",
       " 'viz.,': 851,\n",
       " '19': 852,\n",
       " 'execution': 853,\n",
       " 'regards': 854,\n",
       " 'constituted': 855,\n",
       " ':-': 856,\n",
       " 'mills': 857,\n",
       " 'v': 858,\n",
       " 'it.': 859,\n",
       " '(hereinafter': 860,\n",
       " 'circumstances,': 861,\n",
       " '(ii)': 862,\n",
       " 'awarded': 863,\n",
       " 'patna': 864,\n",
       " 'secretary': 865,\n",
       " 'nath': 866,\n",
       " 'anr.': 867,\n",
       " 'instant': 868,\n",
       " 'development': 869,\n",
       " 'manner': 870,\n",
       " 'him,': 871,\n",
       " 'o.': 872,\n",
       " 'several': 873,\n",
       " 'charges': 874,\n",
       " 'railway': 875,\n",
       " 'asked': 876,\n",
       " 'properties': 877,\n",
       " 'hospital,': 878,\n",
       " 'become': 879,\n",
       " 'carried': 880,\n",
       " 'licence': 881,\n",
       " 'five': 882,\n",
       " 'pleaded': 883,\n",
       " 'kumar,': 884,\n",
       " 'finance': 885,\n",
       " 'gone': 886,\n",
       " 'minimum': 887,\n",
       " 'important': 888,\n",
       " 'murder': 889,\n",
       " 'municipal': 890,\n",
       " 'life': 891,\n",
       " 'definition': 892,\n",
       " 'issues': 893,\n",
       " 'bus': 894,\n",
       " 'side': 895,\n",
       " 'receipt': 896,\n",
       " 'university': 897,\n",
       " 'whose': 898,\n",
       " 'four': 899,\n",
       " 'separate': 900,\n",
       " 'apply': 901,\n",
       " '2009': 902,\n",
       " 'price': 903,\n",
       " 'appeared': 904,\n",
       " 'object': 905,\n",
       " 'conferred': 906,\n",
       " '22': 907,\n",
       " 'told': 908,\n",
       " 'going': 909,\n",
       " 'labour': 910,\n",
       " 'mere': 911,\n",
       " 'collector': 912,\n",
       " 'society': 913,\n",
       " 'judgments': 914,\n",
       " 'expressed': 915,\n",
       " 'evidence,': 916,\n",
       " 'informed': 917,\n",
       " 'appear': 918,\n",
       " 'dead': 919,\n",
       " '21': 920,\n",
       " 'specified': 921,\n",
       " 'here': 922,\n",
       " 'english': 923,\n",
       " '50': 924,\n",
       " 'enacted': 925,\n",
       " 'law,': 926,\n",
       " 'attention': 927,\n",
       " 'mysore': 928,\n",
       " 'august': 929,\n",
       " 'therein': 930,\n",
       " 'mean': 931,\n",
       " 'just': 932,\n",
       " 'july,': 933,\n",
       " 'gupta': 934,\n",
       " 'march,': 935,\n",
       " 'u.p.': 936,\n",
       " 'final': 937,\n",
       " 'opportunity': 938,\n",
       " 'never': 939,\n",
       " '27': 940,\n",
       " 'it,': 941,\n",
       " 'july': 942,\n",
       " 'inter': 943,\n",
       " 'foreign': 944,\n",
       " 'false': 945,\n",
       " 'administrative': 946,\n",
       " 'rejected': 947,\n",
       " 'college': 948,\n",
       " 'appellant.': 949,\n",
       " 'direct': 950,\n",
       " 'statements': 951,\n",
       " 'delivered': 952,\n",
       " 'was,': 953,\n",
       " 'april,': 954,\n",
       " 'i.e.,': 955,\n",
       " 'allahabad': 956,\n",
       " 'lj': 957,\n",
       " 'chapter': 958,\n",
       " 'september': 959,\n",
       " 'disputes': 960,\n",
       " 'tenant': 961,\n",
       " 'correct': 962,\n",
       " 'fresh': 963,\n",
       " 'cross': 964,\n",
       " 'old': 965,\n",
       " 'code,': 966,\n",
       " 'accused,': 967,\n",
       " 'lodged': 968,\n",
       " 'much': 969,\n",
       " 'december,': 970,\n",
       " 'arbitration': 971,\n",
       " 'know': 972,\n",
       " '1999': 973,\n",
       " 'why': 974,\n",
       " 'november': 975,\n",
       " 'jain': 976,\n",
       " 'incident': 977,\n",
       " 'i.p.c.': 978,\n",
       " 'situated': 979,\n",
       " 'arising': 980,\n",
       " 'industries': 981,\n",
       " 'plea': 982,\n",
       " 'constitutional': 983,\n",
       " 'minister': 984,\n",
       " 'intended': 985,\n",
       " 'conducted': 986,\n",
       " 'hence,': 987,\n",
       " 'imprisonment': 988,\n",
       " '2010': 989,\n",
       " 'may,': 990,\n",
       " 'sold': 991,\n",
       " 'management': 992,\n",
       " 'maharashtra': 993,\n",
       " 'six': 994,\n",
       " 's.c.r.': 995,\n",
       " 'agreed': 996,\n",
       " 'building': 997,\n",
       " 'injury': 998,\n",
       " 'joint': 999,\n",
       " 'carrying': 1000,\n",
       " ...}"
      ]
     },
     "execution_count": 15,
     "metadata": {},
     "output_type": "execute_result"
    }
   ],
   "source": [
    "weights = np.zeros((vocab_size, 300))\n",
    "mapping = toke.word_index \n",
    "mapping"
   ]
  },
  {
   "cell_type": "markdown",
   "id": "ec33bc00",
   "metadata": {
    "papermill": {
     "duration": 0.025834,
     "end_time": "2024-03-11T16:55:48.108961",
     "exception": false,
     "start_time": "2024-03-11T16:55:48.083127",
     "status": "completed"
    },
    "tags": []
   },
   "source": [
    "Fetching weights from pre trained Word2Vec model (ATE)"
   ]
  },
  {
   "cell_type": "code",
   "execution_count": 16,
   "id": "c3fff602",
   "metadata": {
    "execution": {
     "iopub.execute_input": "2024-03-11T16:55:48.163613Z",
     "iopub.status.busy": "2024-03-11T16:55:48.163184Z",
     "iopub.status.idle": "2024-03-11T17:06:49.638699Z",
     "shell.execute_reply": "2024-03-11T17:06:49.637211Z"
    },
    "papermill": {
     "duration": 661.506605,
     "end_time": "2024-03-11T17:06:49.641766",
     "exception": false,
     "start_time": "2024-03-11T16:55:48.135161",
     "status": "completed"
    },
    "tags": []
   },
   "outputs": [],
   "source": [
    "for word, index in mapping.items():\n",
    "    if word in emb:\n",
    "        weights[index:] = emb[word]"
   ]
  },
  {
   "cell_type": "code",
   "execution_count": 17,
   "id": "bf3a16d6",
   "metadata": {
    "execution": {
     "iopub.execute_input": "2024-03-11T17:06:49.699484Z",
     "iopub.status.busy": "2024-03-11T17:06:49.699032Z",
     "iopub.status.idle": "2024-03-11T17:06:49.745692Z",
     "shell.execute_reply": "2024-03-11T17:06:49.744321Z"
    },
    "papermill": {
     "duration": 0.077097,
     "end_time": "2024-03-11T17:06:49.748269",
     "exception": false,
     "start_time": "2024-03-11T17:06:49.671172",
     "status": "completed"
    },
    "tags": []
   },
   "outputs": [],
   "source": [
    "X_train= X_padded_train\n",
    "Y_train = Y_padded_train\n",
    "X_test = X_padded_test\n",
    "Y_test = Y_padded_test\n",
    "X_val = X_padded_val\n",
    "Y_val = Y_padded_val\n",
    "weights = weights\n",
    "word_token = toke\n",
    "tag_token = toke2"
   ]
  },
  {
   "cell_type": "code",
   "execution_count": 18,
   "id": "a765517d",
   "metadata": {
    "execution": {
     "iopub.execute_input": "2024-03-11T17:06:49.803486Z",
     "iopub.status.busy": "2024-03-11T17:06:49.803023Z",
     "iopub.status.idle": "2024-03-11T17:06:49.808386Z",
     "shell.execute_reply": "2024-03-11T17:06:49.807411Z"
    },
    "papermill": {
     "duration": 0.035045,
     "end_time": "2024-03-11T17:06:49.810740",
     "exception": false,
     "start_time": "2024-03-11T17:06:49.775695",
     "status": "completed"
    },
    "tags": []
   },
   "outputs": [],
   "source": [
    "Y_shape= Y_padded_train.shape[2]"
   ]
  },
  {
   "cell_type": "markdown",
   "id": "c1faf9d6",
   "metadata": {
    "papermill": {
     "duration": 0.027072,
     "end_time": "2024-03-11T17:06:49.865191",
     "exception": false,
     "start_time": "2024-03-11T17:06:49.838119",
     "status": "completed"
    },
    "tags": []
   },
   "source": [
    "# Models"
   ]
  },
  {
   "cell_type": "markdown",
   "id": "90dbb848",
   "metadata": {
    "papermill": {
     "duration": 0.026301,
     "end_time": "2024-03-11T17:06:49.918329",
     "exception": false,
     "start_time": "2024-03-11T17:06:49.892028",
     "status": "completed"
    },
    "tags": []
   },
   "source": [
    "## RNN"
   ]
  },
  {
   "cell_type": "code",
   "execution_count": 19,
   "id": "c54fbb81",
   "metadata": {
    "execution": {
     "iopub.execute_input": "2024-03-11T17:06:49.973817Z",
     "iopub.status.busy": "2024-03-11T17:06:49.973043Z",
     "iopub.status.idle": "2024-03-11T17:06:49.977675Z",
     "shell.execute_reply": "2024-03-11T17:06:49.976774Z"
    },
    "papermill": {
     "duration": 0.034986,
     "end_time": "2024-03-11T17:06:49.980071",
     "exception": false,
     "start_time": "2024-03-11T17:06:49.945085",
     "status": "completed"
    },
    "tags": []
   },
   "outputs": [],
   "source": [
    "model_name=\"RNN\""
   ]
  },
  {
   "cell_type": "markdown",
   "id": "52fa940c",
   "metadata": {
    "papermill": {
     "duration": 0.025584,
     "end_time": "2024-03-11T17:06:50.031750",
     "exception": false,
     "start_time": "2024-03-11T17:06:50.006166",
     "status": "completed"
    },
    "tags": []
   },
   "source": [
    "### Training"
   ]
  },
  {
   "cell_type": "code",
   "execution_count": 20,
   "id": "7d6742e3",
   "metadata": {
    "execution": {
     "iopub.execute_input": "2024-03-11T17:06:50.086099Z",
     "iopub.status.busy": "2024-03-11T17:06:50.085332Z",
     "iopub.status.idle": "2024-03-11T17:06:50.092613Z",
     "shell.execute_reply": "2024-03-11T17:06:50.091449Z"
    },
    "papermill": {
     "duration": 0.037752,
     "end_time": "2024-03-11T17:06:50.095491",
     "exception": false,
     "start_time": "2024-03-11T17:06:50.057739",
     "status": "completed"
    },
    "tags": []
   },
   "outputs": [],
   "source": [
    "def rnn(vocab_size,max_len,weights,Y_shape):\n",
    "    rnn_model = Sequential()\n",
    "    rnn_model.add(Embedding(input_dim = vocab_size,output_dim = 300,input_length  = max_len,weights = [weights],trainable = False))\n",
    "    rnn_model.add(SimpleRNN(32, return_sequences=True))\n",
    "    rnn_model.add(TimeDistributed(Dense(Y_shape, activation='softmax')))\n",
    "    rnn_model.compile(loss='categorical_crossentropy',optimizer='adam',metrics=['acc',Precision(),Recall()])\n",
    "    return rnn_model"
   ]
  },
  {
   "cell_type": "code",
   "execution_count": 21,
   "id": "241e1703",
   "metadata": {
    "execution": {
     "iopub.execute_input": "2024-03-11T17:06:50.149537Z",
     "iopub.status.busy": "2024-03-11T17:06:50.149114Z",
     "iopub.status.idle": "2024-03-11T17:06:51.101092Z",
     "shell.execute_reply": "2024-03-11T17:06:51.099827Z"
    },
    "papermill": {
     "duration": 0.982265,
     "end_time": "2024-03-11T17:06:51.103776",
     "exception": false,
     "start_time": "2024-03-11T17:06:50.121511",
     "status": "completed"
    },
    "tags": []
   },
   "outputs": [],
   "source": [
    "rnn_model=rnn(vocab_size,max_len,weights,Y_shape)"
   ]
  },
  {
   "cell_type": "markdown",
   "id": "af930fbd",
   "metadata": {
    "papermill": {
     "duration": 0.025828,
     "end_time": "2024-03-11T17:06:51.155827",
     "exception": false,
     "start_time": "2024-03-11T17:06:51.129999",
     "status": "completed"
    },
    "tags": []
   },
   "source": [
    "Compiling the rnn Word2Vec Model"
   ]
  },
  {
   "cell_type": "code",
   "execution_count": null,
   "id": "82cb15d2",
   "metadata": {
    "papermill": {
     "duration": 0.025934,
     "end_time": "2024-03-11T17:06:51.208118",
     "exception": false,
     "start_time": "2024-03-11T17:06:51.182184",
     "status": "completed"
    },
    "tags": []
   },
   "outputs": [],
   "source": []
  },
  {
   "cell_type": "code",
   "execution_count": 22,
   "id": "68e58c3f",
   "metadata": {
    "execution": {
     "iopub.execute_input": "2024-03-11T17:06:51.263338Z",
     "iopub.status.busy": "2024-03-11T17:06:51.262557Z",
     "iopub.status.idle": "2024-03-11T17:06:51.267305Z",
     "shell.execute_reply": "2024-03-11T17:06:51.266492Z"
    },
    "papermill": {
     "duration": 0.035335,
     "end_time": "2024-03-11T17:06:51.269993",
     "exception": false,
     "start_time": "2024-03-11T17:06:51.234658",
     "status": "completed"
    },
    "tags": []
   },
   "outputs": [],
   "source": [
    "rnn_f1_callback = F1ScoreCallback(val_data=(X_val, Y_val),data=(X_train, Y_train))\n"
   ]
  },
  {
   "cell_type": "code",
   "execution_count": 23,
   "id": "313ce9ff",
   "metadata": {
    "execution": {
     "iopub.execute_input": "2024-03-11T17:06:51.326724Z",
     "iopub.status.busy": "2024-03-11T17:06:51.325919Z",
     "iopub.status.idle": "2024-03-11T17:06:51.352382Z",
     "shell.execute_reply": "2024-03-11T17:06:51.351152Z"
    },
    "papermill": {
     "duration": 0.060868,
     "end_time": "2024-03-11T17:06:51.358276",
     "exception": false,
     "start_time": "2024-03-11T17:06:51.297408",
     "status": "completed"
    },
    "tags": []
   },
   "outputs": [
    {
     "name": "stdout",
     "output_type": "stream",
     "text": [
      "Model: \"sequential\"\n",
      "_________________________________________________________________\n",
      " Layer (type)                Output Shape              Param #   \n",
      "=================================================================\n",
      " embedding (Embedding)       (None, 70, 300)           9066000   \n",
      "                                                                 \n",
      " simple_rnn (SimpleRNN)      (None, 70, 32)            10656     \n",
      "                                                                 \n",
      " time_distributed (TimeDist  (None, 70, 28)            924       \n",
      " ributed)                                                        \n",
      "                                                                 \n",
      "=================================================================\n",
      "Total params: 9077580 (34.63 MB)\n",
      "Trainable params: 11580 (45.23 KB)\n",
      "Non-trainable params: 9066000 (34.58 MB)\n",
      "_________________________________________________________________\n"
     ]
    }
   ],
   "source": [
    "rnn_model.summary()"
   ]
  },
  {
   "cell_type": "markdown",
   "id": "c9e0431e",
   "metadata": {
    "papermill": {
     "duration": 0.028438,
     "end_time": "2024-03-11T17:06:51.414825",
     "exception": false,
     "start_time": "2024-03-11T17:06:51.386387",
     "status": "completed"
    },
    "tags": []
   },
   "source": [
    "Fitting the rnn model"
   ]
  },
  {
   "cell_type": "code",
   "execution_count": 24,
   "id": "fd35b2de",
   "metadata": {
    "execution": {
     "iopub.execute_input": "2024-03-11T17:06:51.473251Z",
     "iopub.status.busy": "2024-03-11T17:06:51.472798Z",
     "iopub.status.idle": "2024-03-11T17:22:58.412927Z",
     "shell.execute_reply": "2024-03-11T17:22:58.411610Z"
    },
    "papermill": {
     "duration": 967.147958,
     "end_time": "2024-03-11T17:22:58.591361",
     "exception": false,
     "start_time": "2024-03-11T17:06:51.443403",
     "status": "completed"
    },
    "tags": []
   },
   "outputs": [
    {
     "name": "stdout",
     "output_type": "stream",
     "text": [
      "Epoch 1/20\n",
      "45/45 [==============================] - 1s 8ms/step\n",
      "251/251 [==============================] - 2s 8ms/step\n",
      "Val F1 Score: 0.06707414686009118 - Train F1 Score: 0.06725969830470385\n",
      "63/63 [==============================] - 50s 781ms/step - loss: 1.9451 - acc: 0.7360 - precision: 0.9108 - recall: 0.1858 - val_loss: 0.8492 - val_acc: 0.8905 - val_precision: 0.9138 - val_recall: 0.8038\n",
      "Epoch 2/20\n",
      "45/45 [==============================] - 0s 8ms/step\n",
      "251/251 [==============================] - 2s 7ms/step\n",
      "Val F1 Score: 0.0818503787110053 - Train F1 Score: 0.08182185535289362\n",
      "63/63 [==============================] - 47s 761ms/step - loss: 0.6898 - acc: 0.8883 - precision: 0.9021 - recall: 0.8175 - val_loss: 0.5722 - val_acc: 0.9084 - val_precision: 0.9214 - val_recall: 0.8500\n",
      "Epoch 3/20\n",
      "45/45 [==============================] - 0s 7ms/step\n",
      "251/251 [==============================] - 2s 7ms/step\n",
      "Val F1 Score: 0.08654213687484383 - Train F1 Score: 0.0859899552151328\n",
      "63/63 [==============================] - 48s 768ms/step - loss: 0.5277 - acc: 0.9129 - precision: 0.9295 - recall: 0.8546 - val_loss: 0.4959 - val_acc: 0.9168 - val_precision: 0.9331 - val_recall: 0.8558\n",
      "Epoch 4/20\n",
      "45/45 [==============================] - 0s 8ms/step\n",
      "251/251 [==============================] - 2s 7ms/step\n",
      "Val F1 Score: 0.08830069069833787 - Train F1 Score: 0.08688730035698357\n",
      "63/63 [==============================] - 47s 761ms/step - loss: 0.4733 - acc: 0.9183 - precision: 0.9393 - recall: 0.8690 - val_loss: 0.4551 - val_acc: 0.9195 - val_precision: 0.9396 - val_recall: 0.8731\n",
      "Epoch 5/20\n",
      "45/45 [==============================] - 0s 7ms/step\n",
      "251/251 [==============================] - 2s 7ms/step\n",
      "Val F1 Score: 0.08857996109579822 - Train F1 Score: 0.0873407621200936\n",
      "63/63 [==============================] - 49s 787ms/step - loss: 0.4395 - acc: 0.9202 - precision: 0.9443 - recall: 0.8738 - val_loss: 0.4268 - val_acc: 0.9211 - val_precision: 0.9433 - val_recall: 0.8745\n",
      "Epoch 6/20\n",
      "45/45 [==============================] - 0s 8ms/step\n",
      "251/251 [==============================] - 2s 8ms/step\n",
      "Val F1 Score: 0.08952523057823318 - Train F1 Score: 0.08821030920714337\n",
      "63/63 [==============================] - 49s 787ms/step - loss: 0.4148 - acc: 0.9217 - precision: 0.9482 - recall: 0.8750 - val_loss: 0.4047 - val_acc: 0.9236 - val_precision: 0.9477 - val_recall: 0.8776\n",
      "Epoch 7/20\n",
      "45/45 [==============================] - 0s 9ms/step\n",
      "251/251 [==============================] - 2s 8ms/step\n",
      "Val F1 Score: 0.09076890310011114 - Train F1 Score: 0.09019869980968695\n",
      "63/63 [==============================] - 49s 788ms/step - loss: 0.4084 - acc: 0.9195 - precision: 0.9468 - recall: 0.8733 - val_loss: 0.4098 - val_acc: 0.9186 - val_precision: 0.9452 - val_recall: 0.8731\n",
      "Epoch 8/20\n",
      "45/45 [==============================] - 0s 7ms/step\n",
      "251/251 [==============================] - 2s 7ms/step\n",
      "Val F1 Score: 0.09468415506506224 - Train F1 Score: 0.0939912377160241\n",
      "63/63 [==============================] - 48s 781ms/step - loss: 0.3847 - acc: 0.9229 - precision: 0.9532 - recall: 0.8838 - val_loss: 0.3754 - val_acc: 0.9239 - val_precision: 0.9518 - val_recall: 0.8940\n",
      "Epoch 9/20\n",
      "45/45 [==============================] - 0s 9ms/step\n",
      "251/251 [==============================] - 2s 8ms/step\n",
      "Val F1 Score: 0.1006902659107094 - Train F1 Score: 0.1009393900697946\n",
      "63/63 [==============================] - 50s 799ms/step - loss: 0.3682 - acc: 0.9247 - precision: 0.9556 - recall: 0.8930 - val_loss: 0.3630 - val_acc: 0.9250 - val_precision: 0.9523 - val_recall: 0.8953\n",
      "Epoch 10/20\n",
      "45/45 [==============================] - 0s 7ms/step\n",
      "251/251 [==============================] - 2s 7ms/step\n",
      "Val F1 Score: 0.10632602369976653 - Train F1 Score: 0.10665995941334318\n",
      "63/63 [==============================] - 48s 772ms/step - loss: 0.3557 - acc: 0.9258 - precision: 0.9574 - recall: 0.8939 - val_loss: 0.3502 - val_acc: 0.9263 - val_precision: 0.9556 - val_recall: 0.8961\n",
      "Epoch 11/20\n",
      "45/45 [==============================] - 0s 8ms/step\n",
      "251/251 [==============================] - 2s 7ms/step\n",
      "Val F1 Score: 0.11761028387254494 - Train F1 Score: 0.12031275022451467\n",
      "63/63 [==============================] - 48s 778ms/step - loss: 0.3441 - acc: 0.9272 - precision: 0.9593 - recall: 0.8949 - val_loss: 0.3395 - val_acc: 0.9275 - val_precision: 0.9560 - val_recall: 0.8977\n",
      "Epoch 12/20\n",
      "45/45 [==============================] - 0s 7ms/step\n",
      "251/251 [==============================] - 2s 8ms/step\n",
      "Val F1 Score: 0.13802097411318934 - Train F1 Score: 0.1394314354307047\n",
      "63/63 [==============================] - 49s 784ms/step - loss: 0.3338 - acc: 0.9286 - precision: 0.9603 - recall: 0.8964 - val_loss: 0.3299 - val_acc: 0.9295 - val_precision: 0.9570 - val_recall: 0.8999\n",
      "Epoch 13/20\n",
      "45/45 [==============================] - 0s 8ms/step\n",
      "251/251 [==============================] - 2s 7ms/step\n",
      "Val F1 Score: 0.15454078506312455 - Train F1 Score: 0.15703703355256948\n",
      "63/63 [==============================] - 48s 778ms/step - loss: 0.3243 - acc: 0.9303 - precision: 0.9611 - recall: 0.8975 - val_loss: 0.3203 - val_acc: 0.9310 - val_precision: 0.9584 - val_recall: 0.9007\n",
      "Epoch 14/20\n",
      "45/45 [==============================] - 0s 8ms/step\n",
      "251/251 [==============================] - 2s 7ms/step\n",
      "Val F1 Score: 0.1657931580585726 - Train F1 Score: 0.1707282705877712\n",
      "63/63 [==============================] - 48s 772ms/step - loss: 0.3154 - acc: 0.9320 - precision: 0.9618 - recall: 0.8990 - val_loss: 0.3121 - val_acc: 0.9317 - val_precision: 0.9582 - val_recall: 0.9021\n",
      "Epoch 15/20\n",
      "45/45 [==============================] - 0s 7ms/step\n",
      "251/251 [==============================] - 2s 7ms/step\n",
      "Val F1 Score: 0.1775424224047215 - Train F1 Score: 0.18424369904989413\n",
      "63/63 [==============================] - 49s 784ms/step - loss: 0.3072 - acc: 0.9331 - precision: 0.9624 - recall: 0.9002 - val_loss: 0.3029 - val_acc: 0.9329 - val_precision: 0.9612 - val_recall: 0.9020\n",
      "Epoch 16/20\n",
      "45/45 [==============================] - 0s 7ms/step\n",
      "251/251 [==============================] - 2s 7ms/step\n",
      "Val F1 Score: 0.18545247609966684 - Train F1 Score: 0.1941422145727169\n",
      "63/63 [==============================] - 48s 768ms/step - loss: 0.2995 - acc: 0.9343 - precision: 0.9629 - recall: 0.9016 - val_loss: 0.2962 - val_acc: 0.9337 - val_precision: 0.9603 - val_recall: 0.9042\n",
      "Epoch 17/20\n",
      "45/45 [==============================] - 0s 7ms/step\n",
      "251/251 [==============================] - 2s 7ms/step\n",
      "Val F1 Score: 0.19713624699771043 - Train F1 Score: 0.20475199564382737\n",
      "63/63 [==============================] - 48s 775ms/step - loss: 0.2922 - acc: 0.9353 - precision: 0.9632 - recall: 0.9027 - val_loss: 0.2900 - val_acc: 0.9344 - val_precision: 0.9609 - val_recall: 0.9045\n",
      "Epoch 18/20\n",
      "45/45 [==============================] - 0s 8ms/step\n",
      "251/251 [==============================] - 2s 8ms/step\n",
      "Val F1 Score: 0.21090295533481784 - Train F1 Score: 0.21871458048530487\n",
      "63/63 [==============================] - 48s 775ms/step - loss: 0.2856 - acc: 0.9362 - precision: 0.9636 - recall: 0.9037 - val_loss: 0.2821 - val_acc: 0.9363 - val_precision: 0.9641 - val_recall: 0.9046\n",
      "Epoch 19/20\n",
      "45/45 [==============================] - 0s 8ms/step\n",
      "251/251 [==============================] - 2s 8ms/step\n",
      "Val F1 Score: 0.21987693341681408 - Train F1 Score: 0.22582007108626165\n",
      "63/63 [==============================] - 48s 775ms/step - loss: 0.2797 - acc: 0.9370 - precision: 0.9639 - recall: 0.9046 - val_loss: 0.2767 - val_acc: 0.9365 - val_precision: 0.9626 - val_recall: 0.9060\n",
      "Epoch 20/20\n",
      "45/45 [==============================] - 0s 8ms/step\n",
      "251/251 [==============================] - 2s 8ms/step\n",
      "Val F1 Score: 0.23425932555624943 - Train F1 Score: 0.23687754297902766\n",
      "63/63 [==============================] - 48s 773ms/step - loss: 0.2737 - acc: 0.9380 - precision: 0.9643 - recall: 0.9056 - val_loss: 0.2715 - val_acc: 0.9374 - val_precision: 0.9623 - val_recall: 0.9071\n"
     ]
    }
   ],
   "source": [
    "rnn_training = rnn_model.fit(X_train, Y_train, batch_size=128, epochs=20, validation_data=(X_val, Y_val), callbacks=[rnn_f1_callback])"
   ]
  },
  {
   "cell_type": "markdown",
   "id": "b6913f28",
   "metadata": {
    "papermill": {
     "duration": 0.173454,
     "end_time": "2024-03-11T17:22:58.937812",
     "exception": false,
     "start_time": "2024-03-11T17:22:58.764358",
     "status": "completed"
    },
    "tags": []
   },
   "source": [
    "Plotting the graph"
   ]
  },
  {
   "cell_type": "code",
   "execution_count": 25,
   "id": "f5eace30",
   "metadata": {
    "execution": {
     "iopub.execute_input": "2024-03-11T17:22:59.289528Z",
     "iopub.status.busy": "2024-03-11T17:22:59.289106Z",
     "iopub.status.idle": "2024-03-11T17:23:00.159306Z",
     "shell.execute_reply": "2024-03-11T17:23:00.158114Z"
    },
    "papermill": {
     "duration": 1.048546,
     "end_time": "2024-03-11T17:23:00.162093",
     "exception": false,
     "start_time": "2024-03-11T17:22:59.113547",
     "status": "completed"
    },
    "tags": []
   },
   "outputs": [
    {
     "data": {
      "image/png": "[encoded data removed]",
      "text/plain": [
       "<Figure size 1600x500 with 2 Axes>"
      ]
     },
     "metadata": {},
     "output_type": "display_data"
    }
   ],
   "source": [
    "draw_loss_graph(rnn_training,model_name, rnn_f1_callback.train_f1_scores, rnn_f1_callback.val_f1_scores)\n",
    "save_model(rnn_model,model_name,Embedding_name,Dataset)"
   ]
  },
  {
   "cell_type": "markdown",
   "id": "428477b4",
   "metadata": {
    "papermill": {
     "duration": 0.173544,
     "end_time": "2024-03-11T17:23:00.511307",
     "exception": false,
     "start_time": "2024-03-11T17:23:00.337763",
     "status": "completed"
    },
    "tags": []
   },
   "source": [
    "### Testing"
   ]
  },
  {
   "cell_type": "code",
   "execution_count": 26,
   "id": "c2e77999",
   "metadata": {
    "execution": {
     "iopub.execute_input": "2024-03-11T17:23:00.934478Z",
     "iopub.status.busy": "2024-03-11T17:23:00.933807Z",
     "iopub.status.idle": "2024-03-11T17:23:01.288296Z",
     "shell.execute_reply": "2024-03-11T17:23:01.287080Z"
    },
    "papermill": {
     "duration": 0.532484,
     "end_time": "2024-03-11T17:23:01.291162",
     "exception": false,
     "start_time": "2024-03-11T17:23:00.758678",
     "status": "completed"
    },
    "tags": []
   },
   "outputs": [],
   "source": [
    "loaded_model = rnn(vocab_size,max_len,weights,Y_shape)\n",
    "params=load_model(model_name,Embedding_name,Dataset)\n",
    "loaded_model.set_weights(params)"
   ]
  },
  {
   "cell_type": "markdown",
   "id": "c5574713",
   "metadata": {
    "papermill": {
     "duration": 0.175449,
     "end_time": "2024-03-11T17:23:01.641791",
     "exception": false,
     "start_time": "2024-03-11T17:23:01.466342",
     "status": "completed"
    },
    "tags": []
   },
   "source": [
    "Testing accuracy"
   ]
  },
  {
   "cell_type": "code",
   "execution_count": 27,
   "id": "3b6bf409",
   "metadata": {
    "execution": {
     "iopub.execute_input": "2024-03-11T17:23:01.991882Z",
     "iopub.status.busy": "2024-03-11T17:23:01.991440Z",
     "iopub.status.idle": "2024-03-11T17:23:03.403449Z",
     "shell.execute_reply": "2024-03-11T17:23:03.402450Z"
    },
    "papermill": {
     "duration": 1.5905,
     "end_time": "2024-03-11T17:23:03.405788",
     "exception": false,
     "start_time": "2024-03-11T17:23:01.815288",
     "status": "completed"
    },
    "tags": []
   },
   "outputs": [
    {
     "name": "stdout",
     "output_type": "stream",
     "text": [
      "30/30 [==============================] - 1s 8ms/step - loss: 0.3066 - acc: 0.9296 - precision_1: 0.9541 - recall_1: 0.8969\n",
      "0.92958003282547\n"
     ]
    }
   ],
   "source": [
    "accuracy = loaded_model.evaluate(X_test, Y_test, verbose = 1)\n",
    "print(accuracy[1])"
   ]
  },
  {
   "cell_type": "markdown",
   "id": "ff057eb7",
   "metadata": {
    "papermill": {
     "duration": 0.174358,
     "end_time": "2024-03-11T17:23:03.758352",
     "exception": false,
     "start_time": "2024-03-11T17:23:03.583994",
     "status": "completed"
    },
    "tags": []
   },
   "source": [
    "Testing F1 Score"
   ]
  },
  {
   "cell_type": "code",
   "execution_count": 28,
   "id": "238bfcaf",
   "metadata": {
    "execution": {
     "iopub.execute_input": "2024-03-11T17:23:04.117225Z",
     "iopub.status.busy": "2024-03-11T17:23:04.116507Z",
     "iopub.status.idle": "2024-03-11T17:23:08.937512Z",
     "shell.execute_reply": "2024-03-11T17:23:08.936323Z"
    },
    "papermill": {
     "duration": 5.001758,
     "end_time": "2024-03-11T17:23:08.940151",
     "exception": false,
     "start_time": "2024-03-11T17:23:03.938393",
     "status": "completed"
    },
    "tags": []
   },
   "outputs": [
    {
     "name": "stdout",
     "output_type": "stream",
     "text": [
      "30/30 [==============================] - 0s 8ms/step\n",
      "Test F1 Score: 0.23017192898728367\n"
     ]
    }
   ],
   "source": [
    "Y_pred = loaded_model.predict(X_test)\n",
    "real = get_real(Y_test)\n",
    "pred = get_pred(Y_pred)\n",
    "\n",
    "true_labels_flat = [label for sublist in real for label in sublist]\n",
    "predicted_labels_flat = [label for sublist in pred for label in sublist]\n",
    "\n",
    "# Compute F1 score\n",
    "f1 = f1_score(true_labels_flat, predicted_labels_flat, average='macro')\n",
    "\n",
    "print(\"Test F1 Score:\", f1)"
   ]
  },
  {
   "cell_type": "markdown",
   "id": "f7566ea0",
   "metadata": {
    "papermill": {
     "duration": 0.176465,
     "end_time": "2024-03-11T17:23:09.293437",
     "exception": false,
     "start_time": "2024-03-11T17:23:09.116972",
     "status": "completed"
    },
    "tags": []
   },
   "source": [
    "## GRU"
   ]
  },
  {
   "cell_type": "code",
   "execution_count": 29,
   "id": "93b51a25",
   "metadata": {
    "execution": {
     "iopub.execute_input": "2024-03-11T17:23:09.652115Z",
     "iopub.status.busy": "2024-03-11T17:23:09.649574Z",
     "iopub.status.idle": "2024-03-11T17:23:09.656177Z",
     "shell.execute_reply": "2024-03-11T17:23:09.655355Z"
    },
    "papermill": {
     "duration": 0.188284,
     "end_time": "2024-03-11T17:23:09.658558",
     "exception": false,
     "start_time": "2024-03-11T17:23:09.470274",
     "status": "completed"
    },
    "tags": []
   },
   "outputs": [],
   "source": [
    "model_name=\"GRU\""
   ]
  },
  {
   "cell_type": "markdown",
   "id": "78b025d8",
   "metadata": {
    "papermill": {
     "duration": 0.174544,
     "end_time": "2024-03-11T17:23:10.008717",
     "exception": false,
     "start_time": "2024-03-11T17:23:09.834173",
     "status": "completed"
    },
    "tags": []
   },
   "source": [
    "### Training"
   ]
  },
  {
   "cell_type": "code",
   "execution_count": 30,
   "id": "5df4d16b",
   "metadata": {
    "execution": {
     "iopub.execute_input": "2024-03-11T17:23:10.363734Z",
     "iopub.status.busy": "2024-03-11T17:23:10.362904Z",
     "iopub.status.idle": "2024-03-11T17:23:10.370501Z",
     "shell.execute_reply": "2024-03-11T17:23:10.369669Z"
    },
    "papermill": {
     "duration": 0.188074,
     "end_time": "2024-03-11T17:23:10.372895",
     "exception": false,
     "start_time": "2024-03-11T17:23:10.184821",
     "status": "completed"
    },
    "tags": []
   },
   "outputs": [],
   "source": [
    "def gru(vocab_size,max_len,weights,Y_train_shape):\n",
    "    gru_model = Sequential()\n",
    "    gru_model.add(Embedding(input_dim = vocab_size,output_dim = 300,input_length  = max_len,weights = [weights],trainable = False))\n",
    "    gru_model.add(GRU(64, return_sequences=True))\n",
    "    gru_model.add(TimeDistributed(Dense(Y_train_shape, activation='softmax')))\n",
    "    gru_model.compile(loss='categorical_crossentropy',optimizer='adam',metrics=['acc',Precision(),Recall()])\n",
    "    return gru_model"
   ]
  },
  {
   "cell_type": "markdown",
   "id": "45f5ee7e",
   "metadata": {
    "papermill": {
     "duration": 0.178226,
     "end_time": "2024-03-11T17:23:10.726576",
     "exception": false,
     "start_time": "2024-03-11T17:23:10.548350",
     "status": "completed"
    },
    "tags": []
   },
   "source": [
    "compiling "
   ]
  },
  {
   "cell_type": "code",
   "execution_count": 31,
   "id": "d1b62ade",
   "metadata": {
    "execution": {
     "iopub.execute_input": "2024-03-11T17:23:11.080897Z",
     "iopub.status.busy": "2024-03-11T17:23:11.080499Z",
     "iopub.status.idle": "2024-03-11T17:23:11.537393Z",
     "shell.execute_reply": "2024-03-11T17:23:11.536134Z"
    },
    "papermill": {
     "duration": 0.638222,
     "end_time": "2024-03-11T17:23:11.540590",
     "exception": false,
     "start_time": "2024-03-11T17:23:10.902368",
     "status": "completed"
    },
    "tags": []
   },
   "outputs": [],
   "source": [
    "gru_model=gru(vocab_size,max_len,weights,Y_shape)"
   ]
  },
  {
   "cell_type": "code",
   "execution_count": null,
   "id": "b412592a",
   "metadata": {
    "execution": {
     "iopub.execute_input": "2024-03-11T16:45:04.930253Z",
     "iopub.status.busy": "2024-03-11T16:45:04.929684Z",
     "iopub.status.idle": "2024-03-11T16:45:04.947151Z",
     "shell.execute_reply": "2024-03-11T16:45:04.944967Z",
     "shell.execute_reply.started": "2024-03-11T16:45:04.930217Z"
    },
    "papermill": {
     "duration": 0.175709,
     "end_time": "2024-03-11T17:23:11.893967",
     "exception": false,
     "start_time": "2024-03-11T17:23:11.718258",
     "status": "completed"
    },
    "tags": []
   },
   "outputs": [],
   "source": []
  },
  {
   "cell_type": "code",
   "execution_count": 32,
   "id": "9cfc27d7",
   "metadata": {
    "execution": {
     "iopub.execute_input": "2024-03-11T17:23:12.247574Z",
     "iopub.status.busy": "2024-03-11T17:23:12.247173Z",
     "iopub.status.idle": "2024-03-11T17:23:12.253083Z",
     "shell.execute_reply": "2024-03-11T17:23:12.251945Z"
    },
    "papermill": {
     "duration": 0.186259,
     "end_time": "2024-03-11T17:23:12.255570",
     "exception": false,
     "start_time": "2024-03-11T17:23:12.069311",
     "status": "completed"
    },
    "tags": []
   },
   "outputs": [],
   "source": [
    "gru_f1_callback = F1ScoreCallback(val_data=(X_val, Y_val),data=(X_train, Y_train))"
   ]
  },
  {
   "cell_type": "code",
   "execution_count": 33,
   "id": "a19a2185",
   "metadata": {
    "execution": {
     "iopub.execute_input": "2024-03-11T17:23:12.613388Z",
     "iopub.status.busy": "2024-03-11T17:23:12.612375Z",
     "iopub.status.idle": "2024-03-11T17:23:12.633972Z",
     "shell.execute_reply": "2024-03-11T17:23:12.632811Z"
    },
    "papermill": {
     "duration": 0.208068,
     "end_time": "2024-03-11T17:23:12.639839",
     "exception": false,
     "start_time": "2024-03-11T17:23:12.431771",
     "status": "completed"
    },
    "tags": []
   },
   "outputs": [
    {
     "name": "stdout",
     "output_type": "stream",
     "text": [
      "Model: \"sequential_2\"\n",
      "_________________________________________________________________\n",
      " Layer (type)                Output Shape              Param #   \n",
      "=================================================================\n",
      " embedding_2 (Embedding)     (None, 70, 300)           9066000   \n",
      "                                                                 \n",
      " gru (GRU)                   (None, 70, 64)            70272     \n",
      "                                                                 \n",
      " time_distributed_2 (TimeDi  (None, 70, 28)            1820      \n",
      " stributed)                                                      \n",
      "                                                                 \n",
      "=================================================================\n",
      "Total params: 9138092 (34.86 MB)\n",
      "Trainable params: 72092 (281.61 KB)\n",
      "Non-trainable params: 9066000 (34.58 MB)\n",
      "_________________________________________________________________\n"
     ]
    }
   ],
   "source": [
    "gru_model.summary()"
   ]
  },
  {
   "cell_type": "markdown",
   "id": "85109cb9",
   "metadata": {
    "papermill": {
     "duration": 0.177301,
     "end_time": "2024-03-11T17:23:12.993946",
     "exception": false,
     "start_time": "2024-03-11T17:23:12.816645",
     "status": "completed"
    },
    "tags": []
   },
   "source": [
    "Fitting GRU"
   ]
  },
  {
   "cell_type": "code",
   "execution_count": 34,
   "id": "24dbca62",
   "metadata": {
    "execution": {
     "iopub.execute_input": "2024-03-11T17:23:13.420060Z",
     "iopub.status.busy": "2024-03-11T17:23:13.419644Z",
     "iopub.status.idle": "2024-03-11T17:41:37.746976Z",
     "shell.execute_reply": "2024-03-11T17:41:37.745972Z"
    },
    "papermill": {
     "duration": 1104.577209,
     "end_time": "2024-03-11T17:41:37.749716",
     "exception": false,
     "start_time": "2024-03-11T17:23:13.172507",
     "status": "completed"
    },
    "tags": []
   },
   "outputs": [
    {
     "name": "stdout",
     "output_type": "stream",
     "text": [
      "Epoch 1/20\n",
      "45/45 [==============================] - 1s 18ms/step\n",
      "251/251 [==============================] - 4s 15ms/step\n",
      "Val F1 Score: 0.08084992151868857 - Train F1 Score: 0.08115896236750132\n",
      "63/63 [==============================] - 58s 901ms/step - loss: 1.8109 - acc: 0.7706 - precision_2: 0.8673 - recall_2: 0.3930 - val_loss: 0.6891 - val_acc: 0.8910 - val_precision_2: 0.9012 - val_recall_2: 0.8091\n",
      "Epoch 2/20\n",
      "45/45 [==============================] - 1s 15ms/step\n",
      "251/251 [==============================] - 4s 15ms/step\n",
      "Val F1 Score: 0.08681753468597989 - Train F1 Score: 0.08741037755394976\n",
      "63/63 [==============================] - 54s 874ms/step - loss: 0.5370 - acc: 0.9117 - precision_2: 0.9275 - recall_2: 0.8461 - val_loss: 0.4663 - val_acc: 0.9174 - val_precision_2: 0.9337 - val_recall_2: 0.8609\n",
      "Epoch 3/20\n",
      "45/45 [==============================] - 1s 15ms/step\n",
      "251/251 [==============================] - 4s 16ms/step\n",
      "Val F1 Score: 0.09241756292569171 - Train F1 Score: 0.09308701140389326\n",
      "63/63 [==============================] - 55s 881ms/step - loss: 0.4358 - acc: 0.9206 - precision_2: 0.9407 - recall_2: 0.8762 - val_loss: 0.4145 - val_acc: 0.9212 - val_precision_2: 0.9411 - val_recall_2: 0.8801\n",
      "Epoch 4/20\n",
      "45/45 [==============================] - 1s 16ms/step\n",
      "251/251 [==============================] - 4s 16ms/step\n",
      "Val F1 Score: 0.09857090932338233 - Train F1 Score: 0.09942199332088074\n",
      "63/63 [==============================] - 56s 899ms/step - loss: 0.3959 - acc: 0.9228 - precision_2: 0.9458 - recall_2: 0.8808 - val_loss: 0.3829 - val_acc: 0.9243 - val_precision_2: 0.9467 - val_recall_2: 0.8828\n",
      "Epoch 5/20\n",
      "45/45 [==============================] - 1s 15ms/step\n",
      "251/251 [==============================] - 4s 17ms/step\n",
      "Val F1 Score: 0.11055291880562286 - Train F1 Score: 0.11221207578126435\n",
      "63/63 [==============================] - 55s 886ms/step - loss: 0.3674 - acc: 0.9247 - precision_2: 0.9505 - recall_2: 0.8956 - val_loss: 0.3561 - val_acc: 0.9253 - val_precision_2: 0.9497 - val_recall_2: 0.8978\n",
      "Epoch 6/20\n",
      "45/45 [==============================] - 1s 15ms/step\n",
      "251/251 [==============================] - 4s 15ms/step\n",
      "Val F1 Score: 0.14103903327791806 - Train F1 Score: 0.1467717357030733\n",
      "63/63 [==============================] - 54s 871ms/step - loss: 0.3429 - acc: 0.9270 - precision_2: 0.9538 - recall_2: 0.8981 - val_loss: 0.3328 - val_acc: 0.9280 - val_precision_2: 0.9535 - val_recall_2: 0.8997\n",
      "Epoch 7/20\n",
      "45/45 [==============================] - 1s 15ms/step\n",
      "251/251 [==============================] - 4s 15ms/step\n",
      "Val F1 Score: 0.19451689996620974 - Train F1 Score: 0.19880010148319568\n",
      "63/63 [==============================] - 53s 854ms/step - loss: 0.3214 - acc: 0.9305 - precision_2: 0.9570 - recall_2: 0.8996 - val_loss: 0.3123 - val_acc: 0.9320 - val_precision_2: 0.9572 - val_recall_2: 0.9008\n",
      "Epoch 8/20\n",
      "45/45 [==============================] - 1s 15ms/step\n",
      "251/251 [==============================] - 4s 16ms/step\n",
      "Val F1 Score: 0.22946331485567667 - Train F1 Score: 0.2333718230822766\n",
      "63/63 [==============================] - 57s 914ms/step - loss: 0.3016 - acc: 0.9342 - precision_2: 0.9594 - recall_2: 0.9023 - val_loss: 0.2942 - val_acc: 0.9356 - val_precision_2: 0.9590 - val_recall_2: 0.9050\n",
      "Epoch 9/20\n",
      "45/45 [==============================] - 1s 16ms/step\n",
      "251/251 [==============================] - 4s 16ms/step\n",
      "Val F1 Score: 0.2483891932719021 - Train F1 Score: 0.251464459975806\n",
      "63/63 [==============================] - 55s 885ms/step - loss: 0.2848 - acc: 0.9367 - precision_2: 0.9606 - recall_2: 0.9056 - val_loss: 0.2790 - val_acc: 0.9372 - val_precision_2: 0.9582 - val_recall_2: 0.9087\n",
      "Epoch 10/20\n",
      "45/45 [==============================] - 1s 16ms/step\n",
      "251/251 [==============================] - 4s 16ms/step\n",
      "Val F1 Score: 0.27051732020033087 - Train F1 Score: 0.27442112523619966\n",
      "63/63 [==============================] - 57s 917ms/step - loss: 0.2697 - acc: 0.9389 - precision_2: 0.9615 - recall_2: 0.9086 - val_loss: 0.2645 - val_acc: 0.9400 - val_precision_2: 0.9604 - val_recall_2: 0.9103\n",
      "Epoch 11/20\n",
      "45/45 [==============================] - 1s 15ms/step\n",
      "251/251 [==============================] - 4s 15ms/step\n",
      "Val F1 Score: 0.28290830061758715 - Train F1 Score: 0.28884375939289625\n",
      "63/63 [==============================] - 55s 886ms/step - loss: 0.2568 - acc: 0.9410 - precision_2: 0.9626 - recall_2: 0.9108 - val_loss: 0.2531 - val_acc: 0.9413 - val_precision_2: 0.9606 - val_recall_2: 0.9134\n",
      "Epoch 12/20\n",
      "45/45 [==============================] - 1s 15ms/step\n",
      "251/251 [==============================] - 4s 15ms/step\n",
      "Val F1 Score: 0.3110357056089608 - Train F1 Score: 0.3156085901087751\n",
      "63/63 [==============================] - 56s 900ms/step - loss: 0.2463 - acc: 0.9427 - precision_2: 0.9639 - recall_2: 0.9200 - val_loss: 0.2435 - val_acc: 0.9435 - val_precision_2: 0.9627 - val_recall_2: 0.9290\n",
      "Epoch 13/20\n",
      "45/45 [==============================] - 1s 15ms/step\n",
      "251/251 [==============================] - 4s 17ms/step\n",
      "Val F1 Score: 0.3238359942080133 - Train F1 Score: 0.32858850279211893\n",
      "63/63 [==============================] - 56s 898ms/step - loss: 0.2371 - acc: 0.9444 - precision_2: 0.9648 - recall_2: 0.9294 - val_loss: 0.2365 - val_acc: 0.9452 - val_precision_2: 0.9627 - val_recall_2: 0.9323\n",
      "Epoch 14/20\n",
      "45/45 [==============================] - 1s 15ms/step\n",
      "251/251 [==============================] - 4s 16ms/step\n",
      "Val F1 Score: 0.3410885295238398 - Train F1 Score: 0.3427073591893134\n",
      "63/63 [==============================] - 54s 862ms/step - loss: 0.2289 - acc: 0.9461 - precision_2: 0.9655 - recall_2: 0.9318 - val_loss: 0.2285 - val_acc: 0.9466 - val_precision_2: 0.9637 - val_recall_2: 0.9338\n",
      "Epoch 15/20\n",
      "45/45 [==============================] - 1s 17ms/step\n",
      "251/251 [==============================] - 4s 16ms/step\n",
      "Val F1 Score: 0.3539346104483386 - Train F1 Score: 0.3575511948310578\n",
      "63/63 [==============================] - 55s 888ms/step - loss: 0.2219 - acc: 0.9473 - precision_2: 0.9663 - recall_2: 0.9335 - val_loss: 0.2222 - val_acc: 0.9482 - val_precision_2: 0.9655 - val_recall_2: 0.9348\n",
      "Epoch 16/20\n",
      "45/45 [==============================] - 1s 15ms/step\n",
      "251/251 [==============================] - 4s 15ms/step\n",
      "Val F1 Score: 0.35919689370142793 - Train F1 Score: 0.3641673915026961\n",
      "63/63 [==============================] - 54s 874ms/step - loss: 0.2156 - acc: 0.9486 - precision_2: 0.9666 - recall_2: 0.9353 - val_loss: 0.2183 - val_acc: 0.9483 - val_precision_2: 0.9642 - val_recall_2: 0.9371\n",
      "Epoch 17/20\n",
      "45/45 [==============================] - 1s 15ms/step\n",
      "251/251 [==============================] - 4s 15ms/step\n",
      "Val F1 Score: 0.37126172202986224 - Train F1 Score: 0.3762652151162219\n",
      "63/63 [==============================] - 55s 893ms/step - loss: 0.2103 - acc: 0.9496 - precision_2: 0.9672 - recall_2: 0.9368 - val_loss: 0.2129 - val_acc: 0.9498 - val_precision_2: 0.9657 - val_recall_2: 0.9376\n",
      "Epoch 18/20\n",
      "45/45 [==============================] - 1s 15ms/step\n",
      "251/251 [==============================] - 4s 15ms/step\n",
      "Val F1 Score: 0.3796070749203938 - Train F1 Score: 0.38839604538511047\n",
      "63/63 [==============================] - 54s 868ms/step - loss: 0.2053 - acc: 0.9506 - precision_2: 0.9676 - recall_2: 0.9381 - val_loss: 0.2090 - val_acc: 0.9507 - val_precision_2: 0.9667 - val_recall_2: 0.9384\n",
      "Epoch 19/20\n",
      "45/45 [==============================] - 1s 15ms/step\n",
      "251/251 [==============================] - 4s 15ms/step\n",
      "Val F1 Score: 0.38636416988143196 - Train F1 Score: 0.39540225486336295\n",
      "63/63 [==============================] - 54s 870ms/step - loss: 0.2011 - acc: 0.9516 - precision_2: 0.9680 - recall_2: 0.9395 - val_loss: 0.2060 - val_acc: 0.9512 - val_precision_2: 0.9668 - val_recall_2: 0.9392\n",
      "Epoch 20/20\n",
      "45/45 [==============================] - 1s 15ms/step\n",
      "251/251 [==============================] - 4s 16ms/step\n",
      "Val F1 Score: 0.3947027137533611 - Train F1 Score: 0.4051761248035162\n",
      "63/63 [==============================] - 56s 903ms/step - loss: 0.1975 - acc: 0.9521 - precision_2: 0.9681 - recall_2: 0.9403 - val_loss: 0.2024 - val_acc: 0.9521 - val_precision_2: 0.9674 - val_recall_2: 0.9403\n"
     ]
    }
   ],
   "source": [
    "gru_training = gru_model.fit(X_train, Y_train, batch_size=128, epochs=20, validation_data=(X_val, Y_val), callbacks=[gru_f1_callback])"
   ]
  },
  {
   "cell_type": "markdown",
   "id": "0f935d10",
   "metadata": {
    "papermill": {
     "duration": 0.452212,
     "end_time": "2024-03-11T17:41:38.656504",
     "exception": false,
     "start_time": "2024-03-11T17:41:38.204292",
     "status": "completed"
    },
    "tags": []
   },
   "source": [
    "Plotting Graph"
   ]
  },
  {
   "cell_type": "code",
   "execution_count": 35,
   "id": "f4d580ea",
   "metadata": {
    "execution": {
     "iopub.execute_input": "2024-03-11T17:41:39.564112Z",
     "iopub.status.busy": "2024-03-11T17:41:39.562770Z",
     "iopub.status.idle": "2024-03-11T17:41:40.380785Z",
     "shell.execute_reply": "2024-03-11T17:41:40.379808Z"
    },
    "papermill": {
     "duration": 1.274246,
     "end_time": "2024-03-11T17:41:40.383882",
     "exception": false,
     "start_time": "2024-03-11T17:41:39.109636",
     "status": "completed"
    },
    "tags": []
   },
   "outputs": [
    {
     "data": {
      "image/png": "[encoded data removed]",
      "text/plain": [
       "<Figure size 1600x500 with 2 Axes>"
      ]
     },
     "metadata": {},
     "output_type": "display_data"
    }
   ],
   "source": [
    "draw_loss_graph(gru_training,model_name, gru_f1_callback.train_f1_scores, gru_f1_callback.val_f1_scores)\n",
    "save_model(gru_model,model_name,Embedding_name,Dataset)"
   ]
  },
  {
   "cell_type": "markdown",
   "id": "9eaf7ed4",
   "metadata": {
    "papermill": {
     "duration": 0.45747,
     "end_time": "2024-03-11T17:41:41.372788",
     "exception": false,
     "start_time": "2024-03-11T17:41:40.915318",
     "status": "completed"
    },
    "tags": []
   },
   "source": [
    "### Testing"
   ]
  },
  {
   "cell_type": "code",
   "execution_count": 36,
   "id": "14299b3d",
   "metadata": {
    "execution": {
     "iopub.execute_input": "2024-03-11T17:41:42.285491Z",
     "iopub.status.busy": "2024-03-11T17:41:42.285018Z",
     "iopub.status.idle": "2024-03-11T17:41:42.837485Z",
     "shell.execute_reply": "2024-03-11T17:41:42.836456Z"
    },
    "papermill": {
     "duration": 1.013518,
     "end_time": "2024-03-11T17:41:42.840343",
     "exception": false,
     "start_time": "2024-03-11T17:41:41.826825",
     "status": "completed"
    },
    "tags": []
   },
   "outputs": [],
   "source": [
    "params = load_model(model_name,Embedding_name,Dataset)\n",
    "loaded_model=gru(vocab_size,max_len,weights,Y_shape)\n",
    "loaded_model.set_weights(params)"
   ]
  },
  {
   "cell_type": "markdown",
   "id": "183917d0",
   "metadata": {
    "papermill": {
     "duration": 0.454842,
     "end_time": "2024-03-11T17:41:43.751026",
     "exception": false,
     "start_time": "2024-03-11T17:41:43.296184",
     "status": "completed"
    },
    "tags": []
   },
   "source": [
    "Testing Accuracy"
   ]
  },
  {
   "cell_type": "code",
   "execution_count": 37,
   "id": "7eb9afd1",
   "metadata": {
    "execution": {
     "iopub.execute_input": "2024-03-11T17:41:44.757765Z",
     "iopub.status.busy": "2024-03-11T17:41:44.756664Z",
     "iopub.status.idle": "2024-03-11T17:41:46.419831Z",
     "shell.execute_reply": "2024-03-11T17:41:46.417791Z"
    },
    "papermill": {
     "duration": 2.215247,
     "end_time": "2024-03-11T17:41:46.422425",
     "exception": false,
     "start_time": "2024-03-11T17:41:44.207178",
     "status": "completed"
    },
    "tags": []
   },
   "outputs": [
    {
     "name": "stdout",
     "output_type": "stream",
     "text": [
      "30/30 [==============================] - 1s 16ms/step - loss: 0.2323 - acc: 0.9455 - precision_3: 0.9599 - recall_3: 0.9332\n",
      "0.9455215930938721\n"
     ]
    }
   ],
   "source": [
    "accuracy = loaded_model.evaluate(X_test, Y_test, verbose = 1)\n",
    "print(accuracy[1])"
   ]
  },
  {
   "cell_type": "markdown",
   "id": "a3d69068",
   "metadata": {
    "papermill": {
     "duration": 0.458752,
     "end_time": "2024-03-11T17:41:47.336429",
     "exception": false,
     "start_time": "2024-03-11T17:41:46.877677",
     "status": "completed"
    },
    "tags": []
   },
   "source": [
    "Testing F1 Score"
   ]
  },
  {
   "cell_type": "code",
   "execution_count": 38,
   "id": "19606acf",
   "metadata": {
    "execution": {
     "iopub.execute_input": "2024-03-11T17:41:48.245785Z",
     "iopub.status.busy": "2024-03-11T17:41:48.244898Z",
     "iopub.status.idle": "2024-03-11T17:41:53.606152Z",
     "shell.execute_reply": "2024-03-11T17:41:53.604953Z"
    },
    "papermill": {
     "duration": 5.818291,
     "end_time": "2024-03-11T17:41:53.608639",
     "exception": false,
     "start_time": "2024-03-11T17:41:47.790348",
     "status": "completed"
    },
    "tags": []
   },
   "outputs": [
    {
     "name": "stdout",
     "output_type": "stream",
     "text": [
      "30/30 [==============================] - 1s 15ms/step\n",
      "Test F1 Score: 0.38323361826543273\n"
     ]
    }
   ],
   "source": [
    "Y_pred = loaded_model.predict(X_test)\n",
    "real = get_real(Y_test)\n",
    "pred = get_pred(Y_pred)\n",
    "\n",
    "true_labels_flat = [label for sublist in real for label in sublist]\n",
    "predicted_labels_flat = [label for sublist in pred for label in sublist]\n",
    "\n",
    "# Compute F1 score\n",
    "f1 = f1_score(true_labels_flat, predicted_labels_flat, average='macro')\n",
    "\n",
    "print(\"Test F1 Score:\", f1)"
   ]
  },
  {
   "cell_type": "markdown",
   "id": "92370a01",
   "metadata": {
    "papermill": {
     "duration": 0.47359,
     "end_time": "2024-03-11T17:41:54.535837",
     "exception": false,
     "start_time": "2024-03-11T17:41:54.062247",
     "status": "completed"
    },
    "tags": []
   },
   "source": [
    "## LSTM"
   ]
  },
  {
   "cell_type": "code",
   "execution_count": 39,
   "id": "612c6271",
   "metadata": {
    "execution": {
     "iopub.execute_input": "2024-03-11T17:41:55.519618Z",
     "iopub.status.busy": "2024-03-11T17:41:55.518847Z",
     "iopub.status.idle": "2024-03-11T17:41:55.523152Z",
     "shell.execute_reply": "2024-03-11T17:41:55.522253Z"
    },
    "papermill": {
     "duration": 0.463685,
     "end_time": "2024-03-11T17:41:55.525146",
     "exception": false,
     "start_time": "2024-03-11T17:41:55.061461",
     "status": "completed"
    },
    "tags": []
   },
   "outputs": [],
   "source": [
    "model_name=\"LSTM\""
   ]
  },
  {
   "cell_type": "markdown",
   "id": "16f14dcc",
   "metadata": {
    "papermill": {
     "duration": 0.452235,
     "end_time": "2024-03-11T17:41:56.432774",
     "exception": false,
     "start_time": "2024-03-11T17:41:55.980539",
     "status": "completed"
    },
    "tags": []
   },
   "source": [
    "### Training"
   ]
  },
  {
   "cell_type": "code",
   "execution_count": 40,
   "id": "33c08dc9",
   "metadata": {
    "execution": {
     "iopub.execute_input": "2024-03-11T17:41:57.344588Z",
     "iopub.status.busy": "2024-03-11T17:41:57.343454Z",
     "iopub.status.idle": "2024-03-11T17:41:57.351645Z",
     "shell.execute_reply": "2024-03-11T17:41:57.350269Z"
    },
    "papermill": {
     "duration": 0.467491,
     "end_time": "2024-03-11T17:41:57.354219",
     "exception": false,
     "start_time": "2024-03-11T17:41:56.886728",
     "status": "completed"
    },
    "tags": []
   },
   "outputs": [],
   "source": [
    "def lstm(vocab_size,max_len,weights,Y_shape):\n",
    "    lstm_model = Sequential()\n",
    "    lstm_model.add(Embedding(input_dim = vocab_size,output_dim = 300,input_length  = max_len,weights = [weights],trainable = False))\n",
    "    lstm_model.add(LSTM(128, return_sequences=True))\n",
    "    lstm_model.add(TimeDistributed(Dense(Y_train.shape[2], activation='softmax')))# Lstm\n",
    "    lstm_model.compile(loss='categorical_crossentropy',optimizer='adam',metrics=['acc',Precision(),Recall()])    \n",
    "    return lstm_model"
   ]
  },
  {
   "cell_type": "markdown",
   "id": "b6a985b4",
   "metadata": {
    "papermill": {
     "duration": 0.526746,
     "end_time": "2024-03-11T17:41:58.338716",
     "exception": false,
     "start_time": "2024-03-11T17:41:57.811970",
     "status": "completed"
    },
    "tags": []
   },
   "source": [
    "Compiling LSTM"
   ]
  },
  {
   "cell_type": "code",
   "execution_count": 41,
   "id": "9b07039f",
   "metadata": {
    "execution": {
     "iopub.execute_input": "2024-03-11T17:41:59.246264Z",
     "iopub.status.busy": "2024-03-11T17:41:59.245850Z",
     "iopub.status.idle": "2024-03-11T17:41:59.755921Z",
     "shell.execute_reply": "2024-03-11T17:41:59.754599Z"
    },
    "papermill": {
     "duration": 0.967643,
     "end_time": "2024-03-11T17:41:59.758749",
     "exception": false,
     "start_time": "2024-03-11T17:41:58.791106",
     "status": "completed"
    },
    "tags": []
   },
   "outputs": [],
   "source": [
    "lstm_model=lstm(vocab_size,max_len,weights,Y_shape)"
   ]
  },
  {
   "cell_type": "code",
   "execution_count": null,
   "id": "2f1420c2",
   "metadata": {
    "papermill": {
     "duration": 0.451493,
     "end_time": "2024-03-11T17:42:00.665984",
     "exception": false,
     "start_time": "2024-03-11T17:42:00.214491",
     "status": "completed"
    },
    "tags": []
   },
   "outputs": [],
   "source": []
  },
  {
   "cell_type": "code",
   "execution_count": 42,
   "id": "491a0405",
   "metadata": {
    "execution": {
     "iopub.execute_input": "2024-03-11T17:42:01.649507Z",
     "iopub.status.busy": "2024-03-11T17:42:01.649109Z",
     "iopub.status.idle": "2024-03-11T17:42:01.654012Z",
     "shell.execute_reply": "2024-03-11T17:42:01.652886Z"
    },
    "papermill": {
     "duration": 0.537029,
     "end_time": "2024-03-11T17:42:01.656431",
     "exception": false,
     "start_time": "2024-03-11T17:42:01.119402",
     "status": "completed"
    },
    "tags": []
   },
   "outputs": [],
   "source": [
    "LSTM_f1_callback=F1ScoreCallback(val_data=(X_val, Y_val),data=(X_train, Y_train))"
   ]
  },
  {
   "cell_type": "code",
   "execution_count": 43,
   "id": "d8d1df78",
   "metadata": {
    "execution": {
     "iopub.execute_input": "2024-03-11T17:42:02.567158Z",
     "iopub.status.busy": "2024-03-11T17:42:02.566350Z",
     "iopub.status.idle": "2024-03-11T17:42:02.591757Z",
     "shell.execute_reply": "2024-03-11T17:42:02.590747Z"
    },
    "papermill": {
     "duration": 0.487303,
     "end_time": "2024-03-11T17:42:02.595445",
     "exception": false,
     "start_time": "2024-03-11T17:42:02.108142",
     "status": "completed"
    },
    "tags": []
   },
   "outputs": [
    {
     "name": "stdout",
     "output_type": "stream",
     "text": [
      "Model: \"sequential_4\"\n",
      "_________________________________________________________________\n",
      " Layer (type)                Output Shape              Param #   \n",
      "=================================================================\n",
      " embedding_4 (Embedding)     (None, 70, 300)           9066000   \n",
      "                                                                 \n",
      " lstm (LSTM)                 (None, 70, 128)           219648    \n",
      "                                                                 \n",
      " time_distributed_4 (TimeDi  (None, 70, 28)            3612      \n",
      " stributed)                                                      \n",
      "                                                                 \n",
      "=================================================================\n",
      "Total params: 9289260 (35.44 MB)\n",
      "Trainable params: 223260 (872.11 KB)\n",
      "Non-trainable params: 9066000 (34.58 MB)\n",
      "_________________________________________________________________\n"
     ]
    }
   ],
   "source": [
    "lstm_model.summary()"
   ]
  },
  {
   "cell_type": "markdown",
   "id": "912e4b3d",
   "metadata": {
    "papermill": {
     "duration": 0.453991,
     "end_time": "2024-03-11T17:42:03.505504",
     "exception": false,
     "start_time": "2024-03-11T17:42:03.051513",
     "status": "completed"
    },
    "tags": []
   },
   "source": [
    "Fitting LSTM"
   ]
  },
  {
   "cell_type": "code",
   "execution_count": 44,
   "id": "da949699",
   "metadata": {
    "execution": {
     "iopub.execute_input": "2024-03-11T17:42:04.421966Z",
     "iopub.status.busy": "2024-03-11T17:42:04.421382Z",
     "iopub.status.idle": "2024-03-11T18:04:28.743067Z",
     "shell.execute_reply": "2024-03-11T18:04:28.741310Z"
    },
    "papermill": {
     "duration": 1344.785915,
     "end_time": "2024-03-11T18:04:28.746288",
     "exception": false,
     "start_time": "2024-03-11T17:42:03.960373",
     "status": "completed"
    },
    "tags": []
   },
   "outputs": [
    {
     "name": "stdout",
     "output_type": "stream",
     "text": [
      "Epoch 1/20\n",
      "45/45 [==============================] - 2s 33ms/step\n",
      "251/251 [==============================] - 9s 35ms/step\n",
      "Val F1 Score: 0.0726013715713636 - Train F1 Score: 0.07279802018066663\n",
      "63/63 [==============================] - 68s 1s/step - loss: 1.4360 - acc: 0.7536 - precision_4: 0.8422 - recall_4: 0.5382 - val_loss: 0.6717 - val_acc: 0.9062 - val_precision_4: 0.9098 - val_recall_4: 0.8297\n",
      "Epoch 2/20\n",
      "45/45 [==============================] - 2s 34ms/step\n",
      "251/251 [==============================] - 9s 35ms/step\n",
      "Val F1 Score: 0.08770901370229647 - Train F1 Score: 0.08739297722160101\n",
      "63/63 [==============================] - 65s 1s/step - loss: 0.5734 - acc: 0.9099 - precision_4: 0.9190 - recall_4: 0.8379 - val_loss: 0.5131 - val_acc: 0.9150 - val_precision_4: 0.9264 - val_recall_4: 0.8466\n",
      "Epoch 3/20\n",
      "45/45 [==============================] - 2s 37ms/step\n",
      "251/251 [==============================] - 9s 35ms/step\n",
      "Val F1 Score: 0.0955478043647695 - Train F1 Score: 0.09534059279783894\n",
      "63/63 [==============================] - 67s 1s/step - loss: 0.4760 - acc: 0.9199 - precision_4: 0.9378 - recall_4: 0.8617 - val_loss: 0.4448 - val_acc: 0.9218 - val_precision_4: 0.9405 - val_recall_4: 0.8677\n",
      "Epoch 4/20\n",
      "45/45 [==============================] - 2s 35ms/step\n",
      "251/251 [==============================] - 9s 36ms/step\n",
      "Val F1 Score: 0.10938922092367741 - Train F1 Score: 0.1110456956406001\n",
      "63/63 [==============================] - 67s 1s/step - loss: 0.4194 - acc: 0.9240 - precision_4: 0.9456 - recall_4: 0.8721 - val_loss: 0.3978 - val_acc: 0.9258 - val_precision_4: 0.9448 - val_recall_4: 0.8871\n",
      "Epoch 5/20\n",
      "45/45 [==============================] - 2s 35ms/step\n",
      "251/251 [==============================] - 9s 35ms/step\n",
      "Val F1 Score: 0.12818065773064635 - Train F1 Score: 0.13391636220906505\n",
      "63/63 [==============================] - 67s 1s/step - loss: 0.3772 - acc: 0.9272 - precision_4: 0.9512 - recall_4: 0.8856 - val_loss: 0.3614 - val_acc: 0.9278 - val_precision_4: 0.9481 - val_recall_4: 0.8894\n",
      "Epoch 6/20\n",
      "45/45 [==============================] - 2s 33ms/step\n",
      "251/251 [==============================] - 9s 34ms/step\n",
      "Val F1 Score: 0.18274982282203447 - Train F1 Score: 0.18626362961137474\n",
      "63/63 [==============================] - 65s 1s/step - loss: 0.3426 - acc: 0.9307 - precision_4: 0.9551 - recall_4: 0.8876 - val_loss: 0.3290 - val_acc: 0.9325 - val_precision_4: 0.9524 - val_recall_4: 0.8913\n",
      "Epoch 7/20\n",
      "45/45 [==============================] - 2s 34ms/step\n",
      "251/251 [==============================] - 8s 34ms/step\n",
      "Val F1 Score: 0.22863793865401588 - Train F1 Score: 0.23459659132224056\n",
      "63/63 [==============================] - 66s 1s/step - loss: 0.3159 - acc: 0.9345 - precision_4: 0.9578 - recall_4: 0.8904 - val_loss: 0.3049 - val_acc: 0.9363 - val_precision_4: 0.9577 - val_recall_4: 0.8930\n",
      "Epoch 8/20\n",
      "45/45 [==============================] - 2s 33ms/step\n",
      "251/251 [==============================] - 9s 34ms/step\n",
      "Val F1 Score: 0.2551521548350541 - Train F1 Score: 0.2640574984948116\n",
      "63/63 [==============================] - 66s 1s/step - loss: 0.2949 - acc: 0.9376 - precision_4: 0.9595 - recall_4: 0.8991 - val_loss: 0.2873 - val_acc: 0.9392 - val_precision_4: 0.9605 - val_recall_4: 0.9099\n",
      "Epoch 9/20\n",
      "45/45 [==============================] - 2s 34ms/step\n",
      "251/251 [==============================] - 9s 35ms/step\n",
      "Val F1 Score: 0.27163584407021857 - Train F1 Score: 0.2798480180416465\n",
      "63/63 [==============================] - 67s 1s/step - loss: 0.2785 - acc: 0.9399 - precision_4: 0.9612 - recall_4: 0.9104 - val_loss: 0.2719 - val_acc: 0.9403 - val_precision_4: 0.9589 - val_recall_4: 0.9135\n",
      "Epoch 10/20\n",
      "45/45 [==============================] - 2s 41ms/step\n",
      "251/251 [==============================] - 10s 42ms/step\n",
      "Val F1 Score: 0.30400667996880376 - Train F1 Score: 0.30975320118013006\n",
      "63/63 [==============================] - 79s 1s/step - loss: 0.2636 - acc: 0.9421 - precision_4: 0.9622 - recall_4: 0.9132 - val_loss: 0.2597 - val_acc: 0.9434 - val_precision_4: 0.9617 - val_recall_4: 0.9155\n",
      "Epoch 11/20\n",
      "45/45 [==============================] - 2s 34ms/step\n",
      "251/251 [==============================] - 8s 33ms/step\n",
      "Val F1 Score: 0.31695822652006045 - Train F1 Score: 0.319734970124577\n",
      "63/63 [==============================] - 65s 1s/step - loss: 0.2516 - acc: 0.9440 - precision_4: 0.9632 - recall_4: 0.9156 - val_loss: 0.2505 - val_acc: 0.9444 - val_precision_4: 0.9618 - val_recall_4: 0.9177\n",
      "Epoch 12/20\n",
      "45/45 [==============================] - 2s 35ms/step\n",
      "251/251 [==============================] - 9s 35ms/step\n",
      "Val F1 Score: 0.3337378407154289 - Train F1 Score: 0.33690342898161163\n",
      "63/63 [==============================] - 67s 1s/step - loss: 0.2430 - acc: 0.9453 - precision_4: 0.9639 - recall_4: 0.9171 - val_loss: 0.2418 - val_acc: 0.9458 - val_precision_4: 0.9619 - val_recall_4: 0.9195\n",
      "Epoch 13/20\n",
      "45/45 [==============================] - 2s 35ms/step\n",
      "251/251 [==============================] - 9s 35ms/step\n",
      "Val F1 Score: 0.34302021630319474 - Train F1 Score: 0.34869852294891274\n",
      "63/63 [==============================] - 66s 1s/step - loss: 0.2352 - acc: 0.9467 - precision_4: 0.9643 - recall_4: 0.9188 - val_loss: 0.2342 - val_acc: 0.9474 - val_precision_4: 0.9619 - val_recall_4: 0.9220\n",
      "Epoch 14/20\n",
      "45/45 [==============================] - 2s 36ms/step\n",
      "251/251 [==============================] - 9s 35ms/step\n",
      "Val F1 Score: 0.3442343041980844 - Train F1 Score: 0.35192818723007246\n",
      "63/63 [==============================] - 67s 1s/step - loss: 0.2273 - acc: 0.9482 - precision_4: 0.9649 - recall_4: 0.9207 - val_loss: 0.2308 - val_acc: 0.9472 - val_precision_4: 0.9620 - val_recall_4: 0.9219\n",
      "Epoch 15/20\n",
      "45/45 [==============================] - 1s 33ms/step\n",
      "251/251 [==============================] - 8s 33ms/step\n",
      "Val F1 Score: 0.35929126267688033 - Train F1 Score: 0.3689944565347806\n",
      "63/63 [==============================] - 65s 1s/step - loss: 0.2212 - acc: 0.9490 - precision_4: 0.9654 - recall_4: 0.9219 - val_loss: 0.2243 - val_acc: 0.9484 - val_precision_4: 0.9632 - val_recall_4: 0.9233\n",
      "Epoch 16/20\n",
      "45/45 [==============================] - 2s 33ms/step\n",
      "251/251 [==============================] - 9s 34ms/step\n",
      "Val F1 Score: 0.3641850201679336 - Train F1 Score: 0.37562732012021993\n",
      "63/63 [==============================] - 67s 1s/step - loss: 0.2159 - acc: 0.9499 - precision_4: 0.9659 - recall_4: 0.9231 - val_loss: 0.2169 - val_acc: 0.9494 - val_precision_4: 0.9629 - val_recall_4: 0.9249\n",
      "Epoch 17/20\n",
      "45/45 [==============================] - 2s 33ms/step\n",
      "251/251 [==============================] - 9s 35ms/step\n",
      "Val F1 Score: 0.3737833785122892 - Train F1 Score: 0.38680537000165466\n",
      "63/63 [==============================] - 67s 1s/step - loss: 0.2094 - acc: 0.9509 - precision_4: 0.9664 - recall_4: 0.9244 - val_loss: 0.2156 - val_acc: 0.9489 - val_precision_4: 0.9634 - val_recall_4: 0.9238\n",
      "Epoch 18/20\n",
      "45/45 [==============================] - 2s 35ms/step\n",
      "251/251 [==============================] - 9s 35ms/step\n",
      "Val F1 Score: 0.38251363839327585 - Train F1 Score: 0.3968454887294994\n",
      "63/63 [==============================] - 66s 1s/step - loss: 0.2048 - acc: 0.9514 - precision_4: 0.9667 - recall_4: 0.9254 - val_loss: 0.2091 - val_acc: 0.9507 - val_precision_4: 0.9646 - val_recall_4: 0.9259\n",
      "Epoch 19/20\n",
      "45/45 [==============================] - 2s 33ms/step\n",
      "251/251 [==============================] - 9s 35ms/step\n",
      "Val F1 Score: 0.39694692178101615 - Train F1 Score: 0.41393572950546476\n",
      "63/63 [==============================] - 66s 1s/step - loss: 0.2004 - acc: 0.9523 - precision_4: 0.9670 - recall_4: 0.9264 - val_loss: 0.2064 - val_acc: 0.9510 - val_precision_4: 0.9663 - val_recall_4: 0.9244\n",
      "Epoch 20/20\n",
      "45/45 [==============================] - 2s 34ms/step\n",
      "251/251 [==============================] - 9s 35ms/step\n",
      "Val F1 Score: 0.39471367354594367 - Train F1 Score: 0.4115368560424928\n",
      "63/63 [==============================] - 67s 1s/step - loss: 0.1964 - acc: 0.9526 - precision_4: 0.9675 - recall_4: 0.9374 - val_loss: 0.2014 - val_acc: 0.9519 - val_precision_4: 0.9663 - val_recall_4: 0.9406\n"
     ]
    }
   ],
   "source": [
    "lstm_training = lstm_model.fit(X_train, Y_train, batch_size=128, epochs=20, validation_data=(X_val, Y_val), callbacks=[LSTM_f1_callback])"
   ]
  },
  {
   "cell_type": "markdown",
   "id": "26ace79a",
   "metadata": {
    "papermill": {
     "duration": 0.954482,
     "end_time": "2024-03-11T18:04:30.576256",
     "exception": false,
     "start_time": "2024-03-11T18:04:29.621774",
     "status": "completed"
    },
    "tags": []
   },
   "source": [
    "Plotting Graph"
   ]
  },
  {
   "cell_type": "code",
   "execution_count": 45,
   "id": "8eed8614",
   "metadata": {
    "execution": {
     "iopub.execute_input": "2024-03-11T18:04:32.316184Z",
     "iopub.status.busy": "2024-03-11T18:04:32.315405Z",
     "iopub.status.idle": "2024-03-11T18:04:33.239347Z",
     "shell.execute_reply": "2024-03-11T18:04:33.238114Z"
    },
    "papermill": {
     "duration": 1.802716,
     "end_time": "2024-03-11T18:04:33.242116",
     "exception": false,
     "start_time": "2024-03-11T18:04:31.439400",
     "status": "completed"
    },
    "tags": []
   },
   "outputs": [
    {
     "data": {
      "image/png": "[encoded data removed]",
      "text/plain": [
       "<Figure size 1600x500 with 2 Axes>"
      ]
     },
     "metadata": {},
     "output_type": "display_data"
    }
   ],
   "source": [
    "draw_loss_graph(lstm_training, \"LSTM Model\", LSTM_f1_callback.train_f1_scores, LSTM_f1_callback.val_f1_scores)\n",
    "save_model(lstm_model, model_name, Embedding_name, Dataset)\n",
    "# loaded_model = load_model(model_name,Embedding_name,Dataset)"
   ]
  },
  {
   "cell_type": "markdown",
   "id": "fd82b141",
   "metadata": {
    "papermill": {
     "duration": 0.965753,
     "end_time": "2024-03-11T18:04:35.082137",
     "exception": false,
     "start_time": "2024-03-11T18:04:34.116384",
     "status": "completed"
    },
    "tags": []
   },
   "source": [
    "### Testing"
   ]
  },
  {
   "cell_type": "code",
   "execution_count": 46,
   "id": "36b65b35",
   "metadata": {
    "execution": {
     "iopub.execute_input": "2024-03-11T18:04:36.817766Z",
     "iopub.status.busy": "2024-03-11T18:04:36.816986Z",
     "iopub.status.idle": "2024-03-11T18:04:37.458432Z",
     "shell.execute_reply": "2024-03-11T18:04:37.456880Z"
    },
    "papermill": {
     "duration": 1.51407,
     "end_time": "2024-03-11T18:04:37.461301",
     "exception": false,
     "start_time": "2024-03-11T18:04:35.947231",
     "status": "completed"
    },
    "tags": []
   },
   "outputs": [],
   "source": [
    "params = load_model(model_name,Embedding_name,Dataset)\n",
    "loaded_model=lstm(vocab_size,max_len,weights,Y_shape)\n",
    "loaded_model.set_weights(params)"
   ]
  },
  {
   "cell_type": "markdown",
   "id": "fb612284",
   "metadata": {
    "papermill": {
     "duration": 0.932959,
     "end_time": "2024-03-11T18:04:39.330780",
     "exception": false,
     "start_time": "2024-03-11T18:04:38.397821",
     "status": "completed"
    },
    "tags": []
   },
   "source": [
    "Testing accuracy"
   ]
  },
  {
   "cell_type": "code",
   "execution_count": 47,
   "id": "146d31e7",
   "metadata": {
    "execution": {
     "iopub.execute_input": "2024-03-11T18:04:41.159601Z",
     "iopub.status.busy": "2024-03-11T18:04:41.159208Z",
     "iopub.status.idle": "2024-03-11T18:04:43.551134Z",
     "shell.execute_reply": "2024-03-11T18:04:43.549743Z"
    },
    "papermill": {
     "duration": 3.343613,
     "end_time": "2024-03-11T18:04:43.553927",
     "exception": false,
     "start_time": "2024-03-11T18:04:40.210314",
     "status": "completed"
    },
    "tags": []
   },
   "outputs": [
    {
     "name": "stdout",
     "output_type": "stream",
     "text": [
      "30/30 [==============================] - 2s 35ms/step - loss: 0.2298 - acc: 0.9454 - precision_5: 0.9591 - recall_5: 0.9344\n",
      "0.9454011917114258\n"
     ]
    }
   ],
   "source": [
    "accuracy = loaded_model.evaluate(X_test, Y_test, verbose = 1)\n",
    "print(accuracy[1])"
   ]
  },
  {
   "cell_type": "markdown",
   "id": "08d6772f",
   "metadata": {
    "papermill": {
     "duration": 0.880344,
     "end_time": "2024-03-11T18:04:45.316528",
     "exception": false,
     "start_time": "2024-03-11T18:04:44.436184",
     "status": "completed"
    },
    "tags": []
   },
   "source": [
    "Testing F1 Score"
   ]
  },
  {
   "cell_type": "code",
   "execution_count": 48,
   "id": "90ae87d4",
   "metadata": {
    "execution": {
     "iopub.execute_input": "2024-03-11T18:04:47.135473Z",
     "iopub.status.busy": "2024-03-11T18:04:47.134233Z",
     "iopub.status.idle": "2024-03-11T18:04:53.925886Z",
     "shell.execute_reply": "2024-03-11T18:04:53.924462Z"
    },
    "papermill": {
     "duration": 7.662466,
     "end_time": "2024-03-11T18:04:53.928916",
     "exception": false,
     "start_time": "2024-03-11T18:04:46.266450",
     "status": "completed"
    },
    "tags": []
   },
   "outputs": [
    {
     "name": "stdout",
     "output_type": "stream",
     "text": [
      "30/30 [==============================] - 2s 35ms/step\n",
      "Test F1 Score: 0.38336041435071305\n"
     ]
    }
   ],
   "source": [
    "Y_pred = loaded_model.predict(X_test)\n",
    "real = get_real(Y_test)\n",
    "pred = get_pred(Y_pred)\n",
    "\n",
    "true_labels_flat = [label for sublist in real for label in sublist]\n",
    "predicted_labels_flat = [label for sublist in pred for label in sublist]\n",
    "\n",
    "# Compute F1 score\n",
    "f1 = f1_score(true_labels_flat, predicted_labels_flat, average='macro')\n",
    "\n",
    "print(\"Test F1 Score:\", f1)"
   ]
  }
 ],
 "metadata": {
  "kaggle": {
   "accelerator": "none",
   "dataSources": [
    {
     "datasetId": 4563561,
     "sourceId": 7809954,
     "sourceType": "datasetVersion"
    },
    {
     "datasetId": 4574147,
     "sourceId": 7817231,
     "sourceType": "datasetVersion"
    }
   ],
   "dockerImageVersionId": 30664,
   "isGpuEnabled": false,
   "isInternetEnabled": true,
   "language": "python",
   "sourceType": "notebook"
  },
  "kernelspec": {
   "display_name": "Python 3",
   "language": "python",
   "name": "python3"
  },
  "language_info": {
   "codemirror_mode": {
    "name": "ipython",
    "version": 3
   },
   "file_extension": ".py",
   "mimetype": "text/x-python",
   "name": "python",
   "nbconvert_exporter": "python",
   "pygments_lexer": "ipython3",
   "version": "3.10.13"
  },
  "papermill": {
   "default_parameters": {},
   "duration": 4281.012592,
   "end_time": "2024-03-11T18:04:57.554119",
   "environment_variables": {},
   "exception": null,
   "input_path": "__notebook__.ipynb",
   "output_path": "__notebook__.ipynb",
   "parameters": {},
   "start_time": "2024-03-11T16:53:36.541527",
   "version": "2.5.0"
  }
 },
 "nbformat": 4,
 "nbformat_minor": 5
}
