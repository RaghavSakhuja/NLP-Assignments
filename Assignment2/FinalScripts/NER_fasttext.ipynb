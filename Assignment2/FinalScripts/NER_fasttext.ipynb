{
 "cells": [
  {
   "cell_type": "code",
   "execution_count": 1,
   "id": "8f838c55",
   "metadata": {
    "execution": {
     "iopub.execute_input": "2024-03-10T12:41:38.902844Z",
     "iopub.status.busy": "2024-03-10T12:41:38.902451Z",
     "iopub.status.idle": "2024-03-10T12:41:57.728968Z",
     "shell.execute_reply": "2024-03-10T12:41:57.727939Z"
    },
    "papermill": {
     "duration": 18.85676,
     "end_time": "2024-03-10T12:41:57.731797",
     "exception": false,
     "start_time": "2024-03-10T12:41:38.875037",
     "status": "completed"
    },
    "tags": []
   },
   "outputs": [
    {
     "name": "stdout",
     "output_type": "stream",
     "text": [
      "Collecting keras==2.15.0\r\n",
      "  Downloading keras-2.15.0-py3-none-any.whl.metadata (2.4 kB)\r\n",
      "Downloading keras-2.15.0-py3-none-any.whl (1.7 MB)\r\n",
      "\u001b[2K   \u001b[90m━━━━━━━━━━━━━━━━━━━━━━━━━━━━━━━━━━━━━━━━\u001b[0m \u001b[32m1.7/1.7 MB\u001b[0m \u001b[31m15.4 MB/s\u001b[0m eta \u001b[36m0:00:00\u001b[0m\r\n",
      "\u001b[?25hInstalling collected packages: keras\r\n",
      "  Attempting uninstall: keras\r\n",
      "    Found existing installation: keras 3.0.5\r\n",
      "    Uninstalling keras-3.0.5:\r\n",
      "      Successfully uninstalled keras-3.0.5\r\n",
      "\u001b[31mERROR: pip's dependency resolver does not currently take into account all the packages that are installed. This behaviour is the source of the following dependency conflicts.\r\n",
      "tensorflow-decision-forests 1.8.1 requires wurlitzer, which is not installed.\u001b[0m\u001b[31m\r\n",
      "\u001b[0mSuccessfully installed keras-2.15.0\r\n"
     ]
    }
   ],
   "source": [
    "!pip install keras==2.15.0"
   ]
  },
  {
   "cell_type": "markdown",
   "id": "221c6213",
   "metadata": {
    "papermill": {
     "duration": 0.025379,
     "end_time": "2024-03-10T12:41:57.781583",
     "exception": false,
     "start_time": "2024-03-10T12:41:57.756204",
     "status": "completed"
    },
    "tags": []
   },
   "source": [
    "# Run"
   ]
  },
  {
   "cell_type": "code",
   "execution_count": 2,
   "id": "aa157656",
   "metadata": {
    "execution": {
     "iopub.execute_input": "2024-03-10T12:41:57.833027Z",
     "iopub.status.busy": "2024-03-10T12:41:57.832628Z",
     "iopub.status.idle": "2024-03-10T12:42:34.949694Z",
     "shell.execute_reply": "2024-03-10T12:42:34.948597Z"
    },
    "papermill": {
     "duration": 37.146996,
     "end_time": "2024-03-10T12:42:34.952532",
     "exception": false,
     "start_time": "2024-03-10T12:41:57.805536",
     "status": "completed"
    },
    "tags": []
   },
   "outputs": [
    {
     "name": "stderr",
     "output_type": "stream",
     "text": [
      "2024-03-10 12:41:59.845281: E external/local_xla/xla/stream_executor/cuda/cuda_dnn.cc:9261] Unable to register cuDNN factory: Attempting to register factory for plugin cuDNN when one has already been registered\n",
      "2024-03-10 12:41:59.845427: E external/local_xla/xla/stream_executor/cuda/cuda_fft.cc:607] Unable to register cuFFT factory: Attempting to register factory for plugin cuFFT when one has already been registered\n",
      "2024-03-10 12:41:59.996383: E external/local_xla/xla/stream_executor/cuda/cuda_blas.cc:1515] Unable to register cuBLAS factory: Attempting to register factory for plugin cuBLAS when one has already been registered\n"
     ]
    }
   ],
   "source": [
    "import pickle\n",
    "import numpy as np\n",
    "import tensorflow as tf\n",
    "import json\n",
    "import matplotlib.pyplot as plt\n",
    "\n",
    "import fasttext\n",
    "import fasttext.util\n",
    "from keras.models import Model\n",
    "from keras.layers import Dropout,Input\n",
    "# from tensorflow_addons.layers import CRF\n",
    "from keras.layers import Dense\n",
    "from keras.layers import Embedding\n",
    "from keras.models import Sequential\n",
    "from keras.callbacks import Callback\n",
    "from keras.preprocessing.text import *\n",
    "from keras.utils import to_categorical\n",
    "from gensim.models import KeyedVectors\n",
    "from keras.layers import GRU, SimpleRNN, LSTM, Bidirectional\n",
    "from keras.layers import TimeDistributed\n",
    "from keras.metrics import F1Score, Precision, Recall\n",
    "from keras.preprocessing.sequence import pad_sequences\n",
    "from sklearn.metrics import f1_score\n",
    "from tensorflow.keras.optimizers import AdamW\n",
    "# from tensorflow_addons.losses import SigmoidFocalCrossEntropy\n",
    "from sklearn.model_selection import GridSearchCV\n",
    "# from kerastuner.tuners import RandomSearch\n",
    "# from kerastuner.engine.hyperparameters import HyperParameters\n",
    "from tensorflow.keras.optimizers import AdamW, Adam, RMSprop, SGD"
   ]
  },
  {
   "cell_type": "code",
   "execution_count": 3,
   "id": "1eaa686c",
   "metadata": {
    "execution": {
     "iopub.execute_input": "2024-03-10T12:42:35.003272Z",
     "iopub.status.busy": "2024-03-10T12:42:35.002521Z",
     "iopub.status.idle": "2024-03-10T12:42:35.024815Z",
     "shell.execute_reply": "2024-03-10T12:42:35.024050Z"
    },
    "papermill": {
     "duration": 0.050705,
     "end_time": "2024-03-10T12:42:35.027438",
     "exception": false,
     "start_time": "2024-03-10T12:42:34.976733",
     "status": "completed"
    },
    "tags": []
   },
   "outputs": [
    {
     "name": "stdout",
     "output_type": "stream",
     "text": [
      "/kaggle/input/nernlp3/WordEmbeddings/glove.840B.300d.pkl\n",
      "/kaggle/input/nernlp3/WordEmbeddings/Word2vec.bin\n",
      "/kaggle/input/nernlp3/WordEmbeddings/cc.en.300.bin\n",
      "/kaggle/input/nernlp3/Data/check.py\n",
      "/kaggle/input/nernlp3/Data/NER_TRAIN_JUDGEMENT.json\n",
      "/kaggle/input/nernlp3/Data/Laptop_Review_Val.json\n",
      "/kaggle/input/nernlp3/Data/bio.ipynb\n",
      "/kaggle/input/nernlp3/Data/Laptop_Review_Train.json\n",
      "/kaggle/input/nernlp3/Data/bio1.py\n",
      "/kaggle/input/nernlp3/Data/NER_TEST_JUDGEMENT.json\n",
      "/kaggle/input/nernlp3/Data/Laptop_Review_Test.json\n",
      "/kaggle/input/nernlp3/Data/processed/NER_test.json\n",
      "/kaggle/input/nernlp3/Data/processed/ATE_test.json\n",
      "/kaggle/input/nernlp3/Data/processed/NER_train.json\n",
      "/kaggle/input/nernlp3/Data/processed/ATE_train.json\n",
      "/kaggle/input/nernlp3/Data/processed/NER_val.json\n",
      "/kaggle/input/nernlp3/Data/processed/ATE_val.json\n"
     ]
    }
   ],
   "source": [
    "# This Python 3 environment comes with many helpful analytics libraries installed\n",
    "# It is defined by the kaggle/python Docker image: https://github.com/kaggle/docker-python\n",
    "# For example, here's several helpful packages to load\n",
    "\n",
    "# Input data files are available in the read-only \"../input/\" directory\n",
    "# For example, running this (by clicking run or pressing Shift+Enter) will list all files under the input directory\n",
    "\n",
    "import os\n",
    "for dirname, _, filenames in os.walk('/kaggle/input'):\n",
    "    for filename in filenames:\n",
    "        print(os.path.join(dirname, filename))\n",
    "\n",
    "Embedding_name=\"fasttext\"\n",
    "Dataset=\"NER\"     \n",
    "PATH='/kaggle/input/nernlp3/'\n",
    "OUTPATH='/kaggle/working/'\n",
    "\n",
    "# You can write up to 20GB to the current directory (/kaggle/working/) that gets preserved as output when you create a version using \"Save & Run All\" \n",
    "# You can also write temporary files to /kaggle/temp/, but they won't be saved outside of the current session"
   ]
  },
  {
   "cell_type": "code",
   "execution_count": 4,
   "id": "20d3ed2f",
   "metadata": {
    "execution": {
     "iopub.execute_input": "2024-03-10T12:42:35.078465Z",
     "iopub.status.busy": "2024-03-10T12:42:35.077653Z",
     "iopub.status.idle": "2024-03-10T12:42:39.442399Z",
     "shell.execute_reply": "2024-03-10T12:42:39.440701Z"
    },
    "papermill": {
     "duration": 4.393068,
     "end_time": "2024-03-10T12:42:39.445162",
     "exception": false,
     "start_time": "2024-03-10T12:42:35.052094",
     "status": "completed"
    },
    "tags": []
   },
   "outputs": [
    {
     "name": "stderr",
     "output_type": "stream",
     "text": [
      "/opt/conda/lib/python3.10/pty.py:89: RuntimeWarning: os.fork() was called. os.fork() is incompatible with multithreaded code, and JAX is multithreaded, so this will likely lead to a deadlock.\n",
      "  pid, fd = os.forkpty()\n"
     ]
    }
   ],
   "source": [
    "! mkdir Saved_Models\n",
    "! mkdir Saved_Models/ATE\n",
    "! mkdir Saved_Models/NER\n",
    "! mkdir Graphs"
   ]
  },
  {
   "cell_type": "code",
   "execution_count": 5,
   "id": "156170a3",
   "metadata": {
    "execution": {
     "iopub.execute_input": "2024-03-10T12:42:39.496978Z",
     "iopub.status.busy": "2024-03-10T12:42:39.496524Z",
     "iopub.status.idle": "2024-03-10T12:42:39.547179Z",
     "shell.execute_reply": "2024-03-10T12:42:39.545606Z"
    },
    "papermill": {
     "duration": 0.080587,
     "end_time": "2024-03-10T12:42:39.550266",
     "exception": false,
     "start_time": "2024-03-10T12:42:39.469679",
     "status": "completed"
    },
    "tags": []
   },
   "outputs": [],
   "source": [
    "def checking(a):\n",
    "    print(\"Hello World\",a)\n",
    "\n",
    "def new_checking(a):\n",
    "    print(\"Hello World\",a)\n",
    "\n",
    "def create_train_test_val(file):\n",
    "    lst_out_text=[]\n",
    "    lst_out_labels=[]\n",
    "    for i in file.values():\n",
    "        sentence = i['text']\n",
    "        sentence = sentence.lower()\n",
    "        labels = i['labels']\n",
    "        lst_out_text.append(sentence)\n",
    "        lst_out_labels.append(labels)\n",
    "    return lst_out_text,lst_out_labels    \n",
    "\n",
    "def TokenCreator(sentences,val,tokenizer=None):\n",
    "    \n",
    "    temp_wordlist = None\n",
    "    tokenizer2=None\n",
    "    if(tokenizer == None):\n",
    "        if val==1:\n",
    "            tokenizer2 = Tokenizer(oov_token=\"#UK\",filters='')\n",
    "        else:\n",
    "            tokenizer2=Tokenizer()\n",
    "        tokenizer2.fit_on_texts(sentences)\n",
    "        \n",
    "        temp_wordlist = tokenizer2.texts_to_sequences(sentences)\n",
    "        return (temp_wordlist,tokenizer2)\n",
    "    \n",
    "    else:\n",
    "        temp_wordlist = tokenizer.texts_to_sequences(sentences)\n",
    "        return temp_wordlist\n",
    "    \n",
    "def find_vocab(dataset):\n",
    "    lst=[]\n",
    "    lst.append(\"#UK\")\n",
    "    for i in dataset:\n",
    "        for j in i:\n",
    "            lst.append(j)\n",
    "    st = set(lst)\n",
    "    return st\n",
    "\n",
    "'''\n",
    "--------------------------------------GRAPHS--------------------------------------\n",
    "'''\n",
    "\n",
    "def draw_loss_graph(model,model_name,f1_scores_train,f1_scores_val):\n",
    "    train_loss = model.history['loss']\n",
    "    val_loss = model.history['val_loss']\n",
    "    x = [i+1 for i in range(len(train_loss))]\n",
    "    train_y = train_loss\n",
    "    val_y = val_loss\n",
    "    \n",
    "    fig, axes = plt.subplots(1,2,figsize = (16,5))\n",
    "    # plt.subplots(axes = (2,1))\n",
    "    axes[0].plot(x,train_y, color = 'blue')  \n",
    "    \n",
    "    axes[0].plot(x,val_y, color = 'red') \n",
    "    axes[0].set_title('Loss over Epochs')\n",
    "    axes[0].set_xlabel('Epoch')\n",
    "    axes[0].set_ylabel('Loss')\n",
    "\n",
    "    axes[1].plot(x,f1_scores_train, color = 'blue')\n",
    "    axes[1].plot(x,f1_scores_val, color = 'red')\n",
    "    axes[1].set_title('F1 Score vs Epoch')\n",
    "    axes[1].set_xlabel('Epochs')\n",
    "    axes[1].set_ylabel('F1 Score')\n",
    "\n",
    "    axes[0].legend(['Train','Val'])\n",
    "    axes[1].legend(['Train','Val'])\n",
    "    \n",
    "    plt.suptitle(model_name)\n",
    "\n",
    "    \n",
    "    plt.show()\n",
    "    \n",
    "'''\n",
    "--------------------------------------MODELS--------------------------------------\n",
    "'''\n",
    "\n",
    "def save_model(model,model_name, embedding, dataset):\n",
    "    with open(f'{OUTPATH}Saved_Models/{dataset}/{model_name}_{embedding}.pkl', 'wb') as file:\n",
    "        pickle.dump(model, file)\n",
    "\n",
    "def load_model(model_name, embedding, dataset):\n",
    "    with open(f'{OUTPATH}Saved_Models/{dataset}/{model_name}_{embedding}.pkl', 'rb') as file:\n",
    "        loaded_model = pickle.load(file)\n",
    "    \n",
    "    return loaded_model\n",
    "\n",
    "'''\n",
    "--------------------------------------CALLBACKS--------------------------------------\n",
    "'''\n",
    "\n",
    "class F1ScoreCallback(Callback):\n",
    "\n",
    "    def __init__(self, val_data, data):\n",
    "        super(F1ScoreCallback, self).__init__()\n",
    "        self.val_data = val_data\n",
    "        self.data=data\n",
    "        self.val_f1_scores = [] \n",
    "        self.train_f1_scores = []\n",
    "\n",
    "    \n",
    "\n",
    "    def on_epoch_end(self, epoch, logs=None):\n",
    "        x_val, y_val = self.val_data\n",
    "        x_data, y_data = self.data\n",
    "        y_pred_val = self.model.predict(x_val)\n",
    "        y_pred_train = self.model.predict(x_data)\n",
    "\n",
    "        def scikitf1(pred,real):\n",
    "\n",
    "            true_labels_flat = [label for sublist in real for label in sublist]\n",
    "            predicted_labels_flat = [label for sublist in pred for label in sublist]\n",
    "            # Compute F1 score\n",
    "            f1 = f1_score(true_labels_flat, predicted_labels_flat, average='macro')\n",
    "            return f1\n",
    "        def get_pred(Y_padded_output):\n",
    "                # print(Y_padded_output.shape)\n",
    "                final_output=[]\n",
    "                for i in range(Y_padded_output.shape[0]):\n",
    "                    output=[]\n",
    "                    for j in range(Y_padded_output.shape[1]):\n",
    "                        max_value=-1\n",
    "                        maxIndex=-1\n",
    "                        for k in range(Y_padded_output.shape[2]):\n",
    "                            if Y_padded_output[i][j][k]>max_value:\n",
    "                                maxIndex=k\n",
    "                                max_value=max(max_value,Y_padded_output[i][j][k])\n",
    "                        output.append(maxIndex)\n",
    "                    final_output.append(output)\n",
    "                return final_output\n",
    "\n",
    "        def get_real(Y_padded_test):\n",
    "            # print(Y_padded_test.shape)\n",
    "            final_Y=[]\n",
    "            for i in range(Y_padded_test.shape[0]):\n",
    "                output=[]\n",
    "                for j in range(Y_padded_test.shape[1]):\n",
    "                    max_value=-1\n",
    "                    maxIndex=-1\n",
    "                    for k in range(Y_padded_test.shape[2]):\n",
    "                        if Y_padded_test[i][j][k]>max_value:\n",
    "                            maxIndex=k\n",
    "                            max_value=max(max_value,Y_padded_test[i][j][k])\n",
    "                    output.append(maxIndex)\n",
    "                final_Y.append(output)\n",
    "            return final_Y\n",
    "        \n",
    "        # print(\"here\")\n",
    "        pred_train=get_pred(y_pred_train)\n",
    "        # print(pred_train)\n",
    "        real_train=get_real(y_data)\n",
    "        # print(real_train)\n",
    "\n",
    "        pred_val=get_pred(y_pred_val)\n",
    "        real_val=get_real(y_val)\n",
    "\n",
    "        f1_train = scikitf1(pred_train,real_train)\n",
    "        f1_val = scikitf1(pred_val,real_val)\n",
    "\n",
    "        self.val_f1_scores.append(f1_val)\n",
    "        self.train_f1_scores.append(f1_train)\n",
    "        print(f'Val F1 Score: {f1_val} - Train F1 Score: {f1_train}')\n",
    "\n",
    "\n",
    "\n",
    "#---------Prediction Functions----------------------------------------------\n",
    "def get_pred(Y_padded_output):\n",
    "    final_output=[]\n",
    "    for i in range(Y_padded_output.shape[0]):\n",
    "        output=[]\n",
    "        for j in range(Y_padded_output.shape[1]):\n",
    "            max_value=-1\n",
    "            maxIndex=-1\n",
    "            for k in range(Y_padded_output.shape[2]):\n",
    "                if Y_padded_output[i][j][k]>max_value:\n",
    "                    maxIndex=k\n",
    "                    max_value=max(max_value,Y_padded_output[i][j][k])\n",
    "            output.append(maxIndex)\n",
    "        final_output.append(output)\n",
    "    return final_output\n",
    "\n",
    "def get_real(Y_padded_test):\n",
    "    final_Y=[]\n",
    "    for i in range(Y_padded_test.shape[0]):\n",
    "        output=[]\n",
    "        for j in range(Y_padded_test.shape[1]):\n",
    "            max_value=-1\n",
    "            maxIndex=-1\n",
    "            for k in range(Y_padded_test.shape[2]):\n",
    "                if Y_padded_test[i][j][k]>max_value:\n",
    "                    maxIndex=k\n",
    "                    max_value=max(max_value,Y_padded_test[i][j][k])\n",
    "            output.append(maxIndex)\n",
    "        final_Y.append(output)\n",
    "    return final_Y\n",
    "\n",
    "def my_f1(y_true, y_pred):\n",
    "    \n",
    "    # predictions = get_pred(y_pred)\n",
    "    # real = get_real(y_true)\n",
    "\n",
    "    predictions = y_pred\n",
    "    real = y_true\n",
    "\n",
    "    size=len(predictions)\n",
    "\n",
    "    unique_labels= set()\n",
    "\n",
    "    for labels in real:\n",
    "        unique_labels.update(labels)\n",
    "\n",
    "    for labels in predictions:\n",
    "        unique_labels.update(labels)\n",
    "\n",
    "    labels_f1=[]\n",
    "\n",
    "    for labels in unique_labels:\n",
    "        tp=0\n",
    "        fp=0\n",
    "        fn=0\n",
    "\n",
    "        for i in range(size):\n",
    "            l=[]\n",
    "                    \n",
    "            tp+=sum((p==labels and r==labels) for p,r in zip(predictions[i],real[i]))\n",
    "            fp+=sum((p==labels and r!=labels) for p,r in zip(predictions[i],real[i]))\n",
    "            fn+=sum((p!=labels and r==labels) for p,r in zip(predictions[i],real[i]))\n",
    "\n",
    "        \n",
    "        precision = tp/(tp+fp) if tp+fp>0 else 0\n",
    "        recall = tp/(tp+fn) if tp+fn>0 else 0\n",
    "\n",
    "        f1=2*((precision*recall)/(precision+recall)) if precision+recall>0 else 0\n",
    "\n",
    "        labels_f1.append(f1)\n",
    "        print(f1,unique_labels)\n",
    "    macro_f1 = sum(labels_f1)/len(unique_labels)\n",
    "    return macro_f1\n",
    "\n",
    "def scikitf1(pred,real):\n",
    "\n",
    "    true_labels_flat = [label for sublist in real for label in sublist]\n",
    "    predicted_labels_flat = [label for sublist in pred for label in sublist]\n",
    "    # Compute F1 score\n",
    "    f1 = f1_score(true_labels_flat, predicted_labels_flat, average='macro')\n",
    "    return f1"
   ]
  },
  {
   "cell_type": "code",
   "execution_count": null,
   "id": "fa656cd6",
   "metadata": {
    "papermill": {
     "duration": 0.023715,
     "end_time": "2024-03-10T12:42:39.600009",
     "exception": false,
     "start_time": "2024-03-10T12:42:39.576294",
     "status": "completed"
    },
    "tags": []
   },
   "outputs": [],
   "source": []
  },
  {
   "cell_type": "code",
   "execution_count": null,
   "id": "88f09411",
   "metadata": {
    "execution": {
     "iopub.execute_input": "2024-03-10T11:35:48.164770Z",
     "iopub.status.busy": "2024-03-10T11:35:48.163348Z",
     "iopub.status.idle": "2024-03-10T11:35:48.175610Z",
     "shell.execute_reply": "2024-03-10T11:35:48.174822Z",
     "shell.execute_reply.started": "2024-03-10T11:35:48.164729Z"
    },
    "papermill": {
     "duration": 0.02407,
     "end_time": "2024-03-10T12:42:39.649179",
     "exception": false,
     "start_time": "2024-03-10T12:42:39.625109",
     "status": "completed"
    },
    "tags": []
   },
   "outputs": [],
   "source": []
  },
  {
   "cell_type": "code",
   "execution_count": 6,
   "id": "6a3feefe",
   "metadata": {
    "execution": {
     "iopub.execute_input": "2024-03-10T12:42:39.698619Z",
     "iopub.status.busy": "2024-03-10T12:42:39.698188Z",
     "iopub.status.idle": "2024-03-10T12:42:39.704159Z",
     "shell.execute_reply": "2024-03-10T12:42:39.703075Z"
    },
    "papermill": {
     "duration": 0.033581,
     "end_time": "2024-03-10T12:42:39.706808",
     "exception": false,
     "start_time": "2024-03-10T12:42:39.673227",
     "status": "completed"
    },
    "tags": []
   },
   "outputs": [],
   "source": [
    "seed_value = 18\n",
    "np.random.seed(seed_value)\n",
    "tf.random.set_seed(seed_value)"
   ]
  },
  {
   "cell_type": "code",
   "execution_count": 7,
   "id": "e650ede8",
   "metadata": {
    "execution": {
     "iopub.execute_input": "2024-03-10T12:42:39.756010Z",
     "iopub.status.busy": "2024-03-10T12:42:39.755591Z",
     "iopub.status.idle": "2024-03-10T12:43:47.283799Z",
     "shell.execute_reply": "2024-03-10T12:43:47.282591Z"
    },
    "papermill": {
     "duration": 67.580391,
     "end_time": "2024-03-10T12:43:47.310925",
     "exception": false,
     "start_time": "2024-03-10T12:42:39.730534",
     "status": "completed"
    },
    "tags": []
   },
   "outputs": [
    {
     "name": "stderr",
     "output_type": "stream",
     "text": [
      "Warning : `load_model` does not return WordVectorModel or SupervisedModel any more, but a `FastText` object which is very similar.\n"
     ]
    }
   ],
   "source": [
    "if Embedding_name==\"word2vec\":\n",
    "    emb = KeyedVectors.load_word2vec_format(f'{PATH}WordEmbeddings/Word2vec.bin',binary=True)\n",
    "\n",
    "if Embedding_name==\"glove\":\n",
    "    with open(f'{PATH}WordEmbeddings/glove.840B.300d.pkl', 'rb') as fp:\n",
    "        emb = pickle.load(fp)\n",
    "if Embedding_name==\"fasttext\":\n",
    "    emb = fasttext.load_model(f'{PATH}WordEmbeddings/cc.en.300.bin')"
   ]
  },
  {
   "cell_type": "markdown",
   "id": "9dfaf16a",
   "metadata": {
    "papermill": {
     "duration": 0.023821,
     "end_time": "2024-03-10T12:43:47.358896",
     "exception": false,
     "start_time": "2024-03-10T12:43:47.335075",
     "status": "completed"
    },
    "tags": []
   },
   "source": [
    "# Data Extraction and Preprocessing"
   ]
  },
  {
   "cell_type": "markdown",
   "id": "d262e514",
   "metadata": {
    "papermill": {
     "duration": 0.024144,
     "end_time": "2024-03-10T12:43:47.407948",
     "exception": false,
     "start_time": "2024-03-10T12:43:47.383804",
     "status": "completed"
    },
    "tags": []
   },
   "source": [
    "Reading ATE json files"
   ]
  },
  {
   "cell_type": "code",
   "execution_count": 8,
   "id": "368883ac",
   "metadata": {
    "execution": {
     "iopub.execute_input": "2024-03-10T12:43:47.458517Z",
     "iopub.status.busy": "2024-03-10T12:43:47.458052Z",
     "iopub.status.idle": "2024-03-10T12:43:47.650229Z",
     "shell.execute_reply": "2024-03-10T12:43:47.648845Z"
    },
    "papermill": {
     "duration": 0.220574,
     "end_time": "2024-03-10T12:43:47.652972",
     "exception": false,
     "start_time": "2024-03-10T12:43:47.432398",
     "status": "completed"
    },
    "tags": []
   },
   "outputs": [],
   "source": [
    "\n",
    "train = None\n",
    "test = None\n",
    "val = None\n",
    "with open(f\"{PATH}Data/processed/{Dataset}_train.json\") as f1:\n",
    "    train = json.load(f1)\n",
    "\n",
    "with open(f\"{PATH}Data/processed/{Dataset}_test.json\") as f2:\n",
    "    test = json.load(f2)\n",
    "\n",
    "with open(f\"{PATH}Data/processed/{Dataset}_val.json\") as f3:\n",
    "    val = json.load(f3)\n",
    "\n"
   ]
  },
  {
   "cell_type": "markdown",
   "id": "528e48d9",
   "metadata": {
    "papermill": {
     "duration": 0.02374,
     "end_time": "2024-03-10T12:43:47.700826",
     "exception": false,
     "start_time": "2024-03-10T12:43:47.677086",
     "status": "completed"
    },
    "tags": []
   },
   "source": [
    "processing into lists"
   ]
  },
  {
   "cell_type": "code",
   "execution_count": 9,
   "id": "74f6f80c",
   "metadata": {
    "execution": {
     "iopub.execute_input": "2024-03-10T12:43:47.749592Z",
     "iopub.status.busy": "2024-03-10T12:43:47.749184Z",
     "iopub.status.idle": "2024-03-10T12:43:47.765718Z",
     "shell.execute_reply": "2024-03-10T12:43:47.764566Z"
    },
    "papermill": {
     "duration": 0.043914,
     "end_time": "2024-03-10T12:43:47.768042",
     "exception": false,
     "start_time": "2024-03-10T12:43:47.724128",
     "status": "completed"
    },
    "tags": []
   },
   "outputs": [],
   "source": [
    "X_train,Y_train = create_train_test_val(train)\n",
    "X_test,Y_test = create_train_test_val(test)\n",
    "X_val,Y_val = create_train_test_val(val)"
   ]
  },
  {
   "cell_type": "markdown",
   "id": "d14ada49",
   "metadata": {
    "papermill": {
     "duration": 0.023573,
     "end_time": "2024-03-10T12:43:47.814631",
     "exception": false,
     "start_time": "2024-03-10T12:43:47.791058",
     "status": "completed"
    },
    "tags": []
   },
   "source": [
    "Tokenizing the ATE Dataset"
   ]
  },
  {
   "cell_type": "code",
   "execution_count": 10,
   "id": "73e13365",
   "metadata": {
    "execution": {
     "iopub.execute_input": "2024-03-10T12:43:47.863512Z",
     "iopub.status.busy": "2024-03-10T12:43:47.863079Z",
     "iopub.status.idle": "2024-03-10T12:43:48.836739Z",
     "shell.execute_reply": "2024-03-10T12:43:48.835745Z"
    },
    "papermill": {
     "duration": 1.000797,
     "end_time": "2024-03-10T12:43:48.839218",
     "exception": false,
     "start_time": "2024-03-10T12:43:47.838421",
     "status": "completed"
    },
    "tags": []
   },
   "outputs": [],
   "source": [
    "X_train_tokenized, toke = TokenCreator(X_train,1)\n",
    "X_test_tokenized = TokenCreator(X_test,0,tokenizer = toke)\n",
    "X_val_tokenized = TokenCreator(X_val,0,tokenizer = toke)\n",
    "\n",
    "Y_train_tokenized,toke2 = TokenCreator(Y_train,0)\n",
    "Y_test_tokenized = TokenCreator(Y_test,0,tokenizer = toke2)\n",
    "Y_val_tokenized = TokenCreator(Y_val,0,tokenizer = toke2)"
   ]
  },
  {
   "cell_type": "markdown",
   "id": "6d92a277",
   "metadata": {
    "papermill": {
     "duration": 0.08763,
     "end_time": "2024-03-10T12:43:48.950446",
     "exception": false,
     "start_time": "2024-03-10T12:43:48.862816",
     "status": "completed"
    },
    "tags": []
   },
   "source": [
    "Vocabulary of ATE"
   ]
  },
  {
   "cell_type": "code",
   "execution_count": 11,
   "id": "ab44404d",
   "metadata": {
    "execution": {
     "iopub.execute_input": "2024-03-10T12:43:49.000654Z",
     "iopub.status.busy": "2024-03-10T12:43:48.999851Z",
     "iopub.status.idle": "2024-03-10T12:43:49.041881Z",
     "shell.execute_reply": "2024-03-10T12:43:49.040571Z"
    },
    "papermill": {
     "duration": 0.070075,
     "end_time": "2024-03-10T12:43:49.044590",
     "exception": false,
     "start_time": "2024-03-10T12:43:48.974515",
     "status": "completed"
    },
    "tags": []
   },
   "outputs": [
    {
     "data": {
      "text/plain": [
       "30220"
      ]
     },
     "execution_count": 11,
     "metadata": {},
     "output_type": "execute_result"
    }
   ],
   "source": [
    "st1 = find_vocab(X_train_tokenized)\n",
    "vocab_size  = len(st1) + 1 \n",
    "vocab_size"
   ]
  },
  {
   "cell_type": "code",
   "execution_count": 12,
   "id": "1934d625",
   "metadata": {
    "execution": {
     "iopub.execute_input": "2024-03-10T12:43:49.096213Z",
     "iopub.status.busy": "2024-03-10T12:43:49.095783Z",
     "iopub.status.idle": "2024-03-10T12:43:49.107767Z",
     "shell.execute_reply": "2024-03-10T12:43:49.106662Z"
    },
    "papermill": {
     "duration": 0.040743,
     "end_time": "2024-03-10T12:43:49.110511",
     "exception": false,
     "start_time": "2024-03-10T12:43:49.069768",
     "status": "completed"
    },
    "tags": []
   },
   "outputs": [
    {
     "data": {
      "text/plain": [
       "70"
      ]
     },
     "execution_count": 12,
     "metadata": {},
     "output_type": "execute_result"
    }
   ],
   "source": [
    "max_len=0\n",
    "\n",
    "for i in X_train_tokenized:\n",
    "    max_len = max(max_len,len(i))\n",
    "\n",
    "max_len"
   ]
  },
  {
   "cell_type": "markdown",
   "id": "07bcf389",
   "metadata": {
    "papermill": {
     "duration": 0.023989,
     "end_time": "2024-03-10T12:43:49.158534",
     "exception": false,
     "start_time": "2024-03-10T12:43:49.134545",
     "status": "completed"
    },
    "tags": []
   },
   "source": [
    "Padding ATE"
   ]
  },
  {
   "cell_type": "code",
   "execution_count": 13,
   "id": "063297b8",
   "metadata": {
    "execution": {
     "iopub.execute_input": "2024-03-10T12:43:49.208998Z",
     "iopub.status.busy": "2024-03-10T12:43:49.208265Z",
     "iopub.status.idle": "2024-03-10T12:43:49.369431Z",
     "shell.execute_reply": "2024-03-10T12:43:49.368464Z"
    },
    "papermill": {
     "duration": 0.189118,
     "end_time": "2024-03-10T12:43:49.372095",
     "exception": false,
     "start_time": "2024-03-10T12:43:49.182977",
     "status": "completed"
    },
    "tags": []
   },
   "outputs": [],
   "source": [
    "X_padded_train = pad_sequences(X_train_tokenized, maxlen=max_len, padding=\"pre\", truncating=\"post\")\n",
    "Y_padded_train = pad_sequences(Y_train_tokenized, maxlen=max_len, padding=\"pre\", truncating=\"post\")\n",
    "\n",
    "X_padded_test = pad_sequences(X_test_tokenized, maxlen=max_len, padding=\"pre\", truncating=\"post\")\n",
    "Y_padded_test = pad_sequences(Y_test_tokenized, maxlen=max_len, padding=\"pre\", truncating=\"post\")\n",
    "\n",
    "X_padded_val = pad_sequences(X_val_tokenized, maxlen=max_len, padding=\"pre\", truncating=\"post\")\n",
    "Y_padded_val = pad_sequences(Y_val_tokenized, maxlen=max_len, padding=\"pre\", truncating=\"post\")       "
   ]
  },
  {
   "cell_type": "markdown",
   "id": "f74f260f",
   "metadata": {
    "papermill": {
     "duration": 0.024381,
     "end_time": "2024-03-10T12:43:49.420985",
     "exception": false,
     "start_time": "2024-03-10T12:43:49.396604",
     "status": "completed"
    },
    "tags": []
   },
   "source": [
    "One hot encoding the ATE labels"
   ]
  },
  {
   "cell_type": "code",
   "execution_count": 14,
   "id": "a0fddde6",
   "metadata": {
    "execution": {
     "iopub.execute_input": "2024-03-10T12:43:49.471504Z",
     "iopub.status.busy": "2024-03-10T12:43:49.471061Z",
     "iopub.status.idle": "2024-03-10T12:43:49.589962Z",
     "shell.execute_reply": "2024-03-10T12:43:49.589009Z"
    },
    "papermill": {
     "duration": 0.147254,
     "end_time": "2024-03-10T12:43:49.592859",
     "exception": false,
     "start_time": "2024-03-10T12:43:49.445605",
     "status": "completed"
    },
    "tags": []
   },
   "outputs": [],
   "source": [
    "Y_padded_train = to_categorical(Y_padded_train)\n",
    "Y_padded_test = to_categorical(Y_padded_test)\n",
    "Y_padded_val = to_categorical(Y_padded_val)"
   ]
  },
  {
   "cell_type": "markdown",
   "id": "93336cd0",
   "metadata": {
    "papermill": {
     "duration": 0.023945,
     "end_time": "2024-03-10T12:43:49.641647",
     "exception": false,
     "start_time": "2024-03-10T12:43:49.617702",
     "status": "completed"
    },
    "tags": []
   },
   "source": [
    "Assigning **ATE Word2Vec** mapping"
   ]
  },
  {
   "cell_type": "code",
   "execution_count": 15,
   "id": "de44e748",
   "metadata": {
    "execution": {
     "iopub.execute_input": "2024-03-10T12:43:49.692384Z",
     "iopub.status.busy": "2024-03-10T12:43:49.691672Z",
     "iopub.status.idle": "2024-03-10T12:43:49.736762Z",
     "shell.execute_reply": "2024-03-10T12:43:49.735629Z"
    },
    "papermill": {
     "duration": 0.073357,
     "end_time": "2024-03-10T12:43:49.739397",
     "exception": false,
     "start_time": "2024-03-10T12:43:49.666040",
     "status": "completed"
    },
    "tags": []
   },
   "outputs": [
    {
     "data": {
      "text/plain": [
       "{'#UK': 1,\n",
       " 'the': 2,\n",
       " 'of': 3,\n",
       " 'in': 4,\n",
       " 'to': 5,\n",
       " 'and': 6,\n",
       " 'that': 7,\n",
       " 'a': 8,\n",
       " 'was': 9,\n",
       " 'is': 10,\n",
       " 'by': 11,\n",
       " 'on': 12,\n",
       " 'as': 13,\n",
       " 'for': 14,\n",
       " 'be': 15,\n",
       " 'it': 16,\n",
       " 'court': 17,\n",
       " 'not': 18,\n",
       " 'has': 19,\n",
       " 'under': 20,\n",
       " 'this': 21,\n",
       " 'section': 22,\n",
       " 'which': 23,\n",
       " 'with': 24,\n",
       " 'or': 25,\n",
       " 'at': 26,\n",
       " 'he': 27,\n",
       " 'case': 28,\n",
       " 'no.': 29,\n",
       " 'from': 30,\n",
       " 'been': 31,\n",
       " 'his': 32,\n",
       " 'an': 33,\n",
       " 'had': 34,\n",
       " 'are': 35,\n",
       " 'were': 36,\n",
       " 'v.': 37,\n",
       " 'state': 38,\n",
       " 'also': 39,\n",
       " 'have': 40,\n",
       " 'act': 41,\n",
       " 'order': 42,\n",
       " 'any': 43,\n",
       " 'no': 44,\n",
       " 'high': 45,\n",
       " 'accused': 46,\n",
       " 'learned': 47,\n",
       " 'said': 48,\n",
       " 'there': 49,\n",
       " 'dated': 50,\n",
       " 'supreme': 51,\n",
       " 'made': 52,\n",
       " 'would': 53,\n",
       " 'before': 54,\n",
       " 'singh': 55,\n",
       " 'held': 56,\n",
       " 'who': 57,\n",
       " 'such': 58,\n",
       " 'against': 59,\n",
       " 'other': 60,\n",
       " 'but': 61,\n",
       " 'their': 62,\n",
       " 'one': 63,\n",
       " 'if': 64,\n",
       " 'respondent': 65,\n",
       " 'filed': 66,\n",
       " 'appeal': 67,\n",
       " 'appellant': 68,\n",
       " 'evidence': 69,\n",
       " '&': 70,\n",
       " 'all': 71,\n",
       " 'only': 72,\n",
       " 'decision': 73,\n",
       " 'after': 74,\n",
       " 'we': 75,\n",
       " 'they': 76,\n",
       " 'petitioner': 77,\n",
       " 'government': 78,\n",
       " 'may': 79,\n",
       " 'judgment': 80,\n",
       " 'act,': 81,\n",
       " 'its': 82,\n",
       " 'when': 83,\n",
       " 'counsel': 84,\n",
       " 'view': 85,\n",
       " 'same': 86,\n",
       " 'application': 87,\n",
       " 'india': 88,\n",
       " 'out': 89,\n",
       " 'can': 90,\n",
       " 'further': 91,\n",
       " 'petition': 92,\n",
       " 'whether': 93,\n",
       " 'two': 94,\n",
       " 'bench': 95,\n",
       " 'stated': 96,\n",
       " 'provisions': 97,\n",
       " 'question': 98,\n",
       " 'her': 99,\n",
       " 'law': 100,\n",
       " 'cannot': 101,\n",
       " 'vs.': 102,\n",
       " 'therefore,': 103,\n",
       " 'civil': 104,\n",
       " 'first': 105,\n",
       " 'article': 106,\n",
       " 'police': 107,\n",
       " 'should': 108,\n",
       " 'mr.': 109,\n",
       " '1': 110,\n",
       " 'suit': 111,\n",
       " 'could': 112,\n",
       " 'upon': 113,\n",
       " 'will': 114,\n",
       " 'these': 115,\n",
       " 'taken': 116,\n",
       " 'so': 117,\n",
       " 'passed': 118,\n",
       " 'writ': 119,\n",
       " 'rule': 120,\n",
       " 'about': 121,\n",
       " 'where': 122,\n",
       " 'referred': 123,\n",
       " 'judge': 124,\n",
       " 'being': 125,\n",
       " 'him': 126,\n",
       " 'given': 127,\n",
       " 'even': 128,\n",
       " 'i': 129,\n",
       " 'kumar': 130,\n",
       " 'into': 131,\n",
       " 'right': 132,\n",
       " 'p.': 133,\n",
       " 'present': 134,\n",
       " 'per': 135,\n",
       " 'ltd.': 136,\n",
       " 'rs.': 137,\n",
       " 'act.': 138,\n",
       " '2': 139,\n",
       " ':': 140,\n",
       " 'air': 141,\n",
       " 'time': 142,\n",
       " 'criminal': 143,\n",
       " \"hon'ble\": 144,\n",
       " 'constitution': 145,\n",
       " 'j.': 146,\n",
       " 'delhi': 147,\n",
       " 'defendant': 148,\n",
       " 'issued': 149,\n",
       " 'matter': 150,\n",
       " 'shall': 151,\n",
       " 'must': 152,\n",
       " 'did': 153,\n",
       " 'plaintiff': 154,\n",
       " 'respect': 155,\n",
       " 'she': 156,\n",
       " 'statement': 157,\n",
       " 'submitted': 158,\n",
       " 'company': 159,\n",
       " '3': 160,\n",
       " 'case,': 161,\n",
       " 'special': 162,\n",
       " 'property': 163,\n",
       " 's.': 164,\n",
       " 'then': 165,\n",
       " 'shri': 166,\n",
       " 'power': 167,\n",
       " 'between': 168,\n",
       " 'does': 169,\n",
       " 'while': 170,\n",
       " 'notice': 171,\n",
       " 'tribunal': 172,\n",
       " 'within': 173,\n",
       " 'above': 174,\n",
       " 'date': 175,\n",
       " 'trial': 176,\n",
       " 'person': 177,\n",
       " 'public': 178,\n",
       " 'facts': 179,\n",
       " 'offence': 180,\n",
       " 'sc': 181,\n",
       " 'scc': 182,\n",
       " 'court,': 183,\n",
       " 'having': 184,\n",
       " 'however,': 185,\n",
       " 'deceased': 186,\n",
       " 'tax': 187,\n",
       " 'division': 188,\n",
       " 'house': 189,\n",
       " 'land': 190,\n",
       " 'them': 191,\n",
       " 'petitioners': 192,\n",
       " 'district': 193,\n",
       " 'new': 194,\n",
       " '(1)': 195,\n",
       " 'code': 196,\n",
       " 'apex': 197,\n",
       " 'relied': 198,\n",
       " 'general': 199,\n",
       " 'persons': 200,\n",
       " 'down': 201,\n",
       " 'officer': 202,\n",
       " 'observed': 203,\n",
       " 'found': 204,\n",
       " 'justice': 205,\n",
       " 'court.': 206,\n",
       " 'union': 207,\n",
       " 'both': 208,\n",
       " '4': 209,\n",
       " 'examined': 210,\n",
       " 'central': 211,\n",
       " 'without': 212,\n",
       " 'what': 213,\n",
       " 'some': 214,\n",
       " 'reference': 215,\n",
       " 'though': 216,\n",
       " 'came': 217,\n",
       " 'sections': 218,\n",
       " 'indian': 219,\n",
       " 'cases': 220,\n",
       " 'another': 221,\n",
       " 'jurisdiction': 222,\n",
       " 'page': 223,\n",
       " 'basis': 224,\n",
       " 'claim': 225,\n",
       " 'amount': 226,\n",
       " 'report': 227,\n",
       " 'effect': 228,\n",
       " 'up': 229,\n",
       " 'part': 230,\n",
       " 'possession': 231,\n",
       " 'witness': 232,\n",
       " 'following': 233,\n",
       " '5': 234,\n",
       " '-': 235,\n",
       " 'assessee': 236,\n",
       " 'since': 237,\n",
       " 'year': 238,\n",
       " 'prosecution': 239,\n",
       " 'fact': 240,\n",
       " 'authority': 241,\n",
       " 'bank': 242,\n",
       " 'considered': 243,\n",
       " 'complainant': 244,\n",
       " 'during': 245,\n",
       " 'behalf': 246,\n",
       " 'three': 247,\n",
       " '(2)': 248,\n",
       " 'service': 249,\n",
       " 'years': 250,\n",
       " 'income': 251,\n",
       " 'ram': 252,\n",
       " 'regard': 253,\n",
       " '6': 254,\n",
       " 'c.': 255,\n",
       " 'rules': 256,\n",
       " 'placed': 257,\n",
       " 'sale': 258,\n",
       " 'co.': 259,\n",
       " 'reported': 260,\n",
       " 'proceedings': 261,\n",
       " 'place': 262,\n",
       " 'aforesaid': 263,\n",
       " 'record': 264,\n",
       " 'because': 265,\n",
       " 'appellants': 266,\n",
       " 'do': 267,\n",
       " 'complaint': 268,\n",
       " 'registered': 269,\n",
       " 'necessary': 270,\n",
       " 'additional': 271,\n",
       " 'make': 272,\n",
       " 'well': 273,\n",
       " 'according': 274,\n",
       " 'respondents': 275,\n",
       " 'ground': 276,\n",
       " 'chief': 277,\n",
       " 'period': 278,\n",
       " 'through': 279,\n",
       " 'procedure': 280,\n",
       " 'those': 281,\n",
       " 'business': 282,\n",
       " 'more': 283,\n",
       " 'clause': 284,\n",
       " 'relevant': 285,\n",
       " '(supra)': 286,\n",
       " 'interest': 287,\n",
       " 'legal': 288,\n",
       " 'mentioned': 289,\n",
       " 'our': 290,\n",
       " 'favour': 291,\n",
       " 'take': 292,\n",
       " 'second': 293,\n",
       " 'read': 294,\n",
       " 'over': 295,\n",
       " 'far': 296,\n",
       " 'than': 297,\n",
       " 'others': 298,\n",
       " 'decided': 299,\n",
       " 'point': 300,\n",
       " 'witnesses': 301,\n",
       " 'set': 302,\n",
       " 'deposed': 303,\n",
       " 'singh,': 304,\n",
       " 'pw': 305,\n",
       " 'judicial': 306,\n",
       " 'ors.': 307,\n",
       " 'certain': 308,\n",
       " 'consideration': 309,\n",
       " 'now': 310,\n",
       " 'circumstances': 311,\n",
       " 'assessment': 312,\n",
       " 'issue': 313,\n",
       " 'laid': 314,\n",
       " 'terms': 315,\n",
       " 'letter': 316,\n",
       " 'p.w.': 317,\n",
       " 'support': 318,\n",
       " 'board': 319,\n",
       " 'received': 320,\n",
       " 'nos.': 321,\n",
       " 'account': 322,\n",
       " 'provision': 323,\n",
       " 'punjab': 324,\n",
       " 'earlier': 325,\n",
       " 'insurance': 326,\n",
       " 'ex.': 327,\n",
       " 'goods': 328,\n",
       " 'contention': 329,\n",
       " 'corporation': 330,\n",
       " 'notification': 331,\n",
       " 'commission': 332,\n",
       " '7': 333,\n",
       " 'bombay': 334,\n",
       " '8': 335,\n",
       " 'india,': 336,\n",
       " 'sessions': 337,\n",
       " 'took': 338,\n",
       " 'party': 339,\n",
       " 'r.': 340,\n",
       " 'vide': 341,\n",
       " 'purpose': 342,\n",
       " 'pradesh': 343,\n",
       " 'used': 344,\n",
       " 'already': 345,\n",
       " 'alleged': 346,\n",
       " 'recorded': 347,\n",
       " 'name': 348,\n",
       " 'compensation': 349,\n",
       " 'contended': 350,\n",
       " 'dr.': 351,\n",
       " '\"the': 352,\n",
       " 'parties': 353,\n",
       " 'clear': 354,\n",
       " 'commissioner': 355,\n",
       " 'show': 356,\n",
       " 'entitled': 357,\n",
       " 'us': 358,\n",
       " 'directed': 359,\n",
       " 'action': 360,\n",
       " 'courts': 361,\n",
       " 'different': 362,\n",
       " 'reliance': 363,\n",
       " 'no.1': 364,\n",
       " 'office': 365,\n",
       " 'admitted': 366,\n",
       " 'case.': 367,\n",
       " 'decisions': 368,\n",
       " 'agreement': 369,\n",
       " 'thus': 370,\n",
       " 'come': 371,\n",
       " 'due': 372,\n",
       " 'income-tax': 373,\n",
       " 'magistrate': 374,\n",
       " 'regarding': 375,\n",
       " 'transport': 376,\n",
       " 'w.': 377,\n",
       " 'granted': 378,\n",
       " 'decree': 379,\n",
       " '10': 380,\n",
       " 'sri': 381,\n",
       " 'k.': 382,\n",
       " 'my': 383,\n",
       " 'ipc': 384,\n",
       " 'motor': 385,\n",
       " 'file': 386,\n",
       " 'required': 387,\n",
       " 'vehicle': 388,\n",
       " 'orders': 389,\n",
       " 'charge': 390,\n",
       " 'paid': 391,\n",
       " 'very': 392,\n",
       " 'and,': 393,\n",
       " ',': 394,\n",
       " 'lal': 395,\n",
       " 'payment': 396,\n",
       " 'subject': 397,\n",
       " 'medical': 398,\n",
       " 'exercise': 399,\n",
       " 'allowed': 400,\n",
       " 'original': 401,\n",
       " 'impugned': 402,\n",
       " 'opinion': 403,\n",
       " 'pay': 404,\n",
       " 'investigation': 405,\n",
       " 'rights': 406,\n",
       " '.': 407,\n",
       " 'powers': 408,\n",
       " 'smt.': 409,\n",
       " 'contract': 410,\n",
       " 'appellate': 411,\n",
       " 'observations': 412,\n",
       " 'meaning': 413,\n",
       " 'a.': 414,\n",
       " 'appears': 415,\n",
       " 'owner': 416,\n",
       " '9': 417,\n",
       " 'way': 418,\n",
       " 'nature': 419,\n",
       " '14': 420,\n",
       " 'grant': 421,\n",
       " 'j.,': 422,\n",
       " 'reasonable': 423,\n",
       " 'brought': 424,\n",
       " '2.': 425,\n",
       " 'itself': 426,\n",
       " 'list': 427,\n",
       " 'duty': 428,\n",
       " 'death': 429,\n",
       " 'concerned': 430,\n",
       " 'taking': 431,\n",
       " 'available': 432,\n",
       " 'nor': 433,\n",
       " 'third': 434,\n",
       " '12': 435,\n",
       " 'copy': 436,\n",
       " 'legislature': 437,\n",
       " 'therefore': 438,\n",
       " 'either': 439,\n",
       " 'single': 440,\n",
       " 'cr.p.c.': 441,\n",
       " 'raised': 442,\n",
       " 'again': 443,\n",
       " 'full': 444,\n",
       " 'find': 445,\n",
       " 'judge,': 446,\n",
       " 'prasad': 447,\n",
       " 'consider': 448,\n",
       " 'words': 449,\n",
       " 'along': 450,\n",
       " 'sh.': 451,\n",
       " 'provided': 452,\n",
       " 'claimed': 453,\n",
       " 'him.': 454,\n",
       " 'itr': 455,\n",
       " 'documents': 456,\n",
       " 'material': 457,\n",
       " 'area': 458,\n",
       " 'fir': 459,\n",
       " 'examination': 460,\n",
       " 'station': 461,\n",
       " 'each': 462,\n",
       " 'village': 463,\n",
       " 'clearly': 464,\n",
       " 'similar': 465,\n",
       " 'holding': 466,\n",
       " 'transfer': 467,\n",
       " 'pointed': 468,\n",
       " 'document': 469,\n",
       " 'offences': 470,\n",
       " 'penal': 471,\n",
       " 'm.': 472,\n",
       " 'post': 473,\n",
       " 'india.': 474,\n",
       " 'n.': 475,\n",
       " 'election': 476,\n",
       " 'including': 477,\n",
       " '@': 478,\n",
       " 'liable': 479,\n",
       " 'sub-section': 480,\n",
       " 'written': 481,\n",
       " 'leave': 482,\n",
       " 'based': 483,\n",
       " 'information': 484,\n",
       " 'appeals': 485,\n",
       " 'own': 486,\n",
       " 'sent': 487,\n",
       " 'hold': 488,\n",
       " 'number': 489,\n",
       " 'reason': 490,\n",
       " 'industrial': 491,\n",
       " 'open': 492,\n",
       " 'sought': 493,\n",
       " 'course': 494,\n",
       " 'revenue': 495,\n",
       " 'force': 496,\n",
       " 'position': 497,\n",
       " 'liability': 498,\n",
       " 'back': 499,\n",
       " 'established': 500,\n",
       " 'para': 501,\n",
       " 'madras': 502,\n",
       " 'parliament': 503,\n",
       " 'cit': 504,\n",
       " 'true': 505,\n",
       " 'affidavit': 506,\n",
       " 'statutory': 507,\n",
       " 'considering': 508,\n",
       " 'entry': 509,\n",
       " '1st': 510,\n",
       " 'common': 511,\n",
       " 'award': 512,\n",
       " 'constitution.': 513,\n",
       " 'dismissed': 514,\n",
       " 'dispute': 515,\n",
       " 'son': 516,\n",
       " 'articles': 517,\n",
       " 'applicable': 518,\n",
       " 'give': 519,\n",
       " 'petitions': 520,\n",
       " 'advocate': 521,\n",
       " 'went': 522,\n",
       " 'services': 523,\n",
       " 'proved': 524,\n",
       " 'cause': 525,\n",
       " 'produced': 526,\n",
       " '1,': 527,\n",
       " 'defendants': 528,\n",
       " 'principles': 529,\n",
       " 'kerala': 530,\n",
       " 'various': 531,\n",
       " 'reasons': 532,\n",
       " 'punishable': 533,\n",
       " 'merely': 534,\n",
       " 'that,': 535,\n",
       " 'wife': 536,\n",
       " 'result': 537,\n",
       " 'working': 538,\n",
       " 'b.': 539,\n",
       " 'rajasthan': 540,\n",
       " 'm/s': 541,\n",
       " 'body': 542,\n",
       " 'contained': 543,\n",
       " 'prior': 544,\n",
       " 'scheme': 545,\n",
       " 'appearing': 546,\n",
       " '15': 547,\n",
       " 'vehicles': 548,\n",
       " 'father': 549,\n",
       " '11': 550,\n",
       " 'loss': 551,\n",
       " 'making': 552,\n",
       " 'ld.': 553,\n",
       " 'limited': 554,\n",
       " '(3)': 555,\n",
       " 'put': 556,\n",
       " '(b)': 557,\n",
       " 'conclusion': 558,\n",
       " 'concerned,': 559,\n",
       " 'member': 560,\n",
       " 'use': 561,\n",
       " 'amendment': 562,\n",
       " 'officer,': 563,\n",
       " 'wherein': 564,\n",
       " 'registration': 565,\n",
       " 'himself': 566,\n",
       " 'bearing': 567,\n",
       " 'haryana': 568,\n",
       " 'relating': 569,\n",
       " 'sufficient': 570,\n",
       " 'argued': 571,\n",
       " 'law.': 572,\n",
       " 'recovery': 573,\n",
       " 'accepted': 574,\n",
       " 'control': 575,\n",
       " 'trade': 576,\n",
       " 'premises': 577,\n",
       " 'left': 578,\n",
       " 'crime': 579,\n",
       " 'senior': 580,\n",
       " 'thus,': 581,\n",
       " 'injuries': 582,\n",
       " 'family': 583,\n",
       " 'committed': 584,\n",
       " 'principle': 585,\n",
       " 'done': 586,\n",
       " 'nothing': 587,\n",
       " 'form': 588,\n",
       " 'department': 589,\n",
       " '4.': 590,\n",
       " 'rent': 591,\n",
       " 'ltd.,': 592,\n",
       " '1.': 593,\n",
       " '34': 594,\n",
       " 'head': 595,\n",
       " 'noted': 596,\n",
       " '(air': 597,\n",
       " 'construction': 598,\n",
       " 'preferred': 599,\n",
       " 'certificate': 600,\n",
       " 'committee': 601,\n",
       " 'finding': 602,\n",
       " 'like': 603,\n",
       " 'private': 604,\n",
       " 'entered': 605,\n",
       " 'chand': 606,\n",
       " 'provides': 607,\n",
       " 'got': 608,\n",
       " 'sum': 609,\n",
       " 'particular': 610,\n",
       " 'proceeding': 611,\n",
       " 'argument': 612,\n",
       " 'last': 613,\n",
       " 'lord': 614,\n",
       " 'national': 615,\n",
       " 'settled': 616,\n",
       " 'valid': 617,\n",
       " 'assistant': 618,\n",
       " 'cheque': 619,\n",
       " 'members': 620,\n",
       " 'treated': 621,\n",
       " 'word': 622,\n",
       " 'light': 623,\n",
       " '226': 624,\n",
       " '(a)': 625,\n",
       " '\"': 626,\n",
       " 'towards': 627,\n",
       " 'statute': 628,\n",
       " 'obtained': 629,\n",
       " 'applicant': 630,\n",
       " 'magistrate,': 631,\n",
       " 'age': 632,\n",
       " 'm/s.': 633,\n",
       " 'council': 634,\n",
       " 'heard': 635,\n",
       " 'value': 636,\n",
       " 'connection': 637,\n",
       " 'appointed': 638,\n",
       " 'inspector': 639,\n",
       " 'denied': 640,\n",
       " 'outside': 641,\n",
       " 'drawn': 642,\n",
       " 'stage': 643,\n",
       " 'note': 644,\n",
       " 'follows:': 645,\n",
       " 'calcutta': 646,\n",
       " 'brother': 647,\n",
       " 'every': 648,\n",
       " 'see': 649,\n",
       " 'intention': 650,\n",
       " 'defence': 651,\n",
       " 'karnataka': 652,\n",
       " 'thereafter': 653,\n",
       " 'stand': 654,\n",
       " 'u/s': 655,\n",
       " 'near': 656,\n",
       " 'accident': 657,\n",
       " 'deed': 658,\n",
       " 'prove': 659,\n",
       " 'deputy': 660,\n",
       " 'followed': 661,\n",
       " '13': 662,\n",
       " 'context': 663,\n",
       " 'i.e.': 664,\n",
       " 'guilty': 665,\n",
       " 'called': 666,\n",
       " 'proviso': 667,\n",
       " 'lordships': 668,\n",
       " 'revision': 669,\n",
       " 'doubt': 670,\n",
       " 'sentence': 671,\n",
       " 'states': 672,\n",
       " 'mind': 673,\n",
       " 'appointment': 674,\n",
       " 'judges': 675,\n",
       " 'policy': 676,\n",
       " 'accused.': 677,\n",
       " 'road': 678,\n",
       " 'hearing': 679,\n",
       " 'tamil': 680,\n",
       " 'dealing': 681,\n",
       " 'go': 682,\n",
       " 'scope': 683,\n",
       " 'bail': 684,\n",
       " 'conditions': 685,\n",
       " 'proper': 686,\n",
       " '20': 687,\n",
       " 'west': 688,\n",
       " 'seeking': 689,\n",
       " '(c)': 690,\n",
       " 'filing': 691,\n",
       " 'them.': 692,\n",
       " 'relief': 693,\n",
       " 'legislative': 694,\n",
       " 'sales': 695,\n",
       " 'accordance': 696,\n",
       " 'so,': 697,\n",
       " 'etc.': 698,\n",
       " 'till': 699,\n",
       " 'need': 700,\n",
       " 'andhra': 701,\n",
       " 'aside': 702,\n",
       " 'code.': 703,\n",
       " 'competent': 704,\n",
       " 'fundamental': 705,\n",
       " 'day': 706,\n",
       " 'specific': 707,\n",
       " '16': 708,\n",
       " 'prepared': 709,\n",
       " 'under:': 710,\n",
       " 'authorities': 711,\n",
       " 'madhya': 712,\n",
       " 'executed': 713,\n",
       " 'hospital': 714,\n",
       " 'refer': 715,\n",
       " 'purposes': 716,\n",
       " 'decide': 717,\n",
       " 'raj': 718,\n",
       " 'matters': 719,\n",
       " 'seen': 720,\n",
       " 'sharma': 721,\n",
       " 'gujarat': 722,\n",
       " 'rules,': 723,\n",
       " 'ipc.': 724,\n",
       " 'excise': 725,\n",
       " '3.': 726,\n",
       " 'reached': 727,\n",
       " 'contrary': 728,\n",
       " 'rendered': 729,\n",
       " 'schedule': 730,\n",
       " 'firm': 731,\n",
       " 'devi': 732,\n",
       " 'limitation': 733,\n",
       " 'conviction': 734,\n",
       " 'covered': 735,\n",
       " 'validity': 736,\n",
       " 'acquisition': 737,\n",
       " 'chandra': 738,\n",
       " 'paragraph': 739,\n",
       " 'days': 740,\n",
       " 'work': 741,\n",
       " 'bihar': 742,\n",
       " 'thereafter,': 743,\n",
       " 'failed': 744,\n",
       " 'get': 745,\n",
       " 'appropriate': 746,\n",
       " 'review': 747,\n",
       " 'direction': 748,\n",
       " 'subsequent': 749,\n",
       " 'director': 750,\n",
       " 'namely': 751,\n",
       " 'how': 752,\n",
       " 'hand,': 753,\n",
       " 'delhi.': 754,\n",
       " 'is,': 755,\n",
       " 'purchase': 756,\n",
       " 'delay': 757,\n",
       " 'except': 758,\n",
       " 'entire': 759,\n",
       " 'say': 760,\n",
       " 'framed': 761,\n",
       " '2,': 762,\n",
       " 'absence': 763,\n",
       " 'art.': 764,\n",
       " 'applications': 765,\n",
       " 'unless': 766,\n",
       " 'husband': 767,\n",
       " 'hand': 768,\n",
       " 'pending': 769,\n",
       " '(4)': 770,\n",
       " 'supply': 771,\n",
       " '25': 772,\n",
       " 'gave': 773,\n",
       " 'claimant': 774,\n",
       " 'fixed': 775,\n",
       " 'cr.': 776,\n",
       " 'p.m.': 777,\n",
       " '(i)': 778,\n",
       " 'plaintiffs': 779,\n",
       " 'rate': 780,\n",
       " 'above,': 781,\n",
       " 'order,': 782,\n",
       " 'away': 783,\n",
       " 'personal': 784,\n",
       " 'declaration': 785,\n",
       " 'employees': 786,\n",
       " 'request': 787,\n",
       " 'presence': 788,\n",
       " 'coming': 789,\n",
       " '302': 790,\n",
       " 'prescribed': 791,\n",
       " 'driver': 792,\n",
       " 'permit': 793,\n",
       " 'condition': 794,\n",
       " 'still': 795,\n",
       " '(supra),': 796,\n",
       " 'opinion,': 797,\n",
       " 'submission': 798,\n",
       " 'interim': 799,\n",
       " 'april': 800,\n",
       " 'challenged': 801,\n",
       " 'nadu': 802,\n",
       " 'total': 803,\n",
       " 'convicted': 804,\n",
       " 'cbi': 805,\n",
       " 'amended': 806,\n",
       " 'expression': 807,\n",
       " 'conduct': 808,\n",
       " 'giving': 809,\n",
       " 'term': 810,\n",
       " 'no.2': 811,\n",
       " 'president': 812,\n",
       " 'enquiry': 813,\n",
       " 'beyond': 814,\n",
       " 'namely,': 815,\n",
       " '17': 816,\n",
       " 'shows': 817,\n",
       " 'lease': 818,\n",
       " 'whom': 819,\n",
       " '2008': 820,\n",
       " 'interpretation': 821,\n",
       " 'caused': 822,\n",
       " 'next': 823,\n",
       " 'benefit': 824,\n",
       " 'extent': 825,\n",
       " 'neither': 826,\n",
       " 'whole': 827,\n",
       " 'applied': 828,\n",
       " 'shown': 829,\n",
       " 'pvt.': 830,\n",
       " 'once': 831,\n",
       " '18': 832,\n",
       " 'cited': 833,\n",
       " 'december': 834,\n",
       " '2007': 835,\n",
       " 'g.': 836,\n",
       " 'investigating': 837,\n",
       " 'am': 838,\n",
       " 'officers': 839,\n",
       " '3,': 840,\n",
       " 'urged': 841,\n",
       " 'rao': 842,\n",
       " 'main': 843,\n",
       " 'bar': 844,\n",
       " 'means': 845,\n",
       " '2nd': 846,\n",
       " 'declared': 847,\n",
       " 'bengal': 848,\n",
       " 'provide': 849,\n",
       " 'allegations': 850,\n",
       " 'viz.,': 851,\n",
       " '19': 852,\n",
       " 'execution': 853,\n",
       " 'regards': 854,\n",
       " 'constituted': 855,\n",
       " ':-': 856,\n",
       " 'mills': 857,\n",
       " 'v': 858,\n",
       " 'it.': 859,\n",
       " '(hereinafter': 860,\n",
       " 'circumstances,': 861,\n",
       " '(ii)': 862,\n",
       " 'awarded': 863,\n",
       " 'patna': 864,\n",
       " 'secretary': 865,\n",
       " 'nath': 866,\n",
       " 'anr.': 867,\n",
       " 'instant': 868,\n",
       " 'development': 869,\n",
       " 'manner': 870,\n",
       " 'him,': 871,\n",
       " 'o.': 872,\n",
       " 'several': 873,\n",
       " 'charges': 874,\n",
       " 'railway': 875,\n",
       " 'asked': 876,\n",
       " 'properties': 877,\n",
       " 'hospital,': 878,\n",
       " 'become': 879,\n",
       " 'carried': 880,\n",
       " 'licence': 881,\n",
       " 'five': 882,\n",
       " 'pleaded': 883,\n",
       " 'kumar,': 884,\n",
       " 'finance': 885,\n",
       " 'gone': 886,\n",
       " 'minimum': 887,\n",
       " 'important': 888,\n",
       " 'murder': 889,\n",
       " 'municipal': 890,\n",
       " 'life': 891,\n",
       " 'definition': 892,\n",
       " 'issues': 893,\n",
       " 'bus': 894,\n",
       " 'side': 895,\n",
       " 'receipt': 896,\n",
       " 'university': 897,\n",
       " 'whose': 898,\n",
       " 'four': 899,\n",
       " 'separate': 900,\n",
       " 'apply': 901,\n",
       " '2009': 902,\n",
       " 'price': 903,\n",
       " 'appeared': 904,\n",
       " 'object': 905,\n",
       " 'conferred': 906,\n",
       " '22': 907,\n",
       " 'told': 908,\n",
       " 'going': 909,\n",
       " 'labour': 910,\n",
       " 'mere': 911,\n",
       " 'collector': 912,\n",
       " 'society': 913,\n",
       " 'judgments': 914,\n",
       " 'expressed': 915,\n",
       " 'evidence,': 916,\n",
       " 'informed': 917,\n",
       " 'appear': 918,\n",
       " 'dead': 919,\n",
       " '21': 920,\n",
       " 'specified': 921,\n",
       " 'here': 922,\n",
       " 'english': 923,\n",
       " '50': 924,\n",
       " 'enacted': 925,\n",
       " 'law,': 926,\n",
       " 'attention': 927,\n",
       " 'mysore': 928,\n",
       " 'august': 929,\n",
       " 'therein': 930,\n",
       " 'mean': 931,\n",
       " 'just': 932,\n",
       " 'july,': 933,\n",
       " 'gupta': 934,\n",
       " 'march,': 935,\n",
       " 'u.p.': 936,\n",
       " 'final': 937,\n",
       " 'opportunity': 938,\n",
       " 'never': 939,\n",
       " '27': 940,\n",
       " 'it,': 941,\n",
       " 'july': 942,\n",
       " 'inter': 943,\n",
       " 'foreign': 944,\n",
       " 'false': 945,\n",
       " 'administrative': 946,\n",
       " 'rejected': 947,\n",
       " 'college': 948,\n",
       " 'appellant.': 949,\n",
       " 'direct': 950,\n",
       " 'statements': 951,\n",
       " 'delivered': 952,\n",
       " 'was,': 953,\n",
       " 'april,': 954,\n",
       " 'i.e.,': 955,\n",
       " 'allahabad': 956,\n",
       " 'lj': 957,\n",
       " 'chapter': 958,\n",
       " 'september': 959,\n",
       " 'disputes': 960,\n",
       " 'tenant': 961,\n",
       " 'correct': 962,\n",
       " 'fresh': 963,\n",
       " 'cross': 964,\n",
       " 'old': 965,\n",
       " 'code,': 966,\n",
       " 'accused,': 967,\n",
       " 'lodged': 968,\n",
       " 'much': 969,\n",
       " 'december,': 970,\n",
       " 'arbitration': 971,\n",
       " 'know': 972,\n",
       " '1999': 973,\n",
       " 'why': 974,\n",
       " 'november': 975,\n",
       " 'jain': 976,\n",
       " 'incident': 977,\n",
       " 'i.p.c.': 978,\n",
       " 'situated': 979,\n",
       " 'arising': 980,\n",
       " 'industries': 981,\n",
       " 'plea': 982,\n",
       " 'constitutional': 983,\n",
       " 'minister': 984,\n",
       " 'intended': 985,\n",
       " 'conducted': 986,\n",
       " 'hence,': 987,\n",
       " 'imprisonment': 988,\n",
       " '2010': 989,\n",
       " 'may,': 990,\n",
       " 'sold': 991,\n",
       " 'management': 992,\n",
       " 'maharashtra': 993,\n",
       " 'six': 994,\n",
       " 's.c.r.': 995,\n",
       " 'agreed': 996,\n",
       " 'building': 997,\n",
       " 'injury': 998,\n",
       " 'joint': 999,\n",
       " 'carrying': 1000,\n",
       " ...}"
      ]
     },
     "execution_count": 15,
     "metadata": {},
     "output_type": "execute_result"
    }
   ],
   "source": [
    "weights = np.zeros((vocab_size, 300))\n",
    "mapping = toke.word_index \n",
    "mapping"
   ]
  },
  {
   "cell_type": "markdown",
   "id": "80abed51",
   "metadata": {
    "papermill": {
     "duration": 0.025569,
     "end_time": "2024-03-10T12:43:49.790511",
     "exception": false,
     "start_time": "2024-03-10T12:43:49.764942",
     "status": "completed"
    },
    "tags": []
   },
   "source": [
    "Fetching weights from pre trained Word2Vec model (ATE)"
   ]
  },
  {
   "cell_type": "code",
   "execution_count": 16,
   "id": "2e290699",
   "metadata": {
    "execution": {
     "iopub.execute_input": "2024-03-10T12:43:49.843935Z",
     "iopub.status.busy": "2024-03-10T12:43:49.843512Z",
     "iopub.status.idle": "2024-03-10T12:54:26.623711Z",
     "shell.execute_reply": "2024-03-10T12:54:26.621411Z"
    },
    "papermill": {
     "duration": 636.812293,
     "end_time": "2024-03-10T12:54:26.628738",
     "exception": false,
     "start_time": "2024-03-10T12:43:49.816445",
     "status": "completed"
    },
    "tags": []
   },
   "outputs": [],
   "source": [
    "for word, index in mapping.items():\n",
    "    if word in emb:\n",
    "        weights[index:] = emb[word]"
   ]
  },
  {
   "cell_type": "code",
   "execution_count": 17,
   "id": "78ee5923",
   "metadata": {
    "execution": {
     "iopub.execute_input": "2024-03-10T12:54:26.686655Z",
     "iopub.status.busy": "2024-03-10T12:54:26.686172Z",
     "iopub.status.idle": "2024-03-10T12:54:26.698099Z",
     "shell.execute_reply": "2024-03-10T12:54:26.696988Z"
    },
    "papermill": {
     "duration": 0.042856,
     "end_time": "2024-03-10T12:54:26.700376",
     "exception": false,
     "start_time": "2024-03-10T12:54:26.657520",
     "status": "completed"
    },
    "tags": []
   },
   "outputs": [],
   "source": [
    "X_train= X_padded_train\n",
    "Y_train = Y_padded_train\n",
    "X_test = X_padded_test\n",
    "Y_test = Y_padded_test\n",
    "X_val = X_padded_val\n",
    "Y_val = Y_padded_val\n",
    "weights = weights\n",
    "word_token = toke\n",
    "tag_token = toke2"
   ]
  },
  {
   "cell_type": "code",
   "execution_count": 18,
   "id": "bd63b6f7",
   "metadata": {
    "execution": {
     "iopub.execute_input": "2024-03-10T12:54:26.754680Z",
     "iopub.status.busy": "2024-03-10T12:54:26.754242Z",
     "iopub.status.idle": "2024-03-10T12:54:26.759666Z",
     "shell.execute_reply": "2024-03-10T12:54:26.758514Z"
    },
    "papermill": {
     "duration": 0.035041,
     "end_time": "2024-03-10T12:54:26.761941",
     "exception": false,
     "start_time": "2024-03-10T12:54:26.726900",
     "status": "completed"
    },
    "tags": []
   },
   "outputs": [],
   "source": [
    "Y_shape= Y_padded_train.shape[2]"
   ]
  },
  {
   "cell_type": "markdown",
   "id": "1561ab44",
   "metadata": {
    "papermill": {
     "duration": 0.025991,
     "end_time": "2024-03-10T12:54:26.814543",
     "exception": false,
     "start_time": "2024-03-10T12:54:26.788552",
     "status": "completed"
    },
    "tags": []
   },
   "source": [
    "# Models"
   ]
  },
  {
   "cell_type": "markdown",
   "id": "4afcb908",
   "metadata": {
    "papermill": {
     "duration": 0.025552,
     "end_time": "2024-03-10T12:54:26.865965",
     "exception": false,
     "start_time": "2024-03-10T12:54:26.840413",
     "status": "completed"
    },
    "tags": []
   },
   "source": [
    "## RNN"
   ]
  },
  {
   "cell_type": "code",
   "execution_count": 19,
   "id": "3c6aeddd",
   "metadata": {
    "execution": {
     "iopub.execute_input": "2024-03-10T12:54:26.919926Z",
     "iopub.status.busy": "2024-03-10T12:54:26.919175Z",
     "iopub.status.idle": "2024-03-10T12:54:26.923685Z",
     "shell.execute_reply": "2024-03-10T12:54:26.922527Z"
    },
    "papermill": {
     "duration": 0.034107,
     "end_time": "2024-03-10T12:54:26.926019",
     "exception": false,
     "start_time": "2024-03-10T12:54:26.891912",
     "status": "completed"
    },
    "tags": []
   },
   "outputs": [],
   "source": [
    "model_name=\"RNN\""
   ]
  },
  {
   "cell_type": "markdown",
   "id": "56cf0f7a",
   "metadata": {
    "papermill": {
     "duration": 0.026476,
     "end_time": "2024-03-10T12:54:26.978661",
     "exception": false,
     "start_time": "2024-03-10T12:54:26.952185",
     "status": "completed"
    },
    "tags": []
   },
   "source": [
    "### Training"
   ]
  },
  {
   "cell_type": "code",
   "execution_count": 20,
   "id": "e342a95d",
   "metadata": {
    "execution": {
     "iopub.execute_input": "2024-03-10T12:54:27.032343Z",
     "iopub.status.busy": "2024-03-10T12:54:27.031844Z",
     "iopub.status.idle": "2024-03-10T12:54:28.096625Z",
     "shell.execute_reply": "2024-03-10T12:54:28.095713Z"
    },
    "papermill": {
     "duration": 1.094631,
     "end_time": "2024-03-10T12:54:28.099278",
     "exception": false,
     "start_time": "2024-03-10T12:54:27.004647",
     "status": "completed"
    },
    "tags": []
   },
   "outputs": [],
   "source": [
    "rnn_model = Sequential()\n",
    "rnn_model.add(Embedding(input_dim = vocab_size,output_dim = 300,input_length  = max_len,weights = [weights],trainable = False))\n",
    "rnn_model.add(SimpleRNN(32, return_sequences=True))\n",
    "rnn_model.add(TimeDistributed(Dense(Y_shape, activation='softmax')))"
   ]
  },
  {
   "cell_type": "markdown",
   "id": "1dcf7df0",
   "metadata": {
    "papermill": {
     "duration": 0.024937,
     "end_time": "2024-03-10T12:54:28.149409",
     "exception": false,
     "start_time": "2024-03-10T12:54:28.124472",
     "status": "completed"
    },
    "tags": []
   },
   "source": [
    "Compiling the rnn Word2Vec Model"
   ]
  },
  {
   "cell_type": "code",
   "execution_count": 21,
   "id": "c19d2cf9",
   "metadata": {
    "execution": {
     "iopub.execute_input": "2024-03-10T12:54:28.202119Z",
     "iopub.status.busy": "2024-03-10T12:54:28.201483Z",
     "iopub.status.idle": "2024-03-10T12:54:28.233431Z",
     "shell.execute_reply": "2024-03-10T12:54:28.232502Z"
    },
    "papermill": {
     "duration": 0.061193,
     "end_time": "2024-03-10T12:54:28.236045",
     "exception": false,
     "start_time": "2024-03-10T12:54:28.174852",
     "status": "completed"
    },
    "tags": []
   },
   "outputs": [],
   "source": [
    "rnn_model.compile(loss='categorical_crossentropy',optimizer='adam',metrics=['acc',Precision(),Recall()])"
   ]
  },
  {
   "cell_type": "code",
   "execution_count": 22,
   "id": "bc7d08fb",
   "metadata": {
    "execution": {
     "iopub.execute_input": "2024-03-10T12:54:28.288401Z",
     "iopub.status.busy": "2024-03-10T12:54:28.288002Z",
     "iopub.status.idle": "2024-03-10T12:54:28.292638Z",
     "shell.execute_reply": "2024-03-10T12:54:28.291617Z"
    },
    "papermill": {
     "duration": 0.034066,
     "end_time": "2024-03-10T12:54:28.294894",
     "exception": false,
     "start_time": "2024-03-10T12:54:28.260828",
     "status": "completed"
    },
    "tags": []
   },
   "outputs": [],
   "source": [
    "rnn_f1_callback = F1ScoreCallback(val_data=(X_val, Y_val),data=(X_train, Y_train))\n"
   ]
  },
  {
   "cell_type": "code",
   "execution_count": 23,
   "id": "488c2d58",
   "metadata": {
    "execution": {
     "iopub.execute_input": "2024-03-10T12:54:28.347658Z",
     "iopub.status.busy": "2024-03-10T12:54:28.347270Z",
     "iopub.status.idle": "2024-03-10T12:54:28.368986Z",
     "shell.execute_reply": "2024-03-10T12:54:28.367872Z"
    },
    "papermill": {
     "duration": 0.056769,
     "end_time": "2024-03-10T12:54:28.376842",
     "exception": false,
     "start_time": "2024-03-10T12:54:28.320073",
     "status": "completed"
    },
    "tags": []
   },
   "outputs": [
    {
     "name": "stdout",
     "output_type": "stream",
     "text": [
      "Model: \"sequential\"\n",
      "_________________________________________________________________\n",
      " Layer (type)                Output Shape              Param #   \n",
      "=================================================================\n",
      " embedding (Embedding)       (None, 70, 300)           9066000   \n",
      "                                                                 \n",
      " simple_rnn (SimpleRNN)      (None, 70, 32)            10656     \n",
      "                                                                 \n",
      " time_distributed (TimeDist  (None, 70, 28)            924       \n",
      " ributed)                                                        \n",
      "                                                                 \n",
      "=================================================================\n",
      "Total params: 9077580 (34.63 MB)\n",
      "Trainable params: 11580 (45.23 KB)\n",
      "Non-trainable params: 9066000 (34.58 MB)\n",
      "_________________________________________________________________\n"
     ]
    }
   ],
   "source": [
    "rnn_model.summary()"
   ]
  },
  {
   "cell_type": "markdown",
   "id": "ce0b641c",
   "metadata": {
    "papermill": {
     "duration": 0.026294,
     "end_time": "2024-03-10T12:54:28.429647",
     "exception": false,
     "start_time": "2024-03-10T12:54:28.403353",
     "status": "completed"
    },
    "tags": []
   },
   "source": [
    "Fitting the rnn model"
   ]
  },
  {
   "cell_type": "code",
   "execution_count": 24,
   "id": "cee3dc9a",
   "metadata": {
    "execution": {
     "iopub.execute_input": "2024-03-10T12:54:28.485346Z",
     "iopub.status.busy": "2024-03-10T12:54:28.484943Z",
     "iopub.status.idle": "2024-03-10T13:10:59.388573Z",
     "shell.execute_reply": "2024-03-10T13:10:59.387379Z"
    },
    "papermill": {
     "duration": 991.102087,
     "end_time": "2024-03-10T13:10:59.558458",
     "exception": false,
     "start_time": "2024-03-10T12:54:28.456371",
     "status": "completed"
    },
    "tags": []
   },
   "outputs": [
    {
     "name": "stdout",
     "output_type": "stream",
     "text": [
      "Epoch 1/20\n",
      "45/45 [==============================] - 1s 7ms/step\n",
      "251/251 [==============================] - 2s 7ms/step\n",
      "Val F1 Score: 0.0671265394810893 - Train F1 Score: 0.06751789193652753\n",
      "63/63 [==============================] - 52s 805ms/step - loss: 1.8850 - acc: 0.7353 - precision: 0.9197 - recall: 0.2231 - val_loss: 0.8066 - val_acc: 0.8885 - val_precision: 0.9054 - val_recall: 0.8060\n",
      "Epoch 2/20\n",
      "45/45 [==============================] - 0s 7ms/step\n",
      "251/251 [==============================] - 2s 7ms/step\n",
      "Val F1 Score: 0.07471570430936471 - Train F1 Score: 0.07478813572811052\n",
      "63/63 [==============================] - 49s 782ms/step - loss: 0.6444 - acc: 0.9018 - precision: 0.9127 - recall: 0.8398 - val_loss: 0.5723 - val_acc: 0.8976 - val_precision: 0.9090 - val_recall: 0.8459\n",
      "Epoch 3/20\n",
      "45/45 [==============================] - 0s 7ms/step\n",
      "251/251 [==============================] - 2s 7ms/step\n",
      "Val F1 Score: 0.08033705301741181 - Train F1 Score: 0.08048830036696493\n",
      "63/63 [==============================] - 48s 779ms/step - loss: 0.5347 - acc: 0.9057 - precision: 0.9216 - recall: 0.8533 - val_loss: 0.4966 - val_acc: 0.9129 - val_precision: 0.9309 - val_recall: 0.8733\n",
      "Epoch 4/20\n",
      "45/45 [==============================] - 0s 7ms/step\n",
      "251/251 [==============================] - 2s 7ms/step\n",
      "Val F1 Score: 0.0834383607170688 - Train F1 Score: 0.08333153676348407\n",
      "63/63 [==============================] - 48s 782ms/step - loss: 0.4733 - acc: 0.9160 - precision: 0.9382 - recall: 0.8740 - val_loss: 0.4568 - val_acc: 0.9164 - val_precision: 0.9362 - val_recall: 0.8750\n",
      "Epoch 5/20\n",
      "45/45 [==============================] - 0s 7ms/step\n",
      "251/251 [==============================] - 2s 7ms/step\n",
      "Val F1 Score: 0.08538547451096075 - Train F1 Score: 0.08480248087411586\n",
      "63/63 [==============================] - 50s 804ms/step - loss: 0.4406 - acc: 0.9185 - precision: 0.9437 - recall: 0.8747 - val_loss: 0.4285 - val_acc: 0.9193 - val_precision: 0.9418 - val_recall: 0.8763\n",
      "Epoch 6/20\n",
      "45/45 [==============================] - 0s 8ms/step\n",
      "251/251 [==============================] - 2s 7ms/step\n",
      "Val F1 Score: 0.09217686184947645 - Train F1 Score: 0.09172807314665395\n",
      "63/63 [==============================] - 49s 797ms/step - loss: 0.4180 - acc: 0.9198 - precision: 0.9475 - recall: 0.8749 - val_loss: 0.4075 - val_acc: 0.9215 - val_precision: 0.9450 - val_recall: 0.8786\n",
      "Epoch 7/20\n",
      "45/45 [==============================] - 0s 7ms/step\n",
      "251/251 [==============================] - 2s 7ms/step\n",
      "Val F1 Score: 0.09799818505301036 - Train F1 Score: 0.09851766956679646\n",
      "63/63 [==============================] - 49s 796ms/step - loss: 0.3974 - acc: 0.9223 - precision: 0.9520 - recall: 0.8788 - val_loss: 0.3914 - val_acc: 0.9209 - val_precision: 0.9482 - val_recall: 0.8905\n",
      "Epoch 8/20\n",
      "45/45 [==============================] - 0s 7ms/step\n",
      "251/251 [==============================] - 2s 7ms/step\n",
      "Val F1 Score: 0.10380590888652363 - Train F1 Score: 0.10449986218410896\n",
      "63/63 [==============================] - 50s 801ms/step - loss: 0.3998 - acc: 0.9184 - precision: 0.9483 - recall: 0.8859 - val_loss: 0.3814 - val_acc: 0.9229 - val_precision: 0.9496 - val_recall: 0.8923\n",
      "Epoch 9/20\n",
      "45/45 [==============================] - 0s 7ms/step\n",
      "251/251 [==============================] - 2s 7ms/step\n",
      "Val F1 Score: 0.11334070571597736 - Train F1 Score: 0.11480880900252159\n",
      "63/63 [==============================] - 51s 819ms/step - loss: 0.3725 - acc: 0.9245 - precision: 0.9555 - recall: 0.8912 - val_loss: 0.3647 - val_acc: 0.9249 - val_precision: 0.9528 - val_recall: 0.8933\n",
      "Epoch 10/20\n",
      "45/45 [==============================] - 0s 7ms/step\n",
      "251/251 [==============================] - 2s 7ms/step\n",
      "Val F1 Score: 0.1290869190236425 - Train F1 Score: 0.1270597611098674\n",
      "63/63 [==============================] - 50s 808ms/step - loss: 0.3572 - acc: 0.9260 - precision: 0.9570 - recall: 0.8931 - val_loss: 0.3494 - val_acc: 0.9272 - val_precision: 0.9558 - val_recall: 0.8952\n",
      "Epoch 11/20\n",
      "45/45 [==============================] - 0s 7ms/step\n",
      "251/251 [==============================] - 2s 7ms/step\n",
      "Val F1 Score: 0.1504089541238585 - Train F1 Score: 0.14787196379420015\n",
      "63/63 [==============================] - 49s 789ms/step - loss: 0.3433 - acc: 0.9277 - precision: 0.9584 - recall: 0.8950 - val_loss: 0.3362 - val_acc: 0.9290 - val_precision: 0.9585 - val_recall: 0.8952\n",
      "Epoch 12/20\n",
      "45/45 [==============================] - 0s 7ms/step\n",
      "251/251 [==============================] - 2s 8ms/step\n",
      "Val F1 Score: 0.1631966373278982 - Train F1 Score: 0.16147072738279963\n",
      "63/63 [==============================] - 50s 799ms/step - loss: 0.3307 - acc: 0.9295 - precision: 0.9595 - recall: 0.8967 - val_loss: 0.3245 - val_acc: 0.9303 - val_precision: 0.9595 - val_recall: 0.8977\n",
      "Epoch 13/20\n",
      "45/45 [==============================] - 0s 7ms/step\n",
      "251/251 [==============================] - 2s 7ms/step\n",
      "Val F1 Score: 0.17306201575822258 - Train F1 Score: 0.1743329465575761\n",
      "63/63 [==============================] - 49s 786ms/step - loss: 0.3197 - acc: 0.9309 - precision: 0.9603 - recall: 0.8987 - val_loss: 0.3144 - val_acc: 0.9316 - val_precision: 0.9589 - val_recall: 0.9005\n",
      "Epoch 14/20\n",
      "45/45 [==============================] - 0s 8ms/step\n",
      "251/251 [==============================] - 2s 7ms/step\n",
      "Val F1 Score: 0.19588500351079668 - Train F1 Score: 0.1994997204433068\n",
      "63/63 [==============================] - 49s 794ms/step - loss: 0.3099 - acc: 0.9324 - precision: 0.9610 - recall: 0.9000 - val_loss: 0.3053 - val_acc: 0.9335 - val_precision: 0.9614 - val_recall: 0.9004\n",
      "Epoch 15/20\n",
      "45/45 [==============================] - 0s 7ms/step\n",
      "251/251 [==============================] - 2s 7ms/step\n",
      "Val F1 Score: 0.2130686319394049 - Train F1 Score: 0.21741455267987891\n",
      "63/63 [==============================] - 50s 812ms/step - loss: 0.3008 - acc: 0.9342 - precision: 0.9622 - recall: 0.9010 - val_loss: 0.2973 - val_acc: 0.9350 - val_precision: 0.9622 - val_recall: 0.9012\n",
      "Epoch 16/20\n",
      "45/45 [==============================] - 0s 7ms/step\n",
      "251/251 [==============================] - 2s 7ms/step\n",
      "Val F1 Score: 0.22198788239630884 - Train F1 Score: 0.22644846073475636\n",
      "63/63 [==============================] - 49s 794ms/step - loss: 0.2925 - acc: 0.9356 - precision: 0.9627 - recall: 0.9026 - val_loss: 0.2891 - val_acc: 0.9360 - val_precision: 0.9613 - val_recall: 0.9038\n",
      "Epoch 17/20\n",
      "45/45 [==============================] - 0s 7ms/step\n",
      "251/251 [==============================] - 2s 7ms/step\n",
      "Val F1 Score: 0.2361460289933595 - Train F1 Score: 0.24039957324603783\n",
      "63/63 [==============================] - 49s 795ms/step - loss: 0.2846 - acc: 0.9370 - precision: 0.9634 - recall: 0.9037 - val_loss: 0.2812 - val_acc: 0.9372 - val_precision: 0.9623 - val_recall: 0.9059\n",
      "Epoch 18/20\n",
      "45/45 [==============================] - 0s 7ms/step\n",
      "251/251 [==============================] - 2s 7ms/step\n",
      "Val F1 Score: 0.2451464520159761 - Train F1 Score: 0.2494800893837387\n",
      "63/63 [==============================] - 50s 801ms/step - loss: 0.2775 - acc: 0.9381 - precision: 0.9635 - recall: 0.9055 - val_loss: 0.2743 - val_acc: 0.9382 - val_precision: 0.9616 - val_recall: 0.9076\n",
      "Epoch 19/20\n",
      "45/45 [==============================] - 0s 7ms/step\n",
      "251/251 [==============================] - 2s 7ms/step\n",
      "Val F1 Score: 0.26150182402371913 - Train F1 Score: 0.26445529400076573\n",
      "63/63 [==============================] - 50s 798ms/step - loss: 0.2710 - acc: 0.9392 - precision: 0.9642 - recall: 0.9065 - val_loss: 0.2697 - val_acc: 0.9388 - val_precision: 0.9622 - val_recall: 0.9082\n",
      "Epoch 20/20\n",
      "45/45 [==============================] - 0s 7ms/step\n",
      "251/251 [==============================] - 2s 7ms/step\n",
      "Val F1 Score: 0.2663542366628809 - Train F1 Score: 0.26781532672173547\n",
      "63/63 [==============================] - 49s 795ms/step - loss: 0.2651 - acc: 0.9401 - precision: 0.9645 - recall: 0.9080 - val_loss: 0.2663 - val_acc: 0.9389 - val_precision: 0.9607 - val_recall: 0.9096\n"
     ]
    }
   ],
   "source": [
    "rnn_training = rnn_model.fit(X_train, Y_train, batch_size=128, epochs=20, validation_data=(X_val, Y_val), callbacks=[rnn_f1_callback])"
   ]
  },
  {
   "cell_type": "markdown",
   "id": "14cc88fb",
   "metadata": {
    "papermill": {
     "duration": 0.168605,
     "end_time": "2024-03-10T13:10:59.898693",
     "exception": false,
     "start_time": "2024-03-10T13:10:59.730088",
     "status": "completed"
    },
    "tags": []
   },
   "source": [
    "Plotting the graph"
   ]
  },
  {
   "cell_type": "code",
   "execution_count": 25,
   "id": "c65a1f89",
   "metadata": {
    "execution": {
     "iopub.execute_input": "2024-03-10T13:11:00.245642Z",
     "iopub.status.busy": "2024-03-10T13:11:00.245081Z",
     "iopub.status.idle": "2024-03-10T13:11:01.612175Z",
     "shell.execute_reply": "2024-03-10T13:11:01.611200Z"
    },
    "papermill": {
     "duration": 1.543945,
     "end_time": "2024-03-10T13:11:01.615120",
     "exception": false,
     "start_time": "2024-03-10T13:11:00.071175",
     "status": "completed"
    },
    "tags": []
   },
   "outputs": [
    {
     "data": {
      "image/png": "[encoded data removed]",
      "text/plain": [
       "<Figure size 1600x500 with 2 Axes>"
      ]
     },
     "metadata": {},
     "output_type": "display_data"
    }
   ],
   "source": [
    "draw_loss_graph(rnn_training,model_name, rnn_f1_callback.train_f1_scores, rnn_f1_callback.val_f1_scores)\n",
    "save_model(rnn_model,model_name,Embedding_name,Dataset)"
   ]
  },
  {
   "cell_type": "markdown",
   "id": "b3bb6d4e",
   "metadata": {
    "papermill": {
     "duration": 0.266604,
     "end_time": "2024-03-10T13:11:02.055266",
     "exception": false,
     "start_time": "2024-03-10T13:11:01.788662",
     "status": "completed"
    },
    "tags": []
   },
   "source": [
    "### Testing"
   ]
  },
  {
   "cell_type": "code",
   "execution_count": 26,
   "id": "1e0f25c0",
   "metadata": {
    "execution": {
     "iopub.execute_input": "2024-03-10T13:11:02.411658Z",
     "iopub.status.busy": "2024-03-10T13:11:02.411281Z",
     "iopub.status.idle": "2024-03-10T13:11:03.933028Z",
     "shell.execute_reply": "2024-03-10T13:11:03.932002Z"
    },
    "papermill": {
     "duration": 1.703818,
     "end_time": "2024-03-10T13:11:03.935657",
     "exception": false,
     "start_time": "2024-03-10T13:11:02.231839",
     "status": "completed"
    },
    "tags": []
   },
   "outputs": [],
   "source": [
    "loaded_model = load_model(model_name,Embedding_name,Dataset)"
   ]
  },
  {
   "cell_type": "markdown",
   "id": "88fa3c5f",
   "metadata": {
    "papermill": {
     "duration": 0.17312,
     "end_time": "2024-03-10T13:11:04.282713",
     "exception": false,
     "start_time": "2024-03-10T13:11:04.109593",
     "status": "completed"
    },
    "tags": []
   },
   "source": [
    "Testing accuracy"
   ]
  },
  {
   "cell_type": "code",
   "execution_count": 27,
   "id": "a0b8b492",
   "metadata": {
    "execution": {
     "iopub.execute_input": "2024-03-10T13:11:04.632999Z",
     "iopub.status.busy": "2024-03-10T13:11:04.632218Z",
     "iopub.status.idle": "2024-03-10T13:11:05.559035Z",
     "shell.execute_reply": "2024-03-10T13:11:05.557737Z"
    },
    "papermill": {
     "duration": 1.104305,
     "end_time": "2024-03-10T13:11:05.561524",
     "exception": false,
     "start_time": "2024-03-10T13:11:04.457219",
     "status": "completed"
    },
    "tags": []
   },
   "outputs": [
    {
     "name": "stdout",
     "output_type": "stream",
     "text": [
      "30/30 [==============================] - 1s 10ms/step - loss: 0.2984 - acc: 0.9318 - precision: 0.9540 - recall: 0.9000\n",
      "0.9318229556083679\n"
     ]
    }
   ],
   "source": [
    "accuracy = loaded_model.evaluate(X_test, Y_test, verbose = 1)\n",
    "print(accuracy[1])"
   ]
  },
  {
   "cell_type": "markdown",
   "id": "1a86838d",
   "metadata": {
    "papermill": {
     "duration": 0.175913,
     "end_time": "2024-03-10T13:11:05.911583",
     "exception": false,
     "start_time": "2024-03-10T13:11:05.735670",
     "status": "completed"
    },
    "tags": []
   },
   "source": [
    "Testing F1 Score"
   ]
  },
  {
   "cell_type": "code",
   "execution_count": 28,
   "id": "8c6faad5",
   "metadata": {
    "execution": {
     "iopub.execute_input": "2024-03-10T13:11:06.259609Z",
     "iopub.status.busy": "2024-03-10T13:11:06.259166Z",
     "iopub.status.idle": "2024-03-10T13:11:11.161373Z",
     "shell.execute_reply": "2024-03-10T13:11:11.159926Z"
    },
    "papermill": {
     "duration": 5.080557,
     "end_time": "2024-03-10T13:11:11.164190",
     "exception": false,
     "start_time": "2024-03-10T13:11:06.083633",
     "status": "completed"
    },
    "tags": []
   },
   "outputs": [
    {
     "name": "stdout",
     "output_type": "stream",
     "text": [
      "30/30 [==============================] - 0s 7ms/step\n",
      "Test F1 Score: 0.26557842703145823\n"
     ]
    }
   ],
   "source": [
    "Y_pred = loaded_model.predict(X_test)\n",
    "real = get_real(Y_test)\n",
    "pred = get_pred(Y_pred)\n",
    "\n",
    "true_labels_flat = [label for sublist in real for label in sublist]\n",
    "predicted_labels_flat = [label for sublist in pred for label in sublist]\n",
    "\n",
    "# Compute F1 score\n",
    "f1 = f1_score(true_labels_flat, predicted_labels_flat, average='macro')\n",
    "\n",
    "print(\"Test F1 Score:\", f1)"
   ]
  },
  {
   "cell_type": "markdown",
   "id": "12fa4d5d",
   "metadata": {
    "papermill": {
     "duration": 0.172957,
     "end_time": "2024-03-10T13:11:11.510060",
     "exception": false,
     "start_time": "2024-03-10T13:11:11.337103",
     "status": "completed"
    },
    "tags": []
   },
   "source": [
    "## GRU"
   ]
  },
  {
   "cell_type": "code",
   "execution_count": 29,
   "id": "be17ed26",
   "metadata": {
    "execution": {
     "iopub.execute_input": "2024-03-10T13:11:11.860401Z",
     "iopub.status.busy": "2024-03-10T13:11:11.859986Z",
     "iopub.status.idle": "2024-03-10T13:11:11.864173Z",
     "shell.execute_reply": "2024-03-10T13:11:11.863390Z"
    },
    "papermill": {
     "duration": 0.182161,
     "end_time": "2024-03-10T13:11:11.866517",
     "exception": false,
     "start_time": "2024-03-10T13:11:11.684356",
     "status": "completed"
    },
    "tags": []
   },
   "outputs": [],
   "source": [
    "model_name=\"GRU\""
   ]
  },
  {
   "cell_type": "markdown",
   "id": "5571d0c5",
   "metadata": {
    "papermill": {
     "duration": 0.1748,
     "end_time": "2024-03-10T13:11:12.215353",
     "exception": false,
     "start_time": "2024-03-10T13:11:12.040553",
     "status": "completed"
    },
    "tags": []
   },
   "source": [
    "### Training"
   ]
  },
  {
   "cell_type": "code",
   "execution_count": 30,
   "id": "f7a43102",
   "metadata": {
    "execution": {
     "iopub.execute_input": "2024-03-10T13:11:12.566342Z",
     "iopub.status.busy": "2024-03-10T13:11:12.565497Z",
     "iopub.status.idle": "2024-03-10T13:11:13.003660Z",
     "shell.execute_reply": "2024-03-10T13:11:13.002697Z"
    },
    "papermill": {
     "duration": 0.61663,
     "end_time": "2024-03-10T13:11:13.006457",
     "exception": false,
     "start_time": "2024-03-10T13:11:12.389827",
     "status": "completed"
    },
    "tags": []
   },
   "outputs": [],
   "source": [
    "gru_model = Sequential()\n",
    "gru_model.add(Embedding(input_dim = vocab_size,output_dim = 300,input_length  = max_len,weights = [weights],trainable = False))\n",
    "gru_model.add(GRU(64, return_sequences=True))\n",
    "gru_model.add(TimeDistributed(Dense(Y_train.shape[2], activation='softmax')))"
   ]
  },
  {
   "cell_type": "markdown",
   "id": "8a78e815",
   "metadata": {
    "papermill": {
     "duration": 0.177616,
     "end_time": "2024-03-10T13:11:13.359566",
     "exception": false,
     "start_time": "2024-03-10T13:11:13.181950",
     "status": "completed"
    },
    "tags": []
   },
   "source": [
    "compiling "
   ]
  },
  {
   "cell_type": "code",
   "execution_count": 31,
   "id": "d4961cd9",
   "metadata": {
    "execution": {
     "iopub.execute_input": "2024-03-10T13:11:13.708248Z",
     "iopub.status.busy": "2024-03-10T13:11:13.707382Z",
     "iopub.status.idle": "2024-03-10T13:11:13.727657Z",
     "shell.execute_reply": "2024-03-10T13:11:13.726727Z"
    },
    "papermill": {
     "duration": 0.19729,
     "end_time": "2024-03-10T13:11:13.730044",
     "exception": false,
     "start_time": "2024-03-10T13:11:13.532754",
     "status": "completed"
    },
    "tags": []
   },
   "outputs": [],
   "source": [
    "gru_model.compile(loss='categorical_crossentropy',optimizer='adam',metrics=['acc',Precision(),Recall()])"
   ]
  },
  {
   "cell_type": "code",
   "execution_count": 32,
   "id": "1d444843",
   "metadata": {
    "execution": {
     "iopub.execute_input": "2024-03-10T13:11:14.079012Z",
     "iopub.status.busy": "2024-03-10T13:11:14.078205Z",
     "iopub.status.idle": "2024-03-10T13:11:14.083404Z",
     "shell.execute_reply": "2024-03-10T13:11:14.082386Z"
    },
    "papermill": {
     "duration": 0.183377,
     "end_time": "2024-03-10T13:11:14.086010",
     "exception": false,
     "start_time": "2024-03-10T13:11:13.902633",
     "status": "completed"
    },
    "tags": []
   },
   "outputs": [],
   "source": [
    "gru_f1_callback = F1ScoreCallback(val_data=(X_val, Y_val),data=(X_train, Y_train))"
   ]
  },
  {
   "cell_type": "code",
   "execution_count": 33,
   "id": "20042e0f",
   "metadata": {
    "execution": {
     "iopub.execute_input": "2024-03-10T13:11:14.502924Z",
     "iopub.status.busy": "2024-03-10T13:11:14.502531Z",
     "iopub.status.idle": "2024-03-10T13:11:14.525816Z",
     "shell.execute_reply": "2024-03-10T13:11:14.524469Z"
    },
    "papermill": {
     "duration": 0.205493,
     "end_time": "2024-03-10T13:11:14.532057",
     "exception": false,
     "start_time": "2024-03-10T13:11:14.326564",
     "status": "completed"
    },
    "tags": []
   },
   "outputs": [
    {
     "name": "stdout",
     "output_type": "stream",
     "text": [
      "Model: \"sequential_1\"\n",
      "_________________________________________________________________\n",
      " Layer (type)                Output Shape              Param #   \n",
      "=================================================================\n",
      " embedding_1 (Embedding)     (None, 70, 300)           9066000   \n",
      "                                                                 \n",
      " gru (GRU)                   (None, 70, 64)            70272     \n",
      "                                                                 \n",
      " time_distributed_1 (TimeDi  (None, 70, 28)            1820      \n",
      " stributed)                                                      \n",
      "                                                                 \n",
      "=================================================================\n",
      "Total params: 9138092 (34.86 MB)\n",
      "Trainable params: 72092 (281.61 KB)\n",
      "Non-trainable params: 9066000 (34.58 MB)\n",
      "_________________________________________________________________\n"
     ]
    }
   ],
   "source": [
    "gru_model.summary()"
   ]
  },
  {
   "cell_type": "markdown",
   "id": "eb517d6f",
   "metadata": {
    "papermill": {
     "duration": 0.17393,
     "end_time": "2024-03-10T13:11:14.881170",
     "exception": false,
     "start_time": "2024-03-10T13:11:14.707240",
     "status": "completed"
    },
    "tags": []
   },
   "source": [
    "Fitting GRU"
   ]
  },
  {
   "cell_type": "code",
   "execution_count": 34,
   "id": "9cb84b9b",
   "metadata": {
    "execution": {
     "iopub.execute_input": "2024-03-10T13:11:15.231430Z",
     "iopub.status.busy": "2024-03-10T13:11:15.231019Z",
     "iopub.status.idle": "2024-03-10T13:30:39.618845Z",
     "shell.execute_reply": "2024-03-10T13:30:39.617390Z"
    },
    "papermill": {
     "duration": 1164.568021,
     "end_time": "2024-03-10T13:30:39.622035",
     "exception": false,
     "start_time": "2024-03-10T13:11:15.054014",
     "status": "completed"
    },
    "tags": []
   },
   "outputs": [
    {
     "name": "stdout",
     "output_type": "stream",
     "text": [
      "Epoch 1/20\n",
      "45/45 [==============================] - 1s 17ms/step\n",
      "251/251 [==============================] - 4s 15ms/step\n",
      "Val F1 Score: 0.075765534250637 - Train F1 Score: 0.07659563523802458\n",
      "63/63 [==============================] - 59s 905ms/step - loss: 1.8501 - acc: 0.7466 - precision_1: 0.8284 - recall_1: 0.3725 - val_loss: 0.7650 - val_acc: 0.9011 - val_precision_1: 0.9050 - val_recall_1: 0.8107\n",
      "Epoch 2/20\n",
      "45/45 [==============================] - 1s 16ms/step\n",
      "251/251 [==============================] - 4s 16ms/step\n",
      "Val F1 Score: 0.0880848461662691 - Train F1 Score: 0.08799233727425246\n",
      "63/63 [==============================] - 57s 912ms/step - loss: 0.5693 - acc: 0.9102 - precision_1: 0.9253 - recall_1: 0.8421 - val_loss: 0.4774 - val_acc: 0.9182 - val_precision_1: 0.9325 - val_recall_1: 0.8632\n",
      "Epoch 3/20\n",
      "45/45 [==============================] - 1s 17ms/step\n",
      "251/251 [==============================] - 4s 17ms/step\n",
      "Val F1 Score: 0.09285160861668207 - Train F1 Score: 0.09356408558688732\n",
      "63/63 [==============================] - 56s 894ms/step - loss: 0.4392 - acc: 0.9211 - precision_1: 0.9399 - recall_1: 0.8759 - val_loss: 0.4150 - val_acc: 0.9225 - val_precision_1: 0.9410 - val_recall_1: 0.8828\n",
      "Epoch 4/20\n",
      "45/45 [==============================] - 1s 26ms/step\n",
      "251/251 [==============================] - 5s 18ms/step\n",
      "Val F1 Score: 0.10006998565490681 - Train F1 Score: 0.1018559413169768\n",
      "63/63 [==============================] - 57s 917ms/step - loss: 0.3944 - acc: 0.9236 - precision_1: 0.9461 - recall_1: 0.8823 - val_loss: 0.3810 - val_acc: 0.9236 - val_precision_1: 0.9436 - val_recall_1: 0.8841\n",
      "Epoch 5/20\n",
      "45/45 [==============================] - 1s 16ms/step\n",
      "251/251 [==============================] - 4s 16ms/step\n",
      "Val F1 Score: 0.11348986342890746 - Train F1 Score: 0.1144519604379173\n",
      "63/63 [==============================] - 56s 898ms/step - loss: 0.3643 - acc: 0.9256 - precision_1: 0.9503 - recall_1: 0.8955 - val_loss: 0.3550 - val_acc: 0.9252 - val_precision_1: 0.9471 - val_recall_1: 0.8999\n",
      "Epoch 6/20\n",
      "45/45 [==============================] - 1s 16ms/step\n",
      "251/251 [==============================] - 4s 16ms/step\n",
      "Val F1 Score: 0.1298824010737509 - Train F1 Score: 0.13361906620676883\n",
      "63/63 [==============================] - 55s 892ms/step - loss: 0.3399 - acc: 0.9277 - precision_1: 0.9537 - recall_1: 0.8995 - val_loss: 0.3305 - val_acc: 0.9280 - val_precision_1: 0.9510 - val_recall_1: 0.9027\n",
      "Epoch 7/20\n",
      "45/45 [==============================] - 1s 17ms/step\n",
      "251/251 [==============================] - 4s 16ms/step\n",
      "Val F1 Score: 0.1778962222198193 - Train F1 Score: 0.18138498909011283\n",
      "63/63 [==============================] - 57s 922ms/step - loss: 0.3185 - acc: 0.9303 - precision_1: 0.9568 - recall_1: 0.9009 - val_loss: 0.3103 - val_acc: 0.9317 - val_precision_1: 0.9556 - val_recall_1: 0.9030\n",
      "Epoch 8/20\n",
      "45/45 [==============================] - 1s 16ms/step\n",
      "251/251 [==============================] - 4s 16ms/step\n",
      "Val F1 Score: 0.2161153361948562 - Train F1 Score: 0.22305338252101406\n",
      "63/63 [==============================] - 58s 937ms/step - loss: 0.2996 - acc: 0.9339 - precision_1: 0.9589 - recall_1: 0.9029 - val_loss: 0.2935 - val_acc: 0.9346 - val_precision_1: 0.9577 - val_recall_1: 0.9052\n",
      "Epoch 9/20\n",
      "45/45 [==============================] - 1s 20ms/step\n",
      "251/251 [==============================] - 4s 16ms/step\n",
      "Val F1 Score: 0.24448628596003563 - Train F1 Score: 0.24969685500466346\n",
      "63/63 [==============================] - 57s 923ms/step - loss: 0.2834 - acc: 0.9367 - precision_1: 0.9608 - recall_1: 0.9054 - val_loss: 0.2791 - val_acc: 0.9372 - val_precision_1: 0.9587 - val_recall_1: 0.9082\n",
      "Epoch 10/20\n",
      "45/45 [==============================] - 1s 16ms/step\n",
      "251/251 [==============================] - 4s 17ms/step\n",
      "Val F1 Score: 0.2747735303277716 - Train F1 Score: 0.2752448563963104\n",
      "63/63 [==============================] - 57s 921ms/step - loss: 0.2696 - acc: 0.9391 - precision_1: 0.9620 - recall_1: 0.9085 - val_loss: 0.2664 - val_acc: 0.9399 - val_precision_1: 0.9609 - val_recall_1: 0.9100\n",
      "Epoch 11/20\n",
      "45/45 [==============================] - 1s 16ms/step\n",
      "251/251 [==============================] - 4s 16ms/step\n",
      "Val F1 Score: 0.30156845927144943 - Train F1 Score: 0.30260854618092203\n",
      "63/63 [==============================] - 57s 915ms/step - loss: 0.2572 - acc: 0.9411 - precision_1: 0.9628 - recall_1: 0.9112 - val_loss: 0.2548 - val_acc: 0.9424 - val_precision_1: 0.9624 - val_recall_1: 0.9126\n",
      "Epoch 12/20\n",
      "45/45 [==============================] - 1s 15ms/step\n",
      "251/251 [==============================] - 4s 16ms/step\n",
      "Val F1 Score: 0.3221125617086859 - Train F1 Score: 0.3252078804594702\n",
      "63/63 [==============================] - 58s 934ms/step - loss: 0.2465 - acc: 0.9431 - precision_1: 0.9638 - recall_1: 0.9187 - val_loss: 0.2453 - val_acc: 0.9443 - val_precision_1: 0.9644 - val_recall_1: 0.9292\n",
      "Epoch 13/20\n",
      "45/45 [==============================] - 1s 16ms/step\n",
      "251/251 [==============================] - 4s 16ms/step\n",
      "Val F1 Score: 0.33656794670514223 - Train F1 Score: 0.33578502324457293\n",
      "63/63 [==============================] - 57s 912ms/step - loss: 0.2371 - acc: 0.9446 - precision_1: 0.9648 - recall_1: 0.9296 - val_loss: 0.2368 - val_acc: 0.9457 - val_precision_1: 0.9640 - val_recall_1: 0.9317\n",
      "Epoch 14/20\n",
      "45/45 [==============================] - 1s 16ms/step\n",
      "251/251 [==============================] - 4s 15ms/step\n",
      "Val F1 Score: 0.3525692410319815 - Train F1 Score: 0.35475392859154786\n",
      "63/63 [==============================] - 56s 898ms/step - loss: 0.2296 - acc: 0.9459 - precision_1: 0.9654 - recall_1: 0.9314 - val_loss: 0.2305 - val_acc: 0.9471 - val_precision_1: 0.9659 - val_recall_1: 0.9316\n",
      "Epoch 15/20\n",
      "45/45 [==============================] - 1s 16ms/step\n",
      "251/251 [==============================] - 4s 16ms/step\n",
      "Val F1 Score: 0.3565301675864803 - Train F1 Score: 0.3638616737374522\n",
      "63/63 [==============================] - 55s 892ms/step - loss: 0.2223 - acc: 0.9473 - precision_1: 0.9661 - recall_1: 0.9334 - val_loss: 0.2243 - val_acc: 0.9481 - val_precision_1: 0.9665 - val_recall_1: 0.9338\n",
      "Epoch 16/20\n",
      "45/45 [==============================] - 1s 15ms/step\n",
      "251/251 [==============================] - 4s 16ms/step\n",
      "Val F1 Score: 0.3627685457105421 - Train F1 Score: 0.3703347103540002\n",
      "63/63 [==============================] - 56s 895ms/step - loss: 0.2163 - acc: 0.9484 - precision_1: 0.9665 - recall_1: 0.9349 - val_loss: 0.2193 - val_acc: 0.9486 - val_precision_1: 0.9655 - val_recall_1: 0.9363\n",
      "Epoch 17/20\n",
      "45/45 [==============================] - 1s 15ms/step\n",
      "251/251 [==============================] - 4s 16ms/step\n",
      "Val F1 Score: 0.3710645333102032 - Train F1 Score: 0.3791667643516322\n",
      "63/63 [==============================] - 56s 907ms/step - loss: 0.2107 - acc: 0.9495 - precision_1: 0.9669 - recall_1: 0.9365 - val_loss: 0.2140 - val_acc: 0.9494 - val_precision_1: 0.9658 - val_recall_1: 0.9376\n",
      "Epoch 18/20\n",
      "45/45 [==============================] - 1s 15ms/step\n",
      "251/251 [==============================] - 4s 16ms/step\n",
      "Val F1 Score: 0.37353810426223644 - Train F1 Score: 0.3826086889113923\n",
      "63/63 [==============================] - 58s 930ms/step - loss: 0.2062 - acc: 0.9504 - precision_1: 0.9673 - recall_1: 0.9379 - val_loss: 0.2106 - val_acc: 0.9500 - val_precision_1: 0.9656 - val_recall_1: 0.9391\n",
      "Epoch 19/20\n",
      "45/45 [==============================] - 1s 16ms/step\n",
      "251/251 [==============================] - 4s 18ms/step\n",
      "Val F1 Score: 0.3771008297008484 - Train F1 Score: 0.3914760588310921\n",
      "63/63 [==============================] - 58s 932ms/step - loss: 0.2018 - acc: 0.9513 - precision_1: 0.9679 - recall_1: 0.9389 - val_loss: 0.2077 - val_acc: 0.9501 - val_precision_1: 0.9657 - val_recall_1: 0.9395\n",
      "Epoch 20/20\n",
      "45/45 [==============================] - 1s 15ms/step\n",
      "251/251 [==============================] - 4s 16ms/step\n",
      "Val F1 Score: 0.37969351895186737 - Train F1 Score: 0.39215695254753763\n",
      "63/63 [==============================] - 57s 923ms/step - loss: 0.1982 - acc: 0.9520 - precision_1: 0.9679 - recall_1: 0.9402 - val_loss: 0.2044 - val_acc: 0.9509 - val_precision_1: 0.9648 - val_recall_1: 0.9415\n"
     ]
    }
   ],
   "source": [
    "gru_training = gru_model.fit(X_train, Y_train, batch_size=128, epochs=20, validation_data=(X_val, Y_val), callbacks=[gru_f1_callback])"
   ]
  },
  {
   "cell_type": "markdown",
   "id": "db73f70a",
   "metadata": {
    "papermill": {
     "duration": 0.455578,
     "end_time": "2024-03-10T13:30:40.543263",
     "exception": false,
     "start_time": "2024-03-10T13:30:40.087685",
     "status": "completed"
    },
    "tags": []
   },
   "source": [
    "Plotting Graph"
   ]
  },
  {
   "cell_type": "code",
   "execution_count": 35,
   "id": "f9473309",
   "metadata": {
    "execution": {
     "iopub.execute_input": "2024-03-10T13:30:41.464298Z",
     "iopub.status.busy": "2024-03-10T13:30:41.463267Z",
     "iopub.status.idle": "2024-03-10T13:30:42.310116Z",
     "shell.execute_reply": "2024-03-10T13:30:42.309062Z"
    },
    "papermill": {
     "duration": 1.308097,
     "end_time": "2024-03-10T13:30:42.312707",
     "exception": false,
     "start_time": "2024-03-10T13:30:41.004610",
     "status": "completed"
    },
    "tags": []
   },
   "outputs": [
    {
     "data": {
      "image/png": "[encoded data removed]",
      "text/plain": [
       "<Figure size 1600x500 with 2 Axes>"
      ]
     },
     "metadata": {},
     "output_type": "display_data"
    }
   ],
   "source": [
    "draw_loss_graph(gru_training,model_name, gru_f1_callback.train_f1_scores, gru_f1_callback.val_f1_scores)\n",
    "save_model(gru_model,model_name,Embedding_name,Dataset)"
   ]
  },
  {
   "cell_type": "markdown",
   "id": "c98d5c8b",
   "metadata": {
    "papermill": {
     "duration": 0.45924,
     "end_time": "2024-03-10T13:30:43.309804",
     "exception": false,
     "start_time": "2024-03-10T13:30:42.850564",
     "status": "completed"
    },
    "tags": []
   },
   "source": [
    "### Testing"
   ]
  },
  {
   "cell_type": "code",
   "execution_count": 36,
   "id": "b387ba2e",
   "metadata": {
    "execution": {
     "iopub.execute_input": "2024-03-10T13:30:44.233085Z",
     "iopub.status.busy": "2024-03-10T13:30:44.232048Z",
     "iopub.status.idle": "2024-03-10T13:30:45.786983Z",
     "shell.execute_reply": "2024-03-10T13:30:45.785570Z"
    },
    "papermill": {
     "duration": 2.020926,
     "end_time": "2024-03-10T13:30:45.789782",
     "exception": false,
     "start_time": "2024-03-10T13:30:43.768856",
     "status": "completed"
    },
    "tags": []
   },
   "outputs": [],
   "source": [
    "loaded_model = load_model(model_name,Embedding_name,Dataset)"
   ]
  },
  {
   "cell_type": "markdown",
   "id": "d2b2d741",
   "metadata": {
    "papermill": {
     "duration": 0.464015,
     "end_time": "2024-03-10T13:30:46.715461",
     "exception": false,
     "start_time": "2024-03-10T13:30:46.251446",
     "status": "completed"
    },
    "tags": []
   },
   "source": [
    "Testing Accuracy"
   ]
  },
  {
   "cell_type": "code",
   "execution_count": 37,
   "id": "1ad0349f",
   "metadata": {
    "execution": {
     "iopub.execute_input": "2024-03-10T13:30:47.724889Z",
     "iopub.status.busy": "2024-03-10T13:30:47.724468Z",
     "iopub.status.idle": "2024-03-10T13:30:49.295297Z",
     "shell.execute_reply": "2024-03-10T13:30:49.293827Z"
    },
    "papermill": {
     "duration": 2.114086,
     "end_time": "2024-03-10T13:30:49.297942",
     "exception": false,
     "start_time": "2024-03-10T13:30:47.183856",
     "status": "completed"
    },
    "tags": []
   },
   "outputs": [
    {
     "name": "stdout",
     "output_type": "stream",
     "text": [
      "30/30 [==============================] - 2s 16ms/step - loss: 0.2344 - acc: 0.9441 - precision_1: 0.9569 - recall_1: 0.9345\n",
      "0.9440764784812927\n"
     ]
    }
   ],
   "source": [
    "accuracy = loaded_model.evaluate(X_test, Y_test, verbose = 1)\n",
    "print(accuracy[1])"
   ]
  },
  {
   "cell_type": "markdown",
   "id": "32031e8d",
   "metadata": {
    "papermill": {
     "duration": 0.460195,
     "end_time": "2024-03-10T13:30:50.220916",
     "exception": false,
     "start_time": "2024-03-10T13:30:49.760721",
     "status": "completed"
    },
    "tags": []
   },
   "source": [
    "Testing F1 Score"
   ]
  },
  {
   "cell_type": "code",
   "execution_count": 38,
   "id": "73f5e262",
   "metadata": {
    "execution": {
     "iopub.execute_input": "2024-03-10T13:30:51.147642Z",
     "iopub.status.busy": "2024-03-10T13:30:51.147198Z",
     "iopub.status.idle": "2024-03-10T13:30:56.584931Z",
     "shell.execute_reply": "2024-03-10T13:30:56.583452Z"
    },
    "papermill": {
     "duration": 5.90544,
     "end_time": "2024-03-10T13:30:56.588161",
     "exception": false,
     "start_time": "2024-03-10T13:30:50.682721",
     "status": "completed"
    },
    "tags": []
   },
   "outputs": [
    {
     "name": "stdout",
     "output_type": "stream",
     "text": [
      "30/30 [==============================] - 1s 15ms/step\n",
      "Test F1 Score: 0.36473237501506134\n"
     ]
    }
   ],
   "source": [
    "Y_pred = loaded_model.predict(X_test)\n",
    "real = get_real(Y_test)\n",
    "pred = get_pred(Y_pred)\n",
    "\n",
    "true_labels_flat = [label for sublist in real for label in sublist]\n",
    "predicted_labels_flat = [label for sublist in pred for label in sublist]\n",
    "\n",
    "# Compute F1 score\n",
    "f1 = f1_score(true_labels_flat, predicted_labels_flat, average='macro')\n",
    "\n",
    "print(\"Test F1 Score:\", f1)"
   ]
  },
  {
   "cell_type": "markdown",
   "id": "dd604e56",
   "metadata": {
    "papermill": {
     "duration": 0.458124,
     "end_time": "2024-03-10T13:30:57.512742",
     "exception": false,
     "start_time": "2024-03-10T13:30:57.054618",
     "status": "completed"
    },
    "tags": []
   },
   "source": [
    "## LSTM"
   ]
  },
  {
   "cell_type": "code",
   "execution_count": 39,
   "id": "6a242e7f",
   "metadata": {
    "execution": {
     "iopub.execute_input": "2024-03-10T13:30:58.515366Z",
     "iopub.status.busy": "2024-03-10T13:30:58.514595Z",
     "iopub.status.idle": "2024-03-10T13:30:58.518852Z",
     "shell.execute_reply": "2024-03-10T13:30:58.518062Z"
    },
    "papermill": {
     "duration": 0.544704,
     "end_time": "2024-03-10T13:30:58.520943",
     "exception": false,
     "start_time": "2024-03-10T13:30:57.976239",
     "status": "completed"
    },
    "tags": []
   },
   "outputs": [],
   "source": [
    "model_name=\"LSTM\""
   ]
  },
  {
   "cell_type": "markdown",
   "id": "c7787f39",
   "metadata": {
    "papermill": {
     "duration": 0.465606,
     "end_time": "2024-03-10T13:30:59.445041",
     "exception": false,
     "start_time": "2024-03-10T13:30:58.979435",
     "status": "completed"
    },
    "tags": []
   },
   "source": [
    "### Training"
   ]
  },
  {
   "cell_type": "code",
   "execution_count": 40,
   "id": "255577a0",
   "metadata": {
    "execution": {
     "iopub.execute_input": "2024-03-10T13:31:00.378391Z",
     "iopub.status.busy": "2024-03-10T13:31:00.377581Z",
     "iopub.status.idle": "2024-03-10T13:31:00.863650Z",
     "shell.execute_reply": "2024-03-10T13:31:00.862512Z"
    },
    "papermill": {
     "duration": 0.95892,
     "end_time": "2024-03-10T13:31:00.866501",
     "exception": false,
     "start_time": "2024-03-10T13:30:59.907581",
     "status": "completed"
    },
    "tags": []
   },
   "outputs": [],
   "source": [
    "lstm_model = Sequential()\n",
    "lstm_model.add(Embedding(input_dim = vocab_size,output_dim = 300,input_length  = max_len,weights = [weights],trainable = False))\n",
    "lstm_model.add(LSTM(128, return_sequences=True))\n",
    "lstm_model.add(TimeDistributed(Dense(Y_train.shape[2], activation='softmax')))# Lstm"
   ]
  },
  {
   "cell_type": "markdown",
   "id": "44446c02",
   "metadata": {
    "papermill": {
     "duration": 0.46264,
     "end_time": "2024-03-10T13:31:01.789297",
     "exception": false,
     "start_time": "2024-03-10T13:31:01.326657",
     "status": "completed"
    },
    "tags": []
   },
   "source": [
    "Compiling LSTM"
   ]
  },
  {
   "cell_type": "code",
   "execution_count": 41,
   "id": "c7f1b183",
   "metadata": {
    "execution": {
     "iopub.execute_input": "2024-03-10T13:31:02.791865Z",
     "iopub.status.busy": "2024-03-10T13:31:02.791467Z",
     "iopub.status.idle": "2024-03-10T13:31:02.812173Z",
     "shell.execute_reply": "2024-03-10T13:31:02.811236Z"
    },
    "papermill": {
     "duration": 0.491462,
     "end_time": "2024-03-10T13:31:02.814684",
     "exception": false,
     "start_time": "2024-03-10T13:31:02.323222",
     "status": "completed"
    },
    "tags": []
   },
   "outputs": [],
   "source": [
    "lstm_model.compile(loss='categorical_crossentropy',optimizer='adam',metrics=['acc',Precision(),Recall()])"
   ]
  },
  {
   "cell_type": "code",
   "execution_count": 42,
   "id": "0cffc3ca",
   "metadata": {
    "execution": {
     "iopub.execute_input": "2024-03-10T13:31:03.737226Z",
     "iopub.status.busy": "2024-03-10T13:31:03.736418Z",
     "iopub.status.idle": "2024-03-10T13:31:03.741114Z",
     "shell.execute_reply": "2024-03-10T13:31:03.740315Z"
    },
    "papermill": {
     "duration": 0.467449,
     "end_time": "2024-03-10T13:31:03.743237",
     "exception": false,
     "start_time": "2024-03-10T13:31:03.275788",
     "status": "completed"
    },
    "tags": []
   },
   "outputs": [],
   "source": [
    "LSTM_f1_callback=F1ScoreCallback(val_data=(X_val, Y_val),data=(X_train, Y_train))"
   ]
  },
  {
   "cell_type": "code",
   "execution_count": 43,
   "id": "36d19676",
   "metadata": {
    "execution": {
     "iopub.execute_input": "2024-03-10T13:31:04.675802Z",
     "iopub.status.busy": "2024-03-10T13:31:04.674828Z",
     "iopub.status.idle": "2024-03-10T13:31:04.696174Z",
     "shell.execute_reply": "2024-03-10T13:31:04.695395Z"
    },
    "papermill": {
     "duration": 0.50918,
     "end_time": "2024-03-10T13:31:04.708492",
     "exception": false,
     "start_time": "2024-03-10T13:31:04.199312",
     "status": "completed"
    },
    "tags": []
   },
   "outputs": [
    {
     "name": "stdout",
     "output_type": "stream",
     "text": [
      "Model: \"sequential_2\"\n",
      "_________________________________________________________________\n",
      " Layer (type)                Output Shape              Param #   \n",
      "=================================================================\n",
      " embedding_2 (Embedding)     (None, 70, 300)           9066000   \n",
      "                                                                 \n",
      " lstm (LSTM)                 (None, 70, 128)           219648    \n",
      "                                                                 \n",
      " time_distributed_2 (TimeDi  (None, 70, 28)            3612      \n",
      " stributed)                                                      \n",
      "                                                                 \n",
      "=================================================================\n",
      "Total params: 9289260 (35.44 MB)\n",
      "Trainable params: 223260 (872.11 KB)\n",
      "Non-trainable params: 9066000 (34.58 MB)\n",
      "_________________________________________________________________\n"
     ]
    }
   ],
   "source": [
    "lstm_model.summary()"
   ]
  },
  {
   "cell_type": "markdown",
   "id": "47955b5a",
   "metadata": {
    "papermill": {
     "duration": 0.572189,
     "end_time": "2024-03-10T13:31:05.761084",
     "exception": false,
     "start_time": "2024-03-10T13:31:05.188895",
     "status": "completed"
    },
    "tags": []
   },
   "source": [
    "Fitting LSTM"
   ]
  },
  {
   "cell_type": "code",
   "execution_count": 44,
   "id": "735a491b",
   "metadata": {
    "execution": {
     "iopub.execute_input": "2024-03-10T13:31:06.683438Z",
     "iopub.status.busy": "2024-03-10T13:31:06.682997Z",
     "iopub.status.idle": "2024-03-10T13:53:59.803749Z",
     "shell.execute_reply": "2024-03-10T13:53:59.802607Z"
    },
    "papermill": {
     "duration": 1374.461389,
     "end_time": "2024-03-10T13:54:00.683937",
     "exception": false,
     "start_time": "2024-03-10T13:31:06.222548",
     "status": "completed"
    },
    "tags": []
   },
   "outputs": [
    {
     "name": "stdout",
     "output_type": "stream",
     "text": [
      "Epoch 1/20\n",
      "45/45 [==============================] - 2s 34ms/step\n",
      "251/251 [==============================] - 9s 35ms/step\n",
      "Val F1 Score: 0.07110011044587929 - Train F1 Score: 0.07146367797108188\n",
      "63/63 [==============================] - 71s 1s/step - loss: 1.4367 - acc: 0.8059 - precision_2: 0.8716 - recall_2: 0.5539 - val_loss: 0.6611 - val_acc: 0.8962 - val_precision_2: 0.8986 - val_recall_2: 0.8058\n",
      "Epoch 2/20\n",
      "45/45 [==============================] - 2s 34ms/step\n",
      "251/251 [==============================] - 9s 36ms/step\n",
      "Val F1 Score: 0.08897411649712758 - Train F1 Score: 0.08845767111397833\n",
      "63/63 [==============================] - 68s 1s/step - loss: 0.5658 - acc: 0.9123 - precision_2: 0.9220 - recall_2: 0.8362 - val_loss: 0.5083 - val_acc: 0.9192 - val_precision_2: 0.9307 - val_recall_2: 0.8507\n",
      "Epoch 3/20\n",
      "45/45 [==============================] - 2s 35ms/step\n",
      "251/251 [==============================] - 9s 37ms/step\n",
      "Val F1 Score: 0.09323712515162433 - Train F1 Score: 0.0930033062819982\n",
      "63/63 [==============================] - 68s 1s/step - loss: 0.4755 - acc: 0.9209 - precision_2: 0.9386 - recall_2: 0.8601 - val_loss: 0.4482 - val_acc: 0.9242 - val_precision_2: 0.9422 - val_recall_2: 0.8710\n",
      "Epoch 4/20\n",
      "45/45 [==============================] - 2s 35ms/step\n",
      "251/251 [==============================] - 9s 36ms/step\n",
      "Val F1 Score: 0.10195139027574336 - Train F1 Score: 0.10450785778559055\n",
      "63/63 [==============================] - 67s 1s/step - loss: 0.4237 - acc: 0.9240 - precision_2: 0.9458 - recall_2: 0.8694 - val_loss: 0.4021 - val_acc: 0.9252 - val_precision_2: 0.9455 - val_recall_2: 0.8721\n",
      "Epoch 5/20\n",
      "45/45 [==============================] - 2s 36ms/step\n",
      "251/251 [==============================] - 9s 36ms/step\n",
      "Val F1 Score: 0.13175386299764336 - Train F1 Score: 0.13562826740777398\n",
      "63/63 [==============================] - 67s 1s/step - loss: 0.3826 - acc: 0.9270 - precision_2: 0.9510 - recall_2: 0.8838 - val_loss: 0.3643 - val_acc: 0.9290 - val_precision_2: 0.9511 - val_recall_2: 0.8876\n",
      "Epoch 6/20\n",
      "45/45 [==============================] - 2s 35ms/step\n",
      "251/251 [==============================] - 9s 36ms/step\n",
      "Val F1 Score: 0.1787917524840507 - Train F1 Score: 0.18801976349157634\n",
      "63/63 [==============================] - 69s 1s/step - loss: 0.3481 - acc: 0.9308 - precision_2: 0.9547 - recall_2: 0.8871 - val_loss: 0.3368 - val_acc: 0.9314 - val_precision_2: 0.9539 - val_recall_2: 0.8883\n",
      "Epoch 7/20\n",
      "45/45 [==============================] - 2s 36ms/step\n",
      "251/251 [==============================] - 9s 36ms/step\n",
      "Val F1 Score: 0.21825318267398072 - Train F1 Score: 0.22642534735436648\n",
      "63/63 [==============================] - 69s 1s/step - loss: 0.3181 - acc: 0.9343 - precision_2: 0.9575 - recall_2: 0.8902 - val_loss: 0.3051 - val_acc: 0.9359 - val_precision_2: 0.9559 - val_recall_2: 0.8938\n",
      "Epoch 8/20\n",
      "45/45 [==============================] - 2s 35ms/step\n",
      "251/251 [==============================] - 9s 36ms/step\n",
      "Val F1 Score: 0.24729299091113166 - Train F1 Score: 0.25280286040002853\n",
      "63/63 [==============================] - 68s 1s/step - loss: 0.2940 - acc: 0.9380 - precision_2: 0.9597 - recall_2: 0.8954 - val_loss: 0.2849 - val_acc: 0.9388 - val_precision_2: 0.9573 - val_recall_2: 0.9120\n",
      "Epoch 9/20\n",
      "45/45 [==============================] - 2s 36ms/step\n",
      "251/251 [==============================] - 9s 36ms/step\n",
      "Val F1 Score: 0.2815246962472247 - Train F1 Score: 0.2881035192887396\n",
      "63/63 [==============================] - 67s 1s/step - loss: 0.2753 - acc: 0.9406 - precision_2: 0.9617 - recall_2: 0.9111 - val_loss: 0.2676 - val_acc: 0.9418 - val_precision_2: 0.9601 - val_recall_2: 0.9148\n",
      "Epoch 10/20\n",
      "45/45 [==============================] - 2s 36ms/step\n",
      "251/251 [==============================] - 9s 37ms/step\n",
      "Val F1 Score: 0.3081153697934784 - Train F1 Score: 0.3108513479758223\n",
      "63/63 [==============================] - 73s 1s/step - loss: 0.2606 - acc: 0.9427 - precision_2: 0.9629 - recall_2: 0.9139 - val_loss: 0.2556 - val_acc: 0.9438 - val_precision_2: 0.9621 - val_recall_2: 0.9158\n",
      "Epoch 11/20\n",
      "45/45 [==============================] - 2s 36ms/step\n",
      "251/251 [==============================] - 9s 36ms/step\n",
      "Val F1 Score: 0.3196763765409943 - Train F1 Score: 0.3236806502368918\n",
      "63/63 [==============================] - 68s 1s/step - loss: 0.2487 - acc: 0.9445 - precision_2: 0.9637 - recall_2: 0.9160 - val_loss: 0.2454 - val_acc: 0.9449 - val_precision_2: 0.9616 - val_recall_2: 0.9187\n",
      "Epoch 12/20\n",
      "45/45 [==============================] - 2s 36ms/step\n",
      "251/251 [==============================] - 9s 36ms/step\n",
      "Val F1 Score: 0.34331793340926164 - Train F1 Score: 0.3478038196571108\n",
      "63/63 [==============================] - 68s 1s/step - loss: 0.2394 - acc: 0.9460 - precision_2: 0.9644 - recall_2: 0.9179 - val_loss: 0.2363 - val_acc: 0.9471 - val_precision_2: 0.9641 - val_recall_2: 0.9191\n",
      "Epoch 13/20\n",
      "45/45 [==============================] - 2s 37ms/step\n",
      "251/251 [==============================] - 9s 36ms/step\n",
      "Val F1 Score: 0.3595897585070114 - Train F1 Score: 0.36507840887812887\n",
      "63/63 [==============================] - 70s 1s/step - loss: 0.2306 - acc: 0.9477 - precision_2: 0.9652 - recall_2: 0.9198 - val_loss: 0.2287 - val_acc: 0.9485 - val_precision_2: 0.9649 - val_recall_2: 0.9215\n",
      "Epoch 14/20\n",
      "45/45 [==============================] - 2s 35ms/step\n",
      "251/251 [==============================] - 9s 36ms/step\n",
      "Val F1 Score: 0.3650114661290888 - Train F1 Score: 0.37066410772397596\n",
      "63/63 [==============================] - 68s 1s/step - loss: 0.2240 - acc: 0.9487 - precision_2: 0.9655 - recall_2: 0.9213 - val_loss: 0.2241 - val_acc: 0.9494 - val_precision_2: 0.9653 - val_recall_2: 0.9226\n",
      "Epoch 15/20\n",
      "45/45 [==============================] - 2s 35ms/step\n",
      "251/251 [==============================] - 9s 36ms/step\n",
      "Val F1 Score: 0.3717551962367189 - Train F1 Score: 0.38141057952850194\n",
      "63/63 [==============================] - 68s 1s/step - loss: 0.2179 - acc: 0.9499 - precision_2: 0.9662 - recall_2: 0.9226 - val_loss: 0.2181 - val_acc: 0.9504 - val_precision_2: 0.9650 - val_recall_2: 0.9248\n",
      "Epoch 16/20\n",
      "45/45 [==============================] - 2s 34ms/step\n",
      "251/251 [==============================] - 9s 37ms/step\n",
      "Val F1 Score: 0.3842280906874792 - Train F1 Score: 0.3959341901961067\n",
      "63/63 [==============================] - 69s 1s/step - loss: 0.2113 - acc: 0.9510 - precision_2: 0.9668 - recall_2: 0.9243 - val_loss: 0.2134 - val_acc: 0.9509 - val_precision_2: 0.9653 - val_recall_2: 0.9253\n",
      "Epoch 17/20\n",
      "45/45 [==============================] - 2s 39ms/step\n",
      "251/251 [==============================] - 9s 36ms/step\n",
      "Val F1 Score: 0.39198142941896347 - Train F1 Score: 0.40612291663150096\n",
      "63/63 [==============================] - 68s 1s/step - loss: 0.2054 - acc: 0.9519 - precision_2: 0.9670 - recall_2: 0.9257 - val_loss: 0.2096 - val_acc: 0.9515 - val_precision_2: 0.9668 - val_recall_2: 0.9247\n",
      "Epoch 18/20\n",
      "45/45 [==============================] - 2s 35ms/step\n",
      "251/251 [==============================] - 9s 36ms/step\n",
      "Val F1 Score: 0.3900728460207438 - Train F1 Score: 0.40556317260112873\n",
      "63/63 [==============================] - 68s 1s/step - loss: 0.2009 - acc: 0.9527 - precision_2: 0.9674 - recall_2: 0.9267 - val_loss: 0.2071 - val_acc: 0.9512 - val_precision_2: 0.9663 - val_recall_2: 0.9252\n",
      "Epoch 19/20\n",
      "45/45 [==============================] - 2s 35ms/step\n",
      "251/251 [==============================] - 9s 35ms/step\n",
      "Val F1 Score: 0.3880432127699069 - Train F1 Score: 0.41028020649860864\n",
      "63/63 [==============================] - 70s 1s/step - loss: 0.1964 - acc: 0.9534 - precision_2: 0.9678 - recall_2: 0.9274 - val_loss: 0.2035 - val_acc: 0.9510 - val_precision_2: 0.9646 - val_recall_2: 0.9272\n",
      "Epoch 20/20\n",
      "45/45 [==============================] - 2s 35ms/step\n",
      "251/251 [==============================] - 9s 35ms/step\n",
      "Val F1 Score: 0.3983210437654127 - Train F1 Score: 0.41737467404176426\n",
      "63/63 [==============================] - 69s 1s/step - loss: 0.1926 - acc: 0.9539 - precision_2: 0.9683 - recall_2: 0.9394 - val_loss: 0.1983 - val_acc: 0.9525 - val_precision_2: 0.9658 - val_recall_2: 0.9427\n"
     ]
    }
   ],
   "source": [
    "lstm_training = lstm_model.fit(X_train, Y_train, batch_size=128, epochs=20, validation_data=(X_val, Y_val), callbacks=[LSTM_f1_callback])"
   ]
  },
  {
   "cell_type": "markdown",
   "id": "a4d1d8b1",
   "metadata": {
    "papermill": {
     "duration": 0.872199,
     "end_time": "2024-03-10T13:54:02.430890",
     "exception": false,
     "start_time": "2024-03-10T13:54:01.558691",
     "status": "completed"
    },
    "tags": []
   },
   "source": [
    "Plotting Graph"
   ]
  },
  {
   "cell_type": "code",
   "execution_count": 45,
   "id": "2459b90b",
   "metadata": {
    "execution": {
     "iopub.execute_input": "2024-03-10T13:54:04.250340Z",
     "iopub.status.busy": "2024-03-10T13:54:04.248996Z",
     "iopub.status.idle": "2024-03-10T13:54:06.804492Z",
     "shell.execute_reply": "2024-03-10T13:54:06.803223Z"
    },
    "papermill": {
     "duration": 3.435125,
     "end_time": "2024-03-10T13:54:06.807281",
     "exception": false,
     "start_time": "2024-03-10T13:54:03.372156",
     "status": "completed"
    },
    "tags": []
   },
   "outputs": [
    {
     "data": {
      "image/png": "[encoded data removed]",
      "text/plain": [
       "<Figure size 1600x500 with 2 Axes>"
      ]
     },
     "metadata": {},
     "output_type": "display_data"
    }
   ],
   "source": [
    "draw_loss_graph(lstm_training, \"LSTM Model\", LSTM_f1_callback.train_f1_scores, LSTM_f1_callback.val_f1_scores)\n",
    "save_model(lstm_model, model_name, Embedding_name, Dataset)\n",
    "loaded_model = load_model(model_name,Embedding_name,Dataset)"
   ]
  },
  {
   "cell_type": "markdown",
   "id": "645575ba",
   "metadata": {
    "papermill": {
     "duration": 0.945233,
     "end_time": "2024-03-10T13:54:08.620747",
     "exception": false,
     "start_time": "2024-03-10T13:54:07.675514",
     "status": "completed"
    },
    "tags": []
   },
   "source": [
    "### Testing"
   ]
  },
  {
   "cell_type": "code",
   "execution_count": 46,
   "id": "4e9d00cb",
   "metadata": {
    "execution": {
     "iopub.execute_input": "2024-03-10T13:54:10.371190Z",
     "iopub.status.busy": "2024-03-10T13:54:10.370734Z",
     "iopub.status.idle": "2024-03-10T13:54:11.548235Z",
     "shell.execute_reply": "2024-03-10T13:54:11.546979Z"
    },
    "papermill": {
     "duration": 2.05469,
     "end_time": "2024-03-10T13:54:11.551384",
     "exception": false,
     "start_time": "2024-03-10T13:54:09.496694",
     "status": "completed"
    },
    "tags": []
   },
   "outputs": [],
   "source": [
    "loaded_model = load_model(model_name,Embedding_name,Dataset)"
   ]
  },
  {
   "cell_type": "markdown",
   "id": "d1c1cfe0",
   "metadata": {
    "papermill": {
     "duration": 0.874478,
     "end_time": "2024-03-10T13:54:13.378152",
     "exception": false,
     "start_time": "2024-03-10T13:54:12.503674",
     "status": "completed"
    },
    "tags": []
   },
   "source": [
    "Testing accuracy"
   ]
  },
  {
   "cell_type": "code",
   "execution_count": 47,
   "id": "06bd8055",
   "metadata": {
    "execution": {
     "iopub.execute_input": "2024-03-10T13:54:15.198431Z",
     "iopub.status.busy": "2024-03-10T13:54:15.197552Z",
     "iopub.status.idle": "2024-03-10T13:54:17.614191Z",
     "shell.execute_reply": "2024-03-10T13:54:17.612756Z"
    },
    "papermill": {
     "duration": 3.370943,
     "end_time": "2024-03-10T13:54:17.616984",
     "exception": false,
     "start_time": "2024-03-10T13:54:14.246041",
     "status": "completed"
    },
    "tags": []
   },
   "outputs": [
    {
     "name": "stdout",
     "output_type": "stream",
     "text": [
      "30/30 [==============================] - 2s 37ms/step - loss: 0.2242 - acc: 0.9466 - precision_2: 0.9589 - recall_2: 0.9369\n",
      "0.9465904235839844\n"
     ]
    }
   ],
   "source": [
    "accuracy = loaded_model.evaluate(X_test, Y_test, verbose = 1)\n",
    "print(accuracy[1])"
   ]
  },
  {
   "cell_type": "markdown",
   "id": "c7d5a30d",
   "metadata": {
    "papermill": {
     "duration": 0.876477,
     "end_time": "2024-03-10T13:54:19.376453",
     "exception": false,
     "start_time": "2024-03-10T13:54:18.499976",
     "status": "completed"
    },
    "tags": []
   },
   "source": [
    "Testing F1 Score"
   ]
  },
  {
   "cell_type": "code",
   "execution_count": 48,
   "id": "f742fdab",
   "metadata": {
    "execution": {
     "iopub.execute_input": "2024-03-10T13:54:21.206760Z",
     "iopub.status.busy": "2024-03-10T13:54:21.205279Z",
     "iopub.status.idle": "2024-03-10T13:54:27.342006Z",
     "shell.execute_reply": "2024-03-10T13:54:27.340405Z"
    },
    "papermill": {
     "duration": 7.010564,
     "end_time": "2024-03-10T13:54:27.344663",
     "exception": false,
     "start_time": "2024-03-10T13:54:20.334099",
     "status": "completed"
    },
    "tags": []
   },
   "outputs": [
    {
     "name": "stdout",
     "output_type": "stream",
     "text": [
      "30/30 [==============================] - 2s 36ms/step\n",
      "Test F1 Score: 0.38937607842921607\n"
     ]
    }
   ],
   "source": [
    "Y_pred = loaded_model.predict(X_test)\n",
    "real = get_real(Y_test)\n",
    "pred = get_pred(Y_pred)\n",
    "\n",
    "true_labels_flat = [label for sublist in real for label in sublist]\n",
    "predicted_labels_flat = [label for sublist in pred for label in sublist]\n",
    "\n",
    "# Compute F1 score\n",
    "f1 = f1_score(true_labels_flat, predicted_labels_flat, average='macro')\n",
    "\n",
    "print(\"Test F1 Score:\", f1)"
   ]
  },
  {
   "cell_type": "markdown",
   "id": "479576e0",
   "metadata": {
    "papermill": {
     "duration": 0.958217,
     "end_time": "2024-03-10T13:54:29.176052",
     "exception": false,
     "start_time": "2024-03-10T13:54:28.217835",
     "status": "completed"
    },
    "tags": []
   },
   "source": [
    "# BiLSTM"
   ]
  },
  {
   "cell_type": "code",
   "execution_count": 49,
   "id": "ee825d14",
   "metadata": {
    "execution": {
     "iopub.execute_input": "2024-03-10T13:54:30.920574Z",
     "iopub.status.busy": "2024-03-10T13:54:30.920157Z",
     "iopub.status.idle": "2024-03-10T13:54:30.925076Z",
     "shell.execute_reply": "2024-03-10T13:54:30.923963Z"
    },
    "papermill": {
     "duration": 0.883046,
     "end_time": "2024-03-10T13:54:30.927184",
     "exception": false,
     "start_time": "2024-03-10T13:54:30.044138",
     "status": "completed"
    },
    "tags": []
   },
   "outputs": [],
   "source": [
    "model_name=\"BiLSTM\""
   ]
  }
 ],
 "metadata": {
  "kaggle": {
   "accelerator": "none",
   "dataSources": [
    {
     "datasetId": 4563561,
     "sourceId": 7795189,
     "sourceType": "datasetVersion"
    }
   ],
   "dockerImageVersionId": 30664,
   "isGpuEnabled": false,
   "isInternetEnabled": true,
   "language": "python",
   "sourceType": "notebook"
  },
  "kernelspec": {
   "display_name": "Python 3",
   "language": "python",
   "name": "python3"
  },
  "language_info": {
   "codemirror_mode": {
    "name": "ipython",
    "version": 3
   },
   "file_extension": ".py",
   "mimetype": "text/x-python",
   "name": "python",
   "nbconvert_exporter": "python",
   "pygments_lexer": "ipython3",
   "version": "3.10.13"
  },
  "papermill": {
   "default_parameters": {},
   "duration": 4379.604833,
   "end_time": "2024-03-10T13:54:35.466551",
   "environment_variables": {},
   "exception": null,
   "input_path": "__notebook__.ipynb",
   "output_path": "__notebook__.ipynb",
   "parameters": {},
   "start_time": "2024-03-10T12:41:35.861718",
   "version": "2.5.0"
  }
 },
 "nbformat": 4,
 "nbformat_minor": 5
}
