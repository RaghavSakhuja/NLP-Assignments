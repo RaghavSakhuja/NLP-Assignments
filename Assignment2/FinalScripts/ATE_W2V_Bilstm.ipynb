{
 "cells": [
  {
   "cell_type": "code",
   "execution_count": 1,
   "metadata": {
    "_cell_guid": "b1076dfc-b9ad-4769-8c92-a6c4dae69d19",
    "_uuid": "8f2839f25d086af736a60e9eeb907d3b93b6e0e5",
    "execution": {
     "iopub.execute_input": "2024-03-10T19:56:57.629994Z",
     "iopub.status.busy": "2024-03-10T19:56:57.629377Z",
     "iopub.status.idle": "2024-03-10T19:56:57.637143Z",
     "shell.execute_reply": "2024-03-10T19:56:57.635984Z",
     "shell.execute_reply.started": "2024-03-10T19:56:57.629903Z"
    }
   },
   "outputs": [],
   "source": [
    "# This Python 3 environment comes with many helpful analytics libraries installed\n",
    "# It is defined by the kaggle/python docker image: https://github.com/kaggle/docker-python\n",
    "# For example, here's several helpful packages to load in \n",
    "Embedding_name=\"word2vec\"\n",
    "Dataset=\"ATE\"\n"
   ]
  },
  {
   "cell_type": "code",
   "execution_count": 2,
   "metadata": {
    "execution": {
     "iopub.execute_input": "2024-03-10T19:56:57.640214Z",
     "iopub.status.busy": "2024-03-10T19:56:57.639581Z",
     "iopub.status.idle": "2024-03-10T19:57:04.025986Z",
     "shell.execute_reply": "2024-03-10T19:57:04.024498Z",
     "shell.execute_reply.started": "2024-03-10T19:56:57.640146Z"
    }
   },
   "outputs": [
    {
     "name": "stdout",
     "output_type": "stream",
     "text": [
      "Name: gensim\r\n",
      "Version: 3.8.1\r\n",
      "Summary: Python framework for fast Vector Space Modelling\r\n",
      "Home-page: http://radimrehurek.com/gensim\r\n",
      "Author: Radim Rehurek\r\n",
      "Author-email: me@radimrehurek.com\r\n",
      "License: LGPLv2.1\r\n",
      "Location: /opt/conda/lib/python3.6/site-packages\r\n",
      "Requires: smart-open, six, scipy, numpy\r\n",
      "Required-by: \r\n"
     ]
    }
   ],
   "source": [
    "!pip show gensim"
   ]
  },
  {
   "cell_type": "code",
   "execution_count": 3,
   "metadata": {
    "execution": {
     "iopub.execute_input": "2024-03-10T19:57:04.028436Z",
     "iopub.status.busy": "2024-03-10T19:57:04.028053Z",
     "iopub.status.idle": "2024-03-10T19:57:05.140714Z",
     "shell.execute_reply": "2024-03-10T19:57:05.139315Z",
     "shell.execute_reply.started": "2024-03-10T19:57:04.028366Z"
    }
   },
   "outputs": [
    {
     "name": "stdout",
     "output_type": "stream",
     "text": [
      "Python 3.6.6 :: Anaconda, Inc.\r\n"
     ]
    }
   ],
   "source": [
    "!python --version"
   ]
  },
  {
   "cell_type": "code",
   "execution_count": 4,
   "metadata": {
    "execution": {
     "iopub.execute_input": "2024-03-10T19:57:05.143380Z",
     "iopub.status.busy": "2024-03-10T19:57:05.142879Z",
     "iopub.status.idle": "2024-03-10T19:57:07.019286Z",
     "shell.execute_reply": "2024-03-10T19:57:07.018112Z",
     "shell.execute_reply.started": "2024-03-10T19:57:05.143281Z"
    }
   },
   "outputs": [
    {
     "name": "stdout",
     "output_type": "stream",
     "text": [
      "pip 19.3.1 from /opt/conda/lib/python3.6/site-packages/pip (python 3.6)\r\n"
     ]
    }
   ],
   "source": [
    "!pip --version"
   ]
  },
  {
   "cell_type": "code",
   "execution_count": 5,
   "metadata": {
    "execution": {
     "iopub.execute_input": "2024-03-10T19:57:07.025010Z",
     "iopub.status.busy": "2024-03-10T19:57:07.024522Z",
     "iopub.status.idle": "2024-03-10T19:57:20.106494Z",
     "shell.execute_reply": "2024-03-10T19:57:20.104787Z",
     "shell.execute_reply.started": "2024-03-10T19:57:07.024926Z"
    }
   },
   "outputs": [
    {
     "name": "stdout",
     "output_type": "stream",
     "text": [
      "Name: tensorflow\r\n",
      "Version: 2.1.0rc0\r\n",
      "Summary: TensorFlow is an open source machine learning framework for everyone.\r\n",
      "Home-page: https://www.tensorflow.org/\r\n",
      "Author: Google Inc.\r\n",
      "Author-email: packages@tensorflow.org\r\n",
      "License: Apache 2.0\r\n",
      "Location: /opt/conda/lib/python3.6/site-packages\r\n",
      "Requires: termcolor, protobuf, keras-preprocessing, six, wrapt, absl-py, astor, gast, tensorboard, numpy, tensorflow-estimator, opt-einsum, keras-applications, wheel, google-pasta, grpcio\r\n",
      "Required-by: fancyimpute\r\n",
      "Name: Keras\r\n",
      "Version: 2.3.1\r\n",
      "Summary: Deep Learning for humans\r\n",
      "Home-page: https://github.com/keras-team/keras\r\n",
      "Author: Francois Chollet\r\n",
      "Author-email: francois.chollet@gmail.com\r\n",
      "License: MIT\r\n",
      "Location: /opt/conda/lib/python3.6/site-packages\r\n",
      "Requires: scipy, six, numpy, keras-preprocessing, keras-applications, h5py, pyyaml\r\n",
      "Required-by: keras-tqdm, keras-rl, keras-resnet, keras-rcnn, fancyimpute, conx\r\n"
     ]
    }
   ],
   "source": [
    "!pip show tensorflow\n",
    "!pip show keras\n"
   ]
  },
  {
   "cell_type": "code",
   "execution_count": 6,
   "metadata": {
    "_cell_guid": "b1076dfc-b9ad-4769-8c92-a6c4dae69d19",
    "_uuid": "8f2839f25d086af736a60e9eeb907d3b93b6e0e5",
    "execution": {
     "iopub.execute_input": "2024-03-10T19:57:20.111144Z",
     "iopub.status.busy": "2024-03-10T19:57:20.110697Z"
    }
   },
   "outputs": [
    {
     "name": "stderr",
     "output_type": "stream",
     "text": [
      "Using TensorFlow backend.\n"
     ]
    },
    {
     "name": "stdout",
     "output_type": "stream",
     "text": [
      "Collecting git+https://www.github.com/keras-team/keras-contrib.git\r\n",
      "  Cloning https://www.github.com/keras-team/keras-contrib.git to /tmp/pip-req-build-ae7d365i\r\n",
      "  Running command git clone -q https://www.github.com/keras-team/keras-contrib.git /tmp/pip-req-build-ae7d365i\r\n",
      "Requirement already satisfied: keras in /opt/conda/lib/python3.6/site-packages (from keras-contrib==2.0.8) (2.3.1)\r\n",
      "Requirement already satisfied: h5py in /opt/conda/lib/python3.6/site-packages (from keras->keras-contrib==2.0.8) (2.9.0)\r\n",
      "Requirement already satisfied: keras-applications>=1.0.6 in /opt/conda/lib/python3.6/site-packages (from keras->keras-contrib==2.0.8) (1.0.8)\r\n",
      "Requirement already satisfied: scipy>=0.14 in /opt/conda/lib/python3.6/site-packages (from keras->keras-contrib==2.0.8) (1.3.3)\r\n",
      "Requirement already satisfied: six>=1.9.0 in /opt/conda/lib/python3.6/site-packages (from keras->keras-contrib==2.0.8) (1.13.0)\r\n",
      "Requirement already satisfied: keras-preprocessing>=1.0.5 in /opt/conda/lib/python3.6/site-packages (from keras->keras-contrib==2.0.8) (1.1.0)\r\n",
      "Requirement already satisfied: numpy>=1.9.1 in /opt/conda/lib/python3.6/site-packages (from keras->keras-contrib==2.0.8) (1.17.4)\r\n",
      "Requirement already satisfied: pyyaml in /opt/conda/lib/python3.6/site-packages (from keras->keras-contrib==2.0.8) (5.1.2)\r\n",
      "Building wheels for collected packages: keras-contrib\r\n",
      "  Building wheel for keras-contrib (setup.py) ... \u001b[?25l-\b \b\\\b \b|\b \bdone\r\n",
      "\u001b[?25h  Created wheel for keras-contrib: filename=keras_contrib-2.0.8-cp36-none-any.whl size=101065 sha256=e7b33370bbab8349f639ecf8650a96f6336fce351746517102575a8366dff575\r\n",
      "  Stored in directory: /tmp/pip-ephem-wheel-cache-34fr0mw6/wheels/11/27/c8/4ed56de7b55f4f61244e2dc6ef3cdbaff2692527a2ce6502ba\r\n",
      "Successfully built keras-contrib\r\n",
      "Installing collected packages: keras-contrib\r\n",
      "Successfully installed keras-contrib-2.0.8\r\n",
      "Requirement already satisfied: fasttext in /opt/conda/lib/python3.6/site-packages (0.9.1)\r\n",
      "Requirement already satisfied: numpy in /opt/conda/lib/python3.6/site-packages (from fasttext) (1.17.4)\r\n",
      "Requirement already satisfied: pybind11>=2.2 in /opt/conda/lib/python3.6/site-packages (from fasttext) (2.4.3)\r\n",
      "Requirement already satisfied: setuptools>=0.7.0 in /opt/conda/lib/python3.6/site-packages (from fasttext) (42.0.1.post20191125)\r\n",
      "/kaggle/input/nernlp3/BiLSTM_word2vec.pkl\n",
      "/kaggle/input/nernlp3/BiLSTM_fasttext.pkl\n",
      "/kaggle/input/nernlp3/Assignment2/WordEmbeddings/glove.840B.300d.pkl\n",
      "/kaggle/input/nernlp3/Assignment2/WordEmbeddings/Word2vec.bin\n",
      "/kaggle/input/nernlp3/Assignment2/WordEmbeddings/cc.en.300.bin\n",
      "/kaggle/input/nernlp3/Assignment2/Data/check.py\n",
      "/kaggle/input/nernlp3/Assignment2/Data/NER_TRAIN_JUDGEMENT.json\n",
      "/kaggle/input/nernlp3/Assignment2/Data/Laptop_Review_Val.json\n",
      "/kaggle/input/nernlp3/Assignment2/Data/bio.ipynb\n",
      "/kaggle/input/nernlp3/Assignment2/Data/Laptop_Review_Train.json\n",
      "/kaggle/input/nernlp3/Assignment2/Data/bio1.py\n",
      "/kaggle/input/nernlp3/Assignment2/Data/NER_TEST_JUDGEMENT.json\n",
      "/kaggle/input/nernlp3/Assignment2/Data/Laptop_Review_Test.json\n",
      "/kaggle/input/nernlp3/Assignment2/Data/processed/NER_test.json\n",
      "/kaggle/input/nernlp3/Assignment2/Data/processed/ATE_test.json\n",
      "/kaggle/input/nernlp3/Assignment2/Data/processed/NER_train.json\n",
      "/kaggle/input/nernlp3/Assignment2/Data/processed/ATE_train.json\n",
      "/kaggle/input/nernlp3/Assignment2/Data/processed/NER_val.json\n",
      "/kaggle/input/nernlp3/Assignment2/Data/processed/ATE_val.json\n"
     ]
    }
   ],
   "source": [
    "import numpy as np\n",
    "import json\n",
    "import pickle\n",
    "\n",
    "from keras.preprocessing.sequence import pad_sequences\n",
    "from keras.utils import to_categorical\n",
    "from sklearn.model_selection import train_test_split\n",
    "\n",
    "!pip install git+https://www.github.com/keras-team/keras-contrib.git\n",
    "\n",
    "from keras.models import Model, Input\n",
    "from keras.layers import LSTM, Embedding, Dense, TimeDistributed, Dropout, Bidirectional\n",
    "import keras as k\n",
    "from keras_contrib.layers import CRF\n",
    "from keras.callbacks import ModelCheckpoint,Callback\n",
    "import matplotlib.pyplot as plt\n",
    "\n",
    "!pip install fasttext\n",
    "\n",
    "import fasttext\n",
    "import fasttext.util\n",
    "\n",
    "from sklearn.metrics import f1_score\n",
    "\n",
    "from gensim.models import KeyedVectors\n",
    "# Input data files are available in the \"../input/\" directory.\n",
    "# For example, running this (by clicking run or pressing Shift+Enter) will list all files under the input directory\n",
    "\n",
    "import os\n",
    "for dirname, _, filenames in os.walk('/kaggle/input'):\n",
    "    for filename in filenames:\n",
    "        print(os.path.join(dirname, filename))\n",
    "\n",
    "        \n",
    "        "
   ]
  },
  {
   "cell_type": "code",
   "execution_count": 7,
   "metadata": {},
   "outputs": [
    {
     "name": "stdout",
     "output_type": "stream",
     "text": [
      "\u001b[33mWARNING: Package(s) not found: git+https://www.github.com/keras-team/keras-contrib.git\u001b[0m\r\n"
     ]
    }
   ],
   "source": [
    "!pip show git+https://www.github.com/keras-team/keras-contrib.git"
   ]
  },
  {
   "cell_type": "code",
   "execution_count": 8,
   "metadata": {
    "_cell_guid": "b1076dfc-b9ad-4769-8c92-a6c4dae69d19",
    "_uuid": "8f2839f25d086af736a60e9eeb907d3b93b6e0e5"
   },
   "outputs": [],
   "source": [
    "PATH = \"/kaggle/input/nernlp3/Assignment2/\"\n",
    "OUTPATH = \"/kaggle/working/\"\n",
    "# Any results you write to the current directory are saved as output."
   ]
  },
  {
   "cell_type": "code",
   "execution_count": 9,
   "metadata": {
    "_cell_guid": "79c7e3d0-c299-4dcb-8224-4455121ee9b0",
    "_uuid": "d629ff2d2480ee46fbb7e2d37f6b5fab8052498a"
   },
   "outputs": [],
   "source": [
    "! mkdir Saved_Models\n",
    "! mkdir Saved_Models/ATE\n",
    "! mkdir Saved_Models/NER\n",
    "! mkdir Graphs"
   ]
  },
  {
   "cell_type": "code",
   "execution_count": 10,
   "metadata": {},
   "outputs": [],
   "source": [
    "def checking(a):\n",
    "    print(\"Hello World\",a)\n",
    "\n",
    "def new_checking(a):\n",
    "    print(\"Hello World\",a)\n",
    "\n",
    "def create_train_test_val(file):\n",
    "    lst_out_text=[]\n",
    "    lst_out_labels=[]\n",
    "    for i in file.values():\n",
    "        sentence = i['text']\n",
    "        sentence = sentence.lower()\n",
    "        labels = i['labels']\n",
    "        lst_out_text.append(sentence)\n",
    "        lst_out_labels.append(labels)\n",
    "    return lst_out_text,lst_out_labels    \n",
    "\n",
    "def TokenCreator(sentences,val,tokenizer=None):\n",
    "    \n",
    "    temp_wordlist = None\n",
    "    tokenizer2=None\n",
    "    if(tokenizer == None):\n",
    "        if val==1:\n",
    "            tokenizer2 = Tokenizer(oov_token=\"#UK\",filters='')\n",
    "        else:\n",
    "            tokenizer2=Tokenizer()\n",
    "        tokenizer2.fit_on_texts(sentences)\n",
    "        \n",
    "        temp_wordlist = tokenizer2.texts_to_sequences(sentences)\n",
    "        return (temp_wordlist,tokenizer2)\n",
    "    \n",
    "    else:\n",
    "        temp_wordlist = tokenizer.texts_to_sequences(sentences)\n",
    "        return temp_wordlist\n",
    "    \n",
    "def find_vocab(dataset):\n",
    "    lst=[]\n",
    "    lst.append(\"#UK\")\n",
    "    for i in dataset:\n",
    "        for j in i:\n",
    "            lst.append(j)\n",
    "    st = set(lst)\n",
    "    return st\n",
    "\n",
    "'''\n",
    "--------------------------------------GRAPHS--------------------------------------\n",
    "'''\n",
    "\n",
    "def draw_loss_graph(model,model_name,f1_scores_train,f1_scores_val):\n",
    "    train_loss = model.history['loss']\n",
    "    val_loss = model.history['val_loss']\n",
    "    x = [i+1 for i in range(len(train_loss))]\n",
    "    train_y = train_loss\n",
    "    val_y = val_loss\n",
    "    \n",
    "    fig, axes = plt.subplots(1,2,figsize = (16,5))\n",
    "    # plt.subplots(axes = (2,1))\n",
    "    axes[0].plot(x,train_y, color = 'blue')  \n",
    "    \n",
    "    axes[0].plot(x,val_y, color = 'red') \n",
    "    axes[0].set_title('Loss over Epochs')\n",
    "    axes[0].set_xlabel('Epoch')\n",
    "    axes[0].set_ylabel('Loss')\n",
    "\n",
    "    axes[1].plot(x,f1_scores_train, color = 'blue')\n",
    "    axes[1].plot(x,f1_scores_val, color = 'red')\n",
    "    axes[1].set_title('F1 Score vs Epoch')\n",
    "    axes[1].set_xlabel('Epochs')\n",
    "    axes[1].set_ylabel('F1 Score')\n",
    "\n",
    "    axes[0].legend(['Train','Val'])\n",
    "    axes[1].legend(['Train','Val'])\n",
    "    \n",
    "    plt.suptitle(model_name)\n",
    "\n",
    "    plt.savefig(f'{OUTPATH}Graphs/{model_name}.png')    \n",
    "    plt.show()\n",
    "    "
   ]
  },
  {
   "cell_type": "code",
   "execution_count": 11,
   "metadata": {},
   "outputs": [],
   "source": [
    "'''\n",
    "--------------------------------------MODELS--------------------------------------\n",
    "'''\n",
    "\n",
    "def save_model(model,model_name, embedding, dataset):\n",
    "    with open(f'{OUTPATH}Saved_Models/{dataset}/{model_name}_{embedding}.pkl', 'wb') as file:\n",
    "        pickle.dump(model, file)\n",
    "\n",
    "def load_model(model_name, embedding, dataset):\n",
    "    with open(f'{OUTPATH}Saved_Models/{dataset}/{model_name}_{embedding}.pkl', 'rb') as file:\n",
    "        loaded_model = pickle.load(file)\n",
    "    \n",
    "    return loaded_model\n"
   ]
  },
  {
   "cell_type": "code",
   "execution_count": 12,
   "metadata": {},
   "outputs": [],
   "source": [
    "'''\n",
    "--------------------------------------CALLBACKS--------------------------------------\n",
    "'''\n",
    "\n",
    "class F1ScoreCallback(Callback):\n",
    "\n",
    "    def __init__(self, val_data, data):\n",
    "        super(F1ScoreCallback, self).__init__()\n",
    "        self.val_data = val_data\n",
    "        self.data=data\n",
    "        self.val_f1_scores = [] \n",
    "        self.train_f1_scores = []\n",
    "\n",
    "    \n",
    "\n",
    "    def on_epoch_end(self, epoch, logs=None):\n",
    "        x_val, y_val = self.val_data\n",
    "        x_data, y_data = self.data\n",
    "        y_pred_val = self.model.predict(x_val)\n",
    "        y_pred_train = self.model.predict(x_data)\n",
    "\n",
    "        def scikitf1(pred,real):\n",
    "\n",
    "            true_labels_flat = [label for sublist in real for label in sublist]\n",
    "            predicted_labels_flat = [label for sublist in pred for label in sublist]\n",
    "            # Compute F1 score\n",
    "            f1 = f1_score(true_labels_flat, predicted_labels_flat, average='macro')\n",
    "            return f1\n",
    "        def get_pred(Y_padded_output):\n",
    "                # print(Y_padded_output.shape)\n",
    "                final_output=[]\n",
    "                for i in range(Y_padded_output.shape[0]):\n",
    "                    output=[]\n",
    "                    for j in range(Y_padded_output.shape[1]):\n",
    "                        max_value=-1\n",
    "                        maxIndex=-1\n",
    "                        for k in range(Y_padded_output.shape[2]):\n",
    "                            if Y_padded_output[i][j][k]>max_value:\n",
    "                                maxIndex=k\n",
    "                                max_value=max(max_value,Y_padded_output[i][j][k])\n",
    "                        output.append(maxIndex)\n",
    "                    final_output.append(output)\n",
    "                return final_output\n",
    "\n",
    "        def get_real(Y_padded_test):\n",
    "            # print(Y_padded_test.shape)\n",
    "            final_Y=[]\n",
    "            for i in range(Y_padded_test.shape[0]):\n",
    "                output=[]\n",
    "                for j in range(Y_padded_test.shape[1]):\n",
    "                    max_value=-1\n",
    "                    maxIndex=-1\n",
    "                    for k in range(Y_padded_test.shape[2]):\n",
    "                        if Y_padded_test[i][j][k]>max_value:\n",
    "                            maxIndex=k\n",
    "                            max_value=max(max_value,Y_padded_test[i][j][k])\n",
    "                    output.append(maxIndex)\n",
    "                final_Y.append(output)\n",
    "            return final_Y\n",
    "        \n",
    "        # print(\"here\")\n",
    "        pred_train=get_pred(y_pred_train)\n",
    "        # print(pred_train)\n",
    "        real_train=get_real(y_data)\n",
    "        # print(real_train)\n",
    "\n",
    "        pred_val=get_pred(y_pred_val)\n",
    "        real_val=get_real(y_val)\n",
    "\n",
    "        f1_train = scikitf1(pred_train,real_train)\n",
    "        f1_val = scikitf1(pred_val,real_val)\n",
    "\n",
    "        self.val_f1_scores.append(f1_val)\n",
    "        self.train_f1_scores.append(f1_train)\n",
    "        print(f'Val F1 Score: {f1_val} - Train F1 Score: {f1_train}')\n",
    "\n",
    "\n",
    "\n",
    "#---------Prediction Functions----------------------------------------------\n",
    "def get_pred(Y_padded_output):\n",
    "    final_output=[]\n",
    "    for i in range(Y_padded_output.shape[0]):\n",
    "        output=[]\n",
    "        for j in range(Y_padded_output.shape[1]):\n",
    "            max_value=-1\n",
    "            maxIndex=-1\n",
    "            for k in range(Y_padded_output.shape[2]):\n",
    "                if Y_padded_output[i][j][k]>max_value:\n",
    "                    maxIndex=k\n",
    "                    max_value=max(max_value,Y_padded_output[i][j][k])\n",
    "            output.append(maxIndex)\n",
    "        final_output.append(output)\n",
    "    return final_output\n",
    "\n",
    "def get_real(Y_padded_test):\n",
    "    final_Y=[]\n",
    "    for i in range(Y_padded_test.shape[0]):\n",
    "        output=[]\n",
    "        for j in range(Y_padded_test.shape[1]):\n",
    "            max_value=-1\n",
    "            maxIndex=-1\n",
    "            for k in range(Y_padded_test.shape[2]):\n",
    "                if Y_padded_test[i][j][k]>max_value:\n",
    "                    maxIndex=k\n",
    "                    max_value=max(max_value,Y_padded_test[i][j][k])\n",
    "            output.append(maxIndex)\n",
    "        final_Y.append(output)\n",
    "    return final_Y\n",
    "\n",
    "def my_f1(y_true, y_pred):\n",
    "    \n",
    "    # predictions = get_pred(y_pred)\n",
    "    # real = get_real(y_true)\n",
    "\n",
    "    predictions = y_pred\n",
    "    real = y_true\n",
    "\n",
    "    size=len(predictions)\n",
    "\n",
    "    unique_labels= set()\n",
    "\n",
    "    for labels in real:\n",
    "        unique_labels.update(labels)\n",
    "\n",
    "    for labels in predictions:\n",
    "        unique_labels.update(labels)\n",
    "\n",
    "    labels_f1=[]\n",
    "\n",
    "    for labels in unique_labels:\n",
    "        tp=0\n",
    "        fp=0\n",
    "        fn=0\n",
    "\n",
    "        for i in range(size):\n",
    "                    \n",
    "            tp+=sum((p==labels and r==labels) for p,r in zip(predictions[i],real[i]))\n",
    "            fp+=sum((p==labels and r!=labels) for p,r in zip(predictions[i],real[i]))\n",
    "            fn+=sum((p!=labels and r==labels) for p,r in zip(predictions[i],real[i]))\n",
    "\n",
    "        \n",
    "        precision = tp/(tp+fp) if tp+fp>0 else 0\n",
    "        recall = tp/(tp+fn) if tp+fn>0 else 0\n",
    "\n",
    "        f1=2*((precision*recall)/(precision+recall)) if precision+recall>0 else 0\n",
    "\n",
    "        labels_f1.append(f1)\n",
    "        print(f1,unique_labels)\n",
    "    macro_f1 = sum(labels_f1)/len(unique_labels)\n",
    "    return macro_f1\n",
    "\n",
    "def scikitf1(pred,real):\n",
    "\n",
    "    true_labels_flat = [label for sublist in real for label in sublist]\n",
    "    predicted_labels_flat = [label for sublist in pred for label in sublist]\n",
    "    # Compute F1 score\n",
    "    f1 = f1_score(true_labels_flat, predicted_labels_flat, average='macro')\n",
    "    return f1"
   ]
  },
  {
   "cell_type": "code",
   "execution_count": null,
   "metadata": {},
   "outputs": [],
   "source": []
  },
  {
   "cell_type": "code",
   "execution_count": 13,
   "metadata": {},
   "outputs": [],
   "source": [
    "seed_value = 18\n",
    "np.random.seed(seed_value)\n"
   ]
  },
  {
   "cell_type": "code",
   "execution_count": null,
   "metadata": {},
   "outputs": [],
   "source": []
  },
  {
   "cell_type": "code",
   "execution_count": 14,
   "metadata": {},
   "outputs": [],
   "source": [
    "if Embedding_name==\"word2vec\":\n",
    "    emb = KeyedVectors.load_word2vec_format(f'{PATH}WordEmbeddings/Word2vec.bin',binary=True)\n",
    "\n",
    "if Embedding_name==\"glove\":\n",
    "    with open(f'{PATH}WordEmbeddings/glove.840B.300d.pkl', 'rb') as fp:\n",
    "        emb = pickle.load(fp)\n",
    "\n",
    "if Embedding_name==\"fasttext\":\n",
    "    emb = fasttext.load_model(f'{PATH}WordEmbeddings/cc.en.300.bin')"
   ]
  },
  {
   "cell_type": "markdown",
   "metadata": {},
   "source": [
    "# Preproc"
   ]
  },
  {
   "cell_type": "code",
   "execution_count": 15,
   "metadata": {},
   "outputs": [],
   "source": [
    "\n",
    "\n",
    "\n",
    "train = None\n",
    "test = None\n",
    "val = None\n",
    "with open(f\"{PATH}Data/processed/{Dataset}_train.json\") as f1:\n",
    "    train = json.load(f1)\n",
    "\n",
    "with open(f\"{PATH}Data/processed/{Dataset}_test.json\") as f2:\n",
    "    test = json.load(f2)\n",
    "\n",
    "with open(f\"{PATH}Data/processed/{Dataset}_val.json\") as f3:\n",
    "    val = json.load(f3)\n",
    "\n"
   ]
  },
  {
   "cell_type": "code",
   "execution_count": 16,
   "metadata": {},
   "outputs": [],
   "source": [
    "X_train,Y_train = create_train_test_val(train)\n",
    "X_test,Y_test = create_train_test_val(test)\n",
    "X_val,Y_val = create_train_test_val(val)"
   ]
  },
  {
   "cell_type": "code",
   "execution_count": 17,
   "metadata": {},
   "outputs": [],
   "source": [
    "from keras.preprocessing.text import *\n",
    "\n",
    "X_train_tokenized, toke = TokenCreator(X_train,1)\n",
    "X_test_tokenized = TokenCreator(X_test,0,tokenizer = toke)\n",
    "X_val_tokenized = TokenCreator(X_val,0,tokenizer = toke)\n",
    "\n",
    "Y_train_tokenized,toke2 = TokenCreator(Y_train,0)\n",
    "Y_test_tokenized = TokenCreator(Y_test,0,tokenizer = toke2)\n",
    "Y_val_tokenized = TokenCreator(Y_val,0,tokenizer = toke2)\n",
    "\n",
    "st1 = find_vocab(X_train_tokenized)\n",
    "vocab_size  = len(st1) + 1 \n",
    "\n",
    "max_len=0\n",
    "\n",
    "for i in X_train_tokenized:\n",
    "    max_len = max(max_len,len(i))\n",
    "\n",
    "X_padded_train = pad_sequences(X_train_tokenized, maxlen=max_len, padding=\"pre\", truncating=\"post\")\n",
    "Y_padded_train = pad_sequences(Y_train_tokenized, maxlen=max_len, padding=\"pre\", truncating=\"post\")\n",
    "\n",
    "X_padded_test = pad_sequences(X_test_tokenized, maxlen=max_len, padding=\"pre\", truncating=\"post\")\n",
    "Y_padded_test = pad_sequences(Y_test_tokenized, maxlen=max_len, padding=\"pre\", truncating=\"post\")\n",
    "\n",
    "X_padded_val = pad_sequences(X_val_tokenized, maxlen=max_len, padding=\"pre\", truncating=\"post\")\n",
    "Y_padded_val = pad_sequences(Y_val_tokenized, maxlen=max_len, padding=\"pre\", truncating=\"post\")  \n",
    "\n",
    "Y_padded_train = to_categorical(Y_padded_train)\n",
    "Y_padded_test = to_categorical(Y_padded_test)\n",
    "Y_padded_val = to_categorical(Y_padded_val)\n",
    "\n",
    "weights = np.zeros((vocab_size, 300))\n",
    "mapping = toke.word_index \n",
    "\n",
    "for word, index in mapping.items():\n",
    "    if word in emb:\n",
    "        weights[index:] = emb[word]"
   ]
  },
  {
   "cell_type": "code",
   "execution_count": 18,
   "metadata": {},
   "outputs": [],
   "source": [
    "X_train= X_padded_train\n",
    "Y_train = Y_padded_train\n",
    "X_test = X_padded_test\n",
    "Y_test = Y_padded_test\n",
    "X_val = X_padded_val\n",
    "Y_val = Y_padded_val\n",
    "weights = weights\n",
    "word_token = toke\n",
    "tag_token = toke2\n",
    "Y_shape= Y_padded_train.shape[2]"
   ]
  },
  {
   "cell_type": "markdown",
   "metadata": {},
   "source": [
    "# Bilstm+crf"
   ]
  },
  {
   "cell_type": "code",
   "execution_count": 19,
   "metadata": {},
   "outputs": [],
   "source": [
    "def BiLSTM(weights,vocab_size,max_len,Y_shape):\n",
    "    input = Input(shape=(max_len,))\n",
    "    model = Embedding(vocab_size, 300, weights=[weights], input_length=max_len, trainable=False)(input)\n",
    "    model = Bidirectional(LSTM(units=256, return_sequences=True, recurrent_dropout=0.5,dropout=0.07,kernel_initializer=k.initializers.he_normal()))(model)\n",
    "    model = TimeDistributed(Dense(Y_shape, activation=\"relu\"))(model)  # softmax output layer\n",
    "    crf = CRF(Y_shape)  # CRF layer\n",
    "    out = crf(model)  # output\n",
    "    model = Model(input, out)\n",
    "    adam = k.optimizers.Adam(lr=0.01, beta_1=0.9, beta_2=0.999)\n",
    "    model.compile(optimizer=adam, loss=crf.loss_function, metrics=[crf.accuracy, 'accuracy'])\n",
    "    return model"
   ]
  },
  {
   "cell_type": "code",
   "execution_count": 20,
   "metadata": {},
   "outputs": [
    {
     "name": "stderr",
     "output_type": "stream",
     "text": [
      "/opt/conda/lib/python3.6/site-packages/keras_contrib/layers/crf.py:346: UserWarning: CRF.loss_function is deprecated and it might be removed in the future. Please use losses.crf_loss instead.\n",
      "  warnings.warn('CRF.loss_function is deprecated '\n",
      "/opt/conda/lib/python3.6/site-packages/keras_contrib/layers/crf.py:353: UserWarning: CRF.accuracy is deprecated and it might be removed in the future. Please use metrics.crf_accuracy\n",
      "  warnings.warn('CRF.accuracy is deprecated and it '\n"
     ]
    },
    {
     "name": "stdout",
     "output_type": "stream",
     "text": [
      "Model: \"model_1\"\n",
      "_________________________________________________________________\n",
      "Layer (type)                 Output Shape              Param #   \n",
      "=================================================================\n",
      "input_2 (InputLayer)         (None, 78)                0         \n",
      "_________________________________________________________________\n",
      "embedding_1 (Embedding)      (None, 78, 300)           721800    \n",
      "_________________________________________________________________\n",
      "bidirectional_1 (Bidirection (None, 78, 512)           1140736   \n",
      "_________________________________________________________________\n",
      "time_distributed_1 (TimeDist (None, 78, 4)             2052      \n",
      "_________________________________________________________________\n",
      "crf_1 (CRF)                  (None, 78, 4)             44        \n",
      "=================================================================\n",
      "Total params: 1,864,632\n",
      "Trainable params: 1,142,832\n",
      "Non-trainable params: 721,800\n",
      "_________________________________________________________________\n"
     ]
    }
   ],
   "source": [
    "model_name=\"BiLSTM\"\n",
    "\n",
    "n_words=vocab_size\n",
    "n_tags=Y_train.shape[2]\n",
    "input = Input(shape=(max_len,))\n",
    "word_embedding_size = 300\n",
    "\n",
    "model = BiLSTM(weights,n_words,max_len,n_tags)\n",
    "model.summary()\n"
   ]
  },
  {
   "cell_type": "code",
   "execution_count": 21,
   "metadata": {},
   "outputs": [
    {
     "name": "stdout",
     "output_type": "stream",
     "text": [
      "Train on 906 samples, validate on 219 samples\n",
      "Epoch 1/20\n",
      "906/906 [==============================] - 12s 13ms/step - loss: 0.8461 - crf_viterbi_accuracy: 0.6593 - accuracy: 0.7544 - val_loss: 0.2854 - val_crf_viterbi_accuracy: 0.9529 - val_accuracy: 0.9529\n",
      "Val F1 Score: 0.4787853232373563 - Train F1 Score: 0.476343236068117\n",
      "Epoch 2/20\n",
      "906/906 [==============================] - 7s 8ms/step - loss: 0.2252 - crf_viterbi_accuracy: 0.9484 - accuracy: 0.7544 - val_loss: 0.1191 - val_crf_viterbi_accuracy: 0.9683 - val_accuracy: 0.9683\n"
     ]
    },
    {
     "name": "stderr",
     "output_type": "stream",
     "text": [
      "/opt/conda/lib/python3.6/site-packages/sklearn/metrics/classification.py:1437: UndefinedMetricWarning: F-score is ill-defined and being set to 0.0 in labels with no predicted samples.\n",
      "  'precision', 'predicted', average, warn_for)\n"
     ]
    },
    {
     "name": "stdout",
     "output_type": "stream",
     "text": [
      "Val F1 Score: 0.48716626114617717 - Train F1 Score: 0.4808201459570549\n",
      "Epoch 3/20\n",
      "906/906 [==============================] - 7s 8ms/step - loss: 0.1116 - crf_viterbi_accuracy: 0.9704 - accuracy: 0.7544 - val_loss: 0.0866 - val_crf_viterbi_accuracy: 0.9745 - val_accuracy: 0.9745\n",
      "Val F1 Score: 0.4862737637951272 - Train F1 Score: 0.48561073606499894\n",
      "Epoch 4/20\n",
      "906/906 [==============================] - 7s 8ms/step - loss: 0.0874 - crf_viterbi_accuracy: 0.9730 - accuracy: 0.7544 - val_loss: 0.0776 - val_crf_viterbi_accuracy: 0.9747 - val_accuracy: 0.9747\n",
      "Val F1 Score: 0.4863826072732315 - Train F1 Score: 0.48572108530420915\n",
      "Epoch 5/20\n",
      "906/906 [==============================] - 7s 8ms/step - loss: 0.0779 - crf_viterbi_accuracy: 0.9732 - accuracy: 0.7544 - val_loss: 0.0688 - val_crf_viterbi_accuracy: 0.9749 - val_accuracy: 0.9749\n",
      "Val F1 Score: 0.5192528538854385 - Train F1 Score: 0.5093713031503068\n",
      "Epoch 6/20\n",
      "906/906 [==============================] - 7s 8ms/step - loss: 0.0699 - crf_viterbi_accuracy: 0.9738 - accuracy: 0.7544 - val_loss: 0.0626 - val_crf_viterbi_accuracy: 0.9759 - val_accuracy: 0.9759\n",
      "Val F1 Score: 0.6091300109881637 - Train F1 Score: 0.6097564512767812\n",
      "Epoch 7/20\n",
      "906/906 [==============================] - 7s 8ms/step - loss: 0.0635 - crf_viterbi_accuracy: 0.9749 - accuracy: 0.7544 - val_loss: 0.0559 - val_crf_viterbi_accuracy: 0.9761 - val_accuracy: 0.9761\n",
      "Val F1 Score: 0.5719324672909832 - Train F1 Score: 0.5859059350732743\n",
      "Epoch 8/20\n",
      "906/906 [==============================] - 7s 8ms/step - loss: 0.0583 - crf_viterbi_accuracy: 0.9761 - accuracy: 0.7544 - val_loss: 0.0511 - val_crf_viterbi_accuracy: 0.9786 - val_accuracy: 0.9786\n",
      "Val F1 Score: 0.678785223543788 - Train F1 Score: 0.6721339623213929\n",
      "Epoch 9/20\n",
      "906/906 [==============================] - 7s 8ms/step - loss: 0.0533 - crf_viterbi_accuracy: 0.9774 - accuracy: 0.7544 - val_loss: 0.0483 - val_crf_viterbi_accuracy: 0.9795 - val_accuracy: 0.9795\n",
      "Val F1 Score: 0.7003937441098504 - Train F1 Score: 0.697387114611022\n",
      "Epoch 10/20\n",
      "906/906 [==============================] - 8s 8ms/step - loss: 0.0507 - crf_viterbi_accuracy: 0.9782 - accuracy: 0.7544 - val_loss: 0.0460 - val_crf_viterbi_accuracy: 0.9799 - val_accuracy: 0.9799\n",
      "Val F1 Score: 0.7146777728928881 - Train F1 Score: 0.7192613952026108\n",
      "Epoch 11/20\n",
      "906/906 [==============================] - 7s 8ms/step - loss: 0.0476 - crf_viterbi_accuracy: 0.9786 - accuracy: 0.7544 - val_loss: 0.0431 - val_crf_viterbi_accuracy: 0.9803 - val_accuracy: 0.9803\n",
      "Val F1 Score: 0.7063251566002701 - Train F1 Score: 0.711647781529257\n",
      "Epoch 12/20\n",
      "906/906 [==============================] - 8s 9ms/step - loss: 0.0451 - crf_viterbi_accuracy: 0.9794 - accuracy: 0.7544 - val_loss: 0.0421 - val_crf_viterbi_accuracy: 0.9802 - val_accuracy: 0.9802\n",
      "Val F1 Score: 0.6927186205976382 - Train F1 Score: 0.7102611053096828\n",
      "Epoch 13/20\n",
      "906/906 [==============================] - 7s 8ms/step - loss: 0.0434 - crf_viterbi_accuracy: 0.9791 - accuracy: 0.7544 - val_loss: 0.0400 - val_crf_viterbi_accuracy: 0.9812 - val_accuracy: 0.9812\n",
      "Val F1 Score: 0.7254973314397447 - Train F1 Score: 0.735697006420887\n",
      "Epoch 14/20\n",
      "906/906 [==============================] - 7s 8ms/step - loss: 0.0408 - crf_viterbi_accuracy: 0.9805 - accuracy: 0.7544 - val_loss: 0.0381 - val_crf_viterbi_accuracy: 0.9822 - val_accuracy: 0.9822\n",
      "Val F1 Score: 0.7607140557719891 - Train F1 Score: 0.7728005258878764\n",
      "Epoch 15/20\n",
      "906/906 [==============================] - 7s 8ms/step - loss: 0.0385 - crf_viterbi_accuracy: 0.9813 - accuracy: 0.7544 - val_loss: 0.0363 - val_crf_viterbi_accuracy: 0.9828 - val_accuracy: 0.9828\n",
      "Val F1 Score: 0.7648853525527906 - Train F1 Score: 0.7775662368877848\n",
      "Epoch 16/20\n",
      "906/906 [==============================] - 7s 8ms/step - loss: 0.0372 - crf_viterbi_accuracy: 0.9821 - accuracy: 0.7544 - val_loss: 0.0355 - val_crf_viterbi_accuracy: 0.9827 - val_accuracy: 0.9827\n",
      "Val F1 Score: 0.757955806264611 - Train F1 Score: 0.776655728220761\n",
      "Epoch 17/20\n",
      "906/906 [==============================] - 7s 8ms/step - loss: 0.0355 - crf_viterbi_accuracy: 0.9827 - accuracy: 0.7544 - val_loss: 0.0342 - val_crf_viterbi_accuracy: 0.9831 - val_accuracy: 0.9831\n",
      "Val F1 Score: 0.7625046389289744 - Train F1 Score: 0.7960594678724129\n",
      "Epoch 18/20\n",
      "906/906 [==============================] - 7s 8ms/step - loss: 0.0336 - crf_viterbi_accuracy: 0.9840 - accuracy: 0.7544 - val_loss: 0.0348 - val_crf_viterbi_accuracy: 0.9826 - val_accuracy: 0.9826\n",
      "Val F1 Score: 0.7424917906666978 - Train F1 Score: 0.7776945782947579\n",
      "Epoch 19/20\n",
      "906/906 [==============================] - 7s 8ms/step - loss: 0.0329 - crf_viterbi_accuracy: 0.9838 - accuracy: 0.7544 - val_loss: 0.0352 - val_crf_viterbi_accuracy: 0.9829 - val_accuracy: 0.9829\n",
      "Val F1 Score: 0.7433460836498861 - Train F1 Score: 0.7709532814529636\n",
      "Epoch 20/20\n",
      "906/906 [==============================] - 7s 8ms/step - loss: 0.0327 - crf_viterbi_accuracy: 0.9834 - accuracy: 0.7544 - val_loss: 0.0297 - val_crf_viterbi_accuracy: 0.9862 - val_accuracy: 0.9862\n",
      "Val F1 Score: 0.8131974281764114 - Train F1 Score: 0.8391411253244171\n"
     ]
    }
   ],
   "source": [
    "BiLSTM_f1_callback = F1ScoreCallback(val_data=(X_val, Y_val),data=(X_train, Y_train))\n",
    "callbacks_list = [BiLSTM_f1_callback]\n",
    "# Fit the best model\n",
    "history = model.fit(X_train, Y_train, batch_size=256, epochs=20, validation_data=(X_val,Y_val), verbose=1, callbacks=callbacks_list)\n",
    "\n"
   ]
  },
  {
   "cell_type": "code",
   "execution_count": 22,
   "metadata": {},
   "outputs": [
    {
     "data": {
      "image/png": "[encoded data removed]",
      "text/plain": [
       "<Figure size 1152x360 with 2 Axes>"
      ]
     },
     "metadata": {
      "needs_background": "light"
     },
     "output_type": "display_data"
    }
   ],
   "source": [
    "draw_loss_graph(history,model_name, BiLSTM_f1_callback.train_f1_scores, BiLSTM_f1_callback.val_f1_scores)"
   ]
  },
  {
   "cell_type": "code",
   "execution_count": 23,
   "metadata": {},
   "outputs": [],
   "source": [
    "save_model(model.get_weights(),model_name,Embedding_name,Dataset)"
   ]
  },
  {
   "cell_type": "code",
   "execution_count": 24,
   "metadata": {},
   "outputs": [],
   "source": [
    "model.save(\"model75\")"
   ]
  },
  {
   "cell_type": "code",
   "execution_count": 25,
   "metadata": {},
   "outputs": [
    {
     "name": "stderr",
     "output_type": "stream",
     "text": [
      "/opt/conda/lib/python3.6/site-packages/keras_contrib/layers/crf.py:346: UserWarning: CRF.loss_function is deprecated and it might be removed in the future. Please use losses.crf_loss instead.\n",
      "  warnings.warn('CRF.loss_function is deprecated '\n",
      "/opt/conda/lib/python3.6/site-packages/keras_contrib/layers/crf.py:353: UserWarning: CRF.accuracy is deprecated and it might be removed in the future. Please use metrics.crf_accuracy\n",
      "  warnings.warn('CRF.accuracy is deprecated and it '\n"
     ]
    }
   ],
   "source": [
    "loaded_params=load_model(model_name,Embedding_name,Dataset)\n",
    "loaded_model=BiLSTM(weights,n_words,max_len,n_tags)\n",
    "loaded_model.set_weights(loaded_params)"
   ]
  },
  {
   "cell_type": "markdown",
   "metadata": {},
   "source": [
    "# Testing"
   ]
  },
  {
   "cell_type": "code",
   "execution_count": 26,
   "metadata": {},
   "outputs": [
    {
     "name": "stdout",
     "output_type": "stream",
     "text": [
      "328/328 [==============================] - 2s 6ms/step\n",
      "Accuracy: 0.9816797375679016\n",
      "Test F1 Score: 0.7845944700367797\n"
     ]
    }
   ],
   "source": [
    "accuracy = loaded_model.evaluate(X_test, Y_test, verbose = 1)\n",
    "print(\"Accuracy:\", accuracy[1])\n",
    "\n",
    "Y_pred = loaded_model.predict(X_test)\n",
    "real = get_real(Y_test)\n",
    "pred = get_pred(Y_pred)\n",
    "\n",
    "true_labels_flat = [label for sublist in real for label in sublist]\n",
    "predicted_labels_flat = [label for sublist in pred for label in sublist]\n",
    "\n",
    "# Compute F1 score\n",
    "f1 = f1_score(true_labels_flat, predicted_labels_flat, average='macro')\n",
    "\n",
    "print(\"Test F1 Score:\", f1)"
   ]
  }
 ],
 "metadata": {
  "kaggle": {
   "accelerator": "none",
   "dataSources": [
    {
     "databundleVersionId": 7912949,
     "datasetId": 4563561,
     "sourceId": 7809954,
     "sourceType": "datasetVersion"
    }
   ],
   "dockerImageVersionId": 29844,
   "isGpuEnabled": false,
   "isInternetEnabled": true,
   "language": "python",
   "sourceType": "notebook"
  },
  "kernelspec": {
   "display_name": "Python 3",
   "language": "python",
   "name": "python3"
  },
  "language_info": {
   "codemirror_mode": {
    "name": "ipython",
    "version": 3
   },
   "file_extension": ".py",
   "mimetype": "text/x-python",
   "name": "python",
   "nbconvert_exporter": "python",
   "pygments_lexer": "ipython3",
   "version": "3.6.6"
  }
 },
 "nbformat": 4,
 "nbformat_minor": 4
}
