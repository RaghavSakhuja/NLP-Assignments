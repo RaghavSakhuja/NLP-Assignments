{
 "cells": [
  {
   "cell_type": "code",
   "execution_count": 1,
   "id": "df06f1f1",
   "metadata": {
    "execution": {
     "iopub.execute_input": "2024-03-10T12:41:02.079921Z",
     "iopub.status.busy": "2024-03-10T12:41:02.079040Z",
     "iopub.status.idle": "2024-03-10T12:41:22.894673Z",
     "shell.execute_reply": "2024-03-10T12:41:22.893016Z"
    },
    "papermill": {
     "duration": 20.846481,
     "end_time": "2024-03-10T12:41:22.898301",
     "exception": false,
     "start_time": "2024-03-10T12:41:02.051820",
     "status": "completed"
    },
    "tags": []
   },
   "outputs": [
    {
     "name": "stdout",
     "output_type": "stream",
     "text": [
      "Collecting keras==2.15.0\r\n",
      "  Downloading keras-2.15.0-py3-none-any.whl.metadata (2.4 kB)\r\n",
      "Downloading keras-2.15.0-py3-none-any.whl (1.7 MB)\r\n",
      "\u001b[2K   \u001b[90m━━━━━━━━━━━━━━━━━━━━━━━━━━━━━━━━━━━━━━━━\u001b[0m \u001b[32m1.7/1.7 MB\u001b[0m \u001b[31m20.7 MB/s\u001b[0m eta \u001b[36m0:00:00\u001b[0m\r\n",
      "\u001b[?25hInstalling collected packages: keras\r\n",
      "  Attempting uninstall: keras\r\n",
      "    Found existing installation: keras 3.0.5\r\n",
      "    Uninstalling keras-3.0.5:\r\n",
      "      Successfully uninstalled keras-3.0.5\r\n",
      "\u001b[31mERROR: pip's dependency resolver does not currently take into account all the packages that are installed. This behaviour is the source of the following dependency conflicts.\r\n",
      "tensorflow-decision-forests 1.8.1 requires wurlitzer, which is not installed.\u001b[0m\u001b[31m\r\n",
      "\u001b[0mSuccessfully installed keras-2.15.0\r\n"
     ]
    }
   ],
   "source": [
    "!pip install keras==2.15.0"
   ]
  },
  {
   "cell_type": "markdown",
   "id": "276feea9",
   "metadata": {
    "papermill": {
     "duration": 0.025949,
     "end_time": "2024-03-10T12:41:22.949268",
     "exception": false,
     "start_time": "2024-03-10T12:41:22.923319",
     "status": "completed"
    },
    "tags": []
   },
   "source": [
    "# Run"
   ]
  },
  {
   "cell_type": "code",
   "execution_count": 2,
   "id": "37acd489",
   "metadata": {
    "execution": {
     "iopub.execute_input": "2024-03-10T12:41:23.000143Z",
     "iopub.status.busy": "2024-03-10T12:41:22.999583Z",
     "iopub.status.idle": "2024-03-10T12:42:16.314536Z",
     "shell.execute_reply": "2024-03-10T12:42:16.312580Z"
    },
    "papermill": {
     "duration": 53.345517,
     "end_time": "2024-03-10T12:42:16.318674",
     "exception": false,
     "start_time": "2024-03-10T12:41:22.973157",
     "status": "completed"
    },
    "tags": []
   },
   "outputs": [
    {
     "name": "stderr",
     "output_type": "stream",
     "text": [
      "2024-03-10 12:41:25.575000: E external/local_xla/xla/stream_executor/cuda/cuda_dnn.cc:9261] Unable to register cuDNN factory: Attempting to register factory for plugin cuDNN when one has already been registered\n",
      "2024-03-10 12:41:25.575239: E external/local_xla/xla/stream_executor/cuda/cuda_fft.cc:607] Unable to register cuFFT factory: Attempting to register factory for plugin cuFFT when one has already been registered\n",
      "2024-03-10 12:41:25.770491: E external/local_xla/xla/stream_executor/cuda/cuda_blas.cc:1515] Unable to register cuBLAS factory: Attempting to register factory for plugin cuBLAS when one has already been registered\n"
     ]
    }
   ],
   "source": [
    "import pickle\n",
    "import numpy as np\n",
    "import tensorflow as tf\n",
    "import json\n",
    "import matplotlib.pyplot as plt\n",
    "\n",
    "import fasttext\n",
    "import fasttext.util\n",
    "from keras.models import Model\n",
    "from keras.layers import Dropout,Input\n",
    "# from tensorflow_addons.layers import CRF\n",
    "from keras.layers import Dense\n",
    "from keras.layers import Embedding\n",
    "from keras.models import Sequential\n",
    "from keras.callbacks import Callback\n",
    "from keras.preprocessing.text import *\n",
    "from keras.utils import to_categorical\n",
    "from gensim.models import KeyedVectors\n",
    "from keras.layers import GRU, SimpleRNN, LSTM, Bidirectional\n",
    "from keras.layers import TimeDistributed\n",
    "from keras.metrics import F1Score, Precision, Recall\n",
    "from keras.preprocessing.sequence import pad_sequences\n",
    "from sklearn.metrics import f1_score\n",
    "from tensorflow.keras.optimizers import AdamW\n",
    "# from tensorflow_addons.losses import SigmoidFocalCrossEntropy\n",
    "from sklearn.model_selection import GridSearchCV\n",
    "# from kerastuner.tuners import RandomSearch\n",
    "# from kerastuner.engine.hyperparameters import HyperParameters\n",
    "from tensorflow.keras.optimizers import AdamW, Adam, RMSprop, SGD"
   ]
  },
  {
   "cell_type": "code",
   "execution_count": 3,
   "id": "27b83db3",
   "metadata": {
    "execution": {
     "iopub.execute_input": "2024-03-10T12:42:16.371241Z",
     "iopub.status.busy": "2024-03-10T12:42:16.370209Z",
     "iopub.status.idle": "2024-03-10T12:42:16.397558Z",
     "shell.execute_reply": "2024-03-10T12:42:16.396002Z"
    },
    "papermill": {
     "duration": 0.057454,
     "end_time": "2024-03-10T12:42:16.401169",
     "exception": false,
     "start_time": "2024-03-10T12:42:16.343715",
     "status": "completed"
    },
    "tags": []
   },
   "outputs": [
    {
     "name": "stdout",
     "output_type": "stream",
     "text": [
      "/kaggle/input/nernlp3/WordEmbeddings/glove.840B.300d.pkl\n",
      "/kaggle/input/nernlp3/WordEmbeddings/Word2vec.bin\n",
      "/kaggle/input/nernlp3/WordEmbeddings/cc.en.300.bin\n",
      "/kaggle/input/nernlp3/Data/check.py\n",
      "/kaggle/input/nernlp3/Data/NER_TRAIN_JUDGEMENT.json\n",
      "/kaggle/input/nernlp3/Data/Laptop_Review_Val.json\n",
      "/kaggle/input/nernlp3/Data/bio.ipynb\n",
      "/kaggle/input/nernlp3/Data/Laptop_Review_Train.json\n",
      "/kaggle/input/nernlp3/Data/bio1.py\n",
      "/kaggle/input/nernlp3/Data/NER_TEST_JUDGEMENT.json\n",
      "/kaggle/input/nernlp3/Data/Laptop_Review_Test.json\n",
      "/kaggle/input/nernlp3/Data/processed/NER_test.json\n",
      "/kaggle/input/nernlp3/Data/processed/ATE_test.json\n",
      "/kaggle/input/nernlp3/Data/processed/NER_train.json\n",
      "/kaggle/input/nernlp3/Data/processed/ATE_train.json\n",
      "/kaggle/input/nernlp3/Data/processed/NER_val.json\n",
      "/kaggle/input/nernlp3/Data/processed/ATE_val.json\n"
     ]
    }
   ],
   "source": [
    "# This Python 3 environment comes with many helpful analytics libraries installed\n",
    "# It is defined by the kaggle/python Docker image: https://github.com/kaggle/docker-python\n",
    "# For example, here's several helpful packages to load\n",
    "\n",
    "# Input data files are available in the read-only \"../input/\" directory\n",
    "# For example, running this (by clicking run or pressing Shift+Enter) will list all files under the input directory\n",
    "\n",
    "import os\n",
    "for dirname, _, filenames in os.walk('/kaggle/input'):\n",
    "    for filename in filenames:\n",
    "        print(os.path.join(dirname, filename))\n",
    "\n",
    "Embedding_name=\"word2vec\"\n",
    "Dataset=\"ATE\"     \n",
    "PATH='/kaggle/input/nernlp3/'\n",
    "OUTPATH='/kaggle/working/'\n",
    "\n",
    "# You can write up to 20GB to the current directory (/kaggle/working/) that gets preserved as output when you create a version using \"Save & Run All\" \n",
    "# You can also write temporary files to /kaggle/temp/, but they won't be saved outside of the current session"
   ]
  },
  {
   "cell_type": "code",
   "execution_count": 4,
   "id": "9e7b6393",
   "metadata": {
    "execution": {
     "iopub.execute_input": "2024-03-10T12:42:16.453486Z",
     "iopub.status.busy": "2024-03-10T12:42:16.452959Z",
     "iopub.status.idle": "2024-03-10T12:42:20.923400Z",
     "shell.execute_reply": "2024-03-10T12:42:20.921835Z"
    },
    "papermill": {
     "duration": 4.500013,
     "end_time": "2024-03-10T12:42:20.926423",
     "exception": false,
     "start_time": "2024-03-10T12:42:16.426410",
     "status": "completed"
    },
    "tags": []
   },
   "outputs": [
    {
     "name": "stderr",
     "output_type": "stream",
     "text": [
      "/opt/conda/lib/python3.10/pty.py:89: RuntimeWarning: os.fork() was called. os.fork() is incompatible with multithreaded code, and JAX is multithreaded, so this will likely lead to a deadlock.\n",
      "  pid, fd = os.forkpty()\n"
     ]
    }
   ],
   "source": [
    "! mkdir Saved_Models\n",
    "! mkdir Saved_Models/ATE\n",
    "! mkdir Saved_Models/NER\n",
    "! mkdir Graphs"
   ]
  },
  {
   "cell_type": "code",
   "execution_count": 5,
   "id": "e58d6cbc",
   "metadata": {
    "execution": {
     "iopub.execute_input": "2024-03-10T12:42:20.980539Z",
     "iopub.status.busy": "2024-03-10T12:42:20.980061Z",
     "iopub.status.idle": "2024-03-10T12:42:21.032977Z",
     "shell.execute_reply": "2024-03-10T12:42:21.031725Z"
    },
    "papermill": {
     "duration": 0.083313,
     "end_time": "2024-03-10T12:42:21.036050",
     "exception": false,
     "start_time": "2024-03-10T12:42:20.952737",
     "status": "completed"
    },
    "tags": []
   },
   "outputs": [],
   "source": [
    "def checking(a):\n",
    "    print(\"Hello World\",a)\n",
    "\n",
    "def new_checking(a):\n",
    "    print(\"Hello World\",a)\n",
    "\n",
    "def create_train_test_val(file):\n",
    "    lst_out_text=[]\n",
    "    lst_out_labels=[]\n",
    "    for i in file.values():\n",
    "        sentence = i['text']\n",
    "        sentence = sentence.lower()\n",
    "        labels = i['labels']\n",
    "        lst_out_text.append(sentence)\n",
    "        lst_out_labels.append(labels)\n",
    "    return lst_out_text,lst_out_labels    \n",
    "\n",
    "def TokenCreator(sentences,val,tokenizer=None):\n",
    "    \n",
    "    temp_wordlist = None\n",
    "    tokenizer2=None\n",
    "    if(tokenizer == None):\n",
    "        if val==1:\n",
    "            tokenizer2 = Tokenizer(oov_token=\"#UK\",filters='')\n",
    "        else:\n",
    "            tokenizer2=Tokenizer()\n",
    "        tokenizer2.fit_on_texts(sentences)\n",
    "        \n",
    "        temp_wordlist = tokenizer2.texts_to_sequences(sentences)\n",
    "        return (temp_wordlist,tokenizer2)\n",
    "    \n",
    "    else:\n",
    "        temp_wordlist = tokenizer.texts_to_sequences(sentences)\n",
    "        return temp_wordlist\n",
    "    \n",
    "def find_vocab(dataset):\n",
    "    lst=[]\n",
    "    lst.append(\"#UK\")\n",
    "    for i in dataset:\n",
    "        for j in i:\n",
    "            lst.append(j)\n",
    "    st = set(lst)\n",
    "    return st\n",
    "\n",
    "'''\n",
    "--------------------------------------GRAPHS--------------------------------------\n",
    "'''\n",
    "\n",
    "def draw_loss_graph(model,model_name,f1_scores_train,f1_scores_val):\n",
    "    train_loss = model.history['loss']\n",
    "    val_loss = model.history['val_loss']\n",
    "    x = [i+1 for i in range(len(train_loss))]\n",
    "    train_y = train_loss\n",
    "    val_y = val_loss\n",
    "    \n",
    "    fig, axes = plt.subplots(1,2,figsize = (16,5))\n",
    "    # plt.subplots(axes = (2,1))\n",
    "    axes[0].plot(x,train_y, color = 'blue')  \n",
    "    \n",
    "    axes[0].plot(x,val_y, color = 'red') \n",
    "    axes[0].set_title('Loss over Epochs')\n",
    "    axes[0].set_xlabel('Epoch')\n",
    "    axes[0].set_ylabel('Loss')\n",
    "\n",
    "    axes[1].plot(x,f1_scores_train, color = 'blue')\n",
    "    axes[1].plot(x,f1_scores_val, color = 'red')\n",
    "    axes[1].set_title('F1 Score vs Epoch')\n",
    "    axes[1].set_xlabel('Epochs')\n",
    "    axes[1].set_ylabel('F1 Score')\n",
    "\n",
    "    axes[0].legend(['Train','Val'])\n",
    "    axes[1].legend(['Train','Val'])\n",
    "    \n",
    "    plt.suptitle(model_name)\n",
    "\n",
    "    \n",
    "    plt.show()\n",
    "    \n",
    "'''\n",
    "--------------------------------------MODELS--------------------------------------\n",
    "'''\n",
    "\n",
    "def save_model(model,model_name, embedding, dataset):\n",
    "    with open(f'{OUTPATH}Saved_Models/{dataset}/{model_name}_{embedding}.pkl', 'wb') as file:\n",
    "        pickle.dump(model, file)\n",
    "\n",
    "def load_model(model_name, embedding, dataset):\n",
    "    with open(f'{OUTPATH}Saved_Models/{dataset}/{model_name}_{embedding}.pkl', 'rb') as file:\n",
    "        loaded_model = pickle.load(file)\n",
    "    \n",
    "    return loaded_model\n",
    "\n",
    "'''\n",
    "--------------------------------------CALLBACKS--------------------------------------\n",
    "'''\n",
    "\n",
    "class F1ScoreCallback(Callback):\n",
    "\n",
    "    def __init__(self, val_data, data):\n",
    "        super(F1ScoreCallback, self).__init__()\n",
    "        self.val_data = val_data\n",
    "        self.data=data\n",
    "        self.val_f1_scores = [] \n",
    "        self.train_f1_scores = []\n",
    "\n",
    "    \n",
    "\n",
    "    def on_epoch_end(self, epoch, logs=None):\n",
    "        x_val, y_val = self.val_data\n",
    "        x_data, y_data = self.data\n",
    "        y_pred_val = self.model.predict(x_val)\n",
    "        y_pred_train = self.model.predict(x_data)\n",
    "\n",
    "        def scikitf1(pred,real):\n",
    "\n",
    "            true_labels_flat = [label for sublist in real for label in sublist]\n",
    "            predicted_labels_flat = [label for sublist in pred for label in sublist]\n",
    "            # Compute F1 score\n",
    "            f1 = f1_score(true_labels_flat, predicted_labels_flat, average='macro')\n",
    "            return f1\n",
    "        def get_pred(Y_padded_output):\n",
    "                # print(Y_padded_output.shape)\n",
    "                final_output=[]\n",
    "                for i in range(Y_padded_output.shape[0]):\n",
    "                    output=[]\n",
    "                    for j in range(Y_padded_output.shape[1]):\n",
    "                        max_value=-1\n",
    "                        maxIndex=-1\n",
    "                        for k in range(Y_padded_output.shape[2]):\n",
    "                            if Y_padded_output[i][j][k]>max_value:\n",
    "                                maxIndex=k\n",
    "                                max_value=max(max_value,Y_padded_output[i][j][k])\n",
    "                        output.append(maxIndex)\n",
    "                    final_output.append(output)\n",
    "                return final_output\n",
    "\n",
    "        def get_real(Y_padded_test):\n",
    "            # print(Y_padded_test.shape)\n",
    "            final_Y=[]\n",
    "            for i in range(Y_padded_test.shape[0]):\n",
    "                output=[]\n",
    "                for j in range(Y_padded_test.shape[1]):\n",
    "                    max_value=-1\n",
    "                    maxIndex=-1\n",
    "                    for k in range(Y_padded_test.shape[2]):\n",
    "                        if Y_padded_test[i][j][k]>max_value:\n",
    "                            maxIndex=k\n",
    "                            max_value=max(max_value,Y_padded_test[i][j][k])\n",
    "                    output.append(maxIndex)\n",
    "                final_Y.append(output)\n",
    "            return final_Y\n",
    "        \n",
    "        # print(\"here\")\n",
    "        pred_train=get_pred(y_pred_train)\n",
    "        # print(pred_train)\n",
    "        real_train=get_real(y_data)\n",
    "        # print(real_train)\n",
    "\n",
    "        pred_val=get_pred(y_pred_val)\n",
    "        real_val=get_real(y_val)\n",
    "\n",
    "        f1_train = scikitf1(pred_train,real_train)\n",
    "        f1_val = scikitf1(pred_val,real_val)\n",
    "\n",
    "        self.val_f1_scores.append(f1_val)\n",
    "        self.train_f1_scores.append(f1_train)\n",
    "        print(f'Val F1 Score: {f1_val} - Train F1 Score: {f1_train}')\n",
    "\n",
    "\n",
    "\n",
    "#---------Prediction Functions----------------------------------------------\n",
    "def get_pred(Y_padded_output):\n",
    "    final_output=[]\n",
    "    for i in range(Y_padded_output.shape[0]):\n",
    "        output=[]\n",
    "        for j in range(Y_padded_output.shape[1]):\n",
    "            max_value=-1\n",
    "            maxIndex=-1\n",
    "            for k in range(Y_padded_output.shape[2]):\n",
    "                if Y_padded_output[i][j][k]>max_value:\n",
    "                    maxIndex=k\n",
    "                    max_value=max(max_value,Y_padded_output[i][j][k])\n",
    "            output.append(maxIndex)\n",
    "        final_output.append(output)\n",
    "    return final_output\n",
    "\n",
    "def get_real(Y_padded_test):\n",
    "    final_Y=[]\n",
    "    for i in range(Y_padded_test.shape[0]):\n",
    "        output=[]\n",
    "        for j in range(Y_padded_test.shape[1]):\n",
    "            max_value=-1\n",
    "            maxIndex=-1\n",
    "            for k in range(Y_padded_test.shape[2]):\n",
    "                if Y_padded_test[i][j][k]>max_value:\n",
    "                    maxIndex=k\n",
    "                    max_value=max(max_value,Y_padded_test[i][j][k])\n",
    "            output.append(maxIndex)\n",
    "        final_Y.append(output)\n",
    "    return final_Y\n",
    "\n",
    "def my_f1(y_true, y_pred):\n",
    "    \n",
    "    # predictions = get_pred(y_pred)\n",
    "    # real = get_real(y_true)\n",
    "\n",
    "    predictions = y_pred\n",
    "    real = y_true\n",
    "\n",
    "    size=len(predictions)\n",
    "\n",
    "    unique_labels= set()\n",
    "\n",
    "    for labels in real:\n",
    "        unique_labels.update(labels)\n",
    "\n",
    "    for labels in predictions:\n",
    "        unique_labels.update(labels)\n",
    "\n",
    "    labels_f1=[]\n",
    "\n",
    "    for labels in unique_labels:\n",
    "        tp=0\n",
    "        fp=0\n",
    "        fn=0\n",
    "\n",
    "        for i in range(size):\n",
    "            l=[]\n",
    "                    \n",
    "            tp+=sum((p==labels and r==labels) for p,r in zip(predictions[i],real[i]))\n",
    "            fp+=sum((p==labels and r!=labels) for p,r in zip(predictions[i],real[i]))\n",
    "            fn+=sum((p!=labels and r==labels) for p,r in zip(predictions[i],real[i]))\n",
    "\n",
    "        \n",
    "        precision = tp/(tp+fp) if tp+fp>0 else 0\n",
    "        recall = tp/(tp+fn) if tp+fn>0 else 0\n",
    "\n",
    "        f1=2*((precision*recall)/(precision+recall)) if precision+recall>0 else 0\n",
    "\n",
    "        labels_f1.append(f1)\n",
    "        print(f1,unique_labels)\n",
    "    macro_f1 = sum(labels_f1)/len(unique_labels)\n",
    "    return macro_f1\n",
    "\n",
    "def scikitf1(pred,real):\n",
    "\n",
    "    true_labels_flat = [label for sublist in real for label in sublist]\n",
    "    predicted_labels_flat = [label for sublist in pred for label in sublist]\n",
    "    # Compute F1 score\n",
    "    f1 = f1_score(true_labels_flat, predicted_labels_flat, average='macro')\n",
    "    return f1"
   ]
  },
  {
   "cell_type": "code",
   "execution_count": null,
   "id": "96a9796a",
   "metadata": {
    "papermill": {
     "duration": 0.025868,
     "end_time": "2024-03-10T12:42:21.087054",
     "exception": false,
     "start_time": "2024-03-10T12:42:21.061186",
     "status": "completed"
    },
    "tags": []
   },
   "outputs": [],
   "source": []
  },
  {
   "cell_type": "code",
   "execution_count": null,
   "id": "21efbba8",
   "metadata": {
    "execution": {
     "iopub.execute_input": "2024-03-10T11:35:48.164770Z",
     "iopub.status.busy": "2024-03-10T11:35:48.163348Z",
     "iopub.status.idle": "2024-03-10T11:35:48.175610Z",
     "shell.execute_reply": "2024-03-10T11:35:48.174822Z",
     "shell.execute_reply.started": "2024-03-10T11:35:48.164729Z"
    },
    "papermill": {
     "duration": 0.023844,
     "end_time": "2024-03-10T12:42:21.135451",
     "exception": false,
     "start_time": "2024-03-10T12:42:21.111607",
     "status": "completed"
    },
    "tags": []
   },
   "outputs": [],
   "source": []
  },
  {
   "cell_type": "code",
   "execution_count": 6,
   "id": "efc254d8",
   "metadata": {
    "execution": {
     "iopub.execute_input": "2024-03-10T12:42:21.189727Z",
     "iopub.status.busy": "2024-03-10T12:42:21.189172Z",
     "iopub.status.idle": "2024-03-10T12:42:21.196614Z",
     "shell.execute_reply": "2024-03-10T12:42:21.194791Z"
    },
    "papermill": {
     "duration": 0.03935,
     "end_time": "2024-03-10T12:42:21.199941",
     "exception": false,
     "start_time": "2024-03-10T12:42:21.160591",
     "status": "completed"
    },
    "tags": []
   },
   "outputs": [],
   "source": [
    "seed_value = 18\n",
    "np.random.seed(seed_value)\n",
    "tf.random.set_seed(seed_value)"
   ]
  },
  {
   "cell_type": "code",
   "execution_count": 7,
   "id": "293b36c6",
   "metadata": {
    "execution": {
     "iopub.execute_input": "2024-03-10T12:42:21.254926Z",
     "iopub.status.busy": "2024-03-10T12:42:21.253957Z",
     "iopub.status.idle": "2024-03-10T12:43:51.180270Z",
     "shell.execute_reply": "2024-03-10T12:43:51.179326Z"
    },
    "papermill": {
     "duration": 89.956423,
     "end_time": "2024-03-10T12:43:51.183240",
     "exception": false,
     "start_time": "2024-03-10T12:42:21.226817",
     "status": "completed"
    },
    "tags": []
   },
   "outputs": [],
   "source": [
    "if Embedding_name==\"word2vec\":\n",
    "    emb = KeyedVectors.load_word2vec_format(f'{PATH}WordEmbeddings/Word2vec.bin',binary=True)\n",
    "\n",
    "if Embedding_name==\"glove\":\n",
    "    with open(f'{PATH}WordEmbeddings/glove.840B.300d.pkl', 'rb') as fp:\n",
    "        emb = pickle.load(fp)\n",
    "if Embedding_name==\"fasttext\":\n",
    "    emb = fasttext.load_model(f'{PATH}WordEmbeddings/cc.en.300.bin')"
   ]
  },
  {
   "cell_type": "markdown",
   "id": "41d117ad",
   "metadata": {
    "papermill": {
     "duration": 0.023631,
     "end_time": "2024-03-10T12:43:51.231844",
     "exception": false,
     "start_time": "2024-03-10T12:43:51.208213",
     "status": "completed"
    },
    "tags": []
   },
   "source": [
    "# Data Extraction and Preprocessing"
   ]
  },
  {
   "cell_type": "markdown",
   "id": "1a00d2f0",
   "metadata": {
    "papermill": {
     "duration": 0.023874,
     "end_time": "2024-03-10T12:43:51.280304",
     "exception": false,
     "start_time": "2024-03-10T12:43:51.256430",
     "status": "completed"
    },
    "tags": []
   },
   "source": [
    "Reading ATE json files"
   ]
  },
  {
   "cell_type": "code",
   "execution_count": 8,
   "id": "fb0a4d54",
   "metadata": {
    "execution": {
     "iopub.execute_input": "2024-03-10T12:43:51.333329Z",
     "iopub.status.busy": "2024-03-10T12:43:51.332232Z",
     "iopub.status.idle": "2024-03-10T12:43:51.426613Z",
     "shell.execute_reply": "2024-03-10T12:43:51.425281Z"
    },
    "papermill": {
     "duration": 0.123565,
     "end_time": "2024-03-10T12:43:51.429633",
     "exception": false,
     "start_time": "2024-03-10T12:43:51.306068",
     "status": "completed"
    },
    "tags": []
   },
   "outputs": [],
   "source": [
    "\n",
    "train = None\n",
    "test = None\n",
    "val = None\n",
    "with open(f\"{PATH}Data/processed/{Dataset}_train.json\") as f1:\n",
    "    train = json.load(f1)\n",
    "\n",
    "with open(f\"{PATH}Data/processed/{Dataset}_test.json\") as f2:\n",
    "    test = json.load(f2)\n",
    "\n",
    "with open(f\"{PATH}Data/processed/{Dataset}_val.json\") as f3:\n",
    "    val = json.load(f3)\n",
    "\n"
   ]
  },
  {
   "cell_type": "markdown",
   "id": "f5f6e156",
   "metadata": {
    "papermill": {
     "duration": 0.024289,
     "end_time": "2024-03-10T12:43:51.478464",
     "exception": false,
     "start_time": "2024-03-10T12:43:51.454175",
     "status": "completed"
    },
    "tags": []
   },
   "source": [
    "processing into lists"
   ]
  },
  {
   "cell_type": "code",
   "execution_count": 9,
   "id": "728fe456",
   "metadata": {
    "execution": {
     "iopub.execute_input": "2024-03-10T12:43:51.529064Z",
     "iopub.status.busy": "2024-03-10T12:43:51.527851Z",
     "iopub.status.idle": "2024-03-10T12:43:51.535808Z",
     "shell.execute_reply": "2024-03-10T12:43:51.534527Z"
    },
    "papermill": {
     "duration": 0.03649,
     "end_time": "2024-03-10T12:43:51.538916",
     "exception": false,
     "start_time": "2024-03-10T12:43:51.502426",
     "status": "completed"
    },
    "tags": []
   },
   "outputs": [],
   "source": [
    "X_train,Y_train = create_train_test_val(train)\n",
    "X_test,Y_test = create_train_test_val(test)\n",
    "X_val,Y_val = create_train_test_val(val)"
   ]
  },
  {
   "cell_type": "markdown",
   "id": "9482a01b",
   "metadata": {
    "papermill": {
     "duration": 0.023663,
     "end_time": "2024-03-10T12:43:51.586621",
     "exception": false,
     "start_time": "2024-03-10T12:43:51.562958",
     "status": "completed"
    },
    "tags": []
   },
   "source": [
    "Tokenizing the ATE Dataset"
   ]
  },
  {
   "cell_type": "code",
   "execution_count": 10,
   "id": "7905552e",
   "metadata": {
    "execution": {
     "iopub.execute_input": "2024-03-10T12:43:51.637369Z",
     "iopub.status.busy": "2024-03-10T12:43:51.636958Z",
     "iopub.status.idle": "2024-03-10T12:43:51.773035Z",
     "shell.execute_reply": "2024-03-10T12:43:51.771634Z"
    },
    "papermill": {
     "duration": 0.166332,
     "end_time": "2024-03-10T12:43:51.776831",
     "exception": false,
     "start_time": "2024-03-10T12:43:51.610499",
     "status": "completed"
    },
    "tags": []
   },
   "outputs": [],
   "source": [
    "X_train_tokenized, toke = TokenCreator(X_train,1)\n",
    "X_test_tokenized = TokenCreator(X_test,0,tokenizer = toke)\n",
    "X_val_tokenized = TokenCreator(X_val,0,tokenizer = toke)\n",
    "\n",
    "Y_train_tokenized,toke2 = TokenCreator(Y_train,0)\n",
    "Y_test_tokenized = TokenCreator(Y_test,0,tokenizer = toke2)\n",
    "Y_val_tokenized = TokenCreator(Y_val,0,tokenizer = toke2)"
   ]
  },
  {
   "cell_type": "markdown",
   "id": "3e8dd5e9",
   "metadata": {
    "papermill": {
     "duration": 0.024451,
     "end_time": "2024-03-10T12:43:51.826407",
     "exception": false,
     "start_time": "2024-03-10T12:43:51.801956",
     "status": "completed"
    },
    "tags": []
   },
   "source": [
    "Vocabulary of ATE"
   ]
  },
  {
   "cell_type": "code",
   "execution_count": 11,
   "id": "f485e5d5",
   "metadata": {
    "execution": {
     "iopub.execute_input": "2024-03-10T12:43:51.973540Z",
     "iopub.status.busy": "2024-03-10T12:43:51.972998Z",
     "iopub.status.idle": "2024-03-10T12:43:51.986481Z",
     "shell.execute_reply": "2024-03-10T12:43:51.985195Z"
    },
    "papermill": {
     "duration": 0.043237,
     "end_time": "2024-03-10T12:43:51.989535",
     "exception": false,
     "start_time": "2024-03-10T12:43:51.946298",
     "status": "completed"
    },
    "tags": []
   },
   "outputs": [
    {
     "data": {
      "text/plain": [
       "2406"
      ]
     },
     "execution_count": 11,
     "metadata": {},
     "output_type": "execute_result"
    }
   ],
   "source": [
    "st1 = find_vocab(X_train_tokenized)\n",
    "vocab_size  = len(st1) + 1 \n",
    "vocab_size"
   ]
  },
  {
   "cell_type": "code",
   "execution_count": 12,
   "id": "fb7fff6c",
   "metadata": {
    "execution": {
     "iopub.execute_input": "2024-03-10T12:43:52.046253Z",
     "iopub.status.busy": "2024-03-10T12:43:52.045485Z",
     "iopub.status.idle": "2024-03-10T12:43:52.053841Z",
     "shell.execute_reply": "2024-03-10T12:43:52.052670Z"
    },
    "papermill": {
     "duration": 0.039265,
     "end_time": "2024-03-10T12:43:52.056186",
     "exception": false,
     "start_time": "2024-03-10T12:43:52.016921",
     "status": "completed"
    },
    "tags": []
   },
   "outputs": [
    {
     "data": {
      "text/plain": [
       "78"
      ]
     },
     "execution_count": 12,
     "metadata": {},
     "output_type": "execute_result"
    }
   ],
   "source": [
    "max_len=0\n",
    "\n",
    "for i in X_train_tokenized:\n",
    "    max_len = max(max_len,len(i))\n",
    "\n",
    "max_len"
   ]
  },
  {
   "cell_type": "markdown",
   "id": "fea7c60a",
   "metadata": {
    "papermill": {
     "duration": 0.025828,
     "end_time": "2024-03-10T12:43:52.107391",
     "exception": false,
     "start_time": "2024-03-10T12:43:52.081563",
     "status": "completed"
    },
    "tags": []
   },
   "source": [
    "Padding ATE"
   ]
  },
  {
   "cell_type": "code",
   "execution_count": 13,
   "id": "50c21b9c",
   "metadata": {
    "execution": {
     "iopub.execute_input": "2024-03-10T12:43:52.160899Z",
     "iopub.status.busy": "2024-03-10T12:43:52.160454Z",
     "iopub.status.idle": "2024-03-10T12:43:52.191597Z",
     "shell.execute_reply": "2024-03-10T12:43:52.189924Z"
    },
    "papermill": {
     "duration": 0.061385,
     "end_time": "2024-03-10T12:43:52.194809",
     "exception": false,
     "start_time": "2024-03-10T12:43:52.133424",
     "status": "completed"
    },
    "tags": []
   },
   "outputs": [],
   "source": [
    "X_padded_train = pad_sequences(X_train_tokenized, maxlen=max_len, padding=\"pre\", truncating=\"post\")\n",
    "Y_padded_train = pad_sequences(Y_train_tokenized, maxlen=max_len, padding=\"pre\", truncating=\"post\")\n",
    "\n",
    "X_padded_test = pad_sequences(X_test_tokenized, maxlen=max_len, padding=\"pre\", truncating=\"post\")\n",
    "Y_padded_test = pad_sequences(Y_test_tokenized, maxlen=max_len, padding=\"pre\", truncating=\"post\")\n",
    "\n",
    "X_padded_val = pad_sequences(X_val_tokenized, maxlen=max_len, padding=\"pre\", truncating=\"post\")\n",
    "Y_padded_val = pad_sequences(Y_val_tokenized, maxlen=max_len, padding=\"pre\", truncating=\"post\")       "
   ]
  },
  {
   "cell_type": "markdown",
   "id": "c15c311d",
   "metadata": {
    "papermill": {
     "duration": 0.025139,
     "end_time": "2024-03-10T12:43:52.246018",
     "exception": false,
     "start_time": "2024-03-10T12:43:52.220879",
     "status": "completed"
    },
    "tags": []
   },
   "source": [
    "One hot encoding the ATE labels"
   ]
  },
  {
   "cell_type": "code",
   "execution_count": 14,
   "id": "b574c7b4",
   "metadata": {
    "execution": {
     "iopub.execute_input": "2024-03-10T12:43:52.298665Z",
     "iopub.status.busy": "2024-03-10T12:43:52.298238Z",
     "iopub.status.idle": "2024-03-10T12:43:52.308024Z",
     "shell.execute_reply": "2024-03-10T12:43:52.306874Z"
    },
    "papermill": {
     "duration": 0.039574,
     "end_time": "2024-03-10T12:43:52.310957",
     "exception": false,
     "start_time": "2024-03-10T12:43:52.271383",
     "status": "completed"
    },
    "tags": []
   },
   "outputs": [],
   "source": [
    "Y_padded_train = to_categorical(Y_padded_train)\n",
    "Y_padded_test = to_categorical(Y_padded_test)\n",
    "Y_padded_val = to_categorical(Y_padded_val)"
   ]
  },
  {
   "cell_type": "markdown",
   "id": "cd14dbc3",
   "metadata": {
    "papermill": {
     "duration": 0.025766,
     "end_time": "2024-03-10T12:43:52.362778",
     "exception": false,
     "start_time": "2024-03-10T12:43:52.337012",
     "status": "completed"
    },
    "tags": []
   },
   "source": [
    "Assigning **ATE Word2Vec** mapping"
   ]
  },
  {
   "cell_type": "code",
   "execution_count": 15,
   "id": "4d3dee08",
   "metadata": {
    "execution": {
     "iopub.execute_input": "2024-03-10T12:43:52.417224Z",
     "iopub.status.busy": "2024-03-10T12:43:52.416800Z",
     "iopub.status.idle": "2024-03-10T12:43:52.463932Z",
     "shell.execute_reply": "2024-03-10T12:43:52.462763Z"
    },
    "papermill": {
     "duration": 0.078855,
     "end_time": "2024-03-10T12:43:52.466780",
     "exception": false,
     "start_time": "2024-03-10T12:43:52.387925",
     "status": "completed"
    },
    "tags": []
   },
   "outputs": [
    {
     "data": {
      "text/plain": [
       "{'#UK': 1,\n",
       " 'the': 2,\n",
       " '.': 3,\n",
       " ',': 4,\n",
       " 'and': 5,\n",
       " 'it': 6,\n",
       " 'to': 7,\n",
       " 'i': 8,\n",
       " 'is': 9,\n",
       " 'a': 10,\n",
       " 'of': 11,\n",
       " 'for': 12,\n",
       " 'with': 13,\n",
       " 'that': 14,\n",
       " 'my': 15,\n",
       " 'you': 16,\n",
       " 'this': 17,\n",
       " 'was': 18,\n",
       " 'in': 19,\n",
       " 'not': 20,\n",
       " 'on': 21,\n",
       " 'very': 22,\n",
       " 'but': 23,\n",
       " 'computer': 24,\n",
       " 'use': 25,\n",
       " 'have': 26,\n",
       " 'great': 27,\n",
       " 'they': 28,\n",
       " 'laptop': 29,\n",
       " \"n't\": 30,\n",
       " 'so': 31,\n",
       " 'has': 32,\n",
       " 'are': 33,\n",
       " 'battery': 34,\n",
       " 'had': 35,\n",
       " 'screen': 36,\n",
       " ')': 37,\n",
       " 'be': 38,\n",
       " 'as': 39,\n",
       " 'all': 40,\n",
       " '!': 41,\n",
       " '(': 42,\n",
       " \"'s\": 43,\n",
       " 'also': 44,\n",
       " 'me': 45,\n",
       " 'just': 46,\n",
       " 'easy': 47,\n",
       " 'when': 48,\n",
       " 'at': 49,\n",
       " 'or': 50,\n",
       " 'only': 51,\n",
       " 'which': 52,\n",
       " 'up': 53,\n",
       " 'life': 54,\n",
       " 'can': 55,\n",
       " 'windows': 56,\n",
       " 'than': 57,\n",
       " 'out': 58,\n",
       " 'if': 59,\n",
       " 'do': 60,\n",
       " 'after': 61,\n",
       " 'more': 62,\n",
       " 'keyboard': 63,\n",
       " 'would': 64,\n",
       " 'drive': 65,\n",
       " 'hard': 66,\n",
       " 'price': 67,\n",
       " 'from': 68,\n",
       " 'well': 69,\n",
       " 'because': 70,\n",
       " 'good': 71,\n",
       " 'one': 72,\n",
       " 'an': 73,\n",
       " 'like': 74,\n",
       " 'mac': 75,\n",
       " 'about': 76,\n",
       " 'quality': 77,\n",
       " 'its': 78,\n",
       " 'love': 79,\n",
       " 'get': 80,\n",
       " 'no': 81,\n",
       " 'software': 82,\n",
       " 'time': 83,\n",
       " 'even': 84,\n",
       " 'macbook': 85,\n",
       " 'will': 86,\n",
       " 'system': 87,\n",
       " 'apple': 88,\n",
       " 'other': 89,\n",
       " 'there': 90,\n",
       " 'does': 91,\n",
       " 'thing': 92,\n",
       " 'problem': 93,\n",
       " 'new': 94,\n",
       " 'much': 95,\n",
       " 'features': 96,\n",
       " 'any': 97,\n",
       " 'then': 98,\n",
       " 'programs': 99,\n",
       " 'power': 100,\n",
       " 'now': 101,\n",
       " 'service': 102,\n",
       " 'work': 103,\n",
       " 'buy': 104,\n",
       " 'works': 105,\n",
       " 'problems': 106,\n",
       " 'fast': 107,\n",
       " 'did': 108,\n",
       " 'toshiba': 109,\n",
       " '7': 110,\n",
       " 'could': 111,\n",
       " 'size': 112,\n",
       " 'what': 113,\n",
       " 'am': 114,\n",
       " 'too': 115,\n",
       " 'working': 116,\n",
       " 'back': 117,\n",
       " 'your': 118,\n",
       " ':': 119,\n",
       " 'speed': 120,\n",
       " 'machine': 121,\n",
       " 'best': 122,\n",
       " 'pro': 123,\n",
       " 'we': 124,\n",
       " 'were': 125,\n",
       " 'again': 126,\n",
       " 'pc': 127,\n",
       " 'performance': 128,\n",
       " 'little': 129,\n",
       " 'product': 130,\n",
       " 'many': 131,\n",
       " '-': 132,\n",
       " 'really': 133,\n",
       " 'by': 134,\n",
       " 'need': 135,\n",
       " 'first': 136,\n",
       " 'having': 137,\n",
       " \"''\": 138,\n",
       " 'some': 139,\n",
       " 'still': 140,\n",
       " 'months': 141,\n",
       " 'memory': 142,\n",
       " 'long': 143,\n",
       " 'been': 144,\n",
       " 'their': 145,\n",
       " 'bought': 146,\n",
       " 'better': 147,\n",
       " 'everything': 148,\n",
       " 'used': 149,\n",
       " 'warranty': 150,\n",
       " 'since': 151,\n",
       " 'worth': 152,\n",
       " 'graphics': 153,\n",
       " 'how': 154,\n",
       " 'design': 155,\n",
       " 'applications': 156,\n",
       " 'mouse': 157,\n",
       " 'comes': 158,\n",
       " 'run': 159,\n",
       " 'who': 160,\n",
       " 'every': 161,\n",
       " 'nice': 162,\n",
       " 'internet': 163,\n",
       " 'laptops': 164,\n",
       " 'never': 165,\n",
       " 'replaced': 166,\n",
       " '3': 167,\n",
       " 'support': 168,\n",
       " 'games': 169,\n",
       " 'bad': 170,\n",
       " 'same': 171,\n",
       " 'right': 172,\n",
       " '``': 173,\n",
       " 'runs': 174,\n",
       " 'looking': 175,\n",
       " 'enough': 176,\n",
       " 'using': 177,\n",
       " 'way': 178,\n",
       " 'running': 179,\n",
       " 'able': 180,\n",
       " 'program': 181,\n",
       " 'always': 182,\n",
       " 'lot': 183,\n",
       " 'dell': 184,\n",
       " 'another': 185,\n",
       " \"'ve\": 186,\n",
       " 'pad': 187,\n",
       " 'netbook': 188,\n",
       " 'got': 189,\n",
       " 'operating': 190,\n",
       " 'hp': 191,\n",
       " 'money': 192,\n",
       " 'most': 193,\n",
       " 'went': 194,\n",
       " 'such': 195,\n",
       " '$': 196,\n",
       " 'card': 197,\n",
       " 'them': 198,\n",
       " 'come': 199,\n",
       " 'large': 200,\n",
       " 'make': 201,\n",
       " 'gaming': 202,\n",
       " 'take': 203,\n",
       " 'hours': 204,\n",
       " 'look': 205,\n",
       " 'web': 206,\n",
       " 'over': 207,\n",
       " 'less': 208,\n",
       " 'ca': 209,\n",
       " 'around': 210,\n",
       " 'though': 211,\n",
       " 'excellent': 212,\n",
       " 'display': 213,\n",
       " 'made': 214,\n",
       " '?': 215,\n",
       " 'awesome': 216,\n",
       " 'while': 217,\n",
       " 'issue': 218,\n",
       " \"'m\": 219,\n",
       " 'makes': 220,\n",
       " 'next': 221,\n",
       " 'keep': 222,\n",
       " 'slow': 223,\n",
       " 'amazing': 224,\n",
       " 'month': 225,\n",
       " 'ever': 226,\n",
       " 'purchase': 227,\n",
       " 'perfect': 228,\n",
       " 'vista': 229,\n",
       " 'customer': 230,\n",
       " 'want': 231,\n",
       " 'carry': 232,\n",
       " 'feel': 233,\n",
       " 'bit': 234,\n",
       " 'small': 235,\n",
       " 'os': 236,\n",
       " 'easily': 237,\n",
       " 'should': 238,\n",
       " 'video': 239,\n",
       " 'overall': 240,\n",
       " 'two': 241,\n",
       " 'cheap': 242,\n",
       " 'off': 243,\n",
       " 'light': 244,\n",
       " 'find': 245,\n",
       " 'open': 246,\n",
       " 'called': 247,\n",
       " 'fix': 248,\n",
       " 'stopped': 249,\n",
       " 'go': 250,\n",
       " 'things': 251,\n",
       " '5': 252,\n",
       " 'key': 253,\n",
       " 'pay': 254,\n",
       " ';': 255,\n",
       " 'desktop': 256,\n",
       " 'cost': 257,\n",
       " 'fixed': 258,\n",
       " 'processor': 259,\n",
       " 'wonderful': 260,\n",
       " 'once': 261,\n",
       " 'sound': 262,\n",
       " 'pretty': 263,\n",
       " 'space': 264,\n",
       " '2': 265,\n",
       " 'down': 266,\n",
       " 'high': 267,\n",
       " 'day': 268,\n",
       " 'external': 269,\n",
       " 'fan': 270,\n",
       " 'started': 271,\n",
       " 'quickly': 272,\n",
       " 'ease': 273,\n",
       " '--': 274,\n",
       " 'word': 275,\n",
       " 'office': 276,\n",
       " 'without': 277,\n",
       " 'old': 278,\n",
       " 'computers': 279,\n",
       " 'came': 280,\n",
       " 'due': 281,\n",
       " 'lightweight': 282,\n",
       " 'cd': 283,\n",
       " 'see': 284,\n",
       " 'short': 285,\n",
       " 'say': 286,\n",
       " 'week': 287,\n",
       " 'repair': 288,\n",
       " 'ram': 289,\n",
       " 'charge': 290,\n",
       " 'boot': 291,\n",
       " 'completely': 292,\n",
       " 'warrenty': 293,\n",
       " 'took': 294,\n",
       " 'shipping': 295,\n",
       " 'microsoft': 296,\n",
       " 'doing': 297,\n",
       " 'set': 298,\n",
       " 'free': 299,\n",
       " 'virus': 300,\n",
       " 'keys': 301,\n",
       " 'supply': 302,\n",
       " 'feature': 303,\n",
       " 'send': 304,\n",
       " 'through': 305,\n",
       " 'know': 306,\n",
       " 'notebook': 307,\n",
       " 'being': 308,\n",
       " 'recommend': 309,\n",
       " 'trackpad': 310,\n",
       " 'compared': 311,\n",
       " 'think': 312,\n",
       " 'full': 313,\n",
       " 'anyone': 314,\n",
       " 'dvd': 315,\n",
       " 'faster': 316,\n",
       " 'change': 317,\n",
       " 'plus': 318,\n",
       " 'last': 319,\n",
       " 'something': 320,\n",
       " 'home': 321,\n",
       " 'company': 322,\n",
       " 'where': 323,\n",
       " 'before': 324,\n",
       " 'value': 325,\n",
       " 'built': 326,\n",
       " 'may': 327,\n",
       " 'however': 328,\n",
       " \"'re\": 329,\n",
       " 'usb': 330,\n",
       " 'brand': 331,\n",
       " 'past': 332,\n",
       " 'motherboard': 333,\n",
       " 'charger': 334,\n",
       " 'hardware': 335,\n",
       " 'simple': 336,\n",
       " 'within': 337,\n",
       " 'touch': 338,\n",
       " 'yet': 339,\n",
       " 'acer': 340,\n",
       " 'yes': 341,\n",
       " 'few': 342,\n",
       " 'webcam': 343,\n",
       " 'play': 344,\n",
       " \"'d\": 345,\n",
       " 'issues': 346,\n",
       " 'clear': 347,\n",
       " 'year': 348,\n",
       " 'thought': 349,\n",
       " 'far': 350,\n",
       " 'user': 351,\n",
       " 'itself': 352,\n",
       " '1': 353,\n",
       " 'although': 354,\n",
       " 'these': 355,\n",
       " 'easier': 356,\n",
       " 'extra': 357,\n",
       " 'port': 358,\n",
       " 'getting': 359,\n",
       " 'etc': 360,\n",
       " 'must': 361,\n",
       " 'speakers': 362,\n",
       " 'looks': 363,\n",
       " 'iphoto': 364,\n",
       " 'worked': 365,\n",
       " 'found': 366,\n",
       " 'big': 367,\n",
       " 'learn': 368,\n",
       " 'seems': 369,\n",
       " 'center': 370,\n",
       " 'lots': 371,\n",
       " 'frustrating': 372,\n",
       " 'help': 373,\n",
       " 'fact': 374,\n",
       " 'upgraded': 375,\n",
       " 'pcs': 376,\n",
       " 'connect': 377,\n",
       " 'board': 378,\n",
       " 'making': 379,\n",
       " 'products': 380,\n",
       " 'needs': 381,\n",
       " 'cool': 382,\n",
       " 'until': 383,\n",
       " 'course': 384,\n",
       " 'resolution': 385,\n",
       " 'itunes': 386,\n",
       " '13': 387,\n",
       " 'longer': 388,\n",
       " 'type': 389,\n",
       " 'store': 390,\n",
       " 'sent': 391,\n",
       " 'quick': 392,\n",
       " 'second': 393,\n",
       " 'processing': 394,\n",
       " 'poor': 395,\n",
       " 'expected': 396,\n",
       " 'years': 397,\n",
       " 'simply': 398,\n",
       " 'starter': 399,\n",
       " 'buttons': 400,\n",
       " 'build': 401,\n",
       " 'call': 402,\n",
       " 'others': 403,\n",
       " 'wireless': 404,\n",
       " 'plenty': 405,\n",
       " 'he': 406,\n",
       " 'actually': 407,\n",
       " 'failed': 408,\n",
       " 'someone': 409,\n",
       " 'cord': 410,\n",
       " 'extremely': 411,\n",
       " 'absolutely': 412,\n",
       " 'start': 413,\n",
       " 'dark': 414,\n",
       " 'multi-touch': 415,\n",
       " 'installed': 416,\n",
       " 'crashed': 417,\n",
       " 'added': 418,\n",
       " 'hd': 419,\n",
       " 'monitor': 420,\n",
       " 'several': 421,\n",
       " 'loud': 422,\n",
       " 'times': 423,\n",
       " '4': 424,\n",
       " 'wanted': 425,\n",
       " 'constantly': 426,\n",
       " 'systems': 427,\n",
       " 'touchpad': 428,\n",
       " 'editing': 429,\n",
       " 'phone': 430,\n",
       " 'hour': 431,\n",
       " 'browsing': 432,\n",
       " 'playing': 433,\n",
       " 'replace': 434,\n",
       " 'believe': 435,\n",
       " 'xp': 436,\n",
       " 'wo': 437,\n",
       " 'online': 438,\n",
       " 'garageband': 439,\n",
       " 'bright': 440,\n",
       " 'navigate': 441,\n",
       " 'ilife': 442,\n",
       " 'sleek': 443,\n",
       " 'least': 444,\n",
       " 'premium': 445,\n",
       " 'box': 446,\n",
       " 'away': 447,\n",
       " 'anything': 448,\n",
       " 'worry': 449,\n",
       " 'sure': 450,\n",
       " 'book': 451,\n",
       " 'experience': 452,\n",
       " 'told': 453,\n",
       " 'portable': 454,\n",
       " 'needed': 455,\n",
       " 'going': 456,\n",
       " 'sony': 457,\n",
       " 'macbooks': 458,\n",
       " 'done': 459,\n",
       " 'useful': 460,\n",
       " 'horrible': 461,\n",
       " '/': 462,\n",
       " 'weight': 463,\n",
       " 'movies': 464,\n",
       " 'led': 465,\n",
       " 'tried': 466,\n",
       " 'business': 467,\n",
       " 'background': 468,\n",
       " 'camera': 469,\n",
       " 'fine': 470,\n",
       " 'huge': 471,\n",
       " 'weeks': 472,\n",
       " 'deal': 473,\n",
       " 'superior': 474,\n",
       " 'upgrade': 475,\n",
       " 'media': 476,\n",
       " 'macs': 477,\n",
       " 'convenient': 478,\n",
       " 'real': 479,\n",
       " 'already': 480,\n",
       " 'worse': 481,\n",
       " 'specs': 482,\n",
       " 'disk': 483,\n",
       " 'front': 484,\n",
       " 'coming': 485,\n",
       " 'connection': 486,\n",
       " 'highly': 487,\n",
       " 'offers': 488,\n",
       " 'finally': 489,\n",
       " 'seemed': 490,\n",
       " 'disc': 491,\n",
       " 'enjoy': 492,\n",
       " 'extended': 493,\n",
       " 'knew': 494,\n",
       " 'trouble': 495,\n",
       " 'order': 496,\n",
       " 'documents': 497,\n",
       " 'crashing': 498,\n",
       " 'designed': 499,\n",
       " 'oh': 500,\n",
       " 'expensive': 501,\n",
       " 'top': 502,\n",
       " \"'ll\": 503,\n",
       " 'charged': 504,\n",
       " 'sales': 505,\n",
       " 'average': 506,\n",
       " 'maybe': 507,\n",
       " 'gets': 508,\n",
       " 'wish': 509,\n",
       " 'might': 510,\n",
       " 'backlit': 511,\n",
       " 'volume': 512,\n",
       " 'install': 513,\n",
       " 'impressed': 514,\n",
       " 'including': 515,\n",
       " 'built-in': 516,\n",
       " 'hooked': 517,\n",
       " 'drop': 518,\n",
       " 'guess': 519,\n",
       " 'tax': 520,\n",
       " 'buying': 521,\n",
       " 'iwork': 522,\n",
       " 'our': 523,\n",
       " 'especially': 524,\n",
       " 'replacement': 525,\n",
       " 'shows': 526,\n",
       " 'x': 527,\n",
       " 'older': 528,\n",
       " 'ports': 529,\n",
       " 'intel': 530,\n",
       " 'version': 531,\n",
       " 'email': 532,\n",
       " 'hot': 533,\n",
       " 'cheaper': 534,\n",
       " 'takes': 535,\n",
       " 'load': 536,\n",
       " 'storage': 537,\n",
       " 'tech': 538,\n",
       " 'users': 539,\n",
       " 'fairly': 540,\n",
       " 'reason': 541,\n",
       " 'end': 542,\n",
       " 'operation': 543,\n",
       " 'sharp': 544,\n",
       " 'nearly': 545,\n",
       " 'flawlessly': 546,\n",
       " 'higher': 547,\n",
       " 'music': 548,\n",
       " 'included': 549,\n",
       " 'expense': 550,\n",
       " 'osx': 551,\n",
       " 'functions': 552,\n",
       " 'tv': 553,\n",
       " 'interface': 554,\n",
       " 'pleased': 555,\n",
       " 'professional': 556,\n",
       " 'care': 557,\n",
       " 'apps': 558,\n",
       " 'watching': 559,\n",
       " 'else': 560,\n",
       " 'beautiful': 561,\n",
       " 'inch': 562,\n",
       " 'inside': 563,\n",
       " 'trial': 564,\n",
       " 'own': 565,\n",
       " 'noticed': 566,\n",
       " 'left': 567,\n",
       " 'model': 568,\n",
       " 'case': 569,\n",
       " 'happy': 570,\n",
       " 'into': 571,\n",
       " 'definitely': 572,\n",
       " 'matter': 573,\n",
       " 'different': 574,\n",
       " 'button': 575,\n",
       " 'opened': 576,\n",
       " 'sized': 577,\n",
       " 'typing': 578,\n",
       " 'days': 579,\n",
       " 'froze': 580,\n",
       " 'adding': 581,\n",
       " 'loose': 582,\n",
       " 'number': 583,\n",
       " 'photos': 584,\n",
       " 'solid': 585,\n",
       " 'edges': 586,\n",
       " 'geek': 587,\n",
       " 'college': 588,\n",
       " 'both': 589,\n",
       " 'pictures': 590,\n",
       " 'half': 591,\n",
       " 'network': 592,\n",
       " 'nothing': 593,\n",
       " 'services': 594,\n",
       " 'said': 595,\n",
       " 'darker': 596,\n",
       " 'standard': 597,\n",
       " 'pages': 598,\n",
       " '...': 599,\n",
       " 'strong': 600,\n",
       " 'purchased': 601,\n",
       " 'save': 602,\n",
       " 'almost': 603,\n",
       " 'apparently': 604,\n",
       " 'videos': 605,\n",
       " 'difference': 606,\n",
       " 'fit': 607,\n",
       " 'night': 608,\n",
       " 'usually': 609,\n",
       " 'entire': 610,\n",
       " 'stay': 611,\n",
       " 'properly': 612,\n",
       " 'plugged': 613,\n",
       " 'iphone': 614,\n",
       " 'talk': 615,\n",
       " 'crashes': 616,\n",
       " 'paying': 617,\n",
       " 'newer': 618,\n",
       " 'country': 619,\n",
       " 'certain': 620,\n",
       " 'drivers': 621,\n",
       " 'files': 622,\n",
       " 'slick': 623,\n",
       " 'died': 624,\n",
       " 'trying': 625,\n",
       " 'allows': 626,\n",
       " 'refused': 627,\n",
       " 'ipod': 628,\n",
       " 'mother': 629,\n",
       " 'yeah': 630,\n",
       " 'bar': 631,\n",
       " 'recovery': 632,\n",
       " 'available': 633,\n",
       " 'useless': 634,\n",
       " 'protection': 635,\n",
       " 'paid': 636,\n",
       " 'none': 637,\n",
       " 'reliable': 638,\n",
       " 'people': 639,\n",
       " 'chose': 640,\n",
       " 'spend': 641,\n",
       " 'mention': 642,\n",
       " 'slowly': 643,\n",
       " 'hold': 644,\n",
       " 'minutes': 645,\n",
       " 'stars': 646,\n",
       " '+': 647,\n",
       " 'drawback': 648,\n",
       " 'break': 649,\n",
       " 'responsive': 650,\n",
       " 'amount': 651,\n",
       " 'terrific': 652,\n",
       " 'mic': 653,\n",
       " 'thru': 654,\n",
       " 'cam': 655,\n",
       " 'mostly': 656,\n",
       " 'imovie': 657,\n",
       " 'colors': 658,\n",
       " 'crisp': 659,\n",
       " 'leopard': 660,\n",
       " 'above': 661,\n",
       " 'core': 662,\n",
       " 'becomes': 663,\n",
       " 'body': 664,\n",
       " 'low': 665,\n",
       " 'im': 666,\n",
       " 'whole': 667,\n",
       " '175': 668,\n",
       " 'side': 669,\n",
       " 'cooling': 670,\n",
       " 'viruses': 671,\n",
       " '8': 672,\n",
       " 'keeps': 673,\n",
       " 'friendly': 674,\n",
       " 'caused': 675,\n",
       " 'remove': 676,\n",
       " 'smooth': 677,\n",
       " 'quite': 678,\n",
       " 'soon': 679,\n",
       " 'machines': 680,\n",
       " 'components': 681,\n",
       " 'lasting': 682,\n",
       " 'smoothly': 683,\n",
       " 'loaded': 684,\n",
       " 'via': 685,\n",
       " 'pack': 686,\n",
       " 'liked': 687,\n",
       " 'ahead': 688,\n",
       " 'hated': 689,\n",
       " 'quiet': 690,\n",
       " 'thats': 691,\n",
       " 'three': 692,\n",
       " 'necessary': 693,\n",
       " 'hook': 694,\n",
       " 'satellite': 695,\n",
       " 'boots': 696,\n",
       " 'die': 697,\n",
       " 'received': 698,\n",
       " 'priced': 699,\n",
       " 'burn': 700,\n",
       " 'probably': 701,\n",
       " 'why': 702,\n",
       " 'lose': 703,\n",
       " '%': 704,\n",
       " 'unlike': 705,\n",
       " '17': 706,\n",
       " 'offer': 707,\n",
       " 'updates': 708,\n",
       " 'versions': 709,\n",
       " 'special': 710,\n",
       " 'broke': 711,\n",
       " 'black': 712,\n",
       " 'seen': 713,\n",
       " 'world': 714,\n",
       " 'awful': 715,\n",
       " 'comfortable': 716,\n",
       " 'yourself': 717,\n",
       " 'doesnt': 718,\n",
       " 'during': 719,\n",
       " 'line': 720,\n",
       " 'clean': 721,\n",
       " 'discover': 722,\n",
       " 'looked': 723,\n",
       " 'rma': 724,\n",
       " 'contacted': 725,\n",
       " 'ups': 726,\n",
       " 'durable': 727,\n",
       " 'broken': 728,\n",
       " 'gb': 729,\n",
       " 'reasonable': 730,\n",
       " 'noise': 731,\n",
       " 'constant': 732,\n",
       " 'ghz': 733,\n",
       " '500gb': 734,\n",
       " 'instead': 735,\n",
       " 'access': 736,\n",
       " 'rest': 737,\n",
       " 'wheel': 738,\n",
       " 'school': 739,\n",
       " 'programming': 740,\n",
       " 'worst': 741,\n",
       " 'blue': 742,\n",
       " 'larger': 743,\n",
       " 'gives': 744,\n",
       " 'relatively': 745,\n",
       " 'tutorials': 746,\n",
       " 'disappointing': 747,\n",
       " 'plug': 748,\n",
       " 'capabilities': 749,\n",
       " 'point': 750,\n",
       " 'seem': 751,\n",
       " 'downfall': 752,\n",
       " 'purchasing': 753,\n",
       " 'except': 754,\n",
       " 'plastic': 755,\n",
       " 'returned': 756,\n",
       " 'speaker': 757,\n",
       " 'student': 758,\n",
       " 'portability': 759,\n",
       " 'five': 760,\n",
       " 'person': 761,\n",
       " 'stuff': 762,\n",
       " 'turns': 763,\n",
       " 'often': 764,\n",
       " 'device': 765,\n",
       " 'fun': 766,\n",
       " 'plan': 767,\n",
       " 'previous': 768,\n",
       " 'operate': 769,\n",
       " 'unable': 770,\n",
       " 'track': 771,\n",
       " 'squad': 772,\n",
       " 'known': 773,\n",
       " 'either': 774,\n",
       " 'ask': 775,\n",
       " 'give': 776,\n",
       " 'expired': 777,\n",
       " 'fits': 778,\n",
       " 'budget': 779,\n",
       " 'besides': 780,\n",
       " 'slightly': 781,\n",
       " 'computing': 782,\n",
       " 'room': 783,\n",
       " 'bios': 784,\n",
       " 'benefits': 785,\n",
       " 'spoke': 786,\n",
       " 'she': 787,\n",
       " 'fantastic': 788,\n",
       " 'decent': 789,\n",
       " 'shipped': 790,\n",
       " 'general': 791,\n",
       " 'claim': 792,\n",
       " 'twice': 793,\n",
       " 'handle': 794,\n",
       " 'numbers': 795,\n",
       " 'sensitive': 796,\n",
       " 'cords': 797,\n",
       " 'taking': 798,\n",
       " 'gui': 799,\n",
       " 'bundled': 800,\n",
       " 'gorgeous': 801,\n",
       " 'turned': 802,\n",
       " 'freaking': 803,\n",
       " 'turn': 804,\n",
       " 'steady': 805,\n",
       " 'unnecessary': 806,\n",
       " 'unless': 807,\n",
       " 'suite': 808,\n",
       " 'satisfied': 809,\n",
       " 'barely': 810,\n",
       " 'connected': 811,\n",
       " 'pure': 812,\n",
       " 'snap': 813,\n",
       " '30': 814,\n",
       " 'helps': 815,\n",
       " 'occasionally': 816,\n",
       " 'hundred': 817,\n",
       " 'dollars': 818,\n",
       " 'preloaded': 819,\n",
       " 'along': 820,\n",
       " 'realized': 821,\n",
       " 'kinda': 822,\n",
       " 'speaking': 823,\n",
       " 'browser': 824,\n",
       " 'under': 825,\n",
       " 'ago': 826,\n",
       " 'forced': 827,\n",
       " 'website': 828,\n",
       " 'force': 829,\n",
       " 'four': 830,\n",
       " 'advantage': 831,\n",
       " 'increase': 832,\n",
       " 'heated': 833,\n",
       " 'opening': 834,\n",
       " 'poorly': 835,\n",
       " 'intuitive': 836,\n",
       " 'download': 837,\n",
       " 'glass': 838,\n",
       " 'continued': 839,\n",
       " 'simpler': 840,\n",
       " 'forward': 841,\n",
       " 'genius': 842,\n",
       " '10': 843,\n",
       " 'movie': 844,\n",
       " 'bluetooth': 845,\n",
       " 'customers': 846,\n",
       " 'white': 847,\n",
       " 'updated': 848,\n",
       " 'color': 849,\n",
       " 'comparison': 850,\n",
       " 'factor': 851,\n",
       " 'familiar': 852,\n",
       " 'couple': 853,\n",
       " 'complaints': 854,\n",
       " 'construction': 855,\n",
       " 'security': 856,\n",
       " 'stuck': 857,\n",
       " 'didnt': 858,\n",
       " 'dont': 859,\n",
       " 'safari': 860,\n",
       " 'delivery': 861,\n",
       " 'anytime': 862,\n",
       " 'mind': 863,\n",
       " 'ordered': 864,\n",
       " 'saved': 865,\n",
       " 'crystal': 866,\n",
       " 'owning': 867,\n",
       " 'become': 868,\n",
       " 'incredibly': 869,\n",
       " 'powerbook': 870,\n",
       " 'easiest': 871,\n",
       " 'surface': 872,\n",
       " 'snow': 873,\n",
       " 'learning': 874,\n",
       " 'picked': 875,\n",
       " 'check': 876,\n",
       " 'missing': 877,\n",
       " 'dual': 878,\n",
       " 'charging': 879,\n",
       " 'stand': 880,\n",
       " 'appleworks': 881,\n",
       " 'paint': 882,\n",
       " 'early': 883,\n",
       " 'edition': 884,\n",
       " 'report': 885,\n",
       " 'cheaply': 886,\n",
       " 'holds': 887,\n",
       " 'antivirus': 888,\n",
       " 'glad': 889,\n",
       " 'nicely': 890,\n",
       " 'part': 891,\n",
       " 'latest': 892,\n",
       " 'waited': 893,\n",
       " 'chat': 894,\n",
       " 'us': 895,\n",
       " 'wasted': 896,\n",
       " 'provides': 897,\n",
       " 'those': 898,\n",
       " 'unreliable': 899,\n",
       " 'meets': 900,\n",
       " 'spec': 901,\n",
       " 'burner': 902,\n",
       " 'discovered': 903,\n",
       " 'ran': 904,\n",
       " 'between': 905,\n",
       " '1/2': 906,\n",
       " 'edge': 907,\n",
       " 'phones': 908,\n",
       " 'terrible': 909,\n",
       " 'hate': 910,\n",
       " 'opinion': 911,\n",
       " 'gave': 912,\n",
       " 'daughter': 913,\n",
       " 'listen': 914,\n",
       " 'major': 915,\n",
       " 'heavy': 916,\n",
       " 'bulky': 917,\n",
       " 'electronic': 918,\n",
       " \"'\": 919,\n",
       " 'linux': 920,\n",
       " 'based': 921,\n",
       " 'sense': 922,\n",
       " 'rather': 923,\n",
       " 'processors': 924,\n",
       " 'hdmi': 925,\n",
       " 'firewire': 926,\n",
       " 'image': 927,\n",
       " 'kind': 928,\n",
       " 'clicking': 929,\n",
       " 'unsteady': 930,\n",
       " 'bugs': 931,\n",
       " 'junk': 932,\n",
       " 'facebook': 933,\n",
       " 'file': 934,\n",
       " 'particular': 935,\n",
       " 'truly': 936,\n",
       " 'bucks': 937,\n",
       " 'beyond': 938,\n",
       " 'duty': 939,\n",
       " 'crash': 940,\n",
       " 'decides': 941,\n",
       " 'mode': 942,\n",
       " 'dropping': 943,\n",
       " 'stock': 944,\n",
       " 'given': 945,\n",
       " 'graphic': 946,\n",
       " 'decreased': 947,\n",
       " 'thrilled': 948,\n",
       " 'technical': 949,\n",
       " 'skype': 950,\n",
       " 'hdd': 951,\n",
       " 'main': 952,\n",
       " 'understand': 953,\n",
       " 'consider': 954,\n",
       " 'ms': 955,\n",
       " 'amazed': 956,\n",
       " 'fully': 957,\n",
       " 'letters': 958,\n",
       " 'complete': 959,\n",
       " 'ergonomic': 960,\n",
       " 'sometimes': 961,\n",
       " 'notebooks': 962,\n",
       " 'quicker': 963,\n",
       " 'photography': 964,\n",
       " '10-11': 965,\n",
       " 'depending': 966,\n",
       " 'level': 967,\n",
       " 'appearance': 968,\n",
       " '3rd': 969,\n",
       " 'bother': 970,\n",
       " 'data': 971,\n",
       " 'taught': 972,\n",
       " 'photoshop': 973,\n",
       " 'bigger': 974,\n",
       " 'loves': 975,\n",
       " 'husband': 976,\n",
       " 'signals': 977,\n",
       " 'multiple': 978,\n",
       " 'page': 979,\n",
       " 'non': 980,\n",
       " 'frequently': 981,\n",
       " 'ideal': 982,\n",
       " 'improvements': 983,\n",
       " 'images': 984,\n",
       " 'later': 985,\n",
       " 'options': 986,\n",
       " 'girlfriend': 987,\n",
       " 'hinge': 988,\n",
       " 'lcd': 989,\n",
       " 'late': 990,\n",
       " 'issued': 991,\n",
       " 'morning': 992,\n",
       " '60': 993,\n",
       " 'hiccups': 994,\n",
       " 'occasion': 995,\n",
       " 'presentations': 996,\n",
       " 'functioning': 997,\n",
       " 'obviously': 998,\n",
       " 'hinges': 999,\n",
       " 'advertised': 1000,\n",
       " ...}"
      ]
     },
     "execution_count": 15,
     "metadata": {},
     "output_type": "execute_result"
    }
   ],
   "source": [
    "weights = np.zeros((vocab_size, 300))\n",
    "mapping = toke.word_index \n",
    "mapping"
   ]
  },
  {
   "cell_type": "markdown",
   "id": "ec2c4f03",
   "metadata": {
    "papermill": {
     "duration": 0.026331,
     "end_time": "2024-03-10T12:43:52.520189",
     "exception": false,
     "start_time": "2024-03-10T12:43:52.493858",
     "status": "completed"
    },
    "tags": []
   },
   "source": [
    "Fetching weights from pre trained Word2Vec model (ATE)"
   ]
  },
  {
   "cell_type": "code",
   "execution_count": 16,
   "id": "83ffae1f",
   "metadata": {
    "execution": {
     "iopub.execute_input": "2024-03-10T12:43:52.575305Z",
     "iopub.status.busy": "2024-03-10T12:43:52.574850Z",
     "iopub.status.idle": "2024-03-10T12:43:52.947599Z",
     "shell.execute_reply": "2024-03-10T12:43:52.946261Z"
    },
    "papermill": {
     "duration": 0.403885,
     "end_time": "2024-03-10T12:43:52.950620",
     "exception": false,
     "start_time": "2024-03-10T12:43:52.546735",
     "status": "completed"
    },
    "tags": []
   },
   "outputs": [],
   "source": [
    "for word, index in mapping.items():\n",
    "    if word in emb:\n",
    "        weights[index:] = emb[word]"
   ]
  },
  {
   "cell_type": "code",
   "execution_count": 17,
   "id": "005a8972",
   "metadata": {
    "execution": {
     "iopub.execute_input": "2024-03-10T12:43:53.006564Z",
     "iopub.status.busy": "2024-03-10T12:43:53.006070Z",
     "iopub.status.idle": "2024-03-10T12:43:53.012514Z",
     "shell.execute_reply": "2024-03-10T12:43:53.011242Z"
    },
    "papermill": {
     "duration": 0.037616,
     "end_time": "2024-03-10T12:43:53.014845",
     "exception": false,
     "start_time": "2024-03-10T12:43:52.977229",
     "status": "completed"
    },
    "tags": []
   },
   "outputs": [],
   "source": [
    "X_train= X_padded_train\n",
    "Y_train = Y_padded_train\n",
    "X_test = X_padded_test\n",
    "Y_test = Y_padded_test\n",
    "X_val = X_padded_val\n",
    "Y_val = Y_padded_val\n",
    "weights = weights\n",
    "word_token = toke\n",
    "tag_token = toke2"
   ]
  },
  {
   "cell_type": "code",
   "execution_count": 18,
   "id": "f6c5cdbd",
   "metadata": {
    "execution": {
     "iopub.execute_input": "2024-03-10T12:43:53.069440Z",
     "iopub.status.busy": "2024-03-10T12:43:53.068956Z",
     "iopub.status.idle": "2024-03-10T12:43:53.074589Z",
     "shell.execute_reply": "2024-03-10T12:43:53.073218Z"
    },
    "papermill": {
     "duration": 0.035746,
     "end_time": "2024-03-10T12:43:53.076912",
     "exception": false,
     "start_time": "2024-03-10T12:43:53.041166",
     "status": "completed"
    },
    "tags": []
   },
   "outputs": [],
   "source": [
    "Y_shape= Y_padded_train.shape[2]"
   ]
  },
  {
   "cell_type": "markdown",
   "id": "e73126ff",
   "metadata": {
    "papermill": {
     "duration": 0.025745,
     "end_time": "2024-03-10T12:43:53.129212",
     "exception": false,
     "start_time": "2024-03-10T12:43:53.103467",
     "status": "completed"
    },
    "tags": []
   },
   "source": [
    "# Models"
   ]
  },
  {
   "cell_type": "markdown",
   "id": "4755a255",
   "metadata": {
    "papermill": {
     "duration": 0.026303,
     "end_time": "2024-03-10T12:43:53.182537",
     "exception": false,
     "start_time": "2024-03-10T12:43:53.156234",
     "status": "completed"
    },
    "tags": []
   },
   "source": [
    "## RNN"
   ]
  },
  {
   "cell_type": "code",
   "execution_count": 19,
   "id": "e16d6ddb",
   "metadata": {
    "execution": {
     "iopub.execute_input": "2024-03-10T12:43:53.238333Z",
     "iopub.status.busy": "2024-03-10T12:43:53.237835Z",
     "iopub.status.idle": "2024-03-10T12:43:53.243301Z",
     "shell.execute_reply": "2024-03-10T12:43:53.241956Z"
    },
    "papermill": {
     "duration": 0.036242,
     "end_time": "2024-03-10T12:43:53.245748",
     "exception": false,
     "start_time": "2024-03-10T12:43:53.209506",
     "status": "completed"
    },
    "tags": []
   },
   "outputs": [],
   "source": [
    "model_name=\"RNN\""
   ]
  },
  {
   "cell_type": "markdown",
   "id": "3c83d79c",
   "metadata": {
    "papermill": {
     "duration": 0.026443,
     "end_time": "2024-03-10T12:43:53.297881",
     "exception": false,
     "start_time": "2024-03-10T12:43:53.271438",
     "status": "completed"
    },
    "tags": []
   },
   "source": [
    "### Training"
   ]
  },
  {
   "cell_type": "code",
   "execution_count": 20,
   "id": "50a513c7",
   "metadata": {
    "execution": {
     "iopub.execute_input": "2024-03-10T12:43:53.352555Z",
     "iopub.status.busy": "2024-03-10T12:43:53.352073Z",
     "iopub.status.idle": "2024-03-10T12:43:53.625958Z",
     "shell.execute_reply": "2024-03-10T12:43:53.624559Z"
    },
    "papermill": {
     "duration": 0.304754,
     "end_time": "2024-03-10T12:43:53.629001",
     "exception": false,
     "start_time": "2024-03-10T12:43:53.324247",
     "status": "completed"
    },
    "tags": []
   },
   "outputs": [],
   "source": [
    "rnn_model = Sequential()\n",
    "rnn_model.add(Embedding(input_dim = vocab_size,output_dim = 300,input_length  = max_len,weights = [weights],trainable = False))\n",
    "rnn_model.add(SimpleRNN(32, return_sequences=True))\n",
    "rnn_model.add(TimeDistributed(Dense(Y_shape, activation='softmax')))"
   ]
  },
  {
   "cell_type": "markdown",
   "id": "09b220e6",
   "metadata": {
    "papermill": {
     "duration": 0.026553,
     "end_time": "2024-03-10T12:43:53.681994",
     "exception": false,
     "start_time": "2024-03-10T12:43:53.655441",
     "status": "completed"
    },
    "tags": []
   },
   "source": [
    "Compiling the rnn Word2Vec Model"
   ]
  },
  {
   "cell_type": "code",
   "execution_count": 21,
   "id": "2f94c58b",
   "metadata": {
    "execution": {
     "iopub.execute_input": "2024-03-10T12:43:53.740463Z",
     "iopub.status.busy": "2024-03-10T12:43:53.738836Z",
     "iopub.status.idle": "2024-03-10T12:43:53.784772Z",
     "shell.execute_reply": "2024-03-10T12:43:53.783259Z"
    },
    "papermill": {
     "duration": 0.078383,
     "end_time": "2024-03-10T12:43:53.788092",
     "exception": false,
     "start_time": "2024-03-10T12:43:53.709709",
     "status": "completed"
    },
    "tags": []
   },
   "outputs": [],
   "source": [
    "rnn_model.compile(loss='categorical_crossentropy',optimizer='adam',metrics=['acc',Precision(),Recall()])"
   ]
  },
  {
   "cell_type": "code",
   "execution_count": 22,
   "id": "1079c767",
   "metadata": {
    "execution": {
     "iopub.execute_input": "2024-03-10T12:43:53.842421Z",
     "iopub.status.busy": "2024-03-10T12:43:53.841867Z",
     "iopub.status.idle": "2024-03-10T12:43:53.848875Z",
     "shell.execute_reply": "2024-03-10T12:43:53.847492Z"
    },
    "papermill": {
     "duration": 0.037626,
     "end_time": "2024-03-10T12:43:53.851555",
     "exception": false,
     "start_time": "2024-03-10T12:43:53.813929",
     "status": "completed"
    },
    "tags": []
   },
   "outputs": [],
   "source": [
    "rnn_f1_callback = F1ScoreCallback(val_data=(X_val, Y_val),data=(X_train, Y_train))\n"
   ]
  },
  {
   "cell_type": "code",
   "execution_count": 23,
   "id": "5c9c50ca",
   "metadata": {
    "execution": {
     "iopub.execute_input": "2024-03-10T12:43:53.907194Z",
     "iopub.status.busy": "2024-03-10T12:43:53.905726Z",
     "iopub.status.idle": "2024-03-10T12:43:53.932694Z",
     "shell.execute_reply": "2024-03-10T12:43:53.931649Z"
    },
    "papermill": {
     "duration": 0.058201,
     "end_time": "2024-03-10T12:43:53.936066",
     "exception": false,
     "start_time": "2024-03-10T12:43:53.877865",
     "status": "completed"
    },
    "tags": []
   },
   "outputs": [
    {
     "name": "stdout",
     "output_type": "stream",
     "text": [
      "Model: \"sequential\"\n",
      "_________________________________________________________________\n",
      " Layer (type)                Output Shape              Param #   \n",
      "=================================================================\n",
      " embedding (Embedding)       (None, 78, 300)           721800    \n",
      "                                                                 \n",
      " simple_rnn (SimpleRNN)      (None, 78, 32)            10656     \n",
      "                                                                 \n",
      " time_distributed (TimeDist  (None, 78, 4)             132       \n",
      " ributed)                                                        \n",
      "                                                                 \n",
      "=================================================================\n",
      "Total params: 732588 (2.79 MB)\n",
      "Trainable params: 10788 (42.14 KB)\n",
      "Non-trainable params: 721800 (2.75 MB)\n",
      "_________________________________________________________________\n"
     ]
    }
   ],
   "source": [
    "rnn_model.summary()"
   ]
  },
  {
   "cell_type": "markdown",
   "id": "fa3594da",
   "metadata": {
    "papermill": {
     "duration": 0.02798,
     "end_time": "2024-03-10T12:43:53.991397",
     "exception": false,
     "start_time": "2024-03-10T12:43:53.963417",
     "status": "completed"
    },
    "tags": []
   },
   "source": [
    "Fitting the rnn model"
   ]
  },
  {
   "cell_type": "code",
   "execution_count": 24,
   "id": "021a5955",
   "metadata": {
    "execution": {
     "iopub.execute_input": "2024-03-10T12:43:54.050586Z",
     "iopub.status.busy": "2024-03-10T12:43:54.050054Z",
     "iopub.status.idle": "2024-03-10T12:45:03.835124Z",
     "shell.execute_reply": "2024-03-10T12:45:03.833890Z"
    },
    "papermill": {
     "duration": 69.817581,
     "end_time": "2024-03-10T12:45:03.837732",
     "exception": false,
     "start_time": "2024-03-10T12:43:54.020151",
     "status": "completed"
    },
    "tags": []
   },
   "outputs": [
    {
     "name": "stdout",
     "output_type": "stream",
     "text": [
      "Epoch 1/20\n",
      "7/7 [==============================] - 0s 11ms/step\n",
      "29/29 [==============================] - 0s 9ms/step\n",
      "Val F1 Score: 0.47987988899683365 - Train F1 Score: 0.4806587165475246\n",
      "8/8 [==============================] - 6s 589ms/step - loss: 1.2355 - acc: 0.3796 - precision: 0.9035 - recall: 0.0620 - val_loss: 0.9875 - val_acc: 0.9646 - val_precision: 0.9346 - val_recall: 0.1389\n",
      "Epoch 2/20\n",
      "7/7 [==============================] - 0s 9ms/step\n",
      "29/29 [==============================] - 0s 10ms/step\n",
      "Val F1 Score: 0.4441603338253258 - Train F1 Score: 0.4533471324462683\n",
      "8/8 [==============================] - 4s 553ms/step - loss: 0.8248 - acc: 0.9548 - precision: 0.9689 - recall: 0.4393 - val_loss: 0.6110 - val_acc: 0.9168 - val_precision: 0.9523 - val_recall: 0.7435\n",
      "Epoch 3/20\n",
      "7/7 [==============================] - 0s 10ms/step\n",
      "29/29 [==============================] - 0s 9ms/step\n",
      "Val F1 Score: 0.4477557521885265 - Train F1 Score: 0.4588797468217694\n",
      "8/8 [==============================] - 3s 466ms/step - loss: 0.5236 - acc: 0.9200 - precision: 0.9487 - recall: 0.7834 - val_loss: 0.4147 - val_acc: 0.9213 - val_precision: 0.9341 - val_recall: 0.8264\n",
      "Epoch 4/20\n",
      "7/7 [==============================] - 0s 10ms/step\n",
      "29/29 [==============================] - 0s 10ms/step\n",
      "Val F1 Score: 0.47273339801677067 - Train F1 Score: 0.47290945764805514\n",
      "8/8 [==============================] - 3s 472ms/step - loss: 0.3420 - acc: 0.9471 - precision: 0.9525 - recall: 0.8737 - val_loss: 0.2716 - val_acc: 0.9545 - val_precision: 0.9558 - val_recall: 0.9001\n",
      "Epoch 5/20\n",
      "7/7 [==============================] - 0s 9ms/step\n",
      "29/29 [==============================] - 0s 9ms/step\n",
      "Val F1 Score: 0.4771801980724946 - Train F1 Score: 0.4770849562631827\n",
      "8/8 [==============================] - 3s 462ms/step - loss: 0.2503 - acc: 0.9556 - precision: 0.9565 - recall: 0.9021 - val_loss: 0.2256 - val_acc: 0.9563 - val_precision: 0.9579 - val_recall: 0.9038\n",
      "Epoch 6/20\n",
      "7/7 [==============================] - 0s 9ms/step\n",
      "29/29 [==============================] - 0s 9ms/step\n",
      "Val F1 Score: 0.4769062687709606 - Train F1 Score: 0.4802946185507466\n",
      "8/8 [==============================] - 3s 468ms/step - loss: 0.2152 - acc: 0.9570 - precision: 0.9582 - recall: 0.9112 - val_loss: 0.1985 - val_acc: 0.9583 - val_precision: 0.9595 - val_recall: 0.9188\n",
      "Epoch 7/20\n",
      "7/7 [==============================] - 0s 9ms/step\n",
      "29/29 [==============================] - 0s 10ms/step\n",
      "Val F1 Score: 0.4851563933986573 - Train F1 Score: 0.48928535176469545\n",
      "8/8 [==============================] - 3s 466ms/step - loss: 0.1925 - acc: 0.9590 - precision: 0.9599 - recall: 0.9192 - val_loss: 0.1804 - val_acc: 0.9610 - val_precision: 0.9621 - val_recall: 0.9210\n",
      "Epoch 8/20\n",
      "7/7 [==============================] - 0s 9ms/step\n",
      "29/29 [==============================] - 0s 9ms/step\n",
      "Val F1 Score: 0.5026476615109629 - Train F1 Score: 0.5100026412008802\n",
      "8/8 [==============================] - 3s 461ms/step - loss: 0.1767 - acc: 0.9614 - precision: 0.9621 - recall: 0.9216 - val_loss: 0.1668 - val_acc: 0.9625 - val_precision: 0.9649 - val_recall: 0.9232\n",
      "Epoch 9/20\n",
      "7/7 [==============================] - 0s 10ms/step\n",
      "29/29 [==============================] - 0s 9ms/step\n",
      "Val F1 Score: 0.5276305427649832 - Train F1 Score: 0.5231748574637256\n",
      "8/8 [==============================] - 3s 469ms/step - loss: 0.1645 - acc: 0.9639 - precision: 0.9647 - recall: 0.9234 - val_loss: 0.1561 - val_acc: 0.9653 - val_precision: 0.9668 - val_recall: 0.9386\n",
      "Epoch 10/20\n",
      "7/7 [==============================] - 0s 10ms/step\n",
      "29/29 [==============================] - 0s 9ms/step\n",
      "Val F1 Score: 0.5321414025451772 - Train F1 Score: 0.5306401964842367\n",
      "8/8 [==============================] - 3s 478ms/step - loss: 0.1547 - acc: 0.9645 - precision: 0.9661 - recall: 0.9375 - val_loss: 0.1472 - val_acc: 0.9658 - val_precision: 0.9671 - val_recall: 0.9390\n",
      "Epoch 11/20\n",
      "7/7 [==============================] - 0s 10ms/step\n",
      "29/29 [==============================] - 0s 9ms/step\n",
      "Val F1 Score: 0.5468670334435954 - Train F1 Score: 0.5387759059269788\n",
      "8/8 [==============================] - 3s 482ms/step - loss: 0.1463 - acc: 0.9651 - precision: 0.9662 - recall: 0.9379 - val_loss: 0.1395 - val_acc: 0.9666 - val_precision: 0.9698 - val_recall: 0.9393\n",
      "Epoch 12/20\n",
      "7/7 [==============================] - 0s 10ms/step\n",
      "29/29 [==============================] - 0s 10ms/step\n",
      "Val F1 Score: 0.5543667299054026 - Train F1 Score: 0.5448769822265203\n",
      "8/8 [==============================] - 3s 465ms/step - loss: 0.1390 - acc: 0.9664 - precision: 0.9687 - recall: 0.9384 - val_loss: 0.1327 - val_acc: 0.9694 - val_precision: 0.9701 - val_recall: 0.9424\n",
      "Epoch 13/20\n",
      "7/7 [==============================] - 0s 9ms/step\n",
      "29/29 [==============================] - 0s 9ms/step\n",
      "Val F1 Score: 0.5597250183871643 - Train F1 Score: 0.5520963916027269\n",
      "8/8 [==============================] - 3s 472ms/step - loss: 0.1325 - acc: 0.9680 - precision: 0.9695 - recall: 0.9407 - val_loss: 0.1266 - val_acc: 0.9698 - val_precision: 0.9707 - val_recall: 0.9432\n",
      "Epoch 14/20\n",
      "7/7 [==============================] - 0s 9ms/step\n",
      "29/29 [==============================] - 0s 9ms/step\n",
      "Val F1 Score: 0.5685895492714634 - Train F1 Score: 0.561084975849334\n",
      "8/8 [==============================] - 3s 462ms/step - loss: 0.1268 - acc: 0.9683 - precision: 0.9702 - recall: 0.9409 - val_loss: 0.1212 - val_acc: 0.9706 - val_precision: 0.9713 - val_recall: 0.9437\n",
      "Epoch 15/20\n",
      "7/7 [==============================] - 0s 10ms/step\n",
      "29/29 [==============================] - 0s 9ms/step\n",
      "Val F1 Score: 0.5741089166874724 - Train F1 Score: 0.5657388980788334\n",
      "8/8 [==============================] - 3s 471ms/step - loss: 0.1216 - acc: 0.9694 - precision: 0.9710 - recall: 0.9417 - val_loss: 0.1164 - val_acc: 0.9712 - val_precision: 0.9717 - val_recall: 0.9442\n",
      "Epoch 16/20\n",
      "7/7 [==============================] - 0s 10ms/step\n",
      "29/29 [==============================] - 0s 9ms/step\n",
      "Val F1 Score: 0.576982519918565 - Train F1 Score: 0.5748036978637575\n",
      "8/8 [==============================] - 3s 463ms/step - loss: 0.1169 - acc: 0.9697 - precision: 0.9716 - recall: 0.9423 - val_loss: 0.1119 - val_acc: 0.9713 - val_precision: 0.9759 - val_recall: 0.9446\n",
      "Epoch 17/20\n",
      "7/7 [==============================] - 0s 9ms/step\n",
      "29/29 [==============================] - 0s 9ms/step\n",
      "Val F1 Score: 0.5832443584443209 - Train F1 Score: 0.5859336983549175\n",
      "8/8 [==============================] - 3s 463ms/step - loss: 0.1126 - acc: 0.9711 - precision: 0.9754 - recall: 0.9424 - val_loss: 0.1079 - val_acc: 0.9751 - val_precision: 0.9769 - val_recall: 0.9483\n",
      "Epoch 18/20\n",
      "7/7 [==============================] - 0s 9ms/step\n",
      "29/29 [==============================] - 0s 9ms/step\n",
      "Val F1 Score: 0.5860715446775318 - Train F1 Score: 0.5861532445629826\n",
      "8/8 [==============================] - 3s 466ms/step - loss: 0.1087 - acc: 0.9735 - precision: 0.9762 - recall: 0.9457 - val_loss: 0.1042 - val_acc: 0.9754 - val_precision: 0.9768 - val_recall: 0.9487\n",
      "Epoch 19/20\n",
      "7/7 [==============================] - 0s 9ms/step\n",
      "29/29 [==============================] - 0s 9ms/step\n",
      "Val F1 Score: 0.597621565436703 - Train F1 Score: 0.594944004255165\n",
      "8/8 [==============================] - 3s 458ms/step - loss: 0.1051 - acc: 0.9736 - precision: 0.9768 - recall: 0.9571 - val_loss: 0.1009 - val_acc: 0.9761 - val_precision: 0.9776 - val_recall: 0.9617\n",
      "Epoch 20/20\n",
      "7/7 [==============================] - 0s 9ms/step\n",
      "29/29 [==============================] - 0s 10ms/step\n",
      "Val F1 Score: 0.6030769698339237 - Train F1 Score: 0.605979355405893\n",
      "8/8 [==============================] - 3s 466ms/step - loss: 0.1018 - acc: 0.9744 - precision: 0.9774 - recall: 0.9593 - val_loss: 0.0977 - val_acc: 0.9765 - val_precision: 0.9785 - val_recall: 0.9624\n"
     ]
    }
   ],
   "source": [
    "rnn_training = rnn_model.fit(X_train, Y_train, batch_size=128, epochs=20, validation_data=(X_val, Y_val), callbacks=[rnn_f1_callback])"
   ]
  },
  {
   "cell_type": "markdown",
   "id": "a917faed",
   "metadata": {
    "papermill": {
     "duration": 0.054999,
     "end_time": "2024-03-10T12:45:03.948852",
     "exception": false,
     "start_time": "2024-03-10T12:45:03.893853",
     "status": "completed"
    },
    "tags": []
   },
   "source": [
    "Plotting the graph"
   ]
  },
  {
   "cell_type": "code",
   "execution_count": 25,
   "id": "b9858318",
   "metadata": {
    "execution": {
     "iopub.execute_input": "2024-03-10T12:45:04.062492Z",
     "iopub.status.busy": "2024-03-10T12:45:04.061522Z",
     "iopub.status.idle": "2024-03-10T12:45:04.800842Z",
     "shell.execute_reply": "2024-03-10T12:45:04.799451Z"
    },
    "papermill": {
     "duration": 0.799968,
     "end_time": "2024-03-10T12:45:04.803956",
     "exception": false,
     "start_time": "2024-03-10T12:45:04.003988",
     "status": "completed"
    },
    "tags": []
   },
   "outputs": [
    {
     "data": {
      "image/png": "[encoded data removed]",
      "text/plain": [
       "<Figure size 1600x500 with 2 Axes>"
      ]
     },
     "metadata": {},
     "output_type": "display_data"
    }
   ],
   "source": [
    "draw_loss_graph(rnn_training,model_name, rnn_f1_callback.train_f1_scores, rnn_f1_callback.val_f1_scores)\n",
    "save_model(rnn_model,model_name,Embedding_name,Dataset)"
   ]
  },
  {
   "cell_type": "markdown",
   "id": "284c19c4",
   "metadata": {
    "papermill": {
     "duration": 0.057485,
     "end_time": "2024-03-10T12:45:04.919512",
     "exception": false,
     "start_time": "2024-03-10T12:45:04.862027",
     "status": "completed"
    },
    "tags": []
   },
   "source": [
    "### Testing"
   ]
  },
  {
   "cell_type": "code",
   "execution_count": 26,
   "id": "c64aeaf4",
   "metadata": {
    "execution": {
     "iopub.execute_input": "2024-03-10T12:45:05.037885Z",
     "iopub.status.busy": "2024-03-10T12:45:05.037126Z",
     "iopub.status.idle": "2024-03-10T12:45:05.289655Z",
     "shell.execute_reply": "2024-03-10T12:45:05.288197Z"
    },
    "papermill": {
     "duration": 0.315463,
     "end_time": "2024-03-10T12:45:05.293195",
     "exception": false,
     "start_time": "2024-03-10T12:45:04.977732",
     "status": "completed"
    },
    "tags": []
   },
   "outputs": [],
   "source": [
    "loaded_model = load_model(model_name,Embedding_name,Dataset)"
   ]
  },
  {
   "cell_type": "markdown",
   "id": "152136ff",
   "metadata": {
    "papermill": {
     "duration": 0.057847,
     "end_time": "2024-03-10T12:45:05.410095",
     "exception": false,
     "start_time": "2024-03-10T12:45:05.352248",
     "status": "completed"
    },
    "tags": []
   },
   "source": [
    "Testing accuracy"
   ]
  },
  {
   "cell_type": "code",
   "execution_count": 27,
   "id": "0cb406ec",
   "metadata": {
    "execution": {
     "iopub.execute_input": "2024-03-10T12:45:05.526051Z",
     "iopub.status.busy": "2024-03-10T12:45:05.525586Z",
     "iopub.status.idle": "2024-03-10T12:45:06.278742Z",
     "shell.execute_reply": "2024-03-10T12:45:06.277237Z"
    },
    "papermill": {
     "duration": 0.81434,
     "end_time": "2024-03-10T12:45:06.281420",
     "exception": false,
     "start_time": "2024-03-10T12:45:05.467080",
     "status": "completed"
    },
    "tags": []
   },
   "outputs": [
    {
     "name": "stdout",
     "output_type": "stream",
     "text": [
      "11/11 [==============================] - 1s 10ms/step - loss: 0.1067 - acc: 0.9739 - precision: 0.9761 - recall: 0.9599\n",
      "0.9739290475845337\n"
     ]
    }
   ],
   "source": [
    "accuracy = loaded_model.evaluate(X_test, Y_test, verbose = 1)\n",
    "print(accuracy[1])"
   ]
  },
  {
   "cell_type": "markdown",
   "id": "6e99e6bb",
   "metadata": {
    "papermill": {
     "duration": 0.059555,
     "end_time": "2024-03-10T12:45:06.401798",
     "exception": false,
     "start_time": "2024-03-10T12:45:06.342243",
     "status": "completed"
    },
    "tags": []
   },
   "source": [
    "Testing F1 Score"
   ]
  },
  {
   "cell_type": "code",
   "execution_count": 28,
   "id": "5aa631b8",
   "metadata": {
    "execution": {
     "iopub.execute_input": "2024-03-10T12:45:06.518928Z",
     "iopub.status.busy": "2024-03-10T12:45:06.518345Z",
     "iopub.status.idle": "2024-03-10T12:45:07.598946Z",
     "shell.execute_reply": "2024-03-10T12:45:07.597658Z"
    },
    "papermill": {
     "duration": 1.142346,
     "end_time": "2024-03-10T12:45:07.601380",
     "exception": false,
     "start_time": "2024-03-10T12:45:06.459034",
     "status": "completed"
    },
    "tags": []
   },
   "outputs": [
    {
     "name": "stdout",
     "output_type": "stream",
     "text": [
      "11/11 [==============================] - 0s 10ms/step\n",
      "Test F1 Score: 0.5973753442301863\n"
     ]
    }
   ],
   "source": [
    "Y_pred = loaded_model.predict(X_test)\n",
    "real = get_real(Y_test)\n",
    "pred = get_pred(Y_pred)\n",
    "\n",
    "true_labels_flat = [label for sublist in real for label in sublist]\n",
    "predicted_labels_flat = [label for sublist in pred for label in sublist]\n",
    "\n",
    "# Compute F1 score\n",
    "f1 = f1_score(true_labels_flat, predicted_labels_flat, average='macro')\n",
    "\n",
    "print(\"Test F1 Score:\", f1)"
   ]
  },
  {
   "cell_type": "markdown",
   "id": "dfec3096",
   "metadata": {
    "papermill": {
     "duration": 0.056743,
     "end_time": "2024-03-10T12:45:07.714850",
     "exception": false,
     "start_time": "2024-03-10T12:45:07.658107",
     "status": "completed"
    },
    "tags": []
   },
   "source": [
    "## GRU"
   ]
  },
  {
   "cell_type": "code",
   "execution_count": 29,
   "id": "6a104546",
   "metadata": {
    "execution": {
     "iopub.execute_input": "2024-03-10T12:45:07.833553Z",
     "iopub.status.busy": "2024-03-10T12:45:07.832604Z",
     "iopub.status.idle": "2024-03-10T12:45:07.837534Z",
     "shell.execute_reply": "2024-03-10T12:45:07.836712Z"
    },
    "papermill": {
     "duration": 0.066351,
     "end_time": "2024-03-10T12:45:07.839930",
     "exception": false,
     "start_time": "2024-03-10T12:45:07.773579",
     "status": "completed"
    },
    "tags": []
   },
   "outputs": [],
   "source": [
    "model_name=\"GRU\""
   ]
  },
  {
   "cell_type": "markdown",
   "id": "d4f443e3",
   "metadata": {
    "papermill": {
     "duration": 0.056445,
     "end_time": "2024-03-10T12:45:07.953306",
     "exception": false,
     "start_time": "2024-03-10T12:45:07.896861",
     "status": "completed"
    },
    "tags": []
   },
   "source": [
    "### Training"
   ]
  },
  {
   "cell_type": "code",
   "execution_count": 30,
   "id": "c12f36da",
   "metadata": {
    "execution": {
     "iopub.execute_input": "2024-03-10T12:45:08.069620Z",
     "iopub.status.busy": "2024-03-10T12:45:08.069137Z",
     "iopub.status.idle": "2024-03-10T12:45:08.409553Z",
     "shell.execute_reply": "2024-03-10T12:45:08.408244Z"
    },
    "papermill": {
     "duration": 0.402839,
     "end_time": "2024-03-10T12:45:08.412821",
     "exception": false,
     "start_time": "2024-03-10T12:45:08.009982",
     "status": "completed"
    },
    "tags": []
   },
   "outputs": [],
   "source": [
    "gru_model = Sequential()\n",
    "gru_model.add(Embedding(input_dim = vocab_size,output_dim = 300,input_length  = max_len,weights = [weights],trainable = False))\n",
    "gru_model.add(GRU(64, return_sequences=True))\n",
    "gru_model.add(TimeDistributed(Dense(Y_train.shape[2], activation='softmax')))"
   ]
  },
  {
   "cell_type": "markdown",
   "id": "5df4905b",
   "metadata": {
    "papermill": {
     "duration": 0.0583,
     "end_time": "2024-03-10T12:45:08.529998",
     "exception": false,
     "start_time": "2024-03-10T12:45:08.471698",
     "status": "completed"
    },
    "tags": []
   },
   "source": [
    "compiling "
   ]
  },
  {
   "cell_type": "code",
   "execution_count": 31,
   "id": "ddcf6146",
   "metadata": {
    "execution": {
     "iopub.execute_input": "2024-03-10T12:45:08.650050Z",
     "iopub.status.busy": "2024-03-10T12:45:08.649233Z",
     "iopub.status.idle": "2024-03-10T12:45:08.671630Z",
     "shell.execute_reply": "2024-03-10T12:45:08.670629Z"
    },
    "papermill": {
     "duration": 0.085613,
     "end_time": "2024-03-10T12:45:08.674523",
     "exception": false,
     "start_time": "2024-03-10T12:45:08.588910",
     "status": "completed"
    },
    "tags": []
   },
   "outputs": [],
   "source": [
    "gru_model.compile(loss='categorical_crossentropy',optimizer='adam',metrics=['acc',Precision(),Recall()])"
   ]
  },
  {
   "cell_type": "code",
   "execution_count": 32,
   "id": "04be5ae6",
   "metadata": {
    "execution": {
     "iopub.execute_input": "2024-03-10T12:45:08.796000Z",
     "iopub.status.busy": "2024-03-10T12:45:08.795527Z",
     "iopub.status.idle": "2024-03-10T12:45:08.801157Z",
     "shell.execute_reply": "2024-03-10T12:45:08.800163Z"
    },
    "papermill": {
     "duration": 0.070013,
     "end_time": "2024-03-10T12:45:08.803460",
     "exception": false,
     "start_time": "2024-03-10T12:45:08.733447",
     "status": "completed"
    },
    "tags": []
   },
   "outputs": [],
   "source": [
    "gru_f1_callback = F1ScoreCallback(val_data=(X_val, Y_val),data=(X_train, Y_train))"
   ]
  },
  {
   "cell_type": "code",
   "execution_count": 33,
   "id": "31dbd50a",
   "metadata": {
    "execution": {
     "iopub.execute_input": "2024-03-10T12:45:08.923825Z",
     "iopub.status.busy": "2024-03-10T12:45:08.922877Z",
     "iopub.status.idle": "2024-03-10T12:45:08.947287Z",
     "shell.execute_reply": "2024-03-10T12:45:08.945956Z"
    },
    "papermill": {
     "duration": 0.087783,
     "end_time": "2024-03-10T12:45:08.949857",
     "exception": false,
     "start_time": "2024-03-10T12:45:08.862074",
     "status": "completed"
    },
    "tags": []
   },
   "outputs": [
    {
     "name": "stdout",
     "output_type": "stream",
     "text": [
      "Model: \"sequential_1\"\n",
      "_________________________________________________________________\n",
      " Layer (type)                Output Shape              Param #   \n",
      "=================================================================\n",
      " embedding_1 (Embedding)     (None, 78, 300)           721800    \n",
      "                                                                 \n",
      " gru (GRU)                   (None, 78, 64)            70272     \n",
      "                                                                 \n",
      " time_distributed_1 (TimeDi  (None, 78, 4)             260       \n",
      " stributed)                                                      \n",
      "                                                                 \n",
      "=================================================================\n",
      "Total params: 792332 (3.02 MB)\n",
      "Trainable params: 70532 (275.52 KB)\n",
      "Non-trainable params: 721800 (2.75 MB)\n",
      "_________________________________________________________________\n"
     ]
    }
   ],
   "source": [
    "gru_model.summary()"
   ]
  },
  {
   "cell_type": "markdown",
   "id": "b52c94af",
   "metadata": {
    "papermill": {
     "duration": 0.058592,
     "end_time": "2024-03-10T12:45:09.066969",
     "exception": false,
     "start_time": "2024-03-10T12:45:09.008377",
     "status": "completed"
    },
    "tags": []
   },
   "source": [
    "Fitting GRU"
   ]
  },
  {
   "cell_type": "code",
   "execution_count": 34,
   "id": "dabd5137",
   "metadata": {
    "execution": {
     "iopub.execute_input": "2024-03-10T12:45:09.187266Z",
     "iopub.status.busy": "2024-03-10T12:45:09.186786Z",
     "iopub.status.idle": "2024-03-10T12:46:39.847595Z",
     "shell.execute_reply": "2024-03-10T12:46:39.846632Z"
    },
    "papermill": {
     "duration": 90.825946,
     "end_time": "2024-03-10T12:46:39.951883",
     "exception": false,
     "start_time": "2024-03-10T12:45:09.125937",
     "status": "completed"
    },
    "tags": []
   },
   "outputs": [
    {
     "name": "stdout",
     "output_type": "stream",
     "text": [
      "Epoch 1/20\n",
      "7/7 [==============================] - 1s 20ms/step\n",
      "29/29 [==============================] - 1s 20ms/step\n",
      "Val F1 Score: 0.48642725753795735 - Train F1 Score: 0.4861842252202925\n",
      "8/8 [==============================] - 8s 743ms/step - loss: 1.2995 - acc: 0.9333 - precision_1: 0.9331 - recall_1: 0.0041 - val_loss: 1.1624 - val_acc: 0.9748 - val_precision_1: 0.9383 - val_recall_1: 0.1237\n",
      "Epoch 2/20\n",
      "7/7 [==============================] - 0s 20ms/step\n",
      "29/29 [==============================] - 1s 20ms/step\n",
      "Val F1 Score: 0.48638767409099737 - Train F1 Score: 0.48576680210283196\n",
      "8/8 [==============================] - 4s 608ms/step - loss: 1.0811 - acc: 0.9735 - precision_1: 0.9041 - recall_1: 0.1893 - val_loss: 0.9637 - val_acc: 0.9748 - val_precision_1: 0.8995 - val_recall_1: 0.2081\n",
      "Epoch 3/20\n",
      "7/7 [==============================] - 0s 20ms/step\n",
      "29/29 [==============================] - 1s 19ms/step\n",
      "Val F1 Score: 0.4862332441912132 - Train F1 Score: 0.48552422284407193\n",
      "8/8 [==============================] - 4s 582ms/step - loss: 0.8812 - acc: 0.9735 - precision_1: 0.8930 - recall_1: 0.2105 - val_loss: 0.7068 - val_acc: 0.9745 - val_precision_1: 0.8975 - val_recall_1: 0.2098\n",
      "Epoch 4/20\n",
      "7/7 [==============================] - 0s 24ms/step\n",
      "29/29 [==============================] - 1s 20ms/step\n",
      "Val F1 Score: 0.46159237184243956 - Train F1 Score: 0.463069940048505\n",
      "8/8 [==============================] - 4s 615ms/step - loss: 0.5313 - acc: 0.9688 - precision_1: 0.9619 - recall_1: 0.6998 - val_loss: 0.2716 - val_acc: 0.9398 - val_precision_1: 0.9393 - val_recall_1: 0.9002\n",
      "Epoch 5/20\n",
      "7/7 [==============================] - 0s 21ms/step\n",
      "29/29 [==============================] - 1s 19ms/step\n",
      "Val F1 Score: 0.47735300220161886 - Train F1 Score: 0.4756545627152463\n",
      "8/8 [==============================] - 5s 628ms/step - loss: 0.2732 - acc: 0.9364 - precision_1: 0.9355 - recall_1: 0.9047 - val_loss: 0.1910 - val_acc: 0.9591 - val_precision_1: 0.9604 - val_recall_1: 0.9327\n",
      "Epoch 6/20\n",
      "7/7 [==============================] - 0s 19ms/step\n",
      "29/29 [==============================] - 1s 20ms/step\n",
      "Val F1 Score: 0.5072653650851515 - Train F1 Score: 0.5012217766707985\n",
      "8/8 [==============================] - 4s 600ms/step - loss: 0.1874 - acc: 0.9638 - precision_1: 0.9655 - recall_1: 0.9371 - val_loss: 0.1691 - val_acc: 0.9690 - val_precision_1: 0.9705 - val_recall_1: 0.9414\n",
      "Epoch 7/20\n",
      "7/7 [==============================] - 0s 20ms/step\n",
      "29/29 [==============================] - 1s 19ms/step\n",
      "Val F1 Score: 0.5224378391785196 - Train F1 Score: 0.5254857359287516\n",
      "8/8 [==============================] - 4s 618ms/step - loss: 0.1574 - acc: 0.9676 - precision_1: 0.9701 - recall_1: 0.9397 - val_loss: 0.1386 - val_acc: 0.9681 - val_precision_1: 0.9706 - val_recall_1: 0.9398\n",
      "Epoch 8/20\n",
      "7/7 [==============================] - 0s 19ms/step\n",
      "29/29 [==============================] - 1s 19ms/step\n",
      "Val F1 Score: 0.5300002365949423 - Train F1 Score: 0.5314849023799625\n",
      "8/8 [==============================] - 4s 591ms/step - loss: 0.1361 - acc: 0.9671 - precision_1: 0.9694 - recall_1: 0.9498 - val_loss: 0.1262 - val_acc: 0.9683 - val_precision_1: 0.9709 - val_recall_1: 0.9537\n",
      "Epoch 9/20\n",
      "7/7 [==============================] - 0s 20ms/step\n",
      "29/29 [==============================] - 1s 19ms/step\n",
      "Val F1 Score: 0.5395616195804803 - Train F1 Score: 0.5363717424780983\n",
      "8/8 [==============================] - 4s 587ms/step - loss: 0.1244 - acc: 0.9679 - precision_1: 0.9699 - recall_1: 0.9530 - val_loss: 0.1148 - val_acc: 0.9703 - val_precision_1: 0.9717 - val_recall_1: 0.9557\n",
      "Epoch 10/20\n",
      "7/7 [==============================] - 0s 20ms/step\n",
      "29/29 [==============================] - 1s 20ms/step\n",
      "Val F1 Score: 0.5485090587420026 - Train F1 Score: 0.5449062199040324\n",
      "8/8 [==============================] - 4s 602ms/step - loss: 0.1153 - acc: 0.9701 - precision_1: 0.9726 - recall_1: 0.9557 - val_loss: 0.1075 - val_acc: 0.9747 - val_precision_1: 0.9767 - val_recall_1: 0.9600\n",
      "Epoch 11/20\n",
      "7/7 [==============================] - 0s 18ms/step\n",
      "29/29 [==============================] - 1s 19ms/step\n",
      "Val F1 Score: 0.5600091881380791 - Train F1 Score: 0.55559950116047\n",
      "8/8 [==============================] - 4s 608ms/step - loss: 0.1087 - acc: 0.9733 - precision_1: 0.9760 - recall_1: 0.9586 - val_loss: 0.1018 - val_acc: 0.9751 - val_precision_1: 0.9782 - val_recall_1: 0.9601\n",
      "Epoch 12/20\n",
      "7/7 [==============================] - 0s 20ms/step\n",
      "29/29 [==============================] - 1s 20ms/step\n",
      "Val F1 Score: 0.5632778508906464 - Train F1 Score: 0.558564368503551\n",
      "8/8 [==============================] - 4s 593ms/step - loss: 0.1031 - acc: 0.9737 - precision_1: 0.9775 - recall_1: 0.9584 - val_loss: 0.0969 - val_acc: 0.9755 - val_precision_1: 0.9795 - val_recall_1: 0.9603\n",
      "Epoch 13/20\n",
      "7/7 [==============================] - 0s 20ms/step\n",
      "29/29 [==============================] - 1s 22ms/step\n",
      "Val F1 Score: 0.572889655871847 - Train F1 Score: 0.5676863337001009\n",
      "8/8 [==============================] - 5s 631ms/step - loss: 0.0984 - acc: 0.9741 - precision_1: 0.9785 - recall_1: 0.9585 - val_loss: 0.0927 - val_acc: 0.9763 - val_precision_1: 0.9801 - val_recall_1: 0.9607\n",
      "Epoch 14/20\n",
      "7/7 [==============================] - 0s 19ms/step\n",
      "29/29 [==============================] - 1s 19ms/step\n",
      "Val F1 Score: 0.5842584435229359 - Train F1 Score: 0.5814803715045019\n",
      "8/8 [==============================] - 4s 584ms/step - loss: 0.0944 - acc: 0.9746 - precision_1: 0.9794 - recall_1: 0.9587 - val_loss: 0.0892 - val_acc: 0.9774 - val_precision_1: 0.9813 - val_recall_1: 0.9611\n",
      "Epoch 15/20\n",
      "7/7 [==============================] - 0s 20ms/step\n",
      "29/29 [==============================] - 1s 20ms/step\n",
      "Val F1 Score: 0.5893684069190399 - Train F1 Score: 0.5875201654397358\n",
      "8/8 [==============================] - 4s 606ms/step - loss: 0.0910 - acc: 0.9756 - precision_1: 0.9802 - recall_1: 0.9596 - val_loss: 0.0861 - val_acc: 0.9778 - val_precision_1: 0.9818 - val_recall_1: 0.9618\n",
      "Epoch 16/20\n",
      "7/7 [==============================] - 0s 18ms/step\n",
      "29/29 [==============================] - 1s 19ms/step\n",
      "Val F1 Score: 0.6015116823482677 - Train F1 Score: 0.6024261144714861\n",
      "8/8 [==============================] - 4s 593ms/step - loss: 0.0879 - acc: 0.9763 - precision_1: 0.9808 - recall_1: 0.9600 - val_loss: 0.0833 - val_acc: 0.9783 - val_precision_1: 0.9822 - val_recall_1: 0.9621\n",
      "Epoch 17/20\n",
      "7/7 [==============================] - 0s 20ms/step\n",
      "29/29 [==============================] - 1s 19ms/step\n",
      "Val F1 Score: 0.6266345566488782 - Train F1 Score: 0.6292665543259467\n",
      "8/8 [==============================] - 4s 595ms/step - loss: 0.0851 - acc: 0.9769 - precision_1: 0.9818 - recall_1: 0.9601 - val_loss: 0.0808 - val_acc: 0.9789 - val_precision_1: 0.9830 - val_recall_1: 0.9629\n",
      "Epoch 18/20\n",
      "7/7 [==============================] - 0s 19ms/step\n",
      "29/29 [==============================] - 1s 20ms/step\n",
      "Val F1 Score: 0.6315135747429018 - Train F1 Score: 0.6378599256354759\n",
      "8/8 [==============================] - 4s 594ms/step - loss: 0.0826 - acc: 0.9776 - precision_1: 0.9825 - recall_1: 0.9606 - val_loss: 0.0786 - val_acc: 0.9795 - val_precision_1: 0.9830 - val_recall_1: 0.9634\n",
      "Epoch 19/20\n",
      "7/7 [==============================] - 0s 20ms/step\n",
      "29/29 [==============================] - 1s 20ms/step\n",
      "Val F1 Score: 0.6393322731693151 - Train F1 Score: 0.6461274128037887\n",
      "8/8 [==============================] - 4s 614ms/step - loss: 0.0803 - acc: 0.9780 - precision_1: 0.9827 - recall_1: 0.9612 - val_loss: 0.0765 - val_acc: 0.9797 - val_precision_1: 0.9833 - val_recall_1: 0.9639\n",
      "Epoch 20/20\n",
      "7/7 [==============================] - 0s 24ms/step\n",
      "29/29 [==============================] - 1s 25ms/step\n",
      "Val F1 Score: 0.6541355824330202 - Train F1 Score: 0.660433906772668\n",
      "8/8 [==============================] - 5s 646ms/step - loss: 0.0781 - acc: 0.9783 - precision_1: 0.9830 - recall_1: 0.9615 - val_loss: 0.0745 - val_acc: 0.9800 - val_precision_1: 0.9838 - val_recall_1: 0.9643\n"
     ]
    }
   ],
   "source": [
    "gru_training = gru_model.fit(X_train, Y_train, batch_size=128, epochs=20, validation_data=(X_val, Y_val), callbacks=[gru_f1_callback])"
   ]
  },
  {
   "cell_type": "markdown",
   "id": "0f3632a6",
   "metadata": {
    "papermill": {
     "duration": 0.105072,
     "end_time": "2024-03-10T12:46:40.160198",
     "exception": false,
     "start_time": "2024-03-10T12:46:40.055126",
     "status": "completed"
    },
    "tags": []
   },
   "source": [
    "Plotting Graph"
   ]
  },
  {
   "cell_type": "code",
   "execution_count": 35,
   "id": "53c5cd8f",
   "metadata": {
    "execution": {
     "iopub.execute_input": "2024-03-10T12:46:40.372646Z",
     "iopub.status.busy": "2024-03-10T12:46:40.372211Z",
     "iopub.status.idle": "2024-03-10T12:46:41.046330Z",
     "shell.execute_reply": "2024-03-10T12:46:41.045143Z"
    },
    "papermill": {
     "duration": 0.783307,
     "end_time": "2024-03-10T12:46:41.049307",
     "exception": false,
     "start_time": "2024-03-10T12:46:40.266000",
     "status": "completed"
    },
    "tags": []
   },
   "outputs": [
    {
     "data": {
      "image/png": "[encoded data removed]",
      "text/plain": [
       "<Figure size 1600x500 with 2 Axes>"
      ]
     },
     "metadata": {},
     "output_type": "display_data"
    }
   ],
   "source": [
    "draw_loss_graph(gru_training,model_name, gru_f1_callback.train_f1_scores, gru_f1_callback.val_f1_scores)\n",
    "save_model(gru_model,model_name,Embedding_name,Dataset)"
   ]
  },
  {
   "cell_type": "markdown",
   "id": "e0651a9c",
   "metadata": {
    "papermill": {
     "duration": 0.10661,
     "end_time": "2024-03-10T12:46:41.261125",
     "exception": false,
     "start_time": "2024-03-10T12:46:41.154515",
     "status": "completed"
    },
    "tags": []
   },
   "source": [
    "### Testing"
   ]
  },
  {
   "cell_type": "code",
   "execution_count": 36,
   "id": "ed428f99",
   "metadata": {
    "execution": {
     "iopub.execute_input": "2024-03-10T12:46:41.472534Z",
     "iopub.status.busy": "2024-03-10T12:46:41.471137Z",
     "iopub.status.idle": "2024-03-10T12:46:41.932765Z",
     "shell.execute_reply": "2024-03-10T12:46:41.931391Z"
    },
    "papermill": {
     "duration": 0.570076,
     "end_time": "2024-03-10T12:46:41.935704",
     "exception": false,
     "start_time": "2024-03-10T12:46:41.365628",
     "status": "completed"
    },
    "tags": []
   },
   "outputs": [],
   "source": [
    "loaded_model = load_model(model_name,Embedding_name,Dataset)"
   ]
  },
  {
   "cell_type": "markdown",
   "id": "790c60bc",
   "metadata": {
    "papermill": {
     "duration": 0.104909,
     "end_time": "2024-03-10T12:46:42.146279",
     "exception": false,
     "start_time": "2024-03-10T12:46:42.041370",
     "status": "completed"
    },
    "tags": []
   },
   "source": [
    "Testing Accuracy"
   ]
  },
  {
   "cell_type": "code",
   "execution_count": 37,
   "id": "eaa47a81",
   "metadata": {
    "execution": {
     "iopub.execute_input": "2024-03-10T12:46:42.363553Z",
     "iopub.status.busy": "2024-03-10T12:46:42.362695Z",
     "iopub.status.idle": "2024-03-10T12:46:43.683251Z",
     "shell.execute_reply": "2024-03-10T12:46:43.681785Z"
    },
    "papermill": {
     "duration": 1.431817,
     "end_time": "2024-03-10T12:46:43.686044",
     "exception": false,
     "start_time": "2024-03-10T12:46:42.254227",
     "status": "completed"
    },
    "tags": []
   },
   "outputs": [
    {
     "name": "stdout",
     "output_type": "stream",
     "text": [
      "11/11 [==============================] - 1s 20ms/step - loss: 0.0855 - acc: 0.9773 - precision_1: 0.9814 - recall_1: 0.9611\n",
      "0.9772905111312866\n"
     ]
    }
   ],
   "source": [
    "accuracy = loaded_model.evaluate(X_test, Y_test, verbose = 1)\n",
    "print(accuracy[1])"
   ]
  },
  {
   "cell_type": "markdown",
   "id": "d7ee7042",
   "metadata": {
    "papermill": {
     "duration": 0.108172,
     "end_time": "2024-03-10T12:46:43.902237",
     "exception": false,
     "start_time": "2024-03-10T12:46:43.794065",
     "status": "completed"
    },
    "tags": []
   },
   "source": [
    "Testing F1 Score"
   ]
  },
  {
   "cell_type": "code",
   "execution_count": 38,
   "id": "29eaf553",
   "metadata": {
    "execution": {
     "iopub.execute_input": "2024-03-10T12:46:44.122423Z",
     "iopub.status.busy": "2024-03-10T12:46:44.121361Z",
     "iopub.status.idle": "2024-03-10T12:46:45.564959Z",
     "shell.execute_reply": "2024-03-10T12:46:45.563774Z"
    },
    "papermill": {
     "duration": 1.557256,
     "end_time": "2024-03-10T12:46:45.567309",
     "exception": false,
     "start_time": "2024-03-10T12:46:44.010053",
     "status": "completed"
    },
    "tags": []
   },
   "outputs": [
    {
     "name": "stdout",
     "output_type": "stream",
     "text": [
      "11/11 [==============================] - 1s 20ms/step\n",
      "Test F1 Score: 0.6425072847996843\n"
     ]
    }
   ],
   "source": [
    "Y_pred = loaded_model.predict(X_test)\n",
    "real = get_real(Y_test)\n",
    "pred = get_pred(Y_pred)\n",
    "\n",
    "true_labels_flat = [label for sublist in real for label in sublist]\n",
    "predicted_labels_flat = [label for sublist in pred for label in sublist]\n",
    "\n",
    "# Compute F1 score\n",
    "f1 = f1_score(true_labels_flat, predicted_labels_flat, average='macro')\n",
    "\n",
    "print(\"Test F1 Score:\", f1)"
   ]
  },
  {
   "cell_type": "markdown",
   "id": "0f81caf4",
   "metadata": {
    "papermill": {
     "duration": 0.112986,
     "end_time": "2024-03-10T12:46:45.789044",
     "exception": false,
     "start_time": "2024-03-10T12:46:45.676058",
     "status": "completed"
    },
    "tags": []
   },
   "source": [
    "## LSTM"
   ]
  },
  {
   "cell_type": "code",
   "execution_count": 39,
   "id": "0fdaf697",
   "metadata": {
    "execution": {
     "iopub.execute_input": "2024-03-10T12:46:46.010073Z",
     "iopub.status.busy": "2024-03-10T12:46:46.008624Z",
     "iopub.status.idle": "2024-03-10T12:46:46.013811Z",
     "shell.execute_reply": "2024-03-10T12:46:46.012933Z"
    },
    "papermill": {
     "duration": 0.117613,
     "end_time": "2024-03-10T12:46:46.016216",
     "exception": false,
     "start_time": "2024-03-10T12:46:45.898603",
     "status": "completed"
    },
    "tags": []
   },
   "outputs": [],
   "source": [
    "model_name=\"LSTM\""
   ]
  },
  {
   "cell_type": "markdown",
   "id": "758e1104",
   "metadata": {
    "papermill": {
     "duration": 0.111745,
     "end_time": "2024-03-10T12:46:46.238247",
     "exception": false,
     "start_time": "2024-03-10T12:46:46.126502",
     "status": "completed"
    },
    "tags": []
   },
   "source": [
    "### Training"
   ]
  },
  {
   "cell_type": "code",
   "execution_count": 40,
   "id": "79d31f9c",
   "metadata": {
    "execution": {
     "iopub.execute_input": "2024-03-10T12:46:46.461931Z",
     "iopub.status.busy": "2024-03-10T12:46:46.461463Z",
     "iopub.status.idle": "2024-03-10T12:46:46.870268Z",
     "shell.execute_reply": "2024-03-10T12:46:46.869132Z"
    },
    "papermill": {
     "duration": 0.52494,
     "end_time": "2024-03-10T12:46:46.873599",
     "exception": false,
     "start_time": "2024-03-10T12:46:46.348659",
     "status": "completed"
    },
    "tags": []
   },
   "outputs": [],
   "source": [
    "lstm_model = Sequential()\n",
    "lstm_model.add(Embedding(input_dim = vocab_size,output_dim = 300,input_length  = max_len,weights = [weights],trainable = False))\n",
    "lstm_model.add(LSTM(128, return_sequences=True))\n",
    "lstm_model.add(TimeDistributed(Dense(Y_train.shape[2], activation='softmax')))# Lstm"
   ]
  },
  {
   "cell_type": "markdown",
   "id": "00e226ef",
   "metadata": {
    "papermill": {
     "duration": 0.110865,
     "end_time": "2024-03-10T12:46:47.094814",
     "exception": false,
     "start_time": "2024-03-10T12:46:46.983949",
     "status": "completed"
    },
    "tags": []
   },
   "source": [
    "Compiling LSTM"
   ]
  },
  {
   "cell_type": "code",
   "execution_count": 41,
   "id": "da027b3f",
   "metadata": {
    "execution": {
     "iopub.execute_input": "2024-03-10T12:46:47.323078Z",
     "iopub.status.busy": "2024-03-10T12:46:47.322543Z",
     "iopub.status.idle": "2024-03-10T12:46:47.345035Z",
     "shell.execute_reply": "2024-03-10T12:46:47.343701Z"
    },
    "papermill": {
     "duration": 0.139765,
     "end_time": "2024-03-10T12:46:47.347896",
     "exception": false,
     "start_time": "2024-03-10T12:46:47.208131",
     "status": "completed"
    },
    "tags": []
   },
   "outputs": [],
   "source": [
    "lstm_model.compile(loss='categorical_crossentropy',optimizer='adam',metrics=['acc',Precision(),Recall()])"
   ]
  },
  {
   "cell_type": "code",
   "execution_count": 42,
   "id": "49b3b5fc",
   "metadata": {
    "execution": {
     "iopub.execute_input": "2024-03-10T12:46:47.566037Z",
     "iopub.status.busy": "2024-03-10T12:46:47.565520Z",
     "iopub.status.idle": "2024-03-10T12:46:47.570889Z",
     "shell.execute_reply": "2024-03-10T12:46:47.569889Z"
    },
    "papermill": {
     "duration": 0.117999,
     "end_time": "2024-03-10T12:46:47.573031",
     "exception": false,
     "start_time": "2024-03-10T12:46:47.455032",
     "status": "completed"
    },
    "tags": []
   },
   "outputs": [],
   "source": [
    "LSTM_f1_callback=F1ScoreCallback(val_data=(X_val, Y_val),data=(X_train, Y_train))"
   ]
  },
  {
   "cell_type": "code",
   "execution_count": 43,
   "id": "9cf4d689",
   "metadata": {
    "execution": {
     "iopub.execute_input": "2024-03-10T12:46:47.794572Z",
     "iopub.status.busy": "2024-03-10T12:46:47.793753Z",
     "iopub.status.idle": "2024-03-10T12:46:47.822472Z",
     "shell.execute_reply": "2024-03-10T12:46:47.820846Z"
    },
    "papermill": {
     "duration": 0.146294,
     "end_time": "2024-03-10T12:46:47.826093",
     "exception": false,
     "start_time": "2024-03-10T12:46:47.679799",
     "status": "completed"
    },
    "tags": []
   },
   "outputs": [
    {
     "name": "stdout",
     "output_type": "stream",
     "text": [
      "Model: \"sequential_2\"\n",
      "_________________________________________________________________\n",
      " Layer (type)                Output Shape              Param #   \n",
      "=================================================================\n",
      " embedding_2 (Embedding)     (None, 78, 300)           721800    \n",
      "                                                                 \n",
      " lstm (LSTM)                 (None, 78, 128)           219648    \n",
      "                                                                 \n",
      " time_distributed_2 (TimeDi  (None, 78, 4)             516       \n",
      " stributed)                                                      \n",
      "                                                                 \n",
      "=================================================================\n",
      "Total params: 941964 (3.59 MB)\n",
      "Trainable params: 220164 (860.02 KB)\n",
      "Non-trainable params: 721800 (2.75 MB)\n",
      "_________________________________________________________________\n"
     ]
    }
   ],
   "source": [
    "lstm_model.summary()"
   ]
  },
  {
   "cell_type": "markdown",
   "id": "b123ac09",
   "metadata": {
    "papermill": {
     "duration": 0.109416,
     "end_time": "2024-03-10T12:46:48.045822",
     "exception": false,
     "start_time": "2024-03-10T12:46:47.936406",
     "status": "completed"
    },
    "tags": []
   },
   "source": [
    "Fitting LSTM"
   ]
  },
  {
   "cell_type": "code",
   "execution_count": 44,
   "id": "e051e521",
   "metadata": {
    "execution": {
     "iopub.execute_input": "2024-03-10T12:46:48.270958Z",
     "iopub.status.busy": "2024-03-10T12:46:48.270475Z",
     "iopub.status.idle": "2024-03-10T12:49:15.610836Z",
     "shell.execute_reply": "2024-03-10T12:49:15.608811Z"
    },
    "papermill": {
     "duration": 147.458464,
     "end_time": "2024-03-10T12:49:15.614137",
     "exception": false,
     "start_time": "2024-03-10T12:46:48.155673",
     "status": "completed"
    },
    "tags": []
   },
   "outputs": [
    {
     "name": "stdout",
     "output_type": "stream",
     "text": [
      "Epoch 1/20\n",
      "7/7 [==============================] - 2s 52ms/step\n",
      "29/29 [==============================] - 1s 50ms/step\n",
      "Val F1 Score: 0.4862788390879173 - Train F1 Score: 0.48569760043567256\n",
      "8/8 [==============================] - 11s 1s/step - loss: 1.2595 - acc: 0.9476 - precision_2: 0.9114 - recall_2: 0.0651 - val_loss: 1.0715 - val_acc: 0.9746 - val_precision_2: 0.9087 - val_recall_2: 0.1889\n",
      "Epoch 2/20\n",
      "7/7 [==============================] - 0s 49ms/step\n",
      "29/29 [==============================] - 1s 50ms/step\n",
      "Val F1 Score: 0.4131667931813629 - Train F1 Score: 0.41704588500347173\n",
      "8/8 [==============================] - 8s 1s/step - loss: 0.8912 - acc: 0.9497 - precision_2: 0.8890 - recall_2: 0.3264 - val_loss: 0.6035 - val_acc: 0.8845 - val_precision_2: 0.8618 - val_recall_2: 0.7047\n",
      "Epoch 3/20\n",
      "7/7 [==============================] - 0s 56ms/step\n",
      "29/29 [==============================] - 2s 52ms/step\n",
      "Val F1 Score: 0.46660179724065975 - Train F1 Score: 0.4669821076307787\n",
      "8/8 [==============================] - 7s 933ms/step - loss: 0.4849 - acc: 0.9371 - precision_2: 0.9275 - recall_2: 0.7845 - val_loss: 0.3571 - val_acc: 0.9464 - val_precision_2: 0.9417 - val_recall_2: 0.8433\n",
      "Epoch 4/20\n",
      "7/7 [==============================] - 0s 52ms/step\n",
      "29/29 [==============================] - 2s 52ms/step\n",
      "Val F1 Score: 0.4730949884677488 - Train F1 Score: 0.4726485863818922\n",
      "8/8 [==============================] - 7s 1s/step - loss: 0.3258 - acc: 0.9418 - precision_2: 0.9372 - recall_2: 0.8551 - val_loss: 0.2687 - val_acc: 0.9552 - val_precision_2: 0.9531 - val_recall_2: 0.8906\n",
      "Epoch 5/20\n",
      "7/7 [==============================] - 0s 49ms/step\n",
      "29/29 [==============================] - 1s 50ms/step\n",
      "Val F1 Score: 0.47397863834797926 - Train F1 Score: 0.47384670768120873\n",
      "8/8 [==============================] - 6s 893ms/step - loss: 0.2511 - acc: 0.9588 - precision_2: 0.9573 - recall_2: 0.8960 - val_loss: 0.2204 - val_acc: 0.9566 - val_precision_2: 0.9552 - val_recall_2: 0.9049\n",
      "Epoch 6/20\n",
      "7/7 [==============================] - 0s 51ms/step\n",
      "29/29 [==============================] - 1s 49ms/step\n",
      "Val F1 Score: 0.4766329129880327 - Train F1 Score: 0.4761074091476967\n",
      "8/8 [==============================] - 6s 871ms/step - loss: 0.2079 - acc: 0.9596 - precision_2: 0.9587 - recall_2: 0.9074 - val_loss: 0.1865 - val_acc: 0.9607 - val_precision_2: 0.9602 - val_recall_2: 0.9088\n",
      "Epoch 7/20\n",
      "7/7 [==============================] - 0s 51ms/step\n",
      "29/29 [==============================] - 2s 52ms/step\n",
      "Val F1 Score: 0.47670084050991957 - Train F1 Score: 0.4765740210792804\n",
      "8/8 [==============================] - 7s 928ms/step - loss: 0.1824 - acc: 0.9628 - precision_2: 0.9623 - recall_2: 0.9203 - val_loss: 0.1688 - val_acc: 0.9611 - val_precision_2: 0.9613 - val_recall_2: 0.9226\n",
      "Epoch 8/20\n",
      "7/7 [==============================] - 0s 50ms/step\n",
      "29/29 [==============================] - 1s 50ms/step\n",
      "Val F1 Score: 0.4812615825609661 - Train F1 Score: 0.48057050627310033\n",
      "8/8 [==============================] - 7s 1s/step - loss: 0.1711 - acc: 0.9626 - precision_2: 0.9621 - recall_2: 0.9238 - val_loss: 0.1593 - val_acc: 0.9676 - val_precision_2: 0.9676 - val_recall_2: 0.9289\n",
      "Epoch 9/20\n",
      "7/7 [==============================] - 0s 51ms/step\n",
      "29/29 [==============================] - 2s 52ms/step\n",
      "Val F1 Score: 0.4815145503464321 - Train F1 Score: 0.48110590692909083\n",
      "8/8 [==============================] - 8s 1s/step - loss: 0.1588 - acc: 0.9642 - precision_2: 0.9643 - recall_2: 0.9252 - val_loss: 0.1490 - val_acc: 0.9679 - val_precision_2: 0.9683 - val_recall_2: 0.9292\n",
      "Epoch 10/20\n",
      "7/7 [==============================] - 0s 51ms/step\n",
      "29/29 [==============================] - 2s 52ms/step\n",
      "Val F1 Score: 0.4862390869153932 - Train F1 Score: 0.4855048419349108\n",
      "8/8 [==============================] - 8s 1s/step - loss: 0.1487 - acc: 0.9671 - precision_2: 0.9672 - recall_2: 0.9283 - val_loss: 0.1403 - val_acc: 0.9675 - val_precision_2: 0.9685 - val_recall_2: 0.9283\n",
      "Epoch 11/20\n",
      "7/7 [==============================] - 0s 51ms/step\n",
      "29/29 [==============================] - 2s 51ms/step\n",
      "Val F1 Score: 0.5251270836723947 - Train F1 Score: 0.5272932607401861\n",
      "8/8 [==============================] - 8s 1s/step - loss: 0.1385 - acc: 0.9690 - precision_2: 0.9701 - recall_2: 0.9294 - val_loss: 0.1299 - val_acc: 0.9703 - val_precision_2: 0.9724 - val_recall_2: 0.9419\n",
      "Epoch 12/20\n",
      "7/7 [==============================] - 0s 50ms/step\n",
      "29/29 [==============================] - 2s 52ms/step\n",
      "Val F1 Score: 0.5414909449966918 - Train F1 Score: 0.538766098559888\n",
      "8/8 [==============================] - 8s 1s/step - loss: 0.1302 - acc: 0.9717 - precision_2: 0.9734 - recall_2: 0.9439 - val_loss: 0.1231 - val_acc: 0.9729 - val_precision_2: 0.9744 - val_recall_2: 0.9458\n",
      "Epoch 13/20\n",
      "7/7 [==============================] - 0s 50ms/step\n",
      "29/29 [==============================] - 2s 53ms/step\n",
      "Val F1 Score: 0.5515050427812339 - Train F1 Score: 0.5437652790471965\n",
      "8/8 [==============================] - 7s 1s/step - loss: 0.1240 - acc: 0.9721 - precision_2: 0.9741 - recall_2: 0.9448 - val_loss: 0.1175 - val_acc: 0.9745 - val_precision_2: 0.9758 - val_recall_2: 0.9473\n",
      "Epoch 14/20\n",
      "7/7 [==============================] - 0s 51ms/step\n",
      "29/29 [==============================] - 2s 51ms/step\n",
      "Val F1 Score: 0.560670002484592 - Train F1 Score: 0.5543816986659086\n",
      "8/8 [==============================] - 8s 1s/step - loss: 0.1190 - acc: 0.9725 - precision_2: 0.9750 - recall_2: 0.9450 - val_loss: 0.1136 - val_acc: 0.9759 - val_precision_2: 0.9773 - val_recall_2: 0.9483\n",
      "Epoch 15/20\n",
      "7/7 [==============================] - 0s 51ms/step\n",
      "29/29 [==============================] - 2s 52ms/step\n",
      "Val F1 Score: 0.5568502307173835 - Train F1 Score: 0.5579078300510733\n",
      "8/8 [==============================] - 8s 1s/step - loss: 0.1143 - acc: 0.9733 - precision_2: 0.9761 - recall_2: 0.9455 - val_loss: 0.1094 - val_acc: 0.9738 - val_precision_2: 0.9759 - val_recall_2: 0.9464\n",
      "Epoch 16/20\n",
      "7/7 [==============================] - 0s 57ms/step\n",
      "29/29 [==============================] - 1s 50ms/step\n",
      "Val F1 Score: 0.5664295343251471 - Train F1 Score: 0.5753654059020493\n",
      "8/8 [==============================] - 7s 937ms/step - loss: 0.1099 - acc: 0.9738 - precision_2: 0.9767 - recall_2: 0.9456 - val_loss: 0.1041 - val_acc: 0.9759 - val_precision_2: 0.9787 - val_recall_2: 0.9481\n",
      "Epoch 17/20\n",
      "7/7 [==============================] - 0s 48ms/step\n",
      "29/29 [==============================] - 1s 50ms/step\n",
      "Val F1 Score: 0.5751230658035869 - Train F1 Score: 0.5878923288945956\n",
      "8/8 [==============================] - 6s 879ms/step - loss: 0.1056 - acc: 0.9747 - precision_2: 0.9785 - recall_2: 0.9460 - val_loss: 0.1002 - val_acc: 0.9763 - val_precision_2: 0.9793 - val_recall_2: 0.9481\n",
      "Epoch 18/20\n",
      "7/7 [==============================] - 0s 53ms/step\n",
      "29/29 [==============================] - 1s 49ms/step\n",
      "Val F1 Score: 0.5773906079967626 - Train F1 Score: 0.5868677492105221\n",
      "8/8 [==============================] - 7s 916ms/step - loss: 0.1018 - acc: 0.9753 - precision_2: 0.9790 - recall_2: 0.9467 - val_loss: 0.0981 - val_acc: 0.9759 - val_precision_2: 0.9784 - val_recall_2: 0.9482\n",
      "Epoch 19/20\n",
      "7/7 [==============================] - 0s 50ms/step\n",
      "29/29 [==============================] - 1s 50ms/step\n",
      "Val F1 Score: 0.5982738413425841 - Train F1 Score: 0.6119409495257899\n",
      "8/8 [==============================] - 6s 884ms/step - loss: 0.0988 - acc: 0.9757 - precision_2: 0.9795 - recall_2: 0.9473 - val_loss: 0.0938 - val_acc: 0.9776 - val_precision_2: 0.9811 - val_recall_2: 0.9494\n",
      "Epoch 20/20\n",
      "7/7 [==============================] - 0s 52ms/step\n",
      "29/29 [==============================] - 1s 50ms/step\n",
      "Val F1 Score: 0.6029870044458304 - Train F1 Score: 0.623308164302001\n",
      "8/8 [==============================] - 8s 1s/step - loss: 0.0952 - acc: 0.9768 - precision_2: 0.9815 - recall_2: 0.9479 - val_loss: 0.0907 - val_acc: 0.9783 - val_precision_2: 0.9821 - val_recall_2: 0.9508\n"
     ]
    }
   ],
   "source": [
    "lstm_training = lstm_model.fit(X_train, Y_train, batch_size=128, epochs=20, validation_data=(X_val, Y_val), callbacks=[LSTM_f1_callback])"
   ]
  },
  {
   "cell_type": "markdown",
   "id": "edb85166",
   "metadata": {
    "papermill": {
     "duration": 0.191832,
     "end_time": "2024-03-10T12:49:16.005042",
     "exception": false,
     "start_time": "2024-03-10T12:49:15.813210",
     "status": "completed"
    },
    "tags": []
   },
   "source": [
    "Plotting Graph"
   ]
  },
  {
   "cell_type": "code",
   "execution_count": 45,
   "id": "d57fc4b3",
   "metadata": {
    "execution": {
     "iopub.execute_input": "2024-03-10T12:49:16.496990Z",
     "iopub.status.busy": "2024-03-10T12:49:16.495597Z",
     "iopub.status.idle": "2024-03-10T12:49:17.737923Z",
     "shell.execute_reply": "2024-03-10T12:49:17.736463Z"
    },
    "papermill": {
     "duration": 1.439103,
     "end_time": "2024-03-10T12:49:17.741220",
     "exception": false,
     "start_time": "2024-03-10T12:49:16.302117",
     "status": "completed"
    },
    "tags": []
   },
   "outputs": [
    {
     "data": {
      "image/png": "[encoded data removed]",
      "text/plain": [
       "<Figure size 1600x500 with 2 Axes>"
      ]
     },
     "metadata": {},
     "output_type": "display_data"
    }
   ],
   "source": [
    "draw_loss_graph(lstm_training, \"LSTM Model\", LSTM_f1_callback.train_f1_scores, LSTM_f1_callback.val_f1_scores)\n",
    "save_model(lstm_model, model_name, Embedding_name, Dataset)\n",
    "loaded_model = load_model(model_name,Embedding_name,Dataset)"
   ]
  },
  {
   "cell_type": "markdown",
   "id": "0c8ccf69",
   "metadata": {
    "papermill": {
     "duration": 0.189321,
     "end_time": "2024-03-10T12:49:18.122489",
     "exception": false,
     "start_time": "2024-03-10T12:49:17.933168",
     "status": "completed"
    },
    "tags": []
   },
   "source": [
    "### Testing"
   ]
  },
  {
   "cell_type": "code",
   "execution_count": 46,
   "id": "dbb8aa79",
   "metadata": {
    "execution": {
     "iopub.execute_input": "2024-03-10T12:49:18.506250Z",
     "iopub.status.busy": "2024-03-10T12:49:18.505834Z",
     "iopub.status.idle": "2024-03-10T12:49:18.978971Z",
     "shell.execute_reply": "2024-03-10T12:49:18.977711Z"
    },
    "papermill": {
     "duration": 0.669581,
     "end_time": "2024-03-10T12:49:18.981936",
     "exception": false,
     "start_time": "2024-03-10T12:49:18.312355",
     "status": "completed"
    },
    "tags": []
   },
   "outputs": [],
   "source": [
    "loaded_model = load_model(model_name,Embedding_name,Dataset)"
   ]
  },
  {
   "cell_type": "markdown",
   "id": "1fff9067",
   "metadata": {
    "papermill": {
     "duration": 0.192046,
     "end_time": "2024-03-10T12:49:19.364089",
     "exception": false,
     "start_time": "2024-03-10T12:49:19.172043",
     "status": "completed"
    },
    "tags": []
   },
   "source": [
    "Testing accuracy"
   ]
  },
  {
   "cell_type": "code",
   "execution_count": 47,
   "id": "b7e8521e",
   "metadata": {
    "execution": {
     "iopub.execute_input": "2024-03-10T12:49:19.744272Z",
     "iopub.status.busy": "2024-03-10T12:49:19.743833Z",
     "iopub.status.idle": "2024-03-10T12:49:21.426517Z",
     "shell.execute_reply": "2024-03-10T12:49:21.424785Z"
    },
    "papermill": {
     "duration": 1.876146,
     "end_time": "2024-03-10T12:49:21.429080",
     "exception": false,
     "start_time": "2024-03-10T12:49:19.552934",
     "status": "completed"
    },
    "tags": []
   },
   "outputs": [
    {
     "name": "stdout",
     "output_type": "stream",
     "text": [
      "11/11 [==============================] - 2s 48ms/step - loss: 0.0987 - acc: 0.9770 - precision_2: 0.9802 - recall_2: 0.9486\n",
      "0.9770168662071228\n"
     ]
    }
   ],
   "source": [
    "accuracy = loaded_model.evaluate(X_test, Y_test, verbose = 1)\n",
    "print(accuracy[1])"
   ]
  },
  {
   "cell_type": "markdown",
   "id": "48302bda",
   "metadata": {
    "papermill": {
     "duration": 0.195863,
     "end_time": "2024-03-10T12:49:21.818192",
     "exception": false,
     "start_time": "2024-03-10T12:49:21.622329",
     "status": "completed"
    },
    "tags": []
   },
   "source": [
    "Testing F1 Score"
   ]
  },
  {
   "cell_type": "code",
   "execution_count": 48,
   "id": "4cac7a3d",
   "metadata": {
    "execution": {
     "iopub.execute_input": "2024-03-10T12:49:22.207157Z",
     "iopub.status.busy": "2024-03-10T12:49:22.205897Z",
     "iopub.status.idle": "2024-03-10T12:49:23.980333Z",
     "shell.execute_reply": "2024-03-10T12:49:23.978505Z"
    },
    "papermill": {
     "duration": 1.970845,
     "end_time": "2024-03-10T12:49:23.983336",
     "exception": false,
     "start_time": "2024-03-10T12:49:22.012491",
     "status": "completed"
    },
    "tags": []
   },
   "outputs": [
    {
     "name": "stdout",
     "output_type": "stream",
     "text": [
      "11/11 [==============================] - 1s 46ms/step\n",
      "Test F1 Score: 0.623997652052316\n"
     ]
    }
   ],
   "source": [
    "Y_pred = loaded_model.predict(X_test)\n",
    "real = get_real(Y_test)\n",
    "pred = get_pred(Y_pred)\n",
    "\n",
    "true_labels_flat = [label for sublist in real for label in sublist]\n",
    "predicted_labels_flat = [label for sublist in pred for label in sublist]\n",
    "\n",
    "# Compute F1 score\n",
    "f1 = f1_score(true_labels_flat, predicted_labels_flat, average='macro')\n",
    "\n",
    "print(\"Test F1 Score:\", f1)"
   ]
  },
  {
   "cell_type": "markdown",
   "id": "2cdc2566",
   "metadata": {
    "papermill": {
     "duration": 0.194337,
     "end_time": "2024-03-10T12:49:24.371998",
     "exception": false,
     "start_time": "2024-03-10T12:49:24.177661",
     "status": "completed"
    },
    "tags": []
   },
   "source": [
    "# BiLSTM"
   ]
  },
  {
   "cell_type": "code",
   "execution_count": 49,
   "id": "2ab7cf2b",
   "metadata": {
    "execution": {
     "iopub.execute_input": "2024-03-10T12:49:24.757147Z",
     "iopub.status.busy": "2024-03-10T12:49:24.756626Z",
     "iopub.status.idle": "2024-03-10T12:49:24.763076Z",
     "shell.execute_reply": "2024-03-10T12:49:24.761262Z"
    },
    "papermill": {
     "duration": 0.202688,
     "end_time": "2024-03-10T12:49:24.765597",
     "exception": false,
     "start_time": "2024-03-10T12:49:24.562909",
     "status": "completed"
    },
    "tags": []
   },
   "outputs": [],
   "source": [
    "model_name=\"BiLSTM\""
   ]
  }
 ],
 "metadata": {
  "kaggle": {
   "accelerator": "none",
   "dataSources": [
    {
     "datasetId": 4563561,
     "sourceId": 7795189,
     "sourceType": "datasetVersion"
    }
   ],
   "dockerImageVersionId": 30664,
   "isGpuEnabled": false,
   "isInternetEnabled": true,
   "language": "python",
   "sourceType": "notebook"
  },
  "kernelspec": {
   "display_name": "Python 3",
   "language": "python",
   "name": "python3"
  },
  "language_info": {
   "codemirror_mode": {
    "name": "ipython",
    "version": 3
   },
   "file_extension": ".py",
   "mimetype": "text/x-python",
   "name": "python",
   "nbconvert_exporter": "python",
   "pygments_lexer": "ipython3",
   "version": "3.10.13"
  },
  "papermill": {
   "default_parameters": {},
   "duration": 509.771926,
   "end_time": "2024-03-10T12:49:28.337242",
   "environment_variables": {},
   "exception": null,
   "input_path": "__notebook__.ipynb",
   "output_path": "__notebook__.ipynb",
   "parameters": {},
   "start_time": "2024-03-10T12:40:58.565316",
   "version": "2.5.0"
  }
 },
 "nbformat": 4,
 "nbformat_minor": 5
}
