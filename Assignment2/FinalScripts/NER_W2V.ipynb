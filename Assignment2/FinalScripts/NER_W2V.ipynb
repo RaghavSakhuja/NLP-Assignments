{
 "cells": [
  {
   "cell_type": "code",
   "execution_count": 1,
   "id": "b26eeae2",
   "metadata": {
    "execution": {
     "iopub.execute_input": "2024-03-11T16:52:45.351646Z",
     "iopub.status.busy": "2024-03-11T16:52:45.351051Z",
     "iopub.status.idle": "2024-03-11T16:53:00.125522Z",
     "shell.execute_reply": "2024-03-11T16:53:00.123686Z"
    },
    "papermill": {
     "duration": 14.794246,
     "end_time": "2024-03-11T16:53:00.128317",
     "exception": false,
     "start_time": "2024-03-11T16:52:45.334071",
     "status": "completed"
    },
    "tags": []
   },
   "outputs": [
    {
     "name": "stdout",
     "output_type": "stream",
     "text": [
      "Collecting keras==2.15.0\r\n",
      "  Downloading keras-2.15.0-py3-none-any.whl.metadata (2.4 kB)\r\n",
      "Downloading keras-2.15.0-py3-none-any.whl (1.7 MB)\r\n",
      "\u001b[2K   \u001b[90m━━━━━━━━━━━━━━━━━━━━━━━━━━━━━━━━━━━━━━━━\u001b[0m \u001b[32m1.7/1.7 MB\u001b[0m \u001b[31m31.1 MB/s\u001b[0m eta \u001b[36m0:00:00\u001b[0m\r\n",
      "\u001b[?25hInstalling collected packages: keras\r\n",
      "  Attempting uninstall: keras\r\n",
      "    Found existing installation: keras 3.0.5\r\n",
      "    Uninstalling keras-3.0.5:\r\n",
      "      Successfully uninstalled keras-3.0.5\r\n",
      "\u001b[31mERROR: pip's dependency resolver does not currently take into account all the packages that are installed. This behaviour is the source of the following dependency conflicts.\r\n",
      "tensorflow-decision-forests 1.8.1 requires wurlitzer, which is not installed.\u001b[0m\u001b[31m\r\n",
      "\u001b[0mSuccessfully installed keras-2.15.0\r\n"
     ]
    }
   ],
   "source": [
    "!pip install keras==2.15.0"
   ]
  },
  {
   "cell_type": "markdown",
   "id": "cede9103",
   "metadata": {
    "papermill": {
     "duration": 0.016794,
     "end_time": "2024-03-11T16:53:00.160531",
     "exception": false,
     "start_time": "2024-03-11T16:53:00.143737",
     "status": "completed"
    },
    "tags": []
   },
   "source": [
    "# Run"
   ]
  },
  {
   "cell_type": "code",
   "execution_count": 2,
   "id": "d86649a1",
   "metadata": {
    "execution": {
     "iopub.execute_input": "2024-03-11T16:53:00.193647Z",
     "iopub.status.busy": "2024-03-11T16:53:00.193311Z",
     "iopub.status.idle": "2024-03-11T16:53:32.814363Z",
     "shell.execute_reply": "2024-03-11T16:53:32.812992Z"
    },
    "papermill": {
     "duration": 32.641102,
     "end_time": "2024-03-11T16:53:32.816893",
     "exception": false,
     "start_time": "2024-03-11T16:53:00.175791",
     "status": "completed"
    },
    "tags": []
   },
   "outputs": [
    {
     "name": "stderr",
     "output_type": "stream",
     "text": [
      "2024-03-11 16:53:02.451627: E external/local_xla/xla/stream_executor/cuda/cuda_dnn.cc:9261] Unable to register cuDNN factory: Attempting to register factory for plugin cuDNN when one has already been registered\n",
      "2024-03-11 16:53:02.451746: E external/local_xla/xla/stream_executor/cuda/cuda_fft.cc:607] Unable to register cuFFT factory: Attempting to register factory for plugin cuFFT when one has already been registered\n",
      "2024-03-11 16:53:02.610932: E external/local_xla/xla/stream_executor/cuda/cuda_blas.cc:1515] Unable to register cuBLAS factory: Attempting to register factory for plugin cuBLAS when one has already been registered\n"
     ]
    }
   ],
   "source": [
    "import pickle\n",
    "import numpy as np\n",
    "import tensorflow as tf\n",
    "import json\n",
    "import matplotlib.pyplot as plt\n",
    "\n",
    "import fasttext\n",
    "import fasttext.util\n",
    "from keras.models import Model\n",
    "from keras.layers import Dropout,Input\n",
    "# from tensorflow_addons.layers import CRF\n",
    "from keras.layers import Dense\n",
    "from keras.layers import Embedding\n",
    "from keras.models import Sequential\n",
    "from keras.callbacks import Callback\n",
    "from keras.preprocessing.text import *\n",
    "from keras.utils import to_categorical\n",
    "from gensim.models import KeyedVectors\n",
    "from keras.layers import GRU, SimpleRNN, LSTM, Bidirectional\n",
    "from keras.layers import TimeDistributed\n",
    "from keras.metrics import F1Score, Precision, Recall\n",
    "from keras.preprocessing.sequence import pad_sequences\n",
    "from sklearn.metrics import f1_score\n",
    "# from tensorflow.keras.optimizers import AdamW\n",
    "# from tensorflow_addons.losses import SigmoidFocalCrossEntropy\n",
    "from sklearn.model_selection import GridSearchCV\n",
    "# from kerastuner.tuners import RandomSearch\n",
    "# from kerastuner.engine.hyperparameters import HyperParameters\n",
    "# from tensorflow.keras.optimizers import AdamW, Adam, RMSprop, SGD"
   ]
  },
  {
   "cell_type": "code",
   "execution_count": 3,
   "id": "4155ad9f",
   "metadata": {
    "execution": {
     "iopub.execute_input": "2024-03-11T16:53:32.852132Z",
     "iopub.status.busy": "2024-03-11T16:53:32.851373Z",
     "iopub.status.idle": "2024-03-11T16:53:32.885654Z",
     "shell.execute_reply": "2024-03-11T16:53:32.883995Z"
    },
    "papermill": {
     "duration": 0.055878,
     "end_time": "2024-03-11T16:53:32.888490",
     "exception": false,
     "start_time": "2024-03-11T16:53:32.832612",
     "status": "completed"
    },
    "tags": []
   },
   "outputs": [
    {
     "name": "stdout",
     "output_type": "stream",
     "text": [
      "/kaggle/input/picklemodel/BiLSTM_fasttext_ATE.pkl\n",
      "/kaggle/input/picklemodel/BiLSTM_fasttext (1).pkl\n",
      "/kaggle/input/picklemodel/BiLSTM_word2vec.pkl\n",
      "/kaggle/input/picklemodel/RNN_glove.pkl\n",
      "/kaggle/input/nernlp3/BiLSTM_word2vec.pkl\n",
      "/kaggle/input/nernlp3/BiLSTM_fasttext.pkl\n",
      "/kaggle/input/nernlp3/Assignment2/WordEmbeddings/glove.840B.300d.pkl\n",
      "/kaggle/input/nernlp3/Assignment2/WordEmbeddings/Word2vec.bin\n",
      "/kaggle/input/nernlp3/Assignment2/WordEmbeddings/cc.en.300.bin\n",
      "/kaggle/input/nernlp3/Assignment2/Data/check.py\n",
      "/kaggle/input/nernlp3/Assignment2/Data/NER_TRAIN_JUDGEMENT.json\n",
      "/kaggle/input/nernlp3/Assignment2/Data/Laptop_Review_Val.json\n",
      "/kaggle/input/nernlp3/Assignment2/Data/bio.ipynb\n",
      "/kaggle/input/nernlp3/Assignment2/Data/Laptop_Review_Train.json\n",
      "/kaggle/input/nernlp3/Assignment2/Data/bio1.py\n",
      "/kaggle/input/nernlp3/Assignment2/Data/NER_TEST_JUDGEMENT.json\n",
      "/kaggle/input/nernlp3/Assignment2/Data/Laptop_Review_Test.json\n",
      "/kaggle/input/nernlp3/Assignment2/Data/processed/NER_test.json\n",
      "/kaggle/input/nernlp3/Assignment2/Data/processed/ATE_test.json\n",
      "/kaggle/input/nernlp3/Assignment2/Data/processed/NER_train.json\n",
      "/kaggle/input/nernlp3/Assignment2/Data/processed/ATE_train.json\n",
      "/kaggle/input/nernlp3/Assignment2/Data/processed/NER_val.json\n",
      "/kaggle/input/nernlp3/Assignment2/Data/processed/ATE_val.json\n"
     ]
    }
   ],
   "source": [
    "# This Python 3 environment comes with many helpful analytics libraries installed\n",
    "# It is defined by the kaggle/python Docker image: https://github.com/kaggle/docker-python\n",
    "# For example, here's several helpful packages to load\n",
    "\n",
    "# Input data files are available in the read-only \"../input/\" directory\n",
    "# For example, running this (by clicking run or pressing Shift+Enter) will list all files under the input directory\n",
    "\n",
    "import os\n",
    "for dirname, _, filenames in os.walk('/kaggle/input'):\n",
    "    for filename in filenames:\n",
    "        print(os.path.join(dirname, filename))\n",
    "\n",
    "Embedding_name=\"word2vec\"\n",
    "Dataset=\"NER\"     \n",
    "PATH='/kaggle/input/nernlp3/Assignment2/'\n",
    "OUTPATH='/kaggle/working/'\n",
    "\n",
    "# You can write up to 20GB to the current directory (/kaggle/working/) that gets preserved as output when you create a version using \"Save & Run All\" \n",
    "# You can also write temporary files to /kaggle/temp/, but they won't be saved outside of the current session"
   ]
  },
  {
   "cell_type": "code",
   "execution_count": 4,
   "id": "f830168b",
   "metadata": {
    "execution": {
     "iopub.execute_input": "2024-03-11T16:53:32.921025Z",
     "iopub.status.busy": "2024-03-11T16:53:32.920567Z",
     "iopub.status.idle": "2024-03-11T16:53:34.172710Z",
     "shell.execute_reply": "2024-03-11T16:53:34.171467Z"
    },
    "papermill": {
     "duration": 1.271,
     "end_time": "2024-03-11T16:53:34.174933",
     "exception": false,
     "start_time": "2024-03-11T16:53:32.903933",
     "status": "completed"
    },
    "tags": []
   },
   "outputs": [
    {
     "name": "stderr",
     "output_type": "stream",
     "text": [
      "/opt/conda/lib/python3.10/pty.py:89: RuntimeWarning: os.fork() was called. os.fork() is incompatible with multithreaded code, and JAX is multithreaded, so this will likely lead to a deadlock.\n",
      "  pid, fd = os.forkpty()\n"
     ]
    }
   ],
   "source": [
    "! mkdir Saved_Models\n",
    "! mkdir Saved_Models/ATE\n",
    "! mkdir Saved_Models/NER\n",
    "! mkdir Graphs"
   ]
  },
  {
   "cell_type": "code",
   "execution_count": 5,
   "id": "c5f78091",
   "metadata": {
    "execution": {
     "iopub.execute_input": "2024-03-11T16:53:34.209433Z",
     "iopub.status.busy": "2024-03-11T16:53:34.209072Z",
     "iopub.status.idle": "2024-03-11T16:53:34.242387Z",
     "shell.execute_reply": "2024-03-11T16:53:34.240789Z"
    },
    "papermill": {
     "duration": 0.054373,
     "end_time": "2024-03-11T16:53:34.244879",
     "exception": false,
     "start_time": "2024-03-11T16:53:34.190506",
     "status": "completed"
    },
    "tags": []
   },
   "outputs": [],
   "source": [
    "def checking(a):\n",
    "    print(\"Hello World\",a)\n",
    "\n",
    "def new_checking(a):\n",
    "    print(\"Hello World\",a)\n",
    "\n",
    "def create_train_test_val(file):\n",
    "    lst_out_text=[]\n",
    "    lst_out_labels=[]\n",
    "    for i in file.values():\n",
    "        sentence = i['text']\n",
    "        sentence = sentence.lower()\n",
    "        labels = i['labels']\n",
    "        lst_out_text.append(sentence)\n",
    "        lst_out_labels.append(labels)\n",
    "    return lst_out_text,lst_out_labels    \n",
    "\n",
    "def TokenCreator(sentences,val,tokenizer=None):\n",
    "    \n",
    "    temp_wordlist = None\n",
    "    tokenizer2=None\n",
    "    if(tokenizer == None):\n",
    "        if val==1:\n",
    "            tokenizer2 = Tokenizer(oov_token=\"#UK\",filters='')\n",
    "        else:\n",
    "            tokenizer2=Tokenizer()\n",
    "        tokenizer2.fit_on_texts(sentences)\n",
    "        \n",
    "        temp_wordlist = tokenizer2.texts_to_sequences(sentences)\n",
    "        return (temp_wordlist,tokenizer2)\n",
    "    \n",
    "    else:\n",
    "        temp_wordlist = tokenizer.texts_to_sequences(sentences)\n",
    "        return temp_wordlist\n",
    "    \n",
    "def find_vocab(dataset):\n",
    "    lst=[]\n",
    "    lst.append(\"#UK\")\n",
    "    for i in dataset:\n",
    "        for j in i:\n",
    "            lst.append(j)\n",
    "    st = set(lst)\n",
    "    return st\n",
    "\n",
    "'''\n",
    "--------------------------------------GRAPHS--------------------------------------\n",
    "'''\n",
    "\n",
    "def draw_loss_graph(model,model_name,f1_scores_train,f1_scores_val):\n",
    "    train_loss = model.history['loss']\n",
    "    val_loss = model.history['val_loss']\n",
    "    x = [i+1 for i in range(len(train_loss))]\n",
    "    train_y = train_loss\n",
    "    val_y = val_loss\n",
    "    \n",
    "    fig, axes = plt.subplots(1,2,figsize = (16,5))\n",
    "    # plt.subplots(axes = (2,1))\n",
    "    axes[0].plot(x,train_y, color = 'blue')  \n",
    "    \n",
    "    axes[0].plot(x,val_y, color = 'red') \n",
    "    axes[0].set_title('Loss over Epochs')\n",
    "    axes[0].set_xlabel('Epoch')\n",
    "    axes[0].set_ylabel('Loss')\n",
    "\n",
    "    axes[1].plot(x,f1_scores_train, color = 'blue')\n",
    "    axes[1].plot(x,f1_scores_val, color = 'red')\n",
    "    axes[1].set_title('F1 Score vs Epoch')\n",
    "    axes[1].set_xlabel('Epochs')\n",
    "    axes[1].set_ylabel('F1 Score')\n",
    "\n",
    "    axes[0].legend(['Train','Val'])\n",
    "    axes[1].legend(['Train','Val'])\n",
    "    \n",
    "    plt.suptitle(model_name)\n",
    "\n",
    "    \n",
    "    plt.show()\n",
    "    \n",
    "'''\n",
    "--------------------------------------MODELS--------------------------------------\n",
    "'''\n",
    "\n",
    "def save_model(model,model_name, embedding, dataset):\n",
    "    model.save_weights(f'{OUTPATH}Saved_Models/{dataset}/{model_name}_{embedding}.h5')\n",
    "    with open(f'{OUTPATH}Saved_Models/{dataset}/{model_name}_{embedding}.pkl', 'wb') as file:\n",
    "        pickle.dump(model.get_weights(), file)\n",
    "\n",
    "def load_model(model_name, embedding, dataset):\n",
    "    with open(f'{OUTPATH}Saved_Models/{dataset}/{model_name}_{embedding}.pkl', 'rb') as file:\n",
    "        loaded_model = pickle.load(file)\n",
    "    \n",
    "    return loaded_model\n",
    "\n",
    "'''\n",
    "--------------------------------------CALLBACKS--------------------------------------\n",
    "'''\n",
    "\n",
    "class F1ScoreCallback(Callback):\n",
    "\n",
    "    def __init__(self, val_data, data):\n",
    "        super(F1ScoreCallback, self).__init__()\n",
    "        self.val_data = val_data\n",
    "        self.data=data\n",
    "        self.val_f1_scores = [] \n",
    "        self.train_f1_scores = []\n",
    "\n",
    "    \n",
    "\n",
    "    def on_epoch_end(self, epoch, logs=None):\n",
    "        x_val, y_val = self.val_data\n",
    "        x_data, y_data = self.data\n",
    "        y_pred_val = self.model.predict(x_val)\n",
    "        y_pred_train = self.model.predict(x_data)\n",
    "\n",
    "        def scikitf1(pred,real):\n",
    "\n",
    "            true_labels_flat = [label for sublist in real for label in sublist]\n",
    "            predicted_labels_flat = [label for sublist in pred for label in sublist]\n",
    "            # Compute F1 score\n",
    "            f1 = f1_score(true_labels_flat, predicted_labels_flat, average='macro')\n",
    "            return f1\n",
    "        def get_pred(Y_padded_output):\n",
    "                # print(Y_padded_output.shape)\n",
    "                final_output=[]\n",
    "                for i in range(Y_padded_output.shape[0]):\n",
    "                    output=[]\n",
    "                    for j in range(Y_padded_output.shape[1]):\n",
    "                        max_value=-1\n",
    "                        maxIndex=-1\n",
    "                        for k in range(Y_padded_output.shape[2]):\n",
    "                            if Y_padded_output[i][j][k]>max_value:\n",
    "                                maxIndex=k\n",
    "                                max_value=max(max_value,Y_padded_output[i][j][k])\n",
    "                        output.append(maxIndex)\n",
    "                    final_output.append(output)\n",
    "                return final_output\n",
    "\n",
    "        def get_real(Y_padded_test):\n",
    "            # print(Y_padded_test.shape)\n",
    "            final_Y=[]\n",
    "            for i in range(Y_padded_test.shape[0]):\n",
    "                output=[]\n",
    "                for j in range(Y_padded_test.shape[1]):\n",
    "                    max_value=-1\n",
    "                    maxIndex=-1\n",
    "                    for k in range(Y_padded_test.shape[2]):\n",
    "                        if Y_padded_test[i][j][k]>max_value:\n",
    "                            maxIndex=k\n",
    "                            max_value=max(max_value,Y_padded_test[i][j][k])\n",
    "                    output.append(maxIndex)\n",
    "                final_Y.append(output)\n",
    "            return final_Y\n",
    "        \n",
    "        # print(\"here\")\n",
    "        pred_train=get_pred(y_pred_train)\n",
    "        # print(pred_train)\n",
    "        real_train=get_real(y_data)\n",
    "        # print(real_train)\n",
    "\n",
    "        pred_val=get_pred(y_pred_val)\n",
    "        real_val=get_real(y_val)\n",
    "\n",
    "        f1_train = scikitf1(pred_train,real_train)\n",
    "        f1_val = scikitf1(pred_val,real_val)\n",
    "\n",
    "        self.val_f1_scores.append(f1_val)\n",
    "        self.train_f1_scores.append(f1_train)\n",
    "        print(f'Val F1 Score: {f1_val} - Train F1 Score: {f1_train}')\n",
    "\n",
    "\n",
    "\n",
    "#---------Prediction Functions----------------------------------------------\n",
    "def get_pred(Y_padded_output):\n",
    "    final_output=[]\n",
    "    for i in range(Y_padded_output.shape[0]):\n",
    "        output=[]\n",
    "        for j in range(Y_padded_output.shape[1]):\n",
    "            max_value=-1\n",
    "            maxIndex=-1\n",
    "            for k in range(Y_padded_output.shape[2]):\n",
    "                if Y_padded_output[i][j][k]>max_value:\n",
    "                    maxIndex=k\n",
    "                    max_value=max(max_value,Y_padded_output[i][j][k])\n",
    "            output.append(maxIndex)\n",
    "        final_output.append(output)\n",
    "    return final_output\n",
    "\n",
    "def get_real(Y_padded_test):\n",
    "    final_Y=[]\n",
    "    for i in range(Y_padded_test.shape[0]):\n",
    "        output=[]\n",
    "        for j in range(Y_padded_test.shape[1]):\n",
    "            max_value=-1\n",
    "            maxIndex=-1\n",
    "            for k in range(Y_padded_test.shape[2]):\n",
    "                if Y_padded_test[i][j][k]>max_value:\n",
    "                    maxIndex=k\n",
    "                    max_value=max(max_value,Y_padded_test[i][j][k])\n",
    "            output.append(maxIndex)\n",
    "        final_Y.append(output)\n",
    "    return final_Y\n",
    "\n",
    "def my_f1(y_true, y_pred):\n",
    "    \n",
    "    # predictions = get_pred(y_pred)\n",
    "    # real = get_real(y_true)\n",
    "\n",
    "    predictions = y_pred\n",
    "    real = y_true\n",
    "\n",
    "    size=len(predictions)\n",
    "\n",
    "    unique_labels= set()\n",
    "\n",
    "    for labels in real:\n",
    "        unique_labels.update(labels)\n",
    "\n",
    "    for labels in predictions:\n",
    "        unique_labels.update(labels)\n",
    "\n",
    "    labels_f1=[]\n",
    "\n",
    "    for labels in unique_labels:\n",
    "        tp=0\n",
    "        fp=0\n",
    "        fn=0\n",
    "\n",
    "        for i in range(size):\n",
    "            l=[]\n",
    "                    \n",
    "            tp+=sum((p==labels and r==labels) for p,r in zip(predictions[i],real[i]))\n",
    "            fp+=sum((p==labels and r!=labels) for p,r in zip(predictions[i],real[i]))\n",
    "            fn+=sum((p!=labels and r==labels) for p,r in zip(predictions[i],real[i]))\n",
    "\n",
    "        \n",
    "        precision = tp/(tp+fp) if tp+fp>0 else 0\n",
    "        recall = tp/(tp+fn) if tp+fn>0 else 0\n",
    "\n",
    "        f1=2*((precision*recall)/(precision+recall)) if precision+recall>0 else 0\n",
    "\n",
    "        labels_f1.append(f1)\n",
    "        print(f1,unique_labels)\n",
    "    macro_f1 = sum(labels_f1)/len(unique_labels)\n",
    "    return macro_f1\n",
    "\n",
    "def scikitf1(pred,real):\n",
    "\n",
    "    true_labels_flat = [label for sublist in real for label in sublist]\n",
    "    predicted_labels_flat = [label for sublist in pred for label in sublist]\n",
    "    # Compute F1 score\n",
    "    f1 = f1_score(true_labels_flat, predicted_labels_flat, average='macro')\n",
    "    return f1"
   ]
  },
  {
   "cell_type": "code",
   "execution_count": null,
   "id": "30c47fc6",
   "metadata": {
    "papermill": {
     "duration": 0.015191,
     "end_time": "2024-03-11T16:53:34.275750",
     "exception": false,
     "start_time": "2024-03-11T16:53:34.260559",
     "status": "completed"
    },
    "tags": []
   },
   "outputs": [],
   "source": []
  },
  {
   "cell_type": "code",
   "execution_count": null,
   "id": "9c162470",
   "metadata": {
    "papermill": {
     "duration": 0.014744,
     "end_time": "2024-03-11T16:53:34.305597",
     "exception": false,
     "start_time": "2024-03-11T16:53:34.290853",
     "status": "completed"
    },
    "tags": []
   },
   "outputs": [],
   "source": []
  },
  {
   "cell_type": "code",
   "execution_count": 6,
   "id": "a99ae14c",
   "metadata": {
    "execution": {
     "iopub.execute_input": "2024-03-11T16:53:34.337340Z",
     "iopub.status.busy": "2024-03-11T16:53:34.336933Z",
     "iopub.status.idle": "2024-03-11T16:53:34.342288Z",
     "shell.execute_reply": "2024-03-11T16:53:34.341111Z"
    },
    "papermill": {
     "duration": 0.023431,
     "end_time": "2024-03-11T16:53:34.344053",
     "exception": false,
     "start_time": "2024-03-11T16:53:34.320622",
     "status": "completed"
    },
    "tags": []
   },
   "outputs": [],
   "source": [
    "seed_value = 40\n",
    "np.random.seed(seed_value)\n",
    "tf.random.set_seed(seed_value)"
   ]
  },
  {
   "cell_type": "code",
   "execution_count": 7,
   "id": "71d6344a",
   "metadata": {
    "execution": {
     "iopub.execute_input": "2024-03-11T16:53:34.375381Z",
     "iopub.status.busy": "2024-03-11T16:53:34.374522Z",
     "iopub.status.idle": "2024-03-11T16:54:32.984632Z",
     "shell.execute_reply": "2024-03-11T16:54:32.983161Z"
    },
    "papermill": {
     "duration": 58.628339,
     "end_time": "2024-03-11T16:54:32.987048",
     "exception": false,
     "start_time": "2024-03-11T16:53:34.358709",
     "status": "completed"
    },
    "tags": []
   },
   "outputs": [],
   "source": [
    "if Embedding_name==\"word2vec\":\n",
    "    emb = KeyedVectors.load_word2vec_format(f'{PATH}WordEmbeddings/Word2vec.bin',binary=True)\n",
    "\n",
    "if Embedding_name==\"glove\":\n",
    "    with open(f'{PATH}WordEmbeddings/glove.840B.300d.pkl', 'rb') as fp:\n",
    "        emb = pickle.load(fp)\n",
    "if Embedding_name==\"fasttext\":\n",
    "    emb = fasttext.load_model(f'{PATH}WordEmbeddings/cc.en.300.bin')"
   ]
  },
  {
   "cell_type": "markdown",
   "id": "9396ff19",
   "metadata": {
    "papermill": {
     "duration": 0.015268,
     "end_time": "2024-03-11T16:54:33.017877",
     "exception": false,
     "start_time": "2024-03-11T16:54:33.002609",
     "status": "completed"
    },
    "tags": []
   },
   "source": [
    "# Data Extraction and Preprocessing"
   ]
  },
  {
   "cell_type": "markdown",
   "id": "ed8ce364",
   "metadata": {
    "papermill": {
     "duration": 0.016616,
     "end_time": "2024-03-11T16:54:33.050019",
     "exception": false,
     "start_time": "2024-03-11T16:54:33.033403",
     "status": "completed"
    },
    "tags": []
   },
   "source": [
    "Reading ATE json files"
   ]
  },
  {
   "cell_type": "code",
   "execution_count": 8,
   "id": "f0ea92d3",
   "metadata": {
    "execution": {
     "iopub.execute_input": "2024-03-11T16:54:33.083554Z",
     "iopub.status.busy": "2024-03-11T16:54:33.083165Z",
     "iopub.status.idle": "2024-03-11T16:54:33.279164Z",
     "shell.execute_reply": "2024-03-11T16:54:33.277700Z"
    },
    "papermill": {
     "duration": 0.215631,
     "end_time": "2024-03-11T16:54:33.281743",
     "exception": false,
     "start_time": "2024-03-11T16:54:33.066112",
     "status": "completed"
    },
    "tags": []
   },
   "outputs": [],
   "source": [
    "\n",
    "train = None\n",
    "test = None\n",
    "val = None\n",
    "with open(f\"{PATH}Data/processed/{Dataset}_train.json\") as f1:\n",
    "    train = json.load(f1)\n",
    "\n",
    "with open(f\"{PATH}Data/processed/{Dataset}_test.json\") as f2:\n",
    "    test = json.load(f2)\n",
    "\n",
    "with open(f\"{PATH}Data/processed/{Dataset}_val.json\") as f3:\n",
    "    val = json.load(f3)\n",
    "\n"
   ]
  },
  {
   "cell_type": "markdown",
   "id": "eafad064",
   "metadata": {
    "papermill": {
     "duration": 0.015116,
     "end_time": "2024-03-11T16:54:33.312834",
     "exception": false,
     "start_time": "2024-03-11T16:54:33.297718",
     "status": "completed"
    },
    "tags": []
   },
   "source": [
    "processing into lists"
   ]
  },
  {
   "cell_type": "code",
   "execution_count": 9,
   "id": "7c1f077c",
   "metadata": {
    "execution": {
     "iopub.execute_input": "2024-03-11T16:54:33.345571Z",
     "iopub.status.busy": "2024-03-11T16:54:33.345196Z",
     "iopub.status.idle": "2024-03-11T16:54:33.356854Z",
     "shell.execute_reply": "2024-03-11T16:54:33.355853Z"
    },
    "papermill": {
     "duration": 0.030209,
     "end_time": "2024-03-11T16:54:33.359102",
     "exception": false,
     "start_time": "2024-03-11T16:54:33.328893",
     "status": "completed"
    },
    "tags": []
   },
   "outputs": [],
   "source": [
    "X_train,Y_train = create_train_test_val(train)\n",
    "X_test,Y_test = create_train_test_val(test)\n",
    "X_val,Y_val = create_train_test_val(val)"
   ]
  },
  {
   "cell_type": "markdown",
   "id": "76720216",
   "metadata": {
    "papermill": {
     "duration": 0.015481,
     "end_time": "2024-03-11T16:54:33.390855",
     "exception": false,
     "start_time": "2024-03-11T16:54:33.375374",
     "status": "completed"
    },
    "tags": []
   },
   "source": [
    "Tokenizing the ATE Dataset"
   ]
  },
  {
   "cell_type": "code",
   "execution_count": 10,
   "id": "8a3278bf",
   "metadata": {
    "execution": {
     "iopub.execute_input": "2024-03-11T16:54:33.424725Z",
     "iopub.status.busy": "2024-03-11T16:54:33.423803Z",
     "iopub.status.idle": "2024-03-11T16:54:34.109560Z",
     "shell.execute_reply": "2024-03-11T16:54:34.108496Z"
    },
    "papermill": {
     "duration": 0.705301,
     "end_time": "2024-03-11T16:54:34.112166",
     "exception": false,
     "start_time": "2024-03-11T16:54:33.406865",
     "status": "completed"
    },
    "tags": []
   },
   "outputs": [],
   "source": [
    "X_train_tokenized, toke = TokenCreator(X_train,1)\n",
    "X_test_tokenized = TokenCreator(X_test,0,tokenizer = toke)\n",
    "X_val_tokenized = TokenCreator(X_val,0,tokenizer = toke)\n",
    "\n",
    "Y_train_tokenized,toke2 = TokenCreator(Y_train,0)\n",
    "Y_test_tokenized = TokenCreator(Y_test,0,tokenizer = toke2)\n",
    "Y_val_tokenized = TokenCreator(Y_val,0,tokenizer = toke2)"
   ]
  },
  {
   "cell_type": "markdown",
   "id": "f583db07",
   "metadata": {
    "papermill": {
     "duration": 0.015983,
     "end_time": "2024-03-11T16:54:34.143631",
     "exception": false,
     "start_time": "2024-03-11T16:54:34.127648",
     "status": "completed"
    },
    "tags": []
   },
   "source": [
    "Vocabulary of ATE"
   ]
  },
  {
   "cell_type": "code",
   "execution_count": 11,
   "id": "b1f60b66",
   "metadata": {
    "execution": {
     "iopub.execute_input": "2024-03-11T16:54:34.229019Z",
     "iopub.status.busy": "2024-03-11T16:54:34.228592Z",
     "iopub.status.idle": "2024-03-11T16:54:34.265295Z",
     "shell.execute_reply": "2024-03-11T16:54:34.263638Z"
    },
    "papermill": {
     "duration": 0.055822,
     "end_time": "2024-03-11T16:54:34.268252",
     "exception": false,
     "start_time": "2024-03-11T16:54:34.212430",
     "status": "completed"
    },
    "tags": []
   },
   "outputs": [
    {
     "data": {
      "text/plain": [
       "30220"
      ]
     },
     "execution_count": 11,
     "metadata": {},
     "output_type": "execute_result"
    }
   ],
   "source": [
    "st1 = find_vocab(X_train_tokenized)\n",
    "vocab_size  = len(st1) + 1 \n",
    "vocab_size"
   ]
  },
  {
   "cell_type": "code",
   "execution_count": 12,
   "id": "b6669bd9",
   "metadata": {
    "execution": {
     "iopub.execute_input": "2024-03-11T16:54:34.302243Z",
     "iopub.status.busy": "2024-03-11T16:54:34.301828Z",
     "iopub.status.idle": "2024-03-11T16:54:34.313496Z",
     "shell.execute_reply": "2024-03-11T16:54:34.311903Z"
    },
    "papermill": {
     "duration": 0.032025,
     "end_time": "2024-03-11T16:54:34.316260",
     "exception": false,
     "start_time": "2024-03-11T16:54:34.284235",
     "status": "completed"
    },
    "tags": []
   },
   "outputs": [
    {
     "data": {
      "text/plain": [
       "70"
      ]
     },
     "execution_count": 12,
     "metadata": {},
     "output_type": "execute_result"
    }
   ],
   "source": [
    "max_len=0\n",
    "\n",
    "for i in X_train_tokenized:\n",
    "    max_len = max(max_len,len(i))\n",
    "\n",
    "max_len"
   ]
  },
  {
   "cell_type": "markdown",
   "id": "48ea5169",
   "metadata": {
    "papermill": {
     "duration": 0.015971,
     "end_time": "2024-03-11T16:54:34.348322",
     "exception": false,
     "start_time": "2024-03-11T16:54:34.332351",
     "status": "completed"
    },
    "tags": []
   },
   "source": [
    "Padding ATE"
   ]
  },
  {
   "cell_type": "code",
   "execution_count": 13,
   "id": "c5799896",
   "metadata": {
    "execution": {
     "iopub.execute_input": "2024-03-11T16:54:34.382690Z",
     "iopub.status.busy": "2024-03-11T16:54:34.382333Z",
     "iopub.status.idle": "2024-03-11T16:54:34.462707Z",
     "shell.execute_reply": "2024-03-11T16:54:34.461394Z"
    },
    "papermill": {
     "duration": 0.100535,
     "end_time": "2024-03-11T16:54:34.465333",
     "exception": false,
     "start_time": "2024-03-11T16:54:34.364798",
     "status": "completed"
    },
    "tags": []
   },
   "outputs": [],
   "source": [
    "X_padded_train = pad_sequences(X_train_tokenized, maxlen=max_len, padding=\"pre\", truncating=\"post\")\n",
    "Y_padded_train = pad_sequences(Y_train_tokenized, maxlen=max_len, padding=\"pre\", truncating=\"post\")\n",
    "\n",
    "X_padded_test = pad_sequences(X_test_tokenized, maxlen=max_len, padding=\"pre\", truncating=\"post\")\n",
    "Y_padded_test = pad_sequences(Y_test_tokenized, maxlen=max_len, padding=\"pre\", truncating=\"post\")\n",
    "\n",
    "X_padded_val = pad_sequences(X_val_tokenized, maxlen=max_len, padding=\"pre\", truncating=\"post\")\n",
    "Y_padded_val = pad_sequences(Y_val_tokenized, maxlen=max_len, padding=\"pre\", truncating=\"post\")       "
   ]
  },
  {
   "cell_type": "markdown",
   "id": "14b42c78",
   "metadata": {
    "papermill": {
     "duration": 0.015469,
     "end_time": "2024-03-11T16:54:34.496894",
     "exception": false,
     "start_time": "2024-03-11T16:54:34.481425",
     "status": "completed"
    },
    "tags": []
   },
   "source": [
    "One hot encoding the ATE labels"
   ]
  },
  {
   "cell_type": "code",
   "execution_count": 14,
   "id": "519b16fc",
   "metadata": {
    "execution": {
     "iopub.execute_input": "2024-03-11T16:54:34.531646Z",
     "iopub.status.busy": "2024-03-11T16:54:34.531280Z",
     "iopub.status.idle": "2024-03-11T16:54:34.569384Z",
     "shell.execute_reply": "2024-03-11T16:54:34.567919Z"
    },
    "papermill": {
     "duration": 0.058915,
     "end_time": "2024-03-11T16:54:34.571852",
     "exception": false,
     "start_time": "2024-03-11T16:54:34.512937",
     "status": "completed"
    },
    "tags": []
   },
   "outputs": [],
   "source": [
    "Y_padded_train = to_categorical(Y_padded_train)\n",
    "Y_padded_test = to_categorical(Y_padded_test)\n",
    "Y_padded_val = to_categorical(Y_padded_val)"
   ]
  },
  {
   "cell_type": "markdown",
   "id": "e1a66273",
   "metadata": {
    "papermill": {
     "duration": 0.01504,
     "end_time": "2024-03-11T16:54:34.602543",
     "exception": false,
     "start_time": "2024-03-11T16:54:34.587503",
     "status": "completed"
    },
    "tags": []
   },
   "source": [
    "Assigning **ATE Word2Vec** mapping"
   ]
  },
  {
   "cell_type": "code",
   "execution_count": 15,
   "id": "d6309737",
   "metadata": {
    "execution": {
     "iopub.execute_input": "2024-03-11T16:54:34.636322Z",
     "iopub.status.busy": "2024-03-11T16:54:34.636014Z",
     "iopub.status.idle": "2024-03-11T16:54:34.666560Z",
     "shell.execute_reply": "2024-03-11T16:54:34.664544Z"
    },
    "papermill": {
     "duration": 0.050516,
     "end_time": "2024-03-11T16:54:34.669080",
     "exception": false,
     "start_time": "2024-03-11T16:54:34.618564",
     "status": "completed"
    },
    "tags": []
   },
   "outputs": [
    {
     "data": {
      "text/plain": [
       "{'#UK': 1,\n",
       " 'the': 2,\n",
       " 'of': 3,\n",
       " 'in': 4,\n",
       " 'to': 5,\n",
       " 'and': 6,\n",
       " 'that': 7,\n",
       " 'a': 8,\n",
       " 'was': 9,\n",
       " 'is': 10,\n",
       " 'by': 11,\n",
       " 'on': 12,\n",
       " 'as': 13,\n",
       " 'for': 14,\n",
       " 'be': 15,\n",
       " 'it': 16,\n",
       " 'court': 17,\n",
       " 'not': 18,\n",
       " 'has': 19,\n",
       " 'under': 20,\n",
       " 'this': 21,\n",
       " 'section': 22,\n",
       " 'which': 23,\n",
       " 'with': 24,\n",
       " 'or': 25,\n",
       " 'at': 26,\n",
       " 'he': 27,\n",
       " 'case': 28,\n",
       " 'no.': 29,\n",
       " 'from': 30,\n",
       " 'been': 31,\n",
       " 'his': 32,\n",
       " 'an': 33,\n",
       " 'had': 34,\n",
       " 'are': 35,\n",
       " 'were': 36,\n",
       " 'v.': 37,\n",
       " 'state': 38,\n",
       " 'also': 39,\n",
       " 'have': 40,\n",
       " 'act': 41,\n",
       " 'order': 42,\n",
       " 'any': 43,\n",
       " 'no': 44,\n",
       " 'high': 45,\n",
       " 'accused': 46,\n",
       " 'learned': 47,\n",
       " 'said': 48,\n",
       " 'there': 49,\n",
       " 'dated': 50,\n",
       " 'supreme': 51,\n",
       " 'made': 52,\n",
       " 'would': 53,\n",
       " 'before': 54,\n",
       " 'singh': 55,\n",
       " 'held': 56,\n",
       " 'who': 57,\n",
       " 'such': 58,\n",
       " 'against': 59,\n",
       " 'other': 60,\n",
       " 'but': 61,\n",
       " 'their': 62,\n",
       " 'one': 63,\n",
       " 'if': 64,\n",
       " 'respondent': 65,\n",
       " 'filed': 66,\n",
       " 'appeal': 67,\n",
       " 'appellant': 68,\n",
       " 'evidence': 69,\n",
       " '&': 70,\n",
       " 'all': 71,\n",
       " 'only': 72,\n",
       " 'decision': 73,\n",
       " 'after': 74,\n",
       " 'we': 75,\n",
       " 'they': 76,\n",
       " 'petitioner': 77,\n",
       " 'government': 78,\n",
       " 'may': 79,\n",
       " 'judgment': 80,\n",
       " 'act,': 81,\n",
       " 'its': 82,\n",
       " 'when': 83,\n",
       " 'counsel': 84,\n",
       " 'view': 85,\n",
       " 'same': 86,\n",
       " 'application': 87,\n",
       " 'india': 88,\n",
       " 'out': 89,\n",
       " 'can': 90,\n",
       " 'further': 91,\n",
       " 'petition': 92,\n",
       " 'whether': 93,\n",
       " 'two': 94,\n",
       " 'bench': 95,\n",
       " 'stated': 96,\n",
       " 'provisions': 97,\n",
       " 'question': 98,\n",
       " 'her': 99,\n",
       " 'law': 100,\n",
       " 'cannot': 101,\n",
       " 'vs.': 102,\n",
       " 'therefore,': 103,\n",
       " 'civil': 104,\n",
       " 'first': 105,\n",
       " 'article': 106,\n",
       " 'police': 107,\n",
       " 'should': 108,\n",
       " 'mr.': 109,\n",
       " '1': 110,\n",
       " 'suit': 111,\n",
       " 'could': 112,\n",
       " 'upon': 113,\n",
       " 'will': 114,\n",
       " 'these': 115,\n",
       " 'taken': 116,\n",
       " 'so': 117,\n",
       " 'passed': 118,\n",
       " 'writ': 119,\n",
       " 'rule': 120,\n",
       " 'about': 121,\n",
       " 'where': 122,\n",
       " 'referred': 123,\n",
       " 'judge': 124,\n",
       " 'being': 125,\n",
       " 'him': 126,\n",
       " 'given': 127,\n",
       " 'even': 128,\n",
       " 'i': 129,\n",
       " 'kumar': 130,\n",
       " 'into': 131,\n",
       " 'right': 132,\n",
       " 'p.': 133,\n",
       " 'present': 134,\n",
       " 'per': 135,\n",
       " 'ltd.': 136,\n",
       " 'rs.': 137,\n",
       " 'act.': 138,\n",
       " '2': 139,\n",
       " ':': 140,\n",
       " 'air': 141,\n",
       " 'time': 142,\n",
       " 'criminal': 143,\n",
       " \"hon'ble\": 144,\n",
       " 'constitution': 145,\n",
       " 'j.': 146,\n",
       " 'delhi': 147,\n",
       " 'defendant': 148,\n",
       " 'issued': 149,\n",
       " 'matter': 150,\n",
       " 'shall': 151,\n",
       " 'must': 152,\n",
       " 'did': 153,\n",
       " 'plaintiff': 154,\n",
       " 'respect': 155,\n",
       " 'she': 156,\n",
       " 'statement': 157,\n",
       " 'submitted': 158,\n",
       " 'company': 159,\n",
       " '3': 160,\n",
       " 'case,': 161,\n",
       " 'special': 162,\n",
       " 'property': 163,\n",
       " 's.': 164,\n",
       " 'then': 165,\n",
       " 'shri': 166,\n",
       " 'power': 167,\n",
       " 'between': 168,\n",
       " 'does': 169,\n",
       " 'while': 170,\n",
       " 'notice': 171,\n",
       " 'tribunal': 172,\n",
       " 'within': 173,\n",
       " 'above': 174,\n",
       " 'date': 175,\n",
       " 'trial': 176,\n",
       " 'person': 177,\n",
       " 'public': 178,\n",
       " 'facts': 179,\n",
       " 'offence': 180,\n",
       " 'sc': 181,\n",
       " 'scc': 182,\n",
       " 'court,': 183,\n",
       " 'having': 184,\n",
       " 'however,': 185,\n",
       " 'deceased': 186,\n",
       " 'tax': 187,\n",
       " 'division': 188,\n",
       " 'house': 189,\n",
       " 'land': 190,\n",
       " 'them': 191,\n",
       " 'petitioners': 192,\n",
       " 'district': 193,\n",
       " 'new': 194,\n",
       " '(1)': 195,\n",
       " 'code': 196,\n",
       " 'apex': 197,\n",
       " 'relied': 198,\n",
       " 'general': 199,\n",
       " 'persons': 200,\n",
       " 'down': 201,\n",
       " 'officer': 202,\n",
       " 'observed': 203,\n",
       " 'found': 204,\n",
       " 'justice': 205,\n",
       " 'court.': 206,\n",
       " 'union': 207,\n",
       " 'both': 208,\n",
       " '4': 209,\n",
       " 'examined': 210,\n",
       " 'central': 211,\n",
       " 'without': 212,\n",
       " 'what': 213,\n",
       " 'some': 214,\n",
       " 'reference': 215,\n",
       " 'though': 216,\n",
       " 'came': 217,\n",
       " 'sections': 218,\n",
       " 'indian': 219,\n",
       " 'cases': 220,\n",
       " 'another': 221,\n",
       " 'jurisdiction': 222,\n",
       " 'page': 223,\n",
       " 'basis': 224,\n",
       " 'claim': 225,\n",
       " 'amount': 226,\n",
       " 'report': 227,\n",
       " 'effect': 228,\n",
       " 'up': 229,\n",
       " 'part': 230,\n",
       " 'possession': 231,\n",
       " 'witness': 232,\n",
       " 'following': 233,\n",
       " '5': 234,\n",
       " '-': 235,\n",
       " 'assessee': 236,\n",
       " 'since': 237,\n",
       " 'year': 238,\n",
       " 'prosecution': 239,\n",
       " 'fact': 240,\n",
       " 'authority': 241,\n",
       " 'bank': 242,\n",
       " 'considered': 243,\n",
       " 'complainant': 244,\n",
       " 'during': 245,\n",
       " 'behalf': 246,\n",
       " 'three': 247,\n",
       " '(2)': 248,\n",
       " 'service': 249,\n",
       " 'years': 250,\n",
       " 'income': 251,\n",
       " 'ram': 252,\n",
       " 'regard': 253,\n",
       " '6': 254,\n",
       " 'c.': 255,\n",
       " 'rules': 256,\n",
       " 'placed': 257,\n",
       " 'sale': 258,\n",
       " 'co.': 259,\n",
       " 'reported': 260,\n",
       " 'proceedings': 261,\n",
       " 'place': 262,\n",
       " 'aforesaid': 263,\n",
       " 'record': 264,\n",
       " 'because': 265,\n",
       " 'appellants': 266,\n",
       " 'do': 267,\n",
       " 'complaint': 268,\n",
       " 'registered': 269,\n",
       " 'necessary': 270,\n",
       " 'additional': 271,\n",
       " 'make': 272,\n",
       " 'well': 273,\n",
       " 'according': 274,\n",
       " 'respondents': 275,\n",
       " 'ground': 276,\n",
       " 'chief': 277,\n",
       " 'period': 278,\n",
       " 'through': 279,\n",
       " 'procedure': 280,\n",
       " 'those': 281,\n",
       " 'business': 282,\n",
       " 'more': 283,\n",
       " 'clause': 284,\n",
       " 'relevant': 285,\n",
       " '(supra)': 286,\n",
       " 'interest': 287,\n",
       " 'legal': 288,\n",
       " 'mentioned': 289,\n",
       " 'our': 290,\n",
       " 'favour': 291,\n",
       " 'take': 292,\n",
       " 'second': 293,\n",
       " 'read': 294,\n",
       " 'over': 295,\n",
       " 'far': 296,\n",
       " 'than': 297,\n",
       " 'others': 298,\n",
       " 'decided': 299,\n",
       " 'point': 300,\n",
       " 'witnesses': 301,\n",
       " 'set': 302,\n",
       " 'deposed': 303,\n",
       " 'singh,': 304,\n",
       " 'pw': 305,\n",
       " 'judicial': 306,\n",
       " 'ors.': 307,\n",
       " 'certain': 308,\n",
       " 'consideration': 309,\n",
       " 'now': 310,\n",
       " 'circumstances': 311,\n",
       " 'assessment': 312,\n",
       " 'issue': 313,\n",
       " 'laid': 314,\n",
       " 'terms': 315,\n",
       " 'letter': 316,\n",
       " 'p.w.': 317,\n",
       " 'support': 318,\n",
       " 'board': 319,\n",
       " 'received': 320,\n",
       " 'nos.': 321,\n",
       " 'account': 322,\n",
       " 'provision': 323,\n",
       " 'punjab': 324,\n",
       " 'earlier': 325,\n",
       " 'insurance': 326,\n",
       " 'ex.': 327,\n",
       " 'goods': 328,\n",
       " 'contention': 329,\n",
       " 'corporation': 330,\n",
       " 'notification': 331,\n",
       " 'commission': 332,\n",
       " '7': 333,\n",
       " 'bombay': 334,\n",
       " '8': 335,\n",
       " 'india,': 336,\n",
       " 'sessions': 337,\n",
       " 'took': 338,\n",
       " 'party': 339,\n",
       " 'r.': 340,\n",
       " 'vide': 341,\n",
       " 'purpose': 342,\n",
       " 'pradesh': 343,\n",
       " 'used': 344,\n",
       " 'already': 345,\n",
       " 'alleged': 346,\n",
       " 'recorded': 347,\n",
       " 'name': 348,\n",
       " 'compensation': 349,\n",
       " 'contended': 350,\n",
       " 'dr.': 351,\n",
       " '\"the': 352,\n",
       " 'parties': 353,\n",
       " 'clear': 354,\n",
       " 'commissioner': 355,\n",
       " 'show': 356,\n",
       " 'entitled': 357,\n",
       " 'us': 358,\n",
       " 'directed': 359,\n",
       " 'action': 360,\n",
       " 'courts': 361,\n",
       " 'different': 362,\n",
       " 'reliance': 363,\n",
       " 'no.1': 364,\n",
       " 'office': 365,\n",
       " 'admitted': 366,\n",
       " 'case.': 367,\n",
       " 'decisions': 368,\n",
       " 'agreement': 369,\n",
       " 'thus': 370,\n",
       " 'come': 371,\n",
       " 'due': 372,\n",
       " 'income-tax': 373,\n",
       " 'magistrate': 374,\n",
       " 'regarding': 375,\n",
       " 'transport': 376,\n",
       " 'w.': 377,\n",
       " 'granted': 378,\n",
       " 'decree': 379,\n",
       " '10': 380,\n",
       " 'sri': 381,\n",
       " 'k.': 382,\n",
       " 'my': 383,\n",
       " 'ipc': 384,\n",
       " 'motor': 385,\n",
       " 'file': 386,\n",
       " 'required': 387,\n",
       " 'vehicle': 388,\n",
       " 'orders': 389,\n",
       " 'charge': 390,\n",
       " 'paid': 391,\n",
       " 'very': 392,\n",
       " 'and,': 393,\n",
       " ',': 394,\n",
       " 'lal': 395,\n",
       " 'payment': 396,\n",
       " 'subject': 397,\n",
       " 'medical': 398,\n",
       " 'exercise': 399,\n",
       " 'allowed': 400,\n",
       " 'original': 401,\n",
       " 'impugned': 402,\n",
       " 'opinion': 403,\n",
       " 'pay': 404,\n",
       " 'investigation': 405,\n",
       " 'rights': 406,\n",
       " '.': 407,\n",
       " 'powers': 408,\n",
       " 'smt.': 409,\n",
       " 'contract': 410,\n",
       " 'appellate': 411,\n",
       " 'observations': 412,\n",
       " 'meaning': 413,\n",
       " 'a.': 414,\n",
       " 'appears': 415,\n",
       " 'owner': 416,\n",
       " '9': 417,\n",
       " 'way': 418,\n",
       " 'nature': 419,\n",
       " '14': 420,\n",
       " 'grant': 421,\n",
       " 'j.,': 422,\n",
       " 'reasonable': 423,\n",
       " 'brought': 424,\n",
       " '2.': 425,\n",
       " 'itself': 426,\n",
       " 'list': 427,\n",
       " 'duty': 428,\n",
       " 'death': 429,\n",
       " 'concerned': 430,\n",
       " 'taking': 431,\n",
       " 'available': 432,\n",
       " 'nor': 433,\n",
       " 'third': 434,\n",
       " '12': 435,\n",
       " 'copy': 436,\n",
       " 'legislature': 437,\n",
       " 'therefore': 438,\n",
       " 'either': 439,\n",
       " 'single': 440,\n",
       " 'cr.p.c.': 441,\n",
       " 'raised': 442,\n",
       " 'again': 443,\n",
       " 'full': 444,\n",
       " 'find': 445,\n",
       " 'judge,': 446,\n",
       " 'prasad': 447,\n",
       " 'consider': 448,\n",
       " 'words': 449,\n",
       " 'along': 450,\n",
       " 'sh.': 451,\n",
       " 'provided': 452,\n",
       " 'claimed': 453,\n",
       " 'him.': 454,\n",
       " 'itr': 455,\n",
       " 'documents': 456,\n",
       " 'material': 457,\n",
       " 'area': 458,\n",
       " 'fir': 459,\n",
       " 'examination': 460,\n",
       " 'station': 461,\n",
       " 'each': 462,\n",
       " 'village': 463,\n",
       " 'clearly': 464,\n",
       " 'similar': 465,\n",
       " 'holding': 466,\n",
       " 'transfer': 467,\n",
       " 'pointed': 468,\n",
       " 'document': 469,\n",
       " 'offences': 470,\n",
       " 'penal': 471,\n",
       " 'm.': 472,\n",
       " 'post': 473,\n",
       " 'india.': 474,\n",
       " 'n.': 475,\n",
       " 'election': 476,\n",
       " 'including': 477,\n",
       " '@': 478,\n",
       " 'liable': 479,\n",
       " 'sub-section': 480,\n",
       " 'written': 481,\n",
       " 'leave': 482,\n",
       " 'based': 483,\n",
       " 'information': 484,\n",
       " 'appeals': 485,\n",
       " 'own': 486,\n",
       " 'sent': 487,\n",
       " 'hold': 488,\n",
       " 'number': 489,\n",
       " 'reason': 490,\n",
       " 'industrial': 491,\n",
       " 'open': 492,\n",
       " 'sought': 493,\n",
       " 'course': 494,\n",
       " 'revenue': 495,\n",
       " 'force': 496,\n",
       " 'position': 497,\n",
       " 'liability': 498,\n",
       " 'back': 499,\n",
       " 'established': 500,\n",
       " 'para': 501,\n",
       " 'madras': 502,\n",
       " 'parliament': 503,\n",
       " 'cit': 504,\n",
       " 'true': 505,\n",
       " 'affidavit': 506,\n",
       " 'statutory': 507,\n",
       " 'considering': 508,\n",
       " 'entry': 509,\n",
       " '1st': 510,\n",
       " 'common': 511,\n",
       " 'award': 512,\n",
       " 'constitution.': 513,\n",
       " 'dismissed': 514,\n",
       " 'dispute': 515,\n",
       " 'son': 516,\n",
       " 'articles': 517,\n",
       " 'applicable': 518,\n",
       " 'give': 519,\n",
       " 'petitions': 520,\n",
       " 'advocate': 521,\n",
       " 'went': 522,\n",
       " 'services': 523,\n",
       " 'proved': 524,\n",
       " 'cause': 525,\n",
       " 'produced': 526,\n",
       " '1,': 527,\n",
       " 'defendants': 528,\n",
       " 'principles': 529,\n",
       " 'kerala': 530,\n",
       " 'various': 531,\n",
       " 'reasons': 532,\n",
       " 'punishable': 533,\n",
       " 'merely': 534,\n",
       " 'that,': 535,\n",
       " 'wife': 536,\n",
       " 'result': 537,\n",
       " 'working': 538,\n",
       " 'b.': 539,\n",
       " 'rajasthan': 540,\n",
       " 'm/s': 541,\n",
       " 'body': 542,\n",
       " 'contained': 543,\n",
       " 'prior': 544,\n",
       " 'scheme': 545,\n",
       " 'appearing': 546,\n",
       " '15': 547,\n",
       " 'vehicles': 548,\n",
       " 'father': 549,\n",
       " '11': 550,\n",
       " 'loss': 551,\n",
       " 'making': 552,\n",
       " 'ld.': 553,\n",
       " 'limited': 554,\n",
       " '(3)': 555,\n",
       " 'put': 556,\n",
       " '(b)': 557,\n",
       " 'conclusion': 558,\n",
       " 'concerned,': 559,\n",
       " 'member': 560,\n",
       " 'use': 561,\n",
       " 'amendment': 562,\n",
       " 'officer,': 563,\n",
       " 'wherein': 564,\n",
       " 'registration': 565,\n",
       " 'himself': 566,\n",
       " 'bearing': 567,\n",
       " 'haryana': 568,\n",
       " 'relating': 569,\n",
       " 'sufficient': 570,\n",
       " 'argued': 571,\n",
       " 'law.': 572,\n",
       " 'recovery': 573,\n",
       " 'accepted': 574,\n",
       " 'control': 575,\n",
       " 'trade': 576,\n",
       " 'premises': 577,\n",
       " 'left': 578,\n",
       " 'crime': 579,\n",
       " 'senior': 580,\n",
       " 'thus,': 581,\n",
       " 'injuries': 582,\n",
       " 'family': 583,\n",
       " 'committed': 584,\n",
       " 'principle': 585,\n",
       " 'done': 586,\n",
       " 'nothing': 587,\n",
       " 'form': 588,\n",
       " 'department': 589,\n",
       " '4.': 590,\n",
       " 'rent': 591,\n",
       " 'ltd.,': 592,\n",
       " '1.': 593,\n",
       " '34': 594,\n",
       " 'head': 595,\n",
       " 'noted': 596,\n",
       " '(air': 597,\n",
       " 'construction': 598,\n",
       " 'preferred': 599,\n",
       " 'certificate': 600,\n",
       " 'committee': 601,\n",
       " 'finding': 602,\n",
       " 'like': 603,\n",
       " 'private': 604,\n",
       " 'entered': 605,\n",
       " 'chand': 606,\n",
       " 'provides': 607,\n",
       " 'got': 608,\n",
       " 'sum': 609,\n",
       " 'particular': 610,\n",
       " 'proceeding': 611,\n",
       " 'argument': 612,\n",
       " 'last': 613,\n",
       " 'lord': 614,\n",
       " 'national': 615,\n",
       " 'settled': 616,\n",
       " 'valid': 617,\n",
       " 'assistant': 618,\n",
       " 'cheque': 619,\n",
       " 'members': 620,\n",
       " 'treated': 621,\n",
       " 'word': 622,\n",
       " 'light': 623,\n",
       " '226': 624,\n",
       " '(a)': 625,\n",
       " '\"': 626,\n",
       " 'towards': 627,\n",
       " 'statute': 628,\n",
       " 'obtained': 629,\n",
       " 'applicant': 630,\n",
       " 'magistrate,': 631,\n",
       " 'age': 632,\n",
       " 'm/s.': 633,\n",
       " 'council': 634,\n",
       " 'heard': 635,\n",
       " 'value': 636,\n",
       " 'connection': 637,\n",
       " 'appointed': 638,\n",
       " 'inspector': 639,\n",
       " 'denied': 640,\n",
       " 'outside': 641,\n",
       " 'drawn': 642,\n",
       " 'stage': 643,\n",
       " 'note': 644,\n",
       " 'follows:': 645,\n",
       " 'calcutta': 646,\n",
       " 'brother': 647,\n",
       " 'every': 648,\n",
       " 'see': 649,\n",
       " 'intention': 650,\n",
       " 'defence': 651,\n",
       " 'karnataka': 652,\n",
       " 'thereafter': 653,\n",
       " 'stand': 654,\n",
       " 'u/s': 655,\n",
       " 'near': 656,\n",
       " 'accident': 657,\n",
       " 'deed': 658,\n",
       " 'prove': 659,\n",
       " 'deputy': 660,\n",
       " 'followed': 661,\n",
       " '13': 662,\n",
       " 'context': 663,\n",
       " 'i.e.': 664,\n",
       " 'guilty': 665,\n",
       " 'called': 666,\n",
       " 'proviso': 667,\n",
       " 'lordships': 668,\n",
       " 'revision': 669,\n",
       " 'doubt': 670,\n",
       " 'sentence': 671,\n",
       " 'states': 672,\n",
       " 'mind': 673,\n",
       " 'appointment': 674,\n",
       " 'judges': 675,\n",
       " 'policy': 676,\n",
       " 'accused.': 677,\n",
       " 'road': 678,\n",
       " 'hearing': 679,\n",
       " 'tamil': 680,\n",
       " 'dealing': 681,\n",
       " 'go': 682,\n",
       " 'scope': 683,\n",
       " 'bail': 684,\n",
       " 'conditions': 685,\n",
       " 'proper': 686,\n",
       " '20': 687,\n",
       " 'west': 688,\n",
       " 'seeking': 689,\n",
       " '(c)': 690,\n",
       " 'filing': 691,\n",
       " 'them.': 692,\n",
       " 'relief': 693,\n",
       " 'legislative': 694,\n",
       " 'sales': 695,\n",
       " 'accordance': 696,\n",
       " 'so,': 697,\n",
       " 'etc.': 698,\n",
       " 'till': 699,\n",
       " 'need': 700,\n",
       " 'andhra': 701,\n",
       " 'aside': 702,\n",
       " 'code.': 703,\n",
       " 'competent': 704,\n",
       " 'fundamental': 705,\n",
       " 'day': 706,\n",
       " 'specific': 707,\n",
       " '16': 708,\n",
       " 'prepared': 709,\n",
       " 'under:': 710,\n",
       " 'authorities': 711,\n",
       " 'madhya': 712,\n",
       " 'executed': 713,\n",
       " 'hospital': 714,\n",
       " 'refer': 715,\n",
       " 'purposes': 716,\n",
       " 'decide': 717,\n",
       " 'raj': 718,\n",
       " 'matters': 719,\n",
       " 'seen': 720,\n",
       " 'sharma': 721,\n",
       " 'gujarat': 722,\n",
       " 'rules,': 723,\n",
       " 'ipc.': 724,\n",
       " 'excise': 725,\n",
       " '3.': 726,\n",
       " 'reached': 727,\n",
       " 'contrary': 728,\n",
       " 'rendered': 729,\n",
       " 'schedule': 730,\n",
       " 'firm': 731,\n",
       " 'devi': 732,\n",
       " 'limitation': 733,\n",
       " 'conviction': 734,\n",
       " 'covered': 735,\n",
       " 'validity': 736,\n",
       " 'acquisition': 737,\n",
       " 'chandra': 738,\n",
       " 'paragraph': 739,\n",
       " 'days': 740,\n",
       " 'work': 741,\n",
       " 'bihar': 742,\n",
       " 'thereafter,': 743,\n",
       " 'failed': 744,\n",
       " 'get': 745,\n",
       " 'appropriate': 746,\n",
       " 'review': 747,\n",
       " 'direction': 748,\n",
       " 'subsequent': 749,\n",
       " 'director': 750,\n",
       " 'namely': 751,\n",
       " 'how': 752,\n",
       " 'hand,': 753,\n",
       " 'delhi.': 754,\n",
       " 'is,': 755,\n",
       " 'purchase': 756,\n",
       " 'delay': 757,\n",
       " 'except': 758,\n",
       " 'entire': 759,\n",
       " 'say': 760,\n",
       " 'framed': 761,\n",
       " '2,': 762,\n",
       " 'absence': 763,\n",
       " 'art.': 764,\n",
       " 'applications': 765,\n",
       " 'unless': 766,\n",
       " 'husband': 767,\n",
       " 'hand': 768,\n",
       " 'pending': 769,\n",
       " '(4)': 770,\n",
       " 'supply': 771,\n",
       " '25': 772,\n",
       " 'gave': 773,\n",
       " 'claimant': 774,\n",
       " 'fixed': 775,\n",
       " 'cr.': 776,\n",
       " 'p.m.': 777,\n",
       " '(i)': 778,\n",
       " 'plaintiffs': 779,\n",
       " 'rate': 780,\n",
       " 'above,': 781,\n",
       " 'order,': 782,\n",
       " 'away': 783,\n",
       " 'personal': 784,\n",
       " 'declaration': 785,\n",
       " 'employees': 786,\n",
       " 'request': 787,\n",
       " 'presence': 788,\n",
       " 'coming': 789,\n",
       " '302': 790,\n",
       " 'prescribed': 791,\n",
       " 'driver': 792,\n",
       " 'permit': 793,\n",
       " 'condition': 794,\n",
       " 'still': 795,\n",
       " '(supra),': 796,\n",
       " 'opinion,': 797,\n",
       " 'submission': 798,\n",
       " 'interim': 799,\n",
       " 'april': 800,\n",
       " 'challenged': 801,\n",
       " 'nadu': 802,\n",
       " 'total': 803,\n",
       " 'convicted': 804,\n",
       " 'cbi': 805,\n",
       " 'amended': 806,\n",
       " 'expression': 807,\n",
       " 'conduct': 808,\n",
       " 'giving': 809,\n",
       " 'term': 810,\n",
       " 'no.2': 811,\n",
       " 'president': 812,\n",
       " 'enquiry': 813,\n",
       " 'beyond': 814,\n",
       " 'namely,': 815,\n",
       " '17': 816,\n",
       " 'shows': 817,\n",
       " 'lease': 818,\n",
       " 'whom': 819,\n",
       " '2008': 820,\n",
       " 'interpretation': 821,\n",
       " 'caused': 822,\n",
       " 'next': 823,\n",
       " 'benefit': 824,\n",
       " 'extent': 825,\n",
       " 'neither': 826,\n",
       " 'whole': 827,\n",
       " 'applied': 828,\n",
       " 'shown': 829,\n",
       " 'pvt.': 830,\n",
       " 'once': 831,\n",
       " '18': 832,\n",
       " 'cited': 833,\n",
       " 'december': 834,\n",
       " '2007': 835,\n",
       " 'g.': 836,\n",
       " 'investigating': 837,\n",
       " 'am': 838,\n",
       " 'officers': 839,\n",
       " '3,': 840,\n",
       " 'urged': 841,\n",
       " 'rao': 842,\n",
       " 'main': 843,\n",
       " 'bar': 844,\n",
       " 'means': 845,\n",
       " '2nd': 846,\n",
       " 'declared': 847,\n",
       " 'bengal': 848,\n",
       " 'provide': 849,\n",
       " 'allegations': 850,\n",
       " 'viz.,': 851,\n",
       " '19': 852,\n",
       " 'execution': 853,\n",
       " 'regards': 854,\n",
       " 'constituted': 855,\n",
       " ':-': 856,\n",
       " 'mills': 857,\n",
       " 'v': 858,\n",
       " 'it.': 859,\n",
       " '(hereinafter': 860,\n",
       " 'circumstances,': 861,\n",
       " '(ii)': 862,\n",
       " 'awarded': 863,\n",
       " 'patna': 864,\n",
       " 'secretary': 865,\n",
       " 'nath': 866,\n",
       " 'anr.': 867,\n",
       " 'instant': 868,\n",
       " 'development': 869,\n",
       " 'manner': 870,\n",
       " 'him,': 871,\n",
       " 'o.': 872,\n",
       " 'several': 873,\n",
       " 'charges': 874,\n",
       " 'railway': 875,\n",
       " 'asked': 876,\n",
       " 'properties': 877,\n",
       " 'hospital,': 878,\n",
       " 'become': 879,\n",
       " 'carried': 880,\n",
       " 'licence': 881,\n",
       " 'five': 882,\n",
       " 'pleaded': 883,\n",
       " 'kumar,': 884,\n",
       " 'finance': 885,\n",
       " 'gone': 886,\n",
       " 'minimum': 887,\n",
       " 'important': 888,\n",
       " 'murder': 889,\n",
       " 'municipal': 890,\n",
       " 'life': 891,\n",
       " 'definition': 892,\n",
       " 'issues': 893,\n",
       " 'bus': 894,\n",
       " 'side': 895,\n",
       " 'receipt': 896,\n",
       " 'university': 897,\n",
       " 'whose': 898,\n",
       " 'four': 899,\n",
       " 'separate': 900,\n",
       " 'apply': 901,\n",
       " '2009': 902,\n",
       " 'price': 903,\n",
       " 'appeared': 904,\n",
       " 'object': 905,\n",
       " 'conferred': 906,\n",
       " '22': 907,\n",
       " 'told': 908,\n",
       " 'going': 909,\n",
       " 'labour': 910,\n",
       " 'mere': 911,\n",
       " 'collector': 912,\n",
       " 'society': 913,\n",
       " 'judgments': 914,\n",
       " 'expressed': 915,\n",
       " 'evidence,': 916,\n",
       " 'informed': 917,\n",
       " 'appear': 918,\n",
       " 'dead': 919,\n",
       " '21': 920,\n",
       " 'specified': 921,\n",
       " 'here': 922,\n",
       " 'english': 923,\n",
       " '50': 924,\n",
       " 'enacted': 925,\n",
       " 'law,': 926,\n",
       " 'attention': 927,\n",
       " 'mysore': 928,\n",
       " 'august': 929,\n",
       " 'therein': 930,\n",
       " 'mean': 931,\n",
       " 'just': 932,\n",
       " 'july,': 933,\n",
       " 'gupta': 934,\n",
       " 'march,': 935,\n",
       " 'u.p.': 936,\n",
       " 'final': 937,\n",
       " 'opportunity': 938,\n",
       " 'never': 939,\n",
       " '27': 940,\n",
       " 'it,': 941,\n",
       " 'july': 942,\n",
       " 'inter': 943,\n",
       " 'foreign': 944,\n",
       " 'false': 945,\n",
       " 'administrative': 946,\n",
       " 'rejected': 947,\n",
       " 'college': 948,\n",
       " 'appellant.': 949,\n",
       " 'direct': 950,\n",
       " 'statements': 951,\n",
       " 'delivered': 952,\n",
       " 'was,': 953,\n",
       " 'april,': 954,\n",
       " 'i.e.,': 955,\n",
       " 'allahabad': 956,\n",
       " 'lj': 957,\n",
       " 'chapter': 958,\n",
       " 'september': 959,\n",
       " 'disputes': 960,\n",
       " 'tenant': 961,\n",
       " 'correct': 962,\n",
       " 'fresh': 963,\n",
       " 'cross': 964,\n",
       " 'old': 965,\n",
       " 'code,': 966,\n",
       " 'accused,': 967,\n",
       " 'lodged': 968,\n",
       " 'much': 969,\n",
       " 'december,': 970,\n",
       " 'arbitration': 971,\n",
       " 'know': 972,\n",
       " '1999': 973,\n",
       " 'why': 974,\n",
       " 'november': 975,\n",
       " 'jain': 976,\n",
       " 'incident': 977,\n",
       " 'i.p.c.': 978,\n",
       " 'situated': 979,\n",
       " 'arising': 980,\n",
       " 'industries': 981,\n",
       " 'plea': 982,\n",
       " 'constitutional': 983,\n",
       " 'minister': 984,\n",
       " 'intended': 985,\n",
       " 'conducted': 986,\n",
       " 'hence,': 987,\n",
       " 'imprisonment': 988,\n",
       " '2010': 989,\n",
       " 'may,': 990,\n",
       " 'sold': 991,\n",
       " 'management': 992,\n",
       " 'maharashtra': 993,\n",
       " 'six': 994,\n",
       " 's.c.r.': 995,\n",
       " 'agreed': 996,\n",
       " 'building': 997,\n",
       " 'injury': 998,\n",
       " 'joint': 999,\n",
       " 'carrying': 1000,\n",
       " ...}"
      ]
     },
     "execution_count": 15,
     "metadata": {},
     "output_type": "execute_result"
    }
   ],
   "source": [
    "weights = np.zeros((vocab_size, 300))\n",
    "mapping = toke.word_index \n",
    "mapping"
   ]
  },
  {
   "cell_type": "markdown",
   "id": "28fedd27",
   "metadata": {
    "papermill": {
     "duration": 0.016159,
     "end_time": "2024-03-11T16:54:34.702249",
     "exception": false,
     "start_time": "2024-03-11T16:54:34.686090",
     "status": "completed"
    },
    "tags": []
   },
   "source": [
    "Fetching weights from pre trained Word2Vec model (ATE)"
   ]
  },
  {
   "cell_type": "code",
   "execution_count": 16,
   "id": "d0f1e724",
   "metadata": {
    "execution": {
     "iopub.execute_input": "2024-03-11T16:54:34.738437Z",
     "iopub.status.busy": "2024-03-11T16:54:34.738081Z",
     "iopub.status.idle": "2024-03-11T16:55:09.370307Z",
     "shell.execute_reply": "2024-03-11T16:55:09.369062Z"
    },
    "papermill": {
     "duration": 34.652914,
     "end_time": "2024-03-11T16:55:09.372756",
     "exception": false,
     "start_time": "2024-03-11T16:54:34.719842",
     "status": "completed"
    },
    "tags": []
   },
   "outputs": [],
   "source": [
    "for word, index in mapping.items():\n",
    "    if word in emb:\n",
    "        weights[index:] = emb[word]"
   ]
  },
  {
   "cell_type": "code",
   "execution_count": 17,
   "id": "6d52c835",
   "metadata": {
    "execution": {
     "iopub.execute_input": "2024-03-11T16:55:09.409645Z",
     "iopub.status.busy": "2024-03-11T16:55:09.409275Z",
     "iopub.status.idle": "2024-03-11T16:55:09.416205Z",
     "shell.execute_reply": "2024-03-11T16:55:09.414411Z"
    },
    "papermill": {
     "duration": 0.029029,
     "end_time": "2024-03-11T16:55:09.418720",
     "exception": false,
     "start_time": "2024-03-11T16:55:09.389691",
     "status": "completed"
    },
    "tags": []
   },
   "outputs": [],
   "source": [
    "X_train= X_padded_train\n",
    "Y_train = Y_padded_train\n",
    "X_test = X_padded_test\n",
    "Y_test = Y_padded_test\n",
    "X_val = X_padded_val\n",
    "Y_val = Y_padded_val\n",
    "weights = weights\n",
    "word_token = toke\n",
    "tag_token = toke2"
   ]
  },
  {
   "cell_type": "code",
   "execution_count": 18,
   "id": "2d0a01d1",
   "metadata": {
    "execution": {
     "iopub.execute_input": "2024-03-11T16:55:09.459405Z",
     "iopub.status.busy": "2024-03-11T16:55:09.459015Z",
     "iopub.status.idle": "2024-03-11T16:55:09.464865Z",
     "shell.execute_reply": "2024-03-11T16:55:09.463366Z"
    },
    "papermill": {
     "duration": 0.028388,
     "end_time": "2024-03-11T16:55:09.466935",
     "exception": false,
     "start_time": "2024-03-11T16:55:09.438547",
     "status": "completed"
    },
    "tags": []
   },
   "outputs": [],
   "source": [
    "Y_shape= Y_padded_train.shape[2]"
   ]
  },
  {
   "cell_type": "markdown",
   "id": "9d41ee23",
   "metadata": {
    "papermill": {
     "duration": 0.016559,
     "end_time": "2024-03-11T16:55:09.500681",
     "exception": false,
     "start_time": "2024-03-11T16:55:09.484122",
     "status": "completed"
    },
    "tags": []
   },
   "source": [
    "# Models"
   ]
  },
  {
   "cell_type": "markdown",
   "id": "eb1ff9a8",
   "metadata": {
    "papermill": {
     "duration": 0.016383,
     "end_time": "2024-03-11T16:55:09.534246",
     "exception": false,
     "start_time": "2024-03-11T16:55:09.517863",
     "status": "completed"
    },
    "tags": []
   },
   "source": [
    "## RNN"
   ]
  },
  {
   "cell_type": "code",
   "execution_count": 19,
   "id": "2569db1f",
   "metadata": {
    "execution": {
     "iopub.execute_input": "2024-03-11T16:55:09.570072Z",
     "iopub.status.busy": "2024-03-11T16:55:09.569476Z",
     "iopub.status.idle": "2024-03-11T16:55:09.573850Z",
     "shell.execute_reply": "2024-03-11T16:55:09.572370Z"
    },
    "papermill": {
     "duration": 0.025558,
     "end_time": "2024-03-11T16:55:09.576476",
     "exception": false,
     "start_time": "2024-03-11T16:55:09.550918",
     "status": "completed"
    },
    "tags": []
   },
   "outputs": [],
   "source": [
    "model_name=\"RNN\""
   ]
  },
  {
   "cell_type": "markdown",
   "id": "df226aa9",
   "metadata": {
    "papermill": {
     "duration": 0.017692,
     "end_time": "2024-03-11T16:55:09.611718",
     "exception": false,
     "start_time": "2024-03-11T16:55:09.594026",
     "status": "completed"
    },
    "tags": []
   },
   "source": [
    "### Training"
   ]
  },
  {
   "cell_type": "code",
   "execution_count": 20,
   "id": "04752bf9",
   "metadata": {
    "execution": {
     "iopub.execute_input": "2024-03-11T16:55:09.649008Z",
     "iopub.status.busy": "2024-03-11T16:55:09.648594Z",
     "iopub.status.idle": "2024-03-11T16:55:09.659242Z",
     "shell.execute_reply": "2024-03-11T16:55:09.657749Z"
    },
    "papermill": {
     "duration": 0.031815,
     "end_time": "2024-03-11T16:55:09.661483",
     "exception": false,
     "start_time": "2024-03-11T16:55:09.629668",
     "status": "completed"
    },
    "tags": []
   },
   "outputs": [],
   "source": [
    "def rnn(vocab_size,max_len,weights,Y_shape):\n",
    "    rnn_model = Sequential()\n",
    "    rnn_model.add(Embedding(input_dim = vocab_size,output_dim = 300,input_length  = max_len,weights = [weights],trainable = False))\n",
    "    rnn_model.add(SimpleRNN(32, return_sequences=True))\n",
    "    rnn_model.add(TimeDistributed(Dense(Y_shape, activation='softmax')))\n",
    "    rnn_model.compile(loss='categorical_crossentropy',optimizer='adam',metrics=['acc',Precision(),Recall()])\n",
    "    return rnn_model"
   ]
  },
  {
   "cell_type": "code",
   "execution_count": 21,
   "id": "c0b6cffd",
   "metadata": {
    "execution": {
     "iopub.execute_input": "2024-03-11T16:55:09.699158Z",
     "iopub.status.busy": "2024-03-11T16:55:09.697868Z",
     "iopub.status.idle": "2024-03-11T16:55:10.391592Z",
     "shell.execute_reply": "2024-03-11T16:55:10.389929Z"
    },
    "papermill": {
     "duration": 0.715211,
     "end_time": "2024-03-11T16:55:10.394496",
     "exception": false,
     "start_time": "2024-03-11T16:55:09.679285",
     "status": "completed"
    },
    "tags": []
   },
   "outputs": [],
   "source": [
    "rnn_model=rnn(vocab_size,max_len,weights,Y_shape)"
   ]
  },
  {
   "cell_type": "markdown",
   "id": "af42f309",
   "metadata": {
    "papermill": {
     "duration": 0.019746,
     "end_time": "2024-03-11T16:55:10.432927",
     "exception": false,
     "start_time": "2024-03-11T16:55:10.413181",
     "status": "completed"
    },
    "tags": []
   },
   "source": [
    "Compiling the rnn Word2Vec Model"
   ]
  },
  {
   "cell_type": "code",
   "execution_count": null,
   "id": "1da3fc7e",
   "metadata": {
    "papermill": {
     "duration": 0.018698,
     "end_time": "2024-03-11T16:55:10.470761",
     "exception": false,
     "start_time": "2024-03-11T16:55:10.452063",
     "status": "completed"
    },
    "tags": []
   },
   "outputs": [],
   "source": []
  },
  {
   "cell_type": "code",
   "execution_count": 22,
   "id": "bd5630b2",
   "metadata": {
    "execution": {
     "iopub.execute_input": "2024-03-11T16:55:10.507547Z",
     "iopub.status.busy": "2024-03-11T16:55:10.507126Z",
     "iopub.status.idle": "2024-03-11T16:55:10.513488Z",
     "shell.execute_reply": "2024-03-11T16:55:10.512273Z"
    },
    "papermill": {
     "duration": 0.027027,
     "end_time": "2024-03-11T16:55:10.515659",
     "exception": false,
     "start_time": "2024-03-11T16:55:10.488632",
     "status": "completed"
    },
    "tags": []
   },
   "outputs": [],
   "source": [
    "rnn_f1_callback = F1ScoreCallback(val_data=(X_val, Y_val),data=(X_train, Y_train))\n"
   ]
  },
  {
   "cell_type": "code",
   "execution_count": 23,
   "id": "73abc8b5",
   "metadata": {
    "execution": {
     "iopub.execute_input": "2024-03-11T16:55:10.553109Z",
     "iopub.status.busy": "2024-03-11T16:55:10.552645Z",
     "iopub.status.idle": "2024-03-11T16:55:10.585559Z",
     "shell.execute_reply": "2024-03-11T16:55:10.584039Z"
    },
    "papermill": {
     "duration": 0.055475,
     "end_time": "2024-03-11T16:55:10.588600",
     "exception": false,
     "start_time": "2024-03-11T16:55:10.533125",
     "status": "completed"
    },
    "tags": []
   },
   "outputs": [
    {
     "name": "stdout",
     "output_type": "stream",
     "text": [
      "Model: \"sequential\"\n",
      "_________________________________________________________________\n",
      " Layer (type)                Output Shape              Param #   \n",
      "=================================================================\n",
      " embedding (Embedding)       (None, 70, 300)           9066000   \n",
      "                                                                 \n",
      " simple_rnn (SimpleRNN)      (None, 70, 32)            10656     \n",
      "                                                                 \n",
      " time_distributed (TimeDist  (None, 70, 28)            924       \n",
      " ributed)                                                        \n",
      "                                                                 \n",
      "=================================================================\n",
      "Total params: 9077580 (34.63 MB)\n",
      "Trainable params: 11580 (45.23 KB)\n",
      "Non-trainable params: 9066000 (34.58 MB)\n",
      "_________________________________________________________________\n"
     ]
    }
   ],
   "source": [
    "rnn_model.summary()"
   ]
  },
  {
   "cell_type": "markdown",
   "id": "f9a52206",
   "metadata": {
    "papermill": {
     "duration": 0.017486,
     "end_time": "2024-03-11T16:55:10.624854",
     "exception": false,
     "start_time": "2024-03-11T16:55:10.607368",
     "status": "completed"
    },
    "tags": []
   },
   "source": [
    "Fitting the rnn model"
   ]
  },
  {
   "cell_type": "code",
   "execution_count": 24,
   "id": "d110bbe6",
   "metadata": {
    "execution": {
     "iopub.execute_input": "2024-03-11T16:55:10.661823Z",
     "iopub.status.busy": "2024-03-11T16:55:10.661411Z",
     "iopub.status.idle": "2024-03-11T17:03:12.973991Z",
     "shell.execute_reply": "2024-03-11T17:03:12.972384Z"
    },
    "papermill": {
     "duration": 482.334424,
     "end_time": "2024-03-11T17:03:12.976799",
     "exception": false,
     "start_time": "2024-03-11T16:55:10.642375",
     "status": "completed"
    },
    "tags": []
   },
   "outputs": [
    {
     "name": "stdout",
     "output_type": "stream",
     "text": [
      "Epoch 1/20\n",
      "45/45 [==============================] - 0s 7ms/step\n",
      "251/251 [==============================] - 2s 7ms/step\n",
      "Val F1 Score: 0.06637395505394167 - Train F1 Score: 0.06659846776034646\n",
      "63/63 [==============================] - 26s 391ms/step - loss: 1.8911 - acc: 0.6763 - precision: 0.8841 - recall: 0.2317 - val_loss: 0.8721 - val_acc: 0.8981 - val_precision: 0.9036 - val_recall: 0.8036\n",
      "Epoch 2/20\n",
      "45/45 [==============================] - 0s 7ms/step\n",
      "251/251 [==============================] - 2s 8ms/step\n",
      "Val F1 Score: 0.06677064473873742 - Train F1 Score: 0.06695338646224551\n",
      "63/63 [==============================] - 24s 387ms/step - loss: 0.6743 - acc: 0.9031 - precision: 0.9077 - recall: 0.8439 - val_loss: 0.5856 - val_acc: 0.9032 - val_precision: 0.9057 - val_recall: 0.8585\n",
      "Epoch 3/20\n",
      "45/45 [==============================] - 0s 7ms/step\n",
      "251/251 [==============================] - 2s 7ms/step\n",
      "Val F1 Score: 0.06753004333845228 - Train F1 Score: 0.06815889720426108\n",
      "63/63 [==============================] - 24s 386ms/step - loss: 0.5415 - acc: 0.9090 - precision: 0.9171 - recall: 0.8643 - val_loss: 0.5099 - val_acc: 0.9097 - val_precision: 0.9226 - val_recall: 0.8764\n",
      "Epoch 4/20\n",
      "45/45 [==============================] - 0s 7ms/step\n",
      "251/251 [==============================] - 2s 7ms/step\n",
      "Val F1 Score: 0.07525703743927041 - Train F1 Score: 0.07678843688396837\n",
      "63/63 [==============================] - 24s 379ms/step - loss: 0.4819 - acc: 0.9167 - precision: 0.9322 - recall: 0.8776 - val_loss: 0.4637 - val_acc: 0.9167 - val_precision: 0.9339 - val_recall: 0.8784\n",
      "Epoch 5/20\n",
      "45/45 [==============================] - 0s 7ms/step\n",
      "251/251 [==============================] - 2s 7ms/step\n",
      "Val F1 Score: 0.07856569924891957 - Train F1 Score: 0.07951519964207465\n",
      "63/63 [==============================] - 23s 377ms/step - loss: 0.4474 - acc: 0.9200 - precision: 0.9407 - recall: 0.8773 - val_loss: 0.4364 - val_acc: 0.9200 - val_precision: 0.9396 - val_recall: 0.8801\n",
      "Epoch 6/20\n",
      "45/45 [==============================] - 0s 7ms/step\n",
      "251/251 [==============================] - 2s 7ms/step\n",
      "Val F1 Score: 0.08177840858130918 - Train F1 Score: 0.08214435673034114\n",
      "63/63 [==============================] - 24s 381ms/step - loss: 0.4256 - acc: 0.9207 - precision: 0.9445 - recall: 0.8797 - val_loss: 0.4180 - val_acc: 0.9222 - val_precision: 0.9454 - val_recall: 0.8945\n",
      "Epoch 7/20\n",
      "45/45 [==============================] - 0s 7ms/step\n",
      "251/251 [==============================] - 2s 7ms/step\n",
      "Val F1 Score: 0.08705758256359485 - Train F1 Score: 0.08839781724647869\n",
      "63/63 [==============================] - 24s 379ms/step - loss: 0.4072 - acc: 0.9227 - precision: 0.9488 - recall: 0.8916 - val_loss: 0.4011 - val_acc: 0.9232 - val_precision: 0.9487 - val_recall: 0.8933\n",
      "Epoch 8/20\n",
      "45/45 [==============================] - 0s 6ms/step\n",
      "251/251 [==============================] - 2s 7ms/step\n",
      "Val F1 Score: 0.1050126501391029 - Train F1 Score: 0.10424611893865778\n",
      "63/63 [==============================] - 23s 374ms/step - loss: 0.3920 - acc: 0.9245 - precision: 0.9513 - recall: 0.8916 - val_loss: 0.3890 - val_acc: 0.9251 - val_precision: 0.9480 - val_recall: 0.8941\n",
      "Epoch 9/20\n",
      "45/45 [==============================] - 0s 6ms/step\n",
      "251/251 [==============================] - 2s 7ms/step\n",
      "Val F1 Score: 0.11373321458769782 - Train F1 Score: 0.11402020262078852\n",
      "63/63 [==============================] - 24s 385ms/step - loss: 0.3782 - acc: 0.9264 - precision: 0.9524 - recall: 0.8927 - val_loss: 0.3781 - val_acc: 0.9269 - val_precision: 0.9480 - val_recall: 0.8964\n",
      "Epoch 10/20\n",
      "45/45 [==============================] - 0s 8ms/step\n",
      "251/251 [==============================] - 2s 8ms/step\n",
      "Val F1 Score: 0.12158353660117091 - Train F1 Score: 0.12181582787861216\n",
      "63/63 [==============================] - 26s 411ms/step - loss: 0.3659 - acc: 0.9281 - precision: 0.9535 - recall: 0.8946 - val_loss: 0.3675 - val_acc: 0.9279 - val_precision: 0.9482 - val_recall: 0.8994\n",
      "Epoch 11/20\n",
      "45/45 [==============================] - 0s 7ms/step\n",
      "251/251 [==============================] - 2s 7ms/step\n",
      "Val F1 Score: 0.14276822521686275 - Train F1 Score: 0.14043017732082202\n",
      "63/63 [==============================] - 23s 378ms/step - loss: 0.3538 - acc: 0.9299 - precision: 0.9542 - recall: 0.8974 - val_loss: 0.3546 - val_acc: 0.9300 - val_precision: 0.9510 - val_recall: 0.8999\n",
      "Epoch 12/20\n",
      "45/45 [==============================] - 0s 6ms/step\n",
      "251/251 [==============================] - 2s 7ms/step\n",
      "Val F1 Score: 0.1501873514595856 - Train F1 Score: 0.14911103581425927\n",
      "63/63 [==============================] - 24s 390ms/step - loss: 0.3435 - acc: 0.9313 - precision: 0.9552 - recall: 0.8988 - val_loss: 0.3464 - val_acc: 0.9307 - val_precision: 0.9501 - val_recall: 0.9020\n",
      "Epoch 13/20\n",
      "45/45 [==============================] - 0s 7ms/step\n",
      "251/251 [==============================] - 2s 8ms/step\n",
      "Val F1 Score: 0.15720813662756036 - Train F1 Score: 0.15675981163485356\n",
      "63/63 [==============================] - 24s 388ms/step - loss: 0.3332 - acc: 0.9325 - precision: 0.9562 - recall: 0.9002 - val_loss: 0.3369 - val_acc: 0.9316 - val_precision: 0.9526 - val_recall: 0.9019\n",
      "Epoch 14/20\n",
      "45/45 [==============================] - 0s 8ms/step\n",
      "251/251 [==============================] - 2s 7ms/step\n",
      "Val F1 Score: 0.16285404554624902 - Train F1 Score: 0.16534076277963397\n",
      "63/63 [==============================] - 24s 388ms/step - loss: 0.3240 - acc: 0.9334 - precision: 0.9567 - recall: 0.9023 - val_loss: 0.3286 - val_acc: 0.9321 - val_precision: 0.9547 - val_recall: 0.9028\n",
      "Epoch 15/20\n",
      "45/45 [==============================] - 0s 7ms/step\n",
      "251/251 [==============================] - 2s 7ms/step\n",
      "Val F1 Score: 0.17548827075829962 - Train F1 Score: 0.17683826044400444\n",
      "63/63 [==============================] - 25s 402ms/step - loss: 0.3159 - acc: 0.9343 - precision: 0.9576 - recall: 0.9038 - val_loss: 0.3210 - val_acc: 0.9329 - val_precision: 0.9550 - val_recall: 0.9046\n",
      "Epoch 16/20\n",
      "45/45 [==============================] - 0s 8ms/step\n",
      "251/251 [==============================] - 2s 7ms/step\n",
      "Val F1 Score: 0.18293661323171923 - Train F1 Score: 0.18504995795818585\n",
      "63/63 [==============================] - 24s 392ms/step - loss: 0.3082 - acc: 0.9353 - precision: 0.9582 - recall: 0.9052 - val_loss: 0.3156 - val_acc: 0.9331 - val_precision: 0.9532 - val_recall: 0.9066\n",
      "Epoch 17/20\n",
      "45/45 [==============================] - 0s 7ms/step\n",
      "251/251 [==============================] - 2s 7ms/step\n",
      "Val F1 Score: 0.18812993325556235 - Train F1 Score: 0.1933844317987527\n",
      "63/63 [==============================] - 24s 383ms/step - loss: 0.3014 - acc: 0.9360 - precision: 0.9584 - recall: 0.9062 - val_loss: 0.3098 - val_acc: 0.9333 - val_precision: 0.9548 - val_recall: 0.9057\n",
      "Epoch 18/20\n",
      "45/45 [==============================] - 0s 7ms/step\n",
      "251/251 [==============================] - 2s 7ms/step\n",
      "Val F1 Score: 0.2030929041289332 - Train F1 Score: 0.20483551952779058\n",
      "63/63 [==============================] - 24s 392ms/step - loss: 0.2948 - acc: 0.9368 - precision: 0.9591 - recall: 0.9107 - val_loss: 0.3019 - val_acc: 0.9346 - val_precision: 0.9583 - val_recall: 0.9192\n",
      "Epoch 19/20\n",
      "45/45 [==============================] - 0s 7ms/step\n",
      "251/251 [==============================] - 2s 7ms/step\n",
      "Val F1 Score: 0.20691047650265063 - Train F1 Score: 0.21182526129678794\n",
      "63/63 [==============================] - 24s 392ms/step - loss: 0.2887 - acc: 0.9374 - precision: 0.9599 - recall: 0.9220 - val_loss: 0.2998 - val_acc: 0.9343 - val_precision: 0.9572 - val_recall: 0.9197\n",
      "Epoch 20/20\n",
      "45/45 [==============================] - 0s 7ms/step\n",
      "251/251 [==============================] - 2s 7ms/step\n",
      "Val F1 Score: 0.217896256093248 - Train F1 Score: 0.22205752884004007\n",
      "63/63 [==============================] - 24s 386ms/step - loss: 0.2829 - acc: 0.9382 - precision: 0.9601 - recall: 0.9229 - val_loss: 0.2916 - val_acc: 0.9357 - val_precision: 0.9575 - val_recall: 0.9212\n"
     ]
    }
   ],
   "source": [
    "rnn_training = rnn_model.fit(X_train, Y_train, batch_size=128, epochs=20, validation_data=(X_val, Y_val), callbacks=[rnn_f1_callback])"
   ]
  },
  {
   "cell_type": "markdown",
   "id": "924c52e0",
   "metadata": {
    "papermill": {
     "duration": 0.108607,
     "end_time": "2024-03-11T17:03:13.195910",
     "exception": false,
     "start_time": "2024-03-11T17:03:13.087303",
     "status": "completed"
    },
    "tags": []
   },
   "source": [
    "Plotting the graph"
   ]
  },
  {
   "cell_type": "code",
   "execution_count": 25,
   "id": "1195b0a5",
   "metadata": {
    "execution": {
     "iopub.execute_input": "2024-03-11T17:03:13.420790Z",
     "iopub.status.busy": "2024-03-11T17:03:13.420370Z",
     "iopub.status.idle": "2024-03-11T17:03:14.053521Z",
     "shell.execute_reply": "2024-03-11T17:03:14.051805Z"
    },
    "papermill": {
     "duration": 0.748726,
     "end_time": "2024-03-11T17:03:14.056032",
     "exception": false,
     "start_time": "2024-03-11T17:03:13.307306",
     "status": "completed"
    },
    "tags": []
   },
   "outputs": [
    {
     "data": {
      "image/png": "[encoded data removed]",
      "text/plain": [
       "<Figure size 1600x500 with 2 Axes>"
      ]
     },
     "metadata": {},
     "output_type": "display_data"
    }
   ],
   "source": [
    "draw_loss_graph(rnn_training,model_name, rnn_f1_callback.train_f1_scores, rnn_f1_callback.val_f1_scores)\n",
    "save_model(rnn_model,model_name,Embedding_name,Dataset)"
   ]
  },
  {
   "cell_type": "markdown",
   "id": "9e489c82",
   "metadata": {
    "papermill": {
     "duration": 0.118373,
     "end_time": "2024-03-11T17:03:14.292361",
     "exception": false,
     "start_time": "2024-03-11T17:03:14.173988",
     "status": "completed"
    },
    "tags": []
   },
   "source": [
    "### Testing"
   ]
  },
  {
   "cell_type": "code",
   "execution_count": 26,
   "id": "376750b9",
   "metadata": {
    "execution": {
     "iopub.execute_input": "2024-03-11T17:03:14.516523Z",
     "iopub.status.busy": "2024-03-11T17:03:14.515572Z",
     "iopub.status.idle": "2024-03-11T17:03:14.750602Z",
     "shell.execute_reply": "2024-03-11T17:03:14.748937Z"
    },
    "papermill": {
     "duration": 0.351897,
     "end_time": "2024-03-11T17:03:14.753061",
     "exception": false,
     "start_time": "2024-03-11T17:03:14.401164",
     "status": "completed"
    },
    "tags": []
   },
   "outputs": [],
   "source": [
    "loaded_model = rnn(vocab_size,max_len,weights,Y_shape)\n",
    "params=load_model(model_name,Embedding_name,Dataset)\n",
    "loaded_model.set_weights(params)"
   ]
  },
  {
   "cell_type": "markdown",
   "id": "08d25ca1",
   "metadata": {
    "papermill": {
     "duration": 0.111642,
     "end_time": "2024-03-11T17:03:14.980313",
     "exception": false,
     "start_time": "2024-03-11T17:03:14.868671",
     "status": "completed"
    },
    "tags": []
   },
   "source": [
    "Testing accuracy"
   ]
  },
  {
   "cell_type": "code",
   "execution_count": 27,
   "id": "72aab64d",
   "metadata": {
    "execution": {
     "iopub.execute_input": "2024-03-11T17:03:15.210636Z",
     "iopub.status.busy": "2024-03-11T17:03:15.209996Z",
     "iopub.status.idle": "2024-03-11T17:03:16.338536Z",
     "shell.execute_reply": "2024-03-11T17:03:16.337616Z"
    },
    "papermill": {
     "duration": 1.246477,
     "end_time": "2024-03-11T17:03:16.340273",
     "exception": false,
     "start_time": "2024-03-11T17:03:15.093796",
     "status": "completed"
    },
    "tags": []
   },
   "outputs": [
    {
     "name": "stdout",
     "output_type": "stream",
     "text": [
      "30/30 [==============================] - 1s 8ms/step - loss: 0.3271 - acc: 0.9281 - precision_1: 0.9495 - recall_1: 0.9121\n",
      "0.9280596375465393\n"
     ]
    }
   ],
   "source": [
    "accuracy = loaded_model.evaluate(X_test, Y_test, verbose = 1)\n",
    "print(accuracy[1])"
   ]
  },
  {
   "cell_type": "markdown",
   "id": "076ec7e0",
   "metadata": {
    "papermill": {
     "duration": 0.117525,
     "end_time": "2024-03-11T17:03:16.567193",
     "exception": false,
     "start_time": "2024-03-11T17:03:16.449668",
     "status": "completed"
    },
    "tags": []
   },
   "source": [
    "Testing F1 Score"
   ]
  },
  {
   "cell_type": "code",
   "execution_count": 28,
   "id": "d5eb70b1",
   "metadata": {
    "execution": {
     "iopub.execute_input": "2024-03-11T17:03:16.792558Z",
     "iopub.status.busy": "2024-03-11T17:03:16.791898Z",
     "iopub.status.idle": "2024-03-11T17:03:19.137518Z",
     "shell.execute_reply": "2024-03-11T17:03:19.136280Z"
    },
    "papermill": {
     "duration": 2.459405,
     "end_time": "2024-03-11T17:03:19.140149",
     "exception": false,
     "start_time": "2024-03-11T17:03:16.680744",
     "status": "completed"
    },
    "tags": []
   },
   "outputs": [
    {
     "name": "stdout",
     "output_type": "stream",
     "text": [
      "30/30 [==============================] - 0s 7ms/step\n",
      "Test F1 Score: 0.21580725181495963\n"
     ]
    }
   ],
   "source": [
    "Y_pred = loaded_model.predict(X_test)\n",
    "real = get_real(Y_test)\n",
    "pred = get_pred(Y_pred)\n",
    "\n",
    "true_labels_flat = [label for sublist in real for label in sublist]\n",
    "predicted_labels_flat = [label for sublist in pred for label in sublist]\n",
    "\n",
    "# Compute F1 score\n",
    "f1 = f1_score(true_labels_flat, predicted_labels_flat, average='macro')\n",
    "\n",
    "print(\"Test F1 Score:\", f1)"
   ]
  },
  {
   "cell_type": "markdown",
   "id": "73cd7c1d",
   "metadata": {
    "papermill": {
     "duration": 0.109398,
     "end_time": "2024-03-11T17:03:19.364908",
     "exception": false,
     "start_time": "2024-03-11T17:03:19.255510",
     "status": "completed"
    },
    "tags": []
   },
   "source": [
    "## GRU"
   ]
  },
  {
   "cell_type": "code",
   "execution_count": 29,
   "id": "b3c92372",
   "metadata": {
    "execution": {
     "iopub.execute_input": "2024-03-11T17:03:19.591097Z",
     "iopub.status.busy": "2024-03-11T17:03:19.590694Z",
     "iopub.status.idle": "2024-03-11T17:03:19.596580Z",
     "shell.execute_reply": "2024-03-11T17:03:19.594696Z"
    },
    "papermill": {
     "duration": 0.122664,
     "end_time": "2024-03-11T17:03:19.599334",
     "exception": false,
     "start_time": "2024-03-11T17:03:19.476670",
     "status": "completed"
    },
    "tags": []
   },
   "outputs": [],
   "source": [
    "model_name=\"GRU\""
   ]
  },
  {
   "cell_type": "markdown",
   "id": "1a347ece",
   "metadata": {
    "papermill": {
     "duration": 0.114289,
     "end_time": "2024-03-11T17:03:19.882598",
     "exception": false,
     "start_time": "2024-03-11T17:03:19.768309",
     "status": "completed"
    },
    "tags": []
   },
   "source": [
    "### Training"
   ]
  },
  {
   "cell_type": "code",
   "execution_count": 30,
   "id": "a69c19e6",
   "metadata": {
    "execution": {
     "iopub.execute_input": "2024-03-11T17:03:20.109330Z",
     "iopub.status.busy": "2024-03-11T17:03:20.108989Z",
     "iopub.status.idle": "2024-03-11T17:03:20.116494Z",
     "shell.execute_reply": "2024-03-11T17:03:20.114783Z"
    },
    "papermill": {
     "duration": 0.122683,
     "end_time": "2024-03-11T17:03:20.119323",
     "exception": false,
     "start_time": "2024-03-11T17:03:19.996640",
     "status": "completed"
    },
    "tags": []
   },
   "outputs": [],
   "source": [
    "def gru(vocab_size,max_len,weights,Y_train_shape):\n",
    "    gru_model = Sequential()\n",
    "    gru_model.add(Embedding(input_dim = vocab_size,output_dim = 300,input_length  = max_len,weights = [weights],trainable = False))\n",
    "    gru_model.add(GRU(64, return_sequences=True))\n",
    "    gru_model.add(TimeDistributed(Dense(Y_train_shape, activation='softmax')))\n",
    "    gru_model.compile(loss='categorical_crossentropy',optimizer='adam',metrics=['acc',Precision(),Recall()])\n",
    "    return gru_model"
   ]
  },
  {
   "cell_type": "markdown",
   "id": "cf2aa25a",
   "metadata": {
    "papermill": {
     "duration": 0.109913,
     "end_time": "2024-03-11T17:03:20.339517",
     "exception": false,
     "start_time": "2024-03-11T17:03:20.229604",
     "status": "completed"
    },
    "tags": []
   },
   "source": [
    "compiling "
   ]
  },
  {
   "cell_type": "code",
   "execution_count": 31,
   "id": "d9ae590f",
   "metadata": {
    "execution": {
     "iopub.execute_input": "2024-03-11T17:03:20.561570Z",
     "iopub.status.busy": "2024-03-11T17:03:20.561224Z",
     "iopub.status.idle": "2024-03-11T17:03:20.960652Z",
     "shell.execute_reply": "2024-03-11T17:03:20.959247Z"
    },
    "papermill": {
     "duration": 0.513731,
     "end_time": "2024-03-11T17:03:20.963482",
     "exception": false,
     "start_time": "2024-03-11T17:03:20.449751",
     "status": "completed"
    },
    "tags": []
   },
   "outputs": [],
   "source": [
    "gru_model=gru(vocab_size,max_len,weights,Y_shape)"
   ]
  },
  {
   "cell_type": "code",
   "execution_count": null,
   "id": "17db1a38",
   "metadata": {
    "execution": {
     "iopub.execute_input": "2024-03-11T16:45:04.930253Z",
     "iopub.status.busy": "2024-03-11T16:45:04.929684Z",
     "iopub.status.idle": "2024-03-11T16:45:04.947151Z",
     "shell.execute_reply": "2024-03-11T16:45:04.944967Z",
     "shell.execute_reply.started": "2024-03-11T16:45:04.930217Z"
    },
    "papermill": {
     "duration": 0.113137,
     "end_time": "2024-03-11T17:03:21.188496",
     "exception": false,
     "start_time": "2024-03-11T17:03:21.075359",
     "status": "completed"
    },
    "tags": []
   },
   "outputs": [],
   "source": []
  },
  {
   "cell_type": "code",
   "execution_count": 32,
   "id": "7f680f8a",
   "metadata": {
    "execution": {
     "iopub.execute_input": "2024-03-11T17:03:21.413255Z",
     "iopub.status.busy": "2024-03-11T17:03:21.412692Z",
     "iopub.status.idle": "2024-03-11T17:03:21.417079Z",
     "shell.execute_reply": "2024-03-11T17:03:21.416220Z"
    },
    "papermill": {
     "duration": 0.119622,
     "end_time": "2024-03-11T17:03:21.419766",
     "exception": false,
     "start_time": "2024-03-11T17:03:21.300144",
     "status": "completed"
    },
    "tags": []
   },
   "outputs": [],
   "source": [
    "gru_f1_callback = F1ScoreCallback(val_data=(X_val, Y_val),data=(X_train, Y_train))"
   ]
  },
  {
   "cell_type": "code",
   "execution_count": 33,
   "id": "01617a46",
   "metadata": {
    "execution": {
     "iopub.execute_input": "2024-03-11T17:03:21.649750Z",
     "iopub.status.busy": "2024-03-11T17:03:21.649327Z",
     "iopub.status.idle": "2024-03-11T17:03:21.666533Z",
     "shell.execute_reply": "2024-03-11T17:03:21.665364Z"
    },
    "papermill": {
     "duration": 0.131929,
     "end_time": "2024-03-11T17:03:21.668770",
     "exception": false,
     "start_time": "2024-03-11T17:03:21.536841",
     "status": "completed"
    },
    "tags": []
   },
   "outputs": [
    {
     "name": "stdout",
     "output_type": "stream",
     "text": [
      "Model: \"sequential_2\"\n",
      "_________________________________________________________________\n",
      " Layer (type)                Output Shape              Param #   \n",
      "=================================================================\n",
      " embedding_2 (Embedding)     (None, 70, 300)           9066000   \n",
      "                                                                 \n",
      " gru (GRU)                   (None, 70, 64)            70272     \n",
      "                                                                 \n",
      " time_distributed_2 (TimeDi  (None, 70, 28)            1820      \n",
      " stributed)                                                      \n",
      "                                                                 \n",
      "=================================================================\n",
      "Total params: 9138092 (34.86 MB)\n",
      "Trainable params: 72092 (281.61 KB)\n",
      "Non-trainable params: 9066000 (34.58 MB)\n",
      "_________________________________________________________________\n"
     ]
    }
   ],
   "source": [
    "gru_model.summary()"
   ]
  },
  {
   "cell_type": "markdown",
   "id": "b37ecaa0",
   "metadata": {
    "papermill": {
     "duration": 0.124861,
     "end_time": "2024-03-11T17:03:21.906064",
     "exception": false,
     "start_time": "2024-03-11T17:03:21.781203",
     "status": "completed"
    },
    "tags": []
   },
   "source": [
    "Fitting GRU"
   ]
  },
  {
   "cell_type": "code",
   "execution_count": 34,
   "id": "e6a9ae56",
   "metadata": {
    "execution": {
     "iopub.execute_input": "2024-03-11T17:03:22.153159Z",
     "iopub.status.busy": "2024-03-11T17:03:22.152718Z",
     "iopub.status.idle": "2024-03-11T17:13:07.333016Z",
     "shell.execute_reply": "2024-03-11T17:13:07.331868Z"
    },
    "papermill": {
     "duration": 585.58314,
     "end_time": "2024-03-11T17:13:07.606039",
     "exception": false,
     "start_time": "2024-03-11T17:03:22.022899",
     "status": "completed"
    },
    "tags": []
   },
   "outputs": [
    {
     "name": "stdout",
     "output_type": "stream",
     "text": [
      "Epoch 1/20\n",
      "45/45 [==============================] - 1s 12ms/step\n",
      "251/251 [==============================] - 3s 13ms/step\n",
      "Val F1 Score: 0.06809227718072981 - Train F1 Score: 0.06854142560419745\n",
      "63/63 [==============================] - 31s 470ms/step - loss: 1.7146 - acc: 0.8091 - precision_2: 0.8885 - recall_2: 0.4418 - val_loss: 0.6225 - val_acc: 0.9028 - val_precision_2: 0.9087 - val_recall_2: 0.8274\n",
      "Epoch 2/20\n",
      "45/45 [==============================] - 1s 13ms/step\n",
      "251/251 [==============================] - 3s 13ms/step\n",
      "Val F1 Score: 0.08119492365453726 - Train F1 Score: 0.0810659892606255\n",
      "63/63 [==============================] - 29s 464ms/step - loss: 0.5175 - acc: 0.9156 - precision_2: 0.9299 - recall_2: 0.8523 - val_loss: 0.4640 - val_acc: 0.9194 - val_precision_2: 0.9377 - val_recall_2: 0.8632\n",
      "Epoch 3/20\n",
      "45/45 [==============================] - 1s 12ms/step\n",
      "251/251 [==============================] - 3s 12ms/step\n",
      "Val F1 Score: 0.11186872446690342 - Train F1 Score: 0.1116597044022348\n",
      "63/63 [==============================] - 28s 453ms/step - loss: 0.4299 - acc: 0.9247 - precision_2: 0.9426 - recall_2: 0.8792 - val_loss: 0.4031 - val_acc: 0.9269 - val_precision_2: 0.9469 - val_recall_2: 0.8823\n",
      "Epoch 4/20\n",
      "45/45 [==============================] - 1s 12ms/step\n",
      "251/251 [==============================] - 3s 12ms/step\n",
      "Val F1 Score: 0.14303477943866785 - Train F1 Score: 0.14020899103953757\n",
      "63/63 [==============================] - 28s 452ms/step - loss: 0.3830 - acc: 0.9292 - precision_2: 0.9476 - recall_2: 0.8859 - val_loss: 0.3678 - val_acc: 0.9300 - val_precision_2: 0.9498 - val_recall_2: 0.9004\n",
      "Epoch 5/20\n",
      "45/45 [==============================] - 1s 12ms/step\n",
      "251/251 [==============================] - 3s 12ms/step\n",
      "Val F1 Score: 0.17931144131141113 - Train F1 Score: 0.17580158221326533\n",
      "63/63 [==============================] - 28s 451ms/step - loss: 0.3519 - acc: 0.9323 - precision_2: 0.9514 - recall_2: 0.9022 - val_loss: 0.3416 - val_acc: 0.9327 - val_precision_2: 0.9516 - val_recall_2: 0.9040\n",
      "Epoch 6/20\n",
      "45/45 [==============================] - 1s 14ms/step\n",
      "251/251 [==============================] - 4s 14ms/step\n",
      "Val F1 Score: 0.20107646427402814 - Train F1 Score: 0.1981349276549075\n",
      "63/63 [==============================] - 31s 505ms/step - loss: 0.3280 - acc: 0.9346 - precision_2: 0.9532 - recall_2: 0.9058 - val_loss: 0.3211 - val_acc: 0.9344 - val_precision_2: 0.9530 - val_recall_2: 0.9070\n",
      "Epoch 7/20\n",
      "45/45 [==============================] - 1s 14ms/step\n",
      "251/251 [==============================] - 3s 13ms/step\n",
      "Val F1 Score: 0.22050460790302281 - Train F1 Score: 0.22169094933873476\n",
      "63/63 [==============================] - 31s 494ms/step - loss: 0.3085 - acc: 0.9361 - precision_2: 0.9550 - recall_2: 0.9081 - val_loss: 0.3044 - val_acc: 0.9363 - val_precision_2: 0.9555 - val_recall_2: 0.9076\n",
      "Epoch 8/20\n",
      "45/45 [==============================] - 1s 13ms/step\n",
      "251/251 [==============================] - 3s 12ms/step\n",
      "Val F1 Score: 0.23957911835341997 - Train F1 Score: 0.24331385471275996\n",
      "63/63 [==============================] - 29s 461ms/step - loss: 0.2919 - acc: 0.9383 - precision_2: 0.9571 - recall_2: 0.9096 - val_loss: 0.2901 - val_acc: 0.9379 - val_precision_2: 0.9562 - val_recall_2: 0.9101\n",
      "Epoch 9/20\n",
      "45/45 [==============================] - 1s 13ms/step\n",
      "251/251 [==============================] - 3s 13ms/step\n",
      "Val F1 Score: 0.25425555728426036 - Train F1 Score: 0.2586725589653872\n",
      "63/63 [==============================] - 28s 454ms/step - loss: 0.2774 - acc: 0.9400 - precision_2: 0.9583 - recall_2: 0.9114 - val_loss: 0.2804 - val_acc: 0.9389 - val_precision_2: 0.9551 - val_recall_2: 0.9132\n",
      "Epoch 10/20\n",
      "45/45 [==============================] - 1s 12ms/step\n",
      "251/251 [==============================] - 3s 12ms/step\n",
      "Val F1 Score: 0.27047238878116225 - Train F1 Score: 0.27533722936095056\n",
      "63/63 [==============================] - 29s 468ms/step - loss: 0.2650 - acc: 0.9417 - precision_2: 0.9592 - recall_2: 0.9132 - val_loss: 0.2678 - val_acc: 0.9407 - val_precision_2: 0.9561 - val_recall_2: 0.9151\n",
      "Epoch 11/20\n",
      "45/45 [==============================] - 1s 12ms/step\n",
      "251/251 [==============================] - 3s 13ms/step\n",
      "Val F1 Score: 0.2844040829905353 - Train F1 Score: 0.2918661715613746\n",
      "63/63 [==============================] - 29s 464ms/step - loss: 0.2533 - acc: 0.9429 - precision_2: 0.9604 - recall_2: 0.9190 - val_loss: 0.2597 - val_acc: 0.9419 - val_precision_2: 0.9579 - val_recall_2: 0.9297\n",
      "Epoch 12/20\n",
      "45/45 [==============================] - 1s 12ms/step\n",
      "251/251 [==============================] - 3s 12ms/step\n",
      "Val F1 Score: 0.2981338285731904 - Train F1 Score: 0.3073157973648888\n",
      "63/63 [==============================] - 28s 454ms/step - loss: 0.2435 - acc: 0.9442 - precision_2: 0.9617 - recall_2: 0.9308 - val_loss: 0.2510 - val_acc: 0.9430 - val_precision_2: 0.9587 - val_recall_2: 0.9310\n",
      "Epoch 13/20\n",
      "45/45 [==============================] - 1s 14ms/step\n",
      "251/251 [==============================] - 3s 14ms/step\n",
      "Val F1 Score: 0.30528245169059337 - Train F1 Score: 0.3178440081685062\n",
      "63/63 [==============================] - 30s 485ms/step - loss: 0.2349 - acc: 0.9454 - precision_2: 0.9627 - recall_2: 0.9322 - val_loss: 0.2478 - val_acc: 0.9432 - val_precision_2: 0.9577 - val_recall_2: 0.9328\n",
      "Epoch 14/20\n",
      "45/45 [==============================] - 1s 13ms/step\n",
      "251/251 [==============================] - 3s 13ms/step\n",
      "Val F1 Score: 0.31598465548141863 - Train F1 Score: 0.33327052428590104\n",
      "63/63 [==============================] - 30s 482ms/step - loss: 0.2270 - acc: 0.9465 - precision_2: 0.9634 - recall_2: 0.9339 - val_loss: 0.2413 - val_acc: 0.9443 - val_precision_2: 0.9597 - val_recall_2: 0.9327\n",
      "Epoch 15/20\n",
      "45/45 [==============================] - 1s 13ms/step\n",
      "251/251 [==============================] - 3s 13ms/step\n",
      "Val F1 Score: 0.3217644216042267 - Train F1 Score: 0.3391158030246175\n",
      "63/63 [==============================] - 29s 462ms/step - loss: 0.2204 - acc: 0.9474 - precision_2: 0.9643 - recall_2: 0.9353 - val_loss: 0.2380 - val_acc: 0.9444 - val_precision_2: 0.9584 - val_recall_2: 0.9348\n",
      "Epoch 16/20\n",
      "45/45 [==============================] - 1s 13ms/step\n",
      "251/251 [==============================] - 3s 13ms/step\n",
      "Val F1 Score: 0.3288610302127464 - Train F1 Score: 0.35198285462085355\n",
      "63/63 [==============================] - 31s 497ms/step - loss: 0.2144 - acc: 0.9485 - precision_2: 0.9647 - recall_2: 0.9367 - val_loss: 0.2331 - val_acc: 0.9452 - val_precision_2: 0.9588 - val_recall_2: 0.9355\n",
      "Epoch 17/20\n",
      "45/45 [==============================] - 1s 14ms/step\n",
      "251/251 [==============================] - 3s 12ms/step\n",
      "Val F1 Score: 0.3378324823894404 - Train F1 Score: 0.36266945779606835\n",
      "63/63 [==============================] - 30s 490ms/step - loss: 0.2092 - acc: 0.9494 - precision_2: 0.9652 - recall_2: 0.9380 - val_loss: 0.2316 - val_acc: 0.9454 - val_precision_2: 0.9584 - val_recall_2: 0.9358\n",
      "Epoch 18/20\n",
      "45/45 [==============================] - 1s 15ms/step\n",
      "251/251 [==============================] - 3s 13ms/step\n",
      "Val F1 Score: 0.34154705858553636 - Train F1 Score: 0.36958137043246675\n",
      "63/63 [==============================] - 29s 463ms/step - loss: 0.2045 - acc: 0.9503 - precision_2: 0.9659 - recall_2: 0.9389 - val_loss: 0.2282 - val_acc: 0.9459 - val_precision_2: 0.9584 - val_recall_2: 0.9370\n",
      "Epoch 19/20\n",
      "45/45 [==============================] - 1s 12ms/step\n",
      "251/251 [==============================] - 3s 12ms/step\n",
      "Val F1 Score: 0.36426753349428925 - Train F1 Score: 0.39126858410295645\n",
      "63/63 [==============================] - 28s 454ms/step - loss: 0.2002 - acc: 0.9513 - precision_2: 0.9663 - recall_2: 0.9403 - val_loss: 0.2244 - val_acc: 0.9468 - val_precision_2: 0.9604 - val_recall_2: 0.9363\n",
      "Epoch 20/20\n",
      "45/45 [==============================] - 1s 12ms/step\n",
      "251/251 [==============================] - 3s 12ms/step\n",
      "Val F1 Score: 0.3633984950412456 - Train F1 Score: 0.3971075564099724\n",
      "63/63 [==============================] - 28s 457ms/step - loss: 0.1963 - acc: 0.9520 - precision_2: 0.9668 - recall_2: 0.9411 - val_loss: 0.2206 - val_acc: 0.9476 - val_precision_2: 0.9606 - val_recall_2: 0.9379\n"
     ]
    }
   ],
   "source": [
    "gru_training = gru_model.fit(X_train, Y_train, batch_size=128, epochs=20, validation_data=(X_val, Y_val), callbacks=[gru_f1_callback])"
   ]
  },
  {
   "cell_type": "markdown",
   "id": "e0704e95",
   "metadata": {
    "papermill": {
     "duration": 0.27828,
     "end_time": "2024-03-11T17:13:08.238893",
     "exception": false,
     "start_time": "2024-03-11T17:13:07.960613",
     "status": "completed"
    },
    "tags": []
   },
   "source": [
    "Plotting Graph"
   ]
  },
  {
   "cell_type": "code",
   "execution_count": 35,
   "id": "9115a8bc",
   "metadata": {
    "execution": {
     "iopub.execute_input": "2024-03-11T17:13:08.794598Z",
     "iopub.status.busy": "2024-03-11T17:13:08.793834Z",
     "iopub.status.idle": "2024-03-11T17:13:09.333651Z",
     "shell.execute_reply": "2024-03-11T17:13:09.332120Z"
    },
    "papermill": {
     "duration": 0.822202,
     "end_time": "2024-03-11T17:13:09.336333",
     "exception": false,
     "start_time": "2024-03-11T17:13:08.514131",
     "status": "completed"
    },
    "tags": []
   },
   "outputs": [
    {
     "data": {
      "image/png": "[encoded data removed]",
      "text/plain": [
       "<Figure size 1600x500 with 2 Axes>"
      ]
     },
     "metadata": {},
     "output_type": "display_data"
    }
   ],
   "source": [
    "draw_loss_graph(gru_training,model_name, gru_f1_callback.train_f1_scores, gru_f1_callback.val_f1_scores)\n",
    "save_model(gru_model,model_name,Embedding_name,Dataset)"
   ]
  },
  {
   "cell_type": "markdown",
   "id": "59d4afef",
   "metadata": {
    "papermill": {
     "duration": 0.28768,
     "end_time": "2024-03-11T17:13:09.894617",
     "exception": false,
     "start_time": "2024-03-11T17:13:09.606937",
     "status": "completed"
    },
    "tags": []
   },
   "source": [
    "### Testing"
   ]
  },
  {
   "cell_type": "code",
   "execution_count": 36,
   "id": "dcce43a7",
   "metadata": {
    "execution": {
     "iopub.execute_input": "2024-03-11T17:13:10.518658Z",
     "iopub.status.busy": "2024-03-11T17:13:10.518038Z",
     "iopub.status.idle": "2024-03-11T17:13:10.879928Z",
     "shell.execute_reply": "2024-03-11T17:13:10.878375Z"
    },
    "papermill": {
     "duration": 0.713432,
     "end_time": "2024-03-11T17:13:10.883564",
     "exception": false,
     "start_time": "2024-03-11T17:13:10.170132",
     "status": "completed"
    },
    "tags": []
   },
   "outputs": [],
   "source": [
    "params = load_model(model_name,Embedding_name,Dataset)\n",
    "loaded_model=gru(vocab_size,max_len,weights,Y_shape)\n",
    "loaded_model.set_weights(params)"
   ]
  },
  {
   "cell_type": "markdown",
   "id": "4ace2b4a",
   "metadata": {
    "papermill": {
     "duration": 0.274399,
     "end_time": "2024-03-11T17:13:11.450606",
     "exception": false,
     "start_time": "2024-03-11T17:13:11.176207",
     "status": "completed"
    },
    "tags": []
   },
   "source": [
    "Testing Accuracy"
   ]
  },
  {
   "cell_type": "code",
   "execution_count": 37,
   "id": "55499a06",
   "metadata": {
    "execution": {
     "iopub.execute_input": "2024-03-11T17:13:12.009566Z",
     "iopub.status.busy": "2024-03-11T17:13:12.009230Z",
     "iopub.status.idle": "2024-03-11T17:13:13.307708Z",
     "shell.execute_reply": "2024-03-11T17:13:13.306534Z"
    },
    "papermill": {
     "duration": 1.582047,
     "end_time": "2024-03-11T17:13:13.309544",
     "exception": false,
     "start_time": "2024-03-11T17:13:11.727497",
     "status": "completed"
    },
    "tags": []
   },
   "outputs": [
    {
     "name": "stdout",
     "output_type": "stream",
     "text": [
      "30/30 [==============================] - 1s 13ms/step - loss: 0.2526 - acc: 0.9418 - precision_3: 0.9540 - recall_3: 0.9317\n",
      "0.94183349609375\n"
     ]
    }
   ],
   "source": [
    "accuracy = loaded_model.evaluate(X_test, Y_test, verbose = 1)\n",
    "print(accuracy[1])"
   ]
  },
  {
   "cell_type": "markdown",
   "id": "499b76de",
   "metadata": {
    "papermill": {
     "duration": 0.28382,
     "end_time": "2024-03-11T17:13:13.868742",
     "exception": false,
     "start_time": "2024-03-11T17:13:13.584922",
     "status": "completed"
    },
    "tags": []
   },
   "source": [
    "Testing F1 Score"
   ]
  },
  {
   "cell_type": "code",
   "execution_count": 38,
   "id": "da728890",
   "metadata": {
    "execution": {
     "iopub.execute_input": "2024-03-11T17:13:14.481186Z",
     "iopub.status.busy": "2024-03-11T17:13:14.480824Z",
     "iopub.status.idle": "2024-03-11T17:13:17.189128Z",
     "shell.execute_reply": "2024-03-11T17:13:17.187517Z"
    },
    "papermill": {
     "duration": 2.98696,
     "end_time": "2024-03-11T17:13:17.191968",
     "exception": false,
     "start_time": "2024-03-11T17:13:14.205008",
     "status": "completed"
    },
    "tags": []
   },
   "outputs": [
    {
     "name": "stdout",
     "output_type": "stream",
     "text": [
      "30/30 [==============================] - 1s 12ms/step\n",
      "Test F1 Score: 0.380250220419787\n"
     ]
    }
   ],
   "source": [
    "Y_pred = loaded_model.predict(X_test)\n",
    "real = get_real(Y_test)\n",
    "pred = get_pred(Y_pred)\n",
    "\n",
    "true_labels_flat = [label for sublist in real for label in sublist]\n",
    "predicted_labels_flat = [label for sublist in pred for label in sublist]\n",
    "\n",
    "# Compute F1 score\n",
    "f1 = f1_score(true_labels_flat, predicted_labels_flat, average='macro')\n",
    "\n",
    "print(\"Test F1 Score:\", f1)"
   ]
  },
  {
   "cell_type": "markdown",
   "id": "60413040",
   "metadata": {
    "papermill": {
     "duration": 0.27759,
     "end_time": "2024-03-11T17:13:17.742871",
     "exception": false,
     "start_time": "2024-03-11T17:13:17.465281",
     "status": "completed"
    },
    "tags": []
   },
   "source": [
    "## LSTM"
   ]
  },
  {
   "cell_type": "code",
   "execution_count": 39,
   "id": "6c2026f9",
   "metadata": {
    "execution": {
     "iopub.execute_input": "2024-03-11T17:13:18.363204Z",
     "iopub.status.busy": "2024-03-11T17:13:18.362498Z",
     "iopub.status.idle": "2024-03-11T17:13:18.366375Z",
     "shell.execute_reply": "2024-03-11T17:13:18.365760Z"
    },
    "papermill": {
     "duration": 0.347533,
     "end_time": "2024-03-11T17:13:18.367946",
     "exception": false,
     "start_time": "2024-03-11T17:13:18.020413",
     "status": "completed"
    },
    "tags": []
   },
   "outputs": [],
   "source": [
    "model_name=\"LSTM\""
   ]
  },
  {
   "cell_type": "markdown",
   "id": "191d34c0",
   "metadata": {
    "papermill": {
     "duration": 0.28034,
     "end_time": "2024-03-11T17:13:18.918973",
     "exception": false,
     "start_time": "2024-03-11T17:13:18.638633",
     "status": "completed"
    },
    "tags": []
   },
   "source": [
    "### Training"
   ]
  },
  {
   "cell_type": "code",
   "execution_count": 40,
   "id": "d63faddd",
   "metadata": {
    "execution": {
     "iopub.execute_input": "2024-03-11T17:13:19.469727Z",
     "iopub.status.busy": "2024-03-11T17:13:19.469391Z",
     "iopub.status.idle": "2024-03-11T17:13:19.476502Z",
     "shell.execute_reply": "2024-03-11T17:13:19.474895Z"
    },
    "papermill": {
     "duration": 0.285593,
     "end_time": "2024-03-11T17:13:19.479344",
     "exception": false,
     "start_time": "2024-03-11T17:13:19.193751",
     "status": "completed"
    },
    "tags": []
   },
   "outputs": [],
   "source": [
    "def lstm(vocab_size,max_len,weights,Y_shape):\n",
    "    lstm_model = Sequential()\n",
    "    lstm_model.add(Embedding(input_dim = vocab_size,output_dim = 300,input_length  = max_len,weights = [weights],trainable = False))\n",
    "    lstm_model.add(LSTM(128, return_sequences=True))\n",
    "    lstm_model.add(TimeDistributed(Dense(Y_train.shape[2], activation='softmax')))# Lstm\n",
    "    lstm_model.compile(loss='categorical_crossentropy',optimizer='adam',metrics=['acc',Precision(),Recall()])    \n",
    "    return lstm_model"
   ]
  },
  {
   "cell_type": "markdown",
   "id": "a5f0fb4a",
   "metadata": {
    "papermill": {
     "duration": 0.279768,
     "end_time": "2024-03-11T17:13:20.036522",
     "exception": false,
     "start_time": "2024-03-11T17:13:19.756754",
     "status": "completed"
    },
    "tags": []
   },
   "source": [
    "Compiling LSTM"
   ]
  },
  {
   "cell_type": "code",
   "execution_count": 41,
   "id": "d0fa86b6",
   "metadata": {
    "execution": {
     "iopub.execute_input": "2024-03-11T17:13:20.665901Z",
     "iopub.status.busy": "2024-03-11T17:13:20.665169Z",
     "iopub.status.idle": "2024-03-11T17:13:21.052342Z",
     "shell.execute_reply": "2024-03-11T17:13:21.051381Z"
    },
    "papermill": {
     "duration": 0.665199,
     "end_time": "2024-03-11T17:13:21.054927",
     "exception": false,
     "start_time": "2024-03-11T17:13:20.389728",
     "status": "completed"
    },
    "tags": []
   },
   "outputs": [],
   "source": [
    "lstm_model=lstm(vocab_size,max_len,weights,Y_shape)"
   ]
  },
  {
   "cell_type": "code",
   "execution_count": null,
   "id": "12a2fdac",
   "metadata": {
    "papermill": {
     "duration": 0.275809,
     "end_time": "2024-03-11T17:13:21.609785",
     "exception": false,
     "start_time": "2024-03-11T17:13:21.333976",
     "status": "completed"
    },
    "tags": []
   },
   "outputs": [],
   "source": []
  },
  {
   "cell_type": "code",
   "execution_count": 42,
   "id": "ccd79b0e",
   "metadata": {
    "execution": {
     "iopub.execute_input": "2024-03-11T17:13:22.209205Z",
     "iopub.status.busy": "2024-03-11T17:13:22.208067Z",
     "iopub.status.idle": "2024-03-11T17:13:22.213369Z",
     "shell.execute_reply": "2024-03-11T17:13:22.212640Z"
    },
    "papermill": {
     "duration": 0.313546,
     "end_time": "2024-03-11T17:13:22.215509",
     "exception": false,
     "start_time": "2024-03-11T17:13:21.901963",
     "status": "completed"
    },
    "tags": []
   },
   "outputs": [],
   "source": [
    "LSTM_f1_callback=F1ScoreCallback(val_data=(X_val, Y_val),data=(X_train, Y_train))"
   ]
  },
  {
   "cell_type": "code",
   "execution_count": 43,
   "id": "c0d733fc",
   "metadata": {
    "execution": {
     "iopub.execute_input": "2024-03-11T17:13:22.847669Z",
     "iopub.status.busy": "2024-03-11T17:13:22.847314Z",
     "iopub.status.idle": "2024-03-11T17:13:22.866742Z",
     "shell.execute_reply": "2024-03-11T17:13:22.865731Z"
    },
    "papermill": {
     "duration": 0.303394,
     "end_time": "2024-03-11T17:13:22.870302",
     "exception": false,
     "start_time": "2024-03-11T17:13:22.566908",
     "status": "completed"
    },
    "tags": []
   },
   "outputs": [
    {
     "name": "stdout",
     "output_type": "stream",
     "text": [
      "Model: \"sequential_4\"\n",
      "_________________________________________________________________\n",
      " Layer (type)                Output Shape              Param #   \n",
      "=================================================================\n",
      " embedding_4 (Embedding)     (None, 70, 300)           9066000   \n",
      "                                                                 \n",
      " lstm (LSTM)                 (None, 70, 128)           219648    \n",
      "                                                                 \n",
      " time_distributed_4 (TimeDi  (None, 70, 28)            3612      \n",
      " stributed)                                                      \n",
      "                                                                 \n",
      "=================================================================\n",
      "Total params: 9289260 (35.44 MB)\n",
      "Trainable params: 223260 (872.11 KB)\n",
      "Non-trainable params: 9066000 (34.58 MB)\n",
      "_________________________________________________________________\n"
     ]
    }
   ],
   "source": [
    "lstm_model.summary()"
   ]
  },
  {
   "cell_type": "markdown",
   "id": "8975e10c",
   "metadata": {
    "papermill": {
     "duration": 0.278959,
     "end_time": "2024-03-11T17:13:23.431851",
     "exception": false,
     "start_time": "2024-03-11T17:13:23.152892",
     "status": "completed"
    },
    "tags": []
   },
   "source": [
    "Fitting LSTM"
   ]
  },
  {
   "cell_type": "code",
   "execution_count": 44,
   "id": "bc956684",
   "metadata": {
    "execution": {
     "iopub.execute_input": "2024-03-11T17:13:23.994608Z",
     "iopub.status.busy": "2024-03-11T17:13:23.994227Z",
     "iopub.status.idle": "2024-03-11T17:26:54.143778Z",
     "shell.execute_reply": "2024-03-11T17:26:54.142215Z"
    },
    "papermill": {
     "duration": 810.963831,
     "end_time": "2024-03-11T17:26:54.674100",
     "exception": false,
     "start_time": "2024-03-11T17:13:23.710269",
     "status": "completed"
    },
    "tags": []
   },
   "outputs": [
    {
     "name": "stdout",
     "output_type": "stream",
     "text": [
      "Epoch 1/20\n",
      "45/45 [==============================] - 2s 31ms/step\n",
      "251/251 [==============================] - 8s 32ms/step\n",
      "Val F1 Score: 0.06834082455953765 - Train F1 Score: 0.06845341691636718\n",
      "63/63 [==============================] - 42s 639ms/step - loss: 1.4136 - acc: 0.7571 - precision_4: 0.8787 - recall_4: 0.5579 - val_loss: 0.6282 - val_acc: 0.9029 - val_precision_4: 0.9070 - val_recall_4: 0.8135\n",
      "Epoch 2/20\n",
      "45/45 [==============================] - 1s 29ms/step\n",
      "251/251 [==============================] - 8s 32ms/step\n",
      "Val F1 Score: 0.08553978605221112 - Train F1 Score: 0.08438109082668462\n",
      "63/63 [==============================] - 39s 633ms/step - loss: 0.5494 - acc: 0.9146 - precision_4: 0.9273 - recall_4: 0.8396 - val_loss: 0.4980 - val_acc: 0.9189 - val_precision_4: 0.9322 - val_recall_4: 0.8496\n",
      "Epoch 3/20\n",
      "45/45 [==============================] - 1s 31ms/step\n",
      "251/251 [==============================] - 8s 32ms/step\n",
      "Val F1 Score: 0.09621550656208792 - Train F1 Score: 0.0953807998072319\n",
      "63/63 [==============================] - 39s 626ms/step - loss: 0.4645 - acc: 0.9227 - precision_4: 0.9411 - recall_4: 0.8628 - val_loss: 0.4343 - val_acc: 0.9265 - val_precision_4: 0.9424 - val_recall_4: 0.8741\n",
      "Epoch 4/20\n",
      "45/45 [==============================] - 1s 31ms/step\n",
      "251/251 [==============================] - 8s 32ms/step\n",
      "Val F1 Score: 0.1252407224953126 - Train F1 Score: 0.12578118512187522\n",
      "63/63 [==============================] - 40s 645ms/step - loss: 0.4081 - acc: 0.9280 - precision_4: 0.9477 - recall_4: 0.8743 - val_loss: 0.3909 - val_acc: 0.9286 - val_precision_4: 0.9455 - val_recall_4: 0.8905\n",
      "Epoch 5/20\n",
      "45/45 [==============================] - 1s 32ms/step\n",
      "251/251 [==============================] - 8s 31ms/step\n",
      "Val F1 Score: 0.17051256468953127 - Train F1 Score: 0.16901240140642115\n",
      "63/63 [==============================] - 41s 656ms/step - loss: 0.3668 - acc: 0.9321 - precision_4: 0.9528 - recall_4: 0.8891 - val_loss: 0.3517 - val_acc: 0.9339 - val_precision_4: 0.9523 - val_recall_4: 0.8930\n",
      "Epoch 6/20\n",
      "45/45 [==============================] - 1s 31ms/step\n",
      "251/251 [==============================] - 8s 32ms/step\n",
      "Val F1 Score: 0.21319868024180924 - Train F1 Score: 0.2114084948311797\n",
      "63/63 [==============================] - 41s 662ms/step - loss: 0.3361 - acc: 0.9356 - precision_4: 0.9553 - recall_4: 0.8918 - val_loss: 0.3278 - val_acc: 0.9370 - val_precision_4: 0.9553 - val_recall_4: 0.8940\n",
      "Epoch 7/20\n",
      "45/45 [==============================] - 1s 32ms/step\n",
      "251/251 [==============================] - 8s 32ms/step\n",
      "Val F1 Score: 0.23890102091972837 - Train F1 Score: 0.2420630932172328\n",
      "63/63 [==============================] - 41s 654ms/step - loss: 0.3123 - acc: 0.9383 - precision_4: 0.9569 - recall_4: 0.8948 - val_loss: 0.3105 - val_acc: 0.9385 - val_precision_4: 0.9576 - val_recall_4: 0.8944\n",
      "Epoch 8/20\n",
      "45/45 [==============================] - 1s 30ms/step\n",
      "251/251 [==============================] - 8s 31ms/step\n",
      "Val F1 Score: 0.261049714119495 - Train F1 Score: 0.27068457369742865\n",
      "63/63 [==============================] - 44s 701ms/step - loss: 0.2935 - acc: 0.9403 - precision_4: 0.9585 - recall_4: 0.9036 - val_loss: 0.3019 - val_acc: 0.9388 - val_precision_4: 0.9597 - val_recall_4: 0.9073\n",
      "Epoch 9/20\n",
      "45/45 [==============================] - 1s 30ms/step\n",
      "251/251 [==============================] - 8s 32ms/step\n",
      "Val F1 Score: 0.2700208167770842 - Train F1 Score: 0.27889982039694156\n",
      "63/63 [==============================] - 40s 644ms/step - loss: 0.2790 - acc: 0.9418 - precision_4: 0.9591 - recall_4: 0.9135 - val_loss: 0.2833 - val_acc: 0.9405 - val_precision_4: 0.9575 - val_recall_4: 0.9131\n",
      "Epoch 10/20\n",
      "45/45 [==============================] - 1s 33ms/step\n",
      "251/251 [==============================] - 8s 32ms/step\n",
      "Val F1 Score: 0.2743496652728798 - Train F1 Score: 0.28258940316475406\n",
      "63/63 [==============================] - 41s 650ms/step - loss: 0.2662 - acc: 0.9431 - precision_4: 0.9602 - recall_4: 0.9151 - val_loss: 0.2703 - val_acc: 0.9421 - val_precision_4: 0.9566 - val_recall_4: 0.9175\n",
      "Epoch 11/20\n",
      "45/45 [==============================] - 1s 32ms/step\n",
      "251/251 [==============================] - 8s 30ms/step\n",
      "Val F1 Score: 0.29715637360608493 - Train F1 Score: 0.3073736416663824\n",
      "63/63 [==============================] - 39s 623ms/step - loss: 0.2561 - acc: 0.9443 - precision_4: 0.9609 - recall_4: 0.9169 - val_loss: 0.2661 - val_acc: 0.9424 - val_precision_4: 0.9605 - val_recall_4: 0.9140\n",
      "Epoch 12/20\n",
      "45/45 [==============================] - 1s 31ms/step\n",
      "251/251 [==============================] - 8s 31ms/step\n",
      "Val F1 Score: 0.3054339404402446 - Train F1 Score: 0.3193631983975968\n",
      "63/63 [==============================] - 40s 645ms/step - loss: 0.2469 - acc: 0.9454 - precision_4: 0.9616 - recall_4: 0.9182 - val_loss: 0.2560 - val_acc: 0.9438 - val_precision_4: 0.9597 - val_recall_4: 0.9173\n",
      "Epoch 13/20\n",
      "45/45 [==============================] - 1s 31ms/step\n",
      "251/251 [==============================] - 8s 33ms/step\n",
      "Val F1 Score: 0.30222975226660165 - Train F1 Score: 0.3171548725298788\n",
      "63/63 [==============================] - 40s 638ms/step - loss: 0.2390 - acc: 0.9465 - precision_4: 0.9623 - recall_4: 0.9199 - val_loss: 0.2498 - val_acc: 0.9439 - val_precision_4: 0.9570 - val_recall_4: 0.9202\n",
      "Epoch 14/20\n",
      "45/45 [==============================] - 1s 33ms/step\n",
      "251/251 [==============================] - 8s 31ms/step\n",
      "Val F1 Score: 0.30317892280154896 - Train F1 Score: 0.3196153393580498\n",
      "63/63 [==============================] - 41s 654ms/step - loss: 0.2312 - acc: 0.9476 - precision_4: 0.9629 - recall_4: 0.9213 - val_loss: 0.2481 - val_acc: 0.9438 - val_precision_4: 0.9563 - val_recall_4: 0.9204\n",
      "Epoch 15/20\n",
      "45/45 [==============================] - 1s 31ms/step\n",
      "251/251 [==============================] - 8s 30ms/step\n",
      "Val F1 Score: 0.3173717688039073 - Train F1 Score: 0.33843724310138956\n",
      "63/63 [==============================] - 40s 646ms/step - loss: 0.2259 - acc: 0.9481 - precision_4: 0.9631 - recall_4: 0.9220 - val_loss: 0.2407 - val_acc: 0.9452 - val_precision_4: 0.9583 - val_recall_4: 0.9213\n",
      "Epoch 16/20\n",
      "45/45 [==============================] - 2s 34ms/step\n",
      "251/251 [==============================] - 8s 32ms/step\n",
      "Val F1 Score: 0.32838685764799763 - Train F1 Score: 0.3527229346679701\n",
      "63/63 [==============================] - 42s 670ms/step - loss: 0.2186 - acc: 0.9493 - precision_4: 0.9641 - recall_4: 0.9235 - val_loss: 0.2331 - val_acc: 0.9458 - val_precision_4: 0.9591 - val_recall_4: 0.9212\n",
      "Epoch 17/20\n",
      "45/45 [==============================] - 1s 30ms/step\n",
      "251/251 [==============================] - 8s 31ms/step\n",
      "Val F1 Score: 0.3463021488608204 - Train F1 Score: 0.3750441559235836\n",
      "63/63 [==============================] - 40s 646ms/step - loss: 0.2119 - acc: 0.9504 - precision_4: 0.9646 - recall_4: 0.9250 - val_loss: 0.2333 - val_acc: 0.9456 - val_precision_4: 0.9612 - val_recall_4: 0.9185\n",
      "Epoch 18/20\n",
      "45/45 [==============================] - 1s 30ms/step\n",
      "251/251 [==============================] - 8s 32ms/step\n",
      "Val F1 Score: 0.34328343370411657 - Train F1 Score: 0.37175038172166286\n",
      "63/63 [==============================] - 42s 671ms/step - loss: 0.2077 - acc: 0.9507 - precision_4: 0.9651 - recall_4: 0.9253 - val_loss: 0.2257 - val_acc: 0.9471 - val_precision_4: 0.9598 - val_recall_4: 0.9227\n",
      "Epoch 19/20\n",
      "45/45 [==============================] - 1s 32ms/step\n",
      "251/251 [==============================] - 8s 32ms/step\n",
      "Val F1 Score: 0.36247502884475324 - Train F1 Score: 0.3942074477309653\n",
      "63/63 [==============================] - 41s 652ms/step - loss: 0.2018 - acc: 0.9516 - precision_4: 0.9656 - recall_4: 0.9267 - val_loss: 0.2241 - val_acc: 0.9470 - val_precision_4: 0.9608 - val_recall_4: 0.9212\n",
      "Epoch 20/20\n",
      "45/45 [==============================] - 1s 32ms/step\n",
      "251/251 [==============================] - 8s 31ms/step\n",
      "Val F1 Score: 0.3651357581199595 - Train F1 Score: 0.39992460541139835\n",
      "63/63 [==============================] - 39s 622ms/step - loss: 0.1969 - acc: 0.9525 - precision_4: 0.9665 - recall_4: 0.9399 - val_loss: 0.2181 - val_acc: 0.9481 - val_precision_4: 0.9621 - val_recall_4: 0.9370\n"
     ]
    }
   ],
   "source": [
    "lstm_training = lstm_model.fit(X_train, Y_train, batch_size=128, epochs=20, validation_data=(X_val, Y_val), callbacks=[LSTM_f1_callback])"
   ]
  },
  {
   "cell_type": "markdown",
   "id": "46fda014",
   "metadata": {
    "papermill": {
     "duration": 0.537775,
     "end_time": "2024-03-11T17:26:55.827463",
     "exception": false,
     "start_time": "2024-03-11T17:26:55.289688",
     "status": "completed"
    },
    "tags": []
   },
   "source": [
    "Plotting Graph"
   ]
  },
  {
   "cell_type": "code",
   "execution_count": 45,
   "id": "774b44f2",
   "metadata": {
    "execution": {
     "iopub.execute_input": "2024-03-11T17:26:56.983778Z",
     "iopub.status.busy": "2024-03-11T17:26:56.983097Z",
     "iopub.status.idle": "2024-03-11T17:26:57.545288Z",
     "shell.execute_reply": "2024-03-11T17:26:57.543089Z"
    },
    "papermill": {
     "duration": 1.178507,
     "end_time": "2024-03-11T17:26:57.549177",
     "exception": false,
     "start_time": "2024-03-11T17:26:56.370670",
     "status": "completed"
    },
    "tags": []
   },
   "outputs": [
    {
     "data": {
      "image/png": "[encoded data removed]",
      "text/plain": [
       "<Figure size 1600x500 with 2 Axes>"
      ]
     },
     "metadata": {},
     "output_type": "display_data"
    }
   ],
   "source": [
    "draw_loss_graph(lstm_training, \"LSTM Model\", LSTM_f1_callback.train_f1_scores, LSTM_f1_callback.val_f1_scores)\n",
    "save_model(lstm_model, model_name, Embedding_name, Dataset)\n",
    "# loaded_model = load_model(model_name,Embedding_name,Dataset)"
   ]
  },
  {
   "cell_type": "markdown",
   "id": "de1fc119",
   "metadata": {
    "papermill": {
     "duration": 0.538949,
     "end_time": "2024-03-11T17:26:58.637242",
     "exception": false,
     "start_time": "2024-03-11T17:26:58.098293",
     "status": "completed"
    },
    "tags": []
   },
   "source": [
    "### Testing"
   ]
  },
  {
   "cell_type": "code",
   "execution_count": 46,
   "id": "fdd2f783",
   "metadata": {
    "execution": {
     "iopub.execute_input": "2024-03-11T17:26:59.779156Z",
     "iopub.status.busy": "2024-03-11T17:26:59.778776Z",
     "iopub.status.idle": "2024-03-11T17:27:00.169874Z",
     "shell.execute_reply": "2024-03-11T17:27:00.168865Z"
    },
    "papermill": {
     "duration": 0.930086,
     "end_time": "2024-03-11T17:27:00.172317",
     "exception": false,
     "start_time": "2024-03-11T17:26:59.242231",
     "status": "completed"
    },
    "tags": []
   },
   "outputs": [],
   "source": [
    "params = load_model(model_name,Embedding_name,Dataset)\n",
    "loaded_model=lstm(vocab_size,max_len,weights,Y_shape)\n",
    "loaded_model.set_weights(params)"
   ]
  },
  {
   "cell_type": "markdown",
   "id": "f889836d",
   "metadata": {
    "papermill": {
     "duration": 0.608271,
     "end_time": "2024-03-11T17:27:01.310925",
     "exception": false,
     "start_time": "2024-03-11T17:27:00.702654",
     "status": "completed"
    },
    "tags": []
   },
   "source": [
    "Testing accuracy"
   ]
  },
  {
   "cell_type": "code",
   "execution_count": 47,
   "id": "e272a9c1",
   "metadata": {
    "execution": {
     "iopub.execute_input": "2024-03-11T17:27:02.396473Z",
     "iopub.status.busy": "2024-03-11T17:27:02.395599Z",
     "iopub.status.idle": "2024-03-11T17:27:04.654534Z",
     "shell.execute_reply": "2024-03-11T17:27:04.652797Z"
    },
    "papermill": {
     "duration": 2.812611,
     "end_time": "2024-03-11T17:27:04.656790",
     "exception": false,
     "start_time": "2024-03-11T17:27:01.844179",
     "status": "completed"
    },
    "tags": []
   },
   "outputs": [
    {
     "name": "stdout",
     "output_type": "stream",
     "text": [
      "30/30 [==============================] - 2s 31ms/step - loss: 0.2474 - acc: 0.9421 - precision_5: 0.9559 - recall_5: 0.9313\n",
      "0.942059338092804\n"
     ]
    }
   ],
   "source": [
    "accuracy = loaded_model.evaluate(X_test, Y_test, verbose = 1)\n",
    "print(accuracy[1])"
   ]
  },
  {
   "cell_type": "markdown",
   "id": "b01602cf",
   "metadata": {
    "papermill": {
     "duration": 0.550645,
     "end_time": "2024-03-11T17:27:05.815696",
     "exception": false,
     "start_time": "2024-03-11T17:27:05.265051",
     "status": "completed"
    },
    "tags": []
   },
   "source": [
    "Testing F1 Score"
   ]
  },
  {
   "cell_type": "code",
   "execution_count": 48,
   "id": "5335cfe9",
   "metadata": {
    "execution": {
     "iopub.execute_input": "2024-03-11T17:27:06.985334Z",
     "iopub.status.busy": "2024-03-11T17:27:06.984913Z",
     "iopub.status.idle": "2024-03-11T17:27:10.207100Z",
     "shell.execute_reply": "2024-03-11T17:27:10.206131Z"
    },
    "papermill": {
     "duration": 3.765497,
     "end_time": "2024-03-11T17:27:10.209059",
     "exception": false,
     "start_time": "2024-03-11T17:27:06.443562",
     "status": "completed"
    },
    "tags": []
   },
   "outputs": [
    {
     "name": "stdout",
     "output_type": "stream",
     "text": [
      "30/30 [==============================] - 1s 30ms/step\n",
      "Test F1 Score: 0.36683018906692705\n"
     ]
    }
   ],
   "source": [
    "Y_pred = loaded_model.predict(X_test)\n",
    "real = get_real(Y_test)\n",
    "pred = get_pred(Y_pred)\n",
    "\n",
    "true_labels_flat = [label for sublist in real for label in sublist]\n",
    "predicted_labels_flat = [label for sublist in pred for label in sublist]\n",
    "\n",
    "# Compute F1 score\n",
    "f1 = f1_score(true_labels_flat, predicted_labels_flat, average='macro')\n",
    "\n",
    "print(\"Test F1 Score:\", f1)"
   ]
  }
 ],
 "metadata": {
  "kaggle": {
   "accelerator": "none",
   "dataSources": [
    {
     "datasetId": 4563561,
     "sourceId": 7809954,
     "sourceType": "datasetVersion"
    },
    {
     "datasetId": 4574147,
     "sourceId": 7817231,
     "sourceType": "datasetVersion"
    }
   ],
   "dockerImageVersionId": 30664,
   "isGpuEnabled": false,
   "isInternetEnabled": true,
   "language": "python",
   "sourceType": "notebook"
  },
  "kernelspec": {
   "display_name": "Python 3",
   "language": "python",
   "name": "python3"
  },
  "language_info": {
   "codemirror_mode": {
    "name": "ipython",
    "version": 3
   },
   "file_extension": ".py",
   "mimetype": "text/x-python",
   "name": "python",
   "nbconvert_exporter": "python",
   "pygments_lexer": "ipython3",
   "version": "3.10.13"
  },
  "papermill": {
   "default_parameters": {},
   "duration": 2071.513337,
   "end_time": "2024-03-11T17:27:14.153136",
   "environment_variables": {},
   "exception": null,
   "input_path": "__notebook__.ipynb",
   "output_path": "__notebook__.ipynb",
   "parameters": {},
   "start_time": "2024-03-11T16:52:42.639799",
   "version": "2.5.0"
  }
 },
 "nbformat": 4,
 "nbformat_minor": 5
}
