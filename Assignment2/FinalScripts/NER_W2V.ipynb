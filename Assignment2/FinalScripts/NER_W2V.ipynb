{
 "cells": [
  {
   "cell_type": "code",
   "execution_count": 1,
   "id": "269d4f52",
   "metadata": {
    "execution": {
     "iopub.execute_input": "2024-03-10T12:42:04.003246Z",
     "iopub.status.busy": "2024-03-10T12:42:04.002956Z",
     "iopub.status.idle": "2024-03-10T12:42:16.306637Z",
     "shell.execute_reply": "2024-03-10T12:42:16.305847Z"
    },
    "papermill": {
     "duration": 12.321374,
     "end_time": "2024-03-10T12:42:16.308694",
     "exception": false,
     "start_time": "2024-03-10T12:42:03.987320",
     "status": "completed"
    },
    "tags": []
   },
   "outputs": [
    {
     "name": "stdout",
     "output_type": "stream",
     "text": [
      "Collecting keras==2.15.0\r\n",
      "  Downloading keras-2.15.0-py3-none-any.whl.metadata (2.4 kB)\r\n",
      "Downloading keras-2.15.0-py3-none-any.whl (1.7 MB)\r\n",
      "\u001b[2K   \u001b[90m━━━━━━━━━━━━━━━━━━━━━━━━━━━━━━━━━━━━━━━━\u001b[0m \u001b[32m1.7/1.7 MB\u001b[0m \u001b[31m27.3 MB/s\u001b[0m eta \u001b[36m0:00:00\u001b[0m\r\n",
      "\u001b[?25hInstalling collected packages: keras\r\n",
      "  Attempting uninstall: keras\r\n",
      "    Found existing installation: keras 3.0.5\r\n",
      "    Uninstalling keras-3.0.5:\r\n",
      "      Successfully uninstalled keras-3.0.5\r\n",
      "\u001b[31mERROR: pip's dependency resolver does not currently take into account all the packages that are installed. This behaviour is the source of the following dependency conflicts.\r\n",
      "tensorflow-decision-forests 1.8.1 requires wurlitzer, which is not installed.\u001b[0m\u001b[31m\r\n",
      "\u001b[0mSuccessfully installed keras-2.15.0\r\n"
     ]
    }
   ],
   "source": [
    "!pip install keras==2.15.0"
   ]
  },
  {
   "cell_type": "markdown",
   "id": "94c0d2b7",
   "metadata": {
    "papermill": {
     "duration": 0.014243,
     "end_time": "2024-03-10T12:42:16.337082",
     "exception": false,
     "start_time": "2024-03-10T12:42:16.322839",
     "status": "completed"
    },
    "tags": []
   },
   "source": [
    "# Run"
   ]
  },
  {
   "cell_type": "code",
   "execution_count": 2,
   "id": "a9a64b4a",
   "metadata": {
    "execution": {
     "iopub.execute_input": "2024-03-10T12:42:16.365762Z",
     "iopub.status.busy": "2024-03-10T12:42:16.365446Z",
     "iopub.status.idle": "2024-03-10T12:42:37.128506Z",
     "shell.execute_reply": "2024-03-10T12:42:37.127679Z"
    },
    "papermill": {
     "duration": 20.779712,
     "end_time": "2024-03-10T12:42:37.130433",
     "exception": false,
     "start_time": "2024-03-10T12:42:16.350721",
     "status": "completed"
    },
    "tags": []
   },
   "outputs": [
    {
     "name": "stderr",
     "output_type": "stream",
     "text": [
      "2024-03-10 12:42:17.942121: E external/local_xla/xla/stream_executor/cuda/cuda_dnn.cc:9261] Unable to register cuDNN factory: Attempting to register factory for plugin cuDNN when one has already been registered\n",
      "2024-03-10 12:42:17.942206: E external/local_xla/xla/stream_executor/cuda/cuda_fft.cc:607] Unable to register cuFFT factory: Attempting to register factory for plugin cuFFT when one has already been registered\n",
      "2024-03-10 12:42:18.066430: E external/local_xla/xla/stream_executor/cuda/cuda_blas.cc:1515] Unable to register cuBLAS factory: Attempting to register factory for plugin cuBLAS when one has already been registered\n"
     ]
    }
   ],
   "source": [
    "import pickle\n",
    "import numpy as np\n",
    "import tensorflow as tf\n",
    "import json\n",
    "import matplotlib.pyplot as plt\n",
    "\n",
    "import fasttext\n",
    "import fasttext.util\n",
    "from keras.models import Model\n",
    "from keras.layers import Dropout,Input\n",
    "# from tensorflow_addons.layers import CRF\n",
    "from keras.layers import Dense\n",
    "from keras.layers import Embedding\n",
    "from keras.models import Sequential\n",
    "from keras.callbacks import Callback\n",
    "from keras.preprocessing.text import *\n",
    "from keras.utils import to_categorical\n",
    "from gensim.models import KeyedVectors\n",
    "from keras.layers import GRU, SimpleRNN, LSTM, Bidirectional\n",
    "from keras.layers import TimeDistributed\n",
    "from keras.metrics import F1Score, Precision, Recall\n",
    "from keras.preprocessing.sequence import pad_sequences\n",
    "from sklearn.metrics import f1_score\n",
    "from tensorflow.keras.optimizers import AdamW\n",
    "# from tensorflow_addons.losses import SigmoidFocalCrossEntropy\n",
    "from sklearn.model_selection import GridSearchCV\n",
    "# from kerastuner.tuners import RandomSearch\n",
    "# from kerastuner.engine.hyperparameters import HyperParameters\n",
    "from tensorflow.keras.optimizers import AdamW, Adam, RMSprop, SGD"
   ]
  },
  {
   "cell_type": "code",
   "execution_count": 3,
   "id": "9235d44e",
   "metadata": {
    "execution": {
     "iopub.execute_input": "2024-03-10T12:42:37.160372Z",
     "iopub.status.busy": "2024-03-10T12:42:37.159334Z",
     "iopub.status.idle": "2024-03-10T12:42:37.179073Z",
     "shell.execute_reply": "2024-03-10T12:42:37.178169Z"
    },
    "papermill": {
     "duration": 0.035896,
     "end_time": "2024-03-10T12:42:37.180662",
     "exception": false,
     "start_time": "2024-03-10T12:42:37.144766",
     "status": "completed"
    },
    "tags": []
   },
   "outputs": [
    {
     "name": "stdout",
     "output_type": "stream",
     "text": [
      "/kaggle/input/nernlp3/WordEmbeddings/glove.840B.300d.pkl\n",
      "/kaggle/input/nernlp3/WordEmbeddings/Word2vec.bin\n",
      "/kaggle/input/nernlp3/WordEmbeddings/cc.en.300.bin\n",
      "/kaggle/input/nernlp3/Data/check.py\n",
      "/kaggle/input/nernlp3/Data/NER_TRAIN_JUDGEMENT.json\n",
      "/kaggle/input/nernlp3/Data/Laptop_Review_Val.json\n",
      "/kaggle/input/nernlp3/Data/bio.ipynb\n",
      "/kaggle/input/nernlp3/Data/Laptop_Review_Train.json\n",
      "/kaggle/input/nernlp3/Data/bio1.py\n",
      "/kaggle/input/nernlp3/Data/NER_TEST_JUDGEMENT.json\n",
      "/kaggle/input/nernlp3/Data/Laptop_Review_Test.json\n",
      "/kaggle/input/nernlp3/Data/processed/NER_test.json\n",
      "/kaggle/input/nernlp3/Data/processed/ATE_test.json\n",
      "/kaggle/input/nernlp3/Data/processed/NER_train.json\n",
      "/kaggle/input/nernlp3/Data/processed/ATE_train.json\n",
      "/kaggle/input/nernlp3/Data/processed/NER_val.json\n",
      "/kaggle/input/nernlp3/Data/processed/ATE_val.json\n"
     ]
    }
   ],
   "source": [
    "# This Python 3 environment comes with many helpful analytics libraries installed\n",
    "# It is defined by the kaggle/python Docker image: https://github.com/kaggle/docker-python\n",
    "# For example, here's several helpful packages to load\n",
    "\n",
    "# Input data files are available in the read-only \"../input/\" directory\n",
    "# For example, running this (by clicking run or pressing Shift+Enter) will list all files under the input directory\n",
    "\n",
    "import os\n",
    "for dirname, _, filenames in os.walk('/kaggle/input'):\n",
    "    for filename in filenames:\n",
    "        print(os.path.join(dirname, filename))\n",
    "\n",
    "Embedding_name=\"word2vec\"\n",
    "Dataset=\"NER\"     \n",
    "PATH='/kaggle/input/nernlp3/'\n",
    "OUTPATH='/kaggle/working/'\n",
    "\n",
    "# You can write up to 20GB to the current directory (/kaggle/working/) that gets preserved as output when you create a version using \"Save & Run All\" \n",
    "# You can also write temporary files to /kaggle/temp/, but they won't be saved outside of the current session"
   ]
  },
  {
   "cell_type": "code",
   "execution_count": 4,
   "id": "de1a01f8",
   "metadata": {
    "execution": {
     "iopub.execute_input": "2024-03-10T12:42:37.209226Z",
     "iopub.status.busy": "2024-03-10T12:42:37.208980Z",
     "iopub.status.idle": "2024-03-10T12:42:38.434555Z",
     "shell.execute_reply": "2024-03-10T12:42:38.433543Z"
    },
    "papermill": {
     "duration": 1.242641,
     "end_time": "2024-03-10T12:42:38.437171",
     "exception": false,
     "start_time": "2024-03-10T12:42:37.194530",
     "status": "completed"
    },
    "tags": []
   },
   "outputs": [
    {
     "name": "stderr",
     "output_type": "stream",
     "text": [
      "/opt/conda/lib/python3.10/pty.py:89: RuntimeWarning: os.fork() was called. os.fork() is incompatible with multithreaded code, and JAX is multithreaded, so this will likely lead to a deadlock.\n",
      "  pid, fd = os.forkpty()\n"
     ]
    }
   ],
   "source": [
    "! mkdir Saved_Models\n",
    "! mkdir Saved_Models/ATE\n",
    "! mkdir Saved_Models/NER\n",
    "! mkdir Graphs"
   ]
  },
  {
   "cell_type": "code",
   "execution_count": 5,
   "id": "844d1ad6",
   "metadata": {
    "execution": {
     "iopub.execute_input": "2024-03-10T12:42:38.468525Z",
     "iopub.status.busy": "2024-03-10T12:42:38.468184Z",
     "iopub.status.idle": "2024-03-10T12:42:38.499362Z",
     "shell.execute_reply": "2024-03-10T12:42:38.498601Z"
    },
    "papermill": {
     "duration": 0.048868,
     "end_time": "2024-03-10T12:42:38.501017",
     "exception": false,
     "start_time": "2024-03-10T12:42:38.452149",
     "status": "completed"
    },
    "tags": []
   },
   "outputs": [],
   "source": [
    "def checking(a):\n",
    "    print(\"Hello World\",a)\n",
    "\n",
    "def new_checking(a):\n",
    "    print(\"Hello World\",a)\n",
    "\n",
    "def create_train_test_val(file):\n",
    "    lst_out_text=[]\n",
    "    lst_out_labels=[]\n",
    "    for i in file.values():\n",
    "        sentence = i['text']\n",
    "        sentence = sentence.lower()\n",
    "        labels = i['labels']\n",
    "        lst_out_text.append(sentence)\n",
    "        lst_out_labels.append(labels)\n",
    "    return lst_out_text,lst_out_labels    \n",
    "\n",
    "def TokenCreator(sentences,val,tokenizer=None):\n",
    "    \n",
    "    temp_wordlist = None\n",
    "    tokenizer2=None\n",
    "    if(tokenizer == None):\n",
    "        if val==1:\n",
    "            tokenizer2 = Tokenizer(oov_token=\"#UK\",filters='')\n",
    "        else:\n",
    "            tokenizer2=Tokenizer()\n",
    "        tokenizer2.fit_on_texts(sentences)\n",
    "        \n",
    "        temp_wordlist = tokenizer2.texts_to_sequences(sentences)\n",
    "        return (temp_wordlist,tokenizer2)\n",
    "    \n",
    "    else:\n",
    "        temp_wordlist = tokenizer.texts_to_sequences(sentences)\n",
    "        return temp_wordlist\n",
    "    \n",
    "def find_vocab(dataset):\n",
    "    lst=[]\n",
    "    lst.append(\"#UK\")\n",
    "    for i in dataset:\n",
    "        for j in i:\n",
    "            lst.append(j)\n",
    "    st = set(lst)\n",
    "    return st\n",
    "\n",
    "'''\n",
    "--------------------------------------GRAPHS--------------------------------------\n",
    "'''\n",
    "\n",
    "def draw_loss_graph(model,model_name,f1_scores_train,f1_scores_val):\n",
    "    train_loss = model.history['loss']\n",
    "    val_loss = model.history['val_loss']\n",
    "    x = [i+1 for i in range(len(train_loss))]\n",
    "    train_y = train_loss\n",
    "    val_y = val_loss\n",
    "    \n",
    "    fig, axes = plt.subplots(1,2,figsize = (16,5))\n",
    "    # plt.subplots(axes = (2,1))\n",
    "    axes[0].plot(x,train_y, color = 'blue')  \n",
    "    \n",
    "    axes[0].plot(x,val_y, color = 'red') \n",
    "    axes[0].set_title('Loss over Epochs')\n",
    "    axes[0].set_xlabel('Epoch')\n",
    "    axes[0].set_ylabel('Loss')\n",
    "\n",
    "    axes[1].plot(x,f1_scores_train, color = 'blue')\n",
    "    axes[1].plot(x,f1_scores_val, color = 'red')\n",
    "    axes[1].set_title('F1 Score vs Epoch')\n",
    "    axes[1].set_xlabel('Epochs')\n",
    "    axes[1].set_ylabel('F1 Score')\n",
    "\n",
    "    axes[0].legend(['Train','Val'])\n",
    "    axes[1].legend(['Train','Val'])\n",
    "    \n",
    "    plt.suptitle(model_name)\n",
    "\n",
    "    \n",
    "    plt.show()\n",
    "    \n",
    "'''\n",
    "--------------------------------------MODELS--------------------------------------\n",
    "'''\n",
    "\n",
    "def save_model(model,model_name, embedding, dataset):\n",
    "    with open(f'{OUTPATH}Saved_Models/{dataset}/{model_name}_{embedding}.pkl', 'wb') as file:\n",
    "        pickle.dump(model, file)\n",
    "\n",
    "def load_model(model_name, embedding, dataset):\n",
    "    with open(f'{OUTPATH}Saved_Models/{dataset}/{model_name}_{embedding}.pkl', 'rb') as file:\n",
    "        loaded_model = pickle.load(file)\n",
    "    \n",
    "    return loaded_model\n",
    "\n",
    "'''\n",
    "--------------------------------------CALLBACKS--------------------------------------\n",
    "'''\n",
    "\n",
    "class F1ScoreCallback(Callback):\n",
    "\n",
    "    def __init__(self, val_data, data):\n",
    "        super(F1ScoreCallback, self).__init__()\n",
    "        self.val_data = val_data\n",
    "        self.data=data\n",
    "        self.val_f1_scores = [] \n",
    "        self.train_f1_scores = []\n",
    "\n",
    "    \n",
    "\n",
    "    def on_epoch_end(self, epoch, logs=None):\n",
    "        x_val, y_val = self.val_data\n",
    "        x_data, y_data = self.data\n",
    "        y_pred_val = self.model.predict(x_val)\n",
    "        y_pred_train = self.model.predict(x_data)\n",
    "\n",
    "        def scikitf1(pred,real):\n",
    "\n",
    "            true_labels_flat = [label for sublist in real for label in sublist]\n",
    "            predicted_labels_flat = [label for sublist in pred for label in sublist]\n",
    "            # Compute F1 score\n",
    "            f1 = f1_score(true_labels_flat, predicted_labels_flat, average='macro')\n",
    "            return f1\n",
    "        def get_pred(Y_padded_output):\n",
    "                # print(Y_padded_output.shape)\n",
    "                final_output=[]\n",
    "                for i in range(Y_padded_output.shape[0]):\n",
    "                    output=[]\n",
    "                    for j in range(Y_padded_output.shape[1]):\n",
    "                        max_value=-1\n",
    "                        maxIndex=-1\n",
    "                        for k in range(Y_padded_output.shape[2]):\n",
    "                            if Y_padded_output[i][j][k]>max_value:\n",
    "                                maxIndex=k\n",
    "                                max_value=max(max_value,Y_padded_output[i][j][k])\n",
    "                        output.append(maxIndex)\n",
    "                    final_output.append(output)\n",
    "                return final_output\n",
    "\n",
    "        def get_real(Y_padded_test):\n",
    "            # print(Y_padded_test.shape)\n",
    "            final_Y=[]\n",
    "            for i in range(Y_padded_test.shape[0]):\n",
    "                output=[]\n",
    "                for j in range(Y_padded_test.shape[1]):\n",
    "                    max_value=-1\n",
    "                    maxIndex=-1\n",
    "                    for k in range(Y_padded_test.shape[2]):\n",
    "                        if Y_padded_test[i][j][k]>max_value:\n",
    "                            maxIndex=k\n",
    "                            max_value=max(max_value,Y_padded_test[i][j][k])\n",
    "                    output.append(maxIndex)\n",
    "                final_Y.append(output)\n",
    "            return final_Y\n",
    "        \n",
    "        # print(\"here\")\n",
    "        pred_train=get_pred(y_pred_train)\n",
    "        # print(pred_train)\n",
    "        real_train=get_real(y_data)\n",
    "        # print(real_train)\n",
    "\n",
    "        pred_val=get_pred(y_pred_val)\n",
    "        real_val=get_real(y_val)\n",
    "\n",
    "        f1_train = scikitf1(pred_train,real_train)\n",
    "        f1_val = scikitf1(pred_val,real_val)\n",
    "\n",
    "        self.val_f1_scores.append(f1_val)\n",
    "        self.train_f1_scores.append(f1_train)\n",
    "        print(f'Val F1 Score: {f1_val} - Train F1 Score: {f1_train}')\n",
    "\n",
    "\n",
    "\n",
    "#---------Prediction Functions----------------------------------------------\n",
    "def get_pred(Y_padded_output):\n",
    "    final_output=[]\n",
    "    for i in range(Y_padded_output.shape[0]):\n",
    "        output=[]\n",
    "        for j in range(Y_padded_output.shape[1]):\n",
    "            max_value=-1\n",
    "            maxIndex=-1\n",
    "            for k in range(Y_padded_output.shape[2]):\n",
    "                if Y_padded_output[i][j][k]>max_value:\n",
    "                    maxIndex=k\n",
    "                    max_value=max(max_value,Y_padded_output[i][j][k])\n",
    "            output.append(maxIndex)\n",
    "        final_output.append(output)\n",
    "    return final_output\n",
    "\n",
    "def get_real(Y_padded_test):\n",
    "    final_Y=[]\n",
    "    for i in range(Y_padded_test.shape[0]):\n",
    "        output=[]\n",
    "        for j in range(Y_padded_test.shape[1]):\n",
    "            max_value=-1\n",
    "            maxIndex=-1\n",
    "            for k in range(Y_padded_test.shape[2]):\n",
    "                if Y_padded_test[i][j][k]>max_value:\n",
    "                    maxIndex=k\n",
    "                    max_value=max(max_value,Y_padded_test[i][j][k])\n",
    "            output.append(maxIndex)\n",
    "        final_Y.append(output)\n",
    "    return final_Y\n",
    "\n",
    "def my_f1(y_true, y_pred):\n",
    "    \n",
    "    # predictions = get_pred(y_pred)\n",
    "    # real = get_real(y_true)\n",
    "\n",
    "    predictions = y_pred\n",
    "    real = y_true\n",
    "\n",
    "    size=len(predictions)\n",
    "\n",
    "    unique_labels= set()\n",
    "\n",
    "    for labels in real:\n",
    "        unique_labels.update(labels)\n",
    "\n",
    "    for labels in predictions:\n",
    "        unique_labels.update(labels)\n",
    "\n",
    "    labels_f1=[]\n",
    "\n",
    "    for labels in unique_labels:\n",
    "        tp=0\n",
    "        fp=0\n",
    "        fn=0\n",
    "\n",
    "        for i in range(size):\n",
    "            l=[]\n",
    "                    \n",
    "            tp+=sum((p==labels and r==labels) for p,r in zip(predictions[i],real[i]))\n",
    "            fp+=sum((p==labels and r!=labels) for p,r in zip(predictions[i],real[i]))\n",
    "            fn+=sum((p!=labels and r==labels) for p,r in zip(predictions[i],real[i]))\n",
    "\n",
    "        \n",
    "        precision = tp/(tp+fp) if tp+fp>0 else 0\n",
    "        recall = tp/(tp+fn) if tp+fn>0 else 0\n",
    "\n",
    "        f1=2*((precision*recall)/(precision+recall)) if precision+recall>0 else 0\n",
    "\n",
    "        labels_f1.append(f1)\n",
    "        print(f1,unique_labels)\n",
    "    macro_f1 = sum(labels_f1)/len(unique_labels)\n",
    "    return macro_f1\n",
    "\n",
    "def scikitf1(pred,real):\n",
    "\n",
    "    true_labels_flat = [label for sublist in real for label in sublist]\n",
    "    predicted_labels_flat = [label for sublist in pred for label in sublist]\n",
    "    # Compute F1 score\n",
    "    f1 = f1_score(true_labels_flat, predicted_labels_flat, average='macro')\n",
    "    return f1"
   ]
  },
  {
   "cell_type": "code",
   "execution_count": null,
   "id": "bbc27df5",
   "metadata": {
    "papermill": {
     "duration": 0.013622,
     "end_time": "2024-03-10T12:42:38.528944",
     "exception": false,
     "start_time": "2024-03-10T12:42:38.515322",
     "status": "completed"
    },
    "tags": []
   },
   "outputs": [],
   "source": []
  },
  {
   "cell_type": "code",
   "execution_count": null,
   "id": "36ccd193",
   "metadata": {
    "execution": {
     "iopub.execute_input": "2024-03-10T11:35:48.164770Z",
     "iopub.status.busy": "2024-03-10T11:35:48.163348Z",
     "iopub.status.idle": "2024-03-10T11:35:48.175610Z",
     "shell.execute_reply": "2024-03-10T11:35:48.174822Z",
     "shell.execute_reply.started": "2024-03-10T11:35:48.164729Z"
    },
    "papermill": {
     "duration": 0.013501,
     "end_time": "2024-03-10T12:42:38.556161",
     "exception": false,
     "start_time": "2024-03-10T12:42:38.542660",
     "status": "completed"
    },
    "tags": []
   },
   "outputs": [],
   "source": []
  },
  {
   "cell_type": "code",
   "execution_count": 6,
   "id": "94766d85",
   "metadata": {
    "execution": {
     "iopub.execute_input": "2024-03-10T12:42:38.585364Z",
     "iopub.status.busy": "2024-03-10T12:42:38.585036Z",
     "iopub.status.idle": "2024-03-10T12:42:38.589753Z",
     "shell.execute_reply": "2024-03-10T12:42:38.588639Z"
    },
    "papermill": {
     "duration": 0.021383,
     "end_time": "2024-03-10T12:42:38.591543",
     "exception": false,
     "start_time": "2024-03-10T12:42:38.570160",
     "status": "completed"
    },
    "tags": []
   },
   "outputs": [],
   "source": [
    "seed_value = 18\n",
    "np.random.seed(seed_value)\n",
    "tf.random.set_seed(seed_value)"
   ]
  },
  {
   "cell_type": "code",
   "execution_count": 7,
   "id": "e0b5f783",
   "metadata": {
    "execution": {
     "iopub.execute_input": "2024-03-10T12:42:38.620765Z",
     "iopub.status.busy": "2024-03-10T12:42:38.620399Z",
     "iopub.status.idle": "2024-03-10T12:44:13.219287Z",
     "shell.execute_reply": "2024-03-10T12:44:13.218678Z"
    },
    "papermill": {
     "duration": 94.615515,
     "end_time": "2024-03-10T12:44:13.221124",
     "exception": false,
     "start_time": "2024-03-10T12:42:38.605609",
     "status": "completed"
    },
    "tags": []
   },
   "outputs": [],
   "source": [
    "if Embedding_name==\"word2vec\":\n",
    "    emb = KeyedVectors.load_word2vec_format(f'{PATH}WordEmbeddings/Word2vec.bin',binary=True)\n",
    "\n",
    "if Embedding_name==\"glove\":\n",
    "    with open(f'{PATH}WordEmbeddings/glove.840B.300d.pkl', 'rb') as fp:\n",
    "        emb = pickle.load(fp)\n",
    "if Embedding_name==\"fasttext\":\n",
    "    emb = fasttext.load_model(f'{PATH}WordEmbeddings/cc.en.300.bin')"
   ]
  },
  {
   "cell_type": "markdown",
   "id": "2863eee9",
   "metadata": {
    "papermill": {
     "duration": 0.013554,
     "end_time": "2024-03-10T12:44:13.249296",
     "exception": false,
     "start_time": "2024-03-10T12:44:13.235742",
     "status": "completed"
    },
    "tags": []
   },
   "source": [
    "# Data Extraction and Preprocessing"
   ]
  },
  {
   "cell_type": "markdown",
   "id": "0f6342d3",
   "metadata": {
    "papermill": {
     "duration": 0.013495,
     "end_time": "2024-03-10T12:44:13.276516",
     "exception": false,
     "start_time": "2024-03-10T12:44:13.263021",
     "status": "completed"
    },
    "tags": []
   },
   "source": [
    "Reading ATE json files"
   ]
  },
  {
   "cell_type": "code",
   "execution_count": 8,
   "id": "16f89921",
   "metadata": {
    "execution": {
     "iopub.execute_input": "2024-03-10T12:44:13.305690Z",
     "iopub.status.busy": "2024-03-10T12:44:13.304979Z",
     "iopub.status.idle": "2024-03-10T12:44:13.646398Z",
     "shell.execute_reply": "2024-03-10T12:44:13.645745Z"
    },
    "papermill": {
     "duration": 0.358085,
     "end_time": "2024-03-10T12:44:13.648331",
     "exception": false,
     "start_time": "2024-03-10T12:44:13.290246",
     "status": "completed"
    },
    "tags": []
   },
   "outputs": [],
   "source": [
    "\n",
    "train = None\n",
    "test = None\n",
    "val = None\n",
    "with open(f\"{PATH}Data/processed/{Dataset}_train.json\") as f1:\n",
    "    train = json.load(f1)\n",
    "\n",
    "with open(f\"{PATH}Data/processed/{Dataset}_test.json\") as f2:\n",
    "    test = json.load(f2)\n",
    "\n",
    "with open(f\"{PATH}Data/processed/{Dataset}_val.json\") as f3:\n",
    "    val = json.load(f3)\n",
    "\n"
   ]
  },
  {
   "cell_type": "markdown",
   "id": "b4b32712",
   "metadata": {
    "papermill": {
     "duration": 0.013669,
     "end_time": "2024-03-10T12:44:13.676423",
     "exception": false,
     "start_time": "2024-03-10T12:44:13.662754",
     "status": "completed"
    },
    "tags": []
   },
   "source": [
    "processing into lists"
   ]
  },
  {
   "cell_type": "code",
   "execution_count": 9,
   "id": "7b692da1",
   "metadata": {
    "execution": {
     "iopub.execute_input": "2024-03-10T12:44:13.705513Z",
     "iopub.status.busy": "2024-03-10T12:44:13.705004Z",
     "iopub.status.idle": "2024-03-10T12:44:13.715256Z",
     "shell.execute_reply": "2024-03-10T12:44:13.714591Z"
    },
    "papermill": {
     "duration": 0.026655,
     "end_time": "2024-03-10T12:44:13.716861",
     "exception": false,
     "start_time": "2024-03-10T12:44:13.690206",
     "status": "completed"
    },
    "tags": []
   },
   "outputs": [],
   "source": [
    "X_train,Y_train = create_train_test_val(train)\n",
    "X_test,Y_test = create_train_test_val(test)\n",
    "X_val,Y_val = create_train_test_val(val)"
   ]
  },
  {
   "cell_type": "markdown",
   "id": "eca408e0",
   "metadata": {
    "papermill": {
     "duration": 0.013579,
     "end_time": "2024-03-10T12:44:13.744654",
     "exception": false,
     "start_time": "2024-03-10T12:44:13.731075",
     "status": "completed"
    },
    "tags": []
   },
   "source": [
    "Tokenizing the ATE Dataset"
   ]
  },
  {
   "cell_type": "code",
   "execution_count": 10,
   "id": "51a296f0",
   "metadata": {
    "execution": {
     "iopub.execute_input": "2024-03-10T12:44:13.774306Z",
     "iopub.status.busy": "2024-03-10T12:44:13.774004Z",
     "iopub.status.idle": "2024-03-10T12:44:14.394378Z",
     "shell.execute_reply": "2024-03-10T12:44:14.393695Z"
    },
    "papermill": {
     "duration": 0.637529,
     "end_time": "2024-03-10T12:44:14.396374",
     "exception": false,
     "start_time": "2024-03-10T12:44:13.758845",
     "status": "completed"
    },
    "tags": []
   },
   "outputs": [],
   "source": [
    "X_train_tokenized, toke = TokenCreator(X_train,1)\n",
    "X_test_tokenized = TokenCreator(X_test,0,tokenizer = toke)\n",
    "X_val_tokenized = TokenCreator(X_val,0,tokenizer = toke)\n",
    "\n",
    "Y_train_tokenized,toke2 = TokenCreator(Y_train,0)\n",
    "Y_test_tokenized = TokenCreator(Y_test,0,tokenizer = toke2)\n",
    "Y_val_tokenized = TokenCreator(Y_val,0,tokenizer = toke2)"
   ]
  },
  {
   "cell_type": "markdown",
   "id": "860338ed",
   "metadata": {
    "papermill": {
     "duration": 0.013678,
     "end_time": "2024-03-10T12:44:14.424267",
     "exception": false,
     "start_time": "2024-03-10T12:44:14.410589",
     "status": "completed"
    },
    "tags": []
   },
   "source": [
    "Vocabulary of ATE"
   ]
  },
  {
   "cell_type": "code",
   "execution_count": 11,
   "id": "501f95ba",
   "metadata": {
    "execution": {
     "iopub.execute_input": "2024-03-10T12:44:14.497022Z",
     "iopub.status.busy": "2024-03-10T12:44:14.496688Z",
     "iopub.status.idle": "2024-03-10T12:44:14.528251Z",
     "shell.execute_reply": "2024-03-10T12:44:14.527417Z"
    },
    "papermill": {
     "duration": 0.048228,
     "end_time": "2024-03-10T12:44:14.530046",
     "exception": false,
     "start_time": "2024-03-10T12:44:14.481818",
     "status": "completed"
    },
    "tags": []
   },
   "outputs": [
    {
     "data": {
      "text/plain": [
       "30220"
      ]
     },
     "execution_count": 11,
     "metadata": {},
     "output_type": "execute_result"
    }
   ],
   "source": [
    "st1 = find_vocab(X_train_tokenized)\n",
    "vocab_size  = len(st1) + 1 \n",
    "vocab_size"
   ]
  },
  {
   "cell_type": "code",
   "execution_count": 12,
   "id": "5cef91e6",
   "metadata": {
    "execution": {
     "iopub.execute_input": "2024-03-10T12:44:14.561481Z",
     "iopub.status.busy": "2024-03-10T12:44:14.560661Z",
     "iopub.status.idle": "2024-03-10T12:44:14.569272Z",
     "shell.execute_reply": "2024-03-10T12:44:14.568641Z"
    },
    "papermill": {
     "duration": 0.025329,
     "end_time": "2024-03-10T12:44:14.570890",
     "exception": false,
     "start_time": "2024-03-10T12:44:14.545561",
     "status": "completed"
    },
    "tags": []
   },
   "outputs": [
    {
     "data": {
      "text/plain": [
       "70"
      ]
     },
     "execution_count": 12,
     "metadata": {},
     "output_type": "execute_result"
    }
   ],
   "source": [
    "max_len=0\n",
    "\n",
    "for i in X_train_tokenized:\n",
    "    max_len = max(max_len,len(i))\n",
    "\n",
    "max_len"
   ]
  },
  {
   "cell_type": "markdown",
   "id": "341b409d",
   "metadata": {
    "papermill": {
     "duration": 0.014092,
     "end_time": "2024-03-10T12:44:14.599485",
     "exception": false,
     "start_time": "2024-03-10T12:44:14.585393",
     "status": "completed"
    },
    "tags": []
   },
   "source": [
    "Padding ATE"
   ]
  },
  {
   "cell_type": "code",
   "execution_count": 13,
   "id": "991314e0",
   "metadata": {
    "execution": {
     "iopub.execute_input": "2024-03-10T12:44:14.629643Z",
     "iopub.status.busy": "2024-03-10T12:44:14.629328Z",
     "iopub.status.idle": "2024-03-10T12:44:14.700427Z",
     "shell.execute_reply": "2024-03-10T12:44:14.699508Z"
    },
    "papermill": {
     "duration": 0.088704,
     "end_time": "2024-03-10T12:44:14.702500",
     "exception": false,
     "start_time": "2024-03-10T12:44:14.613796",
     "status": "completed"
    },
    "tags": []
   },
   "outputs": [],
   "source": [
    "X_padded_train = pad_sequences(X_train_tokenized, maxlen=max_len, padding=\"pre\", truncating=\"post\")\n",
    "Y_padded_train = pad_sequences(Y_train_tokenized, maxlen=max_len, padding=\"pre\", truncating=\"post\")\n",
    "\n",
    "X_padded_test = pad_sequences(X_test_tokenized, maxlen=max_len, padding=\"pre\", truncating=\"post\")\n",
    "Y_padded_test = pad_sequences(Y_test_tokenized, maxlen=max_len, padding=\"pre\", truncating=\"post\")\n",
    "\n",
    "X_padded_val = pad_sequences(X_val_tokenized, maxlen=max_len, padding=\"pre\", truncating=\"post\")\n",
    "Y_padded_val = pad_sequences(Y_val_tokenized, maxlen=max_len, padding=\"pre\", truncating=\"post\")       "
   ]
  },
  {
   "cell_type": "markdown",
   "id": "2bf45a1f",
   "metadata": {
    "papermill": {
     "duration": 0.014075,
     "end_time": "2024-03-10T12:44:14.731392",
     "exception": false,
     "start_time": "2024-03-10T12:44:14.717317",
     "status": "completed"
    },
    "tags": []
   },
   "source": [
    "One hot encoding the ATE labels"
   ]
  },
  {
   "cell_type": "code",
   "execution_count": 14,
   "id": "685d35c0",
   "metadata": {
    "execution": {
     "iopub.execute_input": "2024-03-10T12:44:14.761819Z",
     "iopub.status.busy": "2024-03-10T12:44:14.761491Z",
     "iopub.status.idle": "2024-03-10T12:44:14.792948Z",
     "shell.execute_reply": "2024-03-10T12:44:14.792111Z"
    },
    "papermill": {
     "duration": 0.049118,
     "end_time": "2024-03-10T12:44:14.794970",
     "exception": false,
     "start_time": "2024-03-10T12:44:14.745852",
     "status": "completed"
    },
    "tags": []
   },
   "outputs": [],
   "source": [
    "Y_padded_train = to_categorical(Y_padded_train)\n",
    "Y_padded_test = to_categorical(Y_padded_test)\n",
    "Y_padded_val = to_categorical(Y_padded_val)"
   ]
  },
  {
   "cell_type": "markdown",
   "id": "3e707874",
   "metadata": {
    "papermill": {
     "duration": 0.013905,
     "end_time": "2024-03-10T12:44:14.823673",
     "exception": false,
     "start_time": "2024-03-10T12:44:14.809768",
     "status": "completed"
    },
    "tags": []
   },
   "source": [
    "Assigning **ATE Word2Vec** mapping"
   ]
  },
  {
   "cell_type": "code",
   "execution_count": 15,
   "id": "5ee65304",
   "metadata": {
    "execution": {
     "iopub.execute_input": "2024-03-10T12:44:14.853360Z",
     "iopub.status.busy": "2024-03-10T12:44:14.853009Z",
     "iopub.status.idle": "2024-03-10T12:44:14.879552Z",
     "shell.execute_reply": "2024-03-10T12:44:14.878821Z"
    },
    "papermill": {
     "duration": 0.043336,
     "end_time": "2024-03-10T12:44:14.881207",
     "exception": false,
     "start_time": "2024-03-10T12:44:14.837871",
     "status": "completed"
    },
    "tags": []
   },
   "outputs": [
    {
     "data": {
      "text/plain": [
       "{'#UK': 1,\n",
       " 'the': 2,\n",
       " 'of': 3,\n",
       " 'in': 4,\n",
       " 'to': 5,\n",
       " 'and': 6,\n",
       " 'that': 7,\n",
       " 'a': 8,\n",
       " 'was': 9,\n",
       " 'is': 10,\n",
       " 'by': 11,\n",
       " 'on': 12,\n",
       " 'as': 13,\n",
       " 'for': 14,\n",
       " 'be': 15,\n",
       " 'it': 16,\n",
       " 'court': 17,\n",
       " 'not': 18,\n",
       " 'has': 19,\n",
       " 'under': 20,\n",
       " 'this': 21,\n",
       " 'section': 22,\n",
       " 'which': 23,\n",
       " 'with': 24,\n",
       " 'or': 25,\n",
       " 'at': 26,\n",
       " 'he': 27,\n",
       " 'case': 28,\n",
       " 'no.': 29,\n",
       " 'from': 30,\n",
       " 'been': 31,\n",
       " 'his': 32,\n",
       " 'an': 33,\n",
       " 'had': 34,\n",
       " 'are': 35,\n",
       " 'were': 36,\n",
       " 'v.': 37,\n",
       " 'state': 38,\n",
       " 'also': 39,\n",
       " 'have': 40,\n",
       " 'act': 41,\n",
       " 'order': 42,\n",
       " 'any': 43,\n",
       " 'no': 44,\n",
       " 'high': 45,\n",
       " 'accused': 46,\n",
       " 'learned': 47,\n",
       " 'said': 48,\n",
       " 'there': 49,\n",
       " 'dated': 50,\n",
       " 'supreme': 51,\n",
       " 'made': 52,\n",
       " 'would': 53,\n",
       " 'before': 54,\n",
       " 'singh': 55,\n",
       " 'held': 56,\n",
       " 'who': 57,\n",
       " 'such': 58,\n",
       " 'against': 59,\n",
       " 'other': 60,\n",
       " 'but': 61,\n",
       " 'their': 62,\n",
       " 'one': 63,\n",
       " 'if': 64,\n",
       " 'respondent': 65,\n",
       " 'filed': 66,\n",
       " 'appeal': 67,\n",
       " 'appellant': 68,\n",
       " 'evidence': 69,\n",
       " '&': 70,\n",
       " 'all': 71,\n",
       " 'only': 72,\n",
       " 'decision': 73,\n",
       " 'after': 74,\n",
       " 'we': 75,\n",
       " 'they': 76,\n",
       " 'petitioner': 77,\n",
       " 'government': 78,\n",
       " 'may': 79,\n",
       " 'judgment': 80,\n",
       " 'act,': 81,\n",
       " 'its': 82,\n",
       " 'when': 83,\n",
       " 'counsel': 84,\n",
       " 'view': 85,\n",
       " 'same': 86,\n",
       " 'application': 87,\n",
       " 'india': 88,\n",
       " 'out': 89,\n",
       " 'can': 90,\n",
       " 'further': 91,\n",
       " 'petition': 92,\n",
       " 'whether': 93,\n",
       " 'two': 94,\n",
       " 'bench': 95,\n",
       " 'stated': 96,\n",
       " 'provisions': 97,\n",
       " 'question': 98,\n",
       " 'her': 99,\n",
       " 'law': 100,\n",
       " 'cannot': 101,\n",
       " 'vs.': 102,\n",
       " 'therefore,': 103,\n",
       " 'civil': 104,\n",
       " 'first': 105,\n",
       " 'article': 106,\n",
       " 'police': 107,\n",
       " 'should': 108,\n",
       " 'mr.': 109,\n",
       " '1': 110,\n",
       " 'suit': 111,\n",
       " 'could': 112,\n",
       " 'upon': 113,\n",
       " 'will': 114,\n",
       " 'these': 115,\n",
       " 'taken': 116,\n",
       " 'so': 117,\n",
       " 'passed': 118,\n",
       " 'writ': 119,\n",
       " 'rule': 120,\n",
       " 'about': 121,\n",
       " 'where': 122,\n",
       " 'referred': 123,\n",
       " 'judge': 124,\n",
       " 'being': 125,\n",
       " 'him': 126,\n",
       " 'given': 127,\n",
       " 'even': 128,\n",
       " 'i': 129,\n",
       " 'kumar': 130,\n",
       " 'into': 131,\n",
       " 'right': 132,\n",
       " 'p.': 133,\n",
       " 'present': 134,\n",
       " 'per': 135,\n",
       " 'ltd.': 136,\n",
       " 'rs.': 137,\n",
       " 'act.': 138,\n",
       " '2': 139,\n",
       " ':': 140,\n",
       " 'air': 141,\n",
       " 'time': 142,\n",
       " 'criminal': 143,\n",
       " \"hon'ble\": 144,\n",
       " 'constitution': 145,\n",
       " 'j.': 146,\n",
       " 'delhi': 147,\n",
       " 'defendant': 148,\n",
       " 'issued': 149,\n",
       " 'matter': 150,\n",
       " 'shall': 151,\n",
       " 'must': 152,\n",
       " 'did': 153,\n",
       " 'plaintiff': 154,\n",
       " 'respect': 155,\n",
       " 'she': 156,\n",
       " 'statement': 157,\n",
       " 'submitted': 158,\n",
       " 'company': 159,\n",
       " '3': 160,\n",
       " 'case,': 161,\n",
       " 'special': 162,\n",
       " 'property': 163,\n",
       " 's.': 164,\n",
       " 'then': 165,\n",
       " 'shri': 166,\n",
       " 'power': 167,\n",
       " 'between': 168,\n",
       " 'does': 169,\n",
       " 'while': 170,\n",
       " 'notice': 171,\n",
       " 'tribunal': 172,\n",
       " 'within': 173,\n",
       " 'above': 174,\n",
       " 'date': 175,\n",
       " 'trial': 176,\n",
       " 'person': 177,\n",
       " 'public': 178,\n",
       " 'facts': 179,\n",
       " 'offence': 180,\n",
       " 'sc': 181,\n",
       " 'scc': 182,\n",
       " 'court,': 183,\n",
       " 'having': 184,\n",
       " 'however,': 185,\n",
       " 'deceased': 186,\n",
       " 'tax': 187,\n",
       " 'division': 188,\n",
       " 'house': 189,\n",
       " 'land': 190,\n",
       " 'them': 191,\n",
       " 'petitioners': 192,\n",
       " 'district': 193,\n",
       " 'new': 194,\n",
       " '(1)': 195,\n",
       " 'code': 196,\n",
       " 'apex': 197,\n",
       " 'relied': 198,\n",
       " 'general': 199,\n",
       " 'persons': 200,\n",
       " 'down': 201,\n",
       " 'officer': 202,\n",
       " 'observed': 203,\n",
       " 'found': 204,\n",
       " 'justice': 205,\n",
       " 'court.': 206,\n",
       " 'union': 207,\n",
       " 'both': 208,\n",
       " '4': 209,\n",
       " 'examined': 210,\n",
       " 'central': 211,\n",
       " 'without': 212,\n",
       " 'what': 213,\n",
       " 'some': 214,\n",
       " 'reference': 215,\n",
       " 'though': 216,\n",
       " 'came': 217,\n",
       " 'sections': 218,\n",
       " 'indian': 219,\n",
       " 'cases': 220,\n",
       " 'another': 221,\n",
       " 'jurisdiction': 222,\n",
       " 'page': 223,\n",
       " 'basis': 224,\n",
       " 'claim': 225,\n",
       " 'amount': 226,\n",
       " 'report': 227,\n",
       " 'effect': 228,\n",
       " 'up': 229,\n",
       " 'part': 230,\n",
       " 'possession': 231,\n",
       " 'witness': 232,\n",
       " 'following': 233,\n",
       " '5': 234,\n",
       " '-': 235,\n",
       " 'assessee': 236,\n",
       " 'since': 237,\n",
       " 'year': 238,\n",
       " 'prosecution': 239,\n",
       " 'fact': 240,\n",
       " 'authority': 241,\n",
       " 'bank': 242,\n",
       " 'considered': 243,\n",
       " 'complainant': 244,\n",
       " 'during': 245,\n",
       " 'behalf': 246,\n",
       " 'three': 247,\n",
       " '(2)': 248,\n",
       " 'service': 249,\n",
       " 'years': 250,\n",
       " 'income': 251,\n",
       " 'ram': 252,\n",
       " 'regard': 253,\n",
       " '6': 254,\n",
       " 'c.': 255,\n",
       " 'rules': 256,\n",
       " 'placed': 257,\n",
       " 'sale': 258,\n",
       " 'co.': 259,\n",
       " 'reported': 260,\n",
       " 'proceedings': 261,\n",
       " 'place': 262,\n",
       " 'aforesaid': 263,\n",
       " 'record': 264,\n",
       " 'because': 265,\n",
       " 'appellants': 266,\n",
       " 'do': 267,\n",
       " 'complaint': 268,\n",
       " 'registered': 269,\n",
       " 'necessary': 270,\n",
       " 'additional': 271,\n",
       " 'make': 272,\n",
       " 'well': 273,\n",
       " 'according': 274,\n",
       " 'respondents': 275,\n",
       " 'ground': 276,\n",
       " 'chief': 277,\n",
       " 'period': 278,\n",
       " 'through': 279,\n",
       " 'procedure': 280,\n",
       " 'those': 281,\n",
       " 'business': 282,\n",
       " 'more': 283,\n",
       " 'clause': 284,\n",
       " 'relevant': 285,\n",
       " '(supra)': 286,\n",
       " 'interest': 287,\n",
       " 'legal': 288,\n",
       " 'mentioned': 289,\n",
       " 'our': 290,\n",
       " 'favour': 291,\n",
       " 'take': 292,\n",
       " 'second': 293,\n",
       " 'read': 294,\n",
       " 'over': 295,\n",
       " 'far': 296,\n",
       " 'than': 297,\n",
       " 'others': 298,\n",
       " 'decided': 299,\n",
       " 'point': 300,\n",
       " 'witnesses': 301,\n",
       " 'set': 302,\n",
       " 'deposed': 303,\n",
       " 'singh,': 304,\n",
       " 'pw': 305,\n",
       " 'judicial': 306,\n",
       " 'ors.': 307,\n",
       " 'certain': 308,\n",
       " 'consideration': 309,\n",
       " 'now': 310,\n",
       " 'circumstances': 311,\n",
       " 'assessment': 312,\n",
       " 'issue': 313,\n",
       " 'laid': 314,\n",
       " 'terms': 315,\n",
       " 'letter': 316,\n",
       " 'p.w.': 317,\n",
       " 'support': 318,\n",
       " 'board': 319,\n",
       " 'received': 320,\n",
       " 'nos.': 321,\n",
       " 'account': 322,\n",
       " 'provision': 323,\n",
       " 'punjab': 324,\n",
       " 'earlier': 325,\n",
       " 'insurance': 326,\n",
       " 'ex.': 327,\n",
       " 'goods': 328,\n",
       " 'contention': 329,\n",
       " 'corporation': 330,\n",
       " 'notification': 331,\n",
       " 'commission': 332,\n",
       " '7': 333,\n",
       " 'bombay': 334,\n",
       " '8': 335,\n",
       " 'india,': 336,\n",
       " 'sessions': 337,\n",
       " 'took': 338,\n",
       " 'party': 339,\n",
       " 'r.': 340,\n",
       " 'vide': 341,\n",
       " 'purpose': 342,\n",
       " 'pradesh': 343,\n",
       " 'used': 344,\n",
       " 'already': 345,\n",
       " 'alleged': 346,\n",
       " 'recorded': 347,\n",
       " 'name': 348,\n",
       " 'compensation': 349,\n",
       " 'contended': 350,\n",
       " 'dr.': 351,\n",
       " '\"the': 352,\n",
       " 'parties': 353,\n",
       " 'clear': 354,\n",
       " 'commissioner': 355,\n",
       " 'show': 356,\n",
       " 'entitled': 357,\n",
       " 'us': 358,\n",
       " 'directed': 359,\n",
       " 'action': 360,\n",
       " 'courts': 361,\n",
       " 'different': 362,\n",
       " 'reliance': 363,\n",
       " 'no.1': 364,\n",
       " 'office': 365,\n",
       " 'admitted': 366,\n",
       " 'case.': 367,\n",
       " 'decisions': 368,\n",
       " 'agreement': 369,\n",
       " 'thus': 370,\n",
       " 'come': 371,\n",
       " 'due': 372,\n",
       " 'income-tax': 373,\n",
       " 'magistrate': 374,\n",
       " 'regarding': 375,\n",
       " 'transport': 376,\n",
       " 'w.': 377,\n",
       " 'granted': 378,\n",
       " 'decree': 379,\n",
       " '10': 380,\n",
       " 'sri': 381,\n",
       " 'k.': 382,\n",
       " 'my': 383,\n",
       " 'ipc': 384,\n",
       " 'motor': 385,\n",
       " 'file': 386,\n",
       " 'required': 387,\n",
       " 'vehicle': 388,\n",
       " 'orders': 389,\n",
       " 'charge': 390,\n",
       " 'paid': 391,\n",
       " 'very': 392,\n",
       " 'and,': 393,\n",
       " ',': 394,\n",
       " 'lal': 395,\n",
       " 'payment': 396,\n",
       " 'subject': 397,\n",
       " 'medical': 398,\n",
       " 'exercise': 399,\n",
       " 'allowed': 400,\n",
       " 'original': 401,\n",
       " 'impugned': 402,\n",
       " 'opinion': 403,\n",
       " 'pay': 404,\n",
       " 'investigation': 405,\n",
       " 'rights': 406,\n",
       " '.': 407,\n",
       " 'powers': 408,\n",
       " 'smt.': 409,\n",
       " 'contract': 410,\n",
       " 'appellate': 411,\n",
       " 'observations': 412,\n",
       " 'meaning': 413,\n",
       " 'a.': 414,\n",
       " 'appears': 415,\n",
       " 'owner': 416,\n",
       " '9': 417,\n",
       " 'way': 418,\n",
       " 'nature': 419,\n",
       " '14': 420,\n",
       " 'grant': 421,\n",
       " 'j.,': 422,\n",
       " 'reasonable': 423,\n",
       " 'brought': 424,\n",
       " '2.': 425,\n",
       " 'itself': 426,\n",
       " 'list': 427,\n",
       " 'duty': 428,\n",
       " 'death': 429,\n",
       " 'concerned': 430,\n",
       " 'taking': 431,\n",
       " 'available': 432,\n",
       " 'nor': 433,\n",
       " 'third': 434,\n",
       " '12': 435,\n",
       " 'copy': 436,\n",
       " 'legislature': 437,\n",
       " 'therefore': 438,\n",
       " 'either': 439,\n",
       " 'single': 440,\n",
       " 'cr.p.c.': 441,\n",
       " 'raised': 442,\n",
       " 'again': 443,\n",
       " 'full': 444,\n",
       " 'find': 445,\n",
       " 'judge,': 446,\n",
       " 'prasad': 447,\n",
       " 'consider': 448,\n",
       " 'words': 449,\n",
       " 'along': 450,\n",
       " 'sh.': 451,\n",
       " 'provided': 452,\n",
       " 'claimed': 453,\n",
       " 'him.': 454,\n",
       " 'itr': 455,\n",
       " 'documents': 456,\n",
       " 'material': 457,\n",
       " 'area': 458,\n",
       " 'fir': 459,\n",
       " 'examination': 460,\n",
       " 'station': 461,\n",
       " 'each': 462,\n",
       " 'village': 463,\n",
       " 'clearly': 464,\n",
       " 'similar': 465,\n",
       " 'holding': 466,\n",
       " 'transfer': 467,\n",
       " 'pointed': 468,\n",
       " 'document': 469,\n",
       " 'offences': 470,\n",
       " 'penal': 471,\n",
       " 'm.': 472,\n",
       " 'post': 473,\n",
       " 'india.': 474,\n",
       " 'n.': 475,\n",
       " 'election': 476,\n",
       " 'including': 477,\n",
       " '@': 478,\n",
       " 'liable': 479,\n",
       " 'sub-section': 480,\n",
       " 'written': 481,\n",
       " 'leave': 482,\n",
       " 'based': 483,\n",
       " 'information': 484,\n",
       " 'appeals': 485,\n",
       " 'own': 486,\n",
       " 'sent': 487,\n",
       " 'hold': 488,\n",
       " 'number': 489,\n",
       " 'reason': 490,\n",
       " 'industrial': 491,\n",
       " 'open': 492,\n",
       " 'sought': 493,\n",
       " 'course': 494,\n",
       " 'revenue': 495,\n",
       " 'force': 496,\n",
       " 'position': 497,\n",
       " 'liability': 498,\n",
       " 'back': 499,\n",
       " 'established': 500,\n",
       " 'para': 501,\n",
       " 'madras': 502,\n",
       " 'parliament': 503,\n",
       " 'cit': 504,\n",
       " 'true': 505,\n",
       " 'affidavit': 506,\n",
       " 'statutory': 507,\n",
       " 'considering': 508,\n",
       " 'entry': 509,\n",
       " '1st': 510,\n",
       " 'common': 511,\n",
       " 'award': 512,\n",
       " 'constitution.': 513,\n",
       " 'dismissed': 514,\n",
       " 'dispute': 515,\n",
       " 'son': 516,\n",
       " 'articles': 517,\n",
       " 'applicable': 518,\n",
       " 'give': 519,\n",
       " 'petitions': 520,\n",
       " 'advocate': 521,\n",
       " 'went': 522,\n",
       " 'services': 523,\n",
       " 'proved': 524,\n",
       " 'cause': 525,\n",
       " 'produced': 526,\n",
       " '1,': 527,\n",
       " 'defendants': 528,\n",
       " 'principles': 529,\n",
       " 'kerala': 530,\n",
       " 'various': 531,\n",
       " 'reasons': 532,\n",
       " 'punishable': 533,\n",
       " 'merely': 534,\n",
       " 'that,': 535,\n",
       " 'wife': 536,\n",
       " 'result': 537,\n",
       " 'working': 538,\n",
       " 'b.': 539,\n",
       " 'rajasthan': 540,\n",
       " 'm/s': 541,\n",
       " 'body': 542,\n",
       " 'contained': 543,\n",
       " 'prior': 544,\n",
       " 'scheme': 545,\n",
       " 'appearing': 546,\n",
       " '15': 547,\n",
       " 'vehicles': 548,\n",
       " 'father': 549,\n",
       " '11': 550,\n",
       " 'loss': 551,\n",
       " 'making': 552,\n",
       " 'ld.': 553,\n",
       " 'limited': 554,\n",
       " '(3)': 555,\n",
       " 'put': 556,\n",
       " '(b)': 557,\n",
       " 'conclusion': 558,\n",
       " 'concerned,': 559,\n",
       " 'member': 560,\n",
       " 'use': 561,\n",
       " 'amendment': 562,\n",
       " 'officer,': 563,\n",
       " 'wherein': 564,\n",
       " 'registration': 565,\n",
       " 'himself': 566,\n",
       " 'bearing': 567,\n",
       " 'haryana': 568,\n",
       " 'relating': 569,\n",
       " 'sufficient': 570,\n",
       " 'argued': 571,\n",
       " 'law.': 572,\n",
       " 'recovery': 573,\n",
       " 'accepted': 574,\n",
       " 'control': 575,\n",
       " 'trade': 576,\n",
       " 'premises': 577,\n",
       " 'left': 578,\n",
       " 'crime': 579,\n",
       " 'senior': 580,\n",
       " 'thus,': 581,\n",
       " 'injuries': 582,\n",
       " 'family': 583,\n",
       " 'committed': 584,\n",
       " 'principle': 585,\n",
       " 'done': 586,\n",
       " 'nothing': 587,\n",
       " 'form': 588,\n",
       " 'department': 589,\n",
       " '4.': 590,\n",
       " 'rent': 591,\n",
       " 'ltd.,': 592,\n",
       " '1.': 593,\n",
       " '34': 594,\n",
       " 'head': 595,\n",
       " 'noted': 596,\n",
       " '(air': 597,\n",
       " 'construction': 598,\n",
       " 'preferred': 599,\n",
       " 'certificate': 600,\n",
       " 'committee': 601,\n",
       " 'finding': 602,\n",
       " 'like': 603,\n",
       " 'private': 604,\n",
       " 'entered': 605,\n",
       " 'chand': 606,\n",
       " 'provides': 607,\n",
       " 'got': 608,\n",
       " 'sum': 609,\n",
       " 'particular': 610,\n",
       " 'proceeding': 611,\n",
       " 'argument': 612,\n",
       " 'last': 613,\n",
       " 'lord': 614,\n",
       " 'national': 615,\n",
       " 'settled': 616,\n",
       " 'valid': 617,\n",
       " 'assistant': 618,\n",
       " 'cheque': 619,\n",
       " 'members': 620,\n",
       " 'treated': 621,\n",
       " 'word': 622,\n",
       " 'light': 623,\n",
       " '226': 624,\n",
       " '(a)': 625,\n",
       " '\"': 626,\n",
       " 'towards': 627,\n",
       " 'statute': 628,\n",
       " 'obtained': 629,\n",
       " 'applicant': 630,\n",
       " 'magistrate,': 631,\n",
       " 'age': 632,\n",
       " 'm/s.': 633,\n",
       " 'council': 634,\n",
       " 'heard': 635,\n",
       " 'value': 636,\n",
       " 'connection': 637,\n",
       " 'appointed': 638,\n",
       " 'inspector': 639,\n",
       " 'denied': 640,\n",
       " 'outside': 641,\n",
       " 'drawn': 642,\n",
       " 'stage': 643,\n",
       " 'note': 644,\n",
       " 'follows:': 645,\n",
       " 'calcutta': 646,\n",
       " 'brother': 647,\n",
       " 'every': 648,\n",
       " 'see': 649,\n",
       " 'intention': 650,\n",
       " 'defence': 651,\n",
       " 'karnataka': 652,\n",
       " 'thereafter': 653,\n",
       " 'stand': 654,\n",
       " 'u/s': 655,\n",
       " 'near': 656,\n",
       " 'accident': 657,\n",
       " 'deed': 658,\n",
       " 'prove': 659,\n",
       " 'deputy': 660,\n",
       " 'followed': 661,\n",
       " '13': 662,\n",
       " 'context': 663,\n",
       " 'i.e.': 664,\n",
       " 'guilty': 665,\n",
       " 'called': 666,\n",
       " 'proviso': 667,\n",
       " 'lordships': 668,\n",
       " 'revision': 669,\n",
       " 'doubt': 670,\n",
       " 'sentence': 671,\n",
       " 'states': 672,\n",
       " 'mind': 673,\n",
       " 'appointment': 674,\n",
       " 'judges': 675,\n",
       " 'policy': 676,\n",
       " 'accused.': 677,\n",
       " 'road': 678,\n",
       " 'hearing': 679,\n",
       " 'tamil': 680,\n",
       " 'dealing': 681,\n",
       " 'go': 682,\n",
       " 'scope': 683,\n",
       " 'bail': 684,\n",
       " 'conditions': 685,\n",
       " 'proper': 686,\n",
       " '20': 687,\n",
       " 'west': 688,\n",
       " 'seeking': 689,\n",
       " '(c)': 690,\n",
       " 'filing': 691,\n",
       " 'them.': 692,\n",
       " 'relief': 693,\n",
       " 'legislative': 694,\n",
       " 'sales': 695,\n",
       " 'accordance': 696,\n",
       " 'so,': 697,\n",
       " 'etc.': 698,\n",
       " 'till': 699,\n",
       " 'need': 700,\n",
       " 'andhra': 701,\n",
       " 'aside': 702,\n",
       " 'code.': 703,\n",
       " 'competent': 704,\n",
       " 'fundamental': 705,\n",
       " 'day': 706,\n",
       " 'specific': 707,\n",
       " '16': 708,\n",
       " 'prepared': 709,\n",
       " 'under:': 710,\n",
       " 'authorities': 711,\n",
       " 'madhya': 712,\n",
       " 'executed': 713,\n",
       " 'hospital': 714,\n",
       " 'refer': 715,\n",
       " 'purposes': 716,\n",
       " 'decide': 717,\n",
       " 'raj': 718,\n",
       " 'matters': 719,\n",
       " 'seen': 720,\n",
       " 'sharma': 721,\n",
       " 'gujarat': 722,\n",
       " 'rules,': 723,\n",
       " 'ipc.': 724,\n",
       " 'excise': 725,\n",
       " '3.': 726,\n",
       " 'reached': 727,\n",
       " 'contrary': 728,\n",
       " 'rendered': 729,\n",
       " 'schedule': 730,\n",
       " 'firm': 731,\n",
       " 'devi': 732,\n",
       " 'limitation': 733,\n",
       " 'conviction': 734,\n",
       " 'covered': 735,\n",
       " 'validity': 736,\n",
       " 'acquisition': 737,\n",
       " 'chandra': 738,\n",
       " 'paragraph': 739,\n",
       " 'days': 740,\n",
       " 'work': 741,\n",
       " 'bihar': 742,\n",
       " 'thereafter,': 743,\n",
       " 'failed': 744,\n",
       " 'get': 745,\n",
       " 'appropriate': 746,\n",
       " 'review': 747,\n",
       " 'direction': 748,\n",
       " 'subsequent': 749,\n",
       " 'director': 750,\n",
       " 'namely': 751,\n",
       " 'how': 752,\n",
       " 'hand,': 753,\n",
       " 'delhi.': 754,\n",
       " 'is,': 755,\n",
       " 'purchase': 756,\n",
       " 'delay': 757,\n",
       " 'except': 758,\n",
       " 'entire': 759,\n",
       " 'say': 760,\n",
       " 'framed': 761,\n",
       " '2,': 762,\n",
       " 'absence': 763,\n",
       " 'art.': 764,\n",
       " 'applications': 765,\n",
       " 'unless': 766,\n",
       " 'husband': 767,\n",
       " 'hand': 768,\n",
       " 'pending': 769,\n",
       " '(4)': 770,\n",
       " 'supply': 771,\n",
       " '25': 772,\n",
       " 'gave': 773,\n",
       " 'claimant': 774,\n",
       " 'fixed': 775,\n",
       " 'cr.': 776,\n",
       " 'p.m.': 777,\n",
       " '(i)': 778,\n",
       " 'plaintiffs': 779,\n",
       " 'rate': 780,\n",
       " 'above,': 781,\n",
       " 'order,': 782,\n",
       " 'away': 783,\n",
       " 'personal': 784,\n",
       " 'declaration': 785,\n",
       " 'employees': 786,\n",
       " 'request': 787,\n",
       " 'presence': 788,\n",
       " 'coming': 789,\n",
       " '302': 790,\n",
       " 'prescribed': 791,\n",
       " 'driver': 792,\n",
       " 'permit': 793,\n",
       " 'condition': 794,\n",
       " 'still': 795,\n",
       " '(supra),': 796,\n",
       " 'opinion,': 797,\n",
       " 'submission': 798,\n",
       " 'interim': 799,\n",
       " 'april': 800,\n",
       " 'challenged': 801,\n",
       " 'nadu': 802,\n",
       " 'total': 803,\n",
       " 'convicted': 804,\n",
       " 'cbi': 805,\n",
       " 'amended': 806,\n",
       " 'expression': 807,\n",
       " 'conduct': 808,\n",
       " 'giving': 809,\n",
       " 'term': 810,\n",
       " 'no.2': 811,\n",
       " 'president': 812,\n",
       " 'enquiry': 813,\n",
       " 'beyond': 814,\n",
       " 'namely,': 815,\n",
       " '17': 816,\n",
       " 'shows': 817,\n",
       " 'lease': 818,\n",
       " 'whom': 819,\n",
       " '2008': 820,\n",
       " 'interpretation': 821,\n",
       " 'caused': 822,\n",
       " 'next': 823,\n",
       " 'benefit': 824,\n",
       " 'extent': 825,\n",
       " 'neither': 826,\n",
       " 'whole': 827,\n",
       " 'applied': 828,\n",
       " 'shown': 829,\n",
       " 'pvt.': 830,\n",
       " 'once': 831,\n",
       " '18': 832,\n",
       " 'cited': 833,\n",
       " 'december': 834,\n",
       " '2007': 835,\n",
       " 'g.': 836,\n",
       " 'investigating': 837,\n",
       " 'am': 838,\n",
       " 'officers': 839,\n",
       " '3,': 840,\n",
       " 'urged': 841,\n",
       " 'rao': 842,\n",
       " 'main': 843,\n",
       " 'bar': 844,\n",
       " 'means': 845,\n",
       " '2nd': 846,\n",
       " 'declared': 847,\n",
       " 'bengal': 848,\n",
       " 'provide': 849,\n",
       " 'allegations': 850,\n",
       " 'viz.,': 851,\n",
       " '19': 852,\n",
       " 'execution': 853,\n",
       " 'regards': 854,\n",
       " 'constituted': 855,\n",
       " ':-': 856,\n",
       " 'mills': 857,\n",
       " 'v': 858,\n",
       " 'it.': 859,\n",
       " '(hereinafter': 860,\n",
       " 'circumstances,': 861,\n",
       " '(ii)': 862,\n",
       " 'awarded': 863,\n",
       " 'patna': 864,\n",
       " 'secretary': 865,\n",
       " 'nath': 866,\n",
       " 'anr.': 867,\n",
       " 'instant': 868,\n",
       " 'development': 869,\n",
       " 'manner': 870,\n",
       " 'him,': 871,\n",
       " 'o.': 872,\n",
       " 'several': 873,\n",
       " 'charges': 874,\n",
       " 'railway': 875,\n",
       " 'asked': 876,\n",
       " 'properties': 877,\n",
       " 'hospital,': 878,\n",
       " 'become': 879,\n",
       " 'carried': 880,\n",
       " 'licence': 881,\n",
       " 'five': 882,\n",
       " 'pleaded': 883,\n",
       " 'kumar,': 884,\n",
       " 'finance': 885,\n",
       " 'gone': 886,\n",
       " 'minimum': 887,\n",
       " 'important': 888,\n",
       " 'murder': 889,\n",
       " 'municipal': 890,\n",
       " 'life': 891,\n",
       " 'definition': 892,\n",
       " 'issues': 893,\n",
       " 'bus': 894,\n",
       " 'side': 895,\n",
       " 'receipt': 896,\n",
       " 'university': 897,\n",
       " 'whose': 898,\n",
       " 'four': 899,\n",
       " 'separate': 900,\n",
       " 'apply': 901,\n",
       " '2009': 902,\n",
       " 'price': 903,\n",
       " 'appeared': 904,\n",
       " 'object': 905,\n",
       " 'conferred': 906,\n",
       " '22': 907,\n",
       " 'told': 908,\n",
       " 'going': 909,\n",
       " 'labour': 910,\n",
       " 'mere': 911,\n",
       " 'collector': 912,\n",
       " 'society': 913,\n",
       " 'judgments': 914,\n",
       " 'expressed': 915,\n",
       " 'evidence,': 916,\n",
       " 'informed': 917,\n",
       " 'appear': 918,\n",
       " 'dead': 919,\n",
       " '21': 920,\n",
       " 'specified': 921,\n",
       " 'here': 922,\n",
       " 'english': 923,\n",
       " '50': 924,\n",
       " 'enacted': 925,\n",
       " 'law,': 926,\n",
       " 'attention': 927,\n",
       " 'mysore': 928,\n",
       " 'august': 929,\n",
       " 'therein': 930,\n",
       " 'mean': 931,\n",
       " 'just': 932,\n",
       " 'july,': 933,\n",
       " 'gupta': 934,\n",
       " 'march,': 935,\n",
       " 'u.p.': 936,\n",
       " 'final': 937,\n",
       " 'opportunity': 938,\n",
       " 'never': 939,\n",
       " '27': 940,\n",
       " 'it,': 941,\n",
       " 'july': 942,\n",
       " 'inter': 943,\n",
       " 'foreign': 944,\n",
       " 'false': 945,\n",
       " 'administrative': 946,\n",
       " 'rejected': 947,\n",
       " 'college': 948,\n",
       " 'appellant.': 949,\n",
       " 'direct': 950,\n",
       " 'statements': 951,\n",
       " 'delivered': 952,\n",
       " 'was,': 953,\n",
       " 'april,': 954,\n",
       " 'i.e.,': 955,\n",
       " 'allahabad': 956,\n",
       " 'lj': 957,\n",
       " 'chapter': 958,\n",
       " 'september': 959,\n",
       " 'disputes': 960,\n",
       " 'tenant': 961,\n",
       " 'correct': 962,\n",
       " 'fresh': 963,\n",
       " 'cross': 964,\n",
       " 'old': 965,\n",
       " 'code,': 966,\n",
       " 'accused,': 967,\n",
       " 'lodged': 968,\n",
       " 'much': 969,\n",
       " 'december,': 970,\n",
       " 'arbitration': 971,\n",
       " 'know': 972,\n",
       " '1999': 973,\n",
       " 'why': 974,\n",
       " 'november': 975,\n",
       " 'jain': 976,\n",
       " 'incident': 977,\n",
       " 'i.p.c.': 978,\n",
       " 'situated': 979,\n",
       " 'arising': 980,\n",
       " 'industries': 981,\n",
       " 'plea': 982,\n",
       " 'constitutional': 983,\n",
       " 'minister': 984,\n",
       " 'intended': 985,\n",
       " 'conducted': 986,\n",
       " 'hence,': 987,\n",
       " 'imprisonment': 988,\n",
       " '2010': 989,\n",
       " 'may,': 990,\n",
       " 'sold': 991,\n",
       " 'management': 992,\n",
       " 'maharashtra': 993,\n",
       " 'six': 994,\n",
       " 's.c.r.': 995,\n",
       " 'agreed': 996,\n",
       " 'building': 997,\n",
       " 'injury': 998,\n",
       " 'joint': 999,\n",
       " 'carrying': 1000,\n",
       " ...}"
      ]
     },
     "execution_count": 15,
     "metadata": {},
     "output_type": "execute_result"
    }
   ],
   "source": [
    "weights = np.zeros((vocab_size, 300))\n",
    "mapping = toke.word_index \n",
    "mapping"
   ]
  },
  {
   "cell_type": "markdown",
   "id": "bffa0f4d",
   "metadata": {
    "papermill": {
     "duration": 0.014759,
     "end_time": "2024-03-10T12:44:14.910919",
     "exception": false,
     "start_time": "2024-03-10T12:44:14.896160",
     "status": "completed"
    },
    "tags": []
   },
   "source": [
    "Fetching weights from pre trained Word2Vec model (ATE)"
   ]
  },
  {
   "cell_type": "code",
   "execution_count": 16,
   "id": "6dca5676",
   "metadata": {
    "execution": {
     "iopub.execute_input": "2024-03-10T12:44:14.941952Z",
     "iopub.status.busy": "2024-03-10T12:44:14.941289Z",
     "iopub.status.idle": "2024-03-10T12:44:38.686193Z",
     "shell.execute_reply": "2024-03-10T12:44:38.685376Z"
    },
    "papermill": {
     "duration": 23.762908,
     "end_time": "2024-03-10T12:44:38.688442",
     "exception": false,
     "start_time": "2024-03-10T12:44:14.925534",
     "status": "completed"
    },
    "tags": []
   },
   "outputs": [],
   "source": [
    "for word, index in mapping.items():\n",
    "    if word in emb:\n",
    "        weights[index:] = emb[word]"
   ]
  },
  {
   "cell_type": "code",
   "execution_count": 17,
   "id": "e9a3ba6e",
   "metadata": {
    "execution": {
     "iopub.execute_input": "2024-03-10T12:44:38.719546Z",
     "iopub.status.busy": "2024-03-10T12:44:38.719251Z",
     "iopub.status.idle": "2024-03-10T12:44:38.724192Z",
     "shell.execute_reply": "2024-03-10T12:44:38.723342Z"
    },
    "papermill": {
     "duration": 0.021931,
     "end_time": "2024-03-10T12:44:38.725717",
     "exception": false,
     "start_time": "2024-03-10T12:44:38.703786",
     "status": "completed"
    },
    "tags": []
   },
   "outputs": [],
   "source": [
    "X_train= X_padded_train\n",
    "Y_train = Y_padded_train\n",
    "X_test = X_padded_test\n",
    "Y_test = Y_padded_test\n",
    "X_val = X_padded_val\n",
    "Y_val = Y_padded_val\n",
    "weights = weights\n",
    "word_token = toke\n",
    "tag_token = toke2"
   ]
  },
  {
   "cell_type": "code",
   "execution_count": 18,
   "id": "3281fcd3",
   "metadata": {
    "execution": {
     "iopub.execute_input": "2024-03-10T12:44:38.756148Z",
     "iopub.status.busy": "2024-03-10T12:44:38.755873Z",
     "iopub.status.idle": "2024-03-10T12:44:38.759335Z",
     "shell.execute_reply": "2024-03-10T12:44:38.758631Z"
    },
    "papermill": {
     "duration": 0.020948,
     "end_time": "2024-03-10T12:44:38.761294",
     "exception": false,
     "start_time": "2024-03-10T12:44:38.740346",
     "status": "completed"
    },
    "tags": []
   },
   "outputs": [],
   "source": [
    "Y_shape= Y_padded_train.shape[2]"
   ]
  },
  {
   "cell_type": "markdown",
   "id": "f5230c82",
   "metadata": {
    "papermill": {
     "duration": 0.014792,
     "end_time": "2024-03-10T12:44:38.792846",
     "exception": false,
     "start_time": "2024-03-10T12:44:38.778054",
     "status": "completed"
    },
    "tags": []
   },
   "source": [
    "# Models"
   ]
  },
  {
   "cell_type": "markdown",
   "id": "cd0a4c06",
   "metadata": {
    "papermill": {
     "duration": 0.014763,
     "end_time": "2024-03-10T12:44:38.822437",
     "exception": false,
     "start_time": "2024-03-10T12:44:38.807674",
     "status": "completed"
    },
    "tags": []
   },
   "source": [
    "## RNN"
   ]
  },
  {
   "cell_type": "code",
   "execution_count": 19,
   "id": "00f01440",
   "metadata": {
    "execution": {
     "iopub.execute_input": "2024-03-10T12:44:38.853175Z",
     "iopub.status.busy": "2024-03-10T12:44:38.852878Z",
     "iopub.status.idle": "2024-03-10T12:44:38.855974Z",
     "shell.execute_reply": "2024-03-10T12:44:38.855430Z"
    },
    "papermill": {
     "duration": 0.020286,
     "end_time": "2024-03-10T12:44:38.857458",
     "exception": false,
     "start_time": "2024-03-10T12:44:38.837172",
     "status": "completed"
    },
    "tags": []
   },
   "outputs": [],
   "source": [
    "model_name=\"RNN\""
   ]
  },
  {
   "cell_type": "markdown",
   "id": "6ad59d96",
   "metadata": {
    "papermill": {
     "duration": 0.014517,
     "end_time": "2024-03-10T12:44:38.886631",
     "exception": false,
     "start_time": "2024-03-10T12:44:38.872114",
     "status": "completed"
    },
    "tags": []
   },
   "source": [
    "### Training"
   ]
  },
  {
   "cell_type": "code",
   "execution_count": 20,
   "id": "c00da494",
   "metadata": {
    "execution": {
     "iopub.execute_input": "2024-03-10T12:44:38.917348Z",
     "iopub.status.busy": "2024-03-10T12:44:38.917056Z",
     "iopub.status.idle": "2024-03-10T12:44:39.390187Z",
     "shell.execute_reply": "2024-03-10T12:44:39.389391Z"
    },
    "papermill": {
     "duration": 0.490782,
     "end_time": "2024-03-10T12:44:39.392099",
     "exception": false,
     "start_time": "2024-03-10T12:44:38.901317",
     "status": "completed"
    },
    "tags": []
   },
   "outputs": [],
   "source": [
    "rnn_model = Sequential()\n",
    "rnn_model.add(Embedding(input_dim = vocab_size,output_dim = 300,input_length  = max_len,weights = [weights],trainable = False))\n",
    "rnn_model.add(SimpleRNN(32, return_sequences=True))\n",
    "rnn_model.add(TimeDistributed(Dense(Y_shape, activation='softmax')))"
   ]
  },
  {
   "cell_type": "markdown",
   "id": "a16bbc60",
   "metadata": {
    "papermill": {
     "duration": 0.014635,
     "end_time": "2024-03-10T12:44:39.422059",
     "exception": false,
     "start_time": "2024-03-10T12:44:39.407424",
     "status": "completed"
    },
    "tags": []
   },
   "source": [
    "Compiling the rnn Word2Vec Model"
   ]
  },
  {
   "cell_type": "code",
   "execution_count": 21,
   "id": "398e08b3",
   "metadata": {
    "execution": {
     "iopub.execute_input": "2024-03-10T12:44:39.452930Z",
     "iopub.status.busy": "2024-03-10T12:44:39.452436Z",
     "iopub.status.idle": "2024-03-10T12:44:39.475622Z",
     "shell.execute_reply": "2024-03-10T12:44:39.474915Z"
    },
    "papermill": {
     "duration": 0.040815,
     "end_time": "2024-03-10T12:44:39.477495",
     "exception": false,
     "start_time": "2024-03-10T12:44:39.436680",
     "status": "completed"
    },
    "tags": []
   },
   "outputs": [],
   "source": [
    "rnn_model.compile(loss='categorical_crossentropy',optimizer='adam',metrics=['acc',Precision(),Recall()])"
   ]
  },
  {
   "cell_type": "code",
   "execution_count": 22,
   "id": "f0a188c6",
   "metadata": {
    "execution": {
     "iopub.execute_input": "2024-03-10T12:44:39.510152Z",
     "iopub.status.busy": "2024-03-10T12:44:39.509672Z",
     "iopub.status.idle": "2024-03-10T12:44:39.513031Z",
     "shell.execute_reply": "2024-03-10T12:44:39.512513Z"
    },
    "papermill": {
     "duration": 0.021604,
     "end_time": "2024-03-10T12:44:39.514527",
     "exception": false,
     "start_time": "2024-03-10T12:44:39.492923",
     "status": "completed"
    },
    "tags": []
   },
   "outputs": [],
   "source": [
    "rnn_f1_callback = F1ScoreCallback(val_data=(X_val, Y_val),data=(X_train, Y_train))\n"
   ]
  },
  {
   "cell_type": "code",
   "execution_count": 23,
   "id": "3f33444a",
   "metadata": {
    "execution": {
     "iopub.execute_input": "2024-03-10T12:44:39.547621Z",
     "iopub.status.busy": "2024-03-10T12:44:39.547115Z",
     "iopub.status.idle": "2024-03-10T12:44:39.563958Z",
     "shell.execute_reply": "2024-03-10T12:44:39.563181Z"
    },
    "papermill": {
     "duration": 0.037579,
     "end_time": "2024-03-10T12:44:39.567265",
     "exception": false,
     "start_time": "2024-03-10T12:44:39.529686",
     "status": "completed"
    },
    "tags": []
   },
   "outputs": [
    {
     "name": "stdout",
     "output_type": "stream",
     "text": [
      "Model: \"sequential\"\n",
      "_________________________________________________________________\n",
      " Layer (type)                Output Shape              Param #   \n",
      "=================================================================\n",
      " embedding (Embedding)       (None, 70, 300)           9066000   \n",
      "                                                                 \n",
      " simple_rnn (SimpleRNN)      (None, 70, 32)            10656     \n",
      "                                                                 \n",
      " time_distributed (TimeDist  (None, 70, 28)            924       \n",
      " ributed)                                                        \n",
      "                                                                 \n",
      "=================================================================\n",
      "Total params: 9077580 (34.63 MB)\n",
      "Trainable params: 11580 (45.23 KB)\n",
      "Non-trainable params: 9066000 (34.58 MB)\n",
      "_________________________________________________________________\n"
     ]
    }
   ],
   "source": [
    "rnn_model.summary()"
   ]
  },
  {
   "cell_type": "markdown",
   "id": "50984979",
   "metadata": {
    "papermill": {
     "duration": 0.01571,
     "end_time": "2024-03-10T12:44:39.599280",
     "exception": false,
     "start_time": "2024-03-10T12:44:39.583570",
     "status": "completed"
    },
    "tags": []
   },
   "source": [
    "Fitting the rnn model"
   ]
  },
  {
   "cell_type": "code",
   "execution_count": 24,
   "id": "e6e709ce",
   "metadata": {
    "execution": {
     "iopub.execute_input": "2024-03-10T12:44:39.633303Z",
     "iopub.status.busy": "2024-03-10T12:44:39.632993Z",
     "iopub.status.idle": "2024-03-10T12:51:51.305979Z",
     "shell.execute_reply": "2024-03-10T12:51:51.305129Z"
    },
    "papermill": {
     "duration": 431.759116,
     "end_time": "2024-03-10T12:51:51.375002",
     "exception": false,
     "start_time": "2024-03-10T12:44:39.615886",
     "status": "completed"
    },
    "tags": []
   },
   "outputs": [
    {
     "name": "stdout",
     "output_type": "stream",
     "text": [
      "Epoch 1/20\n",
      "45/45 [==============================] - 0s 4ms/step\n",
      "251/251 [==============================] - 1s 4ms/step\n",
      "Val F1 Score: 0.06598173122529265 - Train F1 Score: 0.06616519768896313\n",
      "63/63 [==============================] - 23s 353ms/step - loss: 1.6226 - acc: 0.8344 - precision: 0.9032 - recall: 0.3479 - val_loss: 0.7306 - val_acc: 0.8931 - val_precision: 0.8967 - val_recall: 0.8308\n",
      "Epoch 2/20\n",
      "45/45 [==============================] - 0s 4ms/step\n",
      "251/251 [==============================] - 1s 4ms/step\n",
      "Val F1 Score: 0.06772090078046651 - Train F1 Score: 0.06745108793366658\n",
      "63/63 [==============================] - 22s 348ms/step - loss: 0.6222 - acc: 0.9023 - precision: 0.9095 - recall: 0.8485 - val_loss: 0.5581 - val_acc: 0.9041 - val_precision: 0.9124 - val_recall: 0.8571\n",
      "Epoch 3/20\n",
      "45/45 [==============================] - 0s 4ms/step\n",
      "251/251 [==============================] - 1s 4ms/step\n",
      "Val F1 Score: 0.08108642085348303 - Train F1 Score: 0.07836225891852691\n",
      "63/63 [==============================] - 21s 340ms/step - loss: 0.5193 - acc: 0.9097 - precision: 0.9263 - recall: 0.8638 - val_loss: 0.4911 - val_acc: 0.9144 - val_precision: 0.9377 - val_recall: 0.8719\n",
      "Epoch 4/20\n",
      "45/45 [==============================] - 0s 4ms/step\n",
      "251/251 [==============================] - 1s 4ms/step\n",
      "Val F1 Score: 0.08564685759386537 - Train F1 Score: 0.08137509931206675\n",
      "63/63 [==============================] - 21s 342ms/step - loss: 0.4814 - acc: 0.9088 - precision: 0.9289 - recall: 0.8677 - val_loss: 0.4745 - val_acc: 0.9042 - val_precision: 0.9254 - val_recall: 0.8622\n",
      "Epoch 5/20\n",
      "45/45 [==============================] - 0s 4ms/step\n",
      "251/251 [==============================] - 1s 4ms/step\n",
      "Val F1 Score: 0.10282194203390013 - Train F1 Score: 0.09552128298671204\n",
      "63/63 [==============================] - 21s 341ms/step - loss: 0.4466 - acc: 0.9154 - precision: 0.9391 - recall: 0.8714 - val_loss: 0.4310 - val_acc: 0.9202 - val_precision: 0.9437 - val_recall: 0.8749\n",
      "Epoch 6/20\n",
      "45/45 [==============================] - 0s 3ms/step\n",
      "251/251 [==============================] - 1s 4ms/step\n",
      "Val F1 Score: 0.11712621389091361 - Train F1 Score: 0.11083152886781741\n",
      "63/63 [==============================] - 21s 343ms/step - loss: 0.4207 - acc: 0.9223 - precision: 0.9472 - recall: 0.8757 - val_loss: 0.4097 - val_acc: 0.9238 - val_precision: 0.9474 - val_recall: 0.8761\n",
      "Epoch 7/20\n",
      "45/45 [==============================] - 0s 4ms/step\n",
      "251/251 [==============================] - 1s 4ms/step\n",
      "Val F1 Score: 0.1262605370758743 - Train F1 Score: 0.12079378028147646\n",
      "63/63 [==============================] - 21s 344ms/step - loss: 0.4022 - acc: 0.9246 - precision: 0.9511 - recall: 0.8794 - val_loss: 0.3933 - val_acc: 0.9262 - val_precision: 0.9537 - val_recall: 0.8884\n",
      "Epoch 8/20\n",
      "45/45 [==============================] - 0s 4ms/step\n",
      "251/251 [==============================] - 1s 4ms/step\n",
      "Val F1 Score: 0.13528858921740125 - Train F1 Score: 0.12970015466558457\n",
      "63/63 [==============================] - 21s 344ms/step - loss: 0.3868 - acc: 0.9262 - precision: 0.9534 - recall: 0.8912 - val_loss: 0.3786 - val_acc: 0.9278 - val_precision: 0.9536 - val_recall: 0.8912\n",
      "Epoch 9/20\n",
      "45/45 [==============================] - 0s 4ms/step\n",
      "251/251 [==============================] - 1s 4ms/step\n",
      "Val F1 Score: 0.14386841071196263 - Train F1 Score: 0.1406937646830075\n",
      "63/63 [==============================] - 22s 354ms/step - loss: 0.3731 - acc: 0.9277 - precision: 0.9554 - recall: 0.8925 - val_loss: 0.3664 - val_acc: 0.9291 - val_precision: 0.9536 - val_recall: 0.8943\n",
      "Epoch 10/20\n",
      "45/45 [==============================] - 0s 4ms/step\n",
      "251/251 [==============================] - 1s 4ms/step\n",
      "Val F1 Score: 0.1570832277886939 - Train F1 Score: 0.15410471786227692\n",
      "63/63 [==============================] - 22s 355ms/step - loss: 0.3607 - acc: 0.9292 - precision: 0.9564 - recall: 0.8953 - val_loss: 0.3554 - val_acc: 0.9312 - val_precision: 0.9589 - val_recall: 0.8929\n",
      "Epoch 11/20\n",
      "45/45 [==============================] - 0s 4ms/step\n",
      "251/251 [==============================] - 1s 3ms/step\n",
      "Val F1 Score: 0.16416735109752795 - Train F1 Score: 0.1623857512436038\n",
      "63/63 [==============================] - 22s 352ms/step - loss: 0.3492 - acc: 0.9307 - precision: 0.9571 - recall: 0.8981 - val_loss: 0.3437 - val_acc: 0.9323 - val_precision: 0.9563 - val_recall: 0.8991\n",
      "Epoch 12/20\n",
      "45/45 [==============================] - 0s 4ms/step\n",
      "251/251 [==============================] - 1s 5ms/step\n",
      "Val F1 Score: 0.17752812007107163 - Train F1 Score: 0.17634079412131773\n",
      "63/63 [==============================] - 22s 350ms/step - loss: 0.3385 - acc: 0.9322 - precision: 0.9575 - recall: 0.9001 - val_loss: 0.3337 - val_acc: 0.9336 - val_precision: 0.9569 - val_recall: 0.9008\n",
      "Epoch 13/20\n",
      "45/45 [==============================] - 0s 4ms/step\n",
      "251/251 [==============================] - 1s 4ms/step\n",
      "Val F1 Score: 0.19310235996006123 - Train F1 Score: 0.19087513131307005\n",
      "63/63 [==============================] - 22s 347ms/step - loss: 0.3288 - acc: 0.9334 - precision: 0.9580 - recall: 0.9020 - val_loss: 0.3246 - val_acc: 0.9349 - val_precision: 0.9578 - val_recall: 0.9030\n",
      "Epoch 14/20\n",
      "45/45 [==============================] - 0s 4ms/step\n",
      "251/251 [==============================] - 1s 4ms/step\n",
      "Val F1 Score: 0.2063539375161101 - Train F1 Score: 0.20692996495975496\n",
      "63/63 [==============================] - 22s 348ms/step - loss: 0.3201 - acc: 0.9347 - precision: 0.9583 - recall: 0.9038 - val_loss: 0.3175 - val_acc: 0.9360 - val_precision: 0.9595 - val_recall: 0.9021\n",
      "Epoch 15/20\n",
      "45/45 [==============================] - 0s 4ms/step\n",
      "251/251 [==============================] - 1s 4ms/step\n",
      "Val F1 Score: 0.21015275040003153 - Train F1 Score: 0.21204042092840703\n",
      "63/63 [==============================] - 22s 351ms/step - loss: 0.3122 - acc: 0.9357 - precision: 0.9590 - recall: 0.9047 - val_loss: 0.3098 - val_acc: 0.9366 - val_precision: 0.9573 - val_recall: 0.9061\n",
      "Epoch 16/20\n",
      "45/45 [==============================] - 0s 3ms/step\n",
      "251/251 [==============================] - 1s 4ms/step\n",
      "Val F1 Score: 0.22111234630442733 - Train F1 Score: 0.22219299859175773\n",
      "63/63 [==============================] - 22s 348ms/step - loss: 0.3047 - acc: 0.9367 - precision: 0.9589 - recall: 0.9067 - val_loss: 0.3032 - val_acc: 0.9373 - val_precision: 0.9587 - val_recall: 0.9063\n",
      "Epoch 17/20\n",
      "45/45 [==============================] - 0s 4ms/step\n",
      "251/251 [==============================] - 1s 4ms/step\n",
      "Val F1 Score: 0.22601064357481565 - Train F1 Score: 0.2279752830798755\n",
      "63/63 [==============================] - 21s 343ms/step - loss: 0.2979 - acc: 0.9377 - precision: 0.9595 - recall: 0.9080 - val_loss: 0.2964 - val_acc: 0.9382 - val_precision: 0.9580 - val_recall: 0.9090\n",
      "Epoch 18/20\n",
      "45/45 [==============================] - 0s 4ms/step\n",
      "251/251 [==============================] - 1s 4ms/step\n",
      "Val F1 Score: 0.2333685111026687 - Train F1 Score: 0.23642708262884624\n",
      "63/63 [==============================] - 21s 345ms/step - loss: 0.2915 - acc: 0.9384 - precision: 0.9597 - recall: 0.9092 - val_loss: 0.2910 - val_acc: 0.9388 - val_precision: 0.9590 - val_recall: 0.9089\n",
      "Epoch 19/20\n",
      "45/45 [==============================] - 0s 4ms/step\n",
      "251/251 [==============================] - 1s 4ms/step\n",
      "Val F1 Score: 0.2338347955301915 - Train F1 Score: 0.23747761449120114\n",
      "63/63 [==============================] - 21s 344ms/step - loss: 0.2857 - acc: 0.9391 - precision: 0.9604 - recall: 0.9098 - val_loss: 0.2868 - val_acc: 0.9390 - val_precision: 0.9572 - val_recall: 0.9113\n",
      "Epoch 20/20\n",
      "45/45 [==============================] - 0s 4ms/step\n",
      "251/251 [==============================] - 1s 4ms/step\n",
      "Val F1 Score: 0.2376041069696868 - Train F1 Score: 0.24141525327073357\n",
      "63/63 [==============================] - 21s 343ms/step - loss: 0.2807 - acc: 0.9396 - precision: 0.9604 - recall: 0.9106 - val_loss: 0.2839 - val_acc: 0.9390 - val_precision: 0.9556 - val_recall: 0.9122\n"
     ]
    }
   ],
   "source": [
    "rnn_training = rnn_model.fit(X_train, Y_train, batch_size=128, epochs=20, validation_data=(X_val, Y_val), callbacks=[rnn_f1_callback])"
   ]
  },
  {
   "cell_type": "markdown",
   "id": "14d254df",
   "metadata": {
    "papermill": {
     "duration": 0.070642,
     "end_time": "2024-03-10T12:51:51.514220",
     "exception": false,
     "start_time": "2024-03-10T12:51:51.443578",
     "status": "completed"
    },
    "tags": []
   },
   "source": [
    "Plotting the graph"
   ]
  },
  {
   "cell_type": "code",
   "execution_count": 25,
   "id": "dfc926a7",
   "metadata": {
    "execution": {
     "iopub.execute_input": "2024-03-10T12:51:51.652734Z",
     "iopub.status.busy": "2024-03-10T12:51:51.652408Z",
     "iopub.status.idle": "2024-03-10T12:51:52.496447Z",
     "shell.execute_reply": "2024-03-10T12:51:52.495787Z"
    },
    "papermill": {
     "duration": 0.915042,
     "end_time": "2024-03-10T12:51:52.498327",
     "exception": false,
     "start_time": "2024-03-10T12:51:51.583285",
     "status": "completed"
    },
    "tags": []
   },
   "outputs": [
    {
     "data": {
      "image/png": "[encoded data removed]",
      "text/plain": [
       "<Figure size 1600x500 with 2 Axes>"
      ]
     },
     "metadata": {},
     "output_type": "display_data"
    }
   ],
   "source": [
    "draw_loss_graph(rnn_training,model_name, rnn_f1_callback.train_f1_scores, rnn_f1_callback.val_f1_scores)\n",
    "save_model(rnn_model,model_name,Embedding_name,Dataset)"
   ]
  },
  {
   "cell_type": "markdown",
   "id": "9835b6b8",
   "metadata": {
    "papermill": {
     "duration": 0.068986,
     "end_time": "2024-03-10T12:51:52.637138",
     "exception": false,
     "start_time": "2024-03-10T12:51:52.568152",
     "status": "completed"
    },
    "tags": []
   },
   "source": [
    "### Testing"
   ]
  },
  {
   "cell_type": "code",
   "execution_count": 26,
   "id": "c9f02633",
   "metadata": {
    "execution": {
     "iopub.execute_input": "2024-03-10T12:51:52.778325Z",
     "iopub.status.busy": "2024-03-10T12:51:52.777446Z",
     "iopub.status.idle": "2024-03-10T12:51:53.352935Z",
     "shell.execute_reply": "2024-03-10T12:51:53.352206Z"
    },
    "papermill": {
     "duration": 0.648779,
     "end_time": "2024-03-10T12:51:53.354820",
     "exception": false,
     "start_time": "2024-03-10T12:51:52.706041",
     "status": "completed"
    },
    "tags": []
   },
   "outputs": [],
   "source": [
    "loaded_model = load_model(model_name,Embedding_name,Dataset)"
   ]
  },
  {
   "cell_type": "markdown",
   "id": "ca296ea8",
   "metadata": {
    "papermill": {
     "duration": 0.070267,
     "end_time": "2024-03-10T12:51:53.495005",
     "exception": false,
     "start_time": "2024-03-10T12:51:53.424738",
     "status": "completed"
    },
    "tags": []
   },
   "source": [
    "Testing accuracy"
   ]
  },
  {
   "cell_type": "code",
   "execution_count": 27,
   "id": "c757123a",
   "metadata": {
    "execution": {
     "iopub.execute_input": "2024-03-10T12:51:53.637859Z",
     "iopub.status.busy": "2024-03-10T12:51:53.637562Z",
     "iopub.status.idle": "2024-03-10T12:51:54.206209Z",
     "shell.execute_reply": "2024-03-10T12:51:54.205591Z"
    },
    "papermill": {
     "duration": 0.641199,
     "end_time": "2024-03-10T12:51:54.207823",
     "exception": false,
     "start_time": "2024-03-10T12:51:53.566624",
     "status": "completed"
    },
    "tags": []
   },
   "outputs": [
    {
     "name": "stdout",
     "output_type": "stream",
     "text": [
      "30/30 [==============================] - 1s 5ms/step - loss: 0.3138 - acc: 0.9320 - precision: 0.9491 - recall: 0.9039\n",
      "0.9320036172866821\n"
     ]
    }
   ],
   "source": [
    "accuracy = loaded_model.evaluate(X_test, Y_test, verbose = 1)\n",
    "print(accuracy[1])"
   ]
  },
  {
   "cell_type": "markdown",
   "id": "f06c5d42",
   "metadata": {
    "papermill": {
     "duration": 0.06868,
     "end_time": "2024-03-10T12:51:54.346347",
     "exception": false,
     "start_time": "2024-03-10T12:51:54.277667",
     "status": "completed"
    },
    "tags": []
   },
   "source": [
    "Testing F1 Score"
   ]
  },
  {
   "cell_type": "code",
   "execution_count": 28,
   "id": "e2142b9d",
   "metadata": {
    "execution": {
     "iopub.execute_input": "2024-03-10T12:51:54.485761Z",
     "iopub.status.busy": "2024-03-10T12:51:54.484820Z",
     "iopub.status.idle": "2024-03-10T12:51:56.661193Z",
     "shell.execute_reply": "2024-03-10T12:51:56.660298Z"
    },
    "papermill": {
     "duration": 2.247847,
     "end_time": "2024-03-10T12:51:56.663096",
     "exception": false,
     "start_time": "2024-03-10T12:51:54.415249",
     "status": "completed"
    },
    "tags": []
   },
   "outputs": [
    {
     "name": "stdout",
     "output_type": "stream",
     "text": [
      "30/30 [==============================] - 0s 4ms/step\n",
      "Test F1 Score: 0.2408240853953177\n"
     ]
    }
   ],
   "source": [
    "Y_pred = loaded_model.predict(X_test)\n",
    "real = get_real(Y_test)\n",
    "pred = get_pred(Y_pred)\n",
    "\n",
    "true_labels_flat = [label for sublist in real for label in sublist]\n",
    "predicted_labels_flat = [label for sublist in pred for label in sublist]\n",
    "\n",
    "# Compute F1 score\n",
    "f1 = f1_score(true_labels_flat, predicted_labels_flat, average='macro')\n",
    "\n",
    "print(\"Test F1 Score:\", f1)"
   ]
  },
  {
   "cell_type": "markdown",
   "id": "8fde5e67",
   "metadata": {
    "papermill": {
     "duration": 0.072418,
     "end_time": "2024-03-10T12:51:56.807862",
     "exception": false,
     "start_time": "2024-03-10T12:51:56.735444",
     "status": "completed"
    },
    "tags": []
   },
   "source": [
    "## GRU"
   ]
  },
  {
   "cell_type": "code",
   "execution_count": 29,
   "id": "01f3e0aa",
   "metadata": {
    "execution": {
     "iopub.execute_input": "2024-03-10T12:51:56.953578Z",
     "iopub.status.busy": "2024-03-10T12:51:56.953048Z",
     "iopub.status.idle": "2024-03-10T12:51:56.956765Z",
     "shell.execute_reply": "2024-03-10T12:51:56.956026Z"
    },
    "papermill": {
     "duration": 0.078281,
     "end_time": "2024-03-10T12:51:56.958288",
     "exception": false,
     "start_time": "2024-03-10T12:51:56.880007",
     "status": "completed"
    },
    "tags": []
   },
   "outputs": [],
   "source": [
    "model_name=\"GRU\""
   ]
  },
  {
   "cell_type": "markdown",
   "id": "eb341856",
   "metadata": {
    "papermill": {
     "duration": 0.071229,
     "end_time": "2024-03-10T12:51:57.101160",
     "exception": false,
     "start_time": "2024-03-10T12:51:57.029931",
     "status": "completed"
    },
    "tags": []
   },
   "source": [
    "### Training"
   ]
  },
  {
   "cell_type": "code",
   "execution_count": 30,
   "id": "6448fe07",
   "metadata": {
    "execution": {
     "iopub.execute_input": "2024-03-10T12:51:57.244638Z",
     "iopub.status.busy": "2024-03-10T12:51:57.244314Z",
     "iopub.status.idle": "2024-03-10T12:51:57.511140Z",
     "shell.execute_reply": "2024-03-10T12:51:57.510322Z"
    },
    "papermill": {
     "duration": 0.339664,
     "end_time": "2024-03-10T12:51:57.513037",
     "exception": false,
     "start_time": "2024-03-10T12:51:57.173373",
     "status": "completed"
    },
    "tags": []
   },
   "outputs": [],
   "source": [
    "gru_model = Sequential()\n",
    "gru_model.add(Embedding(input_dim = vocab_size,output_dim = 300,input_length  = max_len,weights = [weights],trainable = False))\n",
    "gru_model.add(GRU(64, return_sequences=True))\n",
    "gru_model.add(TimeDistributed(Dense(Y_train.shape[2], activation='softmax')))"
   ]
  },
  {
   "cell_type": "markdown",
   "id": "4cb10cdd",
   "metadata": {
    "papermill": {
     "duration": 0.06868,
     "end_time": "2024-03-10T12:51:57.652907",
     "exception": false,
     "start_time": "2024-03-10T12:51:57.584227",
     "status": "completed"
    },
    "tags": []
   },
   "source": [
    "compiling "
   ]
  },
  {
   "cell_type": "code",
   "execution_count": 31,
   "id": "cdc2a507",
   "metadata": {
    "execution": {
     "iopub.execute_input": "2024-03-10T12:51:57.795218Z",
     "iopub.status.busy": "2024-03-10T12:51:57.794905Z",
     "iopub.status.idle": "2024-03-10T12:51:57.808588Z",
     "shell.execute_reply": "2024-03-10T12:51:57.807827Z"
    },
    "papermill": {
     "duration": 0.088219,
     "end_time": "2024-03-10T12:51:57.810082",
     "exception": false,
     "start_time": "2024-03-10T12:51:57.721863",
     "status": "completed"
    },
    "tags": []
   },
   "outputs": [],
   "source": [
    "gru_model.compile(loss='categorical_crossentropy',optimizer='adam',metrics=['acc',Precision(),Recall()])"
   ]
  },
  {
   "cell_type": "code",
   "execution_count": 32,
   "id": "75ea7c9d",
   "metadata": {
    "execution": {
     "iopub.execute_input": "2024-03-10T12:51:57.952004Z",
     "iopub.status.busy": "2024-03-10T12:51:57.951709Z",
     "iopub.status.idle": "2024-03-10T12:51:57.955417Z",
     "shell.execute_reply": "2024-03-10T12:51:57.954670Z"
    },
    "papermill": {
     "duration": 0.076416,
     "end_time": "2024-03-10T12:51:57.956926",
     "exception": false,
     "start_time": "2024-03-10T12:51:57.880510",
     "status": "completed"
    },
    "tags": []
   },
   "outputs": [],
   "source": [
    "gru_f1_callback = F1ScoreCallback(val_data=(X_val, Y_val),data=(X_train, Y_train))"
   ]
  },
  {
   "cell_type": "code",
   "execution_count": 33,
   "id": "d635aec2",
   "metadata": {
    "execution": {
     "iopub.execute_input": "2024-03-10T12:51:58.098228Z",
     "iopub.status.busy": "2024-03-10T12:51:58.097901Z",
     "iopub.status.idle": "2024-03-10T12:51:58.114897Z",
     "shell.execute_reply": "2024-03-10T12:51:58.114091Z"
    },
    "papermill": {
     "duration": 0.089119,
     "end_time": "2024-03-10T12:51:58.116572",
     "exception": false,
     "start_time": "2024-03-10T12:51:58.027453",
     "status": "completed"
    },
    "tags": []
   },
   "outputs": [
    {
     "name": "stdout",
     "output_type": "stream",
     "text": [
      "Model: \"sequential_1\"\n",
      "_________________________________________________________________\n",
      " Layer (type)                Output Shape              Param #   \n",
      "=================================================================\n",
      " embedding_1 (Embedding)     (None, 70, 300)           9066000   \n",
      "                                                                 \n",
      " gru (GRU)                   (None, 70, 64)            70272     \n",
      "                                                                 \n",
      " time_distributed_1 (TimeDi  (None, 70, 28)            1820      \n",
      " stributed)                                                      \n",
      "                                                                 \n",
      "=================================================================\n",
      "Total params: 9138092 (34.86 MB)\n",
      "Trainable params: 72092 (281.61 KB)\n",
      "Non-trainable params: 9066000 (34.58 MB)\n",
      "_________________________________________________________________\n"
     ]
    }
   ],
   "source": [
    "gru_model.summary()"
   ]
  },
  {
   "cell_type": "markdown",
   "id": "fa0c76c7",
   "metadata": {
    "papermill": {
     "duration": 0.070883,
     "end_time": "2024-03-10T12:51:58.259333",
     "exception": false,
     "start_time": "2024-03-10T12:51:58.188450",
     "status": "completed"
    },
    "tags": []
   },
   "source": [
    "Fitting GRU"
   ]
  },
  {
   "cell_type": "code",
   "execution_count": 34,
   "id": "3528279f",
   "metadata": {
    "execution": {
     "iopub.execute_input": "2024-03-10T12:51:58.401326Z",
     "iopub.status.busy": "2024-03-10T12:51:58.401034Z",
     "iopub.status.idle": "2024-03-10T13:00:25.279684Z",
     "shell.execute_reply": "2024-03-10T13:00:25.279033Z"
    },
    "papermill": {
     "duration": 506.951564,
     "end_time": "2024-03-10T13:00:25.281356",
     "exception": false,
     "start_time": "2024-03-10T12:51:58.329792",
     "status": "completed"
    },
    "tags": []
   },
   "outputs": [
    {
     "name": "stdout",
     "output_type": "stream",
     "text": [
      "Epoch 1/20\n",
      "45/45 [==============================] - 1s 8ms/step\n",
      "251/251 [==============================] - 2s 8ms/step\n",
      "Val F1 Score: 0.06752604941799213 - Train F1 Score: 0.06815966022409282\n",
      "63/63 [==============================] - 27s 417ms/step - loss: 1.7329 - acc: 0.7513 - precision_1: 0.8751 - recall_1: 0.4331 - val_loss: 0.6711 - val_acc: 0.9085 - val_precision_1: 0.9203 - val_recall_1: 0.8318\n",
      "Epoch 2/20\n",
      "45/45 [==============================] - 0s 8ms/step\n",
      "251/251 [==============================] - 2s 8ms/step\n",
      "Val F1 Score: 0.08189244048011103 - Train F1 Score: 0.08198613718357581\n",
      "63/63 [==============================] - 25s 399ms/step - loss: 0.5286 - acc: 0.9163 - precision_1: 0.9319 - recall_1: 0.8519 - val_loss: 0.4686 - val_acc: 0.9196 - val_precision_1: 0.9384 - val_recall_1: 0.8628\n",
      "Epoch 3/20\n",
      "45/45 [==============================] - 0s 8ms/step\n",
      "251/251 [==============================] - 2s 8ms/step\n",
      "Val F1 Score: 0.11391263650936848 - Train F1 Score: 0.11355188425175519\n",
      "63/63 [==============================] - 25s 407ms/step - loss: 0.4318 - acc: 0.9250 - precision_1: 0.9425 - recall_1: 0.8790 - val_loss: 0.4060 - val_acc: 0.9267 - val_precision_1: 0.9456 - val_recall_1: 0.8837\n",
      "Epoch 4/20\n",
      "45/45 [==============================] - 0s 8ms/step\n",
      "251/251 [==============================] - 2s 8ms/step\n",
      "Val F1 Score: 0.13672060048078064 - Train F1 Score: 0.13461114707661834\n",
      "63/63 [==============================] - 25s 398ms/step - loss: 0.3851 - acc: 0.9292 - precision_1: 0.9471 - recall_1: 0.8869 - val_loss: 0.3698 - val_acc: 0.9296 - val_precision_1: 0.9484 - val_recall_1: 0.8879\n",
      "Epoch 5/20\n",
      "45/45 [==============================] - 0s 8ms/step\n",
      "251/251 [==============================] - 2s 8ms/step\n",
      "Val F1 Score: 0.1686113655948702 - Train F1 Score: 0.16712478992610655\n",
      "63/63 [==============================] - 25s 398ms/step - loss: 0.3539 - acc: 0.9318 - precision_1: 0.9512 - recall_1: 0.9018 - val_loss: 0.3450 - val_acc: 0.9321 - val_precision_1: 0.9501 - val_recall_1: 0.9051\n",
      "Epoch 6/20\n",
      "45/45 [==============================] - 0s 9ms/step\n",
      "251/251 [==============================] - 2s 8ms/step\n",
      "Val F1 Score: 0.19500085254718932 - Train F1 Score: 0.19361711388583186\n",
      "63/63 [==============================] - 26s 412ms/step - loss: 0.3303 - acc: 0.9342 - precision_1: 0.9534 - recall_1: 0.9053 - val_loss: 0.3239 - val_acc: 0.9345 - val_precision_1: 0.9522 - val_recall_1: 0.9077\n",
      "Epoch 7/20\n",
      "45/45 [==============================] - 0s 8ms/step\n",
      "251/251 [==============================] - 2s 8ms/step\n",
      "Val F1 Score: 0.2151459270345486 - Train F1 Score: 0.21663615254775467\n",
      "63/63 [==============================] - 26s 412ms/step - loss: 0.3104 - acc: 0.9359 - precision_1: 0.9554 - recall_1: 0.9075 - val_loss: 0.3074 - val_acc: 0.9360 - val_precision_1: 0.9545 - val_recall_1: 0.9087\n",
      "Epoch 8/20\n",
      "45/45 [==============================] - 0s 8ms/step\n",
      "251/251 [==============================] - 2s 8ms/step\n",
      "Val F1 Score: 0.23907724217434295 - Train F1 Score: 0.24070171130899137\n",
      "63/63 [==============================] - 26s 414ms/step - loss: 0.2936 - acc: 0.9378 - precision_1: 0.9570 - recall_1: 0.9095 - val_loss: 0.2934 - val_acc: 0.9377 - val_precision_1: 0.9556 - val_recall_1: 0.9105\n",
      "Epoch 9/20\n",
      "45/45 [==============================] - 0s 8ms/step\n",
      "251/251 [==============================] - 2s 8ms/step\n",
      "Val F1 Score: 0.25649295604272143 - Train F1 Score: 0.25882516935969296\n",
      "63/63 [==============================] - 24s 393ms/step - loss: 0.2789 - acc: 0.9399 - precision_1: 0.9587 - recall_1: 0.9111 - val_loss: 0.2803 - val_acc: 0.9393 - val_precision_1: 0.9554 - val_recall_1: 0.9136\n",
      "Epoch 10/20\n",
      "45/45 [==============================] - 0s 9ms/step\n",
      "251/251 [==============================] - 2s 9ms/step\n",
      "Val F1 Score: 0.27438738635722926 - Train F1 Score: 0.27916536251405416\n",
      "63/63 [==============================] - 26s 411ms/step - loss: 0.2658 - acc: 0.9416 - precision_1: 0.9596 - recall_1: 0.9131 - val_loss: 0.2676 - val_acc: 0.9412 - val_precision_1: 0.9586 - val_recall_1: 0.9137\n",
      "Epoch 11/20\n",
      "45/45 [==============================] - 0s 8ms/step\n",
      "251/251 [==============================] - 2s 8ms/step\n",
      "Val F1 Score: 0.2934267207120113 - Train F1 Score: 0.29796577250649425\n",
      "63/63 [==============================] - 25s 405ms/step - loss: 0.2540 - acc: 0.9429 - precision_1: 0.9607 - recall_1: 0.9168 - val_loss: 0.2575 - val_acc: 0.9424 - val_precision_1: 0.9593 - val_recall_1: 0.9297\n",
      "Epoch 12/20\n",
      "45/45 [==============================] - 0s 9ms/step\n",
      "251/251 [==============================] - 2s 8ms/step\n",
      "Val F1 Score: 0.302442494244435 - Train F1 Score: 0.3104360876157716\n",
      "63/63 [==============================] - 25s 403ms/step - loss: 0.2433 - acc: 0.9442 - precision_1: 0.9621 - recall_1: 0.9306 - val_loss: 0.2484 - val_acc: 0.9435 - val_precision_1: 0.9595 - val_recall_1: 0.9317\n",
      "Epoch 13/20\n",
      "45/45 [==============================] - 0s 7ms/step\n",
      "251/251 [==============================] - 2s 8ms/step\n",
      "Val F1 Score: 0.3184902771799587 - Train F1 Score: 0.3276511404764329\n",
      "63/63 [==============================] - 25s 405ms/step - loss: 0.2337 - acc: 0.9454 - precision_1: 0.9628 - recall_1: 0.9325 - val_loss: 0.2405 - val_acc: 0.9450 - val_precision_1: 0.9608 - val_recall_1: 0.9328\n",
      "Epoch 14/20\n",
      "45/45 [==============================] - 0s 9ms/step\n",
      "251/251 [==============================] - 2s 8ms/step\n",
      "Val F1 Score: 0.32781786718961303 - Train F1 Score: 0.3425715463395606\n",
      "63/63 [==============================] - 25s 406ms/step - loss: 0.2257 - acc: 0.9467 - precision_1: 0.9639 - recall_1: 0.9339 - val_loss: 0.2347 - val_acc: 0.9453 - val_precision_1: 0.9609 - val_recall_1: 0.9339\n",
      "Epoch 15/20\n",
      "45/45 [==============================] - 0s 8ms/step\n",
      "251/251 [==============================] - 2s 8ms/step\n",
      "Val F1 Score: 0.34194953328869054 - Train F1 Score: 0.3566471530606541\n",
      "63/63 [==============================] - 25s 403ms/step - loss: 0.2185 - acc: 0.9479 - precision_1: 0.9643 - recall_1: 0.9357 - val_loss: 0.2285 - val_acc: 0.9471 - val_precision_1: 0.9620 - val_recall_1: 0.9348\n",
      "Epoch 16/20\n",
      "45/45 [==============================] - 0s 8ms/step\n",
      "251/251 [==============================] - 2s 8ms/step\n",
      "Val F1 Score: 0.3437145592653074 - Train F1 Score: 0.36721661161441393\n",
      "63/63 [==============================] - 25s 405ms/step - loss: 0.2123 - acc: 0.9490 - precision_1: 0.9652 - recall_1: 0.9372 - val_loss: 0.2256 - val_acc: 0.9470 - val_precision_1: 0.9611 - val_recall_1: 0.9364\n",
      "Epoch 17/20\n",
      "45/45 [==============================] - 0s 8ms/step\n",
      "251/251 [==============================] - 2s 8ms/step\n",
      "Val F1 Score: 0.3597837189564103 - Train F1 Score: 0.3833401473811312\n",
      "63/63 [==============================] - 25s 409ms/step - loss: 0.2068 - acc: 0.9499 - precision_1: 0.9655 - recall_1: 0.9385 - val_loss: 0.2204 - val_acc: 0.9480 - val_precision_1: 0.9614 - val_recall_1: 0.9378\n",
      "Epoch 18/20\n",
      "45/45 [==============================] - 0s 8ms/step\n",
      "251/251 [==============================] - 2s 8ms/step\n",
      "Val F1 Score: 0.37137926498860224 - Train F1 Score: 0.3991779770772948\n",
      "63/63 [==============================] - 25s 405ms/step - loss: 0.2022 - acc: 0.9509 - precision_1: 0.9662 - recall_1: 0.9395 - val_loss: 0.2177 - val_acc: 0.9488 - val_precision_1: 0.9624 - val_recall_1: 0.9376\n",
      "Epoch 19/20\n",
      "45/45 [==============================] - 0s 8ms/step\n",
      "251/251 [==============================] - 2s 8ms/step\n",
      "Val F1 Score: 0.36653700564381303 - Train F1 Score: 0.40008065856969477\n",
      "63/63 [==============================] - 26s 411ms/step - loss: 0.1977 - acc: 0.9518 - precision_1: 0.9667 - recall_1: 0.9406 - val_loss: 0.2166 - val_acc: 0.9483 - val_precision_1: 0.9611 - val_recall_1: 0.9388\n",
      "Epoch 20/20\n",
      "45/45 [==============================] - 0s 8ms/step\n",
      "251/251 [==============================] - 2s 9ms/step\n",
      "Val F1 Score: 0.3677386337630989 - Train F1 Score: 0.405801130242467\n",
      "63/63 [==============================] - 26s 417ms/step - loss: 0.1939 - acc: 0.9524 - precision_1: 0.9669 - recall_1: 0.9417 - val_loss: 0.2147 - val_acc: 0.9483 - val_precision_1: 0.9595 - val_recall_1: 0.9399\n"
     ]
    }
   ],
   "source": [
    "gru_training = gru_model.fit(X_train, Y_train, batch_size=128, epochs=20, validation_data=(X_val, Y_val), callbacks=[gru_f1_callback])"
   ]
  },
  {
   "cell_type": "markdown",
   "id": "236b9fab",
   "metadata": {
    "papermill": {
     "duration": 0.222694,
     "end_time": "2024-03-10T13:00:25.677478",
     "exception": false,
     "start_time": "2024-03-10T13:00:25.454784",
     "status": "completed"
    },
    "tags": []
   },
   "source": [
    "Plotting Graph"
   ]
  },
  {
   "cell_type": "code",
   "execution_count": 35,
   "id": "6ffb7cf6",
   "metadata": {
    "execution": {
     "iopub.execute_input": "2024-03-10T13:00:26.029252Z",
     "iopub.status.busy": "2024-03-10T13:00:26.028711Z",
     "iopub.status.idle": "2024-03-10T13:00:26.547072Z",
     "shell.execute_reply": "2024-03-10T13:00:26.546359Z"
    },
    "papermill": {
     "duration": 0.697037,
     "end_time": "2024-03-10T13:00:26.549038",
     "exception": false,
     "start_time": "2024-03-10T13:00:25.852001",
     "status": "completed"
    },
    "tags": []
   },
   "outputs": [
    {
     "data": {
      "image/png": "[encoded data removed]",
      "text/plain": [
       "<Figure size 1600x500 with 2 Axes>"
      ]
     },
     "metadata": {},
     "output_type": "display_data"
    }
   ],
   "source": [
    "draw_loss_graph(gru_training,model_name, gru_f1_callback.train_f1_scores, gru_f1_callback.val_f1_scores)\n",
    "save_model(gru_model,model_name,Embedding_name,Dataset)"
   ]
  },
  {
   "cell_type": "markdown",
   "id": "12e8df51",
   "metadata": {
    "papermill": {
     "duration": 0.174703,
     "end_time": "2024-03-10T13:00:26.898074",
     "exception": false,
     "start_time": "2024-03-10T13:00:26.723371",
     "status": "completed"
    },
    "tags": []
   },
   "source": [
    "### Testing"
   ]
  },
  {
   "cell_type": "code",
   "execution_count": 36,
   "id": "ae2623be",
   "metadata": {
    "execution": {
     "iopub.execute_input": "2024-03-10T13:00:27.252688Z",
     "iopub.status.busy": "2024-03-10T13:00:27.252031Z",
     "iopub.status.idle": "2024-03-10T13:00:27.864935Z",
     "shell.execute_reply": "2024-03-10T13:00:27.864115Z"
    },
    "papermill": {
     "duration": 0.793035,
     "end_time": "2024-03-10T13:00:27.866815",
     "exception": false,
     "start_time": "2024-03-10T13:00:27.073780",
     "status": "completed"
    },
    "tags": []
   },
   "outputs": [],
   "source": [
    "loaded_model = load_model(model_name,Embedding_name,Dataset)"
   ]
  },
  {
   "cell_type": "markdown",
   "id": "631de160",
   "metadata": {
    "papermill": {
     "duration": 0.173731,
     "end_time": "2024-03-10T13:00:28.213889",
     "exception": false,
     "start_time": "2024-03-10T13:00:28.040158",
     "status": "completed"
    },
    "tags": []
   },
   "source": [
    "Testing Accuracy"
   ]
  },
  {
   "cell_type": "code",
   "execution_count": 37,
   "id": "b493ca13",
   "metadata": {
    "execution": {
     "iopub.execute_input": "2024-03-10T13:00:28.562280Z",
     "iopub.status.busy": "2024-03-10T13:00:28.561958Z",
     "iopub.status.idle": "2024-03-10T13:00:29.518727Z",
     "shell.execute_reply": "2024-03-10T13:00:29.517695Z"
    },
    "papermill": {
     "duration": 1.132738,
     "end_time": "2024-03-10T13:00:29.520319",
     "exception": false,
     "start_time": "2024-03-10T13:00:28.387581",
     "status": "completed"
    },
    "tags": []
   },
   "outputs": [
    {
     "name": "stdout",
     "output_type": "stream",
     "text": [
      "30/30 [==============================] - 1s 9ms/step - loss: 0.2461 - acc: 0.9421 - precision_1: 0.9528 - recall_1: 0.9342\n",
      "0.9421195387840271\n"
     ]
    }
   ],
   "source": [
    "accuracy = loaded_model.evaluate(X_test, Y_test, verbose = 1)\n",
    "print(accuracy[1])"
   ]
  },
  {
   "cell_type": "markdown",
   "id": "9289f5a4",
   "metadata": {
    "papermill": {
     "duration": 0.173889,
     "end_time": "2024-03-10T13:00:29.871055",
     "exception": false,
     "start_time": "2024-03-10T13:00:29.697166",
     "status": "completed"
    },
    "tags": []
   },
   "source": [
    "Testing F1 Score"
   ]
  },
  {
   "cell_type": "code",
   "execution_count": 38,
   "id": "8dcdd239",
   "metadata": {
    "execution": {
     "iopub.execute_input": "2024-03-10T13:00:30.222307Z",
     "iopub.status.busy": "2024-03-10T13:00:30.221455Z",
     "iopub.status.idle": "2024-03-10T13:00:32.799932Z",
     "shell.execute_reply": "2024-03-10T13:00:32.799015Z"
    },
    "papermill": {
     "duration": 2.755834,
     "end_time": "2024-03-10T13:00:32.801459",
     "exception": false,
     "start_time": "2024-03-10T13:00:30.045625",
     "status": "completed"
    },
    "tags": []
   },
   "outputs": [
    {
     "name": "stdout",
     "output_type": "stream",
     "text": [
      "30/30 [==============================] - 1s 8ms/step\n",
      "Test F1 Score: 0.3721064295414607\n"
     ]
    }
   ],
   "source": [
    "Y_pred = loaded_model.predict(X_test)\n",
    "real = get_real(Y_test)\n",
    "pred = get_pred(Y_pred)\n",
    "\n",
    "true_labels_flat = [label for sublist in real for label in sublist]\n",
    "predicted_labels_flat = [label for sublist in pred for label in sublist]\n",
    "\n",
    "# Compute F1 score\n",
    "f1 = f1_score(true_labels_flat, predicted_labels_flat, average='macro')\n",
    "\n",
    "print(\"Test F1 Score:\", f1)"
   ]
  },
  {
   "cell_type": "markdown",
   "id": "bf76d3f6",
   "metadata": {
    "papermill": {
     "duration": 0.173641,
     "end_time": "2024-03-10T13:00:33.202648",
     "exception": false,
     "start_time": "2024-03-10T13:00:33.029007",
     "status": "completed"
    },
    "tags": []
   },
   "source": [
    "## LSTM"
   ]
  },
  {
   "cell_type": "code",
   "execution_count": 39,
   "id": "1c5ff354",
   "metadata": {
    "execution": {
     "iopub.execute_input": "2024-03-10T13:00:33.556600Z",
     "iopub.status.busy": "2024-03-10T13:00:33.556231Z",
     "iopub.status.idle": "2024-03-10T13:00:33.560164Z",
     "shell.execute_reply": "2024-03-10T13:00:33.559413Z"
    },
    "papermill": {
     "duration": 0.183106,
     "end_time": "2024-03-10T13:00:33.562175",
     "exception": false,
     "start_time": "2024-03-10T13:00:33.379069",
     "status": "completed"
    },
    "tags": []
   },
   "outputs": [],
   "source": [
    "model_name=\"LSTM\""
   ]
  },
  {
   "cell_type": "markdown",
   "id": "9c18a916",
   "metadata": {
    "papermill": {
     "duration": 0.178838,
     "end_time": "2024-03-10T13:00:33.919035",
     "exception": false,
     "start_time": "2024-03-10T13:00:33.740197",
     "status": "completed"
    },
    "tags": []
   },
   "source": [
    "### Training"
   ]
  },
  {
   "cell_type": "code",
   "execution_count": 40,
   "id": "429853f7",
   "metadata": {
    "execution": {
     "iopub.execute_input": "2024-03-10T13:00:34.275576Z",
     "iopub.status.busy": "2024-03-10T13:00:34.275242Z",
     "iopub.status.idle": "2024-03-10T13:00:34.575964Z",
     "shell.execute_reply": "2024-03-10T13:00:34.575219Z"
    },
    "papermill": {
     "duration": 0.481484,
     "end_time": "2024-03-10T13:00:34.577898",
     "exception": false,
     "start_time": "2024-03-10T13:00:34.096414",
     "status": "completed"
    },
    "tags": []
   },
   "outputs": [],
   "source": [
    "lstm_model = Sequential()\n",
    "lstm_model.add(Embedding(input_dim = vocab_size,output_dim = 300,input_length  = max_len,weights = [weights],trainable = False))\n",
    "lstm_model.add(LSTM(128, return_sequences=True))\n",
    "lstm_model.add(TimeDistributed(Dense(Y_train.shape[2], activation='softmax')))# Lstm"
   ]
  },
  {
   "cell_type": "markdown",
   "id": "a78a5055",
   "metadata": {
    "papermill": {
     "duration": 0.175904,
     "end_time": "2024-03-10T13:00:34.974119",
     "exception": false,
     "start_time": "2024-03-10T13:00:34.798215",
     "status": "completed"
    },
    "tags": []
   },
   "source": [
    "Compiling LSTM"
   ]
  },
  {
   "cell_type": "code",
   "execution_count": 41,
   "id": "73b85f07",
   "metadata": {
    "execution": {
     "iopub.execute_input": "2024-03-10T13:00:35.325162Z",
     "iopub.status.busy": "2024-03-10T13:00:35.324868Z",
     "iopub.status.idle": "2024-03-10T13:00:35.339103Z",
     "shell.execute_reply": "2024-03-10T13:00:35.338505Z"
    },
    "papermill": {
     "duration": 0.192079,
     "end_time": "2024-03-10T13:00:35.340560",
     "exception": false,
     "start_time": "2024-03-10T13:00:35.148481",
     "status": "completed"
    },
    "tags": []
   },
   "outputs": [],
   "source": [
    "lstm_model.compile(loss='categorical_crossentropy',optimizer='adam',metrics=['acc',Precision(),Recall()])"
   ]
  },
  {
   "cell_type": "code",
   "execution_count": 42,
   "id": "57d16ade",
   "metadata": {
    "execution": {
     "iopub.execute_input": "2024-03-10T13:00:35.695133Z",
     "iopub.status.busy": "2024-03-10T13:00:35.694640Z",
     "iopub.status.idle": "2024-03-10T13:00:35.698030Z",
     "shell.execute_reply": "2024-03-10T13:00:35.697504Z"
    },
    "papermill": {
     "duration": 0.182928,
     "end_time": "2024-03-10T13:00:35.699540",
     "exception": false,
     "start_time": "2024-03-10T13:00:35.516612",
     "status": "completed"
    },
    "tags": []
   },
   "outputs": [],
   "source": [
    "LSTM_f1_callback=F1ScoreCallback(val_data=(X_val, Y_val),data=(X_train, Y_train))"
   ]
  },
  {
   "cell_type": "code",
   "execution_count": 43,
   "id": "2679e919",
   "metadata": {
    "execution": {
     "iopub.execute_input": "2024-03-10T13:00:36.048579Z",
     "iopub.status.busy": "2024-03-10T13:00:36.048048Z",
     "iopub.status.idle": "2024-03-10T13:00:36.064079Z",
     "shell.execute_reply": "2024-03-10T13:00:36.063349Z"
    },
    "papermill": {
     "duration": 0.192946,
     "end_time": "2024-03-10T13:00:36.065574",
     "exception": false,
     "start_time": "2024-03-10T13:00:35.872628",
     "status": "completed"
    },
    "tags": []
   },
   "outputs": [
    {
     "name": "stdout",
     "output_type": "stream",
     "text": [
      "Model: \"sequential_2\"\n",
      "_________________________________________________________________\n",
      " Layer (type)                Output Shape              Param #   \n",
      "=================================================================\n",
      " embedding_2 (Embedding)     (None, 70, 300)           9066000   \n",
      "                                                                 \n",
      " lstm (LSTM)                 (None, 70, 128)           219648    \n",
      "                                                                 \n",
      " time_distributed_2 (TimeDi  (None, 70, 28)            3612      \n",
      " stributed)                                                      \n",
      "                                                                 \n",
      "=================================================================\n",
      "Total params: 9289260 (35.44 MB)\n",
      "Trainable params: 223260 (872.11 KB)\n",
      "Non-trainable params: 9066000 (34.58 MB)\n",
      "_________________________________________________________________\n"
     ]
    }
   ],
   "source": [
    "lstm_model.summary()"
   ]
  },
  {
   "cell_type": "markdown",
   "id": "0bd8e11b",
   "metadata": {
    "papermill": {
     "duration": 0.223505,
     "end_time": "2024-03-10T13:00:36.465928",
     "exception": false,
     "start_time": "2024-03-10T13:00:36.242423",
     "status": "completed"
    },
    "tags": []
   },
   "source": [
    "Fitting LSTM"
   ]
  },
  {
   "cell_type": "code",
   "execution_count": 44,
   "id": "0a9f2aea",
   "metadata": {
    "execution": {
     "iopub.execute_input": "2024-03-10T13:00:36.818043Z",
     "iopub.status.busy": "2024-03-10T13:00:36.817736Z",
     "iopub.status.idle": "2024-03-10T13:12:00.286764Z",
     "shell.execute_reply": "2024-03-10T13:12:00.285988Z"
    },
    "papermill": {
     "duration": 683.647175,
     "end_time": "2024-03-10T13:12:00.288679",
     "exception": false,
     "start_time": "2024-03-10T13:00:36.641504",
     "status": "completed"
    },
    "tags": []
   },
   "outputs": [
    {
     "name": "stdout",
     "output_type": "stream",
     "text": [
      "Epoch 1/20\n",
      "45/45 [==============================] - 1s 19ms/step\n",
      "251/251 [==============================] - 5s 19ms/step\n",
      "Val F1 Score: 0.06669659134124856 - Train F1 Score: 0.06684952918254154\n",
      "63/63 [==============================] - 34s 522ms/step - loss: 1.4403 - acc: 0.7767 - precision_2: 0.8806 - recall_2: 0.5504 - val_loss: 0.6332 - val_acc: 0.9022 - val_precision_2: 0.9021 - val_recall_2: 0.8152\n",
      "Epoch 2/20\n",
      "45/45 [==============================] - 1s 19ms/step\n",
      "251/251 [==============================] - 5s 19ms/step\n",
      "Val F1 Score: 0.08234966638991528 - Train F1 Score: 0.08162263444154019\n",
      "63/63 [==============================] - 31s 506ms/step - loss: 0.5579 - acc: 0.9142 - precision_2: 0.9229 - recall_2: 0.8430 - val_loss: 0.5037 - val_acc: 0.9187 - val_precision_2: 0.9331 - val_recall_2: 0.8498\n",
      "Epoch 3/20\n",
      "45/45 [==============================] - 1s 18ms/step\n",
      "251/251 [==============================] - 5s 19ms/step\n",
      "Val F1 Score: 0.09144489402200318 - Train F1 Score: 0.08965063473602927\n",
      "63/63 [==============================] - 32s 516ms/step - loss: 0.4726 - acc: 0.9217 - precision_2: 0.9397 - recall_2: 0.8610 - val_loss: 0.4431 - val_acc: 0.9250 - val_precision_2: 0.9460 - val_recall_2: 0.8673\n",
      "Epoch 4/20\n",
      "45/45 [==============================] - 1s 19ms/step\n",
      "251/251 [==============================] - 5s 19ms/step\n",
      "Val F1 Score: 0.11778553268648599 - Train F1 Score: 0.11618332845428612\n",
      "63/63 [==============================] - 32s 511ms/step - loss: 0.4198 - acc: 0.9272 - precision_2: 0.9460 - recall_2: 0.8739 - val_loss: 0.3985 - val_acc: 0.9286 - val_precision_2: 0.9489 - val_recall_2: 0.8879\n",
      "Epoch 5/20\n",
      "45/45 [==============================] - 1s 18ms/step\n",
      "251/251 [==============================] - 5s 19ms/step\n",
      "Val F1 Score: 0.15558311589628482 - Train F1 Score: 0.1570783084429184\n",
      "63/63 [==============================] - 32s 519ms/step - loss: 0.3759 - acc: 0.9305 - precision_2: 0.9505 - recall_2: 0.8887 - val_loss: 0.3621 - val_acc: 0.9322 - val_precision_2: 0.9538 - val_recall_2: 0.8893\n",
      "Epoch 6/20\n",
      "45/45 [==============================] - 1s 18ms/step\n",
      "251/251 [==============================] - 5s 19ms/step\n",
      "Val F1 Score: 0.1916293166417131 - Train F1 Score: 0.1941439268593699\n",
      "63/63 [==============================] - 32s 511ms/step - loss: 0.3427 - acc: 0.9344 - precision_2: 0.9541 - recall_2: 0.8904 - val_loss: 0.3398 - val_acc: 0.9344 - val_precision_2: 0.9540 - val_recall_2: 0.8913\n",
      "Epoch 7/20\n",
      "45/45 [==============================] - 1s 18ms/step\n",
      "251/251 [==============================] - 5s 19ms/step\n",
      "Val F1 Score: 0.2184760811321713 - Train F1 Score: 0.21744286503434748\n",
      "63/63 [==============================] - 31s 504ms/step - loss: 0.3185 - acc: 0.9372 - precision_2: 0.9558 - recall_2: 0.8933 - val_loss: 0.3145 - val_acc: 0.9379 - val_precision_2: 0.9529 - val_recall_2: 0.8980\n",
      "Epoch 8/20\n",
      "45/45 [==============================] - 1s 19ms/step\n",
      "251/251 [==============================] - 5s 20ms/step\n",
      "Val F1 Score: 0.2387211255608998 - Train F1 Score: 0.24482762502001076\n",
      "63/63 [==============================] - 32s 520ms/step - loss: 0.2989 - acc: 0.9392 - precision_2: 0.9575 - recall_2: 0.9054 - val_loss: 0.2978 - val_acc: 0.9393 - val_precision_2: 0.9580 - val_recall_2: 0.9113\n",
      "Epoch 9/20\n",
      "45/45 [==============================] - 1s 19ms/step\n",
      "251/251 [==============================] - 5s 20ms/step\n",
      "Val F1 Score: 0.2570340128344365 - Train F1 Score: 0.2683916650181838\n",
      "63/63 [==============================] - 38s 608ms/step - loss: 0.2830 - acc: 0.9409 - precision_2: 0.9590 - recall_2: 0.9122 - val_loss: 0.2843 - val_acc: 0.9406 - val_precision_2: 0.9578 - val_recall_2: 0.9141\n",
      "Epoch 10/20\n",
      "45/45 [==============================] - 1s 18ms/step\n",
      "251/251 [==============================] - 5s 19ms/step\n",
      "Val F1 Score: 0.26918372973168997 - Train F1 Score: 0.28177201883485153\n",
      "63/63 [==============================] - 32s 511ms/step - loss: 0.2697 - acc: 0.9424 - precision_2: 0.9596 - recall_2: 0.9142 - val_loss: 0.2718 - val_acc: 0.9417 - val_precision_2: 0.9573 - val_recall_2: 0.9159\n",
      "Epoch 11/20\n",
      "45/45 [==============================] - 1s 19ms/step\n",
      "251/251 [==============================] - 5s 18ms/step\n",
      "Val F1 Score: 0.29108356073292974 - Train F1 Score: 0.3064990277096157\n",
      "63/63 [==============================] - 32s 516ms/step - loss: 0.2588 - acc: 0.9437 - precision_2: 0.9603 - recall_2: 0.9157 - val_loss: 0.2625 - val_acc: 0.9430 - val_precision_2: 0.9588 - val_recall_2: 0.9168\n",
      "Epoch 12/20\n",
      "45/45 [==============================] - 1s 21ms/step\n",
      "251/251 [==============================] - 5s 20ms/step\n",
      "Val F1 Score: 0.30203775277208733 - Train F1 Score: 0.31781898164010164\n",
      "63/63 [==============================] - 33s 524ms/step - loss: 0.2492 - acc: 0.9451 - precision_2: 0.9610 - recall_2: 0.9175 - val_loss: 0.2551 - val_acc: 0.9439 - val_precision_2: 0.9592 - val_recall_2: 0.9178\n",
      "Epoch 13/20\n",
      "45/45 [==============================] - 1s 17ms/step\n",
      "251/251 [==============================] - 5s 19ms/step\n",
      "Val F1 Score: 0.3138536283495185 - Train F1 Score: 0.330698045962506\n",
      "63/63 [==============================] - 33s 524ms/step - loss: 0.2403 - acc: 0.9462 - precision_2: 0.9619 - recall_2: 0.9191 - val_loss: 0.2481 - val_acc: 0.9448 - val_precision_2: 0.9603 - val_recall_2: 0.9183\n",
      "Epoch 14/20\n",
      "45/45 [==============================] - 1s 18ms/step\n",
      "251/251 [==============================] - 5s 18ms/step\n",
      "Val F1 Score: 0.32289383094219254 - Train F1 Score: 0.34253925937361795\n",
      "63/63 [==============================] - 33s 528ms/step - loss: 0.2329 - acc: 0.9472 - precision_2: 0.9622 - recall_2: 0.9206 - val_loss: 0.2440 - val_acc: 0.9450 - val_precision_2: 0.9616 - val_recall_2: 0.9173\n",
      "Epoch 15/20\n",
      "45/45 [==============================] - 1s 19ms/step\n",
      "251/251 [==============================] - 5s 20ms/step\n",
      "Val F1 Score: 0.32117439026022304 - Train F1 Score: 0.3440297133203654\n",
      "63/63 [==============================] - 32s 517ms/step - loss: 0.2260 - acc: 0.9481 - precision_2: 0.9629 - recall_2: 0.9218 - val_loss: 0.2388 - val_acc: 0.9459 - val_precision_2: 0.9592 - val_recall_2: 0.9210\n",
      "Epoch 16/20\n",
      "45/45 [==============================] - 1s 18ms/step\n",
      "251/251 [==============================] - 5s 20ms/step\n",
      "Val F1 Score: 0.3363963289106739 - Train F1 Score: 0.3567903926214263\n",
      "63/63 [==============================] - 38s 603ms/step - loss: 0.2192 - acc: 0.9493 - precision_2: 0.9637 - recall_2: 0.9233 - val_loss: 0.2340 - val_acc: 0.9465 - val_precision_2: 0.9598 - val_recall_2: 0.9218\n",
      "Epoch 17/20\n",
      "45/45 [==============================] - 1s 22ms/step\n",
      "251/251 [==============================] - 4s 18ms/step\n",
      "Val F1 Score: 0.34019050586800803 - Train F1 Score: 0.37444513816691744\n",
      "63/63 [==============================] - 32s 507ms/step - loss: 0.2129 - acc: 0.9501 - precision_2: 0.9641 - recall_2: 0.9246 - val_loss: 0.2293 - val_acc: 0.9462 - val_precision_2: 0.9604 - val_recall_2: 0.9210\n",
      "Epoch 18/20\n",
      "45/45 [==============================] - 1s 18ms/step\n",
      "251/251 [==============================] - 5s 20ms/step\n",
      "Val F1 Score: 0.36130288758452717 - Train F1 Score: 0.39093312417042286\n",
      "63/63 [==============================] - 32s 509ms/step - loss: 0.2082 - acc: 0.9507 - precision_2: 0.9645 - recall_2: 0.9257 - val_loss: 0.2261 - val_acc: 0.9471 - val_precision_2: 0.9634 - val_recall_2: 0.9192\n",
      "Epoch 19/20\n",
      "45/45 [==============================] - 1s 21ms/step\n",
      "251/251 [==============================] - 5s 18ms/step\n",
      "Val F1 Score: 0.35331520967919444 - Train F1 Score: 0.3876214561888628\n",
      "63/63 [==============================] - 32s 511ms/step - loss: 0.2028 - acc: 0.9517 - precision_2: 0.9654 - recall_2: 0.9305 - val_loss: 0.2241 - val_acc: 0.9471 - val_precision_2: 0.9614 - val_recall_2: 0.9365\n",
      "Epoch 20/20\n",
      "45/45 [==============================] - 1s 21ms/step\n",
      "251/251 [==============================] - 5s 19ms/step\n",
      "Val F1 Score: 0.357826994375504 - Train F1 Score: 0.39854443011681173\n",
      "63/63 [==============================] - 32s 521ms/step - loss: 0.1979 - acc: 0.9523 - precision_2: 0.9659 - recall_2: 0.9418 - val_loss: 0.2174 - val_acc: 0.9479 - val_precision_2: 0.9621 - val_recall_2: 0.9375\n"
     ]
    }
   ],
   "source": [
    "lstm_training = lstm_model.fit(X_train, Y_train, batch_size=128, epochs=20, validation_data=(X_val, Y_val), callbacks=[LSTM_f1_callback])"
   ]
  },
  {
   "cell_type": "markdown",
   "id": "d0d0e67e",
   "metadata": {
    "papermill": {
     "duration": 0.41782,
     "end_time": "2024-03-10T13:12:01.074423",
     "exception": false,
     "start_time": "2024-03-10T13:12:00.656603",
     "status": "completed"
    },
    "tags": []
   },
   "source": [
    "Plotting Graph"
   ]
  },
  {
   "cell_type": "code",
   "execution_count": 45,
   "id": "b13bd75b",
   "metadata": {
    "execution": {
     "iopub.execute_input": "2024-03-10T13:12:01.820569Z",
     "iopub.status.busy": "2024-03-10T13:12:01.820068Z",
     "iopub.status.idle": "2024-03-10T13:12:03.275485Z",
     "shell.execute_reply": "2024-03-10T13:12:03.274607Z"
    },
    "papermill": {
     "duration": 1.823486,
     "end_time": "2024-03-10T13:12:03.277360",
     "exception": false,
     "start_time": "2024-03-10T13:12:01.453874",
     "status": "completed"
    },
    "tags": []
   },
   "outputs": [
    {
     "data": {
      "image/png": "[encoded data removed]",
      "text/plain": [
       "<Figure size 1600x500 with 2 Axes>"
      ]
     },
     "metadata": {},
     "output_type": "display_data"
    }
   ],
   "source": [
    "draw_loss_graph(lstm_training, \"LSTM Model\", LSTM_f1_callback.train_f1_scores, LSTM_f1_callback.val_f1_scores)\n",
    "save_model(lstm_model, model_name, Embedding_name, Dataset)\n",
    "loaded_model = load_model(model_name,Embedding_name,Dataset)"
   ]
  },
  {
   "cell_type": "markdown",
   "id": "2ca64ee7",
   "metadata": {
    "papermill": {
     "duration": 0.368033,
     "end_time": "2024-03-10T13:12:04.007175",
     "exception": false,
     "start_time": "2024-03-10T13:12:03.639142",
     "status": "completed"
    },
    "tags": []
   },
   "source": [
    "### Testing"
   ]
  },
  {
   "cell_type": "code",
   "execution_count": 46,
   "id": "3ae4990c",
   "metadata": {
    "execution": {
     "iopub.execute_input": "2024-03-10T13:12:04.787716Z",
     "iopub.status.busy": "2024-03-10T13:12:04.787396Z",
     "iopub.status.idle": "2024-03-10T13:12:05.539239Z",
     "shell.execute_reply": "2024-03-10T13:12:05.538361Z"
    },
    "papermill": {
     "duration": 1.11791,
     "end_time": "2024-03-10T13:12:05.541236",
     "exception": false,
     "start_time": "2024-03-10T13:12:04.423326",
     "status": "completed"
    },
    "tags": []
   },
   "outputs": [],
   "source": [
    "loaded_model = load_model(model_name,Embedding_name,Dataset)"
   ]
  },
  {
   "cell_type": "markdown",
   "id": "f60fa4c6",
   "metadata": {
    "papermill": {
     "duration": 0.368755,
     "end_time": "2024-03-10T13:12:06.281092",
     "exception": false,
     "start_time": "2024-03-10T13:12:05.912337",
     "status": "completed"
    },
    "tags": []
   },
   "source": [
    "Testing accuracy"
   ]
  },
  {
   "cell_type": "code",
   "execution_count": 47,
   "id": "82fc7228",
   "metadata": {
    "execution": {
     "iopub.execute_input": "2024-03-10T13:12:07.058734Z",
     "iopub.status.busy": "2024-03-10T13:12:07.058384Z",
     "iopub.status.idle": "2024-03-10T13:12:08.404237Z",
     "shell.execute_reply": "2024-03-10T13:12:08.403505Z"
    },
    "papermill": {
     "duration": 1.712297,
     "end_time": "2024-03-10T13:12:08.405886",
     "exception": false,
     "start_time": "2024-03-10T13:12:06.693589",
     "status": "completed"
    },
    "tags": []
   },
   "outputs": [
    {
     "name": "stdout",
     "output_type": "stream",
     "text": [
      "30/30 [==============================] - 1s 18ms/step - loss: 0.2462 - acc: 0.9427 - precision_2: 0.9554 - recall_2: 0.9324\n",
      "0.9427065849304199\n"
     ]
    }
   ],
   "source": [
    "accuracy = loaded_model.evaluate(X_test, Y_test, verbose = 1)\n",
    "print(accuracy[1])"
   ]
  },
  {
   "cell_type": "markdown",
   "id": "009df79d",
   "metadata": {
    "papermill": {
     "duration": 0.366524,
     "end_time": "2024-03-10T13:12:09.137392",
     "exception": false,
     "start_time": "2024-03-10T13:12:08.770868",
     "status": "completed"
    },
    "tags": []
   },
   "source": [
    "Testing F1 Score"
   ]
  },
  {
   "cell_type": "code",
   "execution_count": 48,
   "id": "8d2b9af2",
   "metadata": {
    "execution": {
     "iopub.execute_input": "2024-03-10T13:12:09.912485Z",
     "iopub.status.busy": "2024-03-10T13:12:09.912188Z",
     "iopub.status.idle": "2024-03-10T13:12:12.766898Z",
     "shell.execute_reply": "2024-03-10T13:12:12.766151Z"
    },
    "papermill": {
     "duration": 3.223335,
     "end_time": "2024-03-10T13:12:12.768793",
     "exception": false,
     "start_time": "2024-03-10T13:12:09.545458",
     "status": "completed"
    },
    "tags": []
   },
   "outputs": [
    {
     "name": "stdout",
     "output_type": "stream",
     "text": [
      "30/30 [==============================] - 1s 18ms/step\n",
      "Test F1 Score: 0.3642213668617961\n"
     ]
    }
   ],
   "source": [
    "Y_pred = loaded_model.predict(X_test)\n",
    "real = get_real(Y_test)\n",
    "pred = get_pred(Y_pred)\n",
    "\n",
    "true_labels_flat = [label for sublist in real for label in sublist]\n",
    "predicted_labels_flat = [label for sublist in pred for label in sublist]\n",
    "\n",
    "# Compute F1 score\n",
    "f1 = f1_score(true_labels_flat, predicted_labels_flat, average='macro')\n",
    "\n",
    "print(\"Test F1 Score:\", f1)"
   ]
  },
  {
   "cell_type": "markdown",
   "id": "e731ca3b",
   "metadata": {
    "papermill": {
     "duration": 0.368211,
     "end_time": "2024-03-10T13:12:13.502042",
     "exception": false,
     "start_time": "2024-03-10T13:12:13.133831",
     "status": "completed"
    },
    "tags": []
   },
   "source": [
    "# BiLSTM"
   ]
  },
  {
   "cell_type": "code",
   "execution_count": 49,
   "id": "76230984",
   "metadata": {
    "execution": {
     "iopub.execute_input": "2024-03-10T13:12:14.291250Z",
     "iopub.status.busy": "2024-03-10T13:12:14.290968Z",
     "iopub.status.idle": "2024-03-10T13:12:14.294290Z",
     "shell.execute_reply": "2024-03-10T13:12:14.293530Z"
    },
    "papermill": {
     "duration": 0.378876,
     "end_time": "2024-03-10T13:12:14.295919",
     "exception": false,
     "start_time": "2024-03-10T13:12:13.917043",
     "status": "completed"
    },
    "tags": []
   },
   "outputs": [],
   "source": [
    "model_name=\"BiLSTM\""
   ]
  }
 ],
 "metadata": {
  "kaggle": {
   "accelerator": "none",
   "dataSources": [
    {
     "datasetId": 4563561,
     "sourceId": 7795189,
     "sourceType": "datasetVersion"
    }
   ],
   "dockerImageVersionId": 30664,
   "isGpuEnabled": false,
   "isInternetEnabled": true,
   "language": "python",
   "sourceType": "notebook"
  },
  "kernelspec": {
   "display_name": "Python 3",
   "language": "python",
   "name": "python3"
  },
  "language_info": {
   "codemirror_mode": {
    "name": "ipython",
    "version": 3
   },
   "file_extension": ".py",
   "mimetype": "text/x-python",
   "name": "python",
   "nbconvert_exporter": "python",
   "pygments_lexer": "ipython3",
   "version": "3.10.13"
  },
  "papermill": {
   "default_parameters": {},
   "duration": 1815.748968,
   "end_time": "2024-03-10T13:12:17.717689",
   "environment_variables": {},
   "exception": null,
   "input_path": "__notebook__.ipynb",
   "output_path": "__notebook__.ipynb",
   "parameters": {},
   "start_time": "2024-03-10T12:42:01.968721",
   "version": "2.5.0"
  }
 },
 "nbformat": 4,
 "nbformat_minor": 5
}
