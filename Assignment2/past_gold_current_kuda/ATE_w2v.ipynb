{
 "cells": [
  {
   "cell_type": "code",
   "execution_count": 1,
   "metadata": {},
   "outputs": [
    {
     "name": "stdout",
     "output_type": "stream",
     "text": [
      "WARNING:tensorflow:From c:\\Users\\acer\\AppData\\Local\\Programs\\Python\\Python311\\Lib\\site-packages\\keras\\src\\losses.py:2976: The name tf.losses.sparse_softmax_cross_entropy is deprecated. Please use tf.compat.v1.losses.sparse_softmax_cross_entropy instead.\n",
      "\n"
     ]
    },
    {
     "name": "stderr",
     "output_type": "stream",
     "text": [
      "c:\\Users\\acer\\AppData\\Local\\Programs\\Python\\Python311\\Lib\\site-packages\\tensorflow_addons\\utils\\tfa_eol_msg.py:23: UserWarning: \n",
      "\n",
      "TensorFlow Addons (TFA) has ended development and introduction of new features.\n",
      "TFA has entered a minimal maintenance and release mode until a planned end of life in May 2024.\n",
      "Please modify downstream libraries to take dependencies from other repositories in our TensorFlow community (e.g. Keras, Keras-CV, and Keras-NLP). \n",
      "\n",
      "For more information see: https://github.com/tensorflow/addons/issues/2807 \n",
      "\n",
      "  warnings.warn(\n",
      "c:\\Users\\acer\\AppData\\Local\\Programs\\Python\\Python311\\Lib\\site-packages\\tensorflow_addons\\utils\\ensure_tf_install.py:53: UserWarning: Tensorflow Addons supports using Python ops for all Tensorflow versions above or equal to 2.12.0 and strictly below 2.15.0 (nightly versions are not supported). \n",
      " The versions of TensorFlow you are currently using is 2.15.0 and is not supported. \n",
      "Some things might work, some things might not.\n",
      "If you were to encounter a bug, do not file an issue.\n",
      "If you want to make sure you're using a tested and supported configuration, either change the TensorFlow version or the TensorFlow Addons's version. \n",
      "You can find the compatibility matrix in TensorFlow Addon's readme:\n",
      "https://github.com/tensorflow/addons\n",
      "  warnings.warn(\n"
     ]
    }
   ],
   "source": [
    "from IMPORTS import *"
   ]
  },
  {
   "cell_type": "code",
   "execution_count": 3,
   "metadata": {},
   "outputs": [],
   "source": [
    "Embedding_name=\"word2vec\"\n",
    "Dataset=\"ATE\"\n",
    "PATH=\"\"\n",
    "OUTPATH=\"\""
   ]
  },
  {
   "cell_type": "code",
   "execution_count": 4,
   "metadata": {},
   "outputs": [],
   "source": [
    "seed_value = 18\n",
    "np.random.seed(seed_value)\n",
    "tf.random.set_seed(seed_value)"
   ]
  },
  {
   "cell_type": "code",
   "execution_count": 5,
   "metadata": {},
   "outputs": [],
   "source": [
    "if Embedding_name==\"word2vec\":\n",
    "    emb = KeyedVectors.load_word2vec_format(f'{PATH}WordEmbeddings/Word2Vec.bin',binary=True)\n",
    "\n",
    "if Embedding_name==\"glove\":\n",
    "    with open(f'{PATH}WordEmbeddings/glove.840B.300d.pkl', 'rb') as fp:\n",
    "        \n",
    "        emb = pickle.load(fp)\n",
    "if Embedding_name==\"fasttext\":\n",
    "    emb = fasttext.load_model(f'{PATH}WordEmbeddings/cc.en.300.bin')"
   ]
  },
  {
   "cell_type": "markdown",
   "metadata": {},
   "source": [
    "# Data Extraction and Preprocessing"
   ]
  },
  {
   "cell_type": "markdown",
   "metadata": {},
   "source": [
    "Reading ATE json files"
   ]
  },
  {
   "cell_type": "code",
   "execution_count": 6,
   "metadata": {},
   "outputs": [],
   "source": [
    "train = None\n",
    "test = None\n",
    "val = None\n",
    "with open(f\"Data\\processed\\{Dataset}_train.json\") as f1:\n",
    "    train = json.load(f1)\n",
    "\n",
    "with open(f\"Data\\processed\\{Dataset}_test.json\") as f2:\n",
    "    test = json.load(f2)\n",
    "\n",
    "with open(f\"Data\\processed\\{Dataset}_val.json\") as f3:\n",
    "    val = json.load(f3)\n",
    "\n"
   ]
  },
  {
   "cell_type": "markdown",
   "metadata": {},
   "source": [
    "processing into lists"
   ]
  },
  {
   "cell_type": "code",
   "execution_count": 7,
   "metadata": {},
   "outputs": [],
   "source": [
    "X_train,Y_train = create_train_test_val(train)\n",
    "X_test,Y_test = create_train_test_val(test)\n",
    "X_val,Y_val = create_train_test_val(val)"
   ]
  },
  {
   "cell_type": "markdown",
   "metadata": {},
   "source": [
    "Tokenizing the ATE Dataset"
   ]
  },
  {
   "cell_type": "code",
   "execution_count": 8,
   "metadata": {},
   "outputs": [],
   "source": [
    "X_train_tokenized, toke = TokenCreator(X_train,1)\n",
    "X_test_tokenized = TokenCreator(X_test,0,tokenizer = toke)\n",
    "X_val_tokenized = TokenCreator(X_val,0,tokenizer = toke)\n",
    "\n",
    "Y_train_tokenized,toke2 = TokenCreator(Y_train,0)\n",
    "Y_test_tokenized = TokenCreator(Y_test,0,tokenizer = toke2)\n",
    "Y_val_tokenized = TokenCreator(Y_val,0,tokenizer = toke2)"
   ]
  },
  {
   "cell_type": "markdown",
   "metadata": {},
   "source": [
    "Vocabulary of ATE"
   ]
  },
  {
   "cell_type": "code",
   "execution_count": 9,
   "metadata": {},
   "outputs": [
    {
     "data": {
      "text/plain": [
       "2406"
      ]
     },
     "execution_count": 9,
     "metadata": {},
     "output_type": "execute_result"
    }
   ],
   "source": [
    "st1 = find_vocab(X_train_tokenized)\n",
    "vocab_size  = len(st1) + 1 \n",
    "vocab_size"
   ]
  },
  {
   "cell_type": "code",
   "execution_count": 10,
   "metadata": {},
   "outputs": [
    {
     "data": {
      "text/plain": [
       "78"
      ]
     },
     "execution_count": 10,
     "metadata": {},
     "output_type": "execute_result"
    }
   ],
   "source": [
    "max_len=0\n",
    "\n",
    "for i in X_train_tokenized:\n",
    "    max_len = max(max_len,len(i))\n",
    "\n",
    "max_len"
   ]
  },
  {
   "cell_type": "markdown",
   "metadata": {},
   "source": [
    "Padding ATE"
   ]
  },
  {
   "cell_type": "code",
   "execution_count": 11,
   "metadata": {},
   "outputs": [],
   "source": [
    "X_padded_train = pad_sequences(X_train_tokenized, maxlen=max_len, padding=\"pre\", truncating=\"post\")\n",
    "Y_padded_train = pad_sequences(Y_train_tokenized, maxlen=max_len, padding=\"pre\", truncating=\"post\")\n",
    "\n",
    "X_padded_test = pad_sequences(X_test_tokenized, maxlen=max_len, padding=\"pre\", truncating=\"post\")\n",
    "Y_padded_test = pad_sequences(Y_test_tokenized, maxlen=max_len, padding=\"pre\", truncating=\"post\")\n",
    "\n",
    "X_padded_val = pad_sequences(X_val_tokenized, maxlen=max_len, padding=\"pre\", truncating=\"post\")\n",
    "Y_padded_val = pad_sequences(Y_val_tokenized, maxlen=max_len, padding=\"pre\", truncating=\"post\")       "
   ]
  },
  {
   "cell_type": "markdown",
   "metadata": {},
   "source": [
    "One hot encoding the ATE labels"
   ]
  },
  {
   "cell_type": "code",
   "execution_count": 12,
   "metadata": {},
   "outputs": [],
   "source": [
    "Y_padded_train = to_categorical(Y_padded_train)\n",
    "Y_padded_test = to_categorical(Y_padded_test)\n",
    "Y_padded_val = to_categorical(Y_padded_val)"
   ]
  },
  {
   "cell_type": "markdown",
   "metadata": {},
   "source": [
    "Assigning **ATE Word2Vec** mapping"
   ]
  },
  {
   "cell_type": "code",
   "execution_count": 13,
   "metadata": {},
   "outputs": [
    {
     "data": {
      "text/plain": [
       "{'#UK': 1,\n",
       " 'the': 2,\n",
       " '.': 3,\n",
       " ',': 4,\n",
       " 'and': 5,\n",
       " 'it': 6,\n",
       " 'to': 7,\n",
       " 'i': 8,\n",
       " 'is': 9,\n",
       " 'a': 10,\n",
       " 'of': 11,\n",
       " 'for': 12,\n",
       " 'with': 13,\n",
       " 'that': 14,\n",
       " 'my': 15,\n",
       " 'you': 16,\n",
       " 'this': 17,\n",
       " 'was': 18,\n",
       " 'in': 19,\n",
       " 'not': 20,\n",
       " 'on': 21,\n",
       " 'very': 22,\n",
       " 'but': 23,\n",
       " 'computer': 24,\n",
       " 'use': 25,\n",
       " 'have': 26,\n",
       " 'great': 27,\n",
       " 'they': 28,\n",
       " 'laptop': 29,\n",
       " \"n't\": 30,\n",
       " 'so': 31,\n",
       " 'has': 32,\n",
       " 'are': 33,\n",
       " 'battery': 34,\n",
       " 'had': 35,\n",
       " 'screen': 36,\n",
       " ')': 37,\n",
       " 'be': 38,\n",
       " 'as': 39,\n",
       " 'all': 40,\n",
       " '!': 41,\n",
       " '(': 42,\n",
       " \"'s\": 43,\n",
       " 'also': 44,\n",
       " 'me': 45,\n",
       " 'just': 46,\n",
       " 'easy': 47,\n",
       " 'when': 48,\n",
       " 'at': 49,\n",
       " 'or': 50,\n",
       " 'only': 51,\n",
       " 'which': 52,\n",
       " 'up': 53,\n",
       " 'life': 54,\n",
       " 'can': 55,\n",
       " 'windows': 56,\n",
       " 'than': 57,\n",
       " 'out': 58,\n",
       " 'if': 59,\n",
       " 'do': 60,\n",
       " 'after': 61,\n",
       " 'more': 62,\n",
       " 'keyboard': 63,\n",
       " 'would': 64,\n",
       " 'drive': 65,\n",
       " 'hard': 66,\n",
       " 'price': 67,\n",
       " 'from': 68,\n",
       " 'well': 69,\n",
       " 'because': 70,\n",
       " 'good': 71,\n",
       " 'one': 72,\n",
       " 'an': 73,\n",
       " 'like': 74,\n",
       " 'mac': 75,\n",
       " 'about': 76,\n",
       " 'quality': 77,\n",
       " 'its': 78,\n",
       " 'love': 79,\n",
       " 'get': 80,\n",
       " 'no': 81,\n",
       " 'software': 82,\n",
       " 'time': 83,\n",
       " 'even': 84,\n",
       " 'macbook': 85,\n",
       " 'will': 86,\n",
       " 'system': 87,\n",
       " 'apple': 88,\n",
       " 'other': 89,\n",
       " 'there': 90,\n",
       " 'does': 91,\n",
       " 'thing': 92,\n",
       " 'problem': 93,\n",
       " 'new': 94,\n",
       " 'much': 95,\n",
       " 'features': 96,\n",
       " 'any': 97,\n",
       " 'then': 98,\n",
       " 'programs': 99,\n",
       " 'power': 100,\n",
       " 'now': 101,\n",
       " 'service': 102,\n",
       " 'work': 103,\n",
       " 'buy': 104,\n",
       " 'works': 105,\n",
       " 'problems': 106,\n",
       " 'fast': 107,\n",
       " 'did': 108,\n",
       " 'toshiba': 109,\n",
       " '7': 110,\n",
       " 'could': 111,\n",
       " 'size': 112,\n",
       " 'what': 113,\n",
       " 'am': 114,\n",
       " 'too': 115,\n",
       " 'working': 116,\n",
       " 'back': 117,\n",
       " 'your': 118,\n",
       " ':': 119,\n",
       " 'speed': 120,\n",
       " 'machine': 121,\n",
       " 'best': 122,\n",
       " 'pro': 123,\n",
       " 'we': 124,\n",
       " 'were': 125,\n",
       " 'again': 126,\n",
       " 'pc': 127,\n",
       " 'performance': 128,\n",
       " 'little': 129,\n",
       " 'product': 130,\n",
       " 'many': 131,\n",
       " '-': 132,\n",
       " 'really': 133,\n",
       " 'by': 134,\n",
       " 'need': 135,\n",
       " 'first': 136,\n",
       " 'having': 137,\n",
       " \"''\": 138,\n",
       " 'some': 139,\n",
       " 'still': 140,\n",
       " 'months': 141,\n",
       " 'memory': 142,\n",
       " 'long': 143,\n",
       " 'been': 144,\n",
       " 'their': 145,\n",
       " 'bought': 146,\n",
       " 'better': 147,\n",
       " 'everything': 148,\n",
       " 'used': 149,\n",
       " 'warranty': 150,\n",
       " 'since': 151,\n",
       " 'worth': 152,\n",
       " 'graphics': 153,\n",
       " 'how': 154,\n",
       " 'design': 155,\n",
       " 'applications': 156,\n",
       " 'mouse': 157,\n",
       " 'comes': 158,\n",
       " 'run': 159,\n",
       " 'who': 160,\n",
       " 'every': 161,\n",
       " 'nice': 162,\n",
       " 'internet': 163,\n",
       " 'laptops': 164,\n",
       " 'never': 165,\n",
       " 'replaced': 166,\n",
       " '3': 167,\n",
       " 'support': 168,\n",
       " 'games': 169,\n",
       " 'bad': 170,\n",
       " 'same': 171,\n",
       " 'right': 172,\n",
       " '``': 173,\n",
       " 'runs': 174,\n",
       " 'looking': 175,\n",
       " 'enough': 176,\n",
       " 'using': 177,\n",
       " 'way': 178,\n",
       " 'running': 179,\n",
       " 'able': 180,\n",
       " 'program': 181,\n",
       " 'always': 182,\n",
       " 'lot': 183,\n",
       " 'dell': 184,\n",
       " 'another': 185,\n",
       " \"'ve\": 186,\n",
       " 'pad': 187,\n",
       " 'netbook': 188,\n",
       " 'got': 189,\n",
       " 'operating': 190,\n",
       " 'hp': 191,\n",
       " 'money': 192,\n",
       " 'most': 193,\n",
       " 'went': 194,\n",
       " 'such': 195,\n",
       " '$': 196,\n",
       " 'card': 197,\n",
       " 'them': 198,\n",
       " 'come': 199,\n",
       " 'large': 200,\n",
       " 'make': 201,\n",
       " 'gaming': 202,\n",
       " 'take': 203,\n",
       " 'hours': 204,\n",
       " 'look': 205,\n",
       " 'web': 206,\n",
       " 'over': 207,\n",
       " 'less': 208,\n",
       " 'ca': 209,\n",
       " 'around': 210,\n",
       " 'though': 211,\n",
       " 'excellent': 212,\n",
       " 'display': 213,\n",
       " 'made': 214,\n",
       " '?': 215,\n",
       " 'awesome': 216,\n",
       " 'while': 217,\n",
       " 'issue': 218,\n",
       " \"'m\": 219,\n",
       " 'makes': 220,\n",
       " 'next': 221,\n",
       " 'keep': 222,\n",
       " 'slow': 223,\n",
       " 'amazing': 224,\n",
       " 'month': 225,\n",
       " 'ever': 226,\n",
       " 'purchase': 227,\n",
       " 'perfect': 228,\n",
       " 'vista': 229,\n",
       " 'customer': 230,\n",
       " 'want': 231,\n",
       " 'carry': 232,\n",
       " 'feel': 233,\n",
       " 'bit': 234,\n",
       " 'small': 235,\n",
       " 'os': 236,\n",
       " 'easily': 237,\n",
       " 'should': 238,\n",
       " 'video': 239,\n",
       " 'overall': 240,\n",
       " 'two': 241,\n",
       " 'cheap': 242,\n",
       " 'off': 243,\n",
       " 'light': 244,\n",
       " 'find': 245,\n",
       " 'open': 246,\n",
       " 'called': 247,\n",
       " 'fix': 248,\n",
       " 'stopped': 249,\n",
       " 'go': 250,\n",
       " 'things': 251,\n",
       " '5': 252,\n",
       " 'key': 253,\n",
       " 'pay': 254,\n",
       " ';': 255,\n",
       " 'desktop': 256,\n",
       " 'cost': 257,\n",
       " 'fixed': 258,\n",
       " 'processor': 259,\n",
       " 'wonderful': 260,\n",
       " 'once': 261,\n",
       " 'sound': 262,\n",
       " 'pretty': 263,\n",
       " 'space': 264,\n",
       " '2': 265,\n",
       " 'down': 266,\n",
       " 'high': 267,\n",
       " 'day': 268,\n",
       " 'external': 269,\n",
       " 'fan': 270,\n",
       " 'started': 271,\n",
       " 'quickly': 272,\n",
       " 'ease': 273,\n",
       " '--': 274,\n",
       " 'word': 275,\n",
       " 'office': 276,\n",
       " 'without': 277,\n",
       " 'old': 278,\n",
       " 'computers': 279,\n",
       " 'came': 280,\n",
       " 'due': 281,\n",
       " 'lightweight': 282,\n",
       " 'cd': 283,\n",
       " 'see': 284,\n",
       " 'short': 285,\n",
       " 'say': 286,\n",
       " 'week': 287,\n",
       " 'repair': 288,\n",
       " 'ram': 289,\n",
       " 'charge': 290,\n",
       " 'boot': 291,\n",
       " 'completely': 292,\n",
       " 'warrenty': 293,\n",
       " 'took': 294,\n",
       " 'shipping': 295,\n",
       " 'microsoft': 296,\n",
       " 'doing': 297,\n",
       " 'set': 298,\n",
       " 'free': 299,\n",
       " 'virus': 300,\n",
       " 'keys': 301,\n",
       " 'supply': 302,\n",
       " 'feature': 303,\n",
       " 'send': 304,\n",
       " 'through': 305,\n",
       " 'know': 306,\n",
       " 'notebook': 307,\n",
       " 'being': 308,\n",
       " 'recommend': 309,\n",
       " 'trackpad': 310,\n",
       " 'compared': 311,\n",
       " 'think': 312,\n",
       " 'full': 313,\n",
       " 'anyone': 314,\n",
       " 'dvd': 315,\n",
       " 'faster': 316,\n",
       " 'change': 317,\n",
       " 'plus': 318,\n",
       " 'last': 319,\n",
       " 'something': 320,\n",
       " 'home': 321,\n",
       " 'company': 322,\n",
       " 'where': 323,\n",
       " 'before': 324,\n",
       " 'value': 325,\n",
       " 'built': 326,\n",
       " 'may': 327,\n",
       " 'however': 328,\n",
       " \"'re\": 329,\n",
       " 'usb': 330,\n",
       " 'brand': 331,\n",
       " 'past': 332,\n",
       " 'motherboard': 333,\n",
       " 'charger': 334,\n",
       " 'hardware': 335,\n",
       " 'simple': 336,\n",
       " 'within': 337,\n",
       " 'touch': 338,\n",
       " 'yet': 339,\n",
       " 'acer': 340,\n",
       " 'yes': 341,\n",
       " 'few': 342,\n",
       " 'webcam': 343,\n",
       " 'play': 344,\n",
       " \"'d\": 345,\n",
       " 'issues': 346,\n",
       " 'clear': 347,\n",
       " 'year': 348,\n",
       " 'thought': 349,\n",
       " 'far': 350,\n",
       " 'user': 351,\n",
       " 'itself': 352,\n",
       " '1': 353,\n",
       " 'although': 354,\n",
       " 'these': 355,\n",
       " 'easier': 356,\n",
       " 'extra': 357,\n",
       " 'port': 358,\n",
       " 'getting': 359,\n",
       " 'etc': 360,\n",
       " 'must': 361,\n",
       " 'speakers': 362,\n",
       " 'looks': 363,\n",
       " 'iphoto': 364,\n",
       " 'worked': 365,\n",
       " 'found': 366,\n",
       " 'big': 367,\n",
       " 'learn': 368,\n",
       " 'seems': 369,\n",
       " 'center': 370,\n",
       " 'lots': 371,\n",
       " 'frustrating': 372,\n",
       " 'help': 373,\n",
       " 'fact': 374,\n",
       " 'upgraded': 375,\n",
       " 'pcs': 376,\n",
       " 'connect': 377,\n",
       " 'board': 378,\n",
       " 'making': 379,\n",
       " 'products': 380,\n",
       " 'needs': 381,\n",
       " 'cool': 382,\n",
       " 'until': 383,\n",
       " 'course': 384,\n",
       " 'resolution': 385,\n",
       " 'itunes': 386,\n",
       " '13': 387,\n",
       " 'longer': 388,\n",
       " 'type': 389,\n",
       " 'store': 390,\n",
       " 'sent': 391,\n",
       " 'quick': 392,\n",
       " 'second': 393,\n",
       " 'processing': 394,\n",
       " 'poor': 395,\n",
       " 'expected': 396,\n",
       " 'years': 397,\n",
       " 'simply': 398,\n",
       " 'starter': 399,\n",
       " 'buttons': 400,\n",
       " 'build': 401,\n",
       " 'call': 402,\n",
       " 'others': 403,\n",
       " 'wireless': 404,\n",
       " 'plenty': 405,\n",
       " 'he': 406,\n",
       " 'actually': 407,\n",
       " 'failed': 408,\n",
       " 'someone': 409,\n",
       " 'cord': 410,\n",
       " 'extremely': 411,\n",
       " 'absolutely': 412,\n",
       " 'start': 413,\n",
       " 'dark': 414,\n",
       " 'multi-touch': 415,\n",
       " 'installed': 416,\n",
       " 'crashed': 417,\n",
       " 'added': 418,\n",
       " 'hd': 419,\n",
       " 'monitor': 420,\n",
       " 'several': 421,\n",
       " 'loud': 422,\n",
       " 'times': 423,\n",
       " '4': 424,\n",
       " 'wanted': 425,\n",
       " 'constantly': 426,\n",
       " 'systems': 427,\n",
       " 'touchpad': 428,\n",
       " 'editing': 429,\n",
       " 'phone': 430,\n",
       " 'hour': 431,\n",
       " 'browsing': 432,\n",
       " 'playing': 433,\n",
       " 'replace': 434,\n",
       " 'believe': 435,\n",
       " 'xp': 436,\n",
       " 'wo': 437,\n",
       " 'online': 438,\n",
       " 'garageband': 439,\n",
       " 'bright': 440,\n",
       " 'navigate': 441,\n",
       " 'ilife': 442,\n",
       " 'sleek': 443,\n",
       " 'least': 444,\n",
       " 'premium': 445,\n",
       " 'box': 446,\n",
       " 'away': 447,\n",
       " 'anything': 448,\n",
       " 'worry': 449,\n",
       " 'sure': 450,\n",
       " 'book': 451,\n",
       " 'experience': 452,\n",
       " 'told': 453,\n",
       " 'portable': 454,\n",
       " 'needed': 455,\n",
       " 'going': 456,\n",
       " 'sony': 457,\n",
       " 'macbooks': 458,\n",
       " 'done': 459,\n",
       " 'useful': 460,\n",
       " 'horrible': 461,\n",
       " '/': 462,\n",
       " 'weight': 463,\n",
       " 'movies': 464,\n",
       " 'led': 465,\n",
       " 'tried': 466,\n",
       " 'business': 467,\n",
       " 'background': 468,\n",
       " 'camera': 469,\n",
       " 'fine': 470,\n",
       " 'huge': 471,\n",
       " 'weeks': 472,\n",
       " 'deal': 473,\n",
       " 'superior': 474,\n",
       " 'upgrade': 475,\n",
       " 'media': 476,\n",
       " 'macs': 477,\n",
       " 'convenient': 478,\n",
       " 'real': 479,\n",
       " 'already': 480,\n",
       " 'worse': 481,\n",
       " 'specs': 482,\n",
       " 'disk': 483,\n",
       " 'front': 484,\n",
       " 'coming': 485,\n",
       " 'connection': 486,\n",
       " 'highly': 487,\n",
       " 'offers': 488,\n",
       " 'finally': 489,\n",
       " 'seemed': 490,\n",
       " 'disc': 491,\n",
       " 'enjoy': 492,\n",
       " 'extended': 493,\n",
       " 'knew': 494,\n",
       " 'trouble': 495,\n",
       " 'order': 496,\n",
       " 'documents': 497,\n",
       " 'crashing': 498,\n",
       " 'designed': 499,\n",
       " 'oh': 500,\n",
       " 'expensive': 501,\n",
       " 'top': 502,\n",
       " \"'ll\": 503,\n",
       " 'charged': 504,\n",
       " 'sales': 505,\n",
       " 'average': 506,\n",
       " 'maybe': 507,\n",
       " 'gets': 508,\n",
       " 'wish': 509,\n",
       " 'might': 510,\n",
       " 'backlit': 511,\n",
       " 'volume': 512,\n",
       " 'install': 513,\n",
       " 'impressed': 514,\n",
       " 'including': 515,\n",
       " 'built-in': 516,\n",
       " 'hooked': 517,\n",
       " 'drop': 518,\n",
       " 'guess': 519,\n",
       " 'tax': 520,\n",
       " 'buying': 521,\n",
       " 'iwork': 522,\n",
       " 'our': 523,\n",
       " 'especially': 524,\n",
       " 'replacement': 525,\n",
       " 'shows': 526,\n",
       " 'x': 527,\n",
       " 'older': 528,\n",
       " 'ports': 529,\n",
       " 'intel': 530,\n",
       " 'version': 531,\n",
       " 'email': 532,\n",
       " 'hot': 533,\n",
       " 'cheaper': 534,\n",
       " 'takes': 535,\n",
       " 'load': 536,\n",
       " 'storage': 537,\n",
       " 'tech': 538,\n",
       " 'users': 539,\n",
       " 'fairly': 540,\n",
       " 'reason': 541,\n",
       " 'end': 542,\n",
       " 'operation': 543,\n",
       " 'sharp': 544,\n",
       " 'nearly': 545,\n",
       " 'flawlessly': 546,\n",
       " 'higher': 547,\n",
       " 'music': 548,\n",
       " 'included': 549,\n",
       " 'expense': 550,\n",
       " 'osx': 551,\n",
       " 'functions': 552,\n",
       " 'tv': 553,\n",
       " 'interface': 554,\n",
       " 'pleased': 555,\n",
       " 'professional': 556,\n",
       " 'care': 557,\n",
       " 'apps': 558,\n",
       " 'watching': 559,\n",
       " 'else': 560,\n",
       " 'beautiful': 561,\n",
       " 'inch': 562,\n",
       " 'inside': 563,\n",
       " 'trial': 564,\n",
       " 'own': 565,\n",
       " 'noticed': 566,\n",
       " 'left': 567,\n",
       " 'model': 568,\n",
       " 'case': 569,\n",
       " 'happy': 570,\n",
       " 'into': 571,\n",
       " 'definitely': 572,\n",
       " 'matter': 573,\n",
       " 'different': 574,\n",
       " 'button': 575,\n",
       " 'opened': 576,\n",
       " 'sized': 577,\n",
       " 'typing': 578,\n",
       " 'days': 579,\n",
       " 'froze': 580,\n",
       " 'adding': 581,\n",
       " 'loose': 582,\n",
       " 'number': 583,\n",
       " 'photos': 584,\n",
       " 'solid': 585,\n",
       " 'edges': 586,\n",
       " 'geek': 587,\n",
       " 'college': 588,\n",
       " 'both': 589,\n",
       " 'pictures': 590,\n",
       " 'half': 591,\n",
       " 'network': 592,\n",
       " 'nothing': 593,\n",
       " 'services': 594,\n",
       " 'said': 595,\n",
       " 'darker': 596,\n",
       " 'standard': 597,\n",
       " 'pages': 598,\n",
       " '...': 599,\n",
       " 'strong': 600,\n",
       " 'purchased': 601,\n",
       " 'save': 602,\n",
       " 'almost': 603,\n",
       " 'apparently': 604,\n",
       " 'videos': 605,\n",
       " 'difference': 606,\n",
       " 'fit': 607,\n",
       " 'night': 608,\n",
       " 'usually': 609,\n",
       " 'entire': 610,\n",
       " 'stay': 611,\n",
       " 'properly': 612,\n",
       " 'plugged': 613,\n",
       " 'iphone': 614,\n",
       " 'talk': 615,\n",
       " 'crashes': 616,\n",
       " 'paying': 617,\n",
       " 'newer': 618,\n",
       " 'country': 619,\n",
       " 'certain': 620,\n",
       " 'drivers': 621,\n",
       " 'files': 622,\n",
       " 'slick': 623,\n",
       " 'died': 624,\n",
       " 'trying': 625,\n",
       " 'allows': 626,\n",
       " 'refused': 627,\n",
       " 'ipod': 628,\n",
       " 'mother': 629,\n",
       " 'yeah': 630,\n",
       " 'bar': 631,\n",
       " 'recovery': 632,\n",
       " 'available': 633,\n",
       " 'useless': 634,\n",
       " 'protection': 635,\n",
       " 'paid': 636,\n",
       " 'none': 637,\n",
       " 'reliable': 638,\n",
       " 'people': 639,\n",
       " 'chose': 640,\n",
       " 'spend': 641,\n",
       " 'mention': 642,\n",
       " 'slowly': 643,\n",
       " 'hold': 644,\n",
       " 'minutes': 645,\n",
       " 'stars': 646,\n",
       " '+': 647,\n",
       " 'drawback': 648,\n",
       " 'break': 649,\n",
       " 'responsive': 650,\n",
       " 'amount': 651,\n",
       " 'terrific': 652,\n",
       " 'mic': 653,\n",
       " 'thru': 654,\n",
       " 'cam': 655,\n",
       " 'mostly': 656,\n",
       " 'imovie': 657,\n",
       " 'colors': 658,\n",
       " 'crisp': 659,\n",
       " 'leopard': 660,\n",
       " 'above': 661,\n",
       " 'core': 662,\n",
       " 'becomes': 663,\n",
       " 'body': 664,\n",
       " 'low': 665,\n",
       " 'im': 666,\n",
       " 'whole': 667,\n",
       " '175': 668,\n",
       " 'side': 669,\n",
       " 'cooling': 670,\n",
       " 'viruses': 671,\n",
       " '8': 672,\n",
       " 'keeps': 673,\n",
       " 'friendly': 674,\n",
       " 'caused': 675,\n",
       " 'remove': 676,\n",
       " 'smooth': 677,\n",
       " 'quite': 678,\n",
       " 'soon': 679,\n",
       " 'machines': 680,\n",
       " 'components': 681,\n",
       " 'lasting': 682,\n",
       " 'smoothly': 683,\n",
       " 'loaded': 684,\n",
       " 'via': 685,\n",
       " 'pack': 686,\n",
       " 'liked': 687,\n",
       " 'ahead': 688,\n",
       " 'hated': 689,\n",
       " 'quiet': 690,\n",
       " 'thats': 691,\n",
       " 'three': 692,\n",
       " 'necessary': 693,\n",
       " 'hook': 694,\n",
       " 'satellite': 695,\n",
       " 'boots': 696,\n",
       " 'die': 697,\n",
       " 'received': 698,\n",
       " 'priced': 699,\n",
       " 'burn': 700,\n",
       " 'probably': 701,\n",
       " 'why': 702,\n",
       " 'lose': 703,\n",
       " '%': 704,\n",
       " 'unlike': 705,\n",
       " '17': 706,\n",
       " 'offer': 707,\n",
       " 'updates': 708,\n",
       " 'versions': 709,\n",
       " 'special': 710,\n",
       " 'broke': 711,\n",
       " 'black': 712,\n",
       " 'seen': 713,\n",
       " 'world': 714,\n",
       " 'awful': 715,\n",
       " 'comfortable': 716,\n",
       " 'yourself': 717,\n",
       " 'doesnt': 718,\n",
       " 'during': 719,\n",
       " 'line': 720,\n",
       " 'clean': 721,\n",
       " 'discover': 722,\n",
       " 'looked': 723,\n",
       " 'rma': 724,\n",
       " 'contacted': 725,\n",
       " 'ups': 726,\n",
       " 'durable': 727,\n",
       " 'broken': 728,\n",
       " 'gb': 729,\n",
       " 'reasonable': 730,\n",
       " 'noise': 731,\n",
       " 'constant': 732,\n",
       " 'ghz': 733,\n",
       " '500gb': 734,\n",
       " 'instead': 735,\n",
       " 'access': 736,\n",
       " 'rest': 737,\n",
       " 'wheel': 738,\n",
       " 'school': 739,\n",
       " 'programming': 740,\n",
       " 'worst': 741,\n",
       " 'blue': 742,\n",
       " 'larger': 743,\n",
       " 'gives': 744,\n",
       " 'relatively': 745,\n",
       " 'tutorials': 746,\n",
       " 'disappointing': 747,\n",
       " 'plug': 748,\n",
       " 'capabilities': 749,\n",
       " 'point': 750,\n",
       " 'seem': 751,\n",
       " 'downfall': 752,\n",
       " 'purchasing': 753,\n",
       " 'except': 754,\n",
       " 'plastic': 755,\n",
       " 'returned': 756,\n",
       " 'speaker': 757,\n",
       " 'student': 758,\n",
       " 'portability': 759,\n",
       " 'five': 760,\n",
       " 'person': 761,\n",
       " 'stuff': 762,\n",
       " 'turns': 763,\n",
       " 'often': 764,\n",
       " 'device': 765,\n",
       " 'fun': 766,\n",
       " 'plan': 767,\n",
       " 'previous': 768,\n",
       " 'operate': 769,\n",
       " 'unable': 770,\n",
       " 'track': 771,\n",
       " 'squad': 772,\n",
       " 'known': 773,\n",
       " 'either': 774,\n",
       " 'ask': 775,\n",
       " 'give': 776,\n",
       " 'expired': 777,\n",
       " 'fits': 778,\n",
       " 'budget': 779,\n",
       " 'besides': 780,\n",
       " 'slightly': 781,\n",
       " 'computing': 782,\n",
       " 'room': 783,\n",
       " 'bios': 784,\n",
       " 'benefits': 785,\n",
       " 'spoke': 786,\n",
       " 'she': 787,\n",
       " 'fantastic': 788,\n",
       " 'decent': 789,\n",
       " 'shipped': 790,\n",
       " 'general': 791,\n",
       " 'claim': 792,\n",
       " 'twice': 793,\n",
       " 'handle': 794,\n",
       " 'numbers': 795,\n",
       " 'sensitive': 796,\n",
       " 'cords': 797,\n",
       " 'taking': 798,\n",
       " 'gui': 799,\n",
       " 'bundled': 800,\n",
       " 'gorgeous': 801,\n",
       " 'turned': 802,\n",
       " 'freaking': 803,\n",
       " 'turn': 804,\n",
       " 'steady': 805,\n",
       " 'unnecessary': 806,\n",
       " 'unless': 807,\n",
       " 'suite': 808,\n",
       " 'satisfied': 809,\n",
       " 'barely': 810,\n",
       " 'connected': 811,\n",
       " 'pure': 812,\n",
       " 'snap': 813,\n",
       " '30': 814,\n",
       " 'helps': 815,\n",
       " 'occasionally': 816,\n",
       " 'hundred': 817,\n",
       " 'dollars': 818,\n",
       " 'preloaded': 819,\n",
       " 'along': 820,\n",
       " 'realized': 821,\n",
       " 'kinda': 822,\n",
       " 'speaking': 823,\n",
       " 'browser': 824,\n",
       " 'under': 825,\n",
       " 'ago': 826,\n",
       " 'forced': 827,\n",
       " 'website': 828,\n",
       " 'force': 829,\n",
       " 'four': 830,\n",
       " 'advantage': 831,\n",
       " 'increase': 832,\n",
       " 'heated': 833,\n",
       " 'opening': 834,\n",
       " 'poorly': 835,\n",
       " 'intuitive': 836,\n",
       " 'download': 837,\n",
       " 'glass': 838,\n",
       " 'continued': 839,\n",
       " 'simpler': 840,\n",
       " 'forward': 841,\n",
       " 'genius': 842,\n",
       " '10': 843,\n",
       " 'movie': 844,\n",
       " 'bluetooth': 845,\n",
       " 'customers': 846,\n",
       " 'white': 847,\n",
       " 'updated': 848,\n",
       " 'color': 849,\n",
       " 'comparison': 850,\n",
       " 'factor': 851,\n",
       " 'familiar': 852,\n",
       " 'couple': 853,\n",
       " 'complaints': 854,\n",
       " 'construction': 855,\n",
       " 'security': 856,\n",
       " 'stuck': 857,\n",
       " 'didnt': 858,\n",
       " 'dont': 859,\n",
       " 'safari': 860,\n",
       " 'delivery': 861,\n",
       " 'anytime': 862,\n",
       " 'mind': 863,\n",
       " 'ordered': 864,\n",
       " 'saved': 865,\n",
       " 'crystal': 866,\n",
       " 'owning': 867,\n",
       " 'become': 868,\n",
       " 'incredibly': 869,\n",
       " 'powerbook': 870,\n",
       " 'easiest': 871,\n",
       " 'surface': 872,\n",
       " 'snow': 873,\n",
       " 'learning': 874,\n",
       " 'picked': 875,\n",
       " 'check': 876,\n",
       " 'missing': 877,\n",
       " 'dual': 878,\n",
       " 'charging': 879,\n",
       " 'stand': 880,\n",
       " 'appleworks': 881,\n",
       " 'paint': 882,\n",
       " 'early': 883,\n",
       " 'edition': 884,\n",
       " 'report': 885,\n",
       " 'cheaply': 886,\n",
       " 'holds': 887,\n",
       " 'antivirus': 888,\n",
       " 'glad': 889,\n",
       " 'nicely': 890,\n",
       " 'part': 891,\n",
       " 'latest': 892,\n",
       " 'waited': 893,\n",
       " 'chat': 894,\n",
       " 'us': 895,\n",
       " 'wasted': 896,\n",
       " 'provides': 897,\n",
       " 'those': 898,\n",
       " 'unreliable': 899,\n",
       " 'meets': 900,\n",
       " 'spec': 901,\n",
       " 'burner': 902,\n",
       " 'discovered': 903,\n",
       " 'ran': 904,\n",
       " 'between': 905,\n",
       " '1/2': 906,\n",
       " 'edge': 907,\n",
       " 'phones': 908,\n",
       " 'terrible': 909,\n",
       " 'hate': 910,\n",
       " 'opinion': 911,\n",
       " 'gave': 912,\n",
       " 'daughter': 913,\n",
       " 'listen': 914,\n",
       " 'major': 915,\n",
       " 'heavy': 916,\n",
       " 'bulky': 917,\n",
       " 'electronic': 918,\n",
       " \"'\": 919,\n",
       " 'linux': 920,\n",
       " 'based': 921,\n",
       " 'sense': 922,\n",
       " 'rather': 923,\n",
       " 'processors': 924,\n",
       " 'hdmi': 925,\n",
       " 'firewire': 926,\n",
       " 'image': 927,\n",
       " 'kind': 928,\n",
       " 'clicking': 929,\n",
       " 'unsteady': 930,\n",
       " 'bugs': 931,\n",
       " 'junk': 932,\n",
       " 'facebook': 933,\n",
       " 'file': 934,\n",
       " 'particular': 935,\n",
       " 'truly': 936,\n",
       " 'bucks': 937,\n",
       " 'beyond': 938,\n",
       " 'duty': 939,\n",
       " 'crash': 940,\n",
       " 'decides': 941,\n",
       " 'mode': 942,\n",
       " 'dropping': 943,\n",
       " 'stock': 944,\n",
       " 'given': 945,\n",
       " 'graphic': 946,\n",
       " 'decreased': 947,\n",
       " 'thrilled': 948,\n",
       " 'technical': 949,\n",
       " 'skype': 950,\n",
       " 'hdd': 951,\n",
       " 'main': 952,\n",
       " 'understand': 953,\n",
       " 'consider': 954,\n",
       " 'ms': 955,\n",
       " 'amazed': 956,\n",
       " 'fully': 957,\n",
       " 'letters': 958,\n",
       " 'complete': 959,\n",
       " 'ergonomic': 960,\n",
       " 'sometimes': 961,\n",
       " 'notebooks': 962,\n",
       " 'quicker': 963,\n",
       " 'photography': 964,\n",
       " '10-11': 965,\n",
       " 'depending': 966,\n",
       " 'level': 967,\n",
       " 'appearance': 968,\n",
       " '3rd': 969,\n",
       " 'bother': 970,\n",
       " 'data': 971,\n",
       " 'taught': 972,\n",
       " 'photoshop': 973,\n",
       " 'bigger': 974,\n",
       " 'loves': 975,\n",
       " 'husband': 976,\n",
       " 'signals': 977,\n",
       " 'multiple': 978,\n",
       " 'page': 979,\n",
       " 'non': 980,\n",
       " 'frequently': 981,\n",
       " 'ideal': 982,\n",
       " 'improvements': 983,\n",
       " 'images': 984,\n",
       " 'later': 985,\n",
       " 'options': 986,\n",
       " 'girlfriend': 987,\n",
       " 'hinge': 988,\n",
       " 'lcd': 989,\n",
       " 'late': 990,\n",
       " 'issued': 991,\n",
       " 'morning': 992,\n",
       " '60': 993,\n",
       " 'hiccups': 994,\n",
       " 'occasion': 995,\n",
       " 'presentations': 996,\n",
       " 'functioning': 997,\n",
       " 'obviously': 998,\n",
       " 'hinges': 999,\n",
       " 'advertised': 1000,\n",
       " ...}"
      ]
     },
     "execution_count": 13,
     "metadata": {},
     "output_type": "execute_result"
    }
   ],
   "source": [
    "weights = np.zeros((vocab_size, 300))\n",
    "mapping = toke.word_index \n",
    "mapping"
   ]
  },
  {
   "cell_type": "markdown",
   "metadata": {},
   "source": [
    "Fetching weights from pre trained Word2Vec model (ATE)"
   ]
  },
  {
   "cell_type": "code",
   "execution_count": 14,
   "metadata": {},
   "outputs": [],
   "source": [
    "for word, index in mapping.items():\n",
    "    if word in emb:\n",
    "        weights[index:] = emb[word]"
   ]
  },
  {
   "cell_type": "code",
   "execution_count": 15,
   "metadata": {},
   "outputs": [],
   "source": [
    "X_train= X_padded_train\n",
    "Y_train = Y_padded_train\n",
    "X_test = X_padded_test\n",
    "Y_test = Y_padded_test\n",
    "X_val = X_padded_val\n",
    "Y_val = Y_padded_val\n",
    "weights = weights\n",
    "word_token = toke\n",
    "tag_token = toke2"
   ]
  },
  {
   "cell_type": "code",
   "execution_count": 16,
   "metadata": {},
   "outputs": [
    {
     "data": {
      "text/plain": [
       "4"
      ]
     },
     "execution_count": 16,
     "metadata": {},
     "output_type": "execute_result"
    }
   ],
   "source": [
    "Y_shape= Y_padded_train.shape[2]\n",
    "Y_shape"
   ]
  },
  {
   "cell_type": "markdown",
   "metadata": {},
   "source": [
    "# Models"
   ]
  },
  {
   "cell_type": "markdown",
   "metadata": {},
   "source": [
    "## RNN"
   ]
  },
  {
   "cell_type": "code",
   "execution_count": 17,
   "metadata": {},
   "outputs": [],
   "source": [
    "model_name=\"RNN\""
   ]
  },
  {
   "cell_type": "markdown",
   "metadata": {},
   "source": [
    "### Training"
   ]
  },
  {
   "cell_type": "code",
   "execution_count": 18,
   "metadata": {},
   "outputs": [
    {
     "name": "stdout",
     "output_type": "stream",
     "text": [
      "WARNING:tensorflow:From c:\\Users\\acer\\AppData\\Local\\Programs\\Python\\Python311\\Lib\\site-packages\\keras\\src\\backend.py:873: The name tf.get_default_graph is deprecated. Please use tf.compat.v1.get_default_graph instead.\n",
      "\n"
     ]
    }
   ],
   "source": [
    "rnn_model = Sequential()\n",
    "rnn_model.add(Embedding(input_dim = vocab_size,output_dim = 300,input_length  = max_len,weights = [weights],trainable = False))\n",
    "rnn_model.add(SimpleRNN(64, return_sequences=True))\n",
    "rnn_model.add(TimeDistributed(Dense(Y_shape, activation='softmax')))"
   ]
  },
  {
   "cell_type": "markdown",
   "metadata": {},
   "source": [
    "Compiling the rnn Word2Vec Model"
   ]
  },
  {
   "cell_type": "code",
   "execution_count": 19,
   "metadata": {},
   "outputs": [
    {
     "name": "stdout",
     "output_type": "stream",
     "text": [
      "WARNING:tensorflow:From c:\\Users\\acer\\AppData\\Local\\Programs\\Python\\Python311\\Lib\\site-packages\\keras\\src\\optimizers\\__init__.py:309: The name tf.train.Optimizer is deprecated. Please use tf.compat.v1.train.Optimizer instead.\n",
      "\n"
     ]
    }
   ],
   "source": [
    "rnn_model.compile(loss='categorical_crossentropy',optimizer='adam',metrics=['acc',Precision(),Recall()])"
   ]
  },
  {
   "cell_type": "code",
   "execution_count": 20,
   "metadata": {},
   "outputs": [],
   "source": [
    "rnn_f1_callback = F1ScoreCallback(val_data=(X_val, Y_val),data=(X_train, Y_train))\n"
   ]
  },
  {
   "cell_type": "code",
   "execution_count": 21,
   "metadata": {},
   "outputs": [
    {
     "name": "stdout",
     "output_type": "stream",
     "text": [
      "Model: \"sequential\"\n",
      "_________________________________________________________________\n",
      " Layer (type)                Output Shape              Param #   \n",
      "=================================================================\n",
      " embedding (Embedding)       (None, 78, 300)           721800    \n",
      "                                                                 \n",
      " simple_rnn (SimpleRNN)      (None, 78, 64)            23360     \n",
      "                                                                 \n",
      " time_distributed (TimeDist  (None, 78, 4)             260       \n",
      " ributed)                                                        \n",
      "                                                                 \n",
      "=================================================================\n",
      "Total params: 745420 (2.84 MB)\n",
      "Trainable params: 23620 (92.27 KB)\n",
      "Non-trainable params: 721800 (2.75 MB)\n",
      "_________________________________________________________________\n"
     ]
    }
   ],
   "source": [
    "rnn_model.summary()"
   ]
  },
  {
   "cell_type": "markdown",
   "metadata": {},
   "source": [
    "Fitting the rnn model"
   ]
  },
  {
   "cell_type": "code",
   "execution_count": 22,
   "metadata": {},
   "outputs": [
    {
     "name": "stdout",
     "output_type": "stream",
     "text": [
      "Epoch 1/15\n",
      "WARNING:tensorflow:From c:\\Users\\acer\\AppData\\Local\\Programs\\Python\\Python311\\Lib\\site-packages\\keras\\src\\utils\\tf_utils.py:492: The name tf.ragged.RaggedTensorValue is deprecated. Please use tf.compat.v1.ragged.RaggedTensorValue instead.\n",
      "\n",
      "WARNING:tensorflow:From c:\\Users\\acer\\AppData\\Local\\Programs\\Python\\Python311\\Lib\\site-packages\\keras\\src\\engine\\base_layer_utils.py:384: The name tf.executing_eagerly_outside_functions is deprecated. Please use tf.compat.v1.executing_eagerly_outside_functions instead.\n",
      "\n",
      "7/7 [==============================] - 0s 6ms/steposs: 1.0692 - acc: 0.8919 - precision: 0.9437 - recall: 0.202\n",
      "29/29 [==============================] - 0s 6ms/step\n",
      "Val F1 Score: 0.4414218139430604 - Train F1 Score: 0.44635626492858954\n",
      "8/8 [==============================] - 5s 414ms/step - loss: 1.0645 - acc: 0.8923 - precision: 0.9437 - recall: 0.2085 - val_loss: 0.5826 - val_acc: 0.9149 - val_precision: 0.9290 - val_recall: 0.7416\n",
      "Epoch 2/15\n",
      "7/7 [==============================] - 0s 6ms/steposs: 0.4519 - acc: 0.9275 - precision: 0.9328 - recall: 0.80\n",
      "29/29 [==============================] - 0s 5ms/step\n",
      "Val F1 Score: 0.4621736982928616 - Train F1 Score: 0.4638840893483774\n",
      "8/8 [==============================] - 2s 273ms/step - loss: 0.4509 - acc: 0.9276 - precision: 0.9328 - recall: 0.8091 - val_loss: 0.3220 - val_acc: 0.9408 - val_precision: 0.9402 - val_recall: 0.8611\n",
      "Epoch 3/15\n",
      "7/7 [==============================] - 0s 4ms/steposs: 0.2858 - acc: 0.9489 - precision: 0.9478 - recall: 0.88\n",
      "29/29 [==============================] - 0s 5ms/step\n",
      "Val F1 Score: 0.4710972231253854 - Train F1 Score: 0.47024395640102945\n",
      "8/8 [==============================] - 2s 215ms/step - loss: 0.2850 - acc: 0.9491 - precision: 0.9480 - recall: 0.8853 - val_loss: 0.2438 - val_acc: 0.9527 - val_precision: 0.9509 - val_recall: 0.9005\n",
      "Epoch 4/15\n",
      "7/7 [==============================] - 0s 5ms/steposs: 0.2902 - acc: 0.9271 - precision: 0.9257 - recall: 0.87\n",
      "29/29 [==============================] - 0s 5ms/step\n",
      "Val F1 Score: 0.45663908969348566 - Train F1 Score: 0.45792837885414545\n",
      "8/8 [==============================] - 2s 220ms/step - loss: 0.2905 - acc: 0.9271 - precision: 0.9257 - recall: 0.8755 - val_loss: 0.2878 - val_acc: 0.9336 - val_precision: 0.9327 - val_recall: 0.8944\n",
      "Epoch 5/15\n",
      "7/7 [==============================] - 0s 5ms/steposs: 0.2742 - acc: 0.9363 - precision: 0.9349 - recall: 0.89\n",
      "29/29 [==============================] - 0s 4ms/step\n",
      "Val F1 Score: 0.4630583296742369 - Train F1 Score: 0.4642897536231758\n",
      "8/8 [==============================] - 2s 211ms/step - loss: 0.2741 - acc: 0.9363 - precision: 0.9350 - recall: 0.8968 - val_loss: 0.2449 - val_acc: 0.9416 - val_precision: 0.9407 - val_recall: 0.9021\n",
      "Epoch 6/15\n",
      "7/7 [==============================] - 0s 5ms/steposs: 0.2217 - acc: 0.9480 - precision: 0.9475 - recall: 0.90\n",
      "29/29 [==============================] - 0s 5ms/step\n",
      "Val F1 Score: 0.4747950758515023 - Train F1 Score: 0.47529326637193736\n",
      "8/8 [==============================] - 2s 214ms/step - loss: 0.2213 - acc: 0.9481 - precision: 0.9476 - recall: 0.9087 - val_loss: 0.1944 - val_acc: 0.9552 - val_precision: 0.9552 - val_recall: 0.9160\n",
      "Epoch 7/15\n",
      "7/7 [==============================] - 0s 5ms/steposs: 0.1832 - acc: 0.9577 - precision: 0.9579 - recall: 0.91\n",
      "29/29 [==============================] - 0s 4ms/step\n",
      "Val F1 Score: 0.5005614831867666 - Train F1 Score: 0.4880394282298171\n",
      "8/8 [==============================] - 2s 217ms/step - loss: 0.1831 - acc: 0.9577 - precision: 0.9580 - recall: 0.9185 - val_loss: 0.1710 - val_acc: 0.9619 - val_precision: 0.9630 - val_recall: 0.9217\n",
      "Epoch 8/15\n",
      "7/7 [==============================] - 0s 4ms/steposs: 0.1662 - acc: 0.9637 - precision: 0.9655 - recall: 0.92\n",
      "29/29 [==============================] - 0s 5ms/step\n",
      "Val F1 Score: 0.5218549974181191 - Train F1 Score: 0.5158086540216954\n",
      "8/8 [==============================] - 2s 223ms/step - loss: 0.1662 - acc: 0.9637 - precision: 0.9655 - recall: 0.9230 - val_loss: 0.1597 - val_acc: 0.9679 - val_precision: 0.9695 - val_recall: 0.9269\n",
      "Epoch 9/15\n",
      "7/7 [==============================] - 0s 4ms/steposs: 0.1568 - acc: 0.9675 - precision: 0.9689 - recall: 0.92\n",
      "29/29 [==============================] - 0s 4ms/step\n",
      "Val F1 Score: 0.5401250725738811 - Train F1 Score: 0.5339617962465557\n",
      "8/8 [==============================] - 1s 210ms/step - loss: 0.1567 - acc: 0.9676 - precision: 0.9690 - recall: 0.9264 - val_loss: 0.1504 - val_acc: 0.9691 - val_precision: 0.9703 - val_recall: 0.9284\n",
      "Epoch 10/15\n",
      "7/7 [==============================] - 0s 4ms/steposs: 0.1483 - acc: 0.9686 - precision: 0.9697 - recall: 0.92\n",
      "29/29 [==============================] - 0s 4ms/step\n",
      "Val F1 Score: 0.5454533153290441 - Train F1 Score: 0.5401333548699938\n",
      "8/8 [==============================] - 2s 219ms/step - loss: 0.1483 - acc: 0.9686 - precision: 0.9697 - recall: 0.9279 - val_loss: 0.1418 - val_acc: 0.9696 - val_precision: 0.9709 - val_recall: 0.9292\n",
      "Epoch 11/15\n",
      "7/7 [==============================] - 0s 4ms/steposs: 0.1407 - acc: 0.9691 - precision: 0.9700 - recall: 0.92\n",
      "29/29 [==============================] - 0s 5ms/step\n",
      "Val F1 Score: 0.5524449513195366 - Train F1 Score: 0.5456914094544155\n",
      "8/8 [==============================] - 1s 206ms/step - loss: 0.1405 - acc: 0.9690 - precision: 0.9699 - recall: 0.9287 - val_loss: 0.1346 - val_acc: 0.9697 - val_precision: 0.9711 - val_recall: 0.9298\n",
      "Epoch 12/15\n",
      "7/7 [==============================] - 0s 4ms/steposs: 0.1337 - acc: 0.9689 - precision: 0.9706 - recall: 0.93\n",
      "29/29 [==============================] - 0s 4ms/step\n",
      "Val F1 Score: 0.5591626313584191 - Train F1 Score: 0.5567854436356964\n",
      "8/8 [==============================] - 1s 205ms/step - loss: 0.1335 - acc: 0.9690 - precision: 0.9707 - recall: 0.9324 - val_loss: 0.1285 - val_acc: 0.9700 - val_precision: 0.9722 - val_recall: 0.9427\n",
      "Epoch 13/15\n",
      "7/7 [==============================] - 0s 5ms/steposs: 0.1276 - acc: 0.9693 - precision: 0.9718 - recall: 0.94\n",
      "29/29 [==============================] - 0s 5ms/step\n",
      "Val F1 Score: 0.568358070674665 - Train F1 Score: 0.568814648600048\n",
      "8/8 [==============================] - 2s 215ms/step - loss: 0.1276 - acc: 0.9693 - precision: 0.9718 - recall: 0.9415 - val_loss: 0.1231 - val_acc: 0.9704 - val_precision: 0.9731 - val_recall: 0.9428\n",
      "Epoch 14/15\n",
      "7/7 [==============================] - 0s 4ms/steposs: 0.1222 - acc: 0.9704 - precision: 0.9739 - recall: 0.94\n",
      "29/29 [==============================] - 0s 4ms/step\n",
      "Val F1 Score: 0.5856201134424303 - Train F1 Score: 0.5793762995107944\n",
      "8/8 [==============================] - 2s 219ms/step - loss: 0.1223 - acc: 0.9704 - precision: 0.9739 - recall: 0.9419 - val_loss: 0.1182 - val_acc: 0.9748 - val_precision: 0.9772 - val_recall: 0.9469\n",
      "Epoch 15/15\n",
      "7/7 [==============================] - 0s 5ms/steposs: 0.1175 - acc: 0.9733 - precision: 0.9763 - recall: 0.94\n",
      "29/29 [==============================] - 0s 5ms/step\n",
      "Val F1 Score: 0.5898114506173078 - Train F1 Score: 0.5851685860326182\n",
      "8/8 [==============================] - 2s 213ms/step - loss: 0.1175 - acc: 0.9733 - precision: 0.9763 - recall: 0.9452 - val_loss: 0.1135 - val_acc: 0.9754 - val_precision: 0.9778 - val_recall: 0.9471\n"
     ]
    }
   ],
   "source": [
    "rnn_training = rnn_model.fit(X_train, Y_train, batch_size=128, epochs=15, validation_data=(X_val, Y_val), callbacks=[rnn_f1_callback])"
   ]
  },
  {
   "cell_type": "markdown",
   "metadata": {},
   "source": [
    "Plotting the graph"
   ]
  },
  {
   "cell_type": "code",
   "execution_count": 23,
   "metadata": {},
   "outputs": [
    {
     "data": {
      "image/png": "[encoded data removed]",
      "text/plain": [
       "<Figure size 1600x500 with 2 Axes>"
      ]
     },
     "metadata": {},
     "output_type": "display_data"
    }
   ],
   "source": [
    "draw_loss_graph(rnn_training,model_name, rnn_f1_callback.train_f1_scores, rnn_f1_callback.val_f1_scores)\n",
    "save_model(rnn_model,model_name,Embedding_name,Dataset)"
   ]
  },
  {
   "cell_type": "markdown",
   "metadata": {},
   "source": [
    "### Testing"
   ]
  },
  {
   "cell_type": "code",
   "execution_count": 24,
   "metadata": {},
   "outputs": [],
   "source": [
    "loaded_model = load_model(model_name,Embedding_name,Dataset)"
   ]
  },
  {
   "cell_type": "markdown",
   "metadata": {},
   "source": [
    "Testing accuracy"
   ]
  },
  {
   "cell_type": "code",
   "execution_count": 25,
   "metadata": {},
   "outputs": [
    {
     "name": "stdout",
     "output_type": "stream",
     "text": [
      "11/11 [==============================] - 1s 6ms/step - loss: 0.1204 - acc: 0.9728 - precision: 0.9754 - recall: 0.9443\n",
      "0.9727954864501953\n"
     ]
    }
   ],
   "source": [
    "accuracy = loaded_model.evaluate(X_test, Y_test, verbose = 1)\n",
    "print(accuracy[1])"
   ]
  },
  {
   "cell_type": "markdown",
   "metadata": {},
   "source": [
    "Testing F1 Score"
   ]
  },
  {
   "cell_type": "code",
   "execution_count": 26,
   "metadata": {},
   "outputs": [
    {
     "name": "stdout",
     "output_type": "stream",
     "text": [
      "11/11 [==============================] - 0s 5ms/step\n",
      "Test F1 Score: 0.5846684689596157\n"
     ]
    }
   ],
   "source": [
    "Y_pred = loaded_model.predict(X_test)\n",
    "real = get_real(Y_test)\n",
    "pred = get_pred(Y_pred)\n",
    "\n",
    "true_labels_flat = [label for sublist in real for label in sublist]\n",
    "predicted_labels_flat = [label for sublist in pred for label in sublist]\n",
    "\n",
    "# Compute F1 score\n",
    "f1 = f1_score(true_labels_flat, predicted_labels_flat, average='macro')\n",
    "\n",
    "print(\"Test F1 Score:\", f1)"
   ]
  },
  {
   "cell_type": "markdown",
   "metadata": {},
   "source": [
    "## GRU"
   ]
  },
  {
   "cell_type": "code",
   "execution_count": 27,
   "metadata": {},
   "outputs": [],
   "source": [
    "model_name=\"GRU\""
   ]
  },
  {
   "cell_type": "markdown",
   "metadata": {},
   "source": [
    "### Training"
   ]
  },
  {
   "cell_type": "code",
   "execution_count": 28,
   "metadata": {},
   "outputs": [],
   "source": [
    "gru_model = Sequential()\n",
    "gru_model.add(Embedding(input_dim = vocab_size,output_dim = 300,input_length  = max_len,weights = [weights],trainable = False))\n",
    "gru_model.add(GRU(64, return_sequences=True))\n",
    "gru_model.add(TimeDistributed(Dense(Y_train.shape[2], activation='softmax')))"
   ]
  },
  {
   "cell_type": "markdown",
   "metadata": {},
   "source": [
    "compiling "
   ]
  },
  {
   "cell_type": "code",
   "execution_count": 29,
   "metadata": {},
   "outputs": [],
   "source": [
    "gru_model.compile(loss='categorical_crossentropy',optimizer='adam',metrics=['acc',Precision(),Recall()])"
   ]
  },
  {
   "cell_type": "code",
   "execution_count": 30,
   "metadata": {},
   "outputs": [],
   "source": [
    "gru_f1_callback = F1ScoreCallback(val_data=(X_val, Y_val),data=(X_train, Y_train))"
   ]
  },
  {
   "cell_type": "code",
   "execution_count": 31,
   "metadata": {},
   "outputs": [
    {
     "name": "stdout",
     "output_type": "stream",
     "text": [
      "Model: \"sequential_1\"\n",
      "_________________________________________________________________\n",
      " Layer (type)                Output Shape              Param #   \n",
      "=================================================================\n",
      " embedding_1 (Embedding)     (None, 78, 300)           721800    \n",
      "                                                                 \n",
      " gru (GRU)                   (None, 78, 64)            70272     \n",
      "                                                                 \n",
      " time_distributed_1 (TimeDi  (None, 78, 4)             260       \n",
      " stributed)                                                      \n",
      "                                                                 \n",
      "=================================================================\n",
      "Total params: 792332 (3.02 MB)\n",
      "Trainable params: 70532 (275.52 KB)\n",
      "Non-trainable params: 721800 (2.75 MB)\n",
      "_________________________________________________________________\n"
     ]
    }
   ],
   "source": [
    "gru_model.summary()"
   ]
  },
  {
   "cell_type": "markdown",
   "metadata": {},
   "source": [
    "Fitting GRU"
   ]
  },
  {
   "cell_type": "code",
   "execution_count": 32,
   "metadata": {},
   "outputs": [
    {
     "name": "stdout",
     "output_type": "stream",
     "text": [
      "Epoch 1/15\n"
     ]
    },
    {
     "name": "stdout",
     "output_type": "stream",
     "text": [
      "7/7 [==============================] - 0s 7ms/steposs: 1.3259 - acc: 0.8964 - precision_1: 0.7273 - recall_1: 2.2894e-04  \n",
      "29/29 [==============================] - 0s 9ms/step\n",
      "Val F1 Score: 0.4861953499284696 - Train F1 Score: 0.4861380019229128\n",
      "8/8 [==============================] - 5s 395ms/step - loss: 1.3245 - acc: 0.8973 - precision_1: 0.8750 - recall_1: 6.9338e-04 - val_loss: 1.1816 - val_acc: 0.9745 - val_precision_1: 0.9403 - val_recall_1: 0.0590\n",
      "Epoch 2/15\n",
      "7/7 [==============================] - 0s 7ms/steposs: 1.0952 - acc: 0.9736 - precision_1: 0.9062 - recall_1: 0.16\n",
      "29/29 [==============================] - 0s 9ms/step\n",
      "Val F1 Score: 0.48623838730270574 - Train F1 Score: 0.48574616653661545\n",
      "8/8 [==============================] - 2s 255ms/step - loss: 1.0942 - acc: 0.9735 - precision_1: 0.9058 - recall_1: 0.1677 - val_loss: 0.9673 - val_acc: 0.9746 - val_precision_1: 0.9014 - val_recall_1: 0.2070\n",
      "Epoch 3/15\n",
      "7/7 [==============================] - 0s 7ms/steposs: 0.8777 - acc: 0.9735 - precision_1: 0.8930 - recall_1: 0.21\n",
      "29/29 [==============================] - 0s 7ms/step\n",
      "Val F1 Score: 0.48614713342916543 - Train F1 Score: 0.4856330707557242\n",
      "8/8 [==============================] - 2s 242ms/step - loss: 0.8777 - acc: 0.9735 - precision_1: 0.8930 - recall_1: 0.2105 - val_loss: 0.6912 - val_acc: 0.9744 - val_precision_1: 0.8972 - val_recall_1: 0.2100\n",
      "Epoch 4/15\n",
      "7/7 [==============================] - 0s 8ms/steposs: 0.5017 - acc: 0.9672 - precision_1: 0.9638 - recall_1: 0.78\n",
      "29/29 [==============================] - 0s 8ms/step\n",
      "Val F1 Score: 0.4536363085610737 - Train F1 Score: 0.4563014327906749\n",
      "8/8 [==============================] - 2s 255ms/step - loss: 0.5017 - acc: 0.9672 - precision_1: 0.9638 - recall_1: 0.7840 - val_loss: 0.3095 - val_acc: 0.9298 - val_precision_1: 0.9276 - val_recall_1: 0.8905\n",
      "Epoch 5/15\n",
      "7/7 [==============================] - 0s 8ms/steposs: 0.2804 - acc: 0.9371 - precision_1: 0.9355 - recall_1: 0.90\n",
      "29/29 [==============================] - 0s 7ms/step\n",
      "Val F1 Score: 0.4753434863517593 - Train F1 Score: 0.4759747265799658\n",
      "8/8 [==============================] - 2s 249ms/step - loss: 0.2796 - acc: 0.9373 - precision_1: 0.9357 - recall_1: 0.9020 - val_loss: 0.1956 - val_acc: 0.9587 - val_precision_1: 0.9588 - val_recall_1: 0.9327\n",
      "Epoch 6/15\n",
      "7/7 [==============================] - 0s 7ms/steposs: 0.1885 - acc: 0.9638 - precision_1: 0.9643 - recall_1: 0.93\n",
      "29/29 [==============================] - 0s 8ms/step\n",
      "Val F1 Score: 0.49018226448790614 - Train F1 Score: 0.48694259999333017\n",
      "8/8 [==============================] - 2s 242ms/step - loss: 0.1883 - acc: 0.9639 - precision_1: 0.9644 - recall_1: 0.9376 - val_loss: 0.1727 - val_acc: 0.9686 - val_precision_1: 0.9704 - val_recall_1: 0.9423\n",
      "Epoch 7/15\n",
      "7/7 [==============================] - 0s 8ms/steposs: 0.1630 - acc: 0.9678 - precision_1: 0.9690 - recall_1: 0.94\n",
      "29/29 [==============================] - 0s 8ms/step\n",
      "Val F1 Score: 0.5033126407477038 - Train F1 Score: 0.5023471818859591\n",
      "8/8 [==============================] - 2s 256ms/step - loss: 0.1629 - acc: 0.9677 - precision_1: 0.9690 - recall_1: 0.9411 - val_loss: 0.1435 - val_acc: 0.9682 - val_precision_1: 0.9694 - val_recall_1: 0.9415\n",
      "Epoch 8/15\n",
      "7/7 [==============================] - 0s 7ms/steposs: 0.1409 - acc: 0.9674 - precision_1: 0.9687 - recall_1: 0.94\n",
      "29/29 [==============================] - 0s 7ms/step\n",
      "Val F1 Score: 0.5163827210754771 - Train F1 Score: 0.5122613401268015\n",
      "8/8 [==============================] - 2s 251ms/step - loss: 0.1408 - acc: 0.9674 - precision_1: 0.9686 - recall_1: 0.9403 - val_loss: 0.1306 - val_acc: 0.9685 - val_precision_1: 0.9696 - val_recall_1: 0.9539\n",
      "Epoch 9/15\n",
      "7/7 [==============================] - 0s 8ms/steposs: 0.1296 - acc: 0.9680 - precision_1: 0.9697 - recall_1: 0.95\n",
      "29/29 [==============================] - 0s 8ms/step\n",
      "Val F1 Score: 0.5247474013099968 - Train F1 Score: 0.5237011562539362\n",
      "8/8 [==============================] - 2s 252ms/step - loss: 0.1296 - acc: 0.9681 - precision_1: 0.9698 - recall_1: 0.9538 - val_loss: 0.1199 - val_acc: 0.9697 - val_precision_1: 0.9708 - val_recall_1: 0.9554\n",
      "Epoch 10/15\n",
      "7/7 [==============================] - 0s 7ms/steposs: 0.1204 - acc: 0.9692 - precision_1: 0.9716 - recall_1: 0.95\n",
      "29/29 [==============================] - 0s 7ms/step\n",
      "Val F1 Score: 0.5375897353683041 - Train F1 Score: 0.5371664218505199\n",
      "8/8 [==============================] - 2s 237ms/step - loss: 0.1202 - acc: 0.9693 - precision_1: 0.9717 - recall_1: 0.9549 - val_loss: 0.1119 - val_acc: 0.9741 - val_precision_1: 0.9761 - val_recall_1: 0.9600\n",
      "Epoch 11/15\n",
      "7/7 [==============================] - 0s 7ms/steposs: 0.1131 - acc: 0.9732 - precision_1: 0.9761 - recall_1: 0.95\n",
      "29/29 [==============================] - 0s 7ms/step\n",
      "Val F1 Score: 0.5535083466991539 - Train F1 Score: 0.5475601037435194\n",
      "8/8 [==============================] - 2s 248ms/step - loss: 0.1132 - acc: 0.9731 - precision_1: 0.9761 - recall_1: 0.9585 - val_loss: 0.1059 - val_acc: 0.9752 - val_precision_1: 0.9780 - val_recall_1: 0.9601\n",
      "Epoch 12/15\n",
      "7/7 [==============================] - 0s 7ms/steposs: 0.1076 - acc: 0.9736 - precision_1: 0.9773 - recall_1: 0.95\n",
      "29/29 [==============================] - 0s 7ms/step\n",
      "Val F1 Score: 0.558763444491237 - Train F1 Score: 0.5529595282218962\n",
      "8/8 [==============================] - 2s 243ms/step - loss: 0.1074 - acc: 0.9737 - precision_1: 0.9774 - recall_1: 0.9587 - val_loss: 0.1007 - val_acc: 0.9759 - val_precision_1: 0.9787 - val_recall_1: 0.9604\n",
      "Epoch 13/15\n",
      "7/7 [==============================] - 0s 7ms/steposs: 0.1024 - acc: 0.9742 - precision_1: 0.9781 - recall_1: 0.95\n",
      "29/29 [==============================] - 0s 7ms/step\n",
      "Val F1 Score: 0.5643131206798987 - Train F1 Score: 0.5626371448228058\n",
      "8/8 [==============================] - 2s 245ms/step - loss: 0.1024 - acc: 0.9742 - precision_1: 0.9781 - recall_1: 0.9590 - val_loss: 0.0962 - val_acc: 0.9763 - val_precision_1: 0.9789 - val_recall_1: 0.9611\n",
      "Epoch 14/15\n",
      "7/7 [==============================] - 0s 7ms/steposs: 0.0981 - acc: 0.9746 - precision_1: 0.9786 - recall_1: 0.95\n",
      "29/29 [==============================] - 0s 7ms/step\n",
      "Val F1 Score: 0.5701493777507876 - Train F1 Score: 0.5700172302326466\n",
      "8/8 [==============================] - 2s 249ms/step - loss: 0.0981 - acc: 0.9746 - precision_1: 0.9785 - recall_1: 0.9590 - val_loss: 0.0923 - val_acc: 0.9766 - val_precision_1: 0.9801 - val_recall_1: 0.9613\n",
      "Epoch 15/15\n",
      "7/7 [==============================] - 0s 7ms/steposs: 0.0945 - acc: 0.9752 - precision_1: 0.9793 - recall_1: 0.95\n",
      "29/29 [==============================] - 0s 8ms/step\n",
      "Val F1 Score: 0.5765962475462637 - Train F1 Score: 0.578327904793651\n",
      "8/8 [==============================] - 2s 260ms/step - loss: 0.0944 - acc: 0.9753 - precision_1: 0.9794 - recall_1: 0.9594 - val_loss: 0.0890 - val_acc: 0.9771 - val_precision_1: 0.9809 - val_recall_1: 0.9619\n"
     ]
    }
   ],
   "source": [
    "gru_training = gru_model.fit(X_train, Y_train, batch_size=128, epochs=15, validation_data=(X_val, Y_val), callbacks=[gru_f1_callback])"
   ]
  },
  {
   "cell_type": "markdown",
   "metadata": {},
   "source": [
    "Plotting Graph"
   ]
  },
  {
   "cell_type": "code",
   "execution_count": 33,
   "metadata": {},
   "outputs": [
    {
     "data": {
      "image/png": "[encoded data removed]",
      "text/plain": [
       "<Figure size 1600x500 with 2 Axes>"
      ]
     },
     "metadata": {},
     "output_type": "display_data"
    }
   ],
   "source": [
    "draw_loss_graph(gru_training,model_name, gru_f1_callback.train_f1_scores, gru_f1_callback.val_f1_scores)\n",
    "save_model(gru_model,model_name,Embedding_name,Dataset)"
   ]
  },
  {
   "cell_type": "markdown",
   "metadata": {},
   "source": [
    "### Testing"
   ]
  },
  {
   "cell_type": "code",
   "execution_count": 34,
   "metadata": {},
   "outputs": [],
   "source": [
    "loaded_model = load_model(model_name,Embedding_name,Dataset)"
   ]
  },
  {
   "cell_type": "markdown",
   "metadata": {},
   "source": [
    "Testing Accuracy"
   ]
  },
  {
   "cell_type": "code",
   "execution_count": 35,
   "metadata": {},
   "outputs": [
    {
     "name": "stdout",
     "output_type": "stream",
     "text": [
      "11/11 [==============================] - 1s 11ms/step - loss: 0.0995 - acc: 0.9744 - precision_1: 0.9781 - recall_1: 0.9588\n",
      "0.9743589758872986\n"
     ]
    }
   ],
   "source": [
    "accuracy = loaded_model.evaluate(X_test, Y_test, verbose = 1)\n",
    "print(accuracy[1])"
   ]
  },
  {
   "cell_type": "markdown",
   "metadata": {},
   "source": [
    "Testing F1 Score"
   ]
  },
  {
   "cell_type": "code",
   "execution_count": 36,
   "metadata": {},
   "outputs": [
    {
     "name": "stdout",
     "output_type": "stream",
     "text": [
      "11/11 [==============================] - 1s 10ms/step\n",
      "Test F1 Score: 0.5761105533100271\n"
     ]
    }
   ],
   "source": [
    "Y_pred = loaded_model.predict(X_test)\n",
    "real = get_real(Y_test)\n",
    "pred = get_pred(Y_pred)\n",
    "\n",
    "true_labels_flat = [label for sublist in real for label in sublist]\n",
    "predicted_labels_flat = [label for sublist in pred for label in sublist]\n",
    "\n",
    "# Compute F1 score\n",
    "f1 = f1_score(true_labels_flat, predicted_labels_flat, average='macro')\n",
    "\n",
    "print(\"Test F1 Score:\", f1)"
   ]
  },
  {
   "cell_type": "markdown",
   "metadata": {},
   "source": [
    "## LSTM"
   ]
  },
  {
   "cell_type": "code",
   "execution_count": 37,
   "metadata": {},
   "outputs": [],
   "source": [
    "model_name=\"LSTM\""
   ]
  },
  {
   "cell_type": "markdown",
   "metadata": {},
   "source": [
    "### Training"
   ]
  },
  {
   "cell_type": "code",
   "execution_count": 38,
   "metadata": {},
   "outputs": [],
   "source": [
    "lstm_model = Sequential()\n",
    "lstm_model.add(Embedding(input_dim = vocab_size,output_dim = 300,input_length  = max_len,weights = [weights],trainable = False))\n",
    "lstm_model.add(LSTM(64, return_sequences=True))\n",
    "lstm_model.add(TimeDistributed(Dense(Y_train.shape[2], activation='softmax')))# Lstm"
   ]
  },
  {
   "cell_type": "markdown",
   "metadata": {},
   "source": [
    "Compiling LSTM"
   ]
  },
  {
   "cell_type": "code",
   "execution_count": 39,
   "metadata": {},
   "outputs": [],
   "source": [
    "lstm_model.compile(loss='categorical_crossentropy',optimizer='adam',metrics=['acc',Precision(),Recall()])"
   ]
  },
  {
   "cell_type": "code",
   "execution_count": 40,
   "metadata": {},
   "outputs": [],
   "source": [
    "LSTM_f1_callback=F1ScoreCallback(val_data=(X_val, Y_val),data=(X_train, Y_train))"
   ]
  },
  {
   "cell_type": "code",
   "execution_count": 41,
   "metadata": {},
   "outputs": [
    {
     "name": "stdout",
     "output_type": "stream",
     "text": [
      "Model: \"sequential_2\"\n",
      "_________________________________________________________________\n",
      " Layer (type)                Output Shape              Param #   \n",
      "=================================================================\n",
      " embedding_2 (Embedding)     (None, 78, 300)           721800    \n",
      "                                                                 \n",
      " lstm (LSTM)                 (None, 78, 64)            93440     \n",
      "                                                                 \n",
      " time_distributed_2 (TimeDi  (None, 78, 4)             260       \n",
      " stributed)                                                      \n",
      "                                                                 \n",
      "=================================================================\n",
      "Total params: 815500 (3.11 MB)\n",
      "Trainable params: 93700 (366.02 KB)\n",
      "Non-trainable params: 721800 (2.75 MB)\n",
      "_________________________________________________________________\n"
     ]
    }
   ],
   "source": [
    "lstm_model.summary()"
   ]
  },
  {
   "cell_type": "markdown",
   "metadata": {},
   "source": [
    "Fitting LSTM"
   ]
  },
  {
   "cell_type": "code",
   "execution_count": 42,
   "metadata": {},
   "outputs": [
    {
     "name": "stdout",
     "output_type": "stream",
     "text": [
      "Epoch 1/15\n"
     ]
    },
    {
     "name": "stdout",
     "output_type": "stream",
     "text": [
      "7/7 [==============================] - 1s 9ms/steposs: 1.3077 - acc: 0.9509 - precision_2: 0.9677 - recall_2: 0.0052  \n",
      "29/29 [==============================] - 0s 9ms/step\n",
      "Val F1 Score: 0.48640790319941074 - Train F1 Score: 0.4857398920905335\n",
      "8/8 [==============================] - 6s 443ms/step - loss: 1.3067 - acc: 0.9512 - precision_2: 0.9582 - recall_2: 0.0062 - val_loss: 1.1869 - val_acc: 0.9748 - val_precision_2: 0.9241 - val_recall_2: 0.1369\n",
      "Epoch 2/15\n",
      "7/7 [==============================] - 0s 9ms/steposs: 1.1078 - acc: 0.9735 - precision_2: 0.9041 - recall_2: 0.\n",
      "29/29 [==============================] - 0s 9ms/step\n",
      "Val F1 Score: 0.48622820845219317 - Train F1 Score: 0.4856031538408412\n",
      "8/8 [==============================] - 2s 260ms/step - loss: 1.1078 - acc: 0.9735 - precision_2: 0.9041 - recall_2: 0.1784 - val_loss: 0.9858 - val_acc: 0.9744 - val_precision_2: 0.9073 - val_recall_2: 0.1965\n",
      "Epoch 3/15\n",
      "7/7 [==============================] - 0s 8ms/steposs: 0.8259 - acc: 0.9539 - precision_2: 0.9102 - recall_2: 0.35\n",
      "29/29 [==============================] - 0s 8ms/step\n",
      "Val F1 Score: 0.3995880396589395 - Train F1 Score: 0.4057064068512695\n",
      "8/8 [==============================] - 2s 255ms/step - loss: 0.8231 - acc: 0.9533 - precision_2: 0.9095 - recall_2: 0.3633 - val_loss: 0.6132 - val_acc: 0.8713 - val_precision_2: 0.8478 - val_recall_2: 0.6891\n",
      "Epoch 4/15\n",
      "7/7 [==============================] - 0s 8ms/steposs: 0.4970 - acc: 0.9126 - precision_2: 0.9000 - recall_2: 0.75\n",
      "29/29 [==============================] - 0s 8ms/step\n",
      "Val F1 Score: 0.4736802411712551 - Train F1 Score: 0.47339730327879215\n",
      "8/8 [==============================] - 2s 255ms/step - loss: 0.4963 - acc: 0.9129 - precision_2: 0.9004 - recall_2: 0.7588 - val_loss: 0.3935 - val_acc: 0.9562 - val_precision_2: 0.9521 - val_recall_2: 0.8404\n",
      "Epoch 5/15\n",
      "7/7 [==============================] - 0s 10ms/stepss: 0.3567 - acc: 0.9525 - precision_2: 0.9490 - recall_2: 0.\n",
      "29/29 [==============================] - 0s 9ms/step\n",
      "Val F1 Score: 0.46509712078442333 - Train F1 Score: 0.46515513738779346\n",
      "8/8 [==============================] - 2s 263ms/step - loss: 0.3563 - acc: 0.9524 - precision_2: 0.9489 - recall_2: 0.8509 - val_loss: 0.3063 - val_acc: 0.9444 - val_precision_2: 0.9409 - val_recall_2: 0.8665\n",
      "Epoch 6/15\n",
      "7/7 [==============================] - 0s 8ms/steposs: 0.2857 - acc: 0.9484 - precision_2: 0.9458 - recall_2: 0.87\n",
      "29/29 [==============================] - 0s 9ms/step\n",
      "Val F1 Score: 0.47591785875777204 - Train F1 Score: 0.4758949596875791\n",
      "8/8 [==============================] - 2s 258ms/step - loss: 0.2852 - acc: 0.9485 - precision_2: 0.9459 - recall_2: 0.8726 - val_loss: 0.2517 - val_acc: 0.9595 - val_precision_2: 0.9590 - val_recall_2: 0.8950\n",
      "Epoch 7/15\n",
      "7/7 [==============================] - 0s 9ms/steposs: 0.2410 - acc: 0.9597 - precision_2: 0.9584 - recall_2: 0.\n",
      "29/29 [==============================] - 0s 9ms/step\n",
      "Val F1 Score: 0.4748750627436684 - Train F1 Score: 0.47470753112637515\n",
      "8/8 [==============================] - 2s 268ms/step - loss: 0.2410 - acc: 0.9596 - precision_2: 0.9583 - recall_2: 0.8948 - val_loss: 0.2209 - val_acc: 0.9579 - val_precision_2: 0.9572 - val_recall_2: 0.9058\n",
      "Epoch 8/15\n",
      "7/7 [==============================] - 0s 10ms/stepss: 0.2122 - acc: 0.9613 - precision_2: 0.9604 - recall_2: 0.\n",
      "29/29 [==============================] - 0s 9ms/step\n",
      "Val F1 Score: 0.4768393747349342 - Train F1 Score: 0.4768796952102065\n",
      "8/8 [==============================] - 2s 266ms/step - loss: 0.2120 - acc: 0.9613 - precision_2: 0.9604 - recall_2: 0.9092 - val_loss: 0.1953 - val_acc: 0.9614 - val_precision_2: 0.9605 - val_recall_2: 0.9097\n",
      "Epoch 9/15\n",
      "7/7 [==============================] - 0s 9ms/steposs: 0.1889 - acc: 0.9638 - precision_2: 0.9628 - recall_2: 0.\n",
      "29/29 [==============================] - 0s 9ms/step\n",
      "Val F1 Score: 0.47621051940296877 - Train F1 Score: 0.47622416781482146\n",
      "8/8 [==============================] - 2s 262ms/step - loss: 0.1888 - acc: 0.9639 - precision_2: 0.9629 - recall_2: 0.9121 - val_loss: 0.1834 - val_acc: 0.9605 - val_precision_2: 0.9597 - val_recall_2: 0.9091\n",
      "Epoch 10/15\n",
      "7/7 [==============================] - 0s 10ms/stepss: 0.1875 - acc: 0.9608 - precision_2: 0.9598 - recall_2: 0.\n",
      "29/29 [==============================] - 0s 9ms/step\n",
      "Val F1 Score: 0.48423914837763793 - Train F1 Score: 0.48349291161354846\n",
      "8/8 [==============================] - 2s 261ms/step - loss: 0.1872 - acc: 0.9608 - precision_2: 0.9599 - recall_2: 0.9163 - val_loss: 0.1697 - val_acc: 0.9717 - val_precision_2: 0.9712 - val_recall_2: 0.9323\n",
      "Epoch 11/15\n",
      "7/7 [==============================] - 0s 8ms/steposs: 0.1712 - acc: 0.9673 - precision_2: 0.9667 - recall_2: 0.92\n",
      "29/29 [==============================] - 0s 9ms/step\n",
      "Val F1 Score: 0.47709570182267313 - Train F1 Score: 0.47712433484644534\n",
      "8/8 [==============================] - 2s 255ms/step - loss: 0.1712 - acc: 0.9673 - precision_2: 0.9667 - recall_2: 0.9285 - val_loss: 0.1662 - val_acc: 0.9618 - val_precision_2: 0.9633 - val_recall_2: 0.9231\n",
      "Epoch 12/15\n",
      "7/7 [==============================] - 0s 9ms/steposs: 0.1638 - acc: 0.9644 - precision_2: 0.9644 - recall_2: 0.\n",
      "29/29 [==============================] - 0s 9ms/step\n",
      "Val F1 Score: 0.48181549573633087 - Train F1 Score: 0.48171379499425226\n",
      "8/8 [==============================] - 2s 258ms/step - loss: 0.1636 - acc: 0.9645 - precision_2: 0.9645 - recall_2: 0.9255 - val_loss: 0.1564 - val_acc: 0.9684 - val_precision_2: 0.9675 - val_recall_2: 0.9298\n",
      "Epoch 13/15\n",
      "7/7 [==============================] - 0s 8ms/steposs: 0.1559 - acc: 0.9676 - precision_2: 0.9669 - recall_2: 0.92\n",
      "29/29 [==============================] - 0s 8ms/step\n",
      "Val F1 Score: 0.481241240215187 - Train F1 Score: 0.4808364391205159\n",
      "8/8 [==============================] - 2s 253ms/step - loss: 0.1559 - acc: 0.9676 - precision_2: 0.9669 - recall_2: 0.9288 - val_loss: 0.1488 - val_acc: 0.9676 - val_precision_2: 0.9671 - val_recall_2: 0.9289\n",
      "Epoch 14/15\n",
      "7/7 [==============================] - 0s 8ms/steposs: 0.1486 - acc: 0.9667 - precision_2: 0.9664 - recall_2: 0.92\n",
      "29/29 [==============================] - 0s 9ms/step\n",
      "Val F1 Score: 0.48207854649775916 - Train F1 Score: 0.4820144526221877\n",
      "8/8 [==============================] - 2s 250ms/step - loss: 0.1486 - acc: 0.9667 - precision_2: 0.9664 - recall_2: 0.9280 - val_loss: 0.1416 - val_acc: 0.9687 - val_precision_2: 0.9685 - val_recall_2: 0.9300\n",
      "Epoch 15/15\n",
      "7/7 [==============================] - 0s 9ms/steposs: 0.1418 - acc: 0.9695 - precision_2: 0.9703 - recall_2: 0.\n",
      "29/29 [==============================] - 0s 9ms/step\n",
      "Val F1 Score: 0.48368474637636183 - Train F1 Score: 0.4830550706439807\n",
      "8/8 [==============================] - 2s 263ms/step - loss: 0.1417 - acc: 0.9695 - precision_2: 0.9703 - recall_2: 0.9302 - val_loss: 0.1354 - val_acc: 0.9686 - val_precision_2: 0.9688 - val_recall_2: 0.9296\n"
     ]
    }
   ],
   "source": [
    "lstm_training = lstm_model.fit(X_train, Y_train, batch_size=128, epochs=15, validation_data=(X_val, Y_val), callbacks=[LSTM_f1_callback])"
   ]
  },
  {
   "cell_type": "markdown",
   "metadata": {},
   "source": [
    "Plotting Graph"
   ]
  },
  {
   "cell_type": "code",
   "execution_count": 43,
   "metadata": {},
   "outputs": [
    {
     "data": {
      "image/png": "[encoded data removed]",
      "text/plain": [
       "<Figure size 1600x500 with 2 Axes>"
      ]
     },
     "metadata": {},
     "output_type": "display_data"
    }
   ],
   "source": [
    "draw_loss_graph(lstm_training, \"LSTM Model\", LSTM_f1_callback.train_f1_scores, LSTM_f1_callback.val_f1_scores)\n",
    "save_model(lstm_model, model_name, Embedding_name, Dataset)\n",
    "loaded_model = load_model(model_name,Embedding_name,Dataset)"
   ]
  },
  {
   "cell_type": "markdown",
   "metadata": {},
   "source": [
    "### Testing"
   ]
  },
  {
   "cell_type": "code",
   "execution_count": 44,
   "metadata": {},
   "outputs": [],
   "source": [
    "loaded_model = load_model(model_name,Embedding_name,Dataset)"
   ]
  },
  {
   "cell_type": "markdown",
   "metadata": {},
   "source": [
    "Testing accuracy"
   ]
  },
  {
   "cell_type": "code",
   "execution_count": 45,
   "metadata": {},
   "outputs": [
    {
     "name": "stdout",
     "output_type": "stream",
     "text": [
      "11/11 [==============================] - 1s 9ms/step - loss: 0.1429 - acc: 0.9668 - precision_2: 0.9668 - recall_2: 0.9278\n",
      "0.966815173625946\n"
     ]
    }
   ],
   "source": [
    "accuracy = loaded_model.evaluate(X_test, Y_test, verbose = 1)\n",
    "print(accuracy[1])"
   ]
  },
  {
   "cell_type": "markdown",
   "metadata": {},
   "source": [
    "Testing F1 Score"
   ]
  },
  {
   "cell_type": "code",
   "execution_count": 46,
   "metadata": {},
   "outputs": [
    {
     "name": "stdout",
     "output_type": "stream",
     "text": [
      "11/11 [==============================] - 1s 8ms/step\n",
      "Test F1 Score: 0.47980137328811795\n"
     ]
    }
   ],
   "source": [
    "Y_pred = loaded_model.predict(X_test)\n",
    "real = get_real(Y_test)\n",
    "pred = get_pred(Y_pred)\n",
    "\n",
    "true_labels_flat = [label for sublist in real for label in sublist]\n",
    "predicted_labels_flat = [label for sublist in pred for label in sublist]\n",
    "\n",
    "# Compute F1 score\n",
    "f1 = f1_score(true_labels_flat, predicted_labels_flat, average='macro')\n",
    "\n",
    "print(\"Test F1 Score:\", f1)\n",
    "\n",
    "idx_word=toke2.index_word"
   ]
  }
 ],
 "metadata": {
  "kernelspec": {
   "display_name": "Python 3",
   "language": "python",
   "name": "python3"
  },
  "language_info": {
   "codemirror_mode": {
    "name": "ipython",
    "version": 3
   },
   "file_extension": ".py",
   "mimetype": "text/x-python",
   "name": "python",
   "nbconvert_exporter": "python",
   "pygments_lexer": "ipython3",
   "version": "3.11.0"
  }
 },
 "nbformat": 4,
 "nbformat_minor": 2
}
