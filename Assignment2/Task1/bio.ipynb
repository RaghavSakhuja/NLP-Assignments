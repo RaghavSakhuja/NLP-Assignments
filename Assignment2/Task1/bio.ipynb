{
 "cells": [
  {
   "cell_type": "code",
   "execution_count": 9,
   "metadata": {},
   "outputs": [],
   "source": [
    "import json\n",
    "from sklearn.model_selection import train_test_split"
   ]
  },
  {
   "cell_type": "code",
   "execution_count": 10,
   "metadata": {},
   "outputs": [],
   "source": [
    "def bio_tagging_2(words,aspects):\n",
    "    labels=['O' for i in range(len(words))]\n",
    "    curr=0\n",
    "    for i in aspects:\n",
    "        s=i['term']\n",
    "        while(curr<len(words)):\n",
    "            if words[curr:curr+len(s)]==s:\n",
    "                labels[curr]=\"B\"\n",
    "                curr+=1\n",
    "                for j in range(len(s)-1):\n",
    "                    labels[curr]='I'\n",
    "                    curr+=1\n",
    "                break\n",
    "            curr+=1\n",
    "    return labels\n",
    "\n",
    "def bio_tagging_1(values,text):\n",
    "    words=text.split(\" \")\n",
    "    labels=['O' for i in range(len(words))]\n",
    "    curr=0\n",
    "    for i in values:\n",
    "        i=i['value']\n",
    "        start=i['start']\n",
    "        end=i['end']\n",
    "        s=text[start:end+1].split()\n",
    "        label=i['labels'][0]\n",
    "        while(curr<len(words)):\n",
    "            if words[curr:curr+len(s)]==s:\n",
    "                labels[curr]=\"B_\"+label\n",
    "                curr+=1\n",
    "                for j in range(len(s)-1):\n",
    "                    labels[curr]='I'+label\n",
    "                    curr+=1\n",
    "                break\n",
    "            curr+=1\n",
    "    return labels\n",
    "    "
   ]
  },
  {
   "cell_type": "markdown",
   "metadata": {},
   "source": [
    "## NER_JUDGEMENT"
   ]
  },
  {
   "cell_type": "markdown",
   "metadata": {},
   "source": [
    "### Train and Val"
   ]
  },
  {
   "cell_type": "code",
   "execution_count": 11,
   "metadata": {},
   "outputs": [],
   "source": [
    "input_file=\"NER_TRAIN_JUDGEMENT.json\"\n",
    "f = open(input_file,)\n",
    "input=json.load(f)\n",
    "input_data=[[],[]]\n",
    "for i in input:\n",
    "    values=i['annotations'][0]['result']\n",
    "    text=i['data']['text']\n",
    "    input_data[0].append(values)\n",
    "    input_data[1].append(text)\n",
    "train,val=train_test_split(input,test_size=0.15,random_state=42)"
   ]
  },
  {
   "cell_type": "code",
   "execution_count": 12,
   "metadata": {},
   "outputs": [],
   "source": [
    "output_data={}\n",
    "for i in train:\n",
    "    values=i['annotations'][0]['result']\n",
    "    text=i['data']['text']\n",
    "    output_data[i['id']]={\"text\":text,\"labels\":bio_tagging_1(values,text)}\n",
    "file_path = \"processed/\"+\"NER_train.json\"\n",
    "with open(file_path, \"w\") as json_file:\n",
    "    json.dump(output_data, json_file,indent=3)"
   ]
  },
  {
   "cell_type": "code",
   "execution_count": 13,
   "metadata": {},
   "outputs": [],
   "source": [
    "output_data={}\n",
    "for i in val:\n",
    "    values=i['annotations'][0]['result']\n",
    "    text=i['data']['text']\n",
    "    output_data[i['id']]={\"text\":text,\"labels\":bio_tagging_1(values,text)}\n",
    "file_path = \"processed/\"+\"NER_val.json\"\n",
    "with open(file_path, \"w\") as json_file:\n",
    "    json.dump(output_data, json_file,indent=3)"
   ]
  },
  {
   "cell_type": "markdown",
   "metadata": {},
   "source": [
    "### Test"
   ]
  },
  {
   "cell_type": "code",
   "execution_count": 14,
   "metadata": {},
   "outputs": [],
   "source": [
    "input_file=\"NER_TRAIN_JUDGEMENT.json\"\n",
    "f = open(input_file,)\n",
    "test=json.load(f)\n",
    "output_data={}\n",
    "for i in test:\n",
    "    values=i['annotations'][0]['result']\n",
    "    text=i['data']['text']\n",
    "    output_data[i['id']]={\"text\":text,\"labels\":bio_tagging_1(values,text)}\n",
    "file_path = \"processed/\"+\"NER_test.json\"\n",
    "with open(file_path, \"w\") as json_file:\n",
    "    json.dump(output_data, json_file,indent=3)"
   ]
  },
  {
   "cell_type": "markdown",
   "metadata": {},
   "source": [
    "## Laptop Review"
   ]
  },
  {
   "cell_type": "code",
   "execution_count": 16,
   "metadata": {},
   "outputs": [],
   "source": [
    "train=json.load(open(\"Laptop_Review_Train.json\"))\n",
    "val=json.load(open(\"Laptop_Review_Val.json\"))\n",
    "test=json.load(open(\"Laptop_Review_Test.json\"))\n",
    "def func(input,output_name):\n",
    "    data={}\n",
    "    count=0\n",
    "    for i in input:\n",
    "        words=i['words']\n",
    "        aspects=i['aspects']\n",
    "        text=i['raw_words']\n",
    "        # print(bio_tagging_2(words,aspects))\n",
    "        data[count]={\"text\":text,\"labels\":bio_tagging_2(words,aspects)}\n",
    "        count+=1\n",
    "        # break\n",
    "    file_path = \"processed/\"+output_name+\".json\"\n",
    "    # # Write data to JSON file\n",
    "    with open(file_path, \"w\") as json_file:\n",
    "        json.dump(data, json_file,indent=3)"
   ]
  },
  {
   "cell_type": "code",
   "execution_count": 17,
   "metadata": {},
   "outputs": [],
   "source": [
    "func(train,\"ATE_train\")\n",
    "func(val,\"ATE_val\")\n",
    "func(test,\"ATE_test\")"
   ]
  }
 ],
 "metadata": {
  "kernelspec": {
   "display_name": "Python 3",
   "language": "python",
   "name": "python3"
  },
  "language_info": {
   "codemirror_mode": {
    "name": "ipython",
    "version": 3
   },
   "file_extension": ".py",
   "mimetype": "text/x-python",
   "name": "python",
   "nbconvert_exporter": "python",
   "pygments_lexer": "ipython3",
   "version": "3.11.2"
  }
 },
 "nbformat": 4,
 "nbformat_minor": 2
}
