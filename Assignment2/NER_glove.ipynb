{
 "cells": [
  {
   "cell_type": "code",
   "execution_count": 1,
   "metadata": {},
   "outputs": [
    {
     "name": "stdout",
     "output_type": "stream",
     "text": [
      "WARNING:tensorflow:From c:\\Python311\\Lib\\site-packages\\keras\\src\\losses.py:2976: The name tf.losses.sparse_softmax_cross_entropy is deprecated. Please use tf.compat.v1.losses.sparse_softmax_cross_entropy instead.\n",
      "\n"
     ]
    },
    {
     "name": "stderr",
     "output_type": "stream",
     "text": [
      "c:\\Python311\\Lib\\site-packages\\tensorflow_addons\\utils\\tfa_eol_msg.py:23: UserWarning: \n",
      "\n",
      "TensorFlow Addons (TFA) has ended development and introduction of new features.\n",
      "TFA has entered a minimal maintenance and release mode until a planned end of life in May 2024.\n",
      "Please modify downstream libraries to take dependencies from other repositories in our TensorFlow community (e.g. Keras, Keras-CV, and Keras-NLP). \n",
      "\n",
      "For more information see: https://github.com/tensorflow/addons/issues/2807 \n",
      "\n",
      "  warnings.warn(\n",
      "c:\\Python311\\Lib\\site-packages\\tensorflow_addons\\utils\\ensure_tf_install.py:53: UserWarning: Tensorflow Addons supports using Python ops for all Tensorflow versions above or equal to 2.12.0 and strictly below 2.15.0 (nightly versions are not supported). \n",
      " The versions of TensorFlow you are currently using is 2.15.0 and is not supported. \n",
      "Some things might work, some things might not.\n",
      "If you were to encounter a bug, do not file an issue.\n",
      "If you want to make sure you're using a tested and supported configuration, either change the TensorFlow version or the TensorFlow Addons's version. \n",
      "You can find the compatibility matrix in TensorFlow Addon's readme:\n",
      "https://github.com/tensorflow/addons\n",
      "  warnings.warn(\n"
     ]
    }
   ],
   "source": [
    "from IMPORTS import *"
   ]
  },
  {
   "cell_type": "code",
   "execution_count": 2,
   "metadata": {},
   "outputs": [],
   "source": [
    "Embedding_name=\"glove\"\n",
    "Dataset=\"NER\""
   ]
  },
  {
   "cell_type": "code",
   "execution_count": 3,
   "metadata": {},
   "outputs": [],
   "source": [
    "seed_value = 18\n",
    "np.random.seed(seed_value)\n",
    "tf.random.set_seed(seed_value)"
   ]
  },
  {
   "cell_type": "code",
   "execution_count": 4,
   "metadata": {},
   "outputs": [],
   "source": [
    "with open('WordEmbeddings/glove.840B.300d.pkl', 'rb') as fp:\n",
    "    glove = pickle.load(fp)"
   ]
  },
  {
   "cell_type": "markdown",
   "metadata": {},
   "source": [
    "# Data Extraction and Preprocessing"
   ]
  },
  {
   "cell_type": "markdown",
   "metadata": {},
   "source": [
    "Reading ATE json files"
   ]
  },
  {
   "cell_type": "code",
   "execution_count": 5,
   "metadata": {},
   "outputs": [],
   "source": [
    "train = None\n",
    "test = None\n",
    "val = None\n",
    "with open(f\"Data\\processed\\{Dataset}_train.json\") as f1:\n",
    "    train = json.load(f1)\n",
    "\n",
    "with open(f\"Data\\processed\\{Dataset}_test.json\") as f2:\n",
    "    test = json.load(f2)\n",
    "\n",
    "with open(f\"Data\\processed\\{Dataset}_val.json\") as f3:\n",
    "    val = json.load(f3)\n",
    "\n"
   ]
  },
  {
   "cell_type": "markdown",
   "metadata": {},
   "source": [
    "processing into lists"
   ]
  },
  {
   "cell_type": "code",
   "execution_count": 6,
   "metadata": {},
   "outputs": [],
   "source": [
    "X_train,Y_train = create_train_test_val(train)\n",
    "X_test,Y_test = create_train_test_val(test)\n",
    "X_val,Y_val = create_train_test_val(val)"
   ]
  },
  {
   "cell_type": "markdown",
   "metadata": {},
   "source": [
    "Tokenizing the ATE Dataset"
   ]
  },
  {
   "cell_type": "code",
   "execution_count": 7,
   "metadata": {},
   "outputs": [],
   "source": [
    "X_train_tokenized, toke = TokenCreator(X_train,1)\n",
    "X_test_tokenized = TokenCreator(X_test,0,tokenizer = toke)\n",
    "X_val_tokenized = TokenCreator(X_val,0,tokenizer = toke)\n",
    "\n",
    "Y_train_tokenized,toke2 = TokenCreator(Y_train,0)\n",
    "Y_test_tokenized = TokenCreator(Y_test,0,tokenizer = toke2)\n",
    "Y_val_tokenized = TokenCreator(Y_val,0,tokenizer = toke2)"
   ]
  },
  {
   "cell_type": "markdown",
   "metadata": {},
   "source": [
    "Vocabulary of ATE"
   ]
  },
  {
   "cell_type": "code",
   "execution_count": 8,
   "metadata": {},
   "outputs": [
    {
     "data": {
      "text/plain": [
       "2406"
      ]
     },
     "execution_count": 8,
     "metadata": {},
     "output_type": "execute_result"
    }
   ],
   "source": [
    "st1 = find_vocab(X_train_tokenized)\n",
    "vocab_size  = len(st1) + 1 \n",
    "vocab_size"
   ]
  },
  {
   "cell_type": "code",
   "execution_count": 9,
   "metadata": {},
   "outputs": [
    {
     "data": {
      "text/plain": [
       "78"
      ]
     },
     "execution_count": 9,
     "metadata": {},
     "output_type": "execute_result"
    }
   ],
   "source": [
    "max_len=0\n",
    "\n",
    "for i in X_train_tokenized:\n",
    "    max_len = max(max_len,len(i))\n",
    "\n",
    "max_len"
   ]
  },
  {
   "cell_type": "markdown",
   "metadata": {},
   "source": [
    "Padding ATE"
   ]
  },
  {
   "cell_type": "code",
   "execution_count": 10,
   "metadata": {},
   "outputs": [],
   "source": [
    "X_padded_train = pad_sequences(X_train_tokenized, maxlen=max_len, padding=\"pre\", truncating=\"post\")\n",
    "Y_padded_train = pad_sequences(Y_train_tokenized, maxlen=max_len, padding=\"pre\", truncating=\"post\")\n",
    "\n",
    "X_padded_test = pad_sequences(X_test_tokenized, maxlen=max_len, padding=\"pre\", truncating=\"post\")\n",
    "Y_padded_test = pad_sequences(Y_test_tokenized, maxlen=max_len, padding=\"pre\", truncating=\"post\")\n",
    "\n",
    "X_padded_val = pad_sequences(X_val_tokenized, maxlen=max_len, padding=\"pre\", truncating=\"post\")\n",
    "Y_padded_val = pad_sequences(Y_val_tokenized, maxlen=max_len, padding=\"pre\", truncating=\"post\")       "
   ]
  },
  {
   "cell_type": "markdown",
   "metadata": {},
   "source": [
    "One hot encoding the ATE labels"
   ]
  },
  {
   "cell_type": "code",
   "execution_count": 11,
   "metadata": {},
   "outputs": [],
   "source": [
    "Y_padded_train = to_categorical(Y_padded_train)\n",
    "Y_padded_test = to_categorical(Y_padded_test)\n",
    "Y_padded_val = to_categorical(Y_padded_val)"
   ]
  },
  {
   "cell_type": "markdown",
   "metadata": {},
   "source": [
    "Assigning **ATE Glove** mapping"
   ]
  },
  {
   "cell_type": "code",
   "execution_count": 12,
   "metadata": {},
   "outputs": [
    {
     "data": {
      "text/plain": [
       "{'#UK': 1,\n",
       " 'the': 2,\n",
       " '.': 3,\n",
       " ',': 4,\n",
       " 'and': 5,\n",
       " 'it': 6,\n",
       " 'to': 7,\n",
       " 'i': 8,\n",
       " 'is': 9,\n",
       " 'a': 10,\n",
       " 'of': 11,\n",
       " 'for': 12,\n",
       " 'with': 13,\n",
       " 'that': 14,\n",
       " 'my': 15,\n",
       " 'you': 16,\n",
       " 'this': 17,\n",
       " 'was': 18,\n",
       " 'in': 19,\n",
       " 'not': 20,\n",
       " 'on': 21,\n",
       " 'very': 22,\n",
       " 'but': 23,\n",
       " 'computer': 24,\n",
       " 'use': 25,\n",
       " 'have': 26,\n",
       " 'great': 27,\n",
       " 'they': 28,\n",
       " 'laptop': 29,\n",
       " \"n't\": 30,\n",
       " 'so': 31,\n",
       " 'has': 32,\n",
       " 'are': 33,\n",
       " 'battery': 34,\n",
       " 'had': 35,\n",
       " 'screen': 36,\n",
       " ')': 37,\n",
       " 'be': 38,\n",
       " 'as': 39,\n",
       " 'all': 40,\n",
       " '!': 41,\n",
       " '(': 42,\n",
       " \"'s\": 43,\n",
       " 'also': 44,\n",
       " 'me': 45,\n",
       " 'just': 46,\n",
       " 'easy': 47,\n",
       " 'when': 48,\n",
       " 'at': 49,\n",
       " 'or': 50,\n",
       " 'only': 51,\n",
       " 'which': 52,\n",
       " 'up': 53,\n",
       " 'life': 54,\n",
       " 'can': 55,\n",
       " 'windows': 56,\n",
       " 'than': 57,\n",
       " 'out': 58,\n",
       " 'if': 59,\n",
       " 'do': 60,\n",
       " 'after': 61,\n",
       " 'more': 62,\n",
       " 'keyboard': 63,\n",
       " 'would': 64,\n",
       " 'drive': 65,\n",
       " 'hard': 66,\n",
       " 'price': 67,\n",
       " 'from': 68,\n",
       " 'well': 69,\n",
       " 'because': 70,\n",
       " 'good': 71,\n",
       " 'one': 72,\n",
       " 'an': 73,\n",
       " 'like': 74,\n",
       " 'mac': 75,\n",
       " 'about': 76,\n",
       " 'quality': 77,\n",
       " 'its': 78,\n",
       " 'love': 79,\n",
       " 'get': 80,\n",
       " 'no': 81,\n",
       " 'software': 82,\n",
       " 'time': 83,\n",
       " 'even': 84,\n",
       " 'macbook': 85,\n",
       " 'will': 86,\n",
       " 'system': 87,\n",
       " 'apple': 88,\n",
       " 'other': 89,\n",
       " 'there': 90,\n",
       " 'does': 91,\n",
       " 'thing': 92,\n",
       " 'problem': 93,\n",
       " 'new': 94,\n",
       " 'much': 95,\n",
       " 'features': 96,\n",
       " 'any': 97,\n",
       " 'then': 98,\n",
       " 'programs': 99,\n",
       " 'power': 100,\n",
       " 'now': 101,\n",
       " 'service': 102,\n",
       " 'work': 103,\n",
       " 'buy': 104,\n",
       " 'works': 105,\n",
       " 'problems': 106,\n",
       " 'fast': 107,\n",
       " 'did': 108,\n",
       " 'toshiba': 109,\n",
       " '7': 110,\n",
       " 'could': 111,\n",
       " 'size': 112,\n",
       " 'what': 113,\n",
       " 'am': 114,\n",
       " 'too': 115,\n",
       " 'working': 116,\n",
       " 'back': 117,\n",
       " 'your': 118,\n",
       " ':': 119,\n",
       " 'speed': 120,\n",
       " 'machine': 121,\n",
       " 'best': 122,\n",
       " 'pro': 123,\n",
       " 'we': 124,\n",
       " 'were': 125,\n",
       " 'again': 126,\n",
       " 'pc': 127,\n",
       " 'performance': 128,\n",
       " 'little': 129,\n",
       " 'product': 130,\n",
       " 'many': 131,\n",
       " '-': 132,\n",
       " 'really': 133,\n",
       " 'by': 134,\n",
       " 'need': 135,\n",
       " 'first': 136,\n",
       " 'having': 137,\n",
       " \"''\": 138,\n",
       " 'some': 139,\n",
       " 'still': 140,\n",
       " 'months': 141,\n",
       " 'memory': 142,\n",
       " 'long': 143,\n",
       " 'been': 144,\n",
       " 'their': 145,\n",
       " 'bought': 146,\n",
       " 'better': 147,\n",
       " 'everything': 148,\n",
       " 'used': 149,\n",
       " 'warranty': 150,\n",
       " 'since': 151,\n",
       " 'worth': 152,\n",
       " 'graphics': 153,\n",
       " 'how': 154,\n",
       " 'design': 155,\n",
       " 'applications': 156,\n",
       " 'mouse': 157,\n",
       " 'comes': 158,\n",
       " 'run': 159,\n",
       " 'who': 160,\n",
       " 'every': 161,\n",
       " 'nice': 162,\n",
       " 'internet': 163,\n",
       " 'laptops': 164,\n",
       " 'never': 165,\n",
       " 'replaced': 166,\n",
       " '3': 167,\n",
       " 'support': 168,\n",
       " 'games': 169,\n",
       " 'bad': 170,\n",
       " 'same': 171,\n",
       " 'right': 172,\n",
       " '``': 173,\n",
       " 'runs': 174,\n",
       " 'looking': 175,\n",
       " 'enough': 176,\n",
       " 'using': 177,\n",
       " 'way': 178,\n",
       " 'running': 179,\n",
       " 'able': 180,\n",
       " 'program': 181,\n",
       " 'always': 182,\n",
       " 'lot': 183,\n",
       " 'dell': 184,\n",
       " 'another': 185,\n",
       " \"'ve\": 186,\n",
       " 'pad': 187,\n",
       " 'netbook': 188,\n",
       " 'got': 189,\n",
       " 'operating': 190,\n",
       " 'hp': 191,\n",
       " 'money': 192,\n",
       " 'most': 193,\n",
       " 'went': 194,\n",
       " 'such': 195,\n",
       " '$': 196,\n",
       " 'card': 197,\n",
       " 'them': 198,\n",
       " 'come': 199,\n",
       " 'large': 200,\n",
       " 'make': 201,\n",
       " 'gaming': 202,\n",
       " 'take': 203,\n",
       " 'hours': 204,\n",
       " 'look': 205,\n",
       " 'web': 206,\n",
       " 'over': 207,\n",
       " 'less': 208,\n",
       " 'ca': 209,\n",
       " 'around': 210,\n",
       " 'though': 211,\n",
       " 'excellent': 212,\n",
       " 'display': 213,\n",
       " 'made': 214,\n",
       " '?': 215,\n",
       " 'awesome': 216,\n",
       " 'while': 217,\n",
       " 'issue': 218,\n",
       " \"'m\": 219,\n",
       " 'makes': 220,\n",
       " 'next': 221,\n",
       " 'keep': 222,\n",
       " 'slow': 223,\n",
       " 'amazing': 224,\n",
       " 'month': 225,\n",
       " 'ever': 226,\n",
       " 'purchase': 227,\n",
       " 'perfect': 228,\n",
       " 'vista': 229,\n",
       " 'customer': 230,\n",
       " 'want': 231,\n",
       " 'carry': 232,\n",
       " 'feel': 233,\n",
       " 'bit': 234,\n",
       " 'small': 235,\n",
       " 'os': 236,\n",
       " 'easily': 237,\n",
       " 'should': 238,\n",
       " 'video': 239,\n",
       " 'overall': 240,\n",
       " 'two': 241,\n",
       " 'cheap': 242,\n",
       " 'off': 243,\n",
       " 'light': 244,\n",
       " 'find': 245,\n",
       " 'open': 246,\n",
       " 'called': 247,\n",
       " 'fix': 248,\n",
       " 'stopped': 249,\n",
       " 'go': 250,\n",
       " 'things': 251,\n",
       " '5': 252,\n",
       " 'key': 253,\n",
       " 'pay': 254,\n",
       " ';': 255,\n",
       " 'desktop': 256,\n",
       " 'cost': 257,\n",
       " 'fixed': 258,\n",
       " 'processor': 259,\n",
       " 'wonderful': 260,\n",
       " 'once': 261,\n",
       " 'sound': 262,\n",
       " 'pretty': 263,\n",
       " 'space': 264,\n",
       " '2': 265,\n",
       " 'down': 266,\n",
       " 'high': 267,\n",
       " 'day': 268,\n",
       " 'external': 269,\n",
       " 'fan': 270,\n",
       " 'started': 271,\n",
       " 'quickly': 272,\n",
       " 'ease': 273,\n",
       " '--': 274,\n",
       " 'word': 275,\n",
       " 'office': 276,\n",
       " 'without': 277,\n",
       " 'old': 278,\n",
       " 'computers': 279,\n",
       " 'came': 280,\n",
       " 'due': 281,\n",
       " 'lightweight': 282,\n",
       " 'cd': 283,\n",
       " 'see': 284,\n",
       " 'short': 285,\n",
       " 'say': 286,\n",
       " 'week': 287,\n",
       " 'repair': 288,\n",
       " 'ram': 289,\n",
       " 'charge': 290,\n",
       " 'boot': 291,\n",
       " 'completely': 292,\n",
       " 'warrenty': 293,\n",
       " 'took': 294,\n",
       " 'shipping': 295,\n",
       " 'microsoft': 296,\n",
       " 'doing': 297,\n",
       " 'set': 298,\n",
       " 'free': 299,\n",
       " 'virus': 300,\n",
       " 'keys': 301,\n",
       " 'supply': 302,\n",
       " 'feature': 303,\n",
       " 'send': 304,\n",
       " 'through': 305,\n",
       " 'know': 306,\n",
       " 'notebook': 307,\n",
       " 'being': 308,\n",
       " 'recommend': 309,\n",
       " 'trackpad': 310,\n",
       " 'compared': 311,\n",
       " 'think': 312,\n",
       " 'full': 313,\n",
       " 'anyone': 314,\n",
       " 'dvd': 315,\n",
       " 'faster': 316,\n",
       " 'change': 317,\n",
       " 'plus': 318,\n",
       " 'last': 319,\n",
       " 'something': 320,\n",
       " 'home': 321,\n",
       " 'company': 322,\n",
       " 'where': 323,\n",
       " 'before': 324,\n",
       " 'value': 325,\n",
       " 'built': 326,\n",
       " 'may': 327,\n",
       " 'however': 328,\n",
       " \"'re\": 329,\n",
       " 'usb': 330,\n",
       " 'brand': 331,\n",
       " 'past': 332,\n",
       " 'motherboard': 333,\n",
       " 'charger': 334,\n",
       " 'hardware': 335,\n",
       " 'simple': 336,\n",
       " 'within': 337,\n",
       " 'touch': 338,\n",
       " 'yet': 339,\n",
       " 'acer': 340,\n",
       " 'yes': 341,\n",
       " 'few': 342,\n",
       " 'webcam': 343,\n",
       " 'play': 344,\n",
       " \"'d\": 345,\n",
       " 'issues': 346,\n",
       " 'clear': 347,\n",
       " 'year': 348,\n",
       " 'thought': 349,\n",
       " 'far': 350,\n",
       " 'user': 351,\n",
       " 'itself': 352,\n",
       " '1': 353,\n",
       " 'although': 354,\n",
       " 'these': 355,\n",
       " 'easier': 356,\n",
       " 'extra': 357,\n",
       " 'port': 358,\n",
       " 'getting': 359,\n",
       " 'etc': 360,\n",
       " 'must': 361,\n",
       " 'speakers': 362,\n",
       " 'looks': 363,\n",
       " 'iphoto': 364,\n",
       " 'worked': 365,\n",
       " 'found': 366,\n",
       " 'big': 367,\n",
       " 'learn': 368,\n",
       " 'seems': 369,\n",
       " 'center': 370,\n",
       " 'lots': 371,\n",
       " 'frustrating': 372,\n",
       " 'help': 373,\n",
       " 'fact': 374,\n",
       " 'upgraded': 375,\n",
       " 'pcs': 376,\n",
       " 'connect': 377,\n",
       " 'board': 378,\n",
       " 'making': 379,\n",
       " 'products': 380,\n",
       " 'needs': 381,\n",
       " 'cool': 382,\n",
       " 'until': 383,\n",
       " 'course': 384,\n",
       " 'resolution': 385,\n",
       " 'itunes': 386,\n",
       " '13': 387,\n",
       " 'longer': 388,\n",
       " 'type': 389,\n",
       " 'store': 390,\n",
       " 'sent': 391,\n",
       " 'quick': 392,\n",
       " 'second': 393,\n",
       " 'processing': 394,\n",
       " 'poor': 395,\n",
       " 'expected': 396,\n",
       " 'years': 397,\n",
       " 'simply': 398,\n",
       " 'starter': 399,\n",
       " 'buttons': 400,\n",
       " 'build': 401,\n",
       " 'call': 402,\n",
       " 'others': 403,\n",
       " 'wireless': 404,\n",
       " 'plenty': 405,\n",
       " 'he': 406,\n",
       " 'actually': 407,\n",
       " 'failed': 408,\n",
       " 'someone': 409,\n",
       " 'cord': 410,\n",
       " 'extremely': 411,\n",
       " 'absolutely': 412,\n",
       " 'start': 413,\n",
       " 'dark': 414,\n",
       " 'multi-touch': 415,\n",
       " 'installed': 416,\n",
       " 'crashed': 417,\n",
       " 'added': 418,\n",
       " 'hd': 419,\n",
       " 'monitor': 420,\n",
       " 'several': 421,\n",
       " 'loud': 422,\n",
       " 'times': 423,\n",
       " '4': 424,\n",
       " 'wanted': 425,\n",
       " 'constantly': 426,\n",
       " 'systems': 427,\n",
       " 'touchpad': 428,\n",
       " 'editing': 429,\n",
       " 'phone': 430,\n",
       " 'hour': 431,\n",
       " 'browsing': 432,\n",
       " 'playing': 433,\n",
       " 'replace': 434,\n",
       " 'believe': 435,\n",
       " 'xp': 436,\n",
       " 'wo': 437,\n",
       " 'online': 438,\n",
       " 'garageband': 439,\n",
       " 'bright': 440,\n",
       " 'navigate': 441,\n",
       " 'ilife': 442,\n",
       " 'sleek': 443,\n",
       " 'least': 444,\n",
       " 'premium': 445,\n",
       " 'box': 446,\n",
       " 'away': 447,\n",
       " 'anything': 448,\n",
       " 'worry': 449,\n",
       " 'sure': 450,\n",
       " 'book': 451,\n",
       " 'experience': 452,\n",
       " 'told': 453,\n",
       " 'portable': 454,\n",
       " 'needed': 455,\n",
       " 'going': 456,\n",
       " 'sony': 457,\n",
       " 'macbooks': 458,\n",
       " 'done': 459,\n",
       " 'useful': 460,\n",
       " 'horrible': 461,\n",
       " '/': 462,\n",
       " 'weight': 463,\n",
       " 'movies': 464,\n",
       " 'led': 465,\n",
       " 'tried': 466,\n",
       " 'business': 467,\n",
       " 'background': 468,\n",
       " 'camera': 469,\n",
       " 'fine': 470,\n",
       " 'huge': 471,\n",
       " 'weeks': 472,\n",
       " 'deal': 473,\n",
       " 'superior': 474,\n",
       " 'upgrade': 475,\n",
       " 'media': 476,\n",
       " 'macs': 477,\n",
       " 'convenient': 478,\n",
       " 'real': 479,\n",
       " 'already': 480,\n",
       " 'worse': 481,\n",
       " 'specs': 482,\n",
       " 'disk': 483,\n",
       " 'front': 484,\n",
       " 'coming': 485,\n",
       " 'connection': 486,\n",
       " 'highly': 487,\n",
       " 'offers': 488,\n",
       " 'finally': 489,\n",
       " 'seemed': 490,\n",
       " 'disc': 491,\n",
       " 'enjoy': 492,\n",
       " 'extended': 493,\n",
       " 'knew': 494,\n",
       " 'trouble': 495,\n",
       " 'order': 496,\n",
       " 'documents': 497,\n",
       " 'crashing': 498,\n",
       " 'designed': 499,\n",
       " 'oh': 500,\n",
       " 'expensive': 501,\n",
       " 'top': 502,\n",
       " \"'ll\": 503,\n",
       " 'charged': 504,\n",
       " 'sales': 505,\n",
       " 'average': 506,\n",
       " 'maybe': 507,\n",
       " 'gets': 508,\n",
       " 'wish': 509,\n",
       " 'might': 510,\n",
       " 'backlit': 511,\n",
       " 'volume': 512,\n",
       " 'install': 513,\n",
       " 'impressed': 514,\n",
       " 'including': 515,\n",
       " 'built-in': 516,\n",
       " 'hooked': 517,\n",
       " 'drop': 518,\n",
       " 'guess': 519,\n",
       " 'tax': 520,\n",
       " 'buying': 521,\n",
       " 'iwork': 522,\n",
       " 'our': 523,\n",
       " 'especially': 524,\n",
       " 'replacement': 525,\n",
       " 'shows': 526,\n",
       " 'x': 527,\n",
       " 'older': 528,\n",
       " 'ports': 529,\n",
       " 'intel': 530,\n",
       " 'version': 531,\n",
       " 'email': 532,\n",
       " 'hot': 533,\n",
       " 'cheaper': 534,\n",
       " 'takes': 535,\n",
       " 'load': 536,\n",
       " 'storage': 537,\n",
       " 'tech': 538,\n",
       " 'users': 539,\n",
       " 'fairly': 540,\n",
       " 'reason': 541,\n",
       " 'end': 542,\n",
       " 'operation': 543,\n",
       " 'sharp': 544,\n",
       " 'nearly': 545,\n",
       " 'flawlessly': 546,\n",
       " 'higher': 547,\n",
       " 'music': 548,\n",
       " 'included': 549,\n",
       " 'expense': 550,\n",
       " 'osx': 551,\n",
       " 'functions': 552,\n",
       " 'tv': 553,\n",
       " 'interface': 554,\n",
       " 'pleased': 555,\n",
       " 'professional': 556,\n",
       " 'care': 557,\n",
       " 'apps': 558,\n",
       " 'watching': 559,\n",
       " 'else': 560,\n",
       " 'beautiful': 561,\n",
       " 'inch': 562,\n",
       " 'inside': 563,\n",
       " 'trial': 564,\n",
       " 'own': 565,\n",
       " 'noticed': 566,\n",
       " 'left': 567,\n",
       " 'model': 568,\n",
       " 'case': 569,\n",
       " 'happy': 570,\n",
       " 'into': 571,\n",
       " 'definitely': 572,\n",
       " 'matter': 573,\n",
       " 'different': 574,\n",
       " 'button': 575,\n",
       " 'opened': 576,\n",
       " 'sized': 577,\n",
       " 'typing': 578,\n",
       " 'days': 579,\n",
       " 'froze': 580,\n",
       " 'adding': 581,\n",
       " 'loose': 582,\n",
       " 'number': 583,\n",
       " 'photos': 584,\n",
       " 'solid': 585,\n",
       " 'edges': 586,\n",
       " 'geek': 587,\n",
       " 'college': 588,\n",
       " 'both': 589,\n",
       " 'pictures': 590,\n",
       " 'half': 591,\n",
       " 'network': 592,\n",
       " 'nothing': 593,\n",
       " 'services': 594,\n",
       " 'said': 595,\n",
       " 'darker': 596,\n",
       " 'standard': 597,\n",
       " 'pages': 598,\n",
       " '...': 599,\n",
       " 'strong': 600,\n",
       " 'purchased': 601,\n",
       " 'save': 602,\n",
       " 'almost': 603,\n",
       " 'apparently': 604,\n",
       " 'videos': 605,\n",
       " 'difference': 606,\n",
       " 'fit': 607,\n",
       " 'night': 608,\n",
       " 'usually': 609,\n",
       " 'entire': 610,\n",
       " 'stay': 611,\n",
       " 'properly': 612,\n",
       " 'plugged': 613,\n",
       " 'iphone': 614,\n",
       " 'talk': 615,\n",
       " 'crashes': 616,\n",
       " 'paying': 617,\n",
       " 'newer': 618,\n",
       " 'country': 619,\n",
       " 'certain': 620,\n",
       " 'drivers': 621,\n",
       " 'files': 622,\n",
       " 'slick': 623,\n",
       " 'died': 624,\n",
       " 'trying': 625,\n",
       " 'allows': 626,\n",
       " 'refused': 627,\n",
       " 'ipod': 628,\n",
       " 'mother': 629,\n",
       " 'yeah': 630,\n",
       " 'bar': 631,\n",
       " 'recovery': 632,\n",
       " 'available': 633,\n",
       " 'useless': 634,\n",
       " 'protection': 635,\n",
       " 'paid': 636,\n",
       " 'none': 637,\n",
       " 'reliable': 638,\n",
       " 'people': 639,\n",
       " 'chose': 640,\n",
       " 'spend': 641,\n",
       " 'mention': 642,\n",
       " 'slowly': 643,\n",
       " 'hold': 644,\n",
       " 'minutes': 645,\n",
       " 'stars': 646,\n",
       " '+': 647,\n",
       " 'drawback': 648,\n",
       " 'break': 649,\n",
       " 'responsive': 650,\n",
       " 'amount': 651,\n",
       " 'terrific': 652,\n",
       " 'mic': 653,\n",
       " 'thru': 654,\n",
       " 'cam': 655,\n",
       " 'mostly': 656,\n",
       " 'imovie': 657,\n",
       " 'colors': 658,\n",
       " 'crisp': 659,\n",
       " 'leopard': 660,\n",
       " 'above': 661,\n",
       " 'core': 662,\n",
       " 'becomes': 663,\n",
       " 'body': 664,\n",
       " 'low': 665,\n",
       " 'im': 666,\n",
       " 'whole': 667,\n",
       " '175': 668,\n",
       " 'side': 669,\n",
       " 'cooling': 670,\n",
       " 'viruses': 671,\n",
       " '8': 672,\n",
       " 'keeps': 673,\n",
       " 'friendly': 674,\n",
       " 'caused': 675,\n",
       " 'remove': 676,\n",
       " 'smooth': 677,\n",
       " 'quite': 678,\n",
       " 'soon': 679,\n",
       " 'machines': 680,\n",
       " 'components': 681,\n",
       " 'lasting': 682,\n",
       " 'smoothly': 683,\n",
       " 'loaded': 684,\n",
       " 'via': 685,\n",
       " 'pack': 686,\n",
       " 'liked': 687,\n",
       " 'ahead': 688,\n",
       " 'hated': 689,\n",
       " 'quiet': 690,\n",
       " 'thats': 691,\n",
       " 'three': 692,\n",
       " 'necessary': 693,\n",
       " 'hook': 694,\n",
       " 'satellite': 695,\n",
       " 'boots': 696,\n",
       " 'die': 697,\n",
       " 'received': 698,\n",
       " 'priced': 699,\n",
       " 'burn': 700,\n",
       " 'probably': 701,\n",
       " 'why': 702,\n",
       " 'lose': 703,\n",
       " '%': 704,\n",
       " 'unlike': 705,\n",
       " '17': 706,\n",
       " 'offer': 707,\n",
       " 'updates': 708,\n",
       " 'versions': 709,\n",
       " 'special': 710,\n",
       " 'broke': 711,\n",
       " 'black': 712,\n",
       " 'seen': 713,\n",
       " 'world': 714,\n",
       " 'awful': 715,\n",
       " 'comfortable': 716,\n",
       " 'yourself': 717,\n",
       " 'doesnt': 718,\n",
       " 'during': 719,\n",
       " 'line': 720,\n",
       " 'clean': 721,\n",
       " 'discover': 722,\n",
       " 'looked': 723,\n",
       " 'rma': 724,\n",
       " 'contacted': 725,\n",
       " 'ups': 726,\n",
       " 'durable': 727,\n",
       " 'broken': 728,\n",
       " 'gb': 729,\n",
       " 'reasonable': 730,\n",
       " 'noise': 731,\n",
       " 'constant': 732,\n",
       " 'ghz': 733,\n",
       " '500gb': 734,\n",
       " 'instead': 735,\n",
       " 'access': 736,\n",
       " 'rest': 737,\n",
       " 'wheel': 738,\n",
       " 'school': 739,\n",
       " 'programming': 740,\n",
       " 'worst': 741,\n",
       " 'blue': 742,\n",
       " 'larger': 743,\n",
       " 'gives': 744,\n",
       " 'relatively': 745,\n",
       " 'tutorials': 746,\n",
       " 'disappointing': 747,\n",
       " 'plug': 748,\n",
       " 'capabilities': 749,\n",
       " 'point': 750,\n",
       " 'seem': 751,\n",
       " 'downfall': 752,\n",
       " 'purchasing': 753,\n",
       " 'except': 754,\n",
       " 'plastic': 755,\n",
       " 'returned': 756,\n",
       " 'speaker': 757,\n",
       " 'student': 758,\n",
       " 'portability': 759,\n",
       " 'five': 760,\n",
       " 'person': 761,\n",
       " 'stuff': 762,\n",
       " 'turns': 763,\n",
       " 'often': 764,\n",
       " 'device': 765,\n",
       " 'fun': 766,\n",
       " 'plan': 767,\n",
       " 'previous': 768,\n",
       " 'operate': 769,\n",
       " 'unable': 770,\n",
       " 'track': 771,\n",
       " 'squad': 772,\n",
       " 'known': 773,\n",
       " 'either': 774,\n",
       " 'ask': 775,\n",
       " 'give': 776,\n",
       " 'expired': 777,\n",
       " 'fits': 778,\n",
       " 'budget': 779,\n",
       " 'besides': 780,\n",
       " 'slightly': 781,\n",
       " 'computing': 782,\n",
       " 'room': 783,\n",
       " 'bios': 784,\n",
       " 'benefits': 785,\n",
       " 'spoke': 786,\n",
       " 'she': 787,\n",
       " 'fantastic': 788,\n",
       " 'decent': 789,\n",
       " 'shipped': 790,\n",
       " 'general': 791,\n",
       " 'claim': 792,\n",
       " 'twice': 793,\n",
       " 'handle': 794,\n",
       " 'numbers': 795,\n",
       " 'sensitive': 796,\n",
       " 'cords': 797,\n",
       " 'taking': 798,\n",
       " 'gui': 799,\n",
       " 'bundled': 800,\n",
       " 'gorgeous': 801,\n",
       " 'turned': 802,\n",
       " 'freaking': 803,\n",
       " 'turn': 804,\n",
       " 'steady': 805,\n",
       " 'unnecessary': 806,\n",
       " 'unless': 807,\n",
       " 'suite': 808,\n",
       " 'satisfied': 809,\n",
       " 'barely': 810,\n",
       " 'connected': 811,\n",
       " 'pure': 812,\n",
       " 'snap': 813,\n",
       " '30': 814,\n",
       " 'helps': 815,\n",
       " 'occasionally': 816,\n",
       " 'hundred': 817,\n",
       " 'dollars': 818,\n",
       " 'preloaded': 819,\n",
       " 'along': 820,\n",
       " 'realized': 821,\n",
       " 'kinda': 822,\n",
       " 'speaking': 823,\n",
       " 'browser': 824,\n",
       " 'under': 825,\n",
       " 'ago': 826,\n",
       " 'forced': 827,\n",
       " 'website': 828,\n",
       " 'force': 829,\n",
       " 'four': 830,\n",
       " 'advantage': 831,\n",
       " 'increase': 832,\n",
       " 'heated': 833,\n",
       " 'opening': 834,\n",
       " 'poorly': 835,\n",
       " 'intuitive': 836,\n",
       " 'download': 837,\n",
       " 'glass': 838,\n",
       " 'continued': 839,\n",
       " 'simpler': 840,\n",
       " 'forward': 841,\n",
       " 'genius': 842,\n",
       " '10': 843,\n",
       " 'movie': 844,\n",
       " 'bluetooth': 845,\n",
       " 'customers': 846,\n",
       " 'white': 847,\n",
       " 'updated': 848,\n",
       " 'color': 849,\n",
       " 'comparison': 850,\n",
       " 'factor': 851,\n",
       " 'familiar': 852,\n",
       " 'couple': 853,\n",
       " 'complaints': 854,\n",
       " 'construction': 855,\n",
       " 'security': 856,\n",
       " 'stuck': 857,\n",
       " 'didnt': 858,\n",
       " 'dont': 859,\n",
       " 'safari': 860,\n",
       " 'delivery': 861,\n",
       " 'anytime': 862,\n",
       " 'mind': 863,\n",
       " 'ordered': 864,\n",
       " 'saved': 865,\n",
       " 'crystal': 866,\n",
       " 'owning': 867,\n",
       " 'become': 868,\n",
       " 'incredibly': 869,\n",
       " 'powerbook': 870,\n",
       " 'easiest': 871,\n",
       " 'surface': 872,\n",
       " 'snow': 873,\n",
       " 'learning': 874,\n",
       " 'picked': 875,\n",
       " 'check': 876,\n",
       " 'missing': 877,\n",
       " 'dual': 878,\n",
       " 'charging': 879,\n",
       " 'stand': 880,\n",
       " 'appleworks': 881,\n",
       " 'paint': 882,\n",
       " 'early': 883,\n",
       " 'edition': 884,\n",
       " 'report': 885,\n",
       " 'cheaply': 886,\n",
       " 'holds': 887,\n",
       " 'antivirus': 888,\n",
       " 'glad': 889,\n",
       " 'nicely': 890,\n",
       " 'part': 891,\n",
       " 'latest': 892,\n",
       " 'waited': 893,\n",
       " 'chat': 894,\n",
       " 'us': 895,\n",
       " 'wasted': 896,\n",
       " 'provides': 897,\n",
       " 'those': 898,\n",
       " 'unreliable': 899,\n",
       " 'meets': 900,\n",
       " 'spec': 901,\n",
       " 'burner': 902,\n",
       " 'discovered': 903,\n",
       " 'ran': 904,\n",
       " 'between': 905,\n",
       " '1/2': 906,\n",
       " 'edge': 907,\n",
       " 'phones': 908,\n",
       " 'terrible': 909,\n",
       " 'hate': 910,\n",
       " 'opinion': 911,\n",
       " 'gave': 912,\n",
       " 'daughter': 913,\n",
       " 'listen': 914,\n",
       " 'major': 915,\n",
       " 'heavy': 916,\n",
       " 'bulky': 917,\n",
       " 'electronic': 918,\n",
       " \"'\": 919,\n",
       " 'linux': 920,\n",
       " 'based': 921,\n",
       " 'sense': 922,\n",
       " 'rather': 923,\n",
       " 'processors': 924,\n",
       " 'hdmi': 925,\n",
       " 'firewire': 926,\n",
       " 'image': 927,\n",
       " 'kind': 928,\n",
       " 'clicking': 929,\n",
       " 'unsteady': 930,\n",
       " 'bugs': 931,\n",
       " 'junk': 932,\n",
       " 'facebook': 933,\n",
       " 'file': 934,\n",
       " 'particular': 935,\n",
       " 'truly': 936,\n",
       " 'bucks': 937,\n",
       " 'beyond': 938,\n",
       " 'duty': 939,\n",
       " 'crash': 940,\n",
       " 'decides': 941,\n",
       " 'mode': 942,\n",
       " 'dropping': 943,\n",
       " 'stock': 944,\n",
       " 'given': 945,\n",
       " 'graphic': 946,\n",
       " 'decreased': 947,\n",
       " 'thrilled': 948,\n",
       " 'technical': 949,\n",
       " 'skype': 950,\n",
       " 'hdd': 951,\n",
       " 'main': 952,\n",
       " 'understand': 953,\n",
       " 'consider': 954,\n",
       " 'ms': 955,\n",
       " 'amazed': 956,\n",
       " 'fully': 957,\n",
       " 'letters': 958,\n",
       " 'complete': 959,\n",
       " 'ergonomic': 960,\n",
       " 'sometimes': 961,\n",
       " 'notebooks': 962,\n",
       " 'quicker': 963,\n",
       " 'photography': 964,\n",
       " '10-11': 965,\n",
       " 'depending': 966,\n",
       " 'level': 967,\n",
       " 'appearance': 968,\n",
       " '3rd': 969,\n",
       " 'bother': 970,\n",
       " 'data': 971,\n",
       " 'taught': 972,\n",
       " 'photoshop': 973,\n",
       " 'bigger': 974,\n",
       " 'loves': 975,\n",
       " 'husband': 976,\n",
       " 'signals': 977,\n",
       " 'multiple': 978,\n",
       " 'page': 979,\n",
       " 'non': 980,\n",
       " 'frequently': 981,\n",
       " 'ideal': 982,\n",
       " 'improvements': 983,\n",
       " 'images': 984,\n",
       " 'later': 985,\n",
       " 'options': 986,\n",
       " 'girlfriend': 987,\n",
       " 'hinge': 988,\n",
       " 'lcd': 989,\n",
       " 'late': 990,\n",
       " 'issued': 991,\n",
       " 'morning': 992,\n",
       " '60': 993,\n",
       " 'hiccups': 994,\n",
       " 'occasion': 995,\n",
       " 'presentations': 996,\n",
       " 'functioning': 997,\n",
       " 'obviously': 998,\n",
       " 'hinges': 999,\n",
       " 'advertised': 1000,\n",
       " ...}"
      ]
     },
     "execution_count": 12,
     "metadata": {},
     "output_type": "execute_result"
    }
   ],
   "source": [
    "weights = np.zeros((vocab_size, 300))\n",
    "mapping = toke.word_index \n",
    "mapping"
   ]
  },
  {
   "cell_type": "markdown",
   "metadata": {},
   "source": [
    "Fetching weights from pre trained Glove model (ATE)"
   ]
  },
  {
   "cell_type": "code",
   "execution_count": 13,
   "metadata": {},
   "outputs": [],
   "source": [
    "for word, index in mapping.items():\n",
    "    if word in glove:\n",
    "        weights[index:] = glove[word]"
   ]
  },
  {
   "cell_type": "code",
   "execution_count": 14,
   "metadata": {},
   "outputs": [],
   "source": [
    "X_train= X_padded_train\n",
    "Y_train = Y_padded_train\n",
    "X_test = X_padded_test\n",
    "Y_test = Y_padded_test\n",
    "X_val = X_padded_val\n",
    "Y_val = Y_padded_val\n",
    "weights = weights\n",
    "word_token = toke\n",
    "tag_token = toke2"
   ]
  },
  {
   "cell_type": "code",
   "execution_count": 45,
   "metadata": {},
   "outputs": [],
   "source": [
    "Y_shape= Y_padded_train.shape[2]"
   ]
  },
  {
   "cell_type": "markdown",
   "metadata": {},
   "source": [
    "# Models"
   ]
  },
  {
   "cell_type": "markdown",
   "metadata": {},
   "source": [
    "## RNN"
   ]
  },
  {
   "cell_type": "code",
   "execution_count": 38,
   "metadata": {},
   "outputs": [],
   "source": [
    "model_name=\"RNN\""
   ]
  },
  {
   "cell_type": "markdown",
   "metadata": {},
   "source": [
    "### Training"
   ]
  },
  {
   "cell_type": "code",
   "execution_count": 39,
   "metadata": {},
   "outputs": [],
   "source": [
    "rnn_model = Sequential()\n",
    "rnn_model.add(Embedding(input_dim = vocab_size,output_dim = 300,input_length  = max_len,weights = [weights],trainable = False))\n",
    "rnn_model.add(SimpleRNN(64, return_sequences=True))\n",
    "rnn_model.add(TimeDistributed(Dense(Y_shape, activation='softmax')))"
   ]
  },
  {
   "cell_type": "markdown",
   "metadata": {},
   "source": [
    "Compiling the rnn Word2Vec Model"
   ]
  },
  {
   "cell_type": "code",
   "execution_count": 40,
   "metadata": {},
   "outputs": [
    {
     "name": "stdout",
     "output_type": "stream",
     "text": [
      "WARNING:tensorflow:From c:\\Users\\acer\\AppData\\Local\\Programs\\Python\\Python311\\Lib\\site-packages\\keras\\src\\optimizers\\__init__.py:309: The name tf.train.Optimizer is deprecated. Please use tf.compat.v1.train.Optimizer instead.\n",
      "\n"
     ]
    }
   ],
   "source": [
    "rnn_model.compile(loss='categorical_crossentropy',optimizer='adam',metrics=['acc',Precision(),Recall()])"
   ]
  },
  {
   "cell_type": "code",
   "execution_count": 41,
   "metadata": {},
   "outputs": [],
   "source": [
    "rnn_f1_callback = F1ScoreCallback(val_data=(X_val, Y_val),data=(X_train, Y_train))\n"
   ]
  },
  {
   "cell_type": "code",
   "execution_count": 42,
   "metadata": {},
   "outputs": [
    {
     "name": "stdout",
     "output_type": "stream",
     "text": [
      "Model: \"sequential_1\"\n",
      "_________________________________________________________________\n",
      " Layer (type)                Output Shape              Param #   \n",
      "=================================================================\n",
      " embedding_1 (Embedding)     (None, 78, 300)           721800    \n",
      "                                                                 \n",
      " simple_rnn_1 (SimpleRNN)    (None, 78, 64)            23360     \n",
      "                                                                 \n",
      " time_distributed (TimeDist  (None, 78, 78)            5070      \n",
      " ributed)                                                        \n",
      "                                                                 \n",
      "=================================================================\n",
      "Total params: 750230 (2.86 MB)\n",
      "Trainable params: 28430 (111.05 KB)\n",
      "Non-trainable params: 721800 (2.75 MB)\n",
      "_________________________________________________________________\n"
     ]
    }
   ],
   "source": [
    "rnn_model.summary()"
   ]
  },
  {
   "cell_type": "markdown",
   "metadata": {},
   "source": [
    "Fitting the rnn model"
   ]
  },
  {
   "cell_type": "code",
   "execution_count": 43,
   "metadata": {},
   "outputs": [
    {
     "ename": "ValueError",
     "evalue": "Failed to find data adapter that can handle input: <class 'numpy.ndarray'>, (<class 'list'> containing values of types {'(<class \\'list\\'> containing values of types {\"<class \\'int\\'>\"})'})",
     "output_type": "error",
     "traceback": [
      "\u001b[1;31m---------------------------------------------------------------------------\u001b[0m",
      "\u001b[1;31mValueError\u001b[0m                                Traceback (most recent call last)",
      "Cell \u001b[1;32mIn[43], line 1\u001b[0m\n\u001b[1;32m----> 1\u001b[0m rnn_training \u001b[38;5;241m=\u001b[39m \u001b[43mrnn_model\u001b[49m\u001b[38;5;241;43m.\u001b[39;49m\u001b[43mfit\u001b[49m\u001b[43m(\u001b[49m\u001b[43mX_train\u001b[49m\u001b[43m,\u001b[49m\u001b[43m \u001b[49m\u001b[43mY_train\u001b[49m\u001b[43m,\u001b[49m\u001b[43m \u001b[49m\u001b[43mbatch_size\u001b[49m\u001b[38;5;241;43m=\u001b[39;49m\u001b[38;5;241;43m128\u001b[39;49m\u001b[43m,\u001b[49m\u001b[43m \u001b[49m\u001b[43mepochs\u001b[49m\u001b[38;5;241;43m=\u001b[39;49m\u001b[38;5;241;43m15\u001b[39;49m\u001b[43m,\u001b[49m\u001b[43m \u001b[49m\u001b[43mvalidation_data\u001b[49m\u001b[38;5;241;43m=\u001b[39;49m\u001b[43m(\u001b[49m\u001b[43mX_val\u001b[49m\u001b[43m,\u001b[49m\u001b[43m \u001b[49m\u001b[43mY_val\u001b[49m\u001b[43m)\u001b[49m\u001b[43m,\u001b[49m\u001b[43m \u001b[49m\u001b[43mcallbacks\u001b[49m\u001b[38;5;241;43m=\u001b[39;49m\u001b[43m[\u001b[49m\u001b[43mrnn_f1_callback\u001b[49m\u001b[43m]\u001b[49m\u001b[43m)\u001b[49m\n",
      "File \u001b[1;32mc:\\Users\\acer\\AppData\\Local\\Programs\\Python\\Python311\\Lib\\site-packages\\keras\\src\\utils\\traceback_utils.py:70\u001b[0m, in \u001b[0;36mfilter_traceback.<locals>.error_handler\u001b[1;34m(*args, **kwargs)\u001b[0m\n\u001b[0;32m     67\u001b[0m     filtered_tb \u001b[38;5;241m=\u001b[39m _process_traceback_frames(e\u001b[38;5;241m.\u001b[39m__traceback__)\n\u001b[0;32m     68\u001b[0m     \u001b[38;5;66;03m# To get the full stack trace, call:\u001b[39;00m\n\u001b[0;32m     69\u001b[0m     \u001b[38;5;66;03m# `tf.debugging.disable_traceback_filtering()`\u001b[39;00m\n\u001b[1;32m---> 70\u001b[0m     \u001b[38;5;28;01mraise\u001b[39;00m e\u001b[38;5;241m.\u001b[39mwith_traceback(filtered_tb) \u001b[38;5;28;01mfrom\u001b[39;00m \u001b[38;5;28mNone\u001b[39m\n\u001b[0;32m     71\u001b[0m \u001b[38;5;28;01mfinally\u001b[39;00m:\n\u001b[0;32m     72\u001b[0m     \u001b[38;5;28;01mdel\u001b[39;00m filtered_tb\n",
      "File \u001b[1;32mc:\\Users\\acer\\AppData\\Local\\Programs\\Python\\Python311\\Lib\\site-packages\\keras\\src\\engine\\data_adapter.py:1105\u001b[0m, in \u001b[0;36mselect_data_adapter\u001b[1;34m(x, y)\u001b[0m\n\u001b[0;32m   1102\u001b[0m adapter_cls \u001b[38;5;241m=\u001b[39m [\u001b[38;5;28mcls\u001b[39m \u001b[38;5;28;01mfor\u001b[39;00m \u001b[38;5;28mcls\u001b[39m \u001b[38;5;129;01min\u001b[39;00m ALL_ADAPTER_CLS \u001b[38;5;28;01mif\u001b[39;00m \u001b[38;5;28mcls\u001b[39m\u001b[38;5;241m.\u001b[39mcan_handle(x, y)]\n\u001b[0;32m   1103\u001b[0m \u001b[38;5;28;01mif\u001b[39;00m \u001b[38;5;129;01mnot\u001b[39;00m adapter_cls:\n\u001b[0;32m   1104\u001b[0m     \u001b[38;5;66;03m# TODO(scottzhu): This should be a less implementation-specific error.\u001b[39;00m\n\u001b[1;32m-> 1105\u001b[0m     \u001b[38;5;28;01mraise\u001b[39;00m \u001b[38;5;167;01mValueError\u001b[39;00m(\n\u001b[0;32m   1106\u001b[0m         \u001b[38;5;124m\"\u001b[39m\u001b[38;5;124mFailed to find data adapter that can handle input: \u001b[39m\u001b[38;5;132;01m{}\u001b[39;00m\u001b[38;5;124m, \u001b[39m\u001b[38;5;132;01m{}\u001b[39;00m\u001b[38;5;124m\"\u001b[39m\u001b[38;5;241m.\u001b[39mformat(\n\u001b[0;32m   1107\u001b[0m             _type_name(x), _type_name(y)\n\u001b[0;32m   1108\u001b[0m         )\n\u001b[0;32m   1109\u001b[0m     )\n\u001b[0;32m   1110\u001b[0m \u001b[38;5;28;01melif\u001b[39;00m \u001b[38;5;28mlen\u001b[39m(adapter_cls) \u001b[38;5;241m>\u001b[39m \u001b[38;5;241m1\u001b[39m:\n\u001b[0;32m   1111\u001b[0m     \u001b[38;5;28;01mraise\u001b[39;00m \u001b[38;5;167;01mRuntimeError\u001b[39;00m(\n\u001b[0;32m   1112\u001b[0m         \u001b[38;5;124m\"\u001b[39m\u001b[38;5;124mData adapters should be mutually exclusive for \u001b[39m\u001b[38;5;124m\"\u001b[39m\n\u001b[0;32m   1113\u001b[0m         \u001b[38;5;124m\"\u001b[39m\u001b[38;5;124mhandling inputs. Found multiple adapters \u001b[39m\u001b[38;5;132;01m{}\u001b[39;00m\u001b[38;5;124m to handle \u001b[39m\u001b[38;5;124m\"\u001b[39m\n\u001b[0;32m   1114\u001b[0m         \u001b[38;5;124m\"\u001b[39m\u001b[38;5;124minput: \u001b[39m\u001b[38;5;132;01m{}\u001b[39;00m\u001b[38;5;124m, \u001b[39m\u001b[38;5;132;01m{}\u001b[39;00m\u001b[38;5;124m\"\u001b[39m\u001b[38;5;241m.\u001b[39mformat(adapter_cls, _type_name(x), _type_name(y))\n\u001b[0;32m   1115\u001b[0m     )\n",
      "\u001b[1;31mValueError\u001b[0m: Failed to find data adapter that can handle input: <class 'numpy.ndarray'>, (<class 'list'> containing values of types {'(<class \\'list\\'> containing values of types {\"<class \\'int\\'>\"})'})"
     ]
    }
   ],
   "source": [
    "rnn_training = rnn_model.fit(X_train, Y_train, batch_size=128, epochs=15, validation_data=(X_val, Y_val), callbacks=[rnn_f1_callback])"
   ]
  },
  {
   "cell_type": "markdown",
   "metadata": {},
   "source": [
    "Plotting the graph"
   ]
  },
  {
   "cell_type": "code",
   "execution_count": null,
   "metadata": {},
   "outputs": [],
   "source": [
    "draw_loss_graph(rnn_training,model_name, rnn_f1_callback.train_f1_scores, rnn_f1_callback.val_f1_scores)\n",
    "save_model(rnn_model,model_name,Embedding_name,Dataset)"
   ]
  },
  {
   "cell_type": "markdown",
   "metadata": {},
   "source": [
    "### Testing"
   ]
  },
  {
   "cell_type": "code",
   "execution_count": null,
   "metadata": {},
   "outputs": [],
   "source": [
    "loaded_model = load_model(model_name,Embedding_name,Dataset)"
   ]
  },
  {
   "cell_type": "markdown",
   "metadata": {},
   "source": [
    "Testing accuracy"
   ]
  },
  {
   "cell_type": "code",
   "execution_count": null,
   "metadata": {},
   "outputs": [],
   "source": [
    "accuracy = loaded_model.evaluate(X_test, Y_test, verbose = 1)\n",
    "print(accuracy[1])"
   ]
  },
  {
   "cell_type": "markdown",
   "metadata": {},
   "source": [
    "Testing F1 Score"
   ]
  },
  {
   "cell_type": "code",
   "execution_count": null,
   "metadata": {},
   "outputs": [],
   "source": [
    "Y_pred = loaded_model.predict(X_test)\n",
    "real = get_real(Y_test)\n",
    "pred = get_pred(Y_pred)\n",
    "\n",
    "true_labels_flat = [label for sublist in real for label in sublist]\n",
    "predicted_labels_flat = [label for sublist in pred for label in sublist]\n",
    "\n",
    "# Compute F1 score\n",
    "f1 = f1_score(true_labels_flat, predicted_labels_flat, average='macro')\n",
    "\n",
    "print(\"Test F1 Score:\", f1)"
   ]
  },
  {
   "cell_type": "markdown",
   "metadata": {},
   "source": [
    "## GRU"
   ]
  },
  {
   "cell_type": "code",
   "execution_count": null,
   "metadata": {},
   "outputs": [],
   "source": [
    "model_name=\"GRU\""
   ]
  },
  {
   "cell_type": "markdown",
   "metadata": {},
   "source": [
    "### Training"
   ]
  },
  {
   "cell_type": "code",
   "execution_count": null,
   "metadata": {},
   "outputs": [],
   "source": [
    "gru_model = Sequential()\n",
    "gru_model.add(Embedding(input_dim = vocab_size,output_dim = 300,input_length  = max_len,weights = [weights],trainable = False))\n",
    "gru_model.add(GRU(64, return_sequences=True))\n",
    "gru_model.add(TimeDistributed(Dense(Y_train.shape[2], activation='softmax')))"
   ]
  },
  {
   "cell_type": "markdown",
   "metadata": {},
   "source": [
    "compiling "
   ]
  },
  {
   "cell_type": "code",
   "execution_count": null,
   "metadata": {},
   "outputs": [],
   "source": [
    "gru_model.compile(loss='categorical_crossentropy',optimizer='adam',metrics=['acc',Precision(),Recall()])"
   ]
  },
  {
   "cell_type": "code",
   "execution_count": null,
   "metadata": {},
   "outputs": [],
   "source": [
    "gru_f1_callback = F1ScoreCallback(val_data=(X_val, Y_val),data=(X_train, Y_train))"
   ]
  },
  {
   "cell_type": "code",
   "execution_count": null,
   "metadata": {},
   "outputs": [],
   "source": [
    "gru_model.summary()"
   ]
  },
  {
   "cell_type": "markdown",
   "metadata": {},
   "source": [
    "Fitting GRU"
   ]
  },
  {
   "cell_type": "code",
   "execution_count": null,
   "metadata": {},
   "outputs": [],
   "source": [
    "gru_training = gru_model.fit(X_train, Y_train, batch_size=128, epochs=15, validation_data=(X_val, Y_val), callbacks=[gru_f1_callback])"
   ]
  },
  {
   "cell_type": "markdown",
   "metadata": {},
   "source": [
    "Plotting Graph"
   ]
  },
  {
   "cell_type": "code",
   "execution_count": null,
   "metadata": {},
   "outputs": [],
   "source": [
    "draw_loss_graph(gru_training,model_name, gru_f1_callback.train_f1_scores, gru_f1_callback.val_f1_scores)\n",
    "save_model(gru_model,model_name,Embedding_name,Dataset)"
   ]
  },
  {
   "cell_type": "markdown",
   "metadata": {},
   "source": [
    "### Testing"
   ]
  },
  {
   "cell_type": "code",
   "execution_count": null,
   "metadata": {},
   "outputs": [],
   "source": [
    "loaded_model = load_model(model_name,Embedding_name,Dataset)"
   ]
  },
  {
   "cell_type": "markdown",
   "metadata": {},
   "source": [
    "Testing Accuracy"
   ]
  },
  {
   "cell_type": "code",
   "execution_count": null,
   "metadata": {},
   "outputs": [],
   "source": [
    "accuracy = loaded_model.evaluate(X_test, Y_test, verbose = 1)\n",
    "print(accuracy[1])"
   ]
  },
  {
   "cell_type": "markdown",
   "metadata": {},
   "source": [
    "Testing F1 Score"
   ]
  },
  {
   "cell_type": "code",
   "execution_count": null,
   "metadata": {},
   "outputs": [],
   "source": [
    "Y_pred = loaded_model.predict(X_test)\n",
    "real = get_real(Y_test)\n",
    "pred = get_pred(Y_pred)\n",
    "\n",
    "true_labels_flat = [label for sublist in real for label in sublist]\n",
    "predicted_labels_flat = [label for sublist in pred for label in sublist]\n",
    "\n",
    "# Compute F1 score\n",
    "f1 = f1_score(true_labels_flat, predicted_labels_flat, average='macro')\n",
    "\n",
    "print(\"Test F1 Score:\", f1)"
   ]
  },
  {
   "cell_type": "markdown",
   "metadata": {},
   "source": [
    "## LSTM"
   ]
  },
  {
   "cell_type": "code",
   "execution_count": null,
   "metadata": {},
   "outputs": [],
   "source": [
    "model_name=\"LSTM\""
   ]
  },
  {
   "cell_type": "markdown",
   "metadata": {},
   "source": [
    "### Training"
   ]
  },
  {
   "cell_type": "code",
   "execution_count": null,
   "metadata": {},
   "outputs": [],
   "source": [
    "lstm_model = Sequential()\n",
    "lstm_model.add(Embedding(input_dim = vocab_size,output_dim = 300,input_length  = max_len,weights = [weights],trainable = False))\n",
    "lstm_model.add(LSTM(64, return_sequences=True))\n",
    "lstm_model.add(TimeDistributed(Dense(Y_train.shape[2], activation='softmax')))# Lstm"
   ]
  },
  {
   "cell_type": "markdown",
   "metadata": {},
   "source": [
    "Compiling LSTM"
   ]
  },
  {
   "cell_type": "code",
   "execution_count": null,
   "metadata": {},
   "outputs": [],
   "source": [
    "lstm_model.compile(loss='categorical_crossentropy',optimizer='adam',metrics=['acc',Precision(),Recall()])"
   ]
  },
  {
   "cell_type": "code",
   "execution_count": null,
   "metadata": {},
   "outputs": [],
   "source": [
    "LSTM_f1_callback=F1ScoreCallback(val_data=(X_val, Y_val),data=(X_train, Y_train))"
   ]
  },
  {
   "cell_type": "code",
   "execution_count": null,
   "metadata": {},
   "outputs": [],
   "source": [
    "lstm_model.summary()"
   ]
  },
  {
   "cell_type": "markdown",
   "metadata": {},
   "source": [
    "Fitting LSTM"
   ]
  },
  {
   "cell_type": "code",
   "execution_count": null,
   "metadata": {},
   "outputs": [],
   "source": [
    "lstm_training = lstm_model.fit(X_train, Y_train, batch_size=128, epochs=15, validation_data=(X_val, Y_val), callbacks=[LSTM_f1_callback])"
   ]
  },
  {
   "cell_type": "markdown",
   "metadata": {},
   "source": [
    "Plotting Graph"
   ]
  },
  {
   "cell_type": "code",
   "execution_count": null,
   "metadata": {},
   "outputs": [],
   "source": [
    "draw_loss_graph(lstm_training, \"LSTM Model\", LSTM_f1_callback.train_f1_scores, LSTM_f1_callback.val_f1_scores)\n",
    "save_model(lstm_model, model_name, Embedding_name, Dataset)\n",
    "loaded_model = load_model(model_name,Embedding_name,Dataset)"
   ]
  },
  {
   "cell_type": "markdown",
   "metadata": {},
   "source": [
    "### Testing"
   ]
  },
  {
   "cell_type": "code",
   "execution_count": null,
   "metadata": {},
   "outputs": [],
   "source": [
    "loaded_model = load_model(model_name,Embedding_name,Dataset)"
   ]
  },
  {
   "cell_type": "markdown",
   "metadata": {},
   "source": [
    "Testing accuracy"
   ]
  },
  {
   "cell_type": "code",
   "execution_count": null,
   "metadata": {},
   "outputs": [],
   "source": [
    "accuracy = loaded_model.evaluate(X_test, Y_test, verbose = 1)\n",
    "print(accuracy[1])"
   ]
  },
  {
   "cell_type": "markdown",
   "metadata": {},
   "source": [
    "Testing F1 Score"
   ]
  },
  {
   "cell_type": "code",
   "execution_count": null,
   "metadata": {},
   "outputs": [],
   "source": [
    "Y_pred = loaded_model.predict(X_test)\n",
    "real = get_real(Y_test)\n",
    "pred = get_pred(Y_pred)\n",
    "\n",
    "true_labels_flat = [label for sublist in real for label in sublist]\n",
    "predicted_labels_flat = [label for sublist in pred for label in sublist]\n",
    "\n",
    "# Compute F1 score\n",
    "f1 = f1_score(true_labels_flat, predicted_labels_flat, average='macro')\n",
    "\n",
    "print(\"Test F1 Score:\", f1)"
   ]
  },
  {
   "cell_type": "markdown",
   "metadata": {},
   "source": [
    "# BiLSTM"
   ]
  },
  {
   "cell_type": "code",
   "execution_count": 15,
   "metadata": {},
   "outputs": [],
   "source": [
    "model_name=\"BiLSTM\""
   ]
  },
  {
   "cell_type": "markdown",
   "metadata": {},
   "source": [
    "Training"
   ]
  },
  {
   "cell_type": "code",
   "execution_count": null,
   "metadata": {},
   "outputs": [],
   "source": [
    "input=Input(shape=(max_len,))\n",
    "BiLSTM_CRF_embed=Embedding(input_dim=vocab_size, output_dim=300, input_length=max_len, weights=[weights], trainable=False)(input)\n",
    "BiLSTM_CRF_bilstm=Bidirectional(LSTM(units=128, return_sequences=True, recurrent_dropout=0.1))(BiLSTM_CRF_embed)\n",
    "BiLSTM_model=(TimeDistributed(Dense(Y_train.shape[2], activation='relu')))(BiLSTM_CRF_bilstm)\n",
    "\n",
    "crf = CRF(Y_train.shape[2])\n",
    "predicted_sequence, potentials, sequence_length, crf_kernel = crf(BiLSTM_model)\n",
    "\n",
    "BiLSTM_model=Model(input,potentials)"
   ]
  },
  {
   "cell_type": "markdown",
   "metadata": {},
   "source": [
    "Compiling the BiLSTM Model"
   ]
  },
  {
   "cell_type": "code",
   "execution_count": null,
   "metadata": {},
   "outputs": [],
   "source": [
    "BiLSTM_model.compile(\n",
    "        optimizer=AdamW(learning_rate=0.002),\n",
    "        loss=SigmoidFocalCrossEntropy(),\n",
    "        metrics=['accuracy']\n",
    "    )"
   ]
  },
  {
   "cell_type": "code",
   "execution_count": null,
   "metadata": {},
   "outputs": [],
   "source": [
    "BiLSTM_f1_callback = F1ScoreCallback(val_data=(X_val, Y_val),data=(X_train, Y_train))"
   ]
  },
  {
   "cell_type": "code",
   "execution_count": null,
   "metadata": {},
   "outputs": [],
   "source": [
    "BiLSTM_model.summary()"
   ]
  },
  {
   "cell_type": "markdown",
   "metadata": {},
   "source": [
    "Fitting the BiLSTM Model"
   ]
  },
  {
   "cell_type": "code",
   "execution_count": null,
   "metadata": {},
   "outputs": [],
   "source": [
    "BiLSTM_training = BiLSTM_model.fit(X_train,Y_train,batch_size=128,epochs=15,validation_data=(X_val,Y_val),callbacks=[BiLSTM_f1_callback])"
   ]
  },
  {
   "cell_type": "markdown",
   "metadata": {},
   "source": [
    "Plotting the graph"
   ]
  },
  {
   "cell_type": "code",
   "execution_count": null,
   "metadata": {},
   "outputs": [],
   "source": [
    "draw_loss_graph(BiLSTM_training,model_name, BiLSTM_f1_callback.train_f1_scores, BiLSTM_f1_callback.val_f1_scores)\n",
    "save_model(BiLSTM_model,model_name,Embedding_name,Dataset)"
   ]
  },
  {
   "cell_type": "markdown",
   "metadata": {},
   "source": []
  },
  {
   "cell_type": "markdown",
   "metadata": {},
   "source": [
    "## Testing "
   ]
  },
  {
   "cell_type": "code",
   "execution_count": null,
   "metadata": {},
   "outputs": [],
   "source": [
    "loaded_model = load_model(model_name,Embedding_name,Dataset)"
   ]
  },
  {
   "cell_type": "markdown",
   "metadata": {},
   "source": [
    "Testing accuracy"
   ]
  },
  {
   "cell_type": "code",
   "execution_count": null,
   "metadata": {},
   "outputs": [],
   "source": [
    "accuracy = loaded_model.evaluate(X_test, Y_test, verbose = 1)\n",
    "print(accuracy[1])"
   ]
  },
  {
   "cell_type": "markdown",
   "metadata": {},
   "source": [
    "Testing F1 Score"
   ]
  },
  {
   "cell_type": "code",
   "execution_count": null,
   "metadata": {},
   "outputs": [],
   "source": [
    "Y_pred = loaded_model.predict(X_test)\n",
    "real = get_real(Y_test)\n",
    "pred = get_pred(Y_pred)\n",
    "\n",
    "true_labels_flat = [label for sublist in real for label in sublist]\n",
    "predicted_labels_flat = [label for sublist in pred for label in sublist]\n",
    "\n",
    "# Compute F1 score\n",
    "f1 = f1_score(true_labels_flat, predicted_labels_flat, average='macro')\n",
    "\n",
    "print(\"Test F1 Score:\", f1)"
   ]
  },
  {
   "cell_type": "code",
   "execution_count": 23,
   "metadata": {},
   "outputs": [
    {
     "data": {
      "text/plain": [
       "(906, 78, 4)"
      ]
     },
     "execution_count": 23,
     "metadata": {},
     "output_type": "execute_result"
    }
   ],
   "source": [
    "Y_train.shape"
   ]
  },
  {
   "cell_type": "code",
   "execution_count": 57,
   "metadata": {},
   "outputs": [
    {
     "name": "stdout",
     "output_type": "stream",
     "text": [
      "Reloading Tuner from tuner_directory\\bilstm_tuner\\tuner0.json\n",
      "\n",
      "Search: Running Trial #3\n",
      "\n",
      "Value             |Best Value So Far |Hyperparameter\n",
      "160               |70                |max_len\n",
      "128               |128               |units\n",
      "0.1               |0.05              |recurrent_dropout\n",
      "adam              |rmsprop           |optimizer\n",
      "\n"
     ]
    },
    {
     "name": "stderr",
     "output_type": "stream",
     "text": [
      "Traceback (most recent call last):\n",
      "  File \"c:\\Users\\acer\\AppData\\Local\\Programs\\Python\\Python311\\Lib\\site-packages\\keras_tuner\\src\\engine\\base_tuner.py\", line 274, in _try_run_and_update_trial\n",
      "    self._run_and_update_trial(trial, *fit_args, **fit_kwargs)\n",
      "  File \"c:\\Users\\acer\\AppData\\Local\\Programs\\Python\\Python311\\Lib\\site-packages\\keras_tuner\\src\\engine\\base_tuner.py\", line 239, in _run_and_update_trial\n",
      "    results = self.run_trial(trial, *fit_args, **fit_kwargs)\n",
      "              ^^^^^^^^^^^^^^^^^^^^^^^^^^^^^^^^^^^^^^^^^^^^^^\n",
      "  File \"c:\\Users\\acer\\AppData\\Local\\Programs\\Python\\Python311\\Lib\\site-packages\\keras_tuner\\src\\engine\\tuner.py\", line 314, in run_trial\n",
      "    obj_value = self._build_and_fit_model(trial, *args, **copied_kwargs)\n",
      "                ^^^^^^^^^^^^^^^^^^^^^^^^^^^^^^^^^^^^^^^^^^^^^^^^^^^^^^^^\n",
      "  File \"c:\\Users\\acer\\AppData\\Local\\Programs\\Python\\Python311\\Lib\\site-packages\\keras_tuner\\src\\engine\\tuner.py\", line 232, in _build_and_fit_model\n",
      "    model = self._try_build(hp)\n",
      "            ^^^^^^^^^^^^^^^^^^^\n",
      "  File \"c:\\Users\\acer\\AppData\\Local\\Programs\\Python\\Python311\\Lib\\site-packages\\keras_tuner\\src\\engine\\tuner.py\", line 164, in _try_build\n",
      "    model = self._build_hypermodel(hp)\n",
      "            ^^^^^^^^^^^^^^^^^^^^^^^^^^\n",
      "  File \"c:\\Users\\acer\\AppData\\Local\\Programs\\Python\\Python311\\Lib\\site-packages\\keras_tuner\\src\\engine\\tuner.py\", line 155, in _build_hypermodel\n",
      "    model = self.hypermodel.build(hp)\n",
      "            ^^^^^^^^^^^^^^^^^^^^^^^^^\n",
      "  File \"C:\\Users\\acer\\AppData\\Local\\Temp\\ipykernel_19332\\86315134.py\", line 10, in build_model\n",
      "    optimizer = hp.Choice('optimizer', values=[AdamW(learning_rate=0.002), 'adam', 'rmsprop'])\n",
      "                ^^^^^^^^^^^^^^^^^^^^^^^^^^^^^^^^^^^^^^^^^^^^^^^^^^^^^^^^^^^^^^^^^^^^^^^^^^^^^^\n",
      "  File \"c:\\Users\\acer\\AppData\\Local\\Programs\\Python\\Python311\\Lib\\site-packages\\keras_tuner\\src\\engine\\hyperparameters\\hyperparameters.py\", line 293, in Choice\n",
      "    hp = hp_types.Choice(\n",
      "         ^^^^^^^^^^^^^^^^\n",
      "  File \"c:\\Users\\acer\\AppData\\Local\\Programs\\Python\\Python311\\Lib\\site-packages\\keras_tuner\\src\\engine\\hyperparameters\\hp_types\\choice_hp.py\", line 50, in __init__\n",
      "    raise TypeError(\n",
      "TypeError: A `Choice` can contain only one type of value, found values: [<keras.src.optimizers.adamw.AdamW object at 0x00000265E0F654D0>, 'adam', 'rmsprop'] with types {<class 'keras.src.optimizers.adamw.AdamW'>, <class 'str'>}.\n"
     ]
    },
    {
     "ename": "RuntimeError",
     "evalue": "Number of consecutive failures exceeded the limit of 3.\nTraceback (most recent call last):\n  File \"c:\\Users\\acer\\AppData\\Local\\Programs\\Python\\Python311\\Lib\\site-packages\\keras_tuner\\src\\engine\\base_tuner.py\", line 274, in _try_run_and_update_trial\n    self._run_and_update_trial(trial, *fit_args, **fit_kwargs)\n  File \"c:\\Users\\acer\\AppData\\Local\\Programs\\Python\\Python311\\Lib\\site-packages\\keras_tuner\\src\\engine\\base_tuner.py\", line 239, in _run_and_update_trial\n    results = self.run_trial(trial, *fit_args, **fit_kwargs)\n              ^^^^^^^^^^^^^^^^^^^^^^^^^^^^^^^^^^^^^^^^^^^^^^\n  File \"c:\\Users\\acer\\AppData\\Local\\Programs\\Python\\Python311\\Lib\\site-packages\\keras_tuner\\src\\engine\\tuner.py\", line 314, in run_trial\n    obj_value = self._build_and_fit_model(trial, *args, **copied_kwargs)\n                ^^^^^^^^^^^^^^^^^^^^^^^^^^^^^^^^^^^^^^^^^^^^^^^^^^^^^^^^\n  File \"c:\\Users\\acer\\AppData\\Local\\Programs\\Python\\Python311\\Lib\\site-packages\\keras_tuner\\src\\engine\\tuner.py\", line 232, in _build_and_fit_model\n    model = self._try_build(hp)\n            ^^^^^^^^^^^^^^^^^^^\n  File \"c:\\Users\\acer\\AppData\\Local\\Programs\\Python\\Python311\\Lib\\site-packages\\keras_tuner\\src\\engine\\tuner.py\", line 164, in _try_build\n    model = self._build_hypermodel(hp)\n            ^^^^^^^^^^^^^^^^^^^^^^^^^^\n  File \"c:\\Users\\acer\\AppData\\Local\\Programs\\Python\\Python311\\Lib\\site-packages\\keras_tuner\\src\\engine\\tuner.py\", line 155, in _build_hypermodel\n    model = self.hypermodel.build(hp)\n            ^^^^^^^^^^^^^^^^^^^^^^^^^\n  File \"C:\\Users\\acer\\AppData\\Local\\Temp\\ipykernel_19332\\86315134.py\", line 10, in build_model\n    optimizer = hp.Choice('optimizer', values=[AdamW(learning_rate=0.002), 'adam', 'rmsprop'])\n                ^^^^^^^^^^^^^^^^^^^^^^^^^^^^^^^^^^^^^^^^^^^^^^^^^^^^^^^^^^^^^^^^^^^^^^^^^^^^^^\n  File \"c:\\Users\\acer\\AppData\\Local\\Programs\\Python\\Python311\\Lib\\site-packages\\keras_tuner\\src\\engine\\hyperparameters\\hyperparameters.py\", line 293, in Choice\n    hp = hp_types.Choice(\n         ^^^^^^^^^^^^^^^^\n  File \"c:\\Users\\acer\\AppData\\Local\\Programs\\Python\\Python311\\Lib\\site-packages\\keras_tuner\\src\\engine\\hyperparameters\\hp_types\\choice_hp.py\", line 50, in __init__\n    raise TypeError(\nTypeError: A `Choice` can contain only one type of value, found values: [<keras.src.optimizers.adamw.AdamW object at 0x00000265E0F654D0>, 'adam', 'rmsprop'] with types {<class 'keras.src.optimizers.adamw.AdamW'>, <class 'str'>}.\n",
     "output_type": "error",
     "traceback": [
      "\u001b[1;31m---------------------------------------------------------------------------\u001b[0m",
      "\u001b[1;31mRuntimeError\u001b[0m                              Traceback (most recent call last)",
      "Cell \u001b[1;32mIn[57], line 41\u001b[0m\n\u001b[0;32m     31\u001b[0m tuner \u001b[38;5;241m=\u001b[39m RandomSearch(\n\u001b[0;32m     32\u001b[0m     build_model,\n\u001b[0;32m     33\u001b[0m     objective\u001b[38;5;241m=\u001b[39m\u001b[38;5;124m'\u001b[39m\u001b[38;5;124mval_loss\u001b[39m\u001b[38;5;124m'\u001b[39m,\n\u001b[1;32m   (...)\u001b[0m\n\u001b[0;32m     37\u001b[0m     project_name\u001b[38;5;241m=\u001b[39m\u001b[38;5;124m'\u001b[39m\u001b[38;5;124mbilstm_tuner\u001b[39m\u001b[38;5;124m'\u001b[39m\n\u001b[0;32m     38\u001b[0m )\n\u001b[0;32m     40\u001b[0m \u001b[38;5;66;03m# Search for the best hyperparameters\u001b[39;00m\n\u001b[1;32m---> 41\u001b[0m \u001b[43mtuner\u001b[49m\u001b[38;5;241;43m.\u001b[39;49m\u001b[43msearch\u001b[49m\u001b[43m(\u001b[49m\u001b[43mX_train\u001b[49m\u001b[43m,\u001b[49m\u001b[43m \u001b[49m\u001b[43mY_train\u001b[49m\u001b[43m,\u001b[49m\u001b[43m \u001b[49m\u001b[43mepochs\u001b[49m\u001b[38;5;241;43m=\u001b[39;49m\u001b[38;5;241;43m20\u001b[39;49m\u001b[43m,\u001b[49m\u001b[43m \u001b[49m\u001b[43mvalidation_split\u001b[49m\u001b[38;5;241;43m=\u001b[39;49m\u001b[38;5;241;43m0.2\u001b[39;49m\u001b[43m,\u001b[49m\u001b[43m \u001b[49m\u001b[43mverbose\u001b[49m\u001b[38;5;241;43m=\u001b[39;49m\u001b[38;5;241;43m3\u001b[39;49m\u001b[43m)\u001b[49m\n\u001b[0;32m     43\u001b[0m \u001b[38;5;66;03m# Get the best hyperparameters\u001b[39;00m\n\u001b[0;32m     44\u001b[0m best_hps \u001b[38;5;241m=\u001b[39m tuner\u001b[38;5;241m.\u001b[39moracle\u001b[38;5;241m.\u001b[39mget_best_trials(num_trials\u001b[38;5;241m=\u001b[39m\u001b[38;5;241m1\u001b[39m)[\u001b[38;5;241m0\u001b[39m]\u001b[38;5;241m.\u001b[39mhyperparameters\u001b[38;5;241m.\u001b[39mvalues\n",
      "File \u001b[1;32mc:\\Users\\acer\\AppData\\Local\\Programs\\Python\\Python311\\Lib\\site-packages\\keras_tuner\\src\\engine\\base_tuner.py:235\u001b[0m, in \u001b[0;36mBaseTuner.search\u001b[1;34m(self, *fit_args, **fit_kwargs)\u001b[0m\n\u001b[0;32m    233\u001b[0m     \u001b[38;5;28mself\u001b[39m\u001b[38;5;241m.\u001b[39mon_trial_begin(trial)\n\u001b[0;32m    234\u001b[0m     \u001b[38;5;28mself\u001b[39m\u001b[38;5;241m.\u001b[39m_try_run_and_update_trial(trial, \u001b[38;5;241m*\u001b[39mfit_args, \u001b[38;5;241m*\u001b[39m\u001b[38;5;241m*\u001b[39mfit_kwargs)\n\u001b[1;32m--> 235\u001b[0m     \u001b[38;5;28;43mself\u001b[39;49m\u001b[38;5;241;43m.\u001b[39;49m\u001b[43mon_trial_end\u001b[49m\u001b[43m(\u001b[49m\u001b[43mtrial\u001b[49m\u001b[43m)\u001b[49m\n\u001b[0;32m    236\u001b[0m \u001b[38;5;28mself\u001b[39m\u001b[38;5;241m.\u001b[39mon_search_end()\n",
      "File \u001b[1;32mc:\\Users\\acer\\AppData\\Local\\Programs\\Python\\Python311\\Lib\\site-packages\\keras_tuner\\src\\engine\\base_tuner.py:339\u001b[0m, in \u001b[0;36mBaseTuner.on_trial_end\u001b[1;34m(self, trial)\u001b[0m\n\u001b[0;32m    333\u001b[0m \u001b[38;5;28;01mdef\u001b[39;00m \u001b[38;5;21mon_trial_end\u001b[39m(\u001b[38;5;28mself\u001b[39m, trial):\n\u001b[0;32m    334\u001b[0m     \u001b[38;5;124;03m\"\"\"Called at the end of a trial.\u001b[39;00m\n\u001b[0;32m    335\u001b[0m \n\u001b[0;32m    336\u001b[0m \u001b[38;5;124;03m    Args:\u001b[39;00m\n\u001b[0;32m    337\u001b[0m \u001b[38;5;124;03m        trial: A `Trial` instance.\u001b[39;00m\n\u001b[0;32m    338\u001b[0m \u001b[38;5;124;03m    \"\"\"\u001b[39;00m\n\u001b[1;32m--> 339\u001b[0m     \u001b[38;5;28;43mself\u001b[39;49m\u001b[38;5;241;43m.\u001b[39;49m\u001b[43moracle\u001b[49m\u001b[38;5;241;43m.\u001b[39;49m\u001b[43mend_trial\u001b[49m\u001b[43m(\u001b[49m\u001b[43mtrial\u001b[49m\u001b[43m)\u001b[49m\n\u001b[0;32m    340\u001b[0m     \u001b[38;5;28mself\u001b[39m\u001b[38;5;241m.\u001b[39msave()\n",
      "File \u001b[1;32mc:\\Users\\acer\\AppData\\Local\\Programs\\Python\\Python311\\Lib\\site-packages\\keras_tuner\\src\\engine\\oracle.py:108\u001b[0m, in \u001b[0;36msynchronized.<locals>.wrapped_func\u001b[1;34m(*args, **kwargs)\u001b[0m\n\u001b[0;32m    106\u001b[0m     LOCKS[oracle]\u001b[38;5;241m.\u001b[39macquire()\n\u001b[0;32m    107\u001b[0m     THREADS[oracle] \u001b[38;5;241m=\u001b[39m thread_name\n\u001b[1;32m--> 108\u001b[0m ret_val \u001b[38;5;241m=\u001b[39m \u001b[43mfunc\u001b[49m\u001b[43m(\u001b[49m\u001b[38;5;241;43m*\u001b[39;49m\u001b[43margs\u001b[49m\u001b[43m,\u001b[49m\u001b[43m \u001b[49m\u001b[38;5;241;43m*\u001b[39;49m\u001b[38;5;241;43m*\u001b[39;49m\u001b[43mkwargs\u001b[49m\u001b[43m)\u001b[49m\n\u001b[0;32m    109\u001b[0m \u001b[38;5;28;01mif\u001b[39;00m need_acquire:\n\u001b[0;32m    110\u001b[0m     THREADS[oracle] \u001b[38;5;241m=\u001b[39m \u001b[38;5;28;01mNone\u001b[39;00m\n",
      "File \u001b[1;32mc:\\Users\\acer\\AppData\\Local\\Programs\\Python\\Python311\\Lib\\site-packages\\keras_tuner\\src\\engine\\oracle.py:588\u001b[0m, in \u001b[0;36mOracle.end_trial\u001b[1;34m(self, trial)\u001b[0m\n\u001b[0;32m    586\u001b[0m \u001b[38;5;28;01mif\u001b[39;00m \u001b[38;5;129;01mnot\u001b[39;00m \u001b[38;5;28mself\u001b[39m\u001b[38;5;241m.\u001b[39m_retry(trial):\n\u001b[0;32m    587\u001b[0m     \u001b[38;5;28mself\u001b[39m\u001b[38;5;241m.\u001b[39mend_order\u001b[38;5;241m.\u001b[39mappend(trial\u001b[38;5;241m.\u001b[39mtrial_id)\n\u001b[1;32m--> 588\u001b[0m     \u001b[38;5;28;43mself\u001b[39;49m\u001b[38;5;241;43m.\u001b[39;49m\u001b[43m_check_consecutive_failures\u001b[49m\u001b[43m(\u001b[49m\u001b[43m)\u001b[49m\n\u001b[0;32m    590\u001b[0m \u001b[38;5;28mself\u001b[39m\u001b[38;5;241m.\u001b[39m_save_trial(trial)\n\u001b[0;32m    591\u001b[0m \u001b[38;5;28mself\u001b[39m\u001b[38;5;241m.\u001b[39msave()\n",
      "File \u001b[1;32mc:\\Users\\acer\\AppData\\Local\\Programs\\Python\\Python311\\Lib\\site-packages\\keras_tuner\\src\\engine\\oracle.py:545\u001b[0m, in \u001b[0;36mOracle._check_consecutive_failures\u001b[1;34m(self)\u001b[0m\n\u001b[0;32m    543\u001b[0m     consecutive_failures \u001b[38;5;241m=\u001b[39m \u001b[38;5;241m0\u001b[39m\n\u001b[0;32m    544\u001b[0m \u001b[38;5;28;01mif\u001b[39;00m consecutive_failures \u001b[38;5;241m==\u001b[39m \u001b[38;5;28mself\u001b[39m\u001b[38;5;241m.\u001b[39mmax_consecutive_failed_trials:\n\u001b[1;32m--> 545\u001b[0m     \u001b[38;5;28;01mraise\u001b[39;00m \u001b[38;5;167;01mRuntimeError\u001b[39;00m(\n\u001b[0;32m    546\u001b[0m         \u001b[38;5;124m\"\u001b[39m\u001b[38;5;124mNumber of consecutive failures exceeded the limit \u001b[39m\u001b[38;5;124m\"\u001b[39m\n\u001b[0;32m    547\u001b[0m         \u001b[38;5;124mf\u001b[39m\u001b[38;5;124m\"\u001b[39m\u001b[38;5;124mof \u001b[39m\u001b[38;5;132;01m{\u001b[39;00m\u001b[38;5;28mself\u001b[39m\u001b[38;5;241m.\u001b[39mmax_consecutive_failed_trials\u001b[38;5;132;01m}\u001b[39;00m\u001b[38;5;124m.\u001b[39m\u001b[38;5;130;01m\\n\u001b[39;00m\u001b[38;5;124m\"\u001b[39m\n\u001b[0;32m    548\u001b[0m         \u001b[38;5;241m+\u001b[39m (trial\u001b[38;5;241m.\u001b[39mmessage \u001b[38;5;129;01mor\u001b[39;00m \u001b[38;5;124m\"\u001b[39m\u001b[38;5;124m\"\u001b[39m)\n\u001b[0;32m    549\u001b[0m     )\n",
      "\u001b[1;31mRuntimeError\u001b[0m: Number of consecutive failures exceeded the limit of 3.\nTraceback (most recent call last):\n  File \"c:\\Users\\acer\\AppData\\Local\\Programs\\Python\\Python311\\Lib\\site-packages\\keras_tuner\\src\\engine\\base_tuner.py\", line 274, in _try_run_and_update_trial\n    self._run_and_update_trial(trial, *fit_args, **fit_kwargs)\n  File \"c:\\Users\\acer\\AppData\\Local\\Programs\\Python\\Python311\\Lib\\site-packages\\keras_tuner\\src\\engine\\base_tuner.py\", line 239, in _run_and_update_trial\n    results = self.run_trial(trial, *fit_args, **fit_kwargs)\n              ^^^^^^^^^^^^^^^^^^^^^^^^^^^^^^^^^^^^^^^^^^^^^^\n  File \"c:\\Users\\acer\\AppData\\Local\\Programs\\Python\\Python311\\Lib\\site-packages\\keras_tuner\\src\\engine\\tuner.py\", line 314, in run_trial\n    obj_value = self._build_and_fit_model(trial, *args, **copied_kwargs)\n                ^^^^^^^^^^^^^^^^^^^^^^^^^^^^^^^^^^^^^^^^^^^^^^^^^^^^^^^^\n  File \"c:\\Users\\acer\\AppData\\Local\\Programs\\Python\\Python311\\Lib\\site-packages\\keras_tuner\\src\\engine\\tuner.py\", line 232, in _build_and_fit_model\n    model = self._try_build(hp)\n            ^^^^^^^^^^^^^^^^^^^\n  File \"c:\\Users\\acer\\AppData\\Local\\Programs\\Python\\Python311\\Lib\\site-packages\\keras_tuner\\src\\engine\\tuner.py\", line 164, in _try_build\n    model = self._build_hypermodel(hp)\n            ^^^^^^^^^^^^^^^^^^^^^^^^^^\n  File \"c:\\Users\\acer\\AppData\\Local\\Programs\\Python\\Python311\\Lib\\site-packages\\keras_tuner\\src\\engine\\tuner.py\", line 155, in _build_hypermodel\n    model = self.hypermodel.build(hp)\n            ^^^^^^^^^^^^^^^^^^^^^^^^^\n  File \"C:\\Users\\acer\\AppData\\Local\\Temp\\ipykernel_19332\\86315134.py\", line 10, in build_model\n    optimizer = hp.Choice('optimizer', values=[AdamW(learning_rate=0.002), 'adam', 'rmsprop'])\n                ^^^^^^^^^^^^^^^^^^^^^^^^^^^^^^^^^^^^^^^^^^^^^^^^^^^^^^^^^^^^^^^^^^^^^^^^^^^^^^\n  File \"c:\\Users\\acer\\AppData\\Local\\Programs\\Python\\Python311\\Lib\\site-packages\\keras_tuner\\src\\engine\\hyperparameters\\hyperparameters.py\", line 293, in Choice\n    hp = hp_types.Choice(\n         ^^^^^^^^^^^^^^^^\n  File \"c:\\Users\\acer\\AppData\\Local\\Programs\\Python\\Python311\\Lib\\site-packages\\keras_tuner\\src\\engine\\hyperparameters\\hp_types\\choice_hp.py\", line 50, in __init__\n    raise TypeError(\nTypeError: A `Choice` can contain only one type of value, found values: [<keras.src.optimizers.adamw.AdamW object at 0x00000265E0F654D0>, 'adam', 'rmsprop'] with types {<class 'keras.src.optimizers.adamw.AdamW'>, <class 'str'>}.\n"
     ]
    }
   ],
   "source": [
    "# Define a function for model building with hyperparameters\n",
    "def build_model(hp):\n",
    "    input_dim = vocab_size\n",
    "    output_dim = 300\n",
    "    units = hp.Choice('units', values=[64, 128, 256])\n",
    "    recurrent_dropout = hp.Choice('recurrent_dropout', values=[0.1, 0.2, 0.01, 0.05])\n",
    "    optimizer = hp.Choice('optimizer', values=[AdamW(learning_rate=0.002,weight_decay=0.002),Adam(learning_rate=0.001),RMSprop(),SGD()])\n",
    "\n",
    "    input_layer = Input(shape=(max_len,))\n",
    "    embed_layer = Embedding(input_dim=input_dim, output_dim=output_dim, input_length=max_len, weights=[weights], trainable=False)(input_layer)\n",
    "    bilstm_layer = Bidirectional(LSTM(units=units, return_sequences=True, recurrent_dropout=recurrent_dropout))(embed_layer)\n",
    "    time_distributed_layer = TimeDistributed(Dense(Y_train.shape[2], activation='relu'))(bilstm_layer)\n",
    "\n",
    "    crf = CRF(Y_train.shape[2])\n",
    "    predicted_sequence, potentials, sequence_length, crf_kernel = crf(time_distributed_layer)\n",
    "\n",
    "    model = Model(input_layer, potentials)\n",
    "\n",
    "    model.compile(\n",
    "        optimizer=optimizer,\n",
    "        loss=SigmoidFocalCrossEntropy(),\n",
    "        metrics=['accuracy']\n",
    "    )\n",
    "\n",
    "    return model\n",
    "\n",
    "# Define the tuner\n",
    "tuner = RandomSearch(\n",
    "    build_model,\n",
    "    objective='val_loss',\n",
    "    max_trials=5,  # adjust based on resources available\n",
    "    executions_per_trial=1,\n",
    "    directory='tuner_directory',\n",
    "    project_name='bilstm_tuner'\n",
    ")\n",
    "\n",
    "# Search for the best hyperparameters\n",
    "tuner.search(X_train, Y_train, epochs=20, validation_split=0.2, verbose=3)\n",
    "\n",
    "# Get the best hyperparameters\n",
    "best_hps = tuner.oracle.get_best_trials(num_trials=1)[0].hyperparameters.values\n",
    "print(\"Best Hyperparameters:\")\n",
    "print(best_hps)\n"
   ]
  },
  {
   "cell_type": "code",
   "execution_count": null,
   "metadata": {},
   "outputs": [],
   "source": [
    "\n",
    "# BiLSTM_model = Build_bilstm(max_len,vocab_size,weights,Y_train.shape[2],units,recurrent_dropout,optimizer)\n"
   ]
  }
 ],
 "metadata": {
  "kernelspec": {
   "display_name": "Python 3",
   "language": "python",
   "name": "python3"
  },
  "language_info": {
   "codemirror_mode": {
    "name": "ipython",
    "version": 3
   },
   "file_extension": ".py",
   "mimetype": "text/x-python",
   "name": "python",
   "nbconvert_exporter": "python",
   "pygments_lexer": "ipython3",
   "version": "3.11.4"
  }
 },
 "nbformat": 4,
 "nbformat_minor": 2
}
