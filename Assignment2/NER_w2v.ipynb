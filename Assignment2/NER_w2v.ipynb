{
 "cells": [
  {
   "cell_type": "code",
   "execution_count": 1,
   "metadata": {},
   "outputs": [
    {
     "name": "stdout",
     "output_type": "stream",
     "text": [
      "WARNING:tensorflow:From c:\\Users\\acer\\AppData\\Local\\Programs\\Python\\Python311\\Lib\\site-packages\\keras\\src\\losses.py:2976: The name tf.losses.sparse_softmax_cross_entropy is deprecated. Please use tf.compat.v1.losses.sparse_softmax_cross_entropy instead.\n",
      "\n"
     ]
    },
    {
     "name": "stderr",
     "output_type": "stream",
     "text": [
      "c:\\Users\\acer\\AppData\\Local\\Programs\\Python\\Python311\\Lib\\site-packages\\tensorflow_addons\\utils\\tfa_eol_msg.py:23: UserWarning: \n",
      "\n",
      "TensorFlow Addons (TFA) has ended development and introduction of new features.\n",
      "TFA has entered a minimal maintenance and release mode until a planned end of life in May 2024.\n",
      "Please modify downstream libraries to take dependencies from other repositories in our TensorFlow community (e.g. Keras, Keras-CV, and Keras-NLP). \n",
      "\n",
      "For more information see: https://github.com/tensorflow/addons/issues/2807 \n",
      "\n",
      "  warnings.warn(\n",
      "c:\\Users\\acer\\AppData\\Local\\Programs\\Python\\Python311\\Lib\\site-packages\\tensorflow_addons\\utils\\ensure_tf_install.py:53: UserWarning: Tensorflow Addons supports using Python ops for all Tensorflow versions above or equal to 2.12.0 and strictly below 2.15.0 (nightly versions are not supported). \n",
      " The versions of TensorFlow you are currently using is 2.15.0 and is not supported. \n",
      "Some things might work, some things might not.\n",
      "If you were to encounter a bug, do not file an issue.\n",
      "If you want to make sure you're using a tested and supported configuration, either change the TensorFlow version or the TensorFlow Addons's version. \n",
      "You can find the compatibility matrix in TensorFlow Addon's readme:\n",
      "https://github.com/tensorflow/addons\n",
      "  warnings.warn(\n"
     ]
    }
   ],
   "source": [
    "from IMPORTS import *"
   ]
  },
  {
   "cell_type": "code",
   "execution_count": 2,
   "metadata": {},
   "outputs": [],
   "source": [
    "Embedding_name=\"word2vec\"\n",
    "Dataset=\"NER\""
   ]
  },
  {
   "cell_type": "code",
   "execution_count": 3,
   "metadata": {},
   "outputs": [],
   "source": [
    "seed_value = 18\n",
    "np.random.seed(seed_value)\n",
    "tf.random.set_seed(seed_value)"
   ]
  },
  {
   "cell_type": "code",
   "execution_count": 4,
   "metadata": {},
   "outputs": [],
   "source": [
    "word2vec = KeyedVectors.load_word2vec_format('WordEmbeddings/Word2Vec.bin',binary=True)"
   ]
  },
  {
   "cell_type": "markdown",
   "metadata": {},
   "source": [
    "# Data Extraction and Preprocessing"
   ]
  },
  {
   "cell_type": "markdown",
   "metadata": {},
   "source": [
    "Reading ATE json files"
   ]
  },
  {
   "cell_type": "code",
   "execution_count": 5,
   "metadata": {},
   "outputs": [],
   "source": [
    "train = None\n",
    "test = None\n",
    "val = None\n",
    "with open(f\"Data\\processed\\{Dataset}_train.json\") as f1:\n",
    "    train = json.load(f1)\n",
    "\n",
    "with open(f\"Data\\processed\\{Dataset}_test.json\") as f2:\n",
    "    test = json.load(f2)\n",
    "\n",
    "with open(f\"Data\\processed\\{Dataset}_val.json\") as f3:\n",
    "    val = json.load(f3)\n",
    "\n"
   ]
  },
  {
   "cell_type": "markdown",
   "metadata": {},
   "source": [
    "processing into lists"
   ]
  },
  {
   "cell_type": "code",
   "execution_count": 6,
   "metadata": {},
   "outputs": [],
   "source": [
    "X_train,Y_train = create_train_test_val(train)\n",
    "X_test,Y_test = create_train_test_val(test)\n",
    "X_val,Y_val = create_train_test_val(val)"
   ]
  },
  {
   "cell_type": "markdown",
   "metadata": {},
   "source": [
    "Tokenizing the ATE Dataset"
   ]
  },
  {
   "cell_type": "code",
   "execution_count": 7,
   "metadata": {},
   "outputs": [],
   "source": [
    "X_train_tokenized, toke = TokenCreator(X_train,1)\n",
    "X_test_tokenized = TokenCreator(X_test,0,tokenizer = toke)\n",
    "X_val_tokenized = TokenCreator(X_val,0,tokenizer = toke)\n",
    "\n",
    "Y_train_tokenized,toke2 = TokenCreator(Y_train,0)\n",
    "Y_test_tokenized = TokenCreator(Y_test,0,tokenizer = toke2)\n",
    "Y_val_tokenized = TokenCreator(Y_val,0,tokenizer = toke2)"
   ]
  },
  {
   "cell_type": "markdown",
   "metadata": {},
   "source": [
    "Vocabulary of ATE"
   ]
  },
  {
   "cell_type": "code",
   "execution_count": 8,
   "metadata": {},
   "outputs": [
    {
     "data": {
      "text/plain": [
       "30220"
      ]
     },
     "execution_count": 8,
     "metadata": {},
     "output_type": "execute_result"
    }
   ],
   "source": [
    "st1 = find_vocab(X_train_tokenized)\n",
    "vocab_size  = len(st1) + 1 \n",
    "vocab_size"
   ]
  },
  {
   "cell_type": "code",
   "execution_count": 9,
   "metadata": {},
   "outputs": [
    {
     "data": {
      "text/plain": [
       "70"
      ]
     },
     "execution_count": 9,
     "metadata": {},
     "output_type": "execute_result"
    }
   ],
   "source": [
    "max_len=0\n",
    "\n",
    "for i in X_train_tokenized:\n",
    "    max_len = max(max_len,len(i))\n",
    "\n",
    "max_len"
   ]
  },
  {
   "cell_type": "markdown",
   "metadata": {},
   "source": [
    "Padding ATE"
   ]
  },
  {
   "cell_type": "code",
   "execution_count": 10,
   "metadata": {},
   "outputs": [],
   "source": [
    "X_padded_train = pad_sequences(X_train_tokenized, maxlen=max_len, padding=\"pre\", truncating=\"post\")\n",
    "Y_padded_train = pad_sequences(Y_train_tokenized, maxlen=max_len, padding=\"pre\", truncating=\"post\")\n",
    "\n",
    "X_padded_test = pad_sequences(X_test_tokenized, maxlen=max_len, padding=\"pre\", truncating=\"post\")\n",
    "Y_padded_test = pad_sequences(Y_test_tokenized, maxlen=max_len, padding=\"pre\", truncating=\"post\")\n",
    "\n",
    "X_padded_val = pad_sequences(X_val_tokenized, maxlen=max_len, padding=\"pre\", truncating=\"post\")\n",
    "Y_padded_val = pad_sequences(Y_val_tokenized, maxlen=max_len, padding=\"pre\", truncating=\"post\")       "
   ]
  },
  {
   "cell_type": "markdown",
   "metadata": {},
   "source": [
    "One hot encoding the ATE labels"
   ]
  },
  {
   "cell_type": "code",
   "execution_count": 11,
   "metadata": {},
   "outputs": [],
   "source": [
    "Y_padded_train = to_categorical(Y_padded_train)\n",
    "Y_padded_test = to_categorical(Y_padded_test)\n",
    "Y_padded_val = to_categorical(Y_padded_val)"
   ]
  },
  {
   "cell_type": "markdown",
   "metadata": {},
   "source": [
    "Assigning **ATE Word2Vec** mapping"
   ]
  },
  {
   "cell_type": "code",
   "execution_count": 12,
   "metadata": {},
   "outputs": [
    {
     "data": {
      "text/plain": [
       "{'#UK': 1,\n",
       " 'the': 2,\n",
       " 'of': 3,\n",
       " 'in': 4,\n",
       " 'to': 5,\n",
       " 'and': 6,\n",
       " 'that': 7,\n",
       " 'a': 8,\n",
       " 'was': 9,\n",
       " 'is': 10,\n",
       " 'by': 11,\n",
       " 'on': 12,\n",
       " 'as': 13,\n",
       " 'for': 14,\n",
       " 'be': 15,\n",
       " 'it': 16,\n",
       " 'court': 17,\n",
       " 'not': 18,\n",
       " 'has': 19,\n",
       " 'under': 20,\n",
       " 'this': 21,\n",
       " 'section': 22,\n",
       " 'which': 23,\n",
       " 'with': 24,\n",
       " 'or': 25,\n",
       " 'at': 26,\n",
       " 'he': 27,\n",
       " 'case': 28,\n",
       " 'no.': 29,\n",
       " 'from': 30,\n",
       " 'been': 31,\n",
       " 'his': 32,\n",
       " 'an': 33,\n",
       " 'had': 34,\n",
       " 'are': 35,\n",
       " 'were': 36,\n",
       " 'v.': 37,\n",
       " 'state': 38,\n",
       " 'also': 39,\n",
       " 'have': 40,\n",
       " 'act': 41,\n",
       " 'order': 42,\n",
       " 'any': 43,\n",
       " 'no': 44,\n",
       " 'high': 45,\n",
       " 'accused': 46,\n",
       " 'learned': 47,\n",
       " 'said': 48,\n",
       " 'there': 49,\n",
       " 'dated': 50,\n",
       " 'supreme': 51,\n",
       " 'made': 52,\n",
       " 'would': 53,\n",
       " 'before': 54,\n",
       " 'singh': 55,\n",
       " 'held': 56,\n",
       " 'who': 57,\n",
       " 'such': 58,\n",
       " 'against': 59,\n",
       " 'other': 60,\n",
       " 'but': 61,\n",
       " 'their': 62,\n",
       " 'one': 63,\n",
       " 'if': 64,\n",
       " 'respondent': 65,\n",
       " 'filed': 66,\n",
       " 'appeal': 67,\n",
       " 'appellant': 68,\n",
       " 'evidence': 69,\n",
       " '&': 70,\n",
       " 'all': 71,\n",
       " 'only': 72,\n",
       " 'decision': 73,\n",
       " 'after': 74,\n",
       " 'we': 75,\n",
       " 'they': 76,\n",
       " 'petitioner': 77,\n",
       " 'government': 78,\n",
       " 'may': 79,\n",
       " 'judgment': 80,\n",
       " 'act,': 81,\n",
       " 'its': 82,\n",
       " 'when': 83,\n",
       " 'counsel': 84,\n",
       " 'view': 85,\n",
       " 'same': 86,\n",
       " 'application': 87,\n",
       " 'india': 88,\n",
       " 'out': 89,\n",
       " 'can': 90,\n",
       " 'further': 91,\n",
       " 'petition': 92,\n",
       " 'whether': 93,\n",
       " 'two': 94,\n",
       " 'bench': 95,\n",
       " 'stated': 96,\n",
       " 'provisions': 97,\n",
       " 'question': 98,\n",
       " 'her': 99,\n",
       " 'law': 100,\n",
       " 'cannot': 101,\n",
       " 'vs.': 102,\n",
       " 'therefore,': 103,\n",
       " 'civil': 104,\n",
       " 'first': 105,\n",
       " 'article': 106,\n",
       " 'police': 107,\n",
       " 'should': 108,\n",
       " 'mr.': 109,\n",
       " '1': 110,\n",
       " 'suit': 111,\n",
       " 'could': 112,\n",
       " 'upon': 113,\n",
       " 'will': 114,\n",
       " 'these': 115,\n",
       " 'taken': 116,\n",
       " 'so': 117,\n",
       " 'passed': 118,\n",
       " 'writ': 119,\n",
       " 'rule': 120,\n",
       " 'about': 121,\n",
       " 'where': 122,\n",
       " 'referred': 123,\n",
       " 'judge': 124,\n",
       " 'being': 125,\n",
       " 'him': 126,\n",
       " 'given': 127,\n",
       " 'even': 128,\n",
       " 'i': 129,\n",
       " 'kumar': 130,\n",
       " 'into': 131,\n",
       " 'right': 132,\n",
       " 'p.': 133,\n",
       " 'present': 134,\n",
       " 'per': 135,\n",
       " 'ltd.': 136,\n",
       " 'rs.': 137,\n",
       " 'act.': 138,\n",
       " '2': 139,\n",
       " ':': 140,\n",
       " 'air': 141,\n",
       " 'time': 142,\n",
       " 'criminal': 143,\n",
       " \"hon'ble\": 144,\n",
       " 'constitution': 145,\n",
       " 'j.': 146,\n",
       " 'delhi': 147,\n",
       " 'defendant': 148,\n",
       " 'issued': 149,\n",
       " 'matter': 150,\n",
       " 'shall': 151,\n",
       " 'must': 152,\n",
       " 'did': 153,\n",
       " 'plaintiff': 154,\n",
       " 'respect': 155,\n",
       " 'she': 156,\n",
       " 'statement': 157,\n",
       " 'submitted': 158,\n",
       " 'company': 159,\n",
       " '3': 160,\n",
       " 'case,': 161,\n",
       " 'special': 162,\n",
       " 'property': 163,\n",
       " 's.': 164,\n",
       " 'then': 165,\n",
       " 'shri': 166,\n",
       " 'power': 167,\n",
       " 'between': 168,\n",
       " 'does': 169,\n",
       " 'while': 170,\n",
       " 'notice': 171,\n",
       " 'tribunal': 172,\n",
       " 'within': 173,\n",
       " 'above': 174,\n",
       " 'date': 175,\n",
       " 'trial': 176,\n",
       " 'person': 177,\n",
       " 'public': 178,\n",
       " 'facts': 179,\n",
       " 'offence': 180,\n",
       " 'sc': 181,\n",
       " 'scc': 182,\n",
       " 'court,': 183,\n",
       " 'having': 184,\n",
       " 'however,': 185,\n",
       " 'deceased': 186,\n",
       " 'tax': 187,\n",
       " 'division': 188,\n",
       " 'house': 189,\n",
       " 'land': 190,\n",
       " 'them': 191,\n",
       " 'petitioners': 192,\n",
       " 'district': 193,\n",
       " 'new': 194,\n",
       " '(1)': 195,\n",
       " 'code': 196,\n",
       " 'apex': 197,\n",
       " 'relied': 198,\n",
       " 'general': 199,\n",
       " 'persons': 200,\n",
       " 'down': 201,\n",
       " 'officer': 202,\n",
       " 'observed': 203,\n",
       " 'found': 204,\n",
       " 'justice': 205,\n",
       " 'court.': 206,\n",
       " 'union': 207,\n",
       " 'both': 208,\n",
       " '4': 209,\n",
       " 'examined': 210,\n",
       " 'central': 211,\n",
       " 'without': 212,\n",
       " 'what': 213,\n",
       " 'some': 214,\n",
       " 'reference': 215,\n",
       " 'though': 216,\n",
       " 'came': 217,\n",
       " 'sections': 218,\n",
       " 'indian': 219,\n",
       " 'cases': 220,\n",
       " 'another': 221,\n",
       " 'jurisdiction': 222,\n",
       " 'page': 223,\n",
       " 'basis': 224,\n",
       " 'claim': 225,\n",
       " 'amount': 226,\n",
       " 'report': 227,\n",
       " 'effect': 228,\n",
       " 'up': 229,\n",
       " 'part': 230,\n",
       " 'possession': 231,\n",
       " 'witness': 232,\n",
       " 'following': 233,\n",
       " '5': 234,\n",
       " '-': 235,\n",
       " 'assessee': 236,\n",
       " 'since': 237,\n",
       " 'year': 238,\n",
       " 'prosecution': 239,\n",
       " 'fact': 240,\n",
       " 'authority': 241,\n",
       " 'bank': 242,\n",
       " 'considered': 243,\n",
       " 'complainant': 244,\n",
       " 'during': 245,\n",
       " 'behalf': 246,\n",
       " 'three': 247,\n",
       " '(2)': 248,\n",
       " 'service': 249,\n",
       " 'years': 250,\n",
       " 'income': 251,\n",
       " 'ram': 252,\n",
       " 'regard': 253,\n",
       " '6': 254,\n",
       " 'c.': 255,\n",
       " 'rules': 256,\n",
       " 'placed': 257,\n",
       " 'sale': 258,\n",
       " 'co.': 259,\n",
       " 'reported': 260,\n",
       " 'proceedings': 261,\n",
       " 'place': 262,\n",
       " 'aforesaid': 263,\n",
       " 'record': 264,\n",
       " 'because': 265,\n",
       " 'appellants': 266,\n",
       " 'do': 267,\n",
       " 'complaint': 268,\n",
       " 'registered': 269,\n",
       " 'necessary': 270,\n",
       " 'additional': 271,\n",
       " 'make': 272,\n",
       " 'well': 273,\n",
       " 'according': 274,\n",
       " 'respondents': 275,\n",
       " 'ground': 276,\n",
       " 'chief': 277,\n",
       " 'period': 278,\n",
       " 'through': 279,\n",
       " 'procedure': 280,\n",
       " 'those': 281,\n",
       " 'business': 282,\n",
       " 'more': 283,\n",
       " 'clause': 284,\n",
       " 'relevant': 285,\n",
       " '(supra)': 286,\n",
       " 'interest': 287,\n",
       " 'legal': 288,\n",
       " 'mentioned': 289,\n",
       " 'our': 290,\n",
       " 'favour': 291,\n",
       " 'take': 292,\n",
       " 'second': 293,\n",
       " 'read': 294,\n",
       " 'over': 295,\n",
       " 'far': 296,\n",
       " 'than': 297,\n",
       " 'others': 298,\n",
       " 'decided': 299,\n",
       " 'point': 300,\n",
       " 'witnesses': 301,\n",
       " 'set': 302,\n",
       " 'deposed': 303,\n",
       " 'singh,': 304,\n",
       " 'pw': 305,\n",
       " 'judicial': 306,\n",
       " 'ors.': 307,\n",
       " 'certain': 308,\n",
       " 'consideration': 309,\n",
       " 'now': 310,\n",
       " 'circumstances': 311,\n",
       " 'assessment': 312,\n",
       " 'issue': 313,\n",
       " 'laid': 314,\n",
       " 'terms': 315,\n",
       " 'letter': 316,\n",
       " 'p.w.': 317,\n",
       " 'support': 318,\n",
       " 'board': 319,\n",
       " 'received': 320,\n",
       " 'nos.': 321,\n",
       " 'account': 322,\n",
       " 'provision': 323,\n",
       " 'punjab': 324,\n",
       " 'earlier': 325,\n",
       " 'insurance': 326,\n",
       " 'ex.': 327,\n",
       " 'goods': 328,\n",
       " 'contention': 329,\n",
       " 'corporation': 330,\n",
       " 'notification': 331,\n",
       " 'commission': 332,\n",
       " '7': 333,\n",
       " 'bombay': 334,\n",
       " '8': 335,\n",
       " 'india,': 336,\n",
       " 'sessions': 337,\n",
       " 'took': 338,\n",
       " 'party': 339,\n",
       " 'r.': 340,\n",
       " 'vide': 341,\n",
       " 'purpose': 342,\n",
       " 'pradesh': 343,\n",
       " 'used': 344,\n",
       " 'already': 345,\n",
       " 'alleged': 346,\n",
       " 'recorded': 347,\n",
       " 'name': 348,\n",
       " 'compensation': 349,\n",
       " 'contended': 350,\n",
       " 'dr.': 351,\n",
       " '\"the': 352,\n",
       " 'parties': 353,\n",
       " 'clear': 354,\n",
       " 'commissioner': 355,\n",
       " 'show': 356,\n",
       " 'entitled': 357,\n",
       " 'us': 358,\n",
       " 'directed': 359,\n",
       " 'action': 360,\n",
       " 'courts': 361,\n",
       " 'different': 362,\n",
       " 'reliance': 363,\n",
       " 'no.1': 364,\n",
       " 'office': 365,\n",
       " 'admitted': 366,\n",
       " 'case.': 367,\n",
       " 'decisions': 368,\n",
       " 'agreement': 369,\n",
       " 'thus': 370,\n",
       " 'come': 371,\n",
       " 'due': 372,\n",
       " 'income-tax': 373,\n",
       " 'magistrate': 374,\n",
       " 'regarding': 375,\n",
       " 'transport': 376,\n",
       " 'w.': 377,\n",
       " 'granted': 378,\n",
       " 'decree': 379,\n",
       " '10': 380,\n",
       " 'sri': 381,\n",
       " 'k.': 382,\n",
       " 'my': 383,\n",
       " 'ipc': 384,\n",
       " 'motor': 385,\n",
       " 'file': 386,\n",
       " 'required': 387,\n",
       " 'vehicle': 388,\n",
       " 'orders': 389,\n",
       " 'charge': 390,\n",
       " 'paid': 391,\n",
       " 'very': 392,\n",
       " 'and,': 393,\n",
       " ',': 394,\n",
       " 'lal': 395,\n",
       " 'payment': 396,\n",
       " 'subject': 397,\n",
       " 'medical': 398,\n",
       " 'exercise': 399,\n",
       " 'allowed': 400,\n",
       " 'original': 401,\n",
       " 'impugned': 402,\n",
       " 'opinion': 403,\n",
       " 'pay': 404,\n",
       " 'investigation': 405,\n",
       " 'rights': 406,\n",
       " '.': 407,\n",
       " 'powers': 408,\n",
       " 'smt.': 409,\n",
       " 'contract': 410,\n",
       " 'appellate': 411,\n",
       " 'observations': 412,\n",
       " 'meaning': 413,\n",
       " 'a.': 414,\n",
       " 'appears': 415,\n",
       " 'owner': 416,\n",
       " '9': 417,\n",
       " 'way': 418,\n",
       " 'nature': 419,\n",
       " '14': 420,\n",
       " 'grant': 421,\n",
       " 'j.,': 422,\n",
       " 'reasonable': 423,\n",
       " 'brought': 424,\n",
       " '2.': 425,\n",
       " 'itself': 426,\n",
       " 'list': 427,\n",
       " 'duty': 428,\n",
       " 'death': 429,\n",
       " 'concerned': 430,\n",
       " 'taking': 431,\n",
       " 'available': 432,\n",
       " 'nor': 433,\n",
       " 'third': 434,\n",
       " '12': 435,\n",
       " 'copy': 436,\n",
       " 'legislature': 437,\n",
       " 'therefore': 438,\n",
       " 'either': 439,\n",
       " 'single': 440,\n",
       " 'cr.p.c.': 441,\n",
       " 'raised': 442,\n",
       " 'again': 443,\n",
       " 'full': 444,\n",
       " 'find': 445,\n",
       " 'judge,': 446,\n",
       " 'prasad': 447,\n",
       " 'consider': 448,\n",
       " 'words': 449,\n",
       " 'along': 450,\n",
       " 'sh.': 451,\n",
       " 'provided': 452,\n",
       " 'claimed': 453,\n",
       " 'him.': 454,\n",
       " 'itr': 455,\n",
       " 'documents': 456,\n",
       " 'material': 457,\n",
       " 'area': 458,\n",
       " 'fir': 459,\n",
       " 'examination': 460,\n",
       " 'station': 461,\n",
       " 'each': 462,\n",
       " 'village': 463,\n",
       " 'clearly': 464,\n",
       " 'similar': 465,\n",
       " 'holding': 466,\n",
       " 'transfer': 467,\n",
       " 'pointed': 468,\n",
       " 'document': 469,\n",
       " 'offences': 470,\n",
       " 'penal': 471,\n",
       " 'm.': 472,\n",
       " 'post': 473,\n",
       " 'india.': 474,\n",
       " 'n.': 475,\n",
       " 'election': 476,\n",
       " 'including': 477,\n",
       " '@': 478,\n",
       " 'liable': 479,\n",
       " 'sub-section': 480,\n",
       " 'written': 481,\n",
       " 'leave': 482,\n",
       " 'based': 483,\n",
       " 'information': 484,\n",
       " 'appeals': 485,\n",
       " 'own': 486,\n",
       " 'sent': 487,\n",
       " 'hold': 488,\n",
       " 'number': 489,\n",
       " 'reason': 490,\n",
       " 'industrial': 491,\n",
       " 'open': 492,\n",
       " 'sought': 493,\n",
       " 'course': 494,\n",
       " 'revenue': 495,\n",
       " 'force': 496,\n",
       " 'position': 497,\n",
       " 'liability': 498,\n",
       " 'back': 499,\n",
       " 'established': 500,\n",
       " 'para': 501,\n",
       " 'madras': 502,\n",
       " 'parliament': 503,\n",
       " 'cit': 504,\n",
       " 'true': 505,\n",
       " 'affidavit': 506,\n",
       " 'statutory': 507,\n",
       " 'considering': 508,\n",
       " 'entry': 509,\n",
       " '1st': 510,\n",
       " 'common': 511,\n",
       " 'award': 512,\n",
       " 'constitution.': 513,\n",
       " 'dismissed': 514,\n",
       " 'dispute': 515,\n",
       " 'son': 516,\n",
       " 'articles': 517,\n",
       " 'applicable': 518,\n",
       " 'give': 519,\n",
       " 'petitions': 520,\n",
       " 'advocate': 521,\n",
       " 'went': 522,\n",
       " 'services': 523,\n",
       " 'proved': 524,\n",
       " 'cause': 525,\n",
       " 'produced': 526,\n",
       " '1,': 527,\n",
       " 'defendants': 528,\n",
       " 'principles': 529,\n",
       " 'kerala': 530,\n",
       " 'various': 531,\n",
       " 'reasons': 532,\n",
       " 'punishable': 533,\n",
       " 'merely': 534,\n",
       " 'that,': 535,\n",
       " 'wife': 536,\n",
       " 'result': 537,\n",
       " 'working': 538,\n",
       " 'b.': 539,\n",
       " 'rajasthan': 540,\n",
       " 'm/s': 541,\n",
       " 'body': 542,\n",
       " 'contained': 543,\n",
       " 'prior': 544,\n",
       " 'scheme': 545,\n",
       " 'appearing': 546,\n",
       " '15': 547,\n",
       " 'vehicles': 548,\n",
       " 'father': 549,\n",
       " '11': 550,\n",
       " 'loss': 551,\n",
       " 'making': 552,\n",
       " 'ld.': 553,\n",
       " 'limited': 554,\n",
       " '(3)': 555,\n",
       " 'put': 556,\n",
       " '(b)': 557,\n",
       " 'conclusion': 558,\n",
       " 'concerned,': 559,\n",
       " 'member': 560,\n",
       " 'use': 561,\n",
       " 'amendment': 562,\n",
       " 'officer,': 563,\n",
       " 'wherein': 564,\n",
       " 'registration': 565,\n",
       " 'himself': 566,\n",
       " 'bearing': 567,\n",
       " 'haryana': 568,\n",
       " 'relating': 569,\n",
       " 'sufficient': 570,\n",
       " 'argued': 571,\n",
       " 'law.': 572,\n",
       " 'recovery': 573,\n",
       " 'accepted': 574,\n",
       " 'control': 575,\n",
       " 'trade': 576,\n",
       " 'premises': 577,\n",
       " 'left': 578,\n",
       " 'crime': 579,\n",
       " 'senior': 580,\n",
       " 'thus,': 581,\n",
       " 'injuries': 582,\n",
       " 'family': 583,\n",
       " 'committed': 584,\n",
       " 'principle': 585,\n",
       " 'done': 586,\n",
       " 'nothing': 587,\n",
       " 'form': 588,\n",
       " 'department': 589,\n",
       " '4.': 590,\n",
       " 'rent': 591,\n",
       " 'ltd.,': 592,\n",
       " '1.': 593,\n",
       " '34': 594,\n",
       " 'head': 595,\n",
       " 'noted': 596,\n",
       " '(air': 597,\n",
       " 'construction': 598,\n",
       " 'preferred': 599,\n",
       " 'certificate': 600,\n",
       " 'committee': 601,\n",
       " 'finding': 602,\n",
       " 'like': 603,\n",
       " 'private': 604,\n",
       " 'entered': 605,\n",
       " 'chand': 606,\n",
       " 'provides': 607,\n",
       " 'got': 608,\n",
       " 'sum': 609,\n",
       " 'particular': 610,\n",
       " 'proceeding': 611,\n",
       " 'argument': 612,\n",
       " 'last': 613,\n",
       " 'lord': 614,\n",
       " 'national': 615,\n",
       " 'settled': 616,\n",
       " 'valid': 617,\n",
       " 'assistant': 618,\n",
       " 'cheque': 619,\n",
       " 'members': 620,\n",
       " 'treated': 621,\n",
       " 'word': 622,\n",
       " 'light': 623,\n",
       " '226': 624,\n",
       " '(a)': 625,\n",
       " '\"': 626,\n",
       " 'towards': 627,\n",
       " 'statute': 628,\n",
       " 'obtained': 629,\n",
       " 'applicant': 630,\n",
       " 'magistrate,': 631,\n",
       " 'age': 632,\n",
       " 'm/s.': 633,\n",
       " 'council': 634,\n",
       " 'heard': 635,\n",
       " 'value': 636,\n",
       " 'connection': 637,\n",
       " 'appointed': 638,\n",
       " 'inspector': 639,\n",
       " 'denied': 640,\n",
       " 'outside': 641,\n",
       " 'drawn': 642,\n",
       " 'stage': 643,\n",
       " 'note': 644,\n",
       " 'follows:': 645,\n",
       " 'calcutta': 646,\n",
       " 'brother': 647,\n",
       " 'every': 648,\n",
       " 'see': 649,\n",
       " 'intention': 650,\n",
       " 'defence': 651,\n",
       " 'karnataka': 652,\n",
       " 'thereafter': 653,\n",
       " 'stand': 654,\n",
       " 'u/s': 655,\n",
       " 'near': 656,\n",
       " 'accident': 657,\n",
       " 'deed': 658,\n",
       " 'prove': 659,\n",
       " 'deputy': 660,\n",
       " 'followed': 661,\n",
       " '13': 662,\n",
       " 'context': 663,\n",
       " 'i.e.': 664,\n",
       " 'guilty': 665,\n",
       " 'called': 666,\n",
       " 'proviso': 667,\n",
       " 'lordships': 668,\n",
       " 'revision': 669,\n",
       " 'doubt': 670,\n",
       " 'sentence': 671,\n",
       " 'states': 672,\n",
       " 'mind': 673,\n",
       " 'appointment': 674,\n",
       " 'judges': 675,\n",
       " 'policy': 676,\n",
       " 'accused.': 677,\n",
       " 'road': 678,\n",
       " 'hearing': 679,\n",
       " 'tamil': 680,\n",
       " 'dealing': 681,\n",
       " 'go': 682,\n",
       " 'scope': 683,\n",
       " 'bail': 684,\n",
       " 'conditions': 685,\n",
       " 'proper': 686,\n",
       " '20': 687,\n",
       " 'west': 688,\n",
       " 'seeking': 689,\n",
       " '(c)': 690,\n",
       " 'filing': 691,\n",
       " 'them.': 692,\n",
       " 'relief': 693,\n",
       " 'legislative': 694,\n",
       " 'sales': 695,\n",
       " 'accordance': 696,\n",
       " 'so,': 697,\n",
       " 'etc.': 698,\n",
       " 'till': 699,\n",
       " 'need': 700,\n",
       " 'andhra': 701,\n",
       " 'aside': 702,\n",
       " 'code.': 703,\n",
       " 'competent': 704,\n",
       " 'fundamental': 705,\n",
       " 'day': 706,\n",
       " 'specific': 707,\n",
       " '16': 708,\n",
       " 'prepared': 709,\n",
       " 'under:': 710,\n",
       " 'authorities': 711,\n",
       " 'madhya': 712,\n",
       " 'executed': 713,\n",
       " 'hospital': 714,\n",
       " 'refer': 715,\n",
       " 'purposes': 716,\n",
       " 'decide': 717,\n",
       " 'raj': 718,\n",
       " 'matters': 719,\n",
       " 'seen': 720,\n",
       " 'sharma': 721,\n",
       " 'gujarat': 722,\n",
       " 'rules,': 723,\n",
       " 'ipc.': 724,\n",
       " 'excise': 725,\n",
       " '3.': 726,\n",
       " 'reached': 727,\n",
       " 'contrary': 728,\n",
       " 'rendered': 729,\n",
       " 'schedule': 730,\n",
       " 'firm': 731,\n",
       " 'devi': 732,\n",
       " 'limitation': 733,\n",
       " 'conviction': 734,\n",
       " 'covered': 735,\n",
       " 'validity': 736,\n",
       " 'acquisition': 737,\n",
       " 'chandra': 738,\n",
       " 'paragraph': 739,\n",
       " 'days': 740,\n",
       " 'work': 741,\n",
       " 'bihar': 742,\n",
       " 'thereafter,': 743,\n",
       " 'failed': 744,\n",
       " 'get': 745,\n",
       " 'appropriate': 746,\n",
       " 'review': 747,\n",
       " 'direction': 748,\n",
       " 'subsequent': 749,\n",
       " 'director': 750,\n",
       " 'namely': 751,\n",
       " 'how': 752,\n",
       " 'hand,': 753,\n",
       " 'delhi.': 754,\n",
       " 'is,': 755,\n",
       " 'purchase': 756,\n",
       " 'delay': 757,\n",
       " 'except': 758,\n",
       " 'entire': 759,\n",
       " 'say': 760,\n",
       " 'framed': 761,\n",
       " '2,': 762,\n",
       " 'absence': 763,\n",
       " 'art.': 764,\n",
       " 'applications': 765,\n",
       " 'unless': 766,\n",
       " 'husband': 767,\n",
       " 'hand': 768,\n",
       " 'pending': 769,\n",
       " '(4)': 770,\n",
       " 'supply': 771,\n",
       " '25': 772,\n",
       " 'gave': 773,\n",
       " 'claimant': 774,\n",
       " 'fixed': 775,\n",
       " 'cr.': 776,\n",
       " 'p.m.': 777,\n",
       " '(i)': 778,\n",
       " 'plaintiffs': 779,\n",
       " 'rate': 780,\n",
       " 'above,': 781,\n",
       " 'order,': 782,\n",
       " 'away': 783,\n",
       " 'personal': 784,\n",
       " 'declaration': 785,\n",
       " 'employees': 786,\n",
       " 'request': 787,\n",
       " 'presence': 788,\n",
       " 'coming': 789,\n",
       " '302': 790,\n",
       " 'prescribed': 791,\n",
       " 'driver': 792,\n",
       " 'permit': 793,\n",
       " 'condition': 794,\n",
       " 'still': 795,\n",
       " '(supra),': 796,\n",
       " 'opinion,': 797,\n",
       " 'submission': 798,\n",
       " 'interim': 799,\n",
       " 'april': 800,\n",
       " 'challenged': 801,\n",
       " 'nadu': 802,\n",
       " 'total': 803,\n",
       " 'convicted': 804,\n",
       " 'cbi': 805,\n",
       " 'amended': 806,\n",
       " 'expression': 807,\n",
       " 'conduct': 808,\n",
       " 'giving': 809,\n",
       " 'term': 810,\n",
       " 'no.2': 811,\n",
       " 'president': 812,\n",
       " 'enquiry': 813,\n",
       " 'beyond': 814,\n",
       " 'namely,': 815,\n",
       " '17': 816,\n",
       " 'shows': 817,\n",
       " 'lease': 818,\n",
       " 'whom': 819,\n",
       " '2008': 820,\n",
       " 'interpretation': 821,\n",
       " 'caused': 822,\n",
       " 'next': 823,\n",
       " 'benefit': 824,\n",
       " 'extent': 825,\n",
       " 'neither': 826,\n",
       " 'whole': 827,\n",
       " 'applied': 828,\n",
       " 'shown': 829,\n",
       " 'pvt.': 830,\n",
       " 'once': 831,\n",
       " '18': 832,\n",
       " 'cited': 833,\n",
       " 'december': 834,\n",
       " '2007': 835,\n",
       " 'g.': 836,\n",
       " 'investigating': 837,\n",
       " 'am': 838,\n",
       " 'officers': 839,\n",
       " '3,': 840,\n",
       " 'urged': 841,\n",
       " 'rao': 842,\n",
       " 'main': 843,\n",
       " 'bar': 844,\n",
       " 'means': 845,\n",
       " '2nd': 846,\n",
       " 'declared': 847,\n",
       " 'bengal': 848,\n",
       " 'provide': 849,\n",
       " 'allegations': 850,\n",
       " 'viz.,': 851,\n",
       " '19': 852,\n",
       " 'execution': 853,\n",
       " 'regards': 854,\n",
       " 'constituted': 855,\n",
       " ':-': 856,\n",
       " 'mills': 857,\n",
       " 'v': 858,\n",
       " 'it.': 859,\n",
       " '(hereinafter': 860,\n",
       " 'circumstances,': 861,\n",
       " '(ii)': 862,\n",
       " 'awarded': 863,\n",
       " 'patna': 864,\n",
       " 'secretary': 865,\n",
       " 'nath': 866,\n",
       " 'anr.': 867,\n",
       " 'instant': 868,\n",
       " 'development': 869,\n",
       " 'manner': 870,\n",
       " 'him,': 871,\n",
       " 'o.': 872,\n",
       " 'several': 873,\n",
       " 'charges': 874,\n",
       " 'railway': 875,\n",
       " 'asked': 876,\n",
       " 'properties': 877,\n",
       " 'hospital,': 878,\n",
       " 'become': 879,\n",
       " 'carried': 880,\n",
       " 'licence': 881,\n",
       " 'five': 882,\n",
       " 'pleaded': 883,\n",
       " 'kumar,': 884,\n",
       " 'finance': 885,\n",
       " 'gone': 886,\n",
       " 'minimum': 887,\n",
       " 'important': 888,\n",
       " 'murder': 889,\n",
       " 'municipal': 890,\n",
       " 'life': 891,\n",
       " 'definition': 892,\n",
       " 'issues': 893,\n",
       " 'bus': 894,\n",
       " 'side': 895,\n",
       " 'receipt': 896,\n",
       " 'university': 897,\n",
       " 'whose': 898,\n",
       " 'four': 899,\n",
       " 'separate': 900,\n",
       " 'apply': 901,\n",
       " '2009': 902,\n",
       " 'price': 903,\n",
       " 'appeared': 904,\n",
       " 'object': 905,\n",
       " 'conferred': 906,\n",
       " '22': 907,\n",
       " 'told': 908,\n",
       " 'going': 909,\n",
       " 'labour': 910,\n",
       " 'mere': 911,\n",
       " 'collector': 912,\n",
       " 'society': 913,\n",
       " 'judgments': 914,\n",
       " 'expressed': 915,\n",
       " 'evidence,': 916,\n",
       " 'informed': 917,\n",
       " 'appear': 918,\n",
       " 'dead': 919,\n",
       " '21': 920,\n",
       " 'specified': 921,\n",
       " 'here': 922,\n",
       " 'english': 923,\n",
       " '50': 924,\n",
       " 'enacted': 925,\n",
       " 'law,': 926,\n",
       " 'attention': 927,\n",
       " 'mysore': 928,\n",
       " 'august': 929,\n",
       " 'therein': 930,\n",
       " 'mean': 931,\n",
       " 'just': 932,\n",
       " 'july,': 933,\n",
       " 'gupta': 934,\n",
       " 'march,': 935,\n",
       " 'u.p.': 936,\n",
       " 'final': 937,\n",
       " 'opportunity': 938,\n",
       " 'never': 939,\n",
       " '27': 940,\n",
       " 'it,': 941,\n",
       " 'july': 942,\n",
       " 'inter': 943,\n",
       " 'foreign': 944,\n",
       " 'false': 945,\n",
       " 'administrative': 946,\n",
       " 'rejected': 947,\n",
       " 'college': 948,\n",
       " 'appellant.': 949,\n",
       " 'direct': 950,\n",
       " 'statements': 951,\n",
       " 'delivered': 952,\n",
       " 'was,': 953,\n",
       " 'april,': 954,\n",
       " 'i.e.,': 955,\n",
       " 'allahabad': 956,\n",
       " 'lj': 957,\n",
       " 'chapter': 958,\n",
       " 'september': 959,\n",
       " 'disputes': 960,\n",
       " 'tenant': 961,\n",
       " 'correct': 962,\n",
       " 'fresh': 963,\n",
       " 'cross': 964,\n",
       " 'old': 965,\n",
       " 'code,': 966,\n",
       " 'accused,': 967,\n",
       " 'lodged': 968,\n",
       " 'much': 969,\n",
       " 'december,': 970,\n",
       " 'arbitration': 971,\n",
       " 'know': 972,\n",
       " '1999': 973,\n",
       " 'why': 974,\n",
       " 'november': 975,\n",
       " 'jain': 976,\n",
       " 'incident': 977,\n",
       " 'i.p.c.': 978,\n",
       " 'situated': 979,\n",
       " 'arising': 980,\n",
       " 'industries': 981,\n",
       " 'plea': 982,\n",
       " 'constitutional': 983,\n",
       " 'minister': 984,\n",
       " 'intended': 985,\n",
       " 'conducted': 986,\n",
       " 'hence,': 987,\n",
       " 'imprisonment': 988,\n",
       " '2010': 989,\n",
       " 'may,': 990,\n",
       " 'sold': 991,\n",
       " 'management': 992,\n",
       " 'maharashtra': 993,\n",
       " 'six': 994,\n",
       " 's.c.r.': 995,\n",
       " 'agreed': 996,\n",
       " 'building': 997,\n",
       " 'injury': 998,\n",
       " 'joint': 999,\n",
       " 'carrying': 1000,\n",
       " ...}"
      ]
     },
     "execution_count": 12,
     "metadata": {},
     "output_type": "execute_result"
    }
   ],
   "source": [
    "weights = np.zeros((vocab_size, 300))\n",
    "mapping = toke.word_index \n",
    "mapping"
   ]
  },
  {
   "cell_type": "markdown",
   "metadata": {},
   "source": [
    "Fetching weights from pre trained Word2Vec model (ATE)"
   ]
  },
  {
   "cell_type": "code",
   "execution_count": 13,
   "metadata": {},
   "outputs": [],
   "source": [
    "for word, index in mapping.items():\n",
    "    if word in word2vec:\n",
    "        weights[index:] = word2vec[word]"
   ]
  },
  {
   "cell_type": "code",
   "execution_count": 14,
   "metadata": {},
   "outputs": [],
   "source": [
    "X_train= X_padded_train\n",
    "Y_train = Y_padded_train\n",
    "X_test = X_padded_test\n",
    "Y_test = Y_padded_test\n",
    "X_val = X_padded_val\n",
    "Y_val = Y_padded_val\n",
    "weights = weights\n",
    "word_token = toke\n",
    "tag_token = toke2"
   ]
  },
  {
   "cell_type": "markdown",
   "metadata": {},
   "source": [
    "# Models"
   ]
  },
  {
   "cell_type": "markdown",
   "metadata": {},
   "source": [
    "## RNN"
   ]
  },
  {
   "cell_type": "code",
   "execution_count": 15,
   "metadata": {},
   "outputs": [],
   "source": [
    "model_name=\"RNN\""
   ]
  },
  {
   "cell_type": "markdown",
   "metadata": {},
   "source": [
    "### Training"
   ]
  },
  {
   "cell_type": "code",
   "execution_count": 16,
   "metadata": {},
   "outputs": [
    {
     "name": "stdout",
     "output_type": "stream",
     "text": [
      "WARNING:tensorflow:From c:\\Users\\acer\\AppData\\Local\\Programs\\Python\\Python311\\Lib\\site-packages\\keras\\src\\backend.py:873: The name tf.get_default_graph is deprecated. Please use tf.compat.v1.get_default_graph instead.\n",
      "\n"
     ]
    }
   ],
   "source": [
    "rnn_model = Sequential()\n",
    "rnn_model.add(Embedding(input_dim = vocab_size,output_dim = 300,input_length  = max_len,weights = [weights],trainable = False))\n",
    "rnn_model.add(SimpleRNN(64, return_sequences=True))\n",
    "rnn_model.add(TimeDistributed(Dense(Y_train.shape[2], activation='softmax')))"
   ]
  },
  {
   "cell_type": "markdown",
   "metadata": {},
   "source": [
    "Compiling the rnn Word2Vec Model"
   ]
  },
  {
   "cell_type": "code",
   "execution_count": 17,
   "metadata": {},
   "outputs": [
    {
     "name": "stdout",
     "output_type": "stream",
     "text": [
      "WARNING:tensorflow:From c:\\Users\\acer\\AppData\\Local\\Programs\\Python\\Python311\\Lib\\site-packages\\keras\\src\\optimizers\\__init__.py:309: The name tf.train.Optimizer is deprecated. Please use tf.compat.v1.train.Optimizer instead.\n",
      "\n"
     ]
    }
   ],
   "source": [
    "rnn_model.compile(loss='categorical_crossentropy',optimizer='adam',metrics=['acc',Precision(),Recall()])"
   ]
  },
  {
   "cell_type": "code",
   "execution_count": 18,
   "metadata": {},
   "outputs": [],
   "source": [
    "rnn_f1_callback = F1ScoreCallback(val_data=(X_val, Y_val),data=(X_train, Y_train))\n"
   ]
  },
  {
   "cell_type": "code",
   "execution_count": 19,
   "metadata": {},
   "outputs": [
    {
     "name": "stdout",
     "output_type": "stream",
     "text": [
      "Model: \"sequential\"\n",
      "_________________________________________________________________\n",
      " Layer (type)                Output Shape              Param #   \n",
      "=================================================================\n",
      " embedding (Embedding)       (None, 70, 300)           9066000   \n",
      "                                                                 \n",
      " simple_rnn (SimpleRNN)      (None, 70, 64)            23360     \n",
      "                                                                 \n",
      " time_distributed (TimeDist  (None, 70, 28)            1820      \n",
      " ributed)                                                        \n",
      "                                                                 \n",
      "=================================================================\n",
      "Total params: 9091180 (34.68 MB)\n",
      "Trainable params: 25180 (98.36 KB)\n",
      "Non-trainable params: 9066000 (34.58 MB)\n",
      "_________________________________________________________________\n"
     ]
    }
   ],
   "source": [
    "rnn_model.summary()"
   ]
  },
  {
   "cell_type": "markdown",
   "metadata": {},
   "source": [
    "Fitting the rnn model"
   ]
  },
  {
   "cell_type": "code",
   "execution_count": 20,
   "metadata": {},
   "outputs": [
    {
     "name": "stdout",
     "output_type": "stream",
     "text": [
      "Epoch 1/15\n"
     ]
    },
    {
     "name": "stdout",
     "output_type": "stream",
     "text": [
      "WARNING:tensorflow:From c:\\Users\\acer\\AppData\\Local\\Programs\\Python\\Python311\\Lib\\site-packages\\keras\\src\\utils\\tf_utils.py:492: The name tf.ragged.RaggedTensorValue is deprecated. Please use tf.compat.v1.ragged.RaggedTensorValue instead.\n",
      "\n",
      "WARNING:tensorflow:From c:\\Users\\acer\\AppData\\Local\\Programs\\Python\\Python311\\Lib\\site-packages\\keras\\src\\engine\\base_layer_utils.py:384: The name tf.executing_eagerly_outside_functions is deprecated. Please use tf.compat.v1.executing_eagerly_outside_functions instead.\n",
      "\n",
      "45/45 [==============================] - 0s 4ms/steposs: 1.2068 - acc: 0.8613 - precision: 0.8945 - recall:\n",
      "251/251 [==============================] - 1s 4ms/step\n",
      "Val F1 Score: 0.07037905072423084 - Train F1 Score: 0.07072788891252182\n",
      "63/63 [==============================] - 22s 320ms/step - loss: 1.1902 - acc: 0.8626 - precision: 0.8951 - recall: 0.5757 - val_loss: 0.5962 - val_acc: 0.9076 - val_precision: 0.9124 - val_recall: 0.8467\n",
      "Epoch 2/15\n",
      "45/45 [==============================] - 0s 4ms/steposs: 0.5404 - acc: 0.9061 - precision: 0.9153 - recall\n",
      "251/251 [==============================] - 1s 4ms/step\n",
      "Val F1 Score: 0.08200723923369438 - Train F1 Score: 0.08008763483251073\n",
      "63/63 [==============================] - 25s 396ms/step - loss: 0.5404 - acc: 0.9061 - precision: 0.9153 - recall: 0.8549 - val_loss: 0.5495 - val_acc: 0.8917 - val_precision: 0.9042 - val_recall: 0.8359\n",
      "Epoch 3/15\n",
      "45/45 [==============================] - 0s 5ms/steposs: 0.4714 - acc: 0.9160 - precision: 0.9351 - reca\n",
      "251/251 [==============================] - 1s 5ms/step\n",
      "Val F1 Score: 0.08958785405671732 - Train F1 Score: 0.08684323016803187\n",
      "63/63 [==============================] - 20s 316ms/step - loss: 0.4714 - acc: 0.9160 - precision: 0.9351 - recall: 0.8682 - val_loss: 0.4396 - val_acc: 0.9231 - val_precision: 0.9448 - val_recall: 0.8773\n",
      "Epoch 4/15\n",
      "45/45 [==============================] - 0s 4ms/steposs: 0.4250 - acc: 0.9239 - precision: 0.9465 - recall\n",
      "251/251 [==============================] - 1s 5ms/step\n",
      "Val F1 Score: 0.10523013461942736 - Train F1 Score: 0.1035792416582353\n",
      "63/63 [==============================] - 20s 315ms/step - loss: 0.4239 - acc: 0.9240 - precision: 0.9466 - recall: 0.8792 - val_loss: 0.4043 - val_acc: 0.9260 - val_precision: 0.9462 - val_recall: 0.8832\n",
      "Epoch 5/15\n",
      "45/45 [==============================] - 0s 6ms/steposs: 0.3937 - acc: 0.9268 - precision: 0.9502 - reca\n",
      "251/251 [==============================] - 1s 6ms/step\n",
      "Val F1 Score: 0.1230598596635466 - Train F1 Score: 0.11963052172923619\n",
      "63/63 [==============================] - 21s 341ms/step - loss: 0.3936 - acc: 0.9268 - precision: 0.9501 - recall: 0.8820 - val_loss: 0.3835 - val_acc: 0.9269 - val_precision: 0.9476 - val_recall: 0.8836\n",
      "Epoch 6/15\n",
      "45/45 [==============================] - 0s 4ms/steposs: 0.3708 - acc: 0.9296 - precision: 0.9531 - recall\n",
      "251/251 [==============================] - 1s 4ms/step\n",
      "Val F1 Score: 0.14713855180629865 - Train F1 Score: 0.14513066082468176\n",
      "63/63 [==============================] - 20s 316ms/step - loss: 0.3703 - acc: 0.9296 - precision: 0.9531 - recall: 0.8950 - val_loss: 0.3568 - val_acc: 0.9319 - val_precision: 0.9530 - val_recall: 0.9022\n",
      "Epoch 7/15\n",
      "45/45 [==============================] - 0s 5ms/steposs: 0.3498 - acc: 0.9322 - precision: 0.9551 - reca\n",
      "251/251 [==============================] - 1s 4ms/step\n",
      "Val F1 Score: 0.16963746546419164 - Train F1 Score: 0.17021830400581964\n",
      "63/63 [==============================] - 19s 314ms/step - loss: 0.3496 - acc: 0.9322 - precision: 0.9552 - recall: 0.9014 - val_loss: 0.3404 - val_acc: 0.9331 - val_precision: 0.9520 - val_recall: 0.9062\n",
      "Epoch 8/15\n",
      "45/45 [==============================] - 0s 5ms/steposs: 0.3317 - acc: 0.9347 - precision: 0.9561 - reca\n",
      "251/251 [==============================] - 1s 5ms/step\n",
      "Val F1 Score: 0.2011322151952856 - Train F1 Score: 0.19819169939173661\n",
      "63/63 [==============================] - 20s 329ms/step - loss: 0.3317 - acc: 0.9347 - precision: 0.9561 - recall: 0.9048 - val_loss: 0.3226 - val_acc: 0.9358 - val_precision: 0.9557 - val_recall: 0.9066\n",
      "Epoch 9/15\n",
      "45/45 [==============================] - 0s 4ms/steposs: 0.3165 - acc: 0.9362 - precision: 0.9573 - recall\n",
      "251/251 [==============================] - 1s 4ms/step\n",
      "Val F1 Score: 0.21435885600920854 - Train F1 Score: 0.21429979645825573\n",
      "63/63 [==============================] - 20s 317ms/step - loss: 0.3162 - acc: 0.9363 - precision: 0.9573 - recall: 0.9066 - val_loss: 0.3098 - val_acc: 0.9366 - val_precision: 0.9560 - val_recall: 0.9091\n",
      "Epoch 10/15\n",
      "45/45 [==============================] - 0s 6ms/steposs: 0.3023 - acc: 0.9381 - precision: 0.9584 - re\n",
      "251/251 [==============================] - 1s 5ms/step\n",
      "Val F1 Score: 0.22541180508371045 - Train F1 Score: 0.22694155589748224\n",
      "63/63 [==============================] - 20s 320ms/step - loss: 0.3027 - acc: 0.9379 - precision: 0.9583 - recall: 0.9084 - val_loss: 0.2986 - val_acc: 0.9376 - val_precision: 0.9563 - val_recall: 0.9112\n",
      "Epoch 11/15\n",
      "45/45 [==============================] - 0s 4ms/steposs: 0.2925 - acc: 0.9389 - precision: 0.9585 - recall\n",
      "251/251 [==============================] - 1s 5ms/step\n",
      "Val F1 Score: 0.244502057918685 - Train F1 Score: 0.2446007764950819\n",
      "63/63 [==============================] - 20s 325ms/step - loss: 0.2919 - acc: 0.9391 - precision: 0.9587 - recall: 0.9102 - val_loss: 0.2888 - val_acc: 0.9390 - val_precision: 0.9582 - val_recall: 0.9110\n",
      "Epoch 12/15\n",
      "45/45 [==============================] - 0s 4ms/steposs: 0.2824 - acc: 0.9401 - precision: 0.9595 - recall\n",
      "251/251 [==============================] - 1s 4ms/step\n",
      "Val F1 Score: 0.25468684596134455 - Train F1 Score: 0.25696293089401057\n",
      "63/63 [==============================] - 19s 303ms/step - loss: 0.2826 - acc: 0.9400 - precision: 0.9594 - recall: 0.9111 - val_loss: 0.2797 - val_acc: 0.9402 - val_precision: 0.9601 - val_recall: 0.9113\n",
      "Epoch 13/15\n",
      "45/45 [==============================] - 0s 4ms/steposs: 0.2740 - acc: 0.9411 - precision: 0.9597 - recall\n",
      "251/251 [==============================] - 1s 4ms/step\n",
      "Val F1 Score: 0.25882059533908525 - Train F1 Score: 0.26323042805130176\n",
      "63/63 [==============================] - 19s 312ms/step - loss: 0.2738 - acc: 0.9411 - precision: 0.9598 - recall: 0.9123 - val_loss: 0.2735 - val_acc: 0.9400 - val_precision: 0.9588 - val_recall: 0.9129\n",
      "Epoch 14/15\n",
      "45/45 [==============================] - 0s 5ms/steposs: 0.2658 - acc: 0.9419 - precision: 0.9605 - recall\n",
      "251/251 [==============================] - 1s 5ms/step\n",
      "Val F1 Score: 0.27632447115707415 - Train F1 Score: 0.27907175847806426\n",
      "63/63 [==============================] - 21s 336ms/step - loss: 0.2658 - acc: 0.9419 - precision: 0.9605 - recall: 0.9137 - val_loss: 0.2679 - val_acc: 0.9414 - val_precision: 0.9634 - val_recall: 0.9098\n",
      "Epoch 15/15\n",
      "45/45 [==============================] - 0s 4ms/steposs: 0.2575 - acc: 0.9428 - precision: 0.9609 - recall\n",
      "251/251 [==============================] - 1s 4ms/step\n",
      "Val F1 Score: 0.271925868476446 - Train F1 Score: 0.278177140045565\n",
      "63/63 [==============================] - 19s 305ms/step - loss: 0.2584 - acc: 0.9426 - precision: 0.9607 - recall: 0.9146 - val_loss: 0.2629 - val_acc: 0.9407 - val_precision: 0.9590 - val_recall: 0.9140\n"
     ]
    }
   ],
   "source": [
    "rnn_training = rnn_model.fit(X_train, Y_train, batch_size=128, epochs=15, validation_data=(X_val, Y_val), callbacks=[rnn_f1_callback])"
   ]
  },
  {
   "cell_type": "markdown",
   "metadata": {},
   "source": [
    "Plotting the graph"
   ]
  },
  {
   "cell_type": "code",
   "execution_count": 22,
   "metadata": {},
   "outputs": [
    {
     "data": {
      "image/png": "[encoded data removed]",
      "text/plain": [
       "<Figure size 1600x500 with 2 Axes>"
      ]
     },
     "metadata": {},
     "output_type": "display_data"
    }
   ],
   "source": [
    "draw_loss_graph(rnn_training,model_name, rnn_f1_callback.train_f1_scores, rnn_f1_callback.val_f1_scores)\n",
    "save_model(rnn_model,model_name,Embedding_name,Dataset)"
   ]
  },
  {
   "cell_type": "markdown",
   "metadata": {},
   "source": [
    "### Testing"
   ]
  },
  {
   "cell_type": "code",
   "execution_count": 23,
   "metadata": {},
   "outputs": [],
   "source": [
    "loaded_model = load_model(model_name,Embedding_name,Dataset)"
   ]
  },
  {
   "cell_type": "markdown",
   "metadata": {},
   "source": [
    "Testing accuracy"
   ]
  },
  {
   "cell_type": "code",
   "execution_count": 24,
   "metadata": {},
   "outputs": [
    {
     "name": "stdout",
     "output_type": "stream",
     "text": [
      "30/30 [==============================] - 1s 5ms/step - loss: 0.2977 - acc: 0.9341 - precision: 0.9510 - recall: 0.9058\n",
      "0.9340960383415222\n"
     ]
    }
   ],
   "source": [
    "accuracy = loaded_model.evaluate(X_test, Y_test, verbose = 1)\n",
    "print(accuracy[1])"
   ]
  },
  {
   "cell_type": "markdown",
   "metadata": {},
   "source": [
    "Testing F1 Score"
   ]
  },
  {
   "cell_type": "code",
   "execution_count": 25,
   "metadata": {},
   "outputs": [
    {
     "name": "stdout",
     "output_type": "stream",
     "text": [
      "30/30 [==============================] - 0s 5ms/step\n"
     ]
    },
    {
     "name": "stdout",
     "output_type": "stream",
     "text": [
      "Test F1 Score: 0.2738595194797\n"
     ]
    }
   ],
   "source": [
    "Y_pred = loaded_model.predict(X_test)\n",
    "real = get_real(Y_test)\n",
    "pred = get_pred(Y_pred)\n",
    "\n",
    "true_labels_flat = [label for sublist in real for label in sublist]\n",
    "predicted_labels_flat = [label for sublist in pred for label in sublist]\n",
    "\n",
    "# Compute F1 score\n",
    "f1 = f1_score(true_labels_flat, predicted_labels_flat, average='macro')\n",
    "\n",
    "print(\"Test F1 Score:\", f1)"
   ]
  },
  {
   "cell_type": "markdown",
   "metadata": {},
   "source": [
    "## GRU"
   ]
  },
  {
   "cell_type": "code",
   "execution_count": 26,
   "metadata": {},
   "outputs": [],
   "source": [
    "model_name=\"GRU\""
   ]
  },
  {
   "cell_type": "markdown",
   "metadata": {},
   "source": [
    "### Training"
   ]
  },
  {
   "cell_type": "code",
   "execution_count": 27,
   "metadata": {},
   "outputs": [],
   "source": [
    "gru_model = Sequential()\n",
    "gru_model.add(Embedding(input_dim = vocab_size,output_dim = 300,input_length  = max_len,weights = [weights],trainable = False))\n",
    "gru_model.add(GRU(64, return_sequences=True))\n",
    "gru_model.add(TimeDistributed(Dense(Y_train.shape[2], activation='softmax')))"
   ]
  },
  {
   "cell_type": "markdown",
   "metadata": {},
   "source": [
    "compiling "
   ]
  },
  {
   "cell_type": "code",
   "execution_count": 28,
   "metadata": {},
   "outputs": [],
   "source": [
    "gru_model.compile(loss='categorical_crossentropy',optimizer='adam',metrics=['acc',Precision(),Recall()])"
   ]
  },
  {
   "cell_type": "code",
   "execution_count": 29,
   "metadata": {},
   "outputs": [],
   "source": [
    "gru_f1_callback = F1ScoreCallback(val_data=(X_val, Y_val),data=(X_train, Y_train))"
   ]
  },
  {
   "cell_type": "code",
   "execution_count": 30,
   "metadata": {},
   "outputs": [
    {
     "name": "stdout",
     "output_type": "stream",
     "text": [
      "Model: \"sequential_1\"\n",
      "_________________________________________________________________\n",
      " Layer (type)                Output Shape              Param #   \n",
      "=================================================================\n",
      " embedding_1 (Embedding)     (None, 70, 300)           9066000   \n",
      "                                                                 \n",
      " gru (GRU)                   (None, 70, 64)            70272     \n",
      "                                                                 \n",
      " time_distributed_1 (TimeDi  (None, 70, 28)            1820      \n",
      " stributed)                                                      \n",
      "                                                                 \n",
      "=================================================================\n",
      "Total params: 9138092 (34.86 MB)\n",
      "Trainable params: 72092 (281.61 KB)\n",
      "Non-trainable params: 9066000 (34.58 MB)\n",
      "_________________________________________________________________\n"
     ]
    }
   ],
   "source": [
    "gru_model.summary()"
   ]
  },
  {
   "cell_type": "markdown",
   "metadata": {},
   "source": [
    "Fitting GRU"
   ]
  },
  {
   "cell_type": "code",
   "execution_count": 31,
   "metadata": {},
   "outputs": [
    {
     "name": "stdout",
     "output_type": "stream",
     "text": [
      "Epoch 1/15\n"
     ]
    },
    {
     "name": "stdout",
     "output_type": "stream",
     "text": [
      "45/45 [==============================] - 1s 7ms/steposs: 1.7731 - acc: 0.8075 - precision_1: 0.8570 - recal\n",
      "251/251 [==============================] - 2s 8ms/step\n",
      "Val F1 Score: 0.07514295748597537 - Train F1 Score: 0.07559395378278459\n",
      "63/63 [==============================] - 27s 395ms/step - loss: 1.7613 - acc: 0.8086 - precision_1: 0.8584 - recall_1: 0.4094 - val_loss: 0.6449 - val_acc: 0.9137 - val_precision_1: 0.9281 - val_recall_1: 0.8335\n",
      "Epoch 2/15\n",
      "45/45 [==============================] - 0s 9ms/steposs: 0.5118 - acc: 0.9173 - precision_1: 0.9336 - \n",
      "251/251 [==============================] - 2s 7ms/step\n",
      "Val F1 Score: 0.08536485230295636 - Train F1 Score: 0.08475255077692799\n",
      "63/63 [==============================] - 22s 360ms/step - loss: 0.5108 - acc: 0.9175 - precision_1: 0.9338 - recall_1: 0.8558 - val_loss: 0.4555 - val_acc: 0.9213 - val_precision_1: 0.9400 - val_recall_1: 0.8651\n",
      "Epoch 3/15\n",
      "45/45 [==============================] - 0s 7ms/steposs: 0.4252 - acc: 0.9256 - precision_1: 0.9438 - reca\n",
      "251/251 [==============================] - 2s 7ms/step\n",
      "Val F1 Score: 0.11645887069759371 - Train F1 Score: 0.11494159355875458\n",
      "63/63 [==============================] - 21s 345ms/step - loss: 0.4252 - acc: 0.9255 - precision_1: 0.9437 - recall_1: 0.8821 - val_loss: 0.4007 - val_acc: 0.9275 - val_precision_1: 0.9464 - val_recall_1: 0.8848\n",
      "Epoch 4/15\n",
      "45/45 [==============================] - 0s 7ms/steposs: 0.3829 - acc: 0.9295 - precision_1: 0.9478 - reca\n",
      "251/251 [==============================] - 2s 7ms/step\n",
      "Val F1 Score: 0.136128602211137 - Train F1 Score: 0.13505038235294325\n",
      "63/63 [==============================] - 23s 371ms/step - loss: 0.3829 - acc: 0.9295 - precision_1: 0.9478 - recall_1: 0.8864 - val_loss: 0.3670 - val_acc: 0.9299 - val_precision_1: 0.9482 - val_recall_1: 0.8886\n",
      "Epoch 5/15\n",
      "45/45 [==============================] - 0s 8ms/steposs: 0.3532 - acc: 0.9317 - precision_1: 0.9512 - re\n",
      "251/251 [==============================] - 2s 7ms/step\n",
      "Val F1 Score: 0.17940334241659986 - Train F1 Score: 0.17742970670834715\n",
      "63/63 [==============================] - 22s 354ms/step - loss: 0.3532 - acc: 0.9317 - precision_1: 0.9512 - recall_1: 0.9020 - val_loss: 0.3431 - val_acc: 0.9327 - val_precision_1: 0.9499 - val_recall_1: 0.9058\n",
      "Epoch 6/15\n",
      "45/45 [==============================] - 0s 6ms/steposs: 0.3303 - acc: 0.9342 - precision_1: 0.9537 - reca\n",
      "251/251 [==============================] - 2s 6ms/step\n",
      "Val F1 Score: 0.19656658385282158 - Train F1 Score: 0.1954282642187488\n",
      "63/63 [==============================] - 21s 340ms/step - loss: 0.3303 - acc: 0.9343 - precision_1: 0.9537 - recall_1: 0.9050 - val_loss: 0.3228 - val_acc: 0.9346 - val_precision_1: 0.9516 - val_recall_1: 0.9090\n",
      "Epoch 7/15\n",
      "45/45 [==============================] - 0s 8ms/steposs: 0.3109 - acc: 0.9362 - precision_1: 0.9555 - re\n",
      "251/251 [==============================] - 2s 7ms/step\n",
      "Val F1 Score: 0.22209780079713817 - Train F1 Score: 0.22232948637778036\n",
      "63/63 [==============================] - 22s 361ms/step - loss: 0.3107 - acc: 0.9362 - precision_1: 0.9556 - recall_1: 0.9074 - val_loss: 0.3072 - val_acc: 0.9361 - val_precision_1: 0.9539 - val_recall_1: 0.9096\n",
      "Epoch 8/15\n",
      "45/45 [==============================] - 0s 6ms/steposs: 0.2947 - acc: 0.9381 - precision_1: 0.9570 - reca\n",
      "251/251 [==============================] - 2s 7ms/step\n",
      "Val F1 Score: 0.2404187112142371 - Train F1 Score: 0.24784600730099263\n",
      "63/63 [==============================] - 21s 345ms/step - loss: 0.2943 - acc: 0.9381 - precision_1: 0.9571 - recall_1: 0.9095 - val_loss: 0.2937 - val_acc: 0.9376 - val_precision_1: 0.9552 - val_recall_1: 0.9108\n",
      "Epoch 9/15\n",
      "45/45 [==============================] - 0s 7ms/steposs: 0.2802 - acc: 0.9400 - precision_1: 0.9587 - reca\n",
      "251/251 [==============================] - 2s 7ms/step\n",
      "Val F1 Score: 0.2539468960108356 - Train F1 Score: 0.26409993559310113\n",
      "63/63 [==============================] - 22s 352ms/step - loss: 0.2800 - acc: 0.9401 - precision_1: 0.9587 - recall_1: 0.9111 - val_loss: 0.2814 - val_acc: 0.9389 - val_precision_1: 0.9552 - val_recall_1: 0.9135\n",
      "Epoch 10/15\n",
      "45/45 [==============================] - 0s 8ms/steposs: 0.2669 - acc: 0.9417 - precision_1: 0.9597 - re\n",
      "251/251 [==============================] - 2s 9ms/step\n",
      "Val F1 Score: 0.2781223439628328 - Train F1 Score: 0.28356716089017536\n",
      "63/63 [==============================] - 22s 356ms/step - loss: 0.2673 - acc: 0.9416 - precision_1: 0.9597 - recall_1: 0.9129 - val_loss: 0.2693 - val_acc: 0.9412 - val_precision_1: 0.9583 - val_recall_1: 0.9137\n",
      "Epoch 11/15\n",
      "45/45 [==============================] - 0s 7ms/steposs: 0.2562 - acc: 0.9429 - precision_1: 0.9606 - reca\n",
      "251/251 [==============================] - 2s 7ms/step\n",
      "Val F1 Score: 0.29543838741711065 - Train F1 Score: 0.3003442483350874\n",
      "63/63 [==============================] - 22s 347ms/step - loss: 0.2562 - acc: 0.9429 - precision_1: 0.9606 - recall_1: 0.9146 - val_loss: 0.2600 - val_acc: 0.9425 - val_precision_1: 0.9586 - val_recall_1: 0.9156\n",
      "Epoch 12/15\n",
      "45/45 [==============================] - 0s 7ms/steposs: 0.2463 - acc: 0.9442 - precision_1: 0.9618 - reca\n",
      "251/251 [==============================] - 2s 8ms/step\n",
      "Val F1 Score: 0.3026420642735836 - Train F1 Score: 0.31048263773586726\n",
      "63/63 [==============================] - 24s 388ms/step - loss: 0.2463 - acc: 0.9442 - precision_1: 0.9617 - recall_1: 0.9258 - val_loss: 0.2520 - val_acc: 0.9435 - val_precision_1: 0.9593 - val_recall_1: 0.9313\n",
      "Epoch 13/15\n",
      "45/45 [==============================] - 0s 10ms/stepss: 0.2374 - acc: 0.9453 - precision_1: 0.9627 \n",
      "251/251 [==============================] - 2s 8ms/step\n",
      "Val F1 Score: 0.3172208966787979 - Train F1 Score: 0.32759493800810935\n",
      "63/63 [==============================] - 24s 385ms/step - loss: 0.2373 - acc: 0.9454 - precision_1: 0.9628 - recall_1: 0.9319 - val_loss: 0.2444 - val_acc: 0.9448 - val_precision_1: 0.9606 - val_recall_1: 0.9321\n",
      "Epoch 14/15\n",
      "45/45 [==============================] - 0s 8ms/steposs: 0.2297 - acc: 0.9465 - precision_1: 0.9635 - re\n",
      "251/251 [==============================] - 2s 7ms/step\n",
      "Val F1 Score: 0.3248455618727243 - Train F1 Score: 0.3370087925631467\n",
      "63/63 [==============================] - 22s 348ms/step - loss: 0.2297 - acc: 0.9465 - precision_1: 0.9635 - recall_1: 0.9334 - val_loss: 0.2394 - val_acc: 0.9452 - val_precision_1: 0.9602 - val_recall_1: 0.9336\n",
      "Epoch 15/15\n",
      "45/45 [==============================] - 0s 7ms/steposs: 0.2228 - acc: 0.9476 - precision_1: 0.9641 - reca\n",
      "251/251 [==============================] - 2s 7ms/step\n",
      "Val F1 Score: 0.32891442008194793 - Train F1 Score: 0.34649714387380887\n",
      "63/63 [==============================] - 23s 367ms/step - loss: 0.2228 - acc: 0.9476 - precision_1: 0.9641 - recall_1: 0.9350 - val_loss: 0.2329 - val_acc: 0.9460 - val_precision_1: 0.9614 - val_recall_1: 0.9345\n"
     ]
    }
   ],
   "source": [
    "gru_training = gru_model.fit(X_train, Y_train, batch_size=128, epochs=15, validation_data=(X_val, Y_val), callbacks=[gru_f1_callback])"
   ]
  },
  {
   "cell_type": "markdown",
   "metadata": {},
   "source": [
    "Plotting Graph"
   ]
  },
  {
   "cell_type": "code",
   "execution_count": 32,
   "metadata": {},
   "outputs": [
    {
     "data": {
      "image/png": "[encoded data removed]",
      "text/plain": [
       "<Figure size 1600x500 with 2 Axes>"
      ]
     },
     "metadata": {},
     "output_type": "display_data"
    }
   ],
   "source": [
    "draw_loss_graph(gru_training,model_name, gru_f1_callback.train_f1_scores, gru_f1_callback.val_f1_scores)\n",
    "save_model(gru_model,model_name,Embedding_name,Dataset)"
   ]
  },
  {
   "cell_type": "markdown",
   "metadata": {},
   "source": [
    "### Testing"
   ]
  },
  {
   "cell_type": "code",
   "execution_count": 33,
   "metadata": {},
   "outputs": [],
   "source": [
    "loaded_model = load_model(model_name,Embedding_name,Dataset)"
   ]
  },
  {
   "cell_type": "markdown",
   "metadata": {},
   "source": [
    "Testing Accuracy"
   ]
  },
  {
   "cell_type": "code",
   "execution_count": 34,
   "metadata": {},
   "outputs": [
    {
     "name": "stdout",
     "output_type": "stream",
     "text": [
      "30/30 [==============================] - 1s 11ms/step - loss: 0.2640 - acc: 0.9397 - precision_1: 0.9543 - recall_1: 0.9274\n",
      "0.9397260546684265\n"
     ]
    }
   ],
   "source": [
    "accuracy = loaded_model.evaluate(X_test, Y_test, verbose = 1)\n",
    "print(accuracy[1])"
   ]
  },
  {
   "cell_type": "markdown",
   "metadata": {},
   "source": [
    "Testing F1 Score"
   ]
  },
  {
   "cell_type": "code",
   "execution_count": 35,
   "metadata": {},
   "outputs": [
    {
     "name": "stdout",
     "output_type": "stream",
     "text": [
      "30/30 [==============================] - 1s 7ms/step\n",
      "Test F1 Score: 0.3312644453184654\n"
     ]
    }
   ],
   "source": [
    "Y_pred = loaded_model.predict(X_test)\n",
    "real = get_real(Y_test)\n",
    "pred = get_pred(Y_pred)\n",
    "\n",
    "true_labels_flat = [label for sublist in real for label in sublist]\n",
    "predicted_labels_flat = [label for sublist in pred for label in sublist]\n",
    "\n",
    "# Compute F1 score\n",
    "f1 = f1_score(true_labels_flat, predicted_labels_flat, average='macro')\n",
    "\n",
    "print(\"Test F1 Score:\", f1)"
   ]
  },
  {
   "cell_type": "markdown",
   "metadata": {},
   "source": [
    "# LSTM"
   ]
  },
  {
   "cell_type": "code",
   "execution_count": 36,
   "metadata": {},
   "outputs": [],
   "source": [
    "model_name=\"LSTM\""
   ]
  },
  {
   "cell_type": "markdown",
   "metadata": {},
   "source": [
    "### Training"
   ]
  },
  {
   "cell_type": "code",
   "execution_count": 37,
   "metadata": {},
   "outputs": [],
   "source": [
    "lstm_model = Sequential()\n",
    "lstm_model.add(Embedding(input_dim = vocab_size,output_dim = 300,input_length  = max_len,weights = [weights],trainable = False))\n",
    "lstm_model.add(LSTM(64, return_sequences=True))\n",
    "lstm_model.add(TimeDistributed(Dense(Y_train.shape[2], activation='softmax')))# Lstm"
   ]
  },
  {
   "cell_type": "markdown",
   "metadata": {},
   "source": [
    "Compiling LSTM"
   ]
  },
  {
   "cell_type": "code",
   "execution_count": 38,
   "metadata": {},
   "outputs": [],
   "source": [
    "lstm_model.compile(loss='categorical_crossentropy',optimizer='adam',metrics=['acc',Precision(),Recall()])"
   ]
  },
  {
   "cell_type": "code",
   "execution_count": 39,
   "metadata": {},
   "outputs": [],
   "source": [
    "LSTM_f1_callback=F1ScoreCallback(val_data=(X_val, Y_val),data=(X_train, Y_train))"
   ]
  },
  {
   "cell_type": "code",
   "execution_count": 40,
   "metadata": {},
   "outputs": [
    {
     "name": "stdout",
     "output_type": "stream",
     "text": [
      "Model: \"sequential_2\"\n",
      "_________________________________________________________________\n",
      " Layer (type)                Output Shape              Param #   \n",
      "=================================================================\n",
      " embedding_2 (Embedding)     (None, 70, 300)           9066000   \n",
      "                                                                 \n",
      " lstm (LSTM)                 (None, 70, 64)            93440     \n",
      "                                                                 \n",
      " time_distributed_2 (TimeDi  (None, 70, 28)            1820      \n",
      " stributed)                                                      \n",
      "                                                                 \n",
      "=================================================================\n",
      "Total params: 9161260 (34.95 MB)\n",
      "Trainable params: 95260 (372.11 KB)\n",
      "Non-trainable params: 9066000 (34.58 MB)\n",
      "_________________________________________________________________\n"
     ]
    }
   ],
   "source": [
    "lstm_model.summary()"
   ]
  },
  {
   "cell_type": "markdown",
   "metadata": {},
   "source": [
    "Fitting LSTM"
   ]
  },
  {
   "cell_type": "code",
   "execution_count": 41,
   "metadata": {},
   "outputs": [
    {
     "name": "stdout",
     "output_type": "stream",
     "text": [
      "Epoch 1/15\n"
     ]
    },
    {
     "name": "stdout",
     "output_type": "stream",
     "text": [
      "45/45 [==============================] - 1s 8ms/steposs: 1.6630 - acc: 0.7255 - precision_2: 0.8412 - rec\n",
      "251/251 [==============================] - 2s 8ms/step\n",
      "Val F1 Score: 0.06663109613909377 - Train F1 Score: 0.06680389478835387\n",
      "63/63 [==============================] - 26s 372ms/step - loss: 1.6536 - acc: 0.7273 - precision_2: 0.8421 - recall_2: 0.4673 - val_loss: 0.7612 - val_acc: 0.9014 - val_precision_2: 0.8954 - val_recall_2: 0.8001\n",
      "Epoch 2/15\n",
      "45/45 [==============================] - 0s 8ms/steposs: 0.6417 - acc: 0.9074 - precision_2: 0.9092 - re\n",
      "251/251 [==============================] - 2s 8ms/step\n",
      "Val F1 Score: 0.068779230466286 - Train F1 Score: 0.06935082307819497\n",
      "63/63 [==============================] - 23s 369ms/step - loss: 0.6405 - acc: 0.9074 - precision_2: 0.9093 - recall_2: 0.8256 - val_loss: 0.5710 - val_acc: 0.9119 - val_precision_2: 0.9195 - val_recall_2: 0.8501\n",
      "Epoch 3/15\n",
      "45/45 [==============================] - 0s 7ms/steposs: 0.5301 - acc: 0.9159 - precision_2: 0.9275 - reca\n",
      "251/251 [==============================] - 2s 7ms/step\n",
      "Val F1 Score: 0.079174900531034 - Train F1 Score: 0.07945163335626122\n",
      "63/63 [==============================] - 21s 344ms/step - loss: 0.5301 - acc: 0.9159 - precision_2: 0.9275 - recall_2: 0.8496 - val_loss: 0.4998 - val_acc: 0.9189 - val_precision_2: 0.9338 - val_recall_2: 0.8646\n",
      "Epoch 4/15\n",
      "45/45 [==============================] - 0s 8ms/steposs: 0.4748 - acc: 0.9215 - precision_2: 0.9385 - re\n",
      "251/251 [==============================] - 2s 8ms/step\n",
      "Val F1 Score: 0.08669974454154349 - Train F1 Score: 0.08665607983188882\n",
      "63/63 [==============================] - 22s 349ms/step - loss: 0.4748 - acc: 0.9215 - precision_2: 0.9385 - recall_2: 0.8646 - val_loss: 0.4573 - val_acc: 0.9225 - val_precision_2: 0.9379 - val_recall_2: 0.8663\n",
      "Epoch 5/15\n",
      "45/45 [==============================] - 0s 8ms/steposs: 0.4363 - acc: 0.9251 - precision_2: 0.9439 - re\n",
      "251/251 [==============================] - 2s 10ms/step\n",
      "Val F1 Score: 0.10754819774100174 - Train F1 Score: 0.10519924801503848\n",
      "63/63 [==============================] - 24s 388ms/step - loss: 0.4363 - acc: 0.9251 - precision_2: 0.9439 - recall_2: 0.8671 - val_loss: 0.4231 - val_acc: 0.9274 - val_precision_2: 0.9438 - val_recall_2: 0.8699\n",
      "Epoch 6/15\n",
      "45/45 [==============================] - 0s 7ms/steposs: 0.4059 - acc: 0.9284 - precision_2: 0.9475 - reca\n",
      "251/251 [==============================] - 2s 8ms/step\n",
      "Val F1 Score: 0.11740325006266958 - Train F1 Score: 0.11593796910967222\n",
      "63/63 [==============================] - 22s 351ms/step - loss: 0.4059 - acc: 0.9284 - precision_2: 0.9475 - recall_2: 0.8846 - val_loss: 0.3952 - val_acc: 0.9298 - val_precision_2: 0.9471 - val_recall_2: 0.8898\n",
      "Epoch 7/15\n",
      "45/45 [==============================] - 0s 9ms/steposs: 0.3811 - acc: 0.9301 - precision_2: 0.9498 - \n",
      "251/251 [==============================] - 2s 7ms/step\n",
      "Val F1 Score: 0.13001530605045092 - Train F1 Score: 0.12982764601048996\n",
      "63/63 [==============================] - 22s 354ms/step - loss: 0.3811 - acc: 0.9301 - precision_2: 0.9498 - recall_2: 0.8882 - val_loss: 0.3729 - val_acc: 0.9309 - val_precision_2: 0.9487 - val_recall_2: 0.8911\n",
      "Epoch 8/15\n",
      "45/45 [==============================] - 0s 8ms/steposs: 0.3602 - acc: 0.9315 - precision_2: 0.9517 - re\n",
      "251/251 [==============================] - 2s 8ms/step\n",
      "Val F1 Score: 0.14102157916231758 - Train F1 Score: 0.14021829611868744\n",
      "63/63 [==============================] - 22s 351ms/step - loss: 0.3602 - acc: 0.9315 - precision_2: 0.9517 - recall_2: 0.8902 - val_loss: 0.3539 - val_acc: 0.9324 - val_precision_2: 0.9503 - val_recall_2: 0.8925\n",
      "Epoch 9/15\n",
      "45/45 [==============================] - 0s 7ms/steposs: 0.3425 - acc: 0.9330 - precision_2: 0.9542 - reca\n",
      "251/251 [==============================] - 2s 8ms/step\n",
      "Val F1 Score: 0.16164460496613883 - Train F1 Score: 0.1605372521700331\n",
      "63/63 [==============================] - 21s 343ms/step - loss: 0.3425 - acc: 0.9330 - precision_2: 0.9542 - recall_2: 0.8908 - val_loss: 0.3381 - val_acc: 0.9344 - val_precision_2: 0.9531 - val_recall_2: 0.8933\n",
      "Epoch 10/15\n",
      "45/45 [==============================] - 0s 7ms/steposs: 0.3267 - acc: 0.9352 - precision_2: 0.9558 - reca\n",
      "251/251 [==============================] - 2s 8ms/step\n",
      "Val F1 Score: 0.1937221627153126 - Train F1 Score: 0.19560284706931289\n",
      "63/63 [==============================] - 23s 375ms/step - loss: 0.3267 - acc: 0.9352 - precision_2: 0.9558 - recall_2: 0.8932 - val_loss: 0.3239 - val_acc: 0.9365 - val_precision_2: 0.9564 - val_recall_2: 0.9068\n",
      "Epoch 11/15\n",
      "45/45 [==============================] - 0s 8ms/steposs: 0.3133 - acc: 0.9372 - precision_2: 0.9576 - re\n",
      "251/251 [==============================] - 2s 8ms/step\n",
      "Val F1 Score: 0.21666781934133555 - Train F1 Score: 0.21888033217267416\n",
      "63/63 [==============================] - 24s 394ms/step - loss: 0.3133 - acc: 0.9372 - precision_2: 0.9576 - recall_2: 0.9066 - val_loss: 0.3119 - val_acc: 0.9379 - val_precision_2: 0.9571 - val_recall_2: 0.9077\n",
      "Epoch 12/15\n",
      "45/45 [==============================] - 0s 11ms/stepss: 0.3020 - acc: 0.9386 - precision_2: 0.9585 \n",
      "251/251 [==============================] - 2s 10ms/step\n",
      "Val F1 Score: 0.2276888455019431 - Train F1 Score: 0.2280598069474188\n",
      "63/63 [==============================] - 23s 369ms/step - loss: 0.3019 - acc: 0.9386 - precision_2: 0.9585 - recall_2: 0.9079 - val_loss: 0.3012 - val_acc: 0.9395 - val_precision_2: 0.9588 - val_recall_2: 0.9082\n",
      "Epoch 13/15\n",
      "45/45 [==============================] - 0s 9ms/steposs: 0.2913 - acc: 0.9396 - precision_2: 0.9594 - \n",
      "251/251 [==============================] - 2s 10ms/step\n",
      "Val F1 Score: 0.23868159654024396 - Train F1 Score: 0.23977474369888885\n",
      "63/63 [==============================] - 24s 386ms/step - loss: 0.2912 - acc: 0.9396 - precision_2: 0.9595 - recall_2: 0.9098 - val_loss: 0.2920 - val_acc: 0.9406 - val_precision_2: 0.9594 - val_recall_2: 0.9098\n",
      "Epoch 14/15\n",
      "45/45 [==============================] - 0s 7ms/steposs: 0.2820 - acc: 0.9407 - precision_2: 0.9600 - re\n",
      "251/251 [==============================] - 2s 8ms/step\n",
      "Val F1 Score: 0.24532639554081684 - Train F1 Score: 0.24819945131617724\n",
      "63/63 [==============================] - 23s 370ms/step - loss: 0.2820 - acc: 0.9407 - precision_2: 0.9600 - recall_2: 0.9113 - val_loss: 0.2857 - val_acc: 0.9408 - val_precision_2: 0.9603 - val_recall_2: 0.9097\n",
      "Epoch 15/15\n",
      "45/45 [==============================] - 0s 8ms/steposs: 0.2732 - acc: 0.9417 - precision_2: 0.9607 - re\n",
      "251/251 [==============================] - 2s 8ms/step\n",
      "Val F1 Score: 0.25425482214957457 - Train F1 Score: 0.25777691087097276\n",
      "63/63 [==============================] - 24s 379ms/step - loss: 0.2737 - acc: 0.9416 - precision_2: 0.9607 - recall_2: 0.9122 - val_loss: 0.2773 - val_acc: 0.9415 - val_precision_2: 0.9595 - val_recall_2: 0.9126\n"
     ]
    }
   ],
   "source": [
    "lstm_training = lstm_model.fit(X_train, Y_train, batch_size=128, epochs=15, validation_data=(X_val, Y_val), callbacks=[LSTM_f1_callback])"
   ]
  },
  {
   "cell_type": "markdown",
   "metadata": {},
   "source": [
    "Plotting Graph"
   ]
  },
  {
   "cell_type": "code",
   "execution_count": 42,
   "metadata": {},
   "outputs": [
    {
     "data": {
      "image/png": "[encoded data removed]",
      "text/plain": [
       "<Figure size 1600x500 with 2 Axes>"
      ]
     },
     "metadata": {},
     "output_type": "display_data"
    }
   ],
   "source": [
    "draw_loss_graph(lstm_training, \"LSTM Model\", LSTM_f1_callback.train_f1_scores, LSTM_f1_callback.val_f1_scores)\n",
    "save_model(lstm_model, model_name, Embedding_name, Dataset)\n",
    "loaded_model = load_model(model_name,Embedding_name,Dataset)"
   ]
  },
  {
   "cell_type": "markdown",
   "metadata": {},
   "source": [
    "### Testing"
   ]
  },
  {
   "cell_type": "code",
   "execution_count": 43,
   "metadata": {},
   "outputs": [],
   "source": [
    "loaded_model = load_model(model_name,Embedding_name,Dataset)"
   ]
  },
  {
   "cell_type": "markdown",
   "metadata": {},
   "source": [
    "Testing accuracy"
   ]
  },
  {
   "cell_type": "code",
   "execution_count": 44,
   "metadata": {},
   "outputs": [
    {
     "name": "stdout",
     "output_type": "stream",
     "text": [
      "30/30 [==============================] - 1s 9ms/step - loss: 0.3095 - acc: 0.9341 - precision_2: 0.9525 - recall_2: 0.9038\n",
      "0.9340508580207825\n"
     ]
    }
   ],
   "source": [
    "accuracy = loaded_model.evaluate(X_test, Y_test, verbose = 1)\n",
    "print(accuracy[1])"
   ]
  },
  {
   "cell_type": "markdown",
   "metadata": {},
   "source": [
    "Testing F1 Score"
   ]
  },
  {
   "cell_type": "code",
   "execution_count": 45,
   "metadata": {},
   "outputs": [
    {
     "name": "stdout",
     "output_type": "stream",
     "text": [
      "30/30 [==============================] - 1s 8ms/step\n",
      "Test F1 Score: 0.24340533734784547\n"
     ]
    }
   ],
   "source": [
    "Y_pred = loaded_model.predict(X_test)\n",
    "real = get_real(Y_test)\n",
    "pred = get_pred(Y_pred)\n",
    "\n",
    "true_labels_flat = [label for sublist in real for label in sublist]\n",
    "predicted_labels_flat = [label for sublist in pred for label in sublist]\n",
    "\n",
    "# Compute F1 score\n",
    "f1 = f1_score(true_labels_flat, predicted_labels_flat, average='macro')\n",
    "\n",
    "print(\"Test F1 Score:\", f1)"
   ]
  },
  {
   "cell_type": "markdown",
   "metadata": {},
   "source": [
    "# BiLSTM"
   ]
  },
  {
   "cell_type": "code",
   "execution_count": 46,
   "metadata": {},
   "outputs": [],
   "source": [
    "model_name=\"BiLSTM\""
   ]
  },
  {
   "cell_type": "markdown",
   "metadata": {},
   "source": [
    "Training"
   ]
  },
  {
   "cell_type": "code",
   "execution_count": 47,
   "metadata": {},
   "outputs": [],
   "source": [
    "input=Input(shape=(max_len,))\n",
    "BiLSTM_CRF_embed=Embedding(input_dim=vocab_size, output_dim=300, input_length=max_len, weights=[weights], trainable=False)(input)\n",
    "BiLSTM_CRF_bilstm=Bidirectional(LSTM(units=128, return_sequences=True, recurrent_dropout=0.1))(BiLSTM_CRF_embed)\n",
    "BiLSTM_model=(TimeDistributed(Dense(Y_test.shape[2], activation='relu')))(BiLSTM_CRF_bilstm)\n",
    "\n",
    "crf = CRF(Y_padded_test.shape[2])\n",
    "predicted_sequence, potentials, sequence_length, crf_kernel = crf(BiLSTM_model)\n",
    "\n",
    "BiLSTM_model=Model(input,potentials)"
   ]
  },
  {
   "cell_type": "markdown",
   "metadata": {},
   "source": [
    "Compiling the BiLSTM Model"
   ]
  },
  {
   "cell_type": "code",
   "execution_count": 48,
   "metadata": {},
   "outputs": [],
   "source": [
    "BiLSTM_model.compile(\n",
    "        optimizer=AdamW(learning_rate=0.002),\n",
    "        loss=SigmoidFocalCrossEntropy(),\n",
    "        metrics=['accuracy']\n",
    "    )"
   ]
  },
  {
   "cell_type": "code",
   "execution_count": 49,
   "metadata": {},
   "outputs": [],
   "source": [
    "BiLSTM_f1_callback = F1ScoreCallback(val_data=(X_val, Y_val),data=(X_train, Y_train))"
   ]
  },
  {
   "cell_type": "code",
   "execution_count": 50,
   "metadata": {},
   "outputs": [
    {
     "name": "stdout",
     "output_type": "stream",
     "text": [
      "Model: \"model\"\n",
      "_________________________________________________________________\n",
      " Layer (type)                Output Shape              Param #   \n",
      "=================================================================\n",
      " input_1 (InputLayer)        [(None, 70)]              0         \n",
      "                                                                 \n",
      " embedding_3 (Embedding)     (None, 70, 300)           9066000   \n",
      "                                                                 \n",
      " bidirectional (Bidirection  (None, 70, 256)           439296    \n",
      " al)                                                             \n",
      "                                                                 \n",
      " time_distributed_3 (TimeDi  (None, 70, 28)            7196      \n",
      " stributed)                                                      \n",
      "                                                                 \n",
      " crf (CRF)                   [(None, 70),              1652      \n",
      "                              (None, 70, 28),                    \n",
      "                              (None,),                           \n",
      "                              (28, 28)]                          \n",
      "                                                                 \n",
      "=================================================================\n",
      "Total params: 9514144 (36.29 MB)\n",
      "Trainable params: 448144 (1.71 MB)\n",
      "Non-trainable params: 9066000 (34.58 MB)\n",
      "_________________________________________________________________\n"
     ]
    }
   ],
   "source": [
    "BiLSTM_model.summary()"
   ]
  },
  {
   "cell_type": "markdown",
   "metadata": {},
   "source": [
    "Fitting the BiLSTM Model"
   ]
  },
  {
   "cell_type": "code",
   "execution_count": 51,
   "metadata": {},
   "outputs": [
    {
     "name": "stdout",
     "output_type": "stream",
     "text": [
      "Epoch 1/15\n"
     ]
    },
    {
     "name": "stdout",
     "output_type": "stream",
     "text": [
      "WARNING:tensorflow:Gradients do not exist for variables ['chain_kernel:0'] when minimizing the loss. If you're using `model.compile()`, did you forget to provide a `loss` argument?\n",
      "WARNING:tensorflow:Gradients do not exist for variables ['chain_kernel:0'] when minimizing the loss. If you're using `model.compile()`, did you forget to provide a `loss` argument?\n",
      "WARNING:tensorflow:Gradients do not exist for variables ['chain_kernel:0'] when minimizing the loss. If you're using `model.compile()`, did you forget to provide a `loss` argument?\n",
      "WARNING:tensorflow:Gradients do not exist for variables ['chain_kernel:0'] when minimizing the loss. If you're using `model.compile()`, did you forget to provide a `loss` argument?\n",
      "45/45 [==============================] - 2s 33ms/step\n",
      "251/251 [==============================] - 7s 30ms/step\n",
      "Val F1 Score: 0.06755059619099821 - Train F1 Score: 0.06811021632482964\n",
      "63/63 [==============================] - 57s 783ms/step - loss: 0.2082 - accuracy: 0.8837 - val_loss: 0.0871 - val_accuracy: 0.9116\n",
      "Epoch 2/15\n",
      "45/45 [==============================] - 2s 39ms/step\n",
      "251/251 [==============================] - 9s 34ms/step\n",
      "Val F1 Score: 0.07671036143780963 - Train F1 Score: 0.07538197351921694\n",
      "63/63 [==============================] - 50s 805ms/step - loss: 0.0715 - accuracy: 0.9197 - val_loss: 0.0663 - val_accuracy: 0.9200\n",
      "Epoch 3/15\n",
      "45/45 [==============================] - 2s 33ms/step\n",
      "251/251 [==============================] - 8s 32ms/step\n",
      "Val F1 Score: 0.09199901535015809 - Train F1 Score: 0.0919651197238053\n",
      "63/63 [==============================] - 48s 761ms/step - loss: 0.0707 - accuracy: 0.9192 - val_loss: 0.0631 - val_accuracy: 0.9265\n",
      "Epoch 4/15\n",
      "45/45 [==============================] - 2s 43ms/step\n",
      "251/251 [==============================] - 10s 40ms/step\n",
      "Val F1 Score: 0.09426372210286073 - Train F1 Score: 0.0944059091115984\n",
      "63/63 [==============================] - 52s 833ms/step - loss: 0.0570 - accuracy: 0.9274 - val_loss: 0.0553 - val_accuracy: 0.9277\n",
      "Epoch 5/15\n",
      " 7/63 [==>...........................] - ETA: 16s - loss: 0.0548 - accuracy: 0.9289"
     ]
    }
   ],
   "source": [
    "BiLSTM_training = BiLSTM_model.fit(X_train,Y_train,batch_size=128,epochs=15,validation_data=(X_val,Y_val),callbacks=[BiLSTM_f1_callback])"
   ]
  },
  {
   "cell_type": "markdown",
   "metadata": {},
   "source": [
    "Plotting the graph"
   ]
  },
  {
   "cell_type": "code",
   "execution_count": null,
   "metadata": {},
   "outputs": [
    {
     "data": {
      "image/png": "[encoded data removed]",
      "text/plain": [
       "<Figure size 1600x500 with 2 Axes>"
      ]
     },
     "metadata": {},
     "output_type": "display_data"
    }
   ],
   "source": [
    "draw_loss_graph(BiLSTM_training,model_name, BiLSTM_f1_callback.train_f1_scores, BiLSTM_f1_callback.val_f1_scores)\n",
    "save_model(BiLSTM_model,model_name,Embedding_name,Dataset)"
   ]
  },
  {
   "cell_type": "markdown",
   "metadata": {},
   "source": []
  },
  {
   "cell_type": "markdown",
   "metadata": {},
   "source": [
    "## Testing "
   ]
  },
  {
   "cell_type": "code",
   "execution_count": null,
   "metadata": {},
   "outputs": [],
   "source": [
    "loaded_model = load_model(model_name,Embedding_name,Dataset)"
   ]
  },
  {
   "cell_type": "markdown",
   "metadata": {},
   "source": [
    "Testing accuracy"
   ]
  },
  {
   "cell_type": "code",
   "execution_count": null,
   "metadata": {},
   "outputs": [
    {
     "name": "stdout",
     "output_type": "stream",
     "text": [
      "11/11 [==============================] - 2s 36ms/step - loss: 0.0217 - accuracy: 0.9731\n",
      "0.9731472730636597\n"
     ]
    }
   ],
   "source": [
    "accuracy = loaded_model.evaluate(X_test, Y_test, verbose = 1)\n",
    "print(accuracy[1])"
   ]
  },
  {
   "cell_type": "markdown",
   "metadata": {},
   "source": [
    "Testing F1 Score"
   ]
  },
  {
   "cell_type": "code",
   "execution_count": null,
   "metadata": {},
   "outputs": [
    {
     "name": "stdout",
     "output_type": "stream",
     "text": [
      "11/11 [==============================] - 1s 33ms/step\n",
      "Test F1 Score: 0.5738752823683098\n"
     ]
    }
   ],
   "source": [
    "Y_pred = loaded_model.predict(X_test)\n",
    "real = get_real(Y_test)\n",
    "pred = get_pred(Y_pred)\n",
    "\n",
    "true_labels_flat = [label for sublist in real for label in sublist]\n",
    "predicted_labels_flat = [label for sublist in pred for label in sublist]\n",
    "\n",
    "# Compute F1 score\n",
    "f1 = f1_score(true_labels_flat, predicted_labels_flat, average='macro')\n",
    "\n",
    "print(\"Test F1 Score:\", f1)"
   ]
  }
 ],
 "metadata": {
  "kernelspec": {
   "display_name": "Python 3",
   "language": "python",
   "name": "python3"
  },
  "language_info": {
   "codemirror_mode": {
    "name": "ipython",
    "version": 3
   },
   "file_extension": ".py",
   "mimetype": "text/x-python",
   "name": "python",
   "nbconvert_exporter": "python",
   "pygments_lexer": "ipython3",
   "version": "3.11.0"
  }
 },
 "nbformat": 4,
 "nbformat_minor": 2
}
