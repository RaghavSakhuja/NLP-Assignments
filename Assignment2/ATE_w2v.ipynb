{
 "cells": [
  {
   "cell_type": "code",
   "execution_count": 1,
   "metadata": {},
   "outputs": [
    {
     "name": "stdout",
     "output_type": "stream",
     "text": [
      "WARNING:tensorflow:From c:\\Users\\gupta\\AppData\\Local\\Programs\\Python\\Python311\\Lib\\site-packages\\keras\\src\\losses.py:2976: The name tf.losses.sparse_softmax_cross_entropy is deprecated. Please use tf.compat.v1.losses.sparse_softmax_cross_entropy instead.\n",
      "\n"
     ]
    },
    {
     "name": "stderr",
     "output_type": "stream",
     "text": [
      "c:\\Users\\gupta\\AppData\\Local\\Programs\\Python\\Python311\\Lib\\site-packages\\tensorflow_addons\\utils\\tfa_eol_msg.py:23: UserWarning: \n",
      "\n",
      "TensorFlow Addons (TFA) has ended development and introduction of new features.\n",
      "TFA has entered a minimal maintenance and release mode until a planned end of life in May 2024.\n",
      "Please modify downstream libraries to take dependencies from other repositories in our TensorFlow community (e.g. Keras, Keras-CV, and Keras-NLP). \n",
      "\n",
      "For more information see: https://github.com/tensorflow/addons/issues/2807 \n",
      "\n",
      "  warnings.warn(\n",
      "c:\\Users\\gupta\\AppData\\Local\\Programs\\Python\\Python311\\Lib\\site-packages\\tensorflow_addons\\utils\\ensure_tf_install.py:53: UserWarning: Tensorflow Addons supports using Python ops for all Tensorflow versions above or equal to 2.12.0 and strictly below 2.15.0 (nightly versions are not supported). \n",
      " The versions of TensorFlow you are currently using is 2.15.0 and is not supported. \n",
      "Some things might work, some things might not.\n",
      "If you were to encounter a bug, do not file an issue.\n",
      "If you want to make sure you're using a tested and supported configuration, either change the TensorFlow version or the TensorFlow Addons's version. \n",
      "You can find the compatibility matrix in TensorFlow Addon's readme:\n",
      "https://github.com/tensorflow/addons\n",
      "  warnings.warn(\n"
     ]
    }
   ],
   "source": [
    "from IMPORTS import *"
   ]
  },
  {
   "cell_type": "code",
   "execution_count": 2,
   "metadata": {},
   "outputs": [],
   "source": [
    "Embedding_name=\"word2vec\"\n",
    "Dataset=\"ATE\""
   ]
  },
  {
   "cell_type": "code",
   "execution_count": 3,
   "metadata": {},
   "outputs": [],
   "source": [
    "seed_value = 18\n",
    "np.random.seed(seed_value)\n",
    "tf.random.set_seed(seed_value)"
   ]
  },
  {
   "cell_type": "code",
   "execution_count": 4,
   "metadata": {},
   "outputs": [],
   "source": [
    "word2vec = KeyedVectors.load_word2vec_format('WordEmbeddings/Word2Vec.bin',binary=True)"
   ]
  },
  {
   "cell_type": "markdown",
   "metadata": {},
   "source": [
    "# Data Extraction and Preprocessing"
   ]
  },
  {
   "cell_type": "markdown",
   "metadata": {},
   "source": [
    "Reading ATE json files"
   ]
  },
  {
   "cell_type": "code",
   "execution_count": 5,
   "metadata": {},
   "outputs": [],
   "source": [
    "train = None\n",
    "test = None\n",
    "val = None\n",
    "with open(f\"Data\\processed\\{Dataset}_train.json\") as f1:\n",
    "    train = json.load(f1)\n",
    "\n",
    "with open(f\"Data\\processed\\{Dataset}_test.json\") as f2:\n",
    "    test = json.load(f2)\n",
    "\n",
    "with open(f\"Data\\processed\\{Dataset}_val.json\") as f3:\n",
    "    val = json.load(f3)\n",
    "\n"
   ]
  },
  {
   "cell_type": "markdown",
   "metadata": {},
   "source": [
    "processing into lists"
   ]
  },
  {
   "cell_type": "code",
   "execution_count": 6,
   "metadata": {},
   "outputs": [],
   "source": [
    "X_train,Y_train = create_train_test_val(train)\n",
    "X_test,Y_test = create_train_test_val(test)\n",
    "X_val,Y_val = create_train_test_val(val)"
   ]
  },
  {
   "cell_type": "markdown",
   "metadata": {},
   "source": [
    "Tokenizing the ATE Dataset"
   ]
  },
  {
   "cell_type": "code",
   "execution_count": 7,
   "metadata": {},
   "outputs": [],
   "source": [
    "X_train_tokenized, toke = TokenCreator(X_train,1)\n",
    "X_test_tokenized = TokenCreator(X_test,0,tokenizer = toke)\n",
    "X_val_tokenized = TokenCreator(X_val,0,tokenizer = toke)\n",
    "\n",
    "Y_train_tokenized,toke2 = TokenCreator(Y_train,0)\n",
    "Y_test_tokenized = TokenCreator(Y_test,0,tokenizer = toke2)\n",
    "Y_val_tokenized = TokenCreator(Y_val,0,tokenizer = toke2)"
   ]
  },
  {
   "cell_type": "markdown",
   "metadata": {},
   "source": [
    "Vocabulary of ATE"
   ]
  },
  {
   "cell_type": "code",
   "execution_count": 8,
   "metadata": {},
   "outputs": [
    {
     "data": {
      "text/plain": [
       "2406"
      ]
     },
     "execution_count": 8,
     "metadata": {},
     "output_type": "execute_result"
    }
   ],
   "source": [
    "st1 = find_vocab(X_train_tokenized)\n",
    "vocab_size  = len(st1) + 1 \n",
    "vocab_size"
   ]
  },
  {
   "cell_type": "code",
   "execution_count": 9,
   "metadata": {},
   "outputs": [
    {
     "data": {
      "text/plain": [
       "78"
      ]
     },
     "execution_count": 9,
     "metadata": {},
     "output_type": "execute_result"
    }
   ],
   "source": [
    "max_len=0\n",
    "\n",
    "for i in X_train_tokenized:\n",
    "    max_len = max(max_len,len(i))\n",
    "\n",
    "max_len"
   ]
  },
  {
   "cell_type": "markdown",
   "metadata": {},
   "source": [
    "Padding ATE"
   ]
  },
  {
   "cell_type": "code",
   "execution_count": 10,
   "metadata": {},
   "outputs": [],
   "source": [
    "X_padded_train = pad_sequences(X_train_tokenized, maxlen=max_len, padding=\"pre\", truncating=\"post\")\n",
    "Y_padded_train = pad_sequences(Y_train_tokenized, maxlen=max_len, padding=\"pre\", truncating=\"post\")\n",
    "\n",
    "X_padded_test = pad_sequences(X_test_tokenized, maxlen=max_len, padding=\"pre\", truncating=\"post\")\n",
    "Y_padded_test = pad_sequences(Y_test_tokenized, maxlen=max_len, padding=\"pre\", truncating=\"post\")\n",
    "\n",
    "X_padded_val = pad_sequences(X_val_tokenized, maxlen=max_len, padding=\"pre\", truncating=\"post\")\n",
    "Y_padded_val = pad_sequences(Y_val_tokenized, maxlen=max_len, padding=\"pre\", truncating=\"post\")       "
   ]
  },
  {
   "cell_type": "markdown",
   "metadata": {},
   "source": [
    "One hot encoding the ATE labels"
   ]
  },
  {
   "cell_type": "code",
   "execution_count": 11,
   "metadata": {},
   "outputs": [],
   "source": [
    "Y_padded_train = to_categorical(Y_padded_train)\n",
    "Y_padded_test = to_categorical(Y_padded_test)\n",
    "Y_padded_val = to_categorical(Y_padded_val)"
   ]
  },
  {
   "cell_type": "markdown",
   "metadata": {},
   "source": [
    "Assigning **ATE Word2Vec** mapping"
   ]
  },
  {
   "cell_type": "code",
   "execution_count": 12,
   "metadata": {},
   "outputs": [
    {
     "data": {
      "text/plain": [
       "{'#UK': 1,\n",
       " 'the': 2,\n",
       " '.': 3,\n",
       " ',': 4,\n",
       " 'and': 5,\n",
       " 'it': 6,\n",
       " 'to': 7,\n",
       " 'i': 8,\n",
       " 'is': 9,\n",
       " 'a': 10,\n",
       " 'of': 11,\n",
       " 'for': 12,\n",
       " 'with': 13,\n",
       " 'that': 14,\n",
       " 'my': 15,\n",
       " 'you': 16,\n",
       " 'this': 17,\n",
       " 'was': 18,\n",
       " 'in': 19,\n",
       " 'not': 20,\n",
       " 'on': 21,\n",
       " 'very': 22,\n",
       " 'but': 23,\n",
       " 'computer': 24,\n",
       " 'use': 25,\n",
       " 'have': 26,\n",
       " 'great': 27,\n",
       " 'they': 28,\n",
       " 'laptop': 29,\n",
       " \"n't\": 30,\n",
       " 'so': 31,\n",
       " 'has': 32,\n",
       " 'are': 33,\n",
       " 'battery': 34,\n",
       " 'had': 35,\n",
       " 'screen': 36,\n",
       " ')': 37,\n",
       " 'be': 38,\n",
       " 'as': 39,\n",
       " 'all': 40,\n",
       " '!': 41,\n",
       " '(': 42,\n",
       " \"'s\": 43,\n",
       " 'also': 44,\n",
       " 'me': 45,\n",
       " 'just': 46,\n",
       " 'easy': 47,\n",
       " 'when': 48,\n",
       " 'at': 49,\n",
       " 'or': 50,\n",
       " 'only': 51,\n",
       " 'which': 52,\n",
       " 'up': 53,\n",
       " 'life': 54,\n",
       " 'can': 55,\n",
       " 'windows': 56,\n",
       " 'than': 57,\n",
       " 'out': 58,\n",
       " 'if': 59,\n",
       " 'do': 60,\n",
       " 'after': 61,\n",
       " 'more': 62,\n",
       " 'keyboard': 63,\n",
       " 'would': 64,\n",
       " 'drive': 65,\n",
       " 'hard': 66,\n",
       " 'price': 67,\n",
       " 'from': 68,\n",
       " 'well': 69,\n",
       " 'because': 70,\n",
       " 'good': 71,\n",
       " 'one': 72,\n",
       " 'an': 73,\n",
       " 'like': 74,\n",
       " 'mac': 75,\n",
       " 'about': 76,\n",
       " 'quality': 77,\n",
       " 'its': 78,\n",
       " 'love': 79,\n",
       " 'get': 80,\n",
       " 'no': 81,\n",
       " 'software': 82,\n",
       " 'time': 83,\n",
       " 'even': 84,\n",
       " 'macbook': 85,\n",
       " 'will': 86,\n",
       " 'system': 87,\n",
       " 'apple': 88,\n",
       " 'other': 89,\n",
       " 'there': 90,\n",
       " 'does': 91,\n",
       " 'thing': 92,\n",
       " 'problem': 93,\n",
       " 'new': 94,\n",
       " 'much': 95,\n",
       " 'features': 96,\n",
       " 'any': 97,\n",
       " 'then': 98,\n",
       " 'programs': 99,\n",
       " 'power': 100,\n",
       " 'now': 101,\n",
       " 'service': 102,\n",
       " 'work': 103,\n",
       " 'buy': 104,\n",
       " 'works': 105,\n",
       " 'problems': 106,\n",
       " 'fast': 107,\n",
       " 'did': 108,\n",
       " 'toshiba': 109,\n",
       " '7': 110,\n",
       " 'could': 111,\n",
       " 'size': 112,\n",
       " 'what': 113,\n",
       " 'am': 114,\n",
       " 'too': 115,\n",
       " 'working': 116,\n",
       " 'back': 117,\n",
       " 'your': 118,\n",
       " ':': 119,\n",
       " 'speed': 120,\n",
       " 'machine': 121,\n",
       " 'best': 122,\n",
       " 'pro': 123,\n",
       " 'we': 124,\n",
       " 'were': 125,\n",
       " 'again': 126,\n",
       " 'pc': 127,\n",
       " 'performance': 128,\n",
       " 'little': 129,\n",
       " 'product': 130,\n",
       " 'many': 131,\n",
       " '-': 132,\n",
       " 'really': 133,\n",
       " 'by': 134,\n",
       " 'need': 135,\n",
       " 'first': 136,\n",
       " 'having': 137,\n",
       " \"''\": 138,\n",
       " 'some': 139,\n",
       " 'still': 140,\n",
       " 'months': 141,\n",
       " 'memory': 142,\n",
       " 'long': 143,\n",
       " 'been': 144,\n",
       " 'their': 145,\n",
       " 'bought': 146,\n",
       " 'better': 147,\n",
       " 'everything': 148,\n",
       " 'used': 149,\n",
       " 'warranty': 150,\n",
       " 'since': 151,\n",
       " 'worth': 152,\n",
       " 'graphics': 153,\n",
       " 'how': 154,\n",
       " 'design': 155,\n",
       " 'applications': 156,\n",
       " 'mouse': 157,\n",
       " 'comes': 158,\n",
       " 'run': 159,\n",
       " 'who': 160,\n",
       " 'every': 161,\n",
       " 'nice': 162,\n",
       " 'internet': 163,\n",
       " 'laptops': 164,\n",
       " 'never': 165,\n",
       " 'replaced': 166,\n",
       " '3': 167,\n",
       " 'support': 168,\n",
       " 'games': 169,\n",
       " 'bad': 170,\n",
       " 'same': 171,\n",
       " 'right': 172,\n",
       " '``': 173,\n",
       " 'runs': 174,\n",
       " 'looking': 175,\n",
       " 'enough': 176,\n",
       " 'using': 177,\n",
       " 'way': 178,\n",
       " 'running': 179,\n",
       " 'able': 180,\n",
       " 'program': 181,\n",
       " 'always': 182,\n",
       " 'lot': 183,\n",
       " 'dell': 184,\n",
       " 'another': 185,\n",
       " \"'ve\": 186,\n",
       " 'pad': 187,\n",
       " 'netbook': 188,\n",
       " 'got': 189,\n",
       " 'operating': 190,\n",
       " 'hp': 191,\n",
       " 'money': 192,\n",
       " 'most': 193,\n",
       " 'went': 194,\n",
       " 'such': 195,\n",
       " '$': 196,\n",
       " 'card': 197,\n",
       " 'them': 198,\n",
       " 'come': 199,\n",
       " 'large': 200,\n",
       " 'make': 201,\n",
       " 'gaming': 202,\n",
       " 'take': 203,\n",
       " 'hours': 204,\n",
       " 'look': 205,\n",
       " 'web': 206,\n",
       " 'over': 207,\n",
       " 'less': 208,\n",
       " 'ca': 209,\n",
       " 'around': 210,\n",
       " 'though': 211,\n",
       " 'excellent': 212,\n",
       " 'display': 213,\n",
       " 'made': 214,\n",
       " '?': 215,\n",
       " 'awesome': 216,\n",
       " 'while': 217,\n",
       " 'issue': 218,\n",
       " \"'m\": 219,\n",
       " 'makes': 220,\n",
       " 'next': 221,\n",
       " 'keep': 222,\n",
       " 'slow': 223,\n",
       " 'amazing': 224,\n",
       " 'month': 225,\n",
       " 'ever': 226,\n",
       " 'purchase': 227,\n",
       " 'perfect': 228,\n",
       " 'vista': 229,\n",
       " 'customer': 230,\n",
       " 'want': 231,\n",
       " 'carry': 232,\n",
       " 'feel': 233,\n",
       " 'bit': 234,\n",
       " 'small': 235,\n",
       " 'os': 236,\n",
       " 'easily': 237,\n",
       " 'should': 238,\n",
       " 'video': 239,\n",
       " 'overall': 240,\n",
       " 'two': 241,\n",
       " 'cheap': 242,\n",
       " 'off': 243,\n",
       " 'light': 244,\n",
       " 'find': 245,\n",
       " 'open': 246,\n",
       " 'called': 247,\n",
       " 'fix': 248,\n",
       " 'stopped': 249,\n",
       " 'go': 250,\n",
       " 'things': 251,\n",
       " '5': 252,\n",
       " 'key': 253,\n",
       " 'pay': 254,\n",
       " ';': 255,\n",
       " 'desktop': 256,\n",
       " 'cost': 257,\n",
       " 'fixed': 258,\n",
       " 'processor': 259,\n",
       " 'wonderful': 260,\n",
       " 'once': 261,\n",
       " 'sound': 262,\n",
       " 'pretty': 263,\n",
       " 'space': 264,\n",
       " '2': 265,\n",
       " 'down': 266,\n",
       " 'high': 267,\n",
       " 'day': 268,\n",
       " 'external': 269,\n",
       " 'fan': 270,\n",
       " 'started': 271,\n",
       " 'quickly': 272,\n",
       " 'ease': 273,\n",
       " '--': 274,\n",
       " 'word': 275,\n",
       " 'office': 276,\n",
       " 'without': 277,\n",
       " 'old': 278,\n",
       " 'computers': 279,\n",
       " 'came': 280,\n",
       " 'due': 281,\n",
       " 'lightweight': 282,\n",
       " 'cd': 283,\n",
       " 'see': 284,\n",
       " 'short': 285,\n",
       " 'say': 286,\n",
       " 'week': 287,\n",
       " 'repair': 288,\n",
       " 'ram': 289,\n",
       " 'charge': 290,\n",
       " 'boot': 291,\n",
       " 'completely': 292,\n",
       " 'warrenty': 293,\n",
       " 'took': 294,\n",
       " 'shipping': 295,\n",
       " 'microsoft': 296,\n",
       " 'doing': 297,\n",
       " 'set': 298,\n",
       " 'free': 299,\n",
       " 'virus': 300,\n",
       " 'keys': 301,\n",
       " 'supply': 302,\n",
       " 'feature': 303,\n",
       " 'send': 304,\n",
       " 'through': 305,\n",
       " 'know': 306,\n",
       " 'notebook': 307,\n",
       " 'being': 308,\n",
       " 'recommend': 309,\n",
       " 'trackpad': 310,\n",
       " 'compared': 311,\n",
       " 'think': 312,\n",
       " 'full': 313,\n",
       " 'anyone': 314,\n",
       " 'dvd': 315,\n",
       " 'faster': 316,\n",
       " 'change': 317,\n",
       " 'plus': 318,\n",
       " 'last': 319,\n",
       " 'something': 320,\n",
       " 'home': 321,\n",
       " 'company': 322,\n",
       " 'where': 323,\n",
       " 'before': 324,\n",
       " 'value': 325,\n",
       " 'built': 326,\n",
       " 'may': 327,\n",
       " 'however': 328,\n",
       " \"'re\": 329,\n",
       " 'usb': 330,\n",
       " 'brand': 331,\n",
       " 'past': 332,\n",
       " 'motherboard': 333,\n",
       " 'charger': 334,\n",
       " 'hardware': 335,\n",
       " 'simple': 336,\n",
       " 'within': 337,\n",
       " 'touch': 338,\n",
       " 'yet': 339,\n",
       " 'acer': 340,\n",
       " 'yes': 341,\n",
       " 'few': 342,\n",
       " 'webcam': 343,\n",
       " 'play': 344,\n",
       " \"'d\": 345,\n",
       " 'issues': 346,\n",
       " 'clear': 347,\n",
       " 'year': 348,\n",
       " 'thought': 349,\n",
       " 'far': 350,\n",
       " 'user': 351,\n",
       " 'itself': 352,\n",
       " '1': 353,\n",
       " 'although': 354,\n",
       " 'these': 355,\n",
       " 'easier': 356,\n",
       " 'extra': 357,\n",
       " 'port': 358,\n",
       " 'getting': 359,\n",
       " 'etc': 360,\n",
       " 'must': 361,\n",
       " 'speakers': 362,\n",
       " 'looks': 363,\n",
       " 'iphoto': 364,\n",
       " 'worked': 365,\n",
       " 'found': 366,\n",
       " 'big': 367,\n",
       " 'learn': 368,\n",
       " 'seems': 369,\n",
       " 'center': 370,\n",
       " 'lots': 371,\n",
       " 'frustrating': 372,\n",
       " 'help': 373,\n",
       " 'fact': 374,\n",
       " 'upgraded': 375,\n",
       " 'pcs': 376,\n",
       " 'connect': 377,\n",
       " 'board': 378,\n",
       " 'making': 379,\n",
       " 'products': 380,\n",
       " 'needs': 381,\n",
       " 'cool': 382,\n",
       " 'until': 383,\n",
       " 'course': 384,\n",
       " 'resolution': 385,\n",
       " 'itunes': 386,\n",
       " '13': 387,\n",
       " 'longer': 388,\n",
       " 'type': 389,\n",
       " 'store': 390,\n",
       " 'sent': 391,\n",
       " 'quick': 392,\n",
       " 'second': 393,\n",
       " 'processing': 394,\n",
       " 'poor': 395,\n",
       " 'expected': 396,\n",
       " 'years': 397,\n",
       " 'simply': 398,\n",
       " 'starter': 399,\n",
       " 'buttons': 400,\n",
       " 'build': 401,\n",
       " 'call': 402,\n",
       " 'others': 403,\n",
       " 'wireless': 404,\n",
       " 'plenty': 405,\n",
       " 'he': 406,\n",
       " 'actually': 407,\n",
       " 'failed': 408,\n",
       " 'someone': 409,\n",
       " 'cord': 410,\n",
       " 'extremely': 411,\n",
       " 'absolutely': 412,\n",
       " 'start': 413,\n",
       " 'dark': 414,\n",
       " 'multi-touch': 415,\n",
       " 'installed': 416,\n",
       " 'crashed': 417,\n",
       " 'added': 418,\n",
       " 'hd': 419,\n",
       " 'monitor': 420,\n",
       " 'several': 421,\n",
       " 'loud': 422,\n",
       " 'times': 423,\n",
       " '4': 424,\n",
       " 'wanted': 425,\n",
       " 'constantly': 426,\n",
       " 'systems': 427,\n",
       " 'touchpad': 428,\n",
       " 'editing': 429,\n",
       " 'phone': 430,\n",
       " 'hour': 431,\n",
       " 'browsing': 432,\n",
       " 'playing': 433,\n",
       " 'replace': 434,\n",
       " 'believe': 435,\n",
       " 'xp': 436,\n",
       " 'wo': 437,\n",
       " 'online': 438,\n",
       " 'garageband': 439,\n",
       " 'bright': 440,\n",
       " 'navigate': 441,\n",
       " 'ilife': 442,\n",
       " 'sleek': 443,\n",
       " 'least': 444,\n",
       " 'premium': 445,\n",
       " 'box': 446,\n",
       " 'away': 447,\n",
       " 'anything': 448,\n",
       " 'worry': 449,\n",
       " 'sure': 450,\n",
       " 'book': 451,\n",
       " 'experience': 452,\n",
       " 'told': 453,\n",
       " 'portable': 454,\n",
       " 'needed': 455,\n",
       " 'going': 456,\n",
       " 'sony': 457,\n",
       " 'macbooks': 458,\n",
       " 'done': 459,\n",
       " 'useful': 460,\n",
       " 'horrible': 461,\n",
       " '/': 462,\n",
       " 'weight': 463,\n",
       " 'movies': 464,\n",
       " 'led': 465,\n",
       " 'tried': 466,\n",
       " 'business': 467,\n",
       " 'background': 468,\n",
       " 'camera': 469,\n",
       " 'fine': 470,\n",
       " 'huge': 471,\n",
       " 'weeks': 472,\n",
       " 'deal': 473,\n",
       " 'superior': 474,\n",
       " 'upgrade': 475,\n",
       " 'media': 476,\n",
       " 'macs': 477,\n",
       " 'convenient': 478,\n",
       " 'real': 479,\n",
       " 'already': 480,\n",
       " 'worse': 481,\n",
       " 'specs': 482,\n",
       " 'disk': 483,\n",
       " 'front': 484,\n",
       " 'coming': 485,\n",
       " 'connection': 486,\n",
       " 'highly': 487,\n",
       " 'offers': 488,\n",
       " 'finally': 489,\n",
       " 'seemed': 490,\n",
       " 'disc': 491,\n",
       " 'enjoy': 492,\n",
       " 'extended': 493,\n",
       " 'knew': 494,\n",
       " 'trouble': 495,\n",
       " 'order': 496,\n",
       " 'documents': 497,\n",
       " 'crashing': 498,\n",
       " 'designed': 499,\n",
       " 'oh': 500,\n",
       " 'expensive': 501,\n",
       " 'top': 502,\n",
       " \"'ll\": 503,\n",
       " 'charged': 504,\n",
       " 'sales': 505,\n",
       " 'average': 506,\n",
       " 'maybe': 507,\n",
       " 'gets': 508,\n",
       " 'wish': 509,\n",
       " 'might': 510,\n",
       " 'backlit': 511,\n",
       " 'volume': 512,\n",
       " 'install': 513,\n",
       " 'impressed': 514,\n",
       " 'including': 515,\n",
       " 'built-in': 516,\n",
       " 'hooked': 517,\n",
       " 'drop': 518,\n",
       " 'guess': 519,\n",
       " 'tax': 520,\n",
       " 'buying': 521,\n",
       " 'iwork': 522,\n",
       " 'our': 523,\n",
       " 'especially': 524,\n",
       " 'replacement': 525,\n",
       " 'shows': 526,\n",
       " 'x': 527,\n",
       " 'older': 528,\n",
       " 'ports': 529,\n",
       " 'intel': 530,\n",
       " 'version': 531,\n",
       " 'email': 532,\n",
       " 'hot': 533,\n",
       " 'cheaper': 534,\n",
       " 'takes': 535,\n",
       " 'load': 536,\n",
       " 'storage': 537,\n",
       " 'tech': 538,\n",
       " 'users': 539,\n",
       " 'fairly': 540,\n",
       " 'reason': 541,\n",
       " 'end': 542,\n",
       " 'operation': 543,\n",
       " 'sharp': 544,\n",
       " 'nearly': 545,\n",
       " 'flawlessly': 546,\n",
       " 'higher': 547,\n",
       " 'music': 548,\n",
       " 'included': 549,\n",
       " 'expense': 550,\n",
       " 'osx': 551,\n",
       " 'functions': 552,\n",
       " 'tv': 553,\n",
       " 'interface': 554,\n",
       " 'pleased': 555,\n",
       " 'professional': 556,\n",
       " 'care': 557,\n",
       " 'apps': 558,\n",
       " 'watching': 559,\n",
       " 'else': 560,\n",
       " 'beautiful': 561,\n",
       " 'inch': 562,\n",
       " 'inside': 563,\n",
       " 'trial': 564,\n",
       " 'own': 565,\n",
       " 'noticed': 566,\n",
       " 'left': 567,\n",
       " 'model': 568,\n",
       " 'case': 569,\n",
       " 'happy': 570,\n",
       " 'into': 571,\n",
       " 'definitely': 572,\n",
       " 'matter': 573,\n",
       " 'different': 574,\n",
       " 'button': 575,\n",
       " 'opened': 576,\n",
       " 'sized': 577,\n",
       " 'typing': 578,\n",
       " 'days': 579,\n",
       " 'froze': 580,\n",
       " 'adding': 581,\n",
       " 'loose': 582,\n",
       " 'number': 583,\n",
       " 'photos': 584,\n",
       " 'solid': 585,\n",
       " 'edges': 586,\n",
       " 'geek': 587,\n",
       " 'college': 588,\n",
       " 'both': 589,\n",
       " 'pictures': 590,\n",
       " 'half': 591,\n",
       " 'network': 592,\n",
       " 'nothing': 593,\n",
       " 'services': 594,\n",
       " 'said': 595,\n",
       " 'darker': 596,\n",
       " 'standard': 597,\n",
       " 'pages': 598,\n",
       " '...': 599,\n",
       " 'strong': 600,\n",
       " 'purchased': 601,\n",
       " 'save': 602,\n",
       " 'almost': 603,\n",
       " 'apparently': 604,\n",
       " 'videos': 605,\n",
       " 'difference': 606,\n",
       " 'fit': 607,\n",
       " 'night': 608,\n",
       " 'usually': 609,\n",
       " 'entire': 610,\n",
       " 'stay': 611,\n",
       " 'properly': 612,\n",
       " 'plugged': 613,\n",
       " 'iphone': 614,\n",
       " 'talk': 615,\n",
       " 'crashes': 616,\n",
       " 'paying': 617,\n",
       " 'newer': 618,\n",
       " 'country': 619,\n",
       " 'certain': 620,\n",
       " 'drivers': 621,\n",
       " 'files': 622,\n",
       " 'slick': 623,\n",
       " 'died': 624,\n",
       " 'trying': 625,\n",
       " 'allows': 626,\n",
       " 'refused': 627,\n",
       " 'ipod': 628,\n",
       " 'mother': 629,\n",
       " 'yeah': 630,\n",
       " 'bar': 631,\n",
       " 'recovery': 632,\n",
       " 'available': 633,\n",
       " 'useless': 634,\n",
       " 'protection': 635,\n",
       " 'paid': 636,\n",
       " 'none': 637,\n",
       " 'reliable': 638,\n",
       " 'people': 639,\n",
       " 'chose': 640,\n",
       " 'spend': 641,\n",
       " 'mention': 642,\n",
       " 'slowly': 643,\n",
       " 'hold': 644,\n",
       " 'minutes': 645,\n",
       " 'stars': 646,\n",
       " '+': 647,\n",
       " 'drawback': 648,\n",
       " 'break': 649,\n",
       " 'responsive': 650,\n",
       " 'amount': 651,\n",
       " 'terrific': 652,\n",
       " 'mic': 653,\n",
       " 'thru': 654,\n",
       " 'cam': 655,\n",
       " 'mostly': 656,\n",
       " 'imovie': 657,\n",
       " 'colors': 658,\n",
       " 'crisp': 659,\n",
       " 'leopard': 660,\n",
       " 'above': 661,\n",
       " 'core': 662,\n",
       " 'becomes': 663,\n",
       " 'body': 664,\n",
       " 'low': 665,\n",
       " 'im': 666,\n",
       " 'whole': 667,\n",
       " '175': 668,\n",
       " 'side': 669,\n",
       " 'cooling': 670,\n",
       " 'viruses': 671,\n",
       " '8': 672,\n",
       " 'keeps': 673,\n",
       " 'friendly': 674,\n",
       " 'caused': 675,\n",
       " 'remove': 676,\n",
       " 'smooth': 677,\n",
       " 'quite': 678,\n",
       " 'soon': 679,\n",
       " 'machines': 680,\n",
       " 'components': 681,\n",
       " 'lasting': 682,\n",
       " 'smoothly': 683,\n",
       " 'loaded': 684,\n",
       " 'via': 685,\n",
       " 'pack': 686,\n",
       " 'liked': 687,\n",
       " 'ahead': 688,\n",
       " 'hated': 689,\n",
       " 'quiet': 690,\n",
       " 'thats': 691,\n",
       " 'three': 692,\n",
       " 'necessary': 693,\n",
       " 'hook': 694,\n",
       " 'satellite': 695,\n",
       " 'boots': 696,\n",
       " 'die': 697,\n",
       " 'received': 698,\n",
       " 'priced': 699,\n",
       " 'burn': 700,\n",
       " 'probably': 701,\n",
       " 'why': 702,\n",
       " 'lose': 703,\n",
       " '%': 704,\n",
       " 'unlike': 705,\n",
       " '17': 706,\n",
       " 'offer': 707,\n",
       " 'updates': 708,\n",
       " 'versions': 709,\n",
       " 'special': 710,\n",
       " 'broke': 711,\n",
       " 'black': 712,\n",
       " 'seen': 713,\n",
       " 'world': 714,\n",
       " 'awful': 715,\n",
       " 'comfortable': 716,\n",
       " 'yourself': 717,\n",
       " 'doesnt': 718,\n",
       " 'during': 719,\n",
       " 'line': 720,\n",
       " 'clean': 721,\n",
       " 'discover': 722,\n",
       " 'looked': 723,\n",
       " 'rma': 724,\n",
       " 'contacted': 725,\n",
       " 'ups': 726,\n",
       " 'durable': 727,\n",
       " 'broken': 728,\n",
       " 'gb': 729,\n",
       " 'reasonable': 730,\n",
       " 'noise': 731,\n",
       " 'constant': 732,\n",
       " 'ghz': 733,\n",
       " '500gb': 734,\n",
       " 'instead': 735,\n",
       " 'access': 736,\n",
       " 'rest': 737,\n",
       " 'wheel': 738,\n",
       " 'school': 739,\n",
       " 'programming': 740,\n",
       " 'worst': 741,\n",
       " 'blue': 742,\n",
       " 'larger': 743,\n",
       " 'gives': 744,\n",
       " 'relatively': 745,\n",
       " 'tutorials': 746,\n",
       " 'disappointing': 747,\n",
       " 'plug': 748,\n",
       " 'capabilities': 749,\n",
       " 'point': 750,\n",
       " 'seem': 751,\n",
       " 'downfall': 752,\n",
       " 'purchasing': 753,\n",
       " 'except': 754,\n",
       " 'plastic': 755,\n",
       " 'returned': 756,\n",
       " 'speaker': 757,\n",
       " 'student': 758,\n",
       " 'portability': 759,\n",
       " 'five': 760,\n",
       " 'person': 761,\n",
       " 'stuff': 762,\n",
       " 'turns': 763,\n",
       " 'often': 764,\n",
       " 'device': 765,\n",
       " 'fun': 766,\n",
       " 'plan': 767,\n",
       " 'previous': 768,\n",
       " 'operate': 769,\n",
       " 'unable': 770,\n",
       " 'track': 771,\n",
       " 'squad': 772,\n",
       " 'known': 773,\n",
       " 'either': 774,\n",
       " 'ask': 775,\n",
       " 'give': 776,\n",
       " 'expired': 777,\n",
       " 'fits': 778,\n",
       " 'budget': 779,\n",
       " 'besides': 780,\n",
       " 'slightly': 781,\n",
       " 'computing': 782,\n",
       " 'room': 783,\n",
       " 'bios': 784,\n",
       " 'benefits': 785,\n",
       " 'spoke': 786,\n",
       " 'she': 787,\n",
       " 'fantastic': 788,\n",
       " 'decent': 789,\n",
       " 'shipped': 790,\n",
       " 'general': 791,\n",
       " 'claim': 792,\n",
       " 'twice': 793,\n",
       " 'handle': 794,\n",
       " 'numbers': 795,\n",
       " 'sensitive': 796,\n",
       " 'cords': 797,\n",
       " 'taking': 798,\n",
       " 'gui': 799,\n",
       " 'bundled': 800,\n",
       " 'gorgeous': 801,\n",
       " 'turned': 802,\n",
       " 'freaking': 803,\n",
       " 'turn': 804,\n",
       " 'steady': 805,\n",
       " 'unnecessary': 806,\n",
       " 'unless': 807,\n",
       " 'suite': 808,\n",
       " 'satisfied': 809,\n",
       " 'barely': 810,\n",
       " 'connected': 811,\n",
       " 'pure': 812,\n",
       " 'snap': 813,\n",
       " '30': 814,\n",
       " 'helps': 815,\n",
       " 'occasionally': 816,\n",
       " 'hundred': 817,\n",
       " 'dollars': 818,\n",
       " 'preloaded': 819,\n",
       " 'along': 820,\n",
       " 'realized': 821,\n",
       " 'kinda': 822,\n",
       " 'speaking': 823,\n",
       " 'browser': 824,\n",
       " 'under': 825,\n",
       " 'ago': 826,\n",
       " 'forced': 827,\n",
       " 'website': 828,\n",
       " 'force': 829,\n",
       " 'four': 830,\n",
       " 'advantage': 831,\n",
       " 'increase': 832,\n",
       " 'heated': 833,\n",
       " 'opening': 834,\n",
       " 'poorly': 835,\n",
       " 'intuitive': 836,\n",
       " 'download': 837,\n",
       " 'glass': 838,\n",
       " 'continued': 839,\n",
       " 'simpler': 840,\n",
       " 'forward': 841,\n",
       " 'genius': 842,\n",
       " '10': 843,\n",
       " 'movie': 844,\n",
       " 'bluetooth': 845,\n",
       " 'customers': 846,\n",
       " 'white': 847,\n",
       " 'updated': 848,\n",
       " 'color': 849,\n",
       " 'comparison': 850,\n",
       " 'factor': 851,\n",
       " 'familiar': 852,\n",
       " 'couple': 853,\n",
       " 'complaints': 854,\n",
       " 'construction': 855,\n",
       " 'security': 856,\n",
       " 'stuck': 857,\n",
       " 'didnt': 858,\n",
       " 'dont': 859,\n",
       " 'safari': 860,\n",
       " 'delivery': 861,\n",
       " 'anytime': 862,\n",
       " 'mind': 863,\n",
       " 'ordered': 864,\n",
       " 'saved': 865,\n",
       " 'crystal': 866,\n",
       " 'owning': 867,\n",
       " 'become': 868,\n",
       " 'incredibly': 869,\n",
       " 'powerbook': 870,\n",
       " 'easiest': 871,\n",
       " 'surface': 872,\n",
       " 'snow': 873,\n",
       " 'learning': 874,\n",
       " 'picked': 875,\n",
       " 'check': 876,\n",
       " 'missing': 877,\n",
       " 'dual': 878,\n",
       " 'charging': 879,\n",
       " 'stand': 880,\n",
       " 'appleworks': 881,\n",
       " 'paint': 882,\n",
       " 'early': 883,\n",
       " 'edition': 884,\n",
       " 'report': 885,\n",
       " 'cheaply': 886,\n",
       " 'holds': 887,\n",
       " 'antivirus': 888,\n",
       " 'glad': 889,\n",
       " 'nicely': 890,\n",
       " 'part': 891,\n",
       " 'latest': 892,\n",
       " 'waited': 893,\n",
       " 'chat': 894,\n",
       " 'us': 895,\n",
       " 'wasted': 896,\n",
       " 'provides': 897,\n",
       " 'those': 898,\n",
       " 'unreliable': 899,\n",
       " 'meets': 900,\n",
       " 'spec': 901,\n",
       " 'burner': 902,\n",
       " 'discovered': 903,\n",
       " 'ran': 904,\n",
       " 'between': 905,\n",
       " '1/2': 906,\n",
       " 'edge': 907,\n",
       " 'phones': 908,\n",
       " 'terrible': 909,\n",
       " 'hate': 910,\n",
       " 'opinion': 911,\n",
       " 'gave': 912,\n",
       " 'daughter': 913,\n",
       " 'listen': 914,\n",
       " 'major': 915,\n",
       " 'heavy': 916,\n",
       " 'bulky': 917,\n",
       " 'electronic': 918,\n",
       " \"'\": 919,\n",
       " 'linux': 920,\n",
       " 'based': 921,\n",
       " 'sense': 922,\n",
       " 'rather': 923,\n",
       " 'processors': 924,\n",
       " 'hdmi': 925,\n",
       " 'firewire': 926,\n",
       " 'image': 927,\n",
       " 'kind': 928,\n",
       " 'clicking': 929,\n",
       " 'unsteady': 930,\n",
       " 'bugs': 931,\n",
       " 'junk': 932,\n",
       " 'facebook': 933,\n",
       " 'file': 934,\n",
       " 'particular': 935,\n",
       " 'truly': 936,\n",
       " 'bucks': 937,\n",
       " 'beyond': 938,\n",
       " 'duty': 939,\n",
       " 'crash': 940,\n",
       " 'decides': 941,\n",
       " 'mode': 942,\n",
       " 'dropping': 943,\n",
       " 'stock': 944,\n",
       " 'given': 945,\n",
       " 'graphic': 946,\n",
       " 'decreased': 947,\n",
       " 'thrilled': 948,\n",
       " 'technical': 949,\n",
       " 'skype': 950,\n",
       " 'hdd': 951,\n",
       " 'main': 952,\n",
       " 'understand': 953,\n",
       " 'consider': 954,\n",
       " 'ms': 955,\n",
       " 'amazed': 956,\n",
       " 'fully': 957,\n",
       " 'letters': 958,\n",
       " 'complete': 959,\n",
       " 'ergonomic': 960,\n",
       " 'sometimes': 961,\n",
       " 'notebooks': 962,\n",
       " 'quicker': 963,\n",
       " 'photography': 964,\n",
       " '10-11': 965,\n",
       " 'depending': 966,\n",
       " 'level': 967,\n",
       " 'appearance': 968,\n",
       " '3rd': 969,\n",
       " 'bother': 970,\n",
       " 'data': 971,\n",
       " 'taught': 972,\n",
       " 'photoshop': 973,\n",
       " 'bigger': 974,\n",
       " 'loves': 975,\n",
       " 'husband': 976,\n",
       " 'signals': 977,\n",
       " 'multiple': 978,\n",
       " 'page': 979,\n",
       " 'non': 980,\n",
       " 'frequently': 981,\n",
       " 'ideal': 982,\n",
       " 'improvements': 983,\n",
       " 'images': 984,\n",
       " 'later': 985,\n",
       " 'options': 986,\n",
       " 'girlfriend': 987,\n",
       " 'hinge': 988,\n",
       " 'lcd': 989,\n",
       " 'late': 990,\n",
       " 'issued': 991,\n",
       " 'morning': 992,\n",
       " '60': 993,\n",
       " 'hiccups': 994,\n",
       " 'occasion': 995,\n",
       " 'presentations': 996,\n",
       " 'functioning': 997,\n",
       " 'obviously': 998,\n",
       " 'hinges': 999,\n",
       " 'advertised': 1000,\n",
       " ...}"
      ]
     },
     "execution_count": 12,
     "metadata": {},
     "output_type": "execute_result"
    }
   ],
   "source": [
    "weights = np.zeros((vocab_size, 300))\n",
    "mapping = toke.word_index \n",
    "mapping"
   ]
  },
  {
   "cell_type": "markdown",
   "metadata": {},
   "source": [
    "Fetching weights from pre trained Word2Vec model (ATE)"
   ]
  },
  {
   "cell_type": "code",
   "execution_count": 13,
   "metadata": {},
   "outputs": [],
   "source": [
    "for word, index in mapping.items():\n",
    "    if word in word2vec:\n",
    "        weights[index:] = word2vec[word]"
   ]
  },
  {
   "cell_type": "code",
   "execution_count": 14,
   "metadata": {},
   "outputs": [],
   "source": [
    "X_train= X_padded_train\n",
    "Y_train = Y_padded_train\n",
    "X_test = X_padded_test\n",
    "Y_test = Y_padded_test\n",
    "X_val = X_padded_val\n",
    "Y_val = Y_padded_val\n",
    "weights = weights\n",
    "word_token = toke\n",
    "tag_token = toke2"
   ]
  },
  {
   "cell_type": "code",
   "execution_count": 15,
   "metadata": {},
   "outputs": [],
   "source": [
    "Y_shape= Y_padded_train.shape[2]"
   ]
  },
  {
   "cell_type": "markdown",
   "metadata": {},
   "source": [
    "# Models"
   ]
  },
  {
   "cell_type": "markdown",
   "metadata": {},
   "source": [
    "## RNN"
   ]
  },
  {
   "cell_type": "code",
   "execution_count": 17,
   "metadata": {},
   "outputs": [],
   "source": [
    "model_name=\"RNN\""
   ]
  },
  {
   "cell_type": "markdown",
   "metadata": {},
   "source": [
    "### Training"
   ]
  },
  {
   "cell_type": "code",
   "execution_count": 18,
   "metadata": {},
   "outputs": [
    {
     "name": "stdout",
     "output_type": "stream",
     "text": [
      "WARNING:tensorflow:From c:\\Users\\gupta\\AppData\\Local\\Programs\\Python\\Python311\\Lib\\site-packages\\keras\\src\\backend.py:873: The name tf.get_default_graph is deprecated. Please use tf.compat.v1.get_default_graph instead.\n",
      "\n"
     ]
    }
   ],
   "source": [
    "rnn_model = Sequential()\n",
    "rnn_model.add(Embedding(input_dim = vocab_size,output_dim = 300,input_length  = max_len,weights = [weights],trainable = False))\n",
    "rnn_model.add(SimpleRNN(64, return_sequences=True))\n",
    "rnn_model.add(TimeDistributed(Dense(Y_shape, activation='softmax')))"
   ]
  },
  {
   "cell_type": "markdown",
   "metadata": {},
   "source": [
    "Compiling the rnn Word2Vec Model"
   ]
  },
  {
   "cell_type": "code",
   "execution_count": 19,
   "metadata": {},
   "outputs": [
    {
     "name": "stdout",
     "output_type": "stream",
     "text": [
      "WARNING:tensorflow:From c:\\Users\\gupta\\AppData\\Local\\Programs\\Python\\Python311\\Lib\\site-packages\\keras\\src\\optimizers\\__init__.py:309: The name tf.train.Optimizer is deprecated. Please use tf.compat.v1.train.Optimizer instead.\n",
      "\n"
     ]
    }
   ],
   "source": [
    "rnn_model.compile(loss='categorical_crossentropy',optimizer='adam',metrics=['acc',Precision(),Recall()])"
   ]
  },
  {
   "cell_type": "code",
   "execution_count": 20,
   "metadata": {},
   "outputs": [],
   "source": [
    "rnn_f1_callback = F1ScoreCallback(val_data=(X_val, Y_val),data=(X_train, Y_train))\n"
   ]
  },
  {
   "cell_type": "code",
   "execution_count": 21,
   "metadata": {},
   "outputs": [
    {
     "name": "stdout",
     "output_type": "stream",
     "text": [
      "Model: \"sequential\"\n",
      "_________________________________________________________________\n",
      " Layer (type)                Output Shape              Param #   \n",
      "=================================================================\n",
      " embedding (Embedding)       (None, 78, 300)           721800    \n",
      "                                                                 \n",
      " simple_rnn (SimpleRNN)      (None, 78, 64)            23360     \n",
      "                                                                 \n",
      " time_distributed (TimeDist  (None, 78, 4)             260       \n",
      " ributed)                                                        \n",
      "                                                                 \n",
      "=================================================================\n",
      "Total params: 745420 (2.84 MB)\n",
      "Trainable params: 23620 (92.27 KB)\n",
      "Non-trainable params: 721800 (2.75 MB)\n",
      "_________________________________________________________________\n"
     ]
    }
   ],
   "source": [
    "rnn_model.summary()"
   ]
  },
  {
   "cell_type": "markdown",
   "metadata": {},
   "source": [
    "Fitting the rnn model"
   ]
  },
  {
   "cell_type": "code",
   "execution_count": 22,
   "metadata": {},
   "outputs": [
    {
     "name": "stdout",
     "output_type": "stream",
     "text": [
      "Epoch 1/15\n",
      "WARNING:tensorflow:From c:\\Users\\gupta\\AppData\\Local\\Programs\\Python\\Python311\\Lib\\site-packages\\keras\\src\\utils\\tf_utils.py:492: The name tf.ragged.RaggedTensorValue is deprecated. Please use tf.compat.v1.ragged.RaggedTensorValue instead.\n",
      "\n",
      "WARNING:tensorflow:From c:\\Users\\gupta\\AppData\\Local\\Programs\\Python\\Python311\\Lib\\site-packages\\keras\\src\\engine\\base_layer_utils.py:384: The name tf.executing_eagerly_outside_functions is deprecated. Please use tf.compat.v1.executing_eagerly_outside_functions instead.\n",
      "\n",
      "7/7 [==============================] - 0s 6ms/steposs: 1.1346 - acc: 0.8988 - precision: 0.9258 - recall: 0.14\n",
      "29/29 [==============================] - 0s 6ms/step\n",
      "Val F1 Score: 0.43201028311335654 - Train F1 Score: 0.4359684386371664\n",
      "8/8 [==============================] - 5s 384ms/step - loss: 1.1300 - acc: 0.8990 - precision: 0.9259 - recall: 0.1553 - val_loss: 0.6491 - val_acc: 0.9044 - val_precision: 0.9103 - val_recall: 0.6895\n",
      "Epoch 2/15\n",
      "7/7 [==============================] - 0s 7ms/steposs: 0.4974 - acc: 0.9221 - precision: 0.9236 - recall: 0.78\n",
      "29/29 [==============================] - 0s 7ms/step\n",
      "Val F1 Score: 0.4796745622894669 - Train F1 Score: 0.47664655569887343\n",
      "8/8 [==============================] - 2s 307ms/step - loss: 0.4962 - acc: 0.9224 - precision: 0.9239 - recall: 0.7822 - val_loss: 0.3370 - val_acc: 0.9579 - val_precision: 0.9578 - val_recall: 0.8734\n",
      "Epoch 3/15\n",
      "7/7 [==============================] - 0s 6ms/steposs: 0.3544 - acc: 0.9283 - precision: 0.9285 - recall: 0.85\n",
      "29/29 [==============================] - 0s 6ms/step\n",
      "Val F1 Score: 0.4392163128308045 - Train F1 Score: 0.44262464856485556\n",
      "8/8 [==============================] - 2s 301ms/step - loss: 0.3539 - acc: 0.9283 - precision: 0.9284 - recall: 0.8572 - val_loss: 0.3471 - val_acc: 0.9129 - val_precision: 0.9093 - val_recall: 0.8603\n",
      "Epoch 4/15\n",
      "7/7 [==============================] - 0s 6ms/steposs: 0.3312 - acc: 0.9177 - precision: 0.9147 - recall: 0.86\n",
      "29/29 [==============================] - 0s 7ms/step\n",
      "Val F1 Score: 0.44905935191865687 - Train F1 Score: 0.4530483225688181\n",
      "8/8 [==============================] - 2s 322ms/step - loss: 0.3311 - acc: 0.9177 - precision: 0.9148 - recall: 0.8655 - val_loss: 0.3034 - val_acc: 0.9244 - val_precision: 0.9216 - val_recall: 0.8723\n",
      "Epoch 5/15\n",
      "7/7 [==============================] - 0s 6ms/steposs: 0.2713 - acc: 0.9365 - precision: 0.9343 - recall: 0.88\n",
      "29/29 [==============================] - 0s 8ms/step\n",
      "Val F1 Score: 0.46619377192061867 - Train F1 Score: 0.4683327131592278\n",
      "8/8 [==============================] - 3s 357ms/step - loss: 0.2711 - acc: 0.9365 - precision: 0.9344 - recall: 0.8842 - val_loss: 0.2414 - val_acc: 0.9456 - val_precision: 0.9445 - val_recall: 0.8932\n",
      "Epoch 6/15\n",
      "7/7 [==============================] - 0s 5ms/steposs: 0.2255 - acc: 0.9505 - precision: 0.9501 - recall: 0.89\n",
      "29/29 [==============================] - 0s 7ms/step\n",
      "Val F1 Score: 0.4798220895130011 - Train F1 Score: 0.482003574739384\n",
      "8/8 [==============================] - 2s 303ms/step - loss: 0.2251 - acc: 0.9506 - precision: 0.9502 - recall: 0.8979 - val_loss: 0.2082 - val_acc: 0.9552 - val_precision: 0.9557 - val_recall: 0.9030\n",
      "Epoch 7/15\n",
      "7/7 [==============================] - 0s 6ms/steposs: 0.1995 - acc: 0.9569 - precision: 0.9577 - recall: 0.91\n",
      "29/29 [==============================] - 0s 5ms/step\n",
      "Val F1 Score: 0.49903868104248966 - Train F1 Score: 0.4940331692973514\n",
      "8/8 [==============================] - 2s 273ms/step - loss: 0.1994 - acc: 0.9569 - precision: 0.9577 - recall: 0.9111 - val_loss: 0.1867 - val_acc: 0.9591 - val_precision: 0.9606 - val_recall: 0.9187\n",
      "Epoch 8/15\n",
      "7/7 [==============================] - 0s 6ms/steposs: 0.1815 - acc: 0.9602 - precision: 0.9616 - recall: 0.91\n",
      "29/29 [==============================] - 0s 6ms/step\n",
      "Val F1 Score: 0.5161980421068852 - Train F1 Score: 0.5093135628478482\n",
      "8/8 [==============================] - 2s 302ms/step - loss: 0.1814 - acc: 0.9602 - precision: 0.9616 - recall: 0.9196 - val_loss: 0.1711 - val_acc: 0.9618 - val_precision: 0.9638 - val_recall: 0.9214\n",
      "Epoch 9/15\n",
      "7/7 [==============================] - 0s 5ms/steposs: 0.1679 - acc: 0.9627 - precision: 0.9643 - recall: 0.92\n",
      "29/29 [==============================] - 0s 5ms/step\n",
      "Val F1 Score: 0.5313319396611217 - Train F1 Score: 0.5225417682306867\n",
      "8/8 [==============================] - 2s 284ms/step - loss: 0.1679 - acc: 0.9628 - precision: 0.9644 - recall: 0.9215 - val_loss: 0.1589 - val_acc: 0.9650 - val_precision: 0.9665 - val_recall: 0.9244\n",
      "Epoch 10/15\n",
      "7/7 [==============================] - 0s 6ms/steposs: 0.1571 - acc: 0.9647 - precision: 0.9675 - recall: 0.92\n",
      "29/29 [==============================] - 0s 5ms/step\n",
      "Val F1 Score: 0.5436471519772907 - Train F1 Score: 0.5353904614231861\n",
      "8/8 [==============================] - 2s 269ms/step - loss: 0.1569 - acc: 0.9647 - precision: 0.9675 - recall: 0.9239 - val_loss: 0.1489 - val_acc: 0.9682 - val_precision: 0.9696 - val_recall: 0.9276\n",
      "Epoch 11/15\n",
      "7/7 [==============================] - 0s 6ms/steposs: 0.1475 - acc: 0.9675 - precision: 0.9698 - recall: 0.92\n",
      "29/29 [==============================] - 0s 5ms/step\n",
      "Val F1 Score: 0.5560619669872615 - Train F1 Score: 0.5457200572576828\n",
      "8/8 [==============================] - 2s 272ms/step - loss: 0.1476 - acc: 0.9675 - precision: 0.9697 - recall: 0.9266 - val_loss: 0.1405 - val_acc: 0.9688 - val_precision: 0.9717 - val_recall: 0.9277\n",
      "Epoch 12/15\n",
      "7/7 [==============================] - 0s 5ms/steposs: 0.1398 - acc: 0.9677 - precision: 0.9715 - recall: 0.92\n",
      "29/29 [==============================] - 0s 5ms/step\n",
      "Val F1 Score: 0.5638525659266863 - Train F1 Score: 0.5579207885158884\n",
      "8/8 [==============================] - 2s 268ms/step - loss: 0.1396 - acc: 0.9678 - precision: 0.9716 - recall: 0.9265 - val_loss: 0.1331 - val_acc: 0.9696 - val_precision: 0.9728 - val_recall: 0.9286\n",
      "Epoch 13/15\n",
      "7/7 [==============================] - 0s 6ms/steposs: 0.1327 - acc: 0.9687 - precision: 0.9728 - recall: 0.93\n",
      "29/29 [==============================] - 0s 6ms/step\n",
      "Val F1 Score: 0.573110075566623 - Train F1 Score: 0.5710263814162327\n",
      "8/8 [==============================] - 2s 288ms/step - loss: 0.1326 - acc: 0.9687 - precision: 0.9728 - recall: 0.9309 - val_loss: 0.1265 - val_acc: 0.9706 - val_precision: 0.9736 - val_recall: 0.9422\n",
      "Epoch 14/15\n",
      "7/7 [==============================] - 0s 7ms/steposs: 0.1264 - acc: 0.9696 - precision: 0.9739 - recall: 0.94\n",
      "29/29 [==============================] - 0s 6ms/step\n",
      "Val F1 Score: 0.582551491056742 - Train F1 Score: 0.5796597871985708\n",
      "8/8 [==============================] - 2s 286ms/step - loss: 0.1265 - acc: 0.9696 - precision: 0.9739 - recall: 0.9405 - val_loss: 0.1209 - val_acc: 0.9715 - val_precision: 0.9749 - val_recall: 0.9426\n",
      "Epoch 15/15\n",
      "7/7 [==============================] - 0s 6ms/steposs: 0.1212 - acc: 0.9702 - precision: 0.9745 - recall: 0.94\n",
      "29/29 [==============================] - 0s 6ms/step\n",
      "Val F1 Score: 0.5934542342841873 - Train F1 Score: 0.5886999523985287\n",
      "8/8 [==============================] - 2s 274ms/step - loss: 0.1211 - acc: 0.9702 - precision: 0.9745 - recall: 0.9413 - val_loss: 0.1158 - val_acc: 0.9722 - val_precision: 0.9751 - val_recall: 0.9433\n"
     ]
    }
   ],
   "source": [
    "rnn_training = rnn_model.fit(X_train, Y_train, batch_size=128, epochs=15, validation_data=(X_val, Y_val), callbacks=[rnn_f1_callback])"
   ]
  },
  {
   "cell_type": "markdown",
   "metadata": {},
   "source": [
    "Plotting the graph"
   ]
  },
  {
   "cell_type": "code",
   "execution_count": 23,
   "metadata": {},
   "outputs": [
    {
     "data": {
      "image/png": "[encoded data removed]",
      "text/plain": [
       "<Figure size 1600x500 with 2 Axes>"
      ]
     },
     "metadata": {},
     "output_type": "display_data"
    }
   ],
   "source": [
    "draw_loss_graph(rnn_training,model_name, rnn_f1_callback.train_f1_scores, rnn_f1_callback.val_f1_scores)\n",
    "save_model(rnn_model,model_name,Embedding_name,Dataset)"
   ]
  },
  {
   "cell_type": "markdown",
   "metadata": {},
   "source": [
    "### Testing"
   ]
  },
  {
   "cell_type": "code",
   "execution_count": 24,
   "metadata": {},
   "outputs": [],
   "source": [
    "loaded_model = load_model(model_name,Embedding_name,Dataset)"
   ]
  },
  {
   "cell_type": "markdown",
   "metadata": {},
   "source": [
    "Testing accuracy"
   ]
  },
  {
   "cell_type": "code",
   "execution_count": 25,
   "metadata": {},
   "outputs": [
    {
     "name": "stdout",
     "output_type": "stream",
     "text": [
      "11/11 [==============================] - 1s 7ms/step - loss: 0.1247 - acc: 0.9698 - precision: 0.9733 - recall: 0.9416\n",
      "0.9698249101638794\n"
     ]
    }
   ],
   "source": [
    "accuracy = loaded_model.evaluate(X_test, Y_test, verbose = 1)\n",
    "print(accuracy[1])"
   ]
  },
  {
   "cell_type": "markdown",
   "metadata": {},
   "source": [
    "Testing F1 Score"
   ]
  },
  {
   "cell_type": "code",
   "execution_count": 26,
   "metadata": {},
   "outputs": [
    {
     "name": "stdout",
     "output_type": "stream",
     "text": [
      "11/11 [==============================] - 0s 7ms/step\n",
      "Test F1 Score: 0.5827060677120333\n"
     ]
    }
   ],
   "source": [
    "Y_pred = loaded_model.predict(X_test)\n",
    "real = get_real(Y_test)\n",
    "pred = get_pred(Y_pred)\n",
    "\n",
    "true_labels_flat = [label for sublist in real for label in sublist]\n",
    "predicted_labels_flat = [label for sublist in pred for label in sublist]\n",
    "\n",
    "# Compute F1 score\n",
    "f1 = f1_score(true_labels_flat, predicted_labels_flat, average='macro')\n",
    "\n",
    "print(\"Test F1 Score:\", f1)"
   ]
  },
  {
   "cell_type": "markdown",
   "metadata": {},
   "source": [
    "## GRU"
   ]
  },
  {
   "cell_type": "code",
   "execution_count": 27,
   "metadata": {},
   "outputs": [],
   "source": [
    "model_name=\"GRU\""
   ]
  },
  {
   "cell_type": "markdown",
   "metadata": {},
   "source": [
    "### Training"
   ]
  },
  {
   "cell_type": "code",
   "execution_count": 28,
   "metadata": {},
   "outputs": [],
   "source": [
    "gru_model = Sequential()\n",
    "gru_model.add(Embedding(input_dim = vocab_size,output_dim = 300,input_length  = max_len,weights = [weights],trainable = False))\n",
    "gru_model.add(GRU(64, return_sequences=True))\n",
    "gru_model.add(TimeDistributed(Dense(Y_train.shape[2], activation='softmax')))"
   ]
  },
  {
   "cell_type": "markdown",
   "metadata": {},
   "source": [
    "compiling "
   ]
  },
  {
   "cell_type": "code",
   "execution_count": 29,
   "metadata": {},
   "outputs": [],
   "source": [
    "gru_model.compile(loss='categorical_crossentropy',optimizer='adam',metrics=['acc',Precision(),Recall()])"
   ]
  },
  {
   "cell_type": "code",
   "execution_count": 30,
   "metadata": {},
   "outputs": [],
   "source": [
    "gru_f1_callback = F1ScoreCallback(val_data=(X_val, Y_val),data=(X_train, Y_train))"
   ]
  },
  {
   "cell_type": "code",
   "execution_count": 31,
   "metadata": {},
   "outputs": [
    {
     "name": "stdout",
     "output_type": "stream",
     "text": [
      "Model: \"sequential_1\"\n",
      "_________________________________________________________________\n",
      " Layer (type)                Output Shape              Param #   \n",
      "=================================================================\n",
      " embedding_1 (Embedding)     (None, 78, 300)           721800    \n",
      "                                                                 \n",
      " gru (GRU)                   (None, 78, 64)            70272     \n",
      "                                                                 \n",
      " time_distributed_1 (TimeDi  (None, 78, 4)             260       \n",
      " stributed)                                                      \n",
      "                                                                 \n",
      "=================================================================\n",
      "Total params: 792332 (3.02 MB)\n",
      "Trainable params: 70532 (275.52 KB)\n",
      "Non-trainable params: 721800 (2.75 MB)\n",
      "_________________________________________________________________\n"
     ]
    }
   ],
   "source": [
    "gru_model.summary()"
   ]
  },
  {
   "cell_type": "markdown",
   "metadata": {},
   "source": [
    "Fitting GRU"
   ]
  },
  {
   "cell_type": "code",
   "execution_count": 32,
   "metadata": {},
   "outputs": [
    {
     "name": "stdout",
     "output_type": "stream",
     "text": [
      "Epoch 1/15\n",
      "7/7 [==============================] - 1s 15ms/stepss: 1.2843 - acc: 0.9465 - precision_1: 0.9497 - recall_1: 0.0170\n",
      "29/29 [==============================] - 0s 12ms/step\n",
      "Val F1 Score: 0.4879897825739491 - Train F1 Score: 0.49008708677866775\n",
      "8/8 [==============================] - 6s 520ms/step - loss: 1.2831 - acc: 0.9468 - precision_1: 0.9488 - recall_1: 0.0184 - val_loss: 1.1417 - val_acc: 0.9747 - val_precision_1: 0.9294 - val_recall_1: 0.1625\n",
      "Epoch 2/15\n",
      "7/7 [==============================] - 0s 11ms/stepss: 1.0583 - acc: 0.9736 - precision_1: 0.9025 - recall_1: 0.\n",
      "29/29 [==============================] - 0s 11ms/step\n",
      "Val F1 Score: 0.48805806724536765 - Train F1 Score: 0.4857902688491085\n",
      "8/8 [==============================] - 3s 352ms/step - loss: 1.0574 - acc: 0.9736 - precision_1: 0.9022 - recall_1: 0.1994 - val_loss: 0.9365 - val_acc: 0.9748 - val_precision_1: 0.9015 - val_recall_1: 0.2084\n",
      "Epoch 3/15\n",
      "7/7 [==============================] - 0s 12ms/stepss: 0.8466 - acc: 0.9732 - precision_1: 0.8935 - recall_1: 0.\n",
      "29/29 [==============================] - 0s 11ms/step\n",
      "Val F1 Score: 0.4851289544451761 - Train F1 Score: 0.48584559964648383\n",
      "8/8 [==============================] - 2s 346ms/step - loss: 0.8444 - acc: 0.9734 - precision_1: 0.8940 - recall_1: 0.2099 - val_loss: 0.6331 - val_acc: 0.9729 - val_precision_1: 0.9725 - val_recall_1: 0.8109\n",
      "Epoch 4/15\n",
      "7/7 [==============================] - 0s 10ms/stepss: 0.4473 - acc: 0.9585 - precision_1: 0.9614 - recall_1: 0.\n",
      "29/29 [==============================] - 0s 10ms/step\n",
      "Val F1 Score: 0.444901821210694 - Train F1 Score: 0.4482037825758429\n",
      "8/8 [==============================] - 2s 341ms/step - loss: 0.4465 - acc: 0.9581 - precision_1: 0.9609 - recall_1: 0.8777 - val_loss: 0.3570 - val_acc: 0.9192 - val_precision_1: 0.9184 - val_recall_1: 0.8791\n",
      "Epoch 5/15\n",
      "7/7 [==============================] - 0s 11ms/stepss: 0.2668 - acc: 0.9432 - precision_1: 0.9435 - recall_1: 0.\n",
      "29/29 [==============================] - 0s 12ms/step\n",
      "Val F1 Score: 0.4869500163084828 - Train F1 Score: 0.4889763604844519\n",
      "8/8 [==============================] - 2s 346ms/step - loss: 0.2662 - acc: 0.9434 - precision_1: 0.9437 - recall_1: 0.9038 - val_loss: 0.2074 - val_acc: 0.9636 - val_precision_1: 0.9661 - val_recall_1: 0.9352\n",
      "Epoch 6/15\n",
      "7/7 [==============================] - 0s 9ms/steposs: 0.1983 - acc: 0.9658 - precision_1: 0.9682 - recall_1: 0.\n",
      "29/29 [==============================] - 0s 10ms/step\n",
      "Val F1 Score: 0.5253738202198841 - Train F1 Score: 0.5253838176195174\n",
      "8/8 [==============================] - 2s 321ms/step - loss: 0.1979 - acc: 0.9659 - precision_1: 0.9682 - recall_1: 0.9378 - val_loss: 0.1654 - val_acc: 0.9684 - val_precision_1: 0.9706 - val_recall_1: 0.9406\n",
      "Epoch 7/15\n",
      "7/7 [==============================] - 0s 10ms/stepss: 0.1568 - acc: 0.9666 - precision_1: 0.9685 - recall_1: 0.\n",
      "29/29 [==============================] - 0s 10ms/step\n",
      "Val F1 Score: 0.5346617589683699 - Train F1 Score: 0.5368283436104979\n",
      "8/8 [==============================] - 2s 319ms/step - loss: 0.1568 - acc: 0.9665 - precision_1: 0.9685 - recall_1: 0.9392 - val_loss: 0.1431 - val_acc: 0.9665 - val_precision_1: 0.9690 - val_recall_1: 0.9396\n",
      "Epoch 8/15\n",
      "7/7 [==============================] - 0s 11ms/stepss: 0.1397 - acc: 0.9664 - precision_1: 0.9684 - recall_1: 0.\n",
      "29/29 [==============================] - 0s 12ms/step\n",
      "Val F1 Score: 0.5361341419470819 - Train F1 Score: 0.5348461892424036\n",
      "8/8 [==============================] - 3s 381ms/step - loss: 0.1396 - acc: 0.9664 - precision_1: 0.9684 - recall_1: 0.9447 - val_loss: 0.1274 - val_acc: 0.9689 - val_precision_1: 0.9710 - val_recall_1: 0.9541\n",
      "Epoch 9/15\n",
      "7/7 [==============================] - 0s 12ms/stepss: 0.1256 - acc: 0.9689 - precision_1: 0.9708 - recall_1: 0.\n",
      "29/29 [==============================] - 0s 12ms/step\n",
      "Val F1 Score: 0.5363363053910172 - Train F1 Score: 0.5374291167474453\n",
      "8/8 [==============================] - 3s 354ms/step - loss: 0.1255 - acc: 0.9689 - precision_1: 0.9709 - recall_1: 0.9546 - val_loss: 0.1165 - val_acc: 0.9706 - val_precision_1: 0.9727 - val_recall_1: 0.9564\n",
      "Epoch 10/15\n",
      "7/7 [==============================] - 0s 13ms/stepss: 0.1172 - acc: 0.9727 - precision_1: 0.9748 - recall_1: 0.\n",
      "29/29 [==============================] - 0s 13ms/step\n",
      "Val F1 Score: 0.5469643271278364 - Train F1 Score: 0.5465954730852876\n",
      "8/8 [==============================] - 3s 366ms/step - loss: 0.1170 - acc: 0.9727 - precision_1: 0.9749 - recall_1: 0.9581 - val_loss: 0.1094 - val_acc: 0.9753 - val_precision_1: 0.9775 - val_recall_1: 0.9605\n",
      "Epoch 11/15\n",
      "7/7 [==============================] - 0s 11ms/stepss: 0.1100 - acc: 0.9738 - precision_1: 0.9766 - recall_1: 0.\n",
      "29/29 [==============================] - 0s 11ms/step\n",
      "Val F1 Score: 0.5607007796226127 - Train F1 Score: 0.5565806722756391\n",
      "8/8 [==============================] - 3s 378ms/step - loss: 0.1101 - acc: 0.9738 - precision_1: 0.9766 - recall_1: 0.9589 - val_loss: 0.1032 - val_acc: 0.9755 - val_precision_1: 0.9783 - val_recall_1: 0.9608\n",
      "Epoch 12/15\n",
      "7/7 [==============================] - 0s 12ms/stepss: 0.1044 - acc: 0.9737 - precision_1: 0.9775 - recall_1: 0.\n",
      "29/29 [==============================] - 0s 12ms/step\n",
      "Val F1 Score: 0.5632973512638314 - Train F1 Score: 0.5678152986859024\n",
      "8/8 [==============================] - 3s 411ms/step - loss: 0.1042 - acc: 0.9738 - precision_1: 0.9775 - recall_1: 0.9587 - val_loss: 0.0984 - val_acc: 0.9755 - val_precision_1: 0.9793 - val_recall_1: 0.9608\n",
      "Epoch 13/15\n",
      "7/7 [==============================] - 0s 12ms/stepss: 0.0997 - acc: 0.9741 - precision_1: 0.9785 - recall_1: 0.\n",
      "29/29 [==============================] - 0s 12ms/step\n",
      "Val F1 Score: 0.5675766372423792 - Train F1 Score: 0.5753605787226175\n",
      "8/8 [==============================] - 3s 414ms/step - loss: 0.0996 - acc: 0.9741 - precision_1: 0.9785 - recall_1: 0.9587 - val_loss: 0.0942 - val_acc: 0.9758 - val_precision_1: 0.9797 - val_recall_1: 0.9611\n",
      "Epoch 14/15\n",
      "7/7 [==============================] - 0s 11ms/stepss: 0.0955 - acc: 0.9747 - precision_1: 0.9796 - recall_1: 0.\n",
      "29/29 [==============================] - 0s 9ms/step\n",
      "Val F1 Score: 0.5774296188624748 - Train F1 Score: 0.5844383646455207\n",
      "8/8 [==============================] - 2s 313ms/step - loss: 0.0956 - acc: 0.9748 - precision_1: 0.9795 - recall_1: 0.9590 - val_loss: 0.0905 - val_acc: 0.9766 - val_precision_1: 0.9808 - val_recall_1: 0.9612\n",
      "Epoch 15/15\n",
      "7/7 [==============================] - 0s 10ms/stepss: 0.0922 - acc: 0.9757 - precision_1: 0.9803 - recall_1: 0.\n",
      "29/29 [==============================] - 0s 9ms/step\n",
      "Val F1 Score: 0.5858028374398528 - Train F1 Score: 0.5955277285096989\n",
      "8/8 [==============================] - 2s 325ms/step - loss: 0.0921 - acc: 0.9757 - precision_1: 0.9803 - recall_1: 0.9595 - val_loss: 0.0874 - val_acc: 0.9775 - val_precision_1: 0.9811 - val_recall_1: 0.9619\n"
     ]
    }
   ],
   "source": [
    "gru_training = gru_model.fit(X_train, Y_train, batch_size=128, epochs=15, validation_data=(X_val, Y_val), callbacks=[gru_f1_callback])"
   ]
  },
  {
   "cell_type": "markdown",
   "metadata": {},
   "source": [
    "Plotting Graph"
   ]
  },
  {
   "cell_type": "code",
   "execution_count": 33,
   "metadata": {},
   "outputs": [
    {
     "data": {
      "image/png": "[encoded data removed]",
      "text/plain": [
       "<Figure size 1600x500 with 2 Axes>"
      ]
     },
     "metadata": {},
     "output_type": "display_data"
    }
   ],
   "source": [
    "draw_loss_graph(gru_training,model_name, gru_f1_callback.train_f1_scores, gru_f1_callback.val_f1_scores)\n",
    "save_model(gru_model,model_name,Embedding_name,Dataset)"
   ]
  },
  {
   "cell_type": "markdown",
   "metadata": {},
   "source": [
    "### Testing"
   ]
  },
  {
   "cell_type": "code",
   "execution_count": 34,
   "metadata": {},
   "outputs": [],
   "source": [
    "loaded_model = load_model(model_name,Embedding_name,Dataset)"
   ]
  },
  {
   "cell_type": "markdown",
   "metadata": {},
   "source": [
    "Testing Accuracy"
   ]
  },
  {
   "cell_type": "code",
   "execution_count": 35,
   "metadata": {},
   "outputs": [
    {
     "name": "stdout",
     "output_type": "stream",
     "text": [
      "11/11 [==============================] - 1s 10ms/step - loss: 0.0977 - acc: 0.9749 - precision_1: 0.9787 - recall_1: 0.9592\n",
      "0.9749453067779541\n"
     ]
    }
   ],
   "source": [
    "accuracy = loaded_model.evaluate(X_test, Y_test, verbose = 1)\n",
    "print(accuracy[1])"
   ]
  },
  {
   "cell_type": "markdown",
   "metadata": {},
   "source": [
    "Testing F1 Score"
   ]
  },
  {
   "cell_type": "code",
   "execution_count": 36,
   "metadata": {},
   "outputs": [
    {
     "name": "stdout",
     "output_type": "stream",
     "text": [
      "11/11 [==============================] - 1s 11ms/step\n",
      "Test F1 Score: 0.597209682644659\n"
     ]
    }
   ],
   "source": [
    "Y_pred = loaded_model.predict(X_test)\n",
    "real = get_real(Y_test)\n",
    "pred = get_pred(Y_pred)\n",
    "\n",
    "true_labels_flat = [label for sublist in real for label in sublist]\n",
    "predicted_labels_flat = [label for sublist in pred for label in sublist]\n",
    "\n",
    "# Compute F1 score\n",
    "f1 = f1_score(true_labels_flat, predicted_labels_flat, average='macro')\n",
    "\n",
    "print(\"Test F1 Score:\", f1)"
   ]
  },
  {
   "cell_type": "markdown",
   "metadata": {},
   "source": [
    "## LSTM"
   ]
  },
  {
   "cell_type": "code",
   "execution_count": 37,
   "metadata": {},
   "outputs": [],
   "source": [
    "model_name=\"LSTM\""
   ]
  },
  {
   "cell_type": "markdown",
   "metadata": {},
   "source": [
    "### Training"
   ]
  },
  {
   "cell_type": "code",
   "execution_count": 38,
   "metadata": {},
   "outputs": [],
   "source": [
    "lstm_model = Sequential()\n",
    "lstm_model.add(Embedding(input_dim = vocab_size,output_dim = 300,input_length  = max_len,weights = [weights],trainable = False))\n",
    "lstm_model.add(LSTM(64, return_sequences=True))\n",
    "lstm_model.add(TimeDistributed(Dense(Y_train.shape[2], activation='softmax')))# Lstm"
   ]
  },
  {
   "cell_type": "markdown",
   "metadata": {},
   "source": [
    "Compiling LSTM"
   ]
  },
  {
   "cell_type": "code",
   "execution_count": 39,
   "metadata": {},
   "outputs": [],
   "source": [
    "lstm_model.compile(loss='categorical_crossentropy',optimizer='adam',metrics=['acc',Precision(),Recall()])"
   ]
  },
  {
   "cell_type": "code",
   "execution_count": 40,
   "metadata": {},
   "outputs": [],
   "source": [
    "LSTM_f1_callback=F1ScoreCallback(val_data=(X_val, Y_val),data=(X_train, Y_train))"
   ]
  },
  {
   "cell_type": "code",
   "execution_count": 41,
   "metadata": {},
   "outputs": [
    {
     "name": "stdout",
     "output_type": "stream",
     "text": [
      "Model: \"sequential_2\"\n",
      "_________________________________________________________________\n",
      " Layer (type)                Output Shape              Param #   \n",
      "=================================================================\n",
      " embedding_2 (Embedding)     (None, 78, 300)           721800    \n",
      "                                                                 \n",
      " lstm (LSTM)                 (None, 78, 64)            93440     \n",
      "                                                                 \n",
      " time_distributed_2 (TimeDi  (None, 78, 4)             260       \n",
      " stributed)                                                      \n",
      "                                                                 \n",
      "=================================================================\n",
      "Total params: 815500 (3.11 MB)\n",
      "Trainable params: 93700 (366.02 KB)\n",
      "Non-trainable params: 721800 (2.75 MB)\n",
      "_________________________________________________________________\n"
     ]
    }
   ],
   "source": [
    "lstm_model.summary()"
   ]
  },
  {
   "cell_type": "markdown",
   "metadata": {},
   "source": [
    "Fitting LSTM"
   ]
  },
  {
   "cell_type": "code",
   "execution_count": 42,
   "metadata": {},
   "outputs": [
    {
     "name": "stdout",
     "output_type": "stream",
     "text": [
      "Epoch 1/15\n",
      "7/7 [==============================] - 1s 13ms/stepss: 1.3152 - acc: 0.9229 - precision_2: 0.9825 - recall_2: 8.0128e-04\n",
      "29/29 [==============================] - 0s 12ms/step\n",
      "Val F1 Score: 0.48623580233567637 - Train F1 Score: 0.4864827304713035\n",
      "8/8 [==============================] - 6s 486ms/step - loss: 1.3142 - acc: 0.9235 - precision_2: 0.9537 - recall_2: 0.0015 - val_loss: 1.1953 - val_acc: 0.9745 - val_precision_2: 0.9292 - val_recall_2: 0.1115\n",
      "Epoch 2/15\n",
      "7/7 [==============================] - 0s 10ms/stepss: 1.1123 - acc: 0.9735 - precision_2: 0.9039 - recall_2: 0.\n",
      "29/29 [==============================] - 0s 12ms/step\n",
      "Val F1 Score: 0.4856729723511685 - Train F1 Score: 0.48509777408017585\n",
      "8/8 [==============================] - 2s 345ms/step - loss: 1.1111 - acc: 0.9734 - precision_2: 0.9036 - recall_2: 0.1709 - val_loss: 0.9587 - val_acc: 0.9737 - val_precision_2: 0.9064 - val_recall_2: 0.1978\n",
      "Epoch 3/15\n",
      "7/7 [==============================] - 0s 11ms/stepss: 0.7756 - acc: 0.9462 - precision_2: 0.9043 - recall_2: 0.\n",
      "29/29 [==============================] - 0s 14ms/step\n",
      "Val F1 Score: 0.4199236621613246 - Train F1 Score: 0.4242393744021925\n",
      "8/8 [==============================] - 3s 356ms/step - loss: 0.7729 - acc: 0.9458 - precision_2: 0.9040 - recall_2: 0.4363 - val_loss: 0.5549 - val_acc: 0.8916 - val_precision_2: 0.8706 - val_recall_2: 0.7243\n",
      "Epoch 4/15\n",
      "7/7 [==============================] - 0s 12ms/stepss: 0.4738 - acc: 0.9288 - precision_2: 0.9185 - recall_2: 0.\n",
      "29/29 [==============================] - 0s 11ms/step\n",
      "Val F1 Score: 0.4653187754620136 - Train F1 Score: 0.4658852219622452\n",
      "8/8 [==============================] - 2s 347ms/step - loss: 0.4733 - acc: 0.9290 - precision_2: 0.9186 - recall_2: 0.7914 - val_loss: 0.3737 - val_acc: 0.9447 - val_precision_2: 0.9390 - val_recall_2: 0.8421\n",
      "Epoch 5/15\n",
      "7/7 [==============================] - 0s 11ms/stepss: 0.3439 - acc: 0.9427 - precision_2: 0.9378 - recall_2: 0.\n",
      "29/29 [==============================] - 0s 13ms/step\n",
      "Val F1 Score: 0.47384981890340316 - Train F1 Score: 0.4735020208657818\n",
      "8/8 [==============================] - 2s 345ms/step - loss: 0.3435 - acc: 0.9427 - precision_2: 0.9379 - recall_2: 0.8510 - val_loss: 0.2913 - val_acc: 0.9565 - val_precision_2: 0.9539 - val_recall_2: 0.8795\n",
      "Epoch 6/15\n",
      "7/7 [==============================] - 0s 11ms/stepss: 0.2751 - acc: 0.9570 - precision_2: 0.9545 - recall_2: 0.\n",
      "29/29 [==============================] - 0s 11ms/step\n",
      "Val F1 Score: 0.4737090242535016 - Train F1 Score: 0.4733416500432153\n",
      "8/8 [==============================] - 2s 337ms/step - loss: 0.2746 - acc: 0.9570 - precision_2: 0.9545 - recall_2: 0.8833 - val_loss: 0.2443 - val_acc: 0.9563 - val_precision_2: 0.9542 - val_recall_2: 0.8919\n",
      "Epoch 7/15\n",
      "7/7 [==============================] - 0s 12ms/stepss: 0.2321 - acc: 0.9601 - precision_2: 0.9585 - recall_2: 0.\n",
      "29/29 [==============================] - 0s 12ms/step\n",
      "Val F1 Score: 0.4793353695642085 - Train F1 Score: 0.4790585884411015\n",
      "8/8 [==============================] - 3s 363ms/step - loss: 0.2320 - acc: 0.9600 - precision_2: 0.9585 - recall_2: 0.8956 - val_loss: 0.2092 - val_acc: 0.9649 - val_precision_2: 0.9638 - val_recall_2: 0.9131\n",
      "Epoch 8/15\n",
      "7/7 [==============================] - 0s 15ms/stepss: 0.2061 - acc: 0.9633 - precision_2: 0.9621 - recall_2: 0.\n",
      "29/29 [==============================] - 0s 14ms/step\n",
      "Val F1 Score: 0.4776160079838987 - Train F1 Score: 0.4777671669015882\n",
      "8/8 [==============================] - 3s 398ms/step - loss: 0.2060 - acc: 0.9633 - precision_2: 0.9620 - recall_2: 0.9116 - val_loss: 0.1908 - val_acc: 0.9626 - val_precision_2: 0.9616 - val_recall_2: 0.9110\n",
      "Epoch 9/15\n",
      "7/7 [==============================] - 0s 11ms/stepss: 0.1902 - acc: 0.9638 - precision_2: 0.9628 - recall_2: 0.\n",
      "29/29 [==============================] - 0s 11ms/step\n",
      "Val F1 Score: 0.483003047508517 - Train F1 Score: 0.48227314568271173\n",
      "8/8 [==============================] - 2s 336ms/step - loss: 0.1901 - acc: 0.9639 - precision_2: 0.9628 - recall_2: 0.9120 - val_loss: 0.1815 - val_acc: 0.9701 - val_precision_2: 0.9691 - val_recall_2: 0.9186\n",
      "Epoch 10/15\n",
      "7/7 [==============================] - 0s 10ms/stepss: 0.1791 - acc: 0.9654 - precision_2: 0.9646 - recall_2: 0.\n",
      "29/29 [==============================] - 0s 11ms/step\n",
      "Val F1 Score: 0.48293298658568296 - Train F1 Score: 0.4820701120490883\n",
      "8/8 [==============================] - 3s 351ms/step - loss: 0.1789 - acc: 0.9654 - precision_2: 0.9646 - recall_2: 0.9194 - val_loss: 0.1692 - val_acc: 0.9699 - val_precision_2: 0.9693 - val_recall_2: 0.9313\n",
      "Epoch 11/15\n",
      "7/7 [==============================] - 0s 12ms/stepss: 0.1681 - acc: 0.9671 - precision_2: 0.9665 - recall_2: 0.\n",
      "29/29 [==============================] - 0s 11ms/step\n",
      "Val F1 Score: 0.48256005503357413 - Train F1 Score: 0.4815023947163742\n",
      "8/8 [==============================] - 2s 343ms/step - loss: 0.1682 - acc: 0.9670 - precision_2: 0.9664 - recall_2: 0.9282 - val_loss: 0.1599 - val_acc: 0.9694 - val_precision_2: 0.9687 - val_recall_2: 0.9307\n",
      "Epoch 12/15\n",
      "7/7 [==============================] - 0s 12ms/stepss: 0.1604 - acc: 0.9676 - precision_2: 0.9670 - recall_2: 0.\n",
      "29/29 [==============================] - 0s 12ms/step\n",
      "Val F1 Score: 0.48251632160888824 - Train F1 Score: 0.4819207662011321\n",
      "8/8 [==============================] - 2s 338ms/step - loss: 0.1603 - acc: 0.9677 - precision_2: 0.9671 - recall_2: 0.9289 - val_loss: 0.1533 - val_acc: 0.9693 - val_precision_2: 0.9687 - val_recall_2: 0.9303\n",
      "Epoch 13/15\n",
      "7/7 [==============================] - 0s 10ms/stepss: 0.1539 - acc: 0.9681 - precision_2: 0.9676 - recall_2: 0.\n",
      "29/29 [==============================] - 0s 11ms/step\n",
      "Val F1 Score: 0.48117360900014805 - Train F1 Score: 0.48107784024078337\n",
      "8/8 [==============================] - 2s 338ms/step - loss: 0.1539 - acc: 0.9681 - precision_2: 0.9676 - recall_2: 0.9293 - val_loss: 0.1483 - val_acc: 0.9675 - val_precision_2: 0.9671 - val_recall_2: 0.9288\n",
      "Epoch 14/15\n",
      "7/7 [==============================] - 0s 12ms/stepss: 0.1496 - acc: 0.9675 - precision_2: 0.9671 - recall_2: 0.\n",
      "29/29 [==============================] - 0s 11ms/step\n",
      "Val F1 Score: 0.4836769525425973 - Train F1 Score: 0.4838002864995342\n",
      "8/8 [==============================] - 2s 329ms/step - loss: 0.1496 - acc: 0.9676 - precision_2: 0.9672 - recall_2: 0.9286 - val_loss: 0.1423 - val_acc: 0.9710 - val_precision_2: 0.9711 - val_recall_2: 0.9323\n",
      "Epoch 15/15\n",
      "7/7 [==============================] - 0s 11ms/stepss: 0.1447 - acc: 0.9684 - precision_2: 0.9683 - recall_2: 0.\n",
      "29/29 [==============================] - 0s 11ms/step\n",
      "Val F1 Score: 0.48630525187710716 - Train F1 Score: 0.4851093138311525\n",
      "8/8 [==============================] - 3s 363ms/step - loss: 0.1446 - acc: 0.9685 - precision_2: 0.9683 - recall_2: 0.9295 - val_loss: 0.1383 - val_acc: 0.9723 - val_precision_2: 0.9729 - val_recall_2: 0.9335\n"
     ]
    }
   ],
   "source": [
    "lstm_training = lstm_model.fit(X_train, Y_train, batch_size=128, epochs=15, validation_data=(X_val, Y_val), callbacks=[LSTM_f1_callback])"
   ]
  },
  {
   "cell_type": "markdown",
   "metadata": {},
   "source": [
    "Plotting Graph"
   ]
  },
  {
   "cell_type": "code",
   "execution_count": 43,
   "metadata": {},
   "outputs": [
    {
     "data": {
      "image/png": "[encoded data removed]",
      "text/plain": [
       "<Figure size 1600x500 with 2 Axes>"
      ]
     },
     "metadata": {},
     "output_type": "display_data"
    }
   ],
   "source": [
    "draw_loss_graph(lstm_training, \"LSTM Model\", LSTM_f1_callback.train_f1_scores, LSTM_f1_callback.val_f1_scores)\n",
    "save_model(lstm_model, model_name, Embedding_name, Dataset)\n",
    "loaded_model = load_model(model_name,Embedding_name,Dataset)"
   ]
  },
  {
   "cell_type": "markdown",
   "metadata": {},
   "source": [
    "### Testing"
   ]
  },
  {
   "cell_type": "code",
   "execution_count": 44,
   "metadata": {},
   "outputs": [],
   "source": [
    "loaded_model = load_model(model_name,Embedding_name,Dataset)"
   ]
  },
  {
   "cell_type": "markdown",
   "metadata": {},
   "source": [
    "Testing accuracy"
   ]
  },
  {
   "cell_type": "code",
   "execution_count": 45,
   "metadata": {},
   "outputs": [
    {
     "name": "stdout",
     "output_type": "stream",
     "text": [
      "11/11 [==============================] - 2s 15ms/step - loss: 0.1453 - acc: 0.9703 - precision_2: 0.9709 - recall_2: 0.9314\n",
      "0.9702939391136169\n"
     ]
    }
   ],
   "source": [
    "accuracy = loaded_model.evaluate(X_test, Y_test, verbose = 1)\n",
    "print(accuracy[1])"
   ]
  },
  {
   "cell_type": "markdown",
   "metadata": {},
   "source": [
    "Testing F1 Score"
   ]
  },
  {
   "cell_type": "code",
   "execution_count": 46,
   "metadata": {},
   "outputs": [
    {
     "name": "stdout",
     "output_type": "stream",
     "text": [
      "11/11 [==============================] - 1s 12ms/step\n",
      "Test F1 Score: 0.481379727956899\n"
     ]
    }
   ],
   "source": [
    "Y_pred = loaded_model.predict(X_test)\n",
    "real = get_real(Y_test)\n",
    "pred = get_pred(Y_pred)\n",
    "\n",
    "true_labels_flat = [label for sublist in real for label in sublist]\n",
    "predicted_labels_flat = [label for sublist in pred for label in sublist]\n",
    "\n",
    "# Compute F1 score\n",
    "f1 = f1_score(true_labels_flat, predicted_labels_flat, average='macro')\n",
    "\n",
    "print(\"Test F1 Score:\", f1)"
   ]
  },
  {
   "cell_type": "markdown",
   "metadata": {},
   "source": [
    "# BiLSTM"
   ]
  },
  {
   "cell_type": "code",
   "execution_count": 47,
   "metadata": {},
   "outputs": [],
   "source": [
    "model_name=\"BiLSTM\""
   ]
  },
  {
   "cell_type": "markdown",
   "metadata": {},
   "source": [
    "Training"
   ]
  },
  {
   "cell_type": "code",
   "execution_count": 48,
   "metadata": {},
   "outputs": [],
   "source": [
    "input=Input(shape=(max_len,))\n",
    "BiLSTM_CRF_embed=Embedding(input_dim=vocab_size, output_dim=300, input_length=max_len, weights=[weights], trainable=False)(input)\n",
    "BiLSTM_CRF_bilstm=Bidirectional(LSTM(units=128, return_sequences=True, recurrent_dropout=0.1))(BiLSTM_CRF_embed)\n",
    "BiLSTM_model=(TimeDistributed(Dense(Y_train.shape[2], activation='relu')))(BiLSTM_CRF_bilstm)\n",
    "\n",
    "crf = CRF(Y_train.shape[2])\n",
    "predicted_sequence, potentials, sequence_length, crf_kernel = crf(BiLSTM_model)\n",
    "\n",
    "BiLSTM_model=Model(input,potentials)"
   ]
  },
  {
   "cell_type": "markdown",
   "metadata": {},
   "source": [
    "Compiling the BiLSTM Model"
   ]
  },
  {
   "cell_type": "code",
   "execution_count": 49,
   "metadata": {},
   "outputs": [],
   "source": [
    "BiLSTM_model.compile(\n",
    "        optimizer=AdamW(learning_rate=0.002),\n",
    "        loss=SigmoidFocalCrossEntropy(),\n",
    "        metrics=['accuracy']\n",
    "    )"
   ]
  },
  {
   "cell_type": "code",
   "execution_count": 50,
   "metadata": {},
   "outputs": [],
   "source": [
    "BiLSTM_f1_callback = F1ScoreCallback(val_data=(X_val, Y_val),data=(X_train, Y_train))"
   ]
  },
  {
   "cell_type": "code",
   "execution_count": 51,
   "metadata": {},
   "outputs": [
    {
     "name": "stdout",
     "output_type": "stream",
     "text": [
      "Model: \"model\"\n",
      "_________________________________________________________________\n",
      " Layer (type)                Output Shape              Param #   \n",
      "=================================================================\n",
      " input_1 (InputLayer)        [(None, 78)]              0         \n",
      "                                                                 \n",
      " embedding_3 (Embedding)     (None, 78, 300)           721800    \n",
      "                                                                 \n",
      " bidirectional (Bidirection  (None, 78, 256)           439296    \n",
      " al)                                                             \n",
      "                                                                 \n",
      " time_distributed_3 (TimeDi  (None, 78, 4)             1028      \n",
      " stributed)                                                      \n",
      "                                                                 \n",
      " crf (CRF)                   [(None, 78),              44        \n",
      "                              (None, 78, 4),                     \n",
      "                              (None,),                           \n",
      "                              (4, 4)]                            \n",
      "                                                                 \n",
      "=================================================================\n",
      "Total params: 1162168 (4.43 MB)\n",
      "Trainable params: 440368 (1.68 MB)\n",
      "Non-trainable params: 721800 (2.75 MB)\n",
      "_________________________________________________________________\n"
     ]
    }
   ],
   "source": [
    "BiLSTM_model.summary()"
   ]
  },
  {
   "cell_type": "markdown",
   "metadata": {},
   "source": [
    "Fitting the BiLSTM Model"
   ]
  },
  {
   "cell_type": "code",
   "execution_count": 52,
   "metadata": {},
   "outputs": [
    {
     "name": "stdout",
     "output_type": "stream",
     "text": [
      "Epoch 1/15\n",
      "WARNING:tensorflow:Gradients do not exist for variables ['chain_kernel:0'] when minimizing the loss. If you're using `model.compile()`, did you forget to provide a `loss` argument?\n",
      "WARNING:tensorflow:Gradients do not exist for variables ['chain_kernel:0'] when minimizing the loss. If you're using `model.compile()`, did you forget to provide a `loss` argument?\n",
      "WARNING:tensorflow:Gradients do not exist for variables ['chain_kernel:0'] when minimizing the loss. If you're using `model.compile()`, did you forget to provide a `loss` argument?\n",
      "WARNING:tensorflow:Gradients do not exist for variables ['chain_kernel:0'] when minimizing the loss. If you're using `model.compile()`, did you forget to provide a `loss` argument?\n",
      "7/7 [==============================] - 1s 42ms/stepss: 1.4257 - accuracy\n",
      "29/29 [==============================] - 1s 42ms/step\n",
      "Val F1 Score: 0.31984698903837777 - Train F1 Score: 0.3150644861052588\n",
      "8/8 [==============================] - 17s 1s/step - loss: 1.4257 - accuracy: 0.1993 - val_loss: 0.4537 - val_accuracy: 0.7804\n",
      "Epoch 2/15\n",
      "7/7 [==============================] - 0s 44ms/stepss: 0.3825 - accuracy\n",
      "29/29 [==============================] - 1s 43ms/step\n",
      "Val F1 Score: 0.3105942600245672 - Train F1 Score: 0.3126834616783208\n",
      "8/8 [==============================] - 6s 857ms/step - loss: 0.3825 - accuracy: 0.7702 - val_loss: 0.3750 - val_accuracy: 0.7851\n",
      "Epoch 3/15\n",
      "7/7 [==============================] - 0s 44ms/stepss: 0.3248 - accuracy\n",
      "29/29 [==============================] - 1s 42ms/step\n",
      "Val F1 Score: 0.31200790592530725 - Train F1 Score: 0.3133911936542644\n",
      "8/8 [==============================] - 7s 882ms/step - loss: 0.3248 - accuracy: 0.7846 - val_loss: 0.2920 - val_accuracy: 0.7856\n",
      "Epoch 4/15\n",
      "7/7 [==============================] - 0s 46ms/stepss: 0.2858 - accuracy\n",
      "29/29 [==============================] - 1s 44ms/step\n",
      "Val F1 Score: 0.3117196984162279 - Train F1 Score: 0.3135167535371318\n",
      "8/8 [==============================] - 7s 906ms/step - loss: 0.2858 - accuracy: 0.7851 - val_loss: 0.2709 - val_accuracy: 0.7857\n",
      "Epoch 5/15\n",
      "7/7 [==============================] - 0s 44ms/stepss: 0.2646 - accuracy\n",
      "29/29 [==============================] - 1s 45ms/step\n",
      "Val F1 Score: 0.3121065445210344 - Train F1 Score: 0.31340100959929157\n",
      "8/8 [==============================] - 7s 904ms/step - loss: 0.2646 - accuracy: 0.7853 - val_loss: 0.2551 - val_accuracy: 0.7859\n",
      "Epoch 6/15\n",
      "7/7 [==============================] - 0s 46ms/stepss: 0.2505 - accuracy\n",
      "29/29 [==============================] - 1s 45ms/step\n",
      "Val F1 Score: 0.3119862323824146 - Train F1 Score: 0.31353105873479625\n",
      "8/8 [==============================] - 7s 960ms/step - loss: 0.2505 - accuracy: 0.7853 - val_loss: 0.2425 - val_accuracy: 0.7858\n",
      "Epoch 7/15\n",
      "7/7 [==============================] - 0s 47ms/stepss: 0.2380 - accuracy\n",
      "29/29 [==============================] - 1s 49ms/step\n",
      "Val F1 Score: 0.3118573811452868 - Train F1 Score: 0.3135885182299548\n",
      "8/8 [==============================] - 7s 948ms/step - loss: 0.2380 - accuracy: 0.7852 - val_loss: 0.2310 - val_accuracy: 0.7857\n",
      "Epoch 8/15\n",
      "7/7 [==============================] - 0s 45ms/stepss: 0.2270 - accuracy\n",
      "29/29 [==============================] - 1s 45ms/step\n",
      "Val F1 Score: 0.31198603000923425 - Train F1 Score: 0.3135580934391974\n",
      "8/8 [==============================] - 7s 926ms/step - loss: 0.2270 - accuracy: 0.7852 - val_loss: 0.2210 - val_accuracy: 0.7858\n",
      "Epoch 9/15\n",
      "7/7 [==============================] - 0s 46ms/stepss: 0.2164 - accuracy\n",
      "29/29 [==============================] - 1s 45ms/step\n",
      "Val F1 Score: 0.31197774505114123 - Train F1 Score: 0.31355644804542043\n",
      "8/8 [==============================] - 7s 925ms/step - loss: 0.2164 - accuracy: 0.7852 - val_loss: 0.2116 - val_accuracy: 0.7858\n",
      "Epoch 10/15\n",
      "7/7 [==============================] - 0s 48ms/stepss: 0.2080 - accuracy\n",
      "29/29 [==============================] - 1s 50ms/step\n",
      "Val F1 Score: 0.31210629064271045 - Train F1 Score: 0.31352692793711123\n",
      "8/8 [==============================] - 7s 990ms/step - loss: 0.2080 - accuracy: 0.7854 - val_loss: 0.2030 - val_accuracy: 0.7859\n",
      "Epoch 11/15\n",
      "7/7 [==============================] - 0s 52ms/stepss: 0.1991 - accura\n",
      "29/29 [==============================] - 1s 47ms/step\n",
      "Val F1 Score: 0.3119818469448189 - Train F1 Score: 0.31352269085621315\n",
      "8/8 [==============================] - 7s 981ms/step - loss: 0.1991 - accuracy: 0.7853 - val_loss: 0.1950 - val_accuracy: 0.7858\n",
      "Epoch 12/15\n",
      "7/7 [==============================] - 0s 47ms/stepss: 0.1911 - accuracy\n",
      "29/29 [==============================] - 1s 46ms/step\n",
      "Val F1 Score: 0.31184742282895883 - Train F1 Score: 0.31358405336377193\n",
      "8/8 [==============================] - 7s 949ms/step - loss: 0.1911 - accuracy: 0.7853 - val_loss: 0.1877 - val_accuracy: 0.7857\n",
      "Epoch 13/15\n",
      "7/7 [==============================] - 0s 50ms/stepss: 0.1843 - accura\n",
      "29/29 [==============================] - 1s 49ms/step\n",
      "Val F1 Score: 0.31184886922548416 - Train F1 Score: 0.3135515699151727\n",
      "8/8 [==============================] - 7s 986ms/step - loss: 0.1843 - accuracy: 0.7853 - val_loss: 0.1806 - val_accuracy: 0.7857\n",
      "Epoch 14/15\n",
      "7/7 [==============================] - 0s 50ms/stepss: 0.1774 - accura\n",
      "29/29 [==============================] - 1s 49ms/step\n",
      "Val F1 Score: 0.31184742282895883 - Train F1 Score: 0.31379849203544496\n",
      "8/8 [==============================] - 7s 991ms/step - loss: 0.1774 - accuracy: 0.7853 - val_loss: 0.1743 - val_accuracy: 0.7857\n",
      "Epoch 15/15\n",
      "7/7 [==============================] - 0s 52ms/stepss: 0.1713 - accu\n",
      "29/29 [==============================] - 1s 47ms/step\n",
      "Val F1 Score: 0.31184886922548416 - Train F1 Score: 0.3138302547188211\n",
      "8/8 [==============================] - 7s 962ms/step - loss: 0.1713 - accuracy: 0.7854 - val_loss: 0.1682 - val_accuracy: 0.7857\n"
     ]
    }
   ],
   "source": [
    "BiLSTM_training = BiLSTM_model.fit(X_train,Y_train,batch_size=128,epochs=15,validation_data=(X_val,Y_val),callbacks=[BiLSTM_f1_callback])"
   ]
  },
  {
   "cell_type": "markdown",
   "metadata": {},
   "source": [
    "Plotting the graph"
   ]
  },
  {
   "cell_type": "code",
   "execution_count": 53,
   "metadata": {},
   "outputs": [
    {
     "data": {
      "image/png": "[encoded data removed]",
      "text/plain": [
       "<Figure size 1600x500 with 2 Axes>"
      ]
     },
     "metadata": {},
     "output_type": "display_data"
    }
   ],
   "source": [
    "draw_loss_graph(BiLSTM_training,model_name, BiLSTM_f1_callback.train_f1_scores, BiLSTM_f1_callback.val_f1_scores)\n",
    "save_model(BiLSTM_model,model_name,Embedding_name,Dataset)"
   ]
  },
  {
   "cell_type": "markdown",
   "metadata": {},
   "source": []
  },
  {
   "cell_type": "markdown",
   "metadata": {},
   "source": [
    "## Testing "
   ]
  },
  {
   "cell_type": "code",
   "execution_count": 54,
   "metadata": {},
   "outputs": [],
   "source": [
    "loaded_model = load_model(model_name,Embedding_name,Dataset)"
   ]
  },
  {
   "cell_type": "markdown",
   "metadata": {},
   "source": [
    "Testing accuracy"
   ]
  },
  {
   "cell_type": "code",
   "execution_count": 55,
   "metadata": {},
   "outputs": [
    {
     "name": "stdout",
     "output_type": "stream",
     "text": [
      "11/11 [==============================] - 2s 44ms/step - loss: 0.1519 - accuracy: 0.8282\n",
      "0.8282129168510437\n"
     ]
    }
   ],
   "source": [
    "accuracy = loaded_model.evaluate(X_test, Y_test, verbose = 1)\n",
    "print(accuracy[1])"
   ]
  },
  {
   "cell_type": "markdown",
   "metadata": {},
   "source": [
    "Testing F1 Score"
   ]
  },
  {
   "cell_type": "code",
   "execution_count": 56,
   "metadata": {},
   "outputs": [
    {
     "name": "stdout",
     "output_type": "stream",
     "text": [
      "11/11 [==============================] - 1s 45ms/step\n",
      "Test F1 Score: 0.32667727467566576\n"
     ]
    }
   ],
   "source": [
    "Y_pred = loaded_model.predict(X_test)\n",
    "real = get_real(Y_test)\n",
    "pred = get_pred(Y_pred)\n",
    "\n",
    "true_labels_flat = [label for sublist in real for label in sublist]\n",
    "predicted_labels_flat = [label for sublist in pred for label in sublist]\n",
    "\n",
    "# Compute F1 score\n",
    "f1 = f1_score(true_labels_flat, predicted_labels_flat, average='macro')\n",
    "\n",
    "print(\"Test F1 Score:\", f1)"
   ]
  },
  {
   "cell_type": "code",
   "execution_count": 57,
   "metadata": {},
   "outputs": [
    {
     "data": {
      "text/plain": [
       "(906, 78, 4)"
      ]
     },
     "execution_count": 57,
     "metadata": {},
     "output_type": "execute_result"
    }
   ],
   "source": [
    "Y_train.shape"
   ]
  },
  {
   "cell_type": "code",
   "execution_count": null,
   "metadata": {},
   "outputs": [],
   "source": [
    "# def Build_bilstm(max_len,vocab_size,weights,Y_train_shape,units=128,recurrent_dropout=0.1,optimizer='adam'):\n",
    "#     input=Input(shape=(max_len,))\n",
    "#     BiLSTM_CRF_embed=Embedding(input_dim=vocab_size, output_dim=300, input_length=max_len, weights=[weights], trainable=False)(input)\n",
    "#     BiLSTM_CRF_bilstm=Bidirectional(LSTM(units=units, return_sequences=True, recurrent_dropout=recurrent_dropout))(BiLSTM_CRF_embed)\n",
    "#     BiLSTM_model=(TimeDistributed(Dense(Y_train_shape, activation='relu')))(BiLSTM_CRF_bilstm)\n",
    "    \n",
    "#     crf = CRF(Y_train_shape)\n",
    "#     predicted_sequence, potentials, sequence_length, crf_kernel = crf(BiLSTM_model)\n",
    "\n",
    "#     BiLSTM_model=Model(input,potentials)\n",
    "\n",
    "#     BiLSTM_model.compile(\n",
    "#         optimizer=optimizer,\n",
    "#         loss=SigmoidFocalCrossEntropy(),\n",
    "#         metrics=['accuracy']\n",
    "#     )\n",
    "#     print(BiLSTM_model.summary())\n",
    "#     return BiLSTM_model\n",
    "\n",
    "# def grid_search(X_train,Y_train,max_len):\n",
    "#     keras_model = KerasClassifier(build_fn=Build_bilstm,epochs=20,verbose=3,max_len=max_len,vocab_size=vocab_size,weights=weights,Y_train_shape=Y_train.shape[2],units=128,recurrent_dropout=0.1,optimizer=AdamW(learning_rate=0.002))\n",
    "#     param_grid={\n",
    "#         'recurrent_dropout':[0.1,0.05],\n",
    "#         'units':[128,256],\n",
    "#         'optimizer':['SGD','adam','rmsprop']\n",
    "#     }\n",
    "\n",
    "#     grid_search = GridSearchCV(keras_model,param_grid,cv=5,n_jobs=-1,verbose=3)\n",
    "#     print(grid_search)\n",
    "#     # Y_train = get_real(Y_train)\n",
    "#     grid_search.fit(X_train,Y_train)\n",
    "\n",
    "#     return grid_search.best_params_['recurrent_dropout'],grid_search.best_params_['units'],grid_search.best_params_['optimizer']\n",
    "\n",
    "\n",
    "# GridSearchCV = grid_search(X_train,Y_train,max_len)\n",
    "# recurrent_dropout = GridSearchCV[0]\n",
    "# units = GridSearchCV[1]\n",
    "# optimizer = GridSearchCV[2]\n",
    "\n",
    "# print(f\"Best recurrent_dropout: {recurrent_dropout}\")\n",
    "# print(f\"Best units: {units}\")\n",
    "# print(f\"Best optimizer: {optimizer}\")"
   ]
  },
  {
   "cell_type": "code",
   "execution_count": 24,
   "metadata": {},
   "outputs": [
    {
     "name": "stdout",
     "output_type": "stream",
     "text": [
      "c:\\Users\\gupta\\Desktop\\NLP-Assignments\\Assignment2\n"
     ]
    }
   ],
   "source": [
    "import os\n",
    "import shutil\n",
    "if(os.path.exists('tuner_directory')):\n",
    "    shutil.rmtree('tuner_directory')"
   ]
  },
  {
   "cell_type": "code",
   "execution_count": 23,
   "metadata": {},
   "outputs": [
    {
     "name": "stdout",
     "output_type": "stream",
     "text": [
      "\n",
      "Search: Running Trial #1\n",
      "\n",
      "Value             |Best Value So Far |Hyperparameter\n",
      "256               |256               |units\n",
      "0.2               |0.2               |recurrent_dropout\n",
      "0.005             |0.005             |learning_rate\n",
      "adam              |adam              |optimizer\n",
      "\n",
      "Epoch 1/20\n",
      "WARNING:tensorflow:Gradients do not exist for variables ['chain_kernel:0'] when minimizing the loss. If you're using `model.compile()`, did you forget to provide a `loss` argument?\n",
      "WARNING:tensorflow:Gradients do not exist for variables ['chain_kernel:0'] when minimizing the loss. If you're using `model.compile()`, did you forget to provide a `loss` argument?\n",
      "WARNING:tensorflow:Gradients do not exist for variables ['chain_kernel:0'] when minimizing the loss. If you're using `model.compile()`, did you forget to provide a `loss` argument?\n",
      "WARNING:tensorflow:Gradients do not exist for variables ['chain_kernel:0'] when minimizing the loss. If you're using `model.compile()`, did you forget to provide a `loss` argument?\n"
     ]
    },
    {
     "ename": "KeyboardInterrupt",
     "evalue": "",
     "output_type": "error",
     "traceback": [
      "\u001b[1;31m---------------------------------------------------------------------------\u001b[0m",
      "\u001b[1;31mKeyboardInterrupt\u001b[0m                         Traceback (most recent call last)",
      "Cell \u001b[1;32mIn[23], line 52\u001b[0m\n\u001b[0;32m     42\u001b[0m tuner \u001b[38;5;241m=\u001b[39m RandomSearch(\n\u001b[0;32m     43\u001b[0m     build_model,\n\u001b[0;32m     44\u001b[0m     objective\u001b[38;5;241m=\u001b[39m\u001b[38;5;124m'\u001b[39m\u001b[38;5;124mval_loss\u001b[39m\u001b[38;5;124m'\u001b[39m,\n\u001b[1;32m   (...)\u001b[0m\n\u001b[0;32m     48\u001b[0m     project_name\u001b[38;5;241m=\u001b[39m\u001b[38;5;124m'\u001b[39m\u001b[38;5;124mbilstm_tuner\u001b[39m\u001b[38;5;124m'\u001b[39m\n\u001b[0;32m     49\u001b[0m )\n\u001b[0;32m     51\u001b[0m \u001b[38;5;66;03m# Search for the best hyperparameters\u001b[39;00m\n\u001b[1;32m---> 52\u001b[0m \u001b[43mtuner\u001b[49m\u001b[38;5;241;43m.\u001b[39;49m\u001b[43msearch\u001b[49m\u001b[43m(\u001b[49m\u001b[43mX_train\u001b[49m\u001b[43m,\u001b[49m\u001b[43m \u001b[49m\u001b[43mY_train\u001b[49m\u001b[43m,\u001b[49m\u001b[43m \u001b[49m\u001b[43mepochs\u001b[49m\u001b[38;5;241;43m=\u001b[39;49m\u001b[38;5;241;43m20\u001b[39;49m\u001b[43m,\u001b[49m\u001b[43m \u001b[49m\u001b[43mvalidation_split\u001b[49m\u001b[38;5;241;43m=\u001b[39;49m\u001b[38;5;241;43m0.2\u001b[39;49m\u001b[43m,\u001b[49m\u001b[43m \u001b[49m\u001b[43mverbose\u001b[49m\u001b[38;5;241;43m=\u001b[39;49m\u001b[38;5;241;43m3\u001b[39;49m\u001b[43m)\u001b[49m\n\u001b[0;32m     54\u001b[0m \u001b[38;5;66;03m# Get the best hyperparameters\u001b[39;00m\n\u001b[0;32m     55\u001b[0m best_hps \u001b[38;5;241m=\u001b[39m tuner\u001b[38;5;241m.\u001b[39moracle\u001b[38;5;241m.\u001b[39mget_best_trials(num_trials\u001b[38;5;241m=\u001b[39m\u001b[38;5;241m1\u001b[39m)[\u001b[38;5;241m0\u001b[39m]\u001b[38;5;241m.\u001b[39mhyperparameters\u001b[38;5;241m.\u001b[39mvalues\n",
      "File \u001b[1;32mc:\\Users\\gupta\\AppData\\Local\\Programs\\Python\\Python311\\Lib\\site-packages\\keras_tuner\\src\\engine\\base_tuner.py:234\u001b[0m, in \u001b[0;36mBaseTuner.search\u001b[1;34m(self, *fit_args, **fit_kwargs)\u001b[0m\n\u001b[0;32m    231\u001b[0m         \u001b[38;5;28;01mcontinue\u001b[39;00m\n\u001b[0;32m    233\u001b[0m     \u001b[38;5;28mself\u001b[39m\u001b[38;5;241m.\u001b[39mon_trial_begin(trial)\n\u001b[1;32m--> 234\u001b[0m     \u001b[38;5;28;43mself\u001b[39;49m\u001b[38;5;241;43m.\u001b[39;49m\u001b[43m_try_run_and_update_trial\u001b[49m\u001b[43m(\u001b[49m\u001b[43mtrial\u001b[49m\u001b[43m,\u001b[49m\u001b[43m \u001b[49m\u001b[38;5;241;43m*\u001b[39;49m\u001b[43mfit_args\u001b[49m\u001b[43m,\u001b[49m\u001b[43m \u001b[49m\u001b[38;5;241;43m*\u001b[39;49m\u001b[38;5;241;43m*\u001b[39;49m\u001b[43mfit_kwargs\u001b[49m\u001b[43m)\u001b[49m\n\u001b[0;32m    235\u001b[0m     \u001b[38;5;28mself\u001b[39m\u001b[38;5;241m.\u001b[39mon_trial_end(trial)\n\u001b[0;32m    236\u001b[0m \u001b[38;5;28mself\u001b[39m\u001b[38;5;241m.\u001b[39mon_search_end()\n",
      "File \u001b[1;32mc:\\Users\\gupta\\AppData\\Local\\Programs\\Python\\Python311\\Lib\\site-packages\\keras_tuner\\src\\engine\\base_tuner.py:274\u001b[0m, in \u001b[0;36mBaseTuner._try_run_and_update_trial\u001b[1;34m(self, trial, *fit_args, **fit_kwargs)\u001b[0m\n\u001b[0;32m    272\u001b[0m \u001b[38;5;28;01mdef\u001b[39;00m \u001b[38;5;21m_try_run_and_update_trial\u001b[39m(\u001b[38;5;28mself\u001b[39m, trial, \u001b[38;5;241m*\u001b[39mfit_args, \u001b[38;5;241m*\u001b[39m\u001b[38;5;241m*\u001b[39mfit_kwargs):\n\u001b[0;32m    273\u001b[0m     \u001b[38;5;28;01mtry\u001b[39;00m:\n\u001b[1;32m--> 274\u001b[0m         \u001b[38;5;28;43mself\u001b[39;49m\u001b[38;5;241;43m.\u001b[39;49m\u001b[43m_run_and_update_trial\u001b[49m\u001b[43m(\u001b[49m\u001b[43mtrial\u001b[49m\u001b[43m,\u001b[49m\u001b[43m \u001b[49m\u001b[38;5;241;43m*\u001b[39;49m\u001b[43mfit_args\u001b[49m\u001b[43m,\u001b[49m\u001b[43m \u001b[49m\u001b[38;5;241;43m*\u001b[39;49m\u001b[38;5;241;43m*\u001b[39;49m\u001b[43mfit_kwargs\u001b[49m\u001b[43m)\u001b[49m\n\u001b[0;32m    275\u001b[0m         trial\u001b[38;5;241m.\u001b[39mstatus \u001b[38;5;241m=\u001b[39m trial_module\u001b[38;5;241m.\u001b[39mTrialStatus\u001b[38;5;241m.\u001b[39mCOMPLETED\n\u001b[0;32m    276\u001b[0m         \u001b[38;5;28;01mreturn\u001b[39;00m\n",
      "File \u001b[1;32mc:\\Users\\gupta\\AppData\\Local\\Programs\\Python\\Python311\\Lib\\site-packages\\keras_tuner\\src\\engine\\base_tuner.py:239\u001b[0m, in \u001b[0;36mBaseTuner._run_and_update_trial\u001b[1;34m(self, trial, *fit_args, **fit_kwargs)\u001b[0m\n\u001b[0;32m    238\u001b[0m \u001b[38;5;28;01mdef\u001b[39;00m \u001b[38;5;21m_run_and_update_trial\u001b[39m(\u001b[38;5;28mself\u001b[39m, trial, \u001b[38;5;241m*\u001b[39mfit_args, \u001b[38;5;241m*\u001b[39m\u001b[38;5;241m*\u001b[39mfit_kwargs):\n\u001b[1;32m--> 239\u001b[0m     results \u001b[38;5;241m=\u001b[39m \u001b[38;5;28;43mself\u001b[39;49m\u001b[38;5;241;43m.\u001b[39;49m\u001b[43mrun_trial\u001b[49m\u001b[43m(\u001b[49m\u001b[43mtrial\u001b[49m\u001b[43m,\u001b[49m\u001b[43m \u001b[49m\u001b[38;5;241;43m*\u001b[39;49m\u001b[43mfit_args\u001b[49m\u001b[43m,\u001b[49m\u001b[43m \u001b[49m\u001b[38;5;241;43m*\u001b[39;49m\u001b[38;5;241;43m*\u001b[39;49m\u001b[43mfit_kwargs\u001b[49m\u001b[43m)\u001b[49m\n\u001b[0;32m    240\u001b[0m     \u001b[38;5;28;01mif\u001b[39;00m \u001b[38;5;28mself\u001b[39m\u001b[38;5;241m.\u001b[39moracle\u001b[38;5;241m.\u001b[39mget_trial(trial\u001b[38;5;241m.\u001b[39mtrial_id)\u001b[38;5;241m.\u001b[39mmetrics\u001b[38;5;241m.\u001b[39mexists(\n\u001b[0;32m    241\u001b[0m         \u001b[38;5;28mself\u001b[39m\u001b[38;5;241m.\u001b[39moracle\u001b[38;5;241m.\u001b[39mobjective\u001b[38;5;241m.\u001b[39mname\n\u001b[0;32m    242\u001b[0m     ):\n\u001b[0;32m    243\u001b[0m         \u001b[38;5;66;03m# The oracle is updated by calling `self.oracle.update_trial()` in\u001b[39;00m\n\u001b[0;32m    244\u001b[0m         \u001b[38;5;66;03m# `Tuner.run_trial()`. For backward compatibility, we support this\u001b[39;00m\n\u001b[0;32m    245\u001b[0m         \u001b[38;5;66;03m# use case. No further action needed in this case.\u001b[39;00m\n\u001b[0;32m    246\u001b[0m         warnings\u001b[38;5;241m.\u001b[39mwarn(\n\u001b[0;32m    247\u001b[0m             \u001b[38;5;124m\"\u001b[39m\u001b[38;5;124mThe use case of calling \u001b[39m\u001b[38;5;124m\"\u001b[39m\n\u001b[0;32m    248\u001b[0m             \u001b[38;5;124m\"\u001b[39m\u001b[38;5;124m`self.oracle.update_trial(trial_id, metrics)` \u001b[39m\u001b[38;5;124m\"\u001b[39m\n\u001b[1;32m   (...)\u001b[0m\n\u001b[0;32m    254\u001b[0m             stacklevel\u001b[38;5;241m=\u001b[39m\u001b[38;5;241m2\u001b[39m,\n\u001b[0;32m    255\u001b[0m         )\n",
      "File \u001b[1;32mc:\\Users\\gupta\\AppData\\Local\\Programs\\Python\\Python311\\Lib\\site-packages\\keras_tuner\\src\\engine\\tuner.py:314\u001b[0m, in \u001b[0;36mTuner.run_trial\u001b[1;34m(self, trial, *args, **kwargs)\u001b[0m\n\u001b[0;32m    312\u001b[0m     callbacks\u001b[38;5;241m.\u001b[39mappend(model_checkpoint)\n\u001b[0;32m    313\u001b[0m     copied_kwargs[\u001b[38;5;124m\"\u001b[39m\u001b[38;5;124mcallbacks\u001b[39m\u001b[38;5;124m\"\u001b[39m] \u001b[38;5;241m=\u001b[39m callbacks\n\u001b[1;32m--> 314\u001b[0m     obj_value \u001b[38;5;241m=\u001b[39m \u001b[38;5;28;43mself\u001b[39;49m\u001b[38;5;241;43m.\u001b[39;49m\u001b[43m_build_and_fit_model\u001b[49m\u001b[43m(\u001b[49m\u001b[43mtrial\u001b[49m\u001b[43m,\u001b[49m\u001b[43m \u001b[49m\u001b[38;5;241;43m*\u001b[39;49m\u001b[43margs\u001b[49m\u001b[43m,\u001b[49m\u001b[43m \u001b[49m\u001b[38;5;241;43m*\u001b[39;49m\u001b[38;5;241;43m*\u001b[39;49m\u001b[43mcopied_kwargs\u001b[49m\u001b[43m)\u001b[49m\n\u001b[0;32m    316\u001b[0m     histories\u001b[38;5;241m.\u001b[39mappend(obj_value)\n\u001b[0;32m    317\u001b[0m \u001b[38;5;28;01mreturn\u001b[39;00m histories\n",
      "File \u001b[1;32mc:\\Users\\gupta\\AppData\\Local\\Programs\\Python\\Python311\\Lib\\site-packages\\keras_tuner\\src\\engine\\tuner.py:233\u001b[0m, in \u001b[0;36mTuner._build_and_fit_model\u001b[1;34m(self, trial, *args, **kwargs)\u001b[0m\n\u001b[0;32m    231\u001b[0m hp \u001b[38;5;241m=\u001b[39m trial\u001b[38;5;241m.\u001b[39mhyperparameters\n\u001b[0;32m    232\u001b[0m model \u001b[38;5;241m=\u001b[39m \u001b[38;5;28mself\u001b[39m\u001b[38;5;241m.\u001b[39m_try_build(hp)\n\u001b[1;32m--> 233\u001b[0m results \u001b[38;5;241m=\u001b[39m \u001b[38;5;28;43mself\u001b[39;49m\u001b[38;5;241;43m.\u001b[39;49m\u001b[43mhypermodel\u001b[49m\u001b[38;5;241;43m.\u001b[39;49m\u001b[43mfit\u001b[49m\u001b[43m(\u001b[49m\u001b[43mhp\u001b[49m\u001b[43m,\u001b[49m\u001b[43m \u001b[49m\u001b[43mmodel\u001b[49m\u001b[43m,\u001b[49m\u001b[43m \u001b[49m\u001b[38;5;241;43m*\u001b[39;49m\u001b[43margs\u001b[49m\u001b[43m,\u001b[49m\u001b[43m \u001b[49m\u001b[38;5;241;43m*\u001b[39;49m\u001b[38;5;241;43m*\u001b[39;49m\u001b[43mkwargs\u001b[49m\u001b[43m)\u001b[49m\n\u001b[0;32m    235\u001b[0m \u001b[38;5;66;03m# Save the build config for model loading later.\u001b[39;00m\n\u001b[0;32m    236\u001b[0m \u001b[38;5;28;01mif\u001b[39;00m backend\u001b[38;5;241m.\u001b[39mconfig\u001b[38;5;241m.\u001b[39mmulti_backend():\n",
      "File \u001b[1;32mc:\\Users\\gupta\\AppData\\Local\\Programs\\Python\\Python311\\Lib\\site-packages\\keras_tuner\\src\\engine\\hypermodel.py:149\u001b[0m, in \u001b[0;36mHyperModel.fit\u001b[1;34m(self, hp, model, *args, **kwargs)\u001b[0m\n\u001b[0;32m    125\u001b[0m \u001b[38;5;28;01mdef\u001b[39;00m \u001b[38;5;21mfit\u001b[39m(\u001b[38;5;28mself\u001b[39m, hp, model, \u001b[38;5;241m*\u001b[39margs, \u001b[38;5;241m*\u001b[39m\u001b[38;5;241m*\u001b[39mkwargs):\n\u001b[0;32m    126\u001b[0m \u001b[38;5;250m    \u001b[39m\u001b[38;5;124;03m\"\"\"Train the model.\u001b[39;00m\n\u001b[0;32m    127\u001b[0m \n\u001b[0;32m    128\u001b[0m \u001b[38;5;124;03m    Args:\u001b[39;00m\n\u001b[1;32m   (...)\u001b[0m\n\u001b[0;32m    147\u001b[0m \u001b[38;5;124;03m        If return a float, it should be the `objective` value.\u001b[39;00m\n\u001b[0;32m    148\u001b[0m \u001b[38;5;124;03m    \"\"\"\u001b[39;00m\n\u001b[1;32m--> 149\u001b[0m     \u001b[38;5;28;01mreturn\u001b[39;00m \u001b[43mmodel\u001b[49m\u001b[38;5;241;43m.\u001b[39;49m\u001b[43mfit\u001b[49m\u001b[43m(\u001b[49m\u001b[38;5;241;43m*\u001b[39;49m\u001b[43margs\u001b[49m\u001b[43m,\u001b[49m\u001b[43m \u001b[49m\u001b[38;5;241;43m*\u001b[39;49m\u001b[38;5;241;43m*\u001b[39;49m\u001b[43mkwargs\u001b[49m\u001b[43m)\u001b[49m\n",
      "File \u001b[1;32mc:\\Users\\gupta\\AppData\\Local\\Programs\\Python\\Python311\\Lib\\site-packages\\keras\\src\\utils\\traceback_utils.py:65\u001b[0m, in \u001b[0;36mfilter_traceback.<locals>.error_handler\u001b[1;34m(*args, **kwargs)\u001b[0m\n\u001b[0;32m     63\u001b[0m filtered_tb \u001b[38;5;241m=\u001b[39m \u001b[38;5;28;01mNone\u001b[39;00m\n\u001b[0;32m     64\u001b[0m \u001b[38;5;28;01mtry\u001b[39;00m:\n\u001b[1;32m---> 65\u001b[0m     \u001b[38;5;28;01mreturn\u001b[39;00m \u001b[43mfn\u001b[49m\u001b[43m(\u001b[49m\u001b[38;5;241;43m*\u001b[39;49m\u001b[43margs\u001b[49m\u001b[43m,\u001b[49m\u001b[43m \u001b[49m\u001b[38;5;241;43m*\u001b[39;49m\u001b[38;5;241;43m*\u001b[39;49m\u001b[43mkwargs\u001b[49m\u001b[43m)\u001b[49m\n\u001b[0;32m     66\u001b[0m \u001b[38;5;28;01mexcept\u001b[39;00m \u001b[38;5;167;01mException\u001b[39;00m \u001b[38;5;28;01mas\u001b[39;00m e:\n\u001b[0;32m     67\u001b[0m     filtered_tb \u001b[38;5;241m=\u001b[39m _process_traceback_frames(e\u001b[38;5;241m.\u001b[39m__traceback__)\n",
      "File \u001b[1;32mc:\\Users\\gupta\\AppData\\Local\\Programs\\Python\\Python311\\Lib\\site-packages\\keras\\src\\engine\\training.py:1807\u001b[0m, in \u001b[0;36mModel.fit\u001b[1;34m(self, x, y, batch_size, epochs, verbose, callbacks, validation_split, validation_data, shuffle, class_weight, sample_weight, initial_epoch, steps_per_epoch, validation_steps, validation_batch_size, validation_freq, max_queue_size, workers, use_multiprocessing)\u001b[0m\n\u001b[0;32m   1799\u001b[0m \u001b[38;5;28;01mwith\u001b[39;00m tf\u001b[38;5;241m.\u001b[39mprofiler\u001b[38;5;241m.\u001b[39mexperimental\u001b[38;5;241m.\u001b[39mTrace(\n\u001b[0;32m   1800\u001b[0m     \u001b[38;5;124m\"\u001b[39m\u001b[38;5;124mtrain\u001b[39m\u001b[38;5;124m\"\u001b[39m,\n\u001b[0;32m   1801\u001b[0m     epoch_num\u001b[38;5;241m=\u001b[39mepoch,\n\u001b[1;32m   (...)\u001b[0m\n\u001b[0;32m   1804\u001b[0m     _r\u001b[38;5;241m=\u001b[39m\u001b[38;5;241m1\u001b[39m,\n\u001b[0;32m   1805\u001b[0m ):\n\u001b[0;32m   1806\u001b[0m     callbacks\u001b[38;5;241m.\u001b[39mon_train_batch_begin(step)\n\u001b[1;32m-> 1807\u001b[0m     tmp_logs \u001b[38;5;241m=\u001b[39m \u001b[38;5;28;43mself\u001b[39;49m\u001b[38;5;241;43m.\u001b[39;49m\u001b[43mtrain_function\u001b[49m\u001b[43m(\u001b[49m\u001b[43miterator\u001b[49m\u001b[43m)\u001b[49m\n\u001b[0;32m   1808\u001b[0m     \u001b[38;5;28;01mif\u001b[39;00m data_handler\u001b[38;5;241m.\u001b[39mshould_sync:\n\u001b[0;32m   1809\u001b[0m         context\u001b[38;5;241m.\u001b[39masync_wait()\n",
      "File \u001b[1;32mc:\\Users\\gupta\\AppData\\Local\\Programs\\Python\\Python311\\Lib\\site-packages\\tensorflow\\python\\util\\traceback_utils.py:150\u001b[0m, in \u001b[0;36mfilter_traceback.<locals>.error_handler\u001b[1;34m(*args, **kwargs)\u001b[0m\n\u001b[0;32m    148\u001b[0m filtered_tb \u001b[38;5;241m=\u001b[39m \u001b[38;5;28;01mNone\u001b[39;00m\n\u001b[0;32m    149\u001b[0m \u001b[38;5;28;01mtry\u001b[39;00m:\n\u001b[1;32m--> 150\u001b[0m   \u001b[38;5;28;01mreturn\u001b[39;00m \u001b[43mfn\u001b[49m\u001b[43m(\u001b[49m\u001b[38;5;241;43m*\u001b[39;49m\u001b[43margs\u001b[49m\u001b[43m,\u001b[49m\u001b[43m \u001b[49m\u001b[38;5;241;43m*\u001b[39;49m\u001b[38;5;241;43m*\u001b[39;49m\u001b[43mkwargs\u001b[49m\u001b[43m)\u001b[49m\n\u001b[0;32m    151\u001b[0m \u001b[38;5;28;01mexcept\u001b[39;00m \u001b[38;5;167;01mException\u001b[39;00m \u001b[38;5;28;01mas\u001b[39;00m e:\n\u001b[0;32m    152\u001b[0m   filtered_tb \u001b[38;5;241m=\u001b[39m _process_traceback_frames(e\u001b[38;5;241m.\u001b[39m__traceback__)\n",
      "File \u001b[1;32mc:\\Users\\gupta\\AppData\\Local\\Programs\\Python\\Python311\\Lib\\site-packages\\tensorflow\\python\\eager\\polymorphic_function\\polymorphic_function.py:832\u001b[0m, in \u001b[0;36mFunction.__call__\u001b[1;34m(self, *args, **kwds)\u001b[0m\n\u001b[0;32m    829\u001b[0m compiler \u001b[38;5;241m=\u001b[39m \u001b[38;5;124m\"\u001b[39m\u001b[38;5;124mxla\u001b[39m\u001b[38;5;124m\"\u001b[39m \u001b[38;5;28;01mif\u001b[39;00m \u001b[38;5;28mself\u001b[39m\u001b[38;5;241m.\u001b[39m_jit_compile \u001b[38;5;28;01melse\u001b[39;00m \u001b[38;5;124m\"\u001b[39m\u001b[38;5;124mnonXla\u001b[39m\u001b[38;5;124m\"\u001b[39m\n\u001b[0;32m    831\u001b[0m \u001b[38;5;28;01mwith\u001b[39;00m OptionalXlaContext(\u001b[38;5;28mself\u001b[39m\u001b[38;5;241m.\u001b[39m_jit_compile):\n\u001b[1;32m--> 832\u001b[0m   result \u001b[38;5;241m=\u001b[39m \u001b[38;5;28;43mself\u001b[39;49m\u001b[38;5;241;43m.\u001b[39;49m\u001b[43m_call\u001b[49m\u001b[43m(\u001b[49m\u001b[38;5;241;43m*\u001b[39;49m\u001b[43margs\u001b[49m\u001b[43m,\u001b[49m\u001b[43m \u001b[49m\u001b[38;5;241;43m*\u001b[39;49m\u001b[38;5;241;43m*\u001b[39;49m\u001b[43mkwds\u001b[49m\u001b[43m)\u001b[49m\n\u001b[0;32m    834\u001b[0m new_tracing_count \u001b[38;5;241m=\u001b[39m \u001b[38;5;28mself\u001b[39m\u001b[38;5;241m.\u001b[39mexperimental_get_tracing_count()\n\u001b[0;32m    835\u001b[0m without_tracing \u001b[38;5;241m=\u001b[39m (tracing_count \u001b[38;5;241m==\u001b[39m new_tracing_count)\n",
      "File \u001b[1;32mc:\\Users\\gupta\\AppData\\Local\\Programs\\Python\\Python311\\Lib\\site-packages\\tensorflow\\python\\eager\\polymorphic_function\\polymorphic_function.py:868\u001b[0m, in \u001b[0;36mFunction._call\u001b[1;34m(self, *args, **kwds)\u001b[0m\n\u001b[0;32m    865\u001b[0m   \u001b[38;5;28mself\u001b[39m\u001b[38;5;241m.\u001b[39m_lock\u001b[38;5;241m.\u001b[39mrelease()\n\u001b[0;32m    866\u001b[0m   \u001b[38;5;66;03m# In this case we have created variables on the first call, so we run the\u001b[39;00m\n\u001b[0;32m    867\u001b[0m   \u001b[38;5;66;03m# defunned version which is guaranteed to never create variables.\u001b[39;00m\n\u001b[1;32m--> 868\u001b[0m   \u001b[38;5;28;01mreturn\u001b[39;00m \u001b[43mtracing_compilation\u001b[49m\u001b[38;5;241;43m.\u001b[39;49m\u001b[43mcall_function\u001b[49m\u001b[43m(\u001b[49m\n\u001b[0;32m    869\u001b[0m \u001b[43m      \u001b[49m\u001b[43margs\u001b[49m\u001b[43m,\u001b[49m\u001b[43m \u001b[49m\u001b[43mkwds\u001b[49m\u001b[43m,\u001b[49m\u001b[43m \u001b[49m\u001b[38;5;28;43mself\u001b[39;49m\u001b[38;5;241;43m.\u001b[39;49m\u001b[43m_no_variable_creation_config\u001b[49m\n\u001b[0;32m    870\u001b[0m \u001b[43m  \u001b[49m\u001b[43m)\u001b[49m\n\u001b[0;32m    871\u001b[0m \u001b[38;5;28;01melif\u001b[39;00m \u001b[38;5;28mself\u001b[39m\u001b[38;5;241m.\u001b[39m_variable_creation_config \u001b[38;5;129;01mis\u001b[39;00m \u001b[38;5;129;01mnot\u001b[39;00m \u001b[38;5;28;01mNone\u001b[39;00m:\n\u001b[0;32m    872\u001b[0m   \u001b[38;5;66;03m# Release the lock early so that multiple threads can perform the call\u001b[39;00m\n\u001b[0;32m    873\u001b[0m   \u001b[38;5;66;03m# in parallel.\u001b[39;00m\n\u001b[0;32m    874\u001b[0m   \u001b[38;5;28mself\u001b[39m\u001b[38;5;241m.\u001b[39m_lock\u001b[38;5;241m.\u001b[39mrelease()\n",
      "File \u001b[1;32mc:\\Users\\gupta\\AppData\\Local\\Programs\\Python\\Python311\\Lib\\site-packages\\tensorflow\\python\\eager\\polymorphic_function\\tracing_compilation.py:139\u001b[0m, in \u001b[0;36mcall_function\u001b[1;34m(args, kwargs, tracing_options)\u001b[0m\n\u001b[0;32m    137\u001b[0m bound_args \u001b[38;5;241m=\u001b[39m function\u001b[38;5;241m.\u001b[39mfunction_type\u001b[38;5;241m.\u001b[39mbind(\u001b[38;5;241m*\u001b[39margs, \u001b[38;5;241m*\u001b[39m\u001b[38;5;241m*\u001b[39mkwargs)\n\u001b[0;32m    138\u001b[0m flat_inputs \u001b[38;5;241m=\u001b[39m function\u001b[38;5;241m.\u001b[39mfunction_type\u001b[38;5;241m.\u001b[39munpack_inputs(bound_args)\n\u001b[1;32m--> 139\u001b[0m \u001b[38;5;28;01mreturn\u001b[39;00m \u001b[43mfunction\u001b[49m\u001b[38;5;241;43m.\u001b[39;49m\u001b[43m_call_flat\u001b[49m\u001b[43m(\u001b[49m\u001b[43m  \u001b[49m\u001b[38;5;66;43;03m# pylint: disable=protected-access\u001b[39;49;00m\n\u001b[0;32m    140\u001b[0m \u001b[43m    \u001b[49m\u001b[43mflat_inputs\u001b[49m\u001b[43m,\u001b[49m\u001b[43m \u001b[49m\u001b[43mcaptured_inputs\u001b[49m\u001b[38;5;241;43m=\u001b[39;49m\u001b[43mfunction\u001b[49m\u001b[38;5;241;43m.\u001b[39;49m\u001b[43mcaptured_inputs\u001b[49m\n\u001b[0;32m    141\u001b[0m \u001b[43m\u001b[49m\u001b[43m)\u001b[49m\n",
      "File \u001b[1;32mc:\\Users\\gupta\\AppData\\Local\\Programs\\Python\\Python311\\Lib\\site-packages\\tensorflow\\python\\eager\\polymorphic_function\\concrete_function.py:1323\u001b[0m, in \u001b[0;36mConcreteFunction._call_flat\u001b[1;34m(self, tensor_inputs, captured_inputs)\u001b[0m\n\u001b[0;32m   1319\u001b[0m possible_gradient_type \u001b[38;5;241m=\u001b[39m gradients_util\u001b[38;5;241m.\u001b[39mPossibleTapeGradientTypes(args)\n\u001b[0;32m   1320\u001b[0m \u001b[38;5;28;01mif\u001b[39;00m (possible_gradient_type \u001b[38;5;241m==\u001b[39m gradients_util\u001b[38;5;241m.\u001b[39mPOSSIBLE_GRADIENT_TYPES_NONE\n\u001b[0;32m   1321\u001b[0m     \u001b[38;5;129;01mand\u001b[39;00m executing_eagerly):\n\u001b[0;32m   1322\u001b[0m   \u001b[38;5;66;03m# No tape is watching; skip to running the function.\u001b[39;00m\n\u001b[1;32m-> 1323\u001b[0m   \u001b[38;5;28;01mreturn\u001b[39;00m \u001b[38;5;28;43mself\u001b[39;49m\u001b[38;5;241;43m.\u001b[39;49m\u001b[43m_inference_function\u001b[49m\u001b[38;5;241;43m.\u001b[39;49m\u001b[43mcall_preflattened\u001b[49m\u001b[43m(\u001b[49m\u001b[43margs\u001b[49m\u001b[43m)\u001b[49m\n\u001b[0;32m   1324\u001b[0m forward_backward \u001b[38;5;241m=\u001b[39m \u001b[38;5;28mself\u001b[39m\u001b[38;5;241m.\u001b[39m_select_forward_and_backward_functions(\n\u001b[0;32m   1325\u001b[0m     args,\n\u001b[0;32m   1326\u001b[0m     possible_gradient_type,\n\u001b[0;32m   1327\u001b[0m     executing_eagerly)\n\u001b[0;32m   1328\u001b[0m forward_function, args_with_tangents \u001b[38;5;241m=\u001b[39m forward_backward\u001b[38;5;241m.\u001b[39mforward()\n",
      "File \u001b[1;32mc:\\Users\\gupta\\AppData\\Local\\Programs\\Python\\Python311\\Lib\\site-packages\\tensorflow\\python\\eager\\polymorphic_function\\atomic_function.py:216\u001b[0m, in \u001b[0;36mAtomicFunction.call_preflattened\u001b[1;34m(self, args)\u001b[0m\n\u001b[0;32m    214\u001b[0m \u001b[38;5;28;01mdef\u001b[39;00m \u001b[38;5;21mcall_preflattened\u001b[39m(\u001b[38;5;28mself\u001b[39m, args: Sequence[core\u001b[38;5;241m.\u001b[39mTensor]) \u001b[38;5;241m-\u001b[39m\u001b[38;5;241m>\u001b[39m Any:\n\u001b[0;32m    215\u001b[0m \u001b[38;5;250m  \u001b[39m\u001b[38;5;124;03m\"\"\"Calls with flattened tensor inputs and returns the structured output.\"\"\"\u001b[39;00m\n\u001b[1;32m--> 216\u001b[0m   flat_outputs \u001b[38;5;241m=\u001b[39m \u001b[38;5;28;43mself\u001b[39;49m\u001b[38;5;241;43m.\u001b[39;49m\u001b[43mcall_flat\u001b[49m\u001b[43m(\u001b[49m\u001b[38;5;241;43m*\u001b[39;49m\u001b[43margs\u001b[49m\u001b[43m)\u001b[49m\n\u001b[0;32m    217\u001b[0m   \u001b[38;5;28;01mreturn\u001b[39;00m \u001b[38;5;28mself\u001b[39m\u001b[38;5;241m.\u001b[39mfunction_type\u001b[38;5;241m.\u001b[39mpack_output(flat_outputs)\n",
      "File \u001b[1;32mc:\\Users\\gupta\\AppData\\Local\\Programs\\Python\\Python311\\Lib\\site-packages\\tensorflow\\python\\eager\\polymorphic_function\\atomic_function.py:251\u001b[0m, in \u001b[0;36mAtomicFunction.call_flat\u001b[1;34m(self, *args)\u001b[0m\n\u001b[0;32m    249\u001b[0m \u001b[38;5;28;01mwith\u001b[39;00m record\u001b[38;5;241m.\u001b[39mstop_recording():\n\u001b[0;32m    250\u001b[0m   \u001b[38;5;28;01mif\u001b[39;00m \u001b[38;5;28mself\u001b[39m\u001b[38;5;241m.\u001b[39m_bound_context\u001b[38;5;241m.\u001b[39mexecuting_eagerly():\n\u001b[1;32m--> 251\u001b[0m     outputs \u001b[38;5;241m=\u001b[39m \u001b[38;5;28;43mself\u001b[39;49m\u001b[38;5;241;43m.\u001b[39;49m\u001b[43m_bound_context\u001b[49m\u001b[38;5;241;43m.\u001b[39;49m\u001b[43mcall_function\u001b[49m\u001b[43m(\u001b[49m\n\u001b[0;32m    252\u001b[0m \u001b[43m        \u001b[49m\u001b[38;5;28;43mself\u001b[39;49m\u001b[38;5;241;43m.\u001b[39;49m\u001b[43mname\u001b[49m\u001b[43m,\u001b[49m\n\u001b[0;32m    253\u001b[0m \u001b[43m        \u001b[49m\u001b[38;5;28;43mlist\u001b[39;49m\u001b[43m(\u001b[49m\u001b[43margs\u001b[49m\u001b[43m)\u001b[49m\u001b[43m,\u001b[49m\n\u001b[0;32m    254\u001b[0m \u001b[43m        \u001b[49m\u001b[38;5;28;43mlen\u001b[39;49m\u001b[43m(\u001b[49m\u001b[38;5;28;43mself\u001b[39;49m\u001b[38;5;241;43m.\u001b[39;49m\u001b[43mfunction_type\u001b[49m\u001b[38;5;241;43m.\u001b[39;49m\u001b[43mflat_outputs\u001b[49m\u001b[43m)\u001b[49m\u001b[43m,\u001b[49m\n\u001b[0;32m    255\u001b[0m \u001b[43m    \u001b[49m\u001b[43m)\u001b[49m\n\u001b[0;32m    256\u001b[0m   \u001b[38;5;28;01melse\u001b[39;00m:\n\u001b[0;32m    257\u001b[0m     outputs \u001b[38;5;241m=\u001b[39m make_call_op_in_graph(\n\u001b[0;32m    258\u001b[0m         \u001b[38;5;28mself\u001b[39m,\n\u001b[0;32m    259\u001b[0m         \u001b[38;5;28mlist\u001b[39m(args),\n\u001b[0;32m    260\u001b[0m         \u001b[38;5;28mself\u001b[39m\u001b[38;5;241m.\u001b[39m_bound_context\u001b[38;5;241m.\u001b[39mfunction_call_options\u001b[38;5;241m.\u001b[39mas_attrs(),\n\u001b[0;32m    261\u001b[0m     )\n",
      "File \u001b[1;32mc:\\Users\\gupta\\AppData\\Local\\Programs\\Python\\Python311\\Lib\\site-packages\\tensorflow\\python\\eager\\context.py:1486\u001b[0m, in \u001b[0;36mContext.call_function\u001b[1;34m(self, name, tensor_inputs, num_outputs)\u001b[0m\n\u001b[0;32m   1484\u001b[0m cancellation_context \u001b[38;5;241m=\u001b[39m cancellation\u001b[38;5;241m.\u001b[39mcontext()\n\u001b[0;32m   1485\u001b[0m \u001b[38;5;28;01mif\u001b[39;00m cancellation_context \u001b[38;5;129;01mis\u001b[39;00m \u001b[38;5;28;01mNone\u001b[39;00m:\n\u001b[1;32m-> 1486\u001b[0m   outputs \u001b[38;5;241m=\u001b[39m \u001b[43mexecute\u001b[49m\u001b[38;5;241;43m.\u001b[39;49m\u001b[43mexecute\u001b[49m\u001b[43m(\u001b[49m\n\u001b[0;32m   1487\u001b[0m \u001b[43m      \u001b[49m\u001b[43mname\u001b[49m\u001b[38;5;241;43m.\u001b[39;49m\u001b[43mdecode\u001b[49m\u001b[43m(\u001b[49m\u001b[38;5;124;43m\"\u001b[39;49m\u001b[38;5;124;43mutf-8\u001b[39;49m\u001b[38;5;124;43m\"\u001b[39;49m\u001b[43m)\u001b[49m\u001b[43m,\u001b[49m\n\u001b[0;32m   1488\u001b[0m \u001b[43m      \u001b[49m\u001b[43mnum_outputs\u001b[49m\u001b[38;5;241;43m=\u001b[39;49m\u001b[43mnum_outputs\u001b[49m\u001b[43m,\u001b[49m\n\u001b[0;32m   1489\u001b[0m \u001b[43m      \u001b[49m\u001b[43minputs\u001b[49m\u001b[38;5;241;43m=\u001b[39;49m\u001b[43mtensor_inputs\u001b[49m\u001b[43m,\u001b[49m\n\u001b[0;32m   1490\u001b[0m \u001b[43m      \u001b[49m\u001b[43mattrs\u001b[49m\u001b[38;5;241;43m=\u001b[39;49m\u001b[43mattrs\u001b[49m\u001b[43m,\u001b[49m\n\u001b[0;32m   1491\u001b[0m \u001b[43m      \u001b[49m\u001b[43mctx\u001b[49m\u001b[38;5;241;43m=\u001b[39;49m\u001b[38;5;28;43mself\u001b[39;49m\u001b[43m,\u001b[49m\n\u001b[0;32m   1492\u001b[0m \u001b[43m  \u001b[49m\u001b[43m)\u001b[49m\n\u001b[0;32m   1493\u001b[0m \u001b[38;5;28;01melse\u001b[39;00m:\n\u001b[0;32m   1494\u001b[0m   outputs \u001b[38;5;241m=\u001b[39m execute\u001b[38;5;241m.\u001b[39mexecute_with_cancellation(\n\u001b[0;32m   1495\u001b[0m       name\u001b[38;5;241m.\u001b[39mdecode(\u001b[38;5;124m\"\u001b[39m\u001b[38;5;124mutf-8\u001b[39m\u001b[38;5;124m\"\u001b[39m),\n\u001b[0;32m   1496\u001b[0m       num_outputs\u001b[38;5;241m=\u001b[39mnum_outputs,\n\u001b[1;32m   (...)\u001b[0m\n\u001b[0;32m   1500\u001b[0m       cancellation_manager\u001b[38;5;241m=\u001b[39mcancellation_context,\n\u001b[0;32m   1501\u001b[0m   )\n",
      "File \u001b[1;32mc:\\Users\\gupta\\AppData\\Local\\Programs\\Python\\Python311\\Lib\\site-packages\\tensorflow\\python\\eager\\execute.py:53\u001b[0m, in \u001b[0;36mquick_execute\u001b[1;34m(op_name, num_outputs, inputs, attrs, ctx, name)\u001b[0m\n\u001b[0;32m     51\u001b[0m \u001b[38;5;28;01mtry\u001b[39;00m:\n\u001b[0;32m     52\u001b[0m   ctx\u001b[38;5;241m.\u001b[39mensure_initialized()\n\u001b[1;32m---> 53\u001b[0m   tensors \u001b[38;5;241m=\u001b[39m \u001b[43mpywrap_tfe\u001b[49m\u001b[38;5;241;43m.\u001b[39;49m\u001b[43mTFE_Py_Execute\u001b[49m\u001b[43m(\u001b[49m\u001b[43mctx\u001b[49m\u001b[38;5;241;43m.\u001b[39;49m\u001b[43m_handle\u001b[49m\u001b[43m,\u001b[49m\u001b[43m \u001b[49m\u001b[43mdevice_name\u001b[49m\u001b[43m,\u001b[49m\u001b[43m \u001b[49m\u001b[43mop_name\u001b[49m\u001b[43m,\u001b[49m\n\u001b[0;32m     54\u001b[0m \u001b[43m                                      \u001b[49m\u001b[43minputs\u001b[49m\u001b[43m,\u001b[49m\u001b[43m \u001b[49m\u001b[43mattrs\u001b[49m\u001b[43m,\u001b[49m\u001b[43m \u001b[49m\u001b[43mnum_outputs\u001b[49m\u001b[43m)\u001b[49m\n\u001b[0;32m     55\u001b[0m \u001b[38;5;28;01mexcept\u001b[39;00m core\u001b[38;5;241m.\u001b[39m_NotOkStatusException \u001b[38;5;28;01mas\u001b[39;00m e:\n\u001b[0;32m     56\u001b[0m   \u001b[38;5;28;01mif\u001b[39;00m name \u001b[38;5;129;01mis\u001b[39;00m \u001b[38;5;129;01mnot\u001b[39;00m \u001b[38;5;28;01mNone\u001b[39;00m:\n",
      "\u001b[1;31mKeyboardInterrupt\u001b[0m: "
     ]
    }
   ],
   "source": [
    "# Define a function for model building with hyperparameters\n",
    "\n",
    "\n",
    "def build_model(hp):\n",
    "    input_dim = vocab_size\n",
    "    output_dim = 300\n",
    "    units = hp.Choice('units', values=[64, 128, 256])\n",
    "    recurrent_dropout = hp.Choice('recurrent_dropout', values=[0.1, 0.2, 0.01, 0.05])\n",
    "    hp_learning_rate = hp.Choice('learning_rate',values=[0.001, 0.002, 0.005])\n",
    "    optimizers_dict = {\n",
    "        \"adam\":    AdamW(learning_rate=hp_learning_rate),\n",
    "        \"SGD\":     SGD(learning_rate=hp_learning_rate),\n",
    "        \"RMSprop\"  : RMSprop(learning_rate=hp_learning_rate),\n",
    "        }\n",
    "\n",
    "    hp_optimizers = hp.Choice(\n",
    "        'optimizer', \n",
    "        values=[\"adam\", \"SGD\", \"RMSprop\"]\n",
    "        )\n",
    "\n",
    "    # optimizer = hp.Choice('optimizer', values=[AdamW(learning_rate=0.002,weight_decay=0.002),Adam(learning_rate=0.001),RMSprop(),SGD()])\n",
    "\n",
    "    input_layer = Input(shape=(max_len,))\n",
    "    embed_layer = Embedding(input_dim=input_dim, output_dim=output_dim, input_length=max_len, weights=[weights], trainable=False)(input_layer)\n",
    "    bilstm_layer = Bidirectional(LSTM(units=units, return_sequences=True, recurrent_dropout=recurrent_dropout))(embed_layer)\n",
    "    time_distributed_layer = TimeDistributed(Dense(Y_train.shape[2], activation='relu'))(bilstm_layer)\n",
    "\n",
    "    crf = CRF(Y_train.shape[2])\n",
    "    predicted_sequence, potentials, sequence_length, crf_kernel = crf(time_distributed_layer)\n",
    "\n",
    "    model = Model(input_layer, potentials)\n",
    "\n",
    "    model.compile(\n",
    "        optimizer=optimizers_dict[hp_optimizers],\n",
    "        loss=SigmoidFocalCrossEntropy(),\n",
    "        metrics=['accuracy']\n",
    "    )\n",
    "\n",
    "    return model\n",
    "\n",
    "# Define the tuner\n",
    "tuner = RandomSearch(\n",
    "    build_model,\n",
    "    objective='val_loss',\n",
    "    max_trials=5,  # adjust based on resources available\n",
    "    executions_per_trial=1,\n",
    "    directory='tuner_directory/ATE/word2vec',\n",
    "    project_name='bilstm_tuner'\n",
    ")\n",
    "\n",
    "# Search for the best hyperparameters\n",
    "tuner.search(X_train, Y_train, epochs=20, validation_split=0.2, verbose=3)\n",
    "\n",
    "# Get the best hyperparameters\n",
    "best_hps = tuner.oracle.get_best_trials(num_trials=1)[0].hyperparameters.values\n",
    "print(\"Best Hyperparameters:\")\n",
    "print(best_hps)\n"
   ]
  },
  {
   "cell_type": "code",
   "execution_count": null,
   "metadata": {},
   "outputs": [],
   "source": [
    "\n",
    "# BiLSTM_model = Build_bilstm(max_len,vocab_size,weights,Y_train.shape[2],units,recurrent_dropout,optimizer)\n"
   ]
  }
 ],
 "metadata": {
  "kernelspec": {
   "display_name": "Python 3",
   "language": "python",
   "name": "python3"
  },
  "language_info": {
   "codemirror_mode": {
    "name": "ipython",
    "version": 3
   },
   "file_extension": ".py",
   "mimetype": "text/x-python",
   "name": "python",
   "nbconvert_exporter": "python",
   "pygments_lexer": "ipython3",
   "version": "3.11.7"
  }
 },
 "nbformat": 4,
 "nbformat_minor": 2
}
