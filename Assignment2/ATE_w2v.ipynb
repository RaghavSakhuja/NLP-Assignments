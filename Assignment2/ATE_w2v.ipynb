{
 "cells": [
  {
   "cell_type": "code",
   "execution_count": 1,
   "metadata": {},
   "outputs": [
    {
     "name": "stdout",
     "output_type": "stream",
     "text": [
      "WARNING:tensorflow:From c:\\Users\\acer\\AppData\\Local\\Programs\\Python\\Python311\\Lib\\site-packages\\keras\\src\\losses.py:2976: The name tf.losses.sparse_softmax_cross_entropy is deprecated. Please use tf.compat.v1.losses.sparse_softmax_cross_entropy instead.\n",
      "\n"
     ]
    },
    {
     "name": "stderr",
     "output_type": "stream",
     "text": [
      "c:\\Users\\acer\\AppData\\Local\\Programs\\Python\\Python311\\Lib\\site-packages\\tensorflow_addons\\utils\\tfa_eol_msg.py:23: UserWarning: \n",
      "\n",
      "TensorFlow Addons (TFA) has ended development and introduction of new features.\n",
      "TFA has entered a minimal maintenance and release mode until a planned end of life in May 2024.\n",
      "Please modify downstream libraries to take dependencies from other repositories in our TensorFlow community (e.g. Keras, Keras-CV, and Keras-NLP). \n",
      "\n",
      "For more information see: https://github.com/tensorflow/addons/issues/2807 \n",
      "\n",
      "  warnings.warn(\n",
      "c:\\Users\\acer\\AppData\\Local\\Programs\\Python\\Python311\\Lib\\site-packages\\tensorflow_addons\\utils\\ensure_tf_install.py:53: UserWarning: Tensorflow Addons supports using Python ops for all Tensorflow versions above or equal to 2.12.0 and strictly below 2.15.0 (nightly versions are not supported). \n",
      " The versions of TensorFlow you are currently using is 2.15.0 and is not supported. \n",
      "Some things might work, some things might not.\n",
      "If you were to encounter a bug, do not file an issue.\n",
      "If you want to make sure you're using a tested and supported configuration, either change the TensorFlow version or the TensorFlow Addons's version. \n",
      "You can find the compatibility matrix in TensorFlow Addon's readme:\n",
      "https://github.com/tensorflow/addons\n",
      "  warnings.warn(\n"
     ]
    }
   ],
   "source": [
    "from IMPORTS import *"
   ]
  },
  {
   "cell_type": "code",
   "execution_count": 2,
   "metadata": {},
   "outputs": [],
   "source": [
    "Embedding_name=\"word2vec\"\n",
    "Dataset=\"ATE\""
   ]
  },
  {
   "cell_type": "code",
   "execution_count": 3,
   "metadata": {},
   "outputs": [],
   "source": [
    "seed_value = 18\n",
    "np.random.seed(seed_value)\n",
    "tf.random.set_seed(seed_value)"
   ]
  },
  {
   "cell_type": "code",
   "execution_count": 4,
   "metadata": {},
   "outputs": [],
   "source": [
    "word2vec = KeyedVectors.load_word2vec_format('WordEmbeddings/Word2Vec.bin',binary=True)"
   ]
  },
  {
   "cell_type": "markdown",
   "metadata": {},
   "source": [
    "# Data Extraction and Preprocessing"
   ]
  },
  {
   "cell_type": "markdown",
   "metadata": {},
   "source": [
    "Reading ATE json files"
   ]
  },
  {
   "cell_type": "code",
   "execution_count": 5,
   "metadata": {},
   "outputs": [],
   "source": [
    "train = None\n",
    "test = None\n",
    "val = None\n",
    "with open(f\"Data\\processed\\{Dataset}_train.json\") as f1:\n",
    "    train = json.load(f1)\n",
    "\n",
    "with open(f\"Data\\processed\\{Dataset}_test.json\") as f2:\n",
    "    test = json.load(f2)\n",
    "\n",
    "with open(f\"Data\\processed\\{Dataset}_val.json\") as f3:\n",
    "    val = json.load(f3)\n",
    "\n"
   ]
  },
  {
   "cell_type": "markdown",
   "metadata": {},
   "source": [
    "processing into lists"
   ]
  },
  {
   "cell_type": "code",
   "execution_count": 6,
   "metadata": {},
   "outputs": [],
   "source": [
    "X_train,Y_train = create_train_test_val(train)\n",
    "X_test,Y_test = create_train_test_val(test)\n",
    "X_val,Y_val = create_train_test_val(val)"
   ]
  },
  {
   "cell_type": "markdown",
   "metadata": {},
   "source": [
    "Tokenizing the ATE Dataset"
   ]
  },
  {
   "cell_type": "code",
   "execution_count": 7,
   "metadata": {},
   "outputs": [],
   "source": [
    "X_train_tokenized, toke = TokenCreator(X_train,1)\n",
    "X_test_tokenized = TokenCreator(X_test,0,tokenizer = toke)\n",
    "X_val_tokenized = TokenCreator(X_val,0,tokenizer = toke)\n",
    "\n",
    "Y_train_tokenized,toke2 = TokenCreator(Y_train,0)\n",
    "Y_test_tokenized = TokenCreator(Y_test,0,tokenizer = toke2)\n",
    "Y_val_tokenized = TokenCreator(Y_val,0,tokenizer = toke2)"
   ]
  },
  {
   "cell_type": "markdown",
   "metadata": {},
   "source": [
    "Vocabulary of ATE"
   ]
  },
  {
   "cell_type": "code",
   "execution_count": 8,
   "metadata": {},
   "outputs": [
    {
     "data": {
      "text/plain": [
       "2406"
      ]
     },
     "execution_count": 8,
     "metadata": {},
     "output_type": "execute_result"
    }
   ],
   "source": [
    "st1 = find_vocab(X_train_tokenized)\n",
    "vocab_size  = len(st1) + 1 \n",
    "vocab_size"
   ]
  },
  {
   "cell_type": "code",
   "execution_count": 9,
   "metadata": {},
   "outputs": [
    {
     "data": {
      "text/plain": [
       "78"
      ]
     },
     "execution_count": 9,
     "metadata": {},
     "output_type": "execute_result"
    }
   ],
   "source": [
    "max_len=0\n",
    "\n",
    "for i in X_train_tokenized:\n",
    "    max_len = max(max_len,len(i))\n",
    "\n",
    "max_len"
   ]
  },
  {
   "cell_type": "markdown",
   "metadata": {},
   "source": [
    "Padding ATE"
   ]
  },
  {
   "cell_type": "code",
   "execution_count": 10,
   "metadata": {},
   "outputs": [],
   "source": [
    "X_padded_train = pad_sequences(X_train_tokenized, maxlen=max_len, padding=\"pre\", truncating=\"post\")\n",
    "Y_padded_train = pad_sequences(Y_train_tokenized, maxlen=max_len, padding=\"pre\", truncating=\"post\")\n",
    "\n",
    "X_padded_test = pad_sequences(X_test_tokenized, maxlen=max_len, padding=\"pre\", truncating=\"post\")\n",
    "Y_padded_test = pad_sequences(Y_test_tokenized, maxlen=max_len, padding=\"pre\", truncating=\"post\")\n",
    "\n",
    "X_padded_val = pad_sequences(X_val_tokenized, maxlen=max_len, padding=\"pre\", truncating=\"post\")\n",
    "Y_padded_val = pad_sequences(Y_val_tokenized, maxlen=max_len, padding=\"pre\", truncating=\"post\")       "
   ]
  },
  {
   "cell_type": "markdown",
   "metadata": {},
   "source": [
    "One hot encoding the ATE labels"
   ]
  },
  {
   "cell_type": "code",
   "execution_count": 11,
   "metadata": {},
   "outputs": [],
   "source": [
    "Y_padded_train = to_categorical(Y_padded_train)\n",
    "Y_padded_test = to_categorical(Y_padded_test)\n",
    "Y_padded_val = to_categorical(Y_padded_val)"
   ]
  },
  {
   "cell_type": "markdown",
   "metadata": {},
   "source": [
    "Assigning **ATE Word2Vec** mapping"
   ]
  },
  {
   "cell_type": "code",
   "execution_count": 12,
   "metadata": {},
   "outputs": [
    {
     "data": {
      "text/plain": [
       "{'#UK': 1,\n",
       " 'the': 2,\n",
       " '.': 3,\n",
       " ',': 4,\n",
       " 'and': 5,\n",
       " 'it': 6,\n",
       " 'to': 7,\n",
       " 'i': 8,\n",
       " 'is': 9,\n",
       " 'a': 10,\n",
       " 'of': 11,\n",
       " 'for': 12,\n",
       " 'with': 13,\n",
       " 'that': 14,\n",
       " 'my': 15,\n",
       " 'you': 16,\n",
       " 'this': 17,\n",
       " 'was': 18,\n",
       " 'in': 19,\n",
       " 'not': 20,\n",
       " 'on': 21,\n",
       " 'very': 22,\n",
       " 'but': 23,\n",
       " 'computer': 24,\n",
       " 'use': 25,\n",
       " 'have': 26,\n",
       " 'great': 27,\n",
       " 'they': 28,\n",
       " 'laptop': 29,\n",
       " \"n't\": 30,\n",
       " 'so': 31,\n",
       " 'has': 32,\n",
       " 'are': 33,\n",
       " 'battery': 34,\n",
       " 'had': 35,\n",
       " 'screen': 36,\n",
       " ')': 37,\n",
       " 'be': 38,\n",
       " 'as': 39,\n",
       " 'all': 40,\n",
       " '!': 41,\n",
       " '(': 42,\n",
       " \"'s\": 43,\n",
       " 'also': 44,\n",
       " 'me': 45,\n",
       " 'just': 46,\n",
       " 'easy': 47,\n",
       " 'when': 48,\n",
       " 'at': 49,\n",
       " 'or': 50,\n",
       " 'only': 51,\n",
       " 'which': 52,\n",
       " 'up': 53,\n",
       " 'life': 54,\n",
       " 'can': 55,\n",
       " 'windows': 56,\n",
       " 'than': 57,\n",
       " 'out': 58,\n",
       " 'if': 59,\n",
       " 'do': 60,\n",
       " 'after': 61,\n",
       " 'more': 62,\n",
       " 'keyboard': 63,\n",
       " 'would': 64,\n",
       " 'drive': 65,\n",
       " 'hard': 66,\n",
       " 'price': 67,\n",
       " 'from': 68,\n",
       " 'well': 69,\n",
       " 'because': 70,\n",
       " 'good': 71,\n",
       " 'one': 72,\n",
       " 'an': 73,\n",
       " 'like': 74,\n",
       " 'mac': 75,\n",
       " 'about': 76,\n",
       " 'quality': 77,\n",
       " 'its': 78,\n",
       " 'love': 79,\n",
       " 'get': 80,\n",
       " 'no': 81,\n",
       " 'software': 82,\n",
       " 'time': 83,\n",
       " 'even': 84,\n",
       " 'macbook': 85,\n",
       " 'will': 86,\n",
       " 'system': 87,\n",
       " 'apple': 88,\n",
       " 'other': 89,\n",
       " 'there': 90,\n",
       " 'does': 91,\n",
       " 'thing': 92,\n",
       " 'problem': 93,\n",
       " 'new': 94,\n",
       " 'much': 95,\n",
       " 'features': 96,\n",
       " 'any': 97,\n",
       " 'then': 98,\n",
       " 'programs': 99,\n",
       " 'power': 100,\n",
       " 'now': 101,\n",
       " 'service': 102,\n",
       " 'work': 103,\n",
       " 'buy': 104,\n",
       " 'works': 105,\n",
       " 'problems': 106,\n",
       " 'fast': 107,\n",
       " 'did': 108,\n",
       " 'toshiba': 109,\n",
       " '7': 110,\n",
       " 'could': 111,\n",
       " 'size': 112,\n",
       " 'what': 113,\n",
       " 'am': 114,\n",
       " 'too': 115,\n",
       " 'working': 116,\n",
       " 'back': 117,\n",
       " 'your': 118,\n",
       " ':': 119,\n",
       " 'speed': 120,\n",
       " 'machine': 121,\n",
       " 'best': 122,\n",
       " 'pro': 123,\n",
       " 'we': 124,\n",
       " 'were': 125,\n",
       " 'again': 126,\n",
       " 'pc': 127,\n",
       " 'performance': 128,\n",
       " 'little': 129,\n",
       " 'product': 130,\n",
       " 'many': 131,\n",
       " '-': 132,\n",
       " 'really': 133,\n",
       " 'by': 134,\n",
       " 'need': 135,\n",
       " 'first': 136,\n",
       " 'having': 137,\n",
       " \"''\": 138,\n",
       " 'some': 139,\n",
       " 'still': 140,\n",
       " 'months': 141,\n",
       " 'memory': 142,\n",
       " 'long': 143,\n",
       " 'been': 144,\n",
       " 'their': 145,\n",
       " 'bought': 146,\n",
       " 'better': 147,\n",
       " 'everything': 148,\n",
       " 'used': 149,\n",
       " 'warranty': 150,\n",
       " 'since': 151,\n",
       " 'worth': 152,\n",
       " 'graphics': 153,\n",
       " 'how': 154,\n",
       " 'design': 155,\n",
       " 'applications': 156,\n",
       " 'mouse': 157,\n",
       " 'comes': 158,\n",
       " 'run': 159,\n",
       " 'who': 160,\n",
       " 'every': 161,\n",
       " 'nice': 162,\n",
       " 'internet': 163,\n",
       " 'laptops': 164,\n",
       " 'never': 165,\n",
       " 'replaced': 166,\n",
       " '3': 167,\n",
       " 'support': 168,\n",
       " 'games': 169,\n",
       " 'bad': 170,\n",
       " 'same': 171,\n",
       " 'right': 172,\n",
       " '``': 173,\n",
       " 'runs': 174,\n",
       " 'looking': 175,\n",
       " 'enough': 176,\n",
       " 'using': 177,\n",
       " 'way': 178,\n",
       " 'running': 179,\n",
       " 'able': 180,\n",
       " 'program': 181,\n",
       " 'always': 182,\n",
       " 'lot': 183,\n",
       " 'dell': 184,\n",
       " 'another': 185,\n",
       " \"'ve\": 186,\n",
       " 'pad': 187,\n",
       " 'netbook': 188,\n",
       " 'got': 189,\n",
       " 'operating': 190,\n",
       " 'hp': 191,\n",
       " 'money': 192,\n",
       " 'most': 193,\n",
       " 'went': 194,\n",
       " 'such': 195,\n",
       " '$': 196,\n",
       " 'card': 197,\n",
       " 'them': 198,\n",
       " 'come': 199,\n",
       " 'large': 200,\n",
       " 'make': 201,\n",
       " 'gaming': 202,\n",
       " 'take': 203,\n",
       " 'hours': 204,\n",
       " 'look': 205,\n",
       " 'web': 206,\n",
       " 'over': 207,\n",
       " 'less': 208,\n",
       " 'ca': 209,\n",
       " 'around': 210,\n",
       " 'though': 211,\n",
       " 'excellent': 212,\n",
       " 'display': 213,\n",
       " 'made': 214,\n",
       " '?': 215,\n",
       " 'awesome': 216,\n",
       " 'while': 217,\n",
       " 'issue': 218,\n",
       " \"'m\": 219,\n",
       " 'makes': 220,\n",
       " 'next': 221,\n",
       " 'keep': 222,\n",
       " 'slow': 223,\n",
       " 'amazing': 224,\n",
       " 'month': 225,\n",
       " 'ever': 226,\n",
       " 'purchase': 227,\n",
       " 'perfect': 228,\n",
       " 'vista': 229,\n",
       " 'customer': 230,\n",
       " 'want': 231,\n",
       " 'carry': 232,\n",
       " 'feel': 233,\n",
       " 'bit': 234,\n",
       " 'small': 235,\n",
       " 'os': 236,\n",
       " 'easily': 237,\n",
       " 'should': 238,\n",
       " 'video': 239,\n",
       " 'overall': 240,\n",
       " 'two': 241,\n",
       " 'cheap': 242,\n",
       " 'off': 243,\n",
       " 'light': 244,\n",
       " 'find': 245,\n",
       " 'open': 246,\n",
       " 'called': 247,\n",
       " 'fix': 248,\n",
       " 'stopped': 249,\n",
       " 'go': 250,\n",
       " 'things': 251,\n",
       " '5': 252,\n",
       " 'key': 253,\n",
       " 'pay': 254,\n",
       " ';': 255,\n",
       " 'desktop': 256,\n",
       " 'cost': 257,\n",
       " 'fixed': 258,\n",
       " 'processor': 259,\n",
       " 'wonderful': 260,\n",
       " 'once': 261,\n",
       " 'sound': 262,\n",
       " 'pretty': 263,\n",
       " 'space': 264,\n",
       " '2': 265,\n",
       " 'down': 266,\n",
       " 'high': 267,\n",
       " 'day': 268,\n",
       " 'external': 269,\n",
       " 'fan': 270,\n",
       " 'started': 271,\n",
       " 'quickly': 272,\n",
       " 'ease': 273,\n",
       " '--': 274,\n",
       " 'word': 275,\n",
       " 'office': 276,\n",
       " 'without': 277,\n",
       " 'old': 278,\n",
       " 'computers': 279,\n",
       " 'came': 280,\n",
       " 'due': 281,\n",
       " 'lightweight': 282,\n",
       " 'cd': 283,\n",
       " 'see': 284,\n",
       " 'short': 285,\n",
       " 'say': 286,\n",
       " 'week': 287,\n",
       " 'repair': 288,\n",
       " 'ram': 289,\n",
       " 'charge': 290,\n",
       " 'boot': 291,\n",
       " 'completely': 292,\n",
       " 'warrenty': 293,\n",
       " 'took': 294,\n",
       " 'shipping': 295,\n",
       " 'microsoft': 296,\n",
       " 'doing': 297,\n",
       " 'set': 298,\n",
       " 'free': 299,\n",
       " 'virus': 300,\n",
       " 'keys': 301,\n",
       " 'supply': 302,\n",
       " 'feature': 303,\n",
       " 'send': 304,\n",
       " 'through': 305,\n",
       " 'know': 306,\n",
       " 'notebook': 307,\n",
       " 'being': 308,\n",
       " 'recommend': 309,\n",
       " 'trackpad': 310,\n",
       " 'compared': 311,\n",
       " 'think': 312,\n",
       " 'full': 313,\n",
       " 'anyone': 314,\n",
       " 'dvd': 315,\n",
       " 'faster': 316,\n",
       " 'change': 317,\n",
       " 'plus': 318,\n",
       " 'last': 319,\n",
       " 'something': 320,\n",
       " 'home': 321,\n",
       " 'company': 322,\n",
       " 'where': 323,\n",
       " 'before': 324,\n",
       " 'value': 325,\n",
       " 'built': 326,\n",
       " 'may': 327,\n",
       " 'however': 328,\n",
       " \"'re\": 329,\n",
       " 'usb': 330,\n",
       " 'brand': 331,\n",
       " 'past': 332,\n",
       " 'motherboard': 333,\n",
       " 'charger': 334,\n",
       " 'hardware': 335,\n",
       " 'simple': 336,\n",
       " 'within': 337,\n",
       " 'touch': 338,\n",
       " 'yet': 339,\n",
       " 'acer': 340,\n",
       " 'yes': 341,\n",
       " 'few': 342,\n",
       " 'webcam': 343,\n",
       " 'play': 344,\n",
       " \"'d\": 345,\n",
       " 'issues': 346,\n",
       " 'clear': 347,\n",
       " 'year': 348,\n",
       " 'thought': 349,\n",
       " 'far': 350,\n",
       " 'user': 351,\n",
       " 'itself': 352,\n",
       " '1': 353,\n",
       " 'although': 354,\n",
       " 'these': 355,\n",
       " 'easier': 356,\n",
       " 'extra': 357,\n",
       " 'port': 358,\n",
       " 'getting': 359,\n",
       " 'etc': 360,\n",
       " 'must': 361,\n",
       " 'speakers': 362,\n",
       " 'looks': 363,\n",
       " 'iphoto': 364,\n",
       " 'worked': 365,\n",
       " 'found': 366,\n",
       " 'big': 367,\n",
       " 'learn': 368,\n",
       " 'seems': 369,\n",
       " 'center': 370,\n",
       " 'lots': 371,\n",
       " 'frustrating': 372,\n",
       " 'help': 373,\n",
       " 'fact': 374,\n",
       " 'upgraded': 375,\n",
       " 'pcs': 376,\n",
       " 'connect': 377,\n",
       " 'board': 378,\n",
       " 'making': 379,\n",
       " 'products': 380,\n",
       " 'needs': 381,\n",
       " 'cool': 382,\n",
       " 'until': 383,\n",
       " 'course': 384,\n",
       " 'resolution': 385,\n",
       " 'itunes': 386,\n",
       " '13': 387,\n",
       " 'longer': 388,\n",
       " 'type': 389,\n",
       " 'store': 390,\n",
       " 'sent': 391,\n",
       " 'quick': 392,\n",
       " 'second': 393,\n",
       " 'processing': 394,\n",
       " 'poor': 395,\n",
       " 'expected': 396,\n",
       " 'years': 397,\n",
       " 'simply': 398,\n",
       " 'starter': 399,\n",
       " 'buttons': 400,\n",
       " 'build': 401,\n",
       " 'call': 402,\n",
       " 'others': 403,\n",
       " 'wireless': 404,\n",
       " 'plenty': 405,\n",
       " 'he': 406,\n",
       " 'actually': 407,\n",
       " 'failed': 408,\n",
       " 'someone': 409,\n",
       " 'cord': 410,\n",
       " 'extremely': 411,\n",
       " 'absolutely': 412,\n",
       " 'start': 413,\n",
       " 'dark': 414,\n",
       " 'multi-touch': 415,\n",
       " 'installed': 416,\n",
       " 'crashed': 417,\n",
       " 'added': 418,\n",
       " 'hd': 419,\n",
       " 'monitor': 420,\n",
       " 'several': 421,\n",
       " 'loud': 422,\n",
       " 'times': 423,\n",
       " '4': 424,\n",
       " 'wanted': 425,\n",
       " 'constantly': 426,\n",
       " 'systems': 427,\n",
       " 'touchpad': 428,\n",
       " 'editing': 429,\n",
       " 'phone': 430,\n",
       " 'hour': 431,\n",
       " 'browsing': 432,\n",
       " 'playing': 433,\n",
       " 'replace': 434,\n",
       " 'believe': 435,\n",
       " 'xp': 436,\n",
       " 'wo': 437,\n",
       " 'online': 438,\n",
       " 'garageband': 439,\n",
       " 'bright': 440,\n",
       " 'navigate': 441,\n",
       " 'ilife': 442,\n",
       " 'sleek': 443,\n",
       " 'least': 444,\n",
       " 'premium': 445,\n",
       " 'box': 446,\n",
       " 'away': 447,\n",
       " 'anything': 448,\n",
       " 'worry': 449,\n",
       " 'sure': 450,\n",
       " 'book': 451,\n",
       " 'experience': 452,\n",
       " 'told': 453,\n",
       " 'portable': 454,\n",
       " 'needed': 455,\n",
       " 'going': 456,\n",
       " 'sony': 457,\n",
       " 'macbooks': 458,\n",
       " 'done': 459,\n",
       " 'useful': 460,\n",
       " 'horrible': 461,\n",
       " '/': 462,\n",
       " 'weight': 463,\n",
       " 'movies': 464,\n",
       " 'led': 465,\n",
       " 'tried': 466,\n",
       " 'business': 467,\n",
       " 'background': 468,\n",
       " 'camera': 469,\n",
       " 'fine': 470,\n",
       " 'huge': 471,\n",
       " 'weeks': 472,\n",
       " 'deal': 473,\n",
       " 'superior': 474,\n",
       " 'upgrade': 475,\n",
       " 'media': 476,\n",
       " 'macs': 477,\n",
       " 'convenient': 478,\n",
       " 'real': 479,\n",
       " 'already': 480,\n",
       " 'worse': 481,\n",
       " 'specs': 482,\n",
       " 'disk': 483,\n",
       " 'front': 484,\n",
       " 'coming': 485,\n",
       " 'connection': 486,\n",
       " 'highly': 487,\n",
       " 'offers': 488,\n",
       " 'finally': 489,\n",
       " 'seemed': 490,\n",
       " 'disc': 491,\n",
       " 'enjoy': 492,\n",
       " 'extended': 493,\n",
       " 'knew': 494,\n",
       " 'trouble': 495,\n",
       " 'order': 496,\n",
       " 'documents': 497,\n",
       " 'crashing': 498,\n",
       " 'designed': 499,\n",
       " 'oh': 500,\n",
       " 'expensive': 501,\n",
       " 'top': 502,\n",
       " \"'ll\": 503,\n",
       " 'charged': 504,\n",
       " 'sales': 505,\n",
       " 'average': 506,\n",
       " 'maybe': 507,\n",
       " 'gets': 508,\n",
       " 'wish': 509,\n",
       " 'might': 510,\n",
       " 'backlit': 511,\n",
       " 'volume': 512,\n",
       " 'install': 513,\n",
       " 'impressed': 514,\n",
       " 'including': 515,\n",
       " 'built-in': 516,\n",
       " 'hooked': 517,\n",
       " 'drop': 518,\n",
       " 'guess': 519,\n",
       " 'tax': 520,\n",
       " 'buying': 521,\n",
       " 'iwork': 522,\n",
       " 'our': 523,\n",
       " 'especially': 524,\n",
       " 'replacement': 525,\n",
       " 'shows': 526,\n",
       " 'x': 527,\n",
       " 'older': 528,\n",
       " 'ports': 529,\n",
       " 'intel': 530,\n",
       " 'version': 531,\n",
       " 'email': 532,\n",
       " 'hot': 533,\n",
       " 'cheaper': 534,\n",
       " 'takes': 535,\n",
       " 'load': 536,\n",
       " 'storage': 537,\n",
       " 'tech': 538,\n",
       " 'users': 539,\n",
       " 'fairly': 540,\n",
       " 'reason': 541,\n",
       " 'end': 542,\n",
       " 'operation': 543,\n",
       " 'sharp': 544,\n",
       " 'nearly': 545,\n",
       " 'flawlessly': 546,\n",
       " 'higher': 547,\n",
       " 'music': 548,\n",
       " 'included': 549,\n",
       " 'expense': 550,\n",
       " 'osx': 551,\n",
       " 'functions': 552,\n",
       " 'tv': 553,\n",
       " 'interface': 554,\n",
       " 'pleased': 555,\n",
       " 'professional': 556,\n",
       " 'care': 557,\n",
       " 'apps': 558,\n",
       " 'watching': 559,\n",
       " 'else': 560,\n",
       " 'beautiful': 561,\n",
       " 'inch': 562,\n",
       " 'inside': 563,\n",
       " 'trial': 564,\n",
       " 'own': 565,\n",
       " 'noticed': 566,\n",
       " 'left': 567,\n",
       " 'model': 568,\n",
       " 'case': 569,\n",
       " 'happy': 570,\n",
       " 'into': 571,\n",
       " 'definitely': 572,\n",
       " 'matter': 573,\n",
       " 'different': 574,\n",
       " 'button': 575,\n",
       " 'opened': 576,\n",
       " 'sized': 577,\n",
       " 'typing': 578,\n",
       " 'days': 579,\n",
       " 'froze': 580,\n",
       " 'adding': 581,\n",
       " 'loose': 582,\n",
       " 'number': 583,\n",
       " 'photos': 584,\n",
       " 'solid': 585,\n",
       " 'edges': 586,\n",
       " 'geek': 587,\n",
       " 'college': 588,\n",
       " 'both': 589,\n",
       " 'pictures': 590,\n",
       " 'half': 591,\n",
       " 'network': 592,\n",
       " 'nothing': 593,\n",
       " 'services': 594,\n",
       " 'said': 595,\n",
       " 'darker': 596,\n",
       " 'standard': 597,\n",
       " 'pages': 598,\n",
       " '...': 599,\n",
       " 'strong': 600,\n",
       " 'purchased': 601,\n",
       " 'save': 602,\n",
       " 'almost': 603,\n",
       " 'apparently': 604,\n",
       " 'videos': 605,\n",
       " 'difference': 606,\n",
       " 'fit': 607,\n",
       " 'night': 608,\n",
       " 'usually': 609,\n",
       " 'entire': 610,\n",
       " 'stay': 611,\n",
       " 'properly': 612,\n",
       " 'plugged': 613,\n",
       " 'iphone': 614,\n",
       " 'talk': 615,\n",
       " 'crashes': 616,\n",
       " 'paying': 617,\n",
       " 'newer': 618,\n",
       " 'country': 619,\n",
       " 'certain': 620,\n",
       " 'drivers': 621,\n",
       " 'files': 622,\n",
       " 'slick': 623,\n",
       " 'died': 624,\n",
       " 'trying': 625,\n",
       " 'allows': 626,\n",
       " 'refused': 627,\n",
       " 'ipod': 628,\n",
       " 'mother': 629,\n",
       " 'yeah': 630,\n",
       " 'bar': 631,\n",
       " 'recovery': 632,\n",
       " 'available': 633,\n",
       " 'useless': 634,\n",
       " 'protection': 635,\n",
       " 'paid': 636,\n",
       " 'none': 637,\n",
       " 'reliable': 638,\n",
       " 'people': 639,\n",
       " 'chose': 640,\n",
       " 'spend': 641,\n",
       " 'mention': 642,\n",
       " 'slowly': 643,\n",
       " 'hold': 644,\n",
       " 'minutes': 645,\n",
       " 'stars': 646,\n",
       " '+': 647,\n",
       " 'drawback': 648,\n",
       " 'break': 649,\n",
       " 'responsive': 650,\n",
       " 'amount': 651,\n",
       " 'terrific': 652,\n",
       " 'mic': 653,\n",
       " 'thru': 654,\n",
       " 'cam': 655,\n",
       " 'mostly': 656,\n",
       " 'imovie': 657,\n",
       " 'colors': 658,\n",
       " 'crisp': 659,\n",
       " 'leopard': 660,\n",
       " 'above': 661,\n",
       " 'core': 662,\n",
       " 'becomes': 663,\n",
       " 'body': 664,\n",
       " 'low': 665,\n",
       " 'im': 666,\n",
       " 'whole': 667,\n",
       " '175': 668,\n",
       " 'side': 669,\n",
       " 'cooling': 670,\n",
       " 'viruses': 671,\n",
       " '8': 672,\n",
       " 'keeps': 673,\n",
       " 'friendly': 674,\n",
       " 'caused': 675,\n",
       " 'remove': 676,\n",
       " 'smooth': 677,\n",
       " 'quite': 678,\n",
       " 'soon': 679,\n",
       " 'machines': 680,\n",
       " 'components': 681,\n",
       " 'lasting': 682,\n",
       " 'smoothly': 683,\n",
       " 'loaded': 684,\n",
       " 'via': 685,\n",
       " 'pack': 686,\n",
       " 'liked': 687,\n",
       " 'ahead': 688,\n",
       " 'hated': 689,\n",
       " 'quiet': 690,\n",
       " 'thats': 691,\n",
       " 'three': 692,\n",
       " 'necessary': 693,\n",
       " 'hook': 694,\n",
       " 'satellite': 695,\n",
       " 'boots': 696,\n",
       " 'die': 697,\n",
       " 'received': 698,\n",
       " 'priced': 699,\n",
       " 'burn': 700,\n",
       " 'probably': 701,\n",
       " 'why': 702,\n",
       " 'lose': 703,\n",
       " '%': 704,\n",
       " 'unlike': 705,\n",
       " '17': 706,\n",
       " 'offer': 707,\n",
       " 'updates': 708,\n",
       " 'versions': 709,\n",
       " 'special': 710,\n",
       " 'broke': 711,\n",
       " 'black': 712,\n",
       " 'seen': 713,\n",
       " 'world': 714,\n",
       " 'awful': 715,\n",
       " 'comfortable': 716,\n",
       " 'yourself': 717,\n",
       " 'doesnt': 718,\n",
       " 'during': 719,\n",
       " 'line': 720,\n",
       " 'clean': 721,\n",
       " 'discover': 722,\n",
       " 'looked': 723,\n",
       " 'rma': 724,\n",
       " 'contacted': 725,\n",
       " 'ups': 726,\n",
       " 'durable': 727,\n",
       " 'broken': 728,\n",
       " 'gb': 729,\n",
       " 'reasonable': 730,\n",
       " 'noise': 731,\n",
       " 'constant': 732,\n",
       " 'ghz': 733,\n",
       " '500gb': 734,\n",
       " 'instead': 735,\n",
       " 'access': 736,\n",
       " 'rest': 737,\n",
       " 'wheel': 738,\n",
       " 'school': 739,\n",
       " 'programming': 740,\n",
       " 'worst': 741,\n",
       " 'blue': 742,\n",
       " 'larger': 743,\n",
       " 'gives': 744,\n",
       " 'relatively': 745,\n",
       " 'tutorials': 746,\n",
       " 'disappointing': 747,\n",
       " 'plug': 748,\n",
       " 'capabilities': 749,\n",
       " 'point': 750,\n",
       " 'seem': 751,\n",
       " 'downfall': 752,\n",
       " 'purchasing': 753,\n",
       " 'except': 754,\n",
       " 'plastic': 755,\n",
       " 'returned': 756,\n",
       " 'speaker': 757,\n",
       " 'student': 758,\n",
       " 'portability': 759,\n",
       " 'five': 760,\n",
       " 'person': 761,\n",
       " 'stuff': 762,\n",
       " 'turns': 763,\n",
       " 'often': 764,\n",
       " 'device': 765,\n",
       " 'fun': 766,\n",
       " 'plan': 767,\n",
       " 'previous': 768,\n",
       " 'operate': 769,\n",
       " 'unable': 770,\n",
       " 'track': 771,\n",
       " 'squad': 772,\n",
       " 'known': 773,\n",
       " 'either': 774,\n",
       " 'ask': 775,\n",
       " 'give': 776,\n",
       " 'expired': 777,\n",
       " 'fits': 778,\n",
       " 'budget': 779,\n",
       " 'besides': 780,\n",
       " 'slightly': 781,\n",
       " 'computing': 782,\n",
       " 'room': 783,\n",
       " 'bios': 784,\n",
       " 'benefits': 785,\n",
       " 'spoke': 786,\n",
       " 'she': 787,\n",
       " 'fantastic': 788,\n",
       " 'decent': 789,\n",
       " 'shipped': 790,\n",
       " 'general': 791,\n",
       " 'claim': 792,\n",
       " 'twice': 793,\n",
       " 'handle': 794,\n",
       " 'numbers': 795,\n",
       " 'sensitive': 796,\n",
       " 'cords': 797,\n",
       " 'taking': 798,\n",
       " 'gui': 799,\n",
       " 'bundled': 800,\n",
       " 'gorgeous': 801,\n",
       " 'turned': 802,\n",
       " 'freaking': 803,\n",
       " 'turn': 804,\n",
       " 'steady': 805,\n",
       " 'unnecessary': 806,\n",
       " 'unless': 807,\n",
       " 'suite': 808,\n",
       " 'satisfied': 809,\n",
       " 'barely': 810,\n",
       " 'connected': 811,\n",
       " 'pure': 812,\n",
       " 'snap': 813,\n",
       " '30': 814,\n",
       " 'helps': 815,\n",
       " 'occasionally': 816,\n",
       " 'hundred': 817,\n",
       " 'dollars': 818,\n",
       " 'preloaded': 819,\n",
       " 'along': 820,\n",
       " 'realized': 821,\n",
       " 'kinda': 822,\n",
       " 'speaking': 823,\n",
       " 'browser': 824,\n",
       " 'under': 825,\n",
       " 'ago': 826,\n",
       " 'forced': 827,\n",
       " 'website': 828,\n",
       " 'force': 829,\n",
       " 'four': 830,\n",
       " 'advantage': 831,\n",
       " 'increase': 832,\n",
       " 'heated': 833,\n",
       " 'opening': 834,\n",
       " 'poorly': 835,\n",
       " 'intuitive': 836,\n",
       " 'download': 837,\n",
       " 'glass': 838,\n",
       " 'continued': 839,\n",
       " 'simpler': 840,\n",
       " 'forward': 841,\n",
       " 'genius': 842,\n",
       " '10': 843,\n",
       " 'movie': 844,\n",
       " 'bluetooth': 845,\n",
       " 'customers': 846,\n",
       " 'white': 847,\n",
       " 'updated': 848,\n",
       " 'color': 849,\n",
       " 'comparison': 850,\n",
       " 'factor': 851,\n",
       " 'familiar': 852,\n",
       " 'couple': 853,\n",
       " 'complaints': 854,\n",
       " 'construction': 855,\n",
       " 'security': 856,\n",
       " 'stuck': 857,\n",
       " 'didnt': 858,\n",
       " 'dont': 859,\n",
       " 'safari': 860,\n",
       " 'delivery': 861,\n",
       " 'anytime': 862,\n",
       " 'mind': 863,\n",
       " 'ordered': 864,\n",
       " 'saved': 865,\n",
       " 'crystal': 866,\n",
       " 'owning': 867,\n",
       " 'become': 868,\n",
       " 'incredibly': 869,\n",
       " 'powerbook': 870,\n",
       " 'easiest': 871,\n",
       " 'surface': 872,\n",
       " 'snow': 873,\n",
       " 'learning': 874,\n",
       " 'picked': 875,\n",
       " 'check': 876,\n",
       " 'missing': 877,\n",
       " 'dual': 878,\n",
       " 'charging': 879,\n",
       " 'stand': 880,\n",
       " 'appleworks': 881,\n",
       " 'paint': 882,\n",
       " 'early': 883,\n",
       " 'edition': 884,\n",
       " 'report': 885,\n",
       " 'cheaply': 886,\n",
       " 'holds': 887,\n",
       " 'antivirus': 888,\n",
       " 'glad': 889,\n",
       " 'nicely': 890,\n",
       " 'part': 891,\n",
       " 'latest': 892,\n",
       " 'waited': 893,\n",
       " 'chat': 894,\n",
       " 'us': 895,\n",
       " 'wasted': 896,\n",
       " 'provides': 897,\n",
       " 'those': 898,\n",
       " 'unreliable': 899,\n",
       " 'meets': 900,\n",
       " 'spec': 901,\n",
       " 'burner': 902,\n",
       " 'discovered': 903,\n",
       " 'ran': 904,\n",
       " 'between': 905,\n",
       " '1/2': 906,\n",
       " 'edge': 907,\n",
       " 'phones': 908,\n",
       " 'terrible': 909,\n",
       " 'hate': 910,\n",
       " 'opinion': 911,\n",
       " 'gave': 912,\n",
       " 'daughter': 913,\n",
       " 'listen': 914,\n",
       " 'major': 915,\n",
       " 'heavy': 916,\n",
       " 'bulky': 917,\n",
       " 'electronic': 918,\n",
       " \"'\": 919,\n",
       " 'linux': 920,\n",
       " 'based': 921,\n",
       " 'sense': 922,\n",
       " 'rather': 923,\n",
       " 'processors': 924,\n",
       " 'hdmi': 925,\n",
       " 'firewire': 926,\n",
       " 'image': 927,\n",
       " 'kind': 928,\n",
       " 'clicking': 929,\n",
       " 'unsteady': 930,\n",
       " 'bugs': 931,\n",
       " 'junk': 932,\n",
       " 'facebook': 933,\n",
       " 'file': 934,\n",
       " 'particular': 935,\n",
       " 'truly': 936,\n",
       " 'bucks': 937,\n",
       " 'beyond': 938,\n",
       " 'duty': 939,\n",
       " 'crash': 940,\n",
       " 'decides': 941,\n",
       " 'mode': 942,\n",
       " 'dropping': 943,\n",
       " 'stock': 944,\n",
       " 'given': 945,\n",
       " 'graphic': 946,\n",
       " 'decreased': 947,\n",
       " 'thrilled': 948,\n",
       " 'technical': 949,\n",
       " 'skype': 950,\n",
       " 'hdd': 951,\n",
       " 'main': 952,\n",
       " 'understand': 953,\n",
       " 'consider': 954,\n",
       " 'ms': 955,\n",
       " 'amazed': 956,\n",
       " 'fully': 957,\n",
       " 'letters': 958,\n",
       " 'complete': 959,\n",
       " 'ergonomic': 960,\n",
       " 'sometimes': 961,\n",
       " 'notebooks': 962,\n",
       " 'quicker': 963,\n",
       " 'photography': 964,\n",
       " '10-11': 965,\n",
       " 'depending': 966,\n",
       " 'level': 967,\n",
       " 'appearance': 968,\n",
       " '3rd': 969,\n",
       " 'bother': 970,\n",
       " 'data': 971,\n",
       " 'taught': 972,\n",
       " 'photoshop': 973,\n",
       " 'bigger': 974,\n",
       " 'loves': 975,\n",
       " 'husband': 976,\n",
       " 'signals': 977,\n",
       " 'multiple': 978,\n",
       " 'page': 979,\n",
       " 'non': 980,\n",
       " 'frequently': 981,\n",
       " 'ideal': 982,\n",
       " 'improvements': 983,\n",
       " 'images': 984,\n",
       " 'later': 985,\n",
       " 'options': 986,\n",
       " 'girlfriend': 987,\n",
       " 'hinge': 988,\n",
       " 'lcd': 989,\n",
       " 'late': 990,\n",
       " 'issued': 991,\n",
       " 'morning': 992,\n",
       " '60': 993,\n",
       " 'hiccups': 994,\n",
       " 'occasion': 995,\n",
       " 'presentations': 996,\n",
       " 'functioning': 997,\n",
       " 'obviously': 998,\n",
       " 'hinges': 999,\n",
       " 'advertised': 1000,\n",
       " ...}"
      ]
     },
     "execution_count": 12,
     "metadata": {},
     "output_type": "execute_result"
    }
   ],
   "source": [
    "weights = np.zeros((vocab_size, 300))\n",
    "mapping = toke.word_index \n",
    "mapping"
   ]
  },
  {
   "cell_type": "markdown",
   "metadata": {},
   "source": [
    "Fetching weights from pre trained Word2Vec model (ATE)"
   ]
  },
  {
   "cell_type": "code",
   "execution_count": 13,
   "metadata": {},
   "outputs": [],
   "source": [
    "for word, index in mapping.items():\n",
    "    if word in word2vec:\n",
    "        weights[index:] = word2vec[word]"
   ]
  },
  {
   "cell_type": "code",
   "execution_count": 14,
   "metadata": {},
   "outputs": [],
   "source": [
    "X_train= X_padded_train\n",
    "Y_train = Y_padded_train\n",
    "X_test = X_padded_test\n",
    "Y_test = Y_padded_test\n",
    "X_val = X_padded_val\n",
    "Y_val = Y_padded_val\n",
    "weights = weights\n",
    "word_token = toke\n",
    "tag_token = toke2"
   ]
  },
  {
   "cell_type": "markdown",
   "metadata": {},
   "source": [
    "# Models"
   ]
  },
  {
   "cell_type": "markdown",
   "metadata": {},
   "source": [
    "## RNN"
   ]
  },
  {
   "cell_type": "code",
   "execution_count": 15,
   "metadata": {},
   "outputs": [],
   "source": [
    "model_name=\"RNN\""
   ]
  },
  {
   "cell_type": "markdown",
   "metadata": {},
   "source": [
    "### Training"
   ]
  },
  {
   "cell_type": "code",
   "execution_count": 16,
   "metadata": {},
   "outputs": [
    {
     "name": "stdout",
     "output_type": "stream",
     "text": [
      "WARNING:tensorflow:From c:\\Users\\acer\\AppData\\Local\\Programs\\Python\\Python311\\Lib\\site-packages\\keras\\src\\backend.py:873: The name tf.get_default_graph is deprecated. Please use tf.compat.v1.get_default_graph instead.\n",
      "\n"
     ]
    }
   ],
   "source": [
    "rnn_model = Sequential()\n",
    "rnn_model.add(Embedding(input_dim = vocab_size,output_dim = 300,input_length  = max_len,weights = [weights],trainable = False))\n",
    "rnn_model.add(SimpleRNN(64, return_sequences=True))\n",
    "rnn_model.add(TimeDistributed(Dense(Y_train.shape[2], activation='softmax')))"
   ]
  },
  {
   "cell_type": "markdown",
   "metadata": {},
   "source": [
    "Compiling the rnn Word2Vec Model"
   ]
  },
  {
   "cell_type": "code",
   "execution_count": 17,
   "metadata": {},
   "outputs": [
    {
     "name": "stdout",
     "output_type": "stream",
     "text": [
      "WARNING:tensorflow:From c:\\Users\\acer\\AppData\\Local\\Programs\\Python\\Python311\\Lib\\site-packages\\keras\\src\\optimizers\\__init__.py:309: The name tf.train.Optimizer is deprecated. Please use tf.compat.v1.train.Optimizer instead.\n",
      "\n"
     ]
    }
   ],
   "source": [
    "rnn_model.compile(loss='categorical_crossentropy',optimizer='adam',metrics=['acc',Precision(),Recall()])"
   ]
  },
  {
   "cell_type": "code",
   "execution_count": 18,
   "metadata": {},
   "outputs": [],
   "source": [
    "rnn_f1_callback = F1ScoreCallback(val_data=(X_val, Y_val),data=(X_train, Y_train))\n"
   ]
  },
  {
   "cell_type": "code",
   "execution_count": 19,
   "metadata": {},
   "outputs": [
    {
     "name": "stdout",
     "output_type": "stream",
     "text": [
      "Model: \"sequential\"\n",
      "_________________________________________________________________\n",
      " Layer (type)                Output Shape              Param #   \n",
      "=================================================================\n",
      " embedding (Embedding)       (None, 78, 300)           721800    \n",
      "                                                                 \n",
      " simple_rnn (SimpleRNN)      (None, 78, 64)            23360     \n",
      "                                                                 \n",
      " time_distributed (TimeDist  (None, 78, 4)             260       \n",
      " ributed)                                                        \n",
      "                                                                 \n",
      "=================================================================\n",
      "Total params: 745420 (2.84 MB)\n",
      "Trainable params: 23620 (92.27 KB)\n",
      "Non-trainable params: 721800 (2.75 MB)\n",
      "_________________________________________________________________\n"
     ]
    }
   ],
   "source": [
    "rnn_model.summary()"
   ]
  },
  {
   "cell_type": "markdown",
   "metadata": {},
   "source": [
    "Fitting the rnn model"
   ]
  },
  {
   "cell_type": "code",
   "execution_count": 20,
   "metadata": {},
   "outputs": [
    {
     "name": "stdout",
     "output_type": "stream",
     "text": [
      "Epoch 1/15\n",
      "WARNING:tensorflow:From c:\\Users\\acer\\AppData\\Local\\Programs\\Python\\Python311\\Lib\\site-packages\\keras\\src\\utils\\tf_utils.py:492: The name tf.ragged.RaggedTensorValue is deprecated. Please use tf.compat.v1.ragged.RaggedTensorValue instead.\n",
      "\n",
      "WARNING:tensorflow:From c:\\Users\\acer\\AppData\\Local\\Programs\\Python\\Python311\\Lib\\site-packages\\keras\\src\\engine\\base_layer_utils.py:384: The name tf.executing_eagerly_outside_functions is deprecated. Please use tf.compat.v1.executing_eagerly_outside_functions instead.\n",
      "\n",
      "7/7 [==============================] - 0s 4ms/steposs: 1.1234 - acc: 0.8754 - precision: 0.9289 - recall: 0.15\n",
      "29/29 [==============================] - 0s 4ms/step\n",
      "Val F1 Score: 0.41528981963319084 - Train F1 Score: 0.4226267372542025\n",
      "8/8 [==============================] - 5s 309ms/step - loss: 1.1186 - acc: 0.8756 - precision: 0.9290 - recall: 0.1614 - val_loss: 0.6321 - val_acc: 0.8847 - val_precision: 0.9034 - val_recall: 0.6862\n",
      "Epoch 2/15\n",
      "7/7 [==============================] - 0s 6ms/steposs: 0.4942 - acc: 0.9103 - precision: 0.9169 - recall: 0.78\n",
      "29/29 [==============================] - 0s 6ms/step\n",
      "Val F1 Score: 0.4598844194471922 - Train F1 Score: 0.46013816224667753\n",
      "8/8 [==============================] - 2s 241ms/step - loss: 0.4931 - acc: 0.9106 - precision: 0.9170 - recall: 0.7838 - val_loss: 0.3459 - val_acc: 0.9336 - val_precision: 0.9320 - val_recall: 0.8520\n",
      "Epoch 3/15\n",
      "7/7 [==============================] - 0s 6ms/steposs: 0.2963 - acc: 0.9462 - precision: 0.9445 - recall: 0.88\n",
      "29/29 [==============================] - 0s 6ms/step\n",
      "Val F1 Score: 0.4776600923612363 - Train F1 Score: 0.478067459242879\n",
      "8/8 [==============================] - 2s 239ms/step - loss: 0.2954 - acc: 0.9464 - precision: 0.9447 - recall: 0.8808 - val_loss: 0.2332 - val_acc: 0.9625 - val_precision: 0.9626 - val_recall: 0.9104\n",
      "Epoch 4/15\n",
      "7/7 [==============================] - 0s 5ms/steposs: 0.2475 - acc: 0.9500 - precision: 0.9485 - recall: 0.89\n",
      "29/29 [==============================] - 0s 6ms/step\n",
      "Val F1 Score: 0.45590050989129394 - Train F1 Score: 0.4582801247161328\n",
      "8/8 [==============================] - 2s 241ms/step - loss: 0.2481 - acc: 0.9498 - precision: 0.9483 - recall: 0.8973 - val_loss: 0.2815 - val_acc: 0.9332 - val_precision: 0.9318 - val_recall: 0.8939\n",
      "Epoch 5/15\n",
      "7/7 [==============================] - 0s 5ms/steposs: 0.2643 - acc: 0.9378 - precision: 0.9369 - recall: 0.89\n",
      "29/29 [==============================] - 0s 5ms/step\n",
      "Val F1 Score: 0.46506705248056385 - Train F1 Score: 0.4686820331773681\n",
      "8/8 [==============================] - 2s 231ms/step - loss: 0.2638 - acc: 0.9379 - precision: 0.9370 - recall: 0.8981 - val_loss: 0.2302 - val_acc: 0.9448 - val_precision: 0.9443 - val_recall: 0.9057\n",
      "Epoch 6/15\n",
      "7/7 [==============================] - 0s 4ms/steposs: 0.2075 - acc: 0.9519 - precision: 0.9523 - recall: 0.91\n",
      "29/29 [==============================] - 0s 5ms/step\n",
      "Val F1 Score: 0.5073806598366993 - Train F1 Score: 0.5055770170567675\n",
      "8/8 [==============================] - 2s 228ms/step - loss: 0.2071 - acc: 0.9521 - precision: 0.9525 - recall: 0.9124 - val_loss: 0.1810 - val_acc: 0.9593 - val_precision: 0.9612 - val_recall: 0.9196\n",
      "Epoch 7/15\n",
      "7/7 [==============================] - 0s 4ms/steposs: 0.1750 - acc: 0.9622 - precision: 0.9650 - recall: 0.92\n",
      "29/29 [==============================] - 0s 5ms/step\n",
      "Val F1 Score: 0.5520062854780178 - Train F1 Score: 0.5399060995036127\n",
      "8/8 [==============================] - 2s 235ms/step - loss: 0.1749 - acc: 0.9623 - precision: 0.9650 - recall: 0.9213 - val_loss: 0.1636 - val_acc: 0.9689 - val_precision: 0.9713 - val_recall: 0.9244\n",
      "Epoch 8/15\n",
      "7/7 [==============================] - 0s 6ms/steposs: 0.1594 - acc: 0.9680 - precision: 0.9702 - recall: 0.92\n",
      "29/29 [==============================] - 0s 6ms/step\n",
      "Val F1 Score: 0.54184175836438 - Train F1 Score: 0.5309358650611866\n",
      "8/8 [==============================] - 2s 240ms/step - loss: 0.1593 - acc: 0.9679 - precision: 0.9702 - recall: 0.9262 - val_loss: 0.1488 - val_acc: 0.9691 - val_precision: 0.9714 - val_recall: 0.9288\n",
      "Epoch 9/15\n",
      "7/7 [==============================] - 0s 5ms/steposs: 0.1468 - acc: 0.9682 - precision: 0.9700 - recall: 0.92\n",
      "29/29 [==============================] - 0s 6ms/step\n",
      "Val F1 Score: 0.538232216708689 - Train F1 Score: 0.5282900579094614\n",
      "8/8 [==============================] - 2s 239ms/step - loss: 0.1467 - acc: 0.9682 - precision: 0.9700 - recall: 0.9279 - val_loss: 0.1386 - val_acc: 0.9693 - val_precision: 0.9709 - val_recall: 0.9425\n",
      "Epoch 10/15\n",
      "7/7 [==============================] - 0s 4ms/steposs: 0.1380 - acc: 0.9688 - precision: 0.9705 - recall: 0.94\n",
      "29/29 [==============================] - 0s 5ms/step\n",
      "Val F1 Score: 0.5426564169299894 - Train F1 Score: 0.5349624722854703\n",
      "8/8 [==============================] - 2s 224ms/step - loss: 0.1379 - acc: 0.9688 - precision: 0.9705 - recall: 0.9415 - val_loss: 0.1302 - val_acc: 0.9702 - val_precision: 0.9718 - val_recall: 0.9432\n",
      "Epoch 11/15\n",
      "7/7 [==============================] - 0s 4ms/steposs: 0.1297 - acc: 0.9701 - precision: 0.9723 - recall: 0.94\n",
      "29/29 [==============================] - 0s 4ms/step\n",
      "Val F1 Score: 0.5742134519954514 - Train F1 Score: 0.5618878572928465\n",
      "8/8 [==============================] - 1s 208ms/step - loss: 0.1298 - acc: 0.9701 - precision: 0.9722 - recall: 0.9425 - val_loss: 0.1228 - val_acc: 0.9720 - val_precision: 0.9737 - val_recall: 0.9442\n",
      "Epoch 12/15\n",
      "7/7 [==============================] - 0s 4ms/steposs: 0.1229 - acc: 0.9710 - precision: 0.9748 - recall: 0.94\n",
      "29/29 [==============================] - 0s 4ms/step\n",
      "Val F1 Score: 0.5871324884793903 - Train F1 Score: 0.5777530650634347\n",
      "8/8 [==============================] - 2s 213ms/step - loss: 0.1229 - acc: 0.9710 - precision: 0.9748 - recall: 0.9426 - val_loss: 0.1168 - val_acc: 0.9725 - val_precision: 0.9785 - val_recall: 0.9445\n",
      "Epoch 13/15\n",
      "7/7 [==============================] - 0s 5ms/steposs: 0.1170 - acc: 0.9739 - precision: 0.9773 - recall: 0.94\n",
      "29/29 [==============================] - 0s 5ms/step\n",
      "Val F1 Score: 0.5955506482633707 - Train F1 Score: 0.5809645277574267\n",
      "8/8 [==============================] - 1s 209ms/step - loss: 0.1170 - acc: 0.9739 - precision: 0.9773 - recall: 0.9430 - val_loss: 0.1112 - val_acc: 0.9763 - val_precision: 0.9784 - val_recall: 0.9487\n",
      "Epoch 14/15\n",
      "7/7 [==============================] - 0s 5ms/steposs: 0.1123 - acc: 0.9747 - precision: 0.9776 - recall: 0.94\n",
      "29/29 [==============================] - 0s 5ms/step\n",
      "Val F1 Score: 0.5983042378433246 - Train F1 Score: 0.593501170427599\n",
      "8/8 [==============================] - 2s 228ms/step - loss: 0.1118 - acc: 0.9747 - precision: 0.9778 - recall: 0.9463 - val_loss: 0.1065 - val_acc: 0.9766 - val_precision: 0.9791 - val_recall: 0.9491\n",
      "Epoch 15/15\n",
      "7/7 [==============================] - 0s 4ms/steposs: 0.1075 - acc: 0.9753 - precision: 0.9786 - recall: 0.94\n",
      "29/29 [==============================] - 0s 5ms/step\n",
      "Val F1 Score: 0.6163653496433787 - Train F1 Score: 0.6069374544977177\n",
      "8/8 [==============================] - 2s 212ms/step - loss: 0.1072 - acc: 0.9753 - precision: 0.9787 - recall: 0.9470 - val_loss: 0.1023 - val_acc: 0.9770 - val_precision: 0.9803 - val_recall: 0.9494\n"
     ]
    }
   ],
   "source": [
    "rnn_training = rnn_model.fit(X_train, Y_train, batch_size=128, epochs=15, validation_data=(X_val, Y_val), callbacks=[rnn_f1_callback])"
   ]
  },
  {
   "cell_type": "markdown",
   "metadata": {},
   "source": [
    "Plotting the graph"
   ]
  },
  {
   "cell_type": "code",
   "execution_count": 21,
   "metadata": {},
   "outputs": [
    {
     "data": {
      "image/png": "[encoded data removed]",
      "text/plain": [
       "<Figure size 1600x500 with 2 Axes>"
      ]
     },
     "metadata": {},
     "output_type": "display_data"
    }
   ],
   "source": [
    "draw_loss_graph(rnn_training,model_name, rnn_f1_callback.train_f1_scores, rnn_f1_callback.val_f1_scores)\n",
    "save_model(rnn_model,model_name,Embedding_name,Dataset)"
   ]
  },
  {
   "cell_type": "markdown",
   "metadata": {},
   "source": [
    "### Testing"
   ]
  },
  {
   "cell_type": "code",
   "execution_count": 22,
   "metadata": {},
   "outputs": [],
   "source": [
    "loaded_model = load_model(model_name,Embedding_name,Dataset)"
   ]
  },
  {
   "cell_type": "markdown",
   "metadata": {},
   "source": [
    "Testing accuracy"
   ]
  },
  {
   "cell_type": "code",
   "execution_count": 23,
   "metadata": {},
   "outputs": [
    {
     "name": "stdout",
     "output_type": "stream",
     "text": [
      "11/11 [==============================] - 1s 5ms/step - loss: 0.1104 - acc: 0.9740 - precision: 0.9775 - recall: 0.9460\n",
      "0.9740462899208069\n"
     ]
    }
   ],
   "source": [
    "accuracy = loaded_model.evaluate(X_test, Y_test, verbose = 1)\n",
    "print(accuracy[1])"
   ]
  },
  {
   "cell_type": "markdown",
   "metadata": {},
   "source": [
    "Testing F1 Score"
   ]
  },
  {
   "cell_type": "code",
   "execution_count": 24,
   "metadata": {},
   "outputs": [
    {
     "name": "stdout",
     "output_type": "stream",
     "text": [
      "11/11 [==============================] - 0s 5ms/step\n",
      "Test F1 Score: 0.586243761101982\n"
     ]
    }
   ],
   "source": [
    "Y_pred = loaded_model.predict(X_test)\n",
    "real = get_real(Y_test)\n",
    "pred = get_pred(Y_pred)\n",
    "\n",
    "true_labels_flat = [label for sublist in real for label in sublist]\n",
    "predicted_labels_flat = [label for sublist in pred for label in sublist]\n",
    "\n",
    "# Compute F1 score\n",
    "f1 = f1_score(true_labels_flat, predicted_labels_flat, average='macro')\n",
    "\n",
    "print(\"Test F1 Score:\", f1)"
   ]
  },
  {
   "cell_type": "markdown",
   "metadata": {},
   "source": [
    "## GRU"
   ]
  },
  {
   "cell_type": "code",
   "execution_count": 25,
   "metadata": {},
   "outputs": [],
   "source": [
    "model_name=\"GRU\""
   ]
  },
  {
   "cell_type": "markdown",
   "metadata": {},
   "source": [
    "### Training"
   ]
  },
  {
   "cell_type": "code",
   "execution_count": 26,
   "metadata": {},
   "outputs": [],
   "source": [
    "gru_model = Sequential()\n",
    "gru_model.add(Embedding(input_dim = vocab_size,output_dim = 300,input_length  = max_len,weights = [weights],trainable = False))\n",
    "gru_model.add(GRU(64, return_sequences=True))\n",
    "gru_model.add(TimeDistributed(Dense(Y_train.shape[2], activation='softmax')))"
   ]
  },
  {
   "cell_type": "markdown",
   "metadata": {},
   "source": [
    "compiling "
   ]
  },
  {
   "cell_type": "code",
   "execution_count": 27,
   "metadata": {},
   "outputs": [],
   "source": [
    "gru_model.compile(loss='categorical_crossentropy',optimizer='adam',metrics=['acc',Precision(),Recall()])"
   ]
  },
  {
   "cell_type": "code",
   "execution_count": 28,
   "metadata": {},
   "outputs": [],
   "source": [
    "gru_f1_callback = F1ScoreCallback(val_data=(X_val, Y_val),data=(X_train, Y_train))"
   ]
  },
  {
   "cell_type": "code",
   "execution_count": 29,
   "metadata": {},
   "outputs": [
    {
     "name": "stdout",
     "output_type": "stream",
     "text": [
      "Model: \"sequential_1\"\n",
      "_________________________________________________________________\n",
      " Layer (type)                Output Shape              Param #   \n",
      "=================================================================\n",
      " embedding_1 (Embedding)     (None, 78, 300)           721800    \n",
      "                                                                 \n",
      " gru (GRU)                   (None, 78, 64)            70272     \n",
      "                                                                 \n",
      " time_distributed_1 (TimeDi  (None, 78, 4)             260       \n",
      " stributed)                                                      \n",
      "                                                                 \n",
      "=================================================================\n",
      "Total params: 792332 (3.02 MB)\n",
      "Trainable params: 70532 (275.52 KB)\n",
      "Non-trainable params: 721800 (2.75 MB)\n",
      "_________________________________________________________________\n"
     ]
    }
   ],
   "source": [
    "gru_model.summary()"
   ]
  },
  {
   "cell_type": "markdown",
   "metadata": {},
   "source": [
    "Fitting GRU"
   ]
  },
  {
   "cell_type": "code",
   "execution_count": 30,
   "metadata": {},
   "outputs": [
    {
     "name": "stdout",
     "output_type": "stream",
     "text": [
      "Epoch 1/15\n",
      "7/7 [==============================] - 1s 9ms/steposs: 1.2884 - acc: 0.9546 - precision_1: 0.9892 - recall_1: 0.0026  \n",
      "29/29 [==============================] - 0s 7ms/step\n",
      "Val F1 Score: 0.4870890574965421 - Train F1 Score: 0.4867528983090642\n",
      "8/8 [==============================] - 6s 396ms/step - loss: 1.2884 - acc: 0.9546 - precision_1: 0.9892 - recall_1: 0.0026 - val_loss: 1.1635 - val_acc: 0.9761 - val_precision_1: 0.9539 - val_recall_1: 0.1235\n",
      "Epoch 2/15\n",
      "7/7 [==============================] - 0s 7ms/steposs: 1.0831 - acc: 0.9754 - precision_1: 0.9155 - recall_1: 0.19\n",
      "29/29 [==============================] - 0s 7ms/step\n",
      "Val F1 Score: 0.4871092883135739 - Train F1 Score: 0.4868034938606344\n",
      "8/8 [==============================] - 2s 241ms/step - loss: 1.0821 - acc: 0.9753 - precision_1: 0.9151 - recall_1: 0.1903 - val_loss: 0.9661 - val_acc: 0.9761 - val_precision_1: 0.9053 - val_recall_1: 0.2088\n",
      "Epoch 3/15\n",
      "7/7 [==============================] - 0s 10ms/stepss: 0.8847 - acc: 0.9752 - precision_1: 0.9008 - recall_1: 0.\n",
      "29/29 [==============================] - 0s 7ms/step\n",
      "Val F1 Score: 0.4869153104436049 - Train F1 Score: 0.48666110914996225\n",
      "8/8 [==============================] - 2s 266ms/step - loss: 0.8829 - acc: 0.9753 - precision_1: 0.9012 - recall_1: 0.2128 - val_loss: 0.7157 - val_acc: 0.9758 - val_precision_1: 0.9030 - val_recall_1: 0.2132\n",
      "Epoch 4/15\n",
      "7/7 [==============================] - 0s 7ms/steposs: 0.5441 - acc: 0.9721 - precision_1: 0.9652 - recall_1: 0.69\n",
      "29/29 [==============================] - 0s 8ms/step\n",
      "Val F1 Score: 0.46958364256882956 - Train F1 Score: 0.47029190624282696\n",
      "8/8 [==============================] - 2s 249ms/step - loss: 0.5441 - acc: 0.9721 - precision_1: 0.9652 - recall_1: 0.6980 - val_loss: 0.2589 - val_acc: 0.9505 - val_precision_1: 0.9497 - val_recall_1: 0.9111\n",
      "Epoch 5/15\n",
      "7/7 [==============================] - 0s 8ms/steposs: 0.2681 - acc: 0.9398 - precision_1: 0.9383 - recall_1: 0.90\n",
      "29/29 [==============================] - 0s 8ms/step\n",
      "Val F1 Score: 0.47428404523295564 - Train F1 Score: 0.474907096992851\n",
      "8/8 [==============================] - 2s 255ms/step - loss: 0.2681 - acc: 0.9398 - precision_1: 0.9383 - recall_1: 0.9084 - val_loss: 0.1925 - val_acc: 0.9572 - val_precision_1: 0.9568 - val_recall_1: 0.9313\n",
      "Epoch 6/15\n",
      "7/7 [==============================] - 0s 8ms/steposs: 0.1781 - acc: 0.9644 - precision_1: 0.9644 - recall_1: 0.93\n",
      "29/29 [==============================] - 0s 7ms/step\n",
      "Val F1 Score: 0.49299537723749104 - Train F1 Score: 0.4868926289817296\n",
      "8/8 [==============================] - 2s 252ms/step - loss: 0.1781 - acc: 0.9644 - precision_1: 0.9644 - recall_1: 0.9379 - val_loss: 0.1653 - val_acc: 0.9699 - val_precision_1: 0.9707 - val_recall_1: 0.9433\n",
      "Epoch 7/15\n",
      "7/7 [==============================] - 0s 7ms/steposs: 0.1559 - acc: 0.9695 - precision_1: 0.9704 - recall_1: 0.94\n",
      "29/29 [==============================] - 0s 7ms/step\n",
      "Val F1 Score: 0.4929283869365007 - Train F1 Score: 0.48946436563997253\n",
      "8/8 [==============================] - 2s 263ms/step - loss: 0.1558 - acc: 0.9694 - precision_1: 0.9704 - recall_1: 0.9431 - val_loss: 0.1365 - val_acc: 0.9697 - val_precision_1: 0.9704 - val_recall_1: 0.9432\n",
      "Epoch 8/15\n",
      "7/7 [==============================] - 0s 7ms/steposs: 0.1325 - acc: 0.9689 - precision_1: 0.9703 - recall_1: 0.95\n",
      "29/29 [==============================] - 0s 8ms/step\n",
      "Val F1 Score: 0.4957560946632445 - Train F1 Score: 0.49158920769479286\n",
      "8/8 [==============================] - 2s 247ms/step - loss: 0.1325 - acc: 0.9689 - precision_1: 0.9703 - recall_1: 0.9517 - val_loss: 0.1233 - val_acc: 0.9691 - val_precision_1: 0.9711 - val_recall_1: 0.9554\n",
      "Epoch 9/15\n",
      "7/7 [==============================] - 0s 7ms/steposs: 0.1219 - acc: 0.9693 - precision_1: 0.9711 - recall_1: 0.95\n",
      "29/29 [==============================] - 0s 7ms/step\n",
      "Val F1 Score: 0.5278636935748318 - Train F1 Score: 0.5233054394135147\n",
      "8/8 [==============================] - 2s 244ms/step - loss: 0.1217 - acc: 0.9694 - precision_1: 0.9712 - recall_1: 0.9550 - val_loss: 0.1137 - val_acc: 0.9710 - val_precision_1: 0.9724 - val_recall_1: 0.9558\n",
      "Epoch 10/15\n",
      "7/7 [==============================] - 0s 9ms/steposs: 0.1131 - acc: 0.9717 - precision_1: 0.9736 - recall_1: 0.\n",
      "29/29 [==============================] - 0s 7ms/step\n",
      "Val F1 Score: 0.5370858242013782 - Train F1 Score: 0.5354556437682811\n",
      "8/8 [==============================] - 2s 269ms/step - loss: 0.1129 - acc: 0.9717 - precision_1: 0.9737 - recall_1: 0.9564 - val_loss: 0.1062 - val_acc: 0.9752 - val_precision_1: 0.9770 - val_recall_1: 0.9604\n",
      "Epoch 11/15\n",
      "7/7 [==============================] - 0s 11ms/stepss: 0.1063 - acc: 0.9747 - precision_1: 0.9774 - recall_1: 0.\n",
      "29/29 [==============================] - 0s 10ms/step\n",
      "Val F1 Score: 0.5520683378791715 - Train F1 Score: 0.5478098654105802\n",
      "8/8 [==============================] - 2s 293ms/step - loss: 0.1064 - acc: 0.9747 - precision_1: 0.9774 - recall_1: 0.9599 - val_loss: 0.1008 - val_acc: 0.9764 - val_precision_1: 0.9792 - val_recall_1: 0.9616\n",
      "Epoch 12/15\n",
      "7/7 [==============================] - 0s 7ms/steposs: 0.1015 - acc: 0.9753 - precision_1: 0.9789 - recall_1: 0.96\n",
      "29/29 [==============================] - 0s 7ms/step\n",
      "Val F1 Score: 0.5608117745577491 - Train F1 Score: 0.5536452480451862\n",
      "8/8 [==============================] - 2s 246ms/step - loss: 0.1012 - acc: 0.9754 - precision_1: 0.9790 - recall_1: 0.9601 - val_loss: 0.0962 - val_acc: 0.9769 - val_precision_1: 0.9798 - val_recall_1: 0.9619\n",
      "Epoch 13/15\n",
      "7/7 [==============================] - 0s 7ms/steposs: 0.0969 - acc: 0.9758 - precision_1: 0.9795 - recall_1: 0.96\n",
      "29/29 [==============================] - 0s 8ms/step\n",
      "Val F1 Score: 0.5640534888213562 - Train F1 Score: 0.5557305308523204\n",
      "8/8 [==============================] - 2s 247ms/step - loss: 0.0968 - acc: 0.9757 - precision_1: 0.9796 - recall_1: 0.9601 - val_loss: 0.0923 - val_acc: 0.9772 - val_precision_1: 0.9801 - val_recall_1: 0.9622\n",
      "Epoch 14/15\n",
      "7/7 [==============================] - 0s 7ms/steposs: 0.0930 - acc: 0.9760 - precision_1: 0.9804 - recall_1: 0.96\n",
      "29/29 [==============================] - 0s 7ms/step\n",
      "Val F1 Score: 0.5714656401968459 - Train F1 Score: 0.566516445680825\n",
      "8/8 [==============================] - 2s 246ms/step - loss: 0.0931 - acc: 0.9760 - precision_1: 0.9803 - recall_1: 0.9603 - val_loss: 0.0891 - val_acc: 0.9778 - val_precision_1: 0.9811 - val_recall_1: 0.9624\n",
      "Epoch 15/15\n",
      "7/7 [==============================] - 0s 7ms/steposs: 0.0901 - acc: 0.9766 - precision_1: 0.9812 - recall_1: 0.96\n",
      "29/29 [==============================] - 0s 7ms/step\n",
      "Val F1 Score: 0.5762875341089785 - Train F1 Score: 0.5723081759359254\n",
      "8/8 [==============================] - 2s 238ms/step - loss: 0.0899 - acc: 0.9767 - precision_1: 0.9813 - recall_1: 0.9607 - val_loss: 0.0862 - val_acc: 0.9780 - val_precision_1: 0.9817 - val_recall_1: 0.9629\n"
     ]
    }
   ],
   "source": [
    "gru_training = gru_model.fit(X_train, Y_train, batch_size=128, epochs=15, validation_data=(X_val, Y_val), callbacks=[gru_f1_callback])"
   ]
  },
  {
   "cell_type": "markdown",
   "metadata": {},
   "source": [
    "Plotting Graph"
   ]
  },
  {
   "cell_type": "code",
   "execution_count": 31,
   "metadata": {},
   "outputs": [
    {
     "data": {
      "image/png": "[encoded data removed]",
      "text/plain": [
       "<Figure size 1600x500 with 2 Axes>"
      ]
     },
     "metadata": {},
     "output_type": "display_data"
    }
   ],
   "source": [
    "draw_loss_graph(gru_training,model_name, gru_f1_callback.train_f1_scores, gru_f1_callback.val_f1_scores)\n",
    "save_model(gru_model,model_name,Embedding_name,Dataset)"
   ]
  },
  {
   "cell_type": "markdown",
   "metadata": {},
   "source": [
    "### Testing"
   ]
  },
  {
   "cell_type": "code",
   "execution_count": 32,
   "metadata": {},
   "outputs": [],
   "source": [
    "loaded_model = load_model(model_name,Embedding_name,Dataset)"
   ]
  },
  {
   "cell_type": "markdown",
   "metadata": {},
   "source": [
    "Testing Accuracy"
   ]
  },
  {
   "cell_type": "code",
   "execution_count": 33,
   "metadata": {},
   "outputs": [
    {
     "name": "stdout",
     "output_type": "stream",
     "text": [
      "11/11 [==============================] - 2s 8ms/step - loss: 0.0966 - acc: 0.9753 - precision_1: 0.9796 - recall_1: 0.9593\n",
      "0.9753361344337463\n"
     ]
    }
   ],
   "source": [
    "accuracy = loaded_model.evaluate(X_test, Y_test, verbose = 1)\n",
    "print(accuracy[1])"
   ]
  },
  {
   "cell_type": "markdown",
   "metadata": {},
   "source": [
    "Testing F1 Score"
   ]
  },
  {
   "cell_type": "code",
   "execution_count": 34,
   "metadata": {},
   "outputs": [
    {
     "name": "stdout",
     "output_type": "stream",
     "text": [
      "11/11 [==============================] - 1s 10ms/step\n",
      "Test F1 Score: 0.5699582538580203\n"
     ]
    }
   ],
   "source": [
    "Y_pred = loaded_model.predict(X_test)\n",
    "real = get_real(Y_test)\n",
    "pred = get_pred(Y_pred)\n",
    "\n",
    "true_labels_flat = [label for sublist in real for label in sublist]\n",
    "predicted_labels_flat = [label for sublist in pred for label in sublist]\n",
    "\n",
    "# Compute F1 score\n",
    "f1 = f1_score(true_labels_flat, predicted_labels_flat, average='macro')\n",
    "\n",
    "print(\"Test F1 Score:\", f1)"
   ]
  },
  {
   "cell_type": "markdown",
   "metadata": {},
   "source": [
    "# LSTM"
   ]
  },
  {
   "cell_type": "code",
   "execution_count": 35,
   "metadata": {},
   "outputs": [],
   "source": [
    "model_name=\"LSTM\""
   ]
  },
  {
   "cell_type": "markdown",
   "metadata": {},
   "source": [
    "### Training"
   ]
  },
  {
   "cell_type": "code",
   "execution_count": 36,
   "metadata": {},
   "outputs": [],
   "source": [
    "lstm_model = Sequential()\n",
    "lstm_model.add(Embedding(input_dim = vocab_size,output_dim = 300,input_length  = max_len,weights = [weights],trainable = False))\n",
    "lstm_model.add(LSTM(64, return_sequences=True))\n",
    "lstm_model.add(TimeDistributed(Dense(Y_train.shape[2], activation='softmax')))# Lstm"
   ]
  },
  {
   "cell_type": "markdown",
   "metadata": {},
   "source": [
    "Compiling LSTM"
   ]
  },
  {
   "cell_type": "code",
   "execution_count": 37,
   "metadata": {},
   "outputs": [],
   "source": [
    "lstm_model.compile(loss='categorical_crossentropy',optimizer='adam',metrics=['acc',Precision(),Recall()])"
   ]
  },
  {
   "cell_type": "code",
   "execution_count": 38,
   "metadata": {},
   "outputs": [],
   "source": [
    "LSTM_f1_callback=F1ScoreCallback(val_data=(X_val, Y_val),data=(X_train, Y_train))"
   ]
  },
  {
   "cell_type": "code",
   "execution_count": 39,
   "metadata": {},
   "outputs": [
    {
     "name": "stdout",
     "output_type": "stream",
     "text": [
      "Model: \"sequential_2\"\n",
      "_________________________________________________________________\n",
      " Layer (type)                Output Shape              Param #   \n",
      "=================================================================\n",
      " embedding_2 (Embedding)     (None, 78, 300)           721800    \n",
      "                                                                 \n",
      " lstm (LSTM)                 (None, 78, 64)            93440     \n",
      "                                                                 \n",
      " time_distributed_2 (TimeDi  (None, 78, 4)             260       \n",
      " stributed)                                                      \n",
      "                                                                 \n",
      "=================================================================\n",
      "Total params: 815500 (3.11 MB)\n",
      "Trainable params: 93700 (366.02 KB)\n",
      "Non-trainable params: 721800 (2.75 MB)\n",
      "_________________________________________________________________\n"
     ]
    }
   ],
   "source": [
    "lstm_model.summary()"
   ]
  },
  {
   "cell_type": "markdown",
   "metadata": {},
   "source": [
    "Fitting LSTM"
   ]
  },
  {
   "cell_type": "code",
   "execution_count": 40,
   "metadata": {},
   "outputs": [
    {
     "name": "stdout",
     "output_type": "stream",
     "text": [
      "Epoch 1/15\n",
      "7/7 [==============================] - 1s 10ms/stepss: 1.3160 - acc: 0.9319 - precision_2: 0.9700 - recall_2: 0.0046  \n",
      "29/29 [==============================] - 0s 9ms/step\n",
      "Val F1 Score: 0.48697608266573783 - Train F1 Score: 0.4866735247697377\n",
      "8/8 [==============================] - 7s 530ms/step - loss: 1.3150 - acc: 0.9324 - precision_2: 0.9626 - recall_2: 0.0055 - val_loss: 1.1832 - val_acc: 0.9758 - val_precision_2: 0.9298 - val_recall_2: 0.1381\n",
      "Epoch 2/15\n",
      "7/7 [==============================] - 0s 9ms/steposs: 1.1030 - acc: 0.9752 - precision_2: 0.9118 - recall_2: 0.\n",
      "29/29 [==============================] - 0s 8ms/step\n",
      "Val F1 Score: 0.4869332174020471 - Train F1 Score: 0.4867028267299759\n",
      "8/8 [==============================] - 2s 280ms/step - loss: 1.1020 - acc: 0.9752 - precision_2: 0.9115 - recall_2: 0.1792 - val_loss: 0.9783 - val_acc: 0.9757 - val_precision_2: 0.9122 - val_recall_2: 0.2000\n",
      "Epoch 3/15\n",
      "7/7 [==============================] - 0s 11ms/stepss: 0.8076 - acc: 0.9615 - precision_2: 0.9232 - recall_2: 0.\n",
      "29/29 [==============================] - 0s 12ms/step\n",
      "Val F1 Score: 0.41473805687432175 - Train F1 Score: 0.41971216641303477\n",
      "8/8 [==============================] - 2s 314ms/step - loss: 0.8045 - acc: 0.9610 - precision_2: 0.9228 - recall_2: 0.3804 - val_loss: 0.5588 - val_acc: 0.8865 - val_precision_2: 0.8657 - val_recall_2: 0.7182\n",
      "Epoch 4/15\n",
      "7/7 [==============================] - 0s 9ms/steposs: 0.4651 - acc: 0.9191 - precision_2: 0.9082 - recall_2: 0.\n",
      "29/29 [==============================] - 0s 10ms/step\n",
      "Val F1 Score: 0.47447707269655526 - Train F1 Score: 0.4744280033903874\n",
      "8/8 [==============================] - 2s 277ms/step - loss: 0.4646 - acc: 0.9194 - precision_2: 0.9086 - recall_2: 0.7832 - val_loss: 0.3719 - val_acc: 0.9576 - val_precision_2: 0.9538 - val_recall_2: 0.8549\n",
      "Epoch 5/15\n",
      "7/7 [==============================] - 0s 8ms/steposs: 0.3337 - acc: 0.9496 - precision_2: 0.9459 - recall_2: 0.86\n",
      "29/29 [==============================] - 0s 8ms/step\n",
      "Val F1 Score: 0.46899174025087687 - Train F1 Score: 0.46898531534027654\n",
      "8/8 [==============================] - 2s 253ms/step - loss: 0.3337 - acc: 0.9496 - precision_2: 0.9459 - recall_2: 0.8632 - val_loss: 0.2840 - val_acc: 0.9499 - val_precision_2: 0.9468 - val_recall_2: 0.8721\n",
      "Epoch 6/15\n",
      "7/7 [==============================] - 0s 9ms/steposs: 0.2641 - acc: 0.9583 - precision_2: 0.9566 - recall_2: 0.\n",
      "29/29 [==============================] - 0s 9ms/step\n",
      "Val F1 Score: 0.4734226575587053 - Train F1 Score: 0.4729904957265403\n",
      "8/8 [==============================] - 2s 267ms/step - loss: 0.2636 - acc: 0.9583 - precision_2: 0.9566 - recall_2: 0.8900 - val_loss: 0.2357 - val_acc: 0.9562 - val_precision_2: 0.9542 - val_recall_2: 0.8915\n",
      "Epoch 7/15\n",
      "7/7 [==============================] - 0s 8ms/steposs: 0.2212 - acc: 0.9611 - precision_2: 0.9600 - recall_2: 0.90\n",
      "29/29 [==============================] - 0s 9ms/step\n",
      "Val F1 Score: 0.4770823343069299 - Train F1 Score: 0.47717878221035387\n",
      "8/8 [==============================] - 2s 251ms/step - loss: 0.2212 - acc: 0.9611 - precision_2: 0.9600 - recall_2: 0.9021 - val_loss: 0.1998 - val_acc: 0.9618 - val_precision_2: 0.9612 - val_recall_2: 0.9102\n",
      "Epoch 8/15\n",
      "7/7 [==============================] - 0s 9ms/steposs: 0.1946 - acc: 0.9654 - precision_2: 0.9646 - recall_2: 0.\n",
      "29/29 [==============================] - 0s 9ms/step\n",
      "Val F1 Score: 0.484759867939772 - Train F1 Score: 0.484309559650441\n",
      "8/8 [==============================] - 2s 260ms/step - loss: 0.1944 - acc: 0.9654 - precision_2: 0.9645 - recall_2: 0.9135 - val_loss: 0.1881 - val_acc: 0.9728 - val_precision_2: 0.9720 - val_recall_2: 0.9213\n",
      "Epoch 9/15\n",
      "7/7 [==============================] - 0s 8ms/steposs: 0.1813 - acc: 0.9673 - precision_2: 0.9666 - recall_2: 0.91\n",
      "29/29 [==============================] - 0s 9ms/step\n",
      "Val F1 Score: 0.48064221763899473 - Train F1 Score: 0.4805206148304141\n",
      "8/8 [==============================] - 2s 262ms/step - loss: 0.1813 - acc: 0.9673 - precision_2: 0.9666 - recall_2: 0.9156 - val_loss: 0.1712 - val_acc: 0.9670 - val_precision_2: 0.9665 - val_recall_2: 0.9283\n",
      "Epoch 10/15\n",
      "7/7 [==============================] - 0s 8ms/steposs: 0.1700 - acc: 0.9676 - precision_2: 0.9672 - recall_2: 0.92\n",
      "29/29 [==============================] - 0s 9ms/step\n",
      "Val F1 Score: 0.4824471346653624 - Train F1 Score: 0.4824849585395575\n",
      "8/8 [==============================] - 2s 255ms/step - loss: 0.1699 - acc: 0.9676 - precision_2: 0.9672 - recall_2: 0.9288 - val_loss: 0.1615 - val_acc: 0.9695 - val_precision_2: 0.9698 - val_recall_2: 0.9303\n",
      "Epoch 11/15\n",
      "7/7 [==============================] - 0s 12ms/stepss: 0.1606 - acc: 0.9696 - precision_2: 0.9691 - recall_2: 0.\n",
      "29/29 [==============================] - 0s 11ms/step\n",
      "Val F1 Score: 0.4840815192281308 - Train F1 Score: 0.483626711997448\n",
      "8/8 [==============================] - 2s 306ms/step - loss: 0.1608 - acc: 0.9695 - precision_2: 0.9691 - recall_2: 0.9306 - val_loss: 0.1536 - val_acc: 0.9717 - val_precision_2: 0.9714 - val_recall_2: 0.9331\n",
      "Epoch 12/15\n",
      "7/7 [==============================] - 0s 8ms/steposs: 0.1535 - acc: 0.9701 - precision_2: 0.9695 - recall_2: 0.93\n",
      "29/29 [==============================] - 0s 8ms/step\n",
      "Val F1 Score: 0.48257818730732294 - Train F1 Score: 0.4823205972302273\n",
      "8/8 [==============================] - 2s 257ms/step - loss: 0.1533 - acc: 0.9702 - precision_2: 0.9696 - recall_2: 0.9313 - val_loss: 0.1476 - val_acc: 0.9697 - val_precision_2: 0.9694 - val_recall_2: 0.9306\n",
      "Epoch 13/15\n",
      "7/7 [==============================] - 0s 8ms/steposs: 0.1474 - acc: 0.9705 - precision_2: 0.9700 - recall_2: 0.93\n",
      "29/29 [==============================] - 0s 8ms/step\n",
      "Val F1 Score: 0.48401504182022126 - Train F1 Score: 0.48370974591102867\n",
      "8/8 [==============================] - 2s 261ms/step - loss: 0.1473 - acc: 0.9705 - precision_2: 0.9700 - recall_2: 0.9316 - val_loss: 0.1418 - val_acc: 0.9716 - val_precision_2: 0.9713 - val_recall_2: 0.9327\n",
      "Epoch 14/15\n",
      "7/7 [==============================] - 0s 9ms/steposs: 0.1419 - acc: 0.9711 - precision_2: 0.9707 - recall_2: 0.\n",
      "29/29 [==============================] - 0s 9ms/step\n",
      "Val F1 Score: 0.485339229572163 - Train F1 Score: 0.48480933568276996\n",
      "8/8 [==============================] - 2s 277ms/step - loss: 0.1419 - acc: 0.9710 - precision_2: 0.9707 - recall_2: 0.9323 - val_loss: 0.1369 - val_acc: 0.9735 - val_precision_2: 0.9734 - val_recall_2: 0.9348\n",
      "Epoch 15/15\n",
      "7/7 [==============================] - 0s 9ms/steposs: 0.1375 - acc: 0.9718 - precision_2: 0.9716 - recall_2: 0.\n",
      "29/29 [==============================] - 0s 8ms/step\n",
      "Val F1 Score: 0.4838644458522305 - Train F1 Score: 0.48351486612777383\n",
      "8/8 [==============================] - 2s 258ms/step - loss: 0.1373 - acc: 0.9719 - precision_2: 0.9717 - recall_2: 0.9332 - val_loss: 0.1329 - val_acc: 0.9714 - val_precision_2: 0.9718 - val_recall_2: 0.9326\n"
     ]
    }
   ],
   "source": [
    "lstm_training = lstm_model.fit(X_train, Y_train, batch_size=128, epochs=15, validation_data=(X_val, Y_val), callbacks=[LSTM_f1_callback])"
   ]
  },
  {
   "cell_type": "markdown",
   "metadata": {},
   "source": [
    "Plotting Graph"
   ]
  },
  {
   "cell_type": "code",
   "execution_count": 42,
   "metadata": {},
   "outputs": [
    {
     "data": {
      "image/png": "[encoded data removed]",
      "text/plain": [
       "<Figure size 1600x500 with 2 Axes>"
      ]
     },
     "metadata": {},
     "output_type": "display_data"
    }
   ],
   "source": [
    "draw_loss_graph(lstm_training, \"LSTM Model\", LSTM_f1_callback.train_f1_scores, LSTM_f1_callback.val_f1_scores)\n",
    "save_model(lstm_model, model_name, Embedding_name, Dataset)\n",
    "loaded_model = load_model(model_name,Embedding_name,Dataset)"
   ]
  },
  {
   "cell_type": "markdown",
   "metadata": {},
   "source": [
    "### Testing"
   ]
  },
  {
   "cell_type": "code",
   "execution_count": 43,
   "metadata": {},
   "outputs": [],
   "source": [
    "loaded_model = load_model(model_name,Embedding_name,Dataset)"
   ]
  },
  {
   "cell_type": "markdown",
   "metadata": {},
   "source": [
    "Testing accuracy"
   ]
  },
  {
   "cell_type": "code",
   "execution_count": 44,
   "metadata": {},
   "outputs": [
    {
     "name": "stdout",
     "output_type": "stream",
     "text": [
      "11/11 [==============================] - 1s 11ms/step - loss: 0.1389 - acc: 0.9700 - precision_2: 0.9697 - recall_2: 0.9308\n",
      "0.9700203537940979\n"
     ]
    }
   ],
   "source": [
    "accuracy = loaded_model.evaluate(X_test, Y_test, verbose = 1)\n",
    "print(accuracy[1])"
   ]
  },
  {
   "cell_type": "markdown",
   "metadata": {},
   "source": [
    "Testing F1 Score"
   ]
  },
  {
   "cell_type": "code",
   "execution_count": 45,
   "metadata": {},
   "outputs": [
    {
     "name": "stdout",
     "output_type": "stream",
     "text": [
      "11/11 [==============================] - 1s 10ms/step\n",
      "Test F1 Score: 0.4802295070698823\n"
     ]
    }
   ],
   "source": [
    "Y_pred = loaded_model.predict(X_test)\n",
    "real = get_real(Y_test)\n",
    "pred = get_pred(Y_pred)\n",
    "\n",
    "true_labels_flat = [label for sublist in real for label in sublist]\n",
    "predicted_labels_flat = [label for sublist in pred for label in sublist]\n",
    "\n",
    "# Compute F1 score\n",
    "f1 = f1_score(true_labels_flat, predicted_labels_flat, average='macro')\n",
    "\n",
    "print(\"Test F1 Score:\", f1)"
   ]
  },
  {
   "cell_type": "markdown",
   "metadata": {},
   "source": [
    "# BiLSTM"
   ]
  },
  {
   "cell_type": "code",
   "execution_count": 46,
   "metadata": {},
   "outputs": [],
   "source": [
    "model_name=\"BiLSTM\""
   ]
  },
  {
   "cell_type": "markdown",
   "metadata": {},
   "source": [
    "Training"
   ]
  },
  {
   "cell_type": "code",
   "execution_count": 47,
   "metadata": {},
   "outputs": [],
   "source": [
    "input=Input(shape=(max_len,))\n",
    "BiLSTM_CRF_embed=Embedding(input_dim=vocab_size, output_dim=300, input_length=max_len, weights=[weights], trainable=False)(input)\n",
    "BiLSTM_CRF_bilstm=Bidirectional(LSTM(units=128, return_sequences=True, recurrent_dropout=0.1))(BiLSTM_CRF_embed)\n",
    "BiLSTM_model=(TimeDistributed(Dense(Y_test.shape[2], activation='relu')))(BiLSTM_CRF_bilstm)\n",
    "\n",
    "crf = CRF(Y_padded_test.shape[2])\n",
    "predicted_sequence, potentials, sequence_length, crf_kernel = crf(BiLSTM_model)\n",
    "\n",
    "BiLSTM_model=Model(input,potentials)"
   ]
  },
  {
   "cell_type": "markdown",
   "metadata": {},
   "source": [
    "Compiling the BiLSTM Model"
   ]
  },
  {
   "cell_type": "code",
   "execution_count": 48,
   "metadata": {},
   "outputs": [],
   "source": [
    "BiLSTM_model.compile(\n",
    "        optimizer=AdamW(learning_rate=0.002),\n",
    "        loss=SigmoidFocalCrossEntropy(),\n",
    "        metrics=['accuracy']\n",
    "    )"
   ]
  },
  {
   "cell_type": "code",
   "execution_count": 49,
   "metadata": {},
   "outputs": [],
   "source": [
    "BiLSTM_f1_callback = F1ScoreCallback(val_data=(X_val, Y_val),data=(X_train, Y_train))"
   ]
  },
  {
   "cell_type": "code",
   "execution_count": 50,
   "metadata": {},
   "outputs": [
    {
     "name": "stdout",
     "output_type": "stream",
     "text": [
      "Model: \"model\"\n",
      "_________________________________________________________________\n",
      " Layer (type)                Output Shape              Param #   \n",
      "=================================================================\n",
      " input_1 (InputLayer)        [(None, 78)]              0         \n",
      "                                                                 \n",
      " embedding_3 (Embedding)     (None, 78, 300)           721800    \n",
      "                                                                 \n",
      " bidirectional (Bidirection  (None, 78, 256)           439296    \n",
      " al)                                                             \n",
      "                                                                 \n",
      " time_distributed_3 (TimeDi  (None, 78, 4)             1028      \n",
      " stributed)                                                      \n",
      "                                                                 \n",
      " crf (CRF)                   [(None, 78),              44        \n",
      "                              (None, 78, 4),                     \n",
      "                              (None,),                           \n",
      "                              (4, 4)]                            \n",
      "                                                                 \n",
      "=================================================================\n",
      "Total params: 1162168 (4.43 MB)\n",
      "Trainable params: 440368 (1.68 MB)\n",
      "Non-trainable params: 721800 (2.75 MB)\n",
      "_________________________________________________________________\n"
     ]
    }
   ],
   "source": [
    "BiLSTM_model.summary()"
   ]
  },
  {
   "cell_type": "markdown",
   "metadata": {},
   "source": [
    "Fitting the BiLSTM Model"
   ]
  },
  {
   "cell_type": "code",
   "execution_count": 51,
   "metadata": {},
   "outputs": [
    {
     "name": "stdout",
     "output_type": "stream",
     "text": [
      "Epoch 1/15\n",
      "WARNING:tensorflow:Gradients do not exist for variables ['chain_kernel:0'] when minimizing the loss. If you're using `model.compile()`, did you forget to provide a `loss` argument?\n",
      "WARNING:tensorflow:Gradients do not exist for variables ['chain_kernel:0'] when minimizing the loss. If you're using `model.compile()`, did you forget to provide a `loss` argument?\n",
      "WARNING:tensorflow:Gradients do not exist for variables ['chain_kernel:0'] when minimizing the loss. If you're using `model.compile()`, did you forget to provide a `loss` argument?\n",
      "WARNING:tensorflow:Gradients do not exist for variables ['chain_kernel:0'] when minimizing the loss. If you're using `model.compile()`, did you forget to provide a `loss` argument?\n",
      "7/7 [==============================] - 1s 34ms/stepss: 0.7655 - accuracy\n",
      "29/29 [==============================] - 1s 33ms/step\n",
      "Val F1 Score: 0.48510707884446 - Train F1 Score: 0.4852133057481839\n",
      "8/8 [==============================] - 14s 906ms/step - loss: 0.7655 - accuracy: 0.8400 - val_loss: 0.2103 - val_accuracy: 0.9730\n",
      "Epoch 2/15\n",
      "7/7 [==============================] - 0s 42ms/stepss: 0.1509 - accuracy\n",
      "29/29 [==============================] - 1s 38ms/step\n",
      "Val F1 Score: 0.5133295854139652 - Train F1 Score: 0.5144246709779124\n",
      "8/8 [==============================] - 5s 726ms/step - loss: 0.1509 - accuracy: 0.9565 - val_loss: 0.0917 - val_accuracy: 0.9690\n",
      "Epoch 3/15\n",
      "7/7 [==============================] - 0s 51ms/stepss: 0.0837 - accura\n",
      "29/29 [==============================] - 1s 45ms/step\n",
      "Val F1 Score: 0.5317160222972086 - Train F1 Score: 0.5292541264587596\n",
      "8/8 [==============================] - 6s 791ms/step - loss: 0.0837 - accuracy: 0.9570 - val_loss: 0.0694 - val_accuracy: 0.9597\n",
      "Epoch 4/15\n",
      "7/7 [==============================] - 0s 37ms/stepss: 0.0712 - accuracy\n",
      "29/29 [==============================] - 1s 40ms/step\n",
      "Val F1 Score: 0.5307020484444728 - Train F1 Score: 0.5306808520204811\n",
      "8/8 [==============================] - 6s 832ms/step - loss: 0.0712 - accuracy: 0.9614 - val_loss: 0.0631 - val_accuracy: 0.9677\n",
      "Epoch 5/15\n",
      "7/7 [==============================] - 0s 41ms/stepss: 0.0622 - accuracy\n",
      "29/29 [==============================] - 1s 35ms/step\n",
      "Val F1 Score: 0.5716481553035329 - Train F1 Score: 0.5545734267869004\n",
      "8/8 [==============================] - 6s 782ms/step - loss: 0.0622 - accuracy: 0.9663 - val_loss: 0.0530 - val_accuracy: 0.9660\n",
      "Epoch 6/15\n",
      "7/7 [==============================] - 0s 29ms/stepss: 0.0486 - accuracy\n",
      "29/29 [==============================] - 1s 32ms/step\n",
      "Val F1 Score: 0.5719774172880759 - Train F1 Score: 0.5585707805601203\n",
      "8/8 [==============================] - 5s 648ms/step - loss: 0.0486 - accuracy: 0.9627 - val_loss: 0.0444 - val_accuracy: 0.9635\n",
      "Epoch 7/15\n",
      "7/7 [==============================] - 0s 31ms/stepss: 0.0388 - accuracy\n",
      "29/29 [==============================] - 1s 35ms/step\n",
      "Val F1 Score: 0.5815917657294319 - Train F1 Score: 0.5689718981630593\n",
      "8/8 [==============================] - 5s 664ms/step - loss: 0.0388 - accuracy: 0.9654 - val_loss: 0.0353 - val_accuracy: 0.9706\n",
      "Epoch 8/15\n",
      "7/7 [==============================] - 0s 34ms/stepss: 0.0325 - accuracy\n",
      "29/29 [==============================] - 1s 31ms/step\n",
      "Val F1 Score: 0.5767191059971242 - Train F1 Score: 0.5668267653943829\n",
      "8/8 [==============================] - 5s 625ms/step - loss: 0.0325 - accuracy: 0.9696 - val_loss: 0.0310 - val_accuracy: 0.9715\n",
      "Epoch 9/15\n",
      "7/7 [==============================] - 0s 30ms/stepss: 0.0290 - accuracy\n",
      "29/29 [==============================] - 1s 30ms/step\n",
      "Val F1 Score: 0.5837229326046339 - Train F1 Score: 0.5751534217288068\n",
      "8/8 [==============================] - 5s 631ms/step - loss: 0.0290 - accuracy: 0.9722 - val_loss: 0.0283 - val_accuracy: 0.9737\n",
      "Epoch 10/15\n",
      "7/7 [==============================] - 0s 31ms/stepss: 0.0262 - accuracy\n",
      "29/29 [==============================] - 1s 32ms/step\n",
      "Val F1 Score: 0.5889300892501425 - Train F1 Score: 0.5830448122575722\n",
      "8/8 [==============================] - 5s 622ms/step - loss: 0.0262 - accuracy: 0.9724 - val_loss: 0.0254 - val_accuracy: 0.9730\n",
      "Epoch 11/15\n",
      "7/7 [==============================] - 0s 31ms/stepss: 0.0243 - accuracy\n",
      "29/29 [==============================] - 1s 31ms/step\n",
      "Val F1 Score: 0.5723306631846368 - Train F1 Score: 0.5687473314558175\n",
      "8/8 [==============================] - 5s 641ms/step - loss: 0.0243 - accuracy: 0.9746 - val_loss: 0.0266 - val_accuracy: 0.9758\n",
      "Epoch 12/15\n",
      "7/7 [==============================] - 0s 35ms/stepss: 0.0227 - accuracy\n",
      "29/29 [==============================] - 1s 31ms/step\n",
      "Val F1 Score: 0.6069700749198972 - Train F1 Score: 0.6011543103181347\n",
      "8/8 [==============================] - 5s 711ms/step - loss: 0.0227 - accuracy: 0.9750 - val_loss: 0.0246 - val_accuracy: 0.9723\n",
      "Epoch 13/15\n",
      "7/7 [==============================] - 0s 31ms/stepss: 0.0221 - accuracy\n",
      "29/29 [==============================] - 1s 35ms/step\n",
      "Val F1 Score: 0.5636510955507315 - Train F1 Score: 0.5551465329747689\n",
      "8/8 [==============================] - 5s 718ms/step - loss: 0.0221 - accuracy: 0.9742 - val_loss: 0.0243 - val_accuracy: 0.9761\n",
      "Epoch 14/15\n",
      "7/7 [==============================] - 0s 33ms/stepss: 0.0201 - accuracy\n",
      "29/29 [==============================] - 1s 33ms/step\n",
      "Val F1 Score: 0.5995486596930703 - Train F1 Score: 0.5902413179894452\n",
      "8/8 [==============================] - 5s 690ms/step - loss: 0.0201 - accuracy: 0.9768 - val_loss: 0.0196 - val_accuracy: 0.9783\n",
      "Epoch 15/15\n",
      "7/7 [==============================] - 0s 36ms/stepss: 0.0193 - accuracy\n",
      "29/29 [==============================] - 1s 39ms/step\n",
      "Val F1 Score: 0.5901183535332641 - Train F1 Score: 0.5858641062940055\n",
      "8/8 [==============================] - 5s 729ms/step - loss: 0.0193 - accuracy: 0.9774 - val_loss: 0.0193 - val_accuracy: 0.9775\n"
     ]
    }
   ],
   "source": [
    "BiLSTM_training = BiLSTM_model.fit(X_train,Y_train,batch_size=128,epochs=15,validation_data=(X_val,Y_val),callbacks=[BiLSTM_f1_callback])"
   ]
  },
  {
   "cell_type": "markdown",
   "metadata": {},
   "source": [
    "Plotting the graph"
   ]
  },
  {
   "cell_type": "code",
   "execution_count": 52,
   "metadata": {},
   "outputs": [
    {
     "data": {
      "image/png": "[encoded data removed]",
      "text/plain": [
       "<Figure size 1600x500 with 2 Axes>"
      ]
     },
     "metadata": {},
     "output_type": "display_data"
    }
   ],
   "source": [
    "draw_loss_graph(BiLSTM_training,model_name, BiLSTM_f1_callback.train_f1_scores, BiLSTM_f1_callback.val_f1_scores)\n",
    "save_model(BiLSTM_model,model_name,Embedding_name,Dataset)"
   ]
  },
  {
   "cell_type": "markdown",
   "metadata": {},
   "source": []
  },
  {
   "cell_type": "markdown",
   "metadata": {},
   "source": [
    "## Testing "
   ]
  },
  {
   "cell_type": "code",
   "execution_count": 53,
   "metadata": {},
   "outputs": [],
   "source": [
    "loaded_model = load_model(model_name,Embedding_name,Dataset)"
   ]
  },
  {
   "cell_type": "markdown",
   "metadata": {},
   "source": [
    "Testing accuracy"
   ]
  },
  {
   "cell_type": "code",
   "execution_count": 54,
   "metadata": {},
   "outputs": [
    {
     "name": "stdout",
     "output_type": "stream",
     "text": [
      "11/11 [==============================] - 2s 36ms/step - loss: 0.0217 - accuracy: 0.9731\n",
      "0.9731472730636597\n"
     ]
    }
   ],
   "source": [
    "accuracy = loaded_model.evaluate(X_test, Y_test, verbose = 1)\n",
    "print(accuracy[1])"
   ]
  },
  {
   "cell_type": "markdown",
   "metadata": {},
   "source": [
    "Testing F1 Score"
   ]
  },
  {
   "cell_type": "code",
   "execution_count": 55,
   "metadata": {},
   "outputs": [
    {
     "name": "stdout",
     "output_type": "stream",
     "text": [
      "11/11 [==============================] - 1s 33ms/step\n",
      "Test F1 Score: 0.5738752823683098\n"
     ]
    }
   ],
   "source": [
    "Y_pred = loaded_model.predict(X_test)\n",
    "real = get_real(Y_test)\n",
    "pred = get_pred(Y_pred)\n",
    "\n",
    "true_labels_flat = [label for sublist in real for label in sublist]\n",
    "predicted_labels_flat = [label for sublist in pred for label in sublist]\n",
    "\n",
    "# Compute F1 score\n",
    "f1 = f1_score(true_labels_flat, predicted_labels_flat, average='macro')\n",
    "\n",
    "print(\"Test F1 Score:\", f1)"
   ]
  },
  {
   "cell_type": "code",
   "execution_count": null,
   "metadata": {},
   "outputs": [],
   "source": [
    "def Build_bilstm(units)"
   ]
  },
  {
   "cell_type": "code",
   "execution_count": null,
   "metadata": {},
   "outputs": [],
   "source": [
    "def grid_search(X_train,Y_train,X_val,Y_val,input_size):\n",
    "    keras_model = KerasClassifier(build_fn=Build_bilstm,epochs=20,verbose=3)\n",
    "    param_grid={}\n",
    "    grid_search = GridSearchCV(kears_mdoel,param_grid,cv=5,scoring='f1_score',n_jobs=-1,verbose=3)\n",
    "    grid_search.fit(X_train,Y_train)\n",
    "\n",
    "    return "
   ]
  },
  {
   "cell_type": "code",
   "execution_count": null,
   "metadata": {},
   "outputs": [],
   "source": []
  }
 ],
 "metadata": {
  "kernelspec": {
   "display_name": "Python 3",
   "language": "python",
   "name": "python3"
  },
  "language_info": {
   "codemirror_mode": {
    "name": "ipython",
    "version": 3
   },
   "file_extension": ".py",
   "mimetype": "text/x-python",
   "name": "python",
   "nbconvert_exporter": "python",
   "pygments_lexer": "ipython3",
   "version": "3.11.0"
  }
 },
 "nbformat": 4,
 "nbformat_minor": 2
}
